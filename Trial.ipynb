{
 "cells": [
  {
   "cell_type": "code",
   "execution_count": 1,
   "id": "4f61a3fb",
   "metadata": {},
   "outputs": [],
   "source": [
    "from nbformat import read, write\n",
    "from nbformat.notebooknode import NotebookNode"
   ]
  },
  {
   "cell_type": "markdown",
   "id": "f8b61775",
   "metadata": {},
   "source": [
    "# Jupyter Intro"
   ]
  },
  {
   "cell_type": "code",
   "execution_count": 2,
   "id": "6f7d6d24",
   "metadata": {},
   "outputs": [],
   "source": [
    "with open('Lists in Python.ipynb', 'r') as f:\n",
    "    nb1 = read(f, as_version=4)\n",
    "\n",
    "with open('Tuples and Dictionaries2.ipynb', 'r') as f:\n",
    "    nb2 = read(f, as_version=4)\n"
   ]
  },
  {
   "cell_type": "code",
   "execution_count": 3,
   "id": "ef5c523b",
   "metadata": {},
   "outputs": [],
   "source": [
    "nb1.cells.extend(nb2.cells)"
   ]
  },
  {
   "cell_type": "code",
   "execution_count": 4,
   "id": "6395d80d",
   "metadata": {},
   "outputs": [],
   "source": [
    "with open('merged.ipynb', 'w') as f:\n",
    "    write(nb1, f)\n"
   ]
  },
  {
   "cell_type": "code",
   "execution_count": null,
   "id": "e7332b2f",
   "metadata": {},
   "outputs": [],
   "source": []
  }
 ],
 "metadata": {
  "kernelspec": {
   "display_name": "Python 3",
   "language": "python",
   "name": "python3"
  },
  "language_info": {
   "codemirror_mode": {
    "name": "ipython",
    "version": 3
   },
   "file_extension": ".py",
   "mimetype": "text/x-python",
   "name": "python",
   "nbconvert_exporter": "python",
   "pygments_lexer": "ipython3",
   "version": "3.9.5"
  },
  "latex_envs": {
   "LaTeX_envs_menu_present": true,
   "autoclose": false,
   "autocomplete": true,
   "bibliofile": "biblio.bib",
   "cite_by": "apalike",
   "current_citInitial": 1,
   "eqLabelWithNumbers": true,
   "eqNumInitial": 1,
   "hotkeys": {
    "equation": "Ctrl-E",
    "itemize": "Ctrl-I"
   },
   "labels_anchors": false,
   "latex_user_defs": false,
   "report_style_numbering": false,
   "user_envs_cfg": false
  }
 },
 "nbformat": 4,
 "nbformat_minor": 5
}
