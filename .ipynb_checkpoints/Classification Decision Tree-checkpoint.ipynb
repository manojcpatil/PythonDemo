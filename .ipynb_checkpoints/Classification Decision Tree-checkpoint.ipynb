{
 "cells": [
  {
   "cell_type": "markdown",
   "metadata": {
    "colab_type": "text",
    "id": "0MRC0e0KhQ0S",
    "slideshow": {
     "slide_type": "slide"
    }
   },
   "source": [
    "# Decision Tree Classification"
   ]
  },
  {
   "cell_type": "markdown",
   "metadata": {
<<<<<<< HEAD
    "colab_type": "text",
    "id": "LWd1UlMnhT2s",
=======
>>>>>>> 27c2bb20784ba100daf77f2f749dc535e593bf8b
    "slideshow": {
     "slide_type": "slide"
    }
   },
   "source": [
<<<<<<< HEAD
    "## Importing the libraries"
=======
    "## What is a Decision Tree?\n",
    "\n",
    "It is a tool that has applications spanning several different areas. Decision trees can be used for classification as well as regression problems. The name itself suggests that it uses a flowchart like a tree structure to show the predictions that result from a series of feature-based splits. It starts with a root node and ends with a decision made by leaves."
   ]
  },
  {
   "cell_type": "markdown",
   "metadata": {
    "slideshow": {
     "slide_type": "slide"
    }
   },
   "source": [
    "Some of the useful terminologies:\n",
    "\n",
    "- **Root Nodes** – It is the node present at the beginning of a decision tree, from which the population starts dividing according to various features.\n",
    "\n",
    "- **Decision Nodes** – the nodes, we get after splitting the Root nodes are called Decision Nodes.\n",
    "\n",
    "- **Terminal/Leaf Nodes** – the nodes where further splitting is not possible are called leaf nodes or terminal nodes.\n",
    "\n",
    "- **Sub-tree** – just like a small portion of a graph is called sub-graph similarly a sub-section of this decision tree is called sub-tree.\n",
    "\n",
    "- **Pruning** – is nothing but cutting down some nodes to stop overfitting."
>>>>>>> 27c2bb20784ba100daf77f2f749dc535e593bf8b
   ]
  },
  {
   "cell_type": "code",
   "execution_count": 1,
   "metadata": {
    "colab": {},
    "colab_type": "code",
    "id": "YvGPUQaHhXfL"
   },
   "outputs": [],
   "source": [
<<<<<<< HEAD
=======
    "## Importing the libraries\n",
>>>>>>> 27c2bb20784ba100daf77f2f749dc535e593bf8b
    "import numpy as np\n",
    "import matplotlib.pyplot as plt\n",
    "import pandas as pd"
   ]
  },
  {
   "cell_type": "markdown",
   "metadata": {
    "colab_type": "text",
    "id": "K1VMqkGvhc3-",
    "slideshow": {
     "slide_type": "slide"
    }
   },
   "source": [
    "## Importing the dataset"
   ]
  },
  {
   "cell_type": "code",
<<<<<<< HEAD
   "execution_count": 5,
=======
   "execution_count": 2,
>>>>>>> 27c2bb20784ba100daf77f2f749dc535e593bf8b
   "metadata": {
    "colab": {},
    "colab_type": "code",
    "id": "M52QDmyzhh9s"
   },
<<<<<<< HEAD
   "outputs": [],
   "source": [
    "dataset = pd.read_csv('Social_Network_Ads.csv')\n",
    "X = dataset.iloc[:, :-1].values\n",
    "y = dataset.iloc[:, -1].values"
=======
   "outputs": [
    {
     "data": {
      "text/html": [
       "<div>\n",
       "<style scoped>\n",
       "    .dataframe tbody tr th:only-of-type {\n",
       "        vertical-align: middle;\n",
       "    }\n",
       "\n",
       "    .dataframe tbody tr th {\n",
       "        vertical-align: top;\n",
       "    }\n",
       "\n",
       "    .dataframe thead th {\n",
       "        text-align: right;\n",
       "    }\n",
       "</style>\n",
       "<table border=\"1\" class=\"dataframe\">\n",
       "  <thead>\n",
       "    <tr style=\"text-align: right;\">\n",
       "      <th></th>\n",
       "      <th>User ID</th>\n",
       "      <th>Gender</th>\n",
       "      <th>Age</th>\n",
       "      <th>EstimatedSalary</th>\n",
       "      <th>Purchased</th>\n",
       "    </tr>\n",
       "  </thead>\n",
       "  <tbody>\n",
       "    <tr>\n",
       "      <th>0</th>\n",
       "      <td>15624510</td>\n",
       "      <td>Male</td>\n",
       "      <td>19</td>\n",
       "      <td>19000</td>\n",
       "      <td>0</td>\n",
       "    </tr>\n",
       "    <tr>\n",
       "      <th>1</th>\n",
       "      <td>15810944</td>\n",
       "      <td>Male</td>\n",
       "      <td>35</td>\n",
       "      <td>20000</td>\n",
       "      <td>0</td>\n",
       "    </tr>\n",
       "    <tr>\n",
       "      <th>2</th>\n",
       "      <td>15668575</td>\n",
       "      <td>Female</td>\n",
       "      <td>26</td>\n",
       "      <td>43000</td>\n",
       "      <td>0</td>\n",
       "    </tr>\n",
       "    <tr>\n",
       "      <th>3</th>\n",
       "      <td>15603246</td>\n",
       "      <td>Female</td>\n",
       "      <td>27</td>\n",
       "      <td>57000</td>\n",
       "      <td>0</td>\n",
       "    </tr>\n",
       "    <tr>\n",
       "      <th>4</th>\n",
       "      <td>15804002</td>\n",
       "      <td>Male</td>\n",
       "      <td>19</td>\n",
       "      <td>76000</td>\n",
       "      <td>0</td>\n",
       "    </tr>\n",
       "    <tr>\n",
       "      <th>...</th>\n",
       "      <td>...</td>\n",
       "      <td>...</td>\n",
       "      <td>...</td>\n",
       "      <td>...</td>\n",
       "      <td>...</td>\n",
       "    </tr>\n",
       "    <tr>\n",
       "      <th>395</th>\n",
       "      <td>15691863</td>\n",
       "      <td>Female</td>\n",
       "      <td>46</td>\n",
       "      <td>41000</td>\n",
       "      <td>1</td>\n",
       "    </tr>\n",
       "    <tr>\n",
       "      <th>396</th>\n",
       "      <td>15706071</td>\n",
       "      <td>Male</td>\n",
       "      <td>51</td>\n",
       "      <td>23000</td>\n",
       "      <td>1</td>\n",
       "    </tr>\n",
       "    <tr>\n",
       "      <th>397</th>\n",
       "      <td>15654296</td>\n",
       "      <td>Female</td>\n",
       "      <td>50</td>\n",
       "      <td>20000</td>\n",
       "      <td>1</td>\n",
       "    </tr>\n",
       "    <tr>\n",
       "      <th>398</th>\n",
       "      <td>15755018</td>\n",
       "      <td>Male</td>\n",
       "      <td>36</td>\n",
       "      <td>33000</td>\n",
       "      <td>0</td>\n",
       "    </tr>\n",
       "    <tr>\n",
       "      <th>399</th>\n",
       "      <td>15594041</td>\n",
       "      <td>Female</td>\n",
       "      <td>49</td>\n",
       "      <td>36000</td>\n",
       "      <td>1</td>\n",
       "    </tr>\n",
       "  </tbody>\n",
       "</table>\n",
       "<p>400 rows × 5 columns</p>\n",
       "</div>"
      ],
      "text/plain": [
       "      User ID  Gender  Age  EstimatedSalary  Purchased\n",
       "0    15624510    Male   19            19000          0\n",
       "1    15810944    Male   35            20000          0\n",
       "2    15668575  Female   26            43000          0\n",
       "3    15603246  Female   27            57000          0\n",
       "4    15804002    Male   19            76000          0\n",
       "..        ...     ...  ...              ...        ...\n",
       "395  15691863  Female   46            41000          1\n",
       "396  15706071    Male   51            23000          1\n",
       "397  15654296  Female   50            20000          1\n",
       "398  15755018    Male   36            33000          0\n",
       "399  15594041  Female   49            36000          1\n",
       "\n",
       "[400 rows x 5 columns]"
      ]
     },
     "metadata": {},
     "output_type": "display_data"
    }
   ],
   "source": [
    "#dataset = pd.read_csv('https://raw.githubusercontent.com/manojcpatil/PythonDemo/master/Data/Social_Network_Ads.csv')\n",
    "dataset = pd.read_csv('Data/Social_Network_Ads.csv')\n",
    "display(dataset)"
   ]
  },
  {
   "cell_type": "code",
   "execution_count": 3,
   "metadata": {},
   "outputs": [],
   "source": [
    "dataset=dataset.drop(['User ID','Gender'],axis=1)\n",
    "#dataset.Gender.replace(['Male','Female'],[0,1],inplace=True)"
   ]
  },
  {
   "cell_type": "code",
   "execution_count": 4,
   "metadata": {},
   "outputs": [],
   "source": [
    "X=dataset.iloc[:,:-1]\n",
    "y=dataset.iloc[:,-1]"
>>>>>>> 27c2bb20784ba100daf77f2f749dc535e593bf8b
   ]
  },
  {
   "cell_type": "markdown",
   "metadata": {
    "colab_type": "text",
    "id": "YvxIPVyMhmKp",
    "slideshow": {
     "slide_type": "slide"
    }
   },
   "source": [
    "## Splitting the dataset into the Training set and Test set"
   ]
  },
  {
   "cell_type": "code",
<<<<<<< HEAD
   "execution_count": 10,
=======
   "execution_count": 5,
>>>>>>> 27c2bb20784ba100daf77f2f749dc535e593bf8b
   "metadata": {
    "colab": {},
    "colab_type": "code",
    "id": "AVzJWAXIhxoC"
   },
   "outputs": [],
   "source": [
    "from sklearn.model_selection import train_test_split\n",
    "X_train, X_test, y_train, y_test = train_test_split(X, y, test_size = 0.25, random_state = 0)"
   ]
  },
  {
   "cell_type": "markdown",
   "metadata": {
    "colab_type": "text",
    "id": "kW3c7UYih0hT",
    "slideshow": {
     "slide_type": "slide"
    }
   },
   "source": [
    "## Feature Scaling"
   ]
  },
  {
   "cell_type": "code",
<<<<<<< HEAD
   "execution_count": 11,
=======
   "execution_count": 6,
>>>>>>> 27c2bb20784ba100daf77f2f749dc535e593bf8b
   "metadata": {
    "colab": {},
    "colab_type": "code",
    "id": "9fQlDPKCh8sc"
   },
   "outputs": [],
   "source": [
    "from sklearn.preprocessing import StandardScaler\n",
    "sc = StandardScaler()\n",
    "X_train = sc.fit_transform(X_train)\n",
    "X_test = sc.transform(X_test)"
   ]
  },
  {
   "cell_type": "markdown",
   "metadata": {
    "colab_type": "text",
    "id": "bb6jCOCQiAmP",
    "slideshow": {
     "slide_type": "slide"
    }
   },
   "source": [
    "## Training the Decision Tree Classification model on the Training set"
   ]
  },
  {
   "cell_type": "code",
<<<<<<< HEAD
   "execution_count": 12,
=======
   "execution_count": 7,
>>>>>>> 27c2bb20784ba100daf77f2f749dc535e593bf8b
   "metadata": {
    "colab": {
     "base_uri": "https://localhost:8080/",
     "height": 120
    },
    "colab_type": "code",
    "executionInfo": {
     "elapsed": 2037,
     "status": "ok",
     "timestamp": 1588269312370,
     "user": {
      "displayName": "Hadelin de Ponteves",
      "photoUrl": "https://lh3.googleusercontent.com/a-/AOh14GhEuXdT7eQweUmRPW8_laJuPggSK6hfvpl5a6WBaA=s64",
      "userId": "15047218817161520419"
     },
     "user_tz": -240
    },
    "id": "e0pFVAmciHQs",
    "outputId": "1a9b0904-ea86-40d9-bca2-a28fdf00d56d"
   },
   "outputs": [
    {
     "data": {
      "text/plain": [
       "DecisionTreeClassifier(criterion='entropy', random_state=0)"
      ]
     },
<<<<<<< HEAD
     "execution_count": 12,
=======
     "execution_count": 7,
>>>>>>> 27c2bb20784ba100daf77f2f749dc535e593bf8b
     "metadata": {},
     "output_type": "execute_result"
    }
   ],
   "source": [
    "from sklearn.tree import DecisionTreeClassifier\n",
    "classifier = DecisionTreeClassifier(criterion = 'entropy', random_state = 0)\n",
    "classifier.fit(X_train, y_train)"
   ]
  },
  {
<<<<<<< HEAD
=======
   "cell_type": "code",
   "execution_count": 8,
   "metadata": {},
   "outputs": [
    {
     "data": {
      "text/html": [
       "<div>\n",
       "<style scoped>\n",
       "    .dataframe tbody tr th:only-of-type {\n",
       "        vertical-align: middle;\n",
       "    }\n",
       "\n",
       "    .dataframe tbody tr th {\n",
       "        vertical-align: top;\n",
       "    }\n",
       "\n",
       "    .dataframe thead th {\n",
       "        text-align: right;\n",
       "    }\n",
       "</style>\n",
       "<table border=\"1\" class=\"dataframe\">\n",
       "  <thead>\n",
       "    <tr style=\"text-align: right;\">\n",
       "      <th></th>\n",
       "      <th>Age</th>\n",
       "      <th>EstimatedSalary</th>\n",
       "    </tr>\n",
       "  </thead>\n",
       "  <tbody>\n",
       "    <tr>\n",
       "      <th>0</th>\n",
       "      <td>19</td>\n",
       "      <td>19000</td>\n",
       "    </tr>\n",
       "    <tr>\n",
       "      <th>1</th>\n",
       "      <td>35</td>\n",
       "      <td>20000</td>\n",
       "    </tr>\n",
       "    <tr>\n",
       "      <th>2</th>\n",
       "      <td>26</td>\n",
       "      <td>43000</td>\n",
       "    </tr>\n",
       "    <tr>\n",
       "      <th>3</th>\n",
       "      <td>27</td>\n",
       "      <td>57000</td>\n",
       "    </tr>\n",
       "    <tr>\n",
       "      <th>4</th>\n",
       "      <td>19</td>\n",
       "      <td>76000</td>\n",
       "    </tr>\n",
       "    <tr>\n",
       "      <th>...</th>\n",
       "      <td>...</td>\n",
       "      <td>...</td>\n",
       "    </tr>\n",
       "    <tr>\n",
       "      <th>395</th>\n",
       "      <td>46</td>\n",
       "      <td>41000</td>\n",
       "    </tr>\n",
       "    <tr>\n",
       "      <th>396</th>\n",
       "      <td>51</td>\n",
       "      <td>23000</td>\n",
       "    </tr>\n",
       "    <tr>\n",
       "      <th>397</th>\n",
       "      <td>50</td>\n",
       "      <td>20000</td>\n",
       "    </tr>\n",
       "    <tr>\n",
       "      <th>398</th>\n",
       "      <td>36</td>\n",
       "      <td>33000</td>\n",
       "    </tr>\n",
       "    <tr>\n",
       "      <th>399</th>\n",
       "      <td>49</td>\n",
       "      <td>36000</td>\n",
       "    </tr>\n",
       "  </tbody>\n",
       "</table>\n",
       "<p>400 rows × 2 columns</p>\n",
       "</div>"
      ],
      "text/plain": [
       "     Age  EstimatedSalary\n",
       "0     19            19000\n",
       "1     35            20000\n",
       "2     26            43000\n",
       "3     27            57000\n",
       "4     19            76000\n",
       "..   ...              ...\n",
       "395   46            41000\n",
       "396   51            23000\n",
       "397   50            20000\n",
       "398   36            33000\n",
       "399   49            36000\n",
       "\n",
       "[400 rows x 2 columns]"
      ]
     },
     "execution_count": 8,
     "metadata": {},
     "output_type": "execute_result"
    }
   ],
   "source": [
    "X"
   ]
  },
  {
>>>>>>> 27c2bb20784ba100daf77f2f749dc535e593bf8b
   "cell_type": "markdown",
   "metadata": {
    "colab_type": "text",
    "id": "yyxW5b395mR2",
    "slideshow": {
     "slide_type": "slide"
    }
   },
   "source": [
    "## Predicting a new result"
   ]
  },
  {
   "cell_type": "code",
<<<<<<< HEAD
   "execution_count": 13,
=======
   "execution_count": 9,
>>>>>>> 27c2bb20784ba100daf77f2f749dc535e593bf8b
   "metadata": {
    "colab": {
     "base_uri": "https://localhost:8080/",
     "height": 34
    },
    "colab_type": "code",
    "executionInfo": {
     "elapsed": 2034,
     "status": "ok",
     "timestamp": 1588269312371,
     "user": {
      "displayName": "Hadelin de Ponteves",
      "photoUrl": "https://lh3.googleusercontent.com/a-/AOh14GhEuXdT7eQweUmRPW8_laJuPggSK6hfvpl5a6WBaA=s64",
      "userId": "15047218817161520419"
     },
     "user_tz": -240
    },
    "id": "f8YOXsQy58rP",
    "outputId": "cd4b80f5-59ad-40b1-d5f3-8fc98b87bd66"
   },
   "outputs": [
    {
     "name": "stdout",
     "output_type": "stream",
     "text": [
      "[0]\n"
     ]
    }
   ],
   "source": [
    "print(classifier.predict(sc.transform([[30,87000]])))"
   ]
  },
  {
   "cell_type": "markdown",
   "metadata": {
    "colab_type": "text",
    "id": "vKYVQH-l5NpE",
    "slideshow": {
     "slide_type": "slide"
    }
   },
   "source": [
    "## Predicting the Test set results"
   ]
  },
  {
   "cell_type": "code",
<<<<<<< HEAD
   "execution_count": 16,
=======
   "execution_count": 10,
>>>>>>> 27c2bb20784ba100daf77f2f749dc535e593bf8b
   "metadata": {
    "colab": {
     "base_uri": "https://localhost:8080/",
     "height": 1000
    },
    "colab_type": "code",
    "executionInfo": {
     "elapsed": 2029,
     "status": "ok",
     "timestamp": 1588269312371,
     "user": {
      "displayName": "Hadelin de Ponteves",
      "photoUrl": "https://lh3.googleusercontent.com/a-/AOh14GhEuXdT7eQweUmRPW8_laJuPggSK6hfvpl5a6WBaA=s64",
      "userId": "15047218817161520419"
     },
     "user_tz": -240
    },
    "id": "p6VMTb2O4hwM",
    "outputId": "05404102-6c3b-4c34-a180-e2a1d5a85e57"
   },
<<<<<<< HEAD
   "outputs": [],
   "source": [
    "y_pred = classifier.predict(X_test)\n",
    "out=np.concatenate((y_pred.reshape(len(y_pred),1), y_test.reshape(len(y_test),1)),1)\n"
=======
   "outputs": [
    {
     "data": {
      "text/plain": [
       "array([0, 0, 0, 0, 0, 0, 0, 1, 0, 0, 0, 0, 0, 1, 0, 1, 1, 0, 1, 0, 0, 1,\n",
       "       0, 1, 0, 0, 0, 0, 0, 0, 0, 0, 1, 0, 0, 0, 0, 0, 0, 1, 0, 0, 0, 0,\n",
       "       1, 0, 0, 1, 0, 1, 1, 0, 0, 1, 1, 1, 0, 0, 1, 0, 0, 1, 0, 1, 0, 1,\n",
       "       0, 0, 0, 1, 1, 0, 0, 1, 0, 0, 0, 0, 1, 1, 1, 1, 0, 0, 1, 0, 0, 1,\n",
       "       1, 0, 0, 1, 0, 0, 0, 1, 0, 1, 1, 1], dtype=int64)"
      ]
     },
     "execution_count": 10,
     "metadata": {},
     "output_type": "execute_result"
    }
   ],
   "source": [
    "y_pred = classifier.predict(X_test)\n",
    "y_pred"
>>>>>>> 27c2bb20784ba100daf77f2f749dc535e593bf8b
   ]
  },
  {
   "cell_type": "markdown",
   "metadata": {
    "colab_type": "text",
    "id": "h4Hwj34ziWQW"
   },
   "source": [
    "## Making the Confusion Matrix"
   ]
  },
  {
   "cell_type": "code",
<<<<<<< HEAD
   "execution_count": 17,
=======
   "execution_count": 11,
>>>>>>> 27c2bb20784ba100daf77f2f749dc535e593bf8b
   "metadata": {
    "colab": {
     "base_uri": "https://localhost:8080/",
     "height": 68
    },
    "colab_type": "code",
    "executionInfo": {
     "elapsed": 2026,
     "status": "ok",
     "timestamp": 1588269312371,
     "user": {
      "displayName": "Hadelin de Ponteves",
      "photoUrl": "https://lh3.googleusercontent.com/a-/AOh14GhEuXdT7eQweUmRPW8_laJuPggSK6hfvpl5a6WBaA=s64",
      "userId": "15047218817161520419"
     },
     "user_tz": -240
    },
    "id": "D6bpZwUiiXic",
    "outputId": "031d8132-ae7a-4a4c-b2dd-26b88da40ed6"
   },
   "outputs": [
    {
     "name": "stdout",
     "output_type": "stream",
     "text": [
<<<<<<< HEAD
      "[[62  6]\n",
      " [ 3 29]]\n"
     ]
    },
    {
     "data": {
      "text/plain": [
       "0.91"
      ]
     },
     "execution_count": 17,
     "metadata": {},
     "output_type": "execute_result"
=======
      "Confusion Matrix:\n",
      " [[62  6]\n",
      " [ 3 29]]\n",
      "Accuaracy Score:  0.91\n"
     ]
>>>>>>> 27c2bb20784ba100daf77f2f749dc535e593bf8b
    }
   ],
   "source": [
    "from sklearn.metrics import confusion_matrix, accuracy_score\n",
    "cm = confusion_matrix(y_test, y_pred)\n",
<<<<<<< HEAD
    "print(cm)\n",
    "accuracy_score(y_test, y_pred)"
=======
    "print('Confusion Matrix:\\n',cm)\n",
    "print('Accuaracy Score: ',accuracy_score(y_test, y_pred))"
>>>>>>> 27c2bb20784ba100daf77f2f749dc535e593bf8b
   ]
  },
  {
   "cell_type": "markdown",
   "metadata": {
    "colab_type": "text",
    "id": "6OMC_P0diaoD"
   },
   "source": [
    "## Visualising the Training set results"
   ]
  },
  {
   "cell_type": "code",
<<<<<<< HEAD
   "execution_count": 10,
=======
   "execution_count": 14,
>>>>>>> 27c2bb20784ba100daf77f2f749dc535e593bf8b
   "metadata": {
    "colab": {
     "base_uri": "https://localhost:8080/",
     "height": 349
    },
    "colab_type": "code",
    "executionInfo": {
     "elapsed": 30339,
     "status": "ok",
     "timestamp": 1588269340691,
     "user": {
      "displayName": "Hadelin de Ponteves",
      "photoUrl": "https://lh3.googleusercontent.com/a-/AOh14GhEuXdT7eQweUmRPW8_laJuPggSK6hfvpl5a6WBaA=s64",
      "userId": "15047218817161520419"
     },
     "user_tz": -240
    },
    "id": "_NOjKvZRid5l",
    "outputId": "cd4f51f4-8260-40bf-aa20-e238d60ccc1e"
   },
   "outputs": [
    {
<<<<<<< HEAD
     "ename": "MemoryError",
     "evalue": "Unable to allocate 2.03 GiB for an array with shape (2, 135904000) and data type float64",
     "output_type": "error",
     "traceback": [
      "\u001b[1;31m---------------------------------------------------------------------------\u001b[0m",
      "\u001b[1;31mMemoryError\u001b[0m                               Traceback (most recent call last)",
      "\u001b[1;32m<ipython-input-10-be05346e83e3>\u001b[0m in \u001b[0;36m<module>\u001b[1;34m\u001b[0m\n\u001b[0;32m      3\u001b[0m X1, X2 = np.meshgrid(np.arange(start = X_set[:, 0].min() - 10, stop = X_set[:, 0].max() + 10, step = 0.25),\n\u001b[0;32m      4\u001b[0m                      np.arange(start = X_set[:, 1].min() - 1000, stop = X_set[:, 1].max() + 1000, step = 0.25))\n\u001b[1;32m----> 5\u001b[1;33m plt.contourf(X1, X2, classifier.predict(sc.transform(np.array([X1.ravel(), X2.ravel()]).T)).reshape(X1.shape),\n\u001b[0m\u001b[0;32m      6\u001b[0m              alpha = 0.75, cmap = ListedColormap(('red', 'green')))\n\u001b[0;32m      7\u001b[0m \u001b[0mplt\u001b[0m\u001b[1;33m.\u001b[0m\u001b[0mxlim\u001b[0m\u001b[1;33m(\u001b[0m\u001b[0mX1\u001b[0m\u001b[1;33m.\u001b[0m\u001b[0mmin\u001b[0m\u001b[1;33m(\u001b[0m\u001b[1;33m)\u001b[0m\u001b[1;33m,\u001b[0m \u001b[0mX1\u001b[0m\u001b[1;33m.\u001b[0m\u001b[0mmax\u001b[0m\u001b[1;33m(\u001b[0m\u001b[1;33m)\u001b[0m\u001b[1;33m)\u001b[0m\u001b[1;33m\u001b[0m\u001b[1;33m\u001b[0m\u001b[0m\n",
      "\u001b[1;31mMemoryError\u001b[0m: Unable to allocate 2.03 GiB for an array with shape (2, 135904000) and data type float64"
     ]
=======
     "name": "stderr",
     "output_type": "stream",
     "text": [
      "*c* argument looks like a single numeric RGB or RGBA sequence, which should be avoided as value-mapping will have precedence in case its length matches with *x* & *y*.  Please use the *color* keyword-argument or provide a 2D array with a single row if you intend to specify the same RGB or RGBA value for all points.\n",
      "*c* argument looks like a single numeric RGB or RGBA sequence, which should be avoided as value-mapping will have precedence in case its length matches with *x* & *y*.  Please use the *color* keyword-argument or provide a 2D array with a single row if you intend to specify the same RGB or RGBA value for all points.\n"
     ]
    },
    {
     "data": {
      "image/png": "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\n",
      "text/plain": [
       "<Figure size 432x288 with 1 Axes>"
      ]
     },
     "metadata": {
      "needs_background": "light"
     },
     "output_type": "display_data"
>>>>>>> 27c2bb20784ba100daf77f2f749dc535e593bf8b
    }
   ],
   "source": [
    "from matplotlib.colors import ListedColormap\n",
    "X_set, y_set = sc.inverse_transform(X_train), y_train\n",
    "X1, X2 = np.meshgrid(np.arange(start = X_set[:, 0].min() - 10, stop = X_set[:, 0].max() + 10, step = 0.25),\n",
<<<<<<< HEAD
    "                     np.arange(start = X_set[:, 1].min() - 1000, stop = X_set[:, 1].max() + 1000, step = 0.25))\n",
=======
    "                     np.arange(start = X_set[:, 1].min() - 1000, stop = X_set[:, 1].max() + 1000, step = 500))\n",
>>>>>>> 27c2bb20784ba100daf77f2f749dc535e593bf8b
    "plt.contourf(X1, X2, classifier.predict(sc.transform(np.array([X1.ravel(), X2.ravel()]).T)).reshape(X1.shape),\n",
    "             alpha = 0.75, cmap = ListedColormap(('red', 'green')))\n",
    "plt.xlim(X1.min(), X1.max())\n",
    "plt.ylim(X2.min(), X2.max())\n",
    "for i, j in enumerate(np.unique(y_set)):\n",
    "    plt.scatter(X_set[y_set == j, 0], X_set[y_set == j, 1], c = ListedColormap(('red', 'green'))(i), label = j)\n",
    "plt.title('Decision Tree Classification (Training set)')\n",
    "plt.xlabel('Age')\n",
    "plt.ylabel('Estimated Salary')\n",
    "plt.legend()\n",
    "plt.show()"
   ]
  },
  {
   "cell_type": "markdown",
   "metadata": {
    "colab_type": "text",
    "id": "SZ-j28aPihZx"
   },
   "source": [
    "## Visualising the Test set results"
   ]
  },
  {
   "cell_type": "code",
<<<<<<< HEAD
   "execution_count": null,
=======
   "execution_count": 15,
>>>>>>> 27c2bb20784ba100daf77f2f749dc535e593bf8b
   "metadata": {
    "colab": {
     "base_uri": "https://localhost:8080/",
     "height": 349
    },
    "colab_type": "code",
    "executionInfo": {
     "elapsed": 55016,
     "status": "ok",
     "timestamp": 1588269365372,
     "user": {
      "displayName": "Hadelin de Ponteves",
      "photoUrl": "https://lh3.googleusercontent.com/a-/AOh14GhEuXdT7eQweUmRPW8_laJuPggSK6hfvpl5a6WBaA=s64",
      "userId": "15047218817161520419"
     },
     "user_tz": -240
    },
    "id": "qeTjz2vDilAC",
    "outputId": "c9624a3f-544e-4033-8cb8-bb4b7b08ff4a"
   },
<<<<<<< HEAD
   "outputs": [],
=======
   "outputs": [
    {
     "name": "stderr",
     "output_type": "stream",
     "text": [
      "*c* argument looks like a single numeric RGB or RGBA sequence, which should be avoided as value-mapping will have precedence in case its length matches with *x* & *y*.  Please use the *color* keyword-argument or provide a 2D array with a single row if you intend to specify the same RGB or RGBA value for all points.\n",
      "*c* argument looks like a single numeric RGB or RGBA sequence, which should be avoided as value-mapping will have precedence in case its length matches with *x* & *y*.  Please use the *color* keyword-argument or provide a 2D array with a single row if you intend to specify the same RGB or RGBA value for all points.\n"
     ]
    },
    {
     "data": {
      "image/png": "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\n",
      "text/plain": [
       "<Figure size 432x288 with 1 Axes>"
      ]
     },
     "metadata": {
      "needs_background": "light"
     },
     "output_type": "display_data"
    }
   ],
>>>>>>> 27c2bb20784ba100daf77f2f749dc535e593bf8b
   "source": [
    "from matplotlib.colors import ListedColormap\n",
    "X_set, y_set = sc.inverse_transform(X_test), y_test\n",
    "X1, X2 = np.meshgrid(np.arange(start = X_set[:, 0].min() - 10, stop = X_set[:, 0].max() + 10, step = 0.25),\n",
<<<<<<< HEAD
    "                     np.arange(start = X_set[:, 1].min() - 1000, stop = X_set[:, 1].max() + 1000, step = 0.25))\n",
=======
    "                     np.arange(start = X_set[:, 1].min() - 1000, stop = X_set[:, 1].max() + 1000, step = 500))\n",
>>>>>>> 27c2bb20784ba100daf77f2f749dc535e593bf8b
    "plt.contourf(X1, X2, classifier.predict(sc.transform(np.array([X1.ravel(), X2.ravel()]).T)).reshape(X1.shape),\n",
    "             alpha = 0.75, cmap = ListedColormap(('red', 'green')))\n",
    "plt.xlim(X1.min(), X1.max())\n",
    "plt.ylim(X2.min(), X2.max())\n",
    "for i, j in enumerate(np.unique(y_set)):\n",
    "    plt.scatter(X_set[y_set == j, 0], X_set[y_set == j, 1], c = ListedColormap(('red', 'green'))(i), label = j)\n",
    "plt.title('Decision Tree Classification (Test set)')\n",
    "plt.xlabel('Age')\n",
    "plt.ylabel('Estimated Salary')\n",
    "plt.legend()\n",
    "plt.show()"
   ]
  }
 ],
 "metadata": {
  "celltoolbar": "Slideshow",
  "colab": {
   "authorship_tag": "ABX9TyP02NrvZmmq4qjp5mwU3Mr2",
   "collapsed_sections": [],
   "machine_shape": "hm",
   "name": "decision_tree_classification.ipynb",
   "provenance": [],
   "toc_visible": true
  },
  "kernelspec": {
<<<<<<< HEAD
   "display_name": "Python 3 (ipykernel)",
=======
   "display_name": "Python 3",
>>>>>>> 27c2bb20784ba100daf77f2f749dc535e593bf8b
   "language": "python",
   "name": "python3"
  },
  "language_info": {
   "codemirror_mode": {
    "name": "ipython",
    "version": 3
   },
   "file_extension": ".py",
   "mimetype": "text/x-python",
   "name": "python",
   "nbconvert_exporter": "python",
   "pygments_lexer": "ipython3",
   "version": "3.9.5"
  },
  "latex_envs": {
   "LaTeX_envs_menu_present": true,
   "autoclose": false,
   "autocomplete": true,
   "bibliofile": "biblio.bib",
   "cite_by": "apalike",
   "current_citInitial": 1,
   "eqLabelWithNumbers": true,
   "eqNumInitial": 1,
   "hotkeys": {
    "equation": "Ctrl-E",
    "itemize": "Ctrl-I"
   },
   "labels_anchors": false,
   "latex_user_defs": false,
   "report_style_numbering": false,
   "user_envs_cfg": false
  },
  "toc": {
   "base_numbering": 1,
   "nav_menu": {},
   "number_sections": true,
   "sideBar": true,
   "skip_h1_title": false,
   "title_cell": "Table of Contents",
   "title_sidebar": "Contents",
   "toc_cell": false,
   "toc_position": {},
   "toc_section_display": true,
   "toc_window_display": false
  }
 },
 "nbformat": 4,
 "nbformat_minor": 1
}
