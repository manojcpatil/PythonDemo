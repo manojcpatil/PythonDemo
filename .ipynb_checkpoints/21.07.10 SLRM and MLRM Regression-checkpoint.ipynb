{
 "cells": [
  {
   "cell_type": "markdown",
   "id": "40bd3933",
   "metadata": {},
   "source": [
    "# Simple Linear Regression"
   ]
  },
  {
   "cell_type": "code",
   "execution_count": 1,
   "id": "66c967f9",
   "metadata": {},
   "outputs": [],
   "source": [
    "# Import packages and classes\n",
    "import numpy as np\n",
    "import pandas as pd\n",
    "from sklearn.linear_model import LinearRegression"
   ]
  },
  {
   "cell_type": "code",
   "execution_count": 29,
   "id": "0bf931ab",
   "metadata": {
    "code_folding": []
   },
   "outputs": [],
   "source": [
    "# Rocket Propellent Data from Montgomery's Book Regression Analysis\n",
    "y = np.array([2158.7,1678.15,2316,2061.3,2207.5,1708.3,1784.7,2575,2357.9,2256.7,2165.2,2399.55,1779.8,2336.75,1765.3,2053.5,2414.4,2200.5,2654.2,1753.7])\n",
    "x = np.array([15.5,23.75,8,17,5.5,19,24,2.5,7.5,11,13,3.75,25,9.75,22,18,6,12.5,2,21.5]).reshape(-1,1)"
   ]
  },
  {
   "cell_type": "markdown",
   "id": "7bf31cfd",
   "metadata": {},
   "source": [
    "Now, you have two arrays: the input x and output y. You should call .reshape() on x because this array is required to be two-dimensional, or to be more precise, to have one column and as many rows as necessary. That’s exactly what the argument (-1, 1) of .reshape() specifies."
   ]
  },
  {
   "cell_type": "code",
   "execution_count": 30,
   "id": "e5f6c8d9",
   "metadata": {},
   "outputs": [
    {
     "name": "stdout",
     "output_type": "stream",
     "text": [
      "x.ndim :  2\n",
      "y.ndim :  1\n"
     ]
    }
   ],
   "source": [
    "print(\"x.ndim : \",x.ndim)\n",
    "print(\"y.ndim : \",y.ndim)"
   ]
  },
  {
   "cell_type": "code",
   "execution_count": 31,
   "id": "5778e18a",
   "metadata": {},
   "outputs": [
    {
     "data": {
      "text/plain": [
       "array([[15.5 ],\n",
       "       [23.75],\n",
       "       [ 8.  ],\n",
       "       [17.  ],\n",
       "       [ 5.5 ],\n",
       "       [19.  ],\n",
       "       [24.  ],\n",
       "       [ 2.5 ],\n",
       "       [ 7.5 ],\n",
       "       [11.  ],\n",
       "       [13.  ],\n",
       "       [ 3.75],\n",
       "       [25.  ],\n",
       "       [ 9.75],\n",
       "       [22.  ],\n",
       "       [18.  ],\n",
       "       [ 6.  ],\n",
       "       [12.5 ],\n",
       "       [ 2.  ],\n",
       "       [21.5 ]])"
      ]
     },
     "execution_count": 31,
     "metadata": {},
     "output_type": "execute_result"
    }
   ],
   "source": [
    "x"
   ]
  },
  {
   "cell_type": "code",
   "execution_count": 32,
   "id": "81038eb4",
   "metadata": {},
   "outputs": [
    {
     "data": {
      "text/plain": [
       "array([2158.7 , 1678.15, 2316.  , 2061.3 , 2207.5 , 1708.3 , 1784.7 ,\n",
       "       2575.  , 2357.9 , 2256.7 , 2165.2 , 2399.55, 1779.8 , 2336.75,\n",
       "       1765.3 , 2053.5 , 2414.4 , 2200.5 , 2654.2 , 1753.7 ])"
      ]
     },
     "execution_count": 32,
     "metadata": {},
     "output_type": "execute_result"
    }
   ],
   "source": [
    "y"
   ]
  },
  {
   "cell_type": "code",
   "execution_count": 33,
   "id": "86622ea5",
   "metadata": {},
   "outputs": [],
   "source": [
    "# Let’s create an instance of the class LinearRegression\n",
    "model = LinearRegression()"
   ]
  },
  {
   "cell_type": "code",
   "execution_count": 34,
   "id": "db8236bf",
   "metadata": {},
   "outputs": [
    {
     "data": {
      "text/plain": [
       "LinearRegression()"
      ]
     },
     "execution_count": 34,
     "metadata": {},
     "output_type": "execute_result"
    }
   ],
   "source": [
    "model.fit(x, y)"
   ]
  },
  {
   "cell_type": "code",
   "execution_count": 35,
   "id": "0db4b3eb",
   "metadata": {},
   "outputs": [
    {
     "name": "stdout",
     "output_type": "stream",
     "text": [
      "coefficient of determination R^2: 0.9018414316763039\n"
     ]
    }
   ],
   "source": [
    "# Get results\n",
    "\n",
    "print('coefficient of determination R^2:', model.score(x, y))"
   ]
  },
  {
   "cell_type": "code",
   "execution_count": 37,
   "id": "e2efb278",
   "metadata": {},
   "outputs": [
    {
     "name": "stdout",
     "output_type": "stream",
     "text": [
      "intercept: 2627.8223590012963\n"
     ]
    }
   ],
   "source": [
    "print('intercept:', model.intercept_) # intercept Scaler"
   ]
  },
  {
   "cell_type": "code",
   "execution_count": 38,
   "id": "6d54560c",
   "metadata": {},
   "outputs": [
    {
     "name": "stdout",
     "output_type": "stream",
     "text": [
      "slope: [-37.15359094]\n"
     ]
    }
   ],
   "source": [
    "print('slope:', model.coef_) # Array Quantity"
   ]
  },
  {
   "cell_type": "code",
   "execution_count": 40,
   "id": "33a9f53b",
   "metadata": {},
   "outputs": [
    {
     "name": "stdout",
     "output_type": "stream",
     "text": [
      "predicted response:\n",
      "[2051.94169936 1745.42457406 2330.59363144 1996.21131294 2423.4776088\n",
      " 1921.90413105 1736.13617632 2534.93838164 2349.17042691 2219.13285861\n",
      " 2144.82567672 2488.49639296 1698.98258538 2265.57484729 1810.44335821\n",
      " 1959.05772199 2404.90081333 2163.40247219 2553.51517711 1829.02015369]\n"
     ]
    },
    {
     "data": {
      "text/plain": [
       "1"
      ]
     },
     "execution_count": 40,
     "metadata": {},
     "output_type": "execute_result"
    }
   ],
   "source": [
    "# Predict response\n",
    "y_pred = model.predict(x)\n",
    "print('predicted response:', y_pred, sep='\\n')\n",
    "y_pred.ndim"
   ]
  },
  {
   "cell_type": "code",
   "execution_count": 41,
   "id": "0a06e807",
   "metadata": {},
   "outputs": [
    {
     "name": "stdout",
     "output_type": "stream",
     "text": [
      "predicted response:\n",
      "[[2051.94169936]\n",
      " [1745.42457406]\n",
      " [2330.59363144]\n",
      " [1996.21131294]\n",
      " [2423.4776088 ]\n",
      " [1921.90413105]\n",
      " [1736.13617632]\n",
      " [2534.93838164]\n",
      " [2349.17042691]\n",
      " [2219.13285861]\n",
      " [2144.82567672]\n",
      " [2488.49639296]\n",
      " [1698.98258538]\n",
      " [2265.57484729]\n",
      " [1810.44335821]\n",
      " [1959.05772199]\n",
      " [2404.90081333]\n",
      " [2163.40247219]\n",
      " [2553.51517711]\n",
      " [1829.02015369]]\n"
     ]
    },
    {
     "data": {
      "text/plain": [
       "2"
      ]
     },
     "execution_count": 41,
     "metadata": {},
     "output_type": "execute_result"
    }
   ],
   "source": [
    "# Alternatively\n",
    "\n",
    "y_pred = model.intercept_ + model.coef_ * x\n",
    "print('predicted response:', y_pred, sep='\\n')\n",
    "y_pred.ndim"
   ]
  },
  {
   "cell_type": "code",
   "execution_count": 50,
   "id": "90731c62",
   "metadata": {},
   "outputs": [
    {
     "data": {
      "text/html": [
       "<div>\n",
       "<style scoped>\n",
       "    .dataframe tbody tr th:only-of-type {\n",
       "        vertical-align: middle;\n",
       "    }\n",
       "\n",
       "    .dataframe tbody tr th {\n",
       "        vertical-align: top;\n",
       "    }\n",
       "\n",
       "    .dataframe thead th {\n",
       "        text-align: right;\n",
       "    }\n",
       "</style>\n",
       "<table border=\"1\" class=\"dataframe\">\n",
       "  <thead>\n",
       "    <tr style=\"text-align: right;\">\n",
       "      <th></th>\n",
       "      <th>X</th>\n",
       "      <th>Actual</th>\n",
       "      <th>Predicted</th>\n",
       "    </tr>\n",
       "  </thead>\n",
       "  <tbody>\n",
       "    <tr>\n",
       "      <th>0</th>\n",
       "      <td>15.50</td>\n",
       "      <td>2158.70</td>\n",
       "      <td>2051.941699</td>\n",
       "    </tr>\n",
       "    <tr>\n",
       "      <th>1</th>\n",
       "      <td>23.75</td>\n",
       "      <td>1678.15</td>\n",
       "      <td>1745.424574</td>\n",
       "    </tr>\n",
       "    <tr>\n",
       "      <th>2</th>\n",
       "      <td>8.00</td>\n",
       "      <td>2316.00</td>\n",
       "      <td>2330.593631</td>\n",
       "    </tr>\n",
       "    <tr>\n",
       "      <th>3</th>\n",
       "      <td>17.00</td>\n",
       "      <td>2061.30</td>\n",
       "      <td>1996.211313</td>\n",
       "    </tr>\n",
       "    <tr>\n",
       "      <th>4</th>\n",
       "      <td>5.50</td>\n",
       "      <td>2207.50</td>\n",
       "      <td>2423.477609</td>\n",
       "    </tr>\n",
       "    <tr>\n",
       "      <th>5</th>\n",
       "      <td>19.00</td>\n",
       "      <td>1708.30</td>\n",
       "      <td>1921.904131</td>\n",
       "    </tr>\n",
       "    <tr>\n",
       "      <th>6</th>\n",
       "      <td>24.00</td>\n",
       "      <td>1784.70</td>\n",
       "      <td>1736.136176</td>\n",
       "    </tr>\n",
       "    <tr>\n",
       "      <th>7</th>\n",
       "      <td>2.50</td>\n",
       "      <td>2575.00</td>\n",
       "      <td>2534.938382</td>\n",
       "    </tr>\n",
       "    <tr>\n",
       "      <th>8</th>\n",
       "      <td>7.50</td>\n",
       "      <td>2357.90</td>\n",
       "      <td>2349.170427</td>\n",
       "    </tr>\n",
       "    <tr>\n",
       "      <th>9</th>\n",
       "      <td>11.00</td>\n",
       "      <td>2256.70</td>\n",
       "      <td>2219.132859</td>\n",
       "    </tr>\n",
       "    <tr>\n",
       "      <th>10</th>\n",
       "      <td>13.00</td>\n",
       "      <td>2165.20</td>\n",
       "      <td>2144.825677</td>\n",
       "    </tr>\n",
       "    <tr>\n",
       "      <th>11</th>\n",
       "      <td>3.75</td>\n",
       "      <td>2399.55</td>\n",
       "      <td>2488.496393</td>\n",
       "    </tr>\n",
       "    <tr>\n",
       "      <th>12</th>\n",
       "      <td>25.00</td>\n",
       "      <td>1779.80</td>\n",
       "      <td>1698.982585</td>\n",
       "    </tr>\n",
       "    <tr>\n",
       "      <th>13</th>\n",
       "      <td>9.75</td>\n",
       "      <td>2336.75</td>\n",
       "      <td>2265.574847</td>\n",
       "    </tr>\n",
       "    <tr>\n",
       "      <th>14</th>\n",
       "      <td>22.00</td>\n",
       "      <td>1765.30</td>\n",
       "      <td>1810.443358</td>\n",
       "    </tr>\n",
       "    <tr>\n",
       "      <th>15</th>\n",
       "      <td>18.00</td>\n",
       "      <td>2053.50</td>\n",
       "      <td>1959.057722</td>\n",
       "    </tr>\n",
       "    <tr>\n",
       "      <th>16</th>\n",
       "      <td>6.00</td>\n",
       "      <td>2414.40</td>\n",
       "      <td>2404.900813</td>\n",
       "    </tr>\n",
       "    <tr>\n",
       "      <th>17</th>\n",
       "      <td>12.50</td>\n",
       "      <td>2200.50</td>\n",
       "      <td>2163.402472</td>\n",
       "    </tr>\n",
       "    <tr>\n",
       "      <th>18</th>\n",
       "      <td>2.00</td>\n",
       "      <td>2654.20</td>\n",
       "      <td>2553.515177</td>\n",
       "    </tr>\n",
       "    <tr>\n",
       "      <th>19</th>\n",
       "      <td>21.50</td>\n",
       "      <td>1753.70</td>\n",
       "      <td>1829.020154</td>\n",
       "    </tr>\n",
       "  </tbody>\n",
       "</table>\n",
       "</div>"
      ],
      "text/plain": [
       "        X   Actual    Predicted\n",
       "0   15.50  2158.70  2051.941699\n",
       "1   23.75  1678.15  1745.424574\n",
       "2    8.00  2316.00  2330.593631\n",
       "3   17.00  2061.30  1996.211313\n",
       "4    5.50  2207.50  2423.477609\n",
       "5   19.00  1708.30  1921.904131\n",
       "6   24.00  1784.70  1736.136176\n",
       "7    2.50  2575.00  2534.938382\n",
       "8    7.50  2357.90  2349.170427\n",
       "9   11.00  2256.70  2219.132859\n",
       "10  13.00  2165.20  2144.825677\n",
       "11   3.75  2399.55  2488.496393\n",
       "12  25.00  1779.80  1698.982585\n",
       "13   9.75  2336.75  2265.574847\n",
       "14  22.00  1765.30  1810.443358\n",
       "15  18.00  2053.50  1959.057722\n",
       "16   6.00  2414.40  2404.900813\n",
       "17  12.50  2200.50  2163.402472\n",
       "18   2.00  2654.20  2553.515177\n",
       "19  21.50  1753.70  1829.020154"
      ]
     },
     "execution_count": 50,
     "metadata": {},
     "output_type": "execute_result"
    }
   ],
   "source": [
    "pd.DataFrame({\"X\":np.concatenate(x),\n",
    "              \"Actual\":y,\n",
    "              \"Predicted\":np.concatenate(y_pred)})"
   ]
  },
  {
   "cell_type": "code",
   "execution_count": 51,
   "id": "659fc4c5",
   "metadata": {},
   "outputs": [
    {
     "data": {
      "text/plain": [
       "array([1959.05772199])"
      ]
     },
     "execution_count": 51,
     "metadata": {},
     "output_type": "execute_result"
    }
   ],
   "source": [
    "model.predict(np.array([18]).reshape(-1, 1))"
   ]
  },
  {
   "cell_type": "markdown",
   "id": "c8f9ff0e",
   "metadata": {},
   "source": [
    "# Multiple Linear Regression"
   ]
  },
  {
   "cell_type": "code",
   "execution_count": 54,
   "id": "62ad5244",
   "metadata": {},
   "outputs": [
    {
     "data": {
      "text/html": [
       "<div>\n",
       "<style scoped>\n",
       "    .dataframe tbody tr th:only-of-type {\n",
       "        vertical-align: middle;\n",
       "    }\n",
       "\n",
       "    .dataframe tbody tr th {\n",
       "        vertical-align: top;\n",
       "    }\n",
       "\n",
       "    .dataframe thead th {\n",
       "        text-align: right;\n",
       "    }\n",
       "</style>\n",
       "<table border=\"1\" class=\"dataframe\">\n",
       "  <thead>\n",
       "    <tr style=\"text-align: right;\">\n",
       "      <th></th>\n",
       "      <th>Sr</th>\n",
       "      <th>DeliveryTime</th>\n",
       "      <th>NumberOfCases</th>\n",
       "      <th>Distance</th>\n",
       "    </tr>\n",
       "  </thead>\n",
       "  <tbody>\n",
       "    <tr>\n",
       "      <th>0</th>\n",
       "      <td>1</td>\n",
       "      <td>16.68</td>\n",
       "      <td>7</td>\n",
       "      <td>560</td>\n",
       "    </tr>\n",
       "    <tr>\n",
       "      <th>1</th>\n",
       "      <td>2</td>\n",
       "      <td>11.50</td>\n",
       "      <td>3</td>\n",
       "      <td>220</td>\n",
       "    </tr>\n",
       "    <tr>\n",
       "      <th>2</th>\n",
       "      <td>3</td>\n",
       "      <td>12.03</td>\n",
       "      <td>3</td>\n",
       "      <td>340</td>\n",
       "    </tr>\n",
       "    <tr>\n",
       "      <th>3</th>\n",
       "      <td>4</td>\n",
       "      <td>14.88</td>\n",
       "      <td>4</td>\n",
       "      <td>80</td>\n",
       "    </tr>\n",
       "    <tr>\n",
       "      <th>4</th>\n",
       "      <td>5</td>\n",
       "      <td>13.75</td>\n",
       "      <td>6</td>\n",
       "      <td>150</td>\n",
       "    </tr>\n",
       "    <tr>\n",
       "      <th>5</th>\n",
       "      <td>6</td>\n",
       "      <td>18.11</td>\n",
       "      <td>7</td>\n",
       "      <td>330</td>\n",
       "    </tr>\n",
       "    <tr>\n",
       "      <th>6</th>\n",
       "      <td>7</td>\n",
       "      <td>8.00</td>\n",
       "      <td>2</td>\n",
       "      <td>110</td>\n",
       "    </tr>\n",
       "    <tr>\n",
       "      <th>7</th>\n",
       "      <td>8</td>\n",
       "      <td>17.83</td>\n",
       "      <td>7</td>\n",
       "      <td>210</td>\n",
       "    </tr>\n",
       "    <tr>\n",
       "      <th>8</th>\n",
       "      <td>9</td>\n",
       "      <td>79.24</td>\n",
       "      <td>30</td>\n",
       "      <td>1460</td>\n",
       "    </tr>\n",
       "    <tr>\n",
       "      <th>9</th>\n",
       "      <td>10</td>\n",
       "      <td>21.50</td>\n",
       "      <td>5</td>\n",
       "      <td>605</td>\n",
       "    </tr>\n",
       "  </tbody>\n",
       "</table>\n",
       "</div>"
      ],
      "text/plain": [
       "   Sr  DeliveryTime  NumberOfCases  Distance\n",
       "0   1         16.68              7       560\n",
       "1   2         11.50              3       220\n",
       "2   3         12.03              3       340\n",
       "3   4         14.88              4        80\n",
       "4   5         13.75              6       150\n",
       "5   6         18.11              7       330\n",
       "6   7          8.00              2       110\n",
       "7   8         17.83              7       210\n",
       "8   9         79.24             30      1460\n",
       "9  10         21.50              5       605"
      ]
     },
     "execution_count": 54,
     "metadata": {},
     "output_type": "execute_result"
    }
   ],
   "source": [
    "data=pd.read_csv(\"DeliveryTimeData.csv\")\n",
    "data.head(10)"
   ]
  },
  {
   "cell_type": "code",
   "execution_count": 58,
   "id": "9bcf51ed",
   "metadata": {},
   "outputs": [
    {
     "data": {
      "text/plain": [
       "25"
      ]
     },
     "execution_count": 58,
     "metadata": {},
     "output_type": "execute_result"
    }
   ],
   "source": [
    "n=data.shape[0] # Number of Observations\n",
    "n"
   ]
  },
  {
   "cell_type": "code",
   "execution_count": 59,
   "id": "317aecc0",
   "metadata": {},
   "outputs": [],
   "source": [
    "X=data.iloc[:,2:]\n",
    "y=data.iloc[:,1]"
   ]
  },
  {
   "cell_type": "code",
   "execution_count": 60,
   "id": "49e2d0b6",
   "metadata": {},
   "outputs": [],
   "source": [
    "model = LinearRegression().fit(X, y)"
   ]
  },
  {
   "cell_type": "code",
   "execution_count": 61,
   "id": "0547f9bd",
   "metadata": {
    "scrolled": true
   },
   "outputs": [
    {
     "name": "stdout",
     "output_type": "stream",
     "text": [
      "coefficient of determination: 0.9595937494832257\n",
      "intercept: 2.3412311451922\n",
      "slope: [1.61590721 0.01438483]\n"
     ]
    }
   ],
   "source": [
    "print('coefficient of determination:',model.score(X, y))\n",
    "print('intercept:', model.intercept_)\n",
    "print('slope:', model.coef_)"
   ]
  },
  {
   "cell_type": "code",
   "execution_count": 62,
   "id": "487307f2",
   "metadata": {
    "scrolled": true
   },
   "outputs": [
    {
     "name": "stdout",
     "output_type": "stream",
     "text": [
      "predicted response:\n",
      "[21.70808432 10.35361455 12.0797937   9.95564609 14.19439835 18.39957428\n",
      "  7.15537645 16.67339513 71.8202938  19.12358708 38.09250698 21.5930409\n",
      " 12.47299068 18.68246414 23.3287982  29.66292843 14.91363966 15.55137869\n",
      "  7.70680652 40.88796994 20.51417893 56.00652789 23.35756786 24.4028535\n",
      " 10.96258393]\n"
     ]
    }
   ],
   "source": [
    "y_pred = model.predict(X)\n",
    "print('predicted response:', y_pred, sep='\\n')"
   ]
  }
 ],
 "metadata": {
  "kernelspec": {
   "display_name": "Python 3",
   "language": "python",
   "name": "python3"
  },
  "language_info": {
   "codemirror_mode": {
    "name": "ipython",
    "version": 3
   },
   "file_extension": ".py",
   "mimetype": "text/x-python",
   "name": "python",
   "nbconvert_exporter": "python",
   "pygments_lexer": "ipython3",
   "version": "3.9.5"
  },
  "latex_envs": {
   "LaTeX_envs_menu_present": true,
   "autoclose": false,
   "autocomplete": true,
   "bibliofile": "biblio.bib",
   "cite_by": "apalike",
   "current_citInitial": 1,
   "eqLabelWithNumbers": true,
   "eqNumInitial": 1,
   "hotkeys": {
    "equation": "Ctrl-E",
    "itemize": "Ctrl-I"
   },
   "labels_anchors": false,
   "latex_user_defs": false,
   "report_style_numbering": false,
   "user_envs_cfg": false
  },
  "toc": {
   "base_numbering": 1,
   "nav_menu": {},
   "number_sections": true,
   "sideBar": true,
   "skip_h1_title": false,
   "title_cell": "Table of Contents",
   "title_sidebar": "Contents",
   "toc_cell": false,
   "toc_position": {
    "height": "calc(100% - 180px)",
    "left": "10px",
    "top": "150px",
    "width": "165px"
   },
   "toc_section_display": true,
   "toc_window_display": true
  }
 },
 "nbformat": 4,
 "nbformat_minor": 5
}
