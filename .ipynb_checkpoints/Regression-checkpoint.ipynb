{
 "cells": [
  {
   "cell_type": "markdown",
   "id": "40bd3933",
   "metadata": {},
   "source": [
    "# Simple Linear Regression"
   ]
  },
  {
   "cell_type": "code",
   "execution_count": 1,
   "id": "66c967f9",
   "metadata": {},
   "outputs": [],
   "source": [
    "# Import packages and classes\n",
    "import numpy as np\n",
    "from sklearn.linear_model import LinearRegression"
   ]
  },
  {
   "cell_type": "code",
   "execution_count": 2,
   "id": "0bf931ab",
   "metadata": {
    "code_folding": []
   },
   "outputs": [],
   "source": [
    "# Rocket Propellent Data from Montgomery's Book Regression Analysis\n",
    "x = np.array([2158.7,1678.15,2316,2061.3,2207.5,1708.3,1784.7,2575,2357.9,2256.7,2165.2,2399.55,1779.8,2336.75,1765.3,2053.5,2414.4,2200.5,2654.2,1753.7]).reshape((-1, 1))\n",
    "y = np.array([15.5,23.75,8,17,5.5,19,24,2.5,7.5,11,13,3.75,25,9.75,22,18,6,12.5,2,21.5])"
   ]
  },
  {
   "cell_type": "markdown",
   "id": "7bf31cfd",
   "metadata": {},
   "source": [
    "Now, you have two arrays: the input x and output y. You should call .reshape() on x because this array is required to be two-dimensional, or to be more precise, to have one column and as many rows as necessary. That’s exactly what the argument (-1, 1) of .reshape() specifies."
   ]
  },
  {
   "cell_type": "code",
   "execution_count": 3,
   "id": "e5f6c8d9",
   "metadata": {},
   "outputs": [
    {
     "name": "stdout",
     "output_type": "stream",
     "text": [
      "x.ndim :  2\n",
      "y.ndim :  1\n"
     ]
    }
   ],
   "source": [
    "print(\"x.ndim : \",x.ndim)\n",
    "print(\"y.ndim : \",y.ndim)"
   ]
  },
  {
   "cell_type": "code",
   "execution_count": 4,
   "id": "86622ea5",
   "metadata": {},
   "outputs": [],
   "source": [
    "# Let’s create an instance of the class LinearRegression\n",
    "model = LinearRegression()"
   ]
  },
  {
   "cell_type": "code",
   "execution_count": 5,
   "id": "db8236bf",
   "metadata": {},
   "outputs": [
    {
     "data": {
      "text/plain": [
       "LinearRegression()"
      ]
     },
     "execution_count": 5,
     "metadata": {},
     "output_type": "execute_result"
    }
   ],
   "source": [
    "model.fit(x, y)"
   ]
  },
  {
   "cell_type": "code",
   "execution_count": 6,
   "id": "0db4b3eb",
   "metadata": {},
   "outputs": [
    {
     "name": "stdout",
     "output_type": "stream",
     "text": [
      "coefficient of determination R^2: 0.9018414316763039\n"
     ]
    }
   ],
   "source": [
    "# Get results\n",
    "\n",
    "print('coefficient of determination R^2:', model.score(x, y))"
   ]
  },
  {
   "cell_type": "code",
   "execution_count": 7,
   "id": "e2efb278",
   "metadata": {},
   "outputs": [
    {
     "name": "stdout",
     "output_type": "stream",
     "text": [
      "intercept: 65.09764727188451\n"
     ]
    }
   ],
   "source": [
    "print('intercept:', model.intercept_) # intercept Scaler"
   ]
  },
  {
   "cell_type": "code",
   "execution_count": 8,
   "id": "6d54560c",
   "metadata": {},
   "outputs": [
    {
     "name": "stdout",
     "output_type": "stream",
     "text": [
      "slope: [-0.02427333]\n"
     ]
    }
   ],
   "source": [
    "print('slope:', model.coef_) # Array Quantity"
   ]
  },
  {
   "cell_type": "code",
   "execution_count": 9,
   "id": "33a9f53b",
   "metadata": {},
   "outputs": [
    {
     "name": "stdout",
     "output_type": "stream",
     "text": [
      "predicted response:\n",
      "[12.69880643 24.36335591  8.88061138 15.06302893 11.51426785 23.63151497\n",
      " 21.77703244  2.5938185   7.86355878 10.32001994 12.54102978  6.85257453\n",
      " 21.89597176  8.37693975 22.24793507 15.25236091  6.49211555 11.68418117\n",
      "  0.67137064 22.52950571]\n"
     ]
    },
    {
     "data": {
      "text/plain": [
       "1"
      ]
     },
     "execution_count": 9,
     "metadata": {},
     "output_type": "execute_result"
    }
   ],
   "source": [
    "# Predict response\n",
    "y_pred = model.predict(x)\n",
    "print('predicted response:', y_pred, sep='\\n')\n",
    "y_pred.ndim"
   ]
  },
  {
   "cell_type": "code",
   "execution_count": 10,
   "id": "0a06e807",
   "metadata": {},
   "outputs": [
    {
     "name": "stdout",
     "output_type": "stream",
     "text": [
      "predicted response:\n",
      "[[12.69880643]\n",
      " [24.36335591]\n",
      " [ 8.88061138]\n",
      " [15.06302893]\n",
      " [11.51426785]\n",
      " [23.63151497]\n",
      " [21.77703244]\n",
      " [ 2.5938185 ]\n",
      " [ 7.86355878]\n",
      " [10.32001994]\n",
      " [12.54102978]\n",
      " [ 6.85257453]\n",
      " [21.89597176]\n",
      " [ 8.37693975]\n",
      " [22.24793507]\n",
      " [15.25236091]\n",
      " [ 6.49211555]\n",
      " [11.68418117]\n",
      " [ 0.67137064]\n",
      " [22.52950571]]\n"
     ]
    },
    {
     "data": {
      "text/plain": [
       "2"
      ]
     },
     "execution_count": 10,
     "metadata": {},
     "output_type": "execute_result"
    }
   ],
   "source": [
    "# Alternatively\n",
    "\n",
    "y_pred = model.intercept_ + model.coef_ * x\n",
    "print('predicted response:', y_pred, sep='\\n')\n",
    "y_pred.ndim"
   ]
  },
  {
   "cell_type": "markdown",
   "id": "c8f9ff0e",
   "metadata": {},
   "source": [
    "# Multiple Linear Regression"
   ]
  },
  {
   "cell_type": "code",
   "execution_count": 11,
   "id": "62ad5244",
   "metadata": {},
   "outputs": [],
   "source": [
    "import pandas as pd\n",
    "\n",
    "data=pd.read_csv(\"DeliveryTimeData.csv\")"
   ]
  },
  {
   "cell_type": "code",
   "execution_count": 12,
   "id": "9bcf51ed",
   "metadata": {},
   "outputs": [],
   "source": [
    "n=data.shape[0] # Number of Observations"
   ]
  },
  {
   "cell_type": "code",
   "execution_count": 13,
   "id": "317aecc0",
   "metadata": {},
   "outputs": [],
   "source": [
    "X=data.iloc[:,2:]\n",
    "y=data.iloc[:,1]"
   ]
  },
  {
   "cell_type": "code",
   "execution_count": 14,
   "id": "49e2d0b6",
   "metadata": {},
   "outputs": [],
   "source": [
    "model = LinearRegression().fit(X, y)"
   ]
  },
  {
   "cell_type": "code",
   "execution_count": 15,
   "id": "0547f9bd",
   "metadata": {},
   "outputs": [
    {
     "name": "stdout",
     "output_type": "stream",
     "text": [
      "coefficient of determination: 0.9595937494832257\n",
      "intercept: 2.3412311451922\n",
      "slope: [1.61590721 0.01438483]\n"
     ]
    }
   ],
   "source": [
    "print('coefficient of determination:',model.score(X, y))\n",
    "print('intercept:', model.intercept_)\n",
    "print('slope:', model.coef_)"
   ]
  },
  {
   "cell_type": "code",
   "execution_count": 16,
   "id": "487307f2",
   "metadata": {},
   "outputs": [
    {
     "name": "stdout",
     "output_type": "stream",
     "text": [
      "predicted response:\n",
      "[21.70808432 10.35361455 12.0797937   9.95564609 14.19439835 18.39957428\n",
      "  7.15537645 16.67339513 71.8202938  19.12358708 38.09250698 21.5930409\n",
      " 12.47299068 18.68246414 23.3287982  29.66292843 14.91363966 15.55137869\n",
      "  7.70680652 40.88796994 20.51417893 56.00652789 23.35756786 24.4028535\n",
      " 10.96258393]\n"
     ]
    }
   ],
   "source": [
    "y_pred = model.predict(X)\n",
    "print('predicted response:', y_pred, sep='\\n')"
   ]
  },
  {
   "cell_type": "code",
   "execution_count": 18,
   "id": "66450b2a",
   "metadata": {},
   "outputs": [
    {
     "data": {
      "text/plain": [
       "2"
      ]
     },
     "execution_count": 18,
     "metadata": {},
     "output_type": "execute_result"
    }
   ],
   "source": [
    "model.rank_"
   ]
  },
  {
   "cell_type": "code",
   "execution_count": null,
   "id": "42ec0829",
   "metadata": {},
   "outputs": [],
   "source": []
  }
 ],
 "metadata": {
  "kernelspec": {
   "display_name": "Python 3",
   "language": "python",
   "name": "python3"
  },
  "language_info": {
   "codemirror_mode": {
    "name": "ipython",
    "version": 3
   },
   "file_extension": ".py",
   "mimetype": "text/x-python",
   "name": "python",
   "nbconvert_exporter": "python",
   "pygments_lexer": "ipython3",
   "version": "3.9.5"
  },
  "latex_envs": {
   "LaTeX_envs_menu_present": true,
   "autoclose": false,
   "autocomplete": true,
   "bibliofile": "biblio.bib",
   "cite_by": "apalike",
   "current_citInitial": 1,
   "eqLabelWithNumbers": true,
   "eqNumInitial": 1,
   "hotkeys": {
    "equation": "Ctrl-E",
    "itemize": "Ctrl-I"
   },
   "labels_anchors": false,
   "latex_user_defs": false,
   "report_style_numbering": false,
   "user_envs_cfg": false
  },
  "toc": {
   "base_numbering": 1,
   "nav_menu": {},
   "number_sections": true,
   "sideBar": true,
   "skip_h1_title": false,
   "title_cell": "Table of Contents",
   "title_sidebar": "Contents",
   "toc_cell": false,
   "toc_position": {
    "height": "calc(100% - 180px)",
    "left": "10px",
    "top": "150px",
    "width": "215.837px"
   },
   "toc_section_display": true,
   "toc_window_display": true
  }
 },
 "nbformat": 4,
 "nbformat_minor": 5
}
