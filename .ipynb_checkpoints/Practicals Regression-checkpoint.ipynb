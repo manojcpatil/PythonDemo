{
 "cells": [
  {
   "cell_type": "code",
   "execution_count": 2,
   "metadata": {},
   "outputs": [],
   "source": [
    "#!pip install RISE"
   ]
  },
  {
   "cell_type": "markdown",
   "metadata": {},
   "source": [
    "# Analysis of General Linear Model"
   ]
  },
  {
   "cell_type": "markdown",
   "metadata": {},
   "source": [
    "### Example 1.\n",
    "Consider the following model:\n",
    "\n",
    "1. $y_1={\\beta}_1+{\\beta}_2 +{\\varepsilon}_1,\\ \\ \\ y_2={\\beta }_1+{\\beta }_3+{\\varepsilon }_2,\\ \\ y_3={\\beta }_1+{\\beta }_2+{\\varepsilon}_3.$\n",
    "\n",
    "2. $y_i={\\beta }_1+{\\beta }_2x_i+{\\varepsilon }_i,\\ (i=1,2,3)$ where $x_1=-1,{\\ x}_2=0,\\ x_3=1.$\n",
    "        \n",
    "Write these models in Gauss-Markoff setup. Find the BLUE of ${\\beta }_i\\mathrm{s.}$"
   ]
  },
  {
   "cell_type": "code",
   "execution_count": 1,
   "metadata": {},
   "outputs": [],
   "source": [
    "import numpy as np\n",
    "import pandas as pd\n",
    "#!pip install sympy\n",
    "from sympy import *\n",
    "init_printing()"
   ]
  },
  {
   "cell_type": "code",
   "execution_count": 12,
   "metadata": {},
   "outputs": [
    {
     "data": {
      "text/plain": [
       "array([[1, 1, 0],\n",
       "       [1, 0, 1],\n",
       "       [1, 1, 0]])"
      ]
     },
     "execution_count": 12,
     "metadata": {},
     "output_type": "execute_result"
    }
   ],
   "source": [
    "X=np.array([[1,1,0],[1,0,1],[1,1,0]])\n",
    "X"
   ]
  },
  {
   "cell_type": "code",
   "execution_count": 31,
   "metadata": {},
   "outputs": [
    {
     "data": {
      "text/plain": [
       "2"
      ]
     },
     "execution_count": 31,
     "metadata": {},
     "output_type": "execute_result"
    }
   ],
   "source": [
    "xx=X.T@X\n",
    "np.linalg.matrix_rank(xx)"
   ]
  },
  {
   "cell_type": "code",
   "execution_count": 32,
   "metadata": {},
   "outputs": [],
   "source": [
    "x1=xx[np.ix_([0,1],[0,1])]"
   ]
  },
  {
   "cell_type": "code",
   "execution_count": 36,
   "metadata": {},
   "outputs": [
    {
     "data": {
      "text/plain": [
       "2"
      ]
     },
     "execution_count": 36,
     "metadata": {},
     "output_type": "execute_result"
    }
   ],
   "source": [
    "np.linalg.matrix_rank(x1)"
   ]
  },
  {
   "cell_type": "code",
   "execution_count": 33,
   "metadata": {},
   "outputs": [],
   "source": []
  },
  {
   "cell_type": "code",
   "execution_count": 57,
   "metadata": {},
   "outputs": [],
   "source": [
    "invx1=np.linalg.inv(x1).T\n",
    "GinvX1=np.zeros_like(xx.T)\n",
    "GinvX1[0:2,0:2]=invx1\n",
    "\n",
    "y1,y2,y3, b1, b2,b3 = symbols('y1 y2 y3 beta1 beta2,beta3')\n",
    "Y=MatrixSymbol('Y',3,1)\n",
    "Y=Matrix([y1, y2, y3])\n",
    "Betahat=Matrix([b1,b2,b3])"
   ]
  },
  {
   "cell_type": "code",
   "execution_count": 58,
   "metadata": {},
   "outputs": [
    {
     "data": {
      "image/png": "[encoded data removed]",
      "text/latex": [
       "$\\displaystyle \\left[\\begin{matrix}0\\\\y_{1} + y_{3}\\\\0\\end{matrix}\\right]$"
      ],
      "text/plain": [
       "⎡   0   ⎤\n",
       "⎢       ⎥\n",
       "⎢y₁ + y₃⎥\n",
       "⎢       ⎥\n",
       "⎣   0   ⎦"
      ]
     },
     "execution_count": 58,
     "metadata": {},
     "output_type": "execute_result"
    }
   ],
   "source": [
    "GinvX1@X.T@Y"
   ]
  },
  {
   "cell_type": "markdown",
   "metadata": {},
   "source": [
    "### Example 2. \n",
    "Consider the following model.\n",
    "   $$y_{i} =\\theta_{i} +\\theta_{5} +\\varepsilon_{i} ,\\, \\, \\, i=1,2,3$$\n",
    "   $$y_{6} =\\theta_{3} +\\theta_{7} +\\varepsilon_{6}$$\n",
    "   $$y_{4} =\\theta_{4} +\\theta_{6} +\\varepsilon_{4}$$\n",
    "   $$y_{7} =\\theta_{2} +\\theta_{8} +\\varepsilon_{7}$$\n",
    "   $$y_{5} =\\theta_{1} +\\theta_{7} +\\varepsilon_{5}$$\n",
    "   $$y_{8} =\\theta_{4} +\\theta_{8} +\\varepsilon_{8}$$\n",
    "\n",
    "a.  Write the model in Gauss-Markoff setup and find rank of error space and estimation space.\n",
    "    \n",
    "b.  Check the estimability of the following parametric functions. \n",
    "    \n",
    "1. $\\theta_2 -\\theta_{4}$\n",
    "    \n",
    "2. $\\theta_{1} +\\theta_{2} +\\theta_{3} +3\\theta_{5}$\n",
    "    \n",
    "3. $\\theta_{1} -\\theta_{2}$\n",
    "    \n",
    "4. $\\theta_{3} +2\\theta_{5} -\\theta_{1} -2\\theta_{8}$\n",
    "    \n",
    "c.  If ${Y}=(60.2,74.39,77.88,94.75,81.47,99.34,111.86,127.68)$ obtain two different solutions to normal equations and verify that the BLUE of an estimable parametric function is unique even though two different solutions to normal equations are used.\n",
    "\n",
    "d.  Obtain an estimate of error variance, BLUE of $X{\\beta }$ and variance-covariance of the BLUE of $X{\\beta }$"
   ]
  },
  {
   "cell_type": "code",
   "execution_count": null,
   "metadata": {},
   "outputs": [],
   "source": []
  },
  {
   "cell_type": "markdown",
   "metadata": {},
   "source": [
    "### Example 3.\n",
    "Draw a random sample from $N\\left(\\mu =50,\\sigma ^{2} =16\\right)$ and obtain the sample percentiles of this sample.\n",
    "\n",
    "a.  Based on these percentiles obtain the BLUE of the parameters\n",
    "       $\\mu,\\sigma$ using the general linear model setup\n",
    "       ${Y}=X {\\beta}+{\\varepsilon }$.\n",
    "\n",
    "b.  Find the variance-covariance of the BLUE of the parameters\n",
    "       $\\mu ,\\sigma$.\n",
    "\n",
    "c.  Obtain an unbiased estimate of the error variance in the model.\n",
    "        Also give the estimate of variance-covariance of the\n",
    "       $\\left(\\hat{\\mu },\\hat{\\sigma }\\right)$.\n",
    "\n",
    "d.  Calculate the SSE using residual vector and present the various\n",
    "        sum of squares in an ANOVA. Obtain the 95 % confidence interval\n",
    "        for parameter$\\mu$."
   ]
  },
  {
   "cell_type": "code",
   "execution_count": null,
   "metadata": {},
   "outputs": [],
   "source": []
  },
  {
   "cell_type": "markdown",
   "metadata": {},
   "source": [
    "### Example 4. \n",
    "Consider the following model.\n",
    "   $$y_{1j} =\\theta_{1} +\\alpha_{j} +\\varepsilon_{1i} ,\\, j=1,2,4 \\hspace{1in} y_{2j} =\\theta_{2} +\\alpha_{j} +\\varepsilon_{2i} ,\\, j=2,3,4$$\n",
    "   $$y_{3j} =\\theta_{3} +\\alpha_{j} +\\varepsilon_{3i} ,\\, j=1,2,3 \\hspace{1in} y_{4j} =\\theta_{4} +\\alpha_{j} +\\varepsilon_{4i} ,\\, j=1,3,4$$\n",
    "\n",
    "    a.  Write the model in Gauss-Markoff setup and find rank of error\n",
    "        space and estimation space.\n",
    "    b.  Check the estimability of the following parametric functions. i)\n",
    "       $\\theta_{1} +\\alpha_{3}$ ii)\n",
    "       $\\theta_{1} +\\theta_{2} +\\theta_{3} -3\\theta_{4}$ iii)\n",
    "       $3\\theta_{2} +\\alpha_{2} +\\alpha_{3} +\\alpha_{4}$ iv)\n",
    "       $\\theta_{1} -2\\theta_{4} +\\alpha_{3}$\n",
    "    c.  Obtain solution of normal equations and hence obtain the BLUE\n",
    "        and variance of BLUE of any one estimable parametric functions\n",
    "        in (b) using\n",
    "       $$\\left(y_{11} ,y_{12} ,y_{14} ,y_{22} ,y_{23} ,y_{24} ,y_{31} ,y_{32} ,y_{33} ,y_{41} ,y_{43} ,y_{44} \\right)=\\left(73,74,71,75,67,72,73,75,68,75,72,75\\right)$$"
   ]
  },
  {
   "cell_type": "code",
   "execution_count": null,
   "metadata": {},
   "outputs": [],
   "source": []
  },
  {
   "cell_type": "markdown",
   "metadata": {},
   "source": [
    "# Analysis of one way and two way classification models"
   ]
  },
  {
   "cell_type": "markdown",
   "metadata": {},
   "source": [
    "### Example 1.\n",
    "A study was done to compare Pinot Noir wine made in three different regions. Wine samples from each region were taken and scored by a panel of judges on the wine quality *flavor*. The higher the number, the more favorable the rating.\n",
    "    \n",
    "Region 1, 3.1, 3.5, 4.8, 3.1, 5.5, 5.0, 4.8, 4.3, 4.7, 4.3, 5.1, 3.0, 4.3, 5.5, 4.2, 3.5, 5.7\n",
    "\n",
    "Region 2, 4.3, 3.4, 5.0, 4.1, 4.7, 5.0, 5.0, 2.9, 5.0\n",
    "\n",
    "Region 3, 3.9, 4.5, 7.0, 6.7, 5.8, 5.6, 4.8, 5.5, 6.6, 5.3, 5.7, 6.0\n",
    "    \n",
    "1.  Compare the flavor ratings for three different regions graphically using appropriate graph.\n",
    "\n",
    "2.  Analyze the data using suitable model. Test whether the flavor ratings for different regions are significantly different.\n",
    "\n",
    "3.  Obtain residuals and fitted values for this model. "
   ]
  },
  {
   "cell_type": "code",
   "execution_count": 30,
   "metadata": {},
   "outputs": [
    {
     "data": {
      "text/html": [
       "<div>\n",
       "<style scoped>\n",
       "    .dataframe tbody tr th:only-of-type {\n",
       "        vertical-align: middle;\n",
       "    }\n",
       "\n",
       "    .dataframe tbody tr th {\n",
       "        vertical-align: top;\n",
       "    }\n",
       "\n",
       "    .dataframe thead th {\n",
       "        text-align: right;\n",
       "    }\n",
       "</style>\n",
       "<table border=\"1\" class=\"dataframe\">\n",
       "  <thead>\n",
       "    <tr style=\"text-align: right;\">\n",
       "      <th></th>\n",
       "      <th>flavor_score</th>\n",
       "      <th>region</th>\n",
       "    </tr>\n",
       "  </thead>\n",
       "  <tbody>\n",
       "    <tr>\n",
       "      <th>0</th>\n",
       "      <td>3.1</td>\n",
       "      <td>Region1</td>\n",
       "    </tr>\n",
       "    <tr>\n",
       "      <th>1</th>\n",
       "      <td>3.5</td>\n",
       "      <td>Region1</td>\n",
       "    </tr>\n",
       "    <tr>\n",
       "      <th>2</th>\n",
       "      <td>4.8</td>\n",
       "      <td>Region1</td>\n",
       "    </tr>\n",
       "    <tr>\n",
       "      <th>3</th>\n",
       "      <td>3.1</td>\n",
       "      <td>Region1</td>\n",
       "    </tr>\n",
       "    <tr>\n",
       "      <th>4</th>\n",
       "      <td>5.5</td>\n",
       "      <td>Region1</td>\n",
       "    </tr>\n",
       "  </tbody>\n",
       "</table>\n",
       "</div>"
      ],
      "text/plain": [
       "   flavor_score   region\n",
       "0           3.1  Region1\n",
       "1           3.5  Region1\n",
       "2           4.8  Region1\n",
       "3           3.1  Region1\n",
       "4           5.5  Region1"
      ]
     },
     "execution_count": 30,
     "metadata": {},
     "output_type": "execute_result"
    }
   ],
   "source": [
    "import numpy as np\n",
    "import pandas as pd\n",
    "\n",
    "dataset=pd.read_csv(\"flavordata.csv\")\n",
    "# dataset[\"Regi\"]=pd.get_dummies(dataset[\"region\"])\n",
    "dataset.head()"
   ]
  },
  {
   "cell_type": "code",
   "execution_count": 41,
   "metadata": {},
   "outputs": [
    {
     "name": "stdout",
     "output_type": "stream",
     "text": [
      "<statsmodels.regression.linear_model.RegressionResultsWrapper object at 0x0000021477A35AC0>\n"
     ]
    }
   ],
   "source": [
    "# mod_data=pd.get_dummies(dataset[\"region\"])\n",
    "# mod_data[\"Y\"]=dataset.iloc[:,-1]\n",
    "# mod_data\n",
    "\n",
    "from statsmodels.formula.api import ols\n",
    "model=ols(\"flavor_score ~ C(region)\",data=dataset)\n",
    "results=model.fit()\n",
    "print(results.summary())"
   ]
  },
  {
   "cell_type": "code",
   "execution_count": 85,
   "metadata": {},
   "outputs": [
    {
     "name": "stdout",
     "output_type": "stream",
     "text": [
      "Intercept               4.376471\n",
      "C(region)[T.Region2]    0.001307\n",
      "C(region)[T.Region3]    1.240196\n",
      "dtype: float64\n"
     ]
    }
   ],
   "source": [
    "beta_hat=results.params\n",
    "print(beta_hat)"
   ]
  },
  {
   "cell_type": "code",
   "execution_count": 46,
   "metadata": {},
   "outputs": [
    {
     "name": "stdout",
     "output_type": "stream",
     "text": [
      "[4.37647059 4.37647059 4.37647059 4.37647059 4.37647059 4.37647059\n",
      " 4.37647059 4.37647059 4.37647059 4.37647059 4.37647059 4.37647059\n",
      " 4.37647059 4.37647059 4.37647059 4.37647059 4.37647059 4.37777778\n",
      " 4.37777778 4.37777778 4.37777778 4.37777778 4.37777778 4.37777778\n",
      " 4.37777778 4.37777778 5.61666667 5.61666667 5.61666667 5.61666667\n",
      " 5.61666667 5.61666667 5.61666667 5.61666667 5.61666667 5.61666667\n",
      " 5.61666667 5.61666667]\n"
     ]
    }
   ],
   "source": [
    "y_hat=results.predict()\n",
    "print(y_hat)"
   ]
  },
  {
   "cell_type": "code",
   "execution_count": 138,
   "metadata": {},
   "outputs": [
    {
     "name": "stdout",
     "output_type": "stream",
     "text": [
      "Residuals:\n",
      " 0   -1.276471\n",
      "1   -0.876471\n",
      "2    0.423529\n",
      "dtype: float64\n"
     ]
    }
   ],
   "source": [
    "e_hat=results.resid\n",
    "print(\"Residuals:\\n\",e_hat[:3])"
   ]
  },
  {
   "cell_type": "code",
   "execution_count": 91,
   "metadata": {},
   "outputs": [
    {
     "data": {
      "image/png": "[encoded data removed]",
      "text/plain": [
       "<Figure size 432x288 with 1 Axes>"
      ]
     },
     "metadata": {
      "needs_background": "light"
     },
     "output_type": "display_data"
    }
   ],
   "source": [
    "import matplotlib.pyplot as plt\n",
    "plt.scatter(np.array(e_hat),np.array(y_hat))\n",
    "plt.show()"
   ]
  },
  {
   "cell_type": "code",
   "execution_count": 92,
   "metadata": {},
   "outputs": [
    {
     "data": {
      "text/plain": [
       "[<matplotlib.lines.Line2D at 0x2147a6335e0>]"
      ]
     },
     "execution_count": 92,
     "metadata": {},
     "output_type": "execute_result"
    },
    {
     "data": {
      "image/png": "[encoded data removed]",
      "text/plain": [
       "<Figure size 432x288 with 1 Axes>"
      ]
     },
     "metadata": {
      "needs_background": "light"
     },
     "output_type": "display_data"
    }
   ],
   "source": [
    "plt.plot(np.array(e_hat),np.array(y_hat))"
   ]
  },
  {
   "cell_type": "code",
   "execution_count": 90,
   "metadata": {},
   "outputs": [
    {
     "data": {
      "text/plain": [
       "array([4.37647059, 4.37647059, 4.37647059, 4.37647059, 4.37647059,\n",
       "       4.37647059, 4.37647059, 4.37647059, 4.37647059, 4.37647059,\n",
       "       4.37647059, 4.37647059, 4.37647059, 4.37647059, 4.37647059,\n",
       "       4.37647059, 4.37647059, 4.37777778, 4.37777778, 4.37777778,\n",
       "       4.37777778, 4.37777778, 4.37777778, 4.37777778, 4.37777778,\n",
       "       4.37777778, 5.61666667, 5.61666667, 5.61666667, 5.61666667,\n",
       "       5.61666667, 5.61666667, 5.61666667, 5.61666667, 5.61666667,\n",
       "       5.61666667, 5.61666667, 5.61666667])"
      ]
     },
     "execution_count": 90,
     "metadata": {},
     "output_type": "execute_result"
    }
   ],
   "source": [
    "np.array(y_hat)"
   ]
  },
  {
   "cell_type": "code",
   "execution_count": 131,
   "metadata": {},
   "outputs": [
    {
     "name": "stdout",
     "output_type": "stream",
     "text": [
      "              sum_sq    df         F    PR(>F)\n",
      "C(region)  12.619295   2.0  8.338906  0.001092\n",
      "Residual   26.482810  35.0       NaN       NaN\n"
     ]
    }
   ],
   "source": [
    "import statsmodels.api as sm\n",
    "import scipy.stats as stats\n",
    "anova_table=sm.stats.anova_lm(results,typ=2)\n",
    "print(anova_table)"
   ]
  },
  {
   "cell_type": "markdown",
   "metadata": {},
   "source": [
    "# Boxplot"
   ]
  },
  {
   "cell_type": "code",
   "execution_count": 94,
   "metadata": {},
   "outputs": [
    {
     "data": {
      "text/plain": [
       "array([[<AxesSubplot:title={'center':'Region1'}>,\n",
       "        <AxesSubplot:title={'center':'Region2'}>],\n",
       "       [<AxesSubplot:title={'center':'Region3'}>, <AxesSubplot:>]],\n",
       "      dtype=object)"
      ]
     },
     "execution_count": 94,
     "metadata": {},
     "output_type": "execute_result"
    },
    {
     "data": {
      "image/png": "[encoded data removed]",
      "text/plain": [
       "<Figure size 432x288 with 4 Axes>"
      ]
     },
     "metadata": {
      "needs_background": "light"
     },
     "output_type": "display_data"
    }
   ],
   "source": [
    "dataset.hist(by=\"region\")"
   ]
  },
  {
   "cell_type": "code",
   "execution_count": 123,
   "metadata": {},
   "outputs": [],
   "source": [
    "dataset[\"Pred\"]=y_hat\n",
    "dataset[\"Resi\"]=e_hat"
   ]
  },
  {
   "cell_type": "code",
   "execution_count": 122,
   "metadata": {},
   "outputs": [
    {
     "data": {
      "text/plain": [
       "<AxesSubplot:xlabel='flavor_score', ylabel='Pred'>"
      ]
     },
     "execution_count": 122,
     "metadata": {},
     "output_type": "execute_result"
    },
    {
     "data": {
      "image/png": "[encoded data removed]",
      "text/plain": [
       "<Figure size 432x288 with 1 Axes>"
      ]
     },
     "metadata": {
      "needs_background": "light"
     },
     "output_type": "display_data"
    }
   ],
   "source": [
    "dataset.plot(\"flavor_score\",\"Pred\",kind=\"scatter\")"
   ]
  },
  {
   "cell_type": "code",
   "execution_count": 133,
   "metadata": {},
   "outputs": [
    {
     "name": "stderr",
     "output_type": "stream",
     "text": [
      "d:\\python\\lib\\site-packages\\statsmodels\\graphics\\gofplots.py:993: UserWarning: marker is redundantly defined by the 'marker' keyword argument and the fmt string \"bo\" (-> marker='o'). The keyword argument will take precedence.\n",
      "  ax.plot(x, y, fmt, **plot_style)\n"
     ]
    },
    {
     "data": {
      "image/png": "[encoded data removed]",
      "text/plain": [
       "<Figure size 432x288 with 1 Axes>"
      ]
     },
     "metadata": {
      "needs_background": "light"
     },
     "output_type": "display_data"
    }
   ],
   "source": [
    "sm.qqplot(e_hat,stats.t,fit=True,line=\"45\")\n",
    "plt.show()"
   ]
  },
  {
   "cell_type": "code",
   "execution_count": 137,
   "metadata": {},
   "outputs": [
    {
     "name": "stdout",
     "output_type": "stream",
     "text": [
      "                            OLS Regression Results                            \n",
      "==============================================================================\n",
      "Dep. Variable:           flavor_score   R-squared:                       0.323\n",
      "Model:                            OLS   Adj. R-squared:                  0.284\n",
      "Method:                 Least Squares   F-statistic:                     8.339\n",
      "Date:                Sat, 31 Jul 2021   Prob (F-statistic):            0.00109\n",
      "Time:                        16:59:44   Log-Likelihood:                -47.059\n",
      "No. Observations:                  38   AIC:                             100.1\n",
      "Df Residuals:                      35   BIC:                             105.0\n",
      "Df Model:                           2                                         \n",
      "Covariance Type:            nonrobust                                         \n",
      "========================================================================================\n",
      "                           coef    std err          t      P>|t|      [0.025      0.975]\n",
      "----------------------------------------------------------------------------------------\n",
      "Intercept                4.3765      0.211     20.744      0.000       3.948       4.805\n",
      "C(region)[T.Region2]     0.0013      0.359      0.004      0.997      -0.727       0.729\n",
      "C(region)[T.Region3]     1.2402      0.328      3.781      0.001       0.574       1.906\n",
      "==============================================================================\n",
      "Omnibus:                        2.675   Durbin-Watson:                   2.238\n",
      "Prob(Omnibus):                  0.263   Jarque-Bera (JB):                1.840\n",
      "Skew:                          -0.337   Prob(JB):                        0.398\n",
      "Kurtosis:                       2.158   Cond. No.                         3.36\n",
      "==============================================================================\n",
      "\n",
      "Notes:\n",
      "[1] Standard Errors assume that the covariance matrix of the errors is correctly specified.\n"
     ]
    },
    {
     "data": {
      "text/plain": [
       "<Figure size 864x576 with 0 Axes>"
      ]
     },
     "metadata": {},
     "output_type": "display_data"
    }
   ],
   "source": [
    "import statsmodels.api as sm\n",
    "\n",
    "fig = plt.figure(figsize=(12,8))\n",
    "#sm.graphics.plot_regress_exog(results,'region', fig=fig)\n",
    "print(results.summary())"
   ]
  },
  {
   "cell_type": "markdown",
   "metadata": {},
   "source": [
    "### Example 2. \n",
    "The data in table aside shows the life of electric bulbs from four\n",
    "    companies A, B, C and D. Prepare analysis of variance table to find\n",
    "    out whether the lives differ from company to company.\n",
    "\n",
    "    | Company | A | 1020 | 1010 | 1030 | 1000 |      |     |\n",
    "    |---------|---|------|------|------|------|------|-----|\n",
    "    |         | B | 1030 | 1040 | 1050 | 1030 | 1060 |     |\n",
    "    |         | C | 990  | 980  | 970  | 960  | 970  | 980 |\n",
    "    |         | D | 1040 | 1050 | 1030 | 1070 |      |     |"
   ]
  },
  {
   "cell_type": "code",
   "execution_count": null,
   "metadata": {},
   "outputs": [],
   "source": []
  },
  {
   "cell_type": "markdown",
   "metadata": {},
   "source": [
    "### Example 3.\n",
    "University of Wisconsin researcher tested the yields of six\n",
    "    varieties of *Alfalfa* on each of four separate fields. The data is\n",
    "    given in the following table.\n",
    "\n",
    "    | Field |   A  |   B  |   C  |   D  |   E  |   F  |\n",
    "    |:-----:|:----:|:----:|:----:|:----:|:----:|:----:|\n",
    "    |   1   | 3.22 | 3.04 | 3.06 | 2.64 | 3.19 | 2.49 |\n",
    "    |   2   | 3.31 | 2.99 | 3.17 | 2.75 | 3.40 | 2.37 |\n",
    "    |   3   | 3.26 | 3.27 | 2.93 | 2.59 | 3.11 | 2.38 |\n",
    "    |   4   | 3.25 | 3.20 | 3.09 | 2.62 | 3.23 | 2.37 |\n",
    "\n",
    "    a.  Using appropriate model test whether the yields of six varieties\n",
    "        are significantly different.\n",
    "    b.  Do the yields from different fields differ significantly?\n",
    "    c.  Obtain the BLUEs and estimates of variance of BLUEs of contrast\n",
    "        effects in variety and fields.\n",
    "    d.  Present the variation in average yield due to different\n",
    "        varieties and fields graphically."
   ]
  },
  {
   "cell_type": "code",
   "execution_count": null,
   "metadata": {},
   "outputs": [],
   "source": []
  },
  {
   "cell_type": "markdown",
   "metadata": {},
   "source": [
    "### Example 4.\n",
    "The data given represents the results of an experiment performed to\n",
    "    determine the effects of 4 different levels of each temperature and\n",
    "    Alkali Percent on yield percent of pulp received from a cellulosic\n",
    "    raw material.\n",
    "    a.  Present the variation in average yield due to different\n",
    "        temperature and Alkali Percent graphically.\n",
    "    b.  Prepare analysis of variance table to find out whether the\n",
    "        levels of temperature and Alkali percent differ significantly?\n",
    "\n",
    "        | Temp $\\to$ % Alkali $\\downarrow$ | 138 | 143 | 148 | 153 |\n",
    "        |----------------------------------|-----|-----|-----|-----|\n",
    "        | 12                               | 391 | 343 | 312 | 304 |\n",
    "        | 15                               | 373 | 328 | 308 | 282 |\n",
    "        | 18                               | 359 | 319 | 305 | 272 |\n",
    "        | 21                               | 349 | 289 | 301 | 261 |"
   ]
  },
  {
   "cell_type": "code",
   "execution_count": null,
   "metadata": {},
   "outputs": [],
   "source": []
  },
  {
   "cell_type": "markdown",
   "metadata": {},
   "source": [
    "# Simple/Multiple Linear Regression and Extra Sum of Squares"
   ]
  },
  {
   "cell_type": "markdown",
   "metadata": {},
   "source": [
    "### Example 1.\n",
    "As part of a study investigating the general health of college\n",
    "    students, information was collected from 17 college students. The\n",
    "    corresponding data is given in Table 1. It includes age, height,\n",
    "    diastolic blood pressure (DBP), systolic blood pressure (SBP) and\n",
    "    the volume of air exhaled after one deep breath.\n",
    "    1.  Observe the relation among variables through the multiple-scatter plot.\n",
    "    2.  Fit a MLRM to the above data to regress volume of air on other variables recorded.\n",
    "        -  Test for significance of regression and draw the conclusion. Obtain$R^{2}$ for the model. Calculate fitted values, error vector and residuals.\n",
    "        -  Obtain the normal probability plot of residuals for the fitted model.\n",
    "        -  Obtain the variance covariance matrix of the estimated parameters.\n",
    "        -  Test on individual regression coefficients and draw the conclusions.\n",
    "        -  Obtain 95% confidence interval on regression coefficients.\n",
    "        -  Obtain 95% confidence interval on mean response and 95% prediction interval for a new observation on volume(Y) when $x_1=21, x_2=165, x_3=80, x_4=115$.\n",
    "        -  What is the contribution of height and SBP to the model given that all other regressors are included?\n",
    "    3.  Split the regression sum of squares in 3 components of extra sum of squares as $\\mathrm{S}SR\\left(X_4\\right),\\ SSR\\left(X_1/X_4\\right)\\ and\\ SSR(X_3,X_2/X_1,X_4)$"
   ]
  },
  {
   "cell_type": "code",
   "execution_count": null,
   "metadata": {},
   "outputs": [],
   "source": []
  },
  {
   "cell_type": "markdown",
   "metadata": {},
   "source": [
    "### Example 2.\n",
    "16 observations on the viscosity of a polymer$\\left(y\\right)$ and\n",
    "    two-process variables reaction temperature$\\left(X_1\\right)$ and\n",
    "    catalyst feed rate$\\left(X_2\\right)$ are recorded and given in\n",
    "    Table 2.\n",
    "    a.  Fit a multiple regression model to the above data. Estimate the\n",
    "        variance-covariance matrix of regression parameters.\n",
    "    b.  Test for significance of regression. Draw appropriate\n",
    "        conclusions.\n",
    "    c.  Obtain the residual vector, variance-covariance matrix of\n",
    "        residuals and have the normal probability plot of residuals.\n",
    "    d.  Test the significance of addition of process variable\n",
    "        temperature given that the feed rate variable is already there\n",
    "        in the regression model i.e. split the regression sum of squares\n",
    "        in two components of extra sum of squares as $\\mathrm{S}SR\\left(X_2\\right)\\ \\mathrm{and}\\ SSR\\left(X_1/X_2\\right)$\n",
    "    e.  Check whether you need both the regressor variables in the\n",
    "        model?\n",
    "    f.  Split the regression sum of squares in two components of extra\n",
    "        sum of squares as $\\mathrm{S}SR\\left(X_1\\right)\\ and\\ SSR\\left(X_2/X_1\\right)$.\n",
    "\n",
    "|    Age    |   Height  |    DBP    |    SBP    | Volume |   | Viscosity | Temp$^0C$ | Catalyst Feed rate lb/hr |\n",
    "|:---------:|:---------:|:---------:|:---------:|:------:|:-:|:---------:|:---------:|:------------------------:|\n",
    "| ${X}_{1}$ | ${X}_{2}$ | ${X}_{3}$ | ${X}_{4}$ |  ${Y}$ |   |   ${Y}$   | ${X}_{1}$ |         ${X}_{2}$        |\n",
    "|     22    |    175    |     60    |    122    |   3.1  |   |    2256   |     80    |             8            |\n",
    "|     19    |    152    |     70    |    102    |   3.4  |   |    2340   |     93    |             9            |\n",
    "|     23    |    165    |     82    |    118    |    3   |   |    2426   |    100    |            10            |\n",
    "|     31    |    162    |     90    |    108    |   3.2  |   |    2293   |     82    |            12            |\n",
    "|     21    |    193    |     68    |    120    |   4.9  |   |    2330   |     90    |            11            |\n",
    "|     41    |    137    |     76    |    104    |   2.4  |   |    2368   |     99    |             8            |\n",
    "|     27    |    182    |     76    |    120    |   4.5  |   |    2250   |     81    |             8            |\n",
    "|     26    |    162    |     62    |    116    |   3.1  |   |    2409   |     96    |            10            |\n",
    "|     18    |    172    |     74    |    118    |   4.4  |   |    2364   |     94    |            12            |\n",
    "|     34    |    160    |     76    |    102    |   2.9  |   |    2379   |     93    |            11            |\n",
    "|     31    |    172    |     70    |    112    |   4.2  |   |    2440   |     97    |            13            |\n",
    "|     28    |    160    |     80    |    122    |    3   |   |    2364   |     95    |            11            |\n",
    "|     24    |    163    |     62    |    118    |    3   |   |    2404   |    100    |             8            |\n",
    "|     20    |    185    |     78    |    124    |   4.7  |   |    2317   |     85    |            12            |\n",
    "|     21    |    190    |     76    |    120    |   4.8  |   |    2309   |     86    |             9            |\n",
    "|     19    |    168    |     68    |    102    |   4.1  |   |    2328   |     87    |            12            |\n",
    "|     35    |    137    |     60    |    106    |   2.3  |   |           |           |                          |"
   ]
  },
  {
   "cell_type": "code",
   "execution_count": null,
   "metadata": {},
   "outputs": [],
   "source": []
  },
  {
   "cell_type": "markdown",
   "metadata": {},
   "source": [
    "### Example 3.\n",
    "The following information was obtained from the manager of a city\n",
    "    water department for predicting the consumption of water (in\n",
    "    gallons) from the size of household:\n",
    "\n",
    "       Household Size(x)   Water Used (y)\n",
    "      ------------------- ----------------\n",
    "               2                650\n",
    "               7                1200\n",
    "               9                1300\n",
    "               4                430\n",
    "              12                1400\n",
    "               6                900\n",
    "               9                1800\n",
    "               3                640\n",
    "               3                793\n",
    "               2                925\n",
    "\n",
    "    1.  Is there any relation between X and Y?\n",
    "    2.  Test the hypothesis$H_0:\\rho=0$.\n",
    "    3.  Fit a simple linear regression model. Give the units and interpret the value of$\\beta_1$ in the simple linear model.\n",
    "    4.  Find the standard errors of the estimates.\n",
    "    5.  Test the hypothesis$H_0:\\beta_0=0$.\n",
    "    6.  Construct the analysis of variance table and test for significance of regression (i.e. is there significance linear relationship between Water Used$y$ and Household Size$x$). Use both$t$ and$F$ tests to check the significance of regression. \n",
    "    7.  What percentage of total variability in water consumption is explained by this model? Does the model do a good job in this respect?\n",
    "    8.  Find 95% confidence interval on the slope and intercept.\n",
    "    9.  Find the 95% confidence interval on the mean consumption of water.\n",
    "    10. Predict the consumption of water for size of household is 5.\n",
    "    11. Examine the normality and independence of errors.\n",
    "    12. Is the fitted model adequate?"
   ]
  },
  {
   "cell_type": "code",
   "execution_count": null,
   "metadata": {},
   "outputs": [],
   "source": []
  },
  {
   "cell_type": "markdown",
   "metadata": {},
   "source": [
    "# Lack of Fit test in Simple/Multiple Linear Regression models"
   ]
  },
  {
   "cell_type": "markdown",
   "metadata": {},
   "source": [
    "### Example 1.\n",
    "The diameter, height, and volume of 31 black cherry trees in\n",
    "    Allegheny National Forest are recorded in the file\n",
    "    c:<span>\\\\</span>Program Files<span>\\\\</span>mtbwin<span>\\\\</span>data<span>\\\\</span>trees.mtw.\n",
    "    1.  Observe the relation between the variables through multiple scatter plot.\n",
    "    2.  Fit the simple linear regression model to regress volume of the tree on diameter of the tree. Perform the lack of fit test.\n",
    "    3.  Test the hypothesis of no regression of volume on diameter if there is no evidence of lack of fit.\n",
    "    4.  Variance covariance matrix of BLUE of regression parameters and predict the value of volume when the diameter is 19.\n",
    "    5.  Check the normality assumption of residuals through normal probability plot."
   ]
  },
  {
   "cell_type": "code",
   "execution_count": 22,
   "metadata": {
    "scrolled": true
   },
   "outputs": [
    {
     "name": "stdout",
     "output_type": "stream",
     "text": [
      "population mean sample mean 2.7 2.617\n",
      "sample mean is unbised estimator of population mean\n",
      "maximum likelihood estimator: 0.43616666666666665\n"
     ]
    },
    {
     "data": {
      "image/png": "[encoded data removed]",
      "text/plain": [
       "<Figure size 432x288 with 1 Axes>"
      ]
     },
     "metadata": {
      "needs_background": "light"
     },
     "output_type": "display_data"
    },
    {
     "name": "stdout",
     "output_type": "stream",
     "text": [
      "probability of 3: 0.74473609375\n",
      "probality is  0.06919804687499997\n",
      "0.550178578125\n"
     ]
    }
   ],
   "source": [
    "#Unbiased Estimator and MLE of Probability\n",
    "import numpy as np\n",
    "import scipy.stats as stat\n",
    "import matplotlib.pyplot as plt\n",
    "n=6\n",
    "p=0.45\n",
    "s=np.random.binomial(n,p,1000)\n",
    "pop_mean=n*p\n",
    "sample_mean=np.mean(s)\n",
    "print(\"population mean\",\"sample mean\",pop_mean,sample_mean)\n",
    "print(\"sample mean is unbised estimator of population mean\")\n",
    "p_hat=(np.mean(s))/n\n",
    "print(\"maximum likelihood estimator:\",p_hat)\n",
    "\n",
    "#Que(i)\n",
    "x=np.arange(0,7)\n",
    "prob=stat.binom.pmf(x,n,p)\n",
    "plt.plot(x,prob)\n",
    "plt.show()\n",
    "\n",
    "#Que(ii)\n",
    "b=3\n",
    "p1=stat.binom.cdf(b,n,p)\n",
    "print(\"probability of 3:\",p1)\n",
    "\n",
    "#Que(iii)\n",
    "a=4\n",
    "p2=1-stat.binom.cdf(a,n,p)\n",
    "print(\"probality is \",p2)\n",
    "\n",
    "#Que(iv)\n",
    "p3=stat.binom.cdf(5,n,p)-stat.binom.cdf(2,n,p)\n",
    "print(p3)"
   ]
  },
  {
   "cell_type": "markdown",
   "metadata": {},
   "source": [
    "### Example 2. \n",
    "Consider the following data\n",
    "\n",
    "    |  $y$  | 26 | 24 | 175 | 160 | 163 | 55 | 62 | 100 | 26 | 30 | 70 | 71 |\n",
    "    |-------|----|----|-----|-----|-----|----|----|-----|----|----|----|----|\n",
    "    | $x_1$ |  1 |  1 | 1.5 | 1.5 | 1.5 |  1 |  2 | 0.5 |  1 |  1 |  1 |  1 |\n",
    "    | $x_2$ |  1 |  1 |  4  |  4  |  4  |  2 |  5 |  3  |  2 |  2 |  3 |  3 |\n",
    "\n",
    "    Fit the linear regression model of$Y$ on$X_{1}$ and$X_{2}$.\n",
    "    Obtain an estimate of pure error term and hence perform the lack of\n",
    "    fit test."
   ]
  },
  {
   "cell_type": "code",
   "execution_count": null,
   "metadata": {},
   "outputs": [],
   "source": []
  },
  {
   "cell_type": "markdown",
   "metadata": {},
   "source": [
    "### Example 3.  The yield of a chemical process is related to the concentration of\n",
    "    the reactant and the operating temperature. An experiment has been\n",
    "    conducted with the following results.\\\n",
    "\n",
    "    |     Yield     |  81 |  89 |  83 |  91 |  79 |  87 |  84 |  90 |\n",
    "    |---------------|-----|-----|-----|-----|-----|-----|-----|-----|\n",
    "    | Concentration |  1  |  1  |  2  |  2  |  1  |  1  |  2  |  2  |\n",
    "    |  Temperature  | 150 | 180 | 150 | 180 | 150 | 180 | 150 | 180 |\n",
    "\n",
    "    a.  Fit the linear regression model of$Y$ on$X_{1}$ and$X_{2}$.\n",
    "    b.  Obtain an estimate of pure error term and hence perform the lack\n",
    "        of fit test."
   ]
  },
  {
   "cell_type": "code",
   "execution_count": null,
   "metadata": {},
   "outputs": [],
   "source": []
  },
  {
   "cell_type": "markdown",
   "metadata": {},
   "source": [
    "### Example 4.\n",
    "A soft drink bottler is analyzing the vending machine service routes\n",
    "    in his distribution system. He is interested in predicting the\n",
    "    amount of time required by the route driver to service the vending\n",
    "    machine in an outlet. The two most important variables affecting the\n",
    "    delivery time$(y)$ are the number of cases of product\n",
    "    stocked$\\ (x_1)$ and the distance walked by the route\n",
    "    driver$\\ (x_2)$.\n",
    "\n",
    "    |  $y$  | $x_1$ | $x_2$ |  $y$  | $x_1$ | $x_2$ |  $y$  | $x_1$ | $x_2$ |\n",
    "    |:-----:|:-----:|:-----:|:-----:|:-----:|:-----:|:-----:|:-----:|:-----:|\n",
    "    | 16.68 |   7   |  560  |  21.5 |   5   |  605  |  9.5  |   3   |   36  |\n",
    "    |  11.5 |   3   |  226  | 40.33 |   16  |  688  |  35.1 |   17  |  770  |\n",
    "    | 12.03 |   3   |  340  |   21  |   10  |  215  |  17.9 |   10  |  140  |\n",
    "    | 14.88 |   4   |   80  |  13.5 |   4   |  255  | 52.32 |   26  |  810  |\n",
    "    | 13.75 |   6   |  150  | 19.75 |   6   |  462  | 18.75 |   9   |  450  |\n",
    "    | 18.11 |   7   |  330  |   24  |   9   |  448  | 19.83 |   8   |  635  |\n",
    "    |   8   |   2   |  110  |   29  |   10  |  776  | 10.75 |   4   |  150  |\n",
    "    | 17.83 |   7   |  210  | 15.35 |   6   |  200  |       |       |       |\n",
    "    | 79.24 |   30  |  1460 |   19  |   7   |  132  |       |       |       |    \n",
    "\n",
    "    a.  Fit the linear regression model of$Y$ on$X_{1}$ and$X_{2}$.\n",
    "    b.  Obtain (i) Standardized residuals (ii) Studentized residuals (iii) PRESS residuals (iv) Standardized PRESS residuals (v) R-student.\n",
    "    c.  Obtain the specified residual plots (i) Normal Probability Plot for residuals (ii) Residuals Vs fitted values (iii) Residuals Vs $X_{1}$ (iv) Residuals Vs$X_{2}$.\n",
    "    d.  Obtain PRESS and$R_\\text{prediction}^2$\n",
    "    e.  Construct and interpret a plot of residuals versus time order.\n",
    "    f.  Study the effect of deleting outlier observations on $\\hat{\\beta}_i, se(\\hat{\\beta}_i), R^2, MS_\\text{Res}$."
   ]
  },
  {
   "cell_type": "code",
   "execution_count": null,
   "metadata": {},
   "outputs": [],
   "source": []
  },
  {
   "cell_type": "markdown",
   "metadata": {},
   "source": [
    "# Curvilinear/Polynomial Regression"
   ]
  },
  {
   "cell_type": "markdown",
   "metadata": {},
   "source": [
    "### Example 1.\n",
    "Table 3 presents the data concerning the strength of Kraft paper and the % of hardwood in the batch of pulp from which the paper was produced. Show that the quadratic model appears to provide a good fit to the relationship between tensile strength and hardwood concentration."
   ]
  },
  {
   "cell_type": "code",
   "execution_count": null,
   "metadata": {},
   "outputs": [],
   "source": []
  },
  {
   "cell_type": "markdown",
   "metadata": {},
   "source": [
    "### Example 2.  \n",
    "Fit the regression model as specified below for the data given in Table 2\n",
    "   $$y=\\beta_{0} +\\beta_{1} x_{1} +\\beta_{2} x_{2} +\\beta_{11} x_{1}^{2} +\\beta_{22} x_{2}^{2} +\\beta_{12} x_{1}^{} x_{2}^{}$$\n",
    "    a.  Compute$t$-statistic for each model parameter and conclude on the significance of corresponding regression parameter.\n",
    "    b.  Use extra sum of squares method to evaluate the contribution of all the quadratic terms$x_{1}^{2} ,\\, x_{2}^{2}$ and $x_{1} x_{2}$ in regression sum of squares for the regression model fitted in (a). Also test its significance.\n",
    "    c.  Plot the residuals versus fitted values. Also have the Box plot of residuals to check the existence of any of the outlying observations."
   ]
  },
  {
   "cell_type": "code",
   "execution_count": null,
   "metadata": {},
   "outputs": [],
   "source": []
  },
  {
   "cell_type": "markdown",
   "metadata": {},
   "source": [
    "### Example 3.  \n",
    "The data concerning machine setting and the amount of energy\n",
    "    consumed is given in Table 1. Observe the relationship in them by\n",
    "    drawing scatter plot. Transform the data using log-transformation\n",
    "    and fit the linear model for the transformed variables. Model the\n",
    "    relationship between the machine setting and the amount of energy\n",
    "    consumed with a quadratic model. Show that the quadratic model\n",
    "    appears to provide a good fit to the data.\n",
    "\n",
    "|  |  Table 1                  |                 |   |  |Table 2       |       |   | Table 3                               |                                   |\n",
    "|:-------:|:------------------:|:---------------:|---|---------|-------|-------|---|---------------------------------------|-----------------------------------|\n",
    "| Sr. No. | Energy Consumption | Machine Setting |   |   $y$   | $x_1$ | $x_2$ |   | Hardwood Conc.$\\left(x_i\\right)$ in % | Tensile Strength$(y_i)$ in $\\psi$ |\n",
    "|    1    |        21.6        |      11.15      |   |    26   |   1   |   1   |   |                   1                   |                6.3                |\n",
    "|    2    |          4         |       15.7      |   |    24   |   1   |   1   |   |                  1.5                  |                11.1               |\n",
    "|    3    |         1.8        |       18.9      |   |   175   |  1.5  |   4   |   |                   2                   |                 20                |\n",
    "|    4    |          1         |       19.4      |   |   160   |  1.5  |   4   |   |                   3                   |                 24                |\n",
    "|    5    |          1         |       21.4      |   |   163   |  1.5  |   4   |   |                   4                   |                26.1               |\n",
    "|    6    |         0.8        |       21.7      |   |    55   |  0.5  |   2   |   |                  4.5                  |                 30                |\n",
    "|    7    |         3.8        |       25.3      |   |    62   |  1.5  |   5   |   |                   5                   |                33.8               |\n",
    "|    8    |         7.4        |       26.4      |   |   100   |  0.5  |   3   |   |                  5.5                  |                 34                |\n",
    "|    9    |         4.3        |       26.7      |   |    26   |   1   |  1.5  |   |                   6                   |                38.1               |\n",
    "|    10   |        36.2        |       29.1      |   |    30   |  0.5  |  1.5  |   |                  6.5                  |                39.9               |\n",
    "|         |                    |                 |   |    70   |   1   |  2.5  |   |                   7                   |                 42                |\n",
    "|         |                    |                 |   |    71   |  0.5  |  2.5  |   |                   8                   |                46.1               |\n",
    "|         |                    |                 |   |         |       |       |   |                   9                   |                53.1               |\n",
    "|         |                    |                 |   |         |       |       |   |                   10                  |                 52                |\n",
    "|         |                    |                 |   |         |       |       |   |                   11                  |                52.5               |\n",
    "|         |                    |                 |   |         |       |       |   |                   12                  |                 48                |\n",
    "|         |                    |                 |   |         |       |       |   |                   13                  |                42.8               |\n",
    "|         |                    |                 |   |         |       |       |   |                   14                  |                27.8               |\n",
    "|         |                    |                 |   |         |       |       |   |                   15                  |                21.9               |"
   ]
  },
  {
   "cell_type": "code",
   "execution_count": null,
   "metadata": {},
   "outputs": [],
   "source": []
  },
  {
   "cell_type": "markdown",
   "metadata": {},
   "source": [
    "# Polynomial Regression using orthogonal Polynomial and Multicollinearity"
   ]
  },
  {
   "cell_type": "markdown",
   "metadata": {},
   "source": [
    "### Example 1. \n",
    "An operations research analyst has developed a computer simulation\n",
    "    model of a single of a single item inventory system. He has\n",
    "    experimented with the simulation model to investigate the effect of\n",
    "    various reorder quantities on the average annual cost of inventory.\n",
    "    The data are as shown in the following table.\n",
    "\n",
    "       Reorder Quantity$(x)$    50    75    100   125   150   175   200   225   250   275\n",
    "      ------------------------ ----- ----- ----- ----- ----- ----- ----- ----- ----- -----\n",
    "       Avg Annual Cost$\\ (y)$   335   326   316   313   311   314   318   328   337   345\n",
    "\n",
    "    a.  Observe the scatter plot of the above data. Fit the second order\n",
    "        polynomial that expresses the average annual cost as a function\n",
    "        of reorder quantity. Use orthogonal polynomials to fit the\n",
    "        model. Is there evidence that the quadratic term is\n",
    "        statistically significant? Comment on the need for the quadratic\n",
    "        term in the model.\n",
    "\n",
    "    b.  Prepare a scatter plot of observed $y$ versus observed $x$.\n",
    "        Overlay the fitted model on the scatter plot of $y$ versus $x$."
   ]
  },
  {
   "cell_type": "code",
   "execution_count": null,
   "metadata": {},
   "outputs": [],
   "source": []
  },
  {
   "cell_type": "markdown",
   "metadata": {},
   "source": [
    "### Example 2. \n",
    "The development engineer is interested in determining if the cotton\n",
    "    weight percent in a synthetic fiber affects the tensile strength. He\n",
    "    has run the experiment with five levels of cotton weight percent and\n",
    "    the average observed tensile strength for the respective levels are\n",
    "    recorded. The data are as follows.\n",
    "\n",
    "        Weight percent cotton$(x)$     15   20   25   30    35\n",
    "      -------------------------------- ---- ---- ---- ----- ----\n",
    "       Average tensile strength$(y)$   49   77   88   108   54\n",
    "\n",
    "    Using orthogonal polynomials fit the quadratic model to regress the\n",
    "    average tensile strength of the synthetic fiber on cotton weight\n",
    "    percent in the fiber. Also test the significance of each linear,\n",
    "    quadratic, cubic and quadratic term in the model. Prepare a scatter\n",
    "    plot of observed$y$ versus observed$x$. Overlay the fitted model on\n",
    "    the scatter plot of$y$ versus$x$."
   ]
  },
  {
   "cell_type": "code",
   "execution_count": null,
   "metadata": {},
   "outputs": [],
   "source": []
  },
  {
   "cell_type": "markdown",
   "metadata": {},
   "source": [
    "### Example 3.\n",
    "Following table presents data concerning the percentage of\n",
    "    conversion of n-heptane to acetylene and three explanatory\n",
    "    variables. (% conversion in acetylene (P),\n",
    "   $\\frac{{Reactor\\ temp-1212.50}}{{80.623}}(T),$\n",
    "   $\\frac{{Ratio\\ of\\ }{{H}}_{{2}}{-12.44}}{{5.662}}$ (H),\n",
    "   $\\frac{{Contact\\ Time-0.0403}}{{0.03164}}$ (C). Use this information\n",
    "    for studying multicollinearity, VIF, Mallows Cp statistics,\n",
    "    Condition indices, Condition number using subset regression models.\n",
    "    (Response: P, Predictors: C, H, T, CH, HT, CT,$C^2{,H}^2,T^2$).\n",
    "\n",
    "      |  % conversion |   49  |  50.2 |  50.5  |  48.5 |  47.5  |  44.5 |   28  |  31.5 |\n",
    "      |:-------------:|:-----:|:-----:|:------:|:-----:|:------:|:-----:|:-----:|:-----:|\n",
    "      | Reactor Temp. |  1300 |  1300 |  1300  |  1300 |  1300  |  1300 |  1200 |  1200 |\n",
    "      |     $H_2$     |  7.5  |   9   |   11   |  13.5 |   17   |   23  |  5.3  |  7.5  |\n",
    "      |  Contact Time | 0.012 | 0.012 | 0.0115 | 0.013 | 0.0135 | 0.012 |  0.04 | 0.038 |\n",
    "      |  % conversion |  34.5 |   35  |   38   |  38.5 |   15   |   17  |  20.5 |  29.5 |\n",
    "      | Reactor Temp. |  1200 |  1200 |  1200  |  1200 |  1100  |  1100 |  1100 |  1100 |\n",
    "      |     $H_2$     |   11  |  13.5 |   17   |   23  |   5.3  |  7.5  |   11  |   17  |\n",
    "      |  Contact Time | 0.032 | 0.026 |  0.034 | 0.041 |  0.084 | 0.098 | 0.092 | 0.086 |"
   ]
  },
  {
   "cell_type": "code",
   "execution_count": null,
   "metadata": {},
   "outputs": [],
   "source": []
  },
  {
   "cell_type": "markdown",
   "metadata": {},
   "source": [
    "# Nonlinear regression"
   ]
  },
  {
   "cell_type": "markdown",
   "metadata": {},
   "source": [
    "### Example 1.\n",
    "The initial velocity of an enzymatic reaction in chemical kinetics\n",
    "    is related to the substrate concentration. The data for initial rate\n",
    "    id a reaction for an enzyme treated with puromycin are as shown in\n",
    "    the following table.\\\n",
    "\n",
    "    |    Concentration (ppm)    | 0.02 |  0.06 |  0.11  |  0.22  |  0.56  |   1.1  |\n",
    "    |:-------------------------:|:----:|:-----:|:------:|:------:|:------:|:------:|\n",
    "    | Velocity (counts/min)/min | 4776 | 97107 | 123139 | 152159 | 191201 | 200207 |\n",
    "    \n",
    "    1.  Plot the graph of (i) concentration Vs velocity (ii) 1/velocity\n",
    "        Vs 1/concentration.\n",
    "\n",
    "    2.  Fit the model\n",
    "       $y=\\theta_{1} x/\\left(\\theta_{2} +x\\right)+\\varepsilon$ to the\n",
    "        above data by using appropriate transformation.\n",
    "\n",
    "    3.  Overlay the graph of fitted curve in the original scale on the\n",
    "        graph of concentration versus velocity. Also superimpose the\n",
    "        fitted straight line for the transformed data on the scatter\n",
    "        plot of transformed data."
   ]
  },
  {
   "cell_type": "code",
   "execution_count": null,
   "metadata": {},
   "outputs": [],
   "source": []
  },
  {
   "cell_type": "markdown",
   "metadata": {},
   "source": [
    "### Example 2.\n",
    "Consider the following observations\n",
    "      $x$    $y$    \n",
    "      ------ -------- --------\n",
    "       0.5     0.68     1.58\n",
    "       1.0     0.45     2.66\n",
    "       2.0     2.50     2.04\n",
    "       4.0     6.19     7.85\n",
    "       8.0    56.10    54.20\n",
    "       9.0    89.80    90.20\n",
    "       10.0   147.70   146.30\n",
    "\n",
    "    1.  Fit the nonlinear regression model\n",
    "       $y=\\theta_1 e^(\\theta_2 x)+\\epsilon$ to these data. Discuss how\n",
    "        you obtained the starting values.\n",
    "\n",
    "    2.  Test for significance of regression\n",
    "\n",
    "    3.  Estimate the error variance$\\sigma^2$.\n",
    "\n",
    "    4.  Test the hypotheses$H_0:\\theta_1=0$ and$H_0:\\theta_2=0$ Are\n",
    "        both model parameters different from zero? If not, refit an\n",
    "        appropriate model.\n",
    "\n",
    "    5.  Analyze the residuals from this model. Discuss model adequacy."
   ]
  },
  {
   "cell_type": "code",
   "execution_count": null,
   "metadata": {},
   "outputs": [],
   "source": []
  },
  {
   "cell_type": "markdown",
   "metadata": {},
   "source": [
    "# Logistic Regression"
   ]
  },
  {
   "cell_type": "markdown",
   "metadata": {},
   "source": [
    "### Example 1. \n",
    "The table below presents the test-firing results for 25\n",
    "    surface-to-air antiaircraft missiles at targets of varying speed.\n",
    "    The result of each test is either a hit ($y = 1$) or a miss\n",
    "    ($y = 0$).\n",
    "\n",
    "       Test   Target Speed x (Knots)   y   Test   Target Speed x (Knots)   y\n",
    "      ------ ------------------------ --- ------ ------------------------ ---\n",
    "        1              400             0    14             330             1\n",
    "        2              220             1    15             280             1\n",
    "        3              490             0    16             210             1\n",
    "        4              210             1    17             300             1\n",
    "        5              500             0    18             470             1\n",
    "        6              270             0    19             230             0\n",
    "        7              200             1    20             430             0\n",
    "        8              470             0    21             460             0\n",
    "        9              480             0    22             220             1\n",
    "        10             310             1    23             250             1\n",
    "        11             240             1    24             200             1\n",
    "        12             490             0    25             390             0\n",
    "        13             420             0                                  \n",
    "\n",
    "    1.  Fit a logistic regression model to the response variable y. Use\n",
    "        a simple linear regression model as the structure for the linear\n",
    "        predictor.\n",
    "    2.  Does the model deviance indicate that the logistic regression\n",
    "        model from part a is adequate?\n",
    "    3.  Provide an interpretation of the parameter$\\beta_1$ in this\n",
    "        model.\n",
    "    4.  Expand the linear predictor to include a quadratic term in\n",
    "        target speed. Is there any evidence that this quadratic term is\n",
    "        required in the model?"
   ]
  },
  {
   "cell_type": "code",
   "execution_count": null,
   "metadata": {},
   "outputs": [],
   "source": []
  },
  {
   "cell_type": "markdown",
   "metadata": {},
   "source": [
    "### Example 2. \n",
    "A study was conducted attempting to relate home ownership to family\n",
    "    income. Twenty households were selected and family income was\n",
    "    estimated, along with information concerning home ownership ($y = 1$\n",
    "    indicates yes and$y = 0$ indicates no). The data are shown below.\n",
    "\n",
    "       Household   Income   Home Ownership Status   Household   Income   Home Ownership Status\n",
    "      ----------- -------- ----------------------- ----------- -------- -----------------------\n",
    "           1       38000              0                11       38700              1\n",
    "           2       51200              1                12       40100              0\n",
    "           3       39600              0                13       49500              1\n",
    "           4       43400              1                14       38000              0\n",
    "           5       47700              0                15       42000              1\n",
    "           6       53000              0                16       54000              1\n",
    "           7       41500              1                17       51700              1\n",
    "           8       40800              0                18       39400              0\n",
    "           9       45400              1                19       40900              0\n",
    "          10       52400              1                20       52800              1\n",
    "\n",
    "    a.  Fit a logistic regression model to the response variable y. Use\n",
    "        a simple linear regression model as the structure for the linear\n",
    "        predictor.\n",
    "    b.  Does the model deviance indicate that the logistic regression\n",
    "        model from part a is adequate?\n",
    "    c.  Provide an interpretation of the parameter$\\beta_1$ in this\n",
    "        model.\n",
    "    d.  Expand the linear predictor to include a quadratic term in\n",
    "        income. Is there any evidence that this quadratic term is\n",
    "        required in the model?"
   ]
  },
  {
   "cell_type": "code",
   "execution_count": null,
   "metadata": {},
   "outputs": [],
   "source": []
  },
  {
   "cell_type": "markdown",
   "metadata": {},
   "source": [
    "### Example 3.\n",
    "A study was performed to investigate new automobile purchases. A\n",
    "    sample of 20 families was selected. Each family was surveyed to\n",
    "    determine the age of their oldest vehicle and their total family\n",
    "    income. A follow - up survey was conducted 6 months later to\n",
    "    determine if they had actually purchased a new vehicle during that\n",
    "    time period (y = 1 indicates yes and y = 0 indicates no). The data\n",
    "    from this study are shown in the following table.\n",
    "\n",
    "       Income$x_1$   Age$x_2$   y   Income$x_1$   Age$x_2$   y\n",
    "      -------------- ----------- --- -------------- ----------- ---\n",
    "          45000           2       0      37000           5       1\n",
    "          40000           4       0      31000           7       1\n",
    "          60000           3       1      40000           4       1\n",
    "          50000           2       1      75000           2       0\n",
    "          55000           2       0      43000           9       1\n",
    "          50000           5       1      49000           2       0\n",
    "          35000           7       1      37500           4       1\n",
    "          65000           2       1      71000           1       0\n",
    "          53000           2       0      34000           5       0\n",
    "          48000           1       0      27000           6       0\n",
    "    1.  Fit a logistic regression model to the data.\n",
    "    2.  Does the model deviance indicate that the logistic regression\n",
    "        model from part i) is adequate?\n",
    "    3.  Interpret the model coefficients$\\beta_1$ and$\\beta_2$.\n",
    "    4.  What is the estimated probability that a family with an income\n",
    "        of \\$45,000 and a car that is 5 years old will purchase a new\n",
    "        vehicle in the next 6 months?\n",
    "    5.  Expand the linear predictor to include an interaction term. Is\n",
    "        there any evidence that this term is required in the model?\n",
    "    6.  For the model in part i), find statistics for each individual\n",
    "        model parameter.\n",
    "    7.  Find approximate 95% confidence intervals on the model\n",
    "        parameters for the logistic regression model from part a)."
   ]
  },
  {
   "cell_type": "code",
   "execution_count": null,
   "metadata": {},
   "outputs": [],
   "source": []
  },
  {
   "cell_type": "code",
   "execution_count": null,
   "metadata": {},
   "outputs": [],
   "source": []
  },
  {
   "cell_type": "code",
   "execution_count": null,
   "metadata": {},
   "outputs": [],
   "source": []
  }
 ],
 "metadata": {
  "kernelspec": {
   "display_name": "Python 3",
   "language": "python",
   "name": "python3"
  },
  "language_info": {
   "codemirror_mode": {
    "name": "ipython",
    "version": 3
   },
   "file_extension": ".py",
   "mimetype": "text/x-python",
   "name": "python",
   "nbconvert_exporter": "python",
   "pygments_lexer": "ipython3",
   "version": "3.9.5"
  },
  "latex_envs": {
   "LaTeX_envs_menu_present": true,
   "autoclose": false,
   "autocomplete": true,
   "bibliofile": "biblio.bib",
   "cite_by": "apalike",
   "current_citInitial": 1,
   "eqLabelWithNumbers": true,
   "eqNumInitial": 1,
   "hotkeys": {
    "equation": "Ctrl-E",
    "itemize": "Ctrl-I"
   },
   "labels_anchors": false,
   "latex_user_defs": false,
   "report_style_numbering": false,
   "user_envs_cfg": false
  },
  "toc": {
   "base_numbering": 1,
   "nav_menu": {},
   "number_sections": true,
   "sideBar": true,
   "skip_h1_title": false,
   "title_cell": "Table of Contents",
   "title_sidebar": "Contents",
   "toc_cell": false,
   "toc_position": {},
   "toc_section_display": true,
   "toc_window_display": false
  }
 },
 "nbformat": 4,
 "nbformat_minor": 4
}
