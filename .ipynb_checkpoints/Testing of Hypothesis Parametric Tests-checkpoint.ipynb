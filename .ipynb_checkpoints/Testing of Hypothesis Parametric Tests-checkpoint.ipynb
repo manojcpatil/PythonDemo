{
 "cells": [
  {
<<<<<<< HEAD
   "cell_type": "code",
   "execution_count": 1,
   "id": "c9e287e6",
   "metadata": {},
   "outputs": [],
=======
   "cell_type": "markdown",
   "id": "5190d6b5",
   "metadata": {},
>>>>>>> 27c2bb20784ba100daf77f2f749dc535e593bf8b
   "source": [
    "# Import Libraries"
   ]
  },
  {
   "cell_type": "code",
<<<<<<< HEAD
   "execution_count": 2,
=======
   "execution_count": 1,
>>>>>>> 27c2bb20784ba100daf77f2f749dc535e593bf8b
   "id": "5faf4511",
   "metadata": {},
   "outputs": [],
   "source": [
    "import pandas as pd\n",
    "import numpy as np\n",
    "import scipy.stats as ss\n",
    "alpha=0.05"
   ]
  },
  {
   "cell_type": "markdown",
<<<<<<< HEAD
   "id": "2dda3aed",
=======
   "id": "c3a5ecb5",
>>>>>>> 27c2bb20784ba100daf77f2f749dc535e593bf8b
   "metadata": {},
   "source": [
    "# One Sample t-test"
   ]
  },
  {
   "cell_type": "code",
<<<<<<< HEAD
   "execution_count": 4,
=======
   "execution_count": 2,
>>>>>>> 27c2bb20784ba100daf77f2f749dc535e593bf8b
   "id": "6e0dcec5",
   "metadata": {},
   "outputs": [],
   "source": [
    "x= ss.norm.rvs(160,12,size=20)\n",
    "x\n",
<<<<<<< HEAD
    "results=ss.ttest_1samp(x,135)"
=======
    "results=ss.ttest_1samp(x,135,alternative='greater')"
>>>>>>> 27c2bb20784ba100daf77f2f749dc535e593bf8b
   ]
  },
  {
   "cell_type": "code",
<<<<<<< HEAD
   "execution_count": 5,
=======
   "execution_count": 3,
>>>>>>> 27c2bb20784ba100daf77f2f749dc535e593bf8b
   "id": "82e2da0a",
   "metadata": {},
   "outputs": [
    {
     "data": {
      "text/plain": [
<<<<<<< HEAD
       "10.019055394419043"
      ]
     },
     "execution_count": 5,
=======
       "9.450209456261698"
      ]
     },
     "execution_count": 3,
>>>>>>> 27c2bb20784ba100daf77f2f749dc535e593bf8b
     "metadata": {},
     "output_type": "execute_result"
    }
   ],
   "source": [
    "results.statistic"
   ]
  },
  {
   "cell_type": "code",
<<<<<<< HEAD
   "execution_count": 6,
=======
   "execution_count": 5,
>>>>>>> 27c2bb20784ba100daf77f2f749dc535e593bf8b
   "id": "6375bef0",
   "metadata": {},
   "outputs": [
    {
     "data": {
      "text/plain": [
<<<<<<< HEAD
       "5.10403249049663e-09"
      ]
     },
     "execution_count": 6,
=======
       "6.491516235682878e-09"
      ]
     },
     "execution_count": 5,
>>>>>>> 27c2bb20784ba100daf77f2f749dc535e593bf8b
     "metadata": {},
     "output_type": "execute_result"
    }
   ],
   "source": [
    "results.pvalue"
   ]
  },
  {
   "cell_type": "code",
<<<<<<< HEAD
   "execution_count": 7,
=======
   "execution_count": 8,
>>>>>>> 27c2bb20784ba100daf77f2f749dc535e593bf8b
   "id": "134bb60d",
   "metadata": {},
   "outputs": [
    {
     "name": "stdout",
     "output_type": "stream",
     "text": [
<<<<<<< HEAD
      "Conclusion - Reject Ho: Therefore The mean height of the school students is not 135 cms\n"
=======
      "Conclusion - Reject Ho: Therefore The mean height of the school students is greater than 135 cms\n"
>>>>>>> 27c2bb20784ba100daf77f2f749dc535e593bf8b
     ]
    }
   ],
   "source": [
    "Ho=\"The mean height of the school students is 135 cms\"\n",
<<<<<<< HEAD
    "H1=\"The mean height of the school students is not 135 cms\"\n",
=======
    "H1=\"The mean height of the school students is greater than 135 cms\"\n",
>>>>>>> 27c2bb20784ba100daf77f2f749dc535e593bf8b
    "\n",
    "print('Conclusion - ',end='')\n",
    "print('Reject Ho: Therefore',H1) if results.pvalue <alpha else print('Fail to reject Ho: Therefore',Ho)"
   ]
  },
  {
   "cell_type": "markdown",
   "id": "8aba5dc0",
   "metadata": {},
   "source": [
    "# Two Sample t-test (Independent)"
   ]
  },
  {
   "cell_type": "code",
<<<<<<< HEAD
   "execution_count": 8,
=======
   "execution_count": 9,
>>>>>>> 27c2bb20784ba100daf77f2f749dc535e593bf8b
   "id": "3597cedb",
   "metadata": {},
   "outputs": [
    {
     "name": "stdout",
     "output_type": "stream",
     "text": [
<<<<<<< HEAD
      "Ttest_indResult(statistic=1.8947907542472968, pvalue=0.062080531263760695)\n",
      "Conclusion - Fail to reject Ho: Therefore Ho\n"
=======
      "Ttest_indResult(statistic=4.0424534680733295, pvalue=0.00012960823393829774)\n",
      "Conclusion - Reject Ho: Therefore H1\n"
>>>>>>> 27c2bb20784ba100daf77f2f749dc535e593bf8b
     ]
    }
   ],
   "source": [
    "Ho=\"Ho\"\n",
    "H1=\"H1\"\n",
    "x=ss.norm.rvs(10,2,52)\n",
    "y=ss.norm.rvs(8,2,23)\n",
    "\n",
    "results=ss.ttest_ind(x,y,alternative=\"two-sided\",equal_var=True) # {‘two-sided’, ‘less’, ‘greater’},\n",
    "print(results)\n",
    "print('Conclusion - ',end='')\n",
    "print('Reject Ho: Therefore',H1) if results.pvalue <alpha else print('Fail to reject Ho: Therefore',Ho)"
   ]
  },
  {
   "cell_type": "markdown",
   "id": "82bc6422",
   "metadata": {},
   "source": [
    "# Two Sample t-test (Dependent)"
   ]
  },
  {
   "cell_type": "code",
<<<<<<< HEAD
   "execution_count": 9,
=======
   "execution_count": 10,
>>>>>>> 27c2bb20784ba100daf77f2f749dc535e593bf8b
   "id": "6c5f379f",
   "metadata": {},
   "outputs": [
    {
     "name": "stdout",
     "output_type": "stream",
     "text": [
<<<<<<< HEAD
      "Ttest_relResult(statistic=1.7522034931384827, pvalue=0.11364894448539244)\n",
      "Conclusion - Fail to reject Ho: Therefore Ho\n"
     ]
    },
    {
     "name": "stderr",
     "output_type": "stream",
     "text": [
      "d:\\python\\lib\\site-packages\\scipy\\stats\\_multivariate.py:666: RuntimeWarning: covariance is not positive-semidefinite.\n",
      "  out = random_state.multivariate_normal(mean, cov, size)\n"
=======
      "Ttest_relResult(statistic=2.9235293239480846, pvalue=0.01693430670309522)\n",
      "Conclusion - Reject Ho: Therefore H1\n"
>>>>>>> 27c2bb20784ba100daf77f2f749dc535e593bf8b
     ]
    }
   ],
   "source": [
<<<<<<< HEAD
    "Data=pd.DataFrame(ss.multivariate_normal.rvs([10,9],[[10, 2],[3, 4]],size=10))\n",
=======
    "Data=pd.DataFrame(ss.multivariate_normal.rvs([10,9],[[10, 2],[2, 4]],size=10))\n",
>>>>>>> 27c2bb20784ba100daf77f2f749dc535e593bf8b
    "x=Data[0]\n",
    "y=Data[1]\n",
    "results=ss.ttest_rel(x,y,alternative=\"two-sided\") # {‘two-sided’, ‘less’, ‘greater’},\n",
    "print(results)\n",
    "print('Conclusion - ',end='')\n",
    "print('Reject Ho: Therefore',H1) if results.pvalue <alpha else print('Fail to reject Ho: Therefore',Ho)"
   ]
  },
  {
   "cell_type": "markdown",
<<<<<<< HEAD
=======
   "id": "45c141db",
   "metadata": {},
   "source": [
    "# Z tests"
   ]
  },
  {
   "cell_type": "code",
   "execution_count": 18,
   "id": "de8e2717",
   "metadata": {},
   "outputs": [
    {
     "name": "stdout",
     "output_type": "stream",
     "text": [
      "(-0.3346332536457868, 0.7379017569290327)\n",
      "Conclusion - Fail to reject Ho: Therefore Ho\n"
     ]
    }
   ],
   "source": [
    "import statsmodels.stats.weightstats as sw\n",
    "Treat1=ss.norm.rvs(10,1,40)\n",
    "\n",
    "statistics, pvalue =sw.ztest(Treat1,value=10)\n",
    "print((statistics, pvalue))\n",
    "print('Conclusion - ',end='')\n",
    "print('Reject Ho: Therefore',H1) if pvalue <alpha else print('Fail to reject Ho: Therefore',Ho)"
   ]
  },
  {
   "cell_type": "markdown",
>>>>>>> 27c2bb20784ba100daf77f2f749dc535e593bf8b
   "id": "59fe4a55",
   "metadata": {},
   "source": [
    "# Shapiro Test"
   ]
  },
  {
   "cell_type": "code",
   "execution_count": 10,
   "id": "24cdb190",
   "metadata": {},
   "outputs": [
    {
     "data": {
      "text/plain": [
       "ShapiroResult(statistic=0.9217164516448975, pvalue=0.10692057758569717)"
      ]
     },
     "execution_count": 10,
     "metadata": {},
     "output_type": "execute_result"
    }
   ],
   "source": [
    "x= ss.norm.rvs(160,12,size=20)\n",
    "x\n",
    "results=ss.shapiro(x)\n",
    "results"
   ]
  },
  {
   "cell_type": "markdown",
   "id": "35e2a14b",
   "metadata": {},
   "source": [
    "# Anderson Darling Test"
   ]
  },
  {
   "cell_type": "code",
   "execution_count": 11,
   "id": "9721d04c",
   "metadata": {},
   "outputs": [
    {
     "data": {
      "text/plain": [
       "AndersonResult(statistic=7.893482316111328, critical_values=array([0.895, 1.047, 1.302, 1.559, 1.9  ]), significance_level=array([15. , 10. ,  5. ,  2.5,  1. ]))"
      ]
     },
     "execution_count": 11,
     "metadata": {},
     "output_type": "execute_result"
    }
   ],
   "source": [
    "x= ss.norm.rvs(160,12,size=20)\n",
    "x\n",
    "results=ss.anderson(x,'expon')\n",
    "results"
   ]
  },
  {
<<<<<<< HEAD
   "cell_type": "code",
   "execution_count": 12,
   "id": "f8fd2c86",
   "metadata": {},
   "outputs": [],
=======
   "cell_type": "markdown",
   "id": "842b83cb",
   "metadata": {},
>>>>>>> 27c2bb20784ba100daf77f2f749dc535e593bf8b
   "source": [
    "# Correlation Test"
   ]
  },
  {
   "cell_type": "code",
<<<<<<< HEAD
   "execution_count": 13,
=======
   "execution_count": 11,
>>>>>>> 27c2bb20784ba100daf77f2f749dc535e593bf8b
   "id": "9fda07e2",
   "metadata": {},
   "outputs": [
    {
     "name": "stdout",
     "output_type": "stream",
     "text": [
<<<<<<< HEAD
      "0.10976300295069663 0.7627653637877821\n",
=======
      "0.4560436261604873 0.185272331642245\n",
>>>>>>> 27c2bb20784ba100daf77f2f749dc535e593bf8b
      "Conclusion - Fail to reject Ho: Therefore Ho\n"
     ]
    }
   ],
   "source": [
<<<<<<< HEAD
    "Data=pd.DataFrame(ss.multivariate_normal.rvs([10,9],[[10, 2],[3, 4]],size=10))\n",
=======
    "Data=pd.DataFrame(ss.multivariate_normal.rvs([10,9],[[10, 2],[2, 4]],size=10))\n",
>>>>>>> 27c2bb20784ba100daf77f2f749dc535e593bf8b
    "x=Data[0]\n",
    "y=Data[1]\n",
    "statistics, pvalue=ss.pearsonr(x,y) # {‘two-sided’, ‘less’, ‘greater’},\n",
    "print(statistics,pvalue)\n",
    "print('Conclusion - ',end='')\n",
    "print('Reject Ho: Therefore',H1) if pvalue <alpha else print('Fail to reject Ho: Therefore',Ho)"
   ]
  },
  {
   "cell_type": "code",
   "execution_count": null,
   "id": "45eee790",
   "metadata": {},
   "outputs": [],
   "source": []
  },
  {
   "cell_type": "code",
   "execution_count": 14,
   "id": "e66a9f7f",
   "metadata": {},
   "outputs": [
    {
     "name": "stdout",
     "output_type": "stream",
     "text": [
      "0.5636363636363636 0.08972402831709127\n",
      "Conclusion - Fail to reject Ho: Therefore Ho\n"
     ]
    }
   ],
   "source": [
    "Data=pd.DataFrame(ss.multivariate_normal.rvs([10,9],[[10, 2],[3, 4]],size=10))\n",
    "x=Data[0]\n",
    "y=Data[1]\n",
    "statistics, pvalue=ss.spearmanr(x,y) # {‘two-sided’, ‘less’, ‘greater’},\n",
    "print(statistics,pvalue)\n",
    "print('Conclusion - ',end='')\n",
    "print('Reject Ho: Therefore',H1) if pvalue <alpha else print('Fail to reject Ho: Therefore',Ho)"
   ]
  },
  {
   "cell_type": "markdown",
   "id": "4c6b5650",
   "metadata": {},
   "source": [
    "# Kendall Tau"
   ]
  },
  {
   "cell_type": "code",
   "execution_count": 15,
   "id": "d5d791b9",
   "metadata": {},
   "outputs": [
    {
     "name": "stdout",
     "output_type": "stream",
     "text": [
      "-0.06666666666666667 0.8618005952380953\n",
      "Conclusion - Fail to reject Ho: Therefore Ho\n"
     ]
    }
   ],
   "source": [
    "Data=pd.DataFrame(ss.multivariate_normal.rvs([10,9],[[10, 2],[3, 4]],size=10))\n",
    "x=Data[0]\n",
    "y=Data[1]\n",
    "statistics, pvalue=ss.kendalltau(x,y) # {‘two-sided’, ‘less’, ‘greater’},\n",
    "print(statistics,pvalue)\n",
    "print('Conclusion - ',end='')\n",
    "print('Reject Ho: Therefore',H1) if pvalue <alpha else print('Fail to reject Ho: Therefore',Ho)"
   ]
  },
  {
   "cell_type": "markdown",
   "id": "60f1a2dc",
   "metadata": {},
   "source": [
    "# One way Anova"
   ]
  },
  {
   "cell_type": "code",
   "execution_count": 16,
   "id": "94172d4c",
   "metadata": {},
   "outputs": [
    {
     "name": "stdout",
     "output_type": "stream",
     "text": [
      "110.93721127675491 2.244382134654908e-15\n",
      "Conclusion - Reject Ho: Therefore H1\n"
     ]
    }
   ],
   "source": [
    "Treat1=ss.norm.rvs(10,1,12)\n",
    "Treat2=ss.expon.rvs(10,size=12)\n",
    "Treat3=ss.norm.rvs(15,1,12)\n",
    "\n",
    "statistics, pvalue=ss.f_oneway(Treat1,Treat2,Treat3) # {‘two-sided’, ‘less’, ‘greater’},\n",
    "print(statistics,pvalue)\n",
    "print('Conclusion - ',end='')\n",
    "print('Reject Ho: Therefore',H1) if pvalue <alpha else print('Fail to reject Ho: Therefore',Ho)"
   ]
  },
  {
   "cell_type": "code",
<<<<<<< HEAD
   "execution_count": 17,
   "id": "a4f8c737",
   "metadata": {},
   "outputs": [],
   "source": [
    "# Z tests"
   ]
  },
  {
   "cell_type": "code",
   "execution_count": 18,
   "id": "de8e2717",
   "metadata": {},
   "outputs": [
    {
     "name": "stdout",
     "output_type": "stream",
     "text": [
      "(-0.3346332536457868, 0.7379017569290327)\n",
      "Conclusion - Fail to reject Ho: Therefore Ho\n"
     ]
    }
   ],
   "source": [
    "import statsmodels.stats.weightstats as sw\n",
    "Treat1=ss.norm.rvs(10,1,40)\n",
    "\n",
    "statistics, pvalue =sw.ztest(Treat1,value=10)\n",
    "print((statistics, pvalue))\n",
    "print('Conclusion - ',end='')\n",
    "print('Reject Ho: Therefore',H1) if pvalue <alpha else print('Fail to reject Ho: Therefore',Ho)"
=======
   "execution_count": 12,
   "id": "f3d21c6a",
   "metadata": {},
   "outputs": [],
   "source": [
    "# from Statsmodel.formula.api import ols"
>>>>>>> 27c2bb20784ba100daf77f2f749dc535e593bf8b
   ]
  }
 ],
 "metadata": {
  "kernelspec": {
<<<<<<< HEAD
   "display_name": "Python 3 (ipykernel)",
=======
   "display_name": "Python 3",
>>>>>>> 27c2bb20784ba100daf77f2f749dc535e593bf8b
   "language": "python",
   "name": "python3"
  },
  "language_info": {
   "codemirror_mode": {
    "name": "ipython",
    "version": 3
   },
   "file_extension": ".py",
   "mimetype": "text/x-python",
   "name": "python",
   "nbconvert_exporter": "python",
   "pygments_lexer": "ipython3",
   "version": "3.9.5"
  },
  "latex_envs": {
   "LaTeX_envs_menu_present": true,
   "autoclose": false,
   "autocomplete": true,
   "bibliofile": "biblio.bib",
   "cite_by": "apalike",
   "current_citInitial": 1,
   "eqLabelWithNumbers": true,
   "eqNumInitial": 1,
   "hotkeys": {
    "equation": "Ctrl-E",
    "itemize": "Ctrl-I"
   },
   "labels_anchors": false,
   "latex_user_defs": false,
   "report_style_numbering": false,
   "user_envs_cfg": false
  }
 },
 "nbformat": 4,
 "nbformat_minor": 5
}
