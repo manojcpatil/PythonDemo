{
 "cells": [
  {
   "cell_type": "code",
   "execution_count": 1,
   "id": "780911d8",
   "metadata": {},
   "outputs": [],
   "source": [
    "import numpy as np\n",
    "import matplotlib.pyplot as plt\n",
    "import pandas as pd\n",
    "import scipy as sp"
   ]
  },
  {
   "cell_type": "code",
   "execution_count": 5,
   "id": "77a6916c",
   "metadata": {},
   "outputs": [
    {
     "name": "stdout",
     "output_type": "stream",
     "text": [
      "Random Sample: [8 9 8 7 8 8 9 8 7 9 9 7 7 9 8 7 9 7 9 9]\n",
      "Mean: 8.1\n",
      "Median: 8.0\n",
      "Mode: 9\n"
     ]
    }
   ],
   "source": [
    "m=np.random.randint(7,10,20)\n",
    "print(\"Random Sample:\",m)\n",
    "print(\"Mean:\",np.mean(m))\n",
    "print(\"Median:\",np.median(m))\n",
    "\n",
    "from statistics import mode\n",
    "print(\"Mode:\",mode(m))"
   ]
  },
  {
   "cell_type": "code",
   "execution_count": 18,
   "id": "e7e102d2",
   "metadata": {},
   "outputs": [
    {
     "name": "stdout",
     "output_type": "stream",
     "text": [
      "[5 9 1 9 1 4 6 3 3 7 7 6 9 9 5 7 1 9 3 4 9 6 9 2 6 5 5 7 4 3 4 8 3 7 2 3 2\n",
      " 7 8 5 6 3 1 6 1 9 7 6 3 6 6 6 3 8 1 3 2 9 8 6 1 6 3 6 7 2 6 9 2 7 4 3 3 1\n",
      " 9 8 9 1 9 8 3 8 4 4 9 4 9 8 4 2 5 3 3 1 8 4 6 8 1 9 7 2 8 2 2 1 2 2 6 9 8\n",
      " 5 3 1 3 8 2 9 8 2 2 6 8 2 4 5 2 5 9 4 7 3 3 1 4 3 6 2 2 6 3 7 5 2 3 2 5 4\n",
      " 1 3 7 7 4 3 2 6 1 5 7 7 3 8 9 8 9 3 4 9 3 3 9 2 2 9 8 2 6 6 2 5 5 4 6 3 1\n",
      " 2 2 2 2 6 6 2 9 6 3 4 9 7 8 1]\n",
      "    0  1  2  3\n",
      "0   7  9  7  3\n",
      "1   2  6  8  9\n",
      "2   3  6  3  3\n",
      "3   2  2  7  3\n",
      "4   6  1  6  6\n",
      ".. .. .. .. ..\n",
      "95  1  8  5  1\n",
      "96  6  6  4  6\n",
      "97  3  2  2  2\n",
      "98  4  8  2  1\n",
      "99  1  5  4  8\n",
      "\n",
      "[100 rows x 4 columns]\n",
      "0    4.98\n",
      "1    5.25\n",
      "2    4.72\n",
      "3    4.96\n",
      "dtype: float64\n",
      "4.9775\n",
      "4.88\n"
     ]
    }
   ],
   "source": [
    "# Sample\n",
    "pop=np.random.randint(1,10,200)\n",
    "print(pop)\n",
    "x=pd.DataFrame(np.random.choice(pop,(100,4)))\n",
    "print(x)\n",
    "x_mean=x.mean(axis=0)\n",
    "\n",
    "print(x_mean)\n",
    "print(np.mean(x_mean))\n",
    "print(np.mean(pop))"
   ]
  },
  {
   "cell_type": "code",
   "execution_count": 21,
   "id": "fb78ffc9",
   "metadata": {},
   "outputs": [
    {
     "name": "stdout",
     "output_type": "stream",
     "text": [
      "[ 0.129906    0.62582092 -1.45618292 -0.36370557 -0.47925717 -0.30672662\n",
      " -0.19828506 -0.87802193  0.95602948  0.66891325  0.12092325 -1.8181531\n",
      " -0.80553628 -0.24138508 -0.36505499 -0.03730425 -0.49460921  0.8947371\n",
      "  1.25942903 -1.92207996 -0.97726383 -0.68611006 -0.75052545 -1.12341677\n",
      " -1.89138648  1.78522102 -1.23365266  0.1895698   1.42926357 -0.34169382\n",
      " -2.12117314  2.15678584 -1.77306746  0.55088403 -0.22568386  0.04912234\n",
      " -0.35097852  2.46783228  0.23324928  0.25904999 -1.03328781  0.18484203\n",
      " -0.10614238 -1.14827249 -0.93758606  1.27927448  1.43151577  1.07889235\n",
      "  0.74263128 -0.70920512]\n",
      "Mean: -0.1256370985063718 Median: -0.23353446603549968\n",
      "Var: 1.135795912955929 SD: 1.0657372626289883\n",
      "Min: -2.1211731415815236 Max: 2.4678322799968404 Range: 4.5890054215783636\n",
      "Q1: -1.0091875746219792 Q3: 0.9372963106960674 IQR: 1.9464838853180466\n"
     ]
    }
   ],
   "source": [
    "x=np.random.randn(50)\n",
    "print(x)\n",
    "print(\"Mean:\",np.mean(x),\"Median:\",np.median(x))\n",
    "print(\"Var:\",np.var(x),\"SD:\",np.std(x))\n",
    "print(\"Min:\",np.min(x),\"Max:\",np.max(x),\"Range:\",np.max(x)-np.min(x))\n",
    "print(\"Q1:\",np.percentile(pop,25),\"Q3:\",np.percentile(pop,75),\"IQR:\",np.percentile(pop,75)-np.percentile(pop,25))\n",
    "\n",
    "\n"
   ]
  },
  {
   "cell_type": "code",
   "execution_count": 22,
   "id": "fbe9a292",
   "metadata": {},
   "outputs": [
    {
     "name": "stdout",
     "output_type": "stream",
     "text": [
      "    id  age\n",
      "0    0   30\n",
      "1    1   18\n",
      "2    2   26\n",
      "3    3   20\n",
      "4    4   28\n",
      "5    5   21\n",
      "6    6   27\n",
      "7    7   23\n",
      "8    8   22\n",
      "9    9   29\n",
      "10  10   25\n",
      "11  11   30\n",
      "12  12   24\n",
      "13  13   27\n",
      "14  14   25\n",
      "15  15   20\n",
      "16  16   22\n",
      "17  17   22\n",
      "18  18   26\n",
      "19  19   23\n",
      "20  20   20\n",
      "21  21   23\n",
      "22  22   21\n",
      "23  23   18\n",
      "24  24   18\n",
      "25  25   24\n",
      "26  26   22\n",
      "27  27   22\n",
      "28  28   30\n",
      "29  29   25\n",
      "30  30   18\n",
      "31  31   23\n",
      "32  32   24\n",
      "33  33   20\n",
      "34  34   19\n",
      "35  35   18\n",
      "36  36   23\n",
      "37  37   26\n",
      "38  38   22\n",
      "39  39   27\n",
      "40  40   23\n",
      "41  41   20\n",
      "42  42   24\n",
      "43  43   26\n",
      "44  44   18\n",
      "45  45   26\n",
      "46  46   23\n",
      "47  47   27\n",
      "48  48   28\n",
      "49  49   18\n",
      "50  50   19\n",
      "51  51   22\n",
      "52  52   19\n",
      "53  53   20\n",
      "54  54   20\n",
      "55  55   27\n",
      "56  56   21\n",
      "57  57   21\n",
      "58  58   24\n",
      "59  59   26\n",
      "Mean Age: 23.05\n",
      "Mean Age: 23.05\n",
      "Modal Age: 18\n",
      "Skewness: 0.26449996887930705\n",
      "Kurtosis: -0.81611567678077\n"
     ]
    }
   ],
   "source": [
    "df1=pd.DataFrame(dict(id=range(60),age=np.random.randint(18,31,size=60)))\n",
    "print(df1)\n",
    "print(\"Mean Age:\", df1.age.mean())\n",
    "print(\"Mean Age:\", df1[\"age\"].mean())\n",
    "print(\"Modal Age:\", df1.age.mode()[0])\n",
    "print(\"Skewness:\", df1.age.skew())\n",
    "print(\"Kurtosis:\", df1.age.kurt())\n"
   ]
  },
  {
   "cell_type": "code",
   "execution_count": null,
   "id": "1c142dea",
   "metadata": {},
   "outputs": [],
   "source": [
    "\n",
    "mu, sigma=0,1\n",
    "x=np.random.normal(mu,sigma,size=100)\n",
    "\n",
    "print(x)\n",
    "print(\"Mean:\",np.mean(x),\"Median:\",np.median(x),\"Var:\",np.var(x),\"SD:\",np.std(x))\n",
    "print(\"Min:\",np.min(x),\"Max:\",np.max(x),\"Range:\",np.max(x)-np.min(x))\n",
    "print(\"Q1:\",np.percentile(x,25),\"Q3:\",np.percentile(x,75),\"IQR:\",np.percentile(x,75)-np.percentile(x,25))\n",
    "print(\"Skewness:\", pd.DataFrame(x).skew()[0],\" Kurtosis:\", pd.DataFrame(x).kurt()[0])\n",
    "\n"
   ]
  },
  {
   "cell_type": "code",
   "execution_count": 23,
   "id": "98781848",
   "metadata": {},
   "outputs": [
    {
     "name": "stdout",
     "output_type": "stream",
     "text": [
      "Pop mean: -0.1256370985063718 Mean of Sample Means: -0.1556477476328295\n",
      "Pop var: 1.135795912955929 Mean of Sample Means: 1.0379198858422172\n"
     ]
    },
    {
     "data": {
      "text/plain": [
       "<AxesSubplot:ylabel='Density'>"
      ]
     },
     "execution_count": 23,
     "metadata": {},
     "output_type": "execute_result"
    },
    {
     "data": {
      "image/png": "[encoded data removed]",
      "text/plain": [
       "<Figure size 432x288 with 1 Axes>"
      ]
     },
     "metadata": {
      "needs_background": "light"
     },
     "output_type": "display_data"
    }
   ],
   "source": [
    "Xbar, SVar=[],[]\n",
    "for i in range(100):\n",
    "    SampleX=np.random.choice(x,size=20)\n",
    "    Xbar.append(np.mean(SampleX))\n",
    "    SVar.append(np.var(SampleX))\n",
    "print(\"Pop mean:\",np.mean(x),\"Mean of Sample Means:\",np.mean(Xbar))\n",
    "print(\"Pop var:\",np.var(x),\"Mean of Sample Means:\",np.mean(SVar))\n",
    "pd.DataFrame(Xbar).plot(kind=\"density\")"
   ]
  },
  {
   "cell_type": "code",
   "execution_count": null,
   "id": "0cbe6397",
   "metadata": {},
   "outputs": [],
   "source": []
  },
  {
   "cell_type": "code",
   "execution_count": null,
   "id": "23107f02",
   "metadata": {},
   "outputs": [],
   "source": []
  }
 ],
 "metadata": {
  "kernelspec": {
   "display_name": "Python 3",
   "language": "python",
   "name": "python3"
  },
  "language_info": {
   "codemirror_mode": {
    "name": "ipython",
    "version": 3
   },
   "file_extension": ".py",
   "mimetype": "text/x-python",
   "name": "python",
   "nbconvert_exporter": "python",
   "pygments_lexer": "ipython3",
   "version": "3.9.5"
  },
  "latex_envs": {
   "LaTeX_envs_menu_present": true,
   "autoclose": false,
   "autocomplete": true,
   "bibliofile": "biblio.bib",
   "cite_by": "apalike",
   "current_citInitial": 1,
   "eqLabelWithNumbers": true,
   "eqNumInitial": 1,
   "hotkeys": {
    "equation": "Ctrl-E",
    "itemize": "Ctrl-I"
   },
   "labels_anchors": false,
   "latex_user_defs": false,
   "report_style_numbering": false,
   "user_envs_cfg": false
  }
 },
 "nbformat": 4,
 "nbformat_minor": 5
}
