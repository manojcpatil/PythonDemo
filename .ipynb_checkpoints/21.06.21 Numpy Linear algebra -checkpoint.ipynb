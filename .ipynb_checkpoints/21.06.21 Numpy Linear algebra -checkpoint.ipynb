{
 "cells": [
  {
   "cell_type": "code",
   "execution_count": 1,
   "id": "c10f496c",
   "metadata": {},
   "outputs": [],
   "source": [
    "#import numpy   # numpy.fun()\n",
    "import numpy as np # np.fun()\n",
    "#from numpy import * # fun()"
   ]
  },
  {
   "cell_type": "code",
   "execution_count": 2,
   "id": "4760b7a7",
   "metadata": {},
   "outputs": [],
   "source": [
    "#Matrix and vector products"
   ]
  },
  {
   "cell_type": "code",
   "execution_count": 3,
   "id": "2c6a9838",
   "metadata": {},
   "outputs": [
    {
     "name": "stdout",
     "output_type": "stream",
     "text": [
      "[[1 0]\n",
      " [0 1]]\n",
      "[[4 1]\n",
      " [2 2]]\n"
     ]
    }
   ],
   "source": [
    "a = np.array([[1, 0], [0, 1]]) # np.eye(2)\n",
    "b = np.array([[4, 1], \n",
    "              [2, 2]])\n",
    "print(a)\n",
    "print(b)"
   ]
  },
  {
   "cell_type": "code",
   "execution_count": null,
   "id": "05ebe93b",
   "metadata": {},
   "outputs": [],
   "source": [
    "a*b"
   ]
  },
  {
   "cell_type": "code",
   "execution_count": 4,
   "id": "a44676a1",
   "metadata": {},
   "outputs": [
    {
     "data": {
      "text/plain": [
       "array([[4, 1],\n",
       "       [2, 2]])"
      ]
     },
     "execution_count": 4,
     "metadata": {},
     "output_type": "execute_result"
    }
   ],
   "source": [
    "#Dot product of two arrays.\n",
    "np.dot(a, b)"
   ]
  },
  {
   "cell_type": "code",
   "execution_count": 8,
   "id": "9d59e67e",
   "metadata": {},
   "outputs": [
    {
     "name": "stdout",
     "output_type": "stream",
     "text": [
      "[[0.92967541 0.58976342]\n",
      " [0.26649777 0.44124215]]\n",
      "[[0.56330228 0.1747039  0.50731879]\n",
      " [0.46159748 0.33386143 0.39983338]]\n"
     ]
    },
    {
     "data": {
      "text/plain": [
       "array([[2.17374851, 1.12688012, 1.94912674],\n",
       "       [0.99966863, 0.5205384 , 0.90096614]])"
      ]
     },
     "execution_count": 8,
     "metadata": {},
     "output_type": "execute_result"
    }
   ],
   "source": [
    "#Compute the dot product of two or more arrays in a single function call, while automatically selecting the fastest evaluation order.\n",
    "A = np.random.random((2, 2))\n",
    "B = np.random.random((2, 3))\n",
    "C = np.random.random((3, 4))\n",
    "D = np.random.random((4, 3))\n",
    "# the actual dot multiplication\n",
    "print(A)\n",
    "print(B)\n",
    "np.linalg.multi_dot([A, B, C, D])\n",
    "# OR\n",
    "# np.dot(np.dot(np.dot(A, B), C), D)\n",
    "# OR\n",
    "# A.dot(B).dot(C).dot(D)"
   ]
  },
  {
   "cell_type": "code",
   "execution_count": 12,
   "id": "76586a61",
   "metadata": {},
   "outputs": [],
   "source": [
    "# np.dot(B,A) # shapes (2,3) and (2,2) not aligned: 3 (dim 1) != 2 (dim 0)"
   ]
  },
  {
   "cell_type": "code",
   "execution_count": 15,
   "id": "7b6a8b47",
   "metadata": {},
   "outputs": [
    {
     "data": {
      "text/plain": [
       "25"
      ]
     },
     "execution_count": 15,
     "metadata": {},
     "output_type": "execute_result"
    }
   ],
   "source": [
    "#Return the dot product of two vectors.\n",
    "a = np.array([[1,4],\n",
    "              [4,2]])\n",
    "b = np.array([[3, 2],\n",
    "              [2,3]])\n",
    "np.vdot(a, b)"
   ]
  },
  {
   "cell_type": "code",
   "execution_count": 7,
   "id": "a6cb1025",
   "metadata": {},
   "outputs": [
    {
     "data": {
      "text/plain": [
       "25"
      ]
     },
     "execution_count": 7,
     "metadata": {},
     "output_type": "execute_result"
    }
   ],
   "source": [
    "1*3+4*2+4*2+2*3"
   ]
  },
  {
   "cell_type": "code",
   "execution_count": 14,
   "id": "4a60c3d3",
   "metadata": {},
   "outputs": [
    {
     "data": {
      "text/plain": [
       "11"
      ]
     },
     "execution_count": 14,
     "metadata": {},
     "output_type": "execute_result"
    }
   ],
   "source": [
    "a=np.array([1,2])\n",
    "b=np.array([3,4])\n",
    "np.vdot(a,b)"
   ]
  },
  {
   "cell_type": "code",
   "execution_count": 17,
   "id": "80b5210a",
   "metadata": {},
   "outputs": [
    {
     "name": "stdout",
     "output_type": "stream",
     "text": [
      "[[1 4]\n",
      " [4 2]]\n",
      "[[3 2]\n",
      " [2 3]]\n"
     ]
    },
    {
     "data": {
      "text/plain": [
       "array([[11, 14],\n",
       "       [16, 14]])"
      ]
     },
     "execution_count": 17,
     "metadata": {},
     "output_type": "execute_result"
    }
   ],
   "source": [
    "#Inner product of two arrays. Matrix Multiplication\n",
    "print(a)\n",
    "print(b)\n",
    "np.inner(a, b)"
   ]
  },
  {
   "cell_type": "code",
   "execution_count": 21,
   "id": "5dbb7e49",
   "metadata": {},
   "outputs": [
    {
     "name": "stdout",
     "output_type": "stream",
     "text": [
      "[1 2]\n",
      "[[2 3]\n",
      " [5 2]]\n"
     ]
    },
    {
     "data": {
      "text/plain": [
       "array([[ 2,  3,  5,  2],\n",
       "       [ 4,  6, 10,  4]])"
      ]
     },
     "execution_count": 21,
     "metadata": {},
     "output_type": "execute_result"
    }
   ],
   "source": [
    "#Compute the outer product of two vectors.\n",
    "a=np.array([1,2])\n",
    "b=np.array([[2,3],[5,2]])\n",
    "print(a)\n",
    "print(b)\n",
    "np.outer(a, b)"
   ]
  },
  {
   "cell_type": "code",
   "execution_count": 23,
   "id": "5fe8f94b",
   "metadata": {},
   "outputs": [
    {
     "data": {
      "text/plain": [
       "array([[4, 1, 2],\n",
       "       [2, 2, 3]])"
      ]
     },
     "execution_count": 23,
     "metadata": {},
     "output_type": "execute_result"
    }
   ],
   "source": [
    "#Matrix product of two arrays.\n",
    "a = np.array([[1, 0],\n",
    "              [0, 1]])\n",
    "b = np.array([[4, 1, 2],\n",
    "              [2, 2, 3]])\n",
    "np.matmul(a, b)"
   ]
  },
  {
   "cell_type": "code",
   "execution_count": 26,
   "id": "1fae6579",
   "metadata": {},
   "outputs": [
    {
     "data": {
      "text/plain": [
       "array([[4, 1, 2],\n",
       "       [2, 2, 3]])"
      ]
     },
     "execution_count": 26,
     "metadata": {},
     "output_type": "execute_result"
    }
   ],
   "source": [
    "# The @ operator can be used as a shorthand for np.matmul on ndarrays.\n",
    "a@b"
   ]
  },
  {
   "cell_type": "code",
   "execution_count": 34,
   "id": "eaf63f87",
   "metadata": {},
   "outputs": [
    {
     "data": {
      "text/plain": [
       "array([[ 7, 10],\n",
       "       [15, 22]])"
      ]
     },
     "execution_count": 34,
     "metadata": {},
     "output_type": "execute_result"
    }
   ],
   "source": [
    "#Raise a square matrix to the (integer) power n.\n",
    "a=np.array([[1,2],[3,4]])\n",
    "np.linalg.matrix_power(a, 2)"
   ]
  },
  {
   "cell_type": "code",
   "execution_count": 28,
   "id": "c9893c74",
   "metadata": {},
   "outputs": [
    {
     "data": {
      "text/plain": [
       "array([[ 7, 10],\n",
       "       [15, 22]])"
      ]
     },
     "execution_count": 28,
     "metadata": {},
     "output_type": "execute_result"
    }
   ],
   "source": [
    "np.matmul(a,a)"
   ]
  },
  {
   "cell_type": "code",
   "execution_count": 31,
   "id": "1b5efaaa",
   "metadata": {},
   "outputs": [
    {
     "data": {
      "text/plain": [
       "array([[ 37,  54],\n",
       "       [ 81, 118]])"
      ]
     },
     "execution_count": 31,
     "metadata": {},
     "output_type": "execute_result"
    }
   ],
   "source": [
    "a@a@a"
   ]
  },
  {
   "cell_type": "code",
   "execution_count": 35,
   "id": "f009b2ea",
   "metadata": {},
   "outputs": [
    {
     "name": "stdout",
     "output_type": "stream",
     "text": [
      "[[1 2]\n",
      " [3 4]]\n",
      "[[4 1 2]\n",
      " [2 2 3]]\n"
     ]
    },
    {
     "data": {
      "text/plain": [
       "array([[ 4,  1,  2,  8,  2,  4],\n",
       "       [ 2,  2,  3,  4,  4,  6],\n",
       "       [12,  3,  6, 16,  4,  8],\n",
       "       [ 6,  6,  9,  8,  8, 12]])"
      ]
     },
     "execution_count": 35,
     "metadata": {},
     "output_type": "execute_result"
    }
   ],
   "source": [
    "#Kronecker product of two arrays.\n",
    "print(a)\n",
    "print(b)\n",
    "np.kron(a, b)"
   ]
  },
  {
   "cell_type": "code",
   "execution_count": null,
   "id": "6dd08817",
   "metadata": {},
   "outputs": [],
   "source": [
    "#Decompositions"
   ]
  },
  {
   "cell_type": "code",
   "execution_count": 36,
   "id": "5cedb283",
   "metadata": {},
   "outputs": [
    {
     "data": {
      "text/plain": [
       "array([[ 2.44948974,  0.        ,  0.        ],\n",
       "       [ 6.12372436,  4.18330013,  0.        ],\n",
       "       [22.45365598, 20.91650066,  6.11010093]])"
      ]
     },
     "execution_count": 36,
     "metadata": {},
     "output_type": "execute_result"
    }
   ],
   "source": [
    "#Cholesky decomposition.\n",
    "a=np.array([[6,15,55],\n",
    "            [15,55,225],\n",
    "            [55,225,979]])\n",
    "np.linalg.cholesky(a)"
   ]
  },
  {
   "cell_type": "code",
   "execution_count": 42,
   "id": "4f57c95a",
   "metadata": {},
   "outputs": [
    {
     "data": {
      "text/plain": [
       "3"
      ]
     },
     "execution_count": 42,
     "metadata": {},
     "output_type": "execute_result"
    }
   ],
   "source": [
    "np.linalg.matrix_rank(a)"
   ]
  },
  {
   "cell_type": "code",
   "execution_count": 46,
   "id": "4f2b9da6",
   "metadata": {},
   "outputs": [
    {
     "name": "stdout",
     "output_type": "stream",
     "text": [
      "[[-0.10466885 -0.83044761 -0.54717566]\n",
      " [-0.26167214 -0.50781394  0.82076348]\n",
      " [-0.9594645   0.229089   -0.1641527 ]]\n",
      "[[  -57.32364259  -231.84151249 -1003.94876177]\n",
      " [    0.            11.15854318    64.34537173]\n",
      " [    0.             0.            -6.12836734]]\n"
     ]
    }
   ],
   "source": [
    "#Compute the qr factorization of a matrix.\n",
    "Q,R=np.linalg.qr(a)\n",
    "print(Q)\n",
    "print(R)"
   ]
  },
  {
   "cell_type": "code",
   "execution_count": 51,
   "id": "b3324a16",
   "metadata": {},
   "outputs": [
    {
     "data": {
      "text/plain": [
       "1.0"
      ]
     },
     "execution_count": 51,
     "metadata": {},
     "output_type": "execute_result"
    }
   ],
   "source": [
    "np.linalg.norm(Q[0])"
   ]
  },
  {
   "cell_type": "code",
   "execution_count": 60,
   "id": "916a8ffc",
   "metadata": {},
   "outputs": [
    {
     "name": "stdout",
     "output_type": "stream",
     "text": [
      "Sig: [1.68481034e+01 1.06836951e+00 4.41842475e-16]\n"
     ]
    },
    {
     "data": {
      "text/plain": [
       "array([[1., 2., 3.],\n",
       "       [4., 5., 6.],\n",
       "       [7., 8., 9.]])"
      ]
     },
     "execution_count": 60,
     "metadata": {},
     "output_type": "execute_result"
    }
   ],
   "source": [
    "#Singular Value Decomposition.\n",
    "a=np.arange(9).reshape(3,3)+1\n",
    "U,Sig,VT=np.linalg.svd(a)\n",
    "print(\"Sig:\",Sig)\n",
    "U@np.diag(Sig)@VT"
   ]
  },
  {
   "cell_type": "code",
   "execution_count": 67,
   "id": "5b0fb0b9",
   "metadata": {},
   "outputs": [
    {
     "name": "stdout",
     "output_type": "stream",
     "text": [
      "E= [ 1.61168440e+01 -1.11684397e+00 -1.30367773e-15]\n",
      "V= [[-0.23197069 -0.78583024  0.40824829]\n",
      " [-0.52532209 -0.08675134 -0.81649658]\n",
      " [-0.8186735   0.61232756  0.40824829]]\n"
     ]
    }
   ],
   "source": [
    "#Matrix eigenvalues\n",
    "#Compute the eigenvalues and right eigenvectors of a square array.\n",
    "E,V=np.linalg.eig(a)\n",
    "print(\"E=\",E)\n",
    "print(\"V=\",V)"
   ]
  },
  {
   "cell_type": "code",
   "execution_count": null,
   "id": "66b2edd0",
   "metadata": {},
   "outputs": [],
   "source": [
    "#Return the eigenvalues and eigenvectors of a complex Hermitian (conjugate symmetric) or a real symmetric matrix.\n",
    "np.linalg.eigh(a[, UPLO])"
   ]
  },
  {
   "cell_type": "code",
   "execution_count": 64,
   "id": "d1fd1eae",
   "metadata": {},
   "outputs": [
    {
     "data": {
      "text/plain": [
       "array([ 1.61168440e+01, -1.11684397e+00, -1.30367773e-15])"
      ]
     },
     "execution_count": 64,
     "metadata": {},
     "output_type": "execute_result"
    }
   ],
   "source": [
    "#Compute the eigenvalues of a general matrix.\n",
    "np.linalg.eigvals(a)"
   ]
  },
  {
   "cell_type": "code",
   "execution_count": null,
   "id": "72c9cfe2",
   "metadata": {},
   "outputs": [],
   "source": [
    "#Compute the eigenvalues of a complex Hermitian or real symmetric matrix.\n",
    "np.linalg.eigvalsh(a[, UPLO])"
   ]
  },
  {
   "cell_type": "code",
   "execution_count": null,
   "id": "9063a305",
   "metadata": {},
   "outputs": [],
   "source": [
    "#Norms and other numbers"
   ]
  },
  {
   "cell_type": "code",
   "execution_count": null,
   "id": "c2e61cf8",
   "metadata": {},
   "outputs": [],
   "source": [
    "#Matrix or vector norm.\n",
    "np.linalg.norm(x[, ord, axis, keepdims])"
   ]
  },
  {
   "cell_type": "code",
   "execution_count": null,
   "id": "65ca790e",
   "metadata": {},
   "outputs": [],
   "source": [
    "#Compute the condition number of a matrix.\n",
    "np.linalg.cond(x[, p])"
   ]
  },
  {
   "cell_type": "code",
   "execution_count": 68,
   "id": "f077fae8",
   "metadata": {},
   "outputs": [
    {
     "data": {
      "text/plain": [
       "0.0"
      ]
     },
     "execution_count": 68,
     "metadata": {},
     "output_type": "execute_result"
    }
   ],
   "source": [
    "#Compute the determinant of an array.\n",
    "np.linalg.det(a)"
   ]
  },
  {
   "cell_type": "code",
   "execution_count": 69,
   "id": "1b19b8d8",
   "metadata": {},
   "outputs": [
    {
     "ename": "NameError",
     "evalue": "name 'linalg' is not defined",
     "output_type": "error",
     "traceback": [
      "\u001b[1;31m---------------------------------------------------------------------------\u001b[0m",
      "\u001b[1;31mNameError\u001b[0m                                 Traceback (most recent call last)",
      "\u001b[1;32m<ipython-input-69-e2eb98731285>\u001b[0m in \u001b[0;36m<module>\u001b[1;34m\u001b[0m\n\u001b[0;32m      1\u001b[0m \u001b[1;31m#Return matrix rank of array using SVD method\u001b[0m\u001b[1;33m\u001b[0m\u001b[1;33m\u001b[0m\u001b[1;33m\u001b[0m\u001b[0m\n\u001b[1;32m----> 2\u001b[1;33m \u001b[0mlinalg\u001b[0m\u001b[1;33m.\u001b[0m\u001b[0mmatrix_rank\u001b[0m\u001b[1;33m(\u001b[0m\u001b[0ma\u001b[0m\u001b[1;33m)\u001b[0m\u001b[1;33m\u001b[0m\u001b[1;33m\u001b[0m\u001b[0m\n\u001b[0m",
      "\u001b[1;31mNameError\u001b[0m: name 'linalg' is not defined"
     ]
    }
   ],
   "source": [
    "#Return matrix rank of array using SVD method\n",
    "np.linalg.matrix_rank(a)"
   ]
  },
  {
   "cell_type": "code",
   "execution_count": 72,
   "id": "fce8f420",
   "metadata": {},
   "outputs": [
    {
     "data": {
      "text/plain": [
       "(0.0, -inf)"
      ]
     },
     "execution_count": 72,
     "metadata": {},
     "output_type": "execute_result"
    }
   ],
   "source": [
    "#Compute the sign and (natural) logarithm of the determinant of an array.\n",
    "np.linalg.slogdet(a)"
   ]
  },
  {
   "cell_type": "code",
   "execution_count": 70,
   "id": "86e7246b",
   "metadata": {},
   "outputs": [
    {
     "data": {
      "text/plain": [
       "15"
      ]
     },
     "execution_count": 70,
     "metadata": {},
     "output_type": "execute_result"
    }
   ],
   "source": [
    "#Return the sum along diagonals of the array.\n",
    "np.trace(a)"
   ]
  },
  {
   "cell_type": "code",
   "execution_count": 1,
   "id": "c5320496",
   "metadata": {},
   "outputs": [],
   "source": [
    "#Solving equations and inverting matrices"
   ]
  },
  {
   "cell_type": "code",
   "execution_count": 2,
   "id": "13cc8d33",
   "metadata": {},
   "outputs": [
    {
     "ename": "NameError",
     "evalue": "name 'linalg' is not defined",
     "output_type": "error",
     "traceback": [
      "\u001b[1;31m---------------------------------------------------------------------------\u001b[0m",
      "\u001b[1;31mNameError\u001b[0m                                 Traceback (most recent call last)",
      "\u001b[1;32m<ipython-input-2-416f3143a11c>\u001b[0m in \u001b[0;36m<module>\u001b[1;34m\u001b[0m\n\u001b[0;32m      1\u001b[0m \u001b[1;31m#Solve a linear matrix equation, or system of linear scalar equations.\u001b[0m\u001b[1;33m\u001b[0m\u001b[1;33m\u001b[0m\u001b[1;33m\u001b[0m\u001b[0m\n\u001b[1;32m----> 2\u001b[1;33m \u001b[0mlinalg\u001b[0m\u001b[1;33m.\u001b[0m\u001b[0msolve\u001b[0m\u001b[1;33m(\u001b[0m\u001b[0ma\u001b[0m\u001b[1;33m,\u001b[0m \u001b[0mb\u001b[0m\u001b[1;33m)\u001b[0m\u001b[1;33m\u001b[0m\u001b[1;33m\u001b[0m\u001b[0m\n\u001b[0m",
      "\u001b[1;31mNameError\u001b[0m: name 'linalg' is not defined"
     ]
    }
   ],
   "source": [
    "#Solve a linear matrix equation, or system of linear scalar equations.\n",
    "linalg.solve(a, b)"
   ]
  },
  {
   "cell_type": "code",
   "execution_count": null,
   "id": "432a5747",
   "metadata": {},
   "outputs": [],
   "source": [
    "#Solve the tensor equation a x = b for x.\n",
    "linalg.tensorsolve(a, b[, axes])"
   ]
  },
  {
   "cell_type": "code",
   "execution_count": null,
   "id": "6348e73b",
   "metadata": {},
   "outputs": [],
   "source": [
    "#Return the least-squares solution to a linear matrix equation.\n",
    "linalg.lstsq(a, b[, rcond])"
   ]
  },
  {
   "cell_type": "code",
   "execution_count": null,
   "id": "a133d536",
   "metadata": {},
   "outputs": [],
   "source": [
    "#Compute the (multiplicative) inverse of a matrix.\n",
    "linalg.inv(a)"
   ]
  },
  {
   "cell_type": "code",
   "execution_count": null,
   "id": "d75d9c92",
   "metadata": {},
   "outputs": [],
   "source": [
    "#Compute the (Moore-Penrose) pseudo-inverse of a matrix.\n",
    "linalg.pinv(a[, rcond, hermitian])"
   ]
  },
  {
   "cell_type": "code",
   "execution_count": null,
   "id": "1ab99ae4",
   "metadata": {},
   "outputs": [],
   "source": [
    "#Compute the ‘inverse’ of an N-dimensional array.\n",
    "linalg.tensorinv(a[, ind])"
   ]
  },
  {
   "cell_type": "code",
   "execution_count": null,
   "id": "2dfbbfaa",
   "metadata": {},
   "outputs": [],
   "source": [
    "#Compute tensor dot product along specified axes.\n",
    "tensordot(a, b[, axes])"
   ]
  },
  {
   "cell_type": "code",
   "execution_count": null,
   "id": "ed4cff3a",
   "metadata": {},
   "outputs": [],
   "source": [
    "#Evaluates the Einstein summation convention on the operands.\n",
    "einsum(subscripts, *operands[, out, dtype, …])"
   ]
  },
  {
   "cell_type": "code",
   "execution_count": null,
   "id": "8ee002b5",
   "metadata": {},
   "outputs": [],
   "source": [
    "#Evaluates the lowest cost contraction order for an einsum expression by considering the creation of intermediate arrays.\n",
    "einsum_path(subscripts, *operands[, optimize])"
   ]
  }
 ],
 "metadata": {
  "kernelspec": {
   "display_name": "Python 3",
   "language": "python",
   "name": "python3"
  },
  "language_info": {
   "codemirror_mode": {
    "name": "ipython",
    "version": 3
   },
   "file_extension": ".py",
   "mimetype": "text/x-python",
   "name": "python",
   "nbconvert_exporter": "python",
   "pygments_lexer": "ipython3",
   "version": "3.9.5"
  }
 },
 "nbformat": 4,
 "nbformat_minor": 5
}
