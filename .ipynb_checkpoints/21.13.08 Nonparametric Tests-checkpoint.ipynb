{
 "cells": [
  {
   "cell_type": "code",
   "execution_count": 1,
   "id": "4963aa3e",
   "metadata": {},
   "outputs": [],
   "source": [
    "import scipy.stats as ss # Median_test, mannwhitneyu, chi2_contingency, spearmanr,friedmanchisquare, kruskal, ranksums, kstest, ks_2samp\n",
    "from statsmodels.stats.descriptivestats import sign_test # Sign Tests\n",
    "from statsmodels.sandbox.stats.runs import runstest_1samp # Run test for Randomness\n",
    "from statsmodels.sandbox.stats.runs import runstest_2samp # Run test for two samples same freq\n",
    "alpha=0.05"
   ]
  },
  {
   "cell_type": "markdown",
   "id": "c278b8a5",
   "metadata": {},
   "source": [
    "# Sign Test"
   ]
  },
  {
   "cell_type": "code",
   "execution_count": 7,
   "id": "d2ce7c36",
   "metadata": {},
   "outputs": [
    {
     "name": "stdout",
     "output_type": "stream",
     "text": [
      "M = 2.000, pval = 0.424\n",
      "Conclusion - Fail to reject Ho: Therefore The median height of the school students is 135 cms\n"
     ]
    }
   ],
   "source": [
    "Ho=\"The median height of the school students is 135 cms\"\n",
    "H1=\"The median height of the school students is not 135 cms\"\n",
    "\n",
    "sample1=[132,134,138,139,142,132,140,136,135,140,139,132,131,136,138]\n",
    "med,pval=sign_test(sample1,mu0=135)\n",
    "print('M = %0.3f, pval = %.3f'%(med,pval)) # M = ((N+)-(N-))/2\n",
    "\n",
    "print('Conclusion - ',end='')\n",
    "print('Reject Ho: Therefore',H1) if pval<alpha else print('Fail to reject Ho: Therefore',Ho)"
   ]
  },
  {
   "cell_type": "markdown",
   "id": "52b807e1",
   "metadata": {},
   "source": [
    "# Median Test"
   ]
  },
  {
   "cell_type": "markdown",
   "id": "7c581228",
   "metadata": {},
   "source": [
    "The following data give the lifetime of bulbs of two different brands. A sample of 7\n",
    "bulbs of brand-I and a sample of 8 bulbs of brand-II is selected.\n",
    "Brand-I(X): 80 100 90 110 125 130 70\n",
    "Brand-II(Y): 100 120 80 140 130 160 115 120\n",
    "Test whether the median lifetime of two brands of bulbs are equal or not at 5% level of significance."
   ]
  },
  {
   "cell_type": "code",
   "execution_count": 9,
   "id": "0c540e5d",
   "metadata": {},
   "outputs": [
    {
     "name": "stdout",
     "output_type": "stream",
     "text": [
      "Statistic = 1.143, p-value = 0.285\n",
      "Grand Median =  115.0\n",
      "Contingency table: \n",
      " [[2 5]\n",
      " [5 2]]\n",
      "Conclusion - \n",
      "Fail to reject Ho: Therefore the median lifetimes of two brands of bulbs are equal.\n"
     ]
    }
   ],
   "source": [
    "H0=\"the median lifetimes of two brands of bulbs are equal.\"\n",
    "H1=\"the median lifetimes of two brands of bulbs are not equal.\"\n",
    "\n",
    "X=[80,100,90,110,125,130,70]\n",
    "Y=[100,120,80,140,130,160,115,120]\n",
    "\n",
    "stat, pval, median, cont_tab=ss.median_test(X,Y,ties='ignore')\n",
    "\n",
    "print('Statistic = %0.3f, p-value = %.3f'%(stat,pval))\n",
    "\n",
    "print('Grand Median = ',median)\n",
    "print('Contingency table: \\n',cont_tab)\n",
    "print('Conclusion - ',end='\\n')\n",
    "print(\"Reject Ho: Therefore\",H1) if pval<alpha else print(\"Fail to reject Ho: Therefore\",H0)"
   ]
  },
  {
   "cell_type": "code",
   "execution_count": null,
   "id": "567f23a3",
   "metadata": {},
   "outputs": [],
   "source": []
  },
  {
   "cell_type": "code",
   "execution_count": 12,
   "id": "c98b911c",
   "metadata": {},
   "outputs": [
    {
     "name": "stdout",
     "output_type": "stream",
     "text": [
      "Chi2-Statistic = 0.533, degrees of freedom = 1,p-value = 0.465\n",
      "Expected Contingency table: \n",
      " [[7.5 7.5]\n",
      " [7.5 7.5]]\n",
      "Conclusion - Fail to reject Ho: Therefore the populations from which, the two samples drawn have the same frequency distribution.\n"
     ]
    }
   ],
   "source": [
    "H0=\"the populations from which, the two samples drawn have the same frequency distribution.\"\n",
    "H1=\"the populations from which, the two samples drawn have the different frequency distribution.\"\n",
    "tab=[[9,6],[6,9]]\n",
    "chi2stat,pval,df,exp_tab=ss.chi2_contingency(tab)\n",
    "print('Chi2-Statistic = %0.3f, degrees of freedom = %d,p-value = %.3f'%(chi2stat,df,pval))\n",
    "print('Expected Contingency table: \\n',exp_tab)\n",
    "print('Conclusion - ',end='')\n",
    "print(\"Reject Ho: Therefore\",H1) if pval<alpha else print(\"Fail to reject Ho: Therefore\",H0)"
   ]
  },
  {
   "cell_type": "code",
   "execution_count": null,
   "id": "d38107ae",
   "metadata": {},
   "outputs": [],
   "source": []
  },
  {
   "cell_type": "code",
   "execution_count": 13,
   "id": "abf6d3e5",
   "metadata": {},
   "outputs": [
    {
     "name": "stdout",
     "output_type": "stream",
     "text": [
      "Chi2-Statistic = 0.203, degrees of freedom = 4,p-value = 0.995\n",
      "Expected Contingency table: \n",
      " [[20.91346154 30.20833333 25.56089744 39.50320513 28.81410256]\n",
      " [24.08653846 34.79166667 29.43910256 45.49679487 33.18589744]]\n",
      "Conclusion - Fail to reject Ho: therefore the populations from which, the five samples drawn have the same frequency distribution.\n"
     ]
    }
   ],
   "source": [
    "H0=\"the populations from which, the five samples drawn have the same frequency distribution.\"\n",
    "H1=\"the populations from which, the five samples drawn have the different frequency distribution.\"\n",
    "\n",
    "tab=[[20,30,25,40,30],[25,35,30,45,32]]\n",
    "chi2stat,pval,df,exp_tab=ss.chi2_contingency(tab)\n",
    "\n",
    "print('Chi2-Statistic = %0.3f, degrees of freedom = %d,p-value = %.3f'%(chi2stat,df,pval))\n",
    "print('Expected Contingency table: \\n',exp_tab)\n",
    "print('Conclusion - ',end='')\n",
    "print(\"Reject Ho: therefore\",H1) if pval<alpha else print(\"Fail to reject Ho: therefore\",H0)"
   ]
  },
  {
   "cell_type": "code",
   "execution_count": null,
   "id": "5e17876d",
   "metadata": {},
   "outputs": [],
   "source": []
  },
  {
   "cell_type": "code",
   "execution_count": 14,
   "id": "a95deb00",
   "metadata": {},
   "outputs": [
    {
     "name": "stdout",
     "output_type": "stream",
     "text": [
      "Z Statistic = 0.015, p-value = 0.988\n",
      "Conclusion - Fail to reject Ho: therefore the households of the two villages are same on spending daily milk expenses.\n"
     ]
    }
   ],
   "source": [
    "H0=\"the households of the two villages are same on spending daily milk expenses.\"\n",
    "H1=\"the households of the two villages are not same on spending daily milk expenses.\"\n",
    "\n",
    "sample1 = [11,15,17,19,25,27,31,33]\n",
    "sample2 = [12,16,20,22,28,30,36,38,42]\n",
    "z_stat,pval= runstest_2samp(sample1,sample2)\n",
    "\n",
    "print('Z Statistic = %0.3f, p-value = %.3f'%(z_stat,pval))\n",
    "print('Conclusion - ',end='')\n",
    "print(\"Reject Ho: therefore\",H1) if pval<alpha else print(\"Fail to reject Ho: therefore\",H0)"
   ]
  },
  {
   "cell_type": "code",
   "execution_count": null,
   "id": "977cb2bf",
   "metadata": {},
   "outputs": [],
   "source": []
  },
  {
   "cell_type": "code",
   "execution_count": 15,
   "id": "6149df94",
   "metadata": {},
   "outputs": [
    {
     "name": "stdout",
     "output_type": "stream",
     "text": [
      "KS Statistic = 2.155, p-value = 0.341\n",
      "Conclusion - Fail to reject Ho: therefore the mean weight of the children from the three populations is same.\n"
     ]
    }
   ],
   "source": [
    "H0=\"the mean weight of the children from the three populations is same.\"\n",
    "H1=\"the mean weight of the children from the three populations is not same.\"\n",
    "\n",
    "Sample1=[11.7,11.9,16.1,17.5,20.5,25.1,30.5,32.1,82.5]\n",
    "Sample2=[19.6,21.8,25.2,33.2,33.2,34.1]\n",
    "Sample3=[18.4,22.9,25.1,29.7,33.5]\n",
    "KS_stat,pval= ss.kruskal(Sample1,Sample2,Sample3)\n",
    "\n",
    "print('KS Statistic = %0.3f, p-value = %.3f'%(KS_stat,pval))\n",
    "print('Conclusion - ',end='')\n",
    "print(\"Reject Ho: therefore\",H1) if pval<alpha else print(\"Fail to reject Ho: therefore\",H0)"
   ]
  },
  {
   "cell_type": "code",
   "execution_count": null,
   "id": "77892ecb",
   "metadata": {},
   "outputs": [],
   "source": []
  },
  {
   "cell_type": "code",
   "execution_count": 16,
   "id": "f8fabb4a",
   "metadata": {},
   "outputs": [
    {
     "name": "stdout",
     "output_type": "stream",
     "text": [
      "RS Statistic = -1.061, p-value = 0.288\n",
      "Conclusion - Fail to reject Ho: therefore the mean weight of the adults from the two cities is same.\n"
     ]
    }
   ],
   "source": [
    "H0=\"the mean weight of the adults from the two cities is same.\"\n",
    "H1=\"the mean weight of the adults from the two cities is not same.\"\n",
    "X=[50.5,37.5,49.8,56.0,42.0,56.0,50.0,54.0,48.0]\n",
    "Y=[57,52,51,44.2,55,62,59,45.2,53.5,44.4]\n",
    "RS_stat,pval= ss.ranksums(X,Y)\n",
    "print('RS Statistic = %0.3f, p-value = %.3f'%(RS_stat,pval))\n",
    "print('Conclusion - ',end='')\n",
    "print(\"Reject Ho: therefore\",H1) if pval<alpha else print(\"Fail to reject Ho: therefore\",H0)"
   ]
  },
  {
   "cell_type": "code",
   "execution_count": null,
   "id": "b673fb65",
   "metadata": {},
   "outputs": [],
   "source": []
  },
  {
   "cell_type": "code",
   "execution_count": 17,
   "id": "a4a572e9",
   "metadata": {},
   "outputs": [
    {
     "name": "stdout",
     "output_type": "stream",
     "text": [
      "KS Statistic = 0.145, p-value = 0.745\n",
      "Conclusion - Fail to reject Ho: therefore the given sample is drawn from a standard normal distribution.\n"
     ]
    }
   ],
   "source": [
    "H0=\"the given sample is drawn from a standard normal distribution.\"\n",
    "H1=\"the given sample is not drawn from a standard normal distribution.\"\n",
    "x=[2.240, -.400, -1.152, .980, .361, -.123, -.625, .682, 2.323, -1.053,-.870, -.164, -.34, -.041, 1.405, 1.187, .323, .270, -.128, .101]\n",
    "KS_stat,pval= ss.kstest(x,'norm')\n",
    "print('KS Statistic = %0.3f, p-value = %.3f'%(KS_stat,pval))\n",
    "print('Conclusion - ',end='')\n",
    "print(\"Reject Ho: therefore\",H1) if pval<alpha else print(\"Fail to reject Ho: therefore\",H0)"
   ]
  },
  {
   "cell_type": "code",
   "execution_count": null,
   "id": "4d5ac6aa",
   "metadata": {},
   "outputs": [],
   "source": []
  },
  {
   "cell_type": "code",
   "execution_count": 19,
   "id": "cf567c00",
   "metadata": {},
   "outputs": [
    {
     "name": "stdout",
     "output_type": "stream",
     "text": [
      "KS Statistic = 0.464, p-value = 0.313\n",
      "Conclusion - Fail to reject Ho: therefore the average lifetimes of two brands of bulbs are equal.\n"
     ]
    }
   ],
   "source": [
    "H0=\"the average lifetimes of two brands of bulbs are equal.\"\n",
    "H1=\"the average lifetimes of two brands of bulbs are not equal.\"\n",
    "Brand1=[80,100,90,110,125,130,70]\n",
    "Brand2=[100,120,80,140,130,160,115,120]\n",
    "KS_stat,pval= ss.ks_2samp(Brand1,Brand2)\n",
    "print('KS Statistic = %0.3f, p-value = %.3f'%(KS_stat,pval))\n",
    "print('Conclusion - ',end='')\n",
    "print(\"Reject Ho: therefore\",H1) if pval<alpha else print(\"Fail to reject Ho: therefore\",H0)"
   ]
  },
  {
   "cell_type": "code",
   "execution_count": null,
   "id": "af8c0ff2",
   "metadata": {},
   "outputs": [],
   "source": []
  },
  {
   "cell_type": "code",
   "execution_count": 20,
   "id": "3ad8e802",
   "metadata": {},
   "outputs": [
    {
     "name": "stdout",
     "output_type": "stream",
     "text": [
      "Sperman Correlation Coeffitient = 0.855, p-value = 0.002\n",
      "Conclusion - Reject Ho: therefore there exists correlation between the two judges in the competition.\n"
     ]
    }
   ],
   "source": [
    "H0=\"there is no correlation between the two judges in the competition.\"\n",
    "H1=\"there exists correlation between the two judges in the competition.\"\n",
    "\n",
    "Judge1=[2,4,7,8,3,1,5,9,10,6]\n",
    "Judge2=[3,5,6,7,2,1,4,8,9,10]\n",
    "SperCorr,pval=ss.spearmanr(Judge1,Judge2)\n",
    "\n",
    "print('Sperman Correlation Coeffitient = %0.3f, p-value = %.3f'%(SperCorr,pval))\n",
    "print('Conclusion - ',end='')\n",
    "print(\"Reject Ho: therefore\",H1) if pval<alpha else print(\"Fail to reject Ho: therefore\",H0)"
   ]
  },
  {
   "cell_type": "markdown",
   "id": "406aefec",
   "metadata": {},
   "source": [
    "The following data denotes the length of iron rods (in cms.) of a sample of 24 units\n",
    "manufactured by an industry. Test whether the sample drawn is random at 10% level of significance.\n",
    "21.02 20.08 20.05 19.70 19.13 17.09 20.09 19.40 20.56 20.97 20.17 21.35 19.64 20.82 21.26 20.75\n",
    "20.74 21.59 20.75 21.01 19.09 18.73 18.45 19.80"
   ]
  },
  {
   "cell_type": "code",
   "execution_count": 21,
   "id": "d0250003",
   "metadata": {},
   "outputs": [
    {
     "name": "stdout",
     "output_type": "stream",
     "text": [
      "Z Statistic = -2.713, p-value = 0.007\n",
      "Conclusion - Reject Ho: therefore the sample observations obtained is not at random.\n"
     ]
    }
   ],
   "source": [
    "H0=\"the sample observations obtained is random.\"\n",
    "H1=\"the sample observations obtained is not at random.\"\n",
    "x=[21.02,20.08,20.05,19.70,19.13,17.09,20.09,19.40,20.56,20.97,20.17,21.35,19.64,20.82,21.26,20.75,20.74,21.59,20.75,21.01,19.09,18.73,18.45,19.80]\n",
    "z_stat,pval= runstest_1samp(x)\n",
    "print('Z Statistic = %0.3f, p-value = %.3f'%(z_stat,pval))\n",
    "print('Conclusion - ',end='')\n",
    "print(\"Reject Ho: therefore\",H1) if pval<alpha else print(\"Fail to reject Ho: therefore\",H0)"
   ]
  },
  {
   "cell_type": "markdown",
   "id": "2c1f4416",
   "metadata": {},
   "source": [
    "Four experts were appointed to conduct an interview board. There are fifteen candidates attended the interview. The following are the points given to the candidates by the\n",
    "experts. Test whether the points given by the experts to the candidates are significant at 5%\n",
    "level of significance\n",
    "\n",
    "| Candidate | C1 | C2 | C3 | C4 |\n",
    "|:---------:|:--:|:--:|:--:|:--:|\n",
    "| 1         | 8 | 8 | 10 | 10 |\n",
    "| 2 | 7 | 9 | 9 | 9 |\n",
    "| 3 | 10 | 8 | 8 | 10 |\n",
    "| 4 | 8 | 8 | 10 | 10 |\n",
    "| 5 | 9 | 9 | 9 | 10 |\n",
    "| 6 | 9 | 9 | 10 | 9 |\n",
    "| 7 | 8 | 9 | 8 | 9 |\n",
    "| 8 | 8 | 8 | 8 | 8 |\n",
    "| 9 | 9 | 9 | 10 | 9 |\n",
    "| 10 | 9 | 9 | 9 | 9 |\n",
    "| 11 | 9 | 10 | 9 | 10 |\n",
    "| 12 | 7 | 9 | 9 | 9 |\n",
    "| 13 | 10 | 10 | 10 | 10 |\n",
    "| 14 | 9 | 9 | 9 | 10 |\n",
    "| 15 | 7 | 10 | 10 | 10 |\n"
   ]
  },
  {
   "cell_type": "code",
   "execution_count": 22,
   "id": "b93851a4",
   "metadata": {},
   "outputs": [
    {
     "name": "stdout",
     "output_type": "stream",
     "text": [
      "Friedman Statistic = 1.143, p-value = 0.006\n",
      "Conclusion - Reject Ho: therefore The points given by the experts to the candidates are significant.\n"
     ]
    }
   ],
   "source": [
    "H0=\"The points given by the experts to the candidates are not significant.\"\n",
    "H1=\"The points given by the experts to the candidates are significant.\"\n",
    "\n",
    "candidate=range(1,16,1)\n",
    "c1=[8,7,10,8,9,9,8,8,9,9,9,7,10,9,7]\n",
    "c2=[8,9,8,8,9,9,9,8,9,9,10,9,10,9,10]\n",
    "c3=[10,9,8,10,9,10,8,8,10,9,9,9,10,9,10]\n",
    "c4=[10,9,10,10,10,9,9,8,9,9,10,9,10,10,10]\n",
    "stats, pval=ss.friedmanchisquare(c1,c2,c3,c4)\n",
    "\n",
    "print('Friedman Statistic = %0.3f, p-value = %.3f'%(stat,pval))\n",
    "print('Conclusion - ',end='')\n",
    "print(\"Reject Ho: therefore\",H1) if pval<alpha else print(\"Fail to reject Ho: therefore\",H0)"
   ]
  }
 ],
 "metadata": {
  "kernelspec": {
   "display_name": "Python 3",
   "language": "python",
   "name": "python3"
  },
  "language_info": {
   "codemirror_mode": {
    "name": "ipython",
    "version": 3
   },
   "file_extension": ".py",
   "mimetype": "text/x-python",
   "name": "python",
   "nbconvert_exporter": "python",
   "pygments_lexer": "ipython3",
   "version": "3.9.5"
  },
  "latex_envs": {
   "LaTeX_envs_menu_present": true,
   "autoclose": false,
   "autocomplete": true,
   "bibliofile": "biblio.bib",
   "cite_by": "apalike",
   "current_citInitial": 1,
   "eqLabelWithNumbers": true,
   "eqNumInitial": 1,
   "hotkeys": {
    "equation": "Ctrl-E",
    "itemize": "Ctrl-I"
   },
   "labels_anchors": false,
   "latex_user_defs": false,
   "report_style_numbering": false,
   "user_envs_cfg": false
  }
 },
 "nbformat": 4,
 "nbformat_minor": 5
}
