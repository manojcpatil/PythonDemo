{
 "cells": [
  {
   "cell_type": "code",
   "execution_count": 1,
   "id": "902b3c9d",
   "metadata": {},
   "outputs": [],
   "source": [
    "from numpy.random import *\n",
    "import numpy as np\n",
    "import pandas as pd"
   ]
  },
  {
   "cell_type": "markdown",
   "id": "2db95c7e",
   "metadata": {},
   "source": [
    "# Simple Random Data"
   ]
  },
  {
   "cell_type": "code",
   "execution_count": 2,
   "id": "bce0e694",
   "metadata": {},
   "outputs": [
    {
     "data": {
      "text/plain": [
       "array([[[0.89401362, 0.13870431, 0.57759927],\n",
       "        [0.27210427, 0.04492885, 0.49523207]],\n",
       "\n",
       "       [[0.7633719 , 0.36273039, 0.8358875 ],\n",
       "        [0.59896658, 0.936444  , 0.47513048]],\n",
       "\n",
       "       [[0.41698187, 0.76035984, 0.99666261],\n",
       "        [0.96975632, 0.49382611, 0.33035344]],\n",
       "\n",
       "       [[0.14276827, 0.9944661 , 0.47426501],\n",
       "        [0.37305316, 0.12886185, 0.53475504]],\n",
       "\n",
       "       [[0.1526561 , 0.17064921, 0.11203948],\n",
       "        [0.59263451, 0.52492357, 0.54315559]]])"
      ]
     },
     "execution_count": 2,
     "metadata": {},
     "output_type": "execute_result"
    }
   ],
   "source": [
    "#Random values in a given shape.\n",
    "\n",
    "#rand(d0, d1, …, dn)\n",
    "rand(5,2,3)"
   ]
  },
  {
   "cell_type": "code",
   "execution_count": 3,
   "id": "3e1cfae3",
   "metadata": {},
   "outputs": [
    {
     "data": {
      "text/plain": [
       "array([ 1.30502971, -0.00733273, -1.08267421,  0.01150463,  1.09725432])"
      ]
     },
     "execution_count": 3,
     "metadata": {},
     "output_type": "execute_result"
    }
   ],
   "source": [
    "#Return a sample (or samples) from the “Standard Normal” distribution.\n",
    "\n",
    "#randn(d0, d1, …, dn)\n",
    "randn(5)"
   ]
  },
  {
   "cell_type": "code",
   "execution_count": 4,
   "id": "238bc337",
   "metadata": {},
   "outputs": [
    {
     "data": {
      "text/plain": [
       "array([5, 8, 7, 8, 6, 7, 6, 5, 6, 8])"
      ]
     },
     "execution_count": 4,
     "metadata": {},
     "output_type": "execute_result"
    }
   ],
   "source": [
    "#Return random integers from low (inclusive) to high (exclusive).\n",
    "\n",
    "#randint(low[, high, size, dtype])\n",
    "randint(5,10,10)"
   ]
  },
  {
   "cell_type": "code",
   "execution_count": 6,
   "id": "cecce4ac",
   "metadata": {},
   "outputs": [
    {
     "data": {
      "text/plain": [
       "array([[8, 5, 6],\n",
       "       [9, 8, 9],\n",
       "       [8, 5, 4]])"
      ]
     },
     "execution_count": 6,
     "metadata": {},
     "output_type": "execute_result"
    }
   ],
   "source": [
    "randint(1,10,(3,3))"
   ]
  },
  {
   "cell_type": "code",
   "execution_count": 5,
   "id": "b46b48db",
   "metadata": {},
   "outputs": [
    {
     "data": {
      "text/plain": [
       "array([8.68856195e-01, 2.89619833e-01, 5.56701917e-01, 9.95233863e-01,\n",
       "       9.63072938e-04])"
      ]
     },
     "execution_count": 5,
     "metadata": {},
     "output_type": "execute_result"
    }
   ],
   "source": [
    "#Return random floats in the half-open interval [0.0, 1.0).\n",
    "\n",
    "random_sample(5)"
   ]
  },
  {
   "cell_type": "code",
   "execution_count": 6,
   "id": "7da5b2e5",
   "metadata": {},
   "outputs": [],
   "source": [
    "#Return random floats in the half-open interval [0.0, 1.0).\n",
    "\n",
    "#random([size])"
   ]
  },
  {
   "cell_type": "code",
   "execution_count": 7,
   "id": "75848dc9",
   "metadata": {},
   "outputs": [],
   "source": [
    "#Return random floats in the half-open interval [0.0, 1.0).\n",
    "\n",
    "#ranf([size])"
   ]
  },
  {
   "cell_type": "code",
   "execution_count": 11,
   "id": "3918ded8",
   "metadata": {},
   "outputs": [
    {
     "data": {
      "text/plain": [
       "array([[0.89601829, 0.4322702 ],\n",
       "       [0.44674062, 0.43230722],\n",
       "       [0.29365777, 0.25544092],\n",
       "       [0.03143182, 0.25052506],\n",
       "       [0.57577209, 0.58362298]])"
      ]
     },
     "execution_count": 11,
     "metadata": {},
     "output_type": "execute_result"
    }
   ],
   "source": [
    "ranf([5,2])"
   ]
  },
  {
   "cell_type": "code",
   "execution_count": 8,
   "id": "162a9572",
   "metadata": {},
   "outputs": [],
   "source": [
    "#Return random floats in the half-open interval [0.0, 1.0).\n",
    "\n",
    "#sample([size])"
   ]
  },
  {
   "cell_type": "code",
   "execution_count": 18,
   "id": "95fed24a",
   "metadata": {},
   "outputs": [
    {
     "name": "stdout",
     "output_type": "stream",
     "text": [
      "a: [0, 1, 2, 3, 4]\n"
     ]
    },
    {
     "data": {
      "text/plain": [
       "[0, 2, 4, 3, 4, 3, 3, 1, 4, 0]"
      ]
     },
     "execution_count": 18,
     "metadata": {},
     "output_type": "execute_result"
    }
   ],
   "source": [
    "#Generates a random sample from a given 1-D array\n",
    "\n",
    "#choice(a[, size, replace, p])\n",
    "\n",
    "a=list(range(5))\n",
    "print(\"a:\",a)\n",
    "list(choice(a,10,replace=True,p=[0.1,0.1,0.2,0.3,0.3]))"
   ]
  },
  {
   "cell_type": "markdown",
   "id": "3b05ff28",
   "metadata": {},
   "source": [
    "# Permutations"
   ]
  },
  {
   "cell_type": "code",
   "execution_count": 10,
   "id": "3f423ad1",
   "metadata": {},
   "outputs": [
    {
     "name": "stdout",
     "output_type": "stream",
     "text": [
      "x: [1 2 3 4 5 6 7 8 9]\n",
      "After Shuffling x: [6 9 5 7 8 1 3 2 4]\n"
     ]
    }
   ],
   "source": [
    "#Modify a sequence in-place by shuffling its contents.\n",
    "x=np.arange(1,10)\n",
    "#shuffle(x)\n",
    "\n",
    "\n",
    "print(\"x:\",x)\n",
    "shuffle(x)\n",
    "print(\"After Shuffling x:\",x)"
   ]
  },
  {
   "cell_type": "code",
   "execution_count": 19,
   "id": "08c3cfce",
   "metadata": {},
   "outputs": [
    {
     "name": "stdout",
     "output_type": "stream",
     "text": [
      "[2 4 1 0 3]\n",
      "[0 1 2 3 4]\n"
     ]
    }
   ],
   "source": [
    "#Randomly permute a sequence, or return a permuted range.\n",
    "\n",
    "#permutation(x)\n",
    "x=np.arange(5)\n",
    "print(permutation(x))\n",
    "print(x)"
   ]
  },
  {
   "cell_type": "markdown",
   "id": "5eb208ed",
   "metadata": {},
   "source": [
    "# Distributions"
   ]
  },
  {
   "cell_type": "code",
   "execution_count": 12,
   "id": "58118c39",
   "metadata": {},
   "outputs": [
    {
     "data": {
      "text/plain": [
       "array([0.02130118, 0.16048318, 0.24091809])"
      ]
     },
     "execution_count": 12,
     "metadata": {},
     "output_type": "execute_result"
    }
   ],
   "source": [
    "#Draw samples from a Beta distribution.\n",
    "\n",
    "#beta(a, b[, size])\n",
    "beta(1,10,3)"
   ]
  },
  {
   "cell_type": "code",
   "execution_count": 22,
   "id": "57404434",
   "metadata": {},
   "outputs": [
    {
     "data": {
      "text/plain": [
       "5.775"
      ]
     },
     "execution_count": 22,
     "metadata": {},
     "output_type": "execute_result"
    }
   ],
   "source": [
    "#Draw samples from a binomial distribution.\n",
    "\n",
    "#binomial(n, p[, size])\n",
    "\n",
    "np.mean(binomial(10,0.6,40))"
   ]
  },
  {
   "cell_type": "code",
   "execution_count": 14,
   "id": "473ef80e",
   "metadata": {},
   "outputs": [
    {
     "data": {
      "text/plain": [
       "array([0.38211706, 1.46609414, 2.28332675, 1.52272503, 3.61303628,\n",
       "       3.53217815, 3.11585751, 0.68520334, 1.43670167, 1.81882934])"
      ]
     },
     "execution_count": 14,
     "metadata": {},
     "output_type": "execute_result"
    }
   ],
   "source": [
    "#Draw samples from a chi-square distribution.\n",
    "\n",
    "#chisquare(df[, size])\n",
    "chisquare(2,10)"
   ]
  },
  {
   "cell_type": "code",
   "execution_count": 26,
   "id": "d8323cb4",
   "metadata": {},
   "outputs": [],
   "source": [
    "#Draw samples from an exponential distribution.\n",
    "\n",
    "#exponential(mean, size)"
   ]
  },
  {
   "cell_type": "code",
   "execution_count": 27,
   "id": "b1f5aafe",
   "metadata": {},
   "outputs": [
    {
     "data": {
      "text/plain": [
       "1.886983366233215"
      ]
     },
     "execution_count": 27,
     "metadata": {},
     "output_type": "execute_result"
    }
   ],
   "source": [
    "np.mean(exponential(2,100))\n"
   ]
  },
  {
   "cell_type": "code",
   "execution_count": 16,
   "id": "43ae36f8",
   "metadata": {},
   "outputs": [],
   "source": [
    "#Draw samples from an F distribution.\n",
    "\n",
    "#f(dfnum, dfden[, size])"
   ]
  },
  {
   "cell_type": "code",
   "execution_count": 30,
   "id": "4f40256e",
   "metadata": {},
   "outputs": [],
   "source": [
    "#Draw samples from a Gamma distribution.\n",
    "\n",
    "#gamma(shape[, scale, size])\n",
    "#gamma(alpha,1/lamda)"
   ]
  },
  {
   "cell_type": "code",
   "execution_count": 29,
   "id": "ceac9e18",
   "metadata": {},
   "outputs": [
    {
     "data": {
      "text/plain": [
       "6.239932414824166"
      ]
     },
     "execution_count": 29,
     "metadata": {},
     "output_type": "execute_result"
    }
   ],
   "source": [
    "np.mean(gamma(2,3,100))"
   ]
  },
  {
   "cell_type": "code",
   "execution_count": 40,
   "id": "6bb0a334",
   "metadata": {},
   "outputs": [],
   "source": [
    "#Draw samples from the geometric distribution.\n",
    "#no of trials to get first success\n",
    "#geometric(p[, size]) "
   ]
  },
  {
   "cell_type": "code",
   "execution_count": 39,
   "id": "1c83f82e",
   "metadata": {},
   "outputs": [
    {
     "name": "stdout",
     "output_type": "stream",
     "text": [
      "1.675\n",
      "1.6666666666666667\n"
     ]
    }
   ],
   "source": [
    "print(np.mean(geometric(0.6,1000)))\n",
    "print(1/0.6)\n"
   ]
  },
  {
   "cell_type": "code",
   "execution_count": 19,
   "id": "aeaa507f",
   "metadata": {},
   "outputs": [],
   "source": [
    "#Draw samples from a Gumbel distribution.\n",
    "\n",
    "#gumbel([loc, scale, size])"
   ]
  },
  {
   "cell_type": "code",
   "execution_count": 20,
   "id": "19d40029",
   "metadata": {},
   "outputs": [],
   "source": [
    "#Draw samples from a Hypergeometric distribution.\n",
    "\n",
    "#hypergeometric(ngood, nbad, nsample[, size])"
   ]
  },
  {
   "cell_type": "code",
   "execution_count": 21,
   "id": "29a6e0fd",
   "metadata": {},
   "outputs": [],
   "source": [
    "#Draw samples from the Laplace or double exponential distribution with specified location (or mean) and scale (decay).\n",
    "\n",
    "#laplace([loc, scale, size])"
   ]
  },
  {
   "cell_type": "code",
   "execution_count": 22,
   "id": "a939e95b",
   "metadata": {},
   "outputs": [],
   "source": [
    "#Draw samples from a logistic distribution.\n",
    "\n",
    "#logistic([loc, scale, size])"
   ]
  },
  {
   "cell_type": "code",
   "execution_count": 23,
   "id": "2e27ab08",
   "metadata": {},
   "outputs": [],
   "source": [
    "#Draw samples from a log-normal distribution.\n",
    "\n",
    "#lognormal([mean, sigma, size])"
   ]
  },
  {
   "cell_type": "code",
   "execution_count": 24,
   "id": "5a8bc5a5",
   "metadata": {},
   "outputs": [],
   "source": [
    "#Draw samples from a multinomial distribution.\n",
    "\n",
    "#multinomial(n, pvals[, size])"
   ]
  },
  {
   "cell_type": "code",
   "execution_count": 41,
   "id": "342c04fd",
   "metadata": {},
   "outputs": [],
   "source": [
    "#Draw random samples from a multivariate normal distribution.\n",
    "\n",
    "#multivariate_normal(mean, cov[], size) #Cov should positive definite"
   ]
  },
  {
   "cell_type": "code",
   "execution_count": 45,
   "id": "c2fe52a4",
   "metadata": {},
   "outputs": [],
   "source": [
    "#help(multivariate_normal)"
   ]
  },
  {
   "cell_type": "code",
   "execution_count": 26,
   "id": "b410b2a1",
   "metadata": {},
   "outputs": [],
   "source": [
    "#Draw samples from a negative binomial distribution.\n",
    "\n",
    "#negative_binomial(n, p[, size])"
   ]
  },
  {
   "cell_type": "code",
   "execution_count": 27,
   "id": "27ae7231",
   "metadata": {},
   "outputs": [],
   "source": [
    "#Draw samples from a noncentral chi-square distribution.\n",
    "\n",
    "#noncentral_chisquare(df, nonc[, size])"
   ]
  },
  {
   "cell_type": "code",
   "execution_count": 28,
   "id": "a6392850",
   "metadata": {},
   "outputs": [],
   "source": [
    "#Draw samples from the noncentral F distribution.\n",
    "\n",
    "#noncentral_f(dfnum, dfden, nonc[, size])"
   ]
  },
  {
   "cell_type": "code",
   "execution_count": 29,
   "id": "6e5a298d",
   "metadata": {},
   "outputs": [
    {
     "data": {
      "text/plain": [
       "15.893193874768492"
      ]
     },
     "execution_count": 29,
     "metadata": {},
     "output_type": "execute_result"
    }
   ],
   "source": [
    "#Draw random samples from a normal (Gaussian) distribution.\n",
    "\n",
    "#normal([loc, scale, size])\n",
    "np.var(normal(10,4,1000))"
   ]
  },
  {
   "cell_type": "code",
   "execution_count": 30,
   "id": "dc3a475e",
   "metadata": {},
   "outputs": [],
   "source": [
    "#Draw samples from a Pareto II or Lomax distribution with specified shape.\n",
    "\n",
    "#pareto(a[, size])"
   ]
  },
  {
   "cell_type": "code",
   "execution_count": 31,
   "id": "41457305",
   "metadata": {},
   "outputs": [],
   "source": [
    "#Draw samples from a Poisson distribution.\n",
    "\n",
    "#poisson([lam, size])"
   ]
  },
  {
   "cell_type": "code",
   "execution_count": 32,
   "id": "11ecc598",
   "metadata": {},
   "outputs": [],
   "source": [
    "#Draw samples from a standard Cauchy distribution with mode = 0.\n",
    "\n",
    "#standard_cauchy([size])"
   ]
  },
  {
   "cell_type": "code",
   "execution_count": 33,
   "id": "fa19d664",
   "metadata": {},
   "outputs": [],
   "source": [
    "#Draw samples from the standard exponential distribution.\n",
    "\n",
    "#standard_exponential([size])"
   ]
  },
  {
   "cell_type": "code",
   "execution_count": 34,
   "id": "1d4174cf",
   "metadata": {},
   "outputs": [],
   "source": [
    "#Draw samples from a standard Gamma distribution.\n",
    "\n",
    "#standard_gamma(shape[, size])"
   ]
  },
  {
   "cell_type": "code",
   "execution_count": 49,
   "id": "612ff2be",
   "metadata": {},
   "outputs": [
    {
     "data": {
      "text/plain": [
       "1.8905082092283887"
      ]
     },
     "execution_count": 49,
     "metadata": {},
     "output_type": "execute_result"
    }
   ],
   "source": [
    "np.mean(standard_gamma(2,1000))\n",
    "np.var(standard_gamma(2,1000))\n"
   ]
  },
  {
   "cell_type": "code",
   "execution_count": 35,
   "id": "b5ae33dd",
   "metadata": {},
   "outputs": [
    {
     "name": "stdout",
     "output_type": "stream",
     "text": [
      "[ 0.15718669  2.24169162 -0.6674858  -0.93820881 -1.10876899]\n",
      "[-1.03995595  0.14953992 -0.12624207 -1.10037975  0.68264334]\n"
     ]
    }
   ],
   "source": [
    "#Draw samples from a standard Normal distribution (mean=0, stdev=1).\n",
    "\n",
    "#standard_normal([size])\n",
    "print(standard_normal(5))\n",
    "print(randn(5))"
   ]
  },
  {
   "cell_type": "code",
   "execution_count": 36,
   "id": "d971cfa4",
   "metadata": {},
   "outputs": [],
   "source": [
    "#Draw samples from a standard Student’s t distribution with df degrees of freedom.\n",
    "\n",
    "#standard_t(df[, size])"
   ]
  },
  {
   "cell_type": "code",
   "execution_count": 37,
   "id": "ecaa1859",
   "metadata": {},
   "outputs": [],
   "source": [
    "#Draw samples from the triangular distribution over the interval [left, right].\n",
    "\n",
    "#triangular(left, mode, right[, size])"
   ]
  },
  {
   "cell_type": "code",
   "execution_count": 76,
   "id": "8498fa1f",
   "metadata": {},
   "outputs": [
    {
     "data": {
      "text/html": [
       "<div>\n",
       "<style scoped>\n",
       "    .dataframe tbody tr th:only-of-type {\n",
       "        vertical-align: middle;\n",
       "    }\n",
       "\n",
       "    .dataframe tbody tr th {\n",
       "        vertical-align: top;\n",
       "    }\n",
       "\n",
       "    .dataframe thead th {\n",
       "        text-align: right;\n",
       "    }\n",
       "</style>\n",
       "<table border=\"1\" class=\"dataframe\">\n",
       "  <thead>\n",
       "    <tr style=\"text-align: right;\">\n",
       "      <th></th>\n",
       "      <th>T1_mean</th>\n",
       "      <th>T2_mean</th>\n",
       "      <th>T1_MSE</th>\n",
       "      <th>T2_MSE</th>\n",
       "    </tr>\n",
       "  </thead>\n",
       "  <tbody>\n",
       "    <tr>\n",
       "      <th>5</th>\n",
       "      <td>10.016934</td>\n",
       "      <td>8.304716</td>\n",
       "      <td>6.767784</td>\n",
       "      <td>4.638995</td>\n",
       "    </tr>\n",
       "    <tr>\n",
       "      <th>10</th>\n",
       "      <td>10.124525</td>\n",
       "      <td>9.115127</td>\n",
       "      <td>3.503401</td>\n",
       "      <td>1.381388</td>\n",
       "    </tr>\n",
       "    <tr>\n",
       "      <th>25</th>\n",
       "      <td>10.054088</td>\n",
       "      <td>9.602285</td>\n",
       "      <td>1.597087</td>\n",
       "      <td>0.287900</td>\n",
       "    </tr>\n",
       "    <tr>\n",
       "      <th>50</th>\n",
       "      <td>10.054383</td>\n",
       "      <td>9.810082</td>\n",
       "      <td>0.779913</td>\n",
       "      <td>0.063625</td>\n",
       "    </tr>\n",
       "    <tr>\n",
       "      <th>100</th>\n",
       "      <td>10.004238</td>\n",
       "      <td>9.903119</td>\n",
       "      <td>0.405354</td>\n",
       "      <td>0.020549</td>\n",
       "    </tr>\n",
       "    <tr>\n",
       "      <th>500</th>\n",
       "      <td>9.971840</td>\n",
       "      <td>9.981210</td>\n",
       "      <td>0.059854</td>\n",
       "      <td>0.000692</td>\n",
       "    </tr>\n",
       "  </tbody>\n",
       "</table>\n",
       "</div>"
      ],
      "text/plain": [
       "       T1_mean   T2_mean    T1_MSE    T2_MSE\n",
       "5    10.016934  8.304716  6.767784  4.638995\n",
       "10   10.124525  9.115127  3.503401  1.381388\n",
       "25   10.054088  9.602285  1.597087  0.287900\n",
       "50   10.054383  9.810082  0.779913  0.063625\n",
       "100  10.004238  9.903119  0.405354  0.020549\n",
       "500   9.971840  9.981210  0.059854  0.000692"
      ]
     },
     "execution_count": 76,
     "metadata": {},
     "output_type": "execute_result"
    }
   ],
   "source": [
    "m=np.zeros((6,4));m\n",
    "size=np.array([5,10,25,50,100,500])\n",
    "df=pd.DataFrame(m,columns=[\"T1_mean\",\"T2_mean\",\"T1_MSE\",\"T2_MSE\"]);df\n",
    "df.index=size\n",
    "df\n",
    "r=pd.DataFrame(uniform(0,10,(100,500)))\n",
    "for n in size:\n",
    "    df.T1_mean[n]=np.mean(2*r.iloc[:,0:n:1].apply(np.mean,axis=1));T1_mean\n",
    "    df.T2_mean[n]=np.mean(r.iloc[:,0:n:1].apply(np.max,axis=1));T2_mean\n",
    "    df.T1_MSE[n]=np.mean((2*r.iloc[:,0:n:1].apply(np.mean,axis=1)-10)**2);T1_MSE\n",
    "    df.T2_MSE[n]=np.mean((r.iloc[:,0:n:1].apply(np.max,axis=1)-10)**2);T2_MSE\n",
    "df"
   ]
  },
  {
   "cell_type": "code",
   "execution_count": 71,
   "id": "82ef0494",
   "metadata": {},
   "outputs": [
    {
     "data": {
      "text/html": [
       "<div>\n",
       "<style scoped>\n",
       "    .dataframe tbody tr th:only-of-type {\n",
       "        vertical-align: middle;\n",
       "    }\n",
       "\n",
       "    .dataframe tbody tr th {\n",
       "        vertical-align: top;\n",
       "    }\n",
       "\n",
       "    .dataframe thead th {\n",
       "        text-align: right;\n",
       "    }\n",
       "</style>\n",
       "<table border=\"1\" class=\"dataframe\">\n",
       "  <thead>\n",
       "    <tr style=\"text-align: right;\">\n",
       "      <th></th>\n",
       "      <th>0</th>\n",
       "      <th>1</th>\n",
       "      <th>2</th>\n",
       "      <th>3</th>\n",
       "      <th>4</th>\n",
       "    </tr>\n",
       "  </thead>\n",
       "  <tbody>\n",
       "    <tr>\n",
       "      <th>0</th>\n",
       "      <td>6.816964</td>\n",
       "      <td>2.457329</td>\n",
       "      <td>3.207953</td>\n",
       "      <td>2.114001</td>\n",
       "      <td>1.665027</td>\n",
       "    </tr>\n",
       "    <tr>\n",
       "      <th>1</th>\n",
       "      <td>7.850196</td>\n",
       "      <td>8.539832</td>\n",
       "      <td>5.181390</td>\n",
       "      <td>1.496132</td>\n",
       "      <td>8.678454</td>\n",
       "    </tr>\n",
       "    <tr>\n",
       "      <th>2</th>\n",
       "      <td>3.445898</td>\n",
       "      <td>8.125918</td>\n",
       "      <td>3.765040</td>\n",
       "      <td>9.436502</td>\n",
       "      <td>3.810213</td>\n",
       "    </tr>\n",
       "    <tr>\n",
       "      <th>3</th>\n",
       "      <td>2.528932</td>\n",
       "      <td>6.192665</td>\n",
       "      <td>5.826719</td>\n",
       "      <td>6.860057</td>\n",
       "      <td>9.742435</td>\n",
       "    </tr>\n",
       "    <tr>\n",
       "      <th>4</th>\n",
       "      <td>9.443496</td>\n",
       "      <td>2.624308</td>\n",
       "      <td>1.338758</td>\n",
       "      <td>9.726544</td>\n",
       "      <td>8.627955</td>\n",
       "    </tr>\n",
       "    <tr>\n",
       "      <th>...</th>\n",
       "      <td>...</td>\n",
       "      <td>...</td>\n",
       "      <td>...</td>\n",
       "      <td>...</td>\n",
       "      <td>...</td>\n",
       "    </tr>\n",
       "    <tr>\n",
       "      <th>95</th>\n",
       "      <td>8.963823</td>\n",
       "      <td>6.444115</td>\n",
       "      <td>0.457726</td>\n",
       "      <td>0.267944</td>\n",
       "      <td>3.047396</td>\n",
       "    </tr>\n",
       "    <tr>\n",
       "      <th>96</th>\n",
       "      <td>2.542470</td>\n",
       "      <td>4.849650</td>\n",
       "      <td>1.075281</td>\n",
       "      <td>5.931286</td>\n",
       "      <td>4.304249</td>\n",
       "    </tr>\n",
       "    <tr>\n",
       "      <th>97</th>\n",
       "      <td>8.926130</td>\n",
       "      <td>1.888457</td>\n",
       "      <td>7.605559</td>\n",
       "      <td>7.871719</td>\n",
       "      <td>5.550926</td>\n",
       "    </tr>\n",
       "    <tr>\n",
       "      <th>98</th>\n",
       "      <td>2.890738</td>\n",
       "      <td>6.875660</td>\n",
       "      <td>6.810767</td>\n",
       "      <td>0.784167</td>\n",
       "      <td>2.264273</td>\n",
       "    </tr>\n",
       "    <tr>\n",
       "      <th>99</th>\n",
       "      <td>8.280924</td>\n",
       "      <td>6.931904</td>\n",
       "      <td>4.032459</td>\n",
       "      <td>1.722654</td>\n",
       "      <td>8.967301</td>\n",
       "    </tr>\n",
       "  </tbody>\n",
       "</table>\n",
       "<p>100 rows × 5 columns</p>\n",
       "</div>"
      ],
      "text/plain": [
       "           0         1         2         3         4\n",
       "0   6.816964  2.457329  3.207953  2.114001  1.665027\n",
       "1   7.850196  8.539832  5.181390  1.496132  8.678454\n",
       "2   3.445898  8.125918  3.765040  9.436502  3.810213\n",
       "3   2.528932  6.192665  5.826719  6.860057  9.742435\n",
       "4   9.443496  2.624308  1.338758  9.726544  8.627955\n",
       "..       ...       ...       ...       ...       ...\n",
       "95  8.963823  6.444115  0.457726  0.267944  3.047396\n",
       "96  2.542470  4.849650  1.075281  5.931286  4.304249\n",
       "97  8.926130  1.888457  7.605559  7.871719  5.550926\n",
       "98  2.890738  6.875660  6.810767  0.784167  2.264273\n",
       "99  8.280924  6.931904  4.032459  1.722654  8.967301\n",
       "\n",
       "[100 rows x 5 columns]"
      ]
     },
     "execution_count": 71,
     "metadata": {},
     "output_type": "execute_result"
    }
   ],
   "source": []
  },
  {
   "cell_type": "code",
   "execution_count": null,
   "id": "42f16529",
   "metadata": {},
   "outputs": [],
   "source": []
  },
  {
   "cell_type": "code",
   "execution_count": null,
   "id": "ebbc81f5",
   "metadata": {},
   "outputs": [],
   "source": []
  },
  {
   "cell_type": "code",
   "execution_count": 4,
   "id": "5e748708",
   "metadata": {},
   "outputs": [
    {
     "data": {
      "text/html": [
       "<div>\n",
       "<style scoped>\n",
       "    .dataframe tbody tr th:only-of-type {\n",
       "        vertical-align: middle;\n",
       "    }\n",
       "\n",
       "    .dataframe tbody tr th {\n",
       "        vertical-align: top;\n",
       "    }\n",
       "\n",
       "    .dataframe thead th {\n",
       "        text-align: right;\n",
       "    }\n",
       "</style>\n",
       "<table border=\"1\" class=\"dataframe\">\n",
       "  <thead>\n",
       "    <tr style=\"text-align: right;\">\n",
       "      <th></th>\n",
       "      <th>Size</th>\n",
       "      <th>T1_Average</th>\n",
       "      <th>T1_MSError</th>\n",
       "      <th>T2_Average</th>\n",
       "      <th>T2_MSError</th>\n",
       "    </tr>\n",
       "  </thead>\n",
       "  <tbody>\n",
       "    <tr>\n",
       "      <th>0</th>\n",
       "      <td>5</td>\n",
       "      <td>4.196691</td>\n",
       "      <td>1.108845</td>\n",
       "      <td>5.059186</td>\n",
       "      <td>1.577976</td>\n",
       "    </tr>\n",
       "    <tr>\n",
       "      <th>1</th>\n",
       "      <td>10</td>\n",
       "      <td>4.511735</td>\n",
       "      <td>0.429658</td>\n",
       "      <td>4.949825</td>\n",
       "      <td>0.853529</td>\n",
       "    </tr>\n",
       "    <tr>\n",
       "      <th>2</th>\n",
       "      <td>25</td>\n",
       "      <td>4.799121</td>\n",
       "      <td>0.077997</td>\n",
       "      <td>5.010803</td>\n",
       "      <td>0.337470</td>\n",
       "    </tr>\n",
       "    <tr>\n",
       "      <th>3</th>\n",
       "      <td>50</td>\n",
       "      <td>4.896989</td>\n",
       "      <td>0.021582</td>\n",
       "      <td>4.992070</td>\n",
       "      <td>0.166715</td>\n",
       "    </tr>\n",
       "    <tr>\n",
       "      <th>4</th>\n",
       "      <td>100</td>\n",
       "      <td>4.950049</td>\n",
       "      <td>0.005127</td>\n",
       "      <td>5.006138</td>\n",
       "      <td>0.082298</td>\n",
       "    </tr>\n",
       "    <tr>\n",
       "      <th>5</th>\n",
       "      <td>200</td>\n",
       "      <td>4.974579</td>\n",
       "      <td>0.001274</td>\n",
       "      <td>4.995067</td>\n",
       "      <td>0.043004</td>\n",
       "    </tr>\n",
       "  </tbody>\n",
       "</table>\n",
       "</div>"
      ],
      "text/plain": [
       "   Size  T1_Average  T1_MSError  T2_Average  T2_MSError\n",
       "0     5    4.196691    1.108845    5.059186    1.577976\n",
       "1    10    4.511735    0.429658    4.949825    0.853529\n",
       "2    25    4.799121    0.077997    5.010803    0.337470\n",
       "3    50    4.896989    0.021582    4.992070    0.166715\n",
       "4   100    4.950049    0.005127    5.006138    0.082298\n",
       "5   200    4.974579    0.001274    4.995067    0.043004"
      ]
     },
     "execution_count": 4,
     "metadata": {},
     "output_type": "execute_result"
    }
   ],
   "source": [
    "#Draw samples from a uniform distribution.\n",
    "sizes=[5,10,25,50,100,200]\n",
    "#uniform([low, high, size])\n",
    "i=0\n",
    "T1_avg,T1_mse,T2_avg,T2_mse=[0]*len(sizes),[0]*len(sizes),[0]*len(sizes),[0]*len(sizes)\n",
    "\n",
    "for j in sizes:\n",
    "    s=uniform(0,5,[1000,j])\n",
    "    s1=pd.DataFrame(s,index=np.arange(1000)+1,columns=np.arange(j)+1)\n",
    "    s1\n",
    "    T1_avg[i]=np.mean(s1.apply(np.max,axis=1))\n",
    "    T1_mse[i]=np.mean((s1.apply(np.max,axis=1)-5)**2)\n",
    "    T2_avg[i]=np.mean(2*s1.apply(np.mean,axis=1))\n",
    "    T2_mse[i]=np.mean((2*s1.apply(np.mean,axis=1)-5)**2)\n",
    "    i=i+1\n",
    "    \n",
    "pd.DataFrame({\"Size\": sizes,\n",
    "              \"T1_Average\": T1_avg,\n",
    "              \"T1_MSError\": T1_mse,\n",
    "              \"T2_Average\": T2_avg,\n",
    "              \"T2_MSError\": T2_mse\n",
    "    \n",
    "})    "
   ]
  },
  {
   "cell_type": "code",
   "execution_count": 39,
   "id": "3d47864c",
   "metadata": {},
   "outputs": [
    {
     "data": {
      "text/plain": [
       "0.001117346730686179"
      ]
     },
     "execution_count": 39,
     "metadata": {},
     "output_type": "execute_result"
    }
   ],
   "source": [
    "np.mean((s1.apply(np.max,axis=1)-5)**2)"
   ]
  },
  {
   "cell_type": "code",
   "execution_count": 40,
   "id": "d8a96e6c",
   "metadata": {},
   "outputs": [
    {
     "data": {
      "text/plain": [
       "0.001117346730686179"
      ]
     },
     "execution_count": 40,
     "metadata": {},
     "output_type": "execute_result"
    }
   ],
   "source": [
    "np.mean((s1.apply(np.max,axis=1)-5)**2)"
   ]
  },
  {
   "cell_type": "code",
   "execution_count": 41,
   "id": "6fb44f8b",
   "metadata": {},
   "outputs": [],
   "source": [
    "#Draw samples from a Weibull distribution.\n",
    "\n",
    "#weibull(a[, size])"
   ]
  },
  {
   "cell_type": "code",
   "execution_count": null,
   "id": "970b8c26",
   "metadata": {},
   "outputs": [],
   "source": []
  },
  {
   "cell_type": "code",
   "execution_count": 42,
   "id": "cfaf413b",
   "metadata": {},
   "outputs": [
    {
     "name": "stdout",
     "output_type": "stream",
     "text": [
      "------------------------------------------------\n",
      "Uniform:\n",
      "0.5\n",
      "1.5 0.8660254037844386 0.75\n",
      "0.5\n",
      "[0.93246135 0.20826438]\n",
      "[0.0015286  0.61745565 0.63117304 1.11012664 0.73062123]\n",
      "1.0\n"
     ]
    }
   ],
   "source": [
    "from scipy import stats\n",
    "\n",
    "print(\"------------------------------------------------\")\n",
    "print(\"Uniform:\")\n",
    "print(stats.uniform.cdf(0.5, 0, 1))\n",
    "print(stats.uniform.mean(0, 3), stats.uniform.std(0, 3), stats.uniform.var(0, 3))\n",
    "print(stats.uniform.ppf(0.5, 0, 1))\n",
    "print(stats.uniform.rvs(size=2))\n",
    "print(stats.uniform.rvs(0,2,size=5))\n",
    "print(stats.uniform.pdf(0.3))"
   ]
  },
  {
   "cell_type": "code",
   "execution_count": 78,
   "id": "2db4cca6",
   "metadata": {},
   "outputs": [
    {
     "name": "stdout",
     "output_type": "stream",
     "text": [
      "------------------------------------------------\n",
      "Normal Distribution\n",
      "F(1)=0.159\n",
      "Mean=0.000,SD=1.000,Var=1.000\n",
      "F(0.685)=0.65\n",
      "[-0.44456471 -0.22475832]\n",
      "[10.07358775  9.96140066]\n"
     ]
    },
    {
     "data": {
      "image/png": "[encoded data removed]",
      "text/plain": [
       "<Figure size 432x288 with 1 Axes>"
      ]
     },
     "metadata": {
      "needs_background": "light"
     },
     "output_type": "display_data"
    }
   ],
   "source": [
    "from scipy.stats import norm\n",
    "import matplotlib.pyplot as plt\n",
    "import numpy as np\n",
    "\n",
    "print(\"------------------------------------------------\")\n",
    "print(\"Normal Distribution\")\n",
    "print(\"F(1)=%1.3f\"%norm.cdf(0, 1, 1))\n",
    "print(\"Mean=%1.3f,SD=%1.3f,Var=%1.3f\"%(norm.mean(), norm.std(), norm.var()))\n",
    "print(\"F(%1.3f)=0.65\"% norm.ppf(0.65, 0.3, 1))\n",
    "print(norm.rvs(size=2))\n",
    "print(norm.rvs(10, 2, size=2))\n",
    "\n",
    "x=np.sort(norm.rvs(size=1000))\n",
    "#plt.hist(x,bins=[-3,-2,-1,0,1,2,3])\n",
    "plt.plot(x,norm.pdf(x),'r')\n",
    "plt.plot(x,norm.pdf(x,np.mean(x),np.std(x)),'g')\n",
    "\n",
    "plt.show()"
   ]
  },
  {
   "cell_type": "code",
   "execution_count": 44,
   "id": "69430b7a",
   "metadata": {},
   "outputs": [
    {
     "name": "stdout",
     "output_type": "stream",
     "text": [
      "------------------------------------------------\n",
      "Exponential:\n",
      "F(1)=0.632\n",
      "Mean=1.000,SD=1.000,Var=1.000\n",
      "F(1.693)=0.5\n",
      "[0.91515326 0.02120555]\n",
      "[2.70139381 3.59713509 2.28331239 2.53135106 2.15806125 2.50483509]\n"
     ]
    }
   ],
   "source": [
    "from scipy.stats import expon\n",
    "\n",
    "print(\"------------------------------------------------\")\n",
    "print('Exponential:')\n",
    "print(\"F(1)=%1.3f\"%expon.cdf(1))\n",
    "print(\"Mean=%1.3f,SD=%1.3f,Var=%1.3f\"%(expon.mean(), expon.std(), expon.var()))\n",
    "print(\"F(%1.3f)=0.5\"% expon.ppf(0.5, 1))\n",
    "print(expon.rvs(size=2))\n",
    "print(expon.rvs(2,size=6))"
   ]
  }
 ],
 "metadata": {
  "kernelspec": {
   "display_name": "Python 3",
   "language": "python",
   "name": "python3"
  },
  "language_info": {
   "codemirror_mode": {
    "name": "ipython",
    "version": 3
   },
   "file_extension": ".py",
   "mimetype": "text/x-python",
   "name": "python",
   "nbconvert_exporter": "python",
   "pygments_lexer": "ipython3",
   "version": "3.9.5"
  },
  "latex_envs": {
   "LaTeX_envs_menu_present": true,
   "autoclose": false,
   "autocomplete": true,
   "bibliofile": "biblio.bib",
   "cite_by": "apalike",
   "current_citInitial": 1,
   "eqLabelWithNumbers": true,
   "eqNumInitial": 1,
   "hotkeys": {
    "equation": "Ctrl-E",
    "itemize": "Ctrl-I"
   },
   "labels_anchors": false,
   "latex_user_defs": false,
   "report_style_numbering": false,
   "user_envs_cfg": false
  }
 },
 "nbformat": 4,
 "nbformat_minor": 5
}
