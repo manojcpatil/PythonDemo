{
 "cells": [
  {
   "cell_type": "code",
   "execution_count": 15,
   "id": "902b3c9d",
   "metadata": {},
   "outputs": [],
   "source": [
    "from numpy.random import *\n",
    "import numpy as np\n",
    "import pandas as pd"
   ]
  },
  {
   "cell_type": "markdown",
   "id": "2db95c7e",
   "metadata": {},
   "source": [
    "# Simple Random Data"
   ]
  },
  {
   "cell_type": "code",
   "execution_count": 2,
   "id": "bce0e694",
   "metadata": {},
   "outputs": [
    {
     "data": {
      "text/plain": [
       "array([[[0.03770052, 0.02180855, 0.09806484],\n",
       "        [0.06327816, 0.21114869, 0.79011666]],\n",
       "\n",
       "       [[0.98389282, 0.53617025, 0.92449749],\n",
       "        [0.71169146, 0.49129118, 0.55173678]],\n",
       "\n",
       "       [[0.56848337, 0.47064529, 0.02789898],\n",
       "        [0.40444621, 0.85005697, 0.76115312]],\n",
       "\n",
       "       [[0.22694896, 0.60244064, 0.36879262],\n",
       "        [0.03936633, 0.05324949, 0.7939857 ]],\n",
       "\n",
       "       [[0.95209434, 0.57350449, 0.55998647],\n",
       "        [0.58760393, 0.95814024, 0.69278556]]])"
      ]
     },
     "execution_count": 2,
     "metadata": {},
     "output_type": "execute_result"
    }
   ],
   "source": [
    "#Random values in a given shape.\n",
    "\n",
    "#rand(d0, d1, …, dn)\n",
    "rand(5,2,3)"
   ]
  },
  {
   "cell_type": "code",
   "execution_count": 3,
   "id": "3e1cfae3",
   "metadata": {},
   "outputs": [
    {
     "data": {
      "text/plain": [
       "array([ 0.22235155,  0.62743129, -0.06943079, -1.53507303, -1.35851148])"
      ]
     },
     "execution_count": 3,
     "metadata": {},
     "output_type": "execute_result"
    }
   ],
   "source": [
    "#Return a sample (or samples) from the “Standard Normal” distribution.\n",
    "\n",
    "#randn(d0, d1, …, dn)\n",
    "randn(5)"
   ]
  },
  {
   "cell_type": "code",
   "execution_count": 4,
   "id": "238bc337",
   "metadata": {},
   "outputs": [
    {
     "data": {
      "text/plain": [
       "array([7, 5, 8, 8, 5, 5, 6, 5, 9, 9])"
      ]
     },
     "execution_count": 4,
     "metadata": {},
     "output_type": "execute_result"
    }
   ],
   "source": [
    "#Return random integers from low (inclusive) to high (exclusive).\n",
    "\n",
    "#randint(low[, high, size, dtype])\n",
    "randint(5,10,10)"
   ]
  },
  {
   "cell_type": "code",
   "execution_count": 5,
   "id": "b46b48db",
   "metadata": {},
   "outputs": [
    {
     "data": {
      "text/plain": [
       "array([0.30337088, 0.57567457, 0.80959643, 0.09885197, 0.48978733])"
      ]
     },
     "execution_count": 5,
     "metadata": {},
     "output_type": "execute_result"
    }
   ],
   "source": [
    "#Return random floats in the half-open interval [0.0, 1.0).\n",
    "\n",
    "random_sample(5)"
   ]
  },
  {
   "cell_type": "code",
   "execution_count": 6,
   "id": "7da5b2e5",
   "metadata": {},
   "outputs": [],
   "source": [
    "#Return random floats in the half-open interval [0.0, 1.0).\n",
    "\n",
    "#random([size])"
   ]
  },
  {
   "cell_type": "code",
   "execution_count": 7,
   "id": "75848dc9",
   "metadata": {},
   "outputs": [],
   "source": [
    "#Return random floats in the half-open interval [0.0, 1.0).\n",
    "\n",
    "#ranf([size])"
   ]
  },
  {
   "cell_type": "code",
   "execution_count": 8,
   "id": "162a9572",
   "metadata": {},
   "outputs": [],
   "source": [
    "#Return random floats in the half-open interval [0.0, 1.0).\n",
    "\n",
    "#sample([size])"
   ]
  },
  {
   "cell_type": "code",
   "execution_count": 9,
   "id": "95fed24a",
   "metadata": {},
   "outputs": [
    {
     "name": "stdout",
     "output_type": "stream",
     "text": [
      "a: [0, 1, 2, 3, 4]\n"
     ]
    },
    {
     "data": {
      "text/plain": [
       "[0, 4, 3, 2, 1]"
      ]
     },
     "execution_count": 9,
     "metadata": {},
     "output_type": "execute_result"
    }
   ],
   "source": [
    "#Generates a random sample from a given 1-D array\n",
    "\n",
    "#choice(a[, size, replace, p])\n",
    "\n",
    "a=list(range(5))\n",
    "print(\"a:\",a)\n",
    "list(choice(a,5,0))"
   ]
  },
  {
   "cell_type": "markdown",
   "id": "3b05ff28",
   "metadata": {},
   "source": [
    "# Permutations"
   ]
  },
  {
   "cell_type": "code",
   "execution_count": 10,
   "id": "3f423ad1",
   "metadata": {},
   "outputs": [
    {
     "ename": "NameError",
     "evalue": "name 'x' is not defined",
     "output_type": "error",
     "traceback": [
      "\u001b[1;31m---------------------------------------------------------------------------\u001b[0m",
      "\u001b[1;31mNameError\u001b[0m                                 Traceback (most recent call last)",
      "\u001b[1;32m<ipython-input-10-6a39aef4bec1>\u001b[0m in \u001b[0;36m<module>\u001b[1;34m\u001b[0m\n\u001b[0;32m      4\u001b[0m \u001b[1;33m\u001b[0m\u001b[0m\n\u001b[0;32m      5\u001b[0m \u001b[1;33m\u001b[0m\u001b[0m\n\u001b[1;32m----> 6\u001b[1;33m \u001b[0mprint\u001b[0m\u001b[1;33m(\u001b[0m\u001b[1;34m\"x:\"\u001b[0m\u001b[1;33m,\u001b[0m\u001b[0mx\u001b[0m\u001b[1;33m)\u001b[0m\u001b[1;33m\u001b[0m\u001b[1;33m\u001b[0m\u001b[0m\n\u001b[0m\u001b[0;32m      7\u001b[0m \u001b[0mshuffle\u001b[0m\u001b[1;33m(\u001b[0m\u001b[0mx\u001b[0m\u001b[1;33m)\u001b[0m\u001b[1;33m\u001b[0m\u001b[1;33m\u001b[0m\u001b[0m\n\u001b[0;32m      8\u001b[0m \u001b[0mprint\u001b[0m\u001b[1;33m(\u001b[0m\u001b[1;34m\"After Shuffling x:\"\u001b[0m\u001b[1;33m,\u001b[0m\u001b[0mx\u001b[0m\u001b[1;33m)\u001b[0m\u001b[1;33m\u001b[0m\u001b[1;33m\u001b[0m\u001b[0m\n",
      "\u001b[1;31mNameError\u001b[0m: name 'x' is not defined"
     ]
    }
   ],
   "source": [
    "#Modify a sequence in-place by shuffling its contents.\n",
    "\n",
    "#shuffle(x)\n",
    "\n",
    "\n",
    "print(\"x:\",x)\n",
    "shuffle(x)\n",
    "print(\"After Shuffling x:\",x)"
   ]
  },
  {
   "cell_type": "code",
   "execution_count": null,
   "id": "08c3cfce",
   "metadata": {},
   "outputs": [],
   "source": [
    "#Randomly permute a sequence, or return a permuted range.\n",
    "\n",
    "#permutation(x)\n",
    "x=np.arange(5)\n",
    "permutation(x)\n",
    "x"
   ]
  },
  {
   "cell_type": "markdown",
   "id": "5eb208ed",
   "metadata": {},
   "source": [
    "# Distributions"
   ]
  },
  {
   "cell_type": "code",
   "execution_count": null,
   "id": "58118c39",
   "metadata": {},
   "outputs": [],
   "source": [
    "#Draw samples from a Beta distribution.\n",
    "\n",
    "#beta(a, b[, size])\n",
    "beta(1,10,3)"
   ]
  },
  {
   "cell_type": "code",
   "execution_count": null,
   "id": "57404434",
   "metadata": {},
   "outputs": [],
   "source": [
    "#Draw samples from a binomial distribution.\n",
    "\n",
    "#binomial(n, p[, size])\n",
    "np.mean(binomial(10,0.6,40))"
   ]
  },
  {
   "cell_type": "code",
   "execution_count": null,
   "id": "473ef80e",
   "metadata": {},
   "outputs": [],
   "source": [
    "#Draw samples from a chi-square distribution.\n",
    "\n",
    "#chisquare(df[, size])\n",
    "chisquare(2,10)"
   ]
  },
  {
   "cell_type": "code",
   "execution_count": null,
   "id": "d8323cb4",
   "metadata": {},
   "outputs": [],
   "source": [
    "#Draw samples from an exponential distribution.\n",
    "\n",
    "#exponential([scale, size])"
   ]
  },
  {
   "cell_type": "code",
   "execution_count": null,
   "id": "43ae36f8",
   "metadata": {},
   "outputs": [],
   "source": [
    "#Draw samples from an F distribution.\n",
    "\n",
    "#f(dfnum, dfden[, size])"
   ]
  },
  {
   "cell_type": "code",
   "execution_count": null,
   "id": "4f40256e",
   "metadata": {},
   "outputs": [],
   "source": [
    "#Draw samples from a Gamma distribution.\n",
    "\n",
    "#gamma(shape[, scale, size])"
   ]
  },
  {
   "cell_type": "code",
   "execution_count": null,
   "id": "6bb0a334",
   "metadata": {},
   "outputs": [],
   "source": [
    "#Draw samples from the geometric distribution.\n",
    "\n",
    "#geometric(p[, size])"
   ]
  },
  {
   "cell_type": "code",
   "execution_count": null,
   "id": "aeaa507f",
   "metadata": {},
   "outputs": [],
   "source": [
    "#Draw samples from a Gumbel distribution.\n",
    "\n",
    "#gumbel([loc, scale, size])"
   ]
  },
  {
   "cell_type": "code",
   "execution_count": null,
   "id": "19d40029",
   "metadata": {},
   "outputs": [],
   "source": [
    "#Draw samples from a Hypergeometric distribution.\n",
    "\n",
    "#hypergeometric(ngood, nbad, nsample[, size])"
   ]
  },
  {
   "cell_type": "code",
   "execution_count": null,
   "id": "29a6e0fd",
   "metadata": {},
   "outputs": [],
   "source": [
    "#Draw samples from the Laplace or double exponential distribution with specified location (or mean) and scale (decay).\n",
    "\n",
    "#laplace([loc, scale, size])"
   ]
  },
  {
   "cell_type": "code",
   "execution_count": null,
   "id": "a939e95b",
   "metadata": {},
   "outputs": [],
   "source": [
    "#Draw samples from a logistic distribution.\n",
    "\n",
    "#logistic([loc, scale, size])"
   ]
  },
  {
   "cell_type": "code",
   "execution_count": null,
   "id": "2e27ab08",
   "metadata": {},
   "outputs": [],
   "source": [
    "#Draw samples from a log-normal distribution.\n",
    "\n",
    "#lognormal([mean, sigma, size])"
   ]
  },
  {
   "cell_type": "code",
   "execution_count": null,
   "id": "5a8bc5a5",
   "metadata": {},
   "outputs": [],
   "source": [
    "#Draw samples from a multinomial distribution.\n",
    "\n",
    "#multinomial(n, pvals[, size])"
   ]
  },
  {
   "cell_type": "code",
   "execution_count": null,
   "id": "342c04fd",
   "metadata": {},
   "outputs": [],
   "source": [
    "#Draw random samples from a multivariate normal distribution.\n",
    "\n",
    "#multivariate_normal(mean, cov[, size, …)"
   ]
  },
  {
   "cell_type": "code",
   "execution_count": null,
   "id": "b410b2a1",
   "metadata": {},
   "outputs": [],
   "source": [
    "#Draw samples from a negative binomial distribution.\n",
    "\n",
    "#negative_binomial(n, p[, size])"
   ]
  },
  {
   "cell_type": "code",
   "execution_count": null,
   "id": "27ae7231",
   "metadata": {},
   "outputs": [],
   "source": [
    "#Draw samples from a noncentral chi-square distribution.\n",
    "\n",
    "#noncentral_chisquare(df, nonc[, size])"
   ]
  },
  {
   "cell_type": "code",
   "execution_count": null,
   "id": "a6392850",
   "metadata": {},
   "outputs": [],
   "source": [
    "#Draw samples from the noncentral F distribution.\n",
    "\n",
    "#noncentral_f(dfnum, dfden, nonc[, size])"
   ]
  },
  {
   "cell_type": "code",
   "execution_count": null,
   "id": "6e5a298d",
   "metadata": {},
   "outputs": [],
   "source": [
    "#Draw random samples from a normal (Gaussian) distribution.\n",
    "\n",
    "#normal([loc, scale, size])\n",
    "np.var(normal(10,4,1000))"
   ]
  },
  {
   "cell_type": "code",
   "execution_count": null,
   "id": "dc3a475e",
   "metadata": {},
   "outputs": [],
   "source": [
    "#Draw samples from a Pareto II or Lomax distribution with specified shape.\n",
    "\n",
    "#pareto(a[, size])"
   ]
  },
  {
   "cell_type": "code",
   "execution_count": null,
   "id": "41457305",
   "metadata": {},
   "outputs": [],
   "source": [
    "#Draw samples from a Poisson distribution.\n",
    "\n",
    "#poisson([lam, size])"
   ]
  },
  {
   "cell_type": "code",
   "execution_count": null,
   "id": "11ecc598",
   "metadata": {},
   "outputs": [],
   "source": [
    "#Draw samples from a standard Cauchy distribution with mode = 0.\n",
    "\n",
    "#standard_cauchy([size])"
   ]
  },
  {
   "cell_type": "code",
   "execution_count": null,
   "id": "fa19d664",
   "metadata": {},
   "outputs": [],
   "source": [
    "#Draw samples from the standard exponential distribution.\n",
    "\n",
    "#standard_exponential([size])"
   ]
  },
  {
   "cell_type": "code",
   "execution_count": null,
   "id": "1d4174cf",
   "metadata": {},
   "outputs": [],
   "source": [
    "#Draw samples from a standard Gamma distribution.\n",
    "\n",
    "#standard_gamma(shape[, size])"
   ]
  },
  {
   "cell_type": "code",
   "execution_count": null,
   "id": "b5ae33dd",
   "metadata": {},
   "outputs": [],
   "source": [
    "#Draw samples from a standard Normal distribution (mean=0, stdev=1).\n",
    "\n",
    "#standard_normal([size])\n",
    "print(standard_normal(5))\n",
    "print(randn(5))"
   ]
  },
  {
   "cell_type": "code",
   "execution_count": null,
   "id": "d971cfa4",
   "metadata": {},
   "outputs": [],
   "source": [
    "#Draw samples from a standard Student’s t distribution with df degrees of freedom.\n",
    "\n",
    "#standard_t(df[, size])"
   ]
  },
  {
   "cell_type": "code",
   "execution_count": null,
   "id": "ecaa1859",
   "metadata": {},
   "outputs": [],
   "source": [
    "#Draw samples from the triangular distribution over the interval [left, right].\n",
    "\n",
    "#triangular(left, mode, right[, size])"
   ]
  },
  {
   "cell_type": "code",
   "execution_count": 47,
   "id": "5e748708",
   "metadata": {},
   "outputs": [
    {
     "data": {
      "text/html": [
       "<div>\n",
       "<style scoped>\n",
       "    .dataframe tbody tr th:only-of-type {\n",
       "        vertical-align: middle;\n",
       "    }\n",
       "\n",
       "    .dataframe tbody tr th {\n",
       "        vertical-align: top;\n",
       "    }\n",
       "\n",
       "    .dataframe thead th {\n",
       "        text-align: right;\n",
       "    }\n",
       "</style>\n",
       "<table border=\"1\" class=\"dataframe\">\n",
       "  <thead>\n",
       "    <tr style=\"text-align: right;\">\n",
       "      <th></th>\n",
       "      <th>Size</th>\n",
       "      <th>T1_Average</th>\n",
       "      <th>T1_MSError</th>\n",
       "      <th>T2_Average</th>\n",
       "      <th>T2_MSError</th>\n",
       "    </tr>\n",
       "  </thead>\n",
       "  <tbody>\n",
       "    <tr>\n",
       "      <th>0</th>\n",
       "      <td>5</td>\n",
       "      <td>4.169444</td>\n",
       "      <td>1.185433</td>\n",
       "      <td>4.999186</td>\n",
       "      <td>1.607469</td>\n",
       "    </tr>\n",
       "    <tr>\n",
       "      <th>1</th>\n",
       "      <td>10</td>\n",
       "      <td>4.540318</td>\n",
       "      <td>0.389094</td>\n",
       "      <td>5.004557</td>\n",
       "      <td>0.839234</td>\n",
       "    </tr>\n",
       "    <tr>\n",
       "      <th>2</th>\n",
       "      <td>25</td>\n",
       "      <td>4.815784</td>\n",
       "      <td>0.067386</td>\n",
       "      <td>4.992531</td>\n",
       "      <td>0.355729</td>\n",
       "    </tr>\n",
       "    <tr>\n",
       "      <th>3</th>\n",
       "      <td>50</td>\n",
       "      <td>4.898269</td>\n",
       "      <td>0.020588</td>\n",
       "      <td>4.984429</td>\n",
       "      <td>0.164616</td>\n",
       "    </tr>\n",
       "    <tr>\n",
       "      <th>4</th>\n",
       "      <td>100</td>\n",
       "      <td>4.950172</td>\n",
       "      <td>0.005054</td>\n",
       "      <td>4.993831</td>\n",
       "      <td>0.082935</td>\n",
       "    </tr>\n",
       "    <tr>\n",
       "      <th>5</th>\n",
       "      <td>200</td>\n",
       "      <td>4.974028</td>\n",
       "      <td>0.001301</td>\n",
       "      <td>5.009998</td>\n",
       "      <td>0.040073</td>\n",
       "    </tr>\n",
       "  </tbody>\n",
       "</table>\n",
       "</div>"
      ],
      "text/plain": [
       "   Size  T1_Average  T1_MSError  T2_Average  T2_MSError\n",
       "0     5    4.169444    1.185433    4.999186    1.607469\n",
       "1    10    4.540318    0.389094    5.004557    0.839234\n",
       "2    25    4.815784    0.067386    4.992531    0.355729\n",
       "3    50    4.898269    0.020588    4.984429    0.164616\n",
       "4   100    4.950172    0.005054    4.993831    0.082935\n",
       "5   200    4.974028    0.001301    5.009998    0.040073"
      ]
     },
     "execution_count": 47,
     "metadata": {},
     "output_type": "execute_result"
    }
   ],
   "source": [
    "#Draw samples from a uniform distribution.\n",
    "sizes=[5,10,25,50,100,200]\n",
    "#uniform([low, high, size])\n",
    "i=0\n",
    "T1_avg,T1_mse,T2_avg,T2_mse=[0]*len(sizes),[0]*len(sizes),[0]*len(sizes),[0]*len(sizes)\n",
    "\n",
    "for j in sizes:\n",
    "    s=uniform(0,5,[1000,j])\n",
    "    s1=pd.DataFrame(s,index=np.arange(1000)+1,columns=np.arange(j)+1)\n",
    "    s1\n",
    "    T1_avg[i]=np.mean(s1.apply(np.max,axis=1))\n",
    "    T1_mse[i]=np.mean((s1.apply(np.max,axis=1)-5)**2)\n",
    "    T2_avg[i]=np.mean(2*s1.apply(np.mean,axis=1))\n",
    "    T2_mse[i]=np.mean((2*s1.apply(np.mean,axis=1)-5)**2)\n",
    "    i=i+1\n",
    "    \n",
    "pd.DataFrame({\"Size\": sizes,\n",
    "              \"T1_Average\": T1_avg,\n",
    "              \"T1_MSError\": T1_mse,\n",
    "              \"T2_Average\": T2_avg,\n",
    "              \"T2_MSError\": T2_mse\n",
    "    \n",
    "})    "
   ]
  },
  {
   "cell_type": "code",
   "execution_count": 31,
   "id": "3d47864c",
   "metadata": {},
   "outputs": [
    {
     "data": {
      "text/plain": [
       "0.3002467943150209"
      ]
     },
     "execution_count": 31,
     "metadata": {},
     "output_type": "execute_result"
    }
   ],
   "source": [
    "np.mean((s1.apply(np.max,axis=1)-5)**2)"
   ]
  },
  {
   "cell_type": "code",
   "execution_count": 34,
   "id": "d8a96e6c",
   "metadata": {},
   "outputs": [
    {
     "data": {
      "text/plain": [
       "0.004010677543241804"
      ]
     },
     "execution_count": 34,
     "metadata": {},
     "output_type": "execute_result"
    }
   ],
   "source": [
    "np.mean((s1.apply(np.max,axis=1)-5)**2)"
   ]
  },
  {
   "cell_type": "code",
   "execution_count": null,
   "id": "6fb44f8b",
   "metadata": {},
   "outputs": [],
   "source": [
    "#Draw samples from a Weibull distribution.\n",
    "\n",
    "#weibull(a[, size])"
   ]
  }
 ],
 "metadata": {
  "kernelspec": {
   "display_name": "Python 3",
   "language": "python",
   "name": "python3"
  },
  "language_info": {
   "codemirror_mode": {
    "name": "ipython",
    "version": 3
   },
   "file_extension": ".py",
   "mimetype": "text/x-python",
   "name": "python",
   "nbconvert_exporter": "python",
   "pygments_lexer": "ipython3",
   "version": "3.9.5"
  }
 },
 "nbformat": 4,
 "nbformat_minor": 5
}
