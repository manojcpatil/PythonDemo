{
 "cells": [
  {
   "cell_type": "code",
   "execution_count": null,
   "metadata": {
    "id": "XWAUg6hpovvH"
   },
   "outputs": [],
   "source": [
    "import numpy as np\n",
    "import pandas as pd\n",
    "import matplotlib.pyplot as plt\n",
    "from sklearn.model_selection import train_test_split\n",
    "from sklearn.linear_model import LinearRegression"
   ]
  },
  {
   "cell_type": "code",
   "execution_count": null,
   "metadata": {
    "colab": {
     "base_uri": "https://localhost:8080/",
     "height": 305
    },
    "id": "qnVw2T1optwx",
    "outputId": "9b6b6ded-0dde-4c87-ac04-dec5c2b71aed"
   },
   "outputs": [],
   "source": [
    "data=pd.read_csv('winequality-red.csv',sep=\";\")\n",
    "data.head()"
   ]
  },
  {
   "cell_type": "code",
   "execution_count": null,
   "metadata": {
    "colab": {
     "base_uri": "https://localhost:8080/"
    },
    "id": "3N4-PtLCrVxk",
    "outputId": "daefb121-dff6-4eca-b59c-38cebd30776c"
   },
   "outputs": [],
   "source": [
    "data.isnull().any()"
   ]
  },
  {
   "cell_type": "code",
   "execution_count": null,
   "metadata": {
    "id": "fb4MLbW3qHLj"
   },
   "outputs": [],
   "source": [
    "X=data.iloc[:,:-1]\n",
    "Y=data.iloc[:,-1]"
   ]
  },
  {
   "cell_type": "code",
   "execution_count": null,
   "metadata": {
    "colab": {
     "base_uri": "https://localhost:8080/",
     "height": 1000
    },
    "id": "woiGmQEIqqBd",
    "outputId": "004a2c02-47f9-4f80-b970-6b9a23acefc4"
   },
   "outputs": [],
   "source": [
    "plt.figure(figsize=(9,8))\n",
    "pd.plotting.scatter_matrix(data)\n",
    "plt.show()"
   ]
  },
  {
   "cell_type": "code",
   "execution_count": null,
   "metadata": {
    "colab": {
     "base_uri": "https://localhost:8080/",
     "height": 399
    },
    "id": "x0Q4rcMqsPL7",
    "outputId": "c0d91602-f1a0-44fd-f0d5-1b07fe2c5949"
   },
   "outputs": [],
   "source": [
    "data.describe()"
   ]
  },
  {
   "cell_type": "code",
   "execution_count": null,
   "metadata": {
    "colab": {
     "base_uri": "https://localhost:8080/"
    },
    "id": "z485df1-twfG",
    "outputId": "975cb44f-2a5a-49ae-e6e5-e10787e439b5"
   },
   "outputs": [],
   "source": [
    "data.quality.value_counts()"
   ]
  },
  {
   "cell_type": "code",
   "execution_count": null,
   "metadata": {
    "colab": {
     "base_uri": "https://localhost:8080/",
     "height": 284
    },
    "id": "Sg0OZjHNuACF",
    "outputId": "eff3593e-0234-4e56-d003-9962c3ae2b84"
   },
   "outputs": [],
   "source": [
    "data.quality.hist()"
   ]
  },
  {
   "cell_type": "code",
   "execution_count": null,
   "metadata": {
    "colab": {
     "base_uri": "https://localhost:8080/",
     "height": 646
    },
    "id": "TrH9xnRtuM99",
    "outputId": "be2fc819-d9d5-4939-a2f0-9063d5f466e4"
   },
   "outputs": [],
   "source": [
    "data.corr()"
   ]
  },
  {
   "cell_type": "code",
   "execution_count": null,
   "metadata": {
    "colab": {
     "base_uri": "https://localhost:8080/",
     "height": 679
    },
    "id": "rX81GAxWuxZt",
    "outputId": "1faa2b50-6684-4890-d47a-c871a39e8b00"
   },
   "outputs": [],
   "source": [
    "import seaborn as sns\n",
    "plt.figure(figsize=(10,10))\n",
    "sns.heatmap(data.corr())\n",
    "plt.show()"
   ]
  },
  {
   "cell_type": "code",
   "execution_count": null,
   "metadata": {
    "id": "MQ4BXyshxEgm"
   },
   "outputs": [],
   "source": [
    "X_train, X_test, Y_train, Y_test = train_test_split(X,Y,test_size=0.3)"
   ]
  },
  {
   "cell_type": "code",
   "execution_count": null,
   "metadata": {
    "colab": {
     "base_uri": "https://localhost:8080/"
    },
    "id": "peDm3iHvvkGW",
    "outputId": "512a5cee-c87a-4650-c27c-2c7572a2b0c8"
   },
   "outputs": [],
   "source": [
    "Lr=LinearRegression()\n",
    "Lr.fit(X_train,Y_train)"
   ]
  },
  {
   "cell_type": "code",
   "execution_count": null,
   "metadata": {
    "colab": {
     "base_uri": "https://localhost:8080/"
    },
    "id": "2Tm-Q1WtwEqG",
    "outputId": "47e1f16f-6095-4616-b991-03a987f06ab2"
   },
   "outputs": [],
   "source": [
    "print(\"Coeffitients: \",Lr.coef_)\n",
    "print(\"Intercept: \",Lr.intercept_)\n",
    "print(Lr.score(X,Y))"
   ]
  },
  {
   "cell_type": "code",
   "execution_count": null,
   "metadata": {
    "colab": {
     "base_uri": "https://localhost:8080/",
     "height": 284
    },
    "id": "brXIgTG7xA1U",
    "outputId": "d802118f-8cc6-47fb-8e13-9db26151209a"
   },
   "outputs": [],
   "source": [
    "Y_pred = Lr.predict(X_test)\n",
    "df={'OriginalY':Y_test,\n",
    "    'PredictedY':Y_pred}\n",
    "plt.scatter(df['OriginalY'],df['PredictedY'])"
   ]
  },
  {
   "cell_type": "code",
   "execution_count": null,
   "metadata": {
    "colab": {
     "base_uri": "https://localhost:8080/"
    },
    "id": "_vP3DUIsyr-x",
    "outputId": "cedc3a65-30cd-4ed4-ac25-616387be7ae0"
   },
   "outputs": [],
   "source": [
    "from sklearn.metrics import mean_absolute_error\n",
    "mean_absolute_error(df['OriginalY'],df['PredictedY'])"
   ]
  }
 ],
 "metadata": {
  "colab": {
   "collapsed_sections": [],
   "name": "RedWineData.ipynb",
   "provenance": []
  },
  "kernelspec": {
   "display_name": "Python 3",
   "language": "python",
   "name": "python3"
  },
  "language_info": {
   "codemirror_mode": {
    "name": "ipython",
    "version": 3
   },
   "file_extension": ".py",
   "mimetype": "text/x-python",
   "name": "python",
   "nbconvert_exporter": "python",
   "pygments_lexer": "ipython3",
   "version": "3.9.5"
  },
  "latex_envs": {
   "LaTeX_envs_menu_present": true,
   "autoclose": false,
   "autocomplete": true,
   "bibliofile": "biblio.bib",
   "cite_by": "apalike",
   "current_citInitial": 1,
   "eqLabelWithNumbers": true,
   "eqNumInitial": 1,
   "hotkeys": {
    "equation": "Ctrl-E",
    "itemize": "Ctrl-I"
   },
   "labels_anchors": false,
   "latex_user_defs": false,
   "report_style_numbering": false,
   "user_envs_cfg": false
  }
 },
 "nbformat": 4,
 "nbformat_minor": 1
}
