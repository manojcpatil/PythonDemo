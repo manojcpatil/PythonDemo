{
 "cells": [
  {
   "cell_type": "markdown",
   "id": "40b206bd",
   "metadata": {
    "heading_collapsed": true,
    "slideshow": {
     "slide_type": "slide"
    }
   },
   "source": [
    "# import libraies"
   ]
  },
  {
   "cell_type": "code",
   "execution_count": 29,
   "id": "1111488e",
   "metadata": {
    "hidden": true
   },
   "outputs": [],
   "source": [
    "import numpy as np\n",
    "import pandas as pd\n",
    "import matplotlib.pyplot as plt\n",
    "\n",
    "from sklearn.model_selection import train_test_split\n",
    "from sklearn.preprocessing import StandardScaler\n",
    "from sklearn.naive_bayes import GaussianNB\n",
    "from sklearn.metrics import confusion_matrix, accuracy_score"
   ]
  },
  {
   "cell_type": "markdown",
   "id": "825fa33e",
   "metadata": {
    "slideshow": {
     "slide_type": "slide"
    }
   },
   "source": [
    "# Importing Data set"
   ]
  },
  {
   "cell_type": "code",
   "execution_count": 5,
   "id": "5b2a2005",
   "metadata": {},
   "outputs": [],
   "source": [
    "dataset=pd.read_csv(\"Iris.csv\")\n",
    "X=dataset.iloc[:,1:-1]\n",
    "y=dataset.iloc[:,-1]"
   ]
  },
  {
   "cell_type": "markdown",
   "id": "ea9af77b",
   "metadata": {
    "slideshow": {
     "slide_type": "slide"
    }
   },
   "source": [
    "# Splitting"
   ]
  },
  {
   "cell_type": "code",
   "execution_count": 17,
   "id": "d761de01",
   "metadata": {},
   "outputs": [
    {
     "data": {
      "text/html": [
       "<div>\n",
       "<style scoped>\n",
       "    .dataframe tbody tr th:only-of-type {\n",
       "        vertical-align: middle;\n",
       "    }\n",
       "\n",
       "    .dataframe tbody tr th {\n",
       "        vertical-align: top;\n",
       "    }\n",
       "\n",
       "    .dataframe thead th {\n",
       "        text-align: right;\n",
       "    }\n",
       "</style>\n",
       "<table border=\"1\" class=\"dataframe\">\n",
       "  <thead>\n",
       "    <tr style=\"text-align: right;\">\n",
       "      <th></th>\n",
       "      <th>SepalLengthCm</th>\n",
       "      <th>SepalWidthCm</th>\n",
       "      <th>PetalLengthCm</th>\n",
       "      <th>PetalWidthCm</th>\n",
       "    </tr>\n",
       "  </thead>\n",
       "  <tbody>\n",
       "    <tr>\n",
       "      <th>122</th>\n",
       "      <td>7.7</td>\n",
       "      <td>2.8</td>\n",
       "      <td>6.7</td>\n",
       "      <td>2.0</td>\n",
       "    </tr>\n",
       "    <tr>\n",
       "      <th>1</th>\n",
       "      <td>4.9</td>\n",
       "      <td>3.0</td>\n",
       "      <td>1.4</td>\n",
       "      <td>0.2</td>\n",
       "    </tr>\n",
       "    <tr>\n",
       "      <th>16</th>\n",
       "      <td>5.4</td>\n",
       "      <td>3.9</td>\n",
       "      <td>1.3</td>\n",
       "      <td>0.4</td>\n",
       "    </tr>\n",
       "    <tr>\n",
       "      <th>73</th>\n",
       "      <td>6.1</td>\n",
       "      <td>2.8</td>\n",
       "      <td>4.7</td>\n",
       "      <td>1.2</td>\n",
       "    </tr>\n",
       "    <tr>\n",
       "      <th>29</th>\n",
       "      <td>4.7</td>\n",
       "      <td>3.2</td>\n",
       "      <td>1.6</td>\n",
       "      <td>0.2</td>\n",
       "    </tr>\n",
       "  </tbody>\n",
       "</table>\n",
       "</div>"
      ],
      "text/plain": [
       "     SepalLengthCm  SepalWidthCm  PetalLengthCm  PetalWidthCm\n",
       "122            7.7           2.8            6.7           2.0\n",
       "1              4.9           3.0            1.4           0.2\n",
       "16             5.4           3.9            1.3           0.4\n",
       "73             6.1           2.8            4.7           1.2\n",
       "29             4.7           3.2            1.6           0.2"
      ]
     },
     "execution_count": 17,
     "metadata": {},
     "output_type": "execute_result"
    }
   ],
   "source": [
    "X_train, X_test, y_train, y_test = train_test_split(X,y, test_size=0.25)\n",
    "X_train.head()"
   ]
  },
  {
   "cell_type": "markdown",
   "id": "61f928f0",
   "metadata": {
    "slideshow": {
     "slide_type": "slide"
    }
   },
   "source": [
    "# Feature Scaling"
   ]
  },
  {
   "cell_type": "code",
   "execution_count": 25,
   "id": "387ff7ca",
   "metadata": {},
   "outputs": [
    {
     "data": {
      "text/plain": [
       "array([ 2.18397405, -0.56600493,  1.65379001,  1.01164986, -1.13753062,\n",
       "       -0.12270037, -1.39683072, -1.36814725, -0.54440478,  1.87217015,\n",
       "       -1.4543896 , -1.10372534,  0.28597138, -0.56600493,  0.50261238,\n",
       "       -0.04603774, -1.37478095,  0.32060419, -1.28171295, -1.36814725,\n",
       "        2.18397405, -1.00930949,  1.76890777,  1.40828271, -1.73065645,\n",
       "        0.32060419, -1.4543896 , -1.36814725, -0.06990412, -1.00930949,\n",
       "        0.09970021, -0.04603774,  1.23497272,  0.09895191,  0.61773014,\n",
       "        0.35059511,  0.52322172,  0.54225647,  1.25087784,  1.67270461,\n",
       "        0.04872105, -0.12270037,  0.7328479 ,  0.74722796,  0.40459655,\n",
       "       -1.89591861,  0.38749461,  0.35059511, -1.13753062, -1.23096177,\n",
       "        0.38749461,  0.61501701,  0.99772238, -0.12270037,  0.67528902,\n",
       "        0.61501701, -1.49340612,  0.76390875, -1.39683072, -1.2359363 ,\n",
       "       -1.01890545, -2.33922317, -0.1880942 , -0.31045964, -1.25615578,\n",
       "        0.76390875, -1.28171295, -1.36814725, -1.73065645, -0.34435265,\n",
       "       -1.39683072, -1.36814725, -1.25615578,  0.09895191, -1.28171295,\n",
       "       -1.36814725,  1.23497272,  0.32060419,  1.07820119,  1.40828271,\n",
       "        0.64184688, -0.34435265,  0.27237685,  0.08617321,  0.52322172,\n",
       "       -0.78765721,  0.61773014,  0.74722796,  2.18397405, -0.12270037,\n",
       "        1.30843672,  1.40828271,  0.28597138, -0.56600493,  0.09970021,\n",
       "        0.08617321,  0.28597138, -0.12270037,  0.61773014,  0.74722796,\n",
       "       -0.78165512, -0.78765721,  0.04214132,  0.21838416, -0.90028028,\n",
       "        0.54225647, -1.22415407, -0.97151439, -1.49340612,  0.09895191,\n",
       "       -1.33927184, -1.36814725,  0.52322172,  0.54225647,  0.50261238,\n",
       "        0.48280606, -0.78165512,  2.31547471, -1.33927184, -1.5003582 ,\n",
       "        1.11634755, -0.56600493,  0.56017126,  0.21838416,  1.70947338,\n",
       "       -0.34435265,  1.42355448,  0.74722796, -1.01890545,  0.98556103,\n",
       "       -1.28171295, -0.83930344,  0.76047205,  0.32060419,  0.7328479 ,\n",
       "        1.01164986,  0.52322172,  0.76390875,  1.02064231,  1.54049366,\n",
       "        2.42122438,  1.65051787,  1.48111337,  1.01164986,  0.16734622,\n",
       "       -1.89591861,  0.09970021, -0.31045964,  0.40459655, -0.56600493,\n",
       "        0.56017126,  0.74722796, -0.90028028,  1.65051787, -1.10903631,\n",
       "       -1.10372534, -0.06990412, -0.78765721,  0.7328479 ,  0.87943891,\n",
       "        0.52322172, -1.23096177,  0.67528902,  0.87943891,  0.16734622,\n",
       "       -0.34435265,  0.38749461,  0.35059511, -0.18852928, -1.23096177,\n",
       "        0.67528902,  1.01164986, -0.54440478,  1.87217015, -1.22415407,\n",
       "       -1.10372534, -0.42577962, -1.45261405, -0.07297644, -0.31045964,\n",
       "        0.04872105,  0.32060419,  0.56017126,  0.74722796,  0.99772238,\n",
       "        0.54225647,  1.07820119,  1.67270461,  0.64184688,  0.32060419,\n",
       "        0.38749461,  0.35059511, -0.90028028,  0.76390875, -1.33927184,\n",
       "       -1.36814725, -0.30715445, -0.34435265, -0.13053532,  0.08617321,\n",
       "        0.76047205, -0.12270037,  0.79040679,  1.01164986, -0.42577962,\n",
       "       -1.00930949,  0.32993573, -0.04603774,  0.28597138, -0.34435265,\n",
       "        0.50261238,  0.21838416, -0.30715445, -0.12270037,  0.38749461,\n",
       "        0.35059511,  0.99772238, -0.12270037,  0.79040679,  1.40828271,\n",
       "        1.11634755,  0.32060419,  1.19331896,  1.40828271, -1.01890545,\n",
       "        1.20721331, -1.39683072, -1.36814725, -0.78165512,  0.76390875,\n",
       "       -1.39683072, -1.36814725,  0.40459655, -0.34435265,  0.27237685,\n",
       "        0.08617321,  0.64184688, -0.56600493,  1.02064231,  1.27607176,\n",
       "       -0.06990412,  2.09382243, -1.51194848, -1.36814725, -1.01890545,\n",
       "        0.76390875, -1.33927184, -1.36814725, -1.01890545,  0.98556103,\n",
       "       -1.4543896 , -1.2359363 , -0.06990412, -0.78765721,  0.04214132,\n",
       "       -0.04603774, -0.18852928, -1.00930949, -0.1880942 , -0.31045964,\n",
       "       -0.42577962, -1.45261405, -0.01541756, -0.17824869,  1.35359788,\n",
       "        0.32060419,  0.50261238,  0.21838416,  0.16734622, -0.78765721,\n",
       "        0.7328479 ,  0.48280606,  1.23497272,  0.09895191,  0.90552455,\n",
       "        1.14386081, -0.54440478, -0.12270037,  0.38749461,  0.35059511,\n",
       "       -1.13753062, -1.45261405, -0.30321197, -0.31045964,  0.52322172,\n",
       "       -0.56600493,  0.7328479 ,  0.35059511, -1.01890545, -1.67426633,\n",
       "       -0.30321197, -0.31045964, -0.06990412, -0.78765721,  0.7328479 ,\n",
       "        0.87943891, -1.37478095,  0.32060419, -1.4543896 , -1.36814725,\n",
       "       -1.25615578, -0.12270037, -1.39683072, -1.5003582 , -1.84928162,\n",
       "       -0.12270037, -1.56950736, -1.5003582 , -0.06990412, -0.78765721,\n",
       "        0.15725909, -0.31045964, -0.06990412, -0.56600493,  0.7328479 ,\n",
       "        1.54049366, -0.42577962,  2.53712699, -1.39683072, -1.36814725,\n",
       "       -0.18852928,  1.65051787, -1.22415407, -1.2359363 , -0.30715445,\n",
       "       -0.56600493,  0.61773014,  1.01164986, -1.01890545,  0.54225647,\n",
       "       -1.39683072, -1.36814725,  0.16734622,  0.76390875,  0.38749461,\n",
       "        0.48280606,  2.18397405,  1.65051787,  1.65379001,  1.27607176,\n",
       "        0.16734622, -1.89591861,  0.67528902,  0.35059511, -0.42577962,\n",
       "       -1.23096177,  0.09970021,  0.08617321, -0.18852928, -0.12270037,\n",
       "        0.21481797, -0.04603774,  0.99772238,  0.09895191,  0.32993573,\n",
       "        0.21838416,  0.76047205, -0.12270037,  1.13576008,  1.27607176,\n",
       "        1.59084822,  0.32060419,  1.25087784,  0.74722796, -0.18852928,\n",
       "       -0.56600493,  0.15725909,  0.08617321,  0.64184688,  0.09895191,\n",
       "        0.96308343,  0.74722796, -1.13753062,  0.09895191, -1.33927184,\n",
       "       -1.5003582 ,  1.11634755, -0.12270037,  0.96308343,  1.14386081,\n",
       "       -0.90028028,  0.98556103, -1.39683072, -1.2359363 ,  2.06534888,\n",
       "       -0.12270037,  1.59623113,  1.14386081, -0.90028028,  1.65051787,\n",
       "       -1.33927184, -1.2359363 , -1.49340612,  1.20721331, -1.62706624,\n",
       "       -1.36814725,  0.99772238,  0.09895191,  0.50261238,  0.35059511,\n",
       "       -1.25615578, -0.12270037, -1.39683072, -1.2359363 , -0.90028028,\n",
       "        1.65051787, -1.28171295, -1.36814725,  1.82809855, -0.56600493,\n",
       "        1.30843672,  0.87943891, -0.90028028,  0.98556103, -1.39683072,\n",
       "       -1.36814725, -0.18852928,  2.98043155, -1.33927184, -1.10372534,\n",
       "        0.64184688, -0.56600493,  1.02064231,  1.14386081,  0.64184688,\n",
       "        0.32060419,  0.84796567,  1.40828271,  1.23497272,  0.09895191,\n",
       "        0.7328479 ,  1.40828271,  0.52322172, -1.23096177,  0.61773014,\n",
       "        0.35059511, -1.25615578,  0.76390875, -1.10903631, -1.36814725,\n",
       "       -0.42577962, -1.67426633,  0.09970021,  0.08617321, -0.18852928,\n",
       "       -0.56600493,  0.38749461,  0.08617321])"
      ]
     },
     "execution_count": 25,
     "metadata": {},
     "output_type": "execute_result"
    }
   ],
   "source": [
    "sc=StandardScaler()\n",
    "X_train=sc.fit_transform(X_train)\n",
    "X_test=sc.transform(X_test)"
   ]
  },
  {
   "cell_type": "markdown",
   "id": "c7763395",
   "metadata": {},
   "source": [
    "# Training Naive Baye's Classifier\n"
   ]
  },
  {
   "cell_type": "code",
   "execution_count": 26,
   "id": "3cc72746",
   "metadata": {},
   "outputs": [
    {
     "data": {
      "text/plain": [
       "GaussianNB()"
      ]
     },
     "execution_count": 26,
     "metadata": {},
     "output_type": "execute_result"
    }
   ],
   "source": [
    "classifier=GaussianNB()\n",
    "classifier.fit(X_train,y_train)"
   ]
  },
  {
   "cell_type": "markdown",
   "id": "d694eb43",
   "metadata": {},
   "source": [
    "# Prediction"
   ]
  },
  {
   "cell_type": "code",
   "execution_count": 28,
   "id": "39e98a5e",
   "metadata": {},
   "outputs": [
    {
     "data": {
      "text/plain": [
       "array(['Iris-setosa', 'Iris-setosa', 'Iris-versicolor', 'Iris-setosa',\n",
       "       'Iris-setosa', 'Iris-versicolor', 'Iris-versicolor',\n",
       "       'Iris-versicolor', 'Iris-versicolor', 'Iris-virginica',\n",
       "       'Iris-setosa', 'Iris-virginica', 'Iris-setosa', 'Iris-versicolor',\n",
       "       'Iris-virginica', 'Iris-setosa', 'Iris-setosa', 'Iris-virginica',\n",
       "       'Iris-virginica', 'Iris-setosa', 'Iris-setosa', 'Iris-virginica',\n",
       "       'Iris-setosa', 'Iris-virginica', 'Iris-setosa', 'Iris-virginica',\n",
       "       'Iris-versicolor', 'Iris-virginica', 'Iris-setosa',\n",
       "       'Iris-versicolor', 'Iris-versicolor', 'Iris-versicolor',\n",
       "       'Iris-virginica', 'Iris-versicolor', 'Iris-versicolor',\n",
       "       'Iris-setosa', 'Iris-virginica', 'Iris-setosa'], dtype='<U15')"
      ]
     },
     "execution_count": 28,
     "metadata": {},
     "output_type": "execute_result"
    }
   ],
   "source": [
    "y_pred=classifier.predict(X_test)\n",
    "y_pred"
   ]
  },
  {
   "cell_type": "markdown",
   "id": "dc2425bf",
   "metadata": {
    "slideshow": {
     "slide_type": "slide"
    }
   },
   "source": [
    "# Confusion Matrix and accuracy"
   ]
  },
  {
   "cell_type": "code",
   "execution_count": 32,
   "id": "f1d7e06f",
   "metadata": {},
   "outputs": [
    {
     "data": {
      "text/plain": [
       "array([[15,  0,  0],\n",
       "       [ 0, 11,  0],\n",
       "       [ 0,  1, 11]], dtype=int64)"
      ]
     },
     "execution_count": 32,
     "metadata": {},
     "output_type": "execute_result"
    }
   ],
   "source": [
    "cm=confusion_matrix(y_test,y_pred)\n",
    "cm"
   ]
  },
  {
   "cell_type": "code",
   "execution_count": 44,
   "id": "a255a0d3",
   "metadata": {},
   "outputs": [
    {
     "data": {
      "text/plain": [
       "0.9736842105263158"
      ]
     },
     "execution_count": 44,
     "metadata": {},
     "output_type": "execute_result"
    }
   ],
   "source": [
    "accuracy_score(y_test,y_pred)"
   ]
  },
  {
   "cell_type": "markdown",
   "id": "a2d904f3",
   "metadata": {
    "slideshow": {
     "slide_type": "slide"
    }
   },
   "source": [
    "# Visualization"
   ]
  },
  {
   "cell_type": "code",
   "execution_count": 53,
   "id": "596ba83d",
   "metadata": {},
   "outputs": [
    {
     "ename": "SyntaxError",
     "evalue": "unexpected EOF while parsing (<ipython-input-53-8bf22b78dc44>, line 3)",
     "output_type": "error",
     "traceback": [
      "\u001b[1;36m  File \u001b[1;32m\"<ipython-input-53-8bf22b78dc44>\"\u001b[1;36m, line \u001b[1;32m3\u001b[0m\n\u001b[1;33m    #X1, X2=np.meshgrid(, np.arange(X_set[:,1].min()-10,np.arange(X_set[:,1].max())+10,0.1))\u001b[0m\n\u001b[1;37m                                                                                            ^\u001b[0m\n\u001b[1;31mSyntaxError\u001b[0m\u001b[1;31m:\u001b[0m unexpected EOF while parsing\n"
     ]
    }
   ],
   "source": [
    "X_set, y_set=sc.inverse_transform(X_train), y_train\n",
    "np.arange(start=X_set[:,0].min()-10,stop=np.arange(X_set[:,0].max()+10,step=0.1)\n",
    "#X1, X2=np.meshgrid(, np.arange(X_set[:,1].min()-10,np.arange(X_set[:,1].max())+10,0.1))"
   ]
  },
  {
   "cell_type": "code",
   "execution_count": null,
   "id": "7a8854d6",
   "metadata": {},
   "outputs": [],
   "source": []
  },
  {
   "cell_type": "code",
   "execution_count": 54,
   "id": "6ee5cf40",
   "metadata": {},
   "outputs": [],
   "source": [
    "#!pip install RISE"
   ]
  }
 ],
 "metadata": {
  "celltoolbar": "Slideshow",
  "kernelspec": {
   "display_name": "Python 3",
   "language": "python",
   "name": "python3"
  },
  "language_info": {
   "codemirror_mode": {
    "name": "ipython",
    "version": 3
   },
   "file_extension": ".py",
   "mimetype": "text/x-python",
   "name": "python",
   "nbconvert_exporter": "python",
   "pygments_lexer": "ipython3",
   "version": "3.9.5"
  },
  "latex_envs": {
   "LaTeX_envs_menu_present": true,
   "autoclose": false,
   "autocomplete": true,
   "bibliofile": "biblio.bib",
   "cite_by": "apalike",
   "current_citInitial": 1,
   "eqLabelWithNumbers": true,
   "eqNumInitial": 1,
   "hotkeys": {
    "equation": "Ctrl-E",
    "itemize": "Ctrl-I"
   },
   "labels_anchors": false,
   "latex_user_defs": false,
   "report_style_numbering": false,
   "user_envs_cfg": false
  },
  "toc": {
   "base_numbering": 1,
   "nav_menu": {},
   "number_sections": true,
   "sideBar": true,
   "skip_h1_title": false,
   "title_cell": "Table of Contents",
   "title_sidebar": "Contents",
   "toc_cell": false,
   "toc_position": {},
   "toc_section_display": true,
   "toc_window_display": false
  }
 },
 "nbformat": 4,
 "nbformat_minor": 5
}
