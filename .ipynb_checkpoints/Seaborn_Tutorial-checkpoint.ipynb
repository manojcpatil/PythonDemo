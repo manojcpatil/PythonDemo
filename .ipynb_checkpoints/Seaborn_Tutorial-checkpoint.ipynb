{
 "cells": [
  {
   "cell_type": "code",
   "execution_count": null,
   "metadata": {
    "id": "fRBFq_Ot3k2u"
   },
   "outputs": [],
   "source": [
    "import numpy as np, pandas as pd\n",
    "import matplotlib.pyplot as plt\n",
    "import seaborn as sns\n"
   ]
  },
  {
   "cell_type": "code",
   "execution_count": null,
   "metadata": {
    "id": "ov-TBr6A3uC3"
   },
   "outputs": [],
   "source": [
    "uniform_data = np.random.rand(10, 12)\n",
    "data = pd.DataFrame({'x':np.arange(1,101),\n",
    "                     'y':np.random.normal(0,4,100)})\n",
    "titanic = sns.load_dataset('titanic')\n",
    "iris = sns.load_dataset('iris')"
   ]
  },
  {
   "cell_type": "code",
   "execution_count": null,
   "metadata": {
    "colab": {
     "base_uri": "https://localhost:8080/"
    },
    "id": "Psv1mRRt4H6a",
    "outputId": "52cae0a9-c1b7-43f0-e5af-91d2acad984c"
   },
   "outputs": [],
   "source": [
    "#(Re)set the seaborn default\n",
    "sns.set() \n",
    "#Set the matplotlib parameters\n",
    "sns.set_style(\"whitegrid\")\n",
    "#Set the matplotlib parameters \n",
    "sns.set_style(\"ticks\",\n",
    "              {\"xtick.major.size\":8,\n",
    "               \"ytick.major.size\":8})\n",
    "#Return a dict of params or use with with to temporarily set the style\n",
    "sns.axes_style(\"whitegrid\")"
   ]
  },
  {
   "cell_type": "code",
   "execution_count": null,
   "metadata": {
    "colab": {
     "base_uri": "https://localhost:8080/",
     "height": 437
    },
    "id": "0-7ZAxwR56MY",
    "outputId": "b4a91b3c-4863-45c2-f1f6-5c723f2d4405"
   },
   "outputs": [],
   "source": [
    "g = sns.FacetGrid(titanic, col=\"survived\", row=\"sex\")\n",
    "g = g.map(plt.hist, \"age\")"
   ]
  },
  {
   "cell_type": "code",
   "execution_count": null,
   "metadata": {
    "colab": {
     "base_uri": "https://localhost:8080/",
     "height": 437
    },
    "id": "_K7zlYEw6BAm",
    "outputId": "873f3c2a-86f3-496c-8608-74b0ff013005"
   },
   "outputs": [],
   "source": [
    "#Draw a categorical plot onto a Facetgrid\n",
    "sns.factorplot(x='pclass' ,\n",
    "                y='survived', \n",
    "                hue='sex',\n",
    "                data=titanic)"
   ]
  },
  {
   "cell_type": "code",
   "execution_count": null,
   "metadata": {
    "colab": {
     "base_uri": "https://localhost:8080/",
     "height": 382
    },
    "id": "ZhQAHm3z7Qhq",
    "outputId": "a7eaea1c-0e9c-4e0a-bf83-8c8347096bf7"
   },
   "outputs": [],
   "source": [
    "# Plot data and regression model fits across a FacetGrid\n",
    "\n",
    "sns.lmplot(x='sepal_length', \n",
    "           y= 'sepal_width', \n",
    "           hue='species',\n",
    "           data=iris)"
   ]
  },
  {
   "cell_type": "code",
   "execution_count": null,
   "metadata": {
    "colab": {
     "base_uri": "https://localhost:8080/",
     "height": 721
    },
    "id": "wC5inIF971eg",
    "outputId": "b12f48c6-f45f-4b69-fbe1-b04d79aae655"
   },
   "outputs": [],
   "source": [
    "#Subplot grid for plotting pairwise relationships\n",
    "h = sns.PairGrid(iris) \n",
    "h = h.map(plt.scatter)"
   ]
  },
  {
   "cell_type": "code",
   "execution_count": null,
   "metadata": {
    "colab": {
     "base_uri": "https://localhost:8080/",
     "height": 741
    },
    "id": "S9dDuT-36pez",
    "outputId": "ca6f72b0-e046-40b8-ad8c-77f2c76cfb00"
   },
   "outputs": [],
   "source": [
    "sns.pairplot(iris) "
   ]
  },
  {
   "cell_type": "code",
   "execution_count": null,
   "metadata": {
    "colab": {
     "base_uri": "https://localhost:8080/",
     "height": 130
    },
    "id": "e63kGVLZ6OJq",
    "outputId": "e872489a-8368-403d-b5bb-0f85af10985e"
   },
   "outputs": [],
   "source": [
    "i = sns.JointGrid(x= , y= , data=data)"
   ]
  },
  {
   "cell_type": "code",
   "execution_count": null,
   "metadata": {},
   "outputs": [],
   "source": []
  }
 ],
 "metadata": {
  "colab": {
   "name": "Seaborn Tutorial.ipynb",
   "provenance": []
  },
  "kernelspec": {
   "display_name": "Python 3",
   "language": "python",
   "name": "python3"
  },
  "language_info": {
   "name": "python"
  },
  "latex_envs": {
   "LaTeX_envs_menu_present": true,
   "autoclose": false,
   "autocomplete": true,
   "bibliofile": "biblio.bib",
   "cite_by": "apalike",
   "current_citInitial": 1,
   "eqLabelWithNumbers": true,
   "eqNumInitial": 1,
   "hotkeys": {
    "equation": "Ctrl-E",
    "itemize": "Ctrl-I"
   },
   "labels_anchors": false,
   "latex_user_defs": false,
   "report_style_numbering": false,
   "user_envs_cfg": false
  }
 },
 "nbformat": 4,
 "nbformat_minor": 1
}
