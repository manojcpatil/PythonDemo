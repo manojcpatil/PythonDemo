{
 "cells": [
  {
   "cell_type": "markdown",
   "metadata": {
    "colab_type": "text",
    "id": "0MRC0e0KhQ0S",
    "slideshow": {
     "slide_type": "slide"
    }
   },
   "source": [
    "# Decision Tree Classification"
   ]
  },
  {
   "cell_type": "markdown",
   "metadata": {
    "slideshow": {
     "slide_type": "slide"
    }
   },
   "source": [
    "## What is a Decision Tree?\n",
    "\n",
    "It is a tool that has applications spanning several different areas. Decision trees can be used for classification as well as regression problems. The name itself suggests that it uses a flowchart like a tree structure to show the predictions that result from a series of feature-based splits. It starts with a root node and ends with a decision made by leaves."
   ]
  },
  {
   "cell_type": "markdown",
   "metadata": {
    "slideshow": {
     "slide_type": "slide"
    }
   },
   "source": [
    "Some of the useful terminologies:\n",
    "\n",
    "- **Root Nodes** – It is the node present at the beginning of a decision tree, from which the population starts dividing according to various features.\n",
    "\n",
    "- **Decision Nodes** – the nodes, we get after splitting the Root nodes are called Decision Nodes.\n",
    "\n",
    "- **Terminal/Leaf Nodes** – the nodes where further splitting is not possible are called leaf nodes or terminal nodes.\n",
    "\n",
    "- **Sub-tree** – just like a small portion of a graph is called sub-graph similarly a sub-section of this decision tree is called sub-tree.\n",
    "\n",
    "- **Pruning** – is nothing but cutting down some nodes to stop overfitting."
   ]
  },
  {
   "cell_type": "code",
   "execution_count": 34,
   "metadata": {
    "colab": {},
    "colab_type": "code",
    "id": "YvGPUQaHhXfL"
   },
   "outputs": [],
   "source": [
    "## Importing the libraries\n",
    "import numpy as np\n",
    "import matplotlib.pyplot as plt\n",
    "import pandas as pd"
   ]
  },
  {
   "cell_type": "markdown",
   "metadata": {
    "colab_type": "text",
    "id": "K1VMqkGvhc3-",
    "slideshow": {
     "slide_type": "slide"
    }
   },
   "source": [
    "## Importing the dataset"
   ]
  },
  {
   "cell_type": "code",
<<<<<<< HEAD
   "execution_count": 35,
   "metadata": {},
   "outputs": [],
   "source": [
    "dataset = pd.read_csv(r'C:\\Users\\DELL\\OneDrive\\Documents\\CSV Files\\Social_Network_Ads.csv')\n"
   ]
  },
  {
   "cell_type": "code",
   "execution_count": 36,
   "metadata": {},
   "outputs": [
    {
     "data": {
      "text/html": [
       "<div>\n",
       "<style scoped>\n",
       "    .dataframe tbody tr th:only-of-type {\n",
       "        vertical-align: middle;\n",
       "    }\n",
       "\n",
       "    .dataframe tbody tr th {\n",
       "        vertical-align: top;\n",
       "    }\n",
       "\n",
       "    .dataframe thead th {\n",
       "        text-align: right;\n",
       "    }\n",
       "</style>\n",
       "<table border=\"1\" class=\"dataframe\">\n",
       "  <thead>\n",
       "    <tr style=\"text-align: right;\">\n",
       "      <th></th>\n",
       "      <th>Age</th>\n",
       "      <th>EstimatedSalary</th>\n",
       "      <th>Purchased</th>\n",
       "    </tr>\n",
       "  </thead>\n",
       "  <tbody>\n",
       "    <tr>\n",
       "      <th>0</th>\n",
       "      <td>19</td>\n",
       "      <td>19000</td>\n",
       "      <td>0</td>\n",
       "    </tr>\n",
       "    <tr>\n",
       "      <th>1</th>\n",
       "      <td>35</td>\n",
       "      <td>20000</td>\n",
       "      <td>0</td>\n",
       "    </tr>\n",
       "    <tr>\n",
       "      <th>2</th>\n",
       "      <td>26</td>\n",
       "      <td>43000</td>\n",
       "      <td>0</td>\n",
       "    </tr>\n",
       "    <tr>\n",
       "      <th>3</th>\n",
       "      <td>27</td>\n",
       "      <td>57000</td>\n",
       "      <td>0</td>\n",
       "    </tr>\n",
       "    <tr>\n",
       "      <th>4</th>\n",
       "      <td>19</td>\n",
       "      <td>76000</td>\n",
       "      <td>0</td>\n",
       "    </tr>\n",
       "  </tbody>\n",
       "</table>\n",
       "</div>"
      ],
      "text/plain": [
       "   Age  EstimatedSalary  Purchased\n",
       "0   19            19000          0\n",
       "1   35            20000          0\n",
       "2   26            43000          0\n",
       "3   27            57000          0\n",
       "4   19            76000          0"
      ]
     },
     "execution_count": 36,
     "metadata": {},
     "output_type": "execute_result"
    }
   ],
   "source": [
    "dataset=dataset.replace({\"Male\":1,\"Female\":0})\n",
    "dataset=dataset.drop(['User ID',\"Gender\"],axis=1)\n",
    "dataset.head()"
   ]
  },
  {
   "cell_type": "code",
   "execution_count": 37,
=======
   "execution_count": 2,
>>>>>>> 27c2bb20784ba100daf77f2f749dc535e593bf8b
   "metadata": {
    "colab": {},
    "colab_type": "code",
    "id": "M52QDmyzhh9s"
   },
   "outputs": [
    {
     "data": {
      "text/html": [
       "<div>\n",
       "<style scoped>\n",
       "    .dataframe tbody tr th:only-of-type {\n",
       "        vertical-align: middle;\n",
       "    }\n",
       "\n",
       "    .dataframe tbody tr th {\n",
       "        vertical-align: top;\n",
       "    }\n",
       "\n",
       "    .dataframe thead th {\n",
       "        text-align: right;\n",
       "    }\n",
       "</style>\n",
       "<table border=\"1\" class=\"dataframe\">\n",
       "  <thead>\n",
       "    <tr style=\"text-align: right;\">\n",
       "      <th></th>\n",
       "      <th>User ID</th>\n",
       "      <th>Gender</th>\n",
       "      <th>Age</th>\n",
       "      <th>EstimatedSalary</th>\n",
       "      <th>Purchased</th>\n",
       "    </tr>\n",
       "  </thead>\n",
       "  <tbody>\n",
       "    <tr>\n",
       "      <th>0</th>\n",
       "      <td>15624510</td>\n",
       "      <td>Male</td>\n",
       "      <td>19</td>\n",
       "      <td>19000</td>\n",
       "      <td>0</td>\n",
       "    </tr>\n",
       "    <tr>\n",
       "      <th>1</th>\n",
       "      <td>15810944</td>\n",
       "      <td>Male</td>\n",
       "      <td>35</td>\n",
       "      <td>20000</td>\n",
       "      <td>0</td>\n",
       "    </tr>\n",
       "    <tr>\n",
       "      <th>2</th>\n",
       "      <td>15668575</td>\n",
       "      <td>Female</td>\n",
       "      <td>26</td>\n",
       "      <td>43000</td>\n",
       "      <td>0</td>\n",
       "    </tr>\n",
       "    <tr>\n",
       "      <th>3</th>\n",
       "      <td>15603246</td>\n",
       "      <td>Female</td>\n",
       "      <td>27</td>\n",
       "      <td>57000</td>\n",
       "      <td>0</td>\n",
       "    </tr>\n",
       "    <tr>\n",
       "      <th>4</th>\n",
       "      <td>15804002</td>\n",
       "      <td>Male</td>\n",
       "      <td>19</td>\n",
       "      <td>76000</td>\n",
       "      <td>0</td>\n",
       "    </tr>\n",
       "    <tr>\n",
       "      <th>...</th>\n",
       "      <td>...</td>\n",
       "      <td>...</td>\n",
       "      <td>...</td>\n",
       "      <td>...</td>\n",
       "      <td>...</td>\n",
       "    </tr>\n",
       "    <tr>\n",
       "      <th>395</th>\n",
       "      <td>15691863</td>\n",
       "      <td>Female</td>\n",
       "      <td>46</td>\n",
       "      <td>41000</td>\n",
       "      <td>1</td>\n",
       "    </tr>\n",
       "    <tr>\n",
       "      <th>396</th>\n",
       "      <td>15706071</td>\n",
       "      <td>Male</td>\n",
       "      <td>51</td>\n",
       "      <td>23000</td>\n",
       "      <td>1</td>\n",
       "    </tr>\n",
       "    <tr>\n",
       "      <th>397</th>\n",
       "      <td>15654296</td>\n",
       "      <td>Female</td>\n",
       "      <td>50</td>\n",
       "      <td>20000</td>\n",
       "      <td>1</td>\n",
       "    </tr>\n",
       "    <tr>\n",
       "      <th>398</th>\n",
       "      <td>15755018</td>\n",
       "      <td>Male</td>\n",
       "      <td>36</td>\n",
       "      <td>33000</td>\n",
       "      <td>0</td>\n",
       "    </tr>\n",
       "    <tr>\n",
       "      <th>399</th>\n",
       "      <td>15594041</td>\n",
       "      <td>Female</td>\n",
       "      <td>49</td>\n",
       "      <td>36000</td>\n",
       "      <td>1</td>\n",
       "    </tr>\n",
       "  </tbody>\n",
       "</table>\n",
       "<p>400 rows × 5 columns</p>\n",
       "</div>"
      ],
      "text/plain": [
       "      User ID  Gender  Age  EstimatedSalary  Purchased\n",
       "0    15624510    Male   19            19000          0\n",
       "1    15810944    Male   35            20000          0\n",
       "2    15668575  Female   26            43000          0\n",
       "3    15603246  Female   27            57000          0\n",
       "4    15804002    Male   19            76000          0\n",
       "..        ...     ...  ...              ...        ...\n",
       "395  15691863  Female   46            41000          1\n",
       "396  15706071    Male   51            23000          1\n",
       "397  15654296  Female   50            20000          1\n",
       "398  15755018    Male   36            33000          0\n",
       "399  15594041  Female   49            36000          1\n",
       "\n",
       "[400 rows x 5 columns]"
      ]
     },
     "metadata": {},
     "output_type": "display_data"
    }
   ],
   "source": [
    "#dataset = pd.read_csv('https://raw.githubusercontent.com/manojcpatil/PythonDemo/master/Data/Social_Network_Ads.csv')\n",
    "dataset = pd.read_csv('Data/Social_Network_Ads.csv')\n",
    "display(dataset)"
   ]
  },
  {
   "cell_type": "code",
   "execution_count": 3,
   "metadata": {},
   "outputs": [],
   "source": [
    "dataset=dataset.drop(['User ID','Gender'],axis=1)\n",
    "#dataset.Gender.replace(['Male','Female'],[0,1],inplace=True)"
   ]
  },
  {
   "cell_type": "code",
   "execution_count": 4,
   "metadata": {},
   "outputs": [],
   "source": [
<<<<<<< HEAD
    "X = dataset.iloc[:, :-1].values\n",
    "y = dataset.iloc[:, -1].values"
=======
    "X=dataset.iloc[:,:-1]\n",
    "y=dataset.iloc[:,-1]"
>>>>>>> 27c2bb20784ba100daf77f2f749dc535e593bf8b
   ]
  },
  {
   "cell_type": "code",
   "execution_count": 38,
   "metadata": {},
   "outputs": [
    {
     "data": {
      "text/plain": [
       "array([[   19, 19000],\n",
       "       [   35, 20000],\n",
       "       [   26, 43000],\n",
       "       [   27, 57000],\n",
       "       [   19, 76000]], dtype=int64)"
      ]
     },
     "execution_count": 38,
     "metadata": {},
     "output_type": "execute_result"
    }
   ],
   "source": [
    "X[0:5]"
   ]
  },
  {
   "cell_type": "code",
   "execution_count": 39,
   "metadata": {},
   "outputs": [
    {
     "data": {
      "text/html": [
       "<div>\n",
       "<style scoped>\n",
       "    .dataframe tbody tr th:only-of-type {\n",
       "        vertical-align: middle;\n",
       "    }\n",
       "\n",
       "    .dataframe tbody tr th {\n",
       "        vertical-align: top;\n",
       "    }\n",
       "\n",
       "    .dataframe thead th {\n",
       "        text-align: right;\n",
       "    }\n",
       "</style>\n",
       "<table border=\"1\" class=\"dataframe\">\n",
       "  <thead>\n",
       "    <tr style=\"text-align: right;\">\n",
       "      <th></th>\n",
       "      <th>Age</th>\n",
       "      <th>EstimatedSalary</th>\n",
       "      <th>Purchased</th>\n",
       "    </tr>\n",
       "  </thead>\n",
       "  <tbody>\n",
       "    <tr>\n",
       "      <th>0</th>\n",
       "      <td>19</td>\n",
       "      <td>19000</td>\n",
       "      <td>0</td>\n",
       "    </tr>\n",
       "    <tr>\n",
       "      <th>1</th>\n",
       "      <td>35</td>\n",
       "      <td>20000</td>\n",
       "      <td>0</td>\n",
       "    </tr>\n",
       "    <tr>\n",
       "      <th>2</th>\n",
       "      <td>26</td>\n",
       "      <td>43000</td>\n",
       "      <td>0</td>\n",
       "    </tr>\n",
       "    <tr>\n",
       "      <th>3</th>\n",
       "      <td>27</td>\n",
       "      <td>57000</td>\n",
       "      <td>0</td>\n",
       "    </tr>\n",
       "    <tr>\n",
       "      <th>4</th>\n",
       "      <td>19</td>\n",
       "      <td>76000</td>\n",
       "      <td>0</td>\n",
       "    </tr>\n",
       "  </tbody>\n",
       "</table>\n",
       "</div>"
      ],
      "text/plain": [
       "   Age  EstimatedSalary  Purchased\n",
       "0   19            19000          0\n",
       "1   35            20000          0\n",
       "2   26            43000          0\n",
       "3   27            57000          0\n",
       "4   19            76000          0"
      ]
     },
     "execution_count": 39,
     "metadata": {},
     "output_type": "execute_result"
    }
   ],
   "source": [
    "dataset.head()"
   ]
  },
  {
   "cell_type": "markdown",
   "metadata": {
    "colab_type": "text",
    "id": "YvxIPVyMhmKp",
    "slideshow": {
     "slide_type": "slide"
    }
   },
   "source": [
    "## Splitting the dataset into the Training set and Test set"
   ]
  },
  {
   "cell_type": "code",
<<<<<<< HEAD
   "execution_count": 40,
=======
   "execution_count": 5,
>>>>>>> 27c2bb20784ba100daf77f2f749dc535e593bf8b
   "metadata": {
    "colab": {},
    "colab_type": "code",
    "id": "AVzJWAXIhxoC"
   },
   "outputs": [],
   "source": [
    "from sklearn.model_selection import train_test_split\n",
    "X_train, X_test, y_train, y_test = train_test_split(X, y, test_size = 0.25, random_state = 0)"
   ]
  },
  {
   "cell_type": "markdown",
   "metadata": {
    "colab_type": "text",
    "id": "kW3c7UYih0hT",
    "slideshow": {
     "slide_type": "slide"
    }
   },
   "source": [
    "## Feature Scaling"
   ]
  },
  {
   "cell_type": "code",
<<<<<<< HEAD
   "execution_count": 41,
=======
   "execution_count": 6,
>>>>>>> 27c2bb20784ba100daf77f2f749dc535e593bf8b
   "metadata": {
    "colab": {},
    "colab_type": "code",
    "id": "9fQlDPKCh8sc"
   },
   "outputs": [],
   "source": [
    "from sklearn.preprocessing import StandardScaler\n",
    "sc = StandardScaler()\n",
    "X_train = sc.fit_transform(X_train)\n",
    "X_test = sc.transform(X_test)"
   ]
  },
  {
   "cell_type": "markdown",
   "metadata": {
    "colab_type": "text",
    "id": "bb6jCOCQiAmP",
    "slideshow": {
     "slide_type": "slide"
    }
   },
   "source": [
    "## Training the Decision Tree Classification model on the Training set"
   ]
  },
  {
   "cell_type": "code",
<<<<<<< HEAD
   "execution_count": 42,
=======
   "execution_count": 7,
>>>>>>> 27c2bb20784ba100daf77f2f749dc535e593bf8b
   "metadata": {
    "colab": {
     "base_uri": "https://localhost:8080/",
     "height": 120
    },
    "colab_type": "code",
    "executionInfo": {
     "elapsed": 2037,
     "status": "ok",
     "timestamp": 1588269312370,
     "user": {
      "displayName": "Hadelin de Ponteves",
      "photoUrl": "https://lh3.googleusercontent.com/a-/AOh14GhEuXdT7eQweUmRPW8_laJuPggSK6hfvpl5a6WBaA=s64",
      "userId": "15047218817161520419"
     },
     "user_tz": -240
    },
    "id": "e0pFVAmciHQs",
    "outputId": "1a9b0904-ea86-40d9-bca2-a28fdf00d56d"
   },
   "outputs": [
    {
     "data": {
      "text/plain": [
       "DecisionTreeClassifier(criterion='entropy', random_state=0)"
      ]
     },
<<<<<<< HEAD
     "execution_count": 42,
=======
     "execution_count": 7,
>>>>>>> 27c2bb20784ba100daf77f2f749dc535e593bf8b
     "metadata": {},
     "output_type": "execute_result"
    }
   ],
   "source": [
    "from sklearn.tree import DecisionTreeClassifier\n",
    "classifier = DecisionTreeClassifier(criterion = 'entropy', random_state = 0)\n",
    "classifier.fit(X_train, y_train)"
   ]
  },
  {
   "cell_type": "code",
   "execution_count": 8,
   "metadata": {},
   "outputs": [
    {
     "data": {
      "text/html": [
       "<div>\n",
       "<style scoped>\n",
       "    .dataframe tbody tr th:only-of-type {\n",
       "        vertical-align: middle;\n",
       "    }\n",
       "\n",
       "    .dataframe tbody tr th {\n",
       "        vertical-align: top;\n",
       "    }\n",
       "\n",
       "    .dataframe thead th {\n",
       "        text-align: right;\n",
       "    }\n",
       "</style>\n",
       "<table border=\"1\" class=\"dataframe\">\n",
       "  <thead>\n",
       "    <tr style=\"text-align: right;\">\n",
       "      <th></th>\n",
       "      <th>Age</th>\n",
       "      <th>EstimatedSalary</th>\n",
       "    </tr>\n",
       "  </thead>\n",
       "  <tbody>\n",
       "    <tr>\n",
       "      <th>0</th>\n",
       "      <td>19</td>\n",
       "      <td>19000</td>\n",
       "    </tr>\n",
       "    <tr>\n",
       "      <th>1</th>\n",
       "      <td>35</td>\n",
       "      <td>20000</td>\n",
       "    </tr>\n",
       "    <tr>\n",
       "      <th>2</th>\n",
       "      <td>26</td>\n",
       "      <td>43000</td>\n",
       "    </tr>\n",
       "    <tr>\n",
       "      <th>3</th>\n",
       "      <td>27</td>\n",
       "      <td>57000</td>\n",
       "    </tr>\n",
       "    <tr>\n",
       "      <th>4</th>\n",
       "      <td>19</td>\n",
       "      <td>76000</td>\n",
       "    </tr>\n",
       "    <tr>\n",
       "      <th>...</th>\n",
       "      <td>...</td>\n",
       "      <td>...</td>\n",
       "    </tr>\n",
       "    <tr>\n",
       "      <th>395</th>\n",
       "      <td>46</td>\n",
       "      <td>41000</td>\n",
       "    </tr>\n",
       "    <tr>\n",
       "      <th>396</th>\n",
       "      <td>51</td>\n",
       "      <td>23000</td>\n",
       "    </tr>\n",
       "    <tr>\n",
       "      <th>397</th>\n",
       "      <td>50</td>\n",
       "      <td>20000</td>\n",
       "    </tr>\n",
       "    <tr>\n",
       "      <th>398</th>\n",
       "      <td>36</td>\n",
       "      <td>33000</td>\n",
       "    </tr>\n",
       "    <tr>\n",
       "      <th>399</th>\n",
       "      <td>49</td>\n",
       "      <td>36000</td>\n",
       "    </tr>\n",
       "  </tbody>\n",
       "</table>\n",
       "<p>400 rows × 2 columns</p>\n",
       "</div>"
      ],
      "text/plain": [
       "     Age  EstimatedSalary\n",
       "0     19            19000\n",
       "1     35            20000\n",
       "2     26            43000\n",
       "3     27            57000\n",
       "4     19            76000\n",
       "..   ...              ...\n",
       "395   46            41000\n",
       "396   51            23000\n",
       "397   50            20000\n",
       "398   36            33000\n",
       "399   49            36000\n",
       "\n",
       "[400 rows x 2 columns]"
      ]
     },
     "execution_count": 8,
     "metadata": {},
     "output_type": "execute_result"
    }
   ],
   "source": [
    "X"
   ]
  },
  {
   "cell_type": "markdown",
   "metadata": {
    "colab_type": "text",
    "id": "yyxW5b395mR2",
    "slideshow": {
     "slide_type": "slide"
    }
   },
   "source": [
    "## Predicting a new result"
   ]
  },
  {
   "cell_type": "code",
<<<<<<< HEAD
   "execution_count": 44,
=======
   "execution_count": 9,
>>>>>>> 27c2bb20784ba100daf77f2f749dc535e593bf8b
   "metadata": {
    "colab": {
     "base_uri": "https://localhost:8080/",
     "height": 34
    },
    "colab_type": "code",
    "executionInfo": {
     "elapsed": 2034,
     "status": "ok",
     "timestamp": 1588269312371,
     "user": {
      "displayName": "Hadelin de Ponteves",
      "photoUrl": "https://lh3.googleusercontent.com/a-/AOh14GhEuXdT7eQweUmRPW8_laJuPggSK6hfvpl5a6WBaA=s64",
      "userId": "15047218817161520419"
     },
     "user_tz": -240
    },
    "id": "f8YOXsQy58rP",
    "outputId": "cd4b80f5-59ad-40b1-d5f3-8fc98b87bd66"
   },
   "outputs": [
    {
     "name": "stdout",
     "output_type": "stream",
     "text": [
      "[1]\n"
     ]
    }
   ],
   "source": [
    "print(classifier.predict(sc.transform([[45,87000]])))"
   ]
  },
  {
   "cell_type": "markdown",
   "metadata": {
    "colab_type": "text",
    "id": "vKYVQH-l5NpE",
    "slideshow": {
     "slide_type": "slide"
    }
   },
   "source": [
    "## Predicting the Test set results"
   ]
  },
  {
   "cell_type": "code",
<<<<<<< HEAD
   "execution_count": 45,
=======
   "execution_count": 10,
>>>>>>> 27c2bb20784ba100daf77f2f749dc535e593bf8b
   "metadata": {
    "colab": {
     "base_uri": "https://localhost:8080/",
     "height": 1000
    },
    "colab_type": "code",
    "executionInfo": {
     "elapsed": 2029,
     "status": "ok",
     "timestamp": 1588269312371,
     "user": {
      "displayName": "Hadelin de Ponteves",
      "photoUrl": "https://lh3.googleusercontent.com/a-/AOh14GhEuXdT7eQweUmRPW8_laJuPggSK6hfvpl5a6WBaA=s64",
      "userId": "15047218817161520419"
     },
     "user_tz": -240
    },
    "id": "p6VMTb2O4hwM",
    "outputId": "05404102-6c3b-4c34-a180-e2a1d5a85e57"
   },
   "outputs": [
    {
     "data": {
      "text/plain": [
       "array([0, 0, 0, 0, 0, 0, 0, 1, 0, 0, 0, 0, 0, 1, 0, 1, 1, 0, 1, 0, 0, 1,\n",
       "       0, 1, 0, 0, 0, 0, 0, 0, 0, 0, 1, 0, 0, 0, 0, 0, 0, 1, 0, 0, 0, 0,\n",
       "       1, 0, 0, 1, 0, 1, 1, 0, 0, 1, 1, 1, 0, 0, 1, 0, 0, 1, 0, 1, 0, 1,\n",
       "       0, 0, 0, 1, 1, 0, 0, 1, 0, 0, 0, 0, 1, 1, 1, 1, 0, 0, 1, 0, 0, 1,\n",
       "       1, 0, 0, 1, 0, 0, 0, 1, 0, 1, 1, 1], dtype=int64)"
      ]
     },
     "execution_count": 10,
     "metadata": {},
     "output_type": "execute_result"
    }
   ],
   "source": [
    "y_pred = classifier.predict(X_test)\n",
    "y_pred"
   ]
  },
  {
   "cell_type": "markdown",
   "metadata": {
    "colab_type": "text",
    "id": "h4Hwj34ziWQW"
   },
   "source": [
    "## Making the Confusion Matrix"
   ]
  },
  {
   "cell_type": "code",
<<<<<<< HEAD
   "execution_count": 46,
=======
   "execution_count": 11,
>>>>>>> 27c2bb20784ba100daf77f2f749dc535e593bf8b
   "metadata": {
    "colab": {
     "base_uri": "https://localhost:8080/",
     "height": 68
    },
    "colab_type": "code",
    "executionInfo": {
     "elapsed": 2026,
     "status": "ok",
     "timestamp": 1588269312371,
     "user": {
      "displayName": "Hadelin de Ponteves",
      "photoUrl": "https://lh3.googleusercontent.com/a-/AOh14GhEuXdT7eQweUmRPW8_laJuPggSK6hfvpl5a6WBaA=s64",
      "userId": "15047218817161520419"
     },
     "user_tz": -240
    },
    "id": "D6bpZwUiiXic",
    "outputId": "031d8132-ae7a-4a4c-b2dd-26b88da40ed6"
   },
   "outputs": [
    {
     "name": "stdout",
     "output_type": "stream",
     "text": [
      "Confusion Matrix:\n",
      " [[62  6]\n",
      " [ 3 29]]\n",
      "Accuaracy Score:  0.91\n"
     ]
<<<<<<< HEAD
    },
    {
     "data": {
      "text/plain": [
       "0.91"
      ]
     },
     "execution_count": 46,
     "metadata": {},
     "output_type": "execute_result"
=======
>>>>>>> 27c2bb20784ba100daf77f2f749dc535e593bf8b
    }
   ],
   "source": [
    "from sklearn.metrics import confusion_matrix, accuracy_score\n",
    "cm = confusion_matrix(y_test, y_pred)\n",
    "print('Confusion Matrix:\\n',cm)\n",
    "print('Accuaracy Score: ',accuracy_score(y_test, y_pred))"
   ]
  },
  {
   "cell_type": "markdown",
   "metadata": {
    "colab_type": "text",
    "id": "6OMC_P0diaoD"
   },
   "source": [
    "## Visualising the Training set results"
   ]
  },
  {
   "cell_type": "code",
<<<<<<< HEAD
   "execution_count": 47,
=======
   "execution_count": 14,
>>>>>>> 27c2bb20784ba100daf77f2f749dc535e593bf8b
   "metadata": {
    "colab": {
     "base_uri": "https://localhost:8080/",
     "height": 349
    },
    "colab_type": "code",
    "executionInfo": {
     "elapsed": 30339,
     "status": "ok",
     "timestamp": 1588269340691,
     "user": {
      "displayName": "Hadelin de Ponteves",
      "photoUrl": "https://lh3.googleusercontent.com/a-/AOh14GhEuXdT7eQweUmRPW8_laJuPggSK6hfvpl5a6WBaA=s64",
      "userId": "15047218817161520419"
     },
     "user_tz": -240
    },
    "id": "_NOjKvZRid5l",
    "outputId": "cd4f51f4-8260-40bf-aa20-e238d60ccc1e"
   },
   "outputs": [
    {
     "name": "stderr",
     "output_type": "stream",
     "text": [
      "*c* argument looks like a single numeric RGB or RGBA sequence, which should be avoided as value-mapping will have precedence in case its length matches with *x* & *y*.  Please use the *color* keyword-argument or provide a 2D array with a single row if you intend to specify the same RGB or RGBA value for all points.\n",
      "*c* argument looks like a single numeric RGB or RGBA sequence, which should be avoided as value-mapping will have precedence in case its length matches with *x* & *y*.  Please use the *color* keyword-argument or provide a 2D array with a single row if you intend to specify the same RGB or RGBA value for all points.\n"
     ]
    },
    {
     "data": {
<<<<<<< HEAD
      "image/png": "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\n",
=======
      "image/png": "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\n",
>>>>>>> 27c2bb20784ba100daf77f2f749dc535e593bf8b
      "text/plain": [
       "<Figure size 432x288 with 1 Axes>"
      ]
     },
     "metadata": {
      "needs_background": "light"
     },
     "output_type": "display_data"
    }
   ],
   "source": [
    "from matplotlib.colors import ListedColormap\n",
    "X_set, y_set = sc.inverse_transform(X_train), y_train\n",
    "X1, X2 = np.meshgrid(np.arange(start = X_set[:, 0].min() - 10, stop = X_set[:, 0].max() + 10, step = 0.25),\n",
    "                     np.arange(start = X_set[:, 1].min() - 1000, stop = X_set[:, 1].max() + 1000, step = 500))\n",
    "plt.contourf(X1, X2, classifier.predict(sc.transform(np.array([X1.ravel(), X2.ravel()]).T)).reshape(X1.shape),\n",
    "             alpha = 0.75, cmap = ListedColormap(('red', 'green')))\n",
    "plt.xlim(X1.min(), X1.max())\n",
    "plt.ylim(X2.min(), X2.max())\n",
    "for i, j in enumerate(np.unique(y_set)):\n",
    "    plt.scatter(X_set[y_set == j, 0], X_set[y_set == j, 1], c = ListedColormap(('red', 'green'))(i), label = j)\n",
    "plt.title('Decision Tree Classification (Training set)')\n",
    "plt.xlabel('Age')\n",
    "plt.ylabel('Estimated Salary')\n",
    "plt.legend()\n",
    "plt.show()"
   ]
  },
  {
   "cell_type": "markdown",
   "metadata": {
    "colab_type": "text",
    "id": "SZ-j28aPihZx"
   },
   "source": [
    "## Visualising the Test set results"
   ]
  },
  {
   "cell_type": "code",
<<<<<<< HEAD
   "execution_count": 48,
=======
   "execution_count": 15,
>>>>>>> 27c2bb20784ba100daf77f2f749dc535e593bf8b
   "metadata": {
    "colab": {
     "base_uri": "https://localhost:8080/",
     "height": 349
    },
    "colab_type": "code",
    "executionInfo": {
     "elapsed": 55016,
     "status": "ok",
     "timestamp": 1588269365372,
     "user": {
      "displayName": "Hadelin de Ponteves",
      "photoUrl": "https://lh3.googleusercontent.com/a-/AOh14GhEuXdT7eQweUmRPW8_laJuPggSK6hfvpl5a6WBaA=s64",
      "userId": "15047218817161520419"
     },
     "user_tz": -240
    },
    "id": "qeTjz2vDilAC",
    "outputId": "c9624a3f-544e-4033-8cb8-bb4b7b08ff4a"
   },
   "outputs": [
    {
     "name": "stderr",
     "output_type": "stream",
     "text": [
      "*c* argument looks like a single numeric RGB or RGBA sequence, which should be avoided as value-mapping will have precedence in case its length matches with *x* & *y*.  Please use the *color* keyword-argument or provide a 2D array with a single row if you intend to specify the same RGB or RGBA value for all points.\n",
      "*c* argument looks like a single numeric RGB or RGBA sequence, which should be avoided as value-mapping will have precedence in case its length matches with *x* & *y*.  Please use the *color* keyword-argument or provide a 2D array with a single row if you intend to specify the same RGB or RGBA value for all points.\n"
     ]
    },
    {
     "data": {
<<<<<<< HEAD
      "image/png": "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\n",
=======
      "image/png": "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\n",
>>>>>>> 27c2bb20784ba100daf77f2f749dc535e593bf8b
      "text/plain": [
       "<Figure size 432x288 with 1 Axes>"
      ]
     },
     "metadata": {
      "needs_background": "light"
     },
     "output_type": "display_data"
    }
   ],
   "source": [
    "from matplotlib.colors import ListedColormap\n",
    "X_set, y_set = sc.inverse_transform(X_test), y_test\n",
    "X1, X2 = np.meshgrid(np.arange(start = X_set[:, 0].min() - 10, stop = X_set[:, 0].max() + 10, step = 0.25),\n",
    "                     np.arange(start = X_set[:, 1].min() - 1000, stop = X_set[:, 1].max() + 1000, step = 500))\n",
    "plt.contourf(X1, X2, classifier.predict(sc.transform(np.array([X1.ravel(), X2.ravel()]).T)).reshape(X1.shape),\n",
    "             alpha = 0.75, cmap = ListedColormap(('red', 'green')))\n",
    "plt.xlim(X1.min(), X1.max())\n",
    "plt.ylim(X2.min(), X2.max())\n",
    "for i, j in enumerate(np.unique(y_set)):\n",
    "    plt.scatter(X_set[y_set == j, 0], X_set[y_set == j, 1], c = ListedColormap(('red', 'green'))(i), label = j)\n",
    "plt.title('Decision Tree Classification (Test set)')\n",
    "plt.xlabel('Age')\n",
    "plt.ylabel('Estimated Salary')\n",
    "plt.legend()\n",
    "plt.show()"
   ]
  },
  {
   "cell_type": "code",
   "execution_count": null,
   "metadata": {},
   "outputs": [],
   "source": []
  },
  {
   "cell_type": "code",
   "execution_count": null,
   "metadata": {},
   "outputs": [],
   "source": [
    "\n",
    "\n",
    "\n",
    "\n"
   ]
  },
  {
   "cell_type": "code",
   "execution_count": null,
   "metadata": {},
   "outputs": [],
   "source": []
  }
 ],
 "metadata": {
  "celltoolbar": "Slideshow",
  "colab": {
   "authorship_tag": "ABX9TyP02NrvZmmq4qjp5mwU3Mr2",
   "collapsed_sections": [],
   "machine_shape": "hm",
   "name": "decision_tree_classification.ipynb",
   "provenance": [],
   "toc_visible": true
  },
  "kernelspec": {
   "display_name": "Python 3 (ipykernel)",
   "language": "python",
   "name": "python3"
  },
  "language_info": {
   "codemirror_mode": {
    "name": "ipython",
    "version": 3
   },
   "file_extension": ".py",
   "mimetype": "text/x-python",
   "name": "python",
   "nbconvert_exporter": "python",
   "pygments_lexer": "ipython3",
   "version": "3.9.5"
  },
  "latex_envs": {
   "LaTeX_envs_menu_present": true,
   "autoclose": false,
   "autocomplete": true,
   "bibliofile": "biblio.bib",
   "cite_by": "apalike",
   "current_citInitial": 1,
   "eqLabelWithNumbers": true,
   "eqNumInitial": 1,
   "hotkeys": {
    "equation": "Ctrl-E",
    "itemize": "Ctrl-I"
   },
   "labels_anchors": false,
   "latex_user_defs": false,
   "report_style_numbering": false,
   "user_envs_cfg": false
  },
  "toc": {
   "base_numbering": 1,
   "nav_menu": {},
   "number_sections": true,
   "sideBar": true,
   "skip_h1_title": false,
   "title_cell": "Table of Contents",
   "title_sidebar": "Contents",
   "toc_cell": false,
   "toc_position": {},
   "toc_section_display": true,
   "toc_window_display": false
  }
 },
 "nbformat": 4,
 "nbformat_minor": 1
}
