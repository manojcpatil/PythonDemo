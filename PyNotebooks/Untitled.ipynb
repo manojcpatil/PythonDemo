{
 "cells": [
  {
   "cell_type": "code",
   "execution_count": 1,
   "id": "acd42f08",
   "metadata": {},
   "outputs": [],
   "source": [
    "import os"
   ]
  },
  {
   "cell_type": "code",
   "execution_count": 21,
   "id": "3f68bd9a",
   "metadata": {},
   "outputs": [
    {
     "name": "stdout",
     "output_type": "stream",
     "text": [
      "jupyter nbconvert --execute \"02_Literals,_identifiers,_Keywords_and_Operators.ipynb\" --to markdown\n",
      "jupyter nbconvert --execute \"03_Creating_Python_Programs.ipynb\" --to markdown\n",
      "jupyter nbconvert --execute \"04_List_Tuples_and_Dictionaries.ipynb\" --to markdown\n",
      "jupyter nbconvert --execute \"05_Date_and_Time_in_Python.ipynb\" --to markdown\n",
      "jupyter nbconvert --execute \"06_OOPs_in_Python.ipynb\" --to markdown\n",
      "jupyter nbconvert --execute \"07_Package_Intro_Numpy_Tutorial.ipynb\" --to markdown\n",
      "jupyter nbconvert --execute \"08_Package_Intro_Pandas.ipynb\" --to markdown\n",
      "jupyter nbconvert --execute \"Classification_decision-tree-classifier-tutorial.ipynb\" --to markdown\n",
      "jupyter nbconvert --execute \"Classification_Decision_Tree.ipynb\" --to markdown\n",
      "jupyter nbconvert --execute \"Classification_KNN.ipynb\" --to markdown\n",
      "jupyter nbconvert --execute \"Classification_KNN_Diabetes_dataset.ipynb\" --to markdown\n",
      "jupyter nbconvert --execute \"Classification_KNN__with_scikit-learn.ipynb\" --to markdown\n",
      "jupyter nbconvert --execute \"Classification_Machine_Learning.ipynb\" --to markdown\n",
      "jupyter nbconvert --execute \"Classification_Naive_Bayes.ipynb\" --to markdown\n",
      "jupyter nbconvert --execute \"Classification_Naive_Bayes_2.ipynb\" --to markdown\n",
      "jupyter nbconvert --execute \"Classification_Random_Forest.ipynb\" --to markdown\n",
      "jupyter nbconvert --execute \"Classification_Random_Forest_2.ipynb\" --to markdown\n",
      "jupyter nbconvert --execute \"Classification_Support_Vector.ipynb\" --to markdown\n",
      "jupyter nbconvert --execute \"Classification_Support_Vector_Machine.ipynb\" --to markdown\n",
      "jupyter nbconvert --execute \"Clustering k_means.ipynb\" --to markdown\n",
      "jupyter nbconvert --execute \"Clustering_Hierarchical.ipynb\" --to markdown\n",
      "jupyter nbconvert --execute \"Clustering_Hierarchical_(2).ipynb\" --to markdown\n",
      "jupyter nbconvert --execute \"Clustering_K_Means.ipynb\" --to markdown\n",
      "jupyter nbconvert --execute \"Data_Preprocessing.ipynb\" --to markdown\n",
      "jupyter nbconvert --execute \"Dealing_with_Files.ipynb\" --to markdown\n",
      "jupyter nbconvert --execute \"decision_tree_classification.ipynb\" --to markdown\n",
      "jupyter nbconvert --execute \"decision_tree_regression.ipynb\" --to markdown\n",
      "jupyter nbconvert --execute \"file_3.ipynb\" --to markdown\n",
      "jupyter nbconvert --execute \"Github.ipynb\" --to markdown\n",
      "jupyter nbconvert --execute \"Introduction_to_Python.ipynb\" --to markdown\n",
      "jupyter nbconvert --execute \"Numerical_Methods_Method_of_Bisection.ipynb\" --to markdown\n",
      "jupyter nbconvert --execute \"Numerical_Methods_Method_Of_Integration.ipynb\" --to markdown\n",
      "jupyter nbconvert --execute \"Numerical_Methods_Method_of_Newton_Raphson.ipynb\" --to markdown\n",
      "jupyter nbconvert --execute \"Numerical_Methods_Method_of_Regula_Faalsi.ipynb\" --to markdown\n",
      "jupyter nbconvert --execute \"Package_Intro_Pandas_.ipynb\" --to markdown\n",
      "jupyter nbconvert --execute \"Package_Intro_Pandas_2.ipynb\" --to markdown\n",
      "jupyter nbconvert --execute \"Practical.ipynb\" --to markdown\n",
      "jupyter nbconvert --execute \"Practicals_Sampling_Methods.ipynb\" --to markdown\n",
      "jupyter nbconvert --execute \"Testing_of_Hypothesis_Parametric_Tests.ipynb\" --to markdown\n",
      "jupyter nbconvert --execute \"Untitled.ipynb\" --to markdown\n"
     ]
    },
    {
     "data": {
      "text/plain": [
       "['01 IntroPython.ipynb',\n",
       " '02_Literals,_identifiers,_Keywords_and_Operators.ipynb',\n",
       " '03_Creating_Python_Programs.ipynb',\n",
       " '04_List_Tuples_and_Dictionaries.ipynb',\n",
       " '05_Date_and_Time_in_Python.ipynb',\n",
       " '06_OOPs_in_Python.ipynb',\n",
       " '07_Package_Intro_Numpy_Tutorial.ipynb',\n",
       " '08_Package_Intro_Pandas.ipynb',\n",
       " 'Breast Cancer Detection Using XGBoost.ipynb',\n",
       " 'Classification_decision-tree-classifier-tutorial.ipynb',\n",
       " 'Classification_Decision_Tree.ipynb',\n",
       " 'Classification_KNN.ipynb',\n",
       " 'Classification_KNN_Diabetes_dataset.ipynb',\n",
       " 'Classification_KNN__with_scikit-learn.ipynb',\n",
       " 'Classification_Machine_Learning.ipynb',\n",
       " 'Classification_Naive_Bayes.ipynb',\n",
       " 'Classification_Naive_Bayes_2.ipynb',\n",
       " 'Classification_Random_Forest.ipynb',\n",
       " 'Classification_Random_Forest_2.ipynb',\n",
       " 'Classification_Support_Vector.ipynb',\n",
       " 'Classification_Support_Vector_Machine.ipynb',\n",
       " 'Clustering k_means.ipynb',\n",
       " 'Clustering_Hierarchical.ipynb',\n",
       " 'Clustering_Hierarchical_(2).ipynb',\n",
       " 'Clustering_K_Means.ipynb',\n",
       " 'Data_Preprocessing.ipynb',\n",
       " 'Dealing_with_Files.ipynb',\n",
       " 'decision_tree_classification.ipynb',\n",
       " 'decision_tree_regression.ipynb',\n",
       " 'file_3.ipynb',\n",
       " 'Github.ipynb',\n",
       " 'Introduction_to_Python.ipynb',\n",
       " 'Numerical_Methods_Method_of_Bisection.ipynb',\n",
       " 'Numerical_Methods_Method_Of_Integration.ipynb',\n",
       " 'Numerical_Methods_Method_of_Newton_Raphson.ipynb',\n",
       " 'Numerical_Methods_Method_of_Regula_Faalsi.ipynb',\n",
       " 'Package_Intro_Pandas_.ipynb',\n",
       " 'Package_Intro_Pandas_2.ipynb',\n",
       " 'Practical.ipynb',\n",
       " 'Practicals_Sampling_Methods.ipynb',\n",
       " 'RegressionPracticalsUsingPython.ipynb',\n",
       " 'Testing_of_Hypothesis_Parametric_Tests.ipynb',\n",
       " 'Untitled.ipynb']"
      ]
     },
     "execution_count": 21,
     "metadata": {},
     "output_type": "execute_result"
    }
   ],
   "source": [
    "filelist=os.listdir()\n",
    "for file in filelist:\n",
    "    if file.endswith(\".ipynb\"):\n",
    "        #rename file file.replace(\" \",\"_\")\n",
    "        print('jupyter nbconvert --execute \"'+file+'\" --to markdown')\n",
    "    else:\n",
    "        filelist.remove(file)\n",
    "filelist"
   ]
  },
  {
   "cell_type": "code",
   "execution_count": 17,
   "id": "851e2263",
   "metadata": {},
   "outputs": [
    {
     "ename": "SyntaxError",
     "evalue": "invalid syntax (<ipython-input-17-cfe37f9ef60c>, line 1)",
     "output_type": "error",
     "traceback": [
      "\u001b[1;36m  File \u001b[1;32m\"<ipython-input-17-cfe37f9ef60c>\"\u001b[1;36m, line \u001b[1;32m1\u001b[0m\n\u001b[1;33m    rename '02 Literals, identifiers, Keywords and Operators.ipynb' '02_Literals,_identifiers,_Keywords_and_Operators.ipynb'\u001b[0m\n\u001b[1;37m           ^\u001b[0m\n\u001b[1;31mSyntaxError\u001b[0m\u001b[1;31m:\u001b[0m invalid syntax\n"
     ]
    }
   ],
   "source": [
    "rename '02 Literals, identifiers, Keywords and Operators.ipynb' '02_Literals,_identifiers,_Keywords_and_Operators.ipynb'\n",
    "rename '03 Creating Python Programs.ipynb' '03_Creating_Python_Programs.ipynb'\n",
    "rename '04 List Tuples and Dictionaries.ipynb' '04_List_Tuples_and_Dictionaries.ipynb'\n",
    "rename '05 Date and Time in Python.ipynb' '05_Date_and_Time_in_Python.ipynb'\n",
    "rename '06 OOPs in Python.ipynb' '06_OOPs_in_Python.ipynb'\n",
    "rename '07 Package Intro Numpy Tutorial.ipynb' '07_Package_Intro_Numpy_Tutorial.ipynb'\n",
    "rename '08_Package_Intro_Pandas.ipynb' '08_Package_Intro_Pandas.ipynb'\n",
    "rename 'Classification Decision Tree.ipynb' 'Classification_Decision_Tree.ipynb'\n",
    "rename 'Classification decision-tree-classifier-tutorial.ipynb' 'Classification_decision-tree-classifier-tutorial.ipynb'\n",
    "rename 'Classification KNN  with scikit-learn.ipynb' 'Classification_KNN__with_scikit-learn.ipynb'\n",
    "rename 'Classification KNN Diabetes dataset.ipynb' 'Classification_KNN_Diabetes_dataset.ipynb'\n",
    "rename 'Classification KNN.ipynb' 'Classification_KNN.ipynb'\n",
    "rename 'Classification Machine Learning.ipynb' 'Classification_Machine_Learning.ipynb'\n",
    "rename 'Classification Naive Bayes 2.ipynb' 'Classification_Naive_Bayes_2.ipynb'\n",
    "rename 'Classification Naive Bayes.ipynb' 'Classification_Naive_Bayes.ipynb'\n",
    "rename 'Classification Random Forest 2.ipynb' 'Classification_Random_Forest_2.ipynb'\n",
    "rename 'Classification Random Forest.ipynb' 'Classification_Random_Forest.ipynb'\n",
    "rename 'Classification Support Vector Machine.ipynb' 'Classification_Support_Vector_Machine.ipynb'\n",
    "rename 'Classification Support Vector.ipynb' 'Classification_Support_Vector.ipynb'\n",
    "rename 'Clustering Hierarchical (2).ipynb' 'Clustering_Hierarchical_(2).ipynb'\n",
    "rename 'Clustering Hierarchical.ipynb' 'Clustering_Hierarchical.ipynb'\n",
    "rename 'Clustering K Means.ipynb' 'Clustering_K_Means.ipynb'\n",
    "rename 'Clustering k_means.ipynb' 'Clustering_k_means.ipynb'\n",
    "rename 'Data Preprocessing.ipynb' 'Data_Preprocessing.ipynb'\n",
    "rename 'Dealing with Files.ipynb' 'Dealing_with_Files.ipynb'\n",
    "rename 'decision_tree_classification.ipynb' 'decision_tree_classification.ipynb'\n",
    "rename 'decision_tree_regression.ipynb' 'decision_tree_regression.ipynb'\n",
    "rename 'file_3.ipynb' 'file_3.ipynb'\n",
    "rename 'Github.ipynb' 'Github.ipynb'\n",
    "rename 'Introduction to Python.ipynb' 'Introduction_to_Python.ipynb'\n",
    "rename 'Numerical Methods Method of Bisection.ipynb' 'Numerical_Methods_Method_of_Bisection.ipynb'\n",
    "rename 'Numerical Methods Method of Newton_Raphson.ipynb' 'Numerical_Methods_Method_of_Newton_Raphson.ipynb'\n",
    "rename 'Numerical Methods Method of Regula Faalsi.ipynb' 'Numerical_Methods_Method_of_Regula_Faalsi.ipynb'\n",
    "rename 'Numerical Methods Method_Of_Integration.ipynb' 'Numerical_Methods_Method_Of_Integration.ipynb'\n",
    "rename 'Package Intro Pandas_.ipynb' 'Package_Intro_Pandas_.ipynb'\n",
    "rename 'Package Intro Pandas_2.ipynb' 'Package_Intro_Pandas_2.ipynb'\n",
    "rename 'Practical.ipynb' 'Practical.ipynb'\n",
    "rename 'Practicals_Sampling_Methods.ipynb' 'Practicals_Sampling_Methods.ipynb'\n",
    "rename 'Testing of Hypothesis Parametric Tests.ipynb' 'Testing_of_Hypothesis_Parametric_Tests.ipynb'"
   ]
  },
  {
   "cell_type": "code",
   "execution_count": null,
   "id": "59e3d844",
   "metadata": {},
   "outputs": [],
   "source": []
  }
 ],
 "metadata": {
  "kernelspec": {
   "display_name": "Python 3",
   "language": "python",
   "name": "python3"
  },
  "language_info": {
   "codemirror_mode": {
    "name": "ipython",
    "version": 3
   },
   "file_extension": ".py",
   "mimetype": "text/x-python",
   "name": "python",
   "nbconvert_exporter": "python",
   "pygments_lexer": "ipython3",
   "version": "3.9.5"
  },
  "latex_envs": {
   "LaTeX_envs_menu_present": true,
   "autoclose": false,
   "autocomplete": true,
   "bibliofile": "biblio.bib",
   "cite_by": "apalike",
   "current_citInitial": 1,
   "eqLabelWithNumbers": true,
   "eqNumInitial": 1,
   "hotkeys": {
    "equation": "Ctrl-E",
    "itemize": "Ctrl-I"
   },
   "labels_anchors": false,
   "latex_user_defs": false,
   "report_style_numbering": false,
   "user_envs_cfg": false
  }
 },
 "nbformat": 4,
 "nbformat_minor": 5
}
