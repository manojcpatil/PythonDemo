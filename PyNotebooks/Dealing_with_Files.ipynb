{
 "cells": [
  {
   "cell_type": "markdown",
   "id": "b0ef7c59",
   "metadata": {
    "slideshow": {
     "slide_type": "slide"
    }
   },
   "source": [
    "# Python File Handling\n",
    "\n",
    "File operation can be done in the following order.\n",
    "\n",
    "- Open a file\n",
    "\n",
    "- Read or write - Performing operation\n",
    "\n",
    "- Close the file"
   ]
  },
  {
   "cell_type": "markdown",
   "id": "b7ce7480",
   "metadata": {
    "slideshow": {
     "slide_type": "slide"
    }
   },
   "source": [
    "# Opening a file\n",
    "\n",
    "Python provides an `open()` function that accepts two arguments, file name and access mode in which the file is accessed. The function returns a file object which can be used to perform various operations like reading, writing, etc.\n",
    "\n",
    "Syntax:\n",
    "\n",
    "`file object = open(<file-name>, <access-mode>, <buffering>)` "
   ]
  },
  {
   "cell_type": "markdown",
   "id": "a5916540",
   "metadata": {
    "slideshow": {
     "slide_type": "slide"
    }
   },
   "source": [
    "|SN\t| Access mode |\tDescription |\n",
    "| :- | -: | :-: |\n",
    "|1|\tr|\tto read-only mode. The file is by default open in this mode if no access mode is passed. |\n",
    "|2|\trb|\tto read-only in binary format. |\n",
    "|3|\tr+|\tto read and write both. |\n",
    "|4|\trb+|\tto read and write both in binary format. |\n",
    "|5|\tw|\tto write only. It overwrites the file if previously exists or creates a new one if no file exists with the same name.  |\n",
    "|6|\twb|\tto write only in binary format. It overwrites the file if it exists previously or creates a new one if no file exists.  |\n",
    "|7|\tw+|\tto write and read both. It is different from r+ in the sense that it overwrites the previous file if one exists whereas r+ doesn't overwrite the previously written file. It creates a new file if no file exists.  |\n",
    "|8|\twb+|\tto write and read both in binary format. |\n",
    "|9|\ta|\tin the append mode. The file pointer exists at the end of the previously written file if exists any. It creates a new file if no file exists with the same name. |\n",
    "|10|\tab|\tin the append mode in binary format. The pointer exists at the end of the previously written file. It creates a new file in binary format if no file exists with the same name. |\n",
    "|11|\ta+|\tto append and read both. The file pointer remains at the end of the file if a file exists. It creates a new file if no file exists with the same name. |\n",
    "|12|\tab+|\tto append and read both in binary format. The file pointer remains at the end of the file. |"
   ]
  },
  {
   "cell_type": "code",
   "execution_count": 5,
   "id": "2b75d421",
   "metadata": {
    "slideshow": {
     "slide_type": "slide"
    }
   },
   "outputs": [
    {
     "name": "stdout",
     "output_type": "stream",
     "text": [
      "file is opened successfully\n"
     ]
    },
    {
     "data": {
      "text/plain": [
       "<_io.TextIOWrapper name='file.txt' mode='r' encoding='cp1252'>"
      ]
     },
     "execution_count": 5,
     "metadata": {},
     "output_type": "execute_result"
    }
   ],
   "source": [
    "# opens the file file.txt in read mode    \n",
    "fileptr = open(\"file.txt\",\"r\")    \n",
    "    \n",
    "if fileptr:    \n",
    "    print(\"file is opened successfully\") "
   ]
  },
  {
   "cell_type": "markdown",
   "id": "73f22e08",
   "metadata": {},
   "source": [
    "In the above code, we have passed filename as a first argument and opened file in read mode as we mentioned r as the second argument. The fileptr holds the file object and if the file is opened successfully, it will execute the print statement."
   ]
  },
  {
   "cell_type": "markdown",
   "id": "be3ee3d5",
   "metadata": {
    "slideshow": {
     "slide_type": "slide"
    }
   },
   "source": [
    "# close() method\n",
    "\n",
    "Once all the operations are done on the file, we must close it through our Python script using the close() method. Any unwritten information gets destroyed once the close() method is called on a file object.\n",
    "\n",
    "We can perform any operation on the file externally using the file system which is the currently opened in Python; hence it is good practice to close the file once all the operations are done."
   ]
  },
  {
   "cell_type": "code",
   "execution_count": 6,
   "id": "0331876b",
   "metadata": {},
   "outputs": [
    {
     "name": "stdout",
     "output_type": "stream",
     "text": [
      "file is opened successfully\n"
     ]
    }
   ],
   "source": [
    "# opens the file file.txt in read mode    \n",
    "fileptr = open(\"file.txt\",\"r\")    \n",
    "    \n",
    "if fileptr:    \n",
    "    print(\"file is opened successfully\")    \n",
    "    \n",
    "#closes the opened file    \n",
    "fileptr.close()"
   ]
  },
  {
   "cell_type": "markdown",
   "id": "49f4fc74",
   "metadata": {
    "slideshow": {
     "slide_type": "slide"
    }
   },
   "source": [
    "# with statement\n",
    "\n",
    "The with statement is useful in the case of manipulating the files. It is used in the scenario where a pair of statements is to be executed with a block of code in between.\n",
    "\n",
    "The syntax to open a file using with the statement is given below. "
   ]
  },
  {
   "cell_type": "code",
   "execution_count": 7,
   "id": "b710c2c5",
   "metadata": {},
   "outputs": [
    {
     "name": "stdout",
     "output_type": "stream",
     "text": [
      "a b c \n"
     ]
    }
   ],
   "source": [
    "# with open(< file name >, < access mode >) as < file-pointer >:    \n",
    "with open(\"file.txt\",'r') as f:    \n",
    "    content = f.read();    \n",
    "    print(content)    "
   ]
  },
  {
   "cell_type": "markdown",
   "id": "70498d94",
   "metadata": {
    "slideshow": {
     "slide_type": "slide"
    }
   },
   "source": [
    "# Writing the file\n",
    "To write some text to a file, we need to open the file using the open method with one of the following access modes.\n",
    "\n",
    "__w__ : It will overwrite the file if any file exists. The file pointer is at the beginning of the file.\n",
    "\n",
    "__a__ : It will append the existing file. The file pointer is at the end of the file. It creates a new file if no file exists."
   ]
  },
  {
   "cell_type": "code",
   "execution_count": 11,
   "id": "6289705e",
   "metadata": {},
   "outputs": [],
   "source": [
    "# open the file.txt in append mode. Create a new file if no such file exists.  \n",
    "fileptr = open(\"file2.txt\", \"w\")  \n",
    "  \n",
    "# appending the content to the file  \n",
    "fileptr.write('''Python is the modern day language. It makes things so simple. \n",
    "It is the fastest-growing programing language.\\n''')  \n",
    "  \n",
    "# closing the opened the file  \n",
    "fileptr.close()  "
   ]
  },
  {
   "cell_type": "markdown",
   "id": "2488926f",
   "metadata": {},
   "source": [
    "We have opened the file in w mode. The file2.txt file doesn't exist, it created a new file and we have written the content in the file using the write() function."
   ]
  },
  {
   "cell_type": "code",
   "execution_count": 12,
   "id": "1cbfe8da",
   "metadata": {},
   "outputs": [],
   "source": [
    "#open the file.txt in write mode.    \n",
    "fileptr = open(\"file2.txt\",\"a\")  \n",
    "    \n",
    "#overwriting the content of the file    \n",
    "fileptr.write(\"Python has an easy syntax and user-friendly interaction.\\n\")    \n",
    "\n",
    "fileptr.write('''We have opened the file in w mode. The file2.txt file doesn't exist, it created a new file and we have written the content in the file using the write() function.\\n''')\n",
    "      \n",
    "#closing the opened file     \n",
    "fileptr.close()  "
   ]
  },
  {
   "cell_type": "markdown",
   "id": "ac7aaa78",
   "metadata": {
    "slideshow": {
     "slide_type": "slide"
    }
   },
   "source": [
    "# Reading file\n",
    "\n",
    "To read a file using the Python script, the Python provides the read() method. The read() method reads a string from the file. It can read the data in the text as well as a binary format."
   ]
  },
  {
   "cell_type": "code",
   "execution_count": 19,
   "id": "ecd05014",
   "metadata": {},
   "outputs": [
    {
     "name": "stdout",
     "output_type": "stream",
     "text": [
      "Type of the content :  <class 'str'>\n",
      "Content :  Python is the modern day language. \n"
     ]
    }
   ],
   "source": [
    "# open the file.txt in read mode. causes error if no such file exists.    \n",
    "fileptr = open(\"file2.txt\",\"r\")  \n",
    "\n",
    "# stores all the data of the file into the variable content    \n",
    "content = fileptr.read(35)   \n",
    "\n",
    "# prints the type of the data stored in the file    \n",
    "print(\"Type of the content : \",type(content))      \n",
    "\n",
    "# prints the content of the file    \n",
    "print(\"Content : \",content)       \n",
    "\n",
    "# closes the opened file    \n",
    "fileptr.close()    "
   ]
  },
  {
   "cell_type": "markdown",
   "id": "6a25860b",
   "metadata": {
    "slideshow": {
     "slide_type": "slide"
    }
   },
   "source": [
    "# Read file through for loop"
   ]
  },
  {
   "cell_type": "code",
   "execution_count": 20,
   "id": "b4815205",
   "metadata": {},
   "outputs": [
    {
     "name": "stdout",
     "output_type": "stream",
     "text": [
      "Python is the modern day language. It makes things so simple. \n",
      "\n",
      "It is the fastest-growing programing language.\n",
      "\n",
      "Python has an easy syntax and user-friendly interaction.\n",
      "\n",
      "We have opened the file in w mode. The file2.txt file doesn't exist, it created a new file and we have written the content in the file using the write() function.\n",
      "\n"
     ]
    }
   ],
   "source": [
    "#open the file.txt in read mode. causes an error if no such file exists.    \n",
    "fileptr = open(\"file2.txt\",\"r\");     \n",
    "#running a for loop     \n",
    "for i in fileptr:    \n",
    "    print(i) # i contains each line of the file "
   ]
  },
  {
   "cell_type": "markdown",
   "id": "0c3c1ebe",
   "metadata": {
    "slideshow": {
     "slide_type": "slide"
    }
   },
   "source": [
    "# Reading lines using `readline()` function"
   ]
  },
  {
   "cell_type": "code",
   "execution_count": 22,
   "id": "da82ec5b",
   "metadata": {},
   "outputs": [
    {
     "name": "stdout",
     "output_type": "stream",
     "text": [
      "Content 1 :  Python is the modern day language. It makes things so simple. \n",
      "\n",
      "Content 2 :  It is the fastest-growing programing language.\n",
      "\n",
      "Content 3 :  Python has an easy syntax and user-friendly interaction.\n",
      "\n",
      "Content 4 :  We have opened the file in w mode. The file2.txt file doesn't exist, it created a new file and we have written the content in the file using the write() function.\n",
      "\n",
      "Content 5 :  \n",
      "Content 6 :  \n"
     ]
    }
   ],
   "source": [
    "#open the file.txt in read mode. causes error if no such file exists.    \n",
    "fileptr = open(\"file2.txt\",\"r\");     \n",
    "#stores all the data of the file into the variable content    \n",
    "content1 = fileptr.readline()     \n",
    "content2 = fileptr.readline()  \n",
    "content3 = fileptr.readline()     \n",
    "content4 = fileptr.readline()  \n",
    "content5 = fileptr.readline()     \n",
    "content6 = fileptr.readline()  \n",
    "\n",
    "#prints the content of the file    \n",
    "print(\"Content 1 : \",content1)     \n",
    "print(\"Content 2 : \",content2)\n",
    "print(\"Content 3 : \",content3)     \n",
    "print(\"Content 4 : \",content4)\n",
    "print(\"Content 5 : \",content5)     \n",
    "print(\"Content 6 : \",content6)\n",
    "\n",
    "#closes the opened file    \n",
    "fileptr.close()    "
   ]
  },
  {
   "cell_type": "code",
   "execution_count": 26,
   "id": "b65f9a92",
   "metadata": {
    "slideshow": {
     "slide_type": "slide"
    }
   },
   "outputs": [
    {
     "name": "stdout",
     "output_type": "stream",
     "text": [
      "Content   :  ['Python is the modern day language. It makes things so simple. \\n', 'It is the fastest-growing programing language.\\n', 'Python has an easy syntax and user-friendly interaction.\\n', \"We have opened the file in w mode. The file2.txt file doesn't exist, it created a new file and we have written the content in the file using the write() function.\\n\"]\n",
      "\n",
      "Content   :  We have opened the file in w mode. The file2.txt file doesn't exist, it created a new file and we have written the content in the file using the write() function.\n",
      "\n"
     ]
    }
   ],
   "source": [
    "#open the file.txt in read mode. causes error if no such file exists.    \n",
    "fileptr = open(\"file2.txt\",\"r\");     \n",
    "\n",
    "#stores all the data of the file into the variable content    \n",
    "content_all = fileptr.readlines()  \n",
    "\n",
    "#prints the content of the file    \n",
    "print(\"Content   : \",content_all)\n",
    "print(\"\\nContent   : \",content_all[3])\n",
    "\n",
    "#closes the opened file    \n",
    "fileptr.close()    "
   ]
  },
  {
   "cell_type": "markdown",
   "id": "b1bfadd6",
   "metadata": {
    "slideshow": {
     "slide_type": "slide"
    }
   },
   "source": [
    "# Python OS module\n",
    "## Renaming the file"
   ]
  },
  {
   "cell_type": "code",
   "execution_count": 30,
   "id": "81b8f403",
   "metadata": {},
   "outputs": [],
   "source": [
    "import os    \n",
    "    \n",
    "# rename file2.txt to file3.txt    \n",
    "os.rename(\"file2.txt\",\"file3.txt\")  "
   ]
  },
  {
   "cell_type": "markdown",
   "id": "5fa6d444",
   "metadata": {
    "slideshow": {
     "slide_type": "slide"
    }
   },
   "source": [
    "## Removing the file"
   ]
  },
  {
   "cell_type": "code",
   "execution_count": 31,
   "id": "716d74f3",
   "metadata": {},
   "outputs": [],
   "source": [
    "#deleting the file named file3.txt     \n",
    "os.remove(\"file3.txt\")    "
   ]
  },
  {
   "cell_type": "markdown",
   "id": "0a70a42b",
   "metadata": {
    "slideshow": {
     "slide_type": "slide"
    }
   },
   "source": [
    "## Creating the new directory\n",
    "\n",
    "The `mkdir()` method is used to create the directories in the current working directory. "
   ]
  },
  {
   "cell_type": "code",
   "execution_count": 36,
   "id": "bb333555",
   "metadata": {},
   "outputs": [],
   "source": [
    "#creating a new directory with the name new    \n",
    "#os.mkdir(\"new\")    \n",
    "fileptr=open(\"new\\\\file.txt\",\"w\")\n",
    "fileptr.close()"
   ]
  },
  {
   "cell_type": "markdown",
   "id": "795a1c7b",
   "metadata": {
    "slideshow": {
     "slide_type": "fragment"
    }
   },
   "source": [
    "## `getcwd()` method"
   ]
  },
  {
   "cell_type": "code",
   "execution_count": 40,
   "id": "b46059f0",
   "metadata": {},
   "outputs": [
    {
     "data": {
      "text/plain": [
       "'D:\\\\PythonDemo\\\\PythonDemo'"
      ]
     },
     "execution_count": 40,
     "metadata": {},
     "output_type": "execute_result"
    }
   ],
   "source": [
    "os.getcwd()  "
   ]
  },
  {
   "cell_type": "markdown",
   "id": "7e5ad959",
   "metadata": {
    "slideshow": {
     "slide_type": "slide"
    }
   },
   "source": [
    "## Changing the current working directory"
   ]
  },
  {
   "cell_type": "code",
   "execution_count": 41,
   "id": "2f053f85",
   "metadata": {},
   "outputs": [
    {
     "data": {
      "text/plain": [
       "'D:\\\\PythonDemo\\\\Linear-Algebra\\\\Activity 03'"
      ]
     },
     "execution_count": 41,
     "metadata": {},
     "output_type": "execute_result"
    }
   ],
   "source": [
    "# Changing current directory with the new directiory  \n",
    "os.chdir(\"D:\\\\PythonDemo\\\\Linear-Algebra\\\\Activity 03\")  \n",
    "#It will display the current working directory  \n",
    "os.getcwd()  "
   ]
  },
  {
   "cell_type": "code",
   "execution_count": 42,
   "id": "45ba01d8",
   "metadata": {},
   "outputs": [],
   "source": [
    "os.chdir(\"D:\\\\PythonDemo\\\\PythonDemo\")"
   ]
  },
  {
   "cell_type": "markdown",
   "id": "500aa5df",
   "metadata": {
    "slideshow": {
     "slide_type": "fragment"
    }
   },
   "source": [
    "## Deleting directory"
   ]
  },
  {
   "cell_type": "code",
   "execution_count": 45,
   "id": "0f1ac1ef",
   "metadata": {},
   "outputs": [],
   "source": [
    "#removing the new directory     \n",
    "#os.remove(\"new\\\\file.txt\")\n",
    "os.rmdir(\"new\")    "
   ]
  },
  {
   "cell_type": "markdown",
   "id": "4b8c35e9",
   "metadata": {
    "slideshow": {
     "slide_type": "slide"
    }
   },
   "source": [
    "# Dealing with files using Pandas"
   ]
  },
  {
   "cell_type": "code",
   "execution_count": 46,
   "id": "826b3226",
   "metadata": {},
   "outputs": [],
   "source": [
    "data = {\n",
    "    'CHN': {'COUNTRY': 'China', 'POP': 1_398.72, 'AREA': 9_596.96,\n",
    "            'GDP': 12_234.78, 'CONT': 'Asia'},\n",
    "    'IND': {'COUNTRY': 'India', 'POP': 1_351.16, 'AREA': 3_287.26,\n",
    "            'GDP': 2_575.67, 'CONT': 'Asia', 'IND_DAY': '1947-08-15'},\n",
    "    'USA': {'COUNTRY': 'US', 'POP': 329.74, 'AREA': 9_833.52,\n",
    "            'GDP': 19_485.39, 'CONT': 'N.America',\n",
    "            'IND_DAY': '1776-07-04'},\n",
    "    'IDN': {'COUNTRY': 'Indonesia', 'POP': 268.07, 'AREA': 1_910.93,\n",
    "            'GDP': 1_015.54, 'CONT': 'Asia', 'IND_DAY': '1945-08-17'},\n",
    "    'BRA': {'COUNTRY': 'Brazil', 'POP': 210.32, 'AREA': 8_515.77,\n",
    "            'GDP': 2_055.51, 'CONT': 'S.America', 'IND_DAY': '1822-09-07'},\n",
    "    'PAK': {'COUNTRY': 'Pakistan', 'POP': 205.71, 'AREA': 881.91,\n",
    "            'GDP': 302.14, 'CONT': 'Asia', 'IND_DAY': '1947-08-14'},\n",
    "    'NGA': {'COUNTRY': 'Nigeria', 'POP': 200.96, 'AREA': 923.77,\n",
    "            'GDP': 375.77, 'CONT': 'Africa', 'IND_DAY': '1960-10-01'},\n",
    "    'BGD': {'COUNTRY': 'Bangladesh', 'POP': 167.09, 'AREA': 147.57,\n",
    "            'GDP': 245.63, 'CONT': 'Asia', 'IND_DAY': '1971-03-26'},\n",
    "    'RUS': {'COUNTRY': 'Russia', 'POP': 146.79, 'AREA': 17_098.25,\n",
    "            'GDP': 1_530.75, 'IND_DAY': '1992-06-12'},\n",
    "    'MEX': {'COUNTRY': 'Mexico', 'POP': 126.58, 'AREA': 1_964.38,\n",
    "            'GDP': 1_158.23, 'CONT': 'N.America', 'IND_DAY': '1810-09-16'},\n",
    "    'JPN': {'COUNTRY': 'Japan', 'POP': 126.22, 'AREA': 377.97,\n",
    "            'GDP': 4_872.42, 'CONT': 'Asia'},\n",
    "    'DEU': {'COUNTRY': 'Germany', 'POP': 83.02, 'AREA': 357.11,\n",
    "            'GDP': 3_693.20, 'CONT': 'Europe'},\n",
    "    'FRA': {'COUNTRY': 'France', 'POP': 67.02, 'AREA': 640.68,\n",
    "            'GDP': 2_582.49, 'CONT': 'Europe', 'IND_DAY': '1789-07-14'},\n",
    "    'GBR': {'COUNTRY': 'UK', 'POP': 66.44, 'AREA': 242.50,\n",
    "            'GDP': 2_631.23, 'CONT': 'Europe'},\n",
    "    'ITA': {'COUNTRY': 'Italy', 'POP': 60.36, 'AREA': 301.34,\n",
    "            'GDP': 1_943.84, 'CONT': 'Europe'},\n",
    "    'ARG': {'COUNTRY': 'Argentina', 'POP': 44.94, 'AREA': 2_780.40,\n",
    "            'GDP': 637.49, 'CONT': 'S.America', 'IND_DAY': '1816-07-09'},\n",
    "    'DZA': {'COUNTRY': 'Algeria', 'POP': 43.38, 'AREA': 2_381.74,\n",
    "            'GDP': 167.56, 'CONT': 'Africa', 'IND_DAY': '1962-07-05'},\n",
    "    'CAN': {'COUNTRY': 'Canada', 'POP': 37.59, 'AREA': 9_984.67,\n",
    "            'GDP': 1_647.12, 'CONT': 'N.America', 'IND_DAY': '1867-07-01'},\n",
    "    'AUS': {'COUNTRY': 'Australia', 'POP': 25.47, 'AREA': 7_692.02,\n",
    "            'GDP': 1_408.68, 'CONT': 'Oceania'},\n",
    "    'KAZ': {'COUNTRY': 'Kazakhstan', 'POP': 18.53, 'AREA': 2_724.90,\n",
    "            'GDP': 159.41, 'CONT': 'Asia', 'IND_DAY': '1991-12-16'}\n",
    "}\n"
   ]
  },
  {
   "cell_type": "code",
   "execution_count": 48,
   "id": "e09ede2c",
   "metadata": {},
   "outputs": [
    {
     "data": {
      "text/html": [
       "<div>\n",
       "<style scoped>\n",
       "    .dataframe tbody tr th:only-of-type {\n",
       "        vertical-align: middle;\n",
       "    }\n",
       "\n",
       "    .dataframe tbody tr th {\n",
       "        vertical-align: top;\n",
       "    }\n",
       "\n",
       "    .dataframe thead th {\n",
       "        text-align: right;\n",
       "    }\n",
       "</style>\n",
       "<table border=\"1\" class=\"dataframe\">\n",
       "  <thead>\n",
       "    <tr style=\"text-align: right;\">\n",
       "      <th></th>\n",
       "      <th>COUNTRY</th>\n",
       "      <th>POP</th>\n",
       "      <th>AREA</th>\n",
       "      <th>GDP</th>\n",
       "      <th>CONT</th>\n",
       "      <th>IND_DAY</th>\n",
       "    </tr>\n",
       "  </thead>\n",
       "  <tbody>\n",
       "    <tr>\n",
       "      <th>CHN</th>\n",
       "      <td>China</td>\n",
       "      <td>1398.72</td>\n",
       "      <td>9596.96</td>\n",
       "      <td>12234.78</td>\n",
       "      <td>Asia</td>\n",
       "      <td>NaN</td>\n",
       "    </tr>\n",
       "    <tr>\n",
       "      <th>IND</th>\n",
       "      <td>India</td>\n",
       "      <td>1351.16</td>\n",
       "      <td>3287.26</td>\n",
       "      <td>2575.67</td>\n",
       "      <td>Asia</td>\n",
       "      <td>1947-08-15</td>\n",
       "    </tr>\n",
       "    <tr>\n",
       "      <th>USA</th>\n",
       "      <td>US</td>\n",
       "      <td>329.74</td>\n",
       "      <td>9833.52</td>\n",
       "      <td>19485.39</td>\n",
       "      <td>N.America</td>\n",
       "      <td>1776-07-04</td>\n",
       "    </tr>\n",
       "    <tr>\n",
       "      <th>IDN</th>\n",
       "      <td>Indonesia</td>\n",
       "      <td>268.07</td>\n",
       "      <td>1910.93</td>\n",
       "      <td>1015.54</td>\n",
       "      <td>Asia</td>\n",
       "      <td>1945-08-17</td>\n",
       "    </tr>\n",
       "    <tr>\n",
       "      <th>BRA</th>\n",
       "      <td>Brazil</td>\n",
       "      <td>210.32</td>\n",
       "      <td>8515.77</td>\n",
       "      <td>2055.51</td>\n",
       "      <td>S.America</td>\n",
       "      <td>1822-09-07</td>\n",
       "    </tr>\n",
       "    <tr>\n",
       "      <th>PAK</th>\n",
       "      <td>Pakistan</td>\n",
       "      <td>205.71</td>\n",
       "      <td>881.91</td>\n",
       "      <td>302.14</td>\n",
       "      <td>Asia</td>\n",
       "      <td>1947-08-14</td>\n",
       "    </tr>\n",
       "    <tr>\n",
       "      <th>NGA</th>\n",
       "      <td>Nigeria</td>\n",
       "      <td>200.96</td>\n",
       "      <td>923.77</td>\n",
       "      <td>375.77</td>\n",
       "      <td>Africa</td>\n",
       "      <td>1960-10-01</td>\n",
       "    </tr>\n",
       "    <tr>\n",
       "      <th>BGD</th>\n",
       "      <td>Bangladesh</td>\n",
       "      <td>167.09</td>\n",
       "      <td>147.57</td>\n",
       "      <td>245.63</td>\n",
       "      <td>Asia</td>\n",
       "      <td>1971-03-26</td>\n",
       "    </tr>\n",
       "    <tr>\n",
       "      <th>RUS</th>\n",
       "      <td>Russia</td>\n",
       "      <td>146.79</td>\n",
       "      <td>17098.25</td>\n",
       "      <td>1530.75</td>\n",
       "      <td>NaN</td>\n",
       "      <td>1992-06-12</td>\n",
       "    </tr>\n",
       "    <tr>\n",
       "      <th>MEX</th>\n",
       "      <td>Mexico</td>\n",
       "      <td>126.58</td>\n",
       "      <td>1964.38</td>\n",
       "      <td>1158.23</td>\n",
       "      <td>N.America</td>\n",
       "      <td>1810-09-16</td>\n",
       "    </tr>\n",
       "    <tr>\n",
       "      <th>JPN</th>\n",
       "      <td>Japan</td>\n",
       "      <td>126.22</td>\n",
       "      <td>377.97</td>\n",
       "      <td>4872.42</td>\n",
       "      <td>Asia</td>\n",
       "      <td>NaN</td>\n",
       "    </tr>\n",
       "    <tr>\n",
       "      <th>DEU</th>\n",
       "      <td>Germany</td>\n",
       "      <td>83.02</td>\n",
       "      <td>357.11</td>\n",
       "      <td>3693.2</td>\n",
       "      <td>Europe</td>\n",
       "      <td>NaN</td>\n",
       "    </tr>\n",
       "    <tr>\n",
       "      <th>FRA</th>\n",
       "      <td>France</td>\n",
       "      <td>67.02</td>\n",
       "      <td>640.68</td>\n",
       "      <td>2582.49</td>\n",
       "      <td>Europe</td>\n",
       "      <td>1789-07-14</td>\n",
       "    </tr>\n",
       "    <tr>\n",
       "      <th>GBR</th>\n",
       "      <td>UK</td>\n",
       "      <td>66.44</td>\n",
       "      <td>242.5</td>\n",
       "      <td>2631.23</td>\n",
       "      <td>Europe</td>\n",
       "      <td>NaN</td>\n",
       "    </tr>\n",
       "    <tr>\n",
       "      <th>ITA</th>\n",
       "      <td>Italy</td>\n",
       "      <td>60.36</td>\n",
       "      <td>301.34</td>\n",
       "      <td>1943.84</td>\n",
       "      <td>Europe</td>\n",
       "      <td>NaN</td>\n",
       "    </tr>\n",
       "    <tr>\n",
       "      <th>ARG</th>\n",
       "      <td>Argentina</td>\n",
       "      <td>44.94</td>\n",
       "      <td>2780.4</td>\n",
       "      <td>637.49</td>\n",
       "      <td>S.America</td>\n",
       "      <td>1816-07-09</td>\n",
       "    </tr>\n",
       "    <tr>\n",
       "      <th>DZA</th>\n",
       "      <td>Algeria</td>\n",
       "      <td>43.38</td>\n",
       "      <td>2381.74</td>\n",
       "      <td>167.56</td>\n",
       "      <td>Africa</td>\n",
       "      <td>1962-07-05</td>\n",
       "    </tr>\n",
       "    <tr>\n",
       "      <th>CAN</th>\n",
       "      <td>Canada</td>\n",
       "      <td>37.59</td>\n",
       "      <td>9984.67</td>\n",
       "      <td>1647.12</td>\n",
       "      <td>N.America</td>\n",
       "      <td>1867-07-01</td>\n",
       "    </tr>\n",
       "    <tr>\n",
       "      <th>AUS</th>\n",
       "      <td>Australia</td>\n",
       "      <td>25.47</td>\n",
       "      <td>7692.02</td>\n",
       "      <td>1408.68</td>\n",
       "      <td>Oceania</td>\n",
       "      <td>NaN</td>\n",
       "    </tr>\n",
       "    <tr>\n",
       "      <th>KAZ</th>\n",
       "      <td>Kazakhstan</td>\n",
       "      <td>18.53</td>\n",
       "      <td>2724.9</td>\n",
       "      <td>159.41</td>\n",
       "      <td>Asia</td>\n",
       "      <td>1991-12-16</td>\n",
       "    </tr>\n",
       "  </tbody>\n",
       "</table>\n",
       "</div>"
      ],
      "text/plain": [
       "        COUNTRY      POP      AREA       GDP       CONT     IND_DAY\n",
       "CHN       China  1398.72   9596.96  12234.78       Asia         NaN\n",
       "IND       India  1351.16   3287.26   2575.67       Asia  1947-08-15\n",
       "USA          US   329.74   9833.52  19485.39  N.America  1776-07-04\n",
       "IDN   Indonesia   268.07   1910.93   1015.54       Asia  1945-08-17\n",
       "BRA      Brazil   210.32   8515.77   2055.51  S.America  1822-09-07\n",
       "PAK    Pakistan   205.71    881.91    302.14       Asia  1947-08-14\n",
       "NGA     Nigeria   200.96    923.77    375.77     Africa  1960-10-01\n",
       "BGD  Bangladesh   167.09    147.57    245.63       Asia  1971-03-26\n",
       "RUS      Russia   146.79  17098.25   1530.75        NaN  1992-06-12\n",
       "MEX      Mexico   126.58   1964.38   1158.23  N.America  1810-09-16\n",
       "JPN       Japan   126.22    377.97   4872.42       Asia         NaN\n",
       "DEU     Germany    83.02    357.11    3693.2     Europe         NaN\n",
       "FRA      France    67.02    640.68   2582.49     Europe  1789-07-14\n",
       "GBR          UK    66.44     242.5   2631.23     Europe         NaN\n",
       "ITA       Italy    60.36    301.34   1943.84     Europe         NaN\n",
       "ARG   Argentina    44.94    2780.4    637.49  S.America  1816-07-09\n",
       "DZA     Algeria    43.38   2381.74    167.56     Africa  1962-07-05\n",
       "CAN      Canada    37.59   9984.67   1647.12  N.America  1867-07-01\n",
       "AUS   Australia    25.47   7692.02   1408.68    Oceania         NaN\n",
       "KAZ  Kazakhstan    18.53    2724.9    159.41       Asia  1991-12-16"
      ]
     },
     "execution_count": 48,
     "metadata": {},
     "output_type": "execute_result"
    }
   ],
   "source": [
    "import pandas as pd\n",
    "df = pd.DataFrame(data=data).T\n",
    "df"
   ]
  },
  {
   "cell_type": "markdown",
   "id": "9c31ce93",
   "metadata": {
    "slideshow": {
     "slide_type": "slide"
    }
   },
   "source": [
    "## Write a CSV File\n",
    "\n",
    "You can save your Pandas DataFrame as a CSV file with `.to_csv()`:"
   ]
  },
  {
   "cell_type": "code",
   "execution_count": 49,
   "id": "7c7d4bad",
   "metadata": {},
   "outputs": [],
   "source": [
    "df.to_csv('data1.csv')"
   ]
  },
  {
   "cell_type": "markdown",
   "id": "cf859525",
   "metadata": {
    "slideshow": {
     "slide_type": "slide"
    }
   },
   "source": [
    "## Read a CSV File\n",
    "Once your data is saved in a CSV file, you’ll likely want to load and use it from time to time. You can do that with the Pandas read_csv() function:"
   ]
  },
  {
   "cell_type": "code",
   "execution_count": 50,
   "id": "58c1ffba",
   "metadata": {},
   "outputs": [
    {
     "data": {
      "text/plain": [
       "<bound method NDFrame.head of         COUNTRY      POP      AREA       GDP       CONT     IND_DAY\n",
       "CHN       China  1398.72   9596.96  12234.78       Asia         NaN\n",
       "IND       India  1351.16   3287.26   2575.67       Asia  1947-08-15\n",
       "USA          US   329.74   9833.52  19485.39  N.America  1776-07-04\n",
       "IDN   Indonesia   268.07   1910.93   1015.54       Asia  1945-08-17\n",
       "BRA      Brazil   210.32   8515.77   2055.51  S.America  1822-09-07\n",
       "PAK    Pakistan   205.71    881.91    302.14       Asia  1947-08-14\n",
       "NGA     Nigeria   200.96    923.77    375.77     Africa  1960-10-01\n",
       "BGD  Bangladesh   167.09    147.57    245.63       Asia  1971-03-26\n",
       "RUS      Russia   146.79  17098.25   1530.75        NaN  1992-06-12\n",
       "MEX      Mexico   126.58   1964.38   1158.23  N.America  1810-09-16\n",
       "JPN       Japan   126.22    377.97   4872.42       Asia         NaN\n",
       "DEU     Germany    83.02    357.11   3693.20     Europe         NaN\n",
       "FRA      France    67.02    640.68   2582.49     Europe  1789-07-14\n",
       "GBR          UK    66.44    242.50   2631.23     Europe         NaN\n",
       "ITA       Italy    60.36    301.34   1943.84     Europe         NaN\n",
       "ARG   Argentina    44.94   2780.40    637.49  S.America  1816-07-09\n",
       "DZA     Algeria    43.38   2381.74    167.56     Africa  1962-07-05\n",
       "CAN      Canada    37.59   9984.67   1647.12  N.America  1867-07-01\n",
       "AUS   Australia    25.47   7692.02   1408.68    Oceania         NaN\n",
       "KAZ  Kazakhstan    18.53   2724.90    159.41       Asia  1991-12-16>"
      ]
     },
     "execution_count": 50,
     "metadata": {},
     "output_type": "execute_result"
    }
   ],
   "source": [
    "df = pd.read_csv('data1.csv', index_col=0)\n",
    "df.head"
   ]
  },
  {
   "cell_type": "markdown",
   "id": "96c3320a",
   "metadata": {
    "slideshow": {
     "slide_type": "slide"
    }
   },
   "source": [
    "# Using Pandas to Write and Read Excel Files\n",
    "Microsoft Excel is probably the most widely-used spreadsheet software. While older versions used binary .xls files, Excel 2007 introduced the new XML-based .xlsx file. You can read and write Excel files in Pandas, similar to CSV files. However, you’ll need to install the following Python packages first:\n",
    "\n",
    "- `xlwt` to write to .xls files\n",
    "- `openpyxl` or `XlsxWriter` to write to .xlsx files\n",
    "- `xlrd` to read Excel files\n",
    "\n",
    "You can install them using pip with a single command:"
   ]
  },
  {
   "cell_type": "code",
   "execution_count": null,
   "id": "e1974af0",
   "metadata": {},
   "outputs": [],
   "source": [
    "# !pip install xlwt openpyxl xlsxwriter xlrd"
   ]
  },
  {
   "cell_type": "markdown",
   "id": "8339bbc4",
   "metadata": {
    "slideshow": {
     "slide_type": "slide"
    }
   },
   "source": [
    "## Write an Excel File\n",
    "Once you have those packages installed, you can save your DataFrame in an Excel file with `.to_excel()`:"
   ]
  },
  {
   "cell_type": "code",
   "execution_count": 51,
   "id": "2d0897e5",
   "metadata": {},
   "outputs": [],
   "source": [
    "df.to_excel('data1.xlsx')"
   ]
  },
  {
   "cell_type": "markdown",
   "id": "93323847",
   "metadata": {
    "slideshow": {
     "slide_type": "fragment"
    }
   },
   "source": [
    "## Read an Excel File\n",
    "You can load data from Excel files with read_excel():"
   ]
  },
  {
   "cell_type": "code",
   "execution_count": 53,
   "id": "3f73a61a",
   "metadata": {},
   "outputs": [
    {
     "data": {
      "text/html": [
       "<div>\n",
       "<style scoped>\n",
       "    .dataframe tbody tr th:only-of-type {\n",
       "        vertical-align: middle;\n",
       "    }\n",
       "\n",
       "    .dataframe tbody tr th {\n",
       "        vertical-align: top;\n",
       "    }\n",
       "\n",
       "    .dataframe thead th {\n",
       "        text-align: right;\n",
       "    }\n",
       "</style>\n",
       "<table border=\"1\" class=\"dataframe\">\n",
       "  <thead>\n",
       "    <tr style=\"text-align: right;\">\n",
       "      <th></th>\n",
       "      <th>COUNTRY</th>\n",
       "      <th>POP</th>\n",
       "      <th>AREA</th>\n",
       "      <th>GDP</th>\n",
       "      <th>CONT</th>\n",
       "      <th>IND_DAY</th>\n",
       "    </tr>\n",
       "  </thead>\n",
       "  <tbody>\n",
       "    <tr>\n",
       "      <th>CHN</th>\n",
       "      <td>China</td>\n",
       "      <td>1398.72</td>\n",
       "      <td>9596.96</td>\n",
       "      <td>12234.78</td>\n",
       "      <td>Asia</td>\n",
       "      <td>NaN</td>\n",
       "    </tr>\n",
       "    <tr>\n",
       "      <th>IND</th>\n",
       "      <td>India</td>\n",
       "      <td>1351.16</td>\n",
       "      <td>3287.26</td>\n",
       "      <td>2575.67</td>\n",
       "      <td>Asia</td>\n",
       "      <td>1947-08-15</td>\n",
       "    </tr>\n",
       "    <tr>\n",
       "      <th>USA</th>\n",
       "      <td>US</td>\n",
       "      <td>329.74</td>\n",
       "      <td>9833.52</td>\n",
       "      <td>19485.39</td>\n",
       "      <td>N.America</td>\n",
       "      <td>1776-07-04</td>\n",
       "    </tr>\n",
       "    <tr>\n",
       "      <th>IDN</th>\n",
       "      <td>Indonesia</td>\n",
       "      <td>268.07</td>\n",
       "      <td>1910.93</td>\n",
       "      <td>1015.54</td>\n",
       "      <td>Asia</td>\n",
       "      <td>1945-08-17</td>\n",
       "    </tr>\n",
       "    <tr>\n",
       "      <th>BRA</th>\n",
       "      <td>Brazil</td>\n",
       "      <td>210.32</td>\n",
       "      <td>8515.77</td>\n",
       "      <td>2055.51</td>\n",
       "      <td>S.America</td>\n",
       "      <td>1822-09-07</td>\n",
       "    </tr>\n",
       "    <tr>\n",
       "      <th>PAK</th>\n",
       "      <td>Pakistan</td>\n",
       "      <td>205.71</td>\n",
       "      <td>881.91</td>\n",
       "      <td>302.14</td>\n",
       "      <td>Asia</td>\n",
       "      <td>1947-08-14</td>\n",
       "    </tr>\n",
       "    <tr>\n",
       "      <th>NGA</th>\n",
       "      <td>Nigeria</td>\n",
       "      <td>200.96</td>\n",
       "      <td>923.77</td>\n",
       "      <td>375.77</td>\n",
       "      <td>Africa</td>\n",
       "      <td>1960-10-01</td>\n",
       "    </tr>\n",
       "    <tr>\n",
       "      <th>BGD</th>\n",
       "      <td>Bangladesh</td>\n",
       "      <td>167.09</td>\n",
       "      <td>147.57</td>\n",
       "      <td>245.63</td>\n",
       "      <td>Asia</td>\n",
       "      <td>1971-03-26</td>\n",
       "    </tr>\n",
       "    <tr>\n",
       "      <th>RUS</th>\n",
       "      <td>Russia</td>\n",
       "      <td>146.79</td>\n",
       "      <td>17098.25</td>\n",
       "      <td>1530.75</td>\n",
       "      <td>NaN</td>\n",
       "      <td>1992-06-12</td>\n",
       "    </tr>\n",
       "    <tr>\n",
       "      <th>MEX</th>\n",
       "      <td>Mexico</td>\n",
       "      <td>126.58</td>\n",
       "      <td>1964.38</td>\n",
       "      <td>1158.23</td>\n",
       "      <td>N.America</td>\n",
       "      <td>1810-09-16</td>\n",
       "    </tr>\n",
       "    <tr>\n",
       "      <th>JPN</th>\n",
       "      <td>Japan</td>\n",
       "      <td>126.22</td>\n",
       "      <td>377.97</td>\n",
       "      <td>4872.42</td>\n",
       "      <td>Asia</td>\n",
       "      <td>NaN</td>\n",
       "    </tr>\n",
       "    <tr>\n",
       "      <th>DEU</th>\n",
       "      <td>Germany</td>\n",
       "      <td>83.02</td>\n",
       "      <td>357.11</td>\n",
       "      <td>3693.20</td>\n",
       "      <td>Europe</td>\n",
       "      <td>NaN</td>\n",
       "    </tr>\n",
       "    <tr>\n",
       "      <th>FRA</th>\n",
       "      <td>France</td>\n",
       "      <td>67.02</td>\n",
       "      <td>640.68</td>\n",
       "      <td>2582.49</td>\n",
       "      <td>Europe</td>\n",
       "      <td>1789-07-14</td>\n",
       "    </tr>\n",
       "    <tr>\n",
       "      <th>GBR</th>\n",
       "      <td>UK</td>\n",
       "      <td>66.44</td>\n",
       "      <td>242.50</td>\n",
       "      <td>2631.23</td>\n",
       "      <td>Europe</td>\n",
       "      <td>NaN</td>\n",
       "    </tr>\n",
       "    <tr>\n",
       "      <th>ITA</th>\n",
       "      <td>Italy</td>\n",
       "      <td>60.36</td>\n",
       "      <td>301.34</td>\n",
       "      <td>1943.84</td>\n",
       "      <td>Europe</td>\n",
       "      <td>NaN</td>\n",
       "    </tr>\n",
       "    <tr>\n",
       "      <th>ARG</th>\n",
       "      <td>Argentina</td>\n",
       "      <td>44.94</td>\n",
       "      <td>2780.40</td>\n",
       "      <td>637.49</td>\n",
       "      <td>S.America</td>\n",
       "      <td>1816-07-09</td>\n",
       "    </tr>\n",
       "    <tr>\n",
       "      <th>DZA</th>\n",
       "      <td>Algeria</td>\n",
       "      <td>43.38</td>\n",
       "      <td>2381.74</td>\n",
       "      <td>167.56</td>\n",
       "      <td>Africa</td>\n",
       "      <td>1962-07-05</td>\n",
       "    </tr>\n",
       "    <tr>\n",
       "      <th>CAN</th>\n",
       "      <td>Canada</td>\n",
       "      <td>37.59</td>\n",
       "      <td>9984.67</td>\n",
       "      <td>1647.12</td>\n",
       "      <td>N.America</td>\n",
       "      <td>1867-07-01</td>\n",
       "    </tr>\n",
       "    <tr>\n",
       "      <th>AUS</th>\n",
       "      <td>Australia</td>\n",
       "      <td>25.47</td>\n",
       "      <td>7692.02</td>\n",
       "      <td>1408.68</td>\n",
       "      <td>Oceania</td>\n",
       "      <td>NaN</td>\n",
       "    </tr>\n",
       "    <tr>\n",
       "      <th>KAZ</th>\n",
       "      <td>Kazakhstan</td>\n",
       "      <td>18.53</td>\n",
       "      <td>2724.90</td>\n",
       "      <td>159.41</td>\n",
       "      <td>Asia</td>\n",
       "      <td>1991-12-16</td>\n",
       "    </tr>\n",
       "  </tbody>\n",
       "</table>\n",
       "</div>"
      ],
      "text/plain": [
       "        COUNTRY      POP      AREA       GDP       CONT     IND_DAY\n",
       "CHN       China  1398.72   9596.96  12234.78       Asia         NaN\n",
       "IND       India  1351.16   3287.26   2575.67       Asia  1947-08-15\n",
       "USA          US   329.74   9833.52  19485.39  N.America  1776-07-04\n",
       "IDN   Indonesia   268.07   1910.93   1015.54       Asia  1945-08-17\n",
       "BRA      Brazil   210.32   8515.77   2055.51  S.America  1822-09-07\n",
       "PAK    Pakistan   205.71    881.91    302.14       Asia  1947-08-14\n",
       "NGA     Nigeria   200.96    923.77    375.77     Africa  1960-10-01\n",
       "BGD  Bangladesh   167.09    147.57    245.63       Asia  1971-03-26\n",
       "RUS      Russia   146.79  17098.25   1530.75        NaN  1992-06-12\n",
       "MEX      Mexico   126.58   1964.38   1158.23  N.America  1810-09-16\n",
       "JPN       Japan   126.22    377.97   4872.42       Asia         NaN\n",
       "DEU     Germany    83.02    357.11   3693.20     Europe         NaN\n",
       "FRA      France    67.02    640.68   2582.49     Europe  1789-07-14\n",
       "GBR          UK    66.44    242.50   2631.23     Europe         NaN\n",
       "ITA       Italy    60.36    301.34   1943.84     Europe         NaN\n",
       "ARG   Argentina    44.94   2780.40    637.49  S.America  1816-07-09\n",
       "DZA     Algeria    43.38   2381.74    167.56     Africa  1962-07-05\n",
       "CAN      Canada    37.59   9984.67   1647.12  N.America  1867-07-01\n",
       "AUS   Australia    25.47   7692.02   1408.68    Oceania         NaN\n",
       "KAZ  Kazakhstan    18.53   2724.90    159.41       Asia  1991-12-16"
      ]
     },
     "execution_count": 53,
     "metadata": {},
     "output_type": "execute_result"
    }
   ],
   "source": [
    "df2 = pd.read_excel('data1.xlsx', index_col=0)\n",
    "df2"
   ]
  },
  {
   "cell_type": "markdown",
   "id": "5a982b06",
   "metadata": {
    "slideshow": {
     "slide_type": "slide"
    }
   },
   "source": [
    "## Write Files\n",
    "Series and DataFrame objects have methods that enable writing data and labels to the clipboard or files. They’re named with the pattern `.to_<file-type>()`, where `<file-type>` is the type of the target file.\n",
    "\n",
    "You’ve learned about `.to_csv()` and `.to_excel()`, but there are others, including:\n",
    "\n",
    "- `.to_json()`\n",
    "- `.to_html()`\n",
    "- `.to_sql()`\n",
    "- `.to_pickle()`\n",
    "    "
   ]
  },
  {
   "cell_type": "markdown",
   "id": "5979a9ab",
   "metadata": {
    "slideshow": {
     "slide_type": "slide"
    }
   },
   "source": [
    "## Read Files\n",
    "Pandas functions for reading the contents of files are named using the pattern `.read_<file-type>()`, where `<file-type>` indicates the type of the file to read. You’ve already seen the Pandas `read_csv()` and `read_excel()` functions. Here are a few others:\n",
    "\n",
    "- `read_json()`\n",
    "- `read_html()`\n",
    "- `read_sql()`\n",
    "- `read_pickle()`"
   ]
  },
  {
   "cell_type": "markdown",
   "id": "d9fb9003",
   "metadata": {
    "slideshow": {
     "slide_type": "slide"
    }
   },
   "source": [
    "## For more details please refer https://realpython.com/pandas-read-write-files/"
   ]
  },
  {
   "cell_type": "markdown",
   "id": "a6e10d67",
   "metadata": {
    "slideshow": {
     "slide_type": "slide"
    }
   },
   "source": [
    "# <Center> Thank You"
   ]
  }
 ],
 "metadata": {
  "celltoolbar": "Slideshow",
  "kernelspec": {
   "display_name": "Python 3",
   "language": "python",
   "name": "python3"
  },
  "language_info": {
   "codemirror_mode": {
    "name": "ipython",
    "version": 3
   },
   "file_extension": ".py",
   "mimetype": "text/x-python",
   "name": "python",
   "nbconvert_exporter": "python",
   "pygments_lexer": "ipython3",
   "version": "3.9.5"
  },
  "latex_envs": {
   "LaTeX_envs_menu_present": true,
   "autoclose": false,
   "autocomplete": true,
   "bibliofile": "biblio.bib",
   "cite_by": "apalike",
   "current_citInitial": 1,
   "eqLabelWithNumbers": true,
   "eqNumInitial": 1,
   "hotkeys": {
    "equation": "Ctrl-E",
    "itemize": "Ctrl-I"
   },
   "labels_anchors": false,
   "latex_user_defs": false,
   "report_style_numbering": false,
   "user_envs_cfg": false
  }
 },
 "nbformat": 4,
 "nbformat_minor": 5
}
