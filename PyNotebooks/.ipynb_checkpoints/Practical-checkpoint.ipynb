{
 "cells": [
  {
   "cell_type": "markdown",
   "id": "8ec98181",
   "metadata": {},
   "source": [
    "### Statistics\n",
    "\n",
    "1. Write a function that takes a numpy array of numeric data, and returns a dictionary containing summary statistics of the data, including mean, median, mode, variance, standard deviation, skewness, and kurtosis."
   ]
  },
  {
   "cell_type": "code",
   "execution_count": 31,
   "id": "5095f508",
   "metadata": {},
   "outputs": [
    {
     "name": "stdout",
     "output_type": "stream",
     "text": [
      "{'mean': 2.1818, 'median': 2.0, 'mode': 1, 'variance': 1.0579, 'standard_deviation': 1.0285, 'skewness': 0.1326, 'kurtosis': -1.3325}\n"
     ]
    }
   ],
   "source": [
    "def fun1(x):\n",
    "    import numpy as np\n",
    "    from scipy.stats import skew, kurtosis\n",
    "    val, freq=np.unique(x,return_counts=True)\n",
    "    \n",
    "    temp={'mean':np.mean(x).round(4), \n",
    "          'median':np.median(x).round(4),\n",
    "          'mode':val[np.argmax(freq)].round(4), \n",
    "          'variance':np.var(x).round(4), \n",
    "          'standard_deviation':np.std(x).round(4), \n",
    "          'skewness':round(skew(x),4), \n",
    "          'kurtosis':round(kurtosis(x),4)\n",
    "         }\n",
    "    return temp\n",
    "\n",
    "import numpy as np\n",
    "x=np.array([1,1,1,1,2,2,3,3,3,3,4])\n",
    "print(fun1(x))"
   ]
  },
  {
   "cell_type": "markdown",
   "id": "3eaa750c",
   "metadata": {},
   "source": [
    "2. Write a function that takes two numpy arrays of numeric data, and performs a t-test to determine whether the means of the two arrays are significantly different. The function should return the t-statistic and p-value of the test."
   ]
  },
  {
   "cell_type": "code",
   "execution_count": 42,
   "id": "79ee40f9",
   "metadata": {},
   "outputs": [],
   "source": [
    "def fun2(x,y,equal=True):\n",
    "    t_stat=0\n",
    "    n1=np.size(x)\n",
    "    n2=np.size(y)\n",
    "    pooled_sd=((n1-1)*np.var(x)+(n2-1)*np.var(y))/(n1+n2-2)\n",
    "    if equal==True:\n",
    "        t_stat=(np.mean(x)-np.mean(y))/(pooled_sd*np.sqrt(1/n1+1/n2))\n",
    "    else:\n",
    "        t_stat=(np.mean(x)-np.mean(y))/(np.sqrt(np.var(x)/n1+np.var(y)/n2))\n",
    "    return t_stat\n",
    "    "
   ]
  },
  {
   "cell_type": "code",
   "execution_count": 43,
   "id": "e8b07d2c",
   "metadata": {},
   "outputs": [
    {
     "data": {
      "text/plain": [
       "-2.5387323108403232"
      ]
     },
     "execution_count": 43,
     "metadata": {},
     "output_type": "execute_result"
    }
   ],
   "source": [
    "x=np.random.normal(10,1,15)\n",
    "y=np.random.normal(11,1,25)\n",
    "fun2(x,y)"
   ]
  },
  {
   "cell_type": "markdown",
   "id": "12ab5a34",
   "metadata": {},
   "source": [
    "3. Write a function that takes a numpy array of numeric data, and computes a confidence interval for the mean of the data with a given level of confidence. The function should return the lower and upper bounds of the confidence interval."
   ]
  },
  {
   "cell_type": "code",
   "execution_count": 44,
   "id": "9c41fef9",
   "metadata": {},
   "outputs": [],
   "source": [
    "def fun2(x,alpha=0.05):\n",
    "    from scipy.stats import t\n",
    "    n=np.size(x)\n",
    "    Lower=np.mean(x)-t.ppf(1-alpha/2,n-1)*np.std(x)/(np.sqrt(n))\n",
    "    Upper=np.mean(x)+t.ppf(1-alpha/2,n-1)*np.std(x)/(np.sqrt(n))\n",
    "    return (Lower, Upper)"
   ]
  },
  {
   "cell_type": "code",
   "execution_count": 45,
   "id": "c9358eea",
   "metadata": {},
   "outputs": [
    {
     "data": {
      "text/plain": [
       "(9.762497653180322, 10.373302269895806)"
      ]
     },
     "execution_count": 45,
     "metadata": {},
     "output_type": "execute_result"
    }
   ],
   "source": [
    "x=np.random.normal(10,1,50)\n",
    "fun2(x)"
   ]
  },
  {
   "cell_type": "markdown",
   "id": "44ff6d29",
   "metadata": {},
   "source": [
    "4. Write a function that takes a numpy array of numeric data, and computes the correlation matrix between all pairs of variables in the data. The function should return a numpy array containing the correlation coefficients."
   ]
  },
  {
   "cell_type": "code",
   "execution_count": 54,
   "id": "63a7244f",
   "metadata": {},
   "outputs": [],
   "source": [
    "x=np.random.normal(10,1,(50,4))"
   ]
  },
  {
   "cell_type": "code",
   "execution_count": 55,
   "id": "ad88a37e",
   "metadata": {},
   "outputs": [
    {
     "name": "stdout",
     "output_type": "stream",
     "text": [
      "[[ 1.          0.18132964  0.20657708  0.09483809]\n",
      " [ 0.18132964  1.          0.0241338   0.19150814]\n",
      " [ 0.20657708  0.0241338   1.         -0.20145309]\n",
      " [ 0.09483809  0.19150814 -0.20145309  1.        ]]\n"
     ]
    }
   ],
   "source": [
    "print(np.corrcoef(x.T))"
   ]
  },
  {
   "cell_type": "code",
   "execution_count": null,
   "id": "6310c7d7",
   "metadata": {},
   "outputs": [],
   "source": []
  },
  {
   "cell_type": "code",
   "execution_count": null,
   "id": "88721839",
   "metadata": {},
   "outputs": [],
   "source": []
  },
  {
   "cell_type": "code",
   "execution_count": null,
   "id": "24a6003d",
   "metadata": {},
   "outputs": [],
   "source": []
  },
  {
   "cell_type": "code",
   "execution_count": null,
   "id": "4f761aea",
   "metadata": {},
   "outputs": [],
   "source": []
  },
  {
   "cell_type": "code",
   "execution_count": null,
   "id": "80ca2744",
   "metadata": {},
   "outputs": [],
   "source": []
  },
  {
   "cell_type": "code",
   "execution_count": null,
   "id": "f8d18104",
   "metadata": {},
   "outputs": [],
   "source": []
  },
  {
   "cell_type": "code",
   "execution_count": null,
   "id": "dc4aa13a",
   "metadata": {},
   "outputs": [],
   "source": []
  },
  {
   "cell_type": "code",
   "execution_count": null,
   "id": "ed93e80a",
   "metadata": {},
   "outputs": [],
   "source": []
  },
  {
   "cell_type": "markdown",
   "id": "405e6c56",
   "metadata": {},
   "source": [
    "5. Write a function that takes a numpy array of shape `(n,)` representing a sample of data, and fits a normal distribution to the data using maximum likelihood estimation. The function should estimate the mean and standard deviation of the distribution using the sample mean and sample standard deviation, and return a `scipy.stats.norm` object representing the fitted distribution.\n",
    "\n",
    "6. Write a function that takes a numpy array of shape `(n,)` representing a sample of data, and fits a Poisson distribution to the data using maximum likelihood estimation. The function should estimate the parameter lambda of the distribution using the sample mean, perform goodness of fit test and return a `scipy.stats.poisson` object representing the fitted distribution.\n",
    "\n",
    "7. Write a function that takes a numpy array of shape `(n,)` representing a sample of data, and performs a Kolmogorov-Smirnov test to test whether the data follows a given distribution. The function should allow the user to specify the distribution (e.g., normal, Poisson, etc.) and the parameters of the distribution (e.g., mean, standard deviation, lambda, etc.). The function should return the test statistic and the p-value of the test. The function should use the `scipy.stats.kstest` function to perform the test."
   ]
  },
  {
   "cell_type": "markdown",
   "id": "24ef7156",
   "metadata": {},
   "source": [
    "### Linear Algebra \n",
    "\n",
    "1. Write a function that takes two numpy arrays of shape (n,m) and (m,p), and returns their matrix product. The function should implement the matrix multiplication using numpy broadcasting and vectorization, without using the built-in numpy.matmul() function.\n",
    "\n",
    "2. Write a function that takes a numpy array of shape (n,n) representing a square matrix, and returns its determinant. The function should use the LU decomposition algorithm to decompose the matrix, and then compute the determinant using the formula det(A) = prod(diag(U)), where U is the upper triangular matrix obtained from the LU decomposition.\n",
    "\n",
    "3. Write a function that takes a numpy array of shape (n,n) representing a square matrix, and returns its eigenvalues and eigenvectors. The function should implement the power iteration algorithm to compute the largest eigenvalue and its corresponding eigenvector, and then use the inverse power iteration algorithm to compute the remaining eigenvalues and eigenvectors. The function should also check that the eigenvectors are orthonormal and the eigenvalues are valid.\n",
    "\n"
   ]
  },
  {
   "cell_type": "code",
   "execution_count": 58,
   "id": "4d17abd7",
   "metadata": {},
   "outputs": [],
   "source": [
    "x=np.matrix(np.random.randint(0,10,(3,4)))\n",
    "y=np.matrix(np.random.randint(7,15,(4,2)))"
   ]
  },
  {
   "cell_type": "code",
   "execution_count": 59,
   "id": "0a06fce8",
   "metadata": {},
   "outputs": [
    {
     "data": {
      "text/plain": [
       "matrix([[235, 208],\n",
       "        [324, 275],\n",
       "        [201, 163]])"
      ]
     },
     "execution_count": 59,
     "metadata": {},
     "output_type": "execute_result"
    }
   ],
   "source": [
    "x@y"
   ]
  },
  {
   "cell_type": "code",
   "execution_count": 68,
   "id": "1ed9ad92",
   "metadata": {},
   "outputs": [
    {
     "data": {
      "text/plain": [
       "array([[235., 208.],\n",
       "       [324., 275.],\n",
       "       [201., 163.]])"
      ]
     },
     "execution_count": 68,
     "metadata": {},
     "output_type": "execute_result"
    }
   ],
   "source": [
    "n,m=x.shape\n",
    "m,p=y.shape\n",
    "temp=np.zeros((n,p))\n",
    "temp\n",
    "\n",
    "for i in range(n):\n",
    "    for j in range(p):\n",
    "        for k in range(m):\n",
    "            temp[i,j]+=x[i,k]*y[k,j]\n",
    "temp"
   ]
  },
  {
   "cell_type": "code",
   "execution_count": 64,
   "id": "302067c3",
   "metadata": {},
   "outputs": [
    {
     "data": {
      "text/plain": [
       "3"
      ]
     },
     "execution_count": 64,
     "metadata": {},
     "output_type": "execute_result"
    }
   ],
   "source": []
  },
  {
   "cell_type": "code",
   "execution_count": null,
   "id": "0192ddbe",
   "metadata": {},
   "outputs": [],
   "source": []
  },
  {
   "cell_type": "code",
   "execution_count": null,
   "id": "5acae009",
   "metadata": {},
   "outputs": [],
   "source": []
  },
  {
   "cell_type": "code",
   "execution_count": null,
   "id": "64de226d",
   "metadata": {},
   "outputs": [],
   "source": []
  }
 ],
 "metadata": {
  "kernelspec": {
   "display_name": "Python 3",
   "language": "python",
   "name": "python3"
  },
  "language_info": {
   "codemirror_mode": {
    "name": "ipython",
    "version": 3
   },
   "file_extension": ".py",
   "mimetype": "text/x-python",
   "name": "python",
   "nbconvert_exporter": "python",
   "pygments_lexer": "ipython3",
   "version": "3.9.5"
  },
  "latex_envs": {
   "LaTeX_envs_menu_present": true,
   "autoclose": false,
   "autocomplete": true,
   "bibliofile": "biblio.bib",
   "cite_by": "apalike",
   "current_citInitial": 1,
   "eqLabelWithNumbers": true,
   "eqNumInitial": 1,
   "hotkeys": {
    "equation": "Ctrl-E",
    "itemize": "Ctrl-I"
   },
   "labels_anchors": false,
   "latex_user_defs": false,
   "report_style_numbering": false,
   "user_envs_cfg": false
  }
 },
 "nbformat": 4,
 "nbformat_minor": 5
}
