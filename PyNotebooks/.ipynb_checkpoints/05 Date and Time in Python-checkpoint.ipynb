{
 "cells": [
  {
   "cell_type": "markdown",
   "id": "00fccd34",
   "metadata": {},
   "source": [
    "# Date & Time"
   ]
  },
  {
   "cell_type": "markdown",
   "id": "11c5841b",
   "metadata": {},
   "source": [
    "## Importing the datetime module"
   ]
  },
  {
   "cell_type": "code",
   "execution_count": 1,
   "id": "70791e36",
   "metadata": {},
   "outputs": [],
   "source": [
    "## Importing the datetime module\n",
    "import datetime"
   ]
  },
  {
   "cell_type": "markdown",
   "id": "8c4dbde5",
   "metadata": {},
   "source": [
    "## Creating a datetime object"
   ]
  },
  {
   "cell_type": "code",
   "execution_count": 2,
   "id": "a54d8971",
   "metadata": {},
   "outputs": [
    {
     "name": "stdout",
     "output_type": "stream",
     "text": [
      "Current date and time: 2023-03-02 12:22:15.020175\n"
     ]
    }
   ],
   "source": [
    "now = datetime.datetime.now()\n",
    "print(\"Current date and time:\", now)"
   ]
  },
  {
   "cell_type": "markdown",
   "id": "30ea9463",
   "metadata": {},
   "source": [
    "## Formatting dates and times"
   ]
  },
  {
   "cell_type": "code",
   "execution_count": 3,
   "id": "d2b1c4d4",
   "metadata": {},
   "outputs": [
    {
     "name": "stdout",
     "output_type": "stream",
     "text": [
      "Current year: 2023\n",
      "Current month: 2\n",
      "Current day: 27\n",
      "Current hour: 21\n",
      "Current minute: 29\n",
      "Current second: 13\n",
      "Current microsecond: 725772\n"
     ]
    }
   ],
   "source": [
    "print(\"Current year:\", now.year)\n",
    "print(\"Current month:\", now.month)\n",
    "print(\"Current day:\", now.day)\n",
    "print(\"Current hour:\", now.hour)\n",
    "print(\"Current minute:\", now.minute)\n",
    "print(\"Current second:\", now.second)\n",
    "print(\"Current microsecond:\", now.microsecond)"
   ]
  },
  {
   "cell_type": "markdown",
   "id": "8ce9081d",
   "metadata": {},
   "source": [
    "## Creating a date object"
   ]
  },
  {
   "cell_type": "code",
   "execution_count": 4,
   "id": "62c2f327",
   "metadata": {
    "scrolled": true
   },
   "outputs": [
    {
     "name": "stdout",
     "output_type": "stream",
     "text": [
      "Date: 2023-02-27\n"
     ]
    }
   ],
   "source": [
    "date = datetime.date(2023, 2, 27)\n",
    "print(\"Date:\", date)"
   ]
  },
  {
   "cell_type": "markdown",
   "id": "ff249bf3",
   "metadata": {},
   "source": [
    "## Creating a time object"
   ]
  },
  {
   "cell_type": "code",
   "execution_count": 5,
   "id": "2af35729",
   "metadata": {},
   "outputs": [
    {
     "name": "stdout",
     "output_type": "stream",
     "text": [
      "Time: 10:30:45\n"
     ]
    }
   ],
   "source": [
    "time = datetime.time(10, 30, 45)\n",
    "print(\"Time:\", time)"
   ]
  },
  {
   "cell_type": "markdown",
   "id": "91d81ad8",
   "metadata": {},
   "source": [
    "## Combining date and time objects"
   ]
  },
  {
   "cell_type": "code",
   "execution_count": 6,
   "id": "22101a6c",
   "metadata": {},
   "outputs": [
    {
     "name": "stdout",
     "output_type": "stream",
     "text": [
      "Datetime object: 2023-02-27 10:30:45\n"
     ]
    }
   ],
   "source": [
    "datetime_obj = datetime.datetime.combine(date, time)\n",
    "print(\"Datetime object:\", datetime_obj)"
   ]
  },
  {
   "cell_type": "markdown",
   "id": "1b3df87d",
   "metadata": {},
   "source": [
    "## Formatting datetime objects"
   ]
  },
  {
   "cell_type": "code",
   "execution_count": 7,
   "id": "f51543bd",
   "metadata": {},
   "outputs": [
    {
     "name": "stdout",
     "output_type": "stream",
     "text": [
      "Formatted datetime object: 2023-02-27 10:30:45\n"
     ]
    }
   ],
   "source": [
    "print(\"Formatted datetime object:\", datetime_obj.strftime(\"%Y-%m-%d %H:%M:%S\"))"
   ]
  },
  {
   "cell_type": "markdown",
   "id": "e4094b81",
   "metadata": {},
   "source": [
    "## Converting strings to datetime objects"
   ]
  },
  {
   "cell_type": "code",
   "execution_count": 8,
   "id": "a9455264",
   "metadata": {},
   "outputs": [
    {
     "name": "stdout",
     "output_type": "stream",
     "text": [
      "Datetime object from string: 2023-02-27 10:30:45\n"
     ]
    }
   ],
   "source": [
    "str_date = \"2023-02-27 10:30:45\"\n",
    "datetime_obj2 = datetime.datetime.strptime(str_date, \"%Y-%m-%d %H:%M:%S\")\n",
    "print(\"Datetime object from string:\", datetime_obj2)"
   ]
  },
  {
   "cell_type": "markdown",
   "id": "95a2adc2",
   "metadata": {},
   "source": [
    "## Timezone aware datetime objects"
   ]
  },
  {
   "cell_type": "code",
   "execution_count": 9,
   "id": "84456d97",
   "metadata": {},
   "outputs": [
    {
     "name": "stdout",
     "output_type": "stream",
     "text": [
      "Timezone aware datetime object: 2023-02-27 07:59:15.008382-08:00\n"
     ]
    }
   ],
   "source": [
    "import pytz\n",
    "tz = pytz.timezone('US/Pacific')\n",
    "datetime_tz = datetime.datetime.now(tz)\n",
    "print(\"Timezone aware datetime object:\", datetime_tz)"
   ]
  },
  {
   "cell_type": "markdown",
   "id": "d7c0483f",
   "metadata": {},
   "source": [
    "## Timezone conversion"
   ]
  },
  {
   "cell_type": "code",
   "execution_count": 10,
   "id": "2aebd71b",
   "metadata": {},
   "outputs": [
    {
     "name": "stdout",
     "output_type": "stream",
     "text": [
      "Converted timezone aware datetime object: 2023-02-28 00:59:15.008382+09:00\n"
     ]
    }
   ],
   "source": [
    "tz2 = pytz.timezone('Asia/Tokyo')\n",
    "datetime_tz2 = datetime_tz.astimezone(tz2)\n",
    "print(\"Converted timezone aware datetime object:\", datetime_tz2)"
   ]
  }
 ],
 "metadata": {
  "kernelspec": {
   "display_name": "Python 3",
   "language": "python",
   "name": "python3"
  },
  "language_info": {
   "codemirror_mode": {
    "name": "ipython",
    "version": 3
   },
   "file_extension": ".py",
   "mimetype": "text/x-python",
   "name": "python",
   "nbconvert_exporter": "python",
   "pygments_lexer": "ipython3",
   "version": "3.9.5"
  },
  "latex_envs": {
   "LaTeX_envs_menu_present": true,
   "autoclose": false,
   "autocomplete": true,
   "bibliofile": "biblio.bib",
   "cite_by": "apalike",
   "current_citInitial": 1,
   "eqLabelWithNumbers": true,
   "eqNumInitial": 1,
   "hotkeys": {
    "equation": "Ctrl-E",
    "itemize": "Ctrl-I"
   },
   "labels_anchors": false,
   "latex_user_defs": false,
   "report_style_numbering": false,
   "user_envs_cfg": false
  }
 },
 "nbformat": 4,
 "nbformat_minor": 5
}
