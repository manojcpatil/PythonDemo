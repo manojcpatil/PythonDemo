{
 "cells": [
  {
   "cell_type": "markdown",
   "id": "3a2c3237",
   "metadata": {},
   "source": [
    "# Python input and output statements:"
   ]
  },
  {
   "cell_type": "markdown",
   "id": "cbe4ab0a",
   "metadata": {},
   "source": [
    "## Input Statements"
   ]
  },
  {
   "cell_type": "code",
   "execution_count": 4,
   "id": "2a90a4a9",
   "metadata": {
    "scrolled": true
   },
   "outputs": [
    {
     "name": "stdout",
     "output_type": "stream",
     "text": [
      "What is your name? dshafl\n",
      "How old are you? 45\n",
      "What is your favorite number? 35\n"
     ]
    }
   ],
   "source": [
    "# Ask the user for their name\n",
    "name = input(\"What is your name? \")\n",
    "\n",
    "# Ask the user for their age\n",
    "age = int(input(\"How old are you? \"))\n",
    "\n",
    "# Ask the user for their favorite number\n",
    "favorite_number = float(input(\"What is your favorite number? \"))"
   ]
  },
  {
   "cell_type": "code",
   "execution_count": 6,
   "id": "760628c7",
   "metadata": {},
   "outputs": [
    {
     "data": {
      "text/plain": [
       "35.0"
      ]
     },
     "execution_count": 6,
     "metadata": {},
     "output_type": "execute_result"
    }
   ],
   "source": [
    "favorite_number"
   ]
  },
  {
   "cell_type": "markdown",
   "id": "f6203ac6",
   "metadata": {},
   "source": [
    "## Output Statements"
   ]
  },
  {
   "cell_type": "code",
   "execution_count": 7,
   "id": "d47575ea",
   "metadata": {
    "scrolled": true
   },
   "outputs": [
    {
     "name": "stdout",
     "output_type": "stream",
     "text": [
      "Hello, world!\n",
      "42\n",
      "My name is John Doe\n",
      "My name is Alice and I am 25 years old.\n"
     ]
    }
   ],
   "source": [
    "# Print a simple message\n",
    "print(\"Hello, world!\")\n",
    "\n",
    "# Print the value of a variable\n",
    "age = 42\n",
    "print(age)\n",
    "\n",
    "# Concatenate strings\n",
    "first_name = \"John\"\n",
    "last_name = \"Doe\"\n",
    "print(\"My name is \" + first_name + \" \" + last_name)\n",
    "\n",
    "# Use the f-string syntax to insert variables into a string\n",
    "name = \"Alice\"\n",
    "age = 25\n",
    "print(f\"My name is {name} and I am {age} years old.\")"
   ]
  },
  {
   "cell_type": "markdown",
   "id": "d4dc20c7",
   "metadata": {},
   "source": [
    "Keep in mind that input statements always return strings, so you might need to convert them to other data types using functions like int() or float()."
   ]
  },
  {
   "cell_type": "markdown",
   "id": "a95d9e64",
   "metadata": {},
   "source": [
    "# Branching Statements\n",
    "\n",
    "## if Statement\n",
    "\n",
    "The if statement allows you to execute a block of code if a certain condition is true. Here's an example:"
   ]
  },
  {
   "cell_type": "code",
   "execution_count": 10,
   "id": "82220f40",
   "metadata": {},
   "outputs": [
    {
     "name": "stdout",
     "output_type": "stream",
     "text": [
      "What is your age?19\n",
      "You are an adult.\n"
     ]
    }
   ],
   "source": [
    "age = int(input(\"What is your age?\"))\n",
    "\n",
    "if age >= 18:\n",
    "    print(\"You are an adult.\")"
   ]
  },
  {
   "cell_type": "markdown",
   "id": "c4a439f0",
   "metadata": {},
   "source": [
    "This code checks whether the value of age is greater than or equal to 18, and if it is, it prints \"You are an adult.\""
   ]
  },
  {
   "cell_type": "markdown",
   "id": "06340a1e",
   "metadata": {},
   "source": [
    "## if-else Statement\n",
    "\n",
    "The if-else statement allows you to execute one block of code if a condition is true, and a different block of code if the condition is false. Here's an example:"
   ]
  },
  {
   "cell_type": "code",
   "execution_count": 11,
   "id": "b25c4f8b",
   "metadata": {},
   "outputs": [
    {
     "name": "stdout",
     "output_type": "stream",
     "text": [
      "You are not an adult.\n"
     ]
    }
   ],
   "source": [
    "age = 15\n",
    "\n",
    "if age >= 18:\n",
    "    print(\"You are an adult.\")\n",
    "else:\n",
    "    print(\"You are not an adult.\")"
   ]
  },
  {
   "cell_type": "markdown",
   "id": "35b8017d",
   "metadata": {},
   "source": [
    "This code checks whether the value of age is greater than or equal to 18, and if it is, it prints \"You are an adult.\" If the condition is false, it prints \"You are not an adult.\""
   ]
  },
  {
   "cell_type": "markdown",
   "id": "e7c74e69",
   "metadata": {},
   "source": [
    "## if-elif-else Statement\n",
    "\n",
    "The if-elif-else statement allows you to check multiple conditions and execute a different block of code depending on which condition is true. Here's an example:"
   ]
  },
  {
   "cell_type": "code",
   "execution_count": 12,
   "id": "6088849a",
   "metadata": {},
   "outputs": [
    {
     "name": "stdout",
     "output_type": "stream",
     "text": [
      "You are a young adult.\n"
     ]
    }
   ],
   "source": [
    "age = 25\n",
    "\n",
    "if age < 18:\n",
    "    print(\"You are not an adult.\")\n",
    "elif age < 30:\n",
    "    print(\"You are a young adult.\")\n",
    "else:\n",
    "    print(\"You are an adult.\")"
   ]
  },
  {
   "cell_type": "markdown",
   "id": "a83fc94d",
   "metadata": {},
   "source": [
    "This code checks whether the value of age is less than 18, less than 30 but greater than or equal to 18, or greater than or equal to 30. Depending on which condition is true, it prints a different message."
   ]
  },
  {
   "cell_type": "markdown",
   "id": "9645e545",
   "metadata": {},
   "source": [
    "# Looping Statements\n",
    "\n",
    "## while Loop\n",
    "\n",
    "The while loop allows you to execute a block of code repeatedly as long as a certain condition is true. Here's an example:"
   ]
  },
  {
   "cell_type": "code",
   "execution_count": 5,
   "id": "66eaa6ba",
   "metadata": {},
   "outputs": [
    {
     "name": "stdout",
     "output_type": "stream",
     "text": [
      "0\n",
      "1\n",
      "2\n",
      "3\n",
      "4\n"
     ]
    }
   ],
   "source": [
    "count = 0\n",
    "\n",
    "while count < 5:\n",
    "    print(count)\n",
    "    count += 1"
   ]
  },
  {
   "cell_type": "markdown",
   "id": "b4d2eab8",
   "metadata": {},
   "source": [
    "This code starts with count equal to 0, and it prints count and increments it by 1 in each iteration of the loop. The loop continues until count is no longer less than 5."
   ]
  },
  {
   "cell_type": "markdown",
   "id": "8d503ca3",
   "metadata": {},
   "source": [
    "## for Loop\n",
    "\n",
    "The for loop allows you to iterate over a sequence of elements (such as a list or a string) and execute a block of code for each element. Here's an example:"
   ]
  },
  {
   "cell_type": "code",
   "execution_count": 6,
   "id": "147ceb12",
   "metadata": {},
   "outputs": [
    {
     "name": "stdout",
     "output_type": "stream",
     "text": [
      "apple\n",
      "banana\n",
      "cherry\n"
     ]
    }
   ],
   "source": [
    "fruits = [\"apple\", \"banana\", \"cherry\"]\n",
    "\n",
    "for fruit in fruits:\n",
    "    print(fruit)"
   ]
  },
  {
   "cell_type": "markdown",
   "id": "6e2eca1d",
   "metadata": {},
   "source": [
    "This code creates a list of fruits, and then it uses a for loop to iterate over each element in the list and print it."
   ]
  },
  {
   "cell_type": "markdown",
   "id": "3ebe2d72",
   "metadata": {},
   "source": [
    "# Conditional Statements\n",
    "\n",
    "## ternary operator\n",
    "\n",
    "The ternary operator is a shorthand way of writing an if-else statement. It allows you to write a single line of code that checks a condition and returns one value if the condition is true, and a different value if the condition is false. Here's an example:"
   ]
  },
  {
   "cell_type": "code",
   "execution_count": 7,
   "id": "42b38e32",
   "metadata": {},
   "outputs": [
    {
     "name": "stdout",
     "output_type": "stream",
     "text": [
      "You are an adult.\n"
     ]
    }
   ],
   "source": [
    "age = 25\n",
    "\n",
    "message = \"You are an adult.\" if age >= 18 else \"You are not an adult.\"\n",
    "print(message)"
   ]
  },
  {
   "cell_type": "markdown",
   "id": "096a40d6",
   "metadata": {},
   "source": [
    "This code uses the ternary operator to check whether age is greater than or equal to 18, and it returns a different message depending on the result."
   ]
  },
  {
   "cell_type": "markdown",
   "id": "b944c7ad",
   "metadata": {},
   "source": [
    "## Exit Function\n",
    "\n",
    "The exit() function is used to exit the program immediately. When you call exit(), the program terminates and all further code execution stops. Here's an example:\n",
    "\n"
   ]
  },
  {
   "cell_type": "code",
   "execution_count": 1,
   "id": "5091d477",
   "metadata": {},
   "outputs": [
    {
     "name": "stdout",
     "output_type": "stream",
     "text": [
      "Starting the program...\n"
     ]
    },
    {
     "ename": "SystemExit",
     "evalue": "",
     "output_type": "error",
     "traceback": [
      "An exception has occurred, use %tb to see the full traceback.\n",
      "\u001b[1;31mSystemExit\u001b[0m\n"
     ]
    },
    {
     "name": "stderr",
     "output_type": "stream",
     "text": [
      "C:\\python123\\Lib\\site-packages\\IPython\\core\\interactiveshell.py:3561: UserWarning: To exit: use 'exit', 'quit', or Ctrl-D.\n",
      "  warn(\"To exit: use 'exit', 'quit', or Ctrl-D.\", stacklevel=1)\n"
     ]
    }
   ],
   "source": [
    "import sys \n",
    "print(\"Starting the program...\")\n",
    "some_condition=True\n",
    "\n",
    "if some_condition:\n",
    "    sys.exit()\n",
    "    print(\"This code will never be reached.\")\n"
   ]
  },
  {
   "cell_type": "markdown",
   "id": "a4067406",
   "metadata": {},
   "source": [
    "In this example, if some_condition is True, the program will exit immediately and the final print statement will never be executed.\n",
    "\n",
    "## Break Statement\n",
    "\n",
    "The break statement is used to exit a loop early. When you use break inside a loop, the loop stops iterating and the program continues executing the code after the loop. Here's an example:"
   ]
  },
  {
   "cell_type": "code",
   "execution_count": 9,
   "id": "ad7172f9",
   "metadata": {},
   "outputs": [
    {
     "name": "stdout",
     "output_type": "stream",
     "text": [
      "0\n",
      "1\n",
      "2\n",
      "3\n",
      "4\n",
      "Loop complete.\n"
     ]
    }
   ],
   "source": [
    "for i in range(10):\n",
    "    if i == 5:\n",
    "        break\n",
    "    print(i)\n",
    "\n",
    "print(\"Loop complete.\")\n"
   ]
  },
  {
   "cell_type": "markdown",
   "id": "7157e70c",
   "metadata": {},
   "source": [
    "In this example, the loop will print the numbers 0 through 4 and then exit when i is equal to 5. The final print statement will then be executed.\n",
    "\n",
    "## Continue Statement\n",
    "\n",
    "The continue statement is used to skip over an iteration of a loop. When you use continue inside a loop, the program skips over the rest of the code in the loop for the current iteration and moves on to the next iteration. Here's an example:\n"
   ]
  },
  {
   "cell_type": "code",
   "execution_count": 10,
   "id": "a254a21b",
   "metadata": {},
   "outputs": [
    {
     "name": "stdout",
     "output_type": "stream",
     "text": [
      "1\n",
      "3\n",
      "5\n",
      "7\n",
      "9\n",
      "Loop complete.\n"
     ]
    }
   ],
   "source": [
    "for i in range(10):\n",
    "    if i % 2 == 0:\n",
    "        continue\n",
    "    print(i)\n",
    "\n",
    "print(\"Loop complete.\")\n"
   ]
  },
  {
   "cell_type": "markdown",
   "id": "c9803ff2",
   "metadata": {},
   "source": [
    "In this example, the loop will print only the odd numbers between 0 and 9 (1, 3, 5, 7, and 9) and skip over the even numbers (0, 2, 4, 6, and 8). The final print statement will then be executed.\n",
    "\n",
    "## Pass Statement\n",
    "\n",
    "The pass statement is used as a placeholder when you need to write code that doesn't do anything yet. When you use pass, Python will move on to the next line of code without doing anything. Here's an example:\n"
   ]
  },
  {
   "cell_type": "code",
   "execution_count": 11,
   "id": "b79c6080",
   "metadata": {},
   "outputs": [
    {
     "name": "stdout",
     "output_type": "stream",
     "text": [
      "1\n",
      "3\n",
      "5\n",
      "7\n",
      "9\n",
      "Loop complete.\n"
     ]
    }
   ],
   "source": [
    "for i in range(10):\n",
    "    if i % 2 == 0:\n",
    "        pass\n",
    "    else:\n",
    "        print(i)\n",
    "\n",
    "print(\"Loop complete.\")"
   ]
  },
  {
   "cell_type": "markdown",
   "id": "b1b58d1f",
   "metadata": {},
   "source": [
    "In this example, the pass statement is used to do nothing when i is even. When i is odd, the program prints the value of i. The final print statement will then be executed."
   ]
  },
  {
   "cell_type": "markdown",
   "id": "f742cc77",
   "metadata": {},
   "source": [
    "# Function Definition"
   ]
  },
  {
   "cell_type": "markdown",
   "id": "571313c2",
   "metadata": {},
   "source": [
    "In Python, there are a few rules to follow when defining a function. Here are some of the most important ones:\n",
    "\n",
    "- Use the def keyword to define a function, followed by the name of the function and parentheses (). The parentheses may contain optional parameters.\n",
    "- The function body must be indented (typically by four spaces or one tab).\n",
    "- If the function takes parameters, these should be specified within the parentheses after the function name.\n",
    "- Optionally, default values may be specified for the parameters by assigning values to them within the parentheses.\n",
    "- If the function returns a value, use the return keyword followed by the value(s) to be returned.\n",
    "- A function can be called by using its name followed by parentheses containing any necessary arguments.\n",
    "- A function can have documentation strings (docstrings) that explain its purpose and usage. Docstrings should be enclosed in triple quotes, immediately after the function definition.\n",
    "\n",
    "Here's an example of a simple function definition that follows these rules:"
   ]
  },
  {
   "cell_type": "code",
   "execution_count": 12,
   "id": "80f7220c",
   "metadata": {},
   "outputs": [],
   "source": [
    "def greet(name):\n",
    "    \"\"\"\n",
    "    This function greets the user with their name.\n",
    "    \"\"\"\n",
    "    print(f\"Hello, {name}!\")"
   ]
  },
  {
   "cell_type": "markdown",
   "id": "ee0f3f5d",
   "metadata": {},
   "source": [
    "In this example, we define a function called greet that takes one parameter name. The function has a docstring that describes what it does. When the function is called, it will print a greeting message using the value of name."
   ]
  },
  {
   "cell_type": "markdown",
   "id": "3bab4f25",
   "metadata": {},
   "source": [
    "## Function definition with default arguments"
   ]
  },
  {
   "cell_type": "markdown",
   "id": "aefb1c68",
   "metadata": {},
   "source": [
    "In Python, you can define functions with default arguments. This allows you to specify a default value for a function argument, which will be used if the argument is not provided when the function is called. Here are some rules to follow when defining a function with default arguments:\n",
    "\n",
    "1. Default arguments should be specified after any required arguments in the function definition.\n",
    "2. Default argument values should be specified using the = operator followed by the value.\n",
    "3. If an argument is given a default value, it becomes an optional argument when calling the function.\n",
    "4. You can provide multiple default arguments, separated by commas.\n",
    "\n",
    "Here's an example of a function definition with default arguments:"
   ]
  },
  {
   "cell_type": "code",
   "execution_count": 3,
   "id": "b9837562",
   "metadata": {},
   "outputs": [],
   "source": [
    "def greet(name,greeting=\"Hello\"):\n",
    "    \"\"\"\n",
    "    This function greets the user with a custom message.\n",
    "    \"\"\"\n",
    "    print(f\"{greeting}, {name}!\")"
   ]
  },
  {
   "cell_type": "code",
   "execution_count": 5,
   "id": "dc707321",
   "metadata": {},
   "outputs": [
    {
     "name": "stdout",
     "output_type": "stream",
     "text": [
      "Hello, Rao!\n"
     ]
    }
   ],
   "source": [
    "greet(\"Rao\")"
   ]
  },
  {
   "cell_type": "markdown",
   "id": "83533afa",
   "metadata": {},
   "source": [
    "In this example, we define a function called greet that takes two arguments, name and greeting. The greeting argument has a default value of \"Hello\". This means that if the greeting argument is not provided when calling the function, it will default to \"Hello\". If both arguments are provided, the greeting argument will override the default value.\n",
    "\n",
    "Here are some examples of calling the greet function with and without the greeting argument:"
   ]
  },
  {
   "cell_type": "code",
   "execution_count": 14,
   "id": "8d8bdd2d",
   "metadata": {},
   "outputs": [
    {
     "name": "stdout",
     "output_type": "stream",
     "text": [
      "Hello, Alice!\n",
      "Hi, Bob!\n"
     ]
    }
   ],
   "source": [
    "greet(\"Alice\") # Output: \"Hello, Alice!\"\n",
    "greet(\"Bob\", \"Hi\") # Output: \"Hi, Bob!\""
   ]
  },
  {
   "cell_type": "markdown",
   "id": "9da22ac9",
   "metadata": {},
   "source": [
    "In the first example, the function is called with only the name argument. Since no greeting argument is provided, the function uses the default value of \"Hello\". In the second example, both arguments are provided, and the greeting argument overrides the default value."
   ]
  },
  {
   "cell_type": "markdown",
   "id": "31d63f95",
   "metadata": {},
   "source": [
    "# Assignment Questions"
   ]
  },
  {
   "cell_type": "markdown",
   "id": "23fc22c4",
   "metadata": {},
   "source": [
    "## Input and Output Statements\n",
    "\n",
    "- Explain the difference between standard input, standard output, and standard error streams in Python.\n",
    "\n",
    "- Describe the print() function in Python and its various parameters.\n",
    "\n",
    "- Discuss the different ways to read data from a file in Python, including the read(), readline(), and readlines() methods.\n",
    "\n",
    "- Discuss the different ways to write data to a file in Python, including the write() and writelines() methods.\n",
    "\n",
    "## Control statements (Branching, Looping, Conditional Statement, Exit function)\n",
    "\n",
    "- Explain the difference between a for loop and a while loop in Python.\n",
    "\n",
    "- Describe the if, elif, and else statements in Python and their usage.\n",
    "\n",
    "- Discuss the use of the range() function in Python and its various parameters.\n",
    "\n",
    "- Discuss the break, continue, and pass statements in Python and their usage.\n",
    "\n",
    "- Explain how to use the try, except, else, and finally statements for error handling in Python.\n",
    "\n",
    "## Difference between break, continue, and pass\n",
    "\n",
    "- Explain the difference between the break, continue, and pass statements in Python.\n",
    "\n",
    "- Describe a scenario where you would use the break statement in a loop and why it would be useful.\n",
    "\n",
    "- Describe a scenario where you would use the continue statement in a loop and why it would be useful.\n",
    "\n",
    "- Describe a scenario where you would use the pass statement in a function and why it would be useful.\n",
    "\n",
    "## Defining Functions, and default arguments.\n",
    "\n",
    "- Explain the benefits of using functions in Python.\n",
    "\n",
    "- Describe the syntax for defining a function in Python and its different components.\n",
    "\n",
    "- Explain the concept of default arguments in Python and how they can be used in a function.\n",
    "\n",
    "- Describe a scenario where you would use default arguments in a function and why it would be useful."
   ]
  },
  {
   "cell_type": "markdown",
   "id": "d0a29add",
   "metadata": {},
   "source": [
    "# Practical Assignment Questions"
   ]
  },
  {
   "cell_type": "markdown",
   "id": "c4e2c0a8",
   "metadata": {},
   "source": [
    "### Input and Output Statements\n",
    "\n",
    "- Write a program that prompts the user to enter their name and age, and then prints a greeting message that includes their name and age.\n",
    "- Write a program that generates a random number between 1 and 10 and then prompts the user to guess the number. The program should then print whether the user's guess was correct or not.\n",
    "\n",
    "Hint: Use `random' package to genrate random number \n",
    "\n",
    "'import random' \n",
    "\n",
    "'number = random.randint(1, 10)'\n",
    "\n",
    "\n",
    "\n",
    "### Control statements (Branching, Looping, Conditional Statement, Exit function)\n",
    "\n",
    "- Write a program that uses a for loop to iterate through a list of numbers and prints each number on a separate line.\n",
    "- Write a program that uses a while loop to prompt the user to enter a password until they enter the correct password. The program should exit the loop and print a success message once the correct password is entered.\n",
    "- Write a program that uses an if statement to check whether a user's age is above or below a certain threshold, and then prints a message accordingly.\n",
    "- Write a program that uses the break statement to exit a loop early if a certain condition is met.\n",
    "- Write a program that uses the continue statement to skip over certain iterations of a loop if a certain condition is met.\n",
    "- Write a program that uses the exit function to terminate the program if a certain condition is met.\n",
    "\n",
    "### Difference between break, continue, and pass\n",
    "\n",
    "- Write a program that uses the break statement to exit a loop early if a certain condition is met, and then explain why the loop stopped.\n",
    "- Write a program that uses the continue statement to skip over certain iterations of a loop if a certain condition is met, and then explain why certain iterations were skipped.\n",
    "- Write a program that uses the pass statement as a placeholder for a function that you haven't written yet, and then explain what the pass statement does.\n",
    "\n",
    "### Defining Functions, default arguments.\n",
    "\n",
    "- Write a program that defines a function that takes two arguments and returns their sum, and then call the function with different arguments to test it.\n",
    "- Write a program that defines a function that takes one required argument and one optional argument with a default value, and then call the function with and without the optional argument to test it.\n",
    "- Write a program that defines a function that uses the *args syntax to accept a variable number of arguments, and then prints each argument on a separate line."
   ]
  },
  {
   "cell_type": "code",
   "execution_count": null,
   "id": "c5f10c13",
   "metadata": {},
   "outputs": [],
   "source": []
  }
 ],
 "metadata": {
  "kernelspec": {
   "display_name": "Python 3 (ipykernel)",
   "language": "python",
   "name": "python3"
  },
  "language_info": {
   "codemirror_mode": {
    "name": "ipython",
    "version": 3
   },
   "file_extension": ".py",
   "mimetype": "text/x-python",
   "name": "python",
   "nbconvert_exporter": "python",
   "pygments_lexer": "ipython3",
   "version": "3.12.1"
  },
  "latex_envs": {
   "LaTeX_envs_menu_present": true,
   "autoclose": false,
   "autocomplete": true,
   "bibliofile": "biblio.bib",
   "cite_by": "apalike",
   "current_citInitial": 1,
   "eqLabelWithNumbers": true,
   "eqNumInitial": 1,
   "hotkeys": {
    "equation": "Ctrl-E",
    "itemize": "Ctrl-I"
   },
   "labels_anchors": false,
   "latex_user_defs": false,
   "report_style_numbering": false,
   "user_envs_cfg": false
  }
 },
 "nbformat": 4,
 "nbformat_minor": 5
}
