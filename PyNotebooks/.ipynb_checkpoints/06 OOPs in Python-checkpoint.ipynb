{
 "cells": [
  {
   "cell_type": "markdown",
   "id": "3e2af400",
   "metadata": {
    "heading_collapsed": true,
    "slideshow": {
     "slide_type": "slide"
    }
   },
   "source": [
    "## What Is Object-Oriented Programming in Python?"
   ]
  },
  {
   "cell_type": "markdown",
   "id": "c3e8515a",
   "metadata": {
    "hidden": true,
    "slideshow": {
     "slide_type": "slide"
    }
   },
   "source": [
    "Object-oriented programming is a programming paradigm that provides a means of structuring programs so that **properties and behaviors** are bundled into individual objects.\n",
    "\n",
    "For instance, an object could represent a person with properties like a **name, age, and address** and behaviors such as __walking, talking, breathing, and running__. Or it could represent an email with properties like a recipient list, subject, and body and behaviors like adding attachments and sending.\n",
    "\n",
    "Another common programming paradigm is **procedural programming**, which structures a program like a recipe in that it provides a set of steps, in the form of functions and code blocks, that flow sequentially in order to complete a task.\n",
    "\n",
    "The key takeaway is that objects are at the center of object-oriented programming in Python, not only representing the data, as in procedural programming, but in the overall structure of the program as well."
   ]
  },
  {
   "cell_type": "markdown",
   "id": "c386ce59",
   "metadata": {
    "slideshow": {
     "slide_type": "slide"
    }
   },
   "source": [
    "## Define a Class in Python"
   ]
  },
  {
   "cell_type": "markdown",
   "id": "92cd92f9",
   "metadata": {},
   "source": [
    "Primitive data structures—like numbers, strings, and lists—are designed to represent simple pieces of information, such as the cost of an apple, the name of a poem, or your favorite colors, respectively. What if you want to represent something more complex?"
   ]
  },
  {
   "cell_type": "code",
   "execution_count": 3,
   "id": "89b72cdd",
   "metadata": {},
   "outputs": [],
   "source": [
    "Stud1=[\"Ashwini\",21,\"MSc-II\",\"2001-01-01\",84,45,57]\n",
    "Stud2=[\"Rashmi\",22,\"MSc-II\",\"2000-01-01\",84,76,87]\n",
    "Stud3=[\"Chanchal\",23,\"MSc-I\",\"1999-01-01\",88,45,64]\n",
    "Stud4=[\"Adip\",24,\"MSc-I\",\"1998-01-01\",84,89,64]"
   ]
  },
  {
   "cell_type": "code",
   "execution_count": 4,
   "id": "19742f93",
   "metadata": {},
   "outputs": [
    {
     "data": {
      "text/plain": [
       "62.0"
      ]
     },
     "execution_count": 4,
     "metadata": {},
     "output_type": "execute_result"
    }
   ],
   "source": [
    "sum(Stud1[4:])/300*100"
   ]
  },
  {
   "cell_type": "code",
   "execution_count": 6,
   "id": "9e588043",
   "metadata": {
    "slideshow": {
     "slide_type": "slide"
    }
   },
   "outputs": [
    {
     "name": "stdout",
     "output_type": "stream",
     "text": [
      "Object Created xxx 0 yyy\n",
      "Percentages are as follows: 0.0\n",
      "Object Created Meena 21 MSc-2\n",
      "Percentages are as follows: 81.33333333333333\n",
      "Object Created Meena 21 MSc-2\n",
      "Percentages are as follows: 81.33333333333333\n"
     ]
    }
   ],
   "source": [
    "class stud:\n",
    "    Name='xxx'\n",
    "    Age=0\n",
    "    div='yyy'\n",
    "    Marks=[0,0,0]\n",
    "    \n",
    "    def cre(self,nam,a,d,e):\n",
    "        self.Name=nam\n",
    "        self.Age=a\n",
    "        self.div=d\n",
    "        self.Marks=e\n",
    "        \n",
    "    def prt(self):\n",
    "        print(\"Object Created\",self.Name,self.Age,self.div)\n",
    "        print(\"Percentages are as follows:\", sum(self.Marks)/300*100)\n",
    "\n",
    "S1=stud()\n",
    "S1.prt()\n",
    "\n",
    "S2=stud()\n",
    "S2.cre(\"Meena\",21,\"MSc-2\",[48,98,98])\n",
    "S2.prt()\n",
    "stud.prt(S2)"
   ]
  },
  {
   "cell_type": "code",
   "execution_count": 9,
   "id": "bde9f8f8",
   "metadata": {},
   "outputs": [
    {
     "data": {
      "text/plain": [
       "[1, 2, 3, 4]"
      ]
     },
     "execution_count": 9,
     "metadata": {},
     "output_type": "execute_result"
    }
   ],
   "source": [
    "x=[1,2,3]\n",
    "type(x)\n",
    "x.append(4)\n",
    "x"
   ]
  },
  {
   "cell_type": "code",
   "execution_count": 21,
   "id": "c98f98ca",
   "metadata": {},
   "outputs": [
    {
     "name": "stdout",
     "output_type": "stream",
     "text": [
      "4.00 + 3 i\n",
      "2.00 + 5 i\n",
      "2.00 -2 i\n"
     ]
    }
   ],
   "source": [
    "class cmpx:\n",
    "    \n",
    "    def __init__(self,a,b):\n",
    "        self.real=a\n",
    "        self.img=b\n",
    "        \n",
    "    def pr(self):\n",
    "        if self.img>0:\n",
    "            print('%1.2f + %1.0f i'%(self.real,self.img))\n",
    "        else:\n",
    "            print('%1.2f %1.0f i'%(self.real,self.img))\n",
    "        \n",
    "    def conj(self):\n",
    "        temp=cmpx(self.real,-self.img)\n",
    "        return temp\n",
    "\n",
    "    def add(self,b): \n",
    "        temp=cmpx(self.real+b.real,self.img+b.img)\n",
    "        return temp\n",
    "\n",
    "    def sub(self,b):    \n",
    "        temp=cmpx(self.real-b.real,self.img-b.img)\n",
    "        return temp\n",
    "\n",
    "    def mult(self,b):    \n",
    "        temp=cmpx(self.real*b.real- self.img*b.img ,self.real*b.img + self.img*b.real)\n",
    "        return temp\n",
    "\n",
    "a=cmpx(4,3)\n",
    "a.pr()\n",
    "b=cmpx(2,5)\n",
    "b.pr()\n",
    "c=a.sub(b)\n",
    "c.pr()"
   ]
  },
  {
   "cell_type": "code",
   "execution_count": 23,
   "id": "da1bf5c1",
   "metadata": {},
   "outputs": [
    {
     "name": "stdout",
     "output_type": "stream",
     "text": [
      "4.00 -3 i\n"
     ]
    }
   ],
   "source": [
    "a.conj().pr()"
   ]
  },
  {
   "cell_type": "code",
   "execution_count": null,
   "id": "e5c081d6",
   "metadata": {},
   "outputs": [],
   "source": []
  },
  {
   "cell_type": "code",
   "execution_count": 31,
   "id": "aea87c90",
   "metadata": {},
   "outputs": [
    {
     "name": "stdout",
     "output_type": "stream",
     "text": [
      "Complex Conjugate is  2 - i 3\n",
      "C1:\n",
      "Complex number is  2 + i 3\n",
      "C2:\n",
      "Complex number is  4 + i 2\n",
      "C4:\n",
      "Complex number is  2 + i 10\n"
     ]
    }
   ],
   "source": [
    "class cmpx:\n",
    "    def __init__(self,a,b=2):     # Constructor \n",
    "        self.real=a\n",
    "        self.img=b\n",
    "        # print(\"Complex number created\")\n",
    "    \n",
    "    def pr(self):\n",
    "        if(self.real!=0 and self.img!=0):\n",
    "            print(\"Complex number is \",self.real,\"+ i\",self.img)\n",
    "        elif(self.real!=0):\n",
    "            print(\"Real number is \",self.real)\n",
    "        else:\n",
    "            print(\"Complex number is i\",self.img)\n",
    "    \n",
    "    def conj(self):\n",
    "        print(\"Complex Conjugate is \",self.real,\"- i\",self.img)\n",
    "        temp=cmpx(self.real,-self.img)\n",
    "        return(temp)\n",
    "    \n",
    "    def add(self,c4):\n",
    "        temp=cmpx(self.real+c4.real,self.img+c4.img)\n",
    "        return temp\n",
    "    \n",
    "    def mult(self,obj):\n",
    "        temp=cmpx(self.real*obj.real-self.img* obj.img,self.real*obj.img+self.img* obj.img)\n",
    "        return temp       \n",
    "    \n",
    "#    a+ib c+id\n",
    "#    (ac-bd)+i*(ad+bc)\n",
    "    \n",
    "#    (self.a*obj.c-self.b*obj.d)(self.a*obj.d+self.b*obj.c)\n",
    "    \n",
    "        \n",
    "        \n",
    "c1=cmpx(2,3) # Instance/Object\n",
    "c2=cmpx(4,2)\n",
    "c3=c1.conj()\n",
    "c4=c1.mult(c2)\n",
    "c5=c1.add(c2)\n",
    "#c5.pr()\n",
    "print(\"C1:\")\n",
    "c1.pr()\n",
    "print(\"C2:\")\n",
    "c2.pr()\n",
    "print(\"C4:\")\n",
    "c4.pr()"
   ]
  },
  {
   "cell_type": "markdown",
   "id": "3efaf000",
   "metadata": {
    "slideshow": {
     "slide_type": "slide"
    }
   },
   "source": [
    "## Classes vs Instances?"
   ]
  },
  {
   "cell_type": "markdown",
   "id": "7185476f",
   "metadata": {},
   "source": [
    "Classes are used to create user-defined data structures. Classes define functions called methods, which identify the behaviors and actions that an object created from the class can perform with its data.\n",
    "A class is a blueprint for how something should be defined. It doesn’t actually contain any data.\n",
    "\n",
    "\n",
    "\n"
   ]
  },
  {
   "cell_type": "markdown",
   "id": "033e3187",
   "metadata": {
    "slideshow": {
     "slide_type": "slide"
    }
   },
   "source": [
    "## How to Define a Class?"
   ]
  },
  {
   "cell_type": "markdown",
   "id": "b6157014",
   "metadata": {},
   "source": [
    "All class definitions start with the class keyword, which is followed by the name of the class and a colon. Any code that is indented below the class definition is considered part of the class’s body."
   ]
  },
  {
   "cell_type": "markdown",
   "id": "fcf04447",
   "metadata": {},
   "source": [
    "Class attributes are defined directly beneath the first line of the class name and are indented by four spaces. They must always be assigned an initial value. When an instance of the class is created, class attributes are automatically created and assigned to their initial values.\n",
    "\n",
    "Use class attributes to define properties that should have the same value for every class instance. Use instance attributes for properties that vary from one instance to another."
   ]
  },
  {
   "cell_type": "markdown",
   "id": "08d706a6",
   "metadata": {
    "slideshow": {
     "slide_type": "slide"
    }
   },
   "source": [
    "## Instantiate an Object in Python"
   ]
  },
  {
   "cell_type": "markdown",
   "id": "962998e1",
   "metadata": {},
   "source": [
    "Creating a new object from a class is called instantiating an object."
   ]
  },
  {
   "cell_type": "markdown",
   "id": "1a5a303b",
   "metadata": {
    "slideshow": {
     "slide_type": "slide"
    }
   },
   "source": [
    "## Instance Methods"
   ]
  },
  {
   "cell_type": "markdown",
   "id": "c8d2a66c",
   "metadata": {},
   "source": [
    "Instance methods are functions that are defined inside a class and can only be called from an instance of that class. Just like .__init__(), an instance method’s first parameter is always self.\n"
   ]
  },
  {
   "cell_type": "code",
   "execution_count": 1,
   "id": "a6a3aa8d",
   "metadata": {},
   "outputs": [
    {
     "name": "stdout",
     "output_type": "stream",
     "text": [
      "Hello Chetan, your age is 22 years and your percentage are 55.333333\n",
      "Hello Chetan, your age is 22 years and your percentage are 86.000000\n"
     ]
    }
   ],
   "source": [
    "class stud:\n",
    "    def __init__(self,name,year,a=16,b=16,c=16):\n",
    "        self.name=name\n",
    "        self.brth=year\n",
    "        self.age=2022-int(self.brth)\n",
    "        self.a,self.b,self.c=a,b,c\n",
    "    \n",
    "    def pr(self):\n",
    "        self.result()\n",
    "        print(\"Hello %s, your age is %d years and your percentage are %f\"%(self.name,self.age,self.prct))\n",
    "        \n",
    "    def result(self):\n",
    "        self.prct=(self.a+self.b+self.c)/300*100\n",
    "        \n",
    "    def updateMarks(self,a,b,c):\n",
    "        self.a,self.b,self.c=a,b,c\n",
    "        \n",
    "s1=stud(\"Chetan\",2000,56,87,23)\n",
    "\n",
    "s1.pr()\n",
    "\n",
    "s1.updateMarks(87,86,85)\n",
    "s1.pr()\n",
    "        "
   ]
  },
  {
   "cell_type": "markdown",
   "id": "b98da432",
   "metadata": {
    "slideshow": {
     "slide_type": "slide"
    }
   },
   "source": [
    "## Inherit From Other Classes in Python"
   ]
  },
  {
   "cell_type": "markdown",
   "id": "42fdbac6",
   "metadata": {},
   "source": [
    "**Inheritance** is the process by which one class takes on the **attributes** and **methods of parent classes**. Newly formed classes are called child classes, and the classes that child classes are derived from are called parent classes.\n",
    "\n",
    "Child classes can override or extend the **attributes** and **methods of parent classes**. In other words, child classes inherit all of the parent’s attributes and methods but can also specify attributes and methods that are unique to themselves."
   ]
  },
  {
   "cell_type": "code",
   "execution_count": 24,
   "id": "5c386e6e",
   "metadata": {
    "slideshow": {
     "slide_type": "slide"
    }
   },
   "outputs": [
    {
     "name": "stdout",
     "output_type": "stream",
     "text": [
      "Child 1 Function 1 Called\n",
      "Parent 1 Function 2 Called\n",
      "Child 1 Function 3 Called\n"
     ]
    }
   ],
   "source": [
    "class prnt1:\n",
    "    def fun1(self):\n",
    "        print(\"Parent 1 Function 1 Called\")\n",
    "    def fun2(self):\n",
    "        print(\"Parent 1 Function 2 Called\")\n",
    "    def fun9(self):\n",
    "        print(\"Parent 1 Function 9 Called\")\n",
    "        \n",
    "class chld1(prnt1):# Single Inheritance\n",
    "    def fun1(self):\n",
    "        print(\"Child 1 Function 1 Called\")   \n",
    "    def fun3(self):\n",
    "        print(\"Child 1 Function 3 Called\")\n",
    "        \n",
    "A=chld1()\n",
    "A.fun1()\n",
    "A.fun2()\n",
    "A.fun3()"
   ]
  },
  {
   "cell_type": "markdown",
   "id": "67a0c5a5",
   "metadata": {},
   "source": [
    "# Multiple Inheritance"
   ]
  },
  {
   "cell_type": "code",
   "execution_count": 25,
   "id": "83856798",
   "metadata": {},
   "outputs": [
    {
     "name": "stdout",
     "output_type": "stream",
     "text": [
      "Parent 1 Function 2 Called\n",
      "Parent 2 Function 6 Called\n",
      "Child 2 Function 8 Called\n",
      "Parent 1 Function 9 Called\n"
     ]
    }
   ],
   "source": [
    "class prnt2:\n",
    "    def fun5(self):\n",
    "        print(\"Parent 2 Function 5 Called\")\n",
    "    def fun6(self):\n",
    "        print(\"Parent 2 Function 6 Called\")\n",
    "    def fun9(self):\n",
    "        print(\"Parent 2 Function 9 Called\")\n",
    "        \n",
    "class chld2(prnt1,prnt2):# Multiple Inheritance\n",
    "    def fun1(self):\n",
    "        print(\"Child 2 Function 1 Called\")   \n",
    "    def fun7(self):\n",
    "        print(\"Child 2 Function 7 Called\")\n",
    "    def fun8(self):\n",
    "        print(\"Child 2 Function 8 Called\")\n",
    "        \n",
    "B=chld2()\n",
    "B.fun2()\n",
    "B.fun6()\n",
    "B.fun8()\n",
    "B.fun9()"
   ]
  },
  {
   "cell_type": "code",
   "execution_count": 26,
   "id": "9e437cdd",
   "metadata": {},
   "outputs": [
    {
     "name": "stdout",
     "output_type": "stream",
     "text": [
      "Child 1 Function 1 Called\n",
      "Parent 1 Function 2 Called\n",
      "Child 1 Function 3 Called\n",
      "Grandchild 1 function 10\n"
     ]
    }
   ],
   "source": [
    "class grandchld(chld1):  # Multilevel\n",
    "    def fun10(self):\n",
    "        print('Grandchild 1 function 10')\n",
    "\n",
    "C=grandchld()\n",
    "C.fun1()\n",
    "C.fun2()\n",
    "C.fun3()\n",
    "C.fun10()"
   ]
  },
  {
   "cell_type": "markdown",
   "id": "55fb7e50",
   "metadata": {
    "slideshow": {
     "slide_type": "slide"
    }
   },
   "source": [
    "# Hybrid Inheritance"
   ]
  },
  {
   "cell_type": "code",
   "execution_count": 49,
   "id": "8063283d",
   "metadata": {},
   "outputs": [
    {
     "name": "stdout",
     "output_type": "stream",
     "text": [
      "Student fun 1\n",
      "Student fun 2\n"
     ]
    }
   ],
   "source": [
    "class Student():\n",
    "    def fun1(self):\n",
    "        print('Student fun 1')\n",
    "\n",
    "class LibStudent(Student):\n",
    "    def fun2(self):\n",
    "        print('Student fun 2')\n",
    "        \n",
    "class FinStudent(Student):\n",
    "    def fun3(self):\n",
    "        print('Student fun 3')\n",
    "        \n",
    "class NoDuesStudent(LibStudent,FinStudent):\n",
    "    def fun4(self):\n",
    "        print('Student fun 4')\n",
    "\n",
    "Rahul=NoDuesStudent()\n",
    "Rahul.fun1()\n",
    "Rahul.fun2()"
   ]
  },
  {
   "cell_type": "markdown",
   "id": "1d7a4cd7",
   "metadata": {},
   "source": [
    "## Parent Classes vs Child Classes"
   ]
  },
  {
   "cell_type": "markdown",
   "id": "20f25285",
   "metadata": {},
   "source": [
    "## Extend the Functionality of a Parent Class"
   ]
  },
  {
   "cell_type": "markdown",
   "id": "d0f6063c",
   "metadata": {},
   "source": [
    "There are mainly two types of inheritance, a combination of which yields every other type.\n",
    "\n",
    "1. Single Inheritance : One base class, inherited by one derived class. This is the simplest type of inheritance. Also, the minimal possible one. The derived class automatically invokes the base class constructor.\n",
    "\n",
    "2. Multiple Inheritance : Multiple base classes inherited by one derived class. The base class constructors are invoked in the order in which classes were derived.\n",
    "\n",
    "Derived Types of Inheritance\n",
    "\n",
    "Combining the above two forms of inheritance can lead to the following types of inheritance:\n",
    "\n",
    "1. Hierarchical Inheritance: One base class inherited by multiple derived classes. Each derived class will work independently, but objects share the class variables across different classes.\n",
    "\n",
    "2. Multi-level Inheritance: A derived class serving as a base class for another derived class. The base class constructors are invoked recursively in this case.\n",
    "\n",
    "3. Hybrid Inheritance: A combination of multiple instances of the above-mentioned types of inheritance. This could lead to any imaginable combination of classes."
   ]
  },
  {
   "cell_type": "code",
   "execution_count": null,
   "id": "87a8b411",
   "metadata": {},
   "outputs": [],
   "source": []
  }
 ],
 "metadata": {
  "celltoolbar": "Slideshow",
  "kernelspec": {
   "display_name": "Python 3",
   "language": "python",
   "name": "python3"
  },
  "language_info": {
   "codemirror_mode": {
    "name": "ipython",
    "version": 3
   },
   "file_extension": ".py",
   "mimetype": "text/x-python",
   "name": "python",
   "nbconvert_exporter": "python",
   "pygments_lexer": "ipython3",
   "version": "3.9.5"
  },
  "latex_envs": {
   "LaTeX_envs_menu_present": true,
   "autoclose": false,
   "autocomplete": true,
   "bibliofile": "biblio.bib",
   "cite_by": "apalike",
   "current_citInitial": 1,
   "eqLabelWithNumbers": true,
   "eqNumInitial": 1,
   "hotkeys": {
    "equation": "Ctrl-E",
    "itemize": "Ctrl-I"
   },
   "labels_anchors": false,
   "latex_user_defs": false,
   "report_style_numbering": false,
   "user_envs_cfg": false
  }
 },
 "nbformat": 4,
 "nbformat_minor": 5
}
