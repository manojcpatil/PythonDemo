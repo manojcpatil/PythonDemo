{
 "cells": [
  {
   "cell_type": "markdown",
   "id": "6da80797",
   "metadata": {
    "slideshow": {
     "slide_type": "slide"
    }
   },
   "source": [
    "# List in Python"
   ]
  },
  {
   "cell_type": "markdown",
   "id": "7cfb21ba",
   "metadata": {
    "slideshow": {
     "slide_type": "slide"
    }
   },
   "source": [
    "In Python, a list is a collection of values that are ordered and changeable. It is a very useful data type that is used in a variety of contexts, including functions. Here are some common operations and uses of lists in Python functions:\n",
    "\n",
    "1. Creating a list: You can create a list using square brackets [] and separating the values with commas. For example, "
   ]
  },
  {
   "cell_type": "code",
   "execution_count": 2,
   "id": "e5423e18",
   "metadata": {},
   "outputs": [],
   "source": [
    "my_list = [1, 2, 3]"
   ]
  },
  {
   "cell_type": "markdown",
   "id": "e4d7acdf",
   "metadata": {
    "slideshow": {
     "slide_type": "slide"
    }
   },
   "source": [
    "2. Accessing elements: You can access elements of a list using square bracket notation, starting at index 0. For example, "
   ]
  },
  {
   "cell_type": "code",
   "execution_count": 3,
   "id": "bb780b2d",
   "metadata": {},
   "outputs": [
    {
     "data": {
      "text/plain": [
       "1"
      ]
     },
     "execution_count": 3,
     "metadata": {},
     "output_type": "execute_result"
    }
   ],
   "source": [
    "my_list[0] # returns the first element of the list."
   ]
  },
  {
   "cell_type": "markdown",
   "id": "84b466b0",
   "metadata": {
    "slideshow": {
     "slide_type": "slide"
    }
   },
   "source": [
    "3. Modifying elements: You can modify elements of a list using square bracket notation as well. For example,"
   ]
  },
  {
   "cell_type": "code",
   "execution_count": 4,
   "id": "5ee0fa75",
   "metadata": {},
   "outputs": [],
   "source": [
    "my_list[0] = 4 # would change the first element of the list to 4."
   ]
  },
  {
   "cell_type": "markdown",
   "id": "f1c773c3",
   "metadata": {
    "slideshow": {
     "slide_type": "slide"
    }
   },
   "source": [
    "4. Appending elements: You can add elements to the end of a list using the append() method. For example, "
   ]
  },
  {
   "cell_type": "code",
   "execution_count": 5,
   "id": "78756282",
   "metadata": {},
   "outputs": [
    {
     "data": {
      "text/plain": [
       "[4, 2, 3, 4]"
      ]
     },
     "execution_count": 5,
     "metadata": {},
     "output_type": "execute_result"
    }
   ],
   "source": [
    "my_list.append(4) # would add the value 4 to the end of the list.\n",
    "my_list"
   ]
  },
  {
   "cell_type": "markdown",
   "id": "7a974ad3",
   "metadata": {
    "slideshow": {
     "slide_type": "slide"
    }
   },
   "source": [
    "5. Removing elements: You can remove elements from a list using various methods such as remove(), pop(), and del. For example,"
   ]
  },
  {
   "cell_type": "code",
   "execution_count": 19,
   "id": "33b20fcb",
   "metadata": {},
   "outputs": [
    {
     "data": {
      "text/plain": [
       "[1, 3, 4]"
      ]
     },
     "execution_count": 19,
     "metadata": {},
     "output_type": "execute_result"
    }
   ],
   "source": [
    "my_list=[1,2,3,4]\n",
    "#my_list.remove(3)  # would remove the first occurrence of the value 3 from the list.\n",
    "#my_list.pop(2)\n",
    "del(my_list[1]) \n",
    "my_list"
   ]
  },
  {
   "cell_type": "markdown",
   "id": "309d2975",
   "metadata": {
    "slideshow": {
     "slide_type": "slide"
    }
   },
   "source": [
    "6. Iterating over a list: You can iterate over the elements of a list using a for loop. For example:"
   ]
  },
  {
   "cell_type": "code",
   "execution_count": 20,
   "id": "bc8ca860",
   "metadata": {},
   "outputs": [
    {
     "name": "stdout",
     "output_type": "stream",
     "text": [
      "1\n",
      "3\n",
      "4\n"
     ]
    }
   ],
   "source": [
    "for item in my_list:\n",
    "    print(item)"
   ]
  },
  {
   "cell_type": "markdown",
   "id": "78fba88a",
   "metadata": {
    "slideshow": {
     "slide_type": "slide"
    }
   },
   "source": [
    "7. Returning a list from a function: You can return a list from a function just like any other value. For example:"
   ]
  },
  {
   "cell_type": "code",
   "execution_count": 21,
   "id": "f5386409",
   "metadata": {},
   "outputs": [],
   "source": [
    "def get_list():\n",
    "    return [1, 2, 3]"
   ]
  },
  {
   "cell_type": "markdown",
   "id": "08c16ab8",
   "metadata": {
    "slideshow": {
     "slide_type": "slide"
    }
   },
   "source": [
    "8. Passing a list to a function: You can pass a list to a function as an argument. For example:"
   ]
  },
  {
   "cell_type": "code",
   "execution_count": 22,
   "id": "a756827b",
   "metadata": {},
   "outputs": [],
   "source": [
    "def process_list(my_list):\n",
    "    for item in my_list:\n",
    "        print(item)"
   ]
  },
  {
   "cell_type": "code",
   "execution_count": 23,
   "id": "7b6339ad",
   "metadata": {},
   "outputs": [
    {
     "name": "stdout",
     "output_type": "stream",
     "text": [
      "1\n",
      "2\n",
      "3\n"
     ]
    }
   ],
   "source": [
    "process_list([1,2,3])"
   ]
  },
  {
   "cell_type": "markdown",
   "id": "12e1f456",
   "metadata": {},
   "source": [
    "Overall, lists are a very versatile and useful data type in Python that can be used in many different ways in functions."
   ]
  },
  {
   "cell_type": "code",
   "execution_count": 25,
   "id": "5b683523",
   "metadata": {
    "slideshow": {
     "slide_type": "slide"
    }
   },
   "outputs": [],
   "source": [
    "# empty list\n",
    "my_list = []\n",
    "\n",
    "# list of integers\n",
    "my_list = [1, 2, 3]\n",
    "\n",
    "# list with mixed data types\n",
    "my_list = [1, \"Hello\", 3.4]"
   ]
  },
  {
   "cell_type": "code",
   "execution_count": 27,
   "id": "02573b01",
   "metadata": {
    "slideshow": {
     "slide_type": "slide"
    }
   },
   "outputs": [
    {
     "data": {
      "text/plain": [
       "4"
      ]
     },
     "execution_count": 27,
     "metadata": {},
     "output_type": "execute_result"
    }
   ],
   "source": [
    "# nested list\n",
    "my_list = [\"mouse\", [8, 4, 6], ['a']]\n",
    "my_list[1][1]"
   ]
  },
  {
   "cell_type": "code",
   "execution_count": 32,
   "id": "0637f436-069c-4e10-8b6c-f77c5f91a6d8",
   "metadata": {},
   "outputs": [
    {
     "data": {
      "text/plain": [
       "'l'"
      ]
     },
     "execution_count": 32,
     "metadata": {},
     "output_type": "execute_result"
    }
   ],
   "source": [
    "matrix_1=[[1,2,3],\"Alice\",[7,8,9]]\n",
    "matrix_1[1][1]"
   ]
  },
  {
   "cell_type": "code",
   "execution_count": 33,
   "id": "f4d8a0dd",
   "metadata": {
    "slideshow": {
     "slide_type": "slide"
    }
   },
   "outputs": [
    {
     "name": "stdout",
     "output_type": "stream",
     "text": [
      "R\n",
      "H\n",
      "N\n",
      "a\n",
      "5\n"
     ]
    }
   ],
   "source": [
    "# List indexing\n",
    "\n",
    "my_list = ['R', 'O', 'H', 'A', 'N']\n",
    "\n",
    "# Output: R\n",
    "print(my_list[0])\n",
    "\n",
    "# Output: H\n",
    "print(my_list[2])\n",
    "\n",
    "# Output: N\n",
    "print(my_list[4])\n",
    "\n",
    "# Nested List\n",
    "n_list = [\"Happy\", [2, 0, 1, 5]]\n",
    "\n",
    "# Nested indexing\n",
    "print(n_list[0][1])\n",
    "\n",
    "print(n_list[1][3])\n",
    "\n",
    "# Error! Only integer can be used for indexing\n",
    "# print(my_list[4.0])"
   ]
  },
  {
   "cell_type": "markdown",
   "id": "7e474665",
   "metadata": {
    "slideshow": {
     "slide_type": "slide"
    }
   },
   "source": [
    "### Negative indexing\n",
    "Python allows negative indexing for its sequences. The index of -1 refers to the last item, -2 to the second last item and so on."
   ]
  },
  {
   "cell_type": "code",
   "execution_count": 34,
   "id": "bf071209",
   "metadata": {},
   "outputs": [
    {
     "name": "stdout",
     "output_type": "stream",
     "text": [
      "e\n",
      "p\n",
      "['e', 'o', 'p']\n"
     ]
    }
   ],
   "source": [
    "# Negative indexing in lists\n",
    "my_list = ['p','r','o','b','e']\n",
    "\n",
    "print(my_list[-1])\n",
    "\n",
    "print(my_list[-5])\n",
    "\n",
    "print(my_list[::-2])"
   ]
  },
  {
   "cell_type": "markdown",
   "id": "3a1d798b",
   "metadata": {},
   "source": [
    "How to slice lists in Python?\n",
    "We can access a range of items in a list by using the slicing operator :(colon)."
   ]
  },
  {
   "cell_type": "code",
   "execution_count": 35,
   "id": "903ceb39",
   "metadata": {
    "slideshow": {
     "slide_type": "slide"
    }
   },
   "outputs": [
    {
     "name": "stdout",
     "output_type": "stream",
     "text": [
      "['o', 'g', 'r']\n",
      "['p', 'r', 'o', 'g']\n",
      "['a', 'm', 'i', 'z']\n",
      "['p', 'r', 'o', 'g', 'r', 'a', 'm', 'i', 'z']\n"
     ]
    }
   ],
   "source": [
    "# List slicing in Python\n",
    "my_list = ['p','r','o','g','r','a','m','i','z']\n",
    "\n",
    "# elements 3rd to 5th\n",
    "print(my_list[2:5])\n",
    "\n",
    "# elements beginning to 4th\n",
    "print(my_list[:-5])\n",
    "\n",
    "# elements 6th to end\n",
    "print(my_list[5:])\n",
    "\n",
    "# elements beginning to end\n",
    "print(my_list[:])"
   ]
  },
  {
   "cell_type": "code",
   "execution_count": 38,
   "id": "b19bceff",
   "metadata": {
    "slideshow": {
     "slide_type": "slide"
    }
   },
   "outputs": [
    {
     "name": "stdout",
     "output_type": "stream",
     "text": [
      "[1, 3, 5, 9, 7, 5]\n",
      "['re', 'ne', 're', 'ne', 're', 'ne']\n"
     ]
    }
   ],
   "source": [
    "# Concatenating and repeating lists\n",
    "odd = [1, 3, 5]\n",
    "\n",
    "print(odd + [9, 7, 5])\n",
    "\n",
    "print([\"re\",\"ne\"] * 3)\n",
    "#print([2,3]*[1,3]) #TypeError: can't multiply sequence by non-int of type 'list'\n"
   ]
  },
  {
   "cell_type": "markdown",
   "id": "d30cee0c",
   "metadata": {
    "slideshow": {
     "slide_type": "slide"
    }
   },
   "source": [
    "# Python List Methods"
   ]
  },
  {
   "cell_type": "markdown",
   "id": "0b83150c",
   "metadata": {},
   "source": [
    "append()Adds an element at the end of the list\n",
    "\n",
    "clear()\tRemoves all the elements from the list\n",
    "\n",
    "copy()\tReturns a copy of the list\n",
    "\n",
    "count()\tReturns the number of elements with the specified value\n",
    "\n",
    "extend()Add the elements of a list (or any iterable), to the end of the current list\n",
    "\n",
    "index()\tReturns the index of the first element with the specified value\n",
    "\n",
    "insert()Adds an element at the specified position\n",
    "\n",
    "pop()\tRemoves the element at the specified position\n",
    "\n",
    "remove()Removes the first item with the specified value\n",
    "\n",
    "reverse()Reverses the order of the list\n",
    "\n",
    "sort()Sorts the list"
   ]
  },
  {
   "cell_type": "code",
   "execution_count": 51,
   "id": "b8db92da",
   "metadata": {},
   "outputs": [
    {
     "name": "stdout",
     "output_type": "stream",
     "text": [
      "[1, 3, 2]\n",
      "[]\n",
      "[1, 3, 2]\n",
      "[1, 3, 2]\n",
      "[]\n",
      "[]\n"
     ]
    }
   ],
   "source": [
    "L=[1,3,2]\n",
    "M=L.copy()        # Call by Value\n",
    "print(M)\n",
    "L.clear()\n",
    "print(L)\n",
    "print(M)\n",
    "\n",
    "L=[1,3,2]\n",
    "M=L               # Call by Reference\n",
    "print(M)\n",
    "L.clear()\n",
    "print(L)\n",
    "print(M)"
   ]
  },
  {
   "cell_type": "code",
   "execution_count": 65,
   "id": "72f08708",
   "metadata": {
    "slideshow": {
     "slide_type": "slide"
    }
   },
   "outputs": [
    {
     "name": "stdout",
     "output_type": "stream",
     "text": [
      "[1, 3, 2, [4, 5]]\n",
      "[1, 3, 2, 2, 3]\n"
     ]
    }
   ],
   "source": [
    "L=[1,3,2]\n",
    "L.append([4,5])\n",
    "print(L)\n",
    "L=[1,3,2]\n",
    "L.extend([2,3])\n",
    "print(L)"
   ]
  },
  {
   "cell_type": "code",
   "execution_count": 68,
   "id": "6bc79ec1-c565-47cd-bd10-7559e5f4c730",
   "metadata": {},
   "outputs": [
    {
     "data": {
      "text/plain": [
       "[1, 2, 2, 3, 3]"
      ]
     },
     "execution_count": 68,
     "metadata": {},
     "output_type": "execute_result"
    }
   ],
   "source": [
    "L.sort()\n",
    "L"
   ]
  },
  {
   "cell_type": "code",
   "execution_count": 66,
   "id": "253dde9e",
   "metadata": {
    "slideshow": {
     "slide_type": "slide"
    }
   },
   "outputs": [
    {
     "data": {
      "text/plain": [
       "[3, 3, 2, 2, 1]"
      ]
     },
     "execution_count": 66,
     "metadata": {},
     "output_type": "execute_result"
    }
   ],
   "source": [
    "L.sort(reverse=True)\n",
    "L"
   ]
  },
  {
   "cell_type": "code",
   "execution_count": 59,
   "id": "386726b8",
   "metadata": {
    "slideshow": {
     "slide_type": "slide"
    }
   },
   "outputs": [
    {
     "name": "stdout",
     "output_type": "stream",
     "text": [
      "[1, 2, 3, 4, 1, 8, 1, 8, [1, 8], 1, 8, [1, 8], 1, 8]\n",
      "[1, 2, 3, 4, 1, 8, 1, 8, [1, 8], 1, 8, [1, 8], 1, 8, [1, 8]]\n"
     ]
    }
   ],
   "source": [
    "L.extend([1,8])\n",
    "print(L)\n",
    "L.append([1,8])\n",
    "print(L)"
   ]
  },
  {
   "cell_type": "code",
   "execution_count": 56,
   "id": "946f0aea",
   "metadata": {},
   "outputs": [
    {
     "data": {
      "text/plain": [
       "2"
      ]
     },
     "execution_count": 56,
     "metadata": {},
     "output_type": "execute_result"
    }
   ],
   "source": [
    "L.count(3)"
   ]
  },
  {
   "cell_type": "code",
   "execution_count": 70,
   "id": "baa1ee77",
   "metadata": {},
   "outputs": [
    {
     "data": {
      "text/plain": [
       "[1, 2, 3, 4]"
      ]
     },
     "execution_count": 70,
     "metadata": {},
     "output_type": "execute_result"
    }
   ],
   "source": [
    "L=[1,2,3,4]\n",
    "L"
   ]
  },
  {
   "cell_type": "code",
   "execution_count": 71,
   "id": "02d3e8c8",
   "metadata": {
    "slideshow": {
     "slide_type": "slide"
    }
   },
   "outputs": [
    {
     "data": {
      "text/plain": [
       "2"
      ]
     },
     "execution_count": 71,
     "metadata": {},
     "output_type": "execute_result"
    }
   ],
   "source": [
    "L.index(3)"
   ]
  },
  {
   "cell_type": "code",
   "execution_count": 21,
   "id": "75988d16",
   "metadata": {
    "slideshow": {
     "slide_type": "slide"
    }
   },
   "outputs": [
    {
     "data": {
      "text/plain": [
       "[]"
      ]
     },
     "execution_count": 21,
     "metadata": {},
     "output_type": "execute_result"
    }
   ],
   "source": [
    "L.clear()\n",
    "L"
   ]
  },
  {
   "cell_type": "code",
   "execution_count": 22,
   "id": "792304be",
   "metadata": {},
   "outputs": [
    {
     "data": {
      "text/plain": [
       "[1, 3, 4]"
      ]
     },
     "execution_count": 22,
     "metadata": {},
     "output_type": "execute_result"
    }
   ],
   "source": [
    "L=[1,2,3,4]\n",
    "L.remove(2)\n",
    "L"
   ]
  },
  {
   "cell_type": "code",
   "execution_count": 23,
   "id": "3bb12321",
   "metadata": {},
   "outputs": [
    {
     "data": {
      "text/plain": [
       "[1, 2, 3]"
      ]
     },
     "execution_count": 23,
     "metadata": {},
     "output_type": "execute_result"
    }
   ],
   "source": [
    "L=[1,2,3,4]\n",
    "L.pop()\n",
    "L"
   ]
  },
  {
   "cell_type": "code",
   "execution_count": 24,
   "id": "a7de86e8",
   "metadata": {},
   "outputs": [
    {
     "data": {
      "text/plain": [
       "[1, 2, 4]"
      ]
     },
     "execution_count": 24,
     "metadata": {},
     "output_type": "execute_result"
    }
   ],
   "source": [
    "L=[1,2,3,4]\n",
    "L.pop(2)\n",
    "L"
   ]
  },
  {
   "cell_type": "code",
   "execution_count": 84,
   "id": "62836b6e",
   "metadata": {
    "slideshow": {
     "slide_type": "slide"
    }
   },
   "outputs": [
    {
     "data": {
      "text/plain": [
       "[4, 3, 20, 1]"
      ]
     },
     "execution_count": 84,
     "metadata": {},
     "output_type": "execute_result"
    }
   ],
   "source": [
    "L=[1,20,3,4]\n",
    "L.reverse()\n",
    "L"
   ]
  },
  {
   "cell_type": "code",
   "execution_count": 78,
   "id": "00cdd3f5",
   "metadata": {},
   "outputs": [
    {
     "data": {
      "text/plain": [
       "[1, 2, 3, 5, 4]"
      ]
     },
     "execution_count": 78,
     "metadata": {},
     "output_type": "execute_result"
    }
   ],
   "source": [
    "L.insert(3,5)\n",
    "L"
   ]
  },
  {
   "cell_type": "code",
   "execution_count": 38,
   "id": "7e7c88ee",
   "metadata": {},
   "outputs": [
    {
     "data": {
      "text/plain": [
       "[1, 2, 0, 3, 4]"
      ]
     },
     "execution_count": 38,
     "metadata": {},
     "output_type": "execute_result"
    }
   ],
   "source": [
    "L.insert(2,0)\n",
    "L"
   ]
  },
  {
   "cell_type": "markdown",
   "id": "effb20aa",
   "metadata": {
    "slideshow": {
     "slide_type": "slide"
    }
   },
   "source": [
    "### Membership"
   ]
  },
  {
   "cell_type": "code",
   "execution_count": 1,
   "id": "0610e703",
   "metadata": {},
   "outputs": [
    {
     "name": "stdout",
     "output_type": "stream",
     "text": [
      "True\n",
      "False\n",
      "True\n"
     ]
    }
   ],
   "source": [
    "my_list = ['p', 'r', 'o', 'b', 'l', 'e', 'm']\n",
    "\n",
    "# Output: True\n",
    "print('p' in my_list)\n",
    "\n",
    "# Output: False\n",
    "print('a' in my_list)\n",
    "\n",
    "# Output: True\n",
    "print('c' not in my_list)"
   ]
  },
  {
   "cell_type": "code",
   "execution_count": 2,
   "id": "c243f022",
   "metadata": {
    "slideshow": {
     "slide_type": "slide"
    }
   },
   "outputs": [
    {
     "name": "stdout",
     "output_type": "stream",
     "text": [
      "I like apple\n",
      "I like banana\n",
      "I like mango\n"
     ]
    }
   ],
   "source": [
    "# Iterating Through a List\n",
    "# Using a for loop we can iterate through each item in a list.\n",
    "\n",
    "for fruit in ['apple','banana','mango']:\n",
    "    print(\"I like\",fruit)"
   ]
  },
  {
   "cell_type": "code",
   "execution_count": null,
   "id": "3ddee202",
   "metadata": {},
   "outputs": [],
   "source": []
  },
  {
   "cell_type": "code",
   "execution_count": null,
   "id": "ac72d0d7",
   "metadata": {},
   "outputs": [],
   "source": []
  },
  {
   "cell_type": "markdown",
   "id": "2f663886",
   "metadata": {
    "slideshow": {
     "slide_type": "slide"
    }
   },
   "source": [
    "# Tuples"
   ]
  },
  {
   "cell_type": "markdown",
   "id": "a3ea35fc",
   "metadata": {},
   "source": [
    "A tuple is a collection of objects which **ordered** and **immutable**. Tuples are sequences, just like lists. The differences between tuples and lists are, the tuples cannot be changed unlike lists and tuples use parentheses, whereas lists use square brackets.\n",
    "Creating a tuple is as simple as putting different comma-separated values. Optionally you can put these comma-separated values between parentheses also. For example −"
   ]
  },
  {
   "cell_type": "code",
   "execution_count": 3,
   "id": "4a784c7e",
   "metadata": {},
   "outputs": [
    {
     "data": {
      "text/plain": [
       "(1, 2, 3, 4)"
      ]
     },
     "execution_count": 3,
     "metadata": {},
     "output_type": "execute_result"
    }
   ],
   "source": [
    "tup1 = ('physics', 'chemistry', 1997, 2000);\n",
    "tup2 = (1, 2, 3, 4, 5 );\n",
    "tup3 = \"a\", \"b\", \"c\", \"d\";\n",
    "tup3\n",
    "tup4=1,2,3,4;\n",
    "tup4"
   ]
  },
  {
   "cell_type": "code",
   "execution_count": 8,
   "id": "e9651331",
   "metadata": {},
   "outputs": [
    {
     "data": {
      "text/plain": [
       "tuple"
      ]
     },
     "execution_count": 8,
     "metadata": {},
     "output_type": "execute_result"
    }
   ],
   "source": [
    "tup1 = (); # The empty tuple is written as two parentheses containing nothing −\n",
    "tup1 = (50,); #To write a tuple containing a single value you have to include a comma, even though there is only one value.\n",
    "tup1=(60,)\n",
    "tup1\n",
    "type(tup1)\n",
    "#Like string indices, tuple indices start at 0, and they can be sliced, concatenated, and so on."
   ]
  },
  {
   "cell_type": "markdown",
   "id": "7eddb9a9",
   "metadata": {},
   "source": [
    "## Accessing Values in Tuples\n",
    "\n",
    "To access values in tuple, use the square brackets for slicing along with the index or indices to obtain value available at that index. For example −"
   ]
  },
  {
   "cell_type": "code",
   "execution_count": 9,
   "id": "3933d859",
   "metadata": {},
   "outputs": [
    {
     "name": "stdout",
     "output_type": "stream",
     "text": [
      "tup1[0]:  1997\n",
      "tup2[1:5]:  (2, 3, 4, 5)\n"
     ]
    }
   ],
   "source": [
    "tup1 = ('physics', 'chemistry', 1997, 2000)\n",
    "tup2 = (1, 2, 3, 4, 5, 6, 7)\n",
    "print(\"tup1[-2]: \", tup1[-2])\n",
    "print(\"tup2[1:5]: \", tup2[1:5])"
   ]
  },
  {
   "cell_type": "markdown",
   "id": "9732af06",
   "metadata": {},
   "source": [
    "## Updating Tuples\n",
    "\n",
    "Tuples are immutable which means you cannot update or change the values of tuple elements. You are able to take portions of existing tuples to create new tuples as the following example demonstrates −"
   ]
  },
  {
   "cell_type": "code",
   "execution_count": 12,
   "id": "754af550",
   "metadata": {},
   "outputs": [
    {
     "name": "stdout",
     "output_type": "stream",
     "text": [
      "(12, 34.56, 'abc', 'xyz')\n",
      "[1, 2, 3, 2]\n"
     ]
    },
    {
     "data": {
      "text/plain": [
       "8"
      ]
     },
     "execution_count": 12,
     "metadata": {},
     "output_type": "execute_result"
    }
   ],
   "source": [
    "tup1 = (12, 34.56);\n",
    "tup2 = ('abc', 'xyz');\n",
    "\n",
    "# Following action is not valid for tuples\n",
    "#tup1[0] = 100;  # TypeError: 'tuple' object does not support item assignment\n",
    "\n",
    "# So let's create a new tuple as follows\n",
    "tup3 = tup1 + tup2;\n",
    "print(tup3);\n",
    "\n",
    "tup4=[1,2]\n",
    "tup5=[3,2]\n",
    "tup6=tup4+tup5\n",
    "print(tup6)\n",
    "\n",
    "sum(tup4+tup5)"
   ]
  },
  {
   "cell_type": "markdown",
   "id": "754506ea",
   "metadata": {},
   "source": [
    "## Delete Tuple Elements\n",
    "Removing individual tuple elements is not possible. There is, of course, nothing wrong with putting together another tuple with the undesired elements discarded.\n",
    "\n",
    "To explicitly remove an entire tuple, just use the del statement."
   ]
  },
  {
   "cell_type": "code",
   "execution_count": 34,
   "id": "8dfab5a2",
   "metadata": {},
   "outputs": [
    {
     "name": "stdout",
     "output_type": "stream",
     "text": [
      "('physics', 'chemistry', 1997, 2000)\n",
      "After deleting tup : \n"
     ]
    },
    {
     "ename": "NameError",
     "evalue": "name 'tup' is not defined",
     "output_type": "error",
     "traceback": [
      "\u001b[1;31m---------------------------------------------------------------------------\u001b[0m",
      "\u001b[1;31mNameError\u001b[0m                                 Traceback (most recent call last)",
      "\u001b[1;32m<ipython-input-34-2ac031d1cabe>\u001b[0m in \u001b[0;36m<module>\u001b[1;34m\u001b[0m\n\u001b[0;32m      3\u001b[0m \u001b[1;32mdel\u001b[0m \u001b[0mtup\u001b[0m\u001b[1;33m;\u001b[0m\u001b[1;33m\u001b[0m\u001b[1;33m\u001b[0m\u001b[0m\n\u001b[0;32m      4\u001b[0m \u001b[0mprint\u001b[0m\u001b[1;33m(\u001b[0m\u001b[1;34m\"After deleting tup : \"\u001b[0m\u001b[1;33m)\u001b[0m\u001b[1;33m\u001b[0m\u001b[1;33m\u001b[0m\u001b[0m\n\u001b[1;32m----> 5\u001b[1;33m \u001b[0mprint\u001b[0m\u001b[1;33m(\u001b[0m\u001b[0mtup\u001b[0m\u001b[1;33m)\u001b[0m\u001b[1;33m;\u001b[0m\u001b[1;33m\u001b[0m\u001b[1;33m\u001b[0m\u001b[0m\n\u001b[0m",
      "\u001b[1;31mNameError\u001b[0m: name 'tup' is not defined"
     ]
    }
   ],
   "source": [
    "tup = ('physics', 'chemistry', 1997, 2000);\n",
    "print(tup);\n",
    "del tup;\n",
    "print(\"After deleting tup : \")\n",
    "print(tup);"
   ]
  },
  {
   "cell_type": "markdown",
   "id": "6c8a8d93",
   "metadata": {},
   "source": [
    "## Basic Tuples Operations\n",
    "Tuples respond to the + and * operators much like strings; they mean concatenation and repetition here too, except that the result is a new tuple, not a string."
   ]
  },
  {
   "cell_type": "code",
   "execution_count": 35,
   "id": "87503571",
   "metadata": {},
   "outputs": [
    {
     "name": "stdout",
     "output_type": "stream",
     "text": [
      "3\n",
      "(1, 2, 3, 4, 5, 6)\n",
      "('Hi!', 'Hello', 'Hi!', 'Hello', 'Hi!', 'Hello', 'Hi!', 'Hello')\n",
      "False\n",
      "2\n",
      "4\n",
      "6\n"
     ]
    }
   ],
   "source": [
    "print(len((1, 2, 3)))   # Length\n",
    "print((1, 2, 3) + (4, 5, 6)) # Concatenation\n",
    "print(('Hi!',\"Hello\") * 4) # Repetition\n",
    "print(3 not in (1, 2, 3)) # Membership\n",
    "for x in (1, 2, 3):  #Iteration\n",
    "    print(2*x) "
   ]
  },
  {
   "cell_type": "markdown",
   "id": "f2c34d5c",
   "metadata": {},
   "source": [
    "## Indexing, Slicing, and Matrixes\n",
    "Because tuples are sequences, indexing and slicing work the same way for tuples as they do for strings."
   ]
  },
  {
   "cell_type": "code",
   "execution_count": 36,
   "id": "f8e431b6",
   "metadata": {},
   "outputs": [
    {
     "name": "stdout",
     "output_type": "stream",
     "text": [
      "('A', 'B')\n",
      "C\n",
      "B\n",
      "('B', 'C')\n"
     ]
    }
   ],
   "source": [
    "L = ('A', 'B', 'C')\n",
    "print(L[0:2])\n",
    "print(L[2])  # Offsets start at zero\n",
    "print(L[-2]) # Count from the right\n",
    "print(L[1:]) # Slicing fetches sections"
   ]
  },
  {
   "cell_type": "markdown",
   "id": "976c421e",
   "metadata": {},
   "source": [
    "## Tuple Function with Description"
   ]
  },
  {
   "cell_type": "code",
   "execution_count": 37,
   "id": "42df2c38",
   "metadata": {},
   "outputs": [
    {
     "name": "stdout",
     "output_type": "stream",
     "text": [
      "3\n",
      "5\n",
      "2\n",
      "[1, 2, 3]\n",
      "(1, 2, 3)\n",
      "3\n",
      "[3, 5, 2]\n",
      "(3, 5, 2)\n"
     ]
    }
   ],
   "source": [
    "tup=(3,5,2)\n",
    "print(len(tup)) # Gives the total length of the tuple.\n",
    "print(max(tup)) # Returns item from the tuple with max value.\n",
    "print(min(tup)) # Returns item from the tuple with min value.\n",
    "\n",
    "seq=[1,2,3]\n",
    "print(seq)\n",
    "print(tuple(seq)) # Converts a list into tuple. TypeCast operator\n",
    "\n",
    "print(int(float(\"3.2\")))\n",
    "print(list(tup))\n",
    "print(tup)"
   ]
  },
  {
   "cell_type": "code",
   "execution_count": 38,
   "id": "db6564be",
   "metadata": {},
   "outputs": [
    {
     "data": {
      "text/html": [
       "<div>\n",
       "<style scoped>\n",
       "    .dataframe tbody tr th:only-of-type {\n",
       "        vertical-align: middle;\n",
       "    }\n",
       "\n",
       "    .dataframe tbody tr th {\n",
       "        vertical-align: top;\n",
       "    }\n",
       "\n",
       "    .dataframe thead th {\n",
       "        text-align: right;\n",
       "    }\n",
       "</style>\n",
       "<table border=\"1\" class=\"dataframe\">\n",
       "  <thead>\n",
       "    <tr style=\"text-align: right;\">\n",
       "      <th></th>\n",
       "      <th>List</th>\n",
       "      <th>Tuples</th>\n",
       "    </tr>\n",
       "  </thead>\n",
       "  <tbody>\n",
       "    <tr>\n",
       "      <th>0</th>\n",
       "      <td>Lists are mutable</td>\n",
       "      <td>Tuples are immutable</td>\n",
       "    </tr>\n",
       "    <tr>\n",
       "      <th>1</th>\n",
       "      <td>Implication of iterations is Time-consuming</td>\n",
       "      <td>The implication of iterations is comparatively...</td>\n",
       "    </tr>\n",
       "    <tr>\n",
       "      <th>2</th>\n",
       "      <td>The list is better for performing operations, ...</td>\n",
       "      <td>Tuple data type is appropriate for accessing t...</td>\n",
       "    </tr>\n",
       "    <tr>\n",
       "      <th>3</th>\n",
       "      <td>Lists consume more memory</td>\n",
       "      <td>Tuple consume less memory as compared to the list</td>\n",
       "    </tr>\n",
       "    <tr>\n",
       "      <th>4</th>\n",
       "      <td>Lists have several built-in methods</td>\n",
       "      <td>Tuple does not have many built-in methods.</td>\n",
       "    </tr>\n",
       "  </tbody>\n",
       "</table>\n",
       "</div>"
      ],
      "text/plain": [
       "                                                List  \\\n",
       "0                                  Lists are mutable   \n",
       "1        Implication of iterations is Time-consuming   \n",
       "2  The list is better for performing operations, ...   \n",
       "3                          Lists consume more memory   \n",
       "4                Lists have several built-in methods   \n",
       "\n",
       "                                              Tuples  \n",
       "0                               Tuples are immutable  \n",
       "1  The implication of iterations is comparatively...  \n",
       "2  Tuple data type is appropriate for accessing t...  \n",
       "3  Tuple consume less memory as compared to the list  \n",
       "4         Tuple does not have many built-in methods.  "
      ]
     },
     "execution_count": 38,
     "metadata": {},
     "output_type": "execute_result"
    }
   ],
   "source": [
    "import pandas as pd\n",
    "List=[\"Lists are mutable\",\n",
    "      \"Implication of iterations is Time-consuming\",\n",
    "      \"The list is better for performing operations, such as insertion and deletion.\",\n",
    "      \"Lists consume more memory\", \n",
    "      \"Lists have several built-in methods\"]\n",
    "Tuples=[\"Tuples are immutable\", \n",
    "        \"The implication of iterations is comparatively Faster\", \n",
    "        \"Tuple data type is appropriate for accessing the elements\", \n",
    "        \"Tuple consume less memory as compared to the list\", \n",
    "        \"Tuple does not have many built-in methods.\"]\n",
    "pd.DataFrame({\"List\":List,\"Tuples\":Tuples})"
   ]
  },
  {
   "cell_type": "markdown",
   "id": "cb09b606",
   "metadata": {},
   "source": [
    "# Dictionaries "
   ]
  },
  {
   "cell_type": "markdown",
   "id": "b5117935",
   "metadata": {},
   "source": [
    "Each key is separated from its value by a colon (:), the items are separated by commas, and the whole thing is enclosed in curly braces. An empty dictionary without any items is written with just two curly braces, like this: {}.\n",
    "Keys are unique within a dictionary while values may not be. The values of a dictionary can be of any type, but the keys must be of an immutable data type such as strings, numbers, or tuples."
   ]
  },
  {
   "cell_type": "markdown",
   "id": "ea4481a5",
   "metadata": {},
   "source": [
    "## Accessing Values in Dictionary"
   ]
  },
  {
   "cell_type": "code",
   "execution_count": 14,
   "id": "a64ee3ff",
   "metadata": {},
   "outputs": [
    {
     "name": "stdout",
     "output_type": "stream",
     "text": [
      "{'Age': [3, 7], 'Class': ['Playgroup', 'First'], 'Name': ['Veer', 'Zara']}\n",
      "dict['Name']:  ['Veer', 'Zara']\n",
      "dict['Age']:  [3, 7]\n"
     ]
    },
    {
     "data": {
      "text/plain": [
       "dict_items([('Age', [3, 7]), ('Class', ['Playgroup', 'First']), ('Name', ['Veer', 'Zara'])])"
      ]
     },
     "execution_count": 14,
     "metadata": {},
     "output_type": "execute_result"
    }
   ],
   "source": [
    "dict = {'Age': [3,7], 'Class': ['Playgroup','First'],'Name': ['Veer','Zara']}\n",
    "print(dict)\n",
    "print(\"dict['Name']: \", dict['Name'])\n",
    "print(\"dict['Age']: \", dict['Age'])\n",
    "dict[\"Name\"]\n",
    "dict.items()"
   ]
  },
  {
   "cell_type": "markdown",
   "id": "bc2bb217",
   "metadata": {},
   "source": [
    "## Updating Dictionary\n",
    "You can update a dictionary by adding a new entry or a key-value pair, modifying an existing entry, or deleting an existing entry"
   ]
  },
  {
   "cell_type": "code",
   "execution_count": 16,
   "id": "53d730ff",
   "metadata": {},
   "outputs": [
    {
     "name": "stdout",
     "output_type": "stream",
     "text": [
      "dict['Age']:  8\n",
      "dict['School']:  DPS School\n"
     ]
    }
   ],
   "source": [
    "dict = {'Name': 'Zara', 'Age': 7, 'Class': 'First'}\n",
    "dict['Age'] = 8; # update existing entry\n",
    "dict['School'] = \"DPS School\"; # Add new entry\n",
    "\n",
    "print(\"dict['Age']: \", dict['Age'])\n",
    "print(\"dict['School']: \", dict['School'])"
   ]
  },
  {
   "cell_type": "markdown",
   "id": "f6b4e7b1",
   "metadata": {},
   "source": [
    "Delete Dictionary Elements\n",
    "You can either remove individual dictionary elements or clear the entire contents of a dictionary. You can also delete entire dictionary in a single operation."
   ]
  },
  {
   "cell_type": "code",
   "execution_count": 21,
   "id": "5bca10fb",
   "metadata": {},
   "outputs": [],
   "source": [
    "dict1 = {'Name': 'Zara', 'Age': 7, 'Class': 'First'}\n",
    "del dict1['Name']; # remove entry with key 'Name'\n",
    "dict1.clear();     # remove all entries in dict\n",
    "del dict1 ;        # delete entire dictionary\n",
    "\n",
    "#print(\"dict1['Age']: \", dict1['Age'])  # NameError: name 'dict1' is not defined\n",
    "#print(\"dict1['School']: \", dict1['School']) # NameError: name 'dict1' is not defined"
   ]
  },
  {
   "cell_type": "markdown",
   "id": "ed73e75b",
   "metadata": {},
   "source": [
    "Properties of Dictionary Keys"
   ]
  },
  {
   "cell_type": "markdown",
   "id": "de798787",
   "metadata": {},
   "source": [
    "(a) More than one entry per key not allowed. Which means no duplicate key is allowed. When duplicate keys encountered during assignment, the last assignment wins."
   ]
  },
  {
   "cell_type": "code",
   "execution_count": 24,
   "id": "97919c41",
   "metadata": {},
   "outputs": [
    {
     "name": "stdout",
     "output_type": "stream",
     "text": [
      "dict1['Name']:  Munni\n"
     ]
    }
   ],
   "source": [
    "dict1 = {'Name': 'Zara', \n",
    "        'Age': 7, \n",
    "        'Name': 'Munni'}\n",
    "print(\"dict1['Name']: \", dict1['Name'])"
   ]
  },
  {
   "cell_type": "markdown",
   "id": "b57c5d11",
   "metadata": {},
   "source": [
    "(b) Keys must be immutable. Which means you can use strings, numbers or tuples as dictionary keys but something like ['key'] is not allowed."
   ]
  },
  {
   "cell_type": "code",
   "execution_count": 27,
   "id": "01dd8e5a",
   "metadata": {},
   "outputs": [
    {
     "ename": "TypeError",
     "evalue": "unhashable type: 'list'",
     "output_type": "error",
     "traceback": [
      "\u001b[1;31m---------------------------------------------------------------------------\u001b[0m",
      "\u001b[1;31mTypeError\u001b[0m                                 Traceback (most recent call last)",
      "Cell \u001b[1;32mIn[27], line 1\u001b[0m\n\u001b[1;32m----> 1\u001b[0m dict1 \u001b[38;5;241m=\u001b[39m {[\u001b[38;5;124m'\u001b[39m\u001b[38;5;124mName\u001b[39m\u001b[38;5;124m'\u001b[39m]: \u001b[38;5;124m'\u001b[39m\u001b[38;5;124mZara\u001b[39m\u001b[38;5;124m'\u001b[39m, \n\u001b[0;32m      2\u001b[0m          \u001b[38;5;124m'\u001b[39m\u001b[38;5;124mAge\u001b[39m\u001b[38;5;124m'\u001b[39m: \u001b[38;5;241m7\u001b[39m} \u001b[38;5;66;03m# TypeError: unhashable type: 'list'\u001b[39;00m\n",
      "\u001b[1;31mTypeError\u001b[0m: unhashable type: 'list'"
     ]
    }
   ],
   "source": [
    "dict1 = {['Name']: 'Zara', \n",
    "         'Age': 7} # TypeError: unhashable type: 'list'"
   ]
  },
  {
   "cell_type": "markdown",
   "id": "70974f13",
   "metadata": {},
   "source": [
    "## Dictionary Functions"
   ]
  },
  {
   "cell_type": "code",
   "execution_count": 45,
   "id": "23e5c525",
   "metadata": {},
   "outputs": [
    {
     "name": "stdout",
     "output_type": "stream",
     "text": [
      "2\n",
      "{'Name': 'Zara', 'Age': 7}\n",
      "<class 'dict'>\n"
     ]
    }
   ],
   "source": [
    "dict1 = {'Name': 'Zara', 'Age': 7}\n",
    "print(len(dict1)) #Gives the total length of the dictionary. This would be equal to the number of items in the dictionary.\n",
    "print(str(dict1)) #Produces a printable string representation of a dictionary\n",
    "print(type(dict1)) #Returns the type of the passed variable. If passed variable is dictionary, then it would return a dictionary type."
   ]
  },
  {
   "cell_type": "markdown",
   "id": "cf7072ee",
   "metadata": {},
   "source": [
    "## Dictionary Methods"
   ]
  },
  {
   "cell_type": "code",
   "execution_count": 40,
   "id": "b9cdddbd",
   "metadata": {},
   "outputs": [
    {
     "data": {
      "text/plain": [
       "{'Name': 'Viraj', 'Age': 22, 'Age2': 16}"
      ]
     },
     "execution_count": 40,
     "metadata": {},
     "output_type": "execute_result"
    }
   ],
   "source": [
    "#dict1.clear() #Removes all elements of dictionary dict\n",
    "#dict1.keys()#Returns list of dictionary dict's keys\n",
    "#dict1.copy() #Returns a shallow copy of dictionary dict\n",
    "#dict1.fromkeys(dict1.keys()) # Create a new dictionary with keys from seq and values set to value.\n",
    "#dict1.get('Name')# For key key, returns value or default if key not in dictionary\n",
    "#dict1.has_key(key)#Returns true if key in dictionary dict, false otherwise\n",
    "#dict1.items()#Returns a list of dict's (key, value) tuple pairs\n",
    "dict1={'Name':'Vivek','Age':22}\n",
    "dict2={'Name':'Viraj','Age2':16}\n",
    "#dict1.setdefault(key, default=None)# Similar to get(), but will set dict[key]=default if key is not already in dict\n",
    "dict1.update(dict2)# Adds dictionary dict2's key-values pairs to dict\n",
    "dict1#.values()# Returns list of dictionary dict's values"
   ]
  },
  {
   "cell_type": "markdown",
   "id": "ad0cbf9b",
   "metadata": {},
   "source": [
    "# Assignment Questions"
   ]
  },
  {
   "cell_type": "markdown",
   "id": "1cae6bba",
   "metadata": {},
   "source": [
    "## Lists:\n",
    "\n",
    "- What is a list in Python? How is it different from other data types in Python?\n",
    "\n",
    "- How do you create a list in Python? Provide an example.\n",
    "\n",
    "- What are some common list operations in Python? Provide examples.\n",
    "\n",
    "- What is list slicing? How is it useful?\n",
    "\n",
    "- What is a list comprehension? How do you create a list comprehension in Python?\n",
    "\n",
    "## Tuples:\n",
    "\n",
    "\n",
    "- What is a tuple in Python? How is it different from a list?\n",
    "\n",
    "- How do you create a tuple in Python? Provide an example.\n",
    "\n",
    "- What are some common tuple operations in Python? Provide examples.\n",
    "\n",
    "- What is tuple unpacking? How is it useful?\n",
    "\n",
    "- Can you modify a tuple in Python? Why or why not?\n",
    "\n",
    "\n",
    "## Dictionaries:\n",
    "\n",
    "\n",
    "- What is a dictionary in Python? How is it different from other data types in Python?\n",
    "\n",
    "- How do you create a dictionary in Python? Provide an example.\n",
    "\n",
    "- What are some common dictionary operations in Python? Provide examples.\n",
    "\n",
    "- How do you access and modify values in a dictionary? Provide examples.\n",
    "\n",
    "- What is a dictionary comprehension? How do you create a dictionary comprehension in Python?"
   ]
  },
  {
   "cell_type": "markdown",
   "id": "6aa48ef1",
   "metadata": {},
   "source": [
    "# Practical Assignment\n",
    "\n",
    "## Lists:\n",
    "\n",
    "- Write a Python program that accepts a list of integers as input and returns the sum of all the even numbers in the list.\n",
    "\n",
    "- Write a Python program that accepts a list of strings as input and returns a new list that contains only the strings that start with the letter \"a\".\n",
    "\n",
    "- Write a Python program that accepts two lists of integers as input and returns a new list that contains only the common elements between the two lists.\n",
    "\n",
    "- Write a Python program that accepts a list of strings as input and returns a new list that contains the same strings in alphabetical order.\n",
    "- Write a Python program that accepts a list of integers as input and returns a new list that contains only the unique elements of the input list (i.e., no duplicates).\n",
    "\n",
    "## Tuples:\n",
    "\n",
    "\n",
    "- Write a Python program that accepts a tuple of integers as input and returns the sum of all the even numbers in the tuple.\n",
    "\n",
    "- Write a Python program that accepts two tuples of integers as input and returns a new tuple that contains only the common elements between the two tuples.\n",
    "\n",
    "- Write a Python program that accepts a tuple of strings as input and returns a new tuple that contains only the strings that start with the letter \"a\".\n",
    "\n",
    "- Write a Python program that accepts a tuple of integers as input and returns a new tuple that contains the same integers in descending order.\n",
    "\n",
    "- Write a Python program that accepts a tuple of integers as input and returns a new tuple that contains only the unique elements of the input tuple (i.e., no duplicates).\n",
    "\n",
    "## Dictionaries:\n",
    "\n",
    "\n",
    "- Write a Python program that accepts a dictionary of integers as input and returns the sum of all the values in the dictionary.\n",
    "\n",
    "- Write a Python program that accepts two dictionaries of integers as input and returns a new dictionary that contains only the common keys and values between the two dictionaries.\n",
    "\n",
    "- Write a Python program that accepts a dictionary of strings as input and returns a new dictionary that contains only the key-value pairs where the value is a string that starts with the letter \"a\".\n",
    "\n",
    "- Write a Python program that accepts a dictionary of integers as input and returns a new dictionary that contains the same key-value pairs as the input dictionary, but with the keys and values swapped.\n",
    "\n",
    "- Write a Python program that accepts a dictionary of integers as input and returns a new dictionary that contains only the keys and values where the value is an even number."
   ]
  },
  {
   "cell_type": "markdown",
   "id": "af73ec76",
   "metadata": {},
   "source": [
    "## Lists:\n",
    "\n",
    "- Write a Python program that accepts a list of integers as input and returns the sum of all the even numbers in the list."
   ]
  },
  {
   "cell_type": "code",
   "execution_count": 5,
   "id": "249af7d7",
   "metadata": {},
   "outputs": [
    {
     "name": "stdout",
     "output_type": "stream",
     "text": [
      "Enter the size of the list:5\n",
      "Enter numbers:\n",
      "1:23\n",
      "2:49\n",
      "3:32\n",
      "4:14\n",
      "5:12\n",
      "List: [23, 49, 32, 14, 12]\n",
      "Sum of the even numbers is 58.\n"
     ]
    }
   ],
   "source": [
    "L=[]\n",
    "n=int(input(\"Enter the size of the list:\"))\n",
    "sum0=0\n",
    "print(\"Enter numbers:\")\n",
    "for i in range(0,n):\n",
    "    temp=int(input(f\"{i+1}:\"))\n",
    "    L.append(temp)\n",
    "    sum0+=temp if temp%2==0 else 0\n",
    "\n",
    "print(f\"List: {L}\")\n",
    "print(f\"Sum of the even numbers is {sum0}.\")"
   ]
  },
  {
   "cell_type": "markdown",
   "id": "64ca0697",
   "metadata": {},
   "source": [
    "- Write a Python program that accepts a list of strings as input and returns a new list that contains only the strings that start with the letter \"a\"."
   ]
  },
  {
   "cell_type": "code",
   "execution_count": 7,
   "id": "1e4e2246",
   "metadata": {},
   "outputs": [
    {
     "name": "stdout",
     "output_type": "stream",
     "text": [
      "Enter the size of the list:3\n",
      "Enter List elements:\n",
      "1:Anita\n",
      "2:Mrunal\n",
      "3:Archana\n",
      "List: ['Anita', 'Mrunal', 'Archana']\n",
      "New List: ['Anita', 'Archana']\n"
     ]
    }
   ],
   "source": [
    "L=[]\n",
    "n=int(input(\"Enter the size of the list:\"))\n",
    "new_L=[]\n",
    "print(\"Enter List elements:\")\n",
    "for i in range(0,n):\n",
    "    temp=input(f\"{i+1}:\")\n",
    "    L.append(temp)\n",
    "    if temp[0]==\"a\" or temp[0]==\"A\":\n",
    "        new_L.append(temp)\n",
    "\n",
    "print(f\"List: {L}\")\n",
    "print(f\"New List: {new_L}\")"
   ]
  },
  {
   "cell_type": "markdown",
   "id": "66a444f7",
   "metadata": {},
   "source": [
    "- Write a Python program that accepts two lists of integers as input and returns a new list that contains only the common elements between the two lists."
   ]
  },
  {
   "cell_type": "code",
   "execution_count": 9,
   "id": "32b0478f",
   "metadata": {},
   "outputs": [
    {
     "name": "stdout",
     "output_type": "stream",
     "text": [
      "Enter the length of list 1 :3\n",
      "Enter the length of list 2 :3\n",
      "List 1: 1 :1\n",
      "List 1: 2 :2\n",
      "List 1: 3 :3\n",
      "List 2: 1 :4\n",
      "List 2: 2 :3\n",
      "List 2: 3 :2\n",
      "[2, 3]\n"
     ]
    }
   ],
   "source": [
    "n1=int(input(\"Enter the length of list 1 :\"))\n",
    "n2=int(input(\"Enter the length of list 2 :\"))\n",
    "L1=[]\n",
    "L2=[]\n",
    "newL=[]\n",
    "for i in range(0,n1):\n",
    "    temp=int(input(f\"List 1: {i+1} :\"))\n",
    "    L1.append(temp)\n",
    "for i in range(0,n2):\n",
    "    temp=int(input(f\"List 2: {i+1} :\"))\n",
    "    L2.append(temp)\n",
    "    \n",
    "for i in range(0,n1):\n",
    "    for j in range(0,n2):\n",
    "        temp=L1[i]\n",
    "        if L1[i]==L2[j]:\n",
    "            newL.append(temp)\n",
    "print(newL)            "
   ]
  },
  {
   "cell_type": "code",
   "execution_count": 20,
   "id": "925afa74",
   "metadata": {},
   "outputs": [
    {
     "name": "stdout",
     "output_type": "stream",
     "text": [
      "First Comma separated List :1,2,3\n",
      "Second Comma separated List :2,3,4,5\n"
     ]
    },
    {
     "data": {
      "text/plain": [
       "['2', '3']"
      ]
     },
     "execution_count": 20,
     "metadata": {},
     "output_type": "execute_result"
    }
   ],
   "source": [
    "L1=input(\"First Comma separated List :\")\n",
    "L1=L1.split(\",\")\n",
    "L2=input(\"Second Comma separated List :\")\n",
    "L2=L2.split(\",\")\n",
    "L3=[]\n",
    "for i in L1:\n",
    "    for j in L2:\n",
    "        if i==j:\n",
    "            L3.append(i)\n",
    "L3"
   ]
  },
  {
   "cell_type": "markdown",
   "id": "d9e99fe3",
   "metadata": {},
   "source": [
    "- Write a Python program that accepts a list of strings as input and returns a new list that contains the same strings in alphabetical order."
   ]
  },
  {
   "cell_type": "code",
   "execution_count": 26,
   "id": "391bfd41",
   "metadata": {},
   "outputs": [
    {
     "name": "stdout",
     "output_type": "stream",
     "text": [
      "Enter comma separated ListJagruti,Sampada,Vedanti,Tejas\n",
      "['Jagruti', 'Sampada', 'Tejas', 'Vedanti']\n"
     ]
    }
   ],
   "source": [
    "L4=input(\"Enter comma separated List\")\n",
    "L4=L4.split(\",\")\n",
    "L4.sort()\n",
    "print(L4)"
   ]
  },
  {
   "cell_type": "markdown",
   "id": "76e66396",
   "metadata": {},
   "source": [
    "- Write a Python program that accepts a list of integers as input and returns a new list that contains only the unique elements of the input list (i.e., no duplicates)."
   ]
  },
  {
   "cell_type": "code",
   "execution_count": 62,
   "id": "923b769c",
   "metadata": {},
   "outputs": [
    {
     "name": "stdout",
     "output_type": "stream",
     "text": [
      "Enter comma separated List1,1,2,3,2,4\n"
     ]
    }
   ],
   "source": [
    "L5=input(\"Enter comma separated List\")\n",
    "L5=L5.split(\",\")\n",
    "temp=[int(i) for i in L5]\n",
    "L6=[]\n",
    "while temp!=[]:\n",
    "    L6.append(temp[0])\n",
    "    temp.remove(temp[0])"
   ]
  },
  {
   "cell_type": "code",
   "execution_count": 63,
   "id": "209c0bf7",
   "metadata": {},
   "outputs": [
    {
     "data": {
      "text/plain": [
       "[1, 1, 2, 3, 2, 4]"
      ]
     },
     "execution_count": 63,
     "metadata": {},
     "output_type": "execute_result"
    }
   ],
   "source": [
    "L6"
   ]
  },
  {
   "cell_type": "code",
   "execution_count": 85,
   "id": "02437651-90e1-4410-9268-09400cce47af",
   "metadata": {},
   "outputs": [
    {
     "name": "stdout",
     "output_type": "stream",
     "text": [
      "Collecting RISE\n",
      "  Downloading rise-5.7.1-py2.py3-none-any.whl (4.3 MB)\n",
      "     ---------------------------------------- 0.0/4.3 MB ? eta -:--:--\n",
      "     ---------------------------------------- 0.0/4.3 MB ? eta -:--:--\n",
      "     ---------------------------------------- 0.0/4.3 MB ? eta -:--:--\n",
      "     ---------------------------------------- 0.0/4.3 MB ? eta -:--:--\n",
      "     ---------------------------------------- 0.0/4.3 MB 217.9 kB/s eta 0:00:20\n",
      "      --------------------------------------- 0.1/4.3 MB 297.7 kB/s eta 0:00:15\n",
      "      --------------------------------------- 0.1/4.3 MB 374.1 kB/s eta 0:00:12\n",
      "     - -------------------------------------- 0.1/4.3 MB 400.9 kB/s eta 0:00:11\n",
      "     - -------------------------------------- 0.2/4.3 MB 492.3 kB/s eta 0:00:09\n",
      "     - -------------------------------------- 0.2/4.3 MB 476.3 kB/s eta 0:00:09\n",
      "     - -------------------------------------- 0.2/4.3 MB 497.6 kB/s eta 0:00:09\n",
      "     -- ------------------------------------- 0.2/4.3 MB 519.9 kB/s eta 0:00:08\n",
      "     -- ------------------------------------- 0.3/4.3 MB 567.7 kB/s eta 0:00:08\n",
      "     -- ------------------------------------- 0.3/4.3 MB 559.2 kB/s eta 0:00:08\n",
      "     --- ------------------------------------ 0.3/4.3 MB 566.9 kB/s eta 0:00:07\n",
      "     --- ------------------------------------ 0.4/4.3 MB 573.4 kB/s eta 0:00:07\n",
      "     --- ------------------------------------ 0.4/4.3 MB 596.2 kB/s eta 0:00:07\n",
      "     --- ------------------------------------ 0.4/4.3 MB 596.2 kB/s eta 0:00:07\n",
      "     ---- ----------------------------------- 0.5/4.3 MB 574.8 kB/s eta 0:00:07\n",
      "     ---- ----------------------------------- 0.5/4.3 MB 605.3 kB/s eta 0:00:07\n",
      "     ----- ---------------------------------- 0.6/4.3 MB 631.8 kB/s eta 0:00:06\n",
      "     ----- ---------------------------------- 0.6/4.3 MB 643.6 kB/s eta 0:00:06\n",
      "     ----- ---------------------------------- 0.6/4.3 MB 633.1 kB/s eta 0:00:06\n",
      "     ----- ---------------------------------- 0.6/4.3 MB 633.1 kB/s eta 0:00:06\n",
      "     ----- ---------------------------------- 0.6/4.3 MB 633.1 kB/s eta 0:00:06\n",
      "     ------ --------------------------------- 0.7/4.3 MB 599.0 kB/s eta 0:00:07\n",
      "     ------ --------------------------------- 0.7/4.3 MB 619.0 kB/s eta 0:00:06\n",
      "     ------ --------------------------------- 0.7/4.3 MB 629.1 kB/s eta 0:00:06\n",
      "     ------- -------------------------------- 0.8/4.3 MB 680.5 kB/s eta 0:00:06\n",
      "     -------- ------------------------------- 0.9/4.3 MB 687.5 kB/s eta 0:00:05\n",
      "     -------- ------------------------------- 1.0/4.3 MB 709.4 kB/s eta 0:00:05\n",
      "     --------- ------------------------------ 1.0/4.3 MB 722.4 kB/s eta 0:00:05\n",
      "     --------- ------------------------------ 1.0/4.3 MB 720.1 kB/s eta 0:00:05\n",
      "     ---------- ----------------------------- 1.1/4.3 MB 745.2 kB/s eta 0:00:05\n",
      "     ----------- ---------------------------- 1.2/4.3 MB 770.0 kB/s eta 0:00:05\n",
      "     ----------- ---------------------------- 1.2/4.3 MB 793.2 kB/s eta 0:00:04\n",
      "     ------------ --------------------------- 1.3/4.3 MB 828.7 kB/s eta 0:00:04\n",
      "     ------------- -------------------------- 1.4/4.3 MB 865.7 kB/s eta 0:00:04\n",
      "     ------------- -------------------------- 1.5/4.3 MB 868.0 kB/s eta 0:00:04\n",
      "     -------------- ------------------------- 1.5/4.3 MB 874.0 kB/s eta 0:00:04\n",
      "     -------------- ------------------------- 1.6/4.3 MB 877.6 kB/s eta 0:00:04\n",
      "     --------------- ------------------------ 1.7/4.3 MB 918.7 kB/s eta 0:00:03\n",
      "     --------------- ------------------------ 1.7/4.3 MB 901.1 kB/s eta 0:00:03\n",
      "     ---------------- ----------------------- 1.8/4.3 MB 905.7 kB/s eta 0:00:03\n",
      "     ----------------- ---------------------- 1.8/4.3 MB 925.7 kB/s eta 0:00:03\n",
      "     ----------------- ---------------------- 1.9/4.3 MB 929.5 kB/s eta 0:00:03\n",
      "     ------------------ --------------------- 1.9/4.3 MB 938.6 kB/s eta 0:00:03\n",
      "     ------------------ --------------------- 2.0/4.3 MB 951.7 kB/s eta 0:00:03\n",
      "     ------------------- -------------------- 2.1/4.3 MB 966.1 kB/s eta 0:00:03\n",
      "     -------------------- ------------------- 2.2/4.3 MB 985.4 kB/s eta 0:00:03\n",
      "     -------------------- ------------------- 2.2/4.3 MB 999.2 kB/s eta 0:00:03\n",
      "     -------------------- ------------------- 2.2/4.3 MB 999.2 kB/s eta 0:00:03\n",
      "     --------------------- ------------------ 2.3/4.3 MB 980.9 kB/s eta 0:00:03\n",
      "     ---------------------- ----------------- 2.4/4.3 MB 987.4 kB/s eta 0:00:02\n",
      "     ---------------------- ----------------- 2.4/4.3 MB 993.6 kB/s eta 0:00:02\n",
      "     ---------------------- ----------------- 2.5/4.3 MB 985.2 kB/s eta 0:00:02\n",
      "     ----------------------- ---------------- 2.5/4.3 MB 997.1 kB/s eta 0:00:02\n",
      "     ----------------------- ---------------- 2.5/4.3 MB 997.1 kB/s eta 0:00:02\n",
      "     ------------------------ --------------- 2.6/4.3 MB 994.7 kB/s eta 0:00:02\n",
      "     ------------------------- -------------- 2.7/4.3 MB 1.0 MB/s eta 0:00:02\n",
      "     -------------------------- ------------- 2.8/4.3 MB 1.0 MB/s eta 0:00:02\n",
      "     -------------------------- ------------- 2.8/4.3 MB 1.0 MB/s eta 0:00:02\n",
      "     -------------------------- ------------- 2.8/4.3 MB 1.0 MB/s eta 0:00:02\n",
      "     --------------------------- ------------ 3.0/4.3 MB 1.1 MB/s eta 0:00:02\n",
      "     ---------------------------- ----------- 3.0/4.3 MB 1.1 MB/s eta 0:00:02\n",
      "     ----------------------------- ---------- 3.1/4.3 MB 1.1 MB/s eta 0:00:02\n",
      "     ----------------------------- ---------- 3.2/4.3 MB 1.1 MB/s eta 0:00:02\n",
      "     ------------------------------ --------- 3.3/4.3 MB 1.1 MB/s eta 0:00:01\n",
      "     ------------------------------- -------- 3.4/4.3 MB 1.1 MB/s eta 0:00:01\n",
      "     -------------------------------- ------- 3.5/4.3 MB 1.1 MB/s eta 0:00:01\n",
      "     -------------------------------- ------- 3.5/4.3 MB 1.1 MB/s eta 0:00:01\n",
      "     --------------------------------- ------ 3.6/4.3 MB 1.1 MB/s eta 0:00:01\n",
      "     ---------------------------------- ----- 3.7/4.3 MB 1.1 MB/s eta 0:00:01\n",
      "     ---------------------------------- ----- 3.7/4.3 MB 1.1 MB/s eta 0:00:01\n",
      "     ------------------------------------ --- 3.9/4.3 MB 1.1 MB/s eta 0:00:01\n",
      "     ------------------------------------ --- 3.9/4.3 MB 1.2 MB/s eta 0:00:01\n",
      "     ------------------------------------- -- 4.0/4.3 MB 1.2 MB/s eta 0:00:01\n",
      "     ------------------------------------- -- 4.0/4.3 MB 1.2 MB/s eta 0:00:01\n",
      "     -------------------------------------- - 4.1/4.3 MB 1.2 MB/s eta 0:00:01\n",
      "     ---------------------------------------  4.2/4.3 MB 1.2 MB/s eta 0:00:01\n",
      "     ---------------------------------------  4.2/4.3 MB 1.2 MB/s eta 0:00:01\n",
      "     ---------------------------------------  4.2/4.3 MB 1.2 MB/s eta 0:00:01\n",
      "     ---------------------------------------- 4.3/4.3 MB 1.2 MB/s eta 0:00:00\n",
      "Requirement already satisfied: notebook>=6.0 in c:\\python123\\lib\\site-packages (from RISE) (7.0.7)\n",
      "Requirement already satisfied: jupyter-server<3,>=2.4.0 in c:\\python123\\lib\\site-packages (from notebook>=6.0->RISE) (2.12.5)\n",
      "Requirement already satisfied: jupyterlab-server<3,>=2.22.1 in c:\\python123\\lib\\site-packages (from notebook>=6.0->RISE) (2.25.2)\n",
      "Requirement already satisfied: jupyterlab<5,>=4.0.2 in c:\\python123\\lib\\site-packages (from notebook>=6.0->RISE) (4.0.10)\n",
      "Requirement already satisfied: notebook-shim<0.3,>=0.2 in c:\\python123\\lib\\site-packages (from notebook>=6.0->RISE) (0.2.3)\n",
      "Requirement already satisfied: tornado>=6.2.0 in c:\\python123\\lib\\site-packages (from notebook>=6.0->RISE) (6.4)\n",
      "Requirement already satisfied: anyio>=3.1.0 in c:\\python123\\lib\\site-packages (from jupyter-server<3,>=2.4.0->notebook>=6.0->RISE) (4.2.0)\n",
      "Requirement already satisfied: argon2-cffi in c:\\python123\\lib\\site-packages (from jupyter-server<3,>=2.4.0->notebook>=6.0->RISE) (23.1.0)\n",
      "Requirement already satisfied: jinja2 in c:\\python123\\lib\\site-packages (from jupyter-server<3,>=2.4.0->notebook>=6.0->RISE) (3.1.3)\n",
      "Requirement already satisfied: jupyter-client>=7.4.4 in c:\\python123\\lib\\site-packages (from jupyter-server<3,>=2.4.0->notebook>=6.0->RISE) (8.6.0)\n",
      "Requirement already satisfied: jupyter-core!=5.0.*,>=4.12 in c:\\python123\\lib\\site-packages (from jupyter-server<3,>=2.4.0->notebook>=6.0->RISE) (5.7.1)\n",
      "Requirement already satisfied: jupyter-events>=0.9.0 in c:\\python123\\lib\\site-packages (from jupyter-server<3,>=2.4.0->notebook>=6.0->RISE) (0.9.0)\n",
      "Requirement already satisfied: jupyter-server-terminals in c:\\python123\\lib\\site-packages (from jupyter-server<3,>=2.4.0->notebook>=6.0->RISE) (0.5.1)\n",
      "Requirement already satisfied: nbconvert>=6.4.4 in c:\\python123\\lib\\site-packages (from jupyter-server<3,>=2.4.0->notebook>=6.0->RISE) (7.14.2)\n",
      "Requirement already satisfied: nbformat>=5.3.0 in c:\\python123\\lib\\site-packages (from jupyter-server<3,>=2.4.0->notebook>=6.0->RISE) (5.9.2)\n",
      "Requirement already satisfied: overrides in c:\\python123\\lib\\site-packages (from jupyter-server<3,>=2.4.0->notebook>=6.0->RISE) (7.4.0)\n",
      "Requirement already satisfied: packaging in c:\\python123\\lib\\site-packages (from jupyter-server<3,>=2.4.0->notebook>=6.0->RISE) (23.2)\n",
      "Requirement already satisfied: prometheus-client in c:\\python123\\lib\\site-packages (from jupyter-server<3,>=2.4.0->notebook>=6.0->RISE) (0.19.0)\n",
      "Requirement already satisfied: pywinpty in c:\\python123\\lib\\site-packages (from jupyter-server<3,>=2.4.0->notebook>=6.0->RISE) (2.0.12)\n",
      "Requirement already satisfied: pyzmq>=24 in c:\\python123\\lib\\site-packages (from jupyter-server<3,>=2.4.0->notebook>=6.0->RISE) (25.1.2)\n",
      "Requirement already satisfied: send2trash>=1.8.2 in c:\\python123\\lib\\site-packages (from jupyter-server<3,>=2.4.0->notebook>=6.0->RISE) (1.8.2)\n",
      "Requirement already satisfied: terminado>=0.8.3 in c:\\python123\\lib\\site-packages (from jupyter-server<3,>=2.4.0->notebook>=6.0->RISE) (0.18.0)\n",
      "Requirement already satisfied: traitlets>=5.6.0 in c:\\python123\\lib\\site-packages (from jupyter-server<3,>=2.4.0->notebook>=6.0->RISE) (5.14.1)\n",
      "Requirement already satisfied: websocket-client in c:\\python123\\lib\\site-packages (from jupyter-server<3,>=2.4.0->notebook>=6.0->RISE) (1.7.0)\n",
      "Requirement already satisfied: async-lru>=1.0.0 in c:\\python123\\lib\\site-packages (from jupyterlab<5,>=4.0.2->notebook>=6.0->RISE) (2.0.4)\n",
      "Requirement already satisfied: ipykernel in c:\\python123\\lib\\site-packages (from jupyterlab<5,>=4.0.2->notebook>=6.0->RISE) (6.29.0)\n",
      "Requirement already satisfied: jupyter-lsp>=2.0.0 in c:\\python123\\lib\\site-packages (from jupyterlab<5,>=4.0.2->notebook>=6.0->RISE) (2.2.1)\n",
      "Requirement already satisfied: babel>=2.10 in c:\\python123\\lib\\site-packages (from jupyterlab-server<3,>=2.22.1->notebook>=6.0->RISE) (2.14.0)\n",
      "Requirement already satisfied: json5>=0.9.0 in c:\\python123\\lib\\site-packages (from jupyterlab-server<3,>=2.22.1->notebook>=6.0->RISE) (0.9.14)\n",
      "Requirement already satisfied: jsonschema>=4.18.0 in c:\\python123\\lib\\site-packages (from jupyterlab-server<3,>=2.22.1->notebook>=6.0->RISE) (4.21.0)\n",
      "Requirement already satisfied: requests>=2.31 in c:\\python123\\lib\\site-packages (from jupyterlab-server<3,>=2.22.1->notebook>=6.0->RISE) (2.31.0)\n",
      "Requirement already satisfied: idna>=2.8 in c:\\python123\\lib\\site-packages (from anyio>=3.1.0->jupyter-server<3,>=2.4.0->notebook>=6.0->RISE) (3.6)\n",
      "Requirement already satisfied: sniffio>=1.1 in c:\\python123\\lib\\site-packages (from anyio>=3.1.0->jupyter-server<3,>=2.4.0->notebook>=6.0->RISE) (1.3.0)\n",
      "Requirement already satisfied: MarkupSafe>=2.0 in c:\\python123\\lib\\site-packages (from jinja2->jupyter-server<3,>=2.4.0->notebook>=6.0->RISE) (2.1.3)\n",
      "Requirement already satisfied: attrs>=22.2.0 in c:\\python123\\lib\\site-packages (from jsonschema>=4.18.0->jupyterlab-server<3,>=2.22.1->notebook>=6.0->RISE) (23.2.0)\n",
      "Requirement already satisfied: jsonschema-specifications>=2023.03.6 in c:\\python123\\lib\\site-packages (from jsonschema>=4.18.0->jupyterlab-server<3,>=2.22.1->notebook>=6.0->RISE) (2023.12.1)\n",
      "Requirement already satisfied: referencing>=0.28.4 in c:\\python123\\lib\\site-packages (from jsonschema>=4.18.0->jupyterlab-server<3,>=2.22.1->notebook>=6.0->RISE) (0.32.1)\n",
      "Requirement already satisfied: rpds-py>=0.7.1 in c:\\python123\\lib\\site-packages (from jsonschema>=4.18.0->jupyterlab-server<3,>=2.22.1->notebook>=6.0->RISE) (0.17.1)\n",
      "Requirement already satisfied: python-dateutil>=2.8.2 in c:\\python123\\lib\\site-packages (from jupyter-client>=7.4.4->jupyter-server<3,>=2.4.0->notebook>=6.0->RISE) (2.8.2)\n",
      "Requirement already satisfied: platformdirs>=2.5 in c:\\python123\\lib\\site-packages (from jupyter-core!=5.0.*,>=4.12->jupyter-server<3,>=2.4.0->notebook>=6.0->RISE) (4.1.0)\n",
      "Requirement already satisfied: pywin32>=300 in c:\\python123\\lib\\site-packages (from jupyter-core!=5.0.*,>=4.12->jupyter-server<3,>=2.4.0->notebook>=6.0->RISE) (306)\n",
      "Requirement already satisfied: python-json-logger>=2.0.4 in c:\\python123\\lib\\site-packages (from jupyter-events>=0.9.0->jupyter-server<3,>=2.4.0->notebook>=6.0->RISE) (2.0.7)\n",
      "Requirement already satisfied: pyyaml>=5.3 in c:\\python123\\lib\\site-packages (from jupyter-events>=0.9.0->jupyter-server<3,>=2.4.0->notebook>=6.0->RISE) (6.0.1)\n",
      "Requirement already satisfied: rfc3339-validator in c:\\python123\\lib\\site-packages (from jupyter-events>=0.9.0->jupyter-server<3,>=2.4.0->notebook>=6.0->RISE) (0.1.4)\n",
      "Requirement already satisfied: rfc3986-validator>=0.1.1 in c:\\python123\\lib\\site-packages (from jupyter-events>=0.9.0->jupyter-server<3,>=2.4.0->notebook>=6.0->RISE) (0.1.1)\n",
      "Requirement already satisfied: beautifulsoup4 in c:\\python123\\lib\\site-packages (from nbconvert>=6.4.4->jupyter-server<3,>=2.4.0->notebook>=6.0->RISE) (4.12.2)\n",
      "Requirement already satisfied: bleach!=5.0.0 in c:\\python123\\lib\\site-packages (from nbconvert>=6.4.4->jupyter-server<3,>=2.4.0->notebook>=6.0->RISE) (6.1.0)\n",
      "Requirement already satisfied: defusedxml in c:\\python123\\lib\\site-packages (from nbconvert>=6.4.4->jupyter-server<3,>=2.4.0->notebook>=6.0->RISE) (0.7.1)\n",
      "Requirement already satisfied: jupyterlab-pygments in c:\\python123\\lib\\site-packages (from nbconvert>=6.4.4->jupyter-server<3,>=2.4.0->notebook>=6.0->RISE) (0.3.0)\n",
      "Requirement already satisfied: mistune<4,>=2.0.3 in c:\\python123\\lib\\site-packages (from nbconvert>=6.4.4->jupyter-server<3,>=2.4.0->notebook>=6.0->RISE) (3.0.2)\n",
      "Requirement already satisfied: nbclient>=0.5.0 in c:\\python123\\lib\\site-packages (from nbconvert>=6.4.4->jupyter-server<3,>=2.4.0->notebook>=6.0->RISE) (0.9.0)\n",
      "Requirement already satisfied: pandocfilters>=1.4.1 in c:\\python123\\lib\\site-packages (from nbconvert>=6.4.4->jupyter-server<3,>=2.4.0->notebook>=6.0->RISE) (1.5.0)\n",
      "Requirement already satisfied: pygments>=2.4.1 in c:\\python123\\lib\\site-packages (from nbconvert>=6.4.4->jupyter-server<3,>=2.4.0->notebook>=6.0->RISE) (2.17.2)\n",
      "Requirement already satisfied: tinycss2 in c:\\python123\\lib\\site-packages (from nbconvert>=6.4.4->jupyter-server<3,>=2.4.0->notebook>=6.0->RISE) (1.2.1)\n",
      "Requirement already satisfied: fastjsonschema in c:\\python123\\lib\\site-packages (from nbformat>=5.3.0->jupyter-server<3,>=2.4.0->notebook>=6.0->RISE) (2.19.1)\n",
      "Requirement already satisfied: charset-normalizer<4,>=2 in c:\\python123\\lib\\site-packages (from requests>=2.31->jupyterlab-server<3,>=2.22.1->notebook>=6.0->RISE) (3.3.2)\n",
      "Requirement already satisfied: urllib3<3,>=1.21.1 in c:\\python123\\lib\\site-packages (from requests>=2.31->jupyterlab-server<3,>=2.22.1->notebook>=6.0->RISE) (2.1.0)\n",
      "Requirement already satisfied: certifi>=2017.4.17 in c:\\python123\\lib\\site-packages (from requests>=2.31->jupyterlab-server<3,>=2.22.1->notebook>=6.0->RISE) (2023.11.17)\n",
      "Requirement already satisfied: argon2-cffi-bindings in c:\\python123\\lib\\site-packages (from argon2-cffi->jupyter-server<3,>=2.4.0->notebook>=6.0->RISE) (21.2.0)\n",
      "Requirement already satisfied: comm>=0.1.1 in c:\\python123\\lib\\site-packages (from ipykernel->jupyterlab<5,>=4.0.2->notebook>=6.0->RISE) (0.2.1)\n",
      "Requirement already satisfied: debugpy>=1.6.5 in c:\\python123\\lib\\site-packages (from ipykernel->jupyterlab<5,>=4.0.2->notebook>=6.0->RISE) (1.8.0)\n",
      "Requirement already satisfied: ipython>=7.23.1 in c:\\python123\\lib\\site-packages (from ipykernel->jupyterlab<5,>=4.0.2->notebook>=6.0->RISE) (8.20.0)\n",
      "Requirement already satisfied: matplotlib-inline>=0.1 in c:\\python123\\lib\\site-packages (from ipykernel->jupyterlab<5,>=4.0.2->notebook>=6.0->RISE) (0.1.6)\n",
      "Requirement already satisfied: nest-asyncio in c:\\python123\\lib\\site-packages (from ipykernel->jupyterlab<5,>=4.0.2->notebook>=6.0->RISE) (1.5.9)\n",
      "Requirement already satisfied: psutil in c:\\python123\\lib\\site-packages (from ipykernel->jupyterlab<5,>=4.0.2->notebook>=6.0->RISE) (5.9.7)\n",
      "Requirement already satisfied: six>=1.9.0 in c:\\python123\\lib\\site-packages (from bleach!=5.0.0->nbconvert>=6.4.4->jupyter-server<3,>=2.4.0->notebook>=6.0->RISE) (1.16.0)\n",
      "Requirement already satisfied: webencodings in c:\\python123\\lib\\site-packages (from bleach!=5.0.0->nbconvert>=6.4.4->jupyter-server<3,>=2.4.0->notebook>=6.0->RISE) (0.5.1)\n",
      "Requirement already satisfied: decorator in c:\\python123\\lib\\site-packages (from ipython>=7.23.1->ipykernel->jupyterlab<5,>=4.0.2->notebook>=6.0->RISE) (5.1.1)\n",
      "Requirement already satisfied: jedi>=0.16 in c:\\python123\\lib\\site-packages (from ipython>=7.23.1->ipykernel->jupyterlab<5,>=4.0.2->notebook>=6.0->RISE) (0.19.1)\n",
      "Requirement already satisfied: prompt-toolkit<3.1.0,>=3.0.41 in c:\\python123\\lib\\site-packages (from ipython>=7.23.1->ipykernel->jupyterlab<5,>=4.0.2->notebook>=6.0->RISE) (3.0.43)\n",
      "Requirement already satisfied: stack-data in c:\\python123\\lib\\site-packages (from ipython>=7.23.1->ipykernel->jupyterlab<5,>=4.0.2->notebook>=6.0->RISE) (0.6.3)\n",
      "Requirement already satisfied: colorama in c:\\python123\\lib\\site-packages (from ipython>=7.23.1->ipykernel->jupyterlab<5,>=4.0.2->notebook>=6.0->RISE) (0.4.6)\n",
      "Requirement already satisfied: fqdn in c:\\python123\\lib\\site-packages (from jsonschema[format-nongpl]>=4.18.0->jupyter-events>=0.9.0->jupyter-server<3,>=2.4.0->notebook>=6.0->RISE) (1.5.1)\n",
      "Requirement already satisfied: isoduration in c:\\python123\\lib\\site-packages (from jsonschema[format-nongpl]>=4.18.0->jupyter-events>=0.9.0->jupyter-server<3,>=2.4.0->notebook>=6.0->RISE) (20.11.0)\n",
      "Requirement already satisfied: jsonpointer>1.13 in c:\\python123\\lib\\site-packages (from jsonschema[format-nongpl]>=4.18.0->jupyter-events>=0.9.0->jupyter-server<3,>=2.4.0->notebook>=6.0->RISE) (2.4)\n",
      "Requirement already satisfied: uri-template in c:\\python123\\lib\\site-packages (from jsonschema[format-nongpl]>=4.18.0->jupyter-events>=0.9.0->jupyter-server<3,>=2.4.0->notebook>=6.0->RISE) (1.3.0)\n",
      "Requirement already satisfied: webcolors>=1.11 in c:\\python123\\lib\\site-packages (from jsonschema[format-nongpl]>=4.18.0->jupyter-events>=0.9.0->jupyter-server<3,>=2.4.0->notebook>=6.0->RISE) (1.13)\n",
      "Requirement already satisfied: cffi>=1.0.1 in c:\\python123\\lib\\site-packages (from argon2-cffi-bindings->argon2-cffi->jupyter-server<3,>=2.4.0->notebook>=6.0->RISE) (1.16.0)\n",
      "Requirement already satisfied: soupsieve>1.2 in c:\\python123\\lib\\site-packages (from beautifulsoup4->nbconvert>=6.4.4->jupyter-server<3,>=2.4.0->notebook>=6.0->RISE) (2.5)\n",
      "Requirement already satisfied: pycparser in c:\\python123\\lib\\site-packages (from cffi>=1.0.1->argon2-cffi-bindings->argon2-cffi->jupyter-server<3,>=2.4.0->notebook>=6.0->RISE) (2.21)\n",
      "Requirement already satisfied: parso<0.9.0,>=0.8.3 in c:\\python123\\lib\\site-packages (from jedi>=0.16->ipython>=7.23.1->ipykernel->jupyterlab<5,>=4.0.2->notebook>=6.0->RISE) (0.8.3)\n",
      "Requirement already satisfied: wcwidth in c:\\python123\\lib\\site-packages (from prompt-toolkit<3.1.0,>=3.0.41->ipython>=7.23.1->ipykernel->jupyterlab<5,>=4.0.2->notebook>=6.0->RISE) (0.2.13)\n",
      "Requirement already satisfied: arrow>=0.15.0 in c:\\python123\\lib\\site-packages (from isoduration->jsonschema[format-nongpl]>=4.18.0->jupyter-events>=0.9.0->jupyter-server<3,>=2.4.0->notebook>=6.0->RISE) (1.3.0)\n",
      "Requirement already satisfied: executing>=1.2.0 in c:\\python123\\lib\\site-packages (from stack-data->ipython>=7.23.1->ipykernel->jupyterlab<5,>=4.0.2->notebook>=6.0->RISE) (2.0.1)\n",
      "Requirement already satisfied: asttokens>=2.1.0 in c:\\python123\\lib\\site-packages (from stack-data->ipython>=7.23.1->ipykernel->jupyterlab<5,>=4.0.2->notebook>=6.0->RISE) (2.4.1)\n",
      "Requirement already satisfied: pure-eval in c:\\python123\\lib\\site-packages (from stack-data->ipython>=7.23.1->ipykernel->jupyterlab<5,>=4.0.2->notebook>=6.0->RISE) (0.2.2)\n",
      "Requirement already satisfied: types-python-dateutil>=2.8.10 in c:\\python123\\lib\\site-packages (from arrow>=0.15.0->isoduration->jsonschema[format-nongpl]>=4.18.0->jupyter-events>=0.9.0->jupyter-server<3,>=2.4.0->notebook>=6.0->RISE) (2.8.19.20240106)\n",
      "Installing collected packages: RISE\n",
      "Successfully installed RISE-5.7.1\n"
     ]
    }
   ],
   "source": [
    "!pip install RISE"
   ]
  },
  {
   "cell_type": "code",
   "execution_count": 86,
   "id": "58c84f2f-9e5b-4ee5-9bdd-388465e496f1",
   "metadata": {},
   "outputs": [
    {
     "name": "stdout",
     "output_type": "stream",
     "text": [
      "Collecting nbextensions\n",
      "  Downloading nbextensions-66.0.2.tar.gz (1.0 kB)\n",
      "  Installing build dependencies: started\n",
      "  Installing build dependencies: finished with status 'done'\n",
      "  Getting requirements to build wheel: started\n",
      "  Getting requirements to build wheel: finished with status 'done'\n",
      "  Preparing metadata (pyproject.toml): started\n",
      "  Preparing metadata (pyproject.toml): finished with status 'done'\n",
      "Building wheels for collected packages: nbextensions\n",
      "  Building wheel for nbextensions (pyproject.toml): started\n",
      "  Building wheel for nbextensions (pyproject.toml): finished with status 'done'\n",
      "  Created wheel for nbextensions: filename=nbextensions-66.0.2-py3-none-any.whl size=1205 sha256=ba52bd5c985c82fc1f005c73eb6e76a775ac27a8af031b9caae31e017acc9bd5\n",
      "  Stored in directory: c:\\users\\marat\\appdata\\local\\pip\\cache\\wheels\\3f\\fe\\12\\db0408cf13a2804e83dee529d0679dca1c49c48e8121dd2556\n",
      "Successfully built nbextensions\n",
      "Installing collected packages: nbextensions\n",
      "Successfully installed nbextensions-66.0.2\n"
     ]
    }
   ],
   "source": [
    "!pip install nbextensions"
   ]
  },
  {
   "cell_type": "code",
   "execution_count": 87,
   "id": "04742b1d-9c7d-468c-8f28-7b5b0a5b13f6",
   "metadata": {},
   "outputs": [
    {
     "name": "stdout",
     "output_type": "stream",
     "text": [
      "Collecting jupyter_contrib_nbextensions\n",
      "  Downloading jupyter_contrib_nbextensions-0.7.0.tar.gz (23.5 MB)\n",
      "     ---------------------------------------- 0.0/23.5 MB ? eta -:--:--\n",
      "     ---------------------------------------- 0.0/23.5 MB ? eta -:--:--\n",
      "     ---------------------------------------- 0.0/23.5 MB ? eta -:--:--\n",
      "     --------------------------------------- 0.0/23.5 MB 330.3 kB/s eta 0:01:11\n",
      "     --------------------------------------- 0.0/23.5 MB 330.3 kB/s eta 0:01:11\n",
      "     --------------------------------------- 0.1/23.5 MB 656.4 kB/s eta 0:00:36\n",
      "     --------------------------------------- 0.1/23.5 MB 655.8 kB/s eta 0:00:36\n",
      "     --------------------------------------- 0.2/23.5 MB 737.3 kB/s eta 0:00:32\n",
      "     --------------------------------------- 0.2/23.5 MB 838.1 kB/s eta 0:00:28\n",
      "      -------------------------------------- 0.3/23.5 MB 884.2 kB/s eta 0:00:27\n",
      "      -------------------------------------- 0.4/23.5 MB 857.5 kB/s eta 0:00:27\n",
      "      -------------------------------------- 0.4/23.5 MB 867.0 kB/s eta 0:00:27\n",
      "      -------------------------------------- 0.4/23.5 MB 846.3 kB/s eta 0:00:28\n",
      "      -------------------------------------- 0.5/23.5 MB 855.0 kB/s eta 0:00:27\n",
      "      -------------------------------------- 0.5/23.5 MB 874.6 kB/s eta 0:00:27\n",
      "      -------------------------------------- 0.5/23.5 MB 863.4 kB/s eta 0:00:27\n",
      "     - ------------------------------------- 0.6/23.5 MB 921.0 kB/s eta 0:00:25\n",
      "     - ------------------------------------- 0.6/23.5 MB 888.5 kB/s eta 0:00:26\n",
      "     - ------------------------------------- 0.7/23.5 MB 914.8 kB/s eta 0:00:25\n",
      "     - ------------------------------------- 0.7/23.5 MB 944.0 kB/s eta 0:00:25\n",
      "     - ------------------------------------- 0.8/23.5 MB 935.3 kB/s eta 0:00:25\n",
      "     - ------------------------------------- 0.8/23.5 MB 959.6 kB/s eta 0:00:24\n",
      "     - ------------------------------------- 0.8/23.5 MB 959.6 kB/s eta 0:00:24\n",
      "     - ------------------------------------- 0.9/23.5 MB 895.0 kB/s eta 0:00:26\n",
      "     - ------------------------------------- 1.0/23.5 MB 938.2 kB/s eta 0:00:24\n",
      "     - ------------------------------------- 1.0/23.5 MB 911.9 kB/s eta 0:00:25\n",
      "     - ------------------------------------- 1.0/23.5 MB 919.3 kB/s eta 0:00:25\n",
      "     - ------------------------------------- 1.1/23.5 MB 935.7 kB/s eta 0:00:24\n",
      "     -- ------------------------------------ 1.2/23.5 MB 970.9 kB/s eta 0:00:23\n",
      "     -- ------------------------------------ 1.3/23.5 MB 975.2 kB/s eta 0:00:23\n",
      "     -- ------------------------------------ 1.3/23.5 MB 979.3 kB/s eta 0:00:23\n",
      "     -- ------------------------------------ 1.3/23.5 MB 964.5 kB/s eta 0:00:23\n",
      "     -- ------------------------------------- 1.4/23.5 MB 1.0 MB/s eta 0:00:23\n",
      "     -- ------------------------------------- 1.5/23.5 MB 1.0 MB/s eta 0:00:22\n",
      "     -- ------------------------------------- 1.6/23.5 MB 1.0 MB/s eta 0:00:22\n",
      "     -- ------------------------------------- 1.6/23.5 MB 1.0 MB/s eta 0:00:22\n",
      "     -- ------------------------------------- 1.7/23.5 MB 1.0 MB/s eta 0:00:21\n",
      "     --- ------------------------------------ 1.8/23.5 MB 1.1 MB/s eta 0:00:21\n",
      "     --- ------------------------------------ 1.8/23.5 MB 1.1 MB/s eta 0:00:21\n",
      "     --- ------------------------------------ 1.9/23.5 MB 1.1 MB/s eta 0:00:20\n",
      "     --- ------------------------------------ 1.9/23.5 MB 1.1 MB/s eta 0:00:20\n",
      "     --- ------------------------------------ 1.9/23.5 MB 1.1 MB/s eta 0:00:20\n",
      "     --- ------------------------------------ 2.0/23.5 MB 1.0 MB/s eta 0:00:21\n",
      "     --- ------------------------------------ 2.0/23.5 MB 1.1 MB/s eta 0:00:21\n",
      "     --- ------------------------------------ 2.1/23.5 MB 1.1 MB/s eta 0:00:20\n",
      "     --- ------------------------------------ 2.2/23.5 MB 1.1 MB/s eta 0:00:20\n",
      "     --- ------------------------------------ 2.3/23.5 MB 1.1 MB/s eta 0:00:19\n",
      "     ---- ----------------------------------- 2.4/23.5 MB 1.1 MB/s eta 0:00:19\n",
      "     ---- ----------------------------------- 2.4/23.5 MB 1.1 MB/s eta 0:00:19\n",
      "     ---- ----------------------------------- 2.4/23.5 MB 1.1 MB/s eta 0:00:19\n",
      "     ---- ----------------------------------- 2.5/23.5 MB 1.1 MB/s eta 0:00:20\n",
      "     ---- ----------------------------------- 2.6/23.5 MB 1.1 MB/s eta 0:00:19\n",
      "     ---- ----------------------------------- 2.6/23.5 MB 1.1 MB/s eta 0:00:19\n",
      "     ---- ----------------------------------- 2.7/23.5 MB 1.1 MB/s eta 0:00:19\n",
      "     ---- ----------------------------------- 2.9/23.5 MB 1.2 MB/s eta 0:00:18\n",
      "     ----- ---------------------------------- 3.0/23.5 MB 1.2 MB/s eta 0:00:17\n",
      "     ----- ---------------------------------- 3.1/23.5 MB 1.2 MB/s eta 0:00:17\n",
      "     ----- ---------------------------------- 3.2/23.5 MB 1.2 MB/s eta 0:00:17\n",
      "     ----- ---------------------------------- 3.3/23.5 MB 1.3 MB/s eta 0:00:17\n",
      "     ----- ---------------------------------- 3.4/23.5 MB 1.3 MB/s eta 0:00:17\n",
      "     ----- ---------------------------------- 3.4/23.5 MB 1.3 MB/s eta 0:00:16\n",
      "     ----- ---------------------------------- 3.4/23.5 MB 1.3 MB/s eta 0:00:16\n",
      "     ----- ---------------------------------- 3.5/23.5 MB 1.2 MB/s eta 0:00:17\n",
      "     ----- ---------------------------------- 3.5/23.5 MB 1.2 MB/s eta 0:00:17\n",
      "     ----- ---------------------------------- 3.5/23.5 MB 1.2 MB/s eta 0:00:17\n",
      "     ----- ---------------------------------- 3.5/23.5 MB 1.2 MB/s eta 0:00:17\n",
      "     ------ --------------------------------- 3.7/23.5 MB 1.3 MB/s eta 0:00:16\n",
      "     ------ --------------------------------- 3.9/23.5 MB 1.3 MB/s eta 0:00:16\n",
      "     ------ --------------------------------- 4.0/23.5 MB 1.3 MB/s eta 0:00:15\n",
      "     ------- -------------------------------- 4.2/23.5 MB 1.3 MB/s eta 0:00:15\n",
      "     ------- -------------------------------- 4.3/23.5 MB 1.3 MB/s eta 0:00:15\n",
      "     ------- -------------------------------- 4.4/23.5 MB 1.4 MB/s eta 0:00:14\n",
      "     ------- -------------------------------- 4.5/23.5 MB 1.4 MB/s eta 0:00:14\n",
      "     ------- -------------------------------- 4.6/23.5 MB 1.4 MB/s eta 0:00:14\n",
      "     ------- -------------------------------- 4.6/23.5 MB 1.4 MB/s eta 0:00:14\n",
      "     ------- -------------------------------- 4.7/23.5 MB 1.4 MB/s eta 0:00:14\n",
      "     -------- ------------------------------- 4.7/23.5 MB 1.4 MB/s eta 0:00:14\n",
      "     -------- ------------------------------- 4.8/23.5 MB 1.4 MB/s eta 0:00:14\n",
      "     -------- ------------------------------- 4.9/23.5 MB 1.4 MB/s eta 0:00:14\n",
      "     -------- ------------------------------- 5.0/23.5 MB 1.4 MB/s eta 0:00:14\n",
      "     -------- ------------------------------- 5.0/23.5 MB 1.4 MB/s eta 0:00:14\n",
      "     -------- ------------------------------- 5.1/23.5 MB 1.4 MB/s eta 0:00:14\n",
      "     -------- ------------------------------- 5.2/23.5 MB 1.4 MB/s eta 0:00:13\n",
      "     --------- ------------------------------ 5.3/23.5 MB 1.4 MB/s eta 0:00:13\n",
      "     --------- ------------------------------ 5.4/23.5 MB 1.4 MB/s eta 0:00:13\n",
      "     --------- ------------------------------ 5.5/23.5 MB 1.4 MB/s eta 0:00:13\n",
      "     --------- ------------------------------ 5.6/23.5 MB 1.4 MB/s eta 0:00:13\n",
      "     --------- ------------------------------ 5.8/23.5 MB 1.5 MB/s eta 0:00:13\n",
      "     ---------- ----------------------------- 5.9/23.5 MB 1.5 MB/s eta 0:00:13\n",
      "     ---------- ----------------------------- 5.9/23.5 MB 1.5 MB/s eta 0:00:12\n",
      "     ---------- ----------------------------- 6.0/23.5 MB 1.5 MB/s eta 0:00:12\n",
      "     ---------- ----------------------------- 6.1/23.5 MB 1.5 MB/s eta 0:00:12\n",
      "     ---------- ----------------------------- 6.2/23.5 MB 1.5 MB/s eta 0:00:12\n",
      "     ---------- ----------------------------- 6.3/23.5 MB 1.5 MB/s eta 0:00:12\n",
      "     ---------- ----------------------------- 6.4/23.5 MB 1.5 MB/s eta 0:00:12\n",
      "     ----------- ---------------------------- 6.5/23.5 MB 1.5 MB/s eta 0:00:12\n",
      "     ----------- ---------------------------- 6.5/23.5 MB 1.5 MB/s eta 0:00:12\n",
      "     ----------- ---------------------------- 6.6/23.5 MB 1.5 MB/s eta 0:00:12\n",
      "     ----------- ---------------------------- 6.7/23.5 MB 1.5 MB/s eta 0:00:12\n",
      "     ----------- ---------------------------- 6.7/23.5 MB 1.5 MB/s eta 0:00:12\n",
      "     ----------- ---------------------------- 6.7/23.5 MB 1.5 MB/s eta 0:00:12\n",
      "     ----------- ---------------------------- 6.8/23.5 MB 1.5 MB/s eta 0:00:12\n",
      "     ----------- ---------------------------- 6.8/23.5 MB 1.5 MB/s eta 0:00:12\n",
      "     ----------- ---------------------------- 6.9/23.5 MB 1.5 MB/s eta 0:00:12\n",
      "     ----------- ---------------------------- 6.9/23.5 MB 1.5 MB/s eta 0:00:12\n",
      "     ----------- ---------------------------- 6.9/23.5 MB 1.4 MB/s eta 0:00:12\n",
      "     ----------- ---------------------------- 6.9/23.5 MB 1.4 MB/s eta 0:00:12\n",
      "     ----------- ---------------------------- 6.9/23.5 MB 1.4 MB/s eta 0:00:12\n",
      "     ------------ --------------------------- 7.2/23.5 MB 1.5 MB/s eta 0:00:12\n",
      "     ------------ --------------------------- 7.2/23.5 MB 1.4 MB/s eta 0:00:12\n",
      "     ------------ --------------------------- 7.3/23.5 MB 1.5 MB/s eta 0:00:12\n",
      "     ------------ --------------------------- 7.4/23.5 MB 1.5 MB/s eta 0:00:11\n",
      "     ------------ --------------------------- 7.5/23.5 MB 1.5 MB/s eta 0:00:11\n",
      "     ------------- -------------------------- 7.6/23.5 MB 1.5 MB/s eta 0:00:11\n",
      "     ------------- -------------------------- 7.8/23.5 MB 1.5 MB/s eta 0:00:11\n",
      "     ------------- -------------------------- 7.8/23.5 MB 1.5 MB/s eta 0:00:11\n",
      "     ------------- -------------------------- 7.9/23.5 MB 1.5 MB/s eta 0:00:11\n",
      "     ------------- -------------------------- 8.0/23.5 MB 1.5 MB/s eta 0:00:11\n",
      "     ------------- -------------------------- 8.2/23.5 MB 1.5 MB/s eta 0:00:11\n",
      "     -------------- ------------------------- 8.2/23.5 MB 1.5 MB/s eta 0:00:11\n",
      "     -------------- ------------------------- 8.3/23.5 MB 1.5 MB/s eta 0:00:11\n",
      "     -------------- ------------------------- 8.3/23.5 MB 1.5 MB/s eta 0:00:11\n",
      "     -------------- ------------------------- 8.4/23.5 MB 1.5 MB/s eta 0:00:11\n",
      "     -------------- ------------------------- 8.4/23.5 MB 1.5 MB/s eta 0:00:11\n",
      "     -------------- ------------------------- 8.5/23.5 MB 1.5 MB/s eta 0:00:10\n",
      "     -------------- ------------------------- 8.6/23.5 MB 1.5 MB/s eta 0:00:10\n",
      "     -------------- ------------------------- 8.7/23.5 MB 1.5 MB/s eta 0:00:10\n",
      "     -------------- ------------------------- 8.8/23.5 MB 1.5 MB/s eta 0:00:10\n",
      "     --------------- ------------------------ 8.9/23.5 MB 1.5 MB/s eta 0:00:10\n",
      "     --------------- ------------------------ 9.0/23.5 MB 1.5 MB/s eta 0:00:10\n",
      "     --------------- ------------------------ 9.1/23.5 MB 1.5 MB/s eta 0:00:10\n",
      "     --------------- ------------------------ 9.2/23.5 MB 1.5 MB/s eta 0:00:10\n",
      "     --------------- ------------------------ 9.2/23.5 MB 1.5 MB/s eta 0:00:10\n",
      "     --------------- ------------------------ 9.2/23.5 MB 1.5 MB/s eta 0:00:10\n",
      "     --------------- ------------------------ 9.3/23.5 MB 1.5 MB/s eta 0:00:10\n",
      "     ---------------- ----------------------- 9.4/23.5 MB 1.5 MB/s eta 0:00:10\n",
      "     ---------------- ----------------------- 9.5/23.5 MB 1.5 MB/s eta 0:00:10\n",
      "     ---------------- ----------------------- 9.7/23.5 MB 1.5 MB/s eta 0:00:10\n",
      "     ---------------- ----------------------- 9.8/23.5 MB 1.5 MB/s eta 0:00:09\n",
      "     ---------------- ----------------------- 9.9/23.5 MB 1.5 MB/s eta 0:00:09\n",
      "     ----------------- ---------------------- 10.0/23.5 MB 1.5 MB/s eta 0:00:09\n",
      "     ----------------- ---------------------- 10.0/23.5 MB 1.5 MB/s eta 0:00:09\n",
      "     ----------------- ---------------------- 10.1/23.5 MB 1.5 MB/s eta 0:00:09\n",
      "     ----------------- ---------------------- 10.2/23.5 MB 1.5 MB/s eta 0:00:09\n",
      "     ----------------- ---------------------- 10.3/23.5 MB 1.6 MB/s eta 0:00:09\n",
      "     ----------------- ---------------------- 10.3/23.5 MB 1.6 MB/s eta 0:00:09\n",
      "     ----------------- ---------------------- 10.4/23.5 MB 1.6 MB/s eta 0:00:09\n",
      "     ----------------- ---------------------- 10.5/23.5 MB 1.6 MB/s eta 0:00:09\n",
      "     ----------------- ---------------------- 10.5/23.5 MB 1.6 MB/s eta 0:00:09\n",
      "     ------------------ --------------------- 10.6/23.5 MB 1.6 MB/s eta 0:00:09\n",
      "     ------------------ --------------------- 10.7/23.5 MB 1.6 MB/s eta 0:00:08\n",
      "     ------------------ --------------------- 10.7/23.5 MB 1.6 MB/s eta 0:00:08\n",
      "     ------------------ --------------------- 10.8/23.5 MB 1.6 MB/s eta 0:00:08\n",
      "     ------------------ --------------------- 10.9/23.5 MB 1.6 MB/s eta 0:00:08\n",
      "     ------------------ --------------------- 10.9/23.5 MB 1.6 MB/s eta 0:00:08\n",
      "     ------------------ --------------------- 11.0/23.5 MB 1.6 MB/s eta 0:00:08\n",
      "     ------------------ --------------------- 11.1/23.5 MB 1.6 MB/s eta 0:00:08\n",
      "     ------------------- -------------------- 11.2/23.5 MB 1.6 MB/s eta 0:00:08\n",
      "     ------------------- -------------------- 11.2/23.5 MB 1.6 MB/s eta 0:00:08\n",
      "     ------------------- -------------------- 11.2/23.5 MB 1.6 MB/s eta 0:00:08\n",
      "     ------------------- -------------------- 11.4/23.5 MB 1.6 MB/s eta 0:00:08\n",
      "     ------------------- -------------------- 11.5/23.5 MB 1.7 MB/s eta 0:00:08\n",
      "     ------------------- -------------------- 11.5/23.5 MB 1.7 MB/s eta 0:00:08\n",
      "     ------------------- -------------------- 11.6/23.5 MB 1.7 MB/s eta 0:00:08\n",
      "     ------------------- -------------------- 11.7/23.5 MB 1.7 MB/s eta 0:00:08\n",
      "     -------------------- ------------------- 11.7/23.5 MB 1.7 MB/s eta 0:00:08\n",
      "     -------------------- ------------------- 11.8/23.5 MB 1.7 MB/s eta 0:00:08\n",
      "     -------------------- ------------------- 11.8/23.5 MB 1.7 MB/s eta 0:00:08\n",
      "     -------------------- ------------------- 12.0/23.5 MB 1.7 MB/s eta 0:00:07\n",
      "     -------------------- ------------------- 12.1/23.5 MB 1.7 MB/s eta 0:00:07\n",
      "     -------------------- ------------------- 12.1/23.5 MB 1.7 MB/s eta 0:00:07\n",
      "     -------------------- ------------------- 12.2/23.5 MB 1.7 MB/s eta 0:00:07\n",
      "     -------------------- ------------------- 12.3/23.5 MB 1.7 MB/s eta 0:00:07\n",
      "     --------------------- ------------------ 12.4/23.5 MB 1.7 MB/s eta 0:00:07\n",
      "     --------------------- ------------------ 12.4/23.5 MB 1.7 MB/s eta 0:00:07\n",
      "     --------------------- ------------------ 12.5/23.5 MB 1.7 MB/s eta 0:00:07\n",
      "     --------------------- ------------------ 12.5/23.5 MB 1.7 MB/s eta 0:00:07\n",
      "     --------------------- ------------------ 12.6/23.5 MB 1.7 MB/s eta 0:00:07\n",
      "     --------------------- ------------------ 12.6/23.5 MB 1.7 MB/s eta 0:00:07\n",
      "     --------------------- ------------------ 12.7/23.5 MB 1.7 MB/s eta 0:00:07\n",
      "     --------------------- ------------------ 12.8/23.5 MB 1.7 MB/s eta 0:00:07\n",
      "     --------------------- ------------------ 12.9/23.5 MB 1.7 MB/s eta 0:00:07\n",
      "     ---------------------- ----------------- 12.9/23.5 MB 1.7 MB/s eta 0:00:07\n",
      "     ---------------------- ----------------- 13.0/23.5 MB 1.7 MB/s eta 0:00:07\n",
      "     ---------------------- ----------------- 13.1/23.5 MB 1.7 MB/s eta 0:00:07\n",
      "     ---------------------- ----------------- 13.1/23.5 MB 1.7 MB/s eta 0:00:07\n",
      "     ---------------------- ----------------- 13.1/23.5 MB 1.7 MB/s eta 0:00:07\n",
      "     ---------------------- ----------------- 13.2/23.5 MB 1.7 MB/s eta 0:00:07\n",
      "     ---------------------- ----------------- 13.3/23.5 MB 1.7 MB/s eta 0:00:07\n",
      "     ---------------------- ----------------- 13.4/23.5 MB 1.7 MB/s eta 0:00:07\n",
      "     ---------------------- ----------------- 13.5/23.5 MB 1.7 MB/s eta 0:00:07\n",
      "     ----------------------- ---------------- 13.6/23.5 MB 1.7 MB/s eta 0:00:06\n",
      "     ----------------------- ---------------- 13.7/23.5 MB 1.7 MB/s eta 0:00:06\n",
      "     ----------------------- ---------------- 13.8/23.5 MB 1.7 MB/s eta 0:00:06\n",
      "     ----------------------- ---------------- 13.9/23.5 MB 1.7 MB/s eta 0:00:06\n",
      "     ----------------------- ---------------- 14.0/23.5 MB 1.7 MB/s eta 0:00:06\n",
      "     ----------------------- ---------------- 14.0/23.5 MB 1.7 MB/s eta 0:00:06\n",
      "     ------------------------ --------------- 14.1/23.5 MB 1.7 MB/s eta 0:00:06\n",
      "     ------------------------ --------------- 14.2/23.5 MB 1.7 MB/s eta 0:00:06\n",
      "     ------------------------ --------------- 14.2/23.5 MB 1.7 MB/s eta 0:00:06\n",
      "     ------------------------ --------------- 14.3/23.5 MB 1.7 MB/s eta 0:00:06\n",
      "     ------------------------ --------------- 14.4/23.5 MB 1.7 MB/s eta 0:00:06\n",
      "     ------------------------ --------------- 14.4/23.5 MB 1.7 MB/s eta 0:00:06\n",
      "     ------------------------ --------------- 14.5/23.5 MB 1.6 MB/s eta 0:00:06\n",
      "     ------------------------ --------------- 14.5/23.5 MB 1.6 MB/s eta 0:00:06\n",
      "     ------------------------ --------------- 14.7/23.5 MB 1.6 MB/s eta 0:00:06\n",
      "     ------------------------- -------------- 14.7/23.5 MB 1.6 MB/s eta 0:00:06\n",
      "     ------------------------- -------------- 14.8/23.5 MB 1.6 MB/s eta 0:00:06\n",
      "     ------------------------- -------------- 14.9/23.5 MB 1.7 MB/s eta 0:00:06\n",
      "     ------------------------- -------------- 15.0/23.5 MB 1.7 MB/s eta 0:00:06\n",
      "     ------------------------- -------------- 15.0/23.5 MB 1.6 MB/s eta 0:00:06\n",
      "     ------------------------- -------------- 15.1/23.5 MB 1.6 MB/s eta 0:00:06\n",
      "     ------------------------- -------------- 15.2/23.5 MB 1.6 MB/s eta 0:00:06\n",
      "     ------------------------- -------------- 15.2/23.5 MB 1.6 MB/s eta 0:00:06\n",
      "     ------------------------- -------------- 15.2/23.5 MB 1.6 MB/s eta 0:00:06\n",
      "     ------------------------- -------------- 15.2/23.5 MB 1.6 MB/s eta 0:00:06\n",
      "     -------------------------- ------------- 15.3/23.5 MB 1.6 MB/s eta 0:00:06\n",
      "     -------------------------- ------------- 15.4/23.5 MB 1.6 MB/s eta 0:00:06\n",
      "     -------------------------- ------------- 15.5/23.5 MB 1.6 MB/s eta 0:00:05\n",
      "     -------------------------- ------------- 15.5/23.5 MB 1.6 MB/s eta 0:00:05\n",
      "     -------------------------- ------------- 15.6/23.5 MB 1.6 MB/s eta 0:00:05\n",
      "     -------------------------- ------------- 15.7/23.5 MB 1.6 MB/s eta 0:00:05\n",
      "     -------------------------- ------------- 15.7/23.5 MB 1.6 MB/s eta 0:00:05\n",
      "     -------------------------- ------------- 15.8/23.5 MB 1.6 MB/s eta 0:00:05\n",
      "     --------------------------- ------------ 15.8/23.5 MB 1.6 MB/s eta 0:00:05\n",
      "     --------------------------- ------------ 15.9/23.5 MB 1.6 MB/s eta 0:00:05\n",
      "     --------------------------- ------------ 16.0/23.5 MB 1.6 MB/s eta 0:00:05\n",
      "     --------------------------- ------------ 16.0/23.5 MB 1.6 MB/s eta 0:00:05\n",
      "     --------------------------- ------------ 16.1/23.5 MB 1.6 MB/s eta 0:00:05\n",
      "     --------------------------- ------------ 16.2/23.5 MB 1.6 MB/s eta 0:00:05\n",
      "     --------------------------- ------------ 16.2/23.5 MB 1.6 MB/s eta 0:00:05\n",
      "     --------------------------- ------------ 16.2/23.5 MB 1.6 MB/s eta 0:00:05\n",
      "     --------------------------- ------------ 16.2/23.5 MB 1.6 MB/s eta 0:00:05\n",
      "     --------------------------- ------------ 16.2/23.5 MB 1.5 MB/s eta 0:00:05\n",
      "     --------------------------- ------------ 16.2/23.5 MB 1.5 MB/s eta 0:00:05\n",
      "     --------------------------- ------------ 16.4/23.5 MB 1.5 MB/s eta 0:00:05\n",
      "     --------------------------- ------------ 16.4/23.5 MB 1.5 MB/s eta 0:00:05\n",
      "     ---------------------------- ----------- 16.5/23.5 MB 1.5 MB/s eta 0:00:05\n",
      "     ---------------------------- ----------- 16.6/23.5 MB 1.5 MB/s eta 0:00:05\n",
      "     ---------------------------- ----------- 16.6/23.5 MB 1.5 MB/s eta 0:00:05\n",
      "     ---------------------------- ----------- 16.6/23.5 MB 1.5 MB/s eta 0:00:05\n",
      "     ---------------------------- ----------- 16.7/23.5 MB 1.5 MB/s eta 0:00:05\n",
      "     ---------------------------- ----------- 16.7/23.5 MB 1.5 MB/s eta 0:00:05\n",
      "     ---------------------------- ----------- 16.8/23.5 MB 1.5 MB/s eta 0:00:05\n",
      "     ---------------------------- ----------- 16.9/23.5 MB 1.5 MB/s eta 0:00:05\n",
      "     ---------------------------- ----------- 16.9/23.5 MB 1.5 MB/s eta 0:00:05\n",
      "     ---------------------------- ----------- 16.9/23.5 MB 1.5 MB/s eta 0:00:05\n",
      "     ---------------------------- ----------- 17.0/23.5 MB 1.5 MB/s eta 0:00:05\n",
      "     ----------------------------- ---------- 17.1/23.5 MB 1.5 MB/s eta 0:00:05\n",
      "     ----------------------------- ---------- 17.1/23.5 MB 1.5 MB/s eta 0:00:05\n",
      "     ----------------------------- ---------- 17.3/23.5 MB 1.5 MB/s eta 0:00:05\n",
      "     ----------------------------- ---------- 17.3/23.5 MB 1.5 MB/s eta 0:00:05\n",
      "     ----------------------------- ---------- 17.4/23.5 MB 1.5 MB/s eta 0:00:05\n",
      "     ----------------------------- ---------- 17.4/23.5 MB 1.5 MB/s eta 0:00:05\n",
      "     ----------------------------- ---------- 17.4/23.5 MB 1.5 MB/s eta 0:00:05\n",
      "     ----------------------------- ---------- 17.5/23.5 MB 1.5 MB/s eta 0:00:04\n",
      "     ----------------------------- ---------- 17.6/23.5 MB 1.5 MB/s eta 0:00:04\n",
      "     ------------------------------ --------- 17.7/23.5 MB 1.5 MB/s eta 0:00:04\n",
      "     ------------------------------ --------- 17.8/23.5 MB 1.5 MB/s eta 0:00:04\n",
      "     ------------------------------ --------- 17.8/23.5 MB 1.5 MB/s eta 0:00:04\n",
      "     ------------------------------ --------- 17.9/23.5 MB 1.5 MB/s eta 0:00:04\n",
      "     ------------------------------ --------- 18.0/23.5 MB 1.5 MB/s eta 0:00:04\n",
      "     ------------------------------ --------- 18.0/23.5 MB 1.5 MB/s eta 0:00:04\n",
      "     ------------------------------ --------- 18.1/23.5 MB 1.5 MB/s eta 0:00:04\n",
      "     ------------------------------ --------- 18.1/23.5 MB 1.5 MB/s eta 0:00:04\n",
      "     ------------------------------- -------- 18.3/23.5 MB 1.5 MB/s eta 0:00:04\n",
      "     ------------------------------- -------- 18.3/23.5 MB 1.5 MB/s eta 0:00:04\n",
      "     ------------------------------- -------- 18.3/23.5 MB 1.5 MB/s eta 0:00:04\n",
      "     ------------------------------- -------- 18.4/23.5 MB 1.5 MB/s eta 0:00:04\n",
      "     ------------------------------- -------- 18.5/23.5 MB 1.5 MB/s eta 0:00:04\n",
      "     ------------------------------- -------- 18.6/23.5 MB 1.5 MB/s eta 0:00:04\n",
      "     ------------------------------- -------- 18.7/23.5 MB 1.5 MB/s eta 0:00:04\n",
      "     -------------------------------- ------- 18.9/23.5 MB 1.5 MB/s eta 0:00:04\n",
      "     -------------------------------- ------- 19.0/23.5 MB 1.5 MB/s eta 0:00:03\n",
      "     -------------------------------- ------- 19.1/23.5 MB 1.5 MB/s eta 0:00:03\n",
      "     -------------------------------- ------- 19.3/23.5 MB 1.5 MB/s eta 0:00:03\n",
      "     -------------------------------- ------- 19.3/23.5 MB 1.5 MB/s eta 0:00:03\n",
      "     --------------------------------- ------ 19.4/23.5 MB 1.5 MB/s eta 0:00:03\n",
      "     --------------------------------- ------ 19.5/23.5 MB 1.5 MB/s eta 0:00:03\n",
      "     --------------------------------- ------ 19.6/23.5 MB 1.5 MB/s eta 0:00:03\n",
      "     --------------------------------- ------ 19.7/23.5 MB 1.5 MB/s eta 0:00:03\n",
      "     --------------------------------- ------ 19.7/23.5 MB 1.5 MB/s eta 0:00:03\n",
      "     --------------------------------- ------ 19.9/23.5 MB 1.5 MB/s eta 0:00:03\n",
      "     ---------------------------------- ----- 20.0/23.5 MB 1.5 MB/s eta 0:00:03\n",
      "     ---------------------------------- ----- 20.0/23.5 MB 1.5 MB/s eta 0:00:03\n",
      "     ---------------------------------- ----- 20.2/23.5 MB 1.5 MB/s eta 0:00:03\n",
      "     ---------------------------------- ----- 20.3/23.5 MB 1.5 MB/s eta 0:00:03\n",
      "     ---------------------------------- ----- 20.5/23.5 MB 1.5 MB/s eta 0:00:02\n",
      "     ----------------------------------- ---- 20.6/23.5 MB 1.5 MB/s eta 0:00:02\n",
      "     ----------------------------------- ---- 20.7/23.5 MB 1.5 MB/s eta 0:00:02\n",
      "     ----------------------------------- ---- 20.8/23.5 MB 1.5 MB/s eta 0:00:02\n",
      "     ----------------------------------- ---- 20.9/23.5 MB 1.6 MB/s eta 0:00:02\n",
      "     ----------------------------------- ---- 21.0/23.5 MB 1.6 MB/s eta 0:00:02\n",
      "     ------------------------------------ --- 21.2/23.5 MB 1.6 MB/s eta 0:00:02\n",
      "     ------------------------------------ --- 21.2/23.5 MB 1.6 MB/s eta 0:00:02\n",
      "     ------------------------------------ --- 21.4/23.5 MB 1.6 MB/s eta 0:00:02\n",
      "     ------------------------------------ --- 21.5/23.5 MB 1.6 MB/s eta 0:00:02\n",
      "     ------------------------------------ --- 21.6/23.5 MB 1.6 MB/s eta 0:00:02\n",
      "     ------------------------------------ --- 21.6/23.5 MB 1.6 MB/s eta 0:00:02\n",
      "     ------------------------------------ --- 21.6/23.5 MB 1.6 MB/s eta 0:00:02\n",
      "     ------------------------------------- -- 21.8/23.5 MB 1.6 MB/s eta 0:00:02\n",
      "     ------------------------------------- -- 21.8/23.5 MB 1.6 MB/s eta 0:00:02\n",
      "     ------------------------------------- -- 21.9/23.5 MB 1.6 MB/s eta 0:00:01\n",
      "     ------------------------------------- -- 22.0/23.5 MB 1.6 MB/s eta 0:00:01\n",
      "     ------------------------------------- -- 22.1/23.5 MB 1.6 MB/s eta 0:00:01\n",
      "     ------------------------------------- -- 22.1/23.5 MB 1.6 MB/s eta 0:00:01\n",
      "     -------------------------------------- - 22.3/23.5 MB 1.6 MB/s eta 0:00:01\n",
      "     -------------------------------------- - 22.4/23.5 MB 1.6 MB/s eta 0:00:01\n",
      "     -------------------------------------- - 22.5/23.5 MB 1.6 MB/s eta 0:00:01\n",
      "     -------------------------------------- - 22.5/23.5 MB 1.6 MB/s eta 0:00:01\n",
      "     -------------------------------------- - 22.6/23.5 MB 1.6 MB/s eta 0:00:01\n",
      "     -------------------------------------- - 22.7/23.5 MB 1.6 MB/s eta 0:00:01\n",
      "     -------------------------------------- - 22.8/23.5 MB 1.6 MB/s eta 0:00:01\n",
      "     ---------------------------------------  22.9/23.5 MB 1.6 MB/s eta 0:00:01\n",
      "     ---------------------------------------  23.1/23.5 MB 1.6 MB/s eta 0:00:01\n",
      "     ---------------------------------------  23.1/23.5 MB 1.6 MB/s eta 0:00:01\n",
      "     ---------------------------------------  23.2/23.5 MB 1.6 MB/s eta 0:00:01\n",
      "     ---------------------------------------  23.2/23.5 MB 1.6 MB/s eta 0:00:01\n",
      "     ---------------------------------------  23.3/23.5 MB 1.6 MB/s eta 0:00:01\n",
      "     ---------------------------------------  23.3/23.5 MB 1.6 MB/s eta 0:00:01\n",
      "     ---------------------------------------  23.4/23.5 MB 1.6 MB/s eta 0:00:01\n",
      "     ---------------------------------------  23.4/23.5 MB 1.6 MB/s eta 0:00:01\n",
      "     ---------------------------------------  23.5/23.5 MB 1.6 MB/s eta 0:00:01\n",
      "     ---------------------------------------- 23.5/23.5 MB 1.6 MB/s eta 0:00:00\n",
      "  Installing build dependencies: started\n",
      "  Installing build dependencies: finished with status 'done'\n",
      "  Getting requirements to build wheel: started\n",
      "  Getting requirements to build wheel: finished with status 'done'\n",
      "  Preparing metadata (pyproject.toml): started\n",
      "  Preparing metadata (pyproject.toml): finished with status 'done'\n",
      "Collecting ipython-genutils (from jupyter_contrib_nbextensions)\n",
      "  Downloading ipython_genutils-0.2.0-py2.py3-none-any.whl (26 kB)\n",
      "Collecting jupyter-contrib-core>=0.3.3 (from jupyter_contrib_nbextensions)\n",
      "  Downloading jupyter_contrib_core-0.4.2.tar.gz (17 kB)\n",
      "  Installing build dependencies: started\n",
      "  Installing build dependencies: finished with status 'done'\n",
      "  Getting requirements to build wheel: started\n",
      "  Getting requirements to build wheel: finished with status 'done'\n",
      "  Preparing metadata (pyproject.toml): started\n",
      "  Preparing metadata (pyproject.toml): finished with status 'done'\n",
      "Requirement already satisfied: jupyter-core in c:\\python123\\lib\\site-packages (from jupyter_contrib_nbextensions) (5.7.1)\n",
      "Collecting jupyter-highlight-selected-word>=0.1.1 (from jupyter_contrib_nbextensions)\n",
      "  Downloading jupyter_highlight_selected_word-0.2.0-py2.py3-none-any.whl (11 kB)\n",
      "Collecting jupyter-nbextensions-configurator>=0.4.0 (from jupyter_contrib_nbextensions)\n",
      "  Downloading jupyter_nbextensions_configurator-0.6.3-py2.py3-none-any.whl (466 kB)\n",
      "     ---------------------------------------- 0.0/466.9 kB ? eta -:--:--\n",
      "      --------------------------------------- 10.2/466.9 kB ? eta -:--:--\n",
      "      --------------------------------------- 10.2/466.9 kB ? eta -:--:--\n",
      "     --- --------------------------------- 41.0/466.9 kB 326.8 kB/s eta 0:00:02\n",
      "     --- --------------------------------- 41.0/466.9 kB 326.8 kB/s eta 0:00:02\n",
      "     ---- -------------------------------- 61.4/466.9 kB 218.8 kB/s eta 0:00:02\n",
      "     ---- -------------------------------- 61.4/466.9 kB 218.8 kB/s eta 0:00:02\n",
      "     ---- -------------------------------- 61.4/466.9 kB 218.8 kB/s eta 0:00:02\n",
      "     ---- -------------------------------- 61.4/466.9 kB 218.8 kB/s eta 0:00:02\n",
      "     ---- -------------------------------- 61.4/466.9 kB 218.8 kB/s eta 0:00:02\n",
      "     ---- -------------------------------- 61.4/466.9 kB 218.8 kB/s eta 0:00:02\n",
      "     ---- -------------------------------- 61.4/466.9 kB 218.8 kB/s eta 0:00:02\n",
      "     ---- -------------------------------- 61.4/466.9 kB 218.8 kB/s eta 0:00:02\n",
      "     ---- -------------------------------- 61.4/466.9 kB 218.8 kB/s eta 0:00:02\n",
      "     ---- -------------------------------- 61.4/466.9 kB 218.8 kB/s eta 0:00:02\n",
      "     ---- -------------------------------- 61.4/466.9 kB 218.8 kB/s eta 0:00:02\n",
      "     ---- -------------------------------- 61.4/466.9 kB 218.8 kB/s eta 0:00:02\n",
      "     ---- -------------------------------- 61.4/466.9 kB 218.8 kB/s eta 0:00:02\n",
      "     ----------- ------------------------ 153.6/466.9 kB 176.3 kB/s eta 0:00:02\n",
      "     ----------- ------------------------ 153.6/466.9 kB 176.3 kB/s eta 0:00:02\n",
      "     --------------------------------- -- 430.1/466.9 kB 455.4 kB/s eta 0:00:01\n",
      "     --------------------------------- -- 430.1/466.9 kB 455.4 kB/s eta 0:00:01\n",
      "     --------------------------------- -- 430.1/466.9 kB 455.4 kB/s eta 0:00:01\n",
      "     --------------------------------- -- 430.1/466.9 kB 455.4 kB/s eta 0:00:01\n",
      "     ------------------------------------ 466.9/466.9 kB 400.2 kB/s eta 0:00:00\n",
      "Requirement already satisfied: nbconvert>=6.0 in c:\\python123\\lib\\site-packages (from jupyter_contrib_nbextensions) (7.14.2)\n",
      "Requirement already satisfied: notebook>=6.0 in c:\\python123\\lib\\site-packages (from jupyter_contrib_nbextensions) (7.0.7)\n",
      "Requirement already satisfied: tornado in c:\\python123\\lib\\site-packages (from jupyter_contrib_nbextensions) (6.4)\n",
      "Requirement already satisfied: traitlets>=4.1 in c:\\python123\\lib\\site-packages (from jupyter_contrib_nbextensions) (5.14.1)\n",
      "Collecting lxml (from jupyter_contrib_nbextensions)\n",
      "  Downloading lxml-5.1.0-cp312-cp312-win_amd64.whl.metadata (3.6 kB)\n",
      "Collecting setuptools (from jupyter-contrib-core>=0.3.3->jupyter_contrib_nbextensions)\n",
      "  Using cached setuptools-69.0.3-py3-none-any.whl.metadata (6.3 kB)\n",
      "Requirement already satisfied: pyyaml in c:\\python123\\lib\\site-packages (from jupyter-nbextensions-configurator>=0.4.0->jupyter_contrib_nbextensions) (6.0.1)\n",
      "Requirement already satisfied: beautifulsoup4 in c:\\python123\\lib\\site-packages (from nbconvert>=6.0->jupyter_contrib_nbextensions) (4.12.2)\n",
      "Requirement already satisfied: bleach!=5.0.0 in c:\\python123\\lib\\site-packages (from nbconvert>=6.0->jupyter_contrib_nbextensions) (6.1.0)\n",
      "Requirement already satisfied: defusedxml in c:\\python123\\lib\\site-packages (from nbconvert>=6.0->jupyter_contrib_nbextensions) (0.7.1)\n",
      "Requirement already satisfied: jinja2>=3.0 in c:\\python123\\lib\\site-packages (from nbconvert>=6.0->jupyter_contrib_nbextensions) (3.1.3)\n",
      "Requirement already satisfied: jupyterlab-pygments in c:\\python123\\lib\\site-packages (from nbconvert>=6.0->jupyter_contrib_nbextensions) (0.3.0)\n",
      "Requirement already satisfied: markupsafe>=2.0 in c:\\python123\\lib\\site-packages (from nbconvert>=6.0->jupyter_contrib_nbextensions) (2.1.3)\n",
      "Requirement already satisfied: mistune<4,>=2.0.3 in c:\\python123\\lib\\site-packages (from nbconvert>=6.0->jupyter_contrib_nbextensions) (3.0.2)\n",
      "Requirement already satisfied: nbclient>=0.5.0 in c:\\python123\\lib\\site-packages (from nbconvert>=6.0->jupyter_contrib_nbextensions) (0.9.0)\n",
      "Requirement already satisfied: nbformat>=5.7 in c:\\python123\\lib\\site-packages (from nbconvert>=6.0->jupyter_contrib_nbextensions) (5.9.2)\n",
      "Requirement already satisfied: packaging in c:\\python123\\lib\\site-packages (from nbconvert>=6.0->jupyter_contrib_nbextensions) (23.2)\n",
      "Requirement already satisfied: pandocfilters>=1.4.1 in c:\\python123\\lib\\site-packages (from nbconvert>=6.0->jupyter_contrib_nbextensions) (1.5.0)\n",
      "Requirement already satisfied: pygments>=2.4.1 in c:\\python123\\lib\\site-packages (from nbconvert>=6.0->jupyter_contrib_nbextensions) (2.17.2)\n",
      "Requirement already satisfied: tinycss2 in c:\\python123\\lib\\site-packages (from nbconvert>=6.0->jupyter_contrib_nbextensions) (1.2.1)\n",
      "Requirement already satisfied: platformdirs>=2.5 in c:\\python123\\lib\\site-packages (from jupyter-core->jupyter_contrib_nbextensions) (4.1.0)\n",
      "Requirement already satisfied: pywin32>=300 in c:\\python123\\lib\\site-packages (from jupyter-core->jupyter_contrib_nbextensions) (306)\n",
      "Requirement already satisfied: jupyter-server<3,>=2.4.0 in c:\\python123\\lib\\site-packages (from notebook>=6.0->jupyter_contrib_nbextensions) (2.12.5)\n",
      "Requirement already satisfied: jupyterlab-server<3,>=2.22.1 in c:\\python123\\lib\\site-packages (from notebook>=6.0->jupyter_contrib_nbextensions) (2.25.2)\n",
      "Requirement already satisfied: jupyterlab<5,>=4.0.2 in c:\\python123\\lib\\site-packages (from notebook>=6.0->jupyter_contrib_nbextensions) (4.0.10)\n",
      "Requirement already satisfied: notebook-shim<0.3,>=0.2 in c:\\python123\\lib\\site-packages (from notebook>=6.0->jupyter_contrib_nbextensions) (0.2.3)\n",
      "Requirement already satisfied: six>=1.9.0 in c:\\python123\\lib\\site-packages (from bleach!=5.0.0->nbconvert>=6.0->jupyter_contrib_nbextensions) (1.16.0)\n",
      "Requirement already satisfied: webencodings in c:\\python123\\lib\\site-packages (from bleach!=5.0.0->nbconvert>=6.0->jupyter_contrib_nbextensions) (0.5.1)\n",
      "Requirement already satisfied: anyio>=3.1.0 in c:\\python123\\lib\\site-packages (from jupyter-server<3,>=2.4.0->notebook>=6.0->jupyter_contrib_nbextensions) (4.2.0)\n",
      "Requirement already satisfied: argon2-cffi in c:\\python123\\lib\\site-packages (from jupyter-server<3,>=2.4.0->notebook>=6.0->jupyter_contrib_nbextensions) (23.1.0)\n",
      "Requirement already satisfied: jupyter-client>=7.4.4 in c:\\python123\\lib\\site-packages (from jupyter-server<3,>=2.4.0->notebook>=6.0->jupyter_contrib_nbextensions) (8.6.0)\n",
      "Requirement already satisfied: jupyter-events>=0.9.0 in c:\\python123\\lib\\site-packages (from jupyter-server<3,>=2.4.0->notebook>=6.0->jupyter_contrib_nbextensions) (0.9.0)\n",
      "Requirement already satisfied: jupyter-server-terminals in c:\\python123\\lib\\site-packages (from jupyter-server<3,>=2.4.0->notebook>=6.0->jupyter_contrib_nbextensions) (0.5.1)\n",
      "Requirement already satisfied: overrides in c:\\python123\\lib\\site-packages (from jupyter-server<3,>=2.4.0->notebook>=6.0->jupyter_contrib_nbextensions) (7.4.0)\n",
      "Requirement already satisfied: prometheus-client in c:\\python123\\lib\\site-packages (from jupyter-server<3,>=2.4.0->notebook>=6.0->jupyter_contrib_nbextensions) (0.19.0)\n",
      "Requirement already satisfied: pywinpty in c:\\python123\\lib\\site-packages (from jupyter-server<3,>=2.4.0->notebook>=6.0->jupyter_contrib_nbextensions) (2.0.12)\n",
      "Requirement already satisfied: pyzmq>=24 in c:\\python123\\lib\\site-packages (from jupyter-server<3,>=2.4.0->notebook>=6.0->jupyter_contrib_nbextensions) (25.1.2)\n",
      "Requirement already satisfied: send2trash>=1.8.2 in c:\\python123\\lib\\site-packages (from jupyter-server<3,>=2.4.0->notebook>=6.0->jupyter_contrib_nbextensions) (1.8.2)\n",
      "Requirement already satisfied: terminado>=0.8.3 in c:\\python123\\lib\\site-packages (from jupyter-server<3,>=2.4.0->notebook>=6.0->jupyter_contrib_nbextensions) (0.18.0)\n",
      "Requirement already satisfied: websocket-client in c:\\python123\\lib\\site-packages (from jupyter-server<3,>=2.4.0->notebook>=6.0->jupyter_contrib_nbextensions) (1.7.0)\n",
      "Requirement already satisfied: async-lru>=1.0.0 in c:\\python123\\lib\\site-packages (from jupyterlab<5,>=4.0.2->notebook>=6.0->jupyter_contrib_nbextensions) (2.0.4)\n",
      "Requirement already satisfied: ipykernel in c:\\python123\\lib\\site-packages (from jupyterlab<5,>=4.0.2->notebook>=6.0->jupyter_contrib_nbextensions) (6.29.0)\n",
      "Requirement already satisfied: jupyter-lsp>=2.0.0 in c:\\python123\\lib\\site-packages (from jupyterlab<5,>=4.0.2->notebook>=6.0->jupyter_contrib_nbextensions) (2.2.1)\n",
      "Requirement already satisfied: babel>=2.10 in c:\\python123\\lib\\site-packages (from jupyterlab-server<3,>=2.22.1->notebook>=6.0->jupyter_contrib_nbextensions) (2.14.0)\n",
      "Requirement already satisfied: json5>=0.9.0 in c:\\python123\\lib\\site-packages (from jupyterlab-server<3,>=2.22.1->notebook>=6.0->jupyter_contrib_nbextensions) (0.9.14)\n",
      "Requirement already satisfied: jsonschema>=4.18.0 in c:\\python123\\lib\\site-packages (from jupyterlab-server<3,>=2.22.1->notebook>=6.0->jupyter_contrib_nbextensions) (4.21.0)\n",
      "Requirement already satisfied: requests>=2.31 in c:\\python123\\lib\\site-packages (from jupyterlab-server<3,>=2.22.1->notebook>=6.0->jupyter_contrib_nbextensions) (2.31.0)\n",
      "Requirement already satisfied: fastjsonschema in c:\\python123\\lib\\site-packages (from nbformat>=5.7->nbconvert>=6.0->jupyter_contrib_nbextensions) (2.19.1)\n",
      "Requirement already satisfied: soupsieve>1.2 in c:\\python123\\lib\\site-packages (from beautifulsoup4->nbconvert>=6.0->jupyter_contrib_nbextensions) (2.5)\n",
      "Requirement already satisfied: idna>=2.8 in c:\\python123\\lib\\site-packages (from anyio>=3.1.0->jupyter-server<3,>=2.4.0->notebook>=6.0->jupyter_contrib_nbextensions) (3.6)\n",
      "Requirement already satisfied: sniffio>=1.1 in c:\\python123\\lib\\site-packages (from anyio>=3.1.0->jupyter-server<3,>=2.4.0->notebook>=6.0->jupyter_contrib_nbextensions) (1.3.0)\n",
      "Requirement already satisfied: attrs>=22.2.0 in c:\\python123\\lib\\site-packages (from jsonschema>=4.18.0->jupyterlab-server<3,>=2.22.1->notebook>=6.0->jupyter_contrib_nbextensions) (23.2.0)\n",
      "Requirement already satisfied: jsonschema-specifications>=2023.03.6 in c:\\python123\\lib\\site-packages (from jsonschema>=4.18.0->jupyterlab-server<3,>=2.22.1->notebook>=6.0->jupyter_contrib_nbextensions) (2023.12.1)\n",
      "Requirement already satisfied: referencing>=0.28.4 in c:\\python123\\lib\\site-packages (from jsonschema>=4.18.0->jupyterlab-server<3,>=2.22.1->notebook>=6.0->jupyter_contrib_nbextensions) (0.32.1)\n",
      "Requirement already satisfied: rpds-py>=0.7.1 in c:\\python123\\lib\\site-packages (from jsonschema>=4.18.0->jupyterlab-server<3,>=2.22.1->notebook>=6.0->jupyter_contrib_nbextensions) (0.17.1)\n",
      "Requirement already satisfied: python-dateutil>=2.8.2 in c:\\python123\\lib\\site-packages (from jupyter-client>=7.4.4->jupyter-server<3,>=2.4.0->notebook>=6.0->jupyter_contrib_nbextensions) (2.8.2)\n",
      "Requirement already satisfied: python-json-logger>=2.0.4 in c:\\python123\\lib\\site-packages (from jupyter-events>=0.9.0->jupyter-server<3,>=2.4.0->notebook>=6.0->jupyter_contrib_nbextensions) (2.0.7)\n",
      "Requirement already satisfied: rfc3339-validator in c:\\python123\\lib\\site-packages (from jupyter-events>=0.9.0->jupyter-server<3,>=2.4.0->notebook>=6.0->jupyter_contrib_nbextensions) (0.1.4)\n",
      "Requirement already satisfied: rfc3986-validator>=0.1.1 in c:\\python123\\lib\\site-packages (from jupyter-events>=0.9.0->jupyter-server<3,>=2.4.0->notebook>=6.0->jupyter_contrib_nbextensions) (0.1.1)\n",
      "Requirement already satisfied: charset-normalizer<4,>=2 in c:\\python123\\lib\\site-packages (from requests>=2.31->jupyterlab-server<3,>=2.22.1->notebook>=6.0->jupyter_contrib_nbextensions) (3.3.2)\n",
      "Requirement already satisfied: urllib3<3,>=1.21.1 in c:\\python123\\lib\\site-packages (from requests>=2.31->jupyterlab-server<3,>=2.22.1->notebook>=6.0->jupyter_contrib_nbextensions) (2.1.0)\n",
      "Requirement already satisfied: certifi>=2017.4.17 in c:\\python123\\lib\\site-packages (from requests>=2.31->jupyterlab-server<3,>=2.22.1->notebook>=6.0->jupyter_contrib_nbextensions) (2023.11.17)\n",
      "Requirement already satisfied: argon2-cffi-bindings in c:\\python123\\lib\\site-packages (from argon2-cffi->jupyter-server<3,>=2.4.0->notebook>=6.0->jupyter_contrib_nbextensions) (21.2.0)\n",
      "Requirement already satisfied: comm>=0.1.1 in c:\\python123\\lib\\site-packages (from ipykernel->jupyterlab<5,>=4.0.2->notebook>=6.0->jupyter_contrib_nbextensions) (0.2.1)\n",
      "Requirement already satisfied: debugpy>=1.6.5 in c:\\python123\\lib\\site-packages (from ipykernel->jupyterlab<5,>=4.0.2->notebook>=6.0->jupyter_contrib_nbextensions) (1.8.0)\n",
      "Requirement already satisfied: ipython>=7.23.1 in c:\\python123\\lib\\site-packages (from ipykernel->jupyterlab<5,>=4.0.2->notebook>=6.0->jupyter_contrib_nbextensions) (8.20.0)\n",
      "Requirement already satisfied: matplotlib-inline>=0.1 in c:\\python123\\lib\\site-packages (from ipykernel->jupyterlab<5,>=4.0.2->notebook>=6.0->jupyter_contrib_nbextensions) (0.1.6)\n",
      "Requirement already satisfied: nest-asyncio in c:\\python123\\lib\\site-packages (from ipykernel->jupyterlab<5,>=4.0.2->notebook>=6.0->jupyter_contrib_nbextensions) (1.5.9)\n",
      "Requirement already satisfied: psutil in c:\\python123\\lib\\site-packages (from ipykernel->jupyterlab<5,>=4.0.2->notebook>=6.0->jupyter_contrib_nbextensions) (5.9.7)\n",
      "Requirement already satisfied: decorator in c:\\python123\\lib\\site-packages (from ipython>=7.23.1->ipykernel->jupyterlab<5,>=4.0.2->notebook>=6.0->jupyter_contrib_nbextensions) (5.1.1)\n",
      "Requirement already satisfied: jedi>=0.16 in c:\\python123\\lib\\site-packages (from ipython>=7.23.1->ipykernel->jupyterlab<5,>=4.0.2->notebook>=6.0->jupyter_contrib_nbextensions) (0.19.1)\n",
      "Requirement already satisfied: prompt-toolkit<3.1.0,>=3.0.41 in c:\\python123\\lib\\site-packages (from ipython>=7.23.1->ipykernel->jupyterlab<5,>=4.0.2->notebook>=6.0->jupyter_contrib_nbextensions) (3.0.43)\n",
      "Requirement already satisfied: stack-data in c:\\python123\\lib\\site-packages (from ipython>=7.23.1->ipykernel->jupyterlab<5,>=4.0.2->notebook>=6.0->jupyter_contrib_nbextensions) (0.6.3)\n",
      "Requirement already satisfied: colorama in c:\\python123\\lib\\site-packages (from ipython>=7.23.1->ipykernel->jupyterlab<5,>=4.0.2->notebook>=6.0->jupyter_contrib_nbextensions) (0.4.6)\n",
      "Requirement already satisfied: fqdn in c:\\python123\\lib\\site-packages (from jsonschema[format-nongpl]>=4.18.0->jupyter-events>=0.9.0->jupyter-server<3,>=2.4.0->notebook>=6.0->jupyter_contrib_nbextensions) (1.5.1)\n",
      "Requirement already satisfied: isoduration in c:\\python123\\lib\\site-packages (from jsonschema[format-nongpl]>=4.18.0->jupyter-events>=0.9.0->jupyter-server<3,>=2.4.0->notebook>=6.0->jupyter_contrib_nbextensions) (20.11.0)\n",
      "Requirement already satisfied: jsonpointer>1.13 in c:\\python123\\lib\\site-packages (from jsonschema[format-nongpl]>=4.18.0->jupyter-events>=0.9.0->jupyter-server<3,>=2.4.0->notebook>=6.0->jupyter_contrib_nbextensions) (2.4)\n",
      "Requirement already satisfied: uri-template in c:\\python123\\lib\\site-packages (from jsonschema[format-nongpl]>=4.18.0->jupyter-events>=0.9.0->jupyter-server<3,>=2.4.0->notebook>=6.0->jupyter_contrib_nbextensions) (1.3.0)\n",
      "Requirement already satisfied: webcolors>=1.11 in c:\\python123\\lib\\site-packages (from jsonschema[format-nongpl]>=4.18.0->jupyter-events>=0.9.0->jupyter-server<3,>=2.4.0->notebook>=6.0->jupyter_contrib_nbextensions) (1.13)\n",
      "Requirement already satisfied: cffi>=1.0.1 in c:\\python123\\lib\\site-packages (from argon2-cffi-bindings->argon2-cffi->jupyter-server<3,>=2.4.0->notebook>=6.0->jupyter_contrib_nbextensions) (1.16.0)\n",
      "Requirement already satisfied: pycparser in c:\\python123\\lib\\site-packages (from cffi>=1.0.1->argon2-cffi-bindings->argon2-cffi->jupyter-server<3,>=2.4.0->notebook>=6.0->jupyter_contrib_nbextensions) (2.21)\n",
      "Requirement already satisfied: parso<0.9.0,>=0.8.3 in c:\\python123\\lib\\site-packages (from jedi>=0.16->ipython>=7.23.1->ipykernel->jupyterlab<5,>=4.0.2->notebook>=6.0->jupyter_contrib_nbextensions) (0.8.3)\n",
      "Requirement already satisfied: wcwidth in c:\\python123\\lib\\site-packages (from prompt-toolkit<3.1.0,>=3.0.41->ipython>=7.23.1->ipykernel->jupyterlab<5,>=4.0.2->notebook>=6.0->jupyter_contrib_nbextensions) (0.2.13)\n",
      "Requirement already satisfied: arrow>=0.15.0 in c:\\python123\\lib\\site-packages (from isoduration->jsonschema[format-nongpl]>=4.18.0->jupyter-events>=0.9.0->jupyter-server<3,>=2.4.0->notebook>=6.0->jupyter_contrib_nbextensions) (1.3.0)\n",
      "Requirement already satisfied: executing>=1.2.0 in c:\\python123\\lib\\site-packages (from stack-data->ipython>=7.23.1->ipykernel->jupyterlab<5,>=4.0.2->notebook>=6.0->jupyter_contrib_nbextensions) (2.0.1)\n",
      "Requirement already satisfied: asttokens>=2.1.0 in c:\\python123\\lib\\site-packages (from stack-data->ipython>=7.23.1->ipykernel->jupyterlab<5,>=4.0.2->notebook>=6.0->jupyter_contrib_nbextensions) (2.4.1)\n",
      "Requirement already satisfied: pure-eval in c:\\python123\\lib\\site-packages (from stack-data->ipython>=7.23.1->ipykernel->jupyterlab<5,>=4.0.2->notebook>=6.0->jupyter_contrib_nbextensions) (0.2.2)\n",
      "Requirement already satisfied: types-python-dateutil>=2.8.10 in c:\\python123\\lib\\site-packages (from arrow>=0.15.0->isoduration->jsonschema[format-nongpl]>=4.18.0->jupyter-events>=0.9.0->jupyter-server<3,>=2.4.0->notebook>=6.0->jupyter_contrib_nbextensions) (2.8.19.20240106)\n",
      "Downloading lxml-5.1.0-cp312-cp312-win_amd64.whl (3.9 MB)\n",
      "   ---------------------------------------- 0.0/3.9 MB ? eta -:--:--\n",
      "   ---------------------------------------- 0.0/3.9 MB ? eta -:--:--\n",
      "   ---------------------------------------- 0.0/3.9 MB ? eta -:--:--\n",
      "    --------------------------------------- 0.1/3.9 MB 1.6 MB/s eta 0:00:03\n",
      "    --------------------------------------- 0.1/3.9 MB 787.7 kB/s eta 0:00:05\n",
      "    --------------------------------------- 0.1/3.9 MB 787.7 kB/s eta 0:00:05\n",
      "   - -------------------------------------- 0.1/3.9 MB 504.4 kB/s eta 0:00:08\n",
      "   - -------------------------------------- 0.1/3.9 MB 514.3 kB/s eta 0:00:08\n",
      "   - -------------------------------------- 0.1/3.9 MB 514.3 kB/s eta 0:00:08\n",
      "   - -------------------------------------- 0.1/3.9 MB 425.3 kB/s eta 0:00:09\n",
      "   - -------------------------------------- 0.1/3.9 MB 425.3 kB/s eta 0:00:09\n",
      "   - -------------------------------------- 0.1/3.9 MB 425.3 kB/s eta 0:00:09\n",
      "   - -------------------------------------- 0.1/3.9 MB 425.3 kB/s eta 0:00:09\n",
      "   - -------------------------------------- 0.1/3.9 MB 425.3 kB/s eta 0:00:09\n",
      "   - -------------------------------------- 0.1/3.9 MB 425.3 kB/s eta 0:00:09\n",
      "   -- ------------------------------------- 0.2/3.9 MB 344.1 kB/s eta 0:00:11\n",
      "   -- ------------------------------------- 0.2/3.9 MB 344.1 kB/s eta 0:00:11\n",
      "   -- ------------------------------------- 0.2/3.9 MB 344.1 kB/s eta 0:00:11\n",
      "   -- ------------------------------------- 0.2/3.9 MB 344.1 kB/s eta 0:00:11\n",
      "   -- ------------------------------------- 0.3/3.9 MB 346.9 kB/s eta 0:00:11\n",
      "   --- ------------------------------------ 0.4/3.9 MB 433.0 kB/s eta 0:00:09\n",
      "   ---- ----------------------------------- 0.4/3.9 MB 474.2 kB/s eta 0:00:08\n",
      "   ---- ----------------------------------- 0.5/3.9 MB 483.5 kB/s eta 0:00:08\n",
      "   ----- ---------------------------------- 0.5/3.9 MB 491.5 kB/s eta 0:00:07\n",
      "   ----- ---------------------------------- 0.6/3.9 MB 510.6 kB/s eta 0:00:07\n",
      "   ----- ---------------------------------- 0.6/3.9 MB 524.2 kB/s eta 0:00:07\n",
      "   ------ --------------------------------- 0.6/3.9 MB 539.9 kB/s eta 0:00:07\n",
      "   ------ --------------------------------- 0.6/3.9 MB 541.7 kB/s eta 0:00:07\n",
      "   ------ --------------------------------- 0.6/3.9 MB 541.7 kB/s eta 0:00:07\n",
      "   ------ --------------------------------- 0.6/3.9 MB 541.7 kB/s eta 0:00:07\n",
      "   ------- -------------------------------- 0.7/3.9 MB 533.3 kB/s eta 0:00:06\n",
      "   -------- ------------------------------- 0.8/3.9 MB 518.8 kB/s eta 0:00:07\n",
      "   -------- ------------------------------- 0.8/3.9 MB 516.3 kB/s eta 0:00:07\n",
      "   -------- ------------------------------- 0.8/3.9 MB 536.2 kB/s eta 0:00:06\n",
      "   -------- ------------------------------- 0.9/3.9 MB 524.2 kB/s eta 0:00:06\n",
      "   --------- ------------------------------ 0.9/3.9 MB 521.7 kB/s eta 0:00:06\n",
      "   --------- ------------------------------ 0.9/3.9 MB 537.1 kB/s eta 0:00:06\n",
      "   --------- ------------------------------ 1.0/3.9 MB 533.5 kB/s eta 0:00:06\n",
      "   ---------- ----------------------------- 1.0/3.9 MB 541.3 kB/s eta 0:00:06\n",
      "   ---------- ----------------------------- 1.0/3.9 MB 541.3 kB/s eta 0:00:06\n",
      "   ---------- ----------------------------- 1.0/3.9 MB 520.9 kB/s eta 0:00:06\n",
      "   ---------- ----------------------------- 1.0/3.9 MB 520.9 kB/s eta 0:00:06\n",
      "   ---------- ----------------------------- 1.0/3.9 MB 512.0 kB/s eta 0:00:06\n",
      "   ---------- ----------------------------- 1.0/3.9 MB 512.0 kB/s eta 0:00:06\n",
      "   ---------- ----------------------------- 1.0/3.9 MB 512.0 kB/s eta 0:00:06\n",
      "   ---------- ----------------------------- 1.0/3.9 MB 512.0 kB/s eta 0:00:06\n",
      "   ---------- ----------------------------- 1.0/3.9 MB 512.0 kB/s eta 0:00:06\n",
      "   ----------- ---------------------------- 1.1/3.9 MB 493.8 kB/s eta 0:00:06\n",
      "   ----------- ---------------------------- 1.1/3.9 MB 493.8 kB/s eta 0:00:06\n",
      "   ----------- ---------------------------- 1.2/3.9 MB 493.7 kB/s eta 0:00:06\n",
      "   ------------ --------------------------- 1.2/3.9 MB 492.5 kB/s eta 0:00:06\n",
      "   ------------ --------------------------- 1.2/3.9 MB 492.6 kB/s eta 0:00:06\n",
      "   ------------ --------------------------- 1.2/3.9 MB 492.6 kB/s eta 0:00:06\n",
      "   ------------ --------------------------- 1.2/3.9 MB 479.4 kB/s eta 0:00:06\n",
      "   ------------ --------------------------- 1.2/3.9 MB 480.6 kB/s eta 0:00:06\n",
      "   ------------ --------------------------- 1.3/3.9 MB 479.8 kB/s eta 0:00:06\n",
      "   ------------ --------------------------- 1.3/3.9 MB 479.8 kB/s eta 0:00:06\n",
      "   ------------- -------------------------- 1.3/3.9 MB 475.5 kB/s eta 0:00:06\n",
      "   ------------- -------------------------- 1.3/3.9 MB 474.8 kB/s eta 0:00:06\n",
      "   ------------- -------------------------- 1.3/3.9 MB 474.8 kB/s eta 0:00:06\n",
      "   ------------- -------------------------- 1.4/3.9 MB 466.6 kB/s eta 0:00:06\n",
      "   -------------- ------------------------- 1.4/3.9 MB 464.7 kB/s eta 0:00:06\n",
      "   -------------- ------------------------- 1.4/3.9 MB 458.0 kB/s eta 0:00:06\n",
      "   -------------- ------------------------- 1.4/3.9 MB 458.0 kB/s eta 0:00:06\n",
      "   -------------- ------------------------- 1.4/3.9 MB 456.4 kB/s eta 0:00:06\n",
      "   -------------- ------------------------- 1.4/3.9 MB 456.4 kB/s eta 0:00:06\n",
      "   -------------- ------------------------- 1.5/3.9 MB 451.7 kB/s eta 0:00:06\n",
      "   -------------- ------------------------- 1.5/3.9 MB 451.7 kB/s eta 0:00:06\n",
      "   -------------- ------------------------- 1.5/3.9 MB 451.7 kB/s eta 0:00:06\n",
      "   -------------- ------------------------- 1.5/3.9 MB 451.7 kB/s eta 0:00:06\n",
      "   --------------- ------------------------ 1.5/3.9 MB 438.9 kB/s eta 0:00:06\n",
      "   --------------- ------------------------ 1.5/3.9 MB 444.8 kB/s eta 0:00:06\n",
      "   --------------- ------------------------ 1.6/3.9 MB 437.8 kB/s eta 0:00:06\n",
      "   ---------------- ----------------------- 1.6/3.9 MB 439.7 kB/s eta 0:00:06\n",
      "   ---------------- ----------------------- 1.6/3.9 MB 437.8 kB/s eta 0:00:06\n",
      "   ---------------- ----------------------- 1.6/3.9 MB 437.8 kB/s eta 0:00:06\n",
      "   ---------------- ----------------------- 1.6/3.9 MB 437.8 kB/s eta 0:00:06\n",
      "   ---------------- ----------------------- 1.6/3.9 MB 437.8 kB/s eta 0:00:06\n",
      "   ---------------- ----------------------- 1.6/3.9 MB 426.1 kB/s eta 0:00:06\n",
      "   ---------------- ----------------------- 1.6/3.9 MB 426.1 kB/s eta 0:00:06\n",
      "   ---------------- ----------------------- 1.6/3.9 MB 426.1 kB/s eta 0:00:06\n",
      "   ---------------- ----------------------- 1.6/3.9 MB 411.9 kB/s eta 0:00:06\n",
      "   ---------------- ----------------------- 1.6/3.9 MB 411.9 kB/s eta 0:00:06\n",
      "   ----------------- ---------------------- 1.7/3.9 MB 414.0 kB/s eta 0:00:06\n",
      "   ----------------- ---------------------- 1.7/3.9 MB 414.0 kB/s eta 0:00:06\n",
      "   ----------------- ---------------------- 1.7/3.9 MB 404.0 kB/s eta 0:00:06\n",
      "   ----------------- ---------------------- 1.7/3.9 MB 404.0 kB/s eta 0:00:06\n",
      "   ----------------- ---------------------- 1.7/3.9 MB 400.0 kB/s eta 0:00:06\n",
      "   ----------------- ---------------------- 1.7/3.9 MB 400.0 kB/s eta 0:00:06\n",
      "   ----------------- ---------------------- 1.7/3.9 MB 395.1 kB/s eta 0:00:06\n",
      "   ----------------- ---------------------- 1.7/3.9 MB 395.1 kB/s eta 0:00:06\n",
      "   ----------------- ---------------------- 1.7/3.9 MB 395.1 kB/s eta 0:00:06\n",
      "   ----------------- ---------------------- 1.7/3.9 MB 395.1 kB/s eta 0:00:06\n",
      "   ----------------- ---------------------- 1.7/3.9 MB 395.1 kB/s eta 0:00:06\n",
      "   ----------------- ---------------------- 1.7/3.9 MB 395.1 kB/s eta 0:00:06\n",
      "   ----------------- ---------------------- 1.7/3.9 MB 395.1 kB/s eta 0:00:06\n",
      "   ----------------- ---------------------- 1.7/3.9 MB 395.1 kB/s eta 0:00:06\n",
      "   ----------------- ---------------------- 1.7/3.9 MB 395.1 kB/s eta 0:00:06\n",
      "   ------------------ --------------------- 1.8/3.9 MB 370.8 kB/s eta 0:00:06\n",
      "   ------------------ --------------------- 1.8/3.9 MB 370.8 kB/s eta 0:00:06\n",
      "   ------------------ --------------------- 1.8/3.9 MB 370.8 kB/s eta 0:00:06\n",
      "   ------------------ --------------------- 1.8/3.9 MB 370.8 kB/s eta 0:00:06\n",
      "   ------------------ --------------------- 1.8/3.9 MB 370.8 kB/s eta 0:00:06\n",
      "   ------------------ --------------------- 1.8/3.9 MB 359.5 kB/s eta 0:00:06\n",
      "   ------------------ --------------------- 1.8/3.9 MB 359.5 kB/s eta 0:00:06\n",
      "   ------------------ --------------------- 1.8/3.9 MB 359.5 kB/s eta 0:00:06\n",
      "   ------------------ --------------------- 1.8/3.9 MB 359.5 kB/s eta 0:00:06\n",
      "   ------------------ --------------------- 1.8/3.9 MB 359.5 kB/s eta 0:00:06\n",
      "   ------------------ --------------------- 1.8/3.9 MB 359.5 kB/s eta 0:00:06\n",
      "   ------------------ --------------------- 1.8/3.9 MB 359.5 kB/s eta 0:00:06\n",
      "   ------------------ --------------------- 1.8/3.9 MB 359.5 kB/s eta 0:00:06\n",
      "   ------------------ --------------------- 1.8/3.9 MB 359.5 kB/s eta 0:00:06\n",
      "   ------------------ --------------------- 1.8/3.9 MB 335.2 kB/s eta 0:00:07\n",
      "   ------------------ --------------------- 1.8/3.9 MB 335.2 kB/s eta 0:00:07\n",
      "   ------------------ --------------------- 1.9/3.9 MB 335.1 kB/s eta 0:00:07\n",
      "   ------------------ --------------------- 1.9/3.9 MB 335.1 kB/s eta 0:00:07\n",
      "   ------------------ --------------------- 1.9/3.9 MB 335.1 kB/s eta 0:00:07\n",
      "   ------------------ --------------------- 1.9/3.9 MB 335.1 kB/s eta 0:00:07\n",
      "   ------------------ --------------------- 1.9/3.9 MB 335.1 kB/s eta 0:00:07\n",
      "   ------------------ --------------------- 1.9/3.9 MB 335.1 kB/s eta 0:00:07\n",
      "   ------------------ --------------------- 1.9/3.9 MB 335.1 kB/s eta 0:00:07\n",
      "   ------------------- -------------------- 1.9/3.9 MB 318.9 kB/s eta 0:00:07\n",
      "   ------------------- -------------------- 1.9/3.9 MB 318.9 kB/s eta 0:00:07\n",
      "   ------------------- -------------------- 1.9/3.9 MB 318.9 kB/s eta 0:00:07\n",
      "   ------------------- -------------------- 1.9/3.9 MB 313.1 kB/s eta 0:00:07\n",
      "   ------------------- -------------------- 1.9/3.9 MB 313.1 kB/s eta 0:00:07\n",
      "   ------------------- -------------------- 1.9/3.9 MB 311.7 kB/s eta 0:00:07\n",
      "   ------------------- -------------------- 1.9/3.9 MB 311.7 kB/s eta 0:00:07\n",
      "   ------------------- -------------------- 1.9/3.9 MB 309.4 kB/s eta 0:00:07\n",
      "   ------------------- -------------------- 1.9/3.9 MB 309.4 kB/s eta 0:00:07\n",
      "   ------------------- -------------------- 1.9/3.9 MB 309.4 kB/s eta 0:00:07\n",
      "   ------------------- -------------------- 1.9/3.9 MB 309.4 kB/s eta 0:00:07\n",
      "   ------------------- -------------------- 1.9/3.9 MB 302.7 kB/s eta 0:00:07\n",
      "   ------------------- -------------------- 1.9/3.9 MB 302.7 kB/s eta 0:00:07\n",
      "   -------------------- ------------------- 2.0/3.9 MB 301.5 kB/s eta 0:00:07\n",
      "   -------------------- ------------------- 2.0/3.9 MB 301.5 kB/s eta 0:00:07\n",
      "   -------------------- ------------------- 2.0/3.9 MB 298.0 kB/s eta 0:00:07\n",
      "   -------------------- ------------------- 2.0/3.9 MB 298.3 kB/s eta 0:00:07\n",
      "   -------------------- ------------------- 2.0/3.9 MB 298.3 kB/s eta 0:00:07\n",
      "   -------------------- ------------------- 2.0/3.9 MB 297.9 kB/s eta 0:00:07\n",
      "   -------------------- ------------------- 2.0/3.9 MB 297.3 kB/s eta 0:00:07\n",
      "   -------------------- ------------------- 2.0/3.9 MB 297.3 kB/s eta 0:00:07\n",
      "   -------------------- ------------------- 2.0/3.9 MB 296.4 kB/s eta 0:00:07\n",
      "   -------------------- ------------------- 2.0/3.9 MB 296.4 kB/s eta 0:00:07\n",
      "   --------------------- ------------------ 2.1/3.9 MB 295.2 kB/s eta 0:00:07\n",
      "   --------------------- ------------------ 2.1/3.9 MB 294.8 kB/s eta 0:00:07\n",
      "   --------------------- ------------------ 2.1/3.9 MB 294.8 kB/s eta 0:00:07\n",
      "   --------------------- ------------------ 2.1/3.9 MB 295.1 kB/s eta 0:00:07\n",
      "   --------------------- ------------------ 2.1/3.9 MB 294.0 kB/s eta 0:00:07\n",
      "   --------------------- ------------------ 2.1/3.9 MB 294.0 kB/s eta 0:00:07\n",
      "   --------------------- ------------------ 2.1/3.9 MB 293.6 kB/s eta 0:00:07\n",
      "   --------------------- ------------------ 2.1/3.9 MB 292.5 kB/s eta 0:00:07\n",
      "   ---------------------- ----------------- 2.2/3.9 MB 292.8 kB/s eta 0:00:06\n",
      "   ---------------------- ----------------- 2.2/3.9 MB 294.4 kB/s eta 0:00:06\n",
      "   ---------------------- ----------------- 2.2/3.9 MB 293.9 kB/s eta 0:00:06\n",
      "   ---------------------- ----------------- 2.2/3.9 MB 294.8 kB/s eta 0:00:06\n",
      "   ---------------------- ----------------- 2.2/3.9 MB 294.9 kB/s eta 0:00:06\n",
      "   ---------------------- ----------------- 2.2/3.9 MB 295.8 kB/s eta 0:00:06\n",
      "   ----------------------- ---------------- 2.3/3.9 MB 296.2 kB/s eta 0:00:06\n",
      "   ----------------------- ---------------- 2.3/3.9 MB 297.6 kB/s eta 0:00:06\n",
      "   ----------------------- ---------------- 2.3/3.9 MB 297.2 kB/s eta 0:00:06\n",
      "   ----------------------- ---------------- 2.3/3.9 MB 298.6 kB/s eta 0:00:06\n",
      "   ----------------------- ---------------- 2.3/3.9 MB 299.4 kB/s eta 0:00:06\n",
      "   ------------------------ --------------- 2.4/3.9 MB 298.9 kB/s eta 0:00:06\n",
      "   ------------------------ --------------- 2.4/3.9 MB 298.6 kB/s eta 0:00:06\n",
      "   ------------------------ --------------- 2.4/3.9 MB 298.7 kB/s eta 0:00:06\n",
      "   ------------------------ --------------- 2.4/3.9 MB 300.1 kB/s eta 0:00:06\n",
      "   ------------------------ --------------- 2.4/3.9 MB 301.0 kB/s eta 0:00:05\n",
      "   ------------------------- -------------- 2.5/3.9 MB 302.4 kB/s eta 0:00:05\n",
      "   ------------------------- -------------- 2.5/3.9 MB 301.3 kB/s eta 0:00:05\n",
      "   ------------------------- -------------- 2.5/3.9 MB 303.2 kB/s eta 0:00:05\n",
      "   ------------------------- -------------- 2.5/3.9 MB 304.1 kB/s eta 0:00:05\n",
      "   -------------------------- ------------- 2.5/3.9 MB 306.1 kB/s eta 0:00:05\n",
      "   -------------------------- ------------- 2.6/3.9 MB 305.6 kB/s eta 0:00:05\n",
      "   -------------------------- ------------- 2.6/3.9 MB 308.7 kB/s eta 0:00:05\n",
      "   -------------------------- ------------- 2.6/3.9 MB 308.7 kB/s eta 0:00:05\n",
      "   -------------------------- ------------- 2.6/3.9 MB 308.9 kB/s eta 0:00:05\n",
      "   -------------------------- ------------- 2.6/3.9 MB 308.9 kB/s eta 0:00:05\n",
      "   --------------------------- ------------ 2.7/3.9 MB 309.2 kB/s eta 0:00:05\n",
      "   --------------------------- ------------ 2.7/3.9 MB 309.9 kB/s eta 0:00:04\n",
      "   --------------------------- ------------ 2.7/3.9 MB 309.9 kB/s eta 0:00:04\n",
      "   --------------------------- ------------ 2.7/3.9 MB 310.6 kB/s eta 0:00:04\n",
      "   ---------------------------- ----------- 2.7/3.9 MB 311.9 kB/s eta 0:00:04\n",
      "   ---------------------------- ----------- 2.8/3.9 MB 313.2 kB/s eta 0:00:04\n",
      "   ---------------------------- ----------- 2.8/3.9 MB 313.8 kB/s eta 0:00:04\n",
      "   ---------------------------- ----------- 2.8/3.9 MB 315.0 kB/s eta 0:00:04\n",
      "   ----------------------------- ---------- 2.9/3.9 MB 317.4 kB/s eta 0:00:04\n",
      "   ----------------------------- ---------- 2.9/3.9 MB 317.4 kB/s eta 0:00:04\n",
      "   ----------------------------- ---------- 2.9/3.9 MB 317.4 kB/s eta 0:00:04\n",
      "   ----------------------------- ---------- 2.9/3.9 MB 317.0 kB/s eta 0:00:04\n",
      "   ----------------------------- ---------- 2.9/3.9 MB 318.1 kB/s eta 0:00:04\n",
      "   ------------------------------ --------- 2.9/3.9 MB 319.3 kB/s eta 0:00:04\n",
      "   ------------------------------ --------- 3.0/3.9 MB 320.4 kB/s eta 0:00:03\n",
      "   ------------------------------ --------- 3.0/3.9 MB 320.5 kB/s eta 0:00:03\n",
      "   ------------------------------ --------- 3.0/3.9 MB 320.5 kB/s eta 0:00:03\n",
      "   ------------------------------ --------- 3.0/3.9 MB 320.6 kB/s eta 0:00:03\n",
      "   ------------------------------ --------- 3.0/3.9 MB 321.1 kB/s eta 0:00:03\n",
      "   ------------------------------- -------- 3.1/3.9 MB 321.2 kB/s eta 0:00:03\n",
      "   ------------------------------- -------- 3.1/3.9 MB 321.2 kB/s eta 0:00:03\n",
      "   ------------------------------- -------- 3.1/3.9 MB 318.6 kB/s eta 0:00:03\n",
      "   ------------------------------- -------- 3.1/3.9 MB 320.2 kB/s eta 0:00:03\n",
      "   ------------------------------- -------- 3.1/3.9 MB 320.2 kB/s eta 0:00:03\n",
      "   ------------------------------- -------- 3.1/3.9 MB 320.2 kB/s eta 0:00:03\n",
      "   -------------------------------- ------- 3.1/3.9 MB 321.4 kB/s eta 0:00:03\n",
      "   -------------------------------- ------- 3.2/3.9 MB 321.9 kB/s eta 0:00:03\n",
      "   -------------------------------- ------- 3.2/3.9 MB 321.9 kB/s eta 0:00:03\n",
      "   -------------------------------- ------- 3.2/3.9 MB 323.5 kB/s eta 0:00:03\n",
      "   -------------------------------- ------- 3.2/3.9 MB 323.1 kB/s eta 0:00:03\n",
      "   -------------------------------- ------- 3.2/3.9 MB 323.1 kB/s eta 0:00:03\n",
      "   --------------------------------- ------ 3.3/3.9 MB 324.1 kB/s eta 0:00:02\n",
      "   --------------------------------- ------ 3.3/3.9 MB 323.1 kB/s eta 0:00:02\n",
      "   --------------------------------- ------ 3.3/3.9 MB 324.1 kB/s eta 0:00:02\n",
      "   --------------------------------- ------ 3.3/3.9 MB 324.2 kB/s eta 0:00:02\n",
      "   ---------------------------------- ----- 3.3/3.9 MB 324.7 kB/s eta 0:00:02\n",
      "   ---------------------------------- ----- 3.4/3.9 MB 325.7 kB/s eta 0:00:02\n",
      "   ---------------------------------- ----- 3.4/3.9 MB 327.2 kB/s eta 0:00:02\n",
      "   ----------------------------------- ---- 3.4/3.9 MB 329.1 kB/s eta 0:00:02\n",
      "   ----------------------------------- ---- 3.4/3.9 MB 329.6 kB/s eta 0:00:02\n",
      "   ----------------------------------- ---- 3.5/3.9 MB 330.6 kB/s eta 0:00:02\n",
      "   ----------------------------------- ---- 3.5/3.9 MB 332.1 kB/s eta 0:00:02\n",
      "   ----------------------------------- ---- 3.5/3.9 MB 331.5 kB/s eta 0:00:02\n",
      "   ----------------------------------- ---- 3.5/3.9 MB 331.5 kB/s eta 0:00:02\n",
      "   ------------------------------------ --- 3.5/3.9 MB 330.1 kB/s eta 0:00:02\n",
      "   ------------------------------------ --- 3.5/3.9 MB 330.1 kB/s eta 0:00:02\n",
      "   ------------------------------------ --- 3.5/3.9 MB 330.1 kB/s eta 0:00:02\n",
      "   ------------------------------------ --- 3.5/3.9 MB 330.1 kB/s eta 0:00:02\n",
      "   ------------------------------------ --- 3.5/3.9 MB 330.1 kB/s eta 0:00:02\n",
      "   ------------------------------------ --- 3.6/3.9 MB 327.7 kB/s eta 0:00:02\n",
      "   ------------------------------------ --- 3.6/3.9 MB 327.7 kB/s eta 0:00:02\n",
      "   ------------------------------------ --- 3.6/3.9 MB 327.7 kB/s eta 0:00:02\n",
      "   ------------------------------------- -- 3.6/3.9 MB 327.2 kB/s eta 0:00:01\n",
      "   ------------------------------------- -- 3.6/3.9 MB 327.2 kB/s eta 0:00:01\n",
      "   ------------------------------------- -- 3.6/3.9 MB 325.4 kB/s eta 0:00:01\n",
      "   ------------------------------------- -- 3.6/3.9 MB 324.5 kB/s eta 0:00:01\n",
      "   ------------------------------------- -- 3.7/3.9 MB 326.3 kB/s eta 0:00:01\n",
      "   ------------------------------------- -- 3.7/3.9 MB 325.8 kB/s eta 0:00:01\n",
      "   ------------------------------------- -- 3.7/3.9 MB 326.8 kB/s eta 0:00:01\n",
      "   -------------------------------------- - 3.7/3.9 MB 326.8 kB/s eta 0:00:01\n",
      "   -------------------------------------- - 3.7/3.9 MB 326.8 kB/s eta 0:00:01\n",
      "   -------------------------------------- - 3.8/3.9 MB 327.2 kB/s eta 0:00:01\n",
      "   -------------------------------------- - 3.8/3.9 MB 325.9 kB/s eta 0:00:01\n",
      "   -------------------------------------- - 3.8/3.9 MB 326.8 kB/s eta 0:00:01\n",
      "   -------------------------------------- - 3.8/3.9 MB 327.2 kB/s eta 0:00:01\n",
      "   ---------------------------------------  3.8/3.9 MB 327.7 kB/s eta 0:00:01\n",
      "   ---------------------------------------  3.8/3.9 MB 327.2 kB/s eta 0:00:01\n",
      "   ---------------------------------------  3.9/3.9 MB 327.2 kB/s eta 0:00:01\n",
      "   ---------------------------------------  3.9/3.9 MB 328.1 kB/s eta 0:00:01\n",
      "   ---------------------------------------  3.9/3.9 MB 327.7 kB/s eta 0:00:01\n",
      "   ---------------------------------------- 3.9/3.9 MB 327.7 kB/s eta 0:00:00\n",
      "Using cached setuptools-69.0.3-py3-none-any.whl (819 kB)\n",
      "Building wheels for collected packages: jupyter_contrib_nbextensions, jupyter-contrib-core\n",
      "  Building wheel for jupyter_contrib_nbextensions (pyproject.toml): started\n",
      "  Building wheel for jupyter_contrib_nbextensions (pyproject.toml): finished with status 'done'\n",
      "  Created wheel for jupyter_contrib_nbextensions: filename=jupyter_contrib_nbextensions-0.7.0-py2.py3-none-any.whl size=23428798 sha256=ed70b35306279992f28233cf66766259f42b98304ce9a939a1c3ce89ae57817d\n",
      "  Stored in directory: c:\\users\\marat\\appdata\\local\\pip\\cache\\wheels\\4d\\e4\\20\\dd16cdbbddcfe309a4559ea16adfa75fa5c554cfd076f9dae8\n",
      "  Building wheel for jupyter-contrib-core (pyproject.toml): started\n",
      "  Building wheel for jupyter-contrib-core (pyproject.toml): finished with status 'done'\n",
      "  Created wheel for jupyter-contrib-core: filename=jupyter_contrib_core-0.4.2-py2.py3-none-any.whl size=17493 sha256=5402ae8a24ebaea3e83d6fed9dc95f1f7a2a123cfb364f9ba8df808a006eedd9\n",
      "  Stored in directory: c:\\users\\marat\\appdata\\local\\pip\\cache\\wheels\\32\\f9\\af\\259a6f50f8b89d972aa81e31808a0af14e8bfc6867fb16ed07\n",
      "Successfully built jupyter_contrib_nbextensions jupyter-contrib-core\n",
      "Installing collected packages: jupyter-highlight-selected-word, ipython-genutils, setuptools, lxml, jupyter-contrib-core, jupyter-nbextensions-configurator, jupyter_contrib_nbextensions\n",
      "Successfully installed ipython-genutils-0.2.0 jupyter-contrib-core-0.4.2 jupyter-highlight-selected-word-0.2.0 jupyter-nbextensions-configurator-0.6.3 jupyter_contrib_nbextensions-0.7.0 lxml-5.1.0 setuptools-69.0.3\n"
     ]
    }
   ],
   "source": [
    "!pip install jupyter_contrib_nbextensions"
   ]
  },
  {
   "cell_type": "code",
   "execution_count": 88,
   "id": "1952d228-681d-43b8-bf32-00ea6a4cbef5",
   "metadata": {},
   "outputs": [
    {
     "name": "stderr",
     "output_type": "stream",
     "text": [
      "Traceback (most recent call last):\n",
      "  File \"<frozen runpy>\", line 198, in _run_module_as_main\n",
      "  File \"<frozen runpy>\", line 88, in _run_code\n",
      "  File \"C:\\python123\\Scripts\\jupyter-contrib.EXE\\__main__.py\", line 7, in <module>\n",
      "  File \"C:\\python123\\Lib\\site-packages\\jupyter_core\\application.py\", line 283, in launch_instance\n",
      "    super().launch_instance(argv=argv, **kwargs)\n",
      "  File \"C:\\python123\\Lib\\site-packages\\traitlets\\config\\application.py\", line 1073, in launch_instance\n",
      "    app = cls.instance(**kwargs)\n",
      "          ^^^^^^^^^^^^^^^^^^^^^^\n",
      "  File \"C:\\python123\\Lib\\site-packages\\traitlets\\config\\configurable.py\", line 583, in instance\n",
      "    inst = cls(*args, **kwargs)\n",
      "           ^^^^^^^^^^^^^^^^^^^^\n",
      "  File \"C:\\python123\\Lib\\site-packages\\jupyter_contrib_core\\application.py\", line 27, in __init__\n",
      "    self._refresh_subcommands()\n",
      "  File \"C:\\python123\\Lib\\site-packages\\jupyter_contrib_core\\application.py\", line 43, in _refresh_subcommands\n",
      "    get_subcommands_dict = entrypoint.load()\n",
      "                           ^^^^^^^^^^^^^^^^^\n",
      "  File \"C:\\python123\\Lib\\site-packages\\pkg_resources\\__init__.py\", line 2516, in load\n",
      "    return self.resolve()\n",
      "           ^^^^^^^^^^^^^^\n",
      "  File \"C:\\python123\\Lib\\site-packages\\pkg_resources\\__init__.py\", line 2522, in resolve\n",
      "    module = __import__(self.module_name, fromlist=['__name__'], level=0)\n",
      "             ^^^^^^^^^^^^^^^^^^^^^^^^^^^^^^^^^^^^^^^^^^^^^^^^^^^^^^^^^^^^\n",
      "  File \"C:\\python123\\Lib\\site-packages\\jupyter_contrib_nbextensions\\__init__.py\", line 5, in <module>\n",
      "    import jupyter_nbextensions_configurator\n",
      "  File \"C:\\python123\\Lib\\site-packages\\jupyter_nbextensions_configurator\\__init__.py\", line 18, in <module>\n",
      "    from notebook.base.handlers import APIHandler, IPythonHandler\n",
      "ModuleNotFoundError: No module named 'notebook.base'\n"
     ]
    }
   ],
   "source": [
    "!jupyter contrib nbextension install --sys-prefix"
   ]
  },
  {
   "cell_type": "code",
   "execution_count": null,
   "id": "b8dac2de-4fe5-4075-a853-b915e4fa4726",
   "metadata": {},
   "outputs": [],
   "source": []
  }
 ],
 "metadata": {
  "celltoolbar": "Slideshow",
  "kernelspec": {
   "display_name": "Python 3 (ipykernel)",
   "language": "python",
   "name": "python3"
  },
  "language_info": {
   "codemirror_mode": {
    "name": "ipython",
    "version": 3
   },
   "file_extension": ".py",
   "mimetype": "text/x-python",
   "name": "python",
   "nbconvert_exporter": "python",
   "pygments_lexer": "ipython3",
   "version": "3.12.1"
  },
  "latex_envs": {
   "LaTeX_envs_menu_present": true,
   "autoclose": false,
   "autocomplete": true,
   "bibliofile": "biblio.bib",
   "cite_by": "apalike",
   "current_citInitial": 1,
   "eqLabelWithNumbers": true,
   "eqNumInitial": 1,
   "hotkeys": {
    "equation": "Ctrl-E",
    "itemize": "Ctrl-I"
   },
   "labels_anchors": false,
   "latex_user_defs": false,
   "report_style_numbering": false,
   "user_envs_cfg": false
  }
 },
 "nbformat": 4,
 "nbformat_minor": 5
}
