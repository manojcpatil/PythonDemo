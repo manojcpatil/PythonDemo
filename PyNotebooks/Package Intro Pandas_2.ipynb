{
 "cells": [
  {
   "cell_type": "code",
   "execution_count": 1,
   "id": "5f0691b9",
   "metadata": {
    "slideshow": {
     "slide_type": "skip"
    }
   },
   "outputs": [],
   "source": [
    "import pandas as pd\n",
    "import numpy as np"
   ]
  },
  {
   "cell_type": "code",
   "execution_count": 2,
   "id": "ae699ef8",
   "metadata": {},
   "outputs": [
    {
     "data": {
      "text/plain": [
       "Index(['Name', 'Department', 'Class', 'Are you Vaccinated for Covid-19?',\n",
       "       'Vaccine Name (if vaccinated)', 'Email'],\n",
       "      dtype='object')"
      ]
     },
     "execution_count": 2,
     "metadata": {},
     "output_type": "execute_result"
    }
   ],
   "source": [
    "df=pd.read_excel('Covid-19 Vaccination.xlsx',sheet_name='Form responses 1')\n",
    "df.columns"
   ]
  },
  {
   "cell_type": "code",
   "execution_count": 3,
   "id": "e0b80d77",
   "metadata": {},
   "outputs": [],
   "source": [
    "for i in np.unique(df['Are you Vaccinated for Covid-19?']):\n",
    "    df_temp=df[df['Are you Vaccinated for Covid-19?']==i]\n",
    "    df_temp.to_excel(i+'.xlsx')"
   ]
  },
  {
   "cell_type": "code",
   "execution_count": 4,
   "id": "5bb36c59",
   "metadata": {},
   "outputs": [
    {
     "data": {
      "text/html": [
       "<div>\n",
       "<style scoped>\n",
       "    .dataframe tbody tr th:only-of-type {\n",
       "        vertical-align: middle;\n",
       "    }\n",
       "\n",
       "    .dataframe tbody tr th {\n",
       "        vertical-align: top;\n",
       "    }\n",
       "\n",
       "    .dataframe thead tr th {\n",
       "        text-align: left;\n",
       "    }\n",
       "\n",
       "    .dataframe thead tr:last-of-type th {\n",
       "        text-align: right;\n",
       "    }\n",
       "</style>\n",
       "<table border=\"1\" class=\"dataframe\">\n",
       "  <thead>\n",
       "    <tr>\n",
       "      <th></th>\n",
       "      <th></th>\n",
       "      <th colspan=\"4\" halign=\"left\">Name</th>\n",
       "    </tr>\n",
       "    <tr>\n",
       "      <th></th>\n",
       "      <th></th>\n",
       "      <th>count</th>\n",
       "      <th>unique</th>\n",
       "      <th>top</th>\n",
       "      <th>freq</th>\n",
       "    </tr>\n",
       "    <tr>\n",
       "      <th>Department</th>\n",
       "      <th>Are you Vaccinated for Covid-19?</th>\n",
       "      <th></th>\n",
       "      <th></th>\n",
       "      <th></th>\n",
       "      <th></th>\n",
       "    </tr>\n",
       "  </thead>\n",
       "  <tbody>\n",
       "    <tr>\n",
       "      <th rowspan=\"3\" valign=\"top\">Actuarial Science</th>\n",
       "      <th>Both Doses</th>\n",
       "      <td>61</td>\n",
       "      <td>60</td>\n",
       "      <td>Atharvan Aravindan</td>\n",
       "      <td>2</td>\n",
       "    </tr>\n",
       "    <tr>\n",
       "      <th>No</th>\n",
       "      <td>3</td>\n",
       "      <td>3</td>\n",
       "      <td>Darshan Kishor Bhadane</td>\n",
       "      <td>1</td>\n",
       "    </tr>\n",
       "    <tr>\n",
       "      <th>Only Single Dose</th>\n",
       "      <td>20</td>\n",
       "      <td>20</td>\n",
       "      <td>Anushka kailas patil</td>\n",
       "      <td>1</td>\n",
       "    </tr>\n",
       "    <tr>\n",
       "      <th rowspan=\"3\" valign=\"top\">Mathematics</th>\n",
       "      <th>Both Doses</th>\n",
       "      <td>66</td>\n",
       "      <td>66</td>\n",
       "      <td>Manasi Vilas Patil</td>\n",
       "      <td>1</td>\n",
       "    </tr>\n",
       "    <tr>\n",
       "      <th>No</th>\n",
       "      <td>2</td>\n",
       "      <td>2</td>\n",
       "      <td>Pallavi prakash Langote</td>\n",
       "      <td>1</td>\n",
       "    </tr>\n",
       "    <tr>\n",
       "      <th>Only Single Dose</th>\n",
       "      <td>25</td>\n",
       "      <td>25</td>\n",
       "      <td>Pooja shyam borse</td>\n",
       "      <td>1</td>\n",
       "    </tr>\n",
       "    <tr>\n",
       "      <th rowspan=\"3\" valign=\"top\">Statistics</th>\n",
       "      <th>Both Doses</th>\n",
       "      <td>74</td>\n",
       "      <td>74</td>\n",
       "      <td>Neha Dnyaneshwar Pendharkar</td>\n",
       "      <td>1</td>\n",
       "    </tr>\n",
       "    <tr>\n",
       "      <th>No</th>\n",
       "      <td>3</td>\n",
       "      <td>3</td>\n",
       "      <td>Varsha Patil</td>\n",
       "      <td>1</td>\n",
       "    </tr>\n",
       "    <tr>\n",
       "      <th>Only Single Dose</th>\n",
       "      <td>30</td>\n",
       "      <td>30</td>\n",
       "      <td>Saindane Govinda Murlidhar</td>\n",
       "      <td>1</td>\n",
       "    </tr>\n",
       "  </tbody>\n",
       "</table>\n",
       "</div>"
      ],
      "text/plain": [
       "                                                    Name         \\\n",
       "                                                   count unique   \n",
       "Department        Are you Vaccinated for Covid-19?                \n",
       "Actuarial Science Both Doses                          61     60   \n",
       "                  No                                   3      3   \n",
       "                  Only Single Dose                    20     20   \n",
       "Mathematics       Both Doses                          66     66   \n",
       "                  No                                   2      2   \n",
       "                  Only Single Dose                    25     25   \n",
       "Statistics        Both Doses                          74     74   \n",
       "                  No                                   3      3   \n",
       "                  Only Single Dose                    30     30   \n",
       "\n",
       "                                                                                  \\\n",
       "                                                                             top   \n",
       "Department        Are you Vaccinated for Covid-19?                                 \n",
       "Actuarial Science Both Doses                                  Atharvan Aravindan   \n",
       "                  No                                      Darshan Kishor Bhadane   \n",
       "                  Only Single Dose                          Anushka kailas patil   \n",
       "Mathematics       Both Doses                                  Manasi Vilas Patil   \n",
       "                  No                                     Pallavi prakash Langote   \n",
       "                  Only Single Dose                            Pooja shyam borse    \n",
       "Statistics        Both Doses                        Neha Dnyaneshwar Pendharkar    \n",
       "                  No                                                Varsha Patil   \n",
       "                  Only Single Dose                    Saindane Govinda Murlidhar   \n",
       "\n",
       "                                                         \n",
       "                                                   freq  \n",
       "Department        Are you Vaccinated for Covid-19?       \n",
       "Actuarial Science Both Doses                          2  \n",
       "                  No                                  1  \n",
       "                  Only Single Dose                    1  \n",
       "Mathematics       Both Doses                          1  \n",
       "                  No                                  1  \n",
       "                  Only Single Dose                    1  \n",
       "Statistics        Both Doses                          1  \n",
       "                  No                                  1  \n",
       "                  Only Single Dose                    1  "
      ]
     },
     "execution_count": 4,
     "metadata": {},
     "output_type": "execute_result"
    }
   ],
   "source": [
    "df[['Name','Department','Are you Vaccinated for Covid-19?']].groupby(by=['Department','Are you Vaccinated for Covid-19?']).describe()"
   ]
  },
  {
   "cell_type": "code",
   "execution_count": 5,
   "id": "3b21d36b",
   "metadata": {
    "slideshow": {
     "slide_type": "slide"
    }
   },
   "outputs": [
    {
     "name": "stderr",
     "output_type": "stream",
     "text": [
      "d:\\python\\lib\\site-packages\\IPython\\core\\interactiveshell.py:3169: DtypeWarning: Columns (7,8,9,12,13,14,16,18,21,22,23) have mixed types.Specify dtype option on import or set low_memory=False.\n",
      "  has_raised = await self.run_ast_nodes(code_ast.body, cell_name,\n"
     ]
    },
    {
     "data": {
      "text/plain": [
       "Index(['Unnamed: 0', 'EVENT', 'Course FULL Name', 'Course Part Name',\n",
       "       'Course Part Abbrevation', 'Course Code', 'Name OF Student',\n",
       "       'PRN-Permanent Registration Number', 'Examination Seat Number',\n",
       "       'STATEMENT Number', 'College Code', 'College Name', 'Term Credits',\n",
       "       'Grand Total', 'Term MAX Marks', 'RESULT Status', 'Paper Code',\n",
       "       'Paper GROUP/Paper Name/Additional Passing Head', 'Paper Credits',\n",
       "       'Assessment Method', 'Assessment TYPE', 'Assessment TYPE Total',\n",
       "       'Assessment TYPE MIN Marks', 'Assessment TYPE MAX Marks',\n",
       "       'Assessment TYPE Status', 'Assessment TYPE Exemption Status',\n",
       "       'Performance'],\n",
       "      dtype='object')"
      ]
     },
     "execution_count": 5,
     "metadata": {},
     "output_type": "execute_result"
    }
   ],
   "source": [
    "df2=pd.read_csv('CSVdata.csv')\n",
    "df2.columns"
   ]
  },
  {
   "cell_type": "code",
   "execution_count": 6,
   "id": "22696044",
   "metadata": {},
   "outputs": [
    {
     "data": {
      "text/plain": [
       "2334"
      ]
     },
     "execution_count": 6,
     "metadata": {},
     "output_type": "execute_result"
    }
   ],
   "source": [
    "#df2=df2.drop(['Unnamed: 0', 'EVENT', 'Course Part Name',      'Course Part Abbrevation', 'Course Code'],axis=1)\n",
    "#df2.groupby('Course FULL Name').count()\n",
    "len(np.unique(df2['Name OF Student']))"
   ]
  },
  {
   "cell_type": "code",
   "execution_count": null,
   "id": "1230f525",
   "metadata": {},
   "outputs": [],
   "source": []
  },
  {
   "cell_type": "code",
   "execution_count": null,
   "id": "fb2550aa",
   "metadata": {},
   "outputs": [],
   "source": []
  },
  {
   "cell_type": "markdown",
   "id": "dab7c8f3",
   "metadata": {
    "slideshow": {
     "slide_type": "slide"
    }
   },
   "source": [
    "# Merge"
   ]
  },
  {
   "cell_type": "markdown",
   "id": "48a3d642",
   "metadata": {},
   "source": [
    "Concat\n",
    "pandas provides various facilities for easily combining together Series and DataFrame objects with various kinds of set logic for the indexes and relational algebra functionality in the case of join / merge-type operations."
   ]
  },
  {
   "cell_type": "code",
   "execution_count": 7,
   "id": "3194da65",
   "metadata": {},
   "outputs": [
    {
     "data": {
      "text/html": [
       "<div>\n",
       "<style scoped>\n",
       "    .dataframe tbody tr th:only-of-type {\n",
       "        vertical-align: middle;\n",
       "    }\n",
       "\n",
       "    .dataframe tbody tr th {\n",
       "        vertical-align: top;\n",
       "    }\n",
       "\n",
       "    .dataframe thead th {\n",
       "        text-align: right;\n",
       "    }\n",
       "</style>\n",
       "<table border=\"1\" class=\"dataframe\">\n",
       "  <thead>\n",
       "    <tr style=\"text-align: right;\">\n",
       "      <th></th>\n",
       "      <th>0</th>\n",
       "      <th>1</th>\n",
       "      <th>2</th>\n",
       "      <th>3</th>\n",
       "    </tr>\n",
       "  </thead>\n",
       "  <tbody>\n",
       "    <tr>\n",
       "      <th>0</th>\n",
       "      <td>0.476876</td>\n",
       "      <td>0.918173</td>\n",
       "      <td>0.345426</td>\n",
       "      <td>0.045546</td>\n",
       "    </tr>\n",
       "    <tr>\n",
       "      <th>1</th>\n",
       "      <td>-0.408363</td>\n",
       "      <td>0.562260</td>\n",
       "      <td>0.649658</td>\n",
       "      <td>0.137138</td>\n",
       "    </tr>\n",
       "    <tr>\n",
       "      <th>2</th>\n",
       "      <td>0.748410</td>\n",
       "      <td>-0.423339</td>\n",
       "      <td>-0.194735</td>\n",
       "      <td>2.025023</td>\n",
       "    </tr>\n",
       "    <tr>\n",
       "      <th>3</th>\n",
       "      <td>0.874372</td>\n",
       "      <td>1.208884</td>\n",
       "      <td>1.605755</td>\n",
       "      <td>-0.178028</td>\n",
       "    </tr>\n",
       "    <tr>\n",
       "      <th>4</th>\n",
       "      <td>0.913694</td>\n",
       "      <td>2.023448</td>\n",
       "      <td>0.433081</td>\n",
       "      <td>-0.567097</td>\n",
       "    </tr>\n",
       "    <tr>\n",
       "      <th>5</th>\n",
       "      <td>-1.193550</td>\n",
       "      <td>-2.149262</td>\n",
       "      <td>-0.656720</td>\n",
       "      <td>0.910054</td>\n",
       "    </tr>\n",
       "    <tr>\n",
       "      <th>6</th>\n",
       "      <td>0.788681</td>\n",
       "      <td>0.876937</td>\n",
       "      <td>-0.741472</td>\n",
       "      <td>0.559700</td>\n",
       "    </tr>\n",
       "    <tr>\n",
       "      <th>7</th>\n",
       "      <td>1.523860</td>\n",
       "      <td>-1.696467</td>\n",
       "      <td>-0.049186</td>\n",
       "      <td>0.406692</td>\n",
       "    </tr>\n",
       "    <tr>\n",
       "      <th>8</th>\n",
       "      <td>1.108720</td>\n",
       "      <td>0.389180</td>\n",
       "      <td>-0.222523</td>\n",
       "      <td>-0.175950</td>\n",
       "    </tr>\n",
       "    <tr>\n",
       "      <th>9</th>\n",
       "      <td>-0.359534</td>\n",
       "      <td>0.873226</td>\n",
       "      <td>-1.144399</td>\n",
       "      <td>-0.772264</td>\n",
       "    </tr>\n",
       "  </tbody>\n",
       "</table>\n",
       "</div>"
      ],
      "text/plain": [
       "          0         1         2         3\n",
       "0  0.476876  0.918173  0.345426  0.045546\n",
       "1 -0.408363  0.562260  0.649658  0.137138\n",
       "2  0.748410 -0.423339 -0.194735  2.025023\n",
       "3  0.874372  1.208884  1.605755 -0.178028\n",
       "4  0.913694  2.023448  0.433081 -0.567097\n",
       "5 -1.193550 -2.149262 -0.656720  0.910054\n",
       "6  0.788681  0.876937 -0.741472  0.559700\n",
       "7  1.523860 -1.696467 -0.049186  0.406692\n",
       "8  1.108720  0.389180 -0.222523 -0.175950\n",
       "9 -0.359534  0.873226 -1.144399 -0.772264"
      ]
     },
     "execution_count": 7,
     "metadata": {},
     "output_type": "execute_result"
    }
   ],
   "source": [
    "df = pd.DataFrame(np.random.randn(10, 4))\n",
    "df"
   ]
  },
  {
   "cell_type": "code",
   "execution_count": 8,
   "id": "ed89fdb3",
   "metadata": {
    "slideshow": {
     "slide_type": "slide"
    }
   },
   "outputs": [
    {
     "data": {
      "text/plain": [
       "[          0         1         2         3\n",
       " 0  0.476876  0.918173  0.345426  0.045546\n",
       " 1 -0.408363  0.562260  0.649658  0.137138\n",
       " 2  0.748410 -0.423339 -0.194735  2.025023,\n",
       "           0         1         2         3\n",
       " 7  1.523860 -1.696467 -0.049186  0.406692\n",
       " 8  1.108720  0.389180 -0.222523 -0.175950\n",
       " 9 -0.359534  0.873226 -1.144399 -0.772264]"
      ]
     },
     "execution_count": 8,
     "metadata": {},
     "output_type": "execute_result"
    }
   ],
   "source": [
    "pieces = [df[:3],df[7:]]\n",
    "pieces"
   ]
  },
  {
   "cell_type": "code",
   "execution_count": 9,
   "id": "4981d16f",
   "metadata": {},
   "outputs": [
    {
     "data": {
      "text/html": [
       "<div>\n",
       "<style scoped>\n",
       "    .dataframe tbody tr th:only-of-type {\n",
       "        vertical-align: middle;\n",
       "    }\n",
       "\n",
       "    .dataframe tbody tr th {\n",
       "        vertical-align: top;\n",
       "    }\n",
       "\n",
       "    .dataframe thead th {\n",
       "        text-align: right;\n",
       "    }\n",
       "</style>\n",
       "<table border=\"1\" class=\"dataframe\">\n",
       "  <thead>\n",
       "    <tr style=\"text-align: right;\">\n",
       "      <th></th>\n",
       "      <th>0</th>\n",
       "      <th>1</th>\n",
       "      <th>2</th>\n",
       "      <th>3</th>\n",
       "    </tr>\n",
       "  </thead>\n",
       "  <tbody>\n",
       "    <tr>\n",
       "      <th>0</th>\n",
       "      <td>0.476876</td>\n",
       "      <td>0.918173</td>\n",
       "      <td>0.345426</td>\n",
       "      <td>0.045546</td>\n",
       "    </tr>\n",
       "    <tr>\n",
       "      <th>1</th>\n",
       "      <td>-0.408363</td>\n",
       "      <td>0.562260</td>\n",
       "      <td>0.649658</td>\n",
       "      <td>0.137138</td>\n",
       "    </tr>\n",
       "    <tr>\n",
       "      <th>2</th>\n",
       "      <td>0.748410</td>\n",
       "      <td>-0.423339</td>\n",
       "      <td>-0.194735</td>\n",
       "      <td>2.025023</td>\n",
       "    </tr>\n",
       "    <tr>\n",
       "      <th>7</th>\n",
       "      <td>1.523860</td>\n",
       "      <td>-1.696467</td>\n",
       "      <td>-0.049186</td>\n",
       "      <td>0.406692</td>\n",
       "    </tr>\n",
       "    <tr>\n",
       "      <th>8</th>\n",
       "      <td>1.108720</td>\n",
       "      <td>0.389180</td>\n",
       "      <td>-0.222523</td>\n",
       "      <td>-0.175950</td>\n",
       "    </tr>\n",
       "    <tr>\n",
       "      <th>9</th>\n",
       "      <td>-0.359534</td>\n",
       "      <td>0.873226</td>\n",
       "      <td>-1.144399</td>\n",
       "      <td>-0.772264</td>\n",
       "    </tr>\n",
       "  </tbody>\n",
       "</table>\n",
       "</div>"
      ],
      "text/plain": [
       "          0         1         2         3\n",
       "0  0.476876  0.918173  0.345426  0.045546\n",
       "1 -0.408363  0.562260  0.649658  0.137138\n",
       "2  0.748410 -0.423339 -0.194735  2.025023\n",
       "7  1.523860 -1.696467 -0.049186  0.406692\n",
       "8  1.108720  0.389180 -0.222523 -0.175950\n",
       "9 -0.359534  0.873226 -1.144399 -0.772264"
      ]
     },
     "execution_count": 9,
     "metadata": {},
     "output_type": "execute_result"
    }
   ],
   "source": [
    "pd.concat(pieces)"
   ]
  },
  {
   "cell_type": "code",
   "execution_count": 10,
   "id": "dc45cd93",
   "metadata": {
    "slideshow": {
     "slide_type": "slide"
    }
   },
   "outputs": [
    {
     "data": {
      "text/html": [
       "<div>\n",
       "<style scoped>\n",
       "    .dataframe tbody tr th:only-of-type {\n",
       "        vertical-align: middle;\n",
       "    }\n",
       "\n",
       "    .dataframe tbody tr th {\n",
       "        vertical-align: top;\n",
       "    }\n",
       "\n",
       "    .dataframe thead th {\n",
       "        text-align: right;\n",
       "    }\n",
       "</style>\n",
       "<table border=\"1\" class=\"dataframe\">\n",
       "  <thead>\n",
       "    <tr style=\"text-align: right;\">\n",
       "      <th></th>\n",
       "      <th>0</th>\n",
       "      <th>1</th>\n",
       "      <th>2</th>\n",
       "      <th>3</th>\n",
       "      <th>4</th>\n",
       "    </tr>\n",
       "  </thead>\n",
       "  <tbody>\n",
       "    <tr>\n",
       "      <th>0</th>\n",
       "      <td>-0.172914</td>\n",
       "      <td>0.258866</td>\n",
       "      <td>0.403331</td>\n",
       "      <td>-1.158097</td>\n",
       "      <td>-0.383955</td>\n",
       "    </tr>\n",
       "    <tr>\n",
       "      <th>1</th>\n",
       "      <td>-0.089016</td>\n",
       "      <td>0.106291</td>\n",
       "      <td>0.604377</td>\n",
       "      <td>-1.575462</td>\n",
       "      <td>0.411816</td>\n",
       "    </tr>\n",
       "  </tbody>\n",
       "</table>\n",
       "</div>"
      ],
      "text/plain": [
       "          0         1         2         3         4\n",
       "0 -0.172914  0.258866  0.403331 -1.158097 -0.383955\n",
       "1 -0.089016  0.106291  0.604377 -1.575462  0.411816"
      ]
     },
     "execution_count": 10,
     "metadata": {},
     "output_type": "execute_result"
    }
   ],
   "source": [
    "a=pd.DataFrame(np.random.randn(2, 5))\n",
    "b=pd.DataFrame(np.random.randn(3, 4))\n",
    "a"
   ]
  },
  {
   "cell_type": "code",
   "execution_count": 11,
   "id": "74c1a532",
   "metadata": {},
   "outputs": [
    {
     "data": {
      "text/html": [
       "<div>\n",
       "<style scoped>\n",
       "    .dataframe tbody tr th:only-of-type {\n",
       "        vertical-align: middle;\n",
       "    }\n",
       "\n",
       "    .dataframe tbody tr th {\n",
       "        vertical-align: top;\n",
       "    }\n",
       "\n",
       "    .dataframe thead th {\n",
       "        text-align: right;\n",
       "    }\n",
       "</style>\n",
       "<table border=\"1\" class=\"dataframe\">\n",
       "  <thead>\n",
       "    <tr style=\"text-align: right;\">\n",
       "      <th></th>\n",
       "      <th>0</th>\n",
       "      <th>1</th>\n",
       "      <th>2</th>\n",
       "      <th>3</th>\n",
       "    </tr>\n",
       "  </thead>\n",
       "  <tbody>\n",
       "    <tr>\n",
       "      <th>0</th>\n",
       "      <td>-0.251774</td>\n",
       "      <td>-0.968872</td>\n",
       "      <td>0.484384</td>\n",
       "      <td>-0.981394</td>\n",
       "    </tr>\n",
       "    <tr>\n",
       "      <th>1</th>\n",
       "      <td>-1.049935</td>\n",
       "      <td>0.205659</td>\n",
       "      <td>-0.290753</td>\n",
       "      <td>-0.451434</td>\n",
       "    </tr>\n",
       "    <tr>\n",
       "      <th>2</th>\n",
       "      <td>-2.695140</td>\n",
       "      <td>1.406623</td>\n",
       "      <td>-1.461247</td>\n",
       "      <td>0.559992</td>\n",
       "    </tr>\n",
       "  </tbody>\n",
       "</table>\n",
       "</div>"
      ],
      "text/plain": [
       "          0         1         2         3\n",
       "0 -0.251774 -0.968872  0.484384 -0.981394\n",
       "1 -1.049935  0.205659 -0.290753 -0.451434\n",
       "2 -2.695140  1.406623 -1.461247  0.559992"
      ]
     },
     "execution_count": 11,
     "metadata": {},
     "output_type": "execute_result"
    }
   ],
   "source": [
    "b"
   ]
  },
  {
   "cell_type": "code",
   "execution_count": 12,
   "id": "39ca9a04",
   "metadata": {},
   "outputs": [
    {
     "data": {
      "text/html": [
       "<div>\n",
       "<style scoped>\n",
       "    .dataframe tbody tr th:only-of-type {\n",
       "        vertical-align: middle;\n",
       "    }\n",
       "\n",
       "    .dataframe tbody tr th {\n",
       "        vertical-align: top;\n",
       "    }\n",
       "\n",
       "    .dataframe thead th {\n",
       "        text-align: right;\n",
       "    }\n",
       "</style>\n",
       "<table border=\"1\" class=\"dataframe\">\n",
       "  <thead>\n",
       "    <tr style=\"text-align: right;\">\n",
       "      <th></th>\n",
       "      <th>0</th>\n",
       "      <th>1</th>\n",
       "      <th>2</th>\n",
       "      <th>3</th>\n",
       "      <th>4</th>\n",
       "    </tr>\n",
       "  </thead>\n",
       "  <tbody>\n",
       "    <tr>\n",
       "      <th>0</th>\n",
       "      <td>-0.172914</td>\n",
       "      <td>0.258866</td>\n",
       "      <td>0.403331</td>\n",
       "      <td>-1.158097</td>\n",
       "      <td>-0.383955</td>\n",
       "    </tr>\n",
       "    <tr>\n",
       "      <th>1</th>\n",
       "      <td>-0.089016</td>\n",
       "      <td>0.106291</td>\n",
       "      <td>0.604377</td>\n",
       "      <td>-1.575462</td>\n",
       "      <td>0.411816</td>\n",
       "    </tr>\n",
       "    <tr>\n",
       "      <th>0</th>\n",
       "      <td>-0.251774</td>\n",
       "      <td>-0.968872</td>\n",
       "      <td>0.484384</td>\n",
       "      <td>-0.981394</td>\n",
       "      <td>NaN</td>\n",
       "    </tr>\n",
       "    <tr>\n",
       "      <th>1</th>\n",
       "      <td>-1.049935</td>\n",
       "      <td>0.205659</td>\n",
       "      <td>-0.290753</td>\n",
       "      <td>-0.451434</td>\n",
       "      <td>NaN</td>\n",
       "    </tr>\n",
       "    <tr>\n",
       "      <th>2</th>\n",
       "      <td>-2.695140</td>\n",
       "      <td>1.406623</td>\n",
       "      <td>-1.461247</td>\n",
       "      <td>0.559992</td>\n",
       "      <td>NaN</td>\n",
       "    </tr>\n",
       "  </tbody>\n",
       "</table>\n",
       "</div>"
      ],
      "text/plain": [
       "          0         1         2         3         4\n",
       "0 -0.172914  0.258866  0.403331 -1.158097 -0.383955\n",
       "1 -0.089016  0.106291  0.604377 -1.575462  0.411816\n",
       "0 -0.251774 -0.968872  0.484384 -0.981394       NaN\n",
       "1 -1.049935  0.205659 -0.290753 -0.451434       NaN\n",
       "2 -2.695140  1.406623 -1.461247  0.559992       NaN"
      ]
     },
     "execution_count": 12,
     "metadata": {},
     "output_type": "execute_result"
    }
   ],
   "source": [
    "pd.concat([a,b])"
   ]
  },
  {
   "cell_type": "markdown",
   "id": "ca3184dd",
   "metadata": {
    "slideshow": {
     "slide_type": "slide"
    }
   },
   "source": [
    "## Join"
   ]
  },
  {
   "cell_type": "code",
   "execution_count": 13,
   "id": "916f3316",
   "metadata": {},
   "outputs": [
    {
     "name": "stdout",
     "output_type": "stream",
     "text": [
      "Left\n",
      "    Date  B\n",
      "0     1  3\n",
      "1     2  4\n",
      "2     3  5\n",
      "Right\n",
      "    Date  D\n",
      "0     1  3\n",
      "1     3  4\n",
      "2     4  6\n"
     ]
    },
    {
     "data": {
      "text/html": [
       "<div>\n",
       "<style scoped>\n",
       "    .dataframe tbody tr th:only-of-type {\n",
       "        vertical-align: middle;\n",
       "    }\n",
       "\n",
       "    .dataframe tbody tr th {\n",
       "        vertical-align: top;\n",
       "    }\n",
       "\n",
       "    .dataframe thead th {\n",
       "        text-align: right;\n",
       "    }\n",
       "</style>\n",
       "<table border=\"1\" class=\"dataframe\">\n",
       "  <thead>\n",
       "    <tr style=\"text-align: right;\">\n",
       "      <th></th>\n",
       "      <th>Date</th>\n",
       "      <th>B</th>\n",
       "      <th>D</th>\n",
       "    </tr>\n",
       "  </thead>\n",
       "  <tbody>\n",
       "    <tr>\n",
       "      <th>0</th>\n",
       "      <td>1</td>\n",
       "      <td>3</td>\n",
       "      <td>3</td>\n",
       "    </tr>\n",
       "    <tr>\n",
       "      <th>1</th>\n",
       "      <td>3</td>\n",
       "      <td>5</td>\n",
       "      <td>4</td>\n",
       "    </tr>\n",
       "  </tbody>\n",
       "</table>\n",
       "</div>"
      ],
      "text/plain": [
       "   Date  B  D\n",
       "0     1  3  3\n",
       "1     3  5  4"
      ]
     },
     "execution_count": 13,
     "metadata": {},
     "output_type": "execute_result"
    }
   ],
   "source": [
    "left = pd.DataFrame({\"Date\":[1,2,3],\n",
    "                     \"B\":[3,4,5]})\n",
    "right = pd.DataFrame({\"Date\":[1,3,4],\n",
    "                     \"D\":[3,4,6]})\n",
    "print(\"Left\\n\",left)\n",
    "print(\"Right\\n\",right)\n",
    "pd.merge(left,right,on=\"Date\")"
   ]
  },
  {
   "cell_type": "markdown",
   "id": "27d5bf3c",
   "metadata": {
    "slideshow": {
     "slide_type": "slide"
    }
   },
   "source": [
    "## Dropping Entries from an Axis\n",
    "The drop method will return a new object with the indicated value or values deleted from\n",
    "an axis:"
   ]
  },
  {
   "cell_type": "code",
   "execution_count": 14,
   "id": "ed7ba14e",
   "metadata": {},
   "outputs": [
    {
     "name": "stdout",
     "output_type": "stream",
     "text": [
      "a    0.0\n",
      "b    1.0\n",
      "c    2.0\n",
      "d    3.0\n",
      "e    4.0\n",
      "dtype: float64\n",
      "c    2.0\n",
      "e    4.0\n",
      "dtype: float64\n"
     ]
    }
   ],
   "source": [
    "obj = pd.Series(np.arange(5.), index=['a', 'b', 'c', 'd', 'e'])\n",
    "print(obj)\n",
    "new_obj = obj.drop(list('abd'))\n",
    "print(new_obj)"
   ]
  },
  {
   "cell_type": "code",
   "execution_count": 15,
   "id": "e43419ff",
   "metadata": {
    "slideshow": {
     "slide_type": "slide"
    }
   },
   "outputs": [
    {
     "name": "stdout",
     "output_type": "stream",
     "text": [
      "          a         b         c         d         e\n",
      "0 -1.853969  0.493888 -0.652561  0.542000 -0.099050\n",
      "1 -0.536679 -1.035146 -0.244668  1.136661  1.993007\n",
      "2  0.775155  0.360282 -1.162679 -0.859198 -0.716582\n",
      "3 -1.171897  0.344101  1.538142  0.199568 -0.083040\n"
     ]
    },
    {
     "data": {
      "text/html": [
       "<div>\n",
       "<style scoped>\n",
       "    .dataframe tbody tr th:only-of-type {\n",
       "        vertical-align: middle;\n",
       "    }\n",
       "\n",
       "    .dataframe tbody tr th {\n",
       "        vertical-align: top;\n",
       "    }\n",
       "\n",
       "    .dataframe thead th {\n",
       "        text-align: right;\n",
       "    }\n",
       "</style>\n",
       "<table border=\"1\" class=\"dataframe\">\n",
       "  <thead>\n",
       "    <tr style=\"text-align: right;\">\n",
       "      <th></th>\n",
       "      <th>c</th>\n",
       "      <th>e</th>\n",
       "    </tr>\n",
       "  </thead>\n",
       "  <tbody>\n",
       "    <tr>\n",
       "      <th>0</th>\n",
       "      <td>-0.652561</td>\n",
       "      <td>-0.099050</td>\n",
       "    </tr>\n",
       "    <tr>\n",
       "      <th>1</th>\n",
       "      <td>-0.244668</td>\n",
       "      <td>1.993007</td>\n",
       "    </tr>\n",
       "    <tr>\n",
       "      <th>2</th>\n",
       "      <td>-1.162679</td>\n",
       "      <td>-0.716582</td>\n",
       "    </tr>\n",
       "    <tr>\n",
       "      <th>3</th>\n",
       "      <td>1.538142</td>\n",
       "      <td>-0.083040</td>\n",
       "    </tr>\n",
       "  </tbody>\n",
       "</table>\n",
       "</div>"
      ],
      "text/plain": [
       "          c         e\n",
       "0 -0.652561 -0.099050\n",
       "1 -0.244668  1.993007\n",
       "2 -1.162679 -0.716582\n",
       "3  1.538142 -0.083040"
      ]
     },
     "execution_count": 15,
     "metadata": {},
     "output_type": "execute_result"
    }
   ],
   "source": [
    "obj = pd.DataFrame(np.random.randn(4,5),columns=['a', 'b', 'c', 'd', 'e'])\n",
    "print(obj)\n",
    "new_obj = obj.drop(list('abd'),axis=1)\n",
    "new_obj"
   ]
  },
  {
   "cell_type": "markdown",
   "id": "bc58ea81",
   "metadata": {
    "slideshow": {
     "slide_type": "slide"
    }
   },
   "source": [
    "### Grouping\n",
    "By “group by” we are referring to a process involving one or more of the following steps:\n",
    "- Splitting the data into groups based on some criteria\n",
    "- Applying a function to each group independently\n",
    "- Combining the results into a data structure"
   ]
  },
  {
   "cell_type": "code",
   "execution_count": 16,
   "id": "d2a562d3",
   "metadata": {},
   "outputs": [
    {
     "data": {
      "text/html": [
       "<div>\n",
       "<style scoped>\n",
       "    .dataframe tbody tr th:only-of-type {\n",
       "        vertical-align: middle;\n",
       "    }\n",
       "\n",
       "    .dataframe tbody tr th {\n",
       "        vertical-align: top;\n",
       "    }\n",
       "\n",
       "    .dataframe thead th {\n",
       "        text-align: right;\n",
       "    }\n",
       "</style>\n",
       "<table border=\"1\" class=\"dataframe\">\n",
       "  <thead>\n",
       "    <tr style=\"text-align: right;\">\n",
       "      <th></th>\n",
       "      <th>Gender</th>\n",
       "      <th>Smoke</th>\n",
       "      <th>ConcA</th>\n",
       "      <th>ConcB</th>\n",
       "    </tr>\n",
       "  </thead>\n",
       "  <tbody>\n",
       "    <tr>\n",
       "      <th>0</th>\n",
       "      <td>M</td>\n",
       "      <td>Smoker</td>\n",
       "      <td>9</td>\n",
       "      <td>9</td>\n",
       "    </tr>\n",
       "    <tr>\n",
       "      <th>1</th>\n",
       "      <td>F</td>\n",
       "      <td>NonSmoker</td>\n",
       "      <td>7</td>\n",
       "      <td>6</td>\n",
       "    </tr>\n",
       "    <tr>\n",
       "      <th>2</th>\n",
       "      <td>M</td>\n",
       "      <td>NonSmoker</td>\n",
       "      <td>6</td>\n",
       "      <td>7</td>\n",
       "    </tr>\n",
       "    <tr>\n",
       "      <th>3</th>\n",
       "      <td>F</td>\n",
       "      <td>Smoker</td>\n",
       "      <td>1</td>\n",
       "      <td>5</td>\n",
       "    </tr>\n",
       "    <tr>\n",
       "      <th>4</th>\n",
       "      <td>M</td>\n",
       "      <td>Smoker</td>\n",
       "      <td>4</td>\n",
       "      <td>4</td>\n",
       "    </tr>\n",
       "    <tr>\n",
       "      <th>5</th>\n",
       "      <td>F</td>\n",
       "      <td>NonSmoker</td>\n",
       "      <td>4</td>\n",
       "      <td>9</td>\n",
       "    </tr>\n",
       "    <tr>\n",
       "      <th>6</th>\n",
       "      <td>M</td>\n",
       "      <td>NonSmoker</td>\n",
       "      <td>5</td>\n",
       "      <td>5</td>\n",
       "    </tr>\n",
       "    <tr>\n",
       "      <th>7</th>\n",
       "      <td>F</td>\n",
       "      <td>Smoker</td>\n",
       "      <td>3</td>\n",
       "      <td>5</td>\n",
       "    </tr>\n",
       "  </tbody>\n",
       "</table>\n",
       "</div>"
      ],
      "text/plain": [
       "  Gender      Smoke  ConcA  ConcB\n",
       "0      M     Smoker      9      9\n",
       "1      F  NonSmoker      7      6\n",
       "2      M  NonSmoker      6      7\n",
       "3      F     Smoker      1      5\n",
       "4      M     Smoker      4      4\n",
       "5      F  NonSmoker      4      9\n",
       "6      M  NonSmoker      5      5\n",
       "7      F     Smoker      3      5"
      ]
     },
     "execution_count": 16,
     "metadata": {},
     "output_type": "execute_result"
    }
   ],
   "source": [
    "df = pd.DataFrame(\n",
    "   ....:     {\n",
    "   ....:         \"Gender\": [\"M\", \"F\"]*4,\n",
    "   ....:         \"Smoke\": [\"Smoker\", \"NonSmoker\", \"NonSmoker\", \"Smoker\"]*2,\n",
    "   ....:         \"ConcA\": np.random.randint(1,10,8),\n",
    "   ....:         \"ConcB\": np.random.randint(1,10,8)\n",
    "   ....:     }\n",
    "   ....: )\n",
    "df"
   ]
  },
  {
   "cell_type": "code",
   "execution_count": 17,
   "id": "a28e414f",
   "metadata": {
    "slideshow": {
     "slide_type": "slide"
    }
   },
   "outputs": [
    {
     "data": {
      "text/html": [
       "<div>\n",
       "<style scoped>\n",
       "    .dataframe tbody tr th:only-of-type {\n",
       "        vertical-align: middle;\n",
       "    }\n",
       "\n",
       "    .dataframe tbody tr th {\n",
       "        vertical-align: top;\n",
       "    }\n",
       "\n",
       "    .dataframe thead th {\n",
       "        text-align: right;\n",
       "    }\n",
       "</style>\n",
       "<table border=\"1\" class=\"dataframe\">\n",
       "  <thead>\n",
       "    <tr style=\"text-align: right;\">\n",
       "      <th></th>\n",
       "      <th></th>\n",
       "      <th>ConcA</th>\n",
       "      <th>ConcB</th>\n",
       "    </tr>\n",
       "    <tr>\n",
       "      <th>Gender</th>\n",
       "      <th>Smoke</th>\n",
       "      <th></th>\n",
       "      <th></th>\n",
       "    </tr>\n",
       "  </thead>\n",
       "  <tbody>\n",
       "    <tr>\n",
       "      <th rowspan=\"2\" valign=\"top\">F</th>\n",
       "      <th>NonSmoker</th>\n",
       "      <td>4.5</td>\n",
       "      <td>4.5</td>\n",
       "    </tr>\n",
       "    <tr>\n",
       "      <th>Smoker</th>\n",
       "      <td>2.0</td>\n",
       "      <td>0.0</td>\n",
       "    </tr>\n",
       "    <tr>\n",
       "      <th rowspan=\"2\" valign=\"top\">M</th>\n",
       "      <th>NonSmoker</th>\n",
       "      <td>0.5</td>\n",
       "      <td>2.0</td>\n",
       "    </tr>\n",
       "    <tr>\n",
       "      <th>Smoker</th>\n",
       "      <td>12.5</td>\n",
       "      <td>12.5</td>\n",
       "    </tr>\n",
       "  </tbody>\n",
       "</table>\n",
       "</div>"
      ],
      "text/plain": [
       "                  ConcA  ConcB\n",
       "Gender Smoke                  \n",
       "F      NonSmoker    4.5    4.5\n",
       "       Smoker       2.0    0.0\n",
       "M      NonSmoker    0.5    2.0\n",
       "       Smoker      12.5   12.5"
      ]
     },
     "execution_count": 17,
     "metadata": {},
     "output_type": "execute_result"
    }
   ],
   "source": [
    "df.groupby([\"Gender\", \"Smoke\"]).var()"
   ]
  },
  {
   "cell_type": "code",
   "execution_count": 18,
   "id": "0243ba9b",
   "metadata": {
    "slideshow": {
     "slide_type": "slide"
    }
   },
   "outputs": [
    {
     "data": {
      "text/html": [
       "<div>\n",
       "<style scoped>\n",
       "    .dataframe tbody tr th:only-of-type {\n",
       "        vertical-align: middle;\n",
       "    }\n",
       "\n",
       "    .dataframe tbody tr th {\n",
       "        vertical-align: top;\n",
       "    }\n",
       "\n",
       "    .dataframe thead th {\n",
       "        text-align: right;\n",
       "    }\n",
       "</style>\n",
       "<table border=\"1\" class=\"dataframe\">\n",
       "  <thead>\n",
       "    <tr style=\"text-align: right;\">\n",
       "      <th></th>\n",
       "      <th>ConcA</th>\n",
       "      <th>ConcB</th>\n",
       "    </tr>\n",
       "    <tr>\n",
       "      <th>Gender</th>\n",
       "      <th></th>\n",
       "      <th></th>\n",
       "    </tr>\n",
       "  </thead>\n",
       "  <tbody>\n",
       "    <tr>\n",
       "      <th>F</th>\n",
       "      <td>3.75</td>\n",
       "      <td>6.25</td>\n",
       "    </tr>\n",
       "    <tr>\n",
       "      <th>M</th>\n",
       "      <td>6.00</td>\n",
       "      <td>6.25</td>\n",
       "    </tr>\n",
       "  </tbody>\n",
       "</table>\n",
       "</div>"
      ],
      "text/plain": [
       "        ConcA  ConcB\n",
       "Gender              \n",
       "F        3.75   6.25\n",
       "M        6.00   6.25"
      ]
     },
     "execution_count": 18,
     "metadata": {},
     "output_type": "execute_result"
    }
   ],
   "source": [
    "df.groupby(\"Gender\").mean()"
   ]
  },
  {
   "cell_type": "code",
   "execution_count": 19,
   "id": "568d9bdd",
   "metadata": {
    "slideshow": {
     "slide_type": "slide"
    }
   },
   "outputs": [
    {
     "data": {
      "text/html": [
       "<div>\n",
       "<style scoped>\n",
       "    .dataframe tbody tr th:only-of-type {\n",
       "        vertical-align: middle;\n",
       "    }\n",
       "\n",
       "    .dataframe tbody tr th {\n",
       "        vertical-align: top;\n",
       "    }\n",
       "\n",
       "    .dataframe thead tr th {\n",
       "        text-align: left;\n",
       "    }\n",
       "</style>\n",
       "<table border=\"1\" class=\"dataframe\">\n",
       "  <thead>\n",
       "    <tr>\n",
       "      <th></th>\n",
       "      <th>Gender</th>\n",
       "      <th colspan=\"2\" halign=\"left\">F</th>\n",
       "      <th colspan=\"2\" halign=\"left\">M</th>\n",
       "    </tr>\n",
       "    <tr>\n",
       "      <th></th>\n",
       "      <th>Smoke</th>\n",
       "      <th>NonSmoker</th>\n",
       "      <th>Smoker</th>\n",
       "      <th>NonSmoker</th>\n",
       "      <th>Smoker</th>\n",
       "    </tr>\n",
       "  </thead>\n",
       "  <tbody>\n",
       "    <tr>\n",
       "      <th rowspan=\"8\" valign=\"top\">ConcA</th>\n",
       "      <th>count</th>\n",
       "      <td>2.00000</td>\n",
       "      <td>2.000000</td>\n",
       "      <td>2.000000</td>\n",
       "      <td>2.000000</td>\n",
       "    </tr>\n",
       "    <tr>\n",
       "      <th>mean</th>\n",
       "      <td>5.50000</td>\n",
       "      <td>2.000000</td>\n",
       "      <td>5.500000</td>\n",
       "      <td>6.500000</td>\n",
       "    </tr>\n",
       "    <tr>\n",
       "      <th>std</th>\n",
       "      <td>2.12132</td>\n",
       "      <td>1.414214</td>\n",
       "      <td>0.707107</td>\n",
       "      <td>3.535534</td>\n",
       "    </tr>\n",
       "    <tr>\n",
       "      <th>min</th>\n",
       "      <td>4.00000</td>\n",
       "      <td>1.000000</td>\n",
       "      <td>5.000000</td>\n",
       "      <td>4.000000</td>\n",
       "    </tr>\n",
       "    <tr>\n",
       "      <th>25%</th>\n",
       "      <td>4.75000</td>\n",
       "      <td>1.500000</td>\n",
       "      <td>5.250000</td>\n",
       "      <td>5.250000</td>\n",
       "    </tr>\n",
       "    <tr>\n",
       "      <th>50%</th>\n",
       "      <td>5.50000</td>\n",
       "      <td>2.000000</td>\n",
       "      <td>5.500000</td>\n",
       "      <td>6.500000</td>\n",
       "    </tr>\n",
       "    <tr>\n",
       "      <th>75%</th>\n",
       "      <td>6.25000</td>\n",
       "      <td>2.500000</td>\n",
       "      <td>5.750000</td>\n",
       "      <td>7.750000</td>\n",
       "    </tr>\n",
       "    <tr>\n",
       "      <th>max</th>\n",
       "      <td>7.00000</td>\n",
       "      <td>3.000000</td>\n",
       "      <td>6.000000</td>\n",
       "      <td>9.000000</td>\n",
       "    </tr>\n",
       "    <tr>\n",
       "      <th rowspan=\"8\" valign=\"top\">ConcB</th>\n",
       "      <th>count</th>\n",
       "      <td>2.00000</td>\n",
       "      <td>2.000000</td>\n",
       "      <td>2.000000</td>\n",
       "      <td>2.000000</td>\n",
       "    </tr>\n",
       "    <tr>\n",
       "      <th>mean</th>\n",
       "      <td>7.50000</td>\n",
       "      <td>5.000000</td>\n",
       "      <td>6.000000</td>\n",
       "      <td>6.500000</td>\n",
       "    </tr>\n",
       "    <tr>\n",
       "      <th>std</th>\n",
       "      <td>2.12132</td>\n",
       "      <td>0.000000</td>\n",
       "      <td>1.414214</td>\n",
       "      <td>3.535534</td>\n",
       "    </tr>\n",
       "    <tr>\n",
       "      <th>min</th>\n",
       "      <td>6.00000</td>\n",
       "      <td>5.000000</td>\n",
       "      <td>5.000000</td>\n",
       "      <td>4.000000</td>\n",
       "    </tr>\n",
       "    <tr>\n",
       "      <th>25%</th>\n",
       "      <td>6.75000</td>\n",
       "      <td>5.000000</td>\n",
       "      <td>5.500000</td>\n",
       "      <td>5.250000</td>\n",
       "    </tr>\n",
       "    <tr>\n",
       "      <th>50%</th>\n",
       "      <td>7.50000</td>\n",
       "      <td>5.000000</td>\n",
       "      <td>6.000000</td>\n",
       "      <td>6.500000</td>\n",
       "    </tr>\n",
       "    <tr>\n",
       "      <th>75%</th>\n",
       "      <td>8.25000</td>\n",
       "      <td>5.000000</td>\n",
       "      <td>6.500000</td>\n",
       "      <td>7.750000</td>\n",
       "    </tr>\n",
       "    <tr>\n",
       "      <th>max</th>\n",
       "      <td>9.00000</td>\n",
       "      <td>5.000000</td>\n",
       "      <td>7.000000</td>\n",
       "      <td>9.000000</td>\n",
       "    </tr>\n",
       "  </tbody>\n",
       "</table>\n",
       "</div>"
      ],
      "text/plain": [
       "Gender              F                   M          \n",
       "Smoke       NonSmoker    Smoker NonSmoker    Smoker\n",
       "ConcA count   2.00000  2.000000  2.000000  2.000000\n",
       "      mean    5.50000  2.000000  5.500000  6.500000\n",
       "      std     2.12132  1.414214  0.707107  3.535534\n",
       "      min     4.00000  1.000000  5.000000  4.000000\n",
       "      25%     4.75000  1.500000  5.250000  5.250000\n",
       "      50%     5.50000  2.000000  5.500000  6.500000\n",
       "      75%     6.25000  2.500000  5.750000  7.750000\n",
       "      max     7.00000  3.000000  6.000000  9.000000\n",
       "ConcB count   2.00000  2.000000  2.000000  2.000000\n",
       "      mean    7.50000  5.000000  6.000000  6.500000\n",
       "      std     2.12132  0.000000  1.414214  3.535534\n",
       "      min     6.00000  5.000000  5.000000  4.000000\n",
       "      25%     6.75000  5.000000  5.500000  5.250000\n",
       "      50%     7.50000  5.000000  6.000000  6.500000\n",
       "      75%     8.25000  5.000000  6.500000  7.750000\n",
       "      max     9.00000  5.000000  7.000000  9.000000"
      ]
     },
     "execution_count": 19,
     "metadata": {},
     "output_type": "execute_result"
    }
   ],
   "source": [
    "df.groupby([\"Gender\",\"Smoke\"]).describe().T"
   ]
  },
  {
   "cell_type": "code",
   "execution_count": 20,
   "id": "bb38bbd9",
   "metadata": {
    "slideshow": {
     "slide_type": "slide"
    }
   },
   "outputs": [
    {
     "data": {
      "text/html": [
       "<div>\n",
       "<style scoped>\n",
       "    .dataframe tbody tr th:only-of-type {\n",
       "        vertical-align: middle;\n",
       "    }\n",
       "\n",
       "    .dataframe tbody tr th {\n",
       "        vertical-align: top;\n",
       "    }\n",
       "\n",
       "    .dataframe thead th {\n",
       "        text-align: right;\n",
       "    }\n",
       "</style>\n",
       "<table border=\"1\" class=\"dataframe\">\n",
       "  <thead>\n",
       "    <tr style=\"text-align: right;\">\n",
       "      <th></th>\n",
       "      <th>Gender</th>\n",
       "      <th>F</th>\n",
       "      <th>M</th>\n",
       "    </tr>\n",
       "  </thead>\n",
       "  <tbody>\n",
       "    <tr>\n",
       "      <th rowspan=\"8\" valign=\"top\">ConcA</th>\n",
       "      <th>count</th>\n",
       "      <td>4.000000</td>\n",
       "      <td>4.000000</td>\n",
       "    </tr>\n",
       "    <tr>\n",
       "      <th>mean</th>\n",
       "      <td>3.750000</td>\n",
       "      <td>6.000000</td>\n",
       "    </tr>\n",
       "    <tr>\n",
       "      <th>std</th>\n",
       "      <td>2.500000</td>\n",
       "      <td>2.160247</td>\n",
       "    </tr>\n",
       "    <tr>\n",
       "      <th>min</th>\n",
       "      <td>1.000000</td>\n",
       "      <td>4.000000</td>\n",
       "    </tr>\n",
       "    <tr>\n",
       "      <th>25%</th>\n",
       "      <td>2.500000</td>\n",
       "      <td>4.750000</td>\n",
       "    </tr>\n",
       "    <tr>\n",
       "      <th>50%</th>\n",
       "      <td>3.500000</td>\n",
       "      <td>5.500000</td>\n",
       "    </tr>\n",
       "    <tr>\n",
       "      <th>75%</th>\n",
       "      <td>4.750000</td>\n",
       "      <td>6.750000</td>\n",
       "    </tr>\n",
       "    <tr>\n",
       "      <th>max</th>\n",
       "      <td>7.000000</td>\n",
       "      <td>9.000000</td>\n",
       "    </tr>\n",
       "    <tr>\n",
       "      <th rowspan=\"8\" valign=\"top\">ConcB</th>\n",
       "      <th>count</th>\n",
       "      <td>4.000000</td>\n",
       "      <td>4.000000</td>\n",
       "    </tr>\n",
       "    <tr>\n",
       "      <th>mean</th>\n",
       "      <td>6.250000</td>\n",
       "      <td>6.250000</td>\n",
       "    </tr>\n",
       "    <tr>\n",
       "      <th>std</th>\n",
       "      <td>1.892969</td>\n",
       "      <td>2.217356</td>\n",
       "    </tr>\n",
       "    <tr>\n",
       "      <th>min</th>\n",
       "      <td>5.000000</td>\n",
       "      <td>4.000000</td>\n",
       "    </tr>\n",
       "    <tr>\n",
       "      <th>25%</th>\n",
       "      <td>5.000000</td>\n",
       "      <td>4.750000</td>\n",
       "    </tr>\n",
       "    <tr>\n",
       "      <th>50%</th>\n",
       "      <td>5.500000</td>\n",
       "      <td>6.000000</td>\n",
       "    </tr>\n",
       "    <tr>\n",
       "      <th>75%</th>\n",
       "      <td>6.750000</td>\n",
       "      <td>7.500000</td>\n",
       "    </tr>\n",
       "    <tr>\n",
       "      <th>max</th>\n",
       "      <td>9.000000</td>\n",
       "      <td>9.000000</td>\n",
       "    </tr>\n",
       "  </tbody>\n",
       "</table>\n",
       "</div>"
      ],
      "text/plain": [
       "Gender              F         M\n",
       "ConcA count  4.000000  4.000000\n",
       "      mean   3.750000  6.000000\n",
       "      std    2.500000  2.160247\n",
       "      min    1.000000  4.000000\n",
       "      25%    2.500000  4.750000\n",
       "      50%    3.500000  5.500000\n",
       "      75%    4.750000  6.750000\n",
       "      max    7.000000  9.000000\n",
       "ConcB count  4.000000  4.000000\n",
       "      mean   6.250000  6.250000\n",
       "      std    1.892969  2.217356\n",
       "      min    5.000000  4.000000\n",
       "      25%    5.000000  4.750000\n",
       "      50%    5.500000  6.000000\n",
       "      75%    6.750000  7.500000\n",
       "      max    9.000000  9.000000"
      ]
     },
     "execution_count": 20,
     "metadata": {},
     "output_type": "execute_result"
    }
   ],
   "source": [
    "df.groupby(\"Gender\").describe().T"
   ]
  },
  {
   "cell_type": "code",
   "execution_count": 21,
   "id": "3a83727b",
   "metadata": {
    "slideshow": {
     "slide_type": "slide"
    }
   },
   "outputs": [
    {
     "data": {
      "text/plain": [
       "ConcA    39\n",
       "ConcB    50\n",
       "dtype: int64"
      ]
     },
     "execution_count": 21,
     "metadata": {},
     "output_type": "execute_result"
    }
   ],
   "source": [
    "df\n",
    "df2=df.iloc[:,2:]\n",
    "df2.apply(sum) # Column Sum"
   ]
  },
  {
   "cell_type": "code",
   "execution_count": 22,
   "id": "3e77f008",
   "metadata": {},
   "outputs": [
    {
     "data": {
      "text/plain": [
       "0    9.0\n",
       "1    6.5\n",
       "2    6.5\n",
       "3    3.0\n",
       "4    4.0\n",
       "5    6.5\n",
       "6    5.0\n",
       "7    4.0\n",
       "dtype: float64"
      ]
     },
     "execution_count": 22,
     "metadata": {},
     "output_type": "execute_result"
    }
   ],
   "source": [
    "df2.apply(np.mean,axis=1) # Row Sum"
   ]
  },
  {
   "cell_type": "code",
   "execution_count": 23,
   "id": "18a928d1",
   "metadata": {
    "slideshow": {
     "slide_type": "slide"
    }
   },
   "outputs": [],
   "source": [
    "f = lambda x: x.max() - x.min()"
   ]
  },
  {
   "cell_type": "code",
   "execution_count": 24,
   "id": "c79f9a3f",
   "metadata": {},
   "outputs": [
    {
     "data": {
      "text/plain": [
       "0    0\n",
       "1    1\n",
       "2    1\n",
       "3    4\n",
       "4    0\n",
       "5    5\n",
       "6    0\n",
       "7    2\n",
       "dtype: int64"
      ]
     },
     "execution_count": 24,
     "metadata": {},
     "output_type": "execute_result"
    }
   ],
   "source": [
    "df2.apply(f,axis=1)"
   ]
  },
  {
   "cell_type": "code",
   "execution_count": 25,
   "id": "49580ba6",
   "metadata": {
    "slideshow": {
     "slide_type": "slide"
    }
   },
   "outputs": [],
   "source": [
    "def f2(x):\n",
    "    return pd.Series([x.min(), x.max()], index=['min', 'max'])"
   ]
  },
  {
   "cell_type": "code",
   "execution_count": 26,
   "id": "1cb625b5",
   "metadata": {},
   "outputs": [
    {
     "name": "stdout",
     "output_type": "stream",
     "text": [
      "   min  max\n",
      "0    9    9\n",
      "1    6    7\n",
      "2    6    7\n",
      "3    1    5\n",
      "4    4    4\n",
      "5    4    9\n",
      "6    5    5\n",
      "7    3    5\n",
      "   ConcA  ConcB  min  max\n",
      "0      9      9    9    9\n",
      "1      7      6    6    7\n",
      "2      6      7    6    7\n",
      "3      1      5    1    5\n",
      "4      4      4    4    4\n",
      "5      4      9    4    9\n",
      "6      5      5    5    5\n",
      "7      3      5    3    5\n"
     ]
    }
   ],
   "source": [
    "print(df2.apply(f2,axis=1))\n",
    "df2[[\"min\",\"max\"]]=df2.apply(f2,axis=1)\n",
    "print(df2)"
   ]
  },
  {
   "cell_type": "code",
   "execution_count": 27,
   "id": "c452544b",
   "metadata": {
    "slideshow": {
     "slide_type": "slide"
    }
   },
   "outputs": [
    {
     "data": {
      "text/html": [
       "<div>\n",
       "<style scoped>\n",
       "    .dataframe tbody tr th:only-of-type {\n",
       "        vertical-align: middle;\n",
       "    }\n",
       "\n",
       "    .dataframe tbody tr th {\n",
       "        vertical-align: top;\n",
       "    }\n",
       "\n",
       "    .dataframe thead th {\n",
       "        text-align: right;\n",
       "    }\n",
       "</style>\n",
       "<table border=\"1\" class=\"dataframe\">\n",
       "  <thead>\n",
       "    <tr style=\"text-align: right;\">\n",
       "      <th></th>\n",
       "      <th>ConcA</th>\n",
       "      <th>ConcB</th>\n",
       "      <th>min</th>\n",
       "      <th>max</th>\n",
       "    </tr>\n",
       "  </thead>\n",
       "  <tbody>\n",
       "    <tr>\n",
       "      <th>0</th>\n",
       "      <td>9</td>\n",
       "      <td>9</td>\n",
       "      <td>9</td>\n",
       "      <td>9</td>\n",
       "    </tr>\n",
       "    <tr>\n",
       "      <th>1</th>\n",
       "      <td>7</td>\n",
       "      <td>6</td>\n",
       "      <td>6</td>\n",
       "      <td>7</td>\n",
       "    </tr>\n",
       "    <tr>\n",
       "      <th>2</th>\n",
       "      <td>6</td>\n",
       "      <td>7</td>\n",
       "      <td>6</td>\n",
       "      <td>7</td>\n",
       "    </tr>\n",
       "    <tr>\n",
       "      <th>3</th>\n",
       "      <td>1</td>\n",
       "      <td>5</td>\n",
       "      <td>1</td>\n",
       "      <td>5</td>\n",
       "    </tr>\n",
       "    <tr>\n",
       "      <th>4</th>\n",
       "      <td>4</td>\n",
       "      <td>4</td>\n",
       "      <td>4</td>\n",
       "      <td>4</td>\n",
       "    </tr>\n",
       "    <tr>\n",
       "      <th>5</th>\n",
       "      <td>4</td>\n",
       "      <td>9</td>\n",
       "      <td>4</td>\n",
       "      <td>9</td>\n",
       "    </tr>\n",
       "    <tr>\n",
       "      <th>6</th>\n",
       "      <td>5</td>\n",
       "      <td>5</td>\n",
       "      <td>5</td>\n",
       "      <td>5</td>\n",
       "    </tr>\n",
       "    <tr>\n",
       "      <th>7</th>\n",
       "      <td>3</td>\n",
       "      <td>5</td>\n",
       "      <td>3</td>\n",
       "      <td>5</td>\n",
       "    </tr>\n",
       "  </tbody>\n",
       "</table>\n",
       "</div>"
      ],
      "text/plain": [
       "   ConcA  ConcB  min  max\n",
       "0      9      9    9    9\n",
       "1      7      6    6    7\n",
       "2      6      7    6    7\n",
       "3      1      5    1    5\n",
       "4      4      4    4    4\n",
       "5      4      9    4    9\n",
       "6      5      5    5    5\n",
       "7      3      5    3    5"
      ]
     },
     "execution_count": 27,
     "metadata": {},
     "output_type": "execute_result"
    }
   ],
   "source": [
    "df2"
   ]
  },
  {
   "cell_type": "markdown",
   "id": "f3506453",
   "metadata": {},
   "source": [
    "Element-wise Python functions can be used, too. Suppose you wanted to compute a\n",
    "formatted string from each floating-point value in frame. You can do this with apply\n",
    "map:"
   ]
  },
  {
   "cell_type": "code",
   "execution_count": 28,
   "id": "589971e2",
   "metadata": {},
   "outputs": [
    {
     "name": "stdout",
     "output_type": "stream",
     "text": [
      "   ConcA  ConcB  min  max\n",
      "0      9      9    9    9\n",
      "1      7      6    6    7\n",
      "2      6      7    6    7\n",
      "3      1      5    1    5\n",
      "4      4      4    4    4\n",
      "5      4      9    4    9\n",
      "6      5      5    5    5\n",
      "7      3      5    3    5\n"
     ]
    },
    {
     "data": {
      "text/html": [
       "<div>\n",
       "<style scoped>\n",
       "    .dataframe tbody tr th:only-of-type {\n",
       "        vertical-align: middle;\n",
       "    }\n",
       "\n",
       "    .dataframe tbody tr th {\n",
       "        vertical-align: top;\n",
       "    }\n",
       "\n",
       "    .dataframe thead th {\n",
       "        text-align: right;\n",
       "    }\n",
       "</style>\n",
       "<table border=\"1\" class=\"dataframe\">\n",
       "  <thead>\n",
       "    <tr style=\"text-align: right;\">\n",
       "      <th></th>\n",
       "      <th>ConcA</th>\n",
       "      <th>ConcB</th>\n",
       "      <th>min</th>\n",
       "      <th>max</th>\n",
       "    </tr>\n",
       "  </thead>\n",
       "  <tbody>\n",
       "    <tr>\n",
       "      <th>0</th>\n",
       "      <td>81</td>\n",
       "      <td>81</td>\n",
       "      <td>81</td>\n",
       "      <td>81</td>\n",
       "    </tr>\n",
       "    <tr>\n",
       "      <th>1</th>\n",
       "      <td>49</td>\n",
       "      <td>36</td>\n",
       "      <td>36</td>\n",
       "      <td>49</td>\n",
       "    </tr>\n",
       "    <tr>\n",
       "      <th>2</th>\n",
       "      <td>36</td>\n",
       "      <td>49</td>\n",
       "      <td>36</td>\n",
       "      <td>49</td>\n",
       "    </tr>\n",
       "    <tr>\n",
       "      <th>3</th>\n",
       "      <td>1</td>\n",
       "      <td>25</td>\n",
       "      <td>1</td>\n",
       "      <td>25</td>\n",
       "    </tr>\n",
       "    <tr>\n",
       "      <th>4</th>\n",
       "      <td>16</td>\n",
       "      <td>16</td>\n",
       "      <td>16</td>\n",
       "      <td>16</td>\n",
       "    </tr>\n",
       "    <tr>\n",
       "      <th>5</th>\n",
       "      <td>16</td>\n",
       "      <td>81</td>\n",
       "      <td>16</td>\n",
       "      <td>81</td>\n",
       "    </tr>\n",
       "    <tr>\n",
       "      <th>6</th>\n",
       "      <td>25</td>\n",
       "      <td>25</td>\n",
       "      <td>25</td>\n",
       "      <td>25</td>\n",
       "    </tr>\n",
       "    <tr>\n",
       "      <th>7</th>\n",
       "      <td>9</td>\n",
       "      <td>25</td>\n",
       "      <td>9</td>\n",
       "      <td>25</td>\n",
       "    </tr>\n",
       "  </tbody>\n",
       "</table>\n",
       "</div>"
      ],
      "text/plain": [
       "   ConcA  ConcB  min  max\n",
       "0     81     81   81   81\n",
       "1     49     36   36   49\n",
       "2     36     49   36   49\n",
       "3      1     25    1   25\n",
       "4     16     16   16   16\n",
       "5     16     81   16   81\n",
       "6     25     25   25   25\n",
       "7      9     25    9   25"
      ]
     },
     "execution_count": 28,
     "metadata": {},
     "output_type": "execute_result"
    }
   ],
   "source": [
    "print(df2)\n",
    "format = lambda x: x*x\n",
    "df2.applymap(format)"
   ]
  },
  {
   "cell_type": "markdown",
   "id": "01879c87",
   "metadata": {
    "slideshow": {
     "slide_type": "slide"
    }
   },
   "source": [
    "The reason for the name applymap is that Series has a map method for applying an element-wise function:"
   ]
  },
  {
   "cell_type": "code",
   "execution_count": 29,
   "id": "cd4da335",
   "metadata": {},
   "outputs": [
    {
     "data": {
      "text/plain": [
       "0    81\n",
       "1    49\n",
       "2    36\n",
       "3     1\n",
       "4    16\n",
       "5    16\n",
       "6    25\n",
       "7     9\n",
       "Name: ConcA, dtype: int64"
      ]
     },
     "execution_count": 29,
     "metadata": {},
     "output_type": "execute_result"
    }
   ],
   "source": [
    "df2['ConcA'].map(format)"
   ]
  },
  {
   "cell_type": "code",
   "execution_count": 30,
   "id": "f0b6fcc5",
   "metadata": {
    "slideshow": {
     "slide_type": "slide"
    }
   },
   "outputs": [
    {
     "data": {
      "text/html": [
       "<div>\n",
       "<style scoped>\n",
       "    .dataframe tbody tr th:only-of-type {\n",
       "        vertical-align: middle;\n",
       "    }\n",
       "\n",
       "    .dataframe tbody tr th {\n",
       "        vertical-align: top;\n",
       "    }\n",
       "\n",
       "    .dataframe thead th {\n",
       "        text-align: right;\n",
       "    }\n",
       "</style>\n",
       "<table border=\"1\" class=\"dataframe\">\n",
       "  <thead>\n",
       "    <tr style=\"text-align: right;\">\n",
       "      <th></th>\n",
       "      <th>Gender</th>\n",
       "      <th>Smoke</th>\n",
       "      <th>ConcA</th>\n",
       "      <th>ConcB</th>\n",
       "    </tr>\n",
       "  </thead>\n",
       "  <tbody>\n",
       "    <tr>\n",
       "      <th>0</th>\n",
       "      <td>M</td>\n",
       "      <td>Smoker</td>\n",
       "      <td>9</td>\n",
       "      <td>9</td>\n",
       "    </tr>\n",
       "    <tr>\n",
       "      <th>1</th>\n",
       "      <td>F</td>\n",
       "      <td>NonSmoker</td>\n",
       "      <td>7</td>\n",
       "      <td>6</td>\n",
       "    </tr>\n",
       "    <tr>\n",
       "      <th>2</th>\n",
       "      <td>M</td>\n",
       "      <td>NonSmoker</td>\n",
       "      <td>6</td>\n",
       "      <td>7</td>\n",
       "    </tr>\n",
       "    <tr>\n",
       "      <th>3</th>\n",
       "      <td>F</td>\n",
       "      <td>Smoker</td>\n",
       "      <td>1</td>\n",
       "      <td>5</td>\n",
       "    </tr>\n",
       "    <tr>\n",
       "      <th>4</th>\n",
       "      <td>M</td>\n",
       "      <td>Smoker</td>\n",
       "      <td>4</td>\n",
       "      <td>4</td>\n",
       "    </tr>\n",
       "    <tr>\n",
       "      <th>5</th>\n",
       "      <td>F</td>\n",
       "      <td>NonSmoker</td>\n",
       "      <td>4</td>\n",
       "      <td>9</td>\n",
       "    </tr>\n",
       "    <tr>\n",
       "      <th>6</th>\n",
       "      <td>M</td>\n",
       "      <td>NonSmoker</td>\n",
       "      <td>5</td>\n",
       "      <td>5</td>\n",
       "    </tr>\n",
       "    <tr>\n",
       "      <th>7</th>\n",
       "      <td>F</td>\n",
       "      <td>Smoker</td>\n",
       "      <td>3</td>\n",
       "      <td>5</td>\n",
       "    </tr>\n",
       "  </tbody>\n",
       "</table>\n",
       "</div>"
      ],
      "text/plain": [
       "  Gender      Smoke  ConcA  ConcB\n",
       "0      M     Smoker      9      9\n",
       "1      F  NonSmoker      7      6\n",
       "2      M  NonSmoker      6      7\n",
       "3      F     Smoker      1      5\n",
       "4      M     Smoker      4      4\n",
       "5      F  NonSmoker      4      9\n",
       "6      M  NonSmoker      5      5\n",
       "7      F     Smoker      3      5"
      ]
     },
     "execution_count": 30,
     "metadata": {},
     "output_type": "execute_result"
    }
   ],
   "source": [
    "df"
   ]
  },
  {
   "cell_type": "code",
   "execution_count": 31,
   "id": "c80ad8f5",
   "metadata": {
    "slideshow": {
     "slide_type": "slide"
    }
   },
   "outputs": [
    {
     "data": {
      "text/html": [
       "<div>\n",
       "<style scoped>\n",
       "    .dataframe tbody tr th:only-of-type {\n",
       "        vertical-align: middle;\n",
       "    }\n",
       "\n",
       "    .dataframe tbody tr th {\n",
       "        vertical-align: top;\n",
       "    }\n",
       "\n",
       "    .dataframe thead th {\n",
       "        text-align: right;\n",
       "    }\n",
       "</style>\n",
       "<table border=\"1\" class=\"dataframe\">\n",
       "  <thead>\n",
       "    <tr style=\"text-align: right;\">\n",
       "      <th></th>\n",
       "      <th>Gender</th>\n",
       "      <th>Smoke</th>\n",
       "      <th>ConcA</th>\n",
       "      <th>ConcB</th>\n",
       "      <th>Gender2</th>\n",
       "    </tr>\n",
       "  </thead>\n",
       "  <tbody>\n",
       "    <tr>\n",
       "      <th>0</th>\n",
       "      <td>M</td>\n",
       "      <td>Smoker</td>\n",
       "      <td>9</td>\n",
       "      <td>9</td>\n",
       "      <td>Male</td>\n",
       "    </tr>\n",
       "    <tr>\n",
       "      <th>1</th>\n",
       "      <td>F</td>\n",
       "      <td>NonSmoker</td>\n",
       "      <td>7</td>\n",
       "      <td>6</td>\n",
       "      <td>Female</td>\n",
       "    </tr>\n",
       "    <tr>\n",
       "      <th>2</th>\n",
       "      <td>M</td>\n",
       "      <td>NonSmoker</td>\n",
       "      <td>6</td>\n",
       "      <td>7</td>\n",
       "      <td>Male</td>\n",
       "    </tr>\n",
       "    <tr>\n",
       "      <th>3</th>\n",
       "      <td>F</td>\n",
       "      <td>Smoker</td>\n",
       "      <td>1</td>\n",
       "      <td>5</td>\n",
       "      <td>Female</td>\n",
       "    </tr>\n",
       "    <tr>\n",
       "      <th>4</th>\n",
       "      <td>M</td>\n",
       "      <td>Smoker</td>\n",
       "      <td>4</td>\n",
       "      <td>4</td>\n",
       "      <td>Male</td>\n",
       "    </tr>\n",
       "    <tr>\n",
       "      <th>5</th>\n",
       "      <td>F</td>\n",
       "      <td>NonSmoker</td>\n",
       "      <td>4</td>\n",
       "      <td>9</td>\n",
       "      <td>Female</td>\n",
       "    </tr>\n",
       "    <tr>\n",
       "      <th>6</th>\n",
       "      <td>M</td>\n",
       "      <td>NonSmoker</td>\n",
       "      <td>5</td>\n",
       "      <td>5</td>\n",
       "      <td>Male</td>\n",
       "    </tr>\n",
       "    <tr>\n",
       "      <th>7</th>\n",
       "      <td>F</td>\n",
       "      <td>Smoker</td>\n",
       "      <td>3</td>\n",
       "      <td>5</td>\n",
       "      <td>Female</td>\n",
       "    </tr>\n",
       "  </tbody>\n",
       "</table>\n",
       "</div>"
      ],
      "text/plain": [
       "  Gender      Smoke  ConcA  ConcB Gender2\n",
       "0      M     Smoker      9      9    Male\n",
       "1      F  NonSmoker      7      6  Female\n",
       "2      M  NonSmoker      6      7    Male\n",
       "3      F     Smoker      1      5  Female\n",
       "4      M     Smoker      4      4    Male\n",
       "5      F  NonSmoker      4      9  Female\n",
       "6      M  NonSmoker      5      5    Male\n",
       "7      F     Smoker      3      5  Female"
      ]
     },
     "execution_count": 31,
     "metadata": {},
     "output_type": "execute_result"
    }
   ],
   "source": [
    "def fun(x):\n",
    "    if x==\"M\":\n",
    "        return \"Male\"\n",
    "    elif x==\"F\":\n",
    "        return \"Female\"\n",
    "\n",
    "df[\"Gender2\"]=df[\"Gender\"].map(fun)\n",
    "df"
   ]
  },
  {
   "cell_type": "markdown",
   "id": "89ea8a0b",
   "metadata": {
    "slideshow": {
     "slide_type": "slide"
    }
   },
   "source": [
    "## Sorting and Ranking"
   ]
  },
  {
   "cell_type": "code",
   "execution_count": 32,
   "id": "e6a429e9",
   "metadata": {},
   "outputs": [
    {
     "data": {
      "text/plain": [
       "a    1\n",
       "b    2\n",
       "c    3\n",
       "d    0\n",
       "dtype: int64"
      ]
     },
     "execution_count": 32,
     "metadata": {},
     "output_type": "execute_result"
    }
   ],
   "source": [
    "obj = pd.Series(range(4), index=['d', 'a', 'b', 'c'])\n",
    "obj.sort_index()"
   ]
  },
  {
   "cell_type": "code",
   "execution_count": 33,
   "id": "bdcb6ed1",
   "metadata": {},
   "outputs": [
    {
     "data": {
      "text/plain": [
       "d    0\n",
       "c    3\n",
       "b    2\n",
       "a    1\n",
       "dtype: int64"
      ]
     },
     "execution_count": 33,
     "metadata": {},
     "output_type": "execute_result"
    }
   ],
   "source": [
    "obj.sort_index(ascending=False)"
   ]
  },
  {
   "cell_type": "code",
   "execution_count": 34,
   "id": "be444727",
   "metadata": {
    "slideshow": {
     "slide_type": "slide"
    }
   },
   "outputs": [
    {
     "data": {
      "text/plain": [
       "2   -3\n",
       "3    2\n",
       "0    4\n",
       "1    7\n",
       "dtype: int64"
      ]
     },
     "execution_count": 34,
     "metadata": {},
     "output_type": "execute_result"
    }
   ],
   "source": [
    "# To sort a Series by its values, use its sort_values method:\n",
    "obj = pd.Series([4, 7, -3, 2])\n",
    "obj.sort_values()"
   ]
  },
  {
   "cell_type": "code",
   "execution_count": 35,
   "id": "f4f0be4e",
   "metadata": {
    "slideshow": {
     "slide_type": "slide"
    }
   },
   "outputs": [
    {
     "data": {
      "text/plain": [
       "4   -3.0\n",
       "5    2.0\n",
       "0    4.0\n",
       "2    7.0\n",
       "1    NaN\n",
       "3    NaN\n",
       "dtype: float64"
      ]
     },
     "execution_count": 35,
     "metadata": {},
     "output_type": "execute_result"
    }
   ],
   "source": [
    "# Any missing values are sorted to the end of the Series by default:\n",
    "obj = pd.Series([4, np.nan, 7, np.nan, -3, 2])\n",
    "obj.sort_values()"
   ]
  },
  {
   "cell_type": "markdown",
   "id": "5d86d305",
   "metadata": {
    "slideshow": {
     "slide_type": "slide"
    }
   },
   "source": [
    "When sorting a DataFrame, you can use the data in one or more columns as the sort\n",
    "keys. To do so, pass one or more column names to the by option of sort_values:"
   ]
  },
  {
   "cell_type": "code",
   "execution_count": 36,
   "id": "d6c88d76",
   "metadata": {},
   "outputs": [
    {
     "data": {
      "text/html": [
       "<div>\n",
       "<style scoped>\n",
       "    .dataframe tbody tr th:only-of-type {\n",
       "        vertical-align: middle;\n",
       "    }\n",
       "\n",
       "    .dataframe tbody tr th {\n",
       "        vertical-align: top;\n",
       "    }\n",
       "\n",
       "    .dataframe thead th {\n",
       "        text-align: right;\n",
       "    }\n",
       "</style>\n",
       "<table border=\"1\" class=\"dataframe\">\n",
       "  <thead>\n",
       "    <tr style=\"text-align: right;\">\n",
       "      <th></th>\n",
       "      <th>b</th>\n",
       "      <th>a</th>\n",
       "    </tr>\n",
       "  </thead>\n",
       "  <tbody>\n",
       "    <tr>\n",
       "      <th>0</th>\n",
       "      <td>4</td>\n",
       "      <td>0</td>\n",
       "    </tr>\n",
       "    <tr>\n",
       "      <th>1</th>\n",
       "      <td>7</td>\n",
       "      <td>1</td>\n",
       "    </tr>\n",
       "    <tr>\n",
       "      <th>2</th>\n",
       "      <td>-3</td>\n",
       "      <td>0</td>\n",
       "    </tr>\n",
       "    <tr>\n",
       "      <th>3</th>\n",
       "      <td>2</td>\n",
       "      <td>1</td>\n",
       "    </tr>\n",
       "  </tbody>\n",
       "</table>\n",
       "</div>"
      ],
      "text/plain": [
       "   b  a\n",
       "0  4  0\n",
       "1  7  1\n",
       "2 -3  0\n",
       "3  2  1"
      ]
     },
     "execution_count": 36,
     "metadata": {},
     "output_type": "execute_result"
    }
   ],
   "source": [
    "frame = pd.DataFrame({'b': [4, 7, -3, 2], 'a': [0, 1, 0, 1]})\n",
    "frame"
   ]
  },
  {
   "cell_type": "code",
   "execution_count": 37,
   "id": "ed7921ec",
   "metadata": {
    "slideshow": {
     "slide_type": "slide"
    }
   },
   "outputs": [
    {
     "data": {
      "text/html": [
       "<div>\n",
       "<style scoped>\n",
       "    .dataframe tbody tr th:only-of-type {\n",
       "        vertical-align: middle;\n",
       "    }\n",
       "\n",
       "    .dataframe tbody tr th {\n",
       "        vertical-align: top;\n",
       "    }\n",
       "\n",
       "    .dataframe thead th {\n",
       "        text-align: right;\n",
       "    }\n",
       "</style>\n",
       "<table border=\"1\" class=\"dataframe\">\n",
       "  <thead>\n",
       "    <tr style=\"text-align: right;\">\n",
       "      <th></th>\n",
       "      <th>b</th>\n",
       "      <th>a</th>\n",
       "    </tr>\n",
       "  </thead>\n",
       "  <tbody>\n",
       "    <tr>\n",
       "      <th>2</th>\n",
       "      <td>-3</td>\n",
       "      <td>0</td>\n",
       "    </tr>\n",
       "    <tr>\n",
       "      <th>3</th>\n",
       "      <td>2</td>\n",
       "      <td>1</td>\n",
       "    </tr>\n",
       "    <tr>\n",
       "      <th>0</th>\n",
       "      <td>4</td>\n",
       "      <td>0</td>\n",
       "    </tr>\n",
       "    <tr>\n",
       "      <th>1</th>\n",
       "      <td>7</td>\n",
       "      <td>1</td>\n",
       "    </tr>\n",
       "  </tbody>\n",
       "</table>\n",
       "</div>"
      ],
      "text/plain": [
       "   b  a\n",
       "2 -3  0\n",
       "3  2  1\n",
       "0  4  0\n",
       "1  7  1"
      ]
     },
     "execution_count": 37,
     "metadata": {},
     "output_type": "execute_result"
    }
   ],
   "source": [
    "frame.sort_values(by='b')"
   ]
  },
  {
   "cell_type": "markdown",
   "id": "1be0936a",
   "metadata": {
    "slideshow": {
     "slide_type": "slide"
    }
   },
   "source": [
    "Ranking assigns ranks from one through the number of valid data points in an array.\n",
    "The rank methods for Series and DataFrame are the place to look; by default rank\n",
    "breaks ties by assigning each group the mean rank:"
   ]
  },
  {
   "cell_type": "code",
   "execution_count": 38,
   "id": "cffe8d85",
   "metadata": {},
   "outputs": [
    {
     "name": "stdout",
     "output_type": "stream",
     "text": [
      "0    6.5\n",
      "1    1.0\n",
      "2    6.5\n",
      "3    4.5\n",
      "4    3.0\n",
      "5    2.0\n",
      "6    4.5\n",
      "dtype: float64\n"
     ]
    },
    {
     "data": {
      "text/plain": [
       "0    6.0\n",
       "1    1.0\n",
       "2    7.0\n",
       "3    4.0\n",
       "4    3.0\n",
       "5    2.0\n",
       "6    5.0\n",
       "dtype: float64"
      ]
     },
     "execution_count": 38,
     "metadata": {},
     "output_type": "execute_result"
    }
   ],
   "source": [
    "obj = pd.Series([7, -5, 7, 4, 2, 0, 4])\n",
    "print(obj.rank())\n",
    "\n",
    "obj.rank(method=\"first\")"
   ]
  },
  {
   "cell_type": "code",
   "execution_count": 39,
   "id": "e57e8c5a",
   "metadata": {
    "slideshow": {
     "slide_type": "slide"
    }
   },
   "outputs": [],
   "source": [
    "#read_table\n",
    "#read_excel\n",
    "#read_html\n",
    "#read_clipboard"
   ]
  },
  {
   "cell_type": "code",
   "execution_count": 40,
   "id": "0e008b7a",
   "metadata": {},
   "outputs": [
    {
     "data": {
      "text/html": [
       "<div>\n",
       "<style scoped>\n",
       "    .dataframe tbody tr th:only-of-type {\n",
       "        vertical-align: middle;\n",
       "    }\n",
       "\n",
       "    .dataframe tbody tr th {\n",
       "        vertical-align: top;\n",
       "    }\n",
       "\n",
       "    .dataframe thead th {\n",
       "        text-align: right;\n",
       "    }\n",
       "</style>\n",
       "<table border=\"1\" class=\"dataframe\">\n",
       "  <thead>\n",
       "    <tr style=\"text-align: right;\">\n",
       "      <th></th>\n",
       "      <th></th>\n",
       "      <th></th>\n",
       "      <th>0</th>\n",
       "      <th>0.5</th>\n",
       "      <th>1</th>\n",
       "      <th>1.25</th>\n",
       "      <th>1.5</th>\n",
       "      <th>1.75</th>\n",
       "      <th>2</th>\n",
       "      <th>2.25</th>\n",
       "      <th>2.5</th>\n",
       "      <th>2.75</th>\n",
       "      <th>3</th>\n",
       "      <th>3.5</th>\n",
       "      <th>4</th>\n",
       "      <th>6</th>\n",
       "      <th>8</th>\n",
       "      <th>12</th>\n",
       "    </tr>\n",
       "    <tr>\n",
       "      <th>Subject</th>\n",
       "      <th>Formulation</th>\n",
       "      <th>Period</th>\n",
       "      <th></th>\n",
       "      <th></th>\n",
       "      <th></th>\n",
       "      <th></th>\n",
       "      <th></th>\n",
       "      <th></th>\n",
       "      <th></th>\n",
       "      <th></th>\n",
       "      <th></th>\n",
       "      <th></th>\n",
       "      <th></th>\n",
       "      <th></th>\n",
       "      <th></th>\n",
       "      <th></th>\n",
       "      <th></th>\n",
       "      <th></th>\n",
       "    </tr>\n",
       "  </thead>\n",
       "  <tbody>\n",
       "    <tr>\n",
       "      <th>1</th>\n",
       "      <th>Test</th>\n",
       "      <th>2</th>\n",
       "      <td>0</td>\n",
       "      <td>1.652340</td>\n",
       "      <td>2.384981</td>\n",
       "      <td>3.780645</td>\n",
       "      <td>5.517781</td>\n",
       "      <td>8.609406</td>\n",
       "      <td>10.422649</td>\n",
       "      <td>9.787805</td>\n",
       "      <td>8.806071</td>\n",
       "      <td>7.563232</td>\n",
       "      <td>6.414091</td>\n",
       "      <td>5.938373</td>\n",
       "      <td>4.282872</td>\n",
       "      <td>2.454816</td>\n",
       "      <td>0.934545</td>\n",
       "      <td>0.326262</td>\n",
       "    </tr>\n",
       "    <tr>\n",
       "      <th>2</th>\n",
       "      <th>Test</th>\n",
       "      <th>1</th>\n",
       "      <td>0</td>\n",
       "      <td>1.032693</td>\n",
       "      <td>2.219324</td>\n",
       "      <td>3.818052</td>\n",
       "      <td>4.937696</td>\n",
       "      <td>6.574222</td>\n",
       "      <td>5.941353</td>\n",
       "      <td>5.240379</td>\n",
       "      <td>4.971180</td>\n",
       "      <td>4.342627</td>\n",
       "      <td>4.127262</td>\n",
       "      <td>3.416272</td>\n",
       "      <td>2.817170</td>\n",
       "      <td>1.180448</td>\n",
       "      <td>0.767159</td>\n",
       "      <td>0.321333</td>\n",
       "    </tr>\n",
       "    <tr>\n",
       "      <th>3</th>\n",
       "      <th>Test</th>\n",
       "      <th>2</th>\n",
       "      <td>0</td>\n",
       "      <td>1.130816</td>\n",
       "      <td>1.415226</td>\n",
       "      <td>2.168639</td>\n",
       "      <td>3.389043</td>\n",
       "      <td>8.016167</td>\n",
       "      <td>7.603657</td>\n",
       "      <td>6.541776</td>\n",
       "      <td>5.921493</td>\n",
       "      <td>4.971069</td>\n",
       "      <td>4.231900</td>\n",
       "      <td>4.083737</td>\n",
       "      <td>3.928272</td>\n",
       "      <td>1.840186</td>\n",
       "      <td>0.935474</td>\n",
       "      <td>0.388844</td>\n",
       "    </tr>\n",
       "    <tr>\n",
       "      <th>4</th>\n",
       "      <th>Test</th>\n",
       "      <th>1</th>\n",
       "      <td>0</td>\n",
       "      <td>1.229355</td>\n",
       "      <td>1.898862</td>\n",
       "      <td>2.262202</td>\n",
       "      <td>3.332999</td>\n",
       "      <td>4.108077</td>\n",
       "      <td>5.536978</td>\n",
       "      <td>6.119145</td>\n",
       "      <td>5.681547</td>\n",
       "      <td>4.758395</td>\n",
       "      <td>4.324526</td>\n",
       "      <td>3.922720</td>\n",
       "      <td>2.846464</td>\n",
       "      <td>1.029106</td>\n",
       "      <td>0.567226</td>\n",
       "      <td>0.099486</td>\n",
       "    </tr>\n",
       "    <tr>\n",
       "      <th>5</th>\n",
       "      <th>Test</th>\n",
       "      <th>1</th>\n",
       "      <td>0</td>\n",
       "      <td>1.046983</td>\n",
       "      <td>1.293995</td>\n",
       "      <td>1.855862</td>\n",
       "      <td>2.957138</td>\n",
       "      <td>4.530976</td>\n",
       "      <td>5.549441</td>\n",
       "      <td>7.880192</td>\n",
       "      <td>6.922572</td>\n",
       "      <td>5.866582</td>\n",
       "      <td>4.937360</td>\n",
       "      <td>4.782726</td>\n",
       "      <td>3.292800</td>\n",
       "      <td>1.148182</td>\n",
       "      <td>0.746206</td>\n",
       "      <td>0.317039</td>\n",
       "    </tr>\n",
       "  </tbody>\n",
       "</table>\n",
       "</div>"
      ],
      "text/plain": [
       "                            0       0.5         1      1.25       1.5  \\\n",
       "Subject Formulation Period                                              \n",
       "1       Test        2       0  1.652340  2.384981  3.780645  5.517781   \n",
       "2       Test        1       0  1.032693  2.219324  3.818052  4.937696   \n",
       "3       Test        2       0  1.130816  1.415226  2.168639  3.389043   \n",
       "4       Test        1       0  1.229355  1.898862  2.262202  3.332999   \n",
       "5       Test        1       0  1.046983  1.293995  1.855862  2.957138   \n",
       "\n",
       "                                1.75          2      2.25       2.5      2.75  \\\n",
       "Subject Formulation Period                                                      \n",
       "1       Test        2       8.609406  10.422649  9.787805  8.806071  7.563232   \n",
       "2       Test        1       6.574222   5.941353  5.240379  4.971180  4.342627   \n",
       "3       Test        2       8.016167   7.603657  6.541776  5.921493  4.971069   \n",
       "4       Test        1       4.108077   5.536978  6.119145  5.681547  4.758395   \n",
       "5       Test        1       4.530976   5.549441  7.880192  6.922572  5.866582   \n",
       "\n",
       "                                   3       3.5         4         6         8  \\\n",
       "Subject Formulation Period                                                     \n",
       "1       Test        2       6.414091  5.938373  4.282872  2.454816  0.934545   \n",
       "2       Test        1       4.127262  3.416272  2.817170  1.180448  0.767159   \n",
       "3       Test        2       4.231900  4.083737  3.928272  1.840186  0.935474   \n",
       "4       Test        1       4.324526  3.922720  2.846464  1.029106  0.567226   \n",
       "5       Test        1       4.937360  4.782726  3.292800  1.148182  0.746206   \n",
       "\n",
       "                                  12  \n",
       "Subject Formulation Period            \n",
       "1       Test        2       0.326262  \n",
       "2       Test        1       0.321333  \n",
       "3       Test        2       0.388844  \n",
       "4       Test        1       0.099486  \n",
       "5       Test        1       0.317039  "
      ]
     },
     "execution_count": 40,
     "metadata": {},
     "output_type": "execute_result"
    }
   ],
   "source": [
    "data=pd.read_csv(\"amoxilin.csv\",index_col=[\"Subject\",\"Formulation\",\"Period\"])\n",
    "data.head()"
   ]
  },
  {
   "cell_type": "code",
   "execution_count": 41,
   "id": "ee98c0e7",
   "metadata": {
    "slideshow": {
     "slide_type": "slide"
    }
   },
   "outputs": [
    {
     "data": {
      "text/html": [
       "<div>\n",
       "<style scoped>\n",
       "    .dataframe tbody tr th:only-of-type {\n",
       "        vertical-align: middle;\n",
       "    }\n",
       "\n",
       "    .dataframe tbody tr th {\n",
       "        vertical-align: top;\n",
       "    }\n",
       "\n",
       "    .dataframe thead tr th {\n",
       "        text-align: left;\n",
       "    }\n",
       "\n",
       "    .dataframe thead tr:last-of-type th {\n",
       "        text-align: right;\n",
       "    }\n",
       "</style>\n",
       "<table border=\"1\" class=\"dataframe\">\n",
       "  <thead>\n",
       "    <tr>\n",
       "      <th></th>\n",
       "      <th colspan=\"8\" halign=\"left\">0</th>\n",
       "      <th colspan=\"2\" halign=\"left\">0.5</th>\n",
       "      <th>...</th>\n",
       "      <th colspan=\"2\" halign=\"left\">8</th>\n",
       "      <th colspan=\"8\" halign=\"left\">12</th>\n",
       "    </tr>\n",
       "    <tr>\n",
       "      <th></th>\n",
       "      <th>count</th>\n",
       "      <th>mean</th>\n",
       "      <th>std</th>\n",
       "      <th>min</th>\n",
       "      <th>25%</th>\n",
       "      <th>50%</th>\n",
       "      <th>75%</th>\n",
       "      <th>max</th>\n",
       "      <th>count</th>\n",
       "      <th>mean</th>\n",
       "      <th>...</th>\n",
       "      <th>75%</th>\n",
       "      <th>max</th>\n",
       "      <th>count</th>\n",
       "      <th>mean</th>\n",
       "      <th>std</th>\n",
       "      <th>min</th>\n",
       "      <th>25%</th>\n",
       "      <th>50%</th>\n",
       "      <th>75%</th>\n",
       "      <th>max</th>\n",
       "    </tr>\n",
       "    <tr>\n",
       "      <th>Formulation</th>\n",
       "      <th></th>\n",
       "      <th></th>\n",
       "      <th></th>\n",
       "      <th></th>\n",
       "      <th></th>\n",
       "      <th></th>\n",
       "      <th></th>\n",
       "      <th></th>\n",
       "      <th></th>\n",
       "      <th></th>\n",
       "      <th></th>\n",
       "      <th></th>\n",
       "      <th></th>\n",
       "      <th></th>\n",
       "      <th></th>\n",
       "      <th></th>\n",
       "      <th></th>\n",
       "      <th></th>\n",
       "      <th></th>\n",
       "      <th></th>\n",
       "      <th></th>\n",
       "    </tr>\n",
       "  </thead>\n",
       "  <tbody>\n",
       "    <tr>\n",
       "      <th>Reference</th>\n",
       "      <td>24.0</td>\n",
       "      <td>0.0</td>\n",
       "      <td>0.0</td>\n",
       "      <td>0.0</td>\n",
       "      <td>0.0</td>\n",
       "      <td>0.0</td>\n",
       "      <td>0.0</td>\n",
       "      <td>0.0</td>\n",
       "      <td>24.0</td>\n",
       "      <td>1.241500</td>\n",
       "      <td>...</td>\n",
       "      <td>0.684149</td>\n",
       "      <td>0.938374</td>\n",
       "      <td>24.0</td>\n",
       "      <td>0.356448</td>\n",
       "      <td>0.105865</td>\n",
       "      <td>0.160540</td>\n",
       "      <td>0.309167</td>\n",
       "      <td>0.374830</td>\n",
       "      <td>0.443127</td>\n",
       "      <td>0.498490</td>\n",
       "    </tr>\n",
       "    <tr>\n",
       "      <th>Test</th>\n",
       "      <td>24.0</td>\n",
       "      <td>0.0</td>\n",
       "      <td>0.0</td>\n",
       "      <td>0.0</td>\n",
       "      <td>0.0</td>\n",
       "      <td>0.0</td>\n",
       "      <td>0.0</td>\n",
       "      <td>0.0</td>\n",
       "      <td>24.0</td>\n",
       "      <td>1.316725</td>\n",
       "      <td>...</td>\n",
       "      <td>0.872124</td>\n",
       "      <td>1.219540</td>\n",
       "      <td>24.0</td>\n",
       "      <td>0.347237</td>\n",
       "      <td>0.090505</td>\n",
       "      <td>0.099486</td>\n",
       "      <td>0.313426</td>\n",
       "      <td>0.350175</td>\n",
       "      <td>0.419544</td>\n",
       "      <td>0.461331</td>\n",
       "    </tr>\n",
       "  </tbody>\n",
       "</table>\n",
       "<p>2 rows × 128 columns</p>\n",
       "</div>"
      ],
      "text/plain": [
       "                0                                      0.5            ...  \\\n",
       "            count mean  std  min  25%  50%  75%  max count      mean  ...   \n",
       "Formulation                                                           ...   \n",
       "Reference    24.0  0.0  0.0  0.0  0.0  0.0  0.0  0.0  24.0  1.241500  ...   \n",
       "Test         24.0  0.0  0.0  0.0  0.0  0.0  0.0  0.0  24.0  1.316725  ...   \n",
       "\n",
       "                    8              12                                          \\\n",
       "                  75%       max count      mean       std       min       25%   \n",
       "Formulation                                                                     \n",
       "Reference    0.684149  0.938374  24.0  0.356448  0.105865  0.160540  0.309167   \n",
       "Test         0.872124  1.219540  24.0  0.347237  0.090505  0.099486  0.313426   \n",
       "\n",
       "                                           \n",
       "                  50%       75%       max  \n",
       "Formulation                                \n",
       "Reference    0.374830  0.443127  0.498490  \n",
       "Test         0.350175  0.419544  0.461331  \n",
       "\n",
       "[2 rows x 128 columns]"
      ]
     },
     "execution_count": 41,
     "metadata": {},
     "output_type": "execute_result"
    }
   ],
   "source": [
    "data.groupby([\"Formulation\"]).describe()"
   ]
  },
  {
   "cell_type": "code",
   "execution_count": 42,
   "id": "2adc2b61",
   "metadata": {
    "scrolled": true,
    "slideshow": {
     "slide_type": "slide"
    }
   },
   "outputs": [
    {
     "data": {
      "text/html": [
       "<div>\n",
       "<style scoped>\n",
       "    .dataframe tbody tr th:only-of-type {\n",
       "        vertical-align: middle;\n",
       "    }\n",
       "\n",
       "    .dataframe tbody tr th {\n",
       "        vertical-align: top;\n",
       "    }\n",
       "\n",
       "    .dataframe thead th {\n",
       "        text-align: right;\n",
       "    }\n",
       "</style>\n",
       "<table border=\"1\" class=\"dataframe\">\n",
       "  <thead>\n",
       "    <tr style=\"text-align: right;\">\n",
       "      <th></th>\n",
       "      <th></th>\n",
       "      <th></th>\n",
       "      <th>1.25</th>\n",
       "      <th>1.5</th>\n",
       "      <th>1.75</th>\n",
       "      <th>2</th>\n",
       "      <th>2.25</th>\n",
       "      <th>2.5</th>\n",
       "      <th>2.75</th>\n",
       "      <th>3</th>\n",
       "      <th>3.5</th>\n",
       "      <th>4</th>\n",
       "      <th>6</th>\n",
       "      <th>8</th>\n",
       "      <th>12</th>\n",
       "    </tr>\n",
       "    <tr>\n",
       "      <th>Subject</th>\n",
       "      <th>Formulation</th>\n",
       "      <th>Period</th>\n",
       "      <th></th>\n",
       "      <th></th>\n",
       "      <th></th>\n",
       "      <th></th>\n",
       "      <th></th>\n",
       "      <th></th>\n",
       "      <th></th>\n",
       "      <th></th>\n",
       "      <th></th>\n",
       "      <th></th>\n",
       "      <th></th>\n",
       "      <th></th>\n",
       "      <th></th>\n",
       "    </tr>\n",
       "  </thead>\n",
       "  <tbody>\n",
       "    <tr>\n",
       "      <th>1</th>\n",
       "      <th>Test</th>\n",
       "      <th>2</th>\n",
       "      <td>3.780645</td>\n",
       "      <td>5.517781</td>\n",
       "      <td>8.609406</td>\n",
       "      <td>10.422649</td>\n",
       "      <td>9.787805</td>\n",
       "      <td>8.806071</td>\n",
       "      <td>7.563232</td>\n",
       "      <td>6.414091</td>\n",
       "      <td>5.938373</td>\n",
       "      <td>4.282872</td>\n",
       "      <td>2.454816</td>\n",
       "      <td>0.934545</td>\n",
       "      <td>0.326262</td>\n",
       "    </tr>\n",
       "    <tr>\n",
       "      <th>2</th>\n",
       "      <th>Test</th>\n",
       "      <th>1</th>\n",
       "      <td>3.818052</td>\n",
       "      <td>4.937696</td>\n",
       "      <td>6.574222</td>\n",
       "      <td>5.941353</td>\n",
       "      <td>5.240379</td>\n",
       "      <td>4.971180</td>\n",
       "      <td>4.342627</td>\n",
       "      <td>4.127262</td>\n",
       "      <td>3.416272</td>\n",
       "      <td>2.817170</td>\n",
       "      <td>1.180448</td>\n",
       "      <td>0.767159</td>\n",
       "      <td>0.321333</td>\n",
       "    </tr>\n",
       "    <tr>\n",
       "      <th>3</th>\n",
       "      <th>Test</th>\n",
       "      <th>2</th>\n",
       "      <td>2.168639</td>\n",
       "      <td>3.389043</td>\n",
       "      <td>8.016167</td>\n",
       "      <td>7.603657</td>\n",
       "      <td>6.541776</td>\n",
       "      <td>5.921493</td>\n",
       "      <td>4.971069</td>\n",
       "      <td>4.231900</td>\n",
       "      <td>4.083737</td>\n",
       "      <td>3.928272</td>\n",
       "      <td>1.840186</td>\n",
       "      <td>0.935474</td>\n",
       "      <td>0.388844</td>\n",
       "    </tr>\n",
       "    <tr>\n",
       "      <th>4</th>\n",
       "      <th>Test</th>\n",
       "      <th>1</th>\n",
       "      <td>2.262202</td>\n",
       "      <td>3.332999</td>\n",
       "      <td>4.108077</td>\n",
       "      <td>5.536978</td>\n",
       "      <td>6.119145</td>\n",
       "      <td>5.681547</td>\n",
       "      <td>4.758395</td>\n",
       "      <td>4.324526</td>\n",
       "      <td>3.922720</td>\n",
       "      <td>2.846464</td>\n",
       "      <td>1.029106</td>\n",
       "      <td>0.567226</td>\n",
       "      <td>0.099486</td>\n",
       "    </tr>\n",
       "    <tr>\n",
       "      <th>5</th>\n",
       "      <th>Test</th>\n",
       "      <th>1</th>\n",
       "      <td>1.855862</td>\n",
       "      <td>2.957138</td>\n",
       "      <td>4.530976</td>\n",
       "      <td>5.549441</td>\n",
       "      <td>7.880192</td>\n",
       "      <td>6.922572</td>\n",
       "      <td>5.866582</td>\n",
       "      <td>4.937360</td>\n",
       "      <td>4.782726</td>\n",
       "      <td>3.292800</td>\n",
       "      <td>1.148182</td>\n",
       "      <td>0.746206</td>\n",
       "      <td>0.317039</td>\n",
       "    </tr>\n",
       "  </tbody>\n",
       "</table>\n",
       "</div>"
      ],
      "text/plain": [
       "                                1.25       1.5      1.75          2      2.25  \\\n",
       "Subject Formulation Period                                                      \n",
       "1       Test        2       3.780645  5.517781  8.609406  10.422649  9.787805   \n",
       "2       Test        1       3.818052  4.937696  6.574222   5.941353  5.240379   \n",
       "3       Test        2       2.168639  3.389043  8.016167   7.603657  6.541776   \n",
       "4       Test        1       2.262202  3.332999  4.108077   5.536978  6.119145   \n",
       "5       Test        1       1.855862  2.957138  4.530976   5.549441  7.880192   \n",
       "\n",
       "                                 2.5      2.75         3       3.5         4  \\\n",
       "Subject Formulation Period                                                     \n",
       "1       Test        2       8.806071  7.563232  6.414091  5.938373  4.282872   \n",
       "2       Test        1       4.971180  4.342627  4.127262  3.416272  2.817170   \n",
       "3       Test        2       5.921493  4.971069  4.231900  4.083737  3.928272   \n",
       "4       Test        1       5.681547  4.758395  4.324526  3.922720  2.846464   \n",
       "5       Test        1       6.922572  5.866582  4.937360  4.782726  3.292800   \n",
       "\n",
       "                                   6         8        12  \n",
       "Subject Formulation Period                                \n",
       "1       Test        2       2.454816  0.934545  0.326262  \n",
       "2       Test        1       1.180448  0.767159  0.321333  \n",
       "3       Test        2       1.840186  0.935474  0.388844  \n",
       "4       Test        1       1.029106  0.567226  0.099486  \n",
       "5       Test        1       1.148182  0.746206  0.317039  "
      ]
     },
     "execution_count": 42,
     "metadata": {},
     "output_type": "execute_result"
    }
   ],
   "source": [
    "main_data=data.iloc[:,3:]\n",
    "main_data.head()"
   ]
  },
  {
   "cell_type": "code",
   "execution_count": 43,
   "id": "c19d7b16",
   "metadata": {},
   "outputs": [
    {
     "data": {
      "text/html": [
       "<div>\n",
       "<style scoped>\n",
       "    .dataframe tbody tr th:only-of-type {\n",
       "        vertical-align: middle;\n",
       "    }\n",
       "\n",
       "    .dataframe tbody tr th {\n",
       "        vertical-align: top;\n",
       "    }\n",
       "\n",
       "    .dataframe thead th {\n",
       "        text-align: right;\n",
       "    }\n",
       "</style>\n",
       "<table border=\"1\" class=\"dataframe\">\n",
       "  <thead>\n",
       "    <tr style=\"text-align: right;\">\n",
       "      <th></th>\n",
       "      <th>0</th>\n",
       "      <th>0.5</th>\n",
       "      <th>1</th>\n",
       "      <th>1.25</th>\n",
       "      <th>1.5</th>\n",
       "      <th>1.75</th>\n",
       "      <th>2</th>\n",
       "      <th>2.25</th>\n",
       "      <th>2.5</th>\n",
       "      <th>2.75</th>\n",
       "      <th>3</th>\n",
       "      <th>3.5</th>\n",
       "      <th>4</th>\n",
       "      <th>6</th>\n",
       "      <th>8</th>\n",
       "      <th>12</th>\n",
       "    </tr>\n",
       "    <tr>\n",
       "      <th>Formulation</th>\n",
       "      <th></th>\n",
       "      <th></th>\n",
       "      <th></th>\n",
       "      <th></th>\n",
       "      <th></th>\n",
       "      <th></th>\n",
       "      <th></th>\n",
       "      <th></th>\n",
       "      <th></th>\n",
       "      <th></th>\n",
       "      <th></th>\n",
       "      <th></th>\n",
       "      <th></th>\n",
       "      <th></th>\n",
       "      <th></th>\n",
       "      <th></th>\n",
       "    </tr>\n",
       "  </thead>\n",
       "  <tbody>\n",
       "    <tr>\n",
       "      <th>Reference</th>\n",
       "      <td>0</td>\n",
       "      <td>29.795998</td>\n",
       "      <td>48.672211</td>\n",
       "      <td>87.977392</td>\n",
       "      <td>126.783563</td>\n",
       "      <td>179.029966</td>\n",
       "      <td>190.333691</td>\n",
       "      <td>184.345526</td>\n",
       "      <td>162.896651</td>\n",
       "      <td>134.381823</td>\n",
       "      <td>113.972737</td>\n",
       "      <td>85.546614</td>\n",
       "      <td>57.313847</td>\n",
       "      <td>36.567321</td>\n",
       "      <td>15.210274</td>\n",
       "      <td>8.554752</td>\n",
       "    </tr>\n",
       "    <tr>\n",
       "      <th>Test</th>\n",
       "      <td>0</td>\n",
       "      <td>31.601392</td>\n",
       "      <td>49.328627</td>\n",
       "      <td>82.463286</td>\n",
       "      <td>116.819604</td>\n",
       "      <td>172.045692</td>\n",
       "      <td>188.812701</td>\n",
       "      <td>188.371677</td>\n",
       "      <td>166.061388</td>\n",
       "      <td>142.997582</td>\n",
       "      <td>122.860086</td>\n",
       "      <td>101.249919</td>\n",
       "      <td>71.298693</td>\n",
       "      <td>39.458624</td>\n",
       "      <td>18.670780</td>\n",
       "      <td>8.333683</td>\n",
       "    </tr>\n",
       "  </tbody>\n",
       "</table>\n",
       "</div>"
      ],
      "text/plain": [
       "             0        0.5          1       1.25         1.5        1.75  \\\n",
       "Formulation                                                               \n",
       "Reference    0  29.795998  48.672211  87.977392  126.783563  179.029966   \n",
       "Test         0  31.601392  49.328627  82.463286  116.819604  172.045692   \n",
       "\n",
       "                      2        2.25         2.5        2.75           3  \\\n",
       "Formulation                                                               \n",
       "Reference    190.333691  184.345526  162.896651  134.381823  113.972737   \n",
       "Test         188.812701  188.371677  166.061388  142.997582  122.860086   \n",
       "\n",
       "                    3.5          4          6          8        12  \n",
       "Formulation                                                         \n",
       "Reference     85.546614  57.313847  36.567321  15.210274  8.554752  \n",
       "Test         101.249919  71.298693  39.458624  18.670780  8.333683  "
      ]
     },
     "execution_count": 43,
     "metadata": {},
     "output_type": "execute_result"
    }
   ],
   "source": [
    "data.groupby(\"Formulation\").sum()"
   ]
  }
 ],
 "metadata": {
  "celltoolbar": "Slideshow",
  "kernelspec": {
   "display_name": "Python 3",
   "language": "python",
   "name": "python3"
  },
  "language_info": {
   "codemirror_mode": {
    "name": "ipython",
    "version": 3
   },
   "file_extension": ".py",
   "mimetype": "text/x-python",
   "name": "python",
   "nbconvert_exporter": "python",
   "pygments_lexer": "ipython3",
   "version": "3.9.5"
  },
  "latex_envs": {
   "LaTeX_envs_menu_present": true,
   "autoclose": false,
   "autocomplete": true,
   "bibliofile": "biblio.bib",
   "cite_by": "apalike",
   "current_citInitial": 1,
   "eqLabelWithNumbers": true,
   "eqNumInitial": 1,
   "hotkeys": {
    "equation": "Ctrl-E",
    "itemize": "Ctrl-I"
   },
   "labels_anchors": false,
   "latex_user_defs": false,
   "report_style_numbering": false,
   "user_envs_cfg": false
  }
 },
 "nbformat": 4,
 "nbformat_minor": 5
}
