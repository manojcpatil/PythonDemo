{
 "cells": [
  {
   "cell_type": "markdown",
   "id": "f0136533",
   "metadata": {
    "slideshow": {
     "slide_type": "slide"
    }
   },
   "source": [
    "# NumPy\n",
    "\n",
    "The NumPy library is the core library for scientific computing in Python. It provides a  high-performance multidimensional array object, and tools for working with these arrays.  \n",
    "\n",
    "Use the following improt convention:  "
   ]
  },
  {
   "cell_type": "code",
   "execution_count": 1,
   "id": "21b6a02b",
   "metadata": {},
   "outputs": [],
   "source": [
    "import numpy as np"
   ]
  },
  {
   "cell_type": "markdown",
   "id": "ff4927e1",
   "metadata": {
    "slideshow": {
     "slide_type": "slide"
    }
   },
   "source": [
    "# Creating Arrays "
   ]
  },
  {
   "cell_type": "code",
   "execution_count": 8,
   "id": "4c4908fc",
   "metadata": {
    "scrolled": true
   },
   "outputs": [
    {
     "data": {
      "text/plain": [
       "(array([1, 2, 3]),\n",
       " array([[1., 2., 3.],\n",
       "        [4., 5., 6.]]),\n",
       " array([[[1., 2., 3.],\n",
       "         [4., 5., 6.]],\n",
       " \n",
       "        [[3., 2., 1.],\n",
       "         [6., 5., 4.]]]))"
      ]
     },
     "execution_count": 8,
     "metadata": {},
     "output_type": "execute_result"
    }
   ],
   "source": [
    "#import numpy as np\n",
    "A1 = np.array([1,2,3])\n",
    "A2 = np.array([(1,2,3),(4,5,6)], dtype = float)\n",
    "A3 = np.array([[(1,2,3),(4,5,6)],[(3,2,1),(6,5,4)]], dtype = float)\n",
    "A1, A2,A3"
   ]
  },
  {
   "cell_type": "markdown",
   "id": "0fb5f012",
   "metadata": {
    "slideshow": {
     "slide_type": "slide"
    }
   },
   "source": [
    "# Initial Placeholders "
   ]
  },
  {
   "cell_type": "code",
   "execution_count": 2,
   "id": "cff20c9e",
   "metadata": {
    "scrolled": true
   },
   "outputs": [
    {
     "name": "stdout",
     "output_type": "stream",
     "text": [
      "[[0. 0. 0. 0.]\n",
      " [0. 0. 0. 0.]\n",
      " [0. 0. 0. 0.]]\n",
      "[[[1. 1. 1. 1.]\n",
      "  [1. 1. 1. 1.]\n",
      "  [1. 1. 1. 1.]]\n",
      "\n",
      " [[1. 1. 1. 1.]\n",
      "  [1. 1. 1. 1.]\n",
      "  [1. 1. 1. 1.]]]\n"
     ]
    }
   ],
   "source": [
    "print(np.zeros((3,4))) # Create an array of zeros\n",
    "print(np.ones((2,3,4))) # Create an array of ones"
   ]
  },
  {
   "cell_type": "code",
   "execution_count": 3,
   "id": "7d670cc7",
   "metadata": {},
   "outputs": [
    {
     "name": "stdout",
     "output_type": "stream",
     "text": [
      "[10 15 20]\n",
      "[ 0.   2.5  5.   7.5 10. ]\n"
     ]
    }
   ],
   "source": [
    "print(np.arange(10,25,5),) # Create an array of evenly spaced values (step value)\n",
    "print(np.linspace(0,10,5))# Create an array of evenlyspaced values (number of samples)"
   ]
  },
  {
   "cell_type": "code",
   "execution_count": 5,
   "id": "7a72e904",
   "metadata": {},
   "outputs": [
    {
     "name": "stdout",
     "output_type": "stream",
     "text": [
      "[[7 7 7]\n",
      " [7 7 7]\n",
      " [7 7 7]]\n",
      "[[1. 0. 0.]\n",
      " [0. 1. 0.]\n",
      " [0. 0. 1.]]\n"
     ]
    }
   ],
   "source": [
    "print(np.full((3,3),7)) # Create a constant array\n",
    "print(np.eye(3)) # Create a 2X2 identity matrix   "
   ]
  },
  {
   "cell_type": "code",
   "execution_count": 6,
   "id": "12770e36",
   "metadata": {
    "slideshow": {
     "slide_type": "subslide"
    }
   },
   "outputs": [
    {
     "name": "stdout",
     "output_type": "stream",
     "text": [
      "[[0.35848997 0.80337367]\n",
      " [0.82457623 0.66551706]]\n",
      "[[0. 0.]\n",
      " [0. 0.]\n",
      " [0. 0.]]\n"
     ]
    }
   ],
   "source": [
    "print(np.random.random((2,2))) # Create an array with random values\n",
    "print(np.empty((3,2))) # Create an empty array"
   ]
  },
  {
   "cell_type": "markdown",
   "id": "8531f123",
   "metadata": {
    "slideshow": {
     "slide_type": "slide"
    }
   },
   "source": [
    "# I/O \n",
    "## Saving & Loading on Disk "
   ]
  },
  {
   "cell_type": "code",
   "execution_count": 9,
   "id": "47120a5a",
   "metadata": {},
   "outputs": [
    {
     "data": {
      "text/plain": [
       "array([[1., 2., 3.],\n",
       "       [4., 5., 6.]])"
      ]
     },
     "execution_count": 9,
     "metadata": {},
     "output_type": "execute_result"
    }
   ],
   "source": [
    "np.save('my_array', A2)\n",
    "np.load('my_array.npy')"
   ]
  },
  {
   "cell_type": "markdown",
   "id": "12eee731",
   "metadata": {
    "slideshow": {
     "slide_type": "slide"
    }
   },
   "source": [
    "## Saving & Loading Text Files "
   ]
  },
  {
   "cell_type": "code",
   "execution_count": 7,
   "id": "882f4223",
   "metadata": {},
   "outputs": [],
   "source": [
    "# np.loadtxt(\"myfile.txt\")\n",
    "# np.genfromtxt(\"my_file.csv\", delimiter= ',')\n",
    "np.savetxt( \"myarray.txt\", A2, delimiter= \",\")"
   ]
  },
  {
   "cell_type": "markdown",
   "id": "cc5be1ab",
   "metadata": {
    "slideshow": {
     "slide_type": "slide"
    }
   },
   "source": [
    "## Inspecting Your Array "
   ]
  },
  {
   "cell_type": "code",
   "execution_count": 10,
   "id": "9eeee39f",
   "metadata": {},
   "outputs": [
    {
     "name": "stdout",
     "output_type": "stream",
     "text": [
      "(3,)\n",
      "3\n",
      "2\n",
      "12\n"
     ]
    }
   ],
   "source": [
    "print(A1.shape) # Array dimensions\n",
    "print(len(A1)) # Length of array\n",
    "print(A2.ndim) # Number of array dimensions\n",
    "print(A3.size) # Number of array elements"
   ]
  },
  {
   "cell_type": "markdown",
   "id": "3f5fc438",
   "metadata": {
    "slideshow": {
     "slide_type": "slide"
    }
   },
   "source": [
    "# Array Mathematics \n",
    "\n",
    "## Arithmetic Operations "
   ]
  },
  {
   "cell_type": "code",
   "execution_count": 12,
   "id": "54c1ea70",
   "metadata": {},
   "outputs": [
    {
     "data": {
      "text/plain": [
       "array([[0, 1, 0],\n",
       "       [1, 2, 1]])"
      ]
     },
     "execution_count": 12,
     "metadata": {},
     "output_type": "execute_result"
    }
   ],
   "source": [
    "A4=np.array([[0,1,0],[1,2,1]])\n",
    "A4"
   ]
  },
  {
   "cell_type": "code",
   "execution_count": 13,
   "id": "6b1b8de7",
   "metadata": {},
   "outputs": [
    {
     "data": {
      "text/plain": [
       "array([1, 2, 3])"
      ]
     },
     "execution_count": 13,
     "metadata": {},
     "output_type": "execute_result"
    }
   ],
   "source": [
    "A1"
   ]
  },
  {
   "cell_type": "code",
   "execution_count": 14,
   "id": "e47111d2",
   "metadata": {},
   "outputs": [
    {
     "name": "stdout",
     "output_type": "stream",
     "text": [
      "[[1 1 3]\n",
      " [0 0 2]]\n",
      "[[1 1 3]\n",
      " [0 0 2]]\n",
      "[[1 3 3]\n",
      " [2 4 4]]\n",
      "[[1 3 3]\n",
      " [2 4 4]]\n",
      "[[inf  2. inf]\n",
      " [ 1.  1.  3.]]\n",
      "[[inf  2. inf]\n",
      " [ 1.  1.  3.]]\n",
      "[[0 2 0]\n",
      " [1 4 3]]\n",
      "[[0 2 0]\n",
      " [1 4 3]]\n"
     ]
    },
    {
     "name": "stderr",
     "output_type": "stream",
     "text": [
      "<ipython-input-14-76f374526454>:7: RuntimeWarning: divide by zero encountered in true_divide\n",
      "  print(A1/A4) # Division\n",
      "<ipython-input-14-76f374526454>:8: RuntimeWarning: divide by zero encountered in true_divide\n",
      "  print(np.divide(A1,A4)) # Division\n"
     ]
    }
   ],
   "source": [
    "print(A1 - A4) # Subtraction\n",
    "print(np.subtract(A1,A4)) # Subtraction\n",
    "\n",
    "print(A1+A4) # Addition \n",
    "print(np.add(A1,A4)) # Addition\n",
    "\n",
    "print(A1/A4) # Division \n",
    "print(np.divide(A1,A4)) # Division \n",
    "\n",
    "print(A1*A4) # Multiplication \n",
    "print(np.multiply(A1,A4)) # Multiplication "
   ]
  },
  {
   "cell_type": "code",
   "execution_count": 15,
   "id": "8541b599",
   "metadata": {
    "slideshow": {
     "slide_type": "slide"
    }
   },
   "outputs": [
    {
     "name": "stdout",
     "output_type": "stream",
     "text": [
      "[ 2.71828183  7.3890561  20.08553692]\n",
      "[1.         1.41421356 1.73205081]\n",
      "[0.84147098 0.90929743 0.14112001]\n",
      "[ 0.54030231 -0.41614684 -0.9899925 ]\n",
      "[0.         0.69314718 1.09861229]\n",
      "[14. 32.]\n"
     ]
    }
   ],
   "source": [
    "print(np.exp(A1)) # Exponentiation\n",
    "\n",
    "print(np.sqrt(A1)) # Square root\n",
    "\n",
    "print(np.sin(A1)) # Print sines of an array\n",
    "\n",
    "print(np.cos(A1)) # Elementwise cosine\n",
    "\n",
    "print(np.log(A1)) # Elementwise natural logarithm\n",
    "\n",
    "print(A2.dot(A1)) # Dot product "
   ]
  },
  {
   "cell_type": "code",
   "execution_count": 18,
   "id": "586fadf4",
   "metadata": {},
   "outputs": [
    {
     "data": {
      "text/plain": [
       "array([14., 32.])"
      ]
     },
     "execution_count": 18,
     "metadata": {},
     "output_type": "execute_result"
    }
   ],
   "source": [
    "A2.dot(A1)"
   ]
  },
  {
   "cell_type": "markdown",
   "id": "3ca32005",
   "metadata": {
    "heading_collapsed": true,
    "slideshow": {
     "slide_type": "slide"
    }
   },
   "source": [
    "# Comparison "
   ]
  },
  {
   "cell_type": "code",
   "execution_count": null,
   "id": "a4b228ac",
   "metadata": {
    "hidden": true
   },
   "outputs": [],
   "source": [
    "print(A1 == A4) # Elementwise comparison\n",
    "print(A1< 2) # Elementwise comparison\n",
    "print(np.array_equal(A1, A4)) # Arraywise comparison"
   ]
  },
  {
   "cell_type": "markdown",
   "id": "cfcb239a",
   "metadata": {
    "slideshow": {
     "slide_type": "slide"
    }
   },
   "source": [
    "# Copying Arrays "
   ]
  },
  {
   "cell_type": "code",
   "execution_count": 44,
   "id": "b18bab05",
   "metadata": {},
   "outputs": [
    {
     "name": "stdout",
     "output_type": "stream",
     "text": [
      "[[1. 2. 3.]\n",
      " [4. 5. 9.]]\n",
      "[[1. 2. 3.]\n",
      " [4. 5. 8.]]\n",
      "[[1. 2. 3.]\n",
      " [4. 5. 9.]]\n",
      "[[1. 2. 3.]\n",
      " [4. 5. 9.]]\n"
     ]
    }
   ],
   "source": [
    "#h = A2.view()# Create a view of the array with the same data\n",
    "#np.copy(A2) # Create a copy of the array\n",
    "print(A2)\n",
    "h = np.copy(A2) # Create a deep copy of the array\n",
    "#import copy\n",
    "t=copy.deepcopy(A2)\n",
    "A2[1][2]=8\n",
    "print(A2)\n",
    "print(h)\n",
    "print(t)"
   ]
  },
  {
   "cell_type": "markdown",
   "id": "c7cf4b78",
   "metadata": {
    "slideshow": {
     "slide_type": "slide"
    }
   },
   "source": [
    "\n",
    "# Sorting Arrays "
   ]
  },
  {
   "cell_type": "code",
   "execution_count": 54,
   "id": "664cb26f",
   "metadata": {},
   "outputs": [
    {
     "data": {
      "text/plain": [
       "array([[1, 3, 9],\n",
       "       [2, 6, 7]])"
      ]
     },
     "execution_count": 54,
     "metadata": {},
     "output_type": "execute_result"
    }
   ],
   "source": [
    "A1=np.array([[1,9,3],[6,7,2]])\n",
    "#A1.sort() # Sort an array\n",
    "A1.sort(axis=1) # Sort the elements of an array's axis\n",
    "A1"
   ]
  },
  {
   "cell_type": "markdown",
   "id": "e39a6f6e",
   "metadata": {
    "slideshow": {
     "slide_type": "slide"
    }
   },
   "source": [
    "# Subsetting, Slicing, Indexing \n",
    "\n",
    "## Subsetting"
   ]
  },
  {
   "cell_type": "code",
   "execution_count": 77,
   "id": "b3b5893c",
   "metadata": {},
   "outputs": [
    {
     "name": "stdout",
     "output_type": "stream",
     "text": [
      "[2 6 7]\n",
      "8.0\n"
     ]
    }
   ],
   "source": [
    "print(A1[1]) # Select the element at the 2nd index\n",
    "\n",
    "print(A2[1,2]) # Select the element at row 1 column 2(equivalent to b[1][2])"
   ]
  },
  {
   "cell_type": "markdown",
   "id": "e29d9cb4",
   "metadata": {
    "slideshow": {
     "slide_type": "slide"
    }
   },
   "source": [
    "## Slicing"
   ]
  },
  {
   "cell_type": "code",
   "execution_count": null,
   "id": "7c5652e9",
   "metadata": {},
   "outputs": [],
   "source": [
    "print(A3[0:2]) # Select items at index 0 and 1\n",
    "\n",
    "print(A3[0:2,1]) # Select items at rows 0 and 1 in column 1\n",
    "\n",
    "print(A4[:1])"
   ]
  },
  {
   "cell_type": "code",
   "execution_count": null,
   "id": "45f9c770",
   "metadata": {},
   "outputs": [],
   "source": [
    "A1[ : : -1] # Reversed array A1 array([3, 2, 1])"
   ]
  },
  {
   "cell_type": "markdown",
   "id": "f27810c0",
   "metadata": {
    "slideshow": {
     "slide_type": "slide"
    }
   },
   "source": [
    "## Boolean Indexing "
   ]
  },
  {
   "cell_type": "code",
   "execution_count": 58,
   "id": "3ed467d3",
   "metadata": {},
   "outputs": [
    {
     "name": "stdout",
     "output_type": "stream",
     "text": [
      "[[1. 2. 3.]\n",
      " [4. 5. 8.]]\n"
     ]
    },
    {
     "data": {
      "text/plain": [
       "array([[ True,  True,  True],\n",
       "       [False, False, False]])"
      ]
     },
     "execution_count": 58,
     "metadata": {},
     "output_type": "execute_result"
    }
   ],
   "source": [
    "print(A2)\n",
    "A2[A2<4] # Select elements from a less than 2\n",
    "A2<4"
   ]
  },
  {
   "cell_type": "markdown",
   "id": "a53c9fbe",
   "metadata": {
    "slideshow": {
     "slide_type": "slide"
    }
   },
   "source": [
    "# Array Manipulation \n",
    "\n",
    "## Transposing Array "
   ]
  },
  {
   "cell_type": "code",
   "execution_count": null,
   "id": "52331950",
   "metadata": {},
   "outputs": [],
   "source": [
    "print(A2)\n",
    "i = np.transpose(A2) # Permute array dimensions\n",
    "print(i.T) # Permute array dimensions"
   ]
  },
  {
   "cell_type": "markdown",
   "id": "be118eb6",
   "metadata": {
    "slideshow": {
     "slide_type": "slide"
    }
   },
   "source": [
    "## Changing Array Shape "
   ]
  },
  {
   "cell_type": "code",
   "execution_count": 60,
   "id": "6efd1fdb",
   "metadata": {},
   "outputs": [
    {
     "name": "stdout",
     "output_type": "stream",
     "text": [
      "[[1. 2. 3.]\n",
      " [4. 5. 8.]]\n",
      "[1. 2. 3. 4. 5. 8.]\n",
      "[[1. 2.]\n",
      " [3. 4.]\n",
      " [5. 8.]]\n"
     ]
    }
   ],
   "source": [
    "print(A2)\n",
    "print(A2.ravel()) # Flatten the array\n",
    "print(A2.reshape(3, 2)) # Reshape, but don’t change data"
   ]
  },
  {
   "cell_type": "markdown",
   "id": "20a52dff",
   "metadata": {
    "slideshow": {
     "slide_type": "slide"
    }
   },
   "source": [
    "# Adding/Removing Elements "
   ]
  },
  {
   "cell_type": "code",
   "execution_count": null,
   "id": "9ab2a950",
   "metadata": {},
   "outputs": [],
   "source": [
    "A2=np.array([[1,2,3],[4,5,6]])\n",
    "print(A2)"
   ]
  },
  {
   "cell_type": "code",
   "execution_count": null,
   "id": "d0b3f622",
   "metadata": {
    "scrolled": false
   },
   "outputs": [],
   "source": [
    "A2.resize((1,6))\n",
    "print(A2) # Return a new arraywith shape(2,6)\n",
    "print(np.append(A2,[7,8,9])) # Append items to an array\n",
    "print(np.insert(A2,1,5)) # Insert items in an array\n",
    "print(np.delete(A2,[1])) # Delete items from an array"
   ]
  },
  {
   "cell_type": "markdown",
   "id": "a527ba5a",
   "metadata": {
    "slideshow": {
     "slide_type": "slide"
    }
   },
   "source": [
    "# Combining Arrays "
   ]
  },
  {
   "cell_type": "code",
   "execution_count": null,
   "id": "e93cbf2f",
   "metadata": {},
   "outputs": [],
   "source": [
    "A1=A1.reshape(-1,1)\n",
    "A2=A2.reshape(2,3)\n",
    "print(A2)\n",
    "np.concatenate((A2,A2),axis=0) # Concatenate arrays\n",
    " \n",
    "np.vstack((A2,2*A2)) # Stack arrays vertically(row wise)\n",
    " \n",
    "np.r_[A2,2*A2] # Stack arrays vertically(row wise)\n",
    "\n",
    "np.hstack((A2,2*A2)) # Stack arrays horizontally(column wise)\n",
    " \n",
    "np.column_stack((A2,2*A2)) # Create stacked column wise arrays\n",
    " \n",
    "np.c_[A2,2*A2] # Create stacked column wise arrays"
   ]
  },
  {
   "cell_type": "code",
   "execution_count": 67,
   "id": "11465bf6",
   "metadata": {},
   "outputs": [
    {
     "data": {
      "text/plain": [
       "array([[1],\n",
       "       [3],\n",
       "       [9],\n",
       "       [2],\n",
       "       [6],\n",
       "       [7]])"
      ]
     },
     "execution_count": 67,
     "metadata": {},
     "output_type": "execute_result"
    }
   ],
   "source": [
    "#A1.ravel()\n",
    "A1.reshape(-1,1)"
   ]
  },
  {
   "cell_type": "markdown",
   "id": "5e588c4e",
   "metadata": {
    "slideshow": {
     "slide_type": "slide"
    }
   },
   "source": [
    "# Splitting Arrays "
   ]
  },
  {
   "cell_type": "code",
   "execution_count": null,
   "id": "b90f5547",
   "metadata": {},
   "outputs": [],
   "source": [
    "print(A2)\n",
    "\n",
    "print(np.hsplit(A2,3)) # Split the array horizontally at the 3rd index\n",
    "\n",
    "print(np.vsplit(A2,2)) # Split the array vertically at the 2nd index"
   ]
  },
  {
   "cell_type": "markdown",
   "id": "5e77ccbc",
   "metadata": {
    "slideshow": {
     "slide_type": "slide"
    }
   },
   "source": [
    "# Matrix Operations"
   ]
  },
  {
   "cell_type": "code",
   "execution_count": 68,
   "id": "691bb6ab",
   "metadata": {},
   "outputs": [
    {
     "data": {
      "text/plain": [
       "array([[1, 2, 4],\n",
       "       [4, 5, 4],\n",
       "       [7, 8, 9]])"
      ]
     },
     "execution_count": 68,
     "metadata": {},
     "output_type": "execute_result"
    }
   ],
   "source": [
    "M1= np.array([[1,2,4],[4,5,4],[7,8,9]])\n",
    "M1"
   ]
  },
  {
   "cell_type": "code",
   "execution_count": 69,
   "id": "2bd57096",
   "metadata": {},
   "outputs": [
    {
     "data": {
      "text/plain": [
       "array([[1., 0., 0.],\n",
       "       [0., 1., 0.],\n",
       "       [0., 0., 1.]])"
      ]
     },
     "execution_count": 69,
     "metadata": {},
     "output_type": "execute_result"
    }
   ],
   "source": [
    "M2=np.eye(3)\n",
    "M2"
   ]
  },
  {
   "cell_type": "code",
   "execution_count": 70,
   "id": "2b820a70",
   "metadata": {},
   "outputs": [
    {
     "data": {
      "text/plain": [
       "array([[1., 0., 0.],\n",
       "       [0., 5., 0.],\n",
       "       [0., 0., 9.]])"
      ]
     },
     "execution_count": 70,
     "metadata": {},
     "output_type": "execute_result"
    }
   ],
   "source": [
    "M1+M2\n",
    "M1-M2\n",
    "M1*M2"
   ]
  },
  {
   "cell_type": "code",
   "execution_count": 71,
   "id": "f6fe596d",
   "metadata": {},
   "outputs": [
    {
     "name": "stdout",
     "output_type": "stream",
     "text": [
      "[[1. 2. 4.]\n",
      " [4. 5. 4.]\n",
      " [7. 8. 9.]]\n",
      "[[1. 2. 4.]\n",
      " [4. 5. 4.]\n",
      " [7. 8. 9.]]\n"
     ]
    }
   ],
   "source": [
    "print(np.dot(M1,M2))\n",
    "print(np.matmul(M1,M2))"
   ]
  },
  {
   "cell_type": "code",
   "execution_count": 73,
   "id": "06f0fbab",
   "metadata": {
    "slideshow": {
     "slide_type": "slide"
    }
   },
   "outputs": [
    {
     "name": "stdout",
     "output_type": "stream",
     "text": [
      "[[1 2 4]\n",
      " [4 5 4]\n",
      " [7 8 9]]\n",
      "-15.0\n",
      "3\n",
      "16.492422502470642\n",
      "[[ 37  44  48]\n",
      " [ 52  65  72]\n",
      " [102 126 141]]\n",
      "[[-0.86666667 -0.93333333  0.8       ]\n",
      " [ 0.53333333  1.26666667 -0.8       ]\n",
      " [ 0.2        -0.4         0.2       ]]\n",
      "15\n"
     ]
    }
   ],
   "source": [
    "print(M1)\n",
    "print(np.linalg.det(M1))\n",
    "print(np.linalg.matrix_rank(M1))\n",
    "print(np.linalg.norm(M1))\n",
    "print(np.linalg.matrix_power(M1, 2))\n",
    "print(np.linalg.inv(M1))\n",
    "print(np.trace(M1))"
   ]
  },
  {
   "cell_type": "code",
   "execution_count": 74,
   "id": "9d9c455e",
   "metadata": {
    "slideshow": {
     "slide_type": "slide"
    }
   },
   "outputs": [
    {
     "name": "stdout",
     "output_type": "stream",
     "text": [
      "[15.51769052 -1.27552592  0.7578354 ]\n",
      "Eigen Value: [15.51769052 -1.27552592  0.7578354 ]\n",
      "Eigen Vectors: \n",
      " [[-0.29438368 -0.87789386  0.47600926]\n",
      " [-0.43548815  0.35408631 -0.79778462]\n",
      " [-0.85069872  0.3223744   0.37007416]]\n"
     ]
    }
   ],
   "source": [
    "print(np.linalg.eigvals(M1))\n",
    "\n",
    "E,V=np.linalg.eig(M1)\n",
    "print(\"Eigen Value:\",E)\n",
    "print(\"Eigen Vectors: \\n\",V)"
   ]
  },
  {
   "cell_type": "markdown",
   "id": "766bfd82",
   "metadata": {
    "slideshow": {
     "slide_type": "slide"
    }
   },
   "source": [
    "Solve the system of equations $x_1 + 2 x_2 = 1$ and $3 x_1 + 5 x_2 = 2$:"
   ]
  },
  {
   "cell_type": "code",
   "execution_count": 75,
   "id": "2d9c297b",
   "metadata": {},
   "outputs": [
    {
     "data": {
      "text/plain": [
       "array([-1.,  1.])"
      ]
     },
     "execution_count": 75,
     "metadata": {},
     "output_type": "execute_result"
    }
   ],
   "source": [
    "A = np.array([[1, 2], [3, 5]])\n",
    "B = np.array([1, 2])\n",
    "np.linalg.solve(A, B)"
   ]
  }
 ],
 "metadata": {
  "celltoolbar": "Slideshow",
  "kernelspec": {
   "display_name": "Python 3",
   "language": "python",
   "name": "python3"
  },
  "language_info": {
   "codemirror_mode": {
    "name": "ipython",
    "version": 3
   },
   "file_extension": ".py",
   "mimetype": "text/x-python",
   "name": "python",
   "nbconvert_exporter": "python",
   "pygments_lexer": "ipython3",
   "version": "3.9.5"
  },
  "latex_envs": {
   "LaTeX_envs_menu_present": true,
   "autoclose": false,
   "autocomplete": true,
   "bibliofile": "biblio.bib",
   "cite_by": "apalike",
   "current_citInitial": 1,
   "eqLabelWithNumbers": true,
   "eqNumInitial": 1,
   "hotkeys": {
    "equation": "Ctrl-E",
    "itemize": "Ctrl-I"
   },
   "labels_anchors": false,
   "latex_user_defs": false,
   "report_style_numbering": false,
   "user_envs_cfg": false
  }
 },
 "nbformat": 4,
 "nbformat_minor": 5
}
