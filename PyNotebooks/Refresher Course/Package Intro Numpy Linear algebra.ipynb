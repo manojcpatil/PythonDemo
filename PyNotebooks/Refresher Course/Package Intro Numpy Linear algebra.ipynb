{
 "cells": [
  {
   "cell_type": "markdown",
   "id": "caae972b",
   "metadata": {
    "slideshow": {
     "slide_type": "slide"
    }
   },
   "source": [
    "# Import Libraries"
   ]
  },
  {
   "cell_type": "code",
   "execution_count": 7,
   "id": "c10f496c",
   "metadata": {
    "slideshow": {
     "slide_type": "-"
    }
   },
   "outputs": [],
   "source": [
    "#import numpy   # numpy.fun()\n",
    "import numpy as np # np.fun()\n",
    "#from numpy import * # fun()"
   ]
  },
  {
   "cell_type": "code",
   "execution_count": 8,
   "id": "0ce847fd",
   "metadata": {},
   "outputs": [
    {
     "data": {
      "text/plain": [
       "array([[1, 2, 3],\n",
       "       [4, 5, 6],\n",
       "       [7, 8, 9]])"
      ]
     },
     "execution_count": 8,
     "metadata": {},
     "output_type": "execute_result"
    }
   ],
   "source": [
    "M= np.array([[1,2,3],[4,5,6],[7,8,9]])\n",
    "M"
   ]
  },
  {
   "cell_type": "code",
   "execution_count": 9,
   "id": "95a08a3e",
   "metadata": {},
   "outputs": [
    {
     "name": "stdout",
     "output_type": "stream",
     "text": [
      "Matrix is Square\n"
     ]
    }
   ],
   "source": [
    "m,n=M.shape\n",
    "if m==n:\n",
    "    print('Matrix is Square')\n",
    "else:\n",
    "    print('Matrix is not Square')"
   ]
  },
  {
   "cell_type": "code",
   "execution_count": 10,
   "id": "a95a4a5e",
   "metadata": {},
   "outputs": [
    {
     "name": "stdout",
     "output_type": "stream",
     "text": [
      "Matrix is idempotent.\n"
     ]
    }
   ],
   "source": [
    "M3=np.array([[2,-2,-4],[-1,3,4],[1,-2,-3]])\n",
    "M4=M3@M3\n",
    "if (M4==M3).all():\n",
    "    print('Matrix is idempotent.')\n",
    "else:\n",
    "    print('Matrix is not idempotent.')"
   ]
  },
  {
   "cell_type": "code",
   "execution_count": 12,
   "id": "e6fd8d8f",
   "metadata": {},
   "outputs": [
    {
     "data": {
      "text/plain": [
       "True"
      ]
     },
     "execution_count": 12,
     "metadata": {},
     "output_type": "execute_result"
    }
   ],
   "source": [
    "(M4==M3).all()"
   ]
  },
  {
   "cell_type": "code",
   "execution_count": 19,
   "id": "e71319f5",
   "metadata": {},
   "outputs": [
    {
     "name": "stdout",
     "output_type": "stream",
     "text": [
      "Matrix is not Symmetric\n"
     ]
    }
   ],
   "source": [
    "if (M3==M3.T).all():\n",
    "    print('Matrix is Symmetric.')\n",
    "else:\n",
    "    print('Matrix is not Symmetric.')"
   ]
  },
  {
   "cell_type": "code",
   "execution_count": 13,
   "id": "6a1ffaa7",
   "metadata": {},
   "outputs": [
    {
     "name": "stdout",
     "output_type": "stream",
     "text": [
      "Matrix is Orthogonal.\n"
     ]
    }
   ],
   "source": [
    "M= np.array([[1,0,0],[0,0,-1],[0,-1,0]])\n",
    "if np.linalg.det(M)!=0:\n",
    "    if (np.linalg.inv(M)==M.T).all():\n",
    "        print('Matrix is Orthogonal.')\n",
    "else:\n",
    "     print('Matrix is not Orthogonal.')"
   ]
  },
  {
   "cell_type": "code",
   "execution_count": 36,
   "id": "b8b5d786",
   "metadata": {},
   "outputs": [],
   "source": [
    "Ev=np.linalg.eigvals(M)\n",
    "if np.all(Ev>0):\n",
    "    print('Positive Def')\n",
    "elif np.all(Ev>=0):\n",
    "    print('Positive Semi Def')\n",
    "elif np.all(Ev<0):\n",
    "    print('Negative Def')\n",
    "elif np.all(Ev<=0):\n",
    "    print('Negative Semi Def')\n",
    "else:\n",
    "    print('Indefinite')\n",
    "    "
   ]
  },
  {
   "cell_type": "code",
   "execution_count": null,
   "id": "453c3a43",
   "metadata": {},
   "outputs": [],
   "source": [
    "## Cramer's Rule"
   ]
  },
  {
   "cell_type": "code",
   "execution_count": 61,
   "id": "81208dfc",
   "metadata": {},
   "outputs": [
    {
     "data": {
      "text/plain": [
       "[2.0000000000000013, 2.9999999999999982, -3.999999999999999]"
      ]
     },
     "execution_count": 61,
     "metadata": {},
     "output_type": "execute_result"
    }
   ],
   "source": [
    "A=np.array([[2,-1,1],[1,1,-3],[5,-2,-4]])\n",
    "B=np.array([-3,17,20])\n",
    "row, col=A.shape\n",
    "x=[0]*col\n",
    "for i in range(col):\n",
    "    temp=A.copy()\n",
    "    temp[:,i]=B\n",
    "    x[i]=np.linalg.det(temp)/np.linalg.det(A)\n",
    "x"
   ]
  },
  {
   "cell_type": "code",
   "execution_count": 62,
   "id": "db627917",
   "metadata": {},
   "outputs": [],
   "source": [
    "# G Inverse"
   ]
  },
  {
   "cell_type": "code",
   "execution_count": 61,
   "id": "3c472de3",
   "metadata": {},
   "outputs": [
    {
     "name": "stdout",
     "output_type": "stream",
     "text": [
      "2\n",
      "2\n",
      "[[1 2 3]\n",
      " [4 5 6]]\n",
      "[[1. 2. 3.]\n",
      " [4. 5. 6.]]\n"
     ]
    }
   ],
   "source": [
    "M= np.array([[1,2,3],[4,5,6]])\n",
    "#print(np.linalg.det(M))\n",
    "print(np.linalg.matrix_rank(M))\n",
    "print(np.linalg.matrix_rank(M[:,:2]))\n",
    "\n",
    "G= np.zeros_like(M.T)*0.0\n",
    "G[:2,:2]=(np.linalg.inv(M[:,:2]))\n",
    "print(M)\n",
    "print(M@G@M)"
   ]
  },
  {
   "cell_type": "code",
   "execution_count": 56,
   "id": "0e3afee5",
   "metadata": {},
   "outputs": [
    {
     "data": {
      "text/plain": [
       "array([[1, 2],\n",
       "       [4, 5]])"
      ]
     },
     "execution_count": 56,
     "metadata": {},
     "output_type": "execute_result"
    }
   ],
   "source": [
    "M[:,:2]"
   ]
  },
  {
   "cell_type": "code",
   "execution_count": 16,
   "id": "3e01b547",
   "metadata": {},
   "outputs": [
    {
     "data": {
      "text/plain": [
       "(array([[0],\n",
       "        [2]]),\n",
       " array([[0, 2]]))"
      ]
     },
     "execution_count": 16,
     "metadata": {},
     "output_type": "execute_result"
    }
   ],
   "source": [
    "np.ix_([0,2],[0,2])"
   ]
  },
  {
   "cell_type": "markdown",
   "id": "8073b0cc",
   "metadata": {
    "slideshow": {
     "slide_type": "slide"
    }
   },
   "source": [
    "# Matrix and vector products"
   ]
  },
  {
   "cell_type": "code",
   "execution_count": 2,
   "id": "2c6a9838",
   "metadata": {
    "slideshow": {
     "slide_type": "-"
    }
   },
   "outputs": [
    {
     "name": "stdout",
     "output_type": "stream",
     "text": [
      "[[1 0]\n",
      " [0 1]]\n",
      "[[4 1]\n",
      " [2 2]]\n"
     ]
    }
   ],
   "source": [
    "a = np.array([[1, 0], [0, 1]]) # np.eye(2)\n",
    "b = np.array([[4, 1], \n",
    "              [2, 2]])\n",
    "print(a)\n",
    "print(b)"
   ]
  },
  {
   "cell_type": "code",
   "execution_count": 3,
   "id": "05ebe93b",
   "metadata": {
    "slideshow": {
     "slide_type": "subslide"
    }
   },
   "outputs": [
    {
     "data": {
      "text/plain": [
       "array([[4, 0],\n",
       "       [0, 2]])"
      ]
     },
     "execution_count": 3,
     "metadata": {},
     "output_type": "execute_result"
    }
   ],
   "source": [
    "a*b"
   ]
  },
  {
   "cell_type": "markdown",
   "id": "d33be806",
   "metadata": {
    "slideshow": {
     "slide_type": "slide"
    }
   },
   "source": [
    "# Dot product of two arrays."
   ]
  },
  {
   "cell_type": "code",
   "execution_count": 4,
   "id": "a44676a1",
   "metadata": {},
   "outputs": [
    {
     "data": {
      "text/plain": [
       "array([[4, 1],\n",
       "       [2, 2]])"
      ]
     },
     "execution_count": 4,
     "metadata": {},
     "output_type": "execute_result"
    }
   ],
   "source": [
    "\n",
    "np.dot(a, b)"
   ]
  },
  {
   "cell_type": "code",
   "execution_count": 5,
   "id": "9d59e67e",
   "metadata": {
    "slideshow": {
     "slide_type": "fragment"
    }
   },
   "outputs": [
    {
     "name": "stdout",
     "output_type": "stream",
     "text": [
      "[[0.52645136 0.87836401]\n",
      " [0.1421092  0.42550092]]\n",
      "[[0.65355282 0.6391546  0.38547296]\n",
      " [0.95134629 0.7424884  0.47033677]]\n"
     ]
    },
    {
     "data": {
      "text/plain": [
       "array([[2.02518597, 1.29710828, 2.06431148],\n",
       "       [0.84267352, 0.53832887, 0.85845221]])"
      ]
     },
     "execution_count": 5,
     "metadata": {},
     "output_type": "execute_result"
    }
   ],
   "source": [
    "#Compute the dot product of two or more arrays in a single function call, while automatically selecting the fastest evaluation order.\n",
    "A = np.random.random((2, 2))\n",
    "B = np.random.random((2, 3))\n",
    "C = np.random.random((3, 4))\n",
    "D = np.random.random((4, 3))\n",
    "# the actual dot multiplication\n",
    "print(A)\n",
    "print(B)\n",
    "np.linalg.multi_dot([A, B, C, D])\n",
    "# OR\n",
    "# np.dot(np.dot(np.dot(A, B), C), D)\n",
    "# OR\n",
    "# A.dot(B).dot(C).dot(D)"
   ]
  },
  {
   "cell_type": "code",
   "execution_count": null,
   "id": "2ece1982",
   "metadata": {},
   "outputs": [],
   "source": []
  },
  {
   "cell_type": "code",
   "execution_count": 6,
   "id": "76586a61",
   "metadata": {},
   "outputs": [],
   "source": [
    "# np.dot(B,A) # shapes (2,3) and (2,2) not aligned: 3 (dim 1) != 2 (dim 0)"
   ]
  },
  {
   "cell_type": "code",
   "execution_count": 7,
   "id": "7b6a8b47",
   "metadata": {},
   "outputs": [
    {
     "data": {
      "text/plain": [
       "25"
      ]
     },
     "execution_count": 7,
     "metadata": {},
     "output_type": "execute_result"
    }
   ],
   "source": [
    "#Return the dot product of two vectors.\n",
    "a = np.array([[1,4],\n",
    "              [4,2]])\n",
    "b = np.array([[3, 2],\n",
    "              [2,3]])\n",
    "np.vdot(a, b)"
   ]
  },
  {
   "cell_type": "code",
   "execution_count": 8,
   "id": "a6cb1025",
   "metadata": {},
   "outputs": [
    {
     "data": {
      "text/plain": [
       "25"
      ]
     },
     "execution_count": 8,
     "metadata": {},
     "output_type": "execute_result"
    }
   ],
   "source": [
    "1*3+4*2+4*2+2*3"
   ]
  },
  {
   "cell_type": "code",
   "execution_count": 12,
   "id": "4a60c3d3",
   "metadata": {},
   "outputs": [
    {
     "data": {
      "text/plain": [
       "11"
      ]
     },
     "execution_count": 12,
     "metadata": {},
     "output_type": "execute_result"
    }
   ],
   "source": [
    "a=np.array([1,2])\n",
    "b=np.array([3,4])\n",
    "np.vdot(a,b)"
   ]
  },
  {
   "cell_type": "code",
   "execution_count": 9,
   "id": "80b5210a",
   "metadata": {},
   "outputs": [
    {
     "name": "stdout",
     "output_type": "stream",
     "text": [
      "[1 2]\n",
      "[3 4]\n"
     ]
    },
    {
     "data": {
      "text/plain": [
       "11"
      ]
     },
     "execution_count": 9,
     "metadata": {},
     "output_type": "execute_result"
    }
   ],
   "source": [
    "#Inner product of two arrays. Matrix Multiplication\n",
    "print(a)\n",
    "print(b)\n",
    "np.inner(a, b)"
   ]
  },
  {
   "cell_type": "code",
   "execution_count": 11,
   "id": "5dbb7e49",
   "metadata": {},
   "outputs": [
    {
     "name": "stdout",
     "output_type": "stream",
     "text": [
      "[1 2]\n",
      "[[2 3]\n",
      " [5 2]]\n"
     ]
    },
    {
     "data": {
      "text/plain": [
       "array([[ 2,  3,  5,  2],\n",
       "       [ 4,  6, 10,  4]])"
      ]
     },
     "execution_count": 11,
     "metadata": {},
     "output_type": "execute_result"
    }
   ],
   "source": [
    "#Compute the outer product of two vectors.\n",
    "a=np.array([1,2])\n",
    "b=np.array([[2,3],[5,2]])\n",
    "print(a)\n",
    "print(b)\n",
    "np.outer(a, b)"
   ]
  },
  {
   "cell_type": "code",
   "execution_count": 12,
   "id": "5fe8f94b",
   "metadata": {},
   "outputs": [
    {
     "data": {
      "text/plain": [
       "array([[4, 1, 2],\n",
       "       [2, 2, 3]])"
      ]
     },
     "execution_count": 12,
     "metadata": {},
     "output_type": "execute_result"
    }
   ],
   "source": [
    "#Matrix product of two arrays.\n",
    "a = np.array([[1, 0],\n",
    "              [0, 1]])\n",
    "b = np.array([[4, 1, 2],\n",
    "              [2, 2, 3]])\n",
    "np.matmul(a, b)"
   ]
  },
  {
   "cell_type": "code",
   "execution_count": 13,
   "id": "1fae6579",
   "metadata": {},
   "outputs": [
    {
     "data": {
      "text/plain": [
       "array([[4, 1, 2],\n",
       "       [2, 2, 3]])"
      ]
     },
     "execution_count": 13,
     "metadata": {},
     "output_type": "execute_result"
    }
   ],
   "source": [
    "# The @ operator can be used as a shorthand for np.matmul on ndarrays.\n",
    "a@b"
   ]
  },
  {
   "cell_type": "code",
   "execution_count": 14,
   "id": "eaf63f87",
   "metadata": {},
   "outputs": [
    {
     "data": {
      "text/plain": [
       "array([[ 7, 10],\n",
       "       [15, 22]])"
      ]
     },
     "execution_count": 14,
     "metadata": {},
     "output_type": "execute_result"
    }
   ],
   "source": [
    "#Raise a square matrix to the (integer) power n.\n",
    "a=np.array([[1,2],[3,4]])\n",
    "np.linalg.matrix_power(a, 2)"
   ]
  },
  {
   "cell_type": "code",
   "execution_count": 15,
   "id": "c9893c74",
   "metadata": {},
   "outputs": [
    {
     "data": {
      "text/plain": [
       "array([[ 7, 10],\n",
       "       [15, 22]])"
      ]
     },
     "execution_count": 15,
     "metadata": {},
     "output_type": "execute_result"
    }
   ],
   "source": [
    "np.matmul(a,a)"
   ]
  },
  {
   "cell_type": "code",
   "execution_count": 16,
   "id": "1b5efaaa",
   "metadata": {},
   "outputs": [
    {
     "data": {
      "text/plain": [
       "array([[ 37,  54],\n",
       "       [ 81, 118]])"
      ]
     },
     "execution_count": 16,
     "metadata": {},
     "output_type": "execute_result"
    }
   ],
   "source": [
    "a@a@a"
   ]
  },
  {
   "cell_type": "code",
   "execution_count": 17,
   "id": "f009b2ea",
   "metadata": {},
   "outputs": [
    {
     "name": "stdout",
     "output_type": "stream",
     "text": [
      "[[1 2]\n",
      " [3 4]]\n",
      "[[4 1 2]\n",
      " [2 2 3]]\n"
     ]
    },
    {
     "data": {
      "text/plain": [
       "array([[ 4,  1,  2,  8,  2,  4],\n",
       "       [ 2,  2,  3,  4,  4,  6],\n",
       "       [12,  3,  6, 16,  4,  8],\n",
       "       [ 6,  6,  9,  8,  8, 12]])"
      ]
     },
     "execution_count": 17,
     "metadata": {},
     "output_type": "execute_result"
    }
   ],
   "source": [
    "#Kronecker product of two arrays.\n",
    "print(a)\n",
    "print(b)\n",
    "np.kron(a, b)"
   ]
  },
  {
   "cell_type": "code",
   "execution_count": 18,
   "id": "6dd08817",
   "metadata": {},
   "outputs": [],
   "source": [
    "#Decompositions"
   ]
  },
  {
   "cell_type": "code",
   "execution_count": 19,
   "id": "5cedb283",
   "metadata": {},
   "outputs": [
    {
     "data": {
      "text/plain": [
       "array([[ 2.44948974,  0.        ,  0.        ],\n",
       "       [ 6.12372436,  4.18330013,  0.        ],\n",
       "       [22.45365598, 20.91650066,  6.11010093]])"
      ]
     },
     "execution_count": 19,
     "metadata": {},
     "output_type": "execute_result"
    }
   ],
   "source": [
    "#Cholesky decomposition.\n",
    "a=np.array([[6,15,55],\n",
    "            [15,55,225],\n",
    "            [55,225,979]])\n",
    "np.linalg.cholesky(a)"
   ]
  },
  {
   "cell_type": "code",
   "execution_count": 20,
   "id": "4f57c95a",
   "metadata": {},
   "outputs": [
    {
     "data": {
      "text/plain": [
       "3"
      ]
     },
     "execution_count": 20,
     "metadata": {},
     "output_type": "execute_result"
    }
   ],
   "source": [
    "np.linalg.matrix_rank(a)"
   ]
  },
  {
   "cell_type": "code",
   "execution_count": 21,
   "id": "4f2b9da6",
   "metadata": {},
   "outputs": [
    {
     "name": "stdout",
     "output_type": "stream",
     "text": [
      "[[-0.10466885 -0.83044761 -0.54717566]\n",
      " [-0.26167214 -0.50781394  0.82076348]\n",
      " [-0.9594645   0.229089   -0.1641527 ]]\n",
      "[[  -57.32364259  -231.84151249 -1003.94876177]\n",
      " [    0.            11.15854318    64.34537173]\n",
      " [    0.             0.            -6.12836734]]\n"
     ]
    }
   ],
   "source": [
    "#Compute the qr factorization of a matrix.\n",
    "Q,R=np.linalg.qr(a)\n",
    "print(Q)\n",
    "print(R)"
   ]
  },
  {
   "cell_type": "code",
   "execution_count": 22,
   "id": "b3324a16",
   "metadata": {},
   "outputs": [
    {
     "data": {
      "text/plain": [
       "1.0"
      ]
     },
     "execution_count": 22,
     "metadata": {},
     "output_type": "execute_result"
    }
   ],
   "source": [
    "np.linalg.norm(Q[0])"
   ]
  },
  {
   "cell_type": "code",
   "execution_count": null,
   "id": "916a8ffc",
   "metadata": {},
   "outputs": [],
   "source": [
    "#Singular Value Decomposition.\n",
    "a=np.arange(9).reshape(3,3)+1\n",
    "U,Sig,VT=np.linalg.svd(a)\n",
    "print(\"Sig:\",Sig)\n",
    "U@np.diag(Sig)@VT"
   ]
  },
  {
   "cell_type": "code",
   "execution_count": null,
   "id": "5b0fb0b9",
   "metadata": {},
   "outputs": [],
   "source": [
    "#Matrix eigenvalues\n",
    "#Compute the eigenvalues and right eigenvectors of a square array.\n",
    "E,V=np.linalg.eig(a)\n",
    "print(\"E=\",E)\n",
    "print(\"V=\",V)"
   ]
  },
  {
   "cell_type": "code",
   "execution_count": null,
   "id": "66b2edd0",
   "metadata": {},
   "outputs": [],
   "source": [
    "#Return the eigenvalues and eigenvectors of a complex Hermitian (conjugate symmetric) or a real symmetric matrix.\n",
    "#np.linalg.eigh(a[, UPLO])"
   ]
  },
  {
   "cell_type": "code",
   "execution_count": null,
   "id": "d1fd1eae",
   "metadata": {},
   "outputs": [],
   "source": [
    "#Compute the eigenvalues of a general matrix.\n",
    "np.linalg.eigvals(a)"
   ]
  },
  {
   "cell_type": "code",
   "execution_count": null,
   "id": "72c9cfe2",
   "metadata": {},
   "outputs": [],
   "source": [
    "#Compute the eigenvalues of a complex Hermitian or real symmetric matrix.\n",
    "np.linalg.eigvalsh(a[, UPLO])"
   ]
  },
  {
   "cell_type": "code",
   "execution_count": null,
   "id": "9063a305",
   "metadata": {},
   "outputs": [],
   "source": [
    "#Norms and other numbers"
   ]
  },
  {
   "cell_type": "code",
   "execution_count": null,
   "id": "c2e61cf8",
   "metadata": {},
   "outputs": [],
   "source": [
    "#Matrix or vector norm.\n",
    "np.linalg.norm(x[, ord, axis, keepdims])"
   ]
  },
  {
   "cell_type": "code",
   "execution_count": null,
   "id": "65ca790e",
   "metadata": {},
   "outputs": [],
   "source": [
    "#Compute the condition number of a matrix.\n",
    "np.linalg.cond(x[, p])"
   ]
  },
  {
   "cell_type": "code",
   "execution_count": null,
   "id": "f077fae8",
   "metadata": {},
   "outputs": [],
   "source": [
    "#Compute the determinant of an array.\n",
    "np.linalg.det(a)"
   ]
  },
  {
   "cell_type": "code",
   "execution_count": null,
   "id": "1b19b8d8",
   "metadata": {},
   "outputs": [],
   "source": [
    "#Return matrix rank of array using SVD method\n",
    "np.linalg.matrix_rank(a)"
   ]
  },
  {
   "cell_type": "code",
   "execution_count": null,
   "id": "fce8f420",
   "metadata": {},
   "outputs": [],
   "source": [
    "#Compute the sign and (natural) logarithm of the determinant of an array.\n",
    "np.linalg.slogdet(a)"
   ]
  },
  {
   "cell_type": "code",
   "execution_count": null,
   "id": "86e7246b",
   "metadata": {},
   "outputs": [],
   "source": [
    "#Return the sum along diagonals of the array.\n",
    "np.trace(a)"
   ]
  },
  {
   "cell_type": "code",
   "execution_count": null,
   "id": "c5320496",
   "metadata": {},
   "outputs": [],
   "source": [
    "#Solving equations and inverting matrices"
   ]
  },
  {
   "cell_type": "code",
   "execution_count": null,
   "id": "13cc8d33",
   "metadata": {},
   "outputs": [],
   "source": [
    "#Solve a linear matrix equation, or system of linear scalar equations.\n",
    "linalg.solve(a, b)"
   ]
  },
  {
   "cell_type": "code",
   "execution_count": null,
   "id": "432a5747",
   "metadata": {},
   "outputs": [],
   "source": [
    "#Solve the tensor equation a x = b for x.\n",
    "linalg.tensorsolve(a, b[, axes])"
   ]
  },
  {
   "cell_type": "code",
   "execution_count": null,
   "id": "6348e73b",
   "metadata": {},
   "outputs": [],
   "source": [
    "#Return the least-squares solution to a linear matrix equation.\n",
    "linalg.lstsq(a, b[, rcond])"
   ]
  },
  {
   "cell_type": "code",
   "execution_count": null,
   "id": "a133d536",
   "metadata": {},
   "outputs": [],
   "source": [
    "#Compute the (multiplicative) inverse of a matrix.\n",
    "linalg.inv(a)"
   ]
  },
  {
   "cell_type": "code",
   "execution_count": null,
   "id": "d75d9c92",
   "metadata": {},
   "outputs": [],
   "source": [
    "#Compute the (Moore-Penrose) pseudo-inverse of a matrix.\n",
    "linalg.pinv(a[, rcond, hermitian])"
   ]
  },
  {
   "cell_type": "code",
   "execution_count": null,
   "id": "1ab99ae4",
   "metadata": {},
   "outputs": [],
   "source": [
    "#Compute the ‘inverse’ of an N-dimensional array.\n",
    "linalg.tensorinv(a[, ind])"
   ]
  },
  {
   "cell_type": "code",
   "execution_count": null,
   "id": "2dfbbfaa",
   "metadata": {},
   "outputs": [],
   "source": [
    "#Compute tensor dot product along specified axes.\n",
    "tensordot(a, b[, axes])"
   ]
  },
  {
   "cell_type": "code",
   "execution_count": null,
   "id": "ed4cff3a",
   "metadata": {},
   "outputs": [],
   "source": [
    "#Evaluates the Einstein summation convention on the operands.\n",
    "einsum(subscripts, *operands[, out, dtype, …])"
   ]
  },
  {
   "cell_type": "code",
   "execution_count": null,
   "id": "8ee002b5",
   "metadata": {},
   "outputs": [],
   "source": [
    "#Evaluates the lowest cost contraction order for an einsum expression by considering the creation of intermediate arrays.\n",
    "einsum_path(subscripts, *operands[, optimize])"
   ]
  }
 ],
 "metadata": {
  "celltoolbar": "Slideshow",
  "kernelspec": {
   "display_name": "Python 3 (ipykernel)",
   "language": "python",
   "name": "python3"
  },
  "language_info": {
   "codemirror_mode": {
    "name": "ipython",
    "version": 3
   },
   "file_extension": ".py",
   "mimetype": "text/x-python",
   "name": "python",
   "nbconvert_exporter": "python",
   "pygments_lexer": "ipython3",
   "version": "3.11.2"
  },
  "latex_envs": {
   "LaTeX_envs_menu_present": true,
   "autoclose": false,
   "autocomplete": true,
   "bibliofile": "biblio.bib",
   "cite_by": "apalike",
   "current_citInitial": 1,
   "eqLabelWithNumbers": true,
   "eqNumInitial": 1,
   "hotkeys": {
    "equation": "Ctrl-E",
    "itemize": "Ctrl-I"
   },
   "labels_anchors": false,
   "latex_user_defs": false,
   "report_style_numbering": false,
   "user_envs_cfg": false
  },
  "toc": {
   "base_numbering": 1,
   "nav_menu": {},
   "number_sections": true,
   "sideBar": true,
   "skip_h1_title": false,
   "title_cell": "Table of Contents",
   "title_sidebar": "Contents",
   "toc_cell": false,
   "toc_position": {},
   "toc_section_display": true,
   "toc_window_display": false
  }
 },
 "nbformat": 4,
 "nbformat_minor": 5
}
