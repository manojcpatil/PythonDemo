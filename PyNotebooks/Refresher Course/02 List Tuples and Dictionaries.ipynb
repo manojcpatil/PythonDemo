{
 "cells": [
  {
   "cell_type": "markdown",
   "id": "6da80797",
   "metadata": {
    "slideshow": {
     "slide_type": "slide"
    }
   },
   "source": [
    "# List in Python"
   ]
  },
  {
   "cell_type": "markdown",
   "id": "7cfb21ba",
   "metadata": {
    "slideshow": {
     "slide_type": "slide"
    }
   },
   "source": [
    "In Python, a list is a collection of values that are ordered and changeable. It is a very useful data type that is used in a variety of contexts, including functions. Here are some common operations and uses of lists in Python functions:\n",
    "\n",
    "1. Creating a list: You can create a list using square brackets [] and separating the values with commas. For example, "
   ]
  },
  {
   "cell_type": "code",
   "execution_count": 1,
   "id": "e5423e18",
   "metadata": {},
   "outputs": [],
   "source": [
    "my_list = [1, 2, 3]"
   ]
  },
  {
   "cell_type": "markdown",
   "id": "e4d7acdf",
   "metadata": {
    "slideshow": {
     "slide_type": "slide"
    }
   },
   "source": [
    "2. Accessing elements: You can access elements of a list using square bracket notation, starting at index 0. For example, "
   ]
  },
  {
   "cell_type": "code",
   "execution_count": 2,
   "id": "bb780b2d",
   "metadata": {},
   "outputs": [
    {
     "data": {
      "text/plain": [
       "1"
      ]
     },
     "execution_count": 2,
     "metadata": {},
     "output_type": "execute_result"
    }
   ],
   "source": [
    "my_list[0] # returns the first element of the list."
   ]
  },
  {
   "cell_type": "markdown",
   "id": "84b466b0",
   "metadata": {
    "slideshow": {
     "slide_type": "slide"
    }
   },
   "source": [
    "3. Modifying elements: You can modify elements of a list using square bracket notation as well. For example,"
   ]
  },
  {
   "cell_type": "code",
   "execution_count": 3,
   "id": "5ee0fa75",
   "metadata": {},
   "outputs": [],
   "source": [
    "my_list[0] = 4 # would change the first element of the list to 4."
   ]
  },
  {
   "cell_type": "markdown",
   "id": "f1c773c3",
   "metadata": {
    "slideshow": {
     "slide_type": "slide"
    }
   },
   "source": [
    "4. Appending elements: You can add elements to the end of a list using the append() method. For example, "
   ]
  },
  {
   "cell_type": "code",
   "execution_count": 4,
   "id": "78756282",
   "metadata": {},
   "outputs": [
    {
     "data": {
      "text/plain": [
       "[1, 2, 3, 4, 4]"
      ]
     },
     "execution_count": 4,
     "metadata": {},
     "output_type": "execute_result"
    }
   ],
   "source": [
    "my_list.append(4) # would add the value 4 to the end of the list.\n",
    "my_list"
   ]
  },
  {
   "cell_type": "markdown",
   "id": "7a974ad3",
   "metadata": {
    "slideshow": {
     "slide_type": "slide"
    }
   },
   "source": [
    "5. Removing elements: You can remove elements from a list using various methods such as remove(), pop(), and del. For example,"
   ]
  },
  {
   "cell_type": "code",
   "execution_count": 5,
   "id": "33b20fcb",
   "metadata": {},
   "outputs": [
    {
     "data": {
      "text/plain": [
       "[1, 2, 4, 4]"
      ]
     },
     "execution_count": 5,
     "metadata": {},
     "output_type": "execute_result"
    }
   ],
   "source": [
    "my_list.remove(3)  # would remove the first occurrence of the value 3 from the list.\n",
    "my_list"
   ]
  },
  {
   "cell_type": "markdown",
   "id": "309d2975",
   "metadata": {
    "slideshow": {
     "slide_type": "slide"
    }
   },
   "source": [
    "6. Iterating over a list: You can iterate over the elements of a list using a for loop. For example:"
   ]
  },
  {
   "cell_type": "code",
   "execution_count": 6,
   "id": "bc8ca860",
   "metadata": {},
   "outputs": [
    {
     "name": "stdout",
     "output_type": "stream",
     "text": [
      "1\n",
      "2\n",
      "4\n",
      "4\n"
     ]
    }
   ],
   "source": [
    "for item in my_list:\n",
    "    print(item)"
   ]
  },
  {
   "cell_type": "markdown",
   "id": "78fba88a",
   "metadata": {
    "slideshow": {
     "slide_type": "slide"
    }
   },
   "source": [
    "7. Returning a list from a function: You can return a list from a function just like any other value. For example:"
   ]
  },
  {
   "cell_type": "code",
   "execution_count": 7,
   "id": "f5386409",
   "metadata": {},
   "outputs": [],
   "source": [
    "def get_list():\n",
    "    return [1, 2, 3]"
   ]
  },
  {
   "cell_type": "markdown",
   "id": "08c16ab8",
   "metadata": {
    "slideshow": {
     "slide_type": "slide"
    }
   },
   "source": [
    "8. Passing a list to a function: You can pass a list to a function as an argument. For example:"
   ]
  },
  {
   "cell_type": "code",
   "execution_count": 7,
   "id": "a756827b",
   "metadata": {},
   "outputs": [],
   "source": [
    "def process_list(my_list):\n",
    "    for item in my_list:\n",
    "        print(item)"
   ]
  },
  {
   "cell_type": "code",
   "execution_count": 8,
   "id": "7b6339ad",
   "metadata": {},
   "outputs": [
    {
     "name": "stdout",
     "output_type": "stream",
     "text": [
      "1\n",
      "2\n",
      "3\n"
     ]
    }
   ],
   "source": [
    "process_list([1,2,3])"
   ]
  },
  {
   "cell_type": "markdown",
   "id": "12e1f456",
   "metadata": {},
   "source": [
    "Overall, lists are a very versatile and useful data type in Python that can be used in many different ways in functions."
   ]
  },
  {
   "cell_type": "code",
   "execution_count": 9,
   "id": "5b683523",
   "metadata": {
    "slideshow": {
     "slide_type": "slide"
    }
   },
   "outputs": [],
   "source": [
    "# empty list\n",
    "my_list = []\n",
    "\n",
    "# list of integers\n",
    "my_list = [1, 2, 3]\n",
    "\n",
    "# list with mixed data types\n",
    "my_list = [1, \"Hello\", 3.4]"
   ]
  },
  {
   "cell_type": "code",
   "execution_count": 15,
   "id": "02573b01",
   "metadata": {
    "slideshow": {
     "slide_type": "slide"
    }
   },
   "outputs": [
    {
     "data": {
      "text/plain": [
       "4"
      ]
     },
     "execution_count": 15,
     "metadata": {},
     "output_type": "execute_result"
    }
   ],
   "source": [
    "# nested list\n",
    "my_list = [\"mouse\", [8, 4, 6], ['a']]\n",
    "my_list[1][1]"
   ]
  },
  {
   "cell_type": "code",
   "execution_count": 17,
   "id": "f4d8a0dd",
   "metadata": {
    "slideshow": {
     "slide_type": "slide"
    }
   },
   "outputs": [
    {
     "name": "stdout",
     "output_type": "stream",
     "text": [
      "R\n",
      "H\n",
      "N\n",
      "a\n",
      "5\n"
     ]
    }
   ],
   "source": [
    "# List indexing\n",
    "\n",
    "my_list = ['R', 'O', 'H', 'A', 'N']\n",
    "\n",
    "# Output: R\n",
    "print(my_list[0])\n",
    "\n",
    "# Output: H\n",
    "print(my_list[2])\n",
    "\n",
    "# Output: N\n",
    "print(my_list[4])\n",
    "\n",
    "# Nested List\n",
    "n_list = [\"Happy\", [2, 0, 1, 5]]\n",
    "\n",
    "# Nested indexing\n",
    "print(n_list[0][1])\n",
    "\n",
    "print(n_list[1][3])\n",
    "\n",
    "# Error! Only integer can be used for indexing\n",
    "# print(my_list[4.0])"
   ]
  },
  {
   "cell_type": "markdown",
   "id": "7e474665",
   "metadata": {
    "slideshow": {
     "slide_type": "slide"
    }
   },
   "source": [
    "### Negative indexing\n",
    "Python allows negative indexing for its sequences. The index of -1 refers to the last item, -2 to the second last item and so on."
   ]
  },
  {
   "cell_type": "code",
   "execution_count": 21,
   "id": "bf071209",
   "metadata": {},
   "outputs": [
    {
     "name": "stdout",
     "output_type": "stream",
     "text": [
      "e\n",
      "p\n",
      "['e', 'o', 'p']\n"
     ]
    }
   ],
   "source": [
    "# Negative indexing in lists\n",
    "my_list = ['p','r','o','b','e']\n",
    "\n",
    "print(my_list[-1])\n",
    "\n",
    "print(my_list[-5])\n",
    "\n",
    "print(my_list[::-2])"
   ]
  },
  {
   "cell_type": "markdown",
   "id": "3a1d798b",
   "metadata": {},
   "source": [
    "How to slice lists in Python?\n",
    "We can access a range of items in a list by using the slicing operator :(colon)."
   ]
  },
  {
   "cell_type": "code",
   "execution_count": 13,
   "id": "903ceb39",
   "metadata": {
    "slideshow": {
     "slide_type": "slide"
    }
   },
   "outputs": [
    {
     "name": "stdout",
     "output_type": "stream",
     "text": [
      "['o', 'g', 'r']\n",
      "['p', 'r', 'o', 'g']\n",
      "['a', 'm', 'i', 'z']\n",
      "['p', 'r', 'o', 'g', 'r', 'a', 'm', 'i', 'z']\n"
     ]
    }
   ],
   "source": [
    "# List slicing in Python\n",
    "my_list = ['p','r','o','g','r','a','m','i','z']\n",
    "\n",
    "# elements 3rd to 5th\n",
    "print(my_list[2:5])\n",
    "\n",
    "# elements beginning to 4th\n",
    "print(my_list[:-5])\n",
    "\n",
    "# elements 6th to end\n",
    "print(my_list[5:])\n",
    "\n",
    "# elements beginning to end\n",
    "print(my_list[:])"
   ]
  },
  {
   "cell_type": "code",
   "execution_count": 23,
   "id": "b19bceff",
   "metadata": {
    "slideshow": {
     "slide_type": "slide"
    }
   },
   "outputs": [
    {
     "name": "stdout",
     "output_type": "stream",
     "text": [
      "[1, 3, 5, 9, 7, 5]\n",
      "['re', 'ne', 're', 'ne', 're', 'ne']\n"
     ]
    }
   ],
   "source": [
    "# Concatenating and repeating lists\n",
    "odd = [1, 3, 5]\n",
    "\n",
    "print(odd + [9, 7, 5])\n",
    "\n",
    "print([\"re\",\"ne\"] * 3)"
   ]
  },
  {
   "cell_type": "markdown",
   "id": "d30cee0c",
   "metadata": {
    "slideshow": {
     "slide_type": "slide"
    }
   },
   "source": [
    "# Python List Methods"
   ]
  },
  {
   "cell_type": "markdown",
   "id": "0b83150c",
   "metadata": {},
   "source": [
    "append()Adds an element at the end of the list\n",
    "\n",
    "clear()\tRemoves all the elements from the list\n",
    "\n",
    "copy()\tReturns a copy of the list\n",
    "\n",
    "count()\tReturns the number of elements with the specified value\n",
    "\n",
    "extend()Add the elements of a list (or any iterable), to the end of the current list\n",
    "\n",
    "index()\tReturns the index of the first element with the specified value\n",
    "\n",
    "insert()Adds an element at the specified position\n",
    "\n",
    "pop()\tRemoves the element at the specified position\n",
    "\n",
    "remove()Removes the first item with the specified value\n",
    "\n",
    "reverse()Reverses the order of the list\n",
    "\n",
    "sort()Sorts the list"
   ]
  },
  {
   "cell_type": "code",
   "execution_count": null,
   "id": "b8db92da",
   "metadata": {},
   "outputs": [],
   "source": []
  },
  {
   "cell_type": "code",
   "execution_count": 2,
   "id": "72f08708",
   "metadata": {
    "slideshow": {
     "slide_type": "slide"
    }
   },
   "outputs": [
    {
     "data": {
      "text/plain": [
       "[1, 3, 2, 4]"
      ]
     },
     "execution_count": 2,
     "metadata": {},
     "output_type": "execute_result"
    }
   ],
   "source": [
    "L=[1,3,2]\n",
    "L.append(4)\n",
    "L"
   ]
  },
  {
   "cell_type": "code",
   "execution_count": 3,
   "id": "253dde9e",
   "metadata": {
    "slideshow": {
     "slide_type": "slide"
    }
   },
   "outputs": [
    {
     "data": {
      "text/plain": [
       "[1, 2, 3, 4]"
      ]
     },
     "execution_count": 3,
     "metadata": {},
     "output_type": "execute_result"
    }
   ],
   "source": [
    "L.sort()\n",
    "L"
   ]
  },
  {
   "cell_type": "code",
   "execution_count": 4,
   "id": "386726b8",
   "metadata": {
    "slideshow": {
     "slide_type": "slide"
    }
   },
   "outputs": [
    {
     "data": {
      "text/plain": [
       "[1, 2, 3, 4, 1, 8]"
      ]
     },
     "execution_count": 4,
     "metadata": {},
     "output_type": "execute_result"
    }
   ],
   "source": [
    "L.extend([1,8])\n",
    "L"
   ]
  },
  {
   "cell_type": "code",
   "execution_count": 5,
   "id": "946f0aea",
   "metadata": {},
   "outputs": [
    {
     "data": {
      "text/plain": [
       "1"
      ]
     },
     "execution_count": 5,
     "metadata": {},
     "output_type": "execute_result"
    }
   ],
   "source": [
    "L.count(3)"
   ]
  },
  {
   "cell_type": "code",
   "execution_count": 7,
   "id": "baa1ee77",
   "metadata": {},
   "outputs": [
    {
     "data": {
      "text/plain": [
       "[1, 2, 3, 'manoj']"
      ]
     },
     "execution_count": 7,
     "metadata": {},
     "output_type": "execute_result"
    }
   ],
   "source": [
    "L=[1,2,3,\"manoj\"]\n",
    "L"
   ]
  },
  {
   "cell_type": "code",
   "execution_count": 8,
   "id": "02d3e8c8",
   "metadata": {
    "slideshow": {
     "slide_type": "slide"
    }
   },
   "outputs": [
    {
     "data": {
      "text/plain": [
       "3"
      ]
     },
     "execution_count": 8,
     "metadata": {},
     "output_type": "execute_result"
    }
   ],
   "source": [
    "L.index(\"manoj\")"
   ]
  },
  {
   "cell_type": "code",
   "execution_count": 9,
   "id": "75988d16",
   "metadata": {
    "slideshow": {
     "slide_type": "slide"
    }
   },
   "outputs": [
    {
     "data": {
      "text/plain": [
       "[]"
      ]
     },
     "execution_count": 9,
     "metadata": {},
     "output_type": "execute_result"
    }
   ],
   "source": [
    "L.clear()\n",
    "L"
   ]
  },
  {
   "cell_type": "code",
   "execution_count": 10,
   "id": "792304be",
   "metadata": {},
   "outputs": [
    {
     "data": {
      "text/plain": [
       "[1, 3, 4]"
      ]
     },
     "execution_count": 10,
     "metadata": {},
     "output_type": "execute_result"
    }
   ],
   "source": [
    "L=[1,2,3,4]\n",
    "L.remove(2)\n",
    "L"
   ]
  },
  {
   "cell_type": "code",
   "execution_count": 11,
   "id": "3bb12321",
   "metadata": {},
   "outputs": [
    {
     "data": {
      "text/plain": [
       "[1, 2, 4]"
      ]
     },
     "execution_count": 11,
     "metadata": {},
     "output_type": "execute_result"
    }
   ],
   "source": [
    "L=[1,2,3,4]\n",
    "L.pop(2)\n",
    "L"
   ]
  },
  {
   "cell_type": "code",
   "execution_count": 24,
   "id": "a7de86e8",
   "metadata": {},
   "outputs": [
    {
     "data": {
      "text/plain": [
       "[1, 2, 4]"
      ]
     },
     "execution_count": 24,
     "metadata": {},
     "output_type": "execute_result"
    }
   ],
   "source": [
    "L=[1,2,3,4]\n",
    "L.pop(2)\n",
    "L"
   ]
  },
  {
   "cell_type": "code",
   "execution_count": 12,
   "id": "62836b6e",
   "metadata": {
    "slideshow": {
     "slide_type": "slide"
    }
   },
   "outputs": [
    {
     "data": {
      "text/plain": [
       "[1, 2, 3, 4]"
      ]
     },
     "execution_count": 12,
     "metadata": {},
     "output_type": "execute_result"
    }
   ],
   "source": [
    "L=[1,2,3,4]\n",
    "L"
   ]
  },
  {
   "cell_type": "code",
   "execution_count": 13,
   "id": "00cdd3f5",
   "metadata": {},
   "outputs": [
    {
     "data": {
      "text/plain": [
       "[1, 2, 8, 3, 4]"
      ]
     },
     "execution_count": 13,
     "metadata": {},
     "output_type": "execute_result"
    }
   ],
   "source": [
    "L.insert(2,8)\n",
    "L"
   ]
  },
  {
   "cell_type": "code",
   "execution_count": 38,
   "id": "7e7c88ee",
   "metadata": {},
   "outputs": [
    {
     "data": {
      "text/plain": [
       "[1, 2, 0, 3, 4]"
      ]
     },
     "execution_count": 38,
     "metadata": {},
     "output_type": "execute_result"
    }
   ],
   "source": [
    "L.insert(2,0)\n",
    "L"
   ]
  },
  {
   "cell_type": "markdown",
   "id": "effb20aa",
   "metadata": {
    "slideshow": {
     "slide_type": "slide"
    }
   },
   "source": [
    "### Membership"
   ]
  },
  {
   "cell_type": "code",
   "execution_count": 28,
   "id": "0610e703",
   "metadata": {},
   "outputs": [
    {
     "name": "stdout",
     "output_type": "stream",
     "text": [
      "True\n",
      "False\n",
      "True\n"
     ]
    }
   ],
   "source": [
    "my_list = ['p', 'r', 'o', 'b', 'l', 'e', 'm']\n",
    "\n",
    "# Output: True\n",
    "print('p' in my_list)\n",
    "\n",
    "# Output: False\n",
    "print('a' in my_list)\n",
    "\n",
    "# Output: True\n",
    "print('c' not in my_list)"
   ]
  },
  {
   "cell_type": "code",
   "execution_count": 39,
   "id": "c243f022",
   "metadata": {
    "slideshow": {
     "slide_type": "slide"
    }
   },
   "outputs": [
    {
     "name": "stdout",
     "output_type": "stream",
     "text": [
      "I like apple\n",
      "I like banana\n",
      "I like mango\n"
     ]
    }
   ],
   "source": [
    "# Iterating Through a List\n",
    "# Using a for loop we can iterate through each item in a list.\n",
    "\n",
    "for fruit in ['apple','banana','mango']:\n",
    "    print(\"I like\",fruit)"
   ]
  },
  {
   "cell_type": "code",
   "execution_count": null,
   "id": "3ddee202",
   "metadata": {},
   "outputs": [],
   "source": []
  },
  {
   "cell_type": "code",
   "execution_count": null,
   "id": "ac72d0d7",
   "metadata": {},
   "outputs": [],
   "source": []
  },
  {
   "cell_type": "markdown",
   "id": "2f663886",
   "metadata": {
    "slideshow": {
     "slide_type": "slide"
    }
   },
   "source": [
    "# Tuples"
   ]
  },
  {
   "cell_type": "markdown",
   "id": "a3ea35fc",
   "metadata": {},
   "source": [
    "A tuple is a collection of objects which **ordered** and **immutable**. Tuples are sequences, just like lists. The differences between tuples and lists are, the tuples cannot be changed unlike lists and tuples use parentheses, whereas lists use square brackets.\n",
    "Creating a tuple is as simple as putting different comma-separated values. Optionally you can put these comma-separated values between parentheses also. For example −"
   ]
  },
  {
   "cell_type": "code",
   "execution_count": 30,
   "id": "4a784c7e",
   "metadata": {},
   "outputs": [
    {
     "data": {
      "text/plain": [
       "('a', 'b', 'c', 'd')"
      ]
     },
     "execution_count": 30,
     "metadata": {},
     "output_type": "execute_result"
    }
   ],
   "source": [
    "tup1 = ('physics', 'chemistry', 1997, 2000);\n",
    "tup2 = (1, 2, 3, 4, 5 );\n",
    "tup3 = \"a\", \"b\", \"c\", \"d\";\n",
    "tup3"
   ]
  },
  {
   "cell_type": "code",
   "execution_count": 31,
   "id": "e9651331",
   "metadata": {},
   "outputs": [
    {
     "data": {
      "text/plain": [
       "tuple"
      ]
     },
     "execution_count": 31,
     "metadata": {},
     "output_type": "execute_result"
    }
   ],
   "source": [
    "tup1 = (); # The empty tuple is written as two parentheses containing nothing −\n",
    "tup1 = (50,); #To write a tuple containing a single value you have to include a comma, even though there is only one value.\n",
    "tup1=(60,)\n",
    "tup1\n",
    "type(tup1)\n",
    "#Like string indices, tuple indices start at 0, and they can be sliced, concatenated, and so on."
   ]
  },
  {
   "cell_type": "markdown",
   "id": "7eddb9a9",
   "metadata": {},
   "source": [
    "## Accessing Values in Tuples\n",
    "\n",
    "To access values in tuple, use the square brackets for slicing along with the index or indices to obtain value available at that index. For example −"
   ]
  },
  {
   "cell_type": "code",
   "execution_count": 14,
   "id": "3933d859",
   "metadata": {},
   "outputs": [
    {
     "name": "stdout",
     "output_type": "stream",
     "text": [
      "tup1[0]:  physics\n",
      "tup2[1:5]:  (2, 3, 4, 5)\n"
     ]
    },
    {
     "ename": "TypeError",
     "evalue": "'tuple' object does not support item assignment",
     "output_type": "error",
     "traceback": [
      "\u001b[1;31m---------------------------------------------------------------------------\u001b[0m",
      "\u001b[1;31mTypeError\u001b[0m                                 Traceback (most recent call last)",
      "\u001b[1;32m<ipython-input-14-0db77ff60b3f>\u001b[0m in \u001b[0;36m<module>\u001b[1;34m\u001b[0m\n\u001b[0;32m      3\u001b[0m \u001b[0mprint\u001b[0m\u001b[1;33m(\u001b[0m\u001b[1;34m\"tup1[0]: \"\u001b[0m\u001b[1;33m,\u001b[0m \u001b[0mtup1\u001b[0m\u001b[1;33m[\u001b[0m\u001b[1;36m0\u001b[0m\u001b[1;33m]\u001b[0m\u001b[1;33m)\u001b[0m\u001b[1;33m\u001b[0m\u001b[1;33m\u001b[0m\u001b[0m\n\u001b[0;32m      4\u001b[0m \u001b[0mprint\u001b[0m\u001b[1;33m(\u001b[0m\u001b[1;34m\"tup2[1:5]: \"\u001b[0m\u001b[1;33m,\u001b[0m \u001b[0mtup2\u001b[0m\u001b[1;33m[\u001b[0m\u001b[1;36m1\u001b[0m\u001b[1;33m:\u001b[0m\u001b[1;36m5\u001b[0m\u001b[1;33m]\u001b[0m\u001b[1;33m)\u001b[0m\u001b[1;33m\u001b[0m\u001b[1;33m\u001b[0m\u001b[0m\n\u001b[1;32m----> 5\u001b[1;33m \u001b[0mtup1\u001b[0m\u001b[1;33m[\u001b[0m\u001b[1;36m0\u001b[0m\u001b[1;33m]\u001b[0m\u001b[1;33m=\u001b[0m\u001b[1;34m\"Maths\"\u001b[0m\u001b[1;33m\u001b[0m\u001b[1;33m\u001b[0m\u001b[0m\n\u001b[0m",
      "\u001b[1;31mTypeError\u001b[0m: 'tuple' object does not support item assignment"
     ]
    }
   ],
   "source": [
    "tup1 = ('physics', 'chemistry', 1997, 2000)\n",
    "tup2 = (1, 2, 3, 4, 5, 6, 7)\n",
    "print(\"tup1[0]: \", tup1[0])\n",
    "print(\"tup2[1:5]: \", tup2[1:5])\n",
    "tup1[0]=\"Maths\""
   ]
  },
  {
   "cell_type": "markdown",
   "id": "9732af06",
   "metadata": {},
   "source": [
    "## Updating Tuples\n",
    "\n",
    "Tuples are immutable which means you cannot update or change the values of tuple elements. You are able to take portions of existing tuples to create new tuples as the following example demonstrates −"
   ]
  },
  {
   "cell_type": "code",
   "execution_count": 33,
   "id": "754af550",
   "metadata": {
    "scrolled": false
   },
   "outputs": [
    {
     "name": "stdout",
     "output_type": "stream",
     "text": [
      "(12, 34.56, 'abc', 'xyz')\n",
      "[1, 2, 3, 2]\n"
     ]
    },
    {
     "data": {
      "text/plain": [
       "8"
      ]
     },
     "execution_count": 33,
     "metadata": {},
     "output_type": "execute_result"
    }
   ],
   "source": [
    "tup1 = (12, 34.56);\n",
    "tup2 = ('abc', 'xyz');\n",
    "\n",
    "# Following action is not valid for tuples\n",
    "# tup1[0] = 100;  # TypeError: 'tuple' object does not support item assignment\n",
    "\n",
    "# So let's create a new tuple as follows\n",
    "tup3 = tup1 + tup2;\n",
    "print(tup3);\n",
    "\n",
    "tup4=[1,2]\n",
    "tup5=[3,2]\n",
    "tup6=tup4+tup5\n",
    "print(tup6)\n",
    "\n",
    "sum(tup4+tup5)"
   ]
  },
  {
   "cell_type": "markdown",
   "id": "754506ea",
   "metadata": {},
   "source": [
    "## Delete Tuple Elements\n",
    "Removing individual tuple elements is not possible. There is, of course, nothing wrong with putting together another tuple with the undesired elements discarded.\n",
    "\n",
    "To explicitly remove an entire tuple, just use the del statement."
   ]
  },
  {
   "cell_type": "code",
   "execution_count": 15,
   "id": "8dfab5a2",
   "metadata": {},
   "outputs": [
    {
     "name": "stdout",
     "output_type": "stream",
     "text": [
      "('physics', 'chemistry', 1997, 2000)\n",
      "After deleting tup : \n"
     ]
    },
    {
     "ename": "NameError",
     "evalue": "name 'tup' is not defined",
     "output_type": "error",
     "traceback": [
      "\u001b[1;31m---------------------------------------------------------------------------\u001b[0m",
      "\u001b[1;31mNameError\u001b[0m                                 Traceback (most recent call last)",
      "\u001b[1;32m<ipython-input-15-2ac031d1cabe>\u001b[0m in \u001b[0;36m<module>\u001b[1;34m\u001b[0m\n\u001b[0;32m      3\u001b[0m \u001b[1;32mdel\u001b[0m \u001b[0mtup\u001b[0m\u001b[1;33m;\u001b[0m\u001b[1;33m\u001b[0m\u001b[1;33m\u001b[0m\u001b[0m\n\u001b[0;32m      4\u001b[0m \u001b[0mprint\u001b[0m\u001b[1;33m(\u001b[0m\u001b[1;34m\"After deleting tup : \"\u001b[0m\u001b[1;33m)\u001b[0m\u001b[1;33m\u001b[0m\u001b[1;33m\u001b[0m\u001b[0m\n\u001b[1;32m----> 5\u001b[1;33m \u001b[0mprint\u001b[0m\u001b[1;33m(\u001b[0m\u001b[0mtup\u001b[0m\u001b[1;33m)\u001b[0m\u001b[1;33m;\u001b[0m\u001b[1;33m\u001b[0m\u001b[1;33m\u001b[0m\u001b[0m\n\u001b[0m",
      "\u001b[1;31mNameError\u001b[0m: name 'tup' is not defined"
     ]
    }
   ],
   "source": [
    "tup = ('physics', 'chemistry', 1997, 2000);\n",
    "print(tup);\n",
    "del tup;\n",
    "print(\"After deleting tup : \")\n",
    "print(tup);"
   ]
  },
  {
   "cell_type": "markdown",
   "id": "6c8a8d93",
   "metadata": {},
   "source": [
    "## Basic Tuples Operations\n",
    "Tuples respond to the + and * operators much like strings; they mean concatenation and repetition here too, except that the result is a new tuple, not a string."
   ]
  },
  {
   "cell_type": "code",
   "execution_count": 35,
   "id": "87503571",
   "metadata": {},
   "outputs": [
    {
     "name": "stdout",
     "output_type": "stream",
     "text": [
      "3\n",
      "(1, 2, 3, 4, 5, 6)\n",
      "('Hi!', 'Hello', 'Hi!', 'Hello', 'Hi!', 'Hello', 'Hi!', 'Hello')\n",
      "False\n",
      "2\n",
      "4\n",
      "6\n"
     ]
    }
   ],
   "source": [
    "print(len((1, 2, 3)))   # Length\n",
    "print((1, 2, 3) + (4, 5, 6)) # Concatenation\n",
    "print(('Hi!',\"Hello\") * 4) # Repetition\n",
    "print(3 not in (1, 2, 3)) # Membership\n",
    "for x in (1, 2, 3):  #Iteration\n",
    "    print(2*x) "
   ]
  },
  {
   "cell_type": "markdown",
   "id": "f2c34d5c",
   "metadata": {},
   "source": [
    "## Indexing, Slicing, and Matrixes\n",
    "Because tuples are sequences, indexing and slicing work the same way for tuples as they do for strings."
   ]
  },
  {
   "cell_type": "code",
   "execution_count": 36,
   "id": "f8e431b6",
   "metadata": {},
   "outputs": [
    {
     "name": "stdout",
     "output_type": "stream",
     "text": [
      "('A', 'B')\n",
      "C\n",
      "B\n",
      "('B', 'C')\n"
     ]
    }
   ],
   "source": [
    "L = ('A', 'B', 'C')\n",
    "print(L[0:2])\n",
    "print(L[2])  # Offsets start at zero\n",
    "print(L[-2]) # Count from the right\n",
    "print(L[1:]) # Slicing fetches sections"
   ]
  },
  {
   "cell_type": "markdown",
   "id": "976c421e",
   "metadata": {},
   "source": [
    "## Tuple Function with Description"
   ]
  },
  {
   "cell_type": "code",
   "execution_count": 37,
   "id": "42df2c38",
   "metadata": {},
   "outputs": [
    {
     "name": "stdout",
     "output_type": "stream",
     "text": [
      "3\n",
      "5\n",
      "2\n",
      "[1, 2, 3]\n",
      "(1, 2, 3)\n",
      "3\n",
      "[3, 5, 2]\n",
      "(3, 5, 2)\n"
     ]
    }
   ],
   "source": [
    "tup=(3,5,2)\n",
    "print(len(tup)) # Gives the total length of the tuple.\n",
    "print(max(tup)) # Returns item from the tuple with max value.\n",
    "print(min(tup)) # Returns item from the tuple with min value.\n",
    "\n",
    "seq=[1,2,3]\n",
    "print(seq)\n",
    "print(tuple(seq)) # Converts a list into tuple. TypeCast operator\n",
    "\n",
    "print(int(float(\"3.2\")))\n",
    "print(list(tup))\n",
    "print(tup)"
   ]
  },
  {
   "cell_type": "code",
   "execution_count": 38,
   "id": "db6564be",
   "metadata": {},
   "outputs": [
    {
     "data": {
      "text/html": [
       "<div>\n",
       "<style scoped>\n",
       "    .dataframe tbody tr th:only-of-type {\n",
       "        vertical-align: middle;\n",
       "    }\n",
       "\n",
       "    .dataframe tbody tr th {\n",
       "        vertical-align: top;\n",
       "    }\n",
       "\n",
       "    .dataframe thead th {\n",
       "        text-align: right;\n",
       "    }\n",
       "</style>\n",
       "<table border=\"1\" class=\"dataframe\">\n",
       "  <thead>\n",
       "    <tr style=\"text-align: right;\">\n",
       "      <th></th>\n",
       "      <th>List</th>\n",
       "      <th>Tuples</th>\n",
       "    </tr>\n",
       "  </thead>\n",
       "  <tbody>\n",
       "    <tr>\n",
       "      <th>0</th>\n",
       "      <td>Lists are mutable</td>\n",
       "      <td>Tuples are immutable</td>\n",
       "    </tr>\n",
       "    <tr>\n",
       "      <th>1</th>\n",
       "      <td>Implication of iterations is Time-consuming</td>\n",
       "      <td>The implication of iterations is comparatively...</td>\n",
       "    </tr>\n",
       "    <tr>\n",
       "      <th>2</th>\n",
       "      <td>The list is better for performing operations, ...</td>\n",
       "      <td>Tuple data type is appropriate for accessing t...</td>\n",
       "    </tr>\n",
       "    <tr>\n",
       "      <th>3</th>\n",
       "      <td>Lists consume more memory</td>\n",
       "      <td>Tuple consume less memory as compared to the list</td>\n",
       "    </tr>\n",
       "    <tr>\n",
       "      <th>4</th>\n",
       "      <td>Lists have several built-in methods</td>\n",
       "      <td>Tuple does not have many built-in methods.</td>\n",
       "    </tr>\n",
       "  </tbody>\n",
       "</table>\n",
       "</div>"
      ],
      "text/plain": [
       "                                                List  \\\n",
       "0                                  Lists are mutable   \n",
       "1        Implication of iterations is Time-consuming   \n",
       "2  The list is better for performing operations, ...   \n",
       "3                          Lists consume more memory   \n",
       "4                Lists have several built-in methods   \n",
       "\n",
       "                                              Tuples  \n",
       "0                               Tuples are immutable  \n",
       "1  The implication of iterations is comparatively...  \n",
       "2  Tuple data type is appropriate for accessing t...  \n",
       "3  Tuple consume less memory as compared to the list  \n",
       "4         Tuple does not have many built-in methods.  "
      ]
     },
     "execution_count": 38,
     "metadata": {},
     "output_type": "execute_result"
    }
   ],
   "source": [
    "import pandas as pd\n",
    "List=[\"Lists are mutable\",\n",
    "      \"Implication of iterations is Time-consuming\",\n",
    "      \"The list is better for performing operations, such as insertion and deletion.\",\n",
    "      \"Lists consume more memory\", \n",
    "      \"Lists have several built-in methods\"]\n",
    "Tuples=[\"Tuples are immutable\", \n",
    "        \"The implication of iterations is comparatively Faster\", \n",
    "        \"Tuple data type is appropriate for accessing the elements\", \n",
    "        \"Tuple consume less memory as compared to the list\", \n",
    "        \"Tuple does not have many built-in methods.\"]\n",
    "pd.DataFrame({\"List\":List,\"Tuples\":Tuples})"
   ]
  },
  {
   "cell_type": "markdown",
   "id": "b5117935",
   "metadata": {},
   "source": [
    "Each key is separated from its value by a colon (:), the items are separated by commas, and the whole thing is enclosed in curly braces. An empty dictionary without any items is written with just two curly braces, like this: {}.\n",
    "Keys are unique within a dictionary while values may not be. The values of a dictionary can be of any type, but the keys must be of an immutable data type such as strings, numbers, or tuples."
   ]
  },
  {
   "cell_type": "code",
   "execution_count": 17,
   "id": "19eae17e",
   "metadata": {},
   "outputs": [
    {
     "data": {
      "text/plain": [
       "list"
      ]
     },
     "execution_count": 17,
     "metadata": {},
     "output_type": "execute_result"
    }
   ],
   "source": [
    "type(list((1,2,3)))"
   ]
  },
  {
   "cell_type": "markdown",
   "id": "ea4481a5",
   "metadata": {},
   "source": [
    "## Accessing Values in Dictionary"
   ]
  },
  {
   "cell_type": "code",
   "execution_count": 39,
   "id": "a64ee3ff",
   "metadata": {},
   "outputs": [
    {
     "name": "stdout",
     "output_type": "stream",
     "text": [
      "{'Age': 7, 'Class': 'First', 'Name': 'Zara'}\n",
      "dict['Name']:  Zara\n",
      "dict['Age']:  7\n"
     ]
    },
    {
     "data": {
      "text/plain": [
       "'Zara'"
      ]
     },
     "execution_count": 39,
     "metadata": {},
     "output_type": "execute_result"
    }
   ],
   "source": [
    "dict = {'Age': 7, 'Class': 'First','Name': 'Zara'}\n",
    "print(dict)\n",
    "print(\"dict['Name']: \", dict['Name'])\n",
    "print(\"dict['Age']: \", dict['Age'])\n",
    "dict[\"Name\"]"
   ]
  },
  {
   "cell_type": "markdown",
   "id": "bc2bb217",
   "metadata": {},
   "source": [
    "## Updating Dictionary\n",
    "You can update a dictionary by adding a new entry or a key-value pair, modifying an existing entry, or deleting an existing entry"
   ]
  },
  {
   "cell_type": "code",
   "execution_count": 40,
   "id": "53d730ff",
   "metadata": {},
   "outputs": [
    {
     "name": "stdout",
     "output_type": "stream",
     "text": [
      "dict['Age']:  8\n",
      "dict['School']:  DPS School\n"
     ]
    }
   ],
   "source": [
    "dict = {'Name': 'Zara', 'Age': 7, 'Class': 'First'}\n",
    "dict['Age'] = 8; # update existing entry\n",
    "dict['School'] = \"DPS School\"; # Add new entry\n",
    "\n",
    "print(\"dict['Age']: \", dict['Age'])\n",
    "print(\"dict['School']: \", dict['School'])"
   ]
  },
  {
   "cell_type": "markdown",
   "id": "f6b4e7b1",
   "metadata": {},
   "source": [
    "Delete Dictionary Elements\n",
    "You can either remove individual dictionary elements or clear the entire contents of a dictionary. You can also delete entire dictionary in a single operation."
   ]
  },
  {
   "cell_type": "code",
   "execution_count": 41,
   "id": "5bca10fb",
   "metadata": {},
   "outputs": [
    {
     "name": "stdout",
     "output_type": "stream",
     "text": [
      "dict['Age']:  dict['Age']\n",
      "dict['School']:  dict['School']\n"
     ]
    }
   ],
   "source": [
    "dict = {'Name': 'Zara', 'Age': 7, 'Class': 'First'}\n",
    "del dict['Name']; # remove entry with key 'Name'\n",
    "dict.clear();     # remove all entries in dict\n",
    "del dict ;        # delete entire dictionary\n",
    "\n",
    "print(\"dict['Age']: \", dict['Age'])\n",
    "print(\"dict['School']: \", dict['School'])"
   ]
  },
  {
   "cell_type": "markdown",
   "id": "ed73e75b",
   "metadata": {},
   "source": [
    "Properties of Dictionary Keys"
   ]
  },
  {
   "cell_type": "markdown",
   "id": "de798787",
   "metadata": {},
   "source": [
    "(a) More than one entry per key not allowed. Which means no duplicate key is allowed. When duplicate keys encountered during assignment, the last assignment wins."
   ]
  },
  {
   "cell_type": "code",
   "execution_count": 42,
   "id": "97919c41",
   "metadata": {},
   "outputs": [
    {
     "name": "stdout",
     "output_type": "stream",
     "text": [
      "dict['Name']:  Manni\n"
     ]
    }
   ],
   "source": [
    "dict = {'Name': 'Zara', \n",
    "        'Age': 7, \n",
    "        'Name': 'Manni'}\n",
    "print(\"dict['Name']: \", dict['Name'])"
   ]
  },
  {
   "cell_type": "markdown",
   "id": "b57c5d11",
   "metadata": {},
   "source": [
    "(b) Keys must be immutable. Which means you can use strings, numbers or tuples as dictionary keys but something like ['key'] is not allowed."
   ]
  },
  {
   "cell_type": "code",
   "execution_count": 44,
   "id": "01dd8e5a",
   "metadata": {},
   "outputs": [
    {
     "ename": "TypeError",
     "evalue": "unhashable type: 'list'",
     "output_type": "error",
     "traceback": [
      "\u001b[1;31m---------------------------------------------------------------------------\u001b[0m",
      "\u001b[1;31mTypeError\u001b[0m                                 Traceback (most recent call last)",
      "\u001b[1;32m<ipython-input-44-45b3431294c3>\u001b[0m in \u001b[0;36m<module>\u001b[1;34m\u001b[0m\n\u001b[1;32m----> 1\u001b[1;33m dict1 = {['Name']: 'Zara', \n\u001b[0m\u001b[0;32m      2\u001b[0m          'Age': 7}\n\u001b[0;32m      3\u001b[0m \u001b[0mprint\u001b[0m\u001b[1;33m(\u001b[0m\u001b[1;34m\"dict['Name']: \"\u001b[0m\u001b[1;33m,\u001b[0m \u001b[0mdict\u001b[0m\u001b[1;33m[\u001b[0m\u001b[1;34m'Name'\u001b[0m\u001b[1;33m]\u001b[0m\u001b[1;33m)\u001b[0m\u001b[1;33m\u001b[0m\u001b[1;33m\u001b[0m\u001b[0m\n",
      "\u001b[1;31mTypeError\u001b[0m: unhashable type: 'list'"
     ]
    }
   ],
   "source": [
    "dict1 = {['Name']: 'Zara', \n",
    "         'Age': 7}\n",
    "print(\"dict['Name']: \", dict['Name'])"
   ]
  },
  {
   "cell_type": "markdown",
   "id": "70974f13",
   "metadata": {},
   "source": [
    "## Dictionary Functions"
   ]
  },
  {
   "cell_type": "code",
   "execution_count": 45,
   "id": "23e5c525",
   "metadata": {},
   "outputs": [
    {
     "name": "stdout",
     "output_type": "stream",
     "text": [
      "2\n",
      "{'Name': 'Zara', 'Age': 7}\n",
      "<class 'dict'>\n"
     ]
    }
   ],
   "source": [
    "dict1 = {'Name': 'Zara', 'Age': 7}\n",
    "print(len(dict1)) #Gives the total length of the dictionary. This would be equal to the number of items in the dictionary.\n",
    "print(str(dict1)) #Produces a printable string representation of a dictionary\n",
    "print(type(dict1)) #Returns the type of the passed variable. If passed variable is dictionary, then it would return a dictionary type."
   ]
  },
  {
   "cell_type": "markdown",
   "id": "cf7072ee",
   "metadata": {},
   "source": [
    "## Dictionary Methods"
   ]
  },
  {
   "cell_type": "code",
   "execution_count": 46,
   "id": "b9cdddbd",
   "metadata": {},
   "outputs": [
    {
     "data": {
      "text/plain": [
       "{}"
      ]
     },
     "execution_count": 46,
     "metadata": {},
     "output_type": "execute_result"
    }
   ],
   "source": [
    "dict1.clear() #Removes all elements of dictionary dict\n",
    "dict1.copy() #Returns a shallow copy of dictionary dict\n",
    "# dict1.fromkeys() # Create a new dictionary with keys from seq and values set to value.\n",
    "#dict1.get(key, default=None)# For key key, returns value or default if key not in dictionary\n",
    "#dict1.has_key(key)#Returns true if key in dictionary dict, false otherwise\n",
    "#dict1.items()#Returns a list of dict's (key, value) tuple pairs\n",
    "#dict1.keys()#Returns list of dictionary dict's keys\n",
    "#dict1.setdefault(key, default=None)# Similar to get(), but will set dict[key]=default if key is not already in dict\n",
    "#dict1.update(dict2)# Adds dictionary dict2's key-values pairs to dict\n",
    "#dict1.values()# Returns list of dictionary dict's values"
   ]
  },
  {
   "cell_type": "markdown",
   "id": "ad0cbf9b",
   "metadata": {},
   "source": [
    "# Assignment Questions"
   ]
  },
  {
   "cell_type": "markdown",
   "id": "1cae6bba",
   "metadata": {},
   "source": [
    "## Lists:\n",
    "\n",
    "- What is a list in Python? How is it different from other data types in Python?\n",
    "\n",
    "- How do you create a list in Python? Provide an example.\n",
    "\n",
    "- What are some common list operations in Python? Provide examples.\n",
    "\n",
    "- What is list slicing? How is it useful?\n",
    "\n",
    "- What is a list comprehension? How do you create a list comprehension in Python?\n",
    "\n",
    "## Tuples:\n",
    "\n",
    "\n",
    "- What is a tuple in Python? How is it different from a list?\n",
    "\n",
    "- How do you create a tuple in Python? Provide an example.\n",
    "\n",
    "- What are some common tuple operations in Python? Provide examples.\n",
    "\n",
    "- What is tuple unpacking? How is it useful?\n",
    "\n",
    "- Can you modify a tuple in Python? Why or why not?\n",
    "\n",
    "\n",
    "## Dictionaries:\n",
    "\n",
    "\n",
    "- What is a dictionary in Python? How is it different from other data types in Python?\n",
    "\n",
    "- How do you create a dictionary in Python? Provide an example.\n",
    "\n",
    "- What are some common dictionary operations in Python? Provide examples.\n",
    "\n",
    "- How do you access and modify values in a dictionary? Provide examples.\n",
    "\n",
    "- What is a dictionary comprehension? How do you create a dictionary comprehension in Python?"
   ]
  },
  {
   "cell_type": "markdown",
   "id": "6aa48ef1",
   "metadata": {},
   "source": [
    "# Practical Assignment\n",
    "\n",
    "## Lists:\n",
    "\n",
    "- Write a Python program that accepts a list of integers as input and returns the sum of all the even numbers in the list.\n",
    "\n",
    "- Write a Python program that accepts a list of strings as input and returns a new list that contains only the strings that start with the letter \"a\".\n",
    "\n",
    "- Write a Python program that accepts two lists of integers as input and returns a new list that contains only the common elements between the two lists.\n",
    "\n",
    "- Write a Python program that accepts a list of strings as input and returns a new list that contains the same strings in alphabetical order.\n",
    "- Write a Python program that accepts a list of integers as input and returns a new list that contains only the unique elements of the input list (i.e., no duplicates).\n",
    "\n",
    "## Tuples:\n",
    "\n",
    "\n",
    "- Write a Python program that accepts a tuple of integers as input and returns the sum of all the even numbers in the tuple.\n",
    "\n",
    "- Write a Python program that accepts two tuples of integers as input and returns a new tuple that contains only the common elements between the two tuples.\n",
    "\n",
    "- Write a Python program that accepts a tuple of strings as input and returns a new tuple that contains only the strings that start with the letter \"a\".\n",
    "\n",
    "- Write a Python program that accepts a tuple of integers as input and returns a new tuple that contains the same integers in descending order.\n",
    "\n",
    "- Write a Python program that accepts a tuple of integers as input and returns a new tuple that contains only the unique elements of the input tuple (i.e., no duplicates).\n",
    "\n",
    "## Dictionaries:\n",
    "\n",
    "\n",
    "- Write a Python program that accepts a dictionary of integers as input and returns the sum of all the values in the dictionary.\n",
    "\n",
    "- Write a Python program that accepts two dictionaries of integers as input and returns a new dictionary that contains only the common keys and values between the two dictionaries.\n",
    "\n",
    "- Write a Python program that accepts a dictionary of strings as input and returns a new dictionary that contains only the key-value pairs where the value is a string that starts with the letter \"a\".\n",
    "\n",
    "- Write a Python program that accepts a dictionary of integers as input and returns a new dictionary that contains the same key-value pairs as the input dictionary, but with the keys and values swapped.\n",
    "\n",
    "- Write a Python program that accepts a dictionary of integers as input and returns a new dictionary that contains only the keys and values where the value is an even number."
   ]
  },
  {
   "cell_type": "markdown",
   "id": "af73ec76",
   "metadata": {},
   "source": [
    "## Lists:\n",
    "\n",
    "- Write a Python program that accepts a list of integers as input and returns the sum of all the even numbers in the list."
   ]
  },
  {
   "cell_type": "code",
   "execution_count": 5,
   "id": "249af7d7",
   "metadata": {},
   "outputs": [
    {
     "name": "stdout",
     "output_type": "stream",
     "text": [
      "Enter the size of the list:5\n",
      "Enter numbers:\n",
      "1:23\n",
      "2:49\n",
      "3:32\n",
      "4:14\n",
      "5:12\n",
      "List: [23, 49, 32, 14, 12]\n",
      "Sum of the even numbers is 58.\n"
     ]
    }
   ],
   "source": [
    "L=[]\n",
    "n=int(input(\"Enter the size of the list:\"))\n",
    "sum0=0\n",
    "print(\"Enter numbers:\")\n",
    "for i in range(0,n):\n",
    "    temp=int(input(f\"{i+1}:\"))\n",
    "    L.append(temp)\n",
    "    sum0+=temp if temp%2==0 else 0\n",
    "\n",
    "print(f\"List: {L}\")\n",
    "print(f\"Sum of the even numbers is {sum0}.\")"
   ]
  },
  {
   "cell_type": "markdown",
   "id": "64ca0697",
   "metadata": {},
   "source": [
    "- Write a Python program that accepts a list of strings as input and returns a new list that contains only the strings that start with the letter \"a\"."
   ]
  },
  {
   "cell_type": "code",
   "execution_count": 7,
   "id": "1e4e2246",
   "metadata": {},
   "outputs": [
    {
     "name": "stdout",
     "output_type": "stream",
     "text": [
      "Enter the size of the list:3\n",
      "Enter List elements:\n",
      "1:Anita\n",
      "2:Mrunal\n",
      "3:Archana\n",
      "List: ['Anita', 'Mrunal', 'Archana']\n",
      "New List: ['Anita', 'Archana']\n"
     ]
    }
   ],
   "source": [
    "L=[]\n",
    "n=int(input(\"Enter the size of the list:\"))\n",
    "new_L=[]\n",
    "print(\"Enter List elements:\")\n",
    "for i in range(0,n):\n",
    "    temp=input(f\"{i+1}:\")\n",
    "    L.append(temp)\n",
    "    if temp[0]==\"a\" or temp[0]==\"A\":\n",
    "        new_L.append(temp)\n",
    "\n",
    "print(f\"List: {L}\")\n",
    "print(f\"New List: {new_L}\")"
   ]
  },
  {
   "cell_type": "markdown",
   "id": "66a444f7",
   "metadata": {},
   "source": [
    "- Write a Python program that accepts two lists of integers as input and returns a new list that contains only the common elements between the two lists."
   ]
  },
  {
   "cell_type": "code",
   "execution_count": 9,
   "id": "32b0478f",
   "metadata": {},
   "outputs": [
    {
     "name": "stdout",
     "output_type": "stream",
     "text": [
      "Enter the length of list 1 :3\n",
      "Enter the length of list 2 :3\n",
      "List 1: 1 :1\n",
      "List 1: 2 :2\n",
      "List 1: 3 :3\n",
      "List 2: 1 :4\n",
      "List 2: 2 :3\n",
      "List 2: 3 :2\n",
      "[2, 3]\n"
     ]
    }
   ],
   "source": [
    "n1=int(input(\"Enter the length of list 1 :\"))\n",
    "n2=int(input(\"Enter the length of list 2 :\"))\n",
    "L1=[]\n",
    "L2=[]\n",
    "newL=[]\n",
    "for i in range(0,n1):\n",
    "    temp=int(input(f\"List 1: {i+1} :\"))\n",
    "    L1.append(temp)\n",
    "for i in range(0,n2):\n",
    "    temp=int(input(f\"List 2: {i+1} :\"))\n",
    "    L2.append(temp)\n",
    "    \n",
    "for i in range(0,n1):\n",
    "    for j in range(0,n2):\n",
    "        temp=L1[i]\n",
    "        if L1[i]==L2[j]:\n",
    "            newL.append(temp)\n",
    "print(newL)            "
   ]
  },
  {
   "cell_type": "code",
   "execution_count": 20,
   "id": "925afa74",
   "metadata": {},
   "outputs": [
    {
     "name": "stdout",
     "output_type": "stream",
     "text": [
      "First Comma separated List :1,2,3\n",
      "Second Comma separated List :2,3,4,5\n"
     ]
    },
    {
     "data": {
      "text/plain": [
       "['2', '3']"
      ]
     },
     "execution_count": 20,
     "metadata": {},
     "output_type": "execute_result"
    }
   ],
   "source": [
    "L1=input(\"First Comma separated List :\")\n",
    "L1=L1.split(\",\")\n",
    "L2=input(\"Second Comma separated List :\")\n",
    "L2=L2.split(\",\")\n",
    "L3=[]\n",
    "for i in L1:\n",
    "    for j in L2:\n",
    "        if i==j:\n",
    "            L3.append(i)\n",
    "L3"
   ]
  },
  {
   "cell_type": "markdown",
   "id": "d9e99fe3",
   "metadata": {},
   "source": [
    "- Write a Python program that accepts a list of strings as input and returns a new list that contains the same strings in alphabetical order."
   ]
  },
  {
   "cell_type": "code",
   "execution_count": 26,
   "id": "391bfd41",
   "metadata": {},
   "outputs": [
    {
     "name": "stdout",
     "output_type": "stream",
     "text": [
      "Enter comma separated ListJagruti,Sampada,Vedanti,Tejas\n",
      "['Jagruti', 'Sampada', 'Tejas', 'Vedanti']\n"
     ]
    }
   ],
   "source": [
    "L4=input(\"Enter comma separated List\")\n",
    "L4=L4.split(\",\")\n",
    "L4.sort()\n",
    "print(L4)"
   ]
  },
  {
   "cell_type": "markdown",
   "id": "76e66396",
   "metadata": {},
   "source": [
    "- Write a Python program that accepts a list of integers as input and returns a new list that contains only the unique elements of the input list (i.e., no duplicates)."
   ]
  },
  {
   "cell_type": "code",
   "execution_count": 62,
   "id": "923b769c",
   "metadata": {},
   "outputs": [
    {
     "name": "stdout",
     "output_type": "stream",
     "text": [
      "Enter comma separated List1,1,2,3,2,4\n"
     ]
    }
   ],
   "source": [
    "L5=input(\"Enter comma separated List\")\n",
    "L5=L5.split(\",\")\n",
    "temp=[int(i) for i in L5]\n",
    "L6=[]\n",
    "while temp!=[]:\n",
    "    L6.append(temp[0])\n",
    "    temp.remove(temp[0])"
   ]
  },
  {
   "cell_type": "code",
   "execution_count": 63,
   "id": "209c0bf7",
   "metadata": {},
   "outputs": [
    {
     "data": {
      "text/plain": [
       "[1, 1, 2, 3, 2, 4]"
      ]
     },
     "execution_count": 63,
     "metadata": {},
     "output_type": "execute_result"
    }
   ],
   "source": [
    "L6"
   ]
  }
 ],
 "metadata": {
  "celltoolbar": "Slideshow",
  "kernelspec": {
   "display_name": "Python 3",
   "language": "python",
   "name": "python3"
  },
  "language_info": {
   "codemirror_mode": {
    "name": "ipython",
    "version": 3
   },
   "file_extension": ".py",
   "mimetype": "text/x-python",
   "name": "python",
   "nbconvert_exporter": "python",
   "pygments_lexer": "ipython3",
   "version": "3.9.5"
  },
  "latex_envs": {
   "LaTeX_envs_menu_present": true,
   "autoclose": false,
   "autocomplete": true,
   "bibliofile": "biblio.bib",
   "cite_by": "apalike",
   "current_citInitial": 1,
   "eqLabelWithNumbers": true,
   "eqNumInitial": 1,
   "hotkeys": {
    "equation": "Ctrl-E",
    "itemize": "Ctrl-I"
   },
   "labels_anchors": false,
   "latex_user_defs": false,
   "report_style_numbering": false,
   "user_envs_cfg": false
  }
 },
 "nbformat": 4,
 "nbformat_minor": 5
}
