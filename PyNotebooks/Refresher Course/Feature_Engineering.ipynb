{
 "cells": [
  {
   "cell_type": "markdown",
   "metadata": {
    "id": "KwuhZbh9eat3",
    "slideshow": {
     "slide_type": "slide"
    }
   },
   "source": [
    "# Feature Scaling"
   ]
  },
  {
   "cell_type": "code",
   "execution_count": 3,
   "metadata": {
    "id": "ElfBblYjRXgS"
   },
   "outputs": [],
   "source": [
    "import numpy as np, pandas as pd\n",
    "from sklearn.datasets import load_iris\n",
    "from sklearn.preprocessing import MinMaxScaler, StandardScaler, Normalizer, RobustScaler"
   ]
  },
  {
   "cell_type": "code",
   "execution_count": 53,
   "metadata": {
    "colab": {
     "base_uri": "https://localhost:8080/",
     "height": 206
    },
    "id": "3I_eAasfVvGw",
    "outputId": "ec6af67c-7ad8-43ce-eb5a-554bffd20ca5",
    "slideshow": {
     "slide_type": "slide"
    }
   },
   "outputs": [
    {
     "data": {
      "text/plain": [
       "{'Iris-setosa', 'Iris-versicolor', 'Iris-virginica'}"
      ]
     },
     "execution_count": 53,
     "metadata": {},
     "output_type": "execute_result"
    }
   ],
   "source": [
    "iris=pd.read_csv(\"irisdata.csv\")\n",
    "set(iris.Species)"
   ]
  },
  {
   "cell_type": "code",
   "execution_count": 54,
   "metadata": {
    "colab": {
     "base_uri": "https://localhost:8080/",
     "height": 300
    },
    "id": "E4w-rkR5TYea",
    "outputId": "94e07a38-99b7-4d3a-f003-5e783865014e",
    "scrolled": true
   },
   "outputs": [
    {
     "data": {
      "text/html": [
       "<div>\n",
       "<style scoped>\n",
       "    .dataframe tbody tr th:only-of-type {\n",
       "        vertical-align: middle;\n",
       "    }\n",
       "\n",
       "    .dataframe tbody tr th {\n",
       "        vertical-align: top;\n",
       "    }\n",
       "\n",
       "    .dataframe thead th {\n",
       "        text-align: right;\n",
       "    }\n",
       "</style>\n",
       "<table border=\"1\" class=\"dataframe\">\n",
       "  <thead>\n",
       "    <tr style=\"text-align: right;\">\n",
       "      <th></th>\n",
       "      <th>Sepal_length</th>\n",
       "      <th>Sepal_width</th>\n",
       "      <th>Petal_length</th>\n",
       "      <th>Petal_width</th>\n",
       "      <th>Species</th>\n",
       "    </tr>\n",
       "  </thead>\n",
       "  <tbody>\n",
       "    <tr>\n",
       "      <th>0</th>\n",
       "      <td>5.1</td>\n",
       "      <td>3.5</td>\n",
       "      <td>1.4</td>\n",
       "      <td>0.2</td>\n",
       "      <td>Iris-setosa</td>\n",
       "    </tr>\n",
       "    <tr>\n",
       "      <th>1</th>\n",
       "      <td>4.9</td>\n",
       "      <td>3.0</td>\n",
       "      <td>1.4</td>\n",
       "      <td>0.2</td>\n",
       "      <td>Iris-setosa</td>\n",
       "    </tr>\n",
       "    <tr>\n",
       "      <th>2</th>\n",
       "      <td>4.7</td>\n",
       "      <td>3.2</td>\n",
       "      <td>1.3</td>\n",
       "      <td>0.2</td>\n",
       "      <td>Iris-setosa</td>\n",
       "    </tr>\n",
       "    <tr>\n",
       "      <th>3</th>\n",
       "      <td>4.6</td>\n",
       "      <td>3.1</td>\n",
       "      <td>1.5</td>\n",
       "      <td>0.2</td>\n",
       "      <td>Iris-setosa</td>\n",
       "    </tr>\n",
       "    <tr>\n",
       "      <th>4</th>\n",
       "      <td>5.0</td>\n",
       "      <td>3.6</td>\n",
       "      <td>1.4</td>\n",
       "      <td>0.2</td>\n",
       "      <td>Iris-setosa</td>\n",
       "    </tr>\n",
       "    <tr>\n",
       "      <th>...</th>\n",
       "      <td>...</td>\n",
       "      <td>...</td>\n",
       "      <td>...</td>\n",
       "      <td>...</td>\n",
       "      <td>...</td>\n",
       "    </tr>\n",
       "    <tr>\n",
       "      <th>145</th>\n",
       "      <td>6.7</td>\n",
       "      <td>3.0</td>\n",
       "      <td>5.2</td>\n",
       "      <td>2.3</td>\n",
       "      <td>Iris-virginica</td>\n",
       "    </tr>\n",
       "    <tr>\n",
       "      <th>146</th>\n",
       "      <td>6.3</td>\n",
       "      <td>2.5</td>\n",
       "      <td>5.0</td>\n",
       "      <td>1.9</td>\n",
       "      <td>Iris-virginica</td>\n",
       "    </tr>\n",
       "    <tr>\n",
       "      <th>147</th>\n",
       "      <td>6.5</td>\n",
       "      <td>3.0</td>\n",
       "      <td>5.2</td>\n",
       "      <td>2.0</td>\n",
       "      <td>Iris-virginica</td>\n",
       "    </tr>\n",
       "    <tr>\n",
       "      <th>148</th>\n",
       "      <td>6.2</td>\n",
       "      <td>3.4</td>\n",
       "      <td>5.4</td>\n",
       "      <td>2.3</td>\n",
       "      <td>Iris-virginica</td>\n",
       "    </tr>\n",
       "    <tr>\n",
       "      <th>149</th>\n",
       "      <td>5.9</td>\n",
       "      <td>3.0</td>\n",
       "      <td>5.1</td>\n",
       "      <td>1.8</td>\n",
       "      <td>Iris-virginica</td>\n",
       "    </tr>\n",
       "  </tbody>\n",
       "</table>\n",
       "<p>150 rows × 5 columns</p>\n",
       "</div>"
      ],
      "text/plain": [
       "     Sepal_length  Sepal_width  Petal_length  Petal_width         Species\n",
       "0             5.1          3.5           1.4          0.2     Iris-setosa\n",
       "1             4.9          3.0           1.4          0.2     Iris-setosa\n",
       "2             4.7          3.2           1.3          0.2     Iris-setosa\n",
       "3             4.6          3.1           1.5          0.2     Iris-setosa\n",
       "4             5.0          3.6           1.4          0.2     Iris-setosa\n",
       "..            ...          ...           ...          ...             ...\n",
       "145           6.7          3.0           5.2          2.3  Iris-virginica\n",
       "146           6.3          2.5           5.0          1.9  Iris-virginica\n",
       "147           6.5          3.0           5.2          2.0  Iris-virginica\n",
       "148           6.2          3.4           5.4          2.3  Iris-virginica\n",
       "149           5.9          3.0           5.1          1.8  Iris-virginica\n",
       "\n",
       "[150 rows x 5 columns]"
      ]
     },
     "execution_count": 54,
     "metadata": {},
     "output_type": "execute_result"
    }
   ],
   "source": [
    "iris"
   ]
  },
  {
   "cell_type": "code",
   "execution_count": 14,
   "metadata": {
    "colab": {
     "base_uri": "https://localhost:8080/",
     "height": 206
    },
    "id": "QvkccObsWiLr",
    "outputId": "5a52dc33-1fd4-4b1c-b1ec-96c41010a72b",
    "slideshow": {
     "slide_type": "slide"
    }
   },
   "outputs": [
    {
     "data": {
      "text/plain": [
       "Index(['Sepal_length', 'Sepal_width', 'Petal_length', 'Petal_width'], dtype='object')"
      ]
     },
     "execution_count": 14,
     "metadata": {},
     "output_type": "execute_result"
    }
   ],
   "source": [
    "X=iris.iloc[:,:-1]\n",
    "pd.DataFrame(X).describe().loc[['mean','std','min','max']].columns"
   ]
  },
  {
   "cell_type": "code",
   "execution_count": 11,
   "metadata": {
    "colab": {
     "base_uri": "https://localhost:8080/"
    },
    "id": "Q67c84hITV9s",
    "outputId": "d8af38bf-0459-4b13-fb04-054440f124ff",
    "slideshow": {
     "slide_type": "slide"
    }
   },
   "outputs": [
    {
     "data": {
      "text/html": [
       "<div>\n",
       "<style scoped>\n",
       "    .dataframe tbody tr th:only-of-type {\n",
       "        vertical-align: middle;\n",
       "    }\n",
       "\n",
       "    .dataframe tbody tr th {\n",
       "        vertical-align: top;\n",
       "    }\n",
       "\n",
       "    .dataframe thead th {\n",
       "        text-align: right;\n",
       "    }\n",
       "</style>\n",
       "<table border=\"1\" class=\"dataframe\">\n",
       "  <thead>\n",
       "    <tr style=\"text-align: right;\">\n",
       "      <th></th>\n",
       "      <th>0</th>\n",
       "      <th>1</th>\n",
       "      <th>2</th>\n",
       "      <th>3</th>\n",
       "    </tr>\n",
       "  </thead>\n",
       "  <tbody>\n",
       "    <tr>\n",
       "      <th>mean</th>\n",
       "      <td>0.428704</td>\n",
       "      <td>0.439167</td>\n",
       "      <td>0.467571</td>\n",
       "      <td>0.457778</td>\n",
       "    </tr>\n",
       "    <tr>\n",
       "      <th>std</th>\n",
       "      <td>0.230018</td>\n",
       "      <td>0.180664</td>\n",
       "      <td>0.299054</td>\n",
       "      <td>0.317984</td>\n",
       "    </tr>\n",
       "    <tr>\n",
       "      <th>min</th>\n",
       "      <td>0.000000</td>\n",
       "      <td>0.000000</td>\n",
       "      <td>0.000000</td>\n",
       "      <td>0.000000</td>\n",
       "    </tr>\n",
       "    <tr>\n",
       "      <th>max</th>\n",
       "      <td>1.000000</td>\n",
       "      <td>1.000000</td>\n",
       "      <td>1.000000</td>\n",
       "      <td>1.000000</td>\n",
       "    </tr>\n",
       "  </tbody>\n",
       "</table>\n",
       "</div>"
      ],
      "text/plain": [
       "             0         1         2         3\n",
       "mean  0.428704  0.439167  0.467571  0.457778\n",
       "std   0.230018  0.180664  0.299054  0.317984\n",
       "min   0.000000  0.000000  0.000000  0.000000\n",
       "max   1.000000  1.000000  1.000000  1.000000"
      ]
     },
     "execution_count": 11,
     "metadata": {},
     "output_type": "execute_result"
    }
   ],
   "source": [
    "# Apply MinMax scaling\n",
    "scaler = MinMaxScaler()\n",
    "X_minmax = scaler.fit_transform(X)\n",
    "pd.DataFrame(X_minmax).describe().loc[['mean','std','min','max']]"
   ]
  },
  {
   "cell_type": "code",
   "execution_count": 19,
   "metadata": {
    "colab": {
     "base_uri": "https://localhost:8080/"
    },
    "id": "E6_JntdtTcEV",
    "outputId": "dfbef3d0-cdd5-4a11-b51d-90229007532e",
    "slideshow": {
     "slide_type": "slide"
    }
   },
   "outputs": [
    {
     "data": {
      "text/html": [
       "<div>\n",
       "<style scoped>\n",
       "    .dataframe tbody tr th:only-of-type {\n",
       "        vertical-align: middle;\n",
       "    }\n",
       "\n",
       "    .dataframe tbody tr th {\n",
       "        vertical-align: top;\n",
       "    }\n",
       "\n",
       "    .dataframe thead th {\n",
       "        text-align: right;\n",
       "    }\n",
       "</style>\n",
       "<table border=\"1\" class=\"dataframe\">\n",
       "  <thead>\n",
       "    <tr style=\"text-align: right;\">\n",
       "      <th></th>\n",
       "      <th>0</th>\n",
       "      <th>1</th>\n",
       "      <th>2</th>\n",
       "      <th>3</th>\n",
       "    </tr>\n",
       "  </thead>\n",
       "  <tbody>\n",
       "    <tr>\n",
       "      <th>mean</th>\n",
       "      <td>-0.0000</td>\n",
       "      <td>-0.0000</td>\n",
       "      <td>0.0000</td>\n",
       "      <td>-0.0000</td>\n",
       "    </tr>\n",
       "    <tr>\n",
       "      <th>std</th>\n",
       "      <td>1.0034</td>\n",
       "      <td>1.0034</td>\n",
       "      <td>1.0034</td>\n",
       "      <td>1.0034</td>\n",
       "    </tr>\n",
       "    <tr>\n",
       "      <th>min</th>\n",
       "      <td>-1.8700</td>\n",
       "      <td>-2.4390</td>\n",
       "      <td>-1.5687</td>\n",
       "      <td>-1.4444</td>\n",
       "    </tr>\n",
       "    <tr>\n",
       "      <th>max</th>\n",
       "      <td>2.4920</td>\n",
       "      <td>3.1147</td>\n",
       "      <td>1.7863</td>\n",
       "      <td>1.7109</td>\n",
       "    </tr>\n",
       "  </tbody>\n",
       "</table>\n",
       "</div>"
      ],
      "text/plain": [
       "           0       1       2       3\n",
       "mean -0.0000 -0.0000  0.0000 -0.0000\n",
       "std   1.0034  1.0034  1.0034  1.0034\n",
       "min  -1.8700 -2.4390 -1.5687 -1.4444\n",
       "max   2.4920  3.1147  1.7863  1.7109"
      ]
     },
     "execution_count": 19,
     "metadata": {},
     "output_type": "execute_result"
    }
   ],
   "source": [
    "# Apply StandardScaler\n",
    "scaler = StandardScaler()\n",
    "X_standard = scaler.fit_transform(X)\n",
    "pd.DataFrame(X_standard).describe().loc[['mean','std','min','max']].round(4)"
   ]
  },
  {
   "cell_type": "code",
   "execution_count": 20,
   "metadata": {
    "colab": {
     "base_uri": "https://localhost:8080/"
    },
    "id": "KiqAlQ9nTcGW",
    "outputId": "7d8575e2-7b21-4006-884f-2ebc3ee874ab"
   },
   "outputs": [
    {
     "data": {
      "text/html": [
       "<div>\n",
       "<style scoped>\n",
       "    .dataframe tbody tr th:only-of-type {\n",
       "        vertical-align: middle;\n",
       "    }\n",
       "\n",
       "    .dataframe tbody tr th {\n",
       "        vertical-align: top;\n",
       "    }\n",
       "\n",
       "    .dataframe thead th {\n",
       "        text-align: right;\n",
       "    }\n",
       "</style>\n",
       "<table border=\"1\" class=\"dataframe\">\n",
       "  <thead>\n",
       "    <tr style=\"text-align: right;\">\n",
       "      <th></th>\n",
       "      <th>0</th>\n",
       "      <th>1</th>\n",
       "      <th>2</th>\n",
       "      <th>3</th>\n",
       "    </tr>\n",
       "  </thead>\n",
       "  <tbody>\n",
       "    <tr>\n",
       "      <th>mean</th>\n",
       "      <td>0.7516</td>\n",
       "      <td>0.4048</td>\n",
       "      <td>0.4550</td>\n",
       "      <td>0.1410</td>\n",
       "    </tr>\n",
       "    <tr>\n",
       "      <th>std</th>\n",
       "      <td>0.0446</td>\n",
       "      <td>0.1051</td>\n",
       "      <td>0.1597</td>\n",
       "      <td>0.0781</td>\n",
       "    </tr>\n",
       "    <tr>\n",
       "      <th>min</th>\n",
       "      <td>0.6539</td>\n",
       "      <td>0.2384</td>\n",
       "      <td>0.1678</td>\n",
       "      <td>0.0147</td>\n",
       "    </tr>\n",
       "    <tr>\n",
       "      <th>max</th>\n",
       "      <td>0.8609</td>\n",
       "      <td>0.6071</td>\n",
       "      <td>0.6370</td>\n",
       "      <td>0.2804</td>\n",
       "    </tr>\n",
       "  </tbody>\n",
       "</table>\n",
       "</div>"
      ],
      "text/plain": [
       "           0       1       2       3\n",
       "mean  0.7516  0.4048  0.4550  0.1410\n",
       "std   0.0446  0.1051  0.1597  0.0781\n",
       "min   0.6539  0.2384  0.1678  0.0147\n",
       "max   0.8609  0.6071  0.6370  0.2804"
      ]
     },
     "execution_count": 20,
     "metadata": {},
     "output_type": "execute_result"
    }
   ],
   "source": [
    "# Apply Normalizer\n",
    "scaler = Normalizer()\n",
    "X_normalized = scaler.fit_transform(X)\n",
    "pd.DataFrame(X_normalized).describe().loc[['mean','std','min','max']].round(4)"
   ]
  },
  {
   "cell_type": "code",
   "execution_count": 60,
   "metadata": {
    "colab": {
     "base_uri": "https://localhost:8080/"
    },
    "id": "94mZ_0qcTcKt",
    "outputId": "8a41e13b-631d-4891-c110-7b5e4557f20c"
   },
   "outputs": [
    {
     "data": {
      "text/html": [
       "<div>\n",
       "<style scoped>\n",
       "    .dataframe tbody tr th:only-of-type {\n",
       "        vertical-align: middle;\n",
       "    }\n",
       "\n",
       "    .dataframe tbody tr th {\n",
       "        vertical-align: top;\n",
       "    }\n",
       "\n",
       "    .dataframe thead th {\n",
       "        text-align: right;\n",
       "    }\n",
       "</style>\n",
       "<table border=\"1\" class=\"dataframe\">\n",
       "  <thead>\n",
       "    <tr style=\"text-align: right;\">\n",
       "      <th></th>\n",
       "      <th>0</th>\n",
       "      <th>1</th>\n",
       "      <th>2</th>\n",
       "      <th>3</th>\n",
       "    </tr>\n",
       "  </thead>\n",
       "  <tbody>\n",
       "    <tr>\n",
       "      <th>mean</th>\n",
       "      <td>0.0333</td>\n",
       "      <td>0.1080</td>\n",
       "      <td>-0.1690</td>\n",
       "      <td>-0.0676</td>\n",
       "    </tr>\n",
       "    <tr>\n",
       "      <th>std</th>\n",
       "      <td>0.6370</td>\n",
       "      <td>0.8672</td>\n",
       "      <td>0.5041</td>\n",
       "      <td>0.5088</td>\n",
       "    </tr>\n",
       "    <tr>\n",
       "      <th>min</th>\n",
       "      <td>-1.1538</td>\n",
       "      <td>-2.0000</td>\n",
       "      <td>-0.9571</td>\n",
       "      <td>-0.8000</td>\n",
       "    </tr>\n",
       "    <tr>\n",
       "      <th>max</th>\n",
       "      <td>1.6154</td>\n",
       "      <td>2.8000</td>\n",
       "      <td>0.7286</td>\n",
       "      <td>0.8000</td>\n",
       "    </tr>\n",
       "  </tbody>\n",
       "</table>\n",
       "</div>"
      ],
      "text/plain": [
       "           0       1       2       3\n",
       "mean  0.0333  0.1080 -0.1690 -0.0676\n",
       "std   0.6370  0.8672  0.5041  0.5088\n",
       "min  -1.1538 -2.0000 -0.9571 -0.8000\n",
       "max   1.6154  2.8000  0.7286  0.8000"
      ]
     },
     "execution_count": 60,
     "metadata": {},
     "output_type": "execute_result"
    }
   ],
   "source": [
    "# Apply Robust scaling\n",
    "scaler = RobustScaler()\n",
    "X_robust = scaler.fit_transform(X)\n",
    "pd.DataFrame(X_robust).describe().loc[['mean','std','min','max']].round(4)"
   ]
  },
  {
   "cell_type": "markdown",
   "metadata": {
    "id": "R4ww5RE-eJ-H",
    "slideshow": {
     "slide_type": "slide"
    }
   },
   "source": [
    "# Discretization\n",
    "\n",
    "Discretization is a type of feature scaling that involves transforming continuous variables into categorical ones. One way to discretize continuous variables is to use binning, which involves dividing the range of a variable into intervals or bins.\n",
    "\n",
    "Here are three common types of binning methods:\n",
    "\n",
    "- Equal Width Binning: This method divides the range of a variable into a fixed number of intervals, each with the same width.\n",
    "\n",
    "- Equal Frequency Binning: This method divides the observations into intervals that contain approximately the same number of observations.\n",
    "\n",
    "- K-means Binning: This method uses the k-means algorithm to divide the observations into k intervals, where k is a user-defined parameter.\n",
    "\n",
    "Here's an example of how to use these binning methods in Python:"
   ]
  },
  {
   "cell_type": "code",
   "execution_count": 37,
   "metadata": {},
   "outputs": [
    {
     "data": {
      "text/plain": [
       "array([5.1, 4.9, 4.7, 4.6, 5. , 5.4, 4.6, 5. , 4.4, 4.9, 5.4, 4.8, 4.8,\n",
       "       4.3, 5.8, 5.7, 5.4, 5.1, 5.7, 5.1, 5.4, 5.1, 4.6, 5.1, 4.8, 5. ,\n",
       "       5. , 5.2, 5.2, 4.7, 4.8, 5.4, 5.2, 5.5, 4.9, 5. , 5.5, 4.9, 4.4,\n",
       "       5.1, 5. , 4.5, 4.4, 5. , 5.1, 4.8, 5.1, 4.6, 5.3, 5. , 7. , 6.4,\n",
       "       6.9, 5.5, 6.5, 5.7, 6.3, 4.9, 6.6, 5.2, 5. , 5.9, 6. , 6.1, 5.6,\n",
       "       6.7, 5.6, 5.8, 6.2, 5.6, 5.9, 6.1, 6.3, 6.1, 6.4, 6.6, 6.8, 6.7,\n",
       "       6. , 5.7, 5.5, 5.5, 5.8, 6. , 5.4, 6. , 6.7, 6.3, 5.6, 5.5, 5.5,\n",
       "       6.1, 5.8, 5. , 5.6, 5.7, 5.7, 6.2, 5.1, 5.7, 6.3, 5.8, 7.1, 6.3,\n",
       "       6.5, 7.6, 4.9, 7.3, 6.7, 7.2, 6.5, 6.4, 6.8, 5.7, 5.8, 6.4, 6.5,\n",
       "       7.7, 7.7, 6. , 6.9, 5.6, 7.7, 6.3, 6.7, 7.2, 6.2, 6.1, 6.4, 7.2,\n",
       "       7.4, 7.9, 6.4, 6.3, 6.1, 7.7, 6.3, 6.4, 6. , 6.9, 6.7, 6.9, 5.8,\n",
       "       6.8, 6.7, 6.7, 6.3, 6.5, 6.2, 5.9])"
      ]
     },
     "execution_count": 37,
     "metadata": {},
     "output_type": "execute_result"
    }
   ],
   "source": [
    "X['Sepal_length'].values.reshape(-1, )"
   ]
  },
  {
   "cell_type": "code",
   "execution_count": 59,
   "metadata": {},
   "outputs": [
    {
     "name": "stdout",
     "output_type": "stream",
     "text": [
      "  (0, 1)\t1.0\n",
      "  (1, 0)\t1.0\n",
      "  (2, 0)\t1.0\n",
      "  (3, 0)\t1.0\n",
      "  (4, 1)\t1.0\n",
      "  (5, 1)\t1.0\n",
      "  (6, 0)\t1.0\n",
      "  (7, 1)\t1.0\n",
      "  (8, 0)\t1.0\n",
      "  (9, 0)\t1.0\n",
      "  (10, 1)\t1.0\n",
      "  (11, 0)\t1.0\n",
      "  (12, 0)\t1.0\n",
      "  (13, 0)\t1.0\n",
      "  (14, 2)\t1.0\n",
      "  (15, 2)\t1.0\n",
      "  (16, 1)\t1.0\n",
      "  (17, 1)\t1.0\n",
      "  (18, 2)\t1.0\n",
      "  (19, 1)\t1.0\n",
      "  (20, 1)\t1.0\n",
      "  (21, 1)\t1.0\n",
      "  (22, 0)\t1.0\n",
      "  (23, 1)\t1.0\n",
      "  (24, 0)\t1.0\n",
      "  :\t:\n",
      "  (75, 4)\t1.0\n",
      "  (76, 4)\t1.0\n",
      "  (77, 4)\t1.0\n",
      "  (78, 2)\t1.0\n",
      "  (79, 2)\t1.0\n",
      "  (80, 1)\t1.0\n",
      "  (81, 1)\t1.0\n",
      "  (82, 2)\t1.0\n",
      "  (83, 2)\t1.0\n",
      "  (84, 1)\t1.0\n",
      "  (85, 2)\t1.0\n",
      "  (86, 4)\t1.0\n",
      "  (87, 3)\t1.0\n",
      "  (88, 2)\t1.0\n",
      "  (89, 1)\t1.0\n",
      "  (90, 1)\t1.0\n",
      "  (91, 3)\t1.0\n",
      "  (92, 2)\t1.0\n",
      "  (93, 1)\t1.0\n",
      "  (94, 2)\t1.0\n",
      "  (95, 2)\t1.0\n",
      "  (96, 2)\t1.0\n",
      "  (97, 3)\t1.0\n",
      "  (98, 1)\t1.0\n",
      "  (99, 2)\t1.0\n"
     ]
    }
   ],
   "source": [
    "from sklearn.preprocessing import KBinsDiscretizer\n",
    "# Initialize KBinsDiscretizer with 5 bins and the 'quantile' strategy\n",
    "discretizer = KBinsDiscretizer(n_bins=5, strategy='quantile')\n",
    "\n",
    "# Fit and transform the data\n",
    "X_binned = discretizer.fit_transform(X['Sepal_length'].values.reshape(-1,1))\n",
    "\n",
    "# Print the binned data\n",
    "print(X_binned[:100])"
   ]
  },
  {
   "cell_type": "code",
   "execution_count": 49,
   "metadata": {},
   "outputs": [
    {
     "name": "stdout",
     "output_type": "stream",
     "text": [
      "  (0, 1)\t1.0\n",
      "  (1, 0)\t1.0\n",
      "  (2, 0)\t1.0\n",
      "  (3, 0)\t1.0\n",
      "  (4, 1)\t1.0\n",
      "  (5, 1)\t1.0\n",
      "  (6, 0)\t1.0\n",
      "  (7, 1)\t1.0\n",
      "  (8, 0)\t1.0\n",
      "  (9, 0)\t1.0\n"
     ]
    }
   ],
   "source": [
    "print(X_binned[:10])"
   ]
  },
  {
   "cell_type": "code",
   "execution_count": 169,
   "metadata": {},
   "outputs": [
    {
     "data": {
      "text/html": [
       "<div>\n",
       "<style scoped>\n",
       "    .dataframe tbody tr th:only-of-type {\n",
       "        vertical-align: middle;\n",
       "    }\n",
       "\n",
       "    .dataframe tbody tr th {\n",
       "        vertical-align: top;\n",
       "    }\n",
       "\n",
       "    .dataframe thead th {\n",
       "        text-align: right;\n",
       "    }\n",
       "</style>\n",
       "<table border=\"1\" class=\"dataframe\">\n",
       "  <thead>\n",
       "    <tr style=\"text-align: right;\">\n",
       "      <th></th>\n",
       "      <th>A</th>\n",
       "      <th>A_binned</th>\n",
       "    </tr>\n",
       "  </thead>\n",
       "  <tbody>\n",
       "    <tr>\n",
       "      <th>0</th>\n",
       "      <td>-0.700232</td>\n",
       "      <td>1</td>\n",
       "    </tr>\n",
       "    <tr>\n",
       "      <th>1</th>\n",
       "      <td>0.947235</td>\n",
       "      <td>3</td>\n",
       "    </tr>\n",
       "    <tr>\n",
       "      <th>2</th>\n",
       "      <td>-1.157644</td>\n",
       "      <td>1</td>\n",
       "    </tr>\n",
       "    <tr>\n",
       "      <th>3</th>\n",
       "      <td>0.938526</td>\n",
       "      <td>3</td>\n",
       "    </tr>\n",
       "    <tr>\n",
       "      <th>4</th>\n",
       "      <td>-1.791459</td>\n",
       "      <td>0</td>\n",
       "    </tr>\n",
       "  </tbody>\n",
       "</table>\n",
       "</div>"
      ],
      "text/plain": [
       "          A  A_binned\n",
       "0 -0.700232         1\n",
       "1  0.947235         3\n",
       "2 -1.157644         1\n",
       "3  0.938526         3\n",
       "4 -1.791459         0"
      ]
     },
     "execution_count": 169,
     "metadata": {},
     "output_type": "execute_result"
    }
   ],
   "source": [
    "sampledata = pd.DataFrame({'A': np.random.normal(0, 1, 100)})\n",
    "sampledata['A_binned'] = pd.cut(sampledata['A'], 5, labels=False)\n",
    "sampledata[:5]"
   ]
  },
  {
   "cell_type": "code",
   "execution_count": 171,
   "metadata": {},
   "outputs": [
    {
     "data": {
      "text/html": [
       "<div>\n",
       "<style scoped>\n",
       "    .dataframe tbody tr th:only-of-type {\n",
       "        vertical-align: middle;\n",
       "    }\n",
       "\n",
       "    .dataframe tbody tr th {\n",
       "        vertical-align: top;\n",
       "    }\n",
       "\n",
       "    .dataframe thead th {\n",
       "        text-align: right;\n",
       "    }\n",
       "</style>\n",
       "<table border=\"1\" class=\"dataframe\">\n",
       "  <thead>\n",
       "    <tr style=\"text-align: right;\">\n",
       "      <th></th>\n",
       "      <th>A</th>\n",
       "      <th>A_binned</th>\n",
       "    </tr>\n",
       "  </thead>\n",
       "  <tbody>\n",
       "    <tr>\n",
       "      <th>0</th>\n",
       "      <td>0.777220</td>\n",
       "      <td>3</td>\n",
       "    </tr>\n",
       "    <tr>\n",
       "      <th>1</th>\n",
       "      <td>-1.612469</td>\n",
       "      <td>0</td>\n",
       "    </tr>\n",
       "    <tr>\n",
       "      <th>2</th>\n",
       "      <td>1.716547</td>\n",
       "      <td>4</td>\n",
       "    </tr>\n",
       "    <tr>\n",
       "      <th>3</th>\n",
       "      <td>0.826012</td>\n",
       "      <td>3</td>\n",
       "    </tr>\n",
       "    <tr>\n",
       "      <th>4</th>\n",
       "      <td>-0.131053</td>\n",
       "      <td>2</td>\n",
       "    </tr>\n",
       "  </tbody>\n",
       "</table>\n",
       "</div>"
      ],
      "text/plain": [
       "          A  A_binned\n",
       "0  0.777220         3\n",
       "1 -1.612469         0\n",
       "2  1.716547         4\n",
       "3  0.826012         3\n",
       "4 -0.131053         2"
      ]
     },
     "execution_count": 171,
     "metadata": {},
     "output_type": "execute_result"
    }
   ],
   "source": [
    "data = pd.DataFrame({'A': np.random.normal(0, 1, 100)})\n",
    "data['A_binned'] = pd.qcut(data['A'], 5, labels=False)\n",
    "data.head()"
   ]
  },
  {
   "cell_type": "code",
   "execution_count": 175,
   "metadata": {},
   "outputs": [
    {
     "name": "stdout",
     "output_type": "stream",
     "text": [
      "        0  1  2  3  4  5  6  7  8   9\n",
      "A       1  2  9  4  5  2  7  8  9  10\n",
      "A_bins  1  1  0  2  2  1  0  0  0   0\n"
     ]
    }
   ],
   "source": [
    "import pandas as pd\n",
    "from sklearn.cluster import KMeans\n",
    "\n",
    "# Create a Pandas dataframe with some sample data\n",
    "data = {'A': [1, 2, 9, 4, 5, 2, 7, 8, 9, 10]}\n",
    "df = pd.DataFrame(data)\n",
    "\n",
    "# Define the number of clusters (K)\n",
    "K = 3\n",
    "\n",
    "# Perform K-means binning on column 'A'\n",
    "kmeans = KMeans(n_clusters=K, random_state=0).fit(df[['A']])\n",
    "df['A_bins'] = kmeans.labels_\n",
    "\n",
    "# Print the resulting binned data\n",
    "print(df.T)"
   ]
  },
  {
   "cell_type": "code",
   "execution_count": 165,
   "metadata": {},
   "outputs": [
    {
     "data": {
      "text/html": [
       "<div>\n",
       "<style scoped>\n",
       "    .dataframe tbody tr th:only-of-type {\n",
       "        vertical-align: middle;\n",
       "    }\n",
       "\n",
       "    .dataframe tbody tr th {\n",
       "        vertical-align: top;\n",
       "    }\n",
       "\n",
       "    .dataframe thead th {\n",
       "        text-align: right;\n",
       "    }\n",
       "</style>\n",
       "<table border=\"1\" class=\"dataframe\">\n",
       "  <thead>\n",
       "    <tr style=\"text-align: right;\">\n",
       "      <th></th>\n",
       "      <th>A</th>\n",
       "    </tr>\n",
       "  </thead>\n",
       "  <tbody>\n",
       "    <tr>\n",
       "      <th>0</th>\n",
       "      <td>1.438852</td>\n",
       "    </tr>\n",
       "    <tr>\n",
       "      <th>1</th>\n",
       "      <td>1.660491</td>\n",
       "    </tr>\n",
       "    <tr>\n",
       "      <th>2</th>\n",
       "      <td>1.242794</td>\n",
       "    </tr>\n",
       "    <tr>\n",
       "      <th>3</th>\n",
       "      <td>0.533262</td>\n",
       "    </tr>\n",
       "    <tr>\n",
       "      <th>4</th>\n",
       "      <td>2.247981</td>\n",
       "    </tr>\n",
       "    <tr>\n",
       "      <th>...</th>\n",
       "      <td>...</td>\n",
       "    </tr>\n",
       "    <tr>\n",
       "      <th>95</th>\n",
       "      <td>0.548731</td>\n",
       "    </tr>\n",
       "    <tr>\n",
       "      <th>96</th>\n",
       "      <td>0.939457</td>\n",
       "    </tr>\n",
       "    <tr>\n",
       "      <th>97</th>\n",
       "      <td>-0.092304</td>\n",
       "    </tr>\n",
       "    <tr>\n",
       "      <th>98</th>\n",
       "      <td>-2.474797</td>\n",
       "    </tr>\n",
       "    <tr>\n",
       "      <th>99</th>\n",
       "      <td>0.697446</td>\n",
       "    </tr>\n",
       "  </tbody>\n",
       "</table>\n",
       "<p>100 rows × 1 columns</p>\n",
       "</div>"
      ],
      "text/plain": [
       "           A\n",
       "0   1.438852\n",
       "1   1.660491\n",
       "2   1.242794\n",
       "3   0.533262\n",
       "4   2.247981\n",
       "..       ...\n",
       "95  0.548731\n",
       "96  0.939457\n",
       "97 -0.092304\n",
       "98 -2.474797\n",
       "99  0.697446\n",
       "\n",
       "[100 rows x 1 columns]"
      ]
     },
     "execution_count": 165,
     "metadata": {},
     "output_type": "execute_result"
    }
   ],
   "source": [
    "dict5={'A': np.random.normal(0, 1, 100)}\n",
    "pd.DataFrame(dict5)"
   ]
  },
  {
   "cell_type": "code",
   "execution_count": 40,
   "metadata": {
    "colab": {
     "base_uri": "https://localhost:8080/"
    },
    "id": "dfLgNK0eU-H_",
    "outputId": "8fc2c55c-7f43-41bc-a333-d136bd469f10",
    "slideshow": {
     "slide_type": "slide"
    }
   },
   "outputs": [
    {
     "data": {
      "text/html": [
       "<div>\n",
       "<style scoped>\n",
       "    .dataframe tbody tr th:only-of-type {\n",
       "        vertical-align: middle;\n",
       "    }\n",
       "\n",
       "    .dataframe tbody tr th {\n",
       "        vertical-align: top;\n",
       "    }\n",
       "\n",
       "    .dataframe thead th {\n",
       "        text-align: right;\n",
       "    }\n",
       "</style>\n",
       "<table border=\"1\" class=\"dataframe\">\n",
       "  <thead>\n",
       "    <tr style=\"text-align: right;\">\n",
       "      <th></th>\n",
       "      <th>age</th>\n",
       "      <th>income</th>\n",
       "    </tr>\n",
       "  </thead>\n",
       "  <tbody>\n",
       "    <tr>\n",
       "      <th>0</th>\n",
       "      <td>23</td>\n",
       "      <td>50000</td>\n",
       "    </tr>\n",
       "    <tr>\n",
       "      <th>1</th>\n",
       "      <td>35</td>\n",
       "      <td>75000</td>\n",
       "    </tr>\n",
       "    <tr>\n",
       "      <th>2</th>\n",
       "      <td>42</td>\n",
       "      <td>90000</td>\n",
       "    </tr>\n",
       "    <tr>\n",
       "      <th>3</th>\n",
       "      <td>54</td>\n",
       "      <td>110000</td>\n",
       "    </tr>\n",
       "    <tr>\n",
       "      <th>4</th>\n",
       "      <td>65</td>\n",
       "      <td>130000</td>\n",
       "    </tr>\n",
       "    <tr>\n",
       "      <th>5</th>\n",
       "      <td>71</td>\n",
       "      <td>150000</td>\n",
       "    </tr>\n",
       "    <tr>\n",
       "      <th>6</th>\n",
       "      <td>87</td>\n",
       "      <td>175000</td>\n",
       "    </tr>\n",
       "  </tbody>\n",
       "</table>\n",
       "</div>"
      ],
      "text/plain": [
       "   age  income\n",
       "0   23   50000\n",
       "1   35   75000\n",
       "2   42   90000\n",
       "3   54  110000\n",
       "4   65  130000\n",
       "5   71  150000\n",
       "6   87  175000"
      ]
     },
     "execution_count": 40,
     "metadata": {},
     "output_type": "execute_result"
    }
   ],
   "source": [
    "import pandas as pd\n",
    "import numpy as np\n",
    "from sklearn.preprocessing import KBinsDiscretizer\n",
    "\n",
    "# Create a sample dataset\n",
    "data = pd.DataFrame({'age': [23, 35, 42, 54, 65, 71, 87], \n",
    "                     'income': [50000, 75000, 90000, 110000, 130000, 150000, 175000]})\n",
    "data"
   ]
  },
  {
   "cell_type": "code",
   "execution_count": 43,
   "metadata": {
    "slideshow": {
     "slide_type": "slide"
    }
   },
   "outputs": [
    {
     "data": {
      "text/html": [
       "<div>\n",
       "<style scoped>\n",
       "    .dataframe tbody tr th:only-of-type {\n",
       "        vertical-align: middle;\n",
       "    }\n",
       "\n",
       "    .dataframe tbody tr th {\n",
       "        vertical-align: top;\n",
       "    }\n",
       "\n",
       "    .dataframe thead th {\n",
       "        text-align: right;\n",
       "    }\n",
       "</style>\n",
       "<table border=\"1\" class=\"dataframe\">\n",
       "  <thead>\n",
       "    <tr style=\"text-align: right;\">\n",
       "      <th></th>\n",
       "      <th>age</th>\n",
       "      <th>income</th>\n",
       "      <th>age_bin_width</th>\n",
       "    </tr>\n",
       "  </thead>\n",
       "  <tbody>\n",
       "    <tr>\n",
       "      <th>0</th>\n",
       "      <td>23</td>\n",
       "      <td>50000</td>\n",
       "      <td>0</td>\n",
       "    </tr>\n",
       "    <tr>\n",
       "      <th>1</th>\n",
       "      <td>35</td>\n",
       "      <td>75000</td>\n",
       "      <td>0</td>\n",
       "    </tr>\n",
       "    <tr>\n",
       "      <th>2</th>\n",
       "      <td>42</td>\n",
       "      <td>90000</td>\n",
       "      <td>1</td>\n",
       "    </tr>\n",
       "    <tr>\n",
       "      <th>3</th>\n",
       "      <td>54</td>\n",
       "      <td>110000</td>\n",
       "      <td>1</td>\n",
       "    </tr>\n",
       "    <tr>\n",
       "      <th>4</th>\n",
       "      <td>65</td>\n",
       "      <td>130000</td>\n",
       "      <td>2</td>\n",
       "    </tr>\n",
       "    <tr>\n",
       "      <th>5</th>\n",
       "      <td>71</td>\n",
       "      <td>150000</td>\n",
       "      <td>2</td>\n",
       "    </tr>\n",
       "    <tr>\n",
       "      <th>6</th>\n",
       "      <td>87</td>\n",
       "      <td>175000</td>\n",
       "      <td>3</td>\n",
       "    </tr>\n",
       "  </tbody>\n",
       "</table>\n",
       "</div>"
      ],
      "text/plain": [
       "   age  income  age_bin_width\n",
       "0   23   50000              0\n",
       "1   35   75000              0\n",
       "2   42   90000              1\n",
       "3   54  110000              1\n",
       "4   65  130000              2\n",
       "5   71  150000              2\n",
       "6   87  175000              3"
      ]
     },
     "execution_count": 43,
     "metadata": {},
     "output_type": "execute_result"
    }
   ],
   "source": [
    "# Apply equal width binning to age\n",
    "bins = np.linspace(data['age'].min()-1, data['age'].max()+1, 5)\n",
    "data['age_bin_width'] = pd.cut(data['age'], bins, labels=False)\n",
    "data"
   ]
  },
  {
   "cell_type": "code",
   "execution_count": 44,
   "metadata": {
    "slideshow": {
     "slide_type": "slide"
    }
   },
   "outputs": [
    {
     "data": {
      "text/html": [
       "<div>\n",
       "<style scoped>\n",
       "    .dataframe tbody tr th:only-of-type {\n",
       "        vertical-align: middle;\n",
       "    }\n",
       "\n",
       "    .dataframe tbody tr th {\n",
       "        vertical-align: top;\n",
       "    }\n",
       "\n",
       "    .dataframe thead th {\n",
       "        text-align: right;\n",
       "    }\n",
       "</style>\n",
       "<table border=\"1\" class=\"dataframe\">\n",
       "  <thead>\n",
       "    <tr style=\"text-align: right;\">\n",
       "      <th></th>\n",
       "      <th>age</th>\n",
       "      <th>income</th>\n",
       "      <th>age_bin_width</th>\n",
       "      <th>income_bin_freq</th>\n",
       "    </tr>\n",
       "  </thead>\n",
       "  <tbody>\n",
       "    <tr>\n",
       "      <th>0</th>\n",
       "      <td>23</td>\n",
       "      <td>50000</td>\n",
       "      <td>0</td>\n",
       "      <td>0</td>\n",
       "    </tr>\n",
       "    <tr>\n",
       "      <th>1</th>\n",
       "      <td>35</td>\n",
       "      <td>75000</td>\n",
       "      <td>0</td>\n",
       "      <td>0</td>\n",
       "    </tr>\n",
       "    <tr>\n",
       "      <th>2</th>\n",
       "      <td>42</td>\n",
       "      <td>90000</td>\n",
       "      <td>1</td>\n",
       "      <td>0</td>\n",
       "    </tr>\n",
       "    <tr>\n",
       "      <th>3</th>\n",
       "      <td>54</td>\n",
       "      <td>110000</td>\n",
       "      <td>1</td>\n",
       "      <td>1</td>\n",
       "    </tr>\n",
       "    <tr>\n",
       "      <th>4</th>\n",
       "      <td>65</td>\n",
       "      <td>130000</td>\n",
       "      <td>2</td>\n",
       "      <td>1</td>\n",
       "    </tr>\n",
       "    <tr>\n",
       "      <th>5</th>\n",
       "      <td>71</td>\n",
       "      <td>150000</td>\n",
       "      <td>2</td>\n",
       "      <td>2</td>\n",
       "    </tr>\n",
       "    <tr>\n",
       "      <th>6</th>\n",
       "      <td>87</td>\n",
       "      <td>175000</td>\n",
       "      <td>3</td>\n",
       "      <td>2</td>\n",
       "    </tr>\n",
       "  </tbody>\n",
       "</table>\n",
       "</div>"
      ],
      "text/plain": [
       "   age  income  age_bin_width  income_bin_freq\n",
       "0   23   50000              0                0\n",
       "1   35   75000              0                0\n",
       "2   42   90000              1                0\n",
       "3   54  110000              1                1\n",
       "4   65  130000              2                1\n",
       "5   71  150000              2                2\n",
       "6   87  175000              3                2"
      ]
     },
     "execution_count": 44,
     "metadata": {},
     "output_type": "execute_result"
    }
   ],
   "source": [
    "# Apply equal frequency binning to income\n",
    "data['income_bin_freq'] = pd.qcut(data['income'], q=3, labels=False)\n",
    "data"
   ]
  },
  {
   "cell_type": "code",
   "execution_count": 45,
   "metadata": {
    "slideshow": {
     "slide_type": "slide"
    }
   },
   "outputs": [
    {
     "data": {
      "text/html": [
       "<div>\n",
       "<style scoped>\n",
       "    .dataframe tbody tr th:only-of-type {\n",
       "        vertical-align: middle;\n",
       "    }\n",
       "\n",
       "    .dataframe tbody tr th {\n",
       "        vertical-align: top;\n",
       "    }\n",
       "\n",
       "    .dataframe thead th {\n",
       "        text-align: right;\n",
       "    }\n",
       "</style>\n",
       "<table border=\"1\" class=\"dataframe\">\n",
       "  <thead>\n",
       "    <tr style=\"text-align: right;\">\n",
       "      <th></th>\n",
       "      <th>age</th>\n",
       "      <th>income</th>\n",
       "      <th>age_bin_width</th>\n",
       "      <th>income_bin_freq</th>\n",
       "      <th>income_bin_kmeans</th>\n",
       "    </tr>\n",
       "  </thead>\n",
       "  <tbody>\n",
       "    <tr>\n",
       "      <th>0</th>\n",
       "      <td>23</td>\n",
       "      <td>50000</td>\n",
       "      <td>0</td>\n",
       "      <td>0</td>\n",
       "      <td>0.0</td>\n",
       "    </tr>\n",
       "    <tr>\n",
       "      <th>1</th>\n",
       "      <td>35</td>\n",
       "      <td>75000</td>\n",
       "      <td>0</td>\n",
       "      <td>0</td>\n",
       "      <td>0.0</td>\n",
       "    </tr>\n",
       "    <tr>\n",
       "      <th>2</th>\n",
       "      <td>42</td>\n",
       "      <td>90000</td>\n",
       "      <td>1</td>\n",
       "      <td>0</td>\n",
       "      <td>0.0</td>\n",
       "    </tr>\n",
       "    <tr>\n",
       "      <th>3</th>\n",
       "      <td>54</td>\n",
       "      <td>110000</td>\n",
       "      <td>1</td>\n",
       "      <td>1</td>\n",
       "      <td>1.0</td>\n",
       "    </tr>\n",
       "    <tr>\n",
       "      <th>4</th>\n",
       "      <td>65</td>\n",
       "      <td>130000</td>\n",
       "      <td>2</td>\n",
       "      <td>1</td>\n",
       "      <td>1.0</td>\n",
       "    </tr>\n",
       "    <tr>\n",
       "      <th>5</th>\n",
       "      <td>71</td>\n",
       "      <td>150000</td>\n",
       "      <td>2</td>\n",
       "      <td>2</td>\n",
       "      <td>2.0</td>\n",
       "    </tr>\n",
       "    <tr>\n",
       "      <th>6</th>\n",
       "      <td>87</td>\n",
       "      <td>175000</td>\n",
       "      <td>3</td>\n",
       "      <td>2</td>\n",
       "      <td>2.0</td>\n",
       "    </tr>\n",
       "  </tbody>\n",
       "</table>\n",
       "</div>"
      ],
      "text/plain": [
       "   age  income  age_bin_width  income_bin_freq  income_bin_kmeans\n",
       "0   23   50000              0                0                0.0\n",
       "1   35   75000              0                0                0.0\n",
       "2   42   90000              1                0                0.0\n",
       "3   54  110000              1                1                1.0\n",
       "4   65  130000              2                1                1.0\n",
       "5   71  150000              2                2                2.0\n",
       "6   87  175000              3                2                2.0"
      ]
     },
     "execution_count": 45,
     "metadata": {},
     "output_type": "execute_result"
    }
   ],
   "source": [
    "# Apply k-means binning to income\n",
    "kmeans = KBinsDiscretizer(n_bins=3, encode='ordinal', strategy='kmeans')\n",
    "data['income_bin_kmeans'] = kmeans.fit_transform(data[['income']])\n",
    "data"
   ]
  },
  {
   "cell_type": "markdown",
   "metadata": {
    "id": "jb2Vupw4dq7p",
    "slideshow": {
     "slide_type": "slide"
    }
   },
   "source": [
    "In this example, we first create a sample dataset with two continuous variables: age and income.\n",
    "\n",
    "We then apply three different binning methods to these variables. For `age`, we apply equal width binning using `pd.cut()` method and set the number of bins to 4. For `income`, we apply equal frequency binning using `pd.qcut()` method with 3 bins, and k-means binning using the `KBinsDiscretizer` class from `scikit-learn`.\n",
    "\n",
    "Finally, we print the transformed dataset with the newly added binned columns (`age_bin_width`, `income_bin_freq`, and `income_bin_kmeans`)."
   ]
  },
  {
   "cell_type": "markdown",
   "metadata": {
    "id": "p_FGWbtlfarn",
    "slideshow": {
     "slide_type": "slide"
    }
   },
   "source": [
    "## Discretization is necessary for several reasons:\n",
    "\n",
    "- **Simplification**: Discretization simplifies the data by converting continuous variables into categorical ones, which reduces the complexity of the data.\n",
    "\n",
    "- **Handling non-linearity**: Some machine learning algorithms assume that the data is linearly related, but if the relationship is non-linear, then discretization can help capture the non-linear relationship.\n",
    "\n",
    "- **Improving interpretability**: Discretization can make the data more interpretable by providing meaningful categories that are easy to understand and analyze.\n",
    "\n",
    "- **Reducing noise**: Discretization can also help reduce the noise in the data by aggregating the observations into categories.\n",
    "\n",
    "- **Addressing sparsity**: Discretization can also help address sparsity in the data by grouping rare values into a separate category, which can improve the performance of some machine learning algorithms.\n",
    "\n",
    "Overall, discretization is a useful technique for preparing data for machine learning algorithms, especially when dealing with complex or non-linear relationships, improving interpretability, and reducing noise or sparsity."
   ]
  },
  {
   "cell_type": "markdown",
   "metadata": {
    "id": "9wDkWx9Yg2nQ",
    "slideshow": {
     "slide_type": "slide"
    }
   },
   "source": [
    "# Feature encoding\n",
    "\n",
    "Feature encoding is the process of converting categorical variables into numerical ones that can be used by machine learning algorithms. Here are some common encoding methods:\n",
    "\n",
    "- **One-Hot Encoding**: This method creates a new binary variable for each category in a categorical variable. For example, if a variable has categories A, B, and C, then one-hot encoding would create three binary variables: A=1, B=1, C=1, and all other variables set to 0.\n",
    "\n",
    "- **Ordinal Encoding**: This method assigns a unique integer to each category in a categorical variable. The integers are assigned based on the order of the categories, so that the lowest integer is assigned to the first category, the second lowest to the second category, and so on.\n",
    "\n",
    "- **Count/Frequency Encoding**: This method replaces each category in a categorical variable with the number of times it appears in the dataset (count encoding) or the frequency of its occurrence (frequency encoding).\n",
    "\n",
    "- **Mean Encoding**: This method replaces each category in a categorical variable with the mean value of the target variable for that category.\n",
    "\n",
    "- **Weight of Evidence (WOE) Encoding**: This method calculates the weight of evidence of each category in a categorical variable. The weight of evidence is the logarithm of the ratio of the proportion of target variables that are positive (i.e., have the outcome of interest) to the proportion that are negative (i.e., do not have the outcome of interest).\n",
    "\n",
    "Here's an example of how to use these encoding methods in Python:"
   ]
  },
  {
   "cell_type": "code",
   "execution_count": 13,
   "metadata": {
    "colab": {
     "base_uri": "https://localhost:8080/"
    },
    "id": "2M1tVynQhUti",
    "outputId": "d2c38013-0716-4e20-a36e-b5bb48f2fbbb",
    "slideshow": {
     "slide_type": "skip"
    }
   },
   "outputs": [],
   "source": [
    "#!pip install category_encoders"
   ]
  },
  {
   "cell_type": "code",
   "execution_count": 189,
   "metadata": {
    "colab": {
     "base_uri": "https://localhost:8080/",
     "height": 269
    },
    "id": "rreW1xFbhD_m",
    "outputId": "f762f88f-0f6c-47f4-bf10-83451715fdd7",
    "slideshow": {
     "slide_type": "slide"
    }
   },
   "outputs": [
    {
     "data": {
      "text/html": [
       "<div>\n",
       "<style scoped>\n",
       "    .dataframe tbody tr th:only-of-type {\n",
       "        vertical-align: middle;\n",
       "    }\n",
       "\n",
       "    .dataframe tbody tr th {\n",
       "        vertical-align: top;\n",
       "    }\n",
       "\n",
       "    .dataframe thead th {\n",
       "        text-align: right;\n",
       "    }\n",
       "</style>\n",
       "<table border=\"1\" class=\"dataframe\">\n",
       "  <thead>\n",
       "    <tr style=\"text-align: right;\">\n",
       "      <th></th>\n",
       "      <th>color</th>\n",
       "      <th>size</th>\n",
       "      <th>price</th>\n",
       "      <th>label</th>\n",
       "    </tr>\n",
       "  </thead>\n",
       "  <tbody>\n",
       "    <tr>\n",
       "      <th>0</th>\n",
       "      <td>red</td>\n",
       "      <td>small</td>\n",
       "      <td>10</td>\n",
       "      <td>0</td>\n",
       "    </tr>\n",
       "    <tr>\n",
       "      <th>1</th>\n",
       "      <td>green</td>\n",
       "      <td>medium</td>\n",
       "      <td>20</td>\n",
       "      <td>0</td>\n",
       "    </tr>\n",
       "    <tr>\n",
       "      <th>2</th>\n",
       "      <td>blue</td>\n",
       "      <td>large</td>\n",
       "      <td>30</td>\n",
       "      <td>1</td>\n",
       "    </tr>\n",
       "    <tr>\n",
       "      <th>3</th>\n",
       "      <td>red</td>\n",
       "      <td>medium</td>\n",
       "      <td>25</td>\n",
       "      <td>1</td>\n",
       "    </tr>\n",
       "    <tr>\n",
       "      <th>4</th>\n",
       "      <td>green</td>\n",
       "      <td>small</td>\n",
       "      <td>15</td>\n",
       "      <td>0</td>\n",
       "    </tr>\n",
       "    <tr>\n",
       "      <th>5</th>\n",
       "      <td>green</td>\n",
       "      <td>medium</td>\n",
       "      <td>20</td>\n",
       "      <td>1</td>\n",
       "    </tr>\n",
       "    <tr>\n",
       "      <th>6</th>\n",
       "      <td>blue</td>\n",
       "      <td>large</td>\n",
       "      <td>35</td>\n",
       "      <td>1</td>\n",
       "    </tr>\n",
       "  </tbody>\n",
       "</table>\n",
       "</div>"
      ],
      "text/plain": [
       "   color    size  price  label\n",
       "0    red   small     10      0\n",
       "1  green  medium     20      0\n",
       "2   blue   large     30      1\n",
       "3    red  medium     25      1\n",
       "4  green   small     15      0\n",
       "5  green  medium     20      1\n",
       "6   blue   large     35      1"
      ]
     },
     "execution_count": 189,
     "metadata": {},
     "output_type": "execute_result"
    }
   ],
   "source": [
    "import pandas as pd\n",
    "from sklearn.preprocessing import OneHotEncoder, OrdinalEncoder\n",
    "from category_encoders import CountEncoder, TargetEncoder, WOEEncoder\n",
    "\n",
    "# Create a sample dataset\n",
    "data = pd.DataFrame({'color': ['red', 'green', 'blue', 'red', 'green', 'green', 'blue'],\n",
    "                     'size': ['small', 'medium', 'large', 'medium', 'small', 'medium', 'large'],\n",
    "                     'price': [10, 20, 30, 25, 15, 20, 35],\n",
    "                     'label': [0, 0, 1, 1, 0, 1, 1]})\n",
    "data"
   ]
  },
  {
   "cell_type": "code",
   "execution_count": null,
   "metadata": {},
   "outputs": [],
   "source": []
  },
  {
   "cell_type": "code",
   "execution_count": 179,
   "metadata": {
    "colab": {
     "base_uri": "https://localhost:8080/"
    },
    "id": "KTsAnfcIhOmr",
    "outputId": "685b922e-09d3-4abf-c152-4488ee79aed1",
    "slideshow": {
     "slide_type": "slide"
    }
   },
   "outputs": [
    {
     "name": "stdout",
     "output_type": "stream",
     "text": [
      "0      red\n",
      "1    green\n",
      "2     blue\n",
      "3      red\n",
      "4    green\n",
      "5    green\n",
      "6     blue\n",
      "Name: color, dtype: object\n",
      "[[0. 0. 1.]\n",
      " [0. 1. 0.]\n",
      " [1. 0. 0.]\n",
      " [0. 0. 1.]\n",
      " [0. 1. 0.]\n",
      " [0. 1. 0.]\n",
      " [1. 0. 0.]]\n"
     ]
    }
   ],
   "source": [
    "# Apply one-hot encoding to color and size\n",
    "onehot = OneHotEncoder()\n",
    "data_onehot = onehot.fit_transform(data[['color']])\n",
    "print(data['color'])\n",
    "print(data_onehot.toarray())"
   ]
  },
  {
   "cell_type": "code",
   "execution_count": 180,
   "metadata": {
    "colab": {
     "base_uri": "https://localhost:8080/"
    },
    "id": "bCNgcLx4hjpA",
    "outputId": "b7683b60-09a9-483b-8540-c9b6b8fdabd5",
    "slideshow": {
     "slide_type": "slide"
    }
   },
   "outputs": [
    {
     "name": "stdout",
     "output_type": "stream",
     "text": [
      "   color    size\n",
      "0    red   small\n",
      "1  green  medium\n",
      "2   blue   large\n",
      "3    red  medium\n",
      "4  green   small\n",
      "5  green  medium\n",
      "6   blue   large\n",
      "[[2. 2.]\n",
      " [1. 1.]\n",
      " [0. 0.]\n",
      " [2. 1.]\n",
      " [1. 2.]\n",
      " [1. 1.]\n",
      " [0. 0.]]\n"
     ]
    }
   ],
   "source": [
    "# Apply ordinal encoding to color and size\n",
    "ordinal = OrdinalEncoder()\n",
    "data_ordinal = ordinal.fit_transform(data[['color', 'size']])\n",
    "print(data[['color', 'size']])\n",
    "print(data_ordinal)"
   ]
  },
  {
   "cell_type": "code",
   "execution_count": 181,
   "metadata": {
    "colab": {
     "base_uri": "https://localhost:8080/",
     "height": 269
    },
    "id": "6LWwBEfKhj4S",
    "outputId": "98554450-2d76-4efb-f283-73e712444838",
    "slideshow": {
     "slide_type": "slide"
    }
   },
   "outputs": [
    {
     "name": "stdout",
     "output_type": "stream",
     "text": [
      "0      red\n",
      "1    green\n",
      "2     blue\n",
      "3      red\n",
      "4    green\n",
      "5    green\n",
      "6     blue\n",
      "Name: color, dtype: object\n",
      "   color\n",
      "0      2\n",
      "1      3\n",
      "2      2\n",
      "3      2\n",
      "4      3\n",
      "5      3\n",
      "6      2\n"
     ]
    }
   ],
   "source": [
    "# Apply count/frequency encoding to color\n",
    "count = CountEncoder()\n",
    "data_count = count.fit_transform(data['color'])\n",
    "print(data['color'])\n",
    "print(data_count)"
   ]
  },
  {
   "cell_type": "code",
   "execution_count": 190,
   "metadata": {
    "colab": {
     "base_uri": "https://localhost:8080/",
     "height": 269
    },
    "id": "FB7y93wUhj6e",
    "outputId": "bcdb261d-acc1-4505-f5e1-06d79736cefe",
    "slideshow": {
     "slide_type": "slide"
    }
   },
   "outputs": [
    {
     "name": "stdout",
     "output_type": "stream",
     "text": [
      "   color  label\n",
      "0    red      0\n",
      "1  green      0\n",
      "2   blue      1\n",
      "3    red      1\n",
      "4  green      0\n",
      "5  green      1\n",
      "6   blue      1\n",
      "      color\n",
      "0  0.519210\n",
      "1  0.361715\n",
      "2  0.884739\n",
      "3  0.519210\n",
      "4  0.361715\n",
      "5  0.361715\n",
      "6  0.884739\n"
     ]
    }
   ],
   "source": [
    "# Apply mean encoding to color\n",
    "mean = TargetEncoder()\n",
    "data_mean = mean.fit_transform(data['color'], data['label'])\n",
    "print(data[['color','label']])\n",
    "print(data_mean)"
   ]
  },
  {
   "cell_type": "code",
   "execution_count": 192,
   "metadata": {
    "colab": {
     "base_uri": "https://localhost:8080/",
     "height": 269
    },
    "id": "r43WAV_-hj_5",
    "outputId": "acd28db8-6f36-4d4e-9b39-d0b1efb1507d",
    "slideshow": {
     "slide_type": "slide"
    }
   },
   "outputs": [
    {
     "name": "stdout",
     "output_type": "stream",
     "text": [
      "   color  label\n",
      "0    red      0\n",
      "1  green      0\n",
      "2   blue      1\n",
      "3    red      1\n",
      "4  green      0\n",
      "5  green      1\n",
      "6   blue      1\n",
      "      color\n",
      "0 -0.182322\n",
      "1 -0.587787\n",
      "2  0.916291\n",
      "3 -0.182322\n",
      "4 -0.587787\n",
      "5 -0.587787\n",
      "6  0.916291\n"
     ]
    }
   ],
   "source": [
    "# Apply WOE encoding to color\n",
    "woe = WOEEncoder()\n",
    "data_woe = woe.fit_transform(data['color'], data['label'])\n",
    "print(data[['color','label']])\n",
    "print(data_woe)"
   ]
  },
  {
   "cell_type": "markdown",
   "metadata": {
    "slideshow": {
     "slide_type": "slide"
    }
   },
   "source": [
    "# Feature Transformation"
   ]
  },
  {
   "cell_type": "markdown",
   "metadata": {
    "id": "Vq1NtLm7jGCG"
   },
   "source": [
    "The choice of transformation method depends on the characteristics of the data and the goals of the analysis. Here are some general guidelines for when to use each transformation:\n",
    "\n",
    "- **Logarithmic Transformation**: Use this method when the feature has a wide range of values and/or is skewed to the right (i.e., has a long tail of high values). This transformation can help to normalize the distribution of the data and reduce the impact of outliers.\n",
    "\n",
    "- **Reciprocal Transformation**: Use this method when the feature has mostly large values and/or is skewed to the left (i.e., has a long tail of low values). This transformation can help to normalize the distribution of the data and reduce the impact of outliers.\n",
    "\n",
    "- **Square Root Transformation**: Use this method when the feature has mostly small values and/or is skewed to the right (i.e., has a long tail of high values). This transformation can help to normalize the distribution of the data and reduce the impact of outliers.\n",
    "\n",
    "- **Exponential Transformation**: Use this method when the feature has a wide range of values and/or is skewed to the left (i.e., has a long tail of low values). This transformation can help to normalize the distribution of the data and reduce the impact of outliers.\n",
    "\n",
    "- **Box-Cox Transformation**: Use this method when the feature has a non-normal distribution and/or the variance is not constant across the range of values. This transformation can help to normalize the distribution of the data and make it more suitable for parametric statistical tests.\n",
    "\n",
    "- **Quintile Transformation**: Use this method when the goal is to convert a numerical feature into a categorical variable with equal frequency bins. This transformation can be useful for certain machine learning algorithms that work better with categorical data.\n",
    "\n",
    "It's important to note that these guidelines are not strict rules and that the choice of transformation method may depend on the specific characteristics of the data and the goals of the analysis. It's always a good idea to experiment with different transformation methods and evaluate their effects on the data before making a final decision."
   ]
  },
  {
   "cell_type": "code",
   "execution_count": 64,
   "metadata": {
    "id": "lNkvyLnnjcrh",
    "slideshow": {
     "slide_type": "slide"
    }
   },
   "outputs": [],
   "source": [
    "from scipy.stats import boxcox\n",
    "from sklearn.preprocessing import QuantileTransformer"
   ]
  },
  {
   "cell_type": "code",
   "execution_count": 65,
   "metadata": {
    "colab": {
     "base_uri": "https://localhost:8080/",
     "height": 269
    },
    "id": "81zXGX_Wjzzw",
    "outputId": "9b921478-8266-4242-e901-9d99f4802f9e"
   },
   "outputs": [
    {
     "data": {
      "text/html": [
       "<div>\n",
       "<style scoped>\n",
       "    .dataframe tbody tr th:only-of-type {\n",
       "        vertical-align: middle;\n",
       "    }\n",
       "\n",
       "    .dataframe tbody tr th {\n",
       "        vertical-align: top;\n",
       "    }\n",
       "\n",
       "    .dataframe thead th {\n",
       "        text-align: right;\n",
       "    }\n",
       "</style>\n",
       "<table border=\"1\" class=\"dataframe\">\n",
       "  <thead>\n",
       "    <tr style=\"text-align: right;\">\n",
       "      <th></th>\n",
       "      <th>age</th>\n",
       "      <th>income</th>\n",
       "      <th>weight</th>\n",
       "    </tr>\n",
       "  </thead>\n",
       "  <tbody>\n",
       "    <tr>\n",
       "      <th>0</th>\n",
       "      <td>20</td>\n",
       "      <td>20000</td>\n",
       "      <td>50</td>\n",
       "    </tr>\n",
       "    <tr>\n",
       "      <th>1</th>\n",
       "      <td>25</td>\n",
       "      <td>30000</td>\n",
       "      <td>60</td>\n",
       "    </tr>\n",
       "    <tr>\n",
       "      <th>2</th>\n",
       "      <td>30</td>\n",
       "      <td>40000</td>\n",
       "      <td>70</td>\n",
       "    </tr>\n",
       "    <tr>\n",
       "      <th>3</th>\n",
       "      <td>35</td>\n",
       "      <td>50000</td>\n",
       "      <td>80</td>\n",
       "    </tr>\n",
       "    <tr>\n",
       "      <th>4</th>\n",
       "      <td>40</td>\n",
       "      <td>60000</td>\n",
       "      <td>90</td>\n",
       "    </tr>\n",
       "    <tr>\n",
       "      <th>5</th>\n",
       "      <td>45</td>\n",
       "      <td>70000</td>\n",
       "      <td>100</td>\n",
       "    </tr>\n",
       "    <tr>\n",
       "      <th>6</th>\n",
       "      <td>50</td>\n",
       "      <td>80000</td>\n",
       "      <td>110</td>\n",
       "    </tr>\n",
       "  </tbody>\n",
       "</table>\n",
       "</div>"
      ],
      "text/plain": [
       "   age  income  weight\n",
       "0   20   20000      50\n",
       "1   25   30000      60\n",
       "2   30   40000      70\n",
       "3   35   50000      80\n",
       "4   40   60000      90\n",
       "5   45   70000     100\n",
       "6   50   80000     110"
      ]
     },
     "execution_count": 65,
     "metadata": {},
     "output_type": "execute_result"
    }
   ],
   "source": [
    "# Create a sample dataset\n",
    "data = pd.DataFrame({'age': [20, 25, 30, 35, 40, 45, 50],\n",
    "                     'income': [20000, 30000, 40000, 50000, 60000, 70000, 80000],\n",
    "                     'weight': [50, 60, 70, 80, 90, 100, 110]})\n",
    "data"
   ]
  },
  {
   "cell_type": "code",
   "execution_count": 67,
   "metadata": {
    "id": "t3RCcZ8JjiUt"
   },
   "outputs": [],
   "source": [
    "# Apply logarithmic transformation to income\n",
    "data['income_log'] = np.log(data['income'])"
   ]
  },
  {
   "cell_type": "code",
   "execution_count": 68,
   "metadata": {
    "colab": {
     "base_uri": "https://localhost:8080/",
     "height": 269
    },
    "id": "zj83QbzkjiXm",
    "outputId": "2cf0ecd1-4215-4714-bdc7-31c1f4bf521d",
    "slideshow": {
     "slide_type": "slide"
    }
   },
   "outputs": [
    {
     "data": {
      "text/html": [
       "<div>\n",
       "<style scoped>\n",
       "    .dataframe tbody tr th:only-of-type {\n",
       "        vertical-align: middle;\n",
       "    }\n",
       "\n",
       "    .dataframe tbody tr th {\n",
       "        vertical-align: top;\n",
       "    }\n",
       "\n",
       "    .dataframe thead th {\n",
       "        text-align: right;\n",
       "    }\n",
       "</style>\n",
       "<table border=\"1\" class=\"dataframe\">\n",
       "  <thead>\n",
       "    <tr style=\"text-align: right;\">\n",
       "      <th></th>\n",
       "      <th>age</th>\n",
       "      <th>income</th>\n",
       "      <th>weight</th>\n",
       "      <th>income_log</th>\n",
       "      <th>weight_reciprocal</th>\n",
       "    </tr>\n",
       "  </thead>\n",
       "  <tbody>\n",
       "    <tr>\n",
       "      <th>0</th>\n",
       "      <td>20</td>\n",
       "      <td>20000</td>\n",
       "      <td>50</td>\n",
       "      <td>9.903488</td>\n",
       "      <td>0.020000</td>\n",
       "    </tr>\n",
       "    <tr>\n",
       "      <th>1</th>\n",
       "      <td>25</td>\n",
       "      <td>30000</td>\n",
       "      <td>60</td>\n",
       "      <td>10.308953</td>\n",
       "      <td>0.016667</td>\n",
       "    </tr>\n",
       "    <tr>\n",
       "      <th>2</th>\n",
       "      <td>30</td>\n",
       "      <td>40000</td>\n",
       "      <td>70</td>\n",
       "      <td>10.596635</td>\n",
       "      <td>0.014286</td>\n",
       "    </tr>\n",
       "    <tr>\n",
       "      <th>3</th>\n",
       "      <td>35</td>\n",
       "      <td>50000</td>\n",
       "      <td>80</td>\n",
       "      <td>10.819778</td>\n",
       "      <td>0.012500</td>\n",
       "    </tr>\n",
       "    <tr>\n",
       "      <th>4</th>\n",
       "      <td>40</td>\n",
       "      <td>60000</td>\n",
       "      <td>90</td>\n",
       "      <td>11.002100</td>\n",
       "      <td>0.011111</td>\n",
       "    </tr>\n",
       "    <tr>\n",
       "      <th>5</th>\n",
       "      <td>45</td>\n",
       "      <td>70000</td>\n",
       "      <td>100</td>\n",
       "      <td>11.156251</td>\n",
       "      <td>0.010000</td>\n",
       "    </tr>\n",
       "    <tr>\n",
       "      <th>6</th>\n",
       "      <td>50</td>\n",
       "      <td>80000</td>\n",
       "      <td>110</td>\n",
       "      <td>11.289782</td>\n",
       "      <td>0.009091</td>\n",
       "    </tr>\n",
       "  </tbody>\n",
       "</table>\n",
       "</div>"
      ],
      "text/plain": [
       "   age  income  weight  income_log  weight_reciprocal\n",
       "0   20   20000      50    9.903488           0.020000\n",
       "1   25   30000      60   10.308953           0.016667\n",
       "2   30   40000      70   10.596635           0.014286\n",
       "3   35   50000      80   10.819778           0.012500\n",
       "4   40   60000      90   11.002100           0.011111\n",
       "5   45   70000     100   11.156251           0.010000\n",
       "6   50   80000     110   11.289782           0.009091"
      ]
     },
     "execution_count": 68,
     "metadata": {},
     "output_type": "execute_result"
    }
   ],
   "source": [
    "# Apply reciprocal transformation to weight\n",
    "data['weight_reciprocal'] = 1 / data['weight']\n",
    "data"
   ]
  },
  {
   "cell_type": "code",
   "execution_count": 69,
   "metadata": {
    "colab": {
     "base_uri": "https://localhost:8080/",
     "height": 269
    },
    "id": "HqBt3YzYjibE",
    "outputId": "656b93a5-3444-4e0c-efb3-d77be052b9eb",
    "slideshow": {
     "slide_type": "slide"
    }
   },
   "outputs": [
    {
     "data": {
      "text/html": [
       "<div>\n",
       "<style scoped>\n",
       "    .dataframe tbody tr th:only-of-type {\n",
       "        vertical-align: middle;\n",
       "    }\n",
       "\n",
       "    .dataframe tbody tr th {\n",
       "        vertical-align: top;\n",
       "    }\n",
       "\n",
       "    .dataframe thead th {\n",
       "        text-align: right;\n",
       "    }\n",
       "</style>\n",
       "<table border=\"1\" class=\"dataframe\">\n",
       "  <thead>\n",
       "    <tr style=\"text-align: right;\">\n",
       "      <th></th>\n",
       "      <th>age</th>\n",
       "      <th>income</th>\n",
       "      <th>weight</th>\n",
       "      <th>income_log</th>\n",
       "      <th>weight_reciprocal</th>\n",
       "      <th>age_sqrt</th>\n",
       "    </tr>\n",
       "  </thead>\n",
       "  <tbody>\n",
       "    <tr>\n",
       "      <th>0</th>\n",
       "      <td>20</td>\n",
       "      <td>20000</td>\n",
       "      <td>50</td>\n",
       "      <td>9.903488</td>\n",
       "      <td>0.020000</td>\n",
       "      <td>4.472136</td>\n",
       "    </tr>\n",
       "    <tr>\n",
       "      <th>1</th>\n",
       "      <td>25</td>\n",
       "      <td>30000</td>\n",
       "      <td>60</td>\n",
       "      <td>10.308953</td>\n",
       "      <td>0.016667</td>\n",
       "      <td>5.000000</td>\n",
       "    </tr>\n",
       "    <tr>\n",
       "      <th>2</th>\n",
       "      <td>30</td>\n",
       "      <td>40000</td>\n",
       "      <td>70</td>\n",
       "      <td>10.596635</td>\n",
       "      <td>0.014286</td>\n",
       "      <td>5.477226</td>\n",
       "    </tr>\n",
       "    <tr>\n",
       "      <th>3</th>\n",
       "      <td>35</td>\n",
       "      <td>50000</td>\n",
       "      <td>80</td>\n",
       "      <td>10.819778</td>\n",
       "      <td>0.012500</td>\n",
       "      <td>5.916080</td>\n",
       "    </tr>\n",
       "    <tr>\n",
       "      <th>4</th>\n",
       "      <td>40</td>\n",
       "      <td>60000</td>\n",
       "      <td>90</td>\n",
       "      <td>11.002100</td>\n",
       "      <td>0.011111</td>\n",
       "      <td>6.324555</td>\n",
       "    </tr>\n",
       "    <tr>\n",
       "      <th>5</th>\n",
       "      <td>45</td>\n",
       "      <td>70000</td>\n",
       "      <td>100</td>\n",
       "      <td>11.156251</td>\n",
       "      <td>0.010000</td>\n",
       "      <td>6.708204</td>\n",
       "    </tr>\n",
       "    <tr>\n",
       "      <th>6</th>\n",
       "      <td>50</td>\n",
       "      <td>80000</td>\n",
       "      <td>110</td>\n",
       "      <td>11.289782</td>\n",
       "      <td>0.009091</td>\n",
       "      <td>7.071068</td>\n",
       "    </tr>\n",
       "  </tbody>\n",
       "</table>\n",
       "</div>"
      ],
      "text/plain": [
       "   age  income  weight  income_log  weight_reciprocal  age_sqrt\n",
       "0   20   20000      50    9.903488           0.020000  4.472136\n",
       "1   25   30000      60   10.308953           0.016667  5.000000\n",
       "2   30   40000      70   10.596635           0.014286  5.477226\n",
       "3   35   50000      80   10.819778           0.012500  5.916080\n",
       "4   40   60000      90   11.002100           0.011111  6.324555\n",
       "5   45   70000     100   11.156251           0.010000  6.708204\n",
       "6   50   80000     110   11.289782           0.009091  7.071068"
      ]
     },
     "execution_count": 69,
     "metadata": {},
     "output_type": "execute_result"
    }
   ],
   "source": [
    "# Apply square root transformation to age\n",
    "data['age_sqrt'] = np.sqrt(data['age'])\n",
    "data"
   ]
  },
  {
   "cell_type": "code",
   "execution_count": 70,
   "metadata": {
    "colab": {
     "base_uri": "https://localhost:8080/",
     "height": 269
    },
    "id": "AWeUoprGjift",
    "outputId": "a508c0a7-1afd-445f-ee6e-5c9887cea0a4",
    "slideshow": {
     "slide_type": "slide"
    }
   },
   "outputs": [
    {
     "data": {
      "text/html": [
       "<div>\n",
       "<style scoped>\n",
       "    .dataframe tbody tr th:only-of-type {\n",
       "        vertical-align: middle;\n",
       "    }\n",
       "\n",
       "    .dataframe tbody tr th {\n",
       "        vertical-align: top;\n",
       "    }\n",
       "\n",
       "    .dataframe thead th {\n",
       "        text-align: right;\n",
       "    }\n",
       "</style>\n",
       "<table border=\"1\" class=\"dataframe\">\n",
       "  <thead>\n",
       "    <tr style=\"text-align: right;\">\n",
       "      <th></th>\n",
       "      <th>age</th>\n",
       "      <th>income</th>\n",
       "      <th>weight</th>\n",
       "      <th>income_log</th>\n",
       "      <th>weight_reciprocal</th>\n",
       "      <th>age_sqrt</th>\n",
       "      <th>weight_exp</th>\n",
       "    </tr>\n",
       "  </thead>\n",
       "  <tbody>\n",
       "    <tr>\n",
       "      <th>0</th>\n",
       "      <td>20</td>\n",
       "      <td>20000</td>\n",
       "      <td>50</td>\n",
       "      <td>9.903488</td>\n",
       "      <td>0.020000</td>\n",
       "      <td>4.472136</td>\n",
       "      <td>5.184706e+21</td>\n",
       "    </tr>\n",
       "    <tr>\n",
       "      <th>1</th>\n",
       "      <td>25</td>\n",
       "      <td>30000</td>\n",
       "      <td>60</td>\n",
       "      <td>10.308953</td>\n",
       "      <td>0.016667</td>\n",
       "      <td>5.000000</td>\n",
       "      <td>1.142007e+26</td>\n",
       "    </tr>\n",
       "    <tr>\n",
       "      <th>2</th>\n",
       "      <td>30</td>\n",
       "      <td>40000</td>\n",
       "      <td>70</td>\n",
       "      <td>10.596635</td>\n",
       "      <td>0.014286</td>\n",
       "      <td>5.477226</td>\n",
       "      <td>2.515439e+30</td>\n",
       "    </tr>\n",
       "    <tr>\n",
       "      <th>3</th>\n",
       "      <td>35</td>\n",
       "      <td>50000</td>\n",
       "      <td>80</td>\n",
       "      <td>10.819778</td>\n",
       "      <td>0.012500</td>\n",
       "      <td>5.916080</td>\n",
       "      <td>5.540622e+34</td>\n",
       "    </tr>\n",
       "    <tr>\n",
       "      <th>4</th>\n",
       "      <td>40</td>\n",
       "      <td>60000</td>\n",
       "      <td>90</td>\n",
       "      <td>11.002100</td>\n",
       "      <td>0.011111</td>\n",
       "      <td>6.324555</td>\n",
       "      <td>1.220403e+39</td>\n",
       "    </tr>\n",
       "    <tr>\n",
       "      <th>5</th>\n",
       "      <td>45</td>\n",
       "      <td>70000</td>\n",
       "      <td>100</td>\n",
       "      <td>11.156251</td>\n",
       "      <td>0.010000</td>\n",
       "      <td>6.708204</td>\n",
       "      <td>2.688117e+43</td>\n",
       "    </tr>\n",
       "    <tr>\n",
       "      <th>6</th>\n",
       "      <td>50</td>\n",
       "      <td>80000</td>\n",
       "      <td>110</td>\n",
       "      <td>11.289782</td>\n",
       "      <td>0.009091</td>\n",
       "      <td>7.071068</td>\n",
       "      <td>5.920972e+47</td>\n",
       "    </tr>\n",
       "  </tbody>\n",
       "</table>\n",
       "</div>"
      ],
      "text/plain": [
       "   age  income  weight  income_log  weight_reciprocal  age_sqrt    weight_exp\n",
       "0   20   20000      50    9.903488           0.020000  4.472136  5.184706e+21\n",
       "1   25   30000      60   10.308953           0.016667  5.000000  1.142007e+26\n",
       "2   30   40000      70   10.596635           0.014286  5.477226  2.515439e+30\n",
       "3   35   50000      80   10.819778           0.012500  5.916080  5.540622e+34\n",
       "4   40   60000      90   11.002100           0.011111  6.324555  1.220403e+39\n",
       "5   45   70000     100   11.156251           0.010000  6.708204  2.688117e+43\n",
       "6   50   80000     110   11.289782           0.009091  7.071068  5.920972e+47"
      ]
     },
     "execution_count": 70,
     "metadata": {},
     "output_type": "execute_result"
    }
   ],
   "source": [
    "# Apply exponential transformation to income\n",
    "data['weight_exp'] = np.exp(data['weight'])\n",
    "data"
   ]
  },
  {
   "cell_type": "code",
   "execution_count": 73,
   "metadata": {
    "colab": {
     "base_uri": "https://localhost:8080/",
     "height": 269
    },
    "id": "IbufXEbbjijE",
    "outputId": "951b60e2-7f21-4b21-c193-6500b4712e08",
    "slideshow": {
     "slide_type": "slide"
    }
   },
   "outputs": [
    {
     "data": {
      "text/html": [
       "<div>\n",
       "<style scoped>\n",
       "    .dataframe tbody tr th:only-of-type {\n",
       "        vertical-align: middle;\n",
       "    }\n",
       "\n",
       "    .dataframe tbody tr th {\n",
       "        vertical-align: top;\n",
       "    }\n",
       "\n",
       "    .dataframe thead th {\n",
       "        text-align: right;\n",
       "    }\n",
       "</style>\n",
       "<table border=\"1\" class=\"dataframe\">\n",
       "  <thead>\n",
       "    <tr style=\"text-align: right;\">\n",
       "      <th></th>\n",
       "      <th>age</th>\n",
       "      <th>income</th>\n",
       "      <th>weight</th>\n",
       "      <th>income_log</th>\n",
       "      <th>weight_reciprocal</th>\n",
       "      <th>age_sqrt</th>\n",
       "      <th>weight_exp</th>\n",
       "      <th>income_boxcox</th>\n",
       "    </tr>\n",
       "  </thead>\n",
       "  <tbody>\n",
       "    <tr>\n",
       "      <th>0</th>\n",
       "      <td>20</td>\n",
       "      <td>20000</td>\n",
       "      <td>50</td>\n",
       "      <td>9.903488</td>\n",
       "      <td>0.020000</td>\n",
       "      <td>4.472136</td>\n",
       "      <td>5.184706e+21</td>\n",
       "      <td>1750.358795</td>\n",
       "    </tr>\n",
       "    <tr>\n",
       "      <th>1</th>\n",
       "      <td>25</td>\n",
       "      <td>30000</td>\n",
       "      <td>60</td>\n",
       "      <td>10.308953</td>\n",
       "      <td>0.016667</td>\n",
       "      <td>5.000000</td>\n",
       "      <td>1.142007e+26</td>\n",
       "      <td>2345.273055</td>\n",
       "    </tr>\n",
       "    <tr>\n",
       "      <th>2</th>\n",
       "      <td>30</td>\n",
       "      <td>40000</td>\n",
       "      <td>70</td>\n",
       "      <td>10.596635</td>\n",
       "      <td>0.014286</td>\n",
       "      <td>5.477226</td>\n",
       "      <td>2.515439e+30</td>\n",
       "      <td>2886.254577</td>\n",
       "    </tr>\n",
       "    <tr>\n",
       "      <th>3</th>\n",
       "      <td>35</td>\n",
       "      <td>50000</td>\n",
       "      <td>80</td>\n",
       "      <td>10.819778</td>\n",
       "      <td>0.012500</td>\n",
       "      <td>5.916080</td>\n",
       "      <td>5.540622e+34</td>\n",
       "      <td>3390.371554</td>\n",
       "    </tr>\n",
       "    <tr>\n",
       "      <th>4</th>\n",
       "      <td>40</td>\n",
       "      <td>60000</td>\n",
       "      <td>90</td>\n",
       "      <td>11.002100</td>\n",
       "      <td>0.011111</td>\n",
       "      <td>6.324555</td>\n",
       "      <td>1.220403e+39</td>\n",
       "      <td>3866.932963</td>\n",
       "    </tr>\n",
       "    <tr>\n",
       "      <th>5</th>\n",
       "      <td>45</td>\n",
       "      <td>70000</td>\n",
       "      <td>100</td>\n",
       "      <td>11.156251</td>\n",
       "      <td>0.010000</td>\n",
       "      <td>6.708204</td>\n",
       "      <td>2.688117e+43</td>\n",
       "      <td>4321.736118</td>\n",
       "    </tr>\n",
       "    <tr>\n",
       "      <th>6</th>\n",
       "      <td>50</td>\n",
       "      <td>80000</td>\n",
       "      <td>110</td>\n",
       "      <td>11.289782</td>\n",
       "      <td>0.009091</td>\n",
       "      <td>7.071068</td>\n",
       "      <td>5.920972e+47</td>\n",
       "      <td>4758.706655</td>\n",
       "    </tr>\n",
       "  </tbody>\n",
       "</table>\n",
       "</div>"
      ],
      "text/plain": [
       "   age  income  weight  income_log  weight_reciprocal  age_sqrt    weight_exp  \\\n",
       "0   20   20000      50    9.903488           0.020000  4.472136  5.184706e+21   \n",
       "1   25   30000      60   10.308953           0.016667  5.000000  1.142007e+26   \n",
       "2   30   40000      70   10.596635           0.014286  5.477226  2.515439e+30   \n",
       "3   35   50000      80   10.819778           0.012500  5.916080  5.540622e+34   \n",
       "4   40   60000      90   11.002100           0.011111  6.324555  1.220403e+39   \n",
       "5   45   70000     100   11.156251           0.010000  6.708204  2.688117e+43   \n",
       "6   50   80000     110   11.289782           0.009091  7.071068  5.920972e+47   \n",
       "\n",
       "   income_boxcox  \n",
       "0    1750.358795  \n",
       "1    2345.273055  \n",
       "2    2886.254577  \n",
       "3    3390.371554  \n",
       "4    3866.932963  \n",
       "5    4321.736118  \n",
       "6    4758.706655  "
      ]
     },
     "execution_count": 73,
     "metadata": {},
     "output_type": "execute_result"
    }
   ],
   "source": [
    "# Apply Box-Cox transformation to income\n",
    "data['income_boxcox'],_ = boxcox(data['income'])\n",
    "data"
   ]
  },
  {
   "cell_type": "code",
   "execution_count": 74,
   "metadata": {
    "colab": {
     "base_uri": "https://localhost:8080/",
     "height": 269
    },
    "id": "zitBlsPojimb",
    "outputId": "cb412b53-6775-4b0b-956c-397a192b156d",
    "slideshow": {
     "slide_type": "slide"
    }
   },
   "outputs": [
    {
     "data": {
      "text/html": [
       "<div>\n",
       "<style scoped>\n",
       "    .dataframe tbody tr th:only-of-type {\n",
       "        vertical-align: middle;\n",
       "    }\n",
       "\n",
       "    .dataframe tbody tr th {\n",
       "        vertical-align: top;\n",
       "    }\n",
       "\n",
       "    .dataframe thead th {\n",
       "        text-align: right;\n",
       "    }\n",
       "</style>\n",
       "<table border=\"1\" class=\"dataframe\">\n",
       "  <thead>\n",
       "    <tr style=\"text-align: right;\">\n",
       "      <th></th>\n",
       "      <th>age</th>\n",
       "      <th>income</th>\n",
       "      <th>weight</th>\n",
       "      <th>income_log</th>\n",
       "      <th>weight_reciprocal</th>\n",
       "      <th>age_sqrt</th>\n",
       "      <th>weight_exp</th>\n",
       "      <th>income_boxcox</th>\n",
       "      <th>age_quantile</th>\n",
       "    </tr>\n",
       "  </thead>\n",
       "  <tbody>\n",
       "    <tr>\n",
       "      <th>0</th>\n",
       "      <td>20</td>\n",
       "      <td>20000</td>\n",
       "      <td>50</td>\n",
       "      <td>9.903488</td>\n",
       "      <td>0.020000</td>\n",
       "      <td>4.472136</td>\n",
       "      <td>5.184706e+21</td>\n",
       "      <td>1750.358795</td>\n",
       "      <td>0.000000</td>\n",
       "    </tr>\n",
       "    <tr>\n",
       "      <th>1</th>\n",
       "      <td>25</td>\n",
       "      <td>30000</td>\n",
       "      <td>60</td>\n",
       "      <td>10.308953</td>\n",
       "      <td>0.016667</td>\n",
       "      <td>5.000000</td>\n",
       "      <td>1.142007e+26</td>\n",
       "      <td>2345.273055</td>\n",
       "      <td>0.166667</td>\n",
       "    </tr>\n",
       "    <tr>\n",
       "      <th>2</th>\n",
       "      <td>30</td>\n",
       "      <td>40000</td>\n",
       "      <td>70</td>\n",
       "      <td>10.596635</td>\n",
       "      <td>0.014286</td>\n",
       "      <td>5.477226</td>\n",
       "      <td>2.515439e+30</td>\n",
       "      <td>2886.254577</td>\n",
       "      <td>0.333333</td>\n",
       "    </tr>\n",
       "    <tr>\n",
       "      <th>3</th>\n",
       "      <td>35</td>\n",
       "      <td>50000</td>\n",
       "      <td>80</td>\n",
       "      <td>10.819778</td>\n",
       "      <td>0.012500</td>\n",
       "      <td>5.916080</td>\n",
       "      <td>5.540622e+34</td>\n",
       "      <td>3390.371554</td>\n",
       "      <td>0.500000</td>\n",
       "    </tr>\n",
       "    <tr>\n",
       "      <th>4</th>\n",
       "      <td>40</td>\n",
       "      <td>60000</td>\n",
       "      <td>90</td>\n",
       "      <td>11.002100</td>\n",
       "      <td>0.011111</td>\n",
       "      <td>6.324555</td>\n",
       "      <td>1.220403e+39</td>\n",
       "      <td>3866.932963</td>\n",
       "      <td>0.666667</td>\n",
       "    </tr>\n",
       "    <tr>\n",
       "      <th>5</th>\n",
       "      <td>45</td>\n",
       "      <td>70000</td>\n",
       "      <td>100</td>\n",
       "      <td>11.156251</td>\n",
       "      <td>0.010000</td>\n",
       "      <td>6.708204</td>\n",
       "      <td>2.688117e+43</td>\n",
       "      <td>4321.736118</td>\n",
       "      <td>0.833333</td>\n",
       "    </tr>\n",
       "    <tr>\n",
       "      <th>6</th>\n",
       "      <td>50</td>\n",
       "      <td>80000</td>\n",
       "      <td>110</td>\n",
       "      <td>11.289782</td>\n",
       "      <td>0.009091</td>\n",
       "      <td>7.071068</td>\n",
       "      <td>5.920972e+47</td>\n",
       "      <td>4758.706655</td>\n",
       "      <td>1.000000</td>\n",
       "    </tr>\n",
       "  </tbody>\n",
       "</table>\n",
       "</div>"
      ],
      "text/plain": [
       "   age  income  weight  income_log  weight_reciprocal  age_sqrt    weight_exp  \\\n",
       "0   20   20000      50    9.903488           0.020000  4.472136  5.184706e+21   \n",
       "1   25   30000      60   10.308953           0.016667  5.000000  1.142007e+26   \n",
       "2   30   40000      70   10.596635           0.014286  5.477226  2.515439e+30   \n",
       "3   35   50000      80   10.819778           0.012500  5.916080  5.540622e+34   \n",
       "4   40   60000      90   11.002100           0.011111  6.324555  1.220403e+39   \n",
       "5   45   70000     100   11.156251           0.010000  6.708204  2.688117e+43   \n",
       "6   50   80000     110   11.289782           0.009091  7.071068  5.920972e+47   \n",
       "\n",
       "   income_boxcox  age_quantile  \n",
       "0    1750.358795      0.000000  \n",
       "1    2345.273055      0.166667  \n",
       "2    2886.254577      0.333333  \n",
       "3    3390.371554      0.500000  \n",
       "4    3866.932963      0.666667  \n",
       "5    4321.736118      0.833333  \n",
       "6    4758.706655      1.000000  "
      ]
     },
     "execution_count": 74,
     "metadata": {},
     "output_type": "execute_result"
    }
   ],
   "source": [
    "# Apply quintile transformation to age\n",
    "quantile = QuantileTransformer(n_quantiles=5)\n",
    "data['age_quantile'] = quantile.fit_transform(data[['age']])\n",
    "data"
   ]
  },
  {
   "cell_type": "code",
   "execution_count": 156,
   "metadata": {
    "id": "UZYHp2c4jtwe"
   },
   "outputs": [],
   "source": [
    "mtcars = pd.read_csv('mtcars.csv')\n",
    "mtcars.describe().loc[['mean','std', 'min', 'max']].round(3).to_csv(\"TP.csv\")"
   ]
  },
  {
   "cell_type": "code",
   "execution_count": 119,
   "metadata": {},
   "outputs": [],
   "source": [
    "mtcars.describe().to_csv(\"describe.csv\")"
   ]
  },
  {
   "cell_type": "code",
   "execution_count": 89,
   "metadata": {},
   "outputs": [
    {
     "name": "stderr",
     "output_type": "stream",
     "text": [
      "d:\\python\\lib\\site-packages\\seaborn\\distributions.py:2557: FutureWarning: `distplot` is a deprecated function and will be removed in a future version. Please adapt your code to use either `displot` (a figure-level function with similar flexibility) or `histplot` (an axes-level function for histograms).\n",
      "  warnings.warn(msg, FutureWarning)\n"
     ]
    },
    {
     "ename": "AttributeError",
     "evalue": "'AxesSubplot' object has no attribute 'show'",
     "output_type": "error",
     "traceback": [
      "\u001b[1;31m---------------------------------------------------------------------------\u001b[0m",
      "\u001b[1;31mAttributeError\u001b[0m                            Traceback (most recent call last)",
      "\u001b[1;32m<ipython-input-89-50ce57a0cd70>\u001b[0m in \u001b[0;36m<module>\u001b[1;34m\u001b[0m\n\u001b[0;32m      2\u001b[0m \u001b[1;32mimport\u001b[0m \u001b[0mmatplotlib\u001b[0m\u001b[1;33m.\u001b[0m\u001b[0mpyplot\u001b[0m \u001b[1;32mas\u001b[0m \u001b[0mplt\u001b[0m\u001b[1;33m\u001b[0m\u001b[1;33m\u001b[0m\u001b[0m\n\u001b[0;32m      3\u001b[0m \u001b[1;33m\u001b[0m\u001b[0m\n\u001b[1;32m----> 4\u001b[1;33m \u001b[0msns\u001b[0m\u001b[1;33m.\u001b[0m\u001b[0mdistplot\u001b[0m\u001b[1;33m(\u001b[0m\u001b[0mmtcars\u001b[0m\u001b[1;33m[\u001b[0m\u001b[1;34m'hp'\u001b[0m\u001b[1;33m]\u001b[0m\u001b[1;33m,\u001b[0m \u001b[0mkde\u001b[0m\u001b[1;33m=\u001b[0m\u001b[1;32mTrue\u001b[0m\u001b[1;33m,\u001b[0m \u001b[0mhist\u001b[0m\u001b[1;33m=\u001b[0m\u001b[1;32mTrue\u001b[0m\u001b[1;33m)\u001b[0m\u001b[1;33m.\u001b[0m\u001b[0mshow\u001b[0m\u001b[1;33m(\u001b[0m\u001b[1;33m)\u001b[0m\u001b[1;33m\u001b[0m\u001b[1;33m\u001b[0m\u001b[0m\n\u001b[0m",
      "\u001b[1;31mAttributeError\u001b[0m: 'AxesSubplot' object has no attribute 'show'"
     ]
    },
    {
     "data": {
      "image/png": "[encoded data removed]",
      "text/plain": [
       "<Figure size 432x288 with 1 Axes>"
      ]
     },
     "metadata": {
      "needs_background": "light"
     },
     "output_type": "display_data"
    }
   ],
   "source": [
    "import seaborn as sns\n",
    "import matplotlib.pyplot as plt\n",
    "\n",
    "sns.distplot(mtcars['hp'], kde=True, hist=True).show()"
   ]
  },
  {
   "cell_type": "code",
   "execution_count": 122,
   "metadata": {},
   "outputs": [],
   "source": [
    "mtcars['log_hp'] = np.log(mtcars['hp'])"
   ]
  },
  {
   "cell_type": "code",
   "execution_count": 124,
   "metadata": {},
   "outputs": [
    {
     "data": {
      "image/png": "[encoded data removed]",
      "text/plain": [
       "<Figure size 432x288 with 2 Axes>"
      ]
     },
     "metadata": {
      "needs_background": "light"
     },
     "output_type": "display_data"
    }
   ],
   "source": [
    "fig, axs = plt.subplots(ncols=2)\n",
    "\n",
    "sns.histplot(data=mtcars, x='hp', kde=True,ax=axs[0])\n",
    "axs[0].set_title('Histogram of hp')\n",
    "\n",
    "sns.histplot(data=mtcars, x='log_hp', kde=True,ax=axs[1])\n",
    "axs[1].set_title('Histogram of log(hp)')\n",
    "plt.savefig('logplot.png')\n",
    "plt.show()"
   ]
  },
  {
   "cell_type": "code",
   "execution_count": 129,
   "metadata": {},
   "outputs": [],
   "source": [
    "mtcars['recip_disp'] = 1 / mtcars['disp']"
   ]
  },
  {
   "cell_type": "code",
   "execution_count": 130,
   "metadata": {},
   "outputs": [
    {
     "data": {
      "image/png": "[encoded data removed]",
      "text/plain": [
       "<Figure size 432x288 with 2 Axes>"
      ]
     },
     "metadata": {
      "needs_background": "light"
     },
     "output_type": "display_data"
    }
   ],
   "source": [
    "fig, axs = plt.subplots(ncols=2)\n",
    "\n",
    "sns.histplot(data=mtcars, x='disp', kde=True,ax=axs[0])\n",
    "axs[0].set_title('Histogram of disp')\n",
    "\n",
    "sns.histplot(data=mtcars, x='recip_disp', kde=True,ax=axs[1])\n",
    "axs[1].set_title('Histogram of recip_disp')\n",
    "plt.savefig('Reciplot.png')\n",
    "plt.show()"
   ]
  },
  {
   "cell_type": "code",
   "execution_count": 131,
   "metadata": {},
   "outputs": [],
   "source": [
    "mtcars['sqrt_wt'] = np.sqrt(mtcars['wt'])"
   ]
  },
  {
   "cell_type": "code",
   "execution_count": 132,
   "metadata": {},
   "outputs": [
    {
     "data": {
      "image/png": "[encoded data removed]",
      "text/plain": [
       "<Figure size 432x288 with 2 Axes>"
      ]
     },
     "metadata": {
      "needs_background": "light"
     },
     "output_type": "display_data"
    }
   ],
   "source": [
    "fig, axs = plt.subplots(ncols=2)\n",
    "\n",
    "sns.histplot(data=mtcars, x='wt', kde=True,ax=axs[0])\n",
    "axs[0].set_title('Histogram of wt')\n",
    "\n",
    "sns.histplot(data=mtcars, x='sqrt_wt', kde=True,ax=axs[1])\n",
    "axs[1].set_title('Histogram of sqrt_wt')\n",
    "plt.savefig('SQRTplot.png')\n",
    "plt.show()"
   ]
  },
  {
   "cell_type": "code",
   "execution_count": 133,
   "metadata": {},
   "outputs": [],
   "source": [
    "mtcars['exp_qsec'] = np.exp(mtcars['qsec'])"
   ]
  },
  {
   "cell_type": "code",
   "execution_count": 134,
   "metadata": {},
   "outputs": [
    {
     "data": {
      "image/png": "[encoded data removed]",
      "text/plain": [
       "<Figure size 432x288 with 2 Axes>"
      ]
     },
     "metadata": {
      "needs_background": "light"
     },
     "output_type": "display_data"
    }
   ],
   "source": [
    "fig, axs = plt.subplots(ncols=2)\n",
    "\n",
    "sns.histplot(data=mtcars, x='qsec', kde=True,ax=axs[0])\n",
    "axs[0].set_title('Histogram of qsec')\n",
    "\n",
    "sns.histplot(data=mtcars, x='exp_qsec', kde=True,ax=axs[1])\n",
    "axs[1].set_title('Histogram of exp_qsec')\n",
    "plt.savefig('Expplot.png')\n",
    "plt.show()"
   ]
  },
  {
   "cell_type": "code",
   "execution_count": 135,
   "metadata": {},
   "outputs": [],
   "source": [
    "from scipy.stats import boxcox\n",
    "mtcars['boxcox_mpg'], _ = boxcox(mtcars['mpg'])"
   ]
  },
  {
   "cell_type": "code",
   "execution_count": 136,
   "metadata": {},
   "outputs": [
    {
     "data": {
      "image/png": "[encoded data removed]",
      "text/plain": [
       "<Figure size 432x288 with 2 Axes>"
      ]
     },
     "metadata": {
      "needs_background": "light"
     },
     "output_type": "display_data"
    }
   ],
   "source": [
    "fig, axs = plt.subplots(ncols=2)\n",
    "\n",
    "sns.histplot(data=mtcars, x='mpg', kde=True,ax=axs[0])\n",
    "axs[0].set_title('Histogram of mpg')\n",
    "\n",
    "sns.histplot(data=mtcars, x='boxcox_mpg', kde=True,ax=axs[1])\n",
    "axs[1].set_title('Histogram of boxcox_mpg')\n",
    "plt.savefig('BOXCOXplot.png')\n",
    "plt.show()"
   ]
  },
  {
   "cell_type": "code",
   "execution_count": 144,
   "metadata": {},
   "outputs": [],
   "source": [
    "mtcars['quintile_mpg'] = pd.qcut(mtcars['mpg'], q=5, labels=False)"
   ]
  },
  {
   "cell_type": "code",
   "execution_count": 145,
   "metadata": {},
   "outputs": [
    {
     "data": {
      "image/png": "[encoded data removed]",
      "text/plain": [
       "<Figure size 432x288 with 2 Axes>"
      ]
     },
     "metadata": {
      "needs_background": "light"
     },
     "output_type": "display_data"
    }
   ],
   "source": [
    "fig, axs = plt.subplots(ncols=2)\n",
    "\n",
    "sns.histplot(data=mtcars, x='mpg', kde=True,ax=axs[0])\n",
    "axs[0].set_title('Histogram of mpg')\n",
    "\n",
    "sns.histplot(data=mtcars, x='quintile_mpg', kde=True,ax=axs[1])\n",
    "axs[1].set_title('Histogram of quintile_mpg')\n",
    "plt.savefig('quintileplot.png')\n",
    "plt.show()"
   ]
  },
  {
   "cell_type": "code",
   "execution_count": null,
   "metadata": {},
   "outputs": [],
   "source": []
  }
 ],
 "metadata": {
  "celltoolbar": "Slideshow",
  "colab": {
   "provenance": []
  },
  "kernelspec": {
   "display_name": "Python 3",
   "language": "python",
   "name": "python3"
  },
  "language_info": {
   "codemirror_mode": {
    "name": "ipython",
    "version": 3
   },
   "file_extension": ".py",
   "mimetype": "text/x-python",
   "name": "python",
   "nbconvert_exporter": "python",
   "pygments_lexer": "ipython3",
   "version": "3.9.5"
  },
  "latex_envs": {
   "LaTeX_envs_menu_present": true,
   "autoclose": false,
   "autocomplete": true,
   "bibliofile": "biblio.bib",
   "cite_by": "apalike",
   "current_citInitial": 1,
   "eqLabelWithNumbers": true,
   "eqNumInitial": 1,
   "hotkeys": {
    "equation": "Ctrl-E",
    "itemize": "Ctrl-I"
   },
   "labels_anchors": false,
   "latex_user_defs": false,
   "report_style_numbering": false,
   "user_envs_cfg": false
  }
 },
 "nbformat": 4,
 "nbformat_minor": 1
}
