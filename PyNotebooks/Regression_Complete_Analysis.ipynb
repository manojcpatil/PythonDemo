{
 "cells": [
  {
   "cell_type": "markdown",
   "metadata": {
    "id": "kdG6zSIEagrN"
   },
   "source": [
    "# **Beginners Guide to Regression Analysis and Plot Interpretations**\n",
    "![](https://expertsystem.com/wp-content/uploads/2017/03/machine-learning-definition.jpeg)"
   ]
  },
  {
   "cell_type": "markdown",
   "metadata": {
    "id": "VHL42hPKagrS"
   },
   "source": [
    "## Table Of Contents:\n",
    "* **Understanding Regression**\n",
    "* **How Does Regression Work?**\n",
    "* **Types of Algorithms**\n",
    "* **Testing of Algorithms**"
   ]
  },
  {
   "cell_type": "markdown",
   "metadata": {
    "id": "j7yK81LOagrU"
   },
   "source": [
    "## Algorithms that we will consider:-\n",
    "1. Simple Linear Regression\n",
    "2. Multiple Linear Regression\n",
    "3. Polynomial Regression\n",
    "4. Support Vestor Regression\n",
    "5. Decision Tree Regression\n",
    "6. Random Forest Regression"
   ]
  },
  {
   "cell_type": "markdown",
   "metadata": {
    "id": "J8g6SJL5agrU"
   },
   "source": [
    "## Lets Start with Understanding what is Regression?\n",
    "**Regression is a technique used to predict value of one variable(Dependent Variable) on the basis of other variables(Independent Variables). It is parametric in nature because it makes certain assumptions based on the data set. If the data set follows those assumptions, regression gives incredible results. Otherwise, it struggles to provide convincing accuracy.**"
   ]
  },
  {
   "cell_type": "markdown",
   "metadata": {
    "id": "OzgtB2c5agrV"
   },
   "source": [
    "## How Does Regression Work?\n",
    "**Regression is a part of supervised learning which basically means that we train our models on the basis of given training data and our model tries to relate between the dependent and the independent variable. It does this using various functions that maps the independent variables to the dependent variables. When the model is completely trained and the error is minumised then we are able to make predictions on testing data as well.**"
   ]
  },
  {
   "cell_type": "markdown",
   "metadata": {
    "id": "YS7adpq0agrW"
   },
   "source": [
    "## We can apply machine learning model by following six steps:-\n",
    "* Indentifying Problem\n",
    "* Analysing Data\n",
    "* Preparing Data\n",
    "* Evaluating Algorithm\n",
    "* Improving Results\n",
    "* Presenting Results"
   ]
  },
  {
   "cell_type": "markdown",
   "metadata": {
    "id": "SZKxGDWpagrW"
   },
   "source": [
    "## Simple Linear Regression\n",
    "**It is a basic and commonly used type of predictive analysis. These regression estimates are used to explain the relationship between one dependent variable and one or more independent variables. \n",
    "y = a*X + b where:**\n",
    "* y – Dependent Variable\n",
    "* X – Independent variable\n",
    "* b – intercept\n",
    "* a – Slope"
   ]
  },
  {
   "cell_type": "markdown",
   "metadata": {
    "id": "VRXJUKDEagrX"
   },
   "source": [
    "## Preparing Data:"
   ]
  },
  {
   "cell_type": "code",
   "execution_count": 2,
   "metadata": {
    "id": "sHDAO3VbagrX"
   },
   "outputs": [],
   "source": [
    "# Importing Libraries\n",
    "import numpy as np\n",
    "import matplotlib.pyplot as plt\n",
    "import pandas as pd"
   ]
  },
  {
   "cell_type": "code",
   "execution_count": 3,
   "metadata": {
    "id": "fdxMQWrfagrY"
   },
   "outputs": [
    {
     "ename": "URLError",
     "evalue": "<urlopen error [SSL: CERTIFICATE_VERIFY_FAILED] certificate verify failed: self signed certificate in certificate chain (_ssl.c:1129)>",
     "output_type": "error",
     "traceback": [
      "\u001b[1;31m---------------------------------------------------------------------------\u001b[0m",
      "\u001b[1;31mSSLCertVerificationError\u001b[0m                  Traceback (most recent call last)",
      "\u001b[1;32md:\\python\\lib\\urllib\\request.py\u001b[0m in \u001b[0;36mdo_open\u001b[1;34m(self, http_class, req, **http_conn_args)\u001b[0m\n\u001b[0;32m   1345\u001b[0m             \u001b[1;32mtry\u001b[0m\u001b[1;33m:\u001b[0m\u001b[1;33m\u001b[0m\u001b[1;33m\u001b[0m\u001b[0m\n\u001b[1;32m-> 1346\u001b[1;33m                 h.request(req.get_method(), req.selector, req.data, headers,\n\u001b[0m\u001b[0;32m   1347\u001b[0m                           encode_chunked=req.has_header('Transfer-encoding'))\n",
      "\u001b[1;32md:\\python\\lib\\http\\client.py\u001b[0m in \u001b[0;36mrequest\u001b[1;34m(self, method, url, body, headers, encode_chunked)\u001b[0m\n\u001b[0;32m   1252\u001b[0m         \u001b[1;34m\"\"\"Send a complete request to the server.\"\"\"\u001b[0m\u001b[1;33m\u001b[0m\u001b[1;33m\u001b[0m\u001b[0m\n\u001b[1;32m-> 1253\u001b[1;33m         \u001b[0mself\u001b[0m\u001b[1;33m.\u001b[0m\u001b[0m_send_request\u001b[0m\u001b[1;33m(\u001b[0m\u001b[0mmethod\u001b[0m\u001b[1;33m,\u001b[0m \u001b[0murl\u001b[0m\u001b[1;33m,\u001b[0m \u001b[0mbody\u001b[0m\u001b[1;33m,\u001b[0m \u001b[0mheaders\u001b[0m\u001b[1;33m,\u001b[0m \u001b[0mencode_chunked\u001b[0m\u001b[1;33m)\u001b[0m\u001b[1;33m\u001b[0m\u001b[1;33m\u001b[0m\u001b[0m\n\u001b[0m\u001b[0;32m   1254\u001b[0m \u001b[1;33m\u001b[0m\u001b[0m\n",
      "\u001b[1;32md:\\python\\lib\\http\\client.py\u001b[0m in \u001b[0;36m_send_request\u001b[1;34m(self, method, url, body, headers, encode_chunked)\u001b[0m\n\u001b[0;32m   1298\u001b[0m             \u001b[0mbody\u001b[0m \u001b[1;33m=\u001b[0m \u001b[0m_encode\u001b[0m\u001b[1;33m(\u001b[0m\u001b[0mbody\u001b[0m\u001b[1;33m,\u001b[0m \u001b[1;34m'body'\u001b[0m\u001b[1;33m)\u001b[0m\u001b[1;33m\u001b[0m\u001b[1;33m\u001b[0m\u001b[0m\n\u001b[1;32m-> 1299\u001b[1;33m         \u001b[0mself\u001b[0m\u001b[1;33m.\u001b[0m\u001b[0mendheaders\u001b[0m\u001b[1;33m(\u001b[0m\u001b[0mbody\u001b[0m\u001b[1;33m,\u001b[0m \u001b[0mencode_chunked\u001b[0m\u001b[1;33m=\u001b[0m\u001b[0mencode_chunked\u001b[0m\u001b[1;33m)\u001b[0m\u001b[1;33m\u001b[0m\u001b[1;33m\u001b[0m\u001b[0m\n\u001b[0m\u001b[0;32m   1300\u001b[0m \u001b[1;33m\u001b[0m\u001b[0m\n",
      "\u001b[1;32md:\\python\\lib\\http\\client.py\u001b[0m in \u001b[0;36mendheaders\u001b[1;34m(self, message_body, encode_chunked)\u001b[0m\n\u001b[0;32m   1247\u001b[0m             \u001b[1;32mraise\u001b[0m \u001b[0mCannotSendHeader\u001b[0m\u001b[1;33m(\u001b[0m\u001b[1;33m)\u001b[0m\u001b[1;33m\u001b[0m\u001b[1;33m\u001b[0m\u001b[0m\n\u001b[1;32m-> 1248\u001b[1;33m         \u001b[0mself\u001b[0m\u001b[1;33m.\u001b[0m\u001b[0m_send_output\u001b[0m\u001b[1;33m(\u001b[0m\u001b[0mmessage_body\u001b[0m\u001b[1;33m,\u001b[0m \u001b[0mencode_chunked\u001b[0m\u001b[1;33m=\u001b[0m\u001b[0mencode_chunked\u001b[0m\u001b[1;33m)\u001b[0m\u001b[1;33m\u001b[0m\u001b[1;33m\u001b[0m\u001b[0m\n\u001b[0m\u001b[0;32m   1249\u001b[0m \u001b[1;33m\u001b[0m\u001b[0m\n",
      "\u001b[1;32md:\\python\\lib\\http\\client.py\u001b[0m in \u001b[0;36m_send_output\u001b[1;34m(self, message_body, encode_chunked)\u001b[0m\n\u001b[0;32m   1007\u001b[0m         \u001b[1;32mdel\u001b[0m \u001b[0mself\u001b[0m\u001b[1;33m.\u001b[0m\u001b[0m_buffer\u001b[0m\u001b[1;33m[\u001b[0m\u001b[1;33m:\u001b[0m\u001b[1;33m]\u001b[0m\u001b[1;33m\u001b[0m\u001b[1;33m\u001b[0m\u001b[0m\n\u001b[1;32m-> 1008\u001b[1;33m         \u001b[0mself\u001b[0m\u001b[1;33m.\u001b[0m\u001b[0msend\u001b[0m\u001b[1;33m(\u001b[0m\u001b[0mmsg\u001b[0m\u001b[1;33m)\u001b[0m\u001b[1;33m\u001b[0m\u001b[1;33m\u001b[0m\u001b[0m\n\u001b[0m\u001b[0;32m   1009\u001b[0m \u001b[1;33m\u001b[0m\u001b[0m\n",
      "\u001b[1;32md:\\python\\lib\\http\\client.py\u001b[0m in \u001b[0;36msend\u001b[1;34m(self, data)\u001b[0m\n\u001b[0;32m    947\u001b[0m             \u001b[1;32mif\u001b[0m \u001b[0mself\u001b[0m\u001b[1;33m.\u001b[0m\u001b[0mauto_open\u001b[0m\u001b[1;33m:\u001b[0m\u001b[1;33m\u001b[0m\u001b[1;33m\u001b[0m\u001b[0m\n\u001b[1;32m--> 948\u001b[1;33m                 \u001b[0mself\u001b[0m\u001b[1;33m.\u001b[0m\u001b[0mconnect\u001b[0m\u001b[1;33m(\u001b[0m\u001b[1;33m)\u001b[0m\u001b[1;33m\u001b[0m\u001b[1;33m\u001b[0m\u001b[0m\n\u001b[0m\u001b[0;32m    949\u001b[0m             \u001b[1;32melse\u001b[0m\u001b[1;33m:\u001b[0m\u001b[1;33m\u001b[0m\u001b[1;33m\u001b[0m\u001b[0m\n",
      "\u001b[1;32md:\\python\\lib\\http\\client.py\u001b[0m in \u001b[0;36mconnect\u001b[1;34m(self)\u001b[0m\n\u001b[0;32m   1421\u001b[0m \u001b[1;33m\u001b[0m\u001b[0m\n\u001b[1;32m-> 1422\u001b[1;33m             self.sock = self._context.wrap_socket(self.sock,\n\u001b[0m\u001b[0;32m   1423\u001b[0m                                                   server_hostname=server_hostname)\n",
      "\u001b[1;32md:\\python\\lib\\ssl.py\u001b[0m in \u001b[0;36mwrap_socket\u001b[1;34m(self, sock, server_side, do_handshake_on_connect, suppress_ragged_eofs, server_hostname, session)\u001b[0m\n\u001b[0;32m    499\u001b[0m         \u001b[1;31m# ctx._wrap_socket()\u001b[0m\u001b[1;33m\u001b[0m\u001b[1;33m\u001b[0m\u001b[1;33m\u001b[0m\u001b[0m\n\u001b[1;32m--> 500\u001b[1;33m         return self.sslsocket_class._create(\n\u001b[0m\u001b[0;32m    501\u001b[0m             \u001b[0msock\u001b[0m\u001b[1;33m=\u001b[0m\u001b[0msock\u001b[0m\u001b[1;33m,\u001b[0m\u001b[1;33m\u001b[0m\u001b[1;33m\u001b[0m\u001b[0m\n",
      "\u001b[1;32md:\\python\\lib\\ssl.py\u001b[0m in \u001b[0;36m_create\u001b[1;34m(cls, sock, server_side, do_handshake_on_connect, suppress_ragged_eofs, server_hostname, context, session)\u001b[0m\n\u001b[0;32m   1039\u001b[0m                         \u001b[1;32mraise\u001b[0m \u001b[0mValueError\u001b[0m\u001b[1;33m(\u001b[0m\u001b[1;34m\"do_handshake_on_connect should not be specified for non-blocking sockets\"\u001b[0m\u001b[1;33m)\u001b[0m\u001b[1;33m\u001b[0m\u001b[1;33m\u001b[0m\u001b[0m\n\u001b[1;32m-> 1040\u001b[1;33m                     \u001b[0mself\u001b[0m\u001b[1;33m.\u001b[0m\u001b[0mdo_handshake\u001b[0m\u001b[1;33m(\u001b[0m\u001b[1;33m)\u001b[0m\u001b[1;33m\u001b[0m\u001b[1;33m\u001b[0m\u001b[0m\n\u001b[0m\u001b[0;32m   1041\u001b[0m             \u001b[1;32mexcept\u001b[0m \u001b[1;33m(\u001b[0m\u001b[0mOSError\u001b[0m\u001b[1;33m,\u001b[0m \u001b[0mValueError\u001b[0m\u001b[1;33m)\u001b[0m\u001b[1;33m:\u001b[0m\u001b[1;33m\u001b[0m\u001b[1;33m\u001b[0m\u001b[0m\n",
      "\u001b[1;32md:\\python\\lib\\ssl.py\u001b[0m in \u001b[0;36mdo_handshake\u001b[1;34m(self, block)\u001b[0m\n\u001b[0;32m   1308\u001b[0m                 \u001b[0mself\u001b[0m\u001b[1;33m.\u001b[0m\u001b[0msettimeout\u001b[0m\u001b[1;33m(\u001b[0m\u001b[1;32mNone\u001b[0m\u001b[1;33m)\u001b[0m\u001b[1;33m\u001b[0m\u001b[1;33m\u001b[0m\u001b[0m\n\u001b[1;32m-> 1309\u001b[1;33m             \u001b[0mself\u001b[0m\u001b[1;33m.\u001b[0m\u001b[0m_sslobj\u001b[0m\u001b[1;33m.\u001b[0m\u001b[0mdo_handshake\u001b[0m\u001b[1;33m(\u001b[0m\u001b[1;33m)\u001b[0m\u001b[1;33m\u001b[0m\u001b[1;33m\u001b[0m\u001b[0m\n\u001b[0m\u001b[0;32m   1310\u001b[0m         \u001b[1;32mfinally\u001b[0m\u001b[1;33m:\u001b[0m\u001b[1;33m\u001b[0m\u001b[1;33m\u001b[0m\u001b[0m\n",
      "\u001b[1;31mSSLCertVerificationError\u001b[0m: [SSL: CERTIFICATE_VERIFY_FAILED] certificate verify failed: self signed certificate in certificate chain (_ssl.c:1129)",
      "\nDuring handling of the above exception, another exception occurred:\n",
      "\u001b[1;31mURLError\u001b[0m                                  Traceback (most recent call last)",
      "\u001b[1;32m<ipython-input-3-9be28cc32c0e>\u001b[0m in \u001b[0;36m<module>\u001b[1;34m\u001b[0m\n\u001b[1;32m----> 1\u001b[1;33m \u001b[0mTraining_Dataset\u001b[0m \u001b[1;33m=\u001b[0m \u001b[0mpd\u001b[0m\u001b[1;33m.\u001b[0m\u001b[0mread_csv\u001b[0m\u001b[1;33m(\u001b[0m\u001b[1;34m\"https://raw.githubusercontent.com/manojcpatil/PythonDemo/master/Data/regression_train_data.csv\"\u001b[0m\u001b[1;33m)\u001b[0m\u001b[1;33m\u001b[0m\u001b[1;33m\u001b[0m\u001b[0m\n\u001b[0m\u001b[0;32m      2\u001b[0m \u001b[0mTraining_Dataset\u001b[0m \u001b[1;33m=\u001b[0m \u001b[0mTraining_Dataset\u001b[0m\u001b[1;33m.\u001b[0m\u001b[0mdropna\u001b[0m\u001b[1;33m(\u001b[0m\u001b[1;33m)\u001b[0m\u001b[1;33m\u001b[0m\u001b[1;33m\u001b[0m\u001b[0m\n\u001b[0;32m      3\u001b[0m \u001b[0mX_train\u001b[0m \u001b[1;33m=\u001b[0m \u001b[0mnp\u001b[0m\u001b[1;33m.\u001b[0m\u001b[0marray\u001b[0m\u001b[1;33m(\u001b[0m\u001b[0mTraining_Dataset\u001b[0m\u001b[1;33m.\u001b[0m\u001b[0miloc\u001b[0m\u001b[1;33m[\u001b[0m\u001b[1;33m:\u001b[0m\u001b[1;33m,\u001b[0m \u001b[1;33m:\u001b[0m\u001b[1;33m-\u001b[0m\u001b[1;36m1\u001b[0m\u001b[1;33m]\u001b[0m\u001b[1;33m.\u001b[0m\u001b[0mvalues\u001b[0m\u001b[1;33m)\u001b[0m \u001b[1;31m# Independent Variable\u001b[0m\u001b[1;33m\u001b[0m\u001b[1;33m\u001b[0m\u001b[0m\n\u001b[0;32m      4\u001b[0m \u001b[0my_train\u001b[0m \u001b[1;33m=\u001b[0m \u001b[0mnp\u001b[0m\u001b[1;33m.\u001b[0m\u001b[0marray\u001b[0m\u001b[1;33m(\u001b[0m\u001b[0mTraining_Dataset\u001b[0m\u001b[1;33m.\u001b[0m\u001b[0miloc\u001b[0m\u001b[1;33m[\u001b[0m\u001b[1;33m:\u001b[0m\u001b[1;33m,\u001b[0m \u001b[1;36m1\u001b[0m\u001b[1;33m]\u001b[0m\u001b[1;33m.\u001b[0m\u001b[0mvalues\u001b[0m\u001b[1;33m)\u001b[0m \u001b[1;31m# Dependent Variable\u001b[0m\u001b[1;33m\u001b[0m\u001b[1;33m\u001b[0m\u001b[0m\n",
      "\u001b[1;32md:\\python\\lib\\site-packages\\pandas\\io\\parsers.py\u001b[0m in \u001b[0;36mread_csv\u001b[1;34m(filepath_or_buffer, sep, delimiter, header, names, index_col, usecols, squeeze, prefix, mangle_dupe_cols, dtype, engine, converters, true_values, false_values, skipinitialspace, skiprows, skipfooter, nrows, na_values, keep_default_na, na_filter, verbose, skip_blank_lines, parse_dates, infer_datetime_format, keep_date_col, date_parser, dayfirst, cache_dates, iterator, chunksize, compression, thousands, decimal, lineterminator, quotechar, quoting, doublequote, escapechar, comment, encoding, dialect, error_bad_lines, warn_bad_lines, delim_whitespace, low_memory, memory_map, float_precision, storage_options)\u001b[0m\n\u001b[0;32m    608\u001b[0m     \u001b[0mkwds\u001b[0m\u001b[1;33m.\u001b[0m\u001b[0mupdate\u001b[0m\u001b[1;33m(\u001b[0m\u001b[0mkwds_defaults\u001b[0m\u001b[1;33m)\u001b[0m\u001b[1;33m\u001b[0m\u001b[1;33m\u001b[0m\u001b[0m\n\u001b[0;32m    609\u001b[0m \u001b[1;33m\u001b[0m\u001b[0m\n\u001b[1;32m--> 610\u001b[1;33m     \u001b[1;32mreturn\u001b[0m \u001b[0m_read\u001b[0m\u001b[1;33m(\u001b[0m\u001b[0mfilepath_or_buffer\u001b[0m\u001b[1;33m,\u001b[0m \u001b[0mkwds\u001b[0m\u001b[1;33m)\u001b[0m\u001b[1;33m\u001b[0m\u001b[1;33m\u001b[0m\u001b[0m\n\u001b[0m\u001b[0;32m    611\u001b[0m \u001b[1;33m\u001b[0m\u001b[0m\n\u001b[0;32m    612\u001b[0m \u001b[1;33m\u001b[0m\u001b[0m\n",
      "\u001b[1;32md:\\python\\lib\\site-packages\\pandas\\io\\parsers.py\u001b[0m in \u001b[0;36m_read\u001b[1;34m(filepath_or_buffer, kwds)\u001b[0m\n\u001b[0;32m    460\u001b[0m \u001b[1;33m\u001b[0m\u001b[0m\n\u001b[0;32m    461\u001b[0m     \u001b[1;31m# Create the parser.\u001b[0m\u001b[1;33m\u001b[0m\u001b[1;33m\u001b[0m\u001b[1;33m\u001b[0m\u001b[0m\n\u001b[1;32m--> 462\u001b[1;33m     \u001b[0mparser\u001b[0m \u001b[1;33m=\u001b[0m \u001b[0mTextFileReader\u001b[0m\u001b[1;33m(\u001b[0m\u001b[0mfilepath_or_buffer\u001b[0m\u001b[1;33m,\u001b[0m \u001b[1;33m**\u001b[0m\u001b[0mkwds\u001b[0m\u001b[1;33m)\u001b[0m\u001b[1;33m\u001b[0m\u001b[1;33m\u001b[0m\u001b[0m\n\u001b[0m\u001b[0;32m    463\u001b[0m \u001b[1;33m\u001b[0m\u001b[0m\n\u001b[0;32m    464\u001b[0m     \u001b[1;32mif\u001b[0m \u001b[0mchunksize\u001b[0m \u001b[1;32mor\u001b[0m \u001b[0miterator\u001b[0m\u001b[1;33m:\u001b[0m\u001b[1;33m\u001b[0m\u001b[1;33m\u001b[0m\u001b[0m\n",
      "\u001b[1;32md:\\python\\lib\\site-packages\\pandas\\io\\parsers.py\u001b[0m in \u001b[0;36m__init__\u001b[1;34m(self, f, engine, **kwds)\u001b[0m\n\u001b[0;32m    817\u001b[0m             \u001b[0mself\u001b[0m\u001b[1;33m.\u001b[0m\u001b[0moptions\u001b[0m\u001b[1;33m[\u001b[0m\u001b[1;34m\"has_index_names\"\u001b[0m\u001b[1;33m]\u001b[0m \u001b[1;33m=\u001b[0m \u001b[0mkwds\u001b[0m\u001b[1;33m[\u001b[0m\u001b[1;34m\"has_index_names\"\u001b[0m\u001b[1;33m]\u001b[0m\u001b[1;33m\u001b[0m\u001b[1;33m\u001b[0m\u001b[0m\n\u001b[0;32m    818\u001b[0m \u001b[1;33m\u001b[0m\u001b[0m\n\u001b[1;32m--> 819\u001b[1;33m         \u001b[0mself\u001b[0m\u001b[1;33m.\u001b[0m\u001b[0m_engine\u001b[0m \u001b[1;33m=\u001b[0m \u001b[0mself\u001b[0m\u001b[1;33m.\u001b[0m\u001b[0m_make_engine\u001b[0m\u001b[1;33m(\u001b[0m\u001b[0mself\u001b[0m\u001b[1;33m.\u001b[0m\u001b[0mengine\u001b[0m\u001b[1;33m)\u001b[0m\u001b[1;33m\u001b[0m\u001b[1;33m\u001b[0m\u001b[0m\n\u001b[0m\u001b[0;32m    820\u001b[0m \u001b[1;33m\u001b[0m\u001b[0m\n\u001b[0;32m    821\u001b[0m     \u001b[1;32mdef\u001b[0m \u001b[0mclose\u001b[0m\u001b[1;33m(\u001b[0m\u001b[0mself\u001b[0m\u001b[1;33m)\u001b[0m\u001b[1;33m:\u001b[0m\u001b[1;33m\u001b[0m\u001b[1;33m\u001b[0m\u001b[0m\n",
      "\u001b[1;32md:\\python\\lib\\site-packages\\pandas\\io\\parsers.py\u001b[0m in \u001b[0;36m_make_engine\u001b[1;34m(self, engine)\u001b[0m\n\u001b[0;32m   1048\u001b[0m             )\n\u001b[0;32m   1049\u001b[0m         \u001b[1;31m# error: Too many arguments for \"ParserBase\"\u001b[0m\u001b[1;33m\u001b[0m\u001b[1;33m\u001b[0m\u001b[1;33m\u001b[0m\u001b[0m\n\u001b[1;32m-> 1050\u001b[1;33m         \u001b[1;32mreturn\u001b[0m \u001b[0mmapping\u001b[0m\u001b[1;33m[\u001b[0m\u001b[0mengine\u001b[0m\u001b[1;33m]\u001b[0m\u001b[1;33m(\u001b[0m\u001b[0mself\u001b[0m\u001b[1;33m.\u001b[0m\u001b[0mf\u001b[0m\u001b[1;33m,\u001b[0m \u001b[1;33m**\u001b[0m\u001b[0mself\u001b[0m\u001b[1;33m.\u001b[0m\u001b[0moptions\u001b[0m\u001b[1;33m)\u001b[0m  \u001b[1;31m# type: ignore[call-arg]\u001b[0m\u001b[1;33m\u001b[0m\u001b[1;33m\u001b[0m\u001b[0m\n\u001b[0m\u001b[0;32m   1051\u001b[0m \u001b[1;33m\u001b[0m\u001b[0m\n\u001b[0;32m   1052\u001b[0m     \u001b[1;32mdef\u001b[0m \u001b[0m_failover_to_python\u001b[0m\u001b[1;33m(\u001b[0m\u001b[0mself\u001b[0m\u001b[1;33m)\u001b[0m\u001b[1;33m:\u001b[0m\u001b[1;33m\u001b[0m\u001b[1;33m\u001b[0m\u001b[0m\n",
      "\u001b[1;32md:\\python\\lib\\site-packages\\pandas\\io\\parsers.py\u001b[0m in \u001b[0;36m__init__\u001b[1;34m(self, src, **kwds)\u001b[0m\n\u001b[0;32m   1865\u001b[0m \u001b[1;33m\u001b[0m\u001b[0m\n\u001b[0;32m   1866\u001b[0m         \u001b[1;31m# open handles\u001b[0m\u001b[1;33m\u001b[0m\u001b[1;33m\u001b[0m\u001b[1;33m\u001b[0m\u001b[0m\n\u001b[1;32m-> 1867\u001b[1;33m         \u001b[0mself\u001b[0m\u001b[1;33m.\u001b[0m\u001b[0m_open_handles\u001b[0m\u001b[1;33m(\u001b[0m\u001b[0msrc\u001b[0m\u001b[1;33m,\u001b[0m \u001b[0mkwds\u001b[0m\u001b[1;33m)\u001b[0m\u001b[1;33m\u001b[0m\u001b[1;33m\u001b[0m\u001b[0m\n\u001b[0m\u001b[0;32m   1868\u001b[0m         \u001b[1;32massert\u001b[0m \u001b[0mself\u001b[0m\u001b[1;33m.\u001b[0m\u001b[0mhandles\u001b[0m \u001b[1;32mis\u001b[0m \u001b[1;32mnot\u001b[0m \u001b[1;32mNone\u001b[0m\u001b[1;33m\u001b[0m\u001b[1;33m\u001b[0m\u001b[0m\n\u001b[0;32m   1869\u001b[0m         \u001b[1;32mfor\u001b[0m \u001b[0mkey\u001b[0m \u001b[1;32min\u001b[0m \u001b[1;33m(\u001b[0m\u001b[1;34m\"storage_options\"\u001b[0m\u001b[1;33m,\u001b[0m \u001b[1;34m\"encoding\"\u001b[0m\u001b[1;33m,\u001b[0m \u001b[1;34m\"memory_map\"\u001b[0m\u001b[1;33m,\u001b[0m \u001b[1;34m\"compression\"\u001b[0m\u001b[1;33m)\u001b[0m\u001b[1;33m:\u001b[0m\u001b[1;33m\u001b[0m\u001b[1;33m\u001b[0m\u001b[0m\n",
      "\u001b[1;32md:\\python\\lib\\site-packages\\pandas\\io\\parsers.py\u001b[0m in \u001b[0;36m_open_handles\u001b[1;34m(self, src, kwds)\u001b[0m\n\u001b[0;32m   1360\u001b[0m         \u001b[0mLet\u001b[0m \u001b[0mthe\u001b[0m \u001b[0mreaders\u001b[0m \u001b[0mopen\u001b[0m \u001b[0mIOHanldes\u001b[0m \u001b[0mafter\u001b[0m \u001b[0mthey\u001b[0m \u001b[0mare\u001b[0m \u001b[0mdone\u001b[0m \u001b[1;32mwith\u001b[0m \u001b[0mtheir\u001b[0m \u001b[0mpotential\u001b[0m \u001b[0mraises\u001b[0m\u001b[1;33m.\u001b[0m\u001b[1;33m\u001b[0m\u001b[1;33m\u001b[0m\u001b[0m\n\u001b[0;32m   1361\u001b[0m         \"\"\"\n\u001b[1;32m-> 1362\u001b[1;33m         self.handles = get_handle(\n\u001b[0m\u001b[0;32m   1363\u001b[0m             \u001b[0msrc\u001b[0m\u001b[1;33m,\u001b[0m\u001b[1;33m\u001b[0m\u001b[1;33m\u001b[0m\u001b[0m\n\u001b[0;32m   1364\u001b[0m             \u001b[1;34m\"r\"\u001b[0m\u001b[1;33m,\u001b[0m\u001b[1;33m\u001b[0m\u001b[1;33m\u001b[0m\u001b[0m\n",
      "\u001b[1;32md:\\python\\lib\\site-packages\\pandas\\io\\common.py\u001b[0m in \u001b[0;36mget_handle\u001b[1;34m(path_or_buf, mode, encoding, compression, memory_map, is_text, errors, storage_options)\u001b[0m\n\u001b[0;32m    556\u001b[0m \u001b[1;33m\u001b[0m\u001b[0m\n\u001b[0;32m    557\u001b[0m     \u001b[1;31m# open URLs\u001b[0m\u001b[1;33m\u001b[0m\u001b[1;33m\u001b[0m\u001b[1;33m\u001b[0m\u001b[0m\n\u001b[1;32m--> 558\u001b[1;33m     ioargs = _get_filepath_or_buffer(\n\u001b[0m\u001b[0;32m    559\u001b[0m         \u001b[0mpath_or_buf\u001b[0m\u001b[1;33m,\u001b[0m\u001b[1;33m\u001b[0m\u001b[1;33m\u001b[0m\u001b[0m\n\u001b[0;32m    560\u001b[0m         \u001b[0mencoding\u001b[0m\u001b[1;33m=\u001b[0m\u001b[0mencoding\u001b[0m\u001b[1;33m,\u001b[0m\u001b[1;33m\u001b[0m\u001b[1;33m\u001b[0m\u001b[0m\n",
      "\u001b[1;32md:\\python\\lib\\site-packages\\pandas\\io\\common.py\u001b[0m in \u001b[0;36m_get_filepath_or_buffer\u001b[1;34m(filepath_or_buffer, encoding, compression, mode, storage_options)\u001b[0m\n\u001b[0;32m    287\u001b[0m                 \u001b[1;34m\"storage_options passed with file object or non-fsspec file path\"\u001b[0m\u001b[1;33m\u001b[0m\u001b[1;33m\u001b[0m\u001b[0m\n\u001b[0;32m    288\u001b[0m             )\n\u001b[1;32m--> 289\u001b[1;33m         \u001b[0mreq\u001b[0m \u001b[1;33m=\u001b[0m \u001b[0murlopen\u001b[0m\u001b[1;33m(\u001b[0m\u001b[0mfilepath_or_buffer\u001b[0m\u001b[1;33m)\u001b[0m\u001b[1;33m\u001b[0m\u001b[1;33m\u001b[0m\u001b[0m\n\u001b[0m\u001b[0;32m    290\u001b[0m         \u001b[0mcontent_encoding\u001b[0m \u001b[1;33m=\u001b[0m \u001b[0mreq\u001b[0m\u001b[1;33m.\u001b[0m\u001b[0mheaders\u001b[0m\u001b[1;33m.\u001b[0m\u001b[0mget\u001b[0m\u001b[1;33m(\u001b[0m\u001b[1;34m\"Content-Encoding\"\u001b[0m\u001b[1;33m,\u001b[0m \u001b[1;32mNone\u001b[0m\u001b[1;33m)\u001b[0m\u001b[1;33m\u001b[0m\u001b[1;33m\u001b[0m\u001b[0m\n\u001b[0;32m    291\u001b[0m         \u001b[1;32mif\u001b[0m \u001b[0mcontent_encoding\u001b[0m \u001b[1;33m==\u001b[0m \u001b[1;34m\"gzip\"\u001b[0m\u001b[1;33m:\u001b[0m\u001b[1;33m\u001b[0m\u001b[1;33m\u001b[0m\u001b[0m\n",
      "\u001b[1;32md:\\python\\lib\\site-packages\\pandas\\io\\common.py\u001b[0m in \u001b[0;36murlopen\u001b[1;34m(*args, **kwargs)\u001b[0m\n\u001b[0;32m    193\u001b[0m     \u001b[1;32mimport\u001b[0m \u001b[0murllib\u001b[0m\u001b[1;33m.\u001b[0m\u001b[0mrequest\u001b[0m\u001b[1;33m\u001b[0m\u001b[1;33m\u001b[0m\u001b[0m\n\u001b[0;32m    194\u001b[0m \u001b[1;33m\u001b[0m\u001b[0m\n\u001b[1;32m--> 195\u001b[1;33m     \u001b[1;32mreturn\u001b[0m \u001b[0murllib\u001b[0m\u001b[1;33m.\u001b[0m\u001b[0mrequest\u001b[0m\u001b[1;33m.\u001b[0m\u001b[0murlopen\u001b[0m\u001b[1;33m(\u001b[0m\u001b[1;33m*\u001b[0m\u001b[0margs\u001b[0m\u001b[1;33m,\u001b[0m \u001b[1;33m**\u001b[0m\u001b[0mkwargs\u001b[0m\u001b[1;33m)\u001b[0m\u001b[1;33m\u001b[0m\u001b[1;33m\u001b[0m\u001b[0m\n\u001b[0m\u001b[0;32m    196\u001b[0m \u001b[1;33m\u001b[0m\u001b[0m\n\u001b[0;32m    197\u001b[0m \u001b[1;33m\u001b[0m\u001b[0m\n",
      "\u001b[1;32md:\\python\\lib\\urllib\\request.py\u001b[0m in \u001b[0;36murlopen\u001b[1;34m(url, data, timeout, cafile, capath, cadefault, context)\u001b[0m\n\u001b[0;32m    212\u001b[0m     \u001b[1;32melse\u001b[0m\u001b[1;33m:\u001b[0m\u001b[1;33m\u001b[0m\u001b[1;33m\u001b[0m\u001b[0m\n\u001b[0;32m    213\u001b[0m         \u001b[0mopener\u001b[0m \u001b[1;33m=\u001b[0m \u001b[0m_opener\u001b[0m\u001b[1;33m\u001b[0m\u001b[1;33m\u001b[0m\u001b[0m\n\u001b[1;32m--> 214\u001b[1;33m     \u001b[1;32mreturn\u001b[0m \u001b[0mopener\u001b[0m\u001b[1;33m.\u001b[0m\u001b[0mopen\u001b[0m\u001b[1;33m(\u001b[0m\u001b[0murl\u001b[0m\u001b[1;33m,\u001b[0m \u001b[0mdata\u001b[0m\u001b[1;33m,\u001b[0m \u001b[0mtimeout\u001b[0m\u001b[1;33m)\u001b[0m\u001b[1;33m\u001b[0m\u001b[1;33m\u001b[0m\u001b[0m\n\u001b[0m\u001b[0;32m    215\u001b[0m \u001b[1;33m\u001b[0m\u001b[0m\n\u001b[0;32m    216\u001b[0m \u001b[1;32mdef\u001b[0m \u001b[0minstall_opener\u001b[0m\u001b[1;33m(\u001b[0m\u001b[0mopener\u001b[0m\u001b[1;33m)\u001b[0m\u001b[1;33m:\u001b[0m\u001b[1;33m\u001b[0m\u001b[1;33m\u001b[0m\u001b[0m\n",
      "\u001b[1;32md:\\python\\lib\\urllib\\request.py\u001b[0m in \u001b[0;36mopen\u001b[1;34m(self, fullurl, data, timeout)\u001b[0m\n\u001b[0;32m    515\u001b[0m \u001b[1;33m\u001b[0m\u001b[0m\n\u001b[0;32m    516\u001b[0m         \u001b[0msys\u001b[0m\u001b[1;33m.\u001b[0m\u001b[0maudit\u001b[0m\u001b[1;33m(\u001b[0m\u001b[1;34m'urllib.Request'\u001b[0m\u001b[1;33m,\u001b[0m \u001b[0mreq\u001b[0m\u001b[1;33m.\u001b[0m\u001b[0mfull_url\u001b[0m\u001b[1;33m,\u001b[0m \u001b[0mreq\u001b[0m\u001b[1;33m.\u001b[0m\u001b[0mdata\u001b[0m\u001b[1;33m,\u001b[0m \u001b[0mreq\u001b[0m\u001b[1;33m.\u001b[0m\u001b[0mheaders\u001b[0m\u001b[1;33m,\u001b[0m \u001b[0mreq\u001b[0m\u001b[1;33m.\u001b[0m\u001b[0mget_method\u001b[0m\u001b[1;33m(\u001b[0m\u001b[1;33m)\u001b[0m\u001b[1;33m)\u001b[0m\u001b[1;33m\u001b[0m\u001b[1;33m\u001b[0m\u001b[0m\n\u001b[1;32m--> 517\u001b[1;33m         \u001b[0mresponse\u001b[0m \u001b[1;33m=\u001b[0m \u001b[0mself\u001b[0m\u001b[1;33m.\u001b[0m\u001b[0m_open\u001b[0m\u001b[1;33m(\u001b[0m\u001b[0mreq\u001b[0m\u001b[1;33m,\u001b[0m \u001b[0mdata\u001b[0m\u001b[1;33m)\u001b[0m\u001b[1;33m\u001b[0m\u001b[1;33m\u001b[0m\u001b[0m\n\u001b[0m\u001b[0;32m    518\u001b[0m \u001b[1;33m\u001b[0m\u001b[0m\n\u001b[0;32m    519\u001b[0m         \u001b[1;31m# post-process response\u001b[0m\u001b[1;33m\u001b[0m\u001b[1;33m\u001b[0m\u001b[1;33m\u001b[0m\u001b[0m\n",
      "\u001b[1;32md:\\python\\lib\\urllib\\request.py\u001b[0m in \u001b[0;36m_open\u001b[1;34m(self, req, data)\u001b[0m\n\u001b[0;32m    532\u001b[0m \u001b[1;33m\u001b[0m\u001b[0m\n\u001b[0;32m    533\u001b[0m         \u001b[0mprotocol\u001b[0m \u001b[1;33m=\u001b[0m \u001b[0mreq\u001b[0m\u001b[1;33m.\u001b[0m\u001b[0mtype\u001b[0m\u001b[1;33m\u001b[0m\u001b[1;33m\u001b[0m\u001b[0m\n\u001b[1;32m--> 534\u001b[1;33m         result = self._call_chain(self.handle_open, protocol, protocol +\n\u001b[0m\u001b[0;32m    535\u001b[0m                                   '_open', req)\n\u001b[0;32m    536\u001b[0m         \u001b[1;32mif\u001b[0m \u001b[0mresult\u001b[0m\u001b[1;33m:\u001b[0m\u001b[1;33m\u001b[0m\u001b[1;33m\u001b[0m\u001b[0m\n",
      "\u001b[1;32md:\\python\\lib\\urllib\\request.py\u001b[0m in \u001b[0;36m_call_chain\u001b[1;34m(self, chain, kind, meth_name, *args)\u001b[0m\n\u001b[0;32m    492\u001b[0m         \u001b[1;32mfor\u001b[0m \u001b[0mhandler\u001b[0m \u001b[1;32min\u001b[0m \u001b[0mhandlers\u001b[0m\u001b[1;33m:\u001b[0m\u001b[1;33m\u001b[0m\u001b[1;33m\u001b[0m\u001b[0m\n\u001b[0;32m    493\u001b[0m             \u001b[0mfunc\u001b[0m \u001b[1;33m=\u001b[0m \u001b[0mgetattr\u001b[0m\u001b[1;33m(\u001b[0m\u001b[0mhandler\u001b[0m\u001b[1;33m,\u001b[0m \u001b[0mmeth_name\u001b[0m\u001b[1;33m)\u001b[0m\u001b[1;33m\u001b[0m\u001b[1;33m\u001b[0m\u001b[0m\n\u001b[1;32m--> 494\u001b[1;33m             \u001b[0mresult\u001b[0m \u001b[1;33m=\u001b[0m \u001b[0mfunc\u001b[0m\u001b[1;33m(\u001b[0m\u001b[1;33m*\u001b[0m\u001b[0margs\u001b[0m\u001b[1;33m)\u001b[0m\u001b[1;33m\u001b[0m\u001b[1;33m\u001b[0m\u001b[0m\n\u001b[0m\u001b[0;32m    495\u001b[0m             \u001b[1;32mif\u001b[0m \u001b[0mresult\u001b[0m \u001b[1;32mis\u001b[0m \u001b[1;32mnot\u001b[0m \u001b[1;32mNone\u001b[0m\u001b[1;33m:\u001b[0m\u001b[1;33m\u001b[0m\u001b[1;33m\u001b[0m\u001b[0m\n\u001b[0;32m    496\u001b[0m                 \u001b[1;32mreturn\u001b[0m \u001b[0mresult\u001b[0m\u001b[1;33m\u001b[0m\u001b[1;33m\u001b[0m\u001b[0m\n",
      "\u001b[1;32md:\\python\\lib\\urllib\\request.py\u001b[0m in \u001b[0;36mhttps_open\u001b[1;34m(self, req)\u001b[0m\n\u001b[0;32m   1387\u001b[0m \u001b[1;33m\u001b[0m\u001b[0m\n\u001b[0;32m   1388\u001b[0m         \u001b[1;32mdef\u001b[0m \u001b[0mhttps_open\u001b[0m\u001b[1;33m(\u001b[0m\u001b[0mself\u001b[0m\u001b[1;33m,\u001b[0m \u001b[0mreq\u001b[0m\u001b[1;33m)\u001b[0m\u001b[1;33m:\u001b[0m\u001b[1;33m\u001b[0m\u001b[1;33m\u001b[0m\u001b[0m\n\u001b[1;32m-> 1389\u001b[1;33m             return self.do_open(http.client.HTTPSConnection, req,\n\u001b[0m\u001b[0;32m   1390\u001b[0m                 context=self._context, check_hostname=self._check_hostname)\n\u001b[0;32m   1391\u001b[0m \u001b[1;33m\u001b[0m\u001b[0m\n",
      "\u001b[1;32md:\\python\\lib\\urllib\\request.py\u001b[0m in \u001b[0;36mdo_open\u001b[1;34m(self, http_class, req, **http_conn_args)\u001b[0m\n\u001b[0;32m   1347\u001b[0m                           encode_chunked=req.has_header('Transfer-encoding'))\n\u001b[0;32m   1348\u001b[0m             \u001b[1;32mexcept\u001b[0m \u001b[0mOSError\u001b[0m \u001b[1;32mas\u001b[0m \u001b[0merr\u001b[0m\u001b[1;33m:\u001b[0m \u001b[1;31m# timeout error\u001b[0m\u001b[1;33m\u001b[0m\u001b[1;33m\u001b[0m\u001b[0m\n\u001b[1;32m-> 1349\u001b[1;33m                 \u001b[1;32mraise\u001b[0m \u001b[0mURLError\u001b[0m\u001b[1;33m(\u001b[0m\u001b[0merr\u001b[0m\u001b[1;33m)\u001b[0m\u001b[1;33m\u001b[0m\u001b[1;33m\u001b[0m\u001b[0m\n\u001b[0m\u001b[0;32m   1350\u001b[0m             \u001b[0mr\u001b[0m \u001b[1;33m=\u001b[0m \u001b[0mh\u001b[0m\u001b[1;33m.\u001b[0m\u001b[0mgetresponse\u001b[0m\u001b[1;33m(\u001b[0m\u001b[1;33m)\u001b[0m\u001b[1;33m\u001b[0m\u001b[1;33m\u001b[0m\u001b[0m\n\u001b[0;32m   1351\u001b[0m         \u001b[1;32mexcept\u001b[0m\u001b[1;33m:\u001b[0m\u001b[1;33m\u001b[0m\u001b[1;33m\u001b[0m\u001b[0m\n",
      "\u001b[1;31mURLError\u001b[0m: <urlopen error [SSL: CERTIFICATE_VERIFY_FAILED] certificate verify failed: self signed certificate in certificate chain (_ssl.c:1129)>"
     ]
    }
   ],
   "source": [
    "Training_Dataset = pd.read_csv(\"https://raw.githubusercontent.com/manojcpatil/PythonDemo/master/Data/regression_train_data.csv\")\n",
    "Training_Dataset = Training_Dataset.dropna()\n",
    "X_train = np.array(Training_Dataset.iloc[:, :-1].values) # Independent Variable\n",
    "y_train = np.array(Training_Dataset.iloc[:, 1].values) # Dependent Variable"
   ]
  },
  {
   "cell_type": "code",
   "execution_count": null,
   "metadata": {},
   "outputs": [],
   "source": [
    "Training_Dataset.head()"
   ]
  },
  {
   "cell_type": "code",
   "execution_count": null,
   "metadata": {
    "id": "vngdrLaoagrZ"
   },
   "outputs": [],
   "source": [
    "Testing_Dataset = pd.read_csv(\"https://raw.githubusercontent.com/manojcpatil/PythonDemo/master/Data/regression_test_data.csv\")\n",
    "Testing_Dataset = Testing_Dataset.dropna()\n",
    "X_test = np.array(Testing_Dataset.iloc[:, :-1].values) # Independent Variable\n",
    "y_test = np.array(Testing_Dataset.iloc[:, 1].values) # Dependent Variable"
   ]
  },
  {
   "cell_type": "code",
   "execution_count": null,
   "metadata": {},
   "outputs": [],
   "source": [
    "plt.scatter(X_train,y_train)"
   ]
  },
  {
   "cell_type": "code",
   "execution_count": null,
   "metadata": {
    "colab": {
     "base_uri": "https://localhost:8080/"
    },
    "id": "JMqOruOWagrZ",
    "outputId": "719b52f6-5a08-4bb8-8091-e9a0e52b2744"
   },
   "outputs": [],
   "source": [
    "# Training the Model\n",
    "from sklearn.linear_model import LinearRegression\n",
    "regressor = LinearRegression()\n",
    "regressor.fit(X_train, y_train)"
   ]
  },
  {
   "cell_type": "code",
   "execution_count": null,
   "metadata": {},
   "outputs": [],
   "source": [
    "from statsmodels.stats.anova import anova_lm\n",
    "from statsmodels.formula.api import ols\n",
    "\n",
    "dataset=pd.DataFrame({\n",
    "    'x':X_train.reshape(-1),\n",
    "    'y':y_train\n",
    "})\n",
    "model = ols(\"y ~ x\",dataset).fit()\n",
    "\n",
    "# Print the summary\n",
    "print(model.summary())\n",
    "print(\"\\n model.pvalues:\\n\",model.pvalues,\"\\n\\n\")\n",
    "# Peform analysis of variance on fitted linear model\n",
    "anova_results = anova_lm(model)\n",
    "\n",
    "print('\\nANOVA results')\n",
    "anova_results"
   ]
  },
  {
   "cell_type": "code",
   "execution_count": null,
   "metadata": {
    "colab": {
     "base_uri": "https://localhost:8080/"
    },
    "id": "C4ewt_iFagrb",
    "outputId": "3cfd3e0e-5585-4098-cb66-5d5ceeb939df"
   },
   "outputs": [],
   "source": [
    "print(\"Coefficient %f\"%regressor.coef_)\n",
    "print(\"Intercept %f\"%regressor.intercept_)\n",
    "accuracy = regressor.score(X_test, y_test)\n",
    "print('Accuracy = '+ str(accuracy))"
   ]
  },
  {
   "cell_type": "code",
   "execution_count": null,
   "metadata": {
    "colab": {
     "base_uri": "https://localhost:8080/",
     "height": 376
    },
    "id": "6qvMP8Gnagrc",
    "outputId": "8c7ffaa7-cd5b-44fa-db58-c18192abf3b0"
   },
   "outputs": [],
   "source": [
    "plt.style.use('seaborn')\n",
    "plt.scatter(X_test, y_test, color = 'red', marker = 'o', s = 35, alpha = 0.5,\n",
    "          label = 'Test data')\n",
    "plt.plot(X_train, regressor.predict(X_train), color = 'blue', label='Model Plot')\n",
    "plt.title('Predicted Values vs Inputs')\n",
    "plt.xlabel('Inputs')\n",
    "plt.ylabel('Predicted Values')\n",
    "plt.legend(loc = 'upper left')\n",
    "plt.show()"
   ]
  },
  {
   "cell_type": "code",
   "execution_count": null,
   "metadata": {
    "colab": {
     "base_uri": "https://localhost:8080/",
     "height": 446
    },
    "id": "3Uf5_YNXe2SO",
    "outputId": "6744e0a7-78be-4e2a-ff50-351bf5b186c5"
   },
   "outputs": [],
   "source": [
    "# VISUALISE DATA\n",
    "import seaborn as sns\n",
    "df=Training_Dataset\n",
    "sns.pairplot(df) #pairplot\n",
    "sns.distplot(y_train) #distribution plot\n",
    "sns.heatmap(df.corr(), annot=True) #heatmap with values"
   ]
  },
  {
   "cell_type": "markdown",
   "metadata": {
    "id": "xSp8-c2Cagre"
   },
   "source": [
    "## Multiple Linear Regression\n",
    "**It is also a basic and commonly used type of predictive analysis. These regression estimates are used to explain the relationship between one dependent variable and one or more independent variables. \n",
    "y = b + a1*X1 + a2*X2 + a3*X3 + a4*X4 + ... where:**\n",
    "* y – Dependent Variable\n",
    "* X1, X2, X3, X4 – Independent variable\n",
    "* b – intercept\n",
    "* a1, a2, a3 – Slopes "
   ]
  },
  {
   "cell_type": "markdown",
   "metadata": {
    "id": "I_CprMeHagrf"
   },
   "source": [
    "## Preparing Data:"
   ]
  },
  {
   "cell_type": "code",
   "execution_count": null,
   "metadata": {
    "colab": {
     "base_uri": "https://localhost:8080/"
    },
    "id": "KmT-NZECagrg",
    "outputId": "201389e0-f911-485f-a580-c8fb3271005b"
   },
   "outputs": [],
   "source": [
    "dataset=pd.read_csv(\"https://raw.githubusercontent.com/manojcpatil/PythonDemo/master/Data/regression_insurance_data.csv\")\n",
    "print(dataset)"
   ]
  },
  {
   "cell_type": "code",
   "execution_count": null,
   "metadata": {
    "id": "mMln5aijespn"
   },
   "outputs": [],
   "source": []
  },
  {
   "cell_type": "code",
   "execution_count": null,
   "metadata": {
    "id": "pjFKZa_zagrh"
   },
   "outputs": [],
   "source": [
    "X = dataset.iloc[:, :-1] # Independent Variable\n",
    "y = dataset.iloc[:, -1] # Dependent Variable"
   ]
  },
  {
   "cell_type": "code",
   "execution_count": null,
   "metadata": {
    "colab": {
     "base_uri": "https://localhost:8080/",
     "height": 798
    },
    "id": "c244FYfcfmVA",
    "outputId": "ebd4bf35-ebc1-422e-aa94-e6e453c8bdad"
   },
   "outputs": [],
   "source": [
    "# VISUALISE DATA\n",
    "\n",
    "df=dataset\n",
    "sns.pairplot(df) #pairplot\n",
    "sns.distplot(y) #distribution plot\n",
    "sns.heatmap(df.corr(), annot=True) #heatmap with values"
   ]
  },
  {
   "cell_type": "code",
   "execution_count": null,
   "metadata": {
    "colab": {
     "base_uri": "https://localhost:8080/",
     "height": 424
    },
    "id": "-ffFRiAbagri",
    "outputId": "6a53275c-9b4a-4a6b-eba9-f45792b28c7f"
   },
   "outputs": [],
   "source": [
    "# We have to apply encoding in the dataset as there are words present.\n",
    "# for 'sex' and 'smoker' column we will apply Label Encoding as there are only 2 catagories\n",
    "# for 'region' we will apply OneHot Encoding as there are more than 2 catagories\n",
    "\n",
    "# Label Encoding:\n",
    "from sklearn.preprocessing import LabelEncoder\n",
    "le = LabelEncoder()\n",
    "X.iloc[:, 1] = le.fit_transform(X.iloc[:, 1])\n",
    "X.iloc[:, 4] = le.fit_transform(X.iloc[:, 4])\n",
    "\n",
    "\n",
    "\n",
    "\n",
    "X"
   ]
  },
  {
   "cell_type": "code",
   "execution_count": null,
   "metadata": {
    "colab": {
     "base_uri": "https://localhost:8080/"
    },
    "id": "QCwqnugNgOt_",
    "outputId": "032e0a1b-d17a-4027-efa6-a6ccb8b8d48e"
   },
   "outputs": [],
   "source": [
    "# OneHot Encoding:\n",
    "from sklearn.compose import ColumnTransformer\n",
    "from sklearn.preprocessing import OneHotEncoder\n",
    "ct = ColumnTransformer(transformers=[('encoder', OneHotEncoder(), [5])], remainder='passthrough')\n",
    "X = np.array(ct.fit_transform(X))\n",
    "X"
   ]
  },
  {
   "cell_type": "code",
   "execution_count": null,
   "metadata": {
    "id": "NTVParZ8agri"
   },
   "outputs": [],
   "source": [
    "from sklearn.model_selection import train_test_split\n",
    "X_train, X_test, y_train, y_test = train_test_split(X, y, test_size = 0.2, random_state = 0)"
   ]
  },
  {
   "cell_type": "code",
   "execution_count": null,
   "metadata": {
    "colab": {
     "base_uri": "https://localhost:8080/"
    },
    "id": "CpdYwXNKagrj",
    "outputId": "800b18c0-f572-4c8b-9148-694009f15b50"
   },
   "outputs": [],
   "source": [
    "# Training the Model\n",
    "from sklearn.linear_model import LinearRegression\n",
    "regressor = LinearRegression()\n",
    "regressor.fit(X_train, y_train)"
   ]
  },
  {
   "cell_type": "code",
   "execution_count": null,
   "metadata": {
    "colab": {
     "base_uri": "https://localhost:8080/"
    },
    "id": "6dWKqtyvagrk",
    "outputId": "f3f38c37-df48-4ac8-99fc-c2c9f422ad51"
   },
   "outputs": [],
   "source": [
    "accuracy = regressor.score(X_test, y_test)\n",
    "print('Accuracy = '+ str(accuracy))"
   ]
  },
  {
   "cell_type": "code",
   "execution_count": null,
   "metadata": {},
   "outputs": [],
   "source": [
    "regressor.coef_"
   ]
  },
  {
   "cell_type": "markdown",
   "metadata": {
    "id": "1gK598g6agrk"
   },
   "source": [
    "## Polynomial Regression\n",
    "**It is a basic and commonly used type of predictive analysis. These regression estimates are used to explain the relationship between one dependent variable and one or more independent variables. \n",
    "y = b + a1*X + a1*X^2 + a1*X^3 + a1*X^4 where:**\n",
    "* y – Dependent Variable\n",
    "* X1, X2, X3, X4 – Independent variable\n",
    "* b – intercept\n",
    "* a1, a2, a3 – Coefficients of independent variable"
   ]
  },
  {
   "cell_type": "code",
   "execution_count": null,
   "metadata": {
    "id": "DpVkC1DXagrl"
   },
   "outputs": [],
   "source": [
    "#dataset = pd.read_csv('https://raw.githubusercontent.com/manojcpatil/PythonDemo/master/Data/Regression_polynomial_data.csv')\n",
    "dataset = pd.read_csv('Data/Regression_polynomial_data.csv')\n",
    "\n",
    "X = dataset.iloc[:, :-1] # Independent Variable\n",
    "y = dataset.iloc[:, -1] # Dependent Variable\n",
    "X"
   ]
  },
  {
   "cell_type": "code",
   "execution_count": 19,
   "metadata": {
    "colab": {
     "base_uri": "https://localhost:8080/"
    },
    "id": "-2rOCOrtagrl",
    "outputId": "35f0dccc-274d-4899-c015-f96a572fa982"
   },
   "outputs": [
    {
     "name": "stdout",
     "output_type": "stream",
     "text": [
      "      0       1          2             3             4             5\n",
      "0   1.0    60.0     3600.0  2.160000e+05  1.296000e+07  7.776000e+08\n",
      "1   1.0    70.0     4900.0  3.430000e+05  2.401000e+07  1.680700e+09\n",
      "2   1.0    80.0     6400.0  5.120000e+05  4.096000e+07  3.276800e+09\n",
      "3   1.0   100.0    10000.0  1.000000e+06  1.000000e+08  1.000000e+10\n",
      "4   1.0   120.0    14400.0  1.728000e+06  2.073600e+08  2.488320e+10\n",
      "5   1.0   150.0    22500.0  3.375000e+06  5.062500e+08  7.593750e+10\n",
      "6   1.0   200.0    40000.0  8.000000e+06  1.600000e+09  3.200000e+11\n",
      "7   1.0   250.0    62500.0  1.562500e+07  3.906250e+09  9.765625e+11\n",
      "8   1.0   300.0    90000.0  2.700000e+07  8.100000e+09  2.430000e+12\n",
      "9   1.0   400.0   160000.0  6.400000e+07  2.560000e+10  1.024000e+13\n",
      "10  1.0   500.0   250000.0  1.250000e+08  6.250000e+10  3.125000e+13\n",
      "11  1.0   750.0   562500.0  4.218750e+08  3.164062e+11  2.373047e+14\n",
      "12  1.0  1000.0  1000000.0  1.000000e+09  1.000000e+12  1.000000e+15\n",
      "13  1.0  2000.0  4000000.0  8.000000e+09  1.600000e+13  3.200000e+16\n",
      "14  1.0  3000.0  9000000.0  2.700000e+10  8.100000e+13  2.430000e+17\n"
     ]
    },
    {
     "data": {
      "text/plain": [
       "LinearRegression()"
      ]
     },
     "execution_count": 19,
     "metadata": {},
     "output_type": "execute_result"
    }
   ],
   "source": [
    "# Training the Model\n",
    "from sklearn.preprocessing import PolynomialFeatures\n",
    "poly_reg = PolynomialFeatures(degree = 5)\n",
    "X_poly = poly_reg.fit_transform(X)\n",
    "print(pd.DataFrame(X_poly))\n",
    "lin_reg_2 = LinearRegression()\n",
    "lin_reg_2.fit(X_poly, y)"
   ]
  },
  {
   "cell_type": "code",
   "execution_count": 18,
   "metadata": {
    "colab": {
     "base_uri": "https://localhost:8080/",
     "height": 376
    },
    "id": "7Lbyv4hYagrm",
    "outputId": "14624336-2c3b-4fe9-fb3c-0f0152f002c0"
   },
   "outputs": [
    {
     "data": {
      "image/png": "[encoded data removed]",
      "text/plain": [
       "<Figure size 576x396 with 1 Axes>"
      ]
     },
     "metadata": {},
     "output_type": "display_data"
    }
   ],
   "source": [
    "plt.style.use('seaborn')\n",
    "plt.scatter(X, y, color = 'red', marker = 'o', s = 35, alpha = 0.5,\n",
    "          label = 'Test data')\n",
    "plt.plot(X, lin_reg_2.predict(poly_reg.fit_transform(X)), color = 'blue', label='Model Plot')\n",
    "plt.title('Predicted Values vs Inputs')\n",
    "plt.xlabel('Inputs')\n",
    "plt.ylabel('Predicted Values')\n",
    "plt.legend(loc = 'upper left')\n",
    "plt.show()"
   ]
  },
  {
   "cell_type": "markdown",
   "metadata": {
    "id": "6_AwYOdOagrm"
   },
   "source": [
    "## Support Vector Regression\n",
    "**SVR gives us the flexibility to define how much error is acceptable in our model and will find an appropriate line (or hyperplane in higher dimensions) to fit the data. It uses following constraints-\n",
    "|y - aX| <= e, Where:**\n",
    "* e - maximum error\n",
    "![](https://miro.medium.com/max/1212/1*bSZn9bK43MaA5vVDamRQ2A.png)\n",
    "The points outside the margin are the Support Vectors."
   ]
  },
  {
   "cell_type": "code",
   "execution_count": 29,
   "metadata": {
    "id": "EjP52kwOagrn"
   },
   "outputs": [],
   "source": [
    "Training_Dataset = pd.read_csv(\"https://raw.githubusercontent.com/manojcpatil/PythonDemo/master/Data/regression_train_data.csv\")\n",
    "Training_Dataset = Training_Dataset.dropna()\n",
    "X_train = np.array(Training_Dataset.iloc[:, :-1].values) # Independent Variable\n",
    "y_train = np.array(Training_Dataset.iloc[:, 1].values) # Dependent Variable\n",
    "y_train = y_train.reshape(len(y_train),1)"
   ]
  },
  {
   "cell_type": "code",
   "execution_count": 30,
   "metadata": {
    "id": "mYIyG6zCagrn"
   },
   "outputs": [],
   "source": [
    "Testing_Dataset = pd.read_csv(\"https://raw.githubusercontent.com/manojcpatil/PythonDemo/master/Data/regression_test_data.csv\")\n",
    "Testing_Dataset = Testing_Dataset.dropna()\n",
    "X_test = np.array(Testing_Dataset.iloc[:, :-1].values) # Independent Variable\n",
    "y_test = np.array(Testing_Dataset.iloc[:, 1].values) # Dependent Variable\n",
    "y_test = y_test.reshape(len(y_test),1)"
   ]
  },
  {
   "cell_type": "code",
   "execution_count": 41,
   "metadata": {
    "id": "ldPk0qpzagrn"
   },
   "outputs": [],
   "source": [
    "# Scaling X and y\n",
    "from sklearn.preprocessing import StandardScaler\n",
    "sc_X = StandardScaler()\n",
    "sc_y = StandardScaler()\n",
    "X_train = sc_X.fit_transform(X_train)\n",
    "X_test = sc_X.transform(X_test)\n",
    "y_train = sc_y.fit_transform(y_train.reshape(len(y_train),1))\n",
    "y_test = sc_y.transform(y_test.reshape(len(y_test),1))"
   ]
  },
  {
   "cell_type": "code",
   "execution_count": 42,
   "metadata": {
    "colab": {
     "base_uri": "https://localhost:8080/"
    },
    "id": "GsOfLaiVagro",
    "outputId": "b9e3daeb-dbc6-4190-ba3e-05514dbd002a"
   },
   "outputs": [
    {
     "name": "stderr",
     "output_type": "stream",
     "text": [
      "d:\\python\\lib\\site-packages\\sklearn\\utils\\validation.py:63: DataConversionWarning: A column-vector y was passed when a 1d array was expected. Please change the shape of y to (n_samples, ), for example using ravel().\n",
      "  return f(*args, **kwargs)\n"
     ]
    },
    {
     "data": {
      "text/plain": [
       "SVR()"
      ]
     },
     "execution_count": 42,
     "metadata": {},
     "output_type": "execute_result"
    }
   ],
   "source": [
    "# Training the Model\n",
    "from sklearn.svm import SVR\n",
    "regressor = SVR(kernel = 'rbf')\n",
    "regressor.fit(X_train, y_train)"
   ]
  },
  {
   "cell_type": "code",
   "execution_count": 33,
   "metadata": {
    "colab": {
     "base_uri": "https://localhost:8080/"
    },
    "id": "vygiOxyiagro",
    "outputId": "89c4772d-2ff4-409f-fe2c-7c1c7d272957"
   },
   "outputs": [
    {
     "name": "stdout",
     "output_type": "stream",
     "text": [
      "Accuracy = 0.9882837786622037\n"
     ]
    }
   ],
   "source": [
    "accuracy = regressor.score(X_test, y_test)\n",
    "print('Accuracy = '+ str(accuracy))"
   ]
  },
  {
   "cell_type": "code",
   "execution_count": 34,
   "metadata": {
    "colab": {
     "base_uri": "https://localhost:8080/"
    },
    "id": "DeU9khmojQU3",
    "outputId": "920301e6-1fb5-4b97-ddfa-6a2e54aff0bb"
   },
   "outputs": [
    {
     "data": {
      "text/plain": [
       "array([[ 9.32835665e-01],\n",
       "       [-9.98931376e-01],\n",
       "       [-9.63295808e-01],\n",
       "       [-1.03480963e+00],\n",
       "       [-4.80424381e-01],\n",
       "       [-1.21683084e+00],\n",
       "       [ 4.15210181e-01],\n",
       "       [ 1.53445575e+00],\n",
       "       [-1.03480963e+00],\n",
       "       [-1.55252115e+00],\n",
       "       [-1.57882137e+00],\n",
       "       [-1.07091680e+00],\n",
       "       [ 1.56071630e+00],\n",
       "       [ 4.15210181e-01],\n",
       "       [-4.80424381e-01],\n",
       "       [-1.21683084e+00],\n",
       "       [ 5.18886383e-01],\n",
       "       [-1.25332738e+00],\n",
       "       [ 1.28110613e+00],\n",
       "       [ 6.56895392e-01],\n",
       "       [ 1.34915107e+00],\n",
       "       [ 3.55947957e-02],\n",
       "       [ 1.34915107e+00],\n",
       "       [-7.88498592e-01],\n",
       "       [ 1.58511252e+00],\n",
       "       [ 2.76976228e-01],\n",
       "       [ 1.00227148e+00],\n",
       "       [-9.98931376e-01],\n",
       "       [ 1.47718567e+00],\n",
       "       [-7.88498592e-01],\n",
       "       [ 1.62745918e+00],\n",
       "       [-6.51309155e-01],\n",
       "       [-5.82992628e-01],\n",
       "       [ 1.03710155e+00],\n",
       "       [-7.54065884e-01],\n",
       "       [-1.02175149e-01],\n",
       "       [ 1.04496199e-01],\n",
       "       [ 6.56895392e-01],\n",
       "       [-7.54065884e-01],\n",
       "       [-5.82992628e-01],\n",
       "       [ 1.41492770e+00],\n",
       "       [ 7.25797140e-01],\n",
       "       [ 1.15228524e-03],\n",
       "       [ 8.98223769e-01],\n",
       "       [-1.57882137e+00],\n",
       "       [-4.46170466e-01],\n",
       "       [ 6.91351486e-01],\n",
       "       [ 6.22423002e-01],\n",
       "       [-3.43188221e-01],\n",
       "       [-5.14642064e-01],\n",
       "       [ 1.50654302e+00],\n",
       "       [ 1.31534372e+00],\n",
       "       [ 7.00416666e-02],\n",
       "       [-6.51309155e-01],\n",
       "       [ 3.11520037e-01],\n",
       "       [-1.65941806e+00],\n",
       "       [-3.77550118e-01],\n",
       "       [ 4.84338014e-01],\n",
       "       [ 6.56895392e-01],\n",
       "       [ 2.42447669e-01],\n",
       "       [-1.28962339e+00],\n",
       "       [ 7.60240655e-01],\n",
       "       [ 8.98223769e-01],\n",
       "       [ 3.80641336e-01],\n",
       "       [ 1.10694990e+00],\n",
       "       [-1.10722499e+00],\n",
       "       [-3.08797885e-01],\n",
       "       [ 1.15228524e-03],\n",
       "       [ 1.73440823e-01],\n",
       "       [-1.28962339e+00],\n",
       "       [-1.36621713e-01],\n",
       "       [-1.28962339e+00],\n",
       "       [ 1.00227148e+00],\n",
       "       [ 1.04496199e-01],\n",
       "       [-1.21683084e+00],\n",
       "       [-7.54065884e-01],\n",
       "       [ 1.07199962e+00],\n",
       "       [ 6.56895392e-01],\n",
       "       [ 7.00416666e-02],\n",
       "       [ 1.17688940e+00],\n",
       "       [ 6.22423002e-01],\n",
       "       [-7.88498592e-01],\n",
       "       [ 2.07935815e-01],\n",
       "       [-6.77308855e-02],\n",
       "       [-3.43188221e-01],\n",
       "       [-3.77550118e-01],\n",
       "       [ 1.10694990e+00],\n",
       "       [ 1.64499113e+00],\n",
       "       [ 3.11520037e-01],\n",
       "       [-2.39955423e-01],\n",
       "       [ 5.87930973e-01],\n",
       "       [-4.11878657e-01],\n",
       "       [ 4.49777565e-01],\n",
       "       [ 1.41492770e+00],\n",
       "       [ 3.46076363e-01],\n",
       "       [-1.25332738e+00],\n",
       "       [-9.98931376e-01],\n",
       "       [ 1.28110613e+00],\n",
       "       [ 7.94692506e-01],\n",
       "       [-6.17147176e-01],\n",
       "       [-1.62449500e+00],\n",
       "       [ 1.10694990e+00],\n",
       "       [-1.07091680e+00],\n",
       "       [ 8.29164863e-01],\n",
       "       [-2.74384924e-01],\n",
       "       [-1.32558076e+00],\n",
       "       [-1.64340879e+00],\n",
       "       [ 1.38239538e+00],\n",
       "       [ 1.34915107e+00],\n",
       "       [-1.65941806e+00],\n",
       "       [-3.08797885e-01],\n",
       "       [-1.18025228e+00],\n",
       "       [ 1.50654302e+00],\n",
       "       [ 1.58511252e+00],\n",
       "       [ 5.53418364e-01],\n",
       "       [-8.92748748e-01],\n",
       "       [-1.14369050e+00],\n",
       "       [ 1.38239538e+00],\n",
       "       [-1.28962339e+00],\n",
       "       [-1.65941806e+00],\n",
       "       [ 4.84338014e-01],\n",
       "       [ 1.56071630e+00],\n",
       "       [ 1.60743076e+00],\n",
       "       [-1.32558076e+00],\n",
       "       [-3.08797885e-01],\n",
       "       [-1.02175149e-01],\n",
       "       [ 9.67516294e-01],\n",
       "       [-1.03480963e+00],\n",
       "       [ 1.34915107e+00],\n",
       "       [-7.19742609e-01],\n",
       "       [ 4.84338014e-01],\n",
       "       [ 8.63670879e-01],\n",
       "       [-1.32558076e+00],\n",
       "       [-8.57811814e-01],\n",
       "       [-7.54065884e-01],\n",
       "       [-6.85499478e-01],\n",
       "       [ 5.18886383e-01],\n",
       "       [ 3.11520037e-01],\n",
       "       [ 4.84338014e-01],\n",
       "       [ 1.04496199e-01],\n",
       "       [ 7.25797140e-01],\n",
       "       [ 1.58511252e+00],\n",
       "       [ 7.94692506e-01],\n",
       "       [-1.42975861e+00],\n",
       "       [-1.32558076e+00],\n",
       "       [ 4.49777565e-01],\n",
       "       [ 1.62745918e+00],\n",
       "       [ 3.46076363e-01],\n",
       "       [-5.14642064e-01],\n",
       "       [-1.62449500e+00],\n",
       "       [ 3.46076363e-01],\n",
       "       [-6.17147176e-01],\n",
       "       [ 1.50654302e+00],\n",
       "       [ 1.17688940e+00],\n",
       "       [ 4.49777565e-01],\n",
       "       [-9.63295808e-01],\n",
       "       [ 1.07199962e+00],\n",
       "       [ 1.47718567e+00],\n",
       "       [-5.82992628e-01],\n",
       "       [-1.49418070e+00],\n",
       "       [-2.74384924e-01],\n",
       "       [-1.36621713e-01],\n",
       "       [ 1.38961643e-01],\n",
       "       [-1.18025228e+00],\n",
       "       [-3.32888428e-02],\n",
       "       [-2.39955423e-01],\n",
       "       [ 1.53445575e+00],\n",
       "       [ 5.53418364e-01],\n",
       "       [-9.98931376e-01],\n",
       "       [-5.14642064e-01],\n",
       "       [ 1.03710155e+00],\n",
       "       [-4.46170466e-01],\n",
       "       [ 1.38961643e-01],\n",
       "       [ 2.07935815e-01],\n",
       "       [-1.64340879e+00],\n",
       "       [-6.17147176e-01],\n",
       "       [ 2.76976228e-01],\n",
       "       [-6.17147176e-01],\n",
       "       [-1.36621713e-01],\n",
       "       [ 7.60240655e-01],\n",
       "       [-1.14369050e+00],\n",
       "       [ 1.58511252e+00],\n",
       "       [ 1.47718567e+00],\n",
       "       [ 1.41492770e+00],\n",
       "       [-4.46170466e-01],\n",
       "       [-1.57882137e+00],\n",
       "       [ 1.38961643e-01],\n",
       "       [ 3.55947957e-02],\n",
       "       [-7.88498592e-01],\n",
       "       [-1.36621713e-01],\n",
       "       [ 1.44658383e+00],\n",
       "       [ 7.94692506e-01],\n",
       "       [ 9.32835665e-01],\n",
       "       [ 1.41492770e+00],\n",
       "       [ 3.80641336e-01],\n",
       "       [ 1.62745918e+00],\n",
       "       [-1.57882137e+00],\n",
       "       [ 7.60240655e-01],\n",
       "       [-1.07091680e+00],\n",
       "       [ 2.42447669e-01],\n",
       "       [ 9.67516294e-01],\n",
       "       [-8.23070779e-01],\n",
       "       [ 8.29164863e-01],\n",
       "       [ 1.38239538e+00],\n",
       "       [ 5.53418364e-01],\n",
       "       [-1.28962339e+00],\n",
       "       [-3.43188221e-01],\n",
       "       [ 9.32835665e-01],\n",
       "       [ 5.87930973e-01],\n",
       "       [ 8.63670879e-01],\n",
       "       [-9.27904481e-01],\n",
       "       [-1.71069288e-01],\n",
       "       [ 3.11520037e-01],\n",
       "       [-2.05515187e-01],\n",
       "       [-9.27904481e-01],\n",
       "       [ 1.73440823e-01],\n",
       "       [ 1.73440823e-01],\n",
       "       [ 1.53445575e+00],\n",
       "       [-1.32558076e+00],\n",
       "       [-1.57882137e+00],\n",
       "       [-1.49418070e+00],\n",
       "       [ 1.64499113e+00],\n",
       "       [-6.77308855e-02],\n",
       "       [-2.74384924e-01],\n",
       "       [ 1.56071630e+00],\n",
       "       [-3.77550118e-01],\n",
       "       [ 1.64499113e+00],\n",
       "       [ 1.28110613e+00],\n",
       "       [-1.25332738e+00],\n",
       "       [-1.25332738e+00],\n",
       "       [-4.46170466e-01],\n",
       "       [-1.55252115e+00],\n",
       "       [ 1.31534372e+00],\n",
       "       [ 1.41492770e+00],\n",
       "       [ 5.18886383e-01],\n",
       "       [ 8.29164863e-01],\n",
       "       [ 2.07935815e-01],\n",
       "       [-1.18025228e+00],\n",
       "       [-1.55252115e+00],\n",
       "       [-7.54065884e-01],\n",
       "       [ 1.44658383e+00],\n",
       "       [-1.36621713e-01],\n",
       "       [ 1.38961643e-01],\n",
       "       [-3.77550118e-01],\n",
       "       [-2.05515187e-01],\n",
       "       [-6.51309155e-01],\n",
       "       [ 6.22423002e-01],\n",
       "       [ 1.24655441e+00],\n",
       "       [ 1.38239538e+00],\n",
       "       [-4.11878657e-01],\n",
       "       [-9.98931376e-01],\n",
       "       [ 1.53445575e+00],\n",
       "       [ 2.07935815e-01],\n",
       "       [ 3.46076363e-01],\n",
       "       [ 5.18886383e-01],\n",
       "       [ 9.67516294e-01],\n",
       "       [ 1.34915107e+00],\n",
       "       [-1.52422806e+00],\n",
       "       [ 5.87930973e-01],\n",
       "       [-4.80424381e-01],\n",
       "       [-1.18025228e+00],\n",
       "       [ 1.64499113e+00],\n",
       "       [-1.71069288e-01],\n",
       "       [ 7.94692506e-01],\n",
       "       [ 2.42447669e-01],\n",
       "       [-1.03480963e+00],\n",
       "       [ 8.98223769e-01],\n",
       "       [-5.48828542e-01],\n",
       "       [ 1.73440823e-01],\n",
       "       [ 7.60240655e-01],\n",
       "       [ 1.73440823e-01],\n",
       "       [-1.46261456e+00],\n",
       "       [ 2.07935815e-01],\n",
       "       [ 7.60240655e-01],\n",
       "       [ 2.76976228e-01],\n",
       "       [-1.52422806e+00],\n",
       "       [ 1.56071630e+00],\n",
       "       [-9.27904481e-01],\n",
       "       [ 2.76976228e-01],\n",
       "       [-9.27904481e-01],\n",
       "       [-1.07091680e+00],\n",
       "       [-8.57811814e-01],\n",
       "       [ 4.84338014e-01],\n",
       "       [-9.98931376e-01],\n",
       "       [ 3.11520037e-01],\n",
       "       [-1.07091680e+00],\n",
       "       [-1.18025228e+00],\n",
       "       [-2.74384924e-01],\n",
       "       [-2.39955423e-01],\n",
       "       [ 3.80641336e-01],\n",
       "       [ 1.44658383e+00],\n",
       "       [-1.36104216e+00],\n",
       "       [-3.08797885e-01],\n",
       "       [-1.64340879e+00],\n",
       "       [-1.46261456e+00],\n",
       "       [ 7.25797140e-01],\n",
       "       [-1.36621713e-01],\n",
       "       [ 1.73440823e-01],\n",
       "       [ 4.15210181e-01],\n",
       "       [-1.02175149e-01]])"
      ]
     },
     "execution_count": 34,
     "metadata": {},
     "output_type": "execute_result"
    }
   ],
   "source": [
    "regressor.predict(X_test).reshape(-1,1)"
   ]
  },
  {
   "cell_type": "code",
   "execution_count": 35,
   "metadata": {
    "colab": {
     "base_uri": "https://localhost:8080/",
     "height": 376
    },
    "id": "XYzXyoI8agrp",
    "outputId": "6ec533de-e7c8-40d8-ec09-d859d113b6eb"
   },
   "outputs": [
    {
     "data": {
      "image/png": "[encoded data removed]",
      "text/plain": [
       "<Figure size 432x288 with 1 Axes>"
      ]
     },
     "metadata": {
      "needs_background": "light"
     },
     "output_type": "display_data"
    }
   ],
   "source": [
    "plt.scatter(sc_X.inverse_transform(X_test), sc_y.inverse_transform(y_test), color = 'red', marker = 'o', s = 35, alpha = 0.5, label = 'Test data')\n",
    "plt.plot(sc_X.inverse_transform(X_test), sc_y.inverse_transform(regressor.predict(X_test).reshape(-1,1)),color = 'blue', label='Model Plot')\n",
    "plt.title('Predicted Values vs Inputs')\n",
    "plt.xlabel('Inputs')\n",
    "plt.ylabel('Predicted Values')\n",
    "plt.legend(loc = 'upper left')\n",
    "plt.show()"
   ]
  },
  {
   "cell_type": "code",
   "execution_count": 43,
   "metadata": {},
   "outputs": [
    {
     "data": {
      "text/plain": [
       "LinearRegression()"
      ]
     },
     "execution_count": 43,
     "metadata": {},
     "output_type": "execute_result"
    }
   ],
   "source": [
    "# Training the Model\n",
    "from sklearn.linear_model import LinearRegression\n",
    "regressor1 = LinearRegression()\n",
    "regressor1.fit(X_train, y_train)"
   ]
  },
  {
   "cell_type": "code",
   "execution_count": 44,
   "metadata": {},
   "outputs": [
    {
     "data": {
      "image/png": "[encoded data removed]",
      "text/plain": [
       "<Figure size 720x720 with 1 Axes>"
      ]
     },
     "metadata": {
      "needs_background": "light"
     },
     "output_type": "display_data"
    }
   ],
   "source": [
    "plt.figure(figsize=(10,10))\n",
    "plt.scatter(sc_X.inverse_transform(X_test), sc_y.inverse_transform(y_test), color = 'red', marker = 'o', s = 35, alpha = 0.5, label = 'Test data')\n",
    "plt.plot(sc_X.inverse_transform(X_test), sc_y.inverse_transform(regressor1.predict(X_test).reshape(-1,1)),color = 'blue', label='SVR Model Plot')\n",
    "plt.plot(sc_X.inverse_transform(X_test), sc_y.inverse_transform(regressor1.predict(X_test).reshape(-1,1)),color = 'green', label='Linear Model Plot')\n",
    "plt.title('Predicted Values vs Inputs')\n",
    "plt.xlabel('Inputs')\n",
    "plt.ylabel('Predicted Values')\n",
    "plt.legend(loc = 'upper left')\n",
    "plt.show()"
   ]
  },
  {
   "cell_type": "markdown",
   "metadata": {
    "id": "tAs7UmvWagrp"
   },
   "source": [
    "## Decision Tree Regression\n",
    "**Decision tree builds regression or classification models in the form of a tree structure. It breaks down a dataset into smaller and smaller subsets while at the same time an associated decision tree is incrementally developed. The final result is a tree with decision nodes and leaf nodes.**"
   ]
  },
  {
   "cell_type": "code",
   "execution_count": 45,
   "metadata": {
    "id": "O5QvXX83agrq"
   },
   "outputs": [],
   "source": [
    "Training_Dataset = pd.read_csv(\"https://raw.githubusercontent.com/manojcpatil/PythonDemo/master/Data/regression_train_data.csv\")\n",
    "Training_Dataset = Training_Dataset.dropna()\n",
    "X_train = np.array(Training_Dataset.iloc[:, :-1].values) # Independent Variable\n",
    "y_train = np.array(Training_Dataset.iloc[:, 1].values) # Dependent Variable"
   ]
  },
  {
   "cell_type": "code",
   "execution_count": 46,
   "metadata": {
    "id": "PVJkmkM7agrq"
   },
   "outputs": [],
   "source": [
    "Testing_Dataset = pd.read_csv(\"https://raw.githubusercontent.com/manojcpatil/PythonDemo/master/Data/regression_test_data.csv\")\n",
    "Testing_Dataset = Testing_Dataset.dropna()\n",
    "X_test = np.array(Testing_Dataset.iloc[:, :-1].values) # Independent Variable\n",
    "y_test = np.array(Testing_Dataset.iloc[:, 1].values) # Dependent Variable"
   ]
  },
  {
   "cell_type": "code",
   "execution_count": 50,
   "metadata": {
    "colab": {
     "base_uri": "https://localhost:8080/"
    },
    "id": "7XymNTogagrq",
    "outputId": "d5b5d9cb-10d4-465f-c5c2-8b03db839f0f"
   },
   "outputs": [
    {
     "data": {
      "text/plain": [
       "DecisionTreeRegressor(max_depth=5, random_state=0)"
      ]
     },
     "execution_count": 50,
     "metadata": {},
     "output_type": "execute_result"
    }
   ],
   "source": [
    "from sklearn.tree import DecisionTreeRegressor\n",
    "regressor = DecisionTreeRegressor(max_depth=5,random_state = 0)\n",
    "regressor.fit(X_train, y_train)"
   ]
  },
  {
   "cell_type": "code",
   "execution_count": 51,
   "metadata": {
    "colab": {
     "base_uri": "https://localhost:8080/"
    },
    "id": "lpO92YY9agrr",
    "outputId": "29f33642-b461-441a-f6d4-5c809e82200c"
   },
   "outputs": [
    {
     "name": "stdout",
     "output_type": "stream",
     "text": [
      "Accuracy = 0.9875321618000479\n"
     ]
    }
   ],
   "source": [
    "accuracy = regressor.score(X_test, y_test)\n",
    "print('Accuracy = '+ str(accuracy))"
   ]
  },
  {
   "cell_type": "code",
   "execution_count": 52,
   "metadata": {
    "colab": {
     "base_uri": "https://localhost:8080/",
     "height": 376
    },
    "id": "Nxoxdeq7agrr",
    "outputId": "950cbcee-9cb8-4d8e-8349-0e2c967f2876"
   },
   "outputs": [
    {
     "data": {
      "image/png": "[encoded data removed]",
      "text/plain": [
       "<Figure size 432x288 with 1 Axes>"
      ]
     },
     "metadata": {
      "needs_background": "light"
     },
     "output_type": "display_data"
    }
   ],
   "source": [
    "X_grid = np.arange(min(X_test), max(X_test), 0.01)\n",
    "X_grid = X_grid.reshape((len(X_grid), 1))\n",
    "plt.scatter(X_test, y_test, color = 'red', marker = 'o', s = 35, alpha = 0.5,\n",
    "          label = 'Test data')\n",
    "plt.plot(X_grid, regressor.predict(X_grid), color = 'blue', label='Model Plot')\n",
    "plt.title('Predicted Values vs Inputs')\n",
    "plt.xlabel('Inputs')\n",
    "plt.ylabel('Predicted Values')\n",
    "plt.legend(loc = 'upper left')\n",
    "plt.show()"
   ]
  },
  {
   "cell_type": "markdown",
   "metadata": {
    "id": "lWRdxpGbagrs"
   },
   "source": [
    "## Random Forest Regression\n",
    "**Random Forest combines multiple trees to predict the class of the dataset, it is possible that some decision trees may predict the correct output, while others may not. But together, all the trees predict the correct output.**"
   ]
  },
  {
   "cell_type": "code",
   "execution_count": 17,
   "metadata": {
    "id": "S6d50j5dagrs"
   },
   "outputs": [],
   "source": [
    "Training_Dataset = pd.read_csv(\"https://raw.githubusercontent.com/manojcpatil/PythonDemo/master/Data/regression_train_data.csv\")\n",
    "Training_Dataset = Training_Dataset.dropna()\n",
    "X_train = np.array(Training_Dataset.iloc[:, :-1].values) # Independent Variable\n",
    "y_train = np.array(Training_Dataset.iloc[:, 1].values) # Dependent Variable"
   ]
  },
  {
   "cell_type": "code",
   "execution_count": 18,
   "metadata": {
    "id": "LrxZa986agrs"
   },
   "outputs": [],
   "source": [
    "Testing_Dataset = pd.read_csv(\"https://raw.githubusercontent.com/manojcpatil/PythonDemo/master/Data/regression_test_data.csv\")\n",
    "Testing_Dataset = Testing_Dataset.dropna()\n",
    "X_test = np.array(Testing_Dataset.iloc[:, :-1].values) # Independent Variable\n",
    "y_test = np.array(Testing_Dataset.iloc[:, 1].values) # Dependent Variable"
   ]
  },
  {
   "cell_type": "code",
   "execution_count": 33,
   "metadata": {
    "colab": {
     "base_uri": "https://localhost:8080/"
    },
    "id": "WL2RnAhQagrs",
    "outputId": "f92cdfef-a763-4b03-d1c9-6e58fb86a5d1"
   },
   "outputs": [
    {
     "data": {
      "text/plain": [
       "RandomForestRegressor(n_estimators=10, random_state=0)"
      ]
     },
     "execution_count": 33,
     "metadata": {},
     "output_type": "execute_result"
    }
   ],
   "source": [
    "from sklearn.ensemble import RandomForestRegressor\n",
    "regressor = RandomForestRegressor(n_estimators = 10, random_state = 0)\n",
    "regressor.fit(X_train, y_train)"
   ]
  },
  {
   "cell_type": "code",
   "execution_count": 34,
   "metadata": {
    "colab": {
     "base_uri": "https://localhost:8080/"
    },
    "id": "jAHBRwXVagrt",
    "outputId": "97458aeb-800b-4688-9742-c5e45ce1ffd6"
   },
   "outputs": [
    {
     "name": "stdout",
     "output_type": "stream",
     "text": [
      "Accuracy = 0.9872205033959207\n"
     ]
    }
   ],
   "source": [
    "accuracy = regressor.score(X_test, y_test)\n",
    "print('Accuracy = '+ str(accuracy))"
   ]
  },
  {
   "cell_type": "code",
   "execution_count": 35,
   "metadata": {
    "colab": {
     "base_uri": "https://localhost:8080/",
     "height": 376
    },
    "id": "RJH2bT0Uagrt",
    "outputId": "45302abf-a2ac-4855-f06f-a1af4a9e3bf9"
   },
   "outputs": [
    {
     "data": {
      "image/png": "[encoded data removed]",
      "text/plain": [
       "<Figure size 576x396 with 1 Axes>"
      ]
     },
     "metadata": {},
     "output_type": "display_data"
    }
   ],
   "source": [
    "X_grid = np.arange(min(X_test), max(X_test), 0.01)\n",
    "X_grid = X_grid.reshape((len(X_grid), 1))\n",
    "plt.scatter(X_test, y_test, c = 'red', marker = 'o', s = 35, alpha = 0.5,\n",
    "          label = 'Test data')\n",
    "plt.plot(X_grid, regressor.predict(X_grid), color = 'blue', label='Model Plot')\n",
    "plt.title('Predicted Values vs Inputs')\n",
    "plt.xlabel('Position level')\n",
    "plt.ylabel('Predicted Values')\n",
    "plt.legend(loc = 'upper left')\n",
    "plt.show()"
   ]
  }
 ],
 "metadata": {
  "colab": {
   "name": "Regression Complete Analysis.ipynb",
   "provenance": []
  },
  "kernelspec": {
   "display_name": "Python 3",
   "language": "python",
   "name": "python3"
  },
  "language_info": {
   "codemirror_mode": {
    "name": "ipython",
    "version": 3
   },
   "file_extension": ".py",
   "mimetype": "text/x-python",
   "name": "python",
   "nbconvert_exporter": "python",
   "pygments_lexer": "ipython3",
   "version": "3.9.5"
  },
  "latex_envs": {
   "LaTeX_envs_menu_present": true,
   "autoclose": false,
   "autocomplete": true,
   "bibliofile": "biblio.bib",
   "cite_by": "apalike",
   "current_citInitial": 1,
   "eqLabelWithNumbers": true,
   "eqNumInitial": 1,
   "hotkeys": {
    "equation": "Ctrl-E",
    "itemize": "Ctrl-I"
   },
   "labels_anchors": false,
   "latex_user_defs": false,
   "report_style_numbering": false,
   "user_envs_cfg": false
  }
 },
 "nbformat": 4,
 "nbformat_minor": 1
}
