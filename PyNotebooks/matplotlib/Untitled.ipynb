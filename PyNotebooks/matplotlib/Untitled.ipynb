{
 "cells": [
  {
   "cell_type": "code",
   "execution_count": 2,
   "id": "913ea559",
   "metadata": {},
   "outputs": [
    {
     "name": "stdout",
     "output_type": "stream",
     "text": [
      "Requirement already satisfied: nbmerge in d:\\python\\lib\\site-packages (0.0.4)\n"
     ]
    },
    {
     "name": "stderr",
     "output_type": "stream",
     "text": [
      "WARNING: Ignoring invalid distribution - (d:\\python\\lib\\site-packages)\n",
      "WARNING: Ignoring invalid distribution -ackaging (d:\\python\\lib\\site-packages)\n",
      "WARNING: Ignoring invalid distribution - (d:\\python\\lib\\site-packages)\n",
      "WARNING: Ignoring invalid distribution -ackaging (d:\\python\\lib\\site-packages)\n",
      "WARNING: Ignoring invalid distribution - (d:\\python\\lib\\site-packages)\n",
      "WARNING: Ignoring invalid distribution -ackaging (d:\\python\\lib\\site-packages)\n",
      "WARNING: Ignoring invalid distribution - (d:\\python\\lib\\site-packages)\n",
      "WARNING: Ignoring invalid distribution -ackaging (d:\\python\\lib\\site-packages)\n",
      "WARNING: Ignoring invalid distribution - (d:\\python\\lib\\site-packages)\n",
      "WARNING: Ignoring invalid distribution -ackaging (d:\\python\\lib\\site-packages)\n",
      "WARNING: Ignoring invalid distribution - (d:\\python\\lib\\site-packages)\n",
      "WARNING: Ignoring invalid distribution -ackaging (d:\\python\\lib\\site-packages)\n"
     ]
    }
   ],
   "source": [
    "!pip install nbmerge"
   ]
  },
  {
   "cell_type": "code",
   "execution_count": null,
   "id": "54b435dc",
   "metadata": {},
   "outputs": [],
   "source": []
  },
  {
   "cell_type": "code",
   "execution_count": 3,
   "id": "61f77621",
   "metadata": {},
   "outputs": [
    {
     "name": "stderr",
     "output_type": "stream",
     "text": [
      "Traceback (most recent call last):\n",
      "  File \"d:\\python\\lib\\runpy.py\", line 197, in _run_module_as_main\n",
      "    return _run_code(code, main_globals, None,\n",
      "  File \"d:\\python\\lib\\runpy.py\", line 87, in _run_code\n",
      "    exec(code, run_globals)\n",
      "  File \"D:\\Python\\Scripts\\nbmerge.exe\\__main__.py\", line 7, in <module>\n",
      "  File \"d:\\python\\lib\\site-packages\\nbmerge\\__init__.py\", line 189, in main\n",
      "    plan = parse_plan(args)\n",
      "  File \"d:\\python\\lib\\site-packages\\nbmerge\\__init__.py\", line 173, in parse_plan\n",
      "    raise IOError(\"Notebook `{}` does not exist\".format(file_path))\n",
      "OSError: Notebook `'04.00-Introduction-To-Matplotlib.ipynb'` does not exist\n"
     ]
    }
   ],
   "source": [
    "!nbmerge \"04.00-Introduction-To-Matplotlib.ipynb\" \"04.01-Simple-Line-Plots.ipynb\" \"04.02-Simple-Scatter-Plots.ipynb\" \"04.03-Errorbars.ipynb\" \"04.04-Density-and-Contour-Plots.ipynb' '04.05-Histograms-and-Binnings.ipynb' '04.06-Customizing-Legends.ipynb' '04.07-Customizing-Colorbars.ipynb' '04.08-Multiple-Subplots.ipynb' '04.09-Text-and-Annotation.ipynb' '04.10-Customizing-Ticks.ipynb'> merge.ipynb"
   ]
  },
  {
   "cell_type": "code",
   "execution_count": null,
   "id": "3837c196",
   "metadata": {},
   "outputs": [],
   "source": []
  }
 ],
 "metadata": {
  "kernelspec": {
   "display_name": "Python 3",
   "language": "python",
   "name": "python3"
  },
  "language_info": {
   "codemirror_mode": {
    "name": "ipython",
    "version": 3
   },
   "file_extension": ".py",
   "mimetype": "text/x-python",
   "name": "python",
   "nbconvert_exporter": "python",
   "pygments_lexer": "ipython3",
   "version": "3.9.5"
  },
  "latex_envs": {
   "LaTeX_envs_menu_present": true,
   "autoclose": false,
   "autocomplete": true,
   "bibliofile": "biblio.bib",
   "cite_by": "apalike",
   "current_citInitial": 1,
   "eqLabelWithNumbers": true,
   "eqNumInitial": 1,
   "hotkeys": {
    "equation": "Ctrl-E",
    "itemize": "Ctrl-I"
   },
   "labels_anchors": false,
   "latex_user_defs": false,
   "report_style_numbering": false,
   "user_envs_cfg": false
  }
 },
 "nbformat": 4,
 "nbformat_minor": 5
}
