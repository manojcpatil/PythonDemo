{
 "cells": [
  {
   "cell_type": "markdown",
   "id": "032d4558",
   "metadata": {},
   "source": [
    "# Introduction to SymPy\n",
    "Here we give a (quick) introduction to SymPy. This tutorial assumes you are already familiar with SymPy expressions, so this notebook should serve as a refresher.\n",
    "\n",
    "## Expressions\n",
    "The function init_printing() will enable LaTeX pretty printing in the notebook for SymPy expressions. We recommend calling it at the top of any notebook that uses SymPy."
   ]
  },
  {
   "cell_type": "code",
   "execution_count": 2,
   "id": "745f8430",
   "metadata": {},
   "outputs": [],
   "source": [
    "#!pip install sympy\n",
    "from sympy import *\n",
    "init_printing()\n",
    "\n",
    "import numpy as np"
   ]
  },
  {
   "cell_type": "markdown",
   "id": "37853ae0",
   "metadata": {},
   "source": [
    "SymPy symbols are created with the symbols() function. SymPy expressions are built up from symbols, numbers, and SymPy functions,"
   ]
  },
  {
   "cell_type": "code",
   "execution_count": 3,
   "id": "4843de98",
   "metadata": {},
   "outputs": [],
   "source": [
    "a=Symbol('a')\n",
    "x, y, z = symbols('x y z')"
   ]
  },
  {
   "cell_type": "markdown",
   "id": "36f025f2",
   "metadata": {},
   "source": [
    "SymPy automatically pretty prints symbols with greek letters and subscripts."
   ]
  },
  {
   "cell_type": "code",
   "execution_count": 3,
   "id": "57de395c",
   "metadata": {},
   "outputs": [
    {
     "data": {
      "image/png": "[encoded data removed]",
      "text/latex": [
       "$\\displaystyle \\left( \\alpha_{1}, \\  \\omega_{2}, \\  \\theta_{3}\\right)$"
      ],
      "text/plain": [
       "(α₁, ω₂, θ₃)"
      ]
     },
     "execution_count": 3,
     "metadata": {},
     "output_type": "execute_result"
    }
   ],
   "source": [
    "x1, x_2, x3 = symbols('alpha1 omega_2 theta3')\n",
    "x1, x_2, x3"
   ]
  },
  {
   "cell_type": "code",
   "execution_count": 4,
   "id": "8428e6c1",
   "metadata": {},
   "outputs": [
    {
     "data": {
      "image/png": "[encoded data removed]",
      "text/latex": [
       "$\\displaystyle \\sin{\\left(\\alpha_{1} + 1 \\right)} - \\cos{\\left(\\theta_{3} \\right)}$"
      ],
      "text/plain": [
       "sin(α₁ + 1) - cos(θ₃)"
      ]
     },
     "execution_count": 4,
     "metadata": {},
     "output_type": "execute_result"
    }
   ],
   "source": [
    "sin(x1 + 1) - cos(x3)"
   ]
  },
  {
   "cell_type": "markdown",
   "id": "086772e3",
   "metadata": {},
   "source": [
    "Dividing two integers in Python creates a float, like 1/2 -> 0.5. If you want a rational number, use Rational(1, 2) or S(1)/2."
   ]
  },
  {
   "cell_type": "code",
   "execution_count": 11,
   "id": "c333c0c5",
   "metadata": {},
   "outputs": [
    {
     "data": {
      "image/png": "[encoded data removed]",
      "text/latex": [
       "$\\displaystyle \\alpha_{1} + 0.5$"
      ],
      "text/plain": [
       "α₁ + 0.5"
      ]
     },
     "execution_count": 11,
     "metadata": {},
     "output_type": "execute_result"
    }
   ],
   "source": [
    "x1 + 1/2"
   ]
  },
  {
   "cell_type": "code",
   "execution_count": 12,
   "id": "6cde31e9",
   "metadata": {},
   "outputs": [
    {
     "data": {
      "image/png": "[encoded data removed]",
      "text/latex": [
       "$\\displaystyle \\alpha_{1} + \\frac{1}{2}$"
      ],
      "text/plain": [
       "α₁ + 1/2"
      ]
     },
     "execution_count": 12,
     "metadata": {},
     "output_type": "execute_result"
    }
   ],
   "source": [
    "x1+Rational(1,2)\n",
    "#x + S(1)/2"
   ]
  },
  {
   "cell_type": "code",
   "execution_count": 17,
   "id": "be0d5735",
   "metadata": {},
   "outputs": [
    {
     "data": {
      "image/png": "[encoded data removed]",
      "text/latex": [
       "$\\displaystyle \\frac{\\sqrt{2} e^{- \\frac{\\left(- \\mu + x\\right)^{2}}{2 \\sigma^{2}}}}{2 \\sqrt{\\pi} \\sigma}$"
      ],
      "text/plain": [
       "             2 \n",
       "    -(-μ + x)  \n",
       "    ───────────\n",
       "           2   \n",
       "        2⋅σ    \n",
       "√2⋅ℯ           \n",
       "───────────────\n",
       "     2⋅√π⋅σ    "
      ]
     },
     "execution_count": 17,
     "metadata": {},
     "output_type": "execute_result"
    }
   ],
   "source": [
    "# PDF of Normal Distribution\n",
    "mu, sigma=symbols('mu sigma')\n",
    "1/(sigma*sqrt(2*pi))*exp(-1/(2*sigma**2)*(x-mu)**2)"
   ]
  },
  {
   "cell_type": "markdown",
   "id": "4a894b04",
   "metadata": {},
   "source": [
    "^ is the XOR operator. Use ** for powers."
   ]
  },
  {
   "cell_type": "code",
   "execution_count": null,
   "id": "9343b918",
   "metadata": {},
   "outputs": [],
   "source": [
    "#x ^ y"
   ]
  },
  {
   "cell_type": "code",
   "execution_count": 14,
   "id": "ed9c025e",
   "metadata": {},
   "outputs": [
    {
     "data": {
      "image/png": "[encoded data removed]",
      "text/latex": [
       "$\\displaystyle x^{y}$"
      ],
      "text/plain": [
       " y\n",
       "x "
      ]
     },
     "execution_count": 14,
     "metadata": {},
     "output_type": "execute_result"
    }
   ],
   "source": [
    "x ** y"
   ]
  },
  {
   "cell_type": "markdown",
   "id": "028518f0",
   "metadata": {},
   "source": [
    "All SymPy expressions are immutable. Functions that operate on an expression return a new expression."
   ]
  },
  {
   "cell_type": "code",
   "execution_count": 19,
   "id": "c2e31e2d",
   "metadata": {},
   "outputs": [
    {
     "data": {
      "image/png": "[encoded data removed]",
      "text/latex": [
       "$\\displaystyle x^{2} + x y + 3$"
      ],
      "text/plain": [
       " 2          \n",
       "x  + x⋅y + 3"
      ]
     },
     "execution_count": 19,
     "metadata": {},
     "output_type": "execute_result"
    }
   ],
   "source": [
    "expr = x**2 + x*y+3\n",
    "expr"
   ]
  },
  {
   "cell_type": "code",
   "execution_count": 22,
   "id": "599c6173",
   "metadata": {},
   "outputs": [
    {
     "data": {
      "image/png": "[encoded data removed]",
      "text/latex": [
       "$\\displaystyle 21$"
      ],
      "text/plain": [
       "21"
      ]
     },
     "execution_count": 22,
     "metadata": {},
     "output_type": "execute_result"
    }
   ],
   "source": [
    "expr.subs(x,2).subs(y,7)"
   ]
  },
  {
   "cell_type": "markdown",
   "id": "643a7bd5",
   "metadata": {},
   "source": [
    "## Floating point representation\n",
    "Since most languages targeted will not support symbolic representation it is useful to let SymPy evaluate a floating point approximation (up to a user specified number of digits)."
   ]
  },
  {
   "cell_type": "code",
   "execution_count": 21,
   "id": "497211da",
   "metadata": {},
   "outputs": [
    {
     "data": {
      "image/png": "[encoded data removed]",
      "text/latex": [
       "$\\displaystyle \\sqrt{2}$"
      ],
      "text/plain": [
       "√2"
      ]
     },
     "execution_count": 21,
     "metadata": {},
     "output_type": "execute_result"
    }
   ],
   "source": [
    "sqrt(2)"
   ]
  },
  {
   "cell_type": "code",
   "execution_count": 24,
   "id": "504dcf7d",
   "metadata": {},
   "outputs": [
    {
     "data": {
      "image/png": "[encoded data removed]",
      "text/latex": [
       "$\\displaystyle 1.4142$"
      ],
      "text/plain": [
       "1.4142"
      ]
     },
     "execution_count": 24,
     "metadata": {},
     "output_type": "execute_result"
    }
   ],
   "source": [
    "sqrt(2).evalf(5)"
   ]
  },
  {
   "cell_type": "markdown",
   "id": "a688bd59",
   "metadata": {},
   "source": [
    "## Undefined functions\n",
    "Undefined functions are created with Function(). Undefined are useful to state that one variable depends on another (for the purposes of differentiation)."
   ]
  },
  {
   "cell_type": "code",
   "execution_count": 24,
   "id": "6a73ad80",
   "metadata": {},
   "outputs": [
    {
     "data": {
      "image/png": "[encoded data removed]",
      "text/latex": [
       "$\\displaystyle f{\\left(x \\right)} + 1$"
      ],
      "text/plain": [
       "f(x) + 1"
      ]
     },
     "execution_count": 24,
     "metadata": {},
     "output_type": "execute_result"
    }
   ],
   "source": [
    "f = Function('f')\n",
    "f(x) + 1"
   ]
  },
  {
   "cell_type": "markdown",
   "id": "e1b869ec",
   "metadata": {},
   "source": [
    "## Polynomial/Rational Function Simplification\n",
    "\n",
    "expand() is one of the most common simplification functions in SymPy. Although it has a lot of scopes, for now, we will consider its function in expanding polynomial expressions. For example:"
   ]
  },
  {
   "cell_type": "code",
   "execution_count": 30,
   "id": "f11f916a",
   "metadata": {},
   "outputs": [
    {
     "data": {
      "image/png": "[encoded data removed]",
      "text/latex": [
       "$\\displaystyle \\left(x + 1\\right)^{2}$"
      ],
      "text/plain": [
       "       2\n",
       "(x + 1) "
      ]
     },
     "execution_count": 30,
     "metadata": {},
     "output_type": "execute_result"
    }
   ],
   "source": [
    "expr2=(x+1)**2\n",
    "expr2"
   ]
  },
  {
   "cell_type": "code",
   "execution_count": 32,
   "id": "ed2be738",
   "metadata": {},
   "outputs": [
    {
     "data": {
      "image/png": "[encoded data removed]",
      "text/latex": [
       "$\\displaystyle x^{2} + 2 x + 1$"
      ],
      "text/plain": [
       " 2          \n",
       "x  + 2⋅x + 1"
      ]
     },
     "execution_count": 32,
     "metadata": {},
     "output_type": "execute_result"
    }
   ],
   "source": [
    "expand(expr2)"
   ]
  },
  {
   "cell_type": "code",
   "execution_count": 33,
   "id": "7b500b34",
   "metadata": {},
   "outputs": [
    {
     "data": {
      "image/png": "[encoded data removed]",
      "text/latex": [
       "$\\displaystyle x^{2} - x - 6$"
      ],
      "text/plain": [
       " 2        \n",
       "x  - x - 6"
      ]
     },
     "execution_count": 33,
     "metadata": {},
     "output_type": "execute_result"
    }
   ],
   "source": [
    "expand((x + 2)*(x - 3))"
   ]
  },
  {
   "cell_type": "code",
   "execution_count": 34,
   "id": "fec4c052",
   "metadata": {},
   "outputs": [
    {
     "data": {
      "image/png": "[encoded data removed]",
      "text/latex": [
       "$\\displaystyle x^{3} - x^{2} + x - 1$"
      ],
      "text/plain": [
       " 3    2        \n",
       "x  - x  + x - 1"
      ]
     },
     "execution_count": 34,
     "metadata": {},
     "output_type": "execute_result"
    }
   ],
   "source": [
    "expand((x-1)*(x**2+1))"
   ]
  },
  {
   "cell_type": "markdown",
   "id": "4c6122e7",
   "metadata": {},
   "source": [
    "### Factor\n",
    "factor() takes a polynomial and factors it into irreducible factors over the rational numbers. For example:"
   ]
  },
  {
   "cell_type": "code",
   "execution_count": 28,
   "id": "fcd74b82",
   "metadata": {},
   "outputs": [
    {
     "data": {
      "image/png": "[encoded data removed]",
      "text/latex": [
       "$\\displaystyle \\left(x - 1\\right) \\left(x^{2} + 1\\right)$"
      ],
      "text/plain": [
       "        ⎛ 2    ⎞\n",
       "(x - 1)⋅⎝x  + 1⎠"
      ]
     },
     "execution_count": 28,
     "metadata": {},
     "output_type": "execute_result"
    }
   ],
   "source": [
    "factor(x**3 - x**2 + x - 1)"
   ]
  },
  {
   "cell_type": "code",
   "execution_count": 30,
   "id": "a7739eba",
   "metadata": {},
   "outputs": [
    {
     "data": {
      "image/png": "[encoded data removed]",
      "text/latex": [
       "$\\displaystyle z \\left(x + 2 y\\right)^{2}$"
      ],
      "text/plain": [
       "           2\n",
       "z⋅(x + 2⋅y) "
      ]
     },
     "execution_count": 30,
     "metadata": {},
     "output_type": "execute_result"
    }
   ],
   "source": [
    "factor(x**2*z + 4*x*y*z + 4*y**2*z)"
   ]
  },
  {
   "cell_type": "markdown",
   "id": "c394bf5d",
   "metadata": {},
   "source": [
    "### Collect\n",
    "collect() collects common powers of a term in an expression. For example"
   ]
  },
  {
   "cell_type": "code",
   "execution_count": 37,
   "id": "28ca13f7",
   "metadata": {},
   "outputs": [
    {
     "data": {
      "image/png": "[encoded data removed]",
      "text/latex": [
       "$\\displaystyle a x^{3} - b x^{2} + c x + 2 x^{3} + 3 x^{2} + 2 x$"
      ],
      "text/plain": [
       "   3      2            3      2      \n",
       "a⋅x  - b⋅x  + c⋅x + 2⋅x  + 3⋅x  + 2⋅x"
      ]
     },
     "execution_count": 37,
     "metadata": {},
     "output_type": "execute_result"
    }
   ],
   "source": [
    "b,c=symbols('b c')\n",
    "expr = (2*x**3+3*x**2+2*x)+(a*x**3-b*x**2+c*x)\n",
    "expr"
   ]
  },
  {
   "cell_type": "code",
   "execution_count": 38,
   "id": "2af331fb",
   "metadata": {},
   "outputs": [
    {
     "data": {
      "image/png": "[encoded data removed]",
      "text/latex": [
       "$\\displaystyle x^{3} \\left(a + 2\\right) + x^{2} \\left(3 - b\\right) + x \\left(c + 2\\right)$"
      ],
      "text/plain": [
       " 3            2                    \n",
       "x ⋅(a + 2) + x ⋅(3 - b) + x⋅(c + 2)"
      ]
     },
     "execution_count": 38,
     "metadata": {},
     "output_type": "execute_result"
    }
   ],
   "source": [
    "collected_expr = collect(expr, x)\n",
    "collected_expr"
   ]
  },
  {
   "cell_type": "code",
   "execution_count": 39,
   "id": "41460776",
   "metadata": {},
   "outputs": [
    {
     "data": {
      "image/png": "[encoded data removed]",
      "text/latex": [
       "$\\displaystyle 3 - b$"
      ],
      "text/plain": [
       "3 - b"
      ]
     },
     "execution_count": 39,
     "metadata": {},
     "output_type": "execute_result"
    }
   ],
   "source": [
    "collected_expr.coeff(x,2)"
   ]
  },
  {
   "cell_type": "markdown",
   "id": "1daf603b",
   "metadata": {},
   "source": [
    "collect() is particularly useful in conjunction with the .coeff() method. expr.coeff(x, n) gives the coefficient of x**n in expr:"
   ]
  },
  {
   "cell_type": "code",
   "execution_count": 40,
   "id": "2b5e188d",
   "metadata": {},
   "outputs": [
    {
     "data": {
      "image/png": "[encoded data removed]",
      "text/latex": [
       "$\\displaystyle a + 2$"
      ],
      "text/plain": [
       "a + 2"
      ]
     },
     "execution_count": 40,
     "metadata": {},
     "output_type": "execute_result"
    }
   ],
   "source": [
    "collected_expr.coeff(x, 3)"
   ]
  },
  {
   "cell_type": "code",
   "execution_count": 46,
   "id": "e29e4c02",
   "metadata": {},
   "outputs": [
    {
     "name": "stdout",
     "output_type": "stream",
     "text": [
      "PGF of Poisson :\n"
     ]
    },
    {
     "data": {
      "image/png": "[encoded data removed]",
      "text/latex": [
       "$\\displaystyle e^{- \\lambda \\left(1 - t\\right)}$"
      ],
      "text/plain": [
       " -λ⋅(1 - t)\n",
       "ℯ          "
      ]
     },
     "execution_count": 46,
     "metadata": {},
     "output_type": "execute_result"
    }
   ],
   "source": [
    "lam, t = symbols('lambda t')\n",
    "expr=exp(-lam*(1-t))\n",
    "print(\"PGF of Poisson :\")\n",
    "expr"
   ]
  },
  {
   "cell_type": "code",
   "execution_count": 49,
   "id": "8396c0a1",
   "metadata": {},
   "outputs": [
    {
     "data": {
      "image/png": "[encoded data removed]",
      "text/latex": [
       "$\\displaystyle \\left(p x - p + 1\\right)^{3}$"
      ],
      "text/plain": [
       "             3\n",
       "(p⋅x - p + 1) "
      ]
     },
     "execution_count": 49,
     "metadata": {},
     "output_type": "execute_result"
    }
   ],
   "source": [
    "p, n =symbols('p n')\n",
    "expr=(p*x+1-p)**3\n",
    "expr"
   ]
  },
  {
   "cell_type": "code",
   "execution_count": 55,
   "id": "23b1a886",
   "metadata": {},
   "outputs": [
    {
     "data": {
      "image/png": "[encoded data removed]",
      "text/latex": [
       "$\\displaystyle - 3 p^{3} + 3 p^{2}$"
      ],
      "text/plain": [
       "     3      2\n",
       "- 3⋅p  + 3⋅p "
      ]
     },
     "execution_count": 55,
     "metadata": {},
     "output_type": "execute_result"
    }
   ],
   "source": [
    "exp_expr=expand(expr)\n",
    "exp_expr.coeff(x,2)"
   ]
  },
  {
   "cell_type": "code",
   "execution_count": 53,
   "id": "25e1e862",
   "metadata": {},
   "outputs": [
    {
     "data": {
      "image/png": "[encoded data removed]",
      "text/latex": [
       "$\\displaystyle 3 p^{3} - 6 p^{2} + 3 p$"
      ],
      "text/plain": [
       "   3      2      \n",
       "3⋅p  - 6⋅p  + 3⋅p"
      ]
     },
     "execution_count": 53,
     "metadata": {},
     "output_type": "execute_result"
    }
   ],
   "source": [
    "collect_exp_expr=collect(exp_expr,x)\n",
    "collect_exp_expr.coeff(x,1)"
   ]
  },
  {
   "cell_type": "markdown",
   "id": "1d4f5e48",
   "metadata": {},
   "source": [
    "### Cancel\n",
    "cancel() will take any rational function and put it into the standard canonical form, pq, where p and q are expanded polynomials with no common factors, and the leading coefficients of p and q do not have denominators (i.e., are integers).\n"
   ]
  },
  {
   "cell_type": "code",
   "execution_count": 4,
   "id": "5b7d0185",
   "metadata": {},
   "outputs": [
    {
     "data": {
      "image/png": "[encoded data removed]",
      "text/latex": [
       "$\\displaystyle x - 1$"
      ],
      "text/plain": [
       "x - 1"
      ]
     },
     "metadata": {},
     "output_type": "display_data"
    },
    {
     "data": {
      "image/png": "[encoded data removed]",
      "text/latex": [
       "$\\displaystyle x - 1$"
      ],
      "text/plain": [
       "x - 1"
      ]
     },
     "execution_count": 4,
     "metadata": {},
     "output_type": "execute_result"
    }
   ],
   "source": [
    "expr=factor(x**2 - 1)/(x + 1)\n",
    "display(expr)\n",
    "cancel(expr)"
   ]
  },
  {
   "cell_type": "code",
   "execution_count": 59,
   "id": "39ca9ddb",
   "metadata": {},
   "outputs": [
    {
     "data": {
      "image/png": "[encoded data removed]",
      "text/latex": [
       "$\\displaystyle \\frac{\\frac{3 x}{2} - 2}{x - 4} + \\frac{1}{x}$"
      ],
      "text/plain": [
       "3⋅x        \n",
       "─── - 2    \n",
       " 2        1\n",
       "─────── + ─\n",
       " x - 4    x"
      ]
     },
     "metadata": {},
     "output_type": "display_data"
    },
    {
     "data": {
      "image/png": "[encoded data removed]",
      "text/latex": [
       "$\\displaystyle \\frac{3 x^{2} - 2 x - 8}{2 x^{2} - 8 x}$"
      ],
      "text/plain": [
       "   2          \n",
       "3⋅x  - 2⋅x - 8\n",
       "──────────────\n",
       "     2        \n",
       "  2⋅x  - 8⋅x  "
      ]
     },
     "execution_count": 59,
     "metadata": {},
     "output_type": "execute_result"
    }
   ],
   "source": [
    "expr = 1/x + (3*x/2 - 2)/(x - 4)\n",
    "display(expr)\n",
    "cancel(expr)"
   ]
  },
  {
   "cell_type": "markdown",
   "id": "c2924ccf",
   "metadata": {},
   "source": [
    "### Apart\n",
    "apart() performs a partial fraction decomposition on a rational function."
   ]
  },
  {
   "cell_type": "code",
   "execution_count": 47,
   "id": "059d6e3a",
   "metadata": {},
   "outputs": [
    {
     "data": {
      "image/png": "[encoded data removed]",
      "text/latex": [
       "$\\displaystyle \\frac{4 x^{3} + 21 x^{2} + 10 x + 12}{x^{4} + 5 x^{3} + 5 x^{2} + 4 x}$"
      ],
      "text/plain": [
       "   3       2            \n",
       "4⋅x  + 21⋅x  + 10⋅x + 12\n",
       "────────────────────────\n",
       "  4      3      2       \n",
       " x  + 5⋅x  + 5⋅x  + 4⋅x "
      ]
     },
     "execution_count": 47,
     "metadata": {},
     "output_type": "execute_result"
    }
   ],
   "source": [
    "expr = (4*x**3 + 21*x**2 + 10*x + 12)/(x**4 + 5*x**3 + 5*x**2 + 4*x)\n",
    "expr"
   ]
  },
  {
   "cell_type": "code",
   "execution_count": 48,
   "id": "633cb6f2",
   "metadata": {},
   "outputs": [
    {
     "data": {
      "image/png": "[encoded data removed]",
      "text/latex": [
       "$\\displaystyle \\frac{2 x - 1}{x^{2} + x + 1} - \\frac{1}{x + 4} + \\frac{3}{x}$"
      ],
      "text/plain": [
       " 2⋅x - 1       1     3\n",
       "────────── - ───── + ─\n",
       " 2           x + 4   x\n",
       "x  + x + 1            "
      ]
     },
     "execution_count": 48,
     "metadata": {},
     "output_type": "execute_result"
    }
   ],
   "source": [
    "apart(expr)"
   ]
  },
  {
   "cell_type": "markdown",
   "id": "3a5778c3",
   "metadata": {},
   "source": [
    "## Special Functions\n",
    "SymPy implements dozens of special functions, ranging from functions in combinatorics to mathematical physics."
   ]
  },
  {
   "cell_type": "code",
   "execution_count": 60,
   "id": "6f1e511c",
   "metadata": {},
   "outputs": [],
   "source": [
    "x, y, z = symbols('x y z')\n",
    "k, m, n = symbols('k m n')"
   ]
  },
  {
   "cell_type": "code",
   "execution_count": 65,
   "id": "e425b9ac",
   "metadata": {},
   "outputs": [
    {
     "data": {
      "image/png": "[encoded data removed]",
      "text/latex": [
       "$\\displaystyle n!$"
      ],
      "text/plain": [
       "n!"
      ]
     },
     "execution_count": 65,
     "metadata": {},
     "output_type": "execute_result"
    }
   ],
   "source": [
    "factorial(n)"
   ]
  },
  {
   "cell_type": "code",
   "execution_count": 67,
   "id": "3f2a6dee",
   "metadata": {},
   "outputs": [
    {
     "data": {
      "image/png": "[encoded data removed]",
      "text/latex": [
       "$\\displaystyle {\\binom{n}{k}}$"
      ],
      "text/plain": [
       "⎛n⎞\n",
       "⎜ ⎟\n",
       "⎝k⎠"
      ]
     },
     "execution_count": 67,
     "metadata": {},
     "output_type": "execute_result"
    }
   ],
   "source": [
    "binomial(n,k)"
   ]
  },
  {
   "cell_type": "code",
   "execution_count": 66,
   "id": "e117e19b",
   "metadata": {},
   "outputs": [
    {
     "data": {
      "image/png": "[encoded data removed]",
      "text/latex": [
       "$\\displaystyle \\Gamma\\left(z\\right)$"
      ],
      "text/plain": [
       "Γ(z)"
      ]
     },
     "execution_count": 66,
     "metadata": {},
     "output_type": "execute_result"
    }
   ],
   "source": [
    "gamma(z)"
   ]
  },
  {
   "cell_type": "markdown",
   "id": "ea8cb41a",
   "metadata": {},
   "source": [
    "### Rewrite"
   ]
  },
  {
   "cell_type": "code",
   "execution_count": 69,
   "id": "b5b8cf3e",
   "metadata": {},
   "outputs": [
    {
     "data": {
      "image/png": "[encoded data removed]",
      "text/latex": [
       "$\\displaystyle \\frac{2 \\sin^{2}{\\left(x \\right)}}{\\sin{\\left(2 x \\right)}}$"
      ],
      "text/plain": [
       "     2   \n",
       "2⋅sin (x)\n",
       "─────────\n",
       " sin(2⋅x)"
      ]
     },
     "execution_count": 69,
     "metadata": {},
     "output_type": "execute_result"
    }
   ],
   "source": [
    "tan(x).rewrite(sin)"
   ]
  },
  {
   "cell_type": "code",
   "execution_count": 60,
   "id": "0b571d44",
   "metadata": {},
   "outputs": [
    {
     "data": {
      "image/png": "[encoded data removed]",
      "text/latex": [
       "$\\displaystyle \\Gamma\\left(x + 1\\right)$"
      ],
      "text/plain": [
       "Γ(x + 1)"
      ]
     },
     "execution_count": 60,
     "metadata": {},
     "output_type": "execute_result"
    }
   ],
   "source": [
    "factorial(x).rewrite(gamma)"
   ]
  },
  {
   "cell_type": "code",
   "execution_count": 71,
   "id": "c6df2451",
   "metadata": {},
   "outputs": [
    {
     "data": {
      "image/png": "[encoded data removed]",
      "text/latex": [
       "$\\displaystyle \\left(x - 1\\right)!$"
      ],
      "text/plain": [
       "(x - 1)!"
      ]
     },
     "execution_count": 71,
     "metadata": {},
     "output_type": "execute_result"
    }
   ],
   "source": [
    "gamma(x).rewrite(factorial)"
   ]
  },
  {
   "cell_type": "code",
   "execution_count": 62,
   "id": "36430e47",
   "metadata": {},
   "outputs": [
    {
     "data": {
      "image/png": "[encoded data removed]",
      "text/latex": [
       "$\\displaystyle \\frac{n!}{k! \\left(- k + n\\right)!}$"
      ],
      "text/plain": [
       "     n!     \n",
       "────────────\n",
       "k!⋅(-k + n)!"
      ]
     },
     "execution_count": 62,
     "metadata": {},
     "output_type": "execute_result"
    }
   ],
   "source": [
    "binomial(n,k).rewrite(factorial)"
   ]
  },
  {
   "cell_type": "markdown",
   "id": "109137f3",
   "metadata": {},
   "source": [
    "### expand_func"
   ]
  },
  {
   "cell_type": "code",
   "execution_count": 63,
   "id": "dcefd4d3",
   "metadata": {},
   "outputs": [
    {
     "data": {
      "image/png": "[encoded data removed]",
      "text/latex": [
       "$\\displaystyle x \\left(x + 1\\right) \\left(x + 2\\right) \\Gamma\\left(x\\right)$"
      ],
      "text/plain": [
       "x⋅(x + 1)⋅(x + 2)⋅Γ(x)"
      ]
     },
     "execution_count": 63,
     "metadata": {},
     "output_type": "execute_result"
    }
   ],
   "source": [
    "expand_func(gamma(x + 3))"
   ]
  },
  {
   "cell_type": "markdown",
   "id": "77ddbc17",
   "metadata": {},
   "source": [
    "## Derivatives\n",
    "Derivatives are computed with the diff() function, using the syntax diff(expr, var1, var2, ...)."
   ]
  },
  {
   "cell_type": "code",
   "execution_count": 10,
   "id": "d4b119a1",
   "metadata": {},
   "outputs": [
    {
     "data": {
      "image/png": "[encoded data removed]",
      "text/latex": [
       "$\\displaystyle 2 x + y^{2}$"
      ],
      "text/plain": [
       "       2\n",
       "2⋅x + y "
      ]
     },
     "execution_count": 10,
     "metadata": {},
     "output_type": "execute_result"
    }
   ],
   "source": [
    "diff(x**2+x*y**2, x)"
   ]
  },
  {
   "cell_type": "code",
   "execution_count": 65,
   "id": "9267dedf",
   "metadata": {},
   "outputs": [
    {
     "data": {
      "image/png": "[encoded data removed]",
      "text/latex": [
       "$\\displaystyle - \\sin{\\left(y \\right)} \\cos{\\left(x + 1 \\right)}$"
      ],
      "text/plain": [
       "-sin(y)⋅cos(x + 1)"
      ]
     },
     "execution_count": 65,
     "metadata": {},
     "output_type": "execute_result"
    }
   ],
   "source": [
    "diff(sin(x + 1)*cos(y), x, y)"
   ]
  },
  {
   "cell_type": "code",
   "execution_count": 13,
   "id": "c494488d",
   "metadata": {},
   "outputs": [
    {
     "data": {
      "image/png": "[encoded data removed]",
      "text/latex": [
       "$\\displaystyle \\frac{d^{2}}{d x^{2}} f{\\left(x \\right)}$"
      ],
      "text/plain": [
       "  2      \n",
       " d       \n",
       "───(f(x))\n",
       "  2      \n",
       "dx       "
      ]
     },
     "execution_count": 13,
     "metadata": {},
     "output_type": "execute_result"
    }
   ],
   "source": [
    "f=Function('f')\n",
    "diff(f(x) + 1, x,x)"
   ]
  },
  {
   "cell_type": "code",
   "execution_count": 15,
   "id": "e5593cb7",
   "metadata": {},
   "outputs": [
    {
     "data": {
      "image/png": "[encoded data removed]",
      "text/latex": [
       "$\\displaystyle \\frac{\\partial^{2}}{\\partial t^{2}} u{\\left(t,x \\right)} = c^{2} \\frac{\\partial^{2}}{\\partial x^{2}} u{\\left(t,x \\right)}$"
      ],
      "text/plain": [
       "  2                 2         \n",
       " ∂              2  ∂          \n",
       "───(u(t, x)) = c ⋅───(u(t, x))\n",
       "  2                 2         \n",
       "∂t                ∂x          "
      ]
     },
     "execution_count": 15,
     "metadata": {},
     "output_type": "execute_result"
    }
   ],
   "source": [
    "u=Function('u')\n",
    "t,c=symbols('t c')\n",
    "Eq(diff(diff(u(t,x),t),t),c**2*diff(diff(u(t,x),x),x))"
   ]
  },
  {
   "cell_type": "code",
   "execution_count": 17,
   "id": "de7431af",
   "metadata": {},
   "outputs": [
    {
     "data": {
      "image/png": "[encoded data removed]",
      "text/latex": [
       "$\\displaystyle 24 p^{3} \\left(p t - p + 1\\right)$"
      ],
      "text/plain": [
       "    3              \n",
       "24⋅p ⋅(p⋅t - p + 1)"
      ]
     },
     "execution_count": 17,
     "metadata": {},
     "output_type": "execute_result"
    }
   ],
   "source": [
    "t,p=symbols('t p')\n",
    "expr=(p*t+1-p)**4\n",
    "diff(diff(diff(expr,t),t),t)"
   ]
  },
  {
   "cell_type": "code",
   "execution_count": 123,
   "id": "947fcaa4",
   "metadata": {},
   "outputs": [
    {
     "data": {
      "image/png": "[encoded data removed]",
      "text/latex": [
       "$\\displaystyle 24 p^{3} \\left(p t - p + 1\\right)$"
      ],
      "text/plain": [
       "    3              \n",
       "24⋅p ⋅(p⋅t - p + 1)"
      ]
     },
     "execution_count": 123,
     "metadata": {},
     "output_type": "execute_result"
    }
   ],
   "source": [
    "expr.diff(t,3)"
   ]
  },
  {
   "cell_type": "markdown",
   "id": "9050113e",
   "metadata": {},
   "source": [
    "## Integration"
   ]
  },
  {
   "cell_type": "code",
   "execution_count": 18,
   "id": "5d152092",
   "metadata": {},
   "outputs": [
    {
     "data": {
      "image/png": "[encoded data removed]",
      "text/latex": [
       "$\\displaystyle - \\cos{\\left(x \\right)}$"
      ],
      "text/plain": [
       "-cos(x)"
      ]
     },
     "execution_count": 18,
     "metadata": {},
     "output_type": "execute_result"
    }
   ],
   "source": [
    "integrate(sin(x), x)"
   ]
  },
  {
   "cell_type": "code",
   "execution_count": 20,
   "id": "68006eef",
   "metadata": {},
   "outputs": [
    {
     "data": {
      "image/png": "[encoded data removed]",
      "text/latex": [
       "$\\displaystyle \\frac{1}{2}$"
      ],
      "text/plain": [
       "1/2"
      ]
     },
     "execution_count": 20,
     "metadata": {},
     "output_type": "execute_result"
    }
   ],
   "source": [
    "integrate(x, (x, 0, 1))"
   ]
  },
  {
   "cell_type": "code",
   "execution_count": 78,
   "id": "950cad9e",
   "metadata": {},
   "outputs": [
    {
     "data": {
      "image/png": "[encoded data removed]",
      "text/latex": [
       "$\\displaystyle \\pi$"
      ],
      "text/plain": [
       "π"
      ]
     },
     "execution_count": 78,
     "metadata": {},
     "output_type": "execute_result"
    }
   ],
   "source": [
    "integrate(exp(-x**2 - y**2), (x, -oo, oo), (y, -oo, oo))"
   ]
  },
  {
   "cell_type": "code",
   "execution_count": 24,
   "id": "eb4c11c9",
   "metadata": {},
   "outputs": [
    {
     "data": {
      "image/png": "[encoded data removed]",
      "text/latex": [
       "$\\displaystyle \\int\\limits_{0}^{\\infty} \\theta x e^{- \\theta x}\\, dx$"
      ],
      "text/plain": [
       "∞             \n",
       "⌠             \n",
       "⎮      -θ⋅x   \n",
       "⎮ θ⋅x⋅ℯ     dx\n",
       "⌡             \n",
       "0             "
      ]
     },
     "execution_count": 24,
     "metadata": {},
     "output_type": "execute_result"
    }
   ],
   "source": [
    "theta=Symbol('theta')\n",
    "Ex = Integral(x*theta*exp(-theta*x), (x, 0, oo))\n",
    "Ex"
   ]
  },
  {
   "cell_type": "code",
   "execution_count": 25,
   "id": "5082e0b4",
   "metadata": {},
   "outputs": [
    {
     "data": {
      "image/png": "[encoded data removed]",
      "text/latex": [
       "$\\displaystyle \\begin{cases} \\frac{1}{\\theta} & \\text{for}\\: \\left|{\\arg{\\left(\\theta \\right)}}\\right| < \\frac{\\pi}{2} \\\\\\int\\limits_{0}^{\\infty} \\theta x e^{- \\theta x}\\, dx & \\text{otherwise} \\end{cases}$"
      ],
      "text/plain": [
       "⎧      1                        π\n",
       "⎪      ─         for │arg(θ)│ < ─\n",
       "⎪      θ                        2\n",
       "⎪                                \n",
       "⎪∞                               \n",
       "⎨⌠                               \n",
       "⎪⎮      -θ⋅x                     \n",
       "⎪⎮ θ⋅x⋅ℯ     dx     otherwise    \n",
       "⎪⌡                               \n",
       "⎪0                               \n",
       "⎩                                "
      ]
     },
     "execution_count": 25,
     "metadata": {},
     "output_type": "execute_result"
    }
   ],
   "source": [
    "Ex.doit()"
   ]
  },
  {
   "cell_type": "markdown",
   "id": "76664111",
   "metadata": {},
   "source": [
    "## Finding Limit"
   ]
  },
  {
   "cell_type": "code",
   "execution_count": 26,
   "id": "e86acfcb",
   "metadata": {},
   "outputs": [
    {
     "data": {
      "image/png": "[encoded data removed]",
      "text/latex": [
       "$\\displaystyle \\infty$"
      ],
      "text/plain": [
       "∞"
      ]
     },
     "execution_count": 26,
     "metadata": {},
     "output_type": "execute_result"
    }
   ],
   "source": [
    "limit(1/x**2,x,0)"
   ]
  },
  {
   "cell_type": "code",
   "execution_count": 82,
   "id": "cc75026c",
   "metadata": {},
   "outputs": [
    {
     "data": {
      "image/png": "[encoded data removed]",
      "text/latex": [
       "$\\displaystyle 1$"
      ],
      "text/plain": [
       "1"
      ]
     },
     "execution_count": 82,
     "metadata": {},
     "output_type": "execute_result"
    }
   ],
   "source": [
    "limit(sin(x)/x, x, 0)"
   ]
  },
  {
   "cell_type": "code",
   "execution_count": 84,
   "id": "aee39b70",
   "metadata": {},
   "outputs": [
    {
     "data": {
      "image/png": "[encoded data removed]",
      "text/latex": [
       "$\\displaystyle x^{2} e^{- x}$"
      ],
      "text/plain": [
       " 2  -x\n",
       "x ⋅ℯ  "
      ]
     },
     "execution_count": 84,
     "metadata": {},
     "output_type": "execute_result"
    }
   ],
   "source": [
    "expr = x**2/exp(x)\n",
    "expr\n",
    "#expr.subs(x, 2)"
   ]
  },
  {
   "cell_type": "code",
   "execution_count": 86,
   "id": "ceeadc03",
   "metadata": {},
   "outputs": [
    {
     "data": {
      "image/png": "[encoded data removed]",
      "text/latex": [
       "$\\displaystyle e^{-1}$"
      ],
      "text/plain": [
       " -1\n",
       "ℯ  "
      ]
     },
     "execution_count": 86,
     "metadata": {},
     "output_type": "execute_result"
    }
   ],
   "source": [
    "limit(expr, x, 1)"
   ]
  },
  {
   "cell_type": "markdown",
   "id": "47da572a",
   "metadata": {},
   "source": [
    "Like Derivative and Integral, limit has an unevaluated counterpart, Limit. To evaluate it, use doit."
   ]
  },
  {
   "cell_type": "code",
   "execution_count": 27,
   "id": "3a4bfa08",
   "metadata": {},
   "outputs": [
    {
     "data": {
      "image/png": "[encoded data removed]",
      "text/latex": [
       "$\\displaystyle \\lim_{x \\to 0^+}\\left(\\frac{\\cos{\\left(x \\right)} - 1}{x}\\right)$"
      ],
      "text/plain": [
       "     ⎛cos(x) - 1⎞\n",
       " lim ⎜──────────⎟\n",
       "x─→0⁺⎝    x     ⎠"
      ]
     },
     "execution_count": 27,
     "metadata": {},
     "output_type": "execute_result"
    }
   ],
   "source": [
    "expr = Limit((cos(x) - 1)/x, x, 0)\n",
    "expr"
   ]
  },
  {
   "cell_type": "code",
   "execution_count": 88,
   "id": "e9f97834",
   "metadata": {},
   "outputs": [
    {
     "data": {
      "image/png": "[encoded data removed]",
      "text/latex": [
       "$\\displaystyle 0$"
      ],
      "text/plain": [
       "0"
      ]
     },
     "execution_count": 88,
     "metadata": {},
     "output_type": "execute_result"
    }
   ],
   "source": [
    "expr.doit()"
   ]
  },
  {
   "cell_type": "code",
   "execution_count": 28,
   "id": "075db0ea",
   "metadata": {},
   "outputs": [
    {
     "data": {
      "image/png": "[encoded data removed]",
      "text/latex": [
       "$\\displaystyle \\lim_{x \\to 0^+} \\frac{1}{x}$"
      ],
      "text/plain": [
       "     1\n",
       " lim ─\n",
       "x─→0⁺x"
      ]
     },
     "execution_count": 28,
     "metadata": {},
     "output_type": "execute_result"
    }
   ],
   "source": [
    "Limit(1/x, x, 0, '+')"
   ]
  },
  {
   "cell_type": "code",
   "execution_count": 29,
   "id": "0cf05588",
   "metadata": {},
   "outputs": [
    {
     "data": {
      "image/png": "[encoded data removed]",
      "text/latex": [
       "$\\displaystyle \\lim_{x \\to 0^-} \\frac{1}{x}$"
      ],
      "text/plain": [
       "     1\n",
       " lim ─\n",
       "x─→0⁻x"
      ]
     },
     "execution_count": 29,
     "metadata": {},
     "output_type": "execute_result"
    }
   ],
   "source": [
    "Limit(1/x, x, 0, '-')"
   ]
  },
  {
   "cell_type": "markdown",
   "id": "f0d8b4cd",
   "metadata": {},
   "source": [
    "## Series Expansion"
   ]
  },
  {
   "cell_type": "code",
   "execution_count": 34,
   "id": "cc027d3e",
   "metadata": {},
   "outputs": [
    {
     "data": {
      "image/png": "[encoded data removed]",
      "text/latex": [
       "$\\displaystyle 1 + x + x^{2} + x^{3} + x^{4} + O\\left(x^{5}\\right)$"
      ],
      "text/plain": [
       "         2    3    4    ⎛ 5⎞\n",
       "1 + x + x  + x  + x  + O⎝x ⎠"
      ]
     },
     "execution_count": 34,
     "metadata": {},
     "output_type": "execute_result"
    }
   ],
   "source": [
    "expr = 1/(1-x)\n",
    "expr.series(x, 0, 5)"
   ]
  },
  {
   "cell_type": "code",
   "execution_count": 35,
   "id": "2ce4f25e",
   "metadata": {},
   "outputs": [
    {
     "data": {
      "image/png": "[encoded data removed]",
      "text/latex": [
       "$\\displaystyle x^{7} + x^{6} + x^{5} + x^{4} + x^{3} + x^{2} + x + 1$"
      ],
      "text/plain": [
       " 7    6    5    4    3    2        \n",
       "x  + x  + x  + x  + x  + x  + x + 1"
      ]
     },
     "execution_count": 35,
     "metadata": {},
     "output_type": "execute_result"
    }
   ],
   "source": [
    "expr.series(x, 0, 8).removeO() "
   ]
  },
  {
   "cell_type": "code",
   "execution_count": 36,
   "id": "7c38f4c0",
   "metadata": {},
   "outputs": [
    {
     "data": {
      "image/png": "[encoded data removed]",
      "text/latex": [
       "$\\displaystyle 1 + x + \\frac{x^{2}}{2} + \\frac{x^{3}}{6} + \\frac{x^{4}}{24} + \\frac{x^{5}}{120} + O\\left(x^{6}\\right)$"
      ],
      "text/plain": [
       "         2    3    4     5        \n",
       "        x    x    x     x     ⎛ 6⎞\n",
       "1 + x + ── + ── + ── + ─── + O⎝x ⎠\n",
       "        2    6    24   120        "
      ]
     },
     "execution_count": 36,
     "metadata": {},
     "output_type": "execute_result"
    }
   ],
   "source": [
    "exp(x).series(x, x0=0)"
   ]
  },
  {
   "cell_type": "code",
   "execution_count": 38,
   "id": "4c39ed24",
   "metadata": {},
   "outputs": [
    {
     "data": {
      "image/png": "[encoded data removed]",
      "text/latex": [
       "$\\displaystyle x - \\frac{x^{2}}{2} + \\frac{x^{3}}{3} - \\frac{x^{4}}{4} + \\frac{x^{5}}{5} + O\\left(x^{6}\\right)$"
      ],
      "text/plain": [
       "     2    3    4    5        \n",
       "    x    x    x    x     ⎛ 6⎞\n",
       "x - ── + ── - ── + ── + O⎝x ⎠\n",
       "    2    3    4    5         "
      ]
     },
     "execution_count": 38,
     "metadata": {},
     "output_type": "execute_result"
    }
   ],
   "source": [
    "log(1+x).series(x)"
   ]
  },
  {
   "cell_type": "code",
   "execution_count": 37,
   "id": "bd6608c0",
   "metadata": {},
   "outputs": [
    {
     "data": {
      "image/png": "[encoded data removed]",
      "text/latex": [
       "$\\displaystyle x - \\frac{x^{3}}{6} + \\frac{x^{5}}{120} - \\frac{x^{7}}{5040} + \\frac{x^{9}}{362880} + O\\left(x^{10}\\right)$"
      ],
      "text/plain": [
       "     3     5     7       9           \n",
       "    x     x     x       x       ⎛ 10⎞\n",
       "x - ── + ─── - ──── + ────── + O⎝x  ⎠\n",
       "    6    120   5040   362880         "
      ]
     },
     "execution_count": 37,
     "metadata": {},
     "output_type": "execute_result"
    }
   ],
   "source": [
    "sin(x).series(x,0,10)"
   ]
  },
  {
   "cell_type": "code",
   "execution_count": 39,
   "id": "9c53b677",
   "metadata": {},
   "outputs": [
    {
     "data": {
      "image/png": "[encoded data removed]",
      "text/latex": [
       "$\\displaystyle 1 + x + x^{2} + x^{3} + x^{4} + O\\left(x^{5}\\right)$"
      ],
      "text/plain": [
       "         2    3    4    ⎛ 5⎞\n",
       "1 + x + x  + x  + x  + O⎝x ⎠"
      ]
     },
     "execution_count": 39,
     "metadata": {},
     "output_type": "execute_result"
    }
   ],
   "source": [
    "expr=S(1)/(1-x)\n",
    "expr.series(x,0,5)"
   ]
  },
  {
   "cell_type": "markdown",
   "id": "69ccb49f",
   "metadata": {},
   "source": [
    "## Matrices\n",
    "Matrices are created with Matrix. A matrix can contain any symbolic expression. See Matrix? for different ways to create a Matrix."
   ]
  },
  {
   "cell_type": "code",
   "execution_count": 100,
   "id": "fcca1e6d",
   "metadata": {},
   "outputs": [
    {
     "data": {
      "image/png": "[encoded data removed]",
      "text/latex": [
       "$\\displaystyle \\left[\\begin{matrix}1 & 2\\\\3 & 4\\end{matrix}\\right]$"
      ],
      "text/plain": [
       "⎡1  2⎤\n",
       "⎢    ⎥\n",
       "⎣3  4⎦"
      ]
     },
     "execution_count": 100,
     "metadata": {},
     "output_type": "execute_result"
    }
   ],
   "source": [
    "Matrix([[1, 2], [3, 4]])"
   ]
  },
  {
   "cell_type": "code",
   "execution_count": 101,
   "id": "c4d53364",
   "metadata": {},
   "outputs": [
    {
     "data": {
      "image/png": "[encoded data removed]",
      "text/latex": [
       "$\\displaystyle \\left[\\begin{matrix}1\\\\2\\\\3\\end{matrix}\\right]$"
      ],
      "text/plain": [
       "⎡1⎤\n",
       "⎢ ⎥\n",
       "⎢2⎥\n",
       "⎢ ⎥\n",
       "⎣3⎦"
      ]
     },
     "execution_count": 101,
     "metadata": {},
     "output_type": "execute_result"
    }
   ],
   "source": [
    "# An unnested list will create a column vector\n",
    "Matrix([1, 2, 3])"
   ]
  },
  {
   "cell_type": "code",
   "execution_count": 102,
   "id": "cd2a7eee",
   "metadata": {},
   "outputs": [
    {
     "data": {
      "image/png": "[encoded data removed]",
      "text/latex": [
       "$\\displaystyle \\left[\\begin{matrix}x\\\\y\\\\z\\end{matrix}\\right]$"
      ],
      "text/plain": [
       "⎡x⎤\n",
       "⎢ ⎥\n",
       "⎢y⎥\n",
       "⎢ ⎥\n",
       "⎣z⎦"
      ]
     },
     "execution_count": 102,
     "metadata": {},
     "output_type": "execute_result"
    }
   ],
   "source": [
    "Matrix([x, y, z])"
   ]
  },
  {
   "cell_type": "markdown",
   "id": "b0edd7e4",
   "metadata": {},
   "source": [
    "Matrices support all common operations, and have many methods for performing operations."
   ]
  },
  {
   "cell_type": "code",
   "execution_count": 103,
   "id": "00e5b194",
   "metadata": {},
   "outputs": [
    {
     "data": {
      "image/png": "[encoded data removed]",
      "text/latex": [
       "$\\displaystyle \\left[\\begin{matrix}x + 2 y\\\\3 x + 4 y\\end{matrix}\\right]$"
      ],
      "text/plain": [
       "⎡ x + 2⋅y ⎤\n",
       "⎢         ⎥\n",
       "⎣3⋅x + 4⋅y⎦"
      ]
     },
     "execution_count": 103,
     "metadata": {},
     "output_type": "execute_result"
    }
   ],
   "source": [
    "Matrix([[1, 2], [3, 4]])*Matrix([x, y])"
   ]
  },
  {
   "cell_type": "markdown",
   "id": "5fc222b9",
   "metadata": {},
   "source": [
    "for example, calculating the Jacobian matrix is as easy as:"
   ]
  },
  {
   "cell_type": "code",
   "execution_count": 104,
   "id": "c35bfb69",
   "metadata": {},
   "outputs": [
    {
     "data": {
      "image/png": "[encoded data removed]",
      "text/latex": [
       "$\\displaystyle \\left[\\begin{matrix}\\cos{\\left(x \\right)} & 1 & 0\\\\1 & - \\sin{\\left(y \\right)} & 0\\\\0 & 0 & 1\\end{matrix}\\right]$"
      ],
      "text/plain": [
       "⎡cos(x)     1     0⎤\n",
       "⎢                  ⎥\n",
       "⎢  1     -sin(y)  0⎥\n",
       "⎢                  ⎥\n",
       "⎣  0        0     1⎦"
      ]
     },
     "execution_count": 104,
     "metadata": {},
     "output_type": "execute_result"
    }
   ],
   "source": [
    "Matrix([sin(x) + y, cos(y) + x, z]).jacobian([x, y, z])"
   ]
  },
  {
   "cell_type": "markdown",
   "id": "6d87b006",
   "metadata": {},
   "source": [
    "### Matrix symbols\n",
    "SymPy can also operate on matrices of symbolic dimension ( n×m ). MatrixSymbol(\"M\", n, m) creates a matrix  M  of shape  n×m ."
   ]
  },
  {
   "cell_type": "code",
   "execution_count": 46,
   "id": "d8f656f6",
   "metadata": {},
   "outputs": [],
   "source": [
    "n, m = symbols('n m', integer=True)\n",
    "M = MatrixSymbol(\"M\", n, m)\n",
    "b = MatrixSymbol(\"b\", m, 1)"
   ]
  },
  {
   "cell_type": "code",
   "execution_count": 47,
   "id": "fef4eb06",
   "metadata": {},
   "outputs": [
    {
     "data": {
      "image/png": "[encoded data removed]",
      "text/latex": [
       "$\\displaystyle M b$"
      ],
      "text/plain": [
       "M⋅b"
      ]
     },
     "execution_count": 47,
     "metadata": {},
     "output_type": "execute_result"
    }
   ],
   "source": [
    "M*b"
   ]
  },
  {
   "cell_type": "code",
   "execution_count": 48,
   "id": "cc287f57",
   "metadata": {},
   "outputs": [
    {
     "data": {
      "image/png": "[encoded data removed]",
      "text/latex": [
       "$\\displaystyle \\left( n, \\  1\\right)$"
      ],
      "text/plain": [
       "(n, 1)"
      ]
     },
     "execution_count": 48,
     "metadata": {},
     "output_type": "execute_result"
    }
   ],
   "source": [
    "(M*b).shape"
   ]
  },
  {
   "cell_type": "markdown",
   "id": "8aebec22",
   "metadata": {},
   "source": [
    "Some matrix expression functions do not evaluate unless you call doit."
   ]
  },
  {
   "cell_type": "code",
   "execution_count": 49,
   "id": "1b1dd6d4",
   "metadata": {},
   "outputs": [
    {
     "data": {
      "image/png": "[encoded data removed]",
      "text/latex": [
       "$\\displaystyle \\left(M b\\right)^{T}$"
      ],
      "text/plain": [
       "     T\n",
       "(M⋅b) "
      ]
     },
     "execution_count": 49,
     "metadata": {},
     "output_type": "execute_result"
    }
   ],
   "source": [
    "Transpose(M*b)"
   ]
  },
  {
   "cell_type": "code",
   "execution_count": 112,
   "id": "2f29397d",
   "metadata": {},
   "outputs": [
    {
     "data": {
      "image/png": "[encoded data removed]",
      "text/latex": [
       "$\\displaystyle b^{T} M^{T}$"
      ],
      "text/plain": [
       " T  T\n",
       "b ⋅M "
      ]
     },
     "execution_count": 112,
     "metadata": {},
     "output_type": "execute_result"
    }
   ],
   "source": [
    "Transpose(M*b).doit()"
   ]
  },
  {
   "cell_type": "code",
   "execution_count": null,
   "id": "da713a54",
   "metadata": {},
   "outputs": [],
   "source": []
  },
  {
   "cell_type": "markdown",
   "id": "aac907f4",
   "metadata": {},
   "source": [
    "Write a matrix expression representing\n",
    "Au+Bv,\n",
    "where  A  and  B  are  100×100  and  u  and  v  are  100×1 ."
   ]
  },
  {
   "cell_type": "code",
   "execution_count": 113,
   "id": "08fdd63a",
   "metadata": {},
   "outputs": [
    {
     "data": {
      "image/png": "[encoded data removed]",
      "text/latex": [
       "$\\displaystyle A u + B v$"
      ],
      "text/plain": [
       "A⋅u + B⋅v"
      ]
     },
     "execution_count": 113,
     "metadata": {},
     "output_type": "execute_result"
    }
   ],
   "source": [
    "A = MatrixSymbol(\"A\", 100, 100)\n",
    "B = MatrixSymbol(\"B\", 100, 100)\n",
    "u = MatrixSymbol(\"u\", 100, 1)\n",
    "v = MatrixSymbol(\"v\", 100, 1)\n",
    "A*u+B*v"
   ]
  },
  {
   "cell_type": "markdown",
   "id": "e787e348",
   "metadata": {},
   "source": [
    "### Indexed\n",
    "Indexed symbols can be created with IndexedBase and Idx. IndexedBase(\"A\") represents an array A and Idx('i') represents an index i. You can also use symbols('i') instead of Idx('i')."
   ]
  },
  {
   "cell_type": "code",
   "execution_count": 54,
   "id": "f8041670",
   "metadata": {},
   "outputs": [
    {
     "data": {
      "image/png": "[encoded data removed]",
      "text/latex": [
       "$\\displaystyle {A}_{m,n}$"
      ],
      "text/plain": [
       "A[m, n]"
      ]
     },
     "execution_count": 54,
     "metadata": {},
     "output_type": "execute_result"
    }
   ],
   "source": [
    "A = IndexedBase(\"A\")\n",
    "m,n= symbols('m n')\n",
    "A[m,n]"
   ]
  },
  {
   "cell_type": "markdown",
   "id": "a5256137",
   "metadata": {},
   "source": [
    "## Solving systems of equations\n",
    "A useful tool in your toolbelt when manipulating expressions is the solve function. solve solves equations symbolically (not numerically). The return value is a list of solutions.\n",
    "\n",
    "You can give solve an Eq, or if you give it an expression, it automatically assumes that it is equal to 0."
   ]
  },
  {
   "cell_type": "code",
   "execution_count": 55,
   "id": "37a1bbfc",
   "metadata": {},
   "outputs": [
    {
     "data": {
      "image/png": "[encoded data removed]",
      "text/latex": [
       "$\\displaystyle \\left[ -2, \\  2\\right]$"
      ],
      "text/plain": [
       "[-2, 2]"
      ]
     },
     "execution_count": 55,
     "metadata": {},
     "output_type": "execute_result"
    }
   ],
   "source": [
    "solve(Eq(x**2, 4), x)"
   ]
  },
  {
   "cell_type": "code",
   "execution_count": 58,
   "id": "677312be",
   "metadata": {},
   "outputs": [
    {
     "data": {
      "image/png": "[encoded data removed]",
      "text/latex": [
       "$\\displaystyle \\left[ 3\\right]$"
      ],
      "text/plain": [
       "[3]"
      ]
     },
     "execution_count": 58,
     "metadata": {},
     "output_type": "execute_result"
    }
   ],
   "source": [
    "solve(x**2 - 6*x + 9, x)"
   ]
  },
  {
   "cell_type": "markdown",
   "id": "ee3d57ce",
   "metadata": {},
   "source": [
    "It can also handle systems of equations. The return is a list of dictionaries, mapping symbols to solutions."
   ]
  },
  {
   "cell_type": "code",
   "execution_count": 59,
   "id": "8a1322bd",
   "metadata": {},
   "outputs": [
    {
     "data": {
      "image/png": "[encoded data removed]",
      "text/latex": [
       "$\\displaystyle \\left[ \\left( \\frac{2}{5} - \\frac{\\sqrt{19}}{5}, \\  \\frac{1}{5} + \\frac{2 \\sqrt{19}}{5}\\right), \\  \\left( \\frac{2}{5} + \\frac{\\sqrt{19}}{5}, \\  \\frac{1}{5} - \\frac{2 \\sqrt{19}}{5}\\right)\\right]$"
      ],
      "text/plain": [
       "⎡⎛2   √19  1   2⋅√19⎞  ⎛2   √19  1   2⋅√19⎞⎤\n",
       "⎢⎜─ - ───, ─ + ─────⎟, ⎜─ + ───, ─ - ─────⎟⎥\n",
       "⎣⎝5    5   5     5  ⎠  ⎝5    5   5     5  ⎠⎦"
      ]
     },
     "execution_count": 59,
     "metadata": {},
     "output_type": "execute_result"
    }
   ],
   "source": [
    "eq1 = x**2 + y**2 - 4  # circle of radius 2\n",
    "eq2 = 2*x + y - 1  # straight line: y(x) = -2*x + 1\n",
    "solve([eq1, eq2], [x, y])"
   ]
  },
  {
   "cell_type": "markdown",
   "id": "c652876b",
   "metadata": {},
   "source": [
    "Solve the following system of equations:\n",
    "$$7=3x-y$$\n",
    "$$8=2x+y$$"
   ]
  },
  {
   "cell_type": "code",
   "execution_count": 64,
   "id": "afbb0dd5",
   "metadata": {},
   "outputs": [
    {
     "data": {
      "image/png": "[encoded data removed]",
      "text/latex": [
       "$\\displaystyle \\left\\{ x : 3, \\  y : 2\\right\\}$"
      ],
      "text/plain": [
       "{x: 3, y: 2}"
      ]
     },
     "metadata": {},
     "output_type": "display_data"
    },
    {
     "data": {
      "image/png": "[encoded data removed]",
      "text/latex": [
       "$\\displaystyle \\left\\{\\left( 3, \\  2\\right)\\right\\}$"
      ],
      "text/plain": [
       "{(3, 2)}"
      ]
     },
     "metadata": {},
     "output_type": "display_data"
    }
   ],
   "source": [
    "eq1=3*x-y-7\n",
    "eq2=2*x+y-8\n",
    "display(solve([eq1,eq2],[x,y]))\n",
    "display(linsolve([eq1,eq2],[x,y]))"
   ]
  },
  {
   "cell_type": "code",
   "execution_count": 117,
   "id": "0cc0272e",
   "metadata": {},
   "outputs": [
    {
     "data": {
      "image/png": "[encoded data removed]",
      "text/latex": [
       "$\\displaystyle \\left\\{\\left( - y - 1, \\  y, \\  2\\right)\\right\\}$"
      ],
      "text/plain": [
       "{(-y - 1, y, 2)}"
      ]
     },
     "execution_count": 117,
     "metadata": {},
     "output_type": "execute_result"
    }
   ],
   "source": [
    "x,y,z=symbols('x y z')\n",
    "linsolve([x + y + z - 1, x + y + 2*z - 3 ], (x, y, z))"
   ]
  },
  {
   "cell_type": "code",
   "execution_count": 65,
   "id": "d8d37a77",
   "metadata": {},
   "outputs": [
    {
     "data": {
      "image/png": "[encoded data removed]",
      "text/latex": [
       "$\\displaystyle \\left\\{-1, 1\\right\\}$"
      ],
      "text/plain": [
       "{-1, 1}"
      ]
     },
     "execution_count": 65,
     "metadata": {},
     "output_type": "execute_result"
    }
   ],
   "source": [
    "solveset(Eq(x**2, 1), x)"
   ]
  },
  {
   "cell_type": "code",
   "execution_count": 119,
   "id": "293e2c9a",
   "metadata": {},
   "outputs": [
    {
     "data": {
      "image/png": "[encoded data removed]",
      "text/latex": [
       "$\\displaystyle \\left\\{-1, 1\\right\\}$"
      ],
      "text/plain": [
       "{-1, 1}"
      ]
     },
     "execution_count": 119,
     "metadata": {},
     "output_type": "execute_result"
    }
   ],
   "source": [
    "solveset(Eq(x**2 - 1, 0), x)"
   ]
  },
  {
   "cell_type": "code",
   "execution_count": 120,
   "id": "b2b434a6",
   "metadata": {},
   "outputs": [
    {
     "data": {
      "image/png": "[encoded data removed]",
      "text/latex": [
       "$\\displaystyle \\left\\{-1, 1\\right\\}$"
      ],
      "text/plain": [
       "{-1, 1}"
      ]
     },
     "execution_count": 120,
     "metadata": {},
     "output_type": "execute_result"
    }
   ],
   "source": [
    "solveset(x**2 - 1, x)"
   ]
  },
  {
   "cell_type": "markdown",
   "id": "c06a1208",
   "metadata": {},
   "source": [
    "Solving differential equations\n",
    "If you are dealing with a differential equation, say:\n",
    "\n",
    "$$f′′(x)=−f(x)$$\n",
    " \n",
    "SymPy's dsolve can (sometimes) produce an exact symbolic solution. Like solve, dsolve assumes that expressions are equal to 0."
   ]
  },
  {
   "cell_type": "code",
   "execution_count": 66,
   "id": "0488aa41",
   "metadata": {},
   "outputs": [
    {
     "data": {
      "image/png": "[encoded data removed]",
      "text/latex": [
       "$\\displaystyle f{\\left(x \\right)} + \\frac{d^{2}}{d x^{2}} f{\\left(x \\right)}$"
      ],
      "text/plain": [
       "         2      \n",
       "        d       \n",
       "f(x) + ───(f(x))\n",
       "         2      \n",
       "       dx       "
      ]
     },
     "metadata": {},
     "output_type": "display_data"
    },
    {
     "data": {
      "image/png": "[encoded data removed]",
      "text/latex": [
       "$\\displaystyle f{\\left(x \\right)} = C_{1} \\sin{\\left(x \\right)} + C_{2} \\cos{\\left(x \\right)}$"
      ],
      "text/plain": [
       "f(x) = C₁⋅sin(x) + C₂⋅cos(x)"
      ]
     },
     "execution_count": 66,
     "metadata": {},
     "output_type": "execute_result"
    }
   ],
   "source": [
    "f = Function('f')\n",
    "display(f(x).diff(x, 2) + f(x))\n",
    "dsolve(f(x).diff(x, 2) + f(x))"
   ]
  },
  {
   "cell_type": "markdown",
   "id": "b0208cbb",
   "metadata": {},
   "source": [
    "**Solve the following ODE:**\n",
    "$$f′′(x)+2f′(x)+f(x)=sin(x)$$"
   ]
  },
  {
   "cell_type": "code",
   "execution_count": 68,
   "id": "464a655f",
   "metadata": {},
   "outputs": [
    {
     "data": {
      "image/png": "[encoded data removed]",
      "text/latex": [
       "$\\displaystyle f{\\left(x \\right)} - \\sin{\\left(x \\right)} + 2 \\frac{d}{d x} f{\\left(x \\right)} + \\frac{d^{2}}{d x^{2}} f{\\left(x \\right)}$"
      ],
      "text/plain": [
       "                               2      \n",
       "                  d           d       \n",
       "f(x) - sin(x) + 2⋅──(f(x)) + ───(f(x))\n",
       "                  dx           2      \n",
       "                             dx       "
      ]
     },
     "metadata": {},
     "output_type": "display_data"
    },
    {
     "data": {
      "image/png": "[encoded data removed]",
      "text/latex": [
       "$\\displaystyle f{\\left(x \\right)} = \\left(C_{1} + C_{2} x\\right) e^{- x} - \\frac{\\cos{\\left(x \\right)}}{2}$"
      ],
      "text/plain": [
       "                    -x   cos(x)\n",
       "f(x) = (C₁ + C₂⋅x)⋅ℯ   - ──────\n",
       "                           2   "
      ]
     },
     "metadata": {},
     "output_type": "display_data"
    }
   ],
   "source": [
    "f = Function('f')\n",
    "expr=f(x).diff(x, 2) + 2*f(x).diff(x, 1)+f(x)-sin(x)\n",
    "display(expr)\n",
    "display(dsolve(expr))"
   ]
  },
  {
   "cell_type": "markdown",
   "id": "b9267ef2",
   "metadata": {
    "variables": {
     "(x-\\mu)}^2}{2\\sigma^2": "<p><strong>SyntaxError</strong>: unexpected character after line continuation character (<ipython-input-1-b2f1984c167a>, line 1)</p>\n"
    }
   },
   "source": [
    "Write a symbolic expression for pdf of Normal Distribution\n",
    "$$ \\frac{1}{\\sigma\\sqrt{2\\pi}} e^{\\frac{{(x-\\mu)}^2}{2\\sigma^2}}$$\n",
    " \n",
    "Remember that the function for  $e^x$  is exp(x). You will need to create symbols for sigma and mu. Square root is sqrt."
   ]
  },
  {
   "cell_type": "code",
   "execution_count": 86,
   "id": "60182d21",
   "metadata": {},
   "outputs": [
    {
     "data": {
      "image/png": "[encoded data removed]",
      "text/latex": [
       "$\\displaystyle \\frac{0.398942280401433 x e^{- \\frac{\\left(- \\mu + x\\right)^{2}}{2 \\sigma^{2}}}}{\\sqrt{\\sigma^{2}}}$"
      ],
      "text/plain": [
       "                              2 \n",
       "                     -(-μ + x)  \n",
       "                     ───────────\n",
       "                            2   \n",
       "                         2⋅σ    \n",
       "0.398942280401433⋅x⋅ℯ           \n",
       "────────────────────────────────\n",
       "               ____             \n",
       "              ╱  2              \n",
       "            ╲╱  σ               "
      ]
     },
     "execution_count": 86,
     "metadata": {},
     "output_type": "execute_result"
    }
   ],
   "source": [
    "mu1, sig1,x=symbols('mu sigma x')\n",
    "mu1, sig1\n",
    "x/sqrt(2*np.pi*sig1**2)*exp(-((x-mu1)/(sig1))**2/2)"
   ]
  },
  {
   "cell_type": "code",
   "execution_count": 90,
   "id": "8180a87f",
   "metadata": {},
   "outputs": [
    {
     "data": {
      "image/png": "[encoded data removed]",
      "text/latex": [
       "$\\displaystyle \\begin{cases} - \\frac{\\mu \\left(- 2 \\sqrt{\\pi} \\left(2 - \\operatorname{erfc}{\\left(\\frac{\\sqrt{2} \\mu}{2 \\sigma} \\right)}\\right) - \\frac{2 \\sqrt{2} \\sigma e^{- \\frac{\\mu^{2}}{2 \\sigma^{2}}}}{\\mu}\\right)}{4 \\sqrt{\\pi}} - \\frac{\\mu \\left(- 2 \\sqrt{\\pi} \\operatorname{erfc}{\\left(\\frac{\\sqrt{2} \\mu}{2 \\sigma} \\right)} + \\frac{2 \\sqrt{2} \\sigma e^{- \\frac{\\mu^{2}}{2 \\sigma^{2}}}}{\\mu}\\right)}{4 \\sqrt{\\pi}} & \\text{for}\\: \\left(\\left(2 \\left|{\\arg{\\left(\\sigma \\right)}}\\right| \\leq \\frac{\\pi}{2} \\wedge \\left|{2 \\arg{\\left(\\mu \\right)} - 4 \\arg{\\left(\\sigma \\right)}}\\right| < \\pi\\right) \\vee \\left(\\left|{2 \\arg{\\left(\\mu \\right)} - 4 \\arg{\\left(\\sigma \\right)}}\\right| \\leq \\pi \\wedge 2 \\left|{\\arg{\\left(\\sigma \\right)}}\\right| < \\frac{\\pi}{2}\\right) \\vee \\left(\\left|{2 \\arg{\\left(\\mu \\right)} - 4 \\arg{\\left(\\sigma \\right)}}\\right| < \\pi \\wedge 2 \\left|{\\arg{\\left(\\sigma \\right)}}\\right| < \\frac{\\pi}{2}\\right) \\vee 2 \\left|{\\arg{\\left(\\sigma \\right)}}\\right| < \\frac{\\pi}{2}\\right) \\wedge \\left(\\left(2 \\left|{\\arg{\\left(\\sigma \\right)}}\\right| \\leq \\frac{\\pi}{2} \\wedge \\left|{2 \\arg{\\left(\\mu \\right)} - 4 \\arg{\\left(\\sigma \\right)} + 2 \\pi}\\right| < \\pi\\right) \\vee \\left(\\left|{2 \\arg{\\left(\\mu \\right)} - 4 \\arg{\\left(\\sigma \\right)} + 2 \\pi}\\right| \\leq \\pi \\wedge 2 \\left|{\\arg{\\left(\\sigma \\right)}}\\right| < \\frac{\\pi}{2}\\right) \\vee \\left(\\left|{2 \\arg{\\left(\\mu \\right)} - 4 \\arg{\\left(\\sigma \\right)} + 2 \\pi}\\right| < \\pi \\wedge 2 \\left|{\\arg{\\left(\\sigma \\right)}}\\right| < \\frac{\\pi}{2}\\right) \\vee 2 \\left|{\\arg{\\left(\\sigma \\right)}}\\right| < \\frac{\\pi}{2}\\right) \\\\\\int\\limits_{-\\infty}^{\\infty} \\frac{\\sqrt{2} x e^{- \\frac{\\left(- \\mu + x\\right)^{2}}{2 \\sigma^{2}}}}{2 \\sqrt{\\pi} \\sqrt{\\sigma^{2}}}\\, dx & \\text{otherwise} \\end{cases}$"
      ],
      "text/plain": [
       "⎧    ⎛                                    2 ⎞     ⎛                           \n",
       "⎪    ⎜                                  -μ  ⎟     ⎜                           \n",
       "⎪    ⎜                                  ────⎟     ⎜                           \n",
       "⎪    ⎜                                     2⎟     ⎜                           \n",
       "⎪    ⎜                                  2⋅σ ⎟     ⎜                           \n",
       "⎪    ⎜       ⎛        ⎛√2⋅μ⎞⎞   2⋅√2⋅σ⋅ℯ    ⎟     ⎜           ⎛√2⋅μ⎞   2⋅√2⋅σ⋅\n",
       "⎪  μ⋅⎜- 2⋅√π⋅⎜2 - erfc⎜────⎟⎟ - ────────────⎟   μ⋅⎜- 2⋅√π⋅erfc⎜────⎟ + ───────\n",
       "⎪    ⎝       ⎝        ⎝2⋅σ ⎠⎠        μ      ⎠     ⎝           ⎝2⋅σ ⎠        μ \n",
       "⎪- ────────────────────────────────────────── - ──────────────────────────────\n",
       "⎪                     4⋅√π                                      4⋅√π          \n",
       "⎪                                                                             \n",
       "⎪                              ∞                                              \n",
       "⎨                              ⌠                                              \n",
       "⎪                              ⎮                 2                            \n",
       "⎪                              ⎮        -(-μ + x)                             \n",
       "⎪                              ⎮        ───────────                           \n",
       "⎪                              ⎮               2                              \n",
       "⎪                              ⎮            2⋅σ                               \n",
       "⎪                              ⎮  √2⋅x⋅ℯ                                      \n",
       "⎪                              ⎮  ───────────────── dx                        \n",
       "⎪                              ⎮             ____                             \n",
       "⎪                              ⎮            ╱  2                              \n",
       "⎪                              ⎮     2⋅√π⋅╲╱  σ                               \n",
       "⎪                              ⌡                                              \n",
       "⎩                              -∞                                             \n",
       "\n",
       "   2 ⎞                                                                        \n",
       " -μ  ⎟                                                                        \n",
       " ────⎟                                                                        \n",
       "    2⎟                                                                        \n",
       " 2⋅σ ⎟                                                                        \n",
       "ℯ    ⎟                                                                        \n",
       "─────⎟                                                                        \n",
       "     ⎠      ⎛⎛             π                            ⎞   ⎛                 \n",
       "──────  for ⎜⎜2⋅│arg(σ)│ ≤ ─ ∧ │2⋅arg(μ) - 4⋅arg(σ)│ < π⎟ ∨ ⎜│2⋅arg(μ) - 4⋅arg\n",
       "            ⎝⎝             2                            ⎠   ⎝                 \n",
       "                                                                              \n",
       "                                                                              \n",
       "                                                                              \n",
       "                                                                              \n",
       "                                                                              \n",
       "                                                                              \n",
       "                                                                              \n",
       "                                                                              \n",
       "                                                                              \n",
       "                                                                              \n",
       "                                                                              \n",
       "                                                                              \n",
       "                                                                              \n",
       "                                                                              \n",
       "                                                                              \n",
       "\n",
       "                                                                              \n",
       "                                                                              \n",
       "                                                                              \n",
       "                                                                              \n",
       "                                                                              \n",
       "                                                                              \n",
       "                                                                              \n",
       "                        π⎞   ⎛                                         π⎞     \n",
       "(σ)│ ≤ π ∧ 2⋅│arg(σ)│ < ─⎟ ∨ ⎜│2⋅arg(μ) - 4⋅arg(σ)│ < π ∧ 2⋅│arg(σ)│ < ─⎟ ∨ 2⋅\n",
       "                        2⎠   ⎝                                         2⎠     \n",
       "                                                                              \n",
       "                                                                              \n",
       "                                                                              \n",
       "                                                                              \n",
       "                                                                              \n",
       "                                                                              \n",
       "                                                                              \n",
       "                                                                              \n",
       "                                                                              \n",
       "                                                                              \n",
       "                                                                              \n",
       "                                                                              \n",
       "                                                                              \n",
       "                                                                              \n",
       "                                                                              \n",
       "\n",
       "                                                                              \n",
       "                                                                              \n",
       "                                                                              \n",
       "                                                                              \n",
       "                                                                              \n",
       "                                                                              \n",
       "                                                                              \n",
       "           π⎞   ⎛⎛             π                                  ⎞   ⎛       \n",
       "│arg(σ)│ < ─⎟ ∧ ⎜⎜2⋅│arg(σ)│ ≤ ─ ∧ │2⋅arg(μ) - 4⋅arg(σ) + 2⋅π│ < π⎟ ∨ ⎜│2⋅arg(\n",
       "           2⎠   ⎝⎝             2                                  ⎠   ⎝       \n",
       "                                                                              \n",
       "                                                                              \n",
       "                                                                              \n",
       "                                                                              \n",
       "                                                                              \n",
       "                                                                              \n",
       "                                                                              \n",
       "                                                                              \n",
       "                                                                              \n",
       "                 otherwise                                                    \n",
       "                                                                              \n",
       "                                                                              \n",
       "                                                                              \n",
       "                                                                              \n",
       "                                                                              \n",
       "\n",
       "                                                                              \n",
       "                                                                              \n",
       "                                                                              \n",
       "                                                                              \n",
       "                                                                              \n",
       "                                                                              \n",
       "                                                                              \n",
       "                                        π⎞   ⎛                                \n",
       "μ) - 4⋅arg(σ) + 2⋅π│ ≤ π ∧ 2⋅│arg(σ)│ < ─⎟ ∨ ⎜│2⋅arg(μ) - 4⋅arg(σ) + 2⋅π│ < π \n",
       "                                        2⎠   ⎝                                \n",
       "                                                                              \n",
       "                                                                              \n",
       "                                                                              \n",
       "                                                                              \n",
       "                                                                              \n",
       "                                                                              \n",
       "                                                                              \n",
       "                                                                              \n",
       "                                                                              \n",
       "                                                                              \n",
       "                                                                              \n",
       "                                                                              \n",
       "                                                                              \n",
       "                                                                              \n",
       "                                                                              \n",
       "\n",
       "                                   \n",
       "                                   \n",
       "                                   \n",
       "                                   \n",
       "                                   \n",
       "                                   \n",
       "                                   \n",
       "               π⎞                π⎞\n",
       "∧ 2⋅│arg(σ)│ < ─⎟ ∨ 2⋅│arg(σ)│ < ─⎟\n",
       "               2⎠                2⎠\n",
       "                                   \n",
       "                                   \n",
       "                                   \n",
       "                                   \n",
       "                                   \n",
       "                                   \n",
       "                                   \n",
       "                                   \n",
       "                                   \n",
       "                                   \n",
       "                                   \n",
       "                                   \n",
       "                                   \n",
       "                                   \n",
       "                                   "
      ]
     },
     "execution_count": 90,
     "metadata": {},
     "output_type": "execute_result"
    }
   ],
   "source": [
    "Ex2=integrate(x/sqrt(2*pi*sig1**2)*exp(-((x-mu1)/(sig1))**2/2),(x,-oo,+oo))\n",
    "Ex2"
   ]
  }
 ],
 "metadata": {
  "kernelspec": {
   "display_name": "Python 3",
   "language": "python",
   "name": "python3"
  },
  "language_info": {
   "codemirror_mode": {
    "name": "ipython",
    "version": 3
   },
   "file_extension": ".py",
   "mimetype": "text/x-python",
   "name": "python",
   "nbconvert_exporter": "python",
   "pygments_lexer": "ipython3",
   "version": "3.9.5"
  },
  "latex_envs": {
   "LaTeX_envs_menu_present": true,
   "autoclose": false,
   "autocomplete": true,
   "bibliofile": "biblio.bib",
   "cite_by": "apalike",
   "current_citInitial": 1,
   "eqLabelWithNumbers": true,
   "eqNumInitial": 1,
   "hotkeys": {
    "equation": "Ctrl-E",
    "itemize": "Ctrl-I"
   },
   "labels_anchors": false,
   "latex_user_defs": false,
   "report_style_numbering": false,
   "user_envs_cfg": false
  },
  "toc": {
   "base_numbering": 1,
   "nav_menu": {},
   "number_sections": true,
   "sideBar": true,
   "skip_h1_title": false,
   "title_cell": "Table of Contents",
   "title_sidebar": "Contents",
   "toc_cell": false,
   "toc_position": {
    "height": "calc(100% - 180px)",
    "left": "10px",
    "top": "150px",
    "width": "165px"
   },
   "toc_section_display": true,
   "toc_window_display": false
  }
 },
 "nbformat": 4,
 "nbformat_minor": 5
}
