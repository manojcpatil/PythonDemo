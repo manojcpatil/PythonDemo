{
 "cells": [
  {
   "cell_type": "markdown",
   "id": "4c8c63e7",
   "metadata": {
    "slideshow": {
     "slide_type": "slide"
    }
   },
   "source": [
    "# Introduction to Python"
   ]
  },
  {
   "cell_type": "markdown",
   "id": "5948a8e1",
   "metadata": {},
   "source": [
    "Python is a popular programming language that is widely used for a variety of purposes, including web development, data analysis, scientific computing, and artificial intelligence.\n",
    "\n",
    "Here are some basic concepts and syntax to get you started with Python:"
   ]
  },
  {
   "cell_type": "markdown",
   "id": "446f6a95",
   "metadata": {
    "slideshow": {
     "slide_type": "slide"
    }
   },
   "source": [
    "## History: \n",
    "- Created in 1989 by Guido van Rossum\n",
    "- Named after the Monty Python comedy group\n",
    "- First released in 1991, version 1.0 in 1994"
   ]
  },
  {
   "cell_type": "markdown",
   "id": "cb97a546",
   "metadata": {
    "slideshow": {
     "slide_type": "slide"
    }
   },
   "source": [
    "## Popularity: \n",
    "- One of the most widely-used programming languages\n",
    "- Used in web development, scientific computing, data analysis, and more\n",
    "- Large and active community of developers and users\n",
    "- Python is used by Intel, IBM, NASA, Pixar, Netflix, Facebook, JP Morgan Chase, Spotify, and a number of other massive companies. It's one of the four main languages at Google, while Google's YouTube is largely written in Python. Same with Reddit, Pinterest, and Instagram."
   ]
  },
  {
   "cell_type": "markdown",
   "id": "be6353c1",
   "metadata": {
    "slideshow": {
     "slide_type": "slide"
    }
   },
   "source": [
    "## Advantages: \n",
    "- Easy to learn and use, flexible and powerful\n",
    "- Simple and clear syntax, with emphasis on readability\n",
    "- Interpreted language\n",
    "- Cross-platform compatibility works on various operating systems"
   ]
  },
  {
   "cell_type": "markdown",
   "id": "2a16f735",
   "metadata": {
    "slideshow": {
     "slide_type": "slide"
    }
   },
   "source": [
    "## C++ and Python\n",
    "\n",
    "\n",
    "### Both C++ and Python support:\n",
    "\n",
    "- Object-oriented programming (OOP)\n",
    "- Similar data types such as integers, floating-point numbers, strings, and arrays\n",
    "- Functions that can be called from anywhere within a program\n",
    "- Control structures such as loops, conditional statements, and switch statements\n",
    "- Standard libraries for additional functionality\n",
    "- Memory management features\n",
    "\n",
    "\n",
    "### However, they differ in:\n",
    "\n",
    "- C++ is statically-typed, while Python is dynamically-typed\n",
    "- C++ is generally faster and more efficient, while Python is easier to learn and has a more intuitive syntax\n"
   ]
  },
  {
   "cell_type": "raw",
   "id": "b212bc94",
   "metadata": {
    "slideshow": {
     "slide_type": "slide"
    }
   },
   "source": [
    "### Advantages of Python for Data Science\n",
    "\n",
    "- Python is a high-level language with easy-to-understand syntax and semantics.\n",
    "- Python has a large and vibrant community of developers, with numerous libraries and frameworks for scientific computing, data analysis, and machine learning.\n",
    "- Python is an interpreted language, which means that it can execute code on the fly and quickly prototype and experiment with different algorithms and models.\n",
    "- Python has extensive support for working with data, including built-in data structures (e.g., lists, dictionaries, sets) and libraries (e.g., NumPy, Pandas) for manipulating and processing data.\n",
    "- Python integrates well with other languages and tools commonly used in data science, such as R, SQL, Hadoop, Spark, and TensorFlow.\n",
    "- Python has a low barrier to entry and is accessible to non-programmers and domain experts, enabling them to analyze and interpret data without relying on specialized software or IT support."
   ]
  },
  {
   "cell_type": "markdown",
   "id": "19ef6220",
   "metadata": {
    "slideshow": {
     "slide_type": "slide"
    }
   },
   "source": [
    "## Installing Python: \n",
    "\n",
    "You can download the latest version of Python from the official website, https://www.python.org/downloads/. Once downloaded, follow the installation instructions for your platform.\n"
   ]
  },
  {
   "cell_type": "markdown",
   "id": "1189573b",
   "metadata": {
    "slideshow": {
     "slide_type": "slide"
    }
   },
   "source": [
    "## Running Python: \n",
    "\n",
    "After installation, you can start the Python interpreter from your command line or terminal by typing python. You should see a prompt that looks like >>>, which means that Python is ready to accept your input."
   ]
  },
  {
   "cell_type": "markdown",
   "id": "74463f73",
   "metadata": {
    "slideshow": {
     "slide_type": "slide"
    }
   },
   "source": [
    "## Data types: \n",
    "\n",
    "Python has several built-in data types, including integers, floats, strings, booleans, and lists. You can create variables to store data using the assignment operator =. For example, you can create an integer variable like this:"
   ]
  },
  {
   "cell_type": "code",
   "execution_count": 3,
   "id": "27737181",
   "metadata": {},
   "outputs": [],
   "source": [
    "x = 5"
   ]
  },
  {
   "cell_type": "markdown",
   "id": "3698d021",
   "metadata": {
    "slideshow": {
     "slide_type": "slide"
    }
   },
   "source": [
    "Python has several built-in data types, including:\n",
    "\n",
    "- Numeric Types: \n",
    "integers, floating-point numbers, and complex numbers.\n",
    "- Boolean Type: \n",
    "True and False.\n",
    "- Sequence Types: \n",
    "Strings, lists, tuples, and range objects.\n",
    "- Set Types: \n",
    "sets and frozensets.\n",
    "- Mapping Types: \n",
    "Dictionaries.\n",
    "- Binary Types: \n",
    "bytes and bytearrays"
   ]
  },
  {
   "cell_type": "markdown",
   "id": "03512163",
   "metadata": {
    "slideshow": {
     "slide_type": "slide"
    }
   },
   "source": [
    "## Here's a brief overview of each:\n",
    "\n",
    "### Numeric Types:\n",
    "\n",
    "- Integers: These are whole numbers, such as 5, -3, or 0.\n",
    "\n",
    "- Floating-Point Numbers: These are decimal numbers, such as 3.14 or -2.5.\n",
    "    \n",
    "- Complex Numbers: These are numbers with both real and imaginary parts, such as 2+3j.\n",
    "\n",
    "### Boolean Type:\n",
    "\n",
    "- True and False."
   ]
  },
  {
   "cell_type": "markdown",
   "id": "8b92c8b5",
   "metadata": {
    "slideshow": {
     "slide_type": "slide"
    }
   },
   "source": [
    "### Sequence Types:\n",
    "    \n",
    "- Strings: These are sequences of characters, such as \"Hello, World!\" or 'Python'.\n",
    "- Lists: These are ordered sequences of values, which can be of different types, such as [1, 2, 3] or ['apple', 'banana', 'cherry'].\n",
    "- Tuples: These are ordered sequences of values, which can be of different types, but are immutable (cannot be changed), such as (1, 2, 3) or ('apple', 'banana', 'cherry').\n",
    "- Range objects: These are sequences of numbers, created using the range() function, such as range(10) or range(1, 11, 2)."
   ]
  },
  {
   "cell_type": "markdown",
   "id": "f69038e5",
   "metadata": {
    "slideshow": {
     "slide_type": "slide"
    }
   },
   "source": [
    "### Set Types:\n",
    "    \n",
    "- Sets: These are unordered collections of unique elements, such as {1, 2, 3} or {'apple', 'banana', 'cherry'}.\n",
    "    \n",
    "- Frozensets: These are immutable sets, such as frozenset({1, 2, 3}).\n",
    "\n",
    "### Mapping Types:\n",
    "    \n",
    "- Dictionaries: These are unordered collections of key-value pairs, such as {'name': 'John', 'age': 25}.\n",
    "\n",
    "### Binary Types:\n",
    "    \n",
    "- Bytes: These are sequences of integers in the range 0-255, representing bytes of data, such as b'hello'.\n",
    "    \n",
    "- Bytearrays: These are mutable versions of bytes, which can be changed in place."
   ]
  },
  {
   "cell_type": "markdown",
   "id": "5fc976aa",
   "metadata": {
    "slideshow": {
     "slide_type": "slide"
    }
   },
   "source": [
    "## Control structures: \n",
    "\n",
    "Python provides several control structures that allow you to change the flow of a program's execution. Here are the main control structures in Python:\n",
    "\n",
    "### Conditional statements: These allow you to execute different blocks of code based on a condition.\n",
    "\n",
    "The syntax of conditional statements is as follows:"
   ]
  },
  {
   "cell_type": "code",
   "execution_count": 11,
   "id": "82b99040",
   "metadata": {},
   "outputs": [
    {
     "name": "stdout",
     "output_type": "stream",
     "text": [
      "x is positive\n"
     ]
    }
   ],
   "source": [
    "x = 5\n",
    "\n",
    "if x > 0:\n",
    "    print(\"x is positive\")\n",
    "elif x < 0:\n",
    "    print(\"x is negative\")\n",
    "else:\n",
    "    print(\"x is zero\")"
   ]
  },
  {
   "cell_type": "markdown",
   "id": "c33c2e3a",
   "metadata": {
    "slideshow": {
     "slide_type": "slide"
    }
   },
   "source": [
    "### Loops: These allow you to repeat a block of code multiple times.\n",
    "\n",
    "Python has two types of loops:\n",
    "\n",
    "#### For loop: This loop iterates over a sequence of elements, such as a list or a string.\n",
    "\n",
    "The syntax of a for loop is as follows:"
   ]
  },
  {
   "cell_type": "code",
   "execution_count": 5,
   "id": "4de0d261",
   "metadata": {},
   "outputs": [
    {
     "name": "stdout",
     "output_type": "stream",
     "text": [
      "apple\n",
      "banana\n",
      "cherry\n"
     ]
    }
   ],
   "source": [
    "fruits = [\"apple\", \"banana\", \"cherry\"]\n",
    "\n",
    "for fruit in fruits:\n",
    "    print(fruit)"
   ]
  },
  {
   "cell_type": "markdown",
   "id": "3d6bb80e",
   "metadata": {},
   "source": [
    "#### While loop: This loop executes a block of code as long as a condition is True.\n",
    "\n",
    "The syntax of a while loop is as follows:"
   ]
  },
  {
   "cell_type": "code",
   "execution_count": 6,
   "id": "7adbf739",
   "metadata": {},
   "outputs": [
    {
     "name": "stdout",
     "output_type": "stream",
     "text": [
      "0\n",
      "1\n",
      "2\n",
      "3\n",
      "4\n"
     ]
    }
   ],
   "source": [
    "i = 0\n",
    "\n",
    "while i < 5:\n",
    "    print(i)\n",
    "    i += 1"
   ]
  },
  {
   "cell_type": "markdown",
   "id": "32046e9a",
   "metadata": {
    "slideshow": {
     "slide_type": "slide"
    }
   },
   "source": [
    "### Control statements: These allow you to change the flow of a loop or a function.\n",
    "\n",
    "Python has three types of control statements:\n",
    "\n",
    "#### Break: \n",
    "- This statement terminates a loop prematurely."
   ]
  },
  {
   "cell_type": "code",
   "execution_count": 7,
   "id": "f7ba0b71",
   "metadata": {},
   "outputs": [
    {
     "name": "stdout",
     "output_type": "stream",
     "text": [
      "apple\n"
     ]
    }
   ],
   "source": [
    "fruits = [\"apple\", \"banana\", \"cherry\"]\n",
    "\n",
    "for fruit in fruits:\n",
    "    if fruit == \"banana\":\n",
    "        break\n",
    "    print(fruit)\n"
   ]
  },
  {
   "cell_type": "markdown",
   "id": "a051d977",
   "metadata": {},
   "source": [
    "#### Continue: \n",
    "- This statement skips the current iteration of a loop and goes to the next one."
   ]
  },
  {
   "cell_type": "code",
   "execution_count": 8,
   "id": "b893def2",
   "metadata": {},
   "outputs": [
    {
     "name": "stdout",
     "output_type": "stream",
     "text": [
      "apple\n",
      "cherry\n"
     ]
    }
   ],
   "source": [
    "fruits = [\"apple\", \"banana\", \"cherry\"]\n",
    "\n",
    "for fruit in fruits:\n",
    "    if fruit == \"banana\":\n",
    "        continue\n",
    "    print(fruit)\n"
   ]
  },
  {
   "cell_type": "markdown",
   "id": "8a0a3b29",
   "metadata": {},
   "source": [
    "#### Return: \n",
    "- This statement exits a function and returns a value."
   ]
  },
  {
   "cell_type": "code",
   "execution_count": 9,
   "id": "91594e17",
   "metadata": {},
   "outputs": [
    {
     "name": "stdout",
     "output_type": "stream",
     "text": [
      "8\n"
     ]
    }
   ],
   "source": [
    "def add_numbers(x, y):\n",
    "    return x + y\n",
    "\n",
    "result = add_numbers(3, 5)\n",
    "\n",
    "print(result)  # Output: 8\n"
   ]
  },
  {
   "cell_type": "markdown",
   "id": "d0c4917a",
   "metadata": {
    "slideshow": {
     "slide_type": "slide"
    }
   },
   "source": [
    "## Functions: \n",
    "\n",
    "In Python, a function is a block of code that performs a specific task and can be reused throughout a program. Functions can take input arguments, perform operations on those inputs, and return results.\n",
    "\n",
    "Here's the basic syntax of a function in Python:"
   ]
  },
  {
   "cell_type": "code",
   "execution_count": null,
   "id": "fe6d91ed",
   "metadata": {},
   "outputs": [],
   "source": [
    "def function_name(argument1, argument2, ...):\n",
    "    # code to perform the function's task\n",
    "    # return result\n",
    "    pass"
   ]
  },
  {
   "cell_type": "markdown",
   "id": "c81956eb",
   "metadata": {},
   "source": [
    "The keyword 'def' is used to define a function, followed by the function's name and its input arguments in parentheses. The colon : signifies the start of the function's code block, which must be indented. The return statement is used to send the function's result back to the caller.\n",
    "\n",
    "Here's an example function that takes two numbers as input arguments and returns their sum:"
   ]
  },
  {
   "cell_type": "code",
   "execution_count": 8,
   "id": "144336f3",
   "metadata": {},
   "outputs": [],
   "source": [
    "def add_numbers(x, y):\n",
    "    result = x + y\n",
    "    return result"
   ]
  },
  {
   "cell_type": "markdown",
   "id": "267b4495",
   "metadata": {},
   "source": [
    "To call this function, you simply pass in the required arguments, like this:"
   ]
  },
  {
   "cell_type": "code",
   "execution_count": 73,
   "id": "5bffaf59",
   "metadata": {},
   "outputs": [
    {
     "name": "stdout",
     "output_type": "stream",
     "text": [
      "12\n"
     ]
    }
   ],
   "source": [
    "sum1 = add_numbers(5, 7)\n",
    "print(sum1)  # Output: 12"
   ]
  },
  {
   "cell_type": "markdown",
   "id": "f364bd8f",
   "metadata": {},
   "source": [
    "In Python, functions can also have default arguments, which are used if no value is provided for that argument. Here's an example:"
   ]
  },
  {
   "cell_type": "code",
   "execution_count": 12,
   "id": "550325f3",
   "metadata": {},
   "outputs": [],
   "source": [
    "def greet(name, greeting=\"Hello\"):\n",
    "    print(greeting + \", \" + name + \"!\")"
   ]
  },
  {
   "cell_type": "markdown",
   "id": "7da9e7fc",
   "metadata": {},
   "source": [
    "In this case, the greeting argument has a default value of \"Hello\". If you call the function with only one argument, like this"
   ]
  },
  {
   "cell_type": "code",
   "execution_count": 75,
   "id": "52b89835",
   "metadata": {},
   "outputs": [
    {
     "name": "stdout",
     "output_type": "stream",
     "text": [
      "Hi, Alice!\n"
     ]
    }
   ],
   "source": [
    "greet(\"Alice\", \"Hi\")"
   ]
  },
  {
   "cell_type": "markdown",
   "id": "ced3dc4f",
   "metadata": {},
   "source": [
    "The function will use the default value for greeting and output \"Hello, Alice!\".\n",
    "\n",
    "Functions in Python can also accept a variable number of arguments. This is useful when you don't know how many arguments will be passed in advance. Here's an example:\n"
   ]
  },
  {
   "cell_type": "code",
   "execution_count": 76,
   "id": "7836d18c",
   "metadata": {},
   "outputs": [],
   "source": [
    "def calculate_average(*numbers):\n",
    "    total = sum(numbers)\n",
    "    count = len(numbers)\n",
    "    average = total / count\n",
    "    return average"
   ]
  },
  {
   "cell_type": "markdown",
   "id": "57be7b64",
   "metadata": {},
   "source": [
    "In this case, the *numbers syntax tells Python to accept any number of arguments and pack them into a tuple. You can call this function with any number of arguments, like this:"
   ]
  },
  {
   "cell_type": "code",
   "execution_count": 15,
   "id": "779bd7b8",
   "metadata": {},
   "outputs": [
    {
     "name": "stdout",
     "output_type": "stream",
     "text": [
      "5.0\n"
     ]
    }
   ],
   "source": [
    "result = calculate_average(2, 4, 6, 8)\n",
    "print(result)  # Output: 5.0"
   ]
  },
  {
   "cell_type": "markdown",
   "id": "8b00d50d",
   "metadata": {},
   "source": [
    "Finally, Python also allows functions to return multiple values as a tuple. Here's an example:"
   ]
  },
  {
   "cell_type": "code",
   "execution_count": 16,
   "id": "648e7f87",
   "metadata": {},
   "outputs": [],
   "source": [
    "def get_name_and_age():\n",
    "    name = \"Alice\"\n",
    "    age = 30\n",
    "    return name, age"
   ]
  },
  {
   "cell_type": "markdown",
   "id": "fc4aa737",
   "metadata": {},
   "source": [
    "To call this function and get its return values, you can use tuple unpacking like this:"
   ]
  },
  {
   "cell_type": "code",
   "execution_count": 17,
   "id": "2a321aca",
   "metadata": {},
   "outputs": [
    {
     "name": "stdout",
     "output_type": "stream",
     "text": [
      "Alice\n",
      "30\n"
     ]
    }
   ],
   "source": [
    "name, age = get_name_and_age()\n",
    "print(name)  # Output: \"Alice\"\n",
    "print(age)   # Output: 30"
   ]
  },
  {
   "cell_type": "markdown",
   "id": "0f27bd00",
   "metadata": {
    "slideshow": {
     "slide_type": "slide"
    }
   },
   "source": [
    "## Libraries in Python\n",
    "\n",
    "In Python, a library is a collection of modules that can be imported and used in a program to provide additional functionality. There are many libraries available in Python, covering a wide range of applications from scientific computing to web development. Here are some of the most commonly used libraries in Python:\n",
    "\n",
    "- NumPy: This library provides support for numerical operations and mathematical functions, including arrays, linear algebra, and Fourier transforms.\n",
    "\n",
    "- Pandas: This library provides tools for data analysis and manipulation, including data structures like data frames and tools for reading and writing data in various formats.\n",
    "\n",
    "- Matplotlib: This library provides tools for creating data visualizations, including charts, graphs, and histograms.\n",
    "\n",
    "- SciPy: This library provides advanced scientific computing tools, including optimization, signal processing, and statistics.\n",
    "\n",
    "- TensorFlow: This library provides tools for machine learning and deep learning, including neural networks, training algorithms, and model evaluation.\n",
    "\n",
    "- Flask: This library provides tools for building web applications, including routing, templates, and request handling.\n",
    "\n",
    "- Requests: This library provides tools for sending HTTP requests and handling responses, including authentication, cookies, and proxies.\n",
    "\n",
    "- Beautiful Soup: This library provides tools for web scraping, including parsing HTML and XML documents and extracting data from them."
   ]
  },
  {
   "cell_type": "markdown",
   "id": "1bca02d4",
   "metadata": {},
   "source": [
    "To use a library in a Python program, you first need to install it using a package manager like pip. Once installed, you can import the library and use its functions and classes in your program. For example, to import the NumPy library and create an array of random numbers, you can use the following code:"
   ]
  },
  {
   "cell_type": "code",
   "execution_count": 18,
   "id": "825732f0",
   "metadata": {},
   "outputs": [
    {
     "name": "stdout",
     "output_type": "stream",
     "text": [
      "[0.54551479 0.58689657 0.14800275 0.18529683 0.00682192]\n"
     ]
    }
   ],
   "source": [
    "import numpy as np\n",
    "\n",
    "# Create an array of random numbers\n",
    "arr = np.random.rand(5)\n",
    "\n",
    "print(arr)  # Output: [0.69133188 0.04159849 0.07120902 0.63135726 0.14760516]"
   ]
  },
  {
   "cell_type": "code",
   "execution_count": 19,
   "id": "861bd4d5",
   "metadata": {},
   "outputs": [],
   "source": [
    "from builtins import *\n",
    "import pandas"
   ]
  },
  {
   "cell_type": "markdown",
   "id": "053c2346",
   "metadata": {},
   "source": [
    "In this example, import numpy as np imports the NumPy library and assigns it the alias np for convenience. The np.random.rand(5) function creates an array of 5 random numbers between 0 and 1, which is then printed to the console using print(arr)."
   ]
  },
  {
   "cell_type": "markdown",
   "id": "267cd82f",
   "metadata": {
    "slideshow": {
     "slide_type": "slide"
    }
   },
   "source": [
    "## Reserved Keywords\n",
    "\n",
    "Reserved Keywords in python and their applications\n",
    "In Python, reserved keywords are words that have a special meaning and cannot be used as variable names or identifiers in your code. These keywords are reserved for specific purposes within the language, and attempting to use them as variable names or identifiers will result in a syntax error.\n",
    "\n",
    "Here are some of the reserved keywords in Python:\n",
    "\n",
    "1.\tand: Used to combine two Boolean expressions and return True only if both expressions are true.\n",
    "\n",
    "2.\tas: Used to create an alias for a module or function, allowing you to refer to it using a different name.\n",
    "\n",
    "3.\tassert: Used to check if a condition is true, and raise an exception if it is not.\n",
    "\n",
    "4.\tbreak: Used to exit a loop prematurely.\n",
    "\n",
    "5.\tclass: Used to define a new class.\n",
    "\n",
    "6.\tcontinue: Used to skip the current iteration of a loop and move on to the next one.\n",
    "\n",
    "7.\tdef: Used to define a new function.\n",
    "\n",
    "8.\tdel: Used to delete a variable or object.\n",
    "\n",
    "9.\telif: Used to specify an alternative condition to an if statement.\n",
    "\n",
    "10.\telse: Used to specify what to do if a condition in an if statement is not true.\n",
    "\n",
    "11.\texcept: Used to handle exceptions in a try-except block.\n",
    "\n",
    "12.\tFalse: A Boolean value that represents false.\n",
    "\n",
    "13.\tfinally: Used to specify code that should be executed regardless of whether an exception was raised or not.\n",
    "\n",
    "14.\tfor: Used to iterate over a sequence of values.\n",
    "\n",
    "15.\tfrom: Used to import specific attributes or functions from a module.\n",
    "\n",
    "16.\tglobal: Used to specify that a variable should be treated as a global variable.\n",
    "\n",
    "17.\tif: Used to specify a condition to test.\n",
    "\n",
    "18.\timport: Used to import a module.\n",
    "\n",
    "19.\tin: Used to check if a value is in a sequence.\n",
    "\n",
    "20.\tis: Used to check if two objects are the same object in memory.\n",
    "\n",
    "21.\tlambda: Used to create an anonymous function.\n",
    "\n",
    "22.\tNone: A special value that represents no value or absence of a value.\n",
    "\n",
    "23.\tnonlocal: Used to specify that a variable should be treated as a nonlocal variable.\n",
    "\n",
    "24.\tnot: Used to negate a Boolean expression.\n",
    "\n",
    "25.\tor: Used to combine two Boolean expressions and return True if at least one expression is true.\n",
    "\n",
    "26.\tpass: Used as a placeholder where code needs to be written but not yet implemented.\n",
    "\n",
    "27.\traise: Used to raise an exception.\n",
    "\n",
    "28.\treturn: Used to return a value from a function.\n",
    "\n",
    "29.\tTrue: A Boolean value that represents true.\n",
    "\n",
    "30.\ttry: Used to enclose code that might raise an exception.\n",
    "\n",
    "31.\twhile: Used to repeat a block of code while a condition is true.\n",
    "\n",
    "32.\twith: Used to create a context in which a resource is used, ensuring that the resource is cleaned up when the context is exited.\n",
    "\n",
    "33.\tyield: Used in a generator function to yield a value to the caller.\n",
    "\n",
    "It is important to note that you cannot use any of these keywords as variable names or identifiers in your code. Doing so will result in a syntax error.\n"
   ]
  },
  {
   "cell_type": "markdown",
   "id": "f7b1e066",
   "metadata": {
    "slideshow": {
     "slide_type": "slide"
    }
   },
   "source": [
    "## Comment"
   ]
  },
  {
   "cell_type": "markdown",
   "id": "0853696c",
   "metadata": {},
   "source": [
    "There are different types of comment styles that can be used in Python, and the choice of style is often a matter of personal preference or adherence to a particular coding style guide. Here are some commonly used comment styles in Python:\n",
    "\n",
    "###  Single-line comments: \n",
    "\n",
    "Single-line comments start with the \"#\" symbol and are used to add brief comments to a single line of code. For example:"
   ]
  },
  {
   "cell_type": "code",
   "execution_count": 12,
   "id": "1e08bb78",
   "metadata": {},
   "outputs": [],
   "source": [
    "# This is a single-line comment\n",
    "x = 5  # This is a comment on the same line as code"
   ]
  },
  {
   "cell_type": "markdown",
   "id": "a878d0be",
   "metadata": {},
   "source": [
    "### Multi-line comments: \n",
    "\n",
    "Multi-line comments are enclosed in triple quotes (\"\"\") and can span multiple lines. They are often used to provide detailed explanations of code or to temporarily disable sections of code. For example:"
   ]
  },
  {
   "cell_type": "code",
   "execution_count": 13,
   "id": "4e5fa26c",
   "metadata": {},
   "outputs": [
    {
     "data": {
      "text/plain": [
       "'\\nThis is a multi-line comment\\nthat spans multiple lines.\\n'"
      ]
     },
     "execution_count": 13,
     "metadata": {},
     "output_type": "execute_result"
    }
   ],
   "source": [
    "\"\"\"\n",
    "This is a multi-line comment\n",
    "that spans multiple lines.\n",
    "\"\"\""
   ]
  },
  {
   "cell_type": "markdown",
   "id": "9c1e84d8",
   "metadata": {},
   "source": [
    "### Docstrings: \n",
    "\n",
    "Docstrings are similar to multi-line comments, but they are used to document functions, modules, and classes in Python. Docstrings are enclosed in triple quotes and are written at the beginning of a function, module, or class. For example:"
   ]
  },
  {
   "cell_type": "code",
   "execution_count": 14,
   "id": "3cddcec7",
   "metadata": {},
   "outputs": [],
   "source": [
    "def my_function():\n",
    "    \"\"\"\n",
    "    This is a docstring for my_function.\n",
    "    It should describe what the function does,\n",
    "    what parameters it takes, and what it returns.\n",
    "    \"\"\"\n",
    "    # Function code here\n"
   ]
  },
  {
   "cell_type": "markdown",
   "id": "22a1b2c2",
   "metadata": {},
   "source": [
    "### Inline comments: \n",
    "\n",
    "Inline comments are comments that are placed on the same line as code, usually to explain a specific line of code. However, inline comments should be used sparingly and only when necessary, as they can make code harder to read. For example:"
   ]
  },
  {
   "cell_type": "code",
   "execution_count": 15,
   "id": "a2e7e7ee",
   "metadata": {},
   "outputs": [],
   "source": [
    "x = 5  # Initialize variable x to 5"
   ]
  },
  {
   "cell_type": "markdown",
   "id": "2ebd0296",
   "metadata": {},
   "source": [
    "In general, it is important to use comments in Python code to improve its readability and maintainability. However, it is also important to use comments judiciously and to follow a consistent commenting style to make the code easier to understand and maintain."
   ]
  },
  {
   "cell_type": "markdown",
   "id": "09c507c8",
   "metadata": {
    "slideshow": {
     "slide_type": "slide"
    }
   },
   "source": [
    "### Assigning values to Variables"
   ]
  },
  {
   "cell_type": "code",
   "execution_count": 16,
   "id": "33d29b97",
   "metadata": {},
   "outputs": [
    {
     "name": "stdout",
     "output_type": "stream",
     "text": [
      "2 3\n"
     ]
    }
   ],
   "source": [
    "a=2\n",
    "b=3\n",
    "print(a,b)"
   ]
  },
  {
   "cell_type": "code",
   "execution_count": 17,
   "id": "5a6b632e",
   "metadata": {},
   "outputs": [
    {
     "name": "stdout",
     "output_type": "stream",
     "text": [
      "3 4\n"
     ]
    }
   ],
   "source": [
    "x,y=3,4\n",
    "print(x,y)"
   ]
  },
  {
   "cell_type": "code",
   "execution_count": 18,
   "id": "22d56acf",
   "metadata": {},
   "outputs": [
    {
     "name": "stdout",
     "output_type": "stream",
     "text": [
      "1\n",
      "1\n",
      "2\n",
      "3\n"
     ]
    }
   ],
   "source": [
    "x=y=1\n",
    "print(x)\n",
    "print(y)\n",
    "y=2\n",
    "print(y)\n",
    "print(x+y)"
   ]
  },
  {
   "cell_type": "code",
   "execution_count": 19,
   "id": "ef8aa890",
   "metadata": {},
   "outputs": [
    {
     "data": {
      "text/plain": [
       "'Some String'"
      ]
     },
     "execution_count": 19,
     "metadata": {},
     "output_type": "execute_result"
    }
   ],
   "source": [
    "x='Some String'\n",
    "x"
   ]
  },
  {
   "cell_type": "code",
   "execution_count": 20,
   "id": "dc57ebe5",
   "metadata": {},
   "outputs": [
    {
     "data": {
      "text/plain": [
       "'Some StringAnother String'"
      ]
     },
     "execution_count": 20,
     "metadata": {},
     "output_type": "execute_result"
    }
   ],
   "source": [
    "y=\"Another String\"\n",
    "x+y"
   ]
  },
  {
   "cell_type": "code",
   "execution_count": 21,
   "id": "3896dc87",
   "metadata": {},
   "outputs": [
    {
     "data": {
      "text/plain": [
       "(5.4, 3, 'Manoj')"
      ]
     },
     "execution_count": 21,
     "metadata": {},
     "output_type": "execute_result"
    }
   ],
   "source": [
    "x,y,z=\"Manoj\", 3, 5.4\n",
    "z,y,x"
   ]
  },
  {
   "cell_type": "markdown",
   "id": "48e0beeb",
   "metadata": {
    "slideshow": {
     "slide_type": "slide"
    }
   },
   "source": [
    "\n",
    "# Standard Datatypes\n",
    "\n",
    "1. Number\n",
    "2. String\n",
    "3. List\n",
    "4. Tuples\n",
    "5. Dictionary"
   ]
  },
  {
   "cell_type": "code",
   "execution_count": 22,
   "id": "28133072",
   "metadata": {
    "slideshow": {
     "slide_type": "slide"
    }
   },
   "outputs": [
    {
     "data": {
      "text/plain": [
       "(1, -2, 0)"
      ]
     },
     "execution_count": 22,
     "metadata": {},
     "output_type": "execute_result"
    }
   ],
   "source": [
    "int_1,int_2,int_3=1, -2, 0\n",
    "int_1,int_2,int_3"
   ]
  },
  {
   "cell_type": "code",
   "execution_count": 23,
   "id": "b0d8481a",
   "metadata": {},
   "outputs": [
    {
     "data": {
      "text/plain": [
       "3.1454373367"
      ]
     },
     "execution_count": 23,
     "metadata": {},
     "output_type": "execute_result"
    }
   ],
   "source": [
    "float_1=3.1454373367\n",
    "float_1"
   ]
  },
  {
   "cell_type": "code",
   "execution_count": 24,
   "id": "ed797cb7",
   "metadata": {
    "slideshow": {
     "slide_type": "-"
    }
   },
   "outputs": [
    {
     "data": {
      "text/plain": [
       "3.14544"
      ]
     },
     "execution_count": 24,
     "metadata": {},
     "output_type": "execute_result"
    }
   ],
   "source": [
    "round(float_1,5)"
   ]
  },
  {
   "cell_type": "code",
   "execution_count": 25,
   "id": "cfcee818",
   "metadata": {},
   "outputs": [
    {
     "data": {
      "text/plain": [
       "int"
      ]
     },
     "execution_count": 25,
     "metadata": {},
     "output_type": "execute_result"
    }
   ],
   "source": [
    "Long_1=124325849879460000005165156616543   # Long Number ????\n",
    "type(Long_1)"
   ]
  },
  {
   "cell_type": "code",
   "execution_count": 26,
   "id": "0c02639d",
   "metadata": {},
   "outputs": [
    {
     "data": {
      "text/plain": [
       "(2+4.34j)"
      ]
     },
     "execution_count": 26,
     "metadata": {},
     "output_type": "execute_result"
    }
   ],
   "source": [
    "complex_1,complex_2=3.14j, 2+1.2j\n",
    "complex_2+complex_1"
   ]
  },
  {
   "cell_type": "markdown",
   "id": "ce589b7d",
   "metadata": {
    "slideshow": {
     "slide_type": "slide"
    }
   },
   "source": [
    "## String"
   ]
  },
  {
   "cell_type": "code",
   "execution_count": 27,
   "id": "a48260ee",
   "metadata": {},
   "outputs": [
    {
     "data": {
      "text/plain": [
       "'abcdefghij'"
      ]
     },
     "execution_count": 27,
     "metadata": {},
     "output_type": "execute_result"
    }
   ],
   "source": [
    "str=\"abcdefghij\"\n",
    "str"
   ]
  },
  {
   "cell_type": "code",
   "execution_count": 28,
   "id": "8b4bc7d9",
   "metadata": {},
   "outputs": [
    {
     "name": "stdout",
     "output_type": "stream",
     "text": [
      "abcdefghij\n",
      "a\n",
      "abc\n",
      "bcd\n",
      "h\n"
     ]
    }
   ],
   "source": [
    "### indexing and Slicing\n",
    "print(str)       # 0123456789\n",
    "print(str[0])    # 0\n",
    "print(str[0:3])  # 012\n",
    "print(str[1:4])  # 123\n",
    "print(str[-3])   # 7"
   ]
  },
  {
   "cell_type": "code",
   "execution_count": 29,
   "id": "f078200c",
   "metadata": {},
   "outputs": [
    {
     "data": {
      "text/plain": [
       "'Hello Hello Hello '"
      ]
     },
     "execution_count": 29,
     "metadata": {},
     "output_type": "execute_result"
    }
   ],
   "source": [
    "str=\"Hello \"\n",
    "str+str+str"
   ]
  },
  {
   "cell_type": "code",
   "execution_count": 30,
   "id": "8e54b64f",
   "metadata": {},
   "outputs": [
    {
     "name": "stdout",
     "output_type": "stream",
     "text": [
      "The t-statistics value is 0.45601, so the pvalue is 0.002\n"
     ]
    }
   ],
   "source": [
    "tstat=0.456005498\n",
    "pval=0.002\n",
    "print(\"The t-statistics value is %.5f, so the pvalue is %.3f\"%(tstat,pval))"
   ]
  },
  {
   "cell_type": "markdown",
   "id": "047a0c80",
   "metadata": {
    "slideshow": {
     "slide_type": "slide"
    }
   },
   "source": [
    "## Lists"
   ]
  },
  {
   "cell_type": "code",
   "execution_count": 31,
   "id": "3ef187a3",
   "metadata": {},
   "outputs": [
    {
     "data": {
      "text/plain": [
       "['Manoj', 816, 2009, 'Asst Prof', [2, 3, 4]]"
      ]
     },
     "execution_count": 31,
     "metadata": {},
     "output_type": "execute_result"
    }
   ],
   "source": [
    "list=[\"Manoj\",816,2009,\"Asst Prof\",[2,3,4]]\n",
    "list"
   ]
  },
  {
   "cell_type": "code",
   "execution_count": 32,
   "id": "eb0e4bc0",
   "metadata": {},
   "outputs": [
    {
     "data": {
      "text/plain": [
       "2"
      ]
     },
     "execution_count": 32,
     "metadata": {},
     "output_type": "execute_result"
    }
   ],
   "source": [
    "list2=[list, 23.6]\n",
    "len(list2)"
   ]
  },
  {
   "cell_type": "code",
   "execution_count": 33,
   "id": "d53ffc2e",
   "metadata": {},
   "outputs": [
    {
     "data": {
      "text/plain": [
       "[1, 2, 3, 4, 5, 6]"
      ]
     },
     "execution_count": 33,
     "metadata": {},
     "output_type": "execute_result"
    }
   ],
   "source": [
    "list1, list2 =[1,2,3], [4,5,6]\n",
    "list1+list2"
   ]
  },
  {
   "cell_type": "code",
   "execution_count": 34,
   "id": "ca12944e",
   "metadata": {},
   "outputs": [
    {
     "data": {
      "text/plain": [
       "15"
      ]
     },
     "execution_count": 34,
     "metadata": {},
     "output_type": "execute_result"
    }
   ],
   "source": [
    "len(list*3)"
   ]
  },
  {
   "cell_type": "markdown",
   "id": "0c99ca20",
   "metadata": {
    "slideshow": {
     "slide_type": "slide"
    }
   },
   "source": [
    "## Oprations on List"
   ]
  },
  {
   "cell_type": "code",
   "execution_count": 35,
   "id": "8c728d2c",
   "metadata": {
    "slideshow": {
     "slide_type": "-"
    }
   },
   "outputs": [
    {
     "name": "stdout",
     "output_type": "stream",
     "text": [
      "6\n",
      "2\n",
      "[2, 4, 5, 6, 2, 3, 5]\n",
      "11\n",
      "[3, 4, 5, 6, 2, 3, 5, 5, 8, 9, 0]\n"
     ]
    }
   ],
   "source": [
    "List1=[2,4,5,6,2,3]\n",
    "print(max(List1))\n",
    "print(min(List1))\n",
    "List1.append(5)\n",
    "print(List1)\n",
    "List1.extend([5,8,9,0])\n",
    "print(len(List1))\n",
    "List1[0]=3 # Modification\n",
    "print(List1)"
   ]
  },
  {
   "cell_type": "code",
   "execution_count": 36,
   "id": "5039010d",
   "metadata": {},
   "outputs": [
    {
     "data": {
      "text/plain": [
       "['C', 'h', 'e', 't', 'a', 'n']"
      ]
     },
     "execution_count": 36,
     "metadata": {},
     "output_type": "execute_result"
    }
   ],
   "source": [
    "tre='Chetan'\n",
    "trelist=[]\n",
    "for i in tre:\n",
    "    trelist.append(i)\n",
    "trelist"
   ]
  },
  {
   "cell_type": "markdown",
   "id": "27ef488a",
   "metadata": {
    "slideshow": {
     "slide_type": "slide"
    }
   },
   "source": [
    "## Tuples"
   ]
  },
  {
   "cell_type": "code",
   "execution_count": 45,
   "id": "cc226524",
   "metadata": {},
   "outputs": [
    {
     "data": {
      "text/plain": [
       "('Manoj', 23, 1.2, 'Patil')"
      ]
     },
     "execution_count": 45,
     "metadata": {},
     "output_type": "execute_result"
    }
   ],
   "source": [
    "tuple1=('Manoj',23,1.2,'Patil')\n",
    "tuple1"
   ]
  },
  {
   "cell_type": "code",
   "execution_count": 46,
   "id": "9e8862e7",
   "metadata": {},
   "outputs": [
    {
     "data": {
      "text/plain": [
       "5"
      ]
     },
     "execution_count": 46,
     "metadata": {},
     "output_type": "execute_result"
    }
   ],
   "source": [
    "# tuple1[1]=35  #'tuple' object does not support item assignment\n",
    "List=['Manoj',23,1.2,'Patil']\n",
    "tuple2=(4,5,5,5,5,5)\n",
    "tuple3=tuple1+tuple2\n",
    "tuple3[-4:]\n",
    "tuple3.count(5)"
   ]
  },
  {
   "cell_type": "code",
   "execution_count": 47,
   "id": "c52d0360",
   "metadata": {
    "slideshow": {
     "slide_type": "subslide"
    }
   },
   "outputs": [
    {
     "name": "stdout",
     "output_type": "stream",
     "text": [
      "Max : 98\n",
      "Min : 1\n",
      "Sum : 238\n",
      "1 5\n",
      "2 3\n",
      "3 3\n",
      "4 3\n",
      "5 2\n",
      "98 2\n"
     ]
    }
   ],
   "source": [
    "tuple4=(1,1,1,1,1,2,2,2,3,3,3,4,5,4,5,4,98,98)\n",
    "print('Max :',max(tuple4))\n",
    "print('Min :',min(tuple4))\n",
    "print('Sum :',np.sum(tuple4))\n",
    "#print('Mean:',mean(tuple4))\n",
    "for item in set(tuple4):\n",
    "    print(item,tuple4.count(item))"
   ]
  },
  {
   "cell_type": "markdown",
   "id": "ac6c4ec7",
   "metadata": {
    "slideshow": {
     "slide_type": "slide"
    }
   },
   "source": [
    "## Dictionary"
   ]
  },
  {
   "cell_type": "code",
   "execution_count": 48,
   "id": "a4c815d4",
   "metadata": {},
   "outputs": [
    {
     "data": {
      "text/plain": [
       "{'Name': ['Manoj', 'Chetan'],\n",
       " 'Age': [35, 22],\n",
       " 'Edu': ['Stats', 'Actuarial'],\n",
       " 'Address': ['Jalgaon', 'Dhule']}"
      ]
     },
     "execution_count": 48,
     "metadata": {},
     "output_type": "execute_result"
    }
   ],
   "source": [
    "dict1={'Name':[\"Manoj\",\"Chetan\"],\n",
    "       'Age':[35, 22],\n",
    "       \"Edu\":[\"Stats\",\"Actuarial\"]}\n",
    "dict2={'Address':['Jalgaon','Dhule']}\n",
    "dict1.update(dict2)\n",
    "dict1"
   ]
  },
  {
   "cell_type": "code",
   "execution_count": 49,
   "id": "d50c2fb8",
   "metadata": {},
   "outputs": [
    {
     "name": "stdout",
     "output_type": "stream",
     "text": [
      "Key : Name value : ['Manoj', 'Chetan']\n",
      "Key : Age value : [35, 22]\n",
      "Key : Edu value : ['Stats', 'Actuarial']\n",
      "Key : Address value : ['Jalgaon', 'Dhule']\n"
     ]
    }
   ],
   "source": [
    "for key, value in dict1.items():\n",
    "    print(\"Key :\",key,\"value :\",value)"
   ]
  },
  {
   "cell_type": "code",
   "execution_count": 50,
   "id": "32140643",
   "metadata": {},
   "outputs": [
    {
     "data": {
      "text/plain": [
       "['Stats', 'Actuarial']"
      ]
     },
     "execution_count": 50,
     "metadata": {},
     "output_type": "execute_result"
    }
   ],
   "source": [
    "dict1.get('Edu')"
   ]
  },
  {
   "cell_type": "code",
   "execution_count": 51,
   "id": "ed615d78",
   "metadata": {
    "slideshow": {
     "slide_type": "slide"
    }
   },
   "outputs": [
    {
     "data": {
      "text/plain": [
       "['Manoj', 35, 'stat']"
      ]
     },
     "execution_count": 51,
     "metadata": {},
     "output_type": "execute_result"
    }
   ],
   "source": [
    "list1=[\"Manoj\",35,'stat']\n",
    "list1"
   ]
  },
  {
   "cell_type": "code",
   "execution_count": 52,
   "id": "07cd091d",
   "metadata": {},
   "outputs": [
    {
     "data": {
      "text/plain": [
       "[3, 1, 2, 2, 4, 2, 3]"
      ]
     },
     "execution_count": 52,
     "metadata": {},
     "output_type": "execute_result"
    }
   ],
   "source": [
    "list2=[3,1,2]\n",
    "list2+=[2,4,2,3]\n",
    "list2"
   ]
  },
  {
   "cell_type": "code",
   "execution_count": 53,
   "id": "0aece4e5",
   "metadata": {},
   "outputs": [],
   "source": [
    "set1=set(list2)"
   ]
  },
  {
   "cell_type": "code",
   "execution_count": 54,
   "id": "fe56c2fa",
   "metadata": {},
   "outputs": [
    {
     "data": {
      "text/plain": [
       "{1, 2, 3, 4}"
      ]
     },
     "execution_count": 54,
     "metadata": {},
     "output_type": "execute_result"
    }
   ],
   "source": [
    "set1"
   ]
  },
  {
   "cell_type": "code",
   "execution_count": 55,
   "id": "610ad317",
   "metadata": {},
   "outputs": [],
   "source": [
    "#set1[1] # 'set' object is not subscriptable"
   ]
  },
  {
   "cell_type": "markdown",
   "id": "b1f344e3",
   "metadata": {
    "slideshow": {
     "slide_type": "slide"
    }
   },
   "source": [
    "# Operators\n",
    "\n",
    "* Arithmatic     +, - , *, /, %, //, **\n",
    "\n",
    "* Comparison      < > == !=, <=, >=\n",
    "\n",
    "* Assignment     =, -=, +=, *=, /=, //=, %=, **=\n",
    "\n",
    "* Logical         and   &&, or |, not  !\n",
    "\n",
    "* Boolean          &, |, ^, ~"
   ]
  },
  {
   "cell_type": "code",
   "execution_count": 56,
   "id": "7ed70683",
   "metadata": {
    "slideshow": {
     "slide_type": "slide"
    }
   },
   "outputs": [],
   "source": [
    "x,y=2,3"
   ]
  },
  {
   "cell_type": "code",
   "execution_count": 57,
   "id": "b0342211",
   "metadata": {},
   "outputs": [
    {
     "data": {
      "text/plain": [
       "8"
      ]
     },
     "execution_count": 57,
     "metadata": {},
     "output_type": "execute_result"
    }
   ],
   "source": [
    "x**y"
   ]
  },
  {
   "cell_type": "code",
   "execution_count": 58,
   "id": "5b95e7a3",
   "metadata": {},
   "outputs": [
    {
     "data": {
      "text/plain": [
       "False"
      ]
     },
     "execution_count": 58,
     "metadata": {},
     "output_type": "execute_result"
    }
   ],
   "source": [
    "x==y"
   ]
  },
  {
   "cell_type": "code",
   "execution_count": 59,
   "id": "5081a7af",
   "metadata": {},
   "outputs": [
    {
     "data": {
      "text/plain": [
       "True"
      ]
     },
     "execution_count": 59,
     "metadata": {},
     "output_type": "execute_result"
    }
   ],
   "source": [
    "x!=y"
   ]
  },
  {
   "cell_type": "code",
   "execution_count": 60,
   "id": "88396b4a",
   "metadata": {},
   "outputs": [],
   "source": [
    "#x<>y"
   ]
  },
  {
   "cell_type": "code",
   "execution_count": 61,
   "id": "45483b8e",
   "metadata": {
    "slideshow": {
     "slide_type": "subslide"
    }
   },
   "outputs": [
    {
     "data": {
      "text/plain": [
       "1.5"
      ]
     },
     "execution_count": 61,
     "metadata": {},
     "output_type": "execute_result"
    }
   ],
   "source": [
    "y/x"
   ]
  },
  {
   "cell_type": "code",
   "execution_count": 62,
   "id": "fdd3d288",
   "metadata": {},
   "outputs": [
    {
     "data": {
      "text/plain": [
       "1"
      ]
     },
     "execution_count": 62,
     "metadata": {},
     "output_type": "execute_result"
    }
   ],
   "source": [
    "y//x  # integer division"
   ]
  },
  {
   "cell_type": "code",
   "execution_count": 63,
   "id": "e47564b6",
   "metadata": {},
   "outputs": [
    {
     "data": {
      "text/plain": [
       "1"
      ]
     },
     "execution_count": 63,
     "metadata": {},
     "output_type": "execute_result"
    }
   ],
   "source": [
    "y%x   # reminder"
   ]
  },
  {
   "cell_type": "code",
   "execution_count": 64,
   "id": "fd2c0ef7",
   "metadata": {},
   "outputs": [],
   "source": [
    "y+=x   # y = y+x"
   ]
  },
  {
   "cell_type": "code",
   "execution_count": 65,
   "id": "769eea8b",
   "metadata": {},
   "outputs": [
    {
     "data": {
      "text/plain": [
       "5"
      ]
     },
     "execution_count": 65,
     "metadata": {},
     "output_type": "execute_result"
    }
   ],
   "source": [
    "y"
   ]
  },
  {
   "cell_type": "markdown",
   "id": "5a4b08df",
   "metadata": {
    "slideshow": {
     "slide_type": "slide"
    }
   },
   "source": [
    "# Some Functions"
   ]
  },
  {
   "cell_type": "code",
   "execution_count": 66,
   "id": "6a9e065b",
   "metadata": {},
   "outputs": [
    {
     "data": {
      "text/plain": [
       "34.563529645"
      ]
     },
     "execution_count": 66,
     "metadata": {},
     "output_type": "execute_result"
    }
   ],
   "source": [
    "x = -34.563529645\n",
    "abs(x)"
   ]
  },
  {
   "cell_type": "code",
   "execution_count": 67,
   "id": "5e07ab5d",
   "metadata": {},
   "outputs": [
    {
     "data": {
      "text/plain": [
       "6.0"
      ]
     },
     "execution_count": 67,
     "metadata": {},
     "output_type": "execute_result"
    }
   ],
   "source": [
    "import numpy \n",
    "y=5.6\n",
    "numpy.ceil(y)"
   ]
  },
  {
   "cell_type": "code",
   "execution_count": 68,
   "id": "8a5d3735",
   "metadata": {},
   "outputs": [
    {
     "data": {
      "text/plain": [
       "49.0"
      ]
     },
     "execution_count": 68,
     "metadata": {},
     "output_type": "execute_result"
    }
   ],
   "source": [
    "import numpy as np\n",
    "x=48.6\n",
    "np.ceil(x)"
   ]
  },
  {
   "cell_type": "code",
   "execution_count": 69,
   "id": "93993f30",
   "metadata": {},
   "outputs": [
    {
     "data": {
      "text/plain": [
       "20.085536923187668"
      ]
     },
     "execution_count": 69,
     "metadata": {},
     "output_type": "execute_result"
    }
   ],
   "source": [
    "np.exp(3)"
   ]
  },
  {
   "cell_type": "code",
   "execution_count": 70,
   "id": "ecf8f712",
   "metadata": {
    "slideshow": {
     "slide_type": "subslide"
    }
   },
   "outputs": [],
   "source": [
    "#from numpy import *\n",
    "from numpy import exp"
   ]
  },
  {
   "cell_type": "code",
   "execution_count": 71,
   "id": "14fdf382",
   "metadata": {},
   "outputs": [
    {
     "data": {
      "text/plain": [
       "20.085536923187668"
      ]
     },
     "execution_count": 71,
     "metadata": {},
     "output_type": "execute_result"
    }
   ],
   "source": [
    "exp(3)"
   ]
  },
  {
   "cell_type": "code",
   "execution_count": 72,
   "id": "b824a153",
   "metadata": {},
   "outputs": [
    {
     "data": {
      "text/plain": [
       "35.0"
      ]
     },
     "execution_count": 72,
     "metadata": {},
     "output_type": "execute_result"
    }
   ],
   "source": [
    "np.ceil(34.5)"
   ]
  }
 ],
 "metadata": {
  "celltoolbar": "Slideshow",
  "kernelspec": {
   "display_name": "Python 3 (ipykernel)",
   "language": "python",
   "name": "python3"
  },
  "language_info": {
   "codemirror_mode": {
    "name": "ipython",
    "version": 3
   },
   "file_extension": ".py",
   "mimetype": "text/x-python",
   "name": "python",
   "nbconvert_exporter": "python",
   "pygments_lexer": "ipython3",
   "version": "3.12.1"
  },
  "latex_envs": {
   "LaTeX_envs_menu_present": true,
   "autoclose": false,
   "autocomplete": true,
   "bibliofile": "biblio.bib",
   "cite_by": "apalike",
   "current_citInitial": 1,
   "eqLabelWithNumbers": true,
   "eqNumInitial": 1,
   "hotkeys": {
    "equation": "Ctrl-E",
    "itemize": "Ctrl-I"
   },
   "labels_anchors": false,
   "latex_user_defs": false,
   "report_style_numbering": false,
   "user_envs_cfg": false
  }
 },
 "nbformat": 4,
 "nbformat_minor": 5
}
