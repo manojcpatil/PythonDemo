{
 "cells": [
  {
   "cell_type": "markdown",
   "id": "2f663886",
   "metadata": {},
   "source": [
    "# Tuples"
   ]
  },
  {
   "cell_type": "markdown",
   "id": "a3ea35fc",
   "metadata": {},
   "source": [
    "A tuple is a collection of objects which **ordered** and **immutable**. Tuples are sequences, just like lists. The differences between tuples and lists are, the tuples cannot be changed unlike lists and tuples use parentheses, whereas lists use square brackets.\n",
    "Creating a tuple is as simple as putting different comma-separated values. Optionally you can put these comma-separated values between parentheses also. For example −"
   ]
  },
  {
   "cell_type": "code",
   "execution_count": 3,
   "id": "4a784c7e",
   "metadata": {},
   "outputs": [
    {
     "data": {
      "text/plain": [
       "('a', 'b', 'c', 'd')"
      ]
     },
     "execution_count": 3,
     "metadata": {},
     "output_type": "execute_result"
    }
   ],
   "source": [
    "tup1 = ('physics', 'chemistry', 1997, 2000);\n",
    "tup2 = (1, 2, 3, 4, 5 );\n",
    "tup3 = \"a\", \"b\", \"c\", \"d\";\n",
    "tup3"
   ]
  },
  {
   "cell_type": "code",
   "execution_count": 8,
   "id": "e9651331",
   "metadata": {},
   "outputs": [
    {
     "data": {
      "text/plain": [
       "tuple"
      ]
     },
     "execution_count": 8,
     "metadata": {},
     "output_type": "execute_result"
    }
   ],
   "source": [
    "tup1 = (); # The empty tuple is written as two parentheses containing nothing −\n",
    "tup1 = (50,); #To write a tuple containing a single value you have to include a comma, even though there is only one value.\n",
    "tup1=(60,)\n",
    "tup1\n",
    "type(tup1)\n",
    "#Like string indices, tuple indices start at 0, and they can be sliced, concatenated, and so on."
   ]
  },
  {
   "cell_type": "markdown",
   "id": "7eddb9a9",
   "metadata": {},
   "source": [
    "## Accessing Values in Tuples\n",
    "\n",
    "To access values in tuple, use the square brackets for slicing along with the index or indices to obtain value available at that index. For example −"
   ]
  },
  {
   "cell_type": "code",
   "execution_count": 14,
   "id": "3933d859",
   "metadata": {},
   "outputs": [
    {
     "name": "stdout",
     "output_type": "stream",
     "text": [
      "tup1[0]:  physics\n",
      "tup2[1:5]:  (2, 3, 4, 5)\n"
     ]
    }
   ],
   "source": [
    "tup1 = ('physics', 'chemistry', 1997, 2000)\n",
    "tup2 = (1, 2, 3, 4, 5, 6, 7)\n",
    "print(\"tup1[0]: \", tup1[0])\n",
    "print(\"tup2[1:5]: \", tup2[1:5])"
   ]
  },
  {
   "cell_type": "markdown",
   "id": "9732af06",
   "metadata": {},
   "source": [
    "## Updating Tuples\n",
    "\n",
    "Tuples are immutable which means you cannot update or change the values of tuple elements. You are able to take portions of existing tuples to create new tuples as the following example demonstrates −"
   ]
  },
  {
   "cell_type": "code",
   "execution_count": 25,
   "id": "754af550",
   "metadata": {
    "scrolled": false
   },
   "outputs": [
    {
     "name": "stdout",
     "output_type": "stream",
     "text": [
      "(12, 34.56, 'abc', 'xyz')\n",
      "[1, 2, 3, 2]\n"
     ]
    },
    {
     "data": {
      "text/plain": [
       "8"
      ]
     },
     "execution_count": 25,
     "metadata": {},
     "output_type": "execute_result"
    }
   ],
   "source": [
    "tup1 = (12, 34.56);\n",
    "tup2 = ('abc', 'xyz');\n",
    "\n",
    "# Following action is not valid for tuples\n",
    "# tup1[0] = 100;  # TypeError: 'tuple' object does not support item assignment\n",
    "\n",
    "# So let's create a new tuple as follows\n",
    "tup3 = tup1 + tup2;\n",
    "print(tup3);\n",
    "\n",
    "tup4=[1,2]\n",
    "tup5=[3,2]\n",
    "tup6=tup4+tup5\n",
    "print(tup6)\n",
    "\n",
    "sum(tup4+tup5)"
   ]
  },
  {
   "cell_type": "markdown",
   "id": "754506ea",
   "metadata": {},
   "source": [
    "## Delete Tuple Elements\n",
    "Removing individual tuple elements is not possible. There is, of course, nothing wrong with putting together another tuple with the undesired elements discarded.\n",
    "\n",
    "To explicitly remove an entire tuple, just use the del statement."
   ]
  },
  {
   "cell_type": "code",
   "execution_count": 5,
   "id": "8dfab5a2",
   "metadata": {},
   "outputs": [
    {
     "name": "stdout",
     "output_type": "stream",
     "text": [
      "('physics', 'chemistry', 1997, 2000)\n",
      "After deleting tup : \n"
     ]
    },
    {
     "ename": "NameError",
     "evalue": "name 'tup' is not defined",
     "output_type": "error",
     "traceback": [
      "\u001b[1;31m---------------------------------------------------------------------------\u001b[0m",
      "\u001b[1;31mNameError\u001b[0m                                 Traceback (most recent call last)",
      "\u001b[1;32m<ipython-input-5-2ac031d1cabe>\u001b[0m in \u001b[0;36m<module>\u001b[1;34m\u001b[0m\n\u001b[0;32m      3\u001b[0m \u001b[1;32mdel\u001b[0m \u001b[0mtup\u001b[0m\u001b[1;33m;\u001b[0m\u001b[1;33m\u001b[0m\u001b[1;33m\u001b[0m\u001b[0m\n\u001b[0;32m      4\u001b[0m \u001b[0mprint\u001b[0m\u001b[1;33m(\u001b[0m\u001b[1;34m\"After deleting tup : \"\u001b[0m\u001b[1;33m)\u001b[0m\u001b[1;33m\u001b[0m\u001b[1;33m\u001b[0m\u001b[0m\n\u001b[1;32m----> 5\u001b[1;33m \u001b[0mprint\u001b[0m\u001b[1;33m(\u001b[0m\u001b[0mtup\u001b[0m\u001b[1;33m)\u001b[0m\u001b[1;33m;\u001b[0m\u001b[1;33m\u001b[0m\u001b[1;33m\u001b[0m\u001b[0m\n\u001b[0m",
      "\u001b[1;31mNameError\u001b[0m: name 'tup' is not defined"
     ]
    }
   ],
   "source": [
    "tup = ('physics', 'chemistry', 1997, 2000);\n",
    "print(tup);\n",
    "del tup;\n",
    "print(\"After deleting tup : \")\n",
    "print(tup);"
   ]
  },
  {
   "cell_type": "markdown",
   "id": "6c8a8d93",
   "metadata": {},
   "source": [
    "## Basic Tuples Operations\n",
    "Tuples respond to the + and * operators much like strings; they mean concatenation and repetition here too, except that the result is a new tuple, not a string."
   ]
  },
  {
   "cell_type": "code",
   "execution_count": 28,
   "id": "87503571",
   "metadata": {},
   "outputs": [
    {
     "name": "stdout",
     "output_type": "stream",
     "text": [
      "3\n",
      "(1, 2, 3, 4, 5, 6)\n",
      "('Hi!', 'Hello', 'Hi!', 'Hello', 'Hi!', 'Hello', 'Hi!', 'Hello')\n",
      "False\n",
      "2\n",
      "4\n",
      "6\n"
     ]
    }
   ],
   "source": [
    "print(len((1, 2, 3)))   # Length\n",
    "print((1, 2, 3) + (4, 5, 6)) # Concatenation\n",
    "print(('Hi!',\"Hello\") * 4) # Repetition\n",
    "print(3 not in (1, 2, 3)) # Membership\n",
    "for x in (1, 2, 3):  #Iteration\n",
    "    print(2*x) "
   ]
  },
  {
   "cell_type": "markdown",
   "id": "f2c34d5c",
   "metadata": {},
   "source": [
    "## Indexing, Slicing, and Matrixes\n",
    "Because tuples are sequences, indexing and slicing work the same way for tuples as they do for strings."
   ]
  },
  {
   "cell_type": "code",
   "execution_count": 29,
   "id": "f8e431b6",
   "metadata": {},
   "outputs": [
    {
     "name": "stdout",
     "output_type": "stream",
     "text": [
      "('A', 'B')\n",
      "C\n",
      "B\n",
      "('B', 'C')\n"
     ]
    }
   ],
   "source": [
    "L = ('A', 'B', 'C')\n",
    "print(L[0:2])\n",
    "print(L[2])  # Offsets start at zero\n",
    "print(L[-2]) # Count from the right\n",
    "print(L[1:]) # Slicing fetches sections"
   ]
  },
  {
   "cell_type": "markdown",
   "id": "976c421e",
   "metadata": {},
   "source": [
    "## Tuple Function with Description"
   ]
  },
  {
   "cell_type": "code",
   "execution_count": 37,
   "id": "42df2c38",
   "metadata": {},
   "outputs": [
    {
     "name": "stdout",
     "output_type": "stream",
     "text": [
      "3\n",
      "5\n",
      "2\n",
      "[1, 2, 3]\n",
      "(1, 2, 3)\n",
      "3\n",
      "[3, 5, 2]\n",
      "(3, 5, 2)\n"
     ]
    }
   ],
   "source": [
    "tup=(3,5,2)\n",
    "print(len(tup)) # Gives the total length of the tuple.\n",
    "print(max(tup)) # Returns item from the tuple with max value.\n",
    "print(min(tup)) # Returns item from the tuple with min value.\n",
    "\n",
    "seq=[1,2,3]\n",
    "print(seq)\n",
    "print(tuple(seq)) # Converts a list into tuple. TypeCast operator\n",
    "\n",
    "print(int(float(\"3.2\")))\n",
    "print(list(tup))\n",
    "print(tup)"
   ]
  },
  {
   "cell_type": "markdown",
   "id": "cb09b606",
   "metadata": {},
   "source": [
    "# Dictionaries "
   ]
  },
  {
   "cell_type": "markdown",
   "id": "b5117935",
   "metadata": {},
   "source": [
    "Each key is separated from its value by a colon (:), the items are separated by commas, and the whole thing is enclosed in curly braces. An empty dictionary without any items is written with just two curly braces, like this: {}.\n",
    "Keys are unique within a dictionary while values may not be. The values of a dictionary can be of any type, but the keys must be of an immutable data type such as strings, numbers, or tuples."
   ]
  },
  {
   "cell_type": "markdown",
   "id": "ea4481a5",
   "metadata": {},
   "source": [
    "## Accessing Values in Dictionary"
   ]
  },
  {
   "cell_type": "code",
   "execution_count": 43,
   "id": "a64ee3ff",
   "metadata": {},
   "outputs": [
    {
     "name": "stdout",
     "output_type": "stream",
     "text": [
      "{'Age': 7, 'Class': 'First', 'Name': 'Zara'}\n",
      "dict['Name']:  Zara\n",
      "dict['Age']:  7\n"
     ]
    },
    {
     "data": {
      "text/plain": [
       "'Zara'"
      ]
     },
     "execution_count": 43,
     "metadata": {},
     "output_type": "execute_result"
    }
   ],
   "source": [
    "dict = {'Age': 7, 'Class': 'First','Name': 'Zara'}\n",
    "print(dict)\n",
    "print(\"dict['Name']: \", dict['Name'])\n",
    "print(\"dict['Age']: \", dict['Age'])\n",
    "dict[\"Name\"]"
   ]
  },
  {
   "cell_type": "markdown",
   "id": "bc2bb217",
   "metadata": {},
   "source": [
    "## Updating Dictionary\n",
    "You can update a dictionary by adding a new entry or a key-value pair, modifying an existing entry, or deleting an existing entry"
   ]
  },
  {
   "cell_type": "code",
   "execution_count": null,
   "id": "53d730ff",
   "metadata": {},
   "outputs": [],
   "source": [
    "dict = {'Name': 'Zara', 'Age': 7, 'Class': 'First'}\n",
    "dict['Age'] = 8; # update existing entry\n",
    "dict['School'] = \"DPS School\"; # Add new entry\n",
    "\n",
    "print \"dict['Age']: \", dict['Age']\n",
    "print \"dict['School']: \", dict['School']"
   ]
  },
  {
   "cell_type": "markdown",
   "id": "f6b4e7b1",
   "metadata": {},
   "source": [
    "Delete Dictionary Elements\n",
    "You can either remove individual dictionary elements or clear the entire contents of a dictionary. You can also delete entire dictionary in a single operation."
   ]
  },
  {
   "cell_type": "code",
   "execution_count": null,
   "id": "5bca10fb",
   "metadata": {},
   "outputs": [],
   "source": [
    "dict = {'Name': 'Zara', 'Age': 7, 'Class': 'First'}\n",
    "del dict['Name']; # remove entry with key 'Name'\n",
    "dict.clear();     # remove all entries in dict\n",
    "del dict ;        # delete entire dictionary\n",
    "\n",
    "print \"dict['Age']: \", dict['Age']\n",
    "print \"dict['School']: \", dict['School']"
   ]
  },
  {
   "cell_type": "markdown",
   "id": "ed73e75b",
   "metadata": {},
   "source": [
    "Properties of Dictionary Keys"
   ]
  },
  {
   "cell_type": "markdown",
   "id": "de798787",
   "metadata": {},
   "source": [
    "(a) More than one entry per key not allowed. Which means no duplicate key is allowed. When duplicate keys encountered during assignment, the last assignment wins."
   ]
  },
  {
   "cell_type": "code",
   "execution_count": null,
   "id": "97919c41",
   "metadata": {},
   "outputs": [],
   "source": [
    "dict = {'Name': 'Zara', 'Age': 7, 'Name': 'Manni'}\n",
    "print \"dict['Name']: \", dict['Name']"
   ]
  },
  {
   "cell_type": "markdown",
   "id": "b57c5d11",
   "metadata": {},
   "source": [
    "(b) Keys must be immutable. Which means you can use strings, numbers or tuples as dictionary keys but something like ['key'] is not allowed."
   ]
  },
  {
   "cell_type": "code",
   "execution_count": null,
   "id": "01dd8e5a",
   "metadata": {},
   "outputs": [],
   "source": [
    "dict1 = {['Name']: 'Zara', 'Age': 7}\n",
    "print(\"dict['Name']: \", dict['Name'])"
   ]
  },
  {
   "cell_type": "markdown",
   "id": "70974f13",
   "metadata": {},
   "source": [
    "## Dictionary Functions"
   ]
  },
  {
   "cell_type": "code",
   "execution_count": 44,
   "id": "23e5c525",
   "metadata": {},
   "outputs": [
    {
     "name": "stdout",
     "output_type": "stream",
     "text": [
      "2\n",
      "{'Name': 'Zara', 'Age': 7}\n",
      "<class 'dict'>\n"
     ]
    }
   ],
   "source": [
    "dict1 = {'Name': 'Zara', 'Age': 7}\n",
    "print(len(dict1)) #Gives the total length of the dictionary. This would be equal to the number of items in the dictionary.\n",
    "print(str(dict1)) #Produces a printable string representation of a dictionary\n",
    "print(type(dict1)) #Returns the type of the passed variable. If passed variable is dictionary, then it would return a dictionary type."
   ]
  },
  {
   "cell_type": "markdown",
   "id": "cf7072ee",
   "metadata": {},
   "source": [
    "## Dictionary Methods"
   ]
  },
  {
   "cell_type": "code",
   "execution_count": 45,
   "id": "b9cdddbd",
   "metadata": {},
   "outputs": [
    {
     "data": {
      "text/plain": [
       "{}"
      ]
     },
     "execution_count": 45,
     "metadata": {},
     "output_type": "execute_result"
    }
   ],
   "source": [
    "dict1.clear() #Removes all elements of dictionary dict\n",
    "dict1.copy() #Returns a shallow copy of dictionary dict\n",
    "# dict1.fromkeys() # Create a new dictionary with keys from seq and values set to value.\n",
    "#dict1.get(key, default=None)# For key key, returns value or default if key not in dictionary\n",
    "#dict1.has_key(key)#Returns true if key in dictionary dict, false otherwise\n",
    "#dict1.items()#Returns a list of dict's (key, value) tuple pairs\n",
    "#dict1.keys()#Returns list of dictionary dict's keys\n",
    "#dict1.setdefault(key, default=None)# Similar to get(), but will set dict[key]=default if key is not already in dict\n",
    "#dict1.update(dict2)# Adds dictionary dict2's key-values pairs to dict\n",
    "#dict1.values()# Returns list of dictionary dict's values"
   ]
  },
  {
   "cell_type": "markdown",
   "id": "67c4028a",
   "metadata": {},
   "source": [
    "# Class"
   ]
  },
  {
   "cell_type": "code",
   "execution_count": null,
   "id": "a0f4e694",
   "metadata": {},
   "outputs": [],
   "source": [
    "Class Student:\n",
    "    Name=\"\"\n",
    "    Age=0\n",
    "    def marks(*x):\n",
    "        s1=0\n",
    "        s1=sum(x)*100\n",
    "        return(s1)\n",
    "\n",
    "        \n",
    "rs=Student(\"Manoj\",35)\n",
    "rs.Name\n",
    "rs.Age\n",
    "rs.marks(23,45,65,68)"
   ]
  }
 ],
 "metadata": {
  "kernelspec": {
   "display_name": "Python 3",
   "language": "python",
   "name": "python3"
  },
  "language_info": {
   "codemirror_mode": {
    "name": "ipython",
    "version": 3
   },
   "file_extension": ".py",
   "mimetype": "text/x-python",
   "name": "python",
   "nbconvert_exporter": "python",
   "pygments_lexer": "ipython3",
   "version": "3.9.5"
  }
 },
 "nbformat": 4,
 "nbformat_minor": 5
}
