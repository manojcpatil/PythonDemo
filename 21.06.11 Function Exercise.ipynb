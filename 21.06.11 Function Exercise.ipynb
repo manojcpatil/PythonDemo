{
 "cells": [
  {
   "cell_type": "markdown",
   "id": "f90a2c75",
   "metadata": {},
   "source": [
    "# Python Function Excercises"
   ]
  },
  {
   "cell_type": "markdown",
   "id": "c1ee4a87",
   "metadata": {},
   "source": [
    "1. How to define and call a function in Python\n",
    "2. Significance of Indentation (Space) in Python\n",
    "3. How Function Return Value?\n",
    "4. Arguments in Functions"
   ]
  },
  {
   "cell_type": "markdown",
   "id": "20bca1c1",
   "metadata": {},
   "source": [
    "1. Write a Python function to find the Max of three numbers. "
   ]
  },
  {
   "cell_type": "code",
   "execution_count": null,
   "id": "ed571c6d",
   "metadata": {},
   "outputs": [],
   "source": [
    "def max2(a,b):\n",
    "    if a<b:\n",
    "        return(b)\n",
    "    else:\n",
    "        return(a)\n",
    "\n",
    "print(\"Maximum number is \",max2(3,6))\n",
    "\n",
    "def max3(x,y,z):\n",
    "    return(max2(x,max2(y,z)))\n",
    "\n",
    "print(\"Maximum number is \",max3(3,9,7))"
   ]
  },
  {
   "cell_type": "code",
   "execution_count": null,
   "id": "c3f94add",
   "metadata": {},
   "outputs": [],
   "source": [
    "def max2(a,b):\n",
    "    if a<b:\n",
    "        print(\"Maximum number is \",b)\n",
    "    else:\n",
    "        print(\"Maximum number is \",a)\n",
    "    \n",
    "max2(2,3)\n",
    "\n",
    "def max3(x,y,z):\n",
    "    if x>y and x>z:\n",
    "        print(\"Maximum number is \",x)\n",
    "    elif y>z:\n",
    "        print(\"Maximum number is \",y)\n",
    "    else:\n",
    "        print(\"Maximum number is \",z)\n",
    "            \n",
    "max3(6,3,8)"
   ]
  },
  {
   "cell_type": "markdown",
   "id": "eb0db9df",
   "metadata": {},
   "source": [
    "2. Write a Python function to sum all the numbers in a list. \n",
    "Sample List : (8, 2, 3, 0, 7)\n",
    "Expected Output : 20"
   ]
  },
  {
   "cell_type": "code",
   "execution_count": null,
   "id": "adf1720e",
   "metadata": {},
   "outputs": [],
   "source": [
    "sample_list=(8, 2, 3, 0, 7)\n",
    "\n",
    "print(sample_list)\n",
    "\n",
    "def sum2(list1):\n",
    "    total=0\n",
    "    for i in list1:\n",
    "        total+=i\n",
    "    return(total)\n",
    "\n",
    "print(sum2(sample_list))"
   ]
  },
  {
   "cell_type": "markdown",
   "id": "ae1992a4",
   "metadata": {},
   "source": [
    "3. Write a Python function to multiply all the numbers in a list. \n",
    "Sample List : (8, 2, 3, -1, 7)\n",
    "Expected Output : -336"
   ]
  },
  {
   "cell_type": "code",
   "execution_count": null,
   "id": "89db983b",
   "metadata": {},
   "outputs": [],
   "source": [
    "sample_list=(8, 2, 3, -1, 7)\n",
    "\n",
    "print(sample_list)\n",
    "\n",
    "def multi_list(list1):\n",
    "    total=1\n",
    "    for i in list1:\n",
    "        total*=i\n",
    "    return(total)\n",
    "\n",
    "print(multi_list(sample_list))"
   ]
  },
  {
   "cell_type": "markdown",
   "id": "7271d8f1",
   "metadata": {},
   "source": [
    "4. Write a Python program to reverse a string. \n",
    "Sample String : \"1234abcd\"\n",
    "Expected Output : \"dcba4321\""
   ]
  },
  {
   "cell_type": "code",
   "execution_count": null,
   "id": "88685bd7",
   "metadata": {},
   "outputs": [],
   "source": [
    "list1=\"1234abcd\"\n",
    "def reverse(list1):\n",
    "    list2=\"\"\n",
    "    for i in list1:\n",
    "        list2=i+list1\n",
    "    return list2\n",
    "\n",
    "print(reverse(list1))"
   ]
  },
  {
   "cell_type": "markdown",
   "id": "c73b3653",
   "metadata": {},
   "source": [
    "5. Write a Python function to calculate the factorial of a number (a non-negative integer). The function accepts the number as an argument. "
   ]
  },
  {
   "cell_type": "code",
   "execution_count": null,
   "id": "45571b0c",
   "metadata": {},
   "outputs": [],
   "source": [
    "5!=1*2*3*4*5\n",
    "\n",
    "n=int(input(\"Enter the number\\t:\"))\n",
    "\n",
    "def fact(x):\n",
    "    if x<0:\n",
    "        return 0\n",
    "    elif x==1 or x==0:\n",
    "        return 1\n",
    "    else:\n",
    "        return(x*fact(x-1))\n",
    "        \n",
    "        \n",
    "print(\"factorial of n \", fact(n))"
   ]
  },
  {
   "cell_type": "markdown",
   "id": "31a50781",
   "metadata": {},
   "source": [
    "6. Write a Python function to check whether a number is in a given range. "
   ]
  },
  {
   "cell_type": "code",
   "execution_count": 8,
   "id": "86e7fb6a",
   "metadata": {},
   "outputs": [
    {
     "name": "stdout",
     "output_type": "stream",
     "text": [
      "Enter the number n\t:3\n",
      "Enter the number a\t:1\n",
      "Enter the number b\t:5\n",
      "3 is in (1,5)\n",
      "3  is in ( 1 , 5 )\n"
     ]
    }
   ],
   "source": [
    "def is_in(x,y,z):\n",
    "    if x in range(y,z+1):\n",
    "        print(\"%d is in (%d,%d)\"%(x,y,z))\n",
    "    else:\n",
    "        print(\"%d is not in (%s,%s)\"%(x,y,z))\n",
    "\n",
    "n=int(input(\"Enter the number n\\t:\"))\n",
    "a=int(input(\"Enter the number a\\t:\"))\n",
    "b=int(input(\"Enter the number b\\t:\"))\n",
    "is_in(n,a,b)"
   ]
  },
  {
   "cell_type": "code",
   "execution_count": 7,
   "id": "637e4f4f",
   "metadata": {},
   "outputs": [
    {
     "name": "stdout",
     "output_type": "stream",
     "text": [
      "1\n",
      "2\n",
      "3\n",
      "4\n"
     ]
    }
   ],
   "source": [
    "L=range(1,5)\n",
    "for i in L:\n",
    "    print(i)"
   ]
  },
  {
   "cell_type": "markdown",
   "id": "ecf4e640",
   "metadata": {},
   "source": [
    "7. Write a Python function that accepts a string and calculate the number of upper case letters and lower case letters. \n",
    "Sample String : 'The quick Brow Fox'\n",
    "Expected Output :\n",
    "No. of Upper case characters : 3\n",
    "No. of Lower case Characters : 12"
   ]
  },
  {
   "cell_type": "code",
   "execution_count": 4,
   "id": "088edad1",
   "metadata": {},
   "outputs": [
    {
     "name": "stdout",
     "output_type": "stream",
     "text": [
      "Enter the statement\t:The quick Brown Fox\n",
      "3\n",
      "13\n"
     ]
    }
   ],
   "source": [
    "def cal_cases(s):\n",
    "    n_Upper=0\n",
    "    n_Lower=0\n",
    "    for i in s:\n",
    "        if i.isupper():\n",
    "            n_Upper+=1\n",
    "        elif i.islower():\n",
    "            n_Lower+=1\n",
    "    print(n_Upper)\n",
    "    print(n_Lower)\n",
    "\n",
    "s=input(\"Enter the statement\\t:\")\n",
    "cal_cases(s)"
   ]
  },
  {
   "cell_type": "markdown",
   "id": "69dafe3d",
   "metadata": {},
   "source": [
    "8. Write a Python function that takes a list and returns a new list with unique elements of the first list. \n",
    "Sample List : [1,2,3,3,3,3,4,5]\n",
    "Unique List : [1, 2, 3, 4, 5]"
   ]
  },
  {
   "cell_type": "code",
   "execution_count": 30,
   "id": "e3aab19d",
   "metadata": {},
   "outputs": [
    {
     "name": "stdout",
     "output_type": "stream",
     "text": [
      "Unique List: [1, 2, 3, 4, 5]\n"
     ]
    }
   ],
   "source": [
    "def set2(Sample_List):\n",
    "    temp_list=[]\n",
    "    for i in Sample_List:\n",
    "        if i not in temp_list:\n",
    "            temp_list.append(i)\n",
    "    return(temp_list)\n",
    "\n",
    "Sample_List=[1,2,3,3,3,3,4,5]\n",
    "print(\"Unique List:\",set2(Sample_List))"
   ]
  },
  {
   "cell_type": "markdown",
   "id": "95bfc9ad",
   "metadata": {},
   "source": [
    "9. Write a Python function that takes a number as a parameter and check the number is prime or not. \n",
    "Note : A prime number (or a prime) is a natural number greater than 1 and that has no positive divisors other than 1 and itself."
   ]
  },
  {
   "cell_type": "code",
   "execution_count": 45,
   "id": "82680c42",
   "metadata": {},
   "outputs": [
    {
     "name": "stdout",
     "output_type": "stream",
     "text": [
      "Enter the integer\t:8\n",
      "The given number 8 is not prime.\n",
      "The given number 9 is not prime.\n",
      "The given number 10 is not prime.\n",
      "The given number 11 is prime.\n"
     ]
    }
   ],
   "source": [
    "def is_prime(n):\n",
    "    flag=0\n",
    "    for i in range(2,n): \n",
    "        if n%i==0:\n",
    "            print(\"The given number %d is not prime.\"%n)\n",
    "            flag=1\n",
    "            break\n",
    "\n",
    "    if flag==0:\n",
    "        print(\"The given number %d is prime.\"%n)\n",
    "\n",
    "n=int(input(\"Enter the integer\\t:\"))\n",
    "is_prime(n)\n",
    "is_prime(n+1)\n",
    "is_prime(n+2)\n",
    "is_prime(n+3)"
   ]
  },
  {
   "cell_type": "code",
   "execution_count": 42,
   "id": "dd400571",
   "metadata": {},
   "outputs": [
    {
     "name": "stdout",
     "output_type": "stream",
     "text": [
      "Enter the integer\t:10\n",
      "[1, 2, 5, 10]\n"
     ]
    }
   ],
   "source": [
    "def factors(n):\n",
    "    temp=[]\n",
    "    for i in range(1,n+1):\n",
    "        if n%i==0:\n",
    "            temp.append(i)\n",
    "    return temp\n",
    "\n",
    "n=int(input(\"Enter the integer\\t:\"))\n",
    "print(factors(n))"
   ]
  },
  {
   "cell_type": "markdown",
   "id": "bf292c59",
   "metadata": {},
   "source": [
    "10. Write a Python program to print the even numbers from a given list. \n",
    "Sample List : [1, 2, 3, 4, 5, 6, 7, 8, 9]\n",
    "Expected Result : [2, 4, 6, 8]"
   ]
  },
  {
   "cell_type": "code",
   "execution_count": 49,
   "id": "8da9b05e",
   "metadata": {},
   "outputs": [
    {
     "name": "stdout",
     "output_type": "stream",
     "text": [
      "List Length\t:5\n",
      "1\n",
      "2\n",
      "3\n",
      "4\n",
      "5\n",
      "[2, 4]\n"
     ]
    }
   ],
   "source": [
    "def is_evenlist(l):\n",
    "    evenlist = []\n",
    "    for n in l:\n",
    "        if n % 2 == 0:\n",
    "            evenlist.append(n)\n",
    "    return evenlist\n",
    "\n",
    "n=int(input(\"List Length\\t:\"))\n",
    "list1=[]\n",
    "for i in range(n):\n",
    "    list1.append(int(input(\"\")))\n",
    "    \n",
    "print(is_evenlist(list1))"
   ]
  },
  {
   "cell_type": "code",
   "execution_count": 48,
   "id": "9f53c444",
   "metadata": {},
   "outputs": [
    {
     "name": "stdout",
     "output_type": "stream",
     "text": [
      "List Length\t:3\n",
      "1\n",
      "2\n",
      "3\n",
      "[1, 2, 3]\n"
     ]
    }
   ],
   "source": [
    "n=int(input(\"List Length\\t:\"))\n",
    "list1=[]\n",
    "for i in range(n):\n",
    "    list1.append(int(input(\"\")))\n",
    "\n",
    "print(list1)"
   ]
  },
  {
   "cell_type": "markdown",
   "id": "80094b2d",
   "metadata": {},
   "source": [
    "# Functions with Default Positional Arguments"
   ]
  },
  {
   "cell_type": "code",
   "execution_count": null,
   "id": "d8a3b64d",
   "metadata": {},
   "outputs": [],
   "source": [
    "def greet(name,msg):\n",
    "    print(\"Hello %s, %s!!!!!\"%(name,msg))\n",
    "    \n",
    "greet(\"Jagruti\",\"Good Afternoon\")"
   ]
  },
  {
   "cell_type": "code",
   "execution_count": 50,
   "id": "a8bba295",
   "metadata": {},
   "outputs": [
    {
     "name": "stdout",
     "output_type": "stream",
     "text": [
      "Hello Jagruti, Good Afternoon!!!!!\n"
     ]
    }
   ],
   "source": [
    "def greet(name,msg=\"Morning\"):# default argument\n",
    "    print(\"Hello %s, %s!!!!!\"%(name,msg))\n",
    "    \n",
    "greet(\"Jagruti\",\"Good Afternoon\")"
   ]
  },
  {
   "cell_type": "code",
   "execution_count": null,
   "id": "7032aaa1",
   "metadata": {},
   "outputs": [],
   "source": [
    "greet(msg=\"Good Afternoon\",name=\"Jagruti\")   # Positions doesnt matter if variable names are provided"
   ]
  },
  {
   "cell_type": "code",
   "execution_count": 51,
   "id": "d8bcc1db",
   "metadata": {},
   "outputs": [
    {
     "name": "stdout",
     "output_type": "stream",
     "text": [
      "Hello Jagruti, Morning!!!!!\n"
     ]
    }
   ],
   "source": [
    "greet(name=\"Jagruti\")"
   ]
  },
  {
   "cell_type": "code",
   "execution_count": 52,
   "id": "caa6002c",
   "metadata": {},
   "outputs": [
    {
     "data": {
      "text/plain": [
       "7"
      ]
     },
     "execution_count": 52,
     "metadata": {},
     "output_type": "execute_result"
    }
   ],
   "source": [
    "fun=lambda x,y: x**2+y\n",
    "fun(2,3)"
   ]
  },
  {
   "cell_type": "code",
   "execution_count": null,
   "id": "c19fd7a2",
   "metadata": {},
   "outputs": [],
   "source": []
  }
 ],
 "metadata": {
  "kernelspec": {
   "display_name": "Python 3",
   "language": "python",
   "name": "python3"
  },
  "language_info": {
   "codemirror_mode": {
    "name": "ipython",
    "version": 3
   },
   "file_extension": ".py",
   "mimetype": "text/x-python",
   "name": "python",
   "nbconvert_exporter": "python",
   "pygments_lexer": "ipython3",
   "version": "3.9.5"
  }
 },
 "nbformat": 4,
 "nbformat_minor": 5
}
