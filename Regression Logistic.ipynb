{
 "cells": [
  {
   "cell_type": "markdown",
   "metadata": {
    "colab_type": "text",
    "id": "0MRC0e0KhQ0S",
    "slideshow": {
     "slide_type": "slide"
    }
   },
   "source": [
    "# Logistic Regression"
   ]
  },
  {
   "cell_type": "markdown",
   "metadata": {
    "colab_type": "text",
    "id": "LWd1UlMnhT2s",
    "slideshow": {
     "slide_type": "slide"
    }
   },
   "source": [
    "## Importing the libraries"
   ]
  },
  {
   "cell_type": "code",
   "execution_count": 1,
   "metadata": {},
   "outputs": [],
   "source": [
    "import numpy as np\n",
    "import pandas as pd"
   ]
  },
  {
   "cell_type": "markdown",
   "metadata": {
    "colab_type": "text",
    "id": "K1VMqkGvhc3-",
    "slideshow": {
     "slide_type": "slide"
    }
   },
   "source": [
    "## Importing the dataset"
   ]
  },
  {
   "cell_type": "code",
   "execution_count": 3,
   "metadata": {},
   "outputs": [
    {
     "data": {
      "text/html": [
       "<div>\n",
       "<style scoped>\n",
       "    .dataframe tbody tr th:only-of-type {\n",
       "        vertical-align: middle;\n",
       "    }\n",
       "\n",
       "    .dataframe tbody tr th {\n",
       "        vertical-align: top;\n",
       "    }\n",
       "\n",
       "    .dataframe thead th {\n",
       "        text-align: right;\n",
       "    }\n",
       "</style>\n",
       "<table border=\"1\" class=\"dataframe\">\n",
       "  <thead>\n",
       "    <tr style=\"text-align: right;\">\n",
       "      <th></th>\n",
       "      <th>User ID</th>\n",
       "      <th>Gender</th>\n",
       "      <th>Age</th>\n",
       "      <th>EstimatedSalary</th>\n",
       "      <th>Purchased</th>\n",
       "    </tr>\n",
       "  </thead>\n",
       "  <tbody>\n",
       "    <tr>\n",
       "      <th>0</th>\n",
       "      <td>15624510</td>\n",
       "      <td>Male</td>\n",
       "      <td>19</td>\n",
       "      <td>19000</td>\n",
       "      <td>0</td>\n",
       "    </tr>\n",
       "    <tr>\n",
       "      <th>1</th>\n",
       "      <td>15810944</td>\n",
       "      <td>Male</td>\n",
       "      <td>35</td>\n",
       "      <td>20000</td>\n",
       "      <td>0</td>\n",
       "    </tr>\n",
       "    <tr>\n",
       "      <th>2</th>\n",
       "      <td>15668575</td>\n",
       "      <td>Female</td>\n",
       "      <td>26</td>\n",
       "      <td>43000</td>\n",
       "      <td>0</td>\n",
       "    </tr>\n",
       "    <tr>\n",
       "      <th>3</th>\n",
       "      <td>15603246</td>\n",
       "      <td>Female</td>\n",
       "      <td>27</td>\n",
       "      <td>57000</td>\n",
       "      <td>0</td>\n",
       "    </tr>\n",
       "    <tr>\n",
       "      <th>4</th>\n",
       "      <td>15804002</td>\n",
       "      <td>Male</td>\n",
       "      <td>19</td>\n",
       "      <td>76000</td>\n",
       "      <td>0</td>\n",
       "    </tr>\n",
       "  </tbody>\n",
       "</table>\n",
       "</div>"
      ],
      "text/plain": [
       "    User ID  Gender  Age  EstimatedSalary  Purchased\n",
       "0  15624510    Male   19            19000          0\n",
       "1  15810944    Male   35            20000          0\n",
       "2  15668575  Female   26            43000          0\n",
       "3  15603246  Female   27            57000          0\n",
       "4  15804002    Male   19            76000          0"
      ]
     },
     "execution_count": 3,
     "metadata": {},
     "output_type": "execute_result"
    }
   ],
   "source": [
    "dataset=pd.read_csv(\"data/Social_Network_Ads.csv\")\n",
    "dataset.head()"
   ]
  },
  {
   "cell_type": "code",
   "execution_count": 10,
   "metadata": {},
   "outputs": [],
   "source": [
    "dataset=dataset.drop(['User ID','Gender'],axis=1)"
   ]
  },
  {
   "cell_type": "code",
   "execution_count": 11,
   "metadata": {
    "scrolled": true
   },
   "outputs": [
    {
     "data": {
      "text/html": [
       "<div>\n",
       "<style scoped>\n",
       "    .dataframe tbody tr th:only-of-type {\n",
       "        vertical-align: middle;\n",
       "    }\n",
       "\n",
       "    .dataframe tbody tr th {\n",
       "        vertical-align: top;\n",
       "    }\n",
       "\n",
       "    .dataframe thead th {\n",
       "        text-align: right;\n",
       "    }\n",
       "</style>\n",
       "<table border=\"1\" class=\"dataframe\">\n",
       "  <thead>\n",
       "    <tr style=\"text-align: right;\">\n",
       "      <th></th>\n",
       "      <th>Age</th>\n",
       "      <th>EstimatedSalary</th>\n",
       "      <th>Purchased</th>\n",
       "    </tr>\n",
       "  </thead>\n",
       "  <tbody>\n",
       "    <tr>\n",
       "      <th>0</th>\n",
       "      <td>19</td>\n",
       "      <td>19000</td>\n",
       "      <td>0</td>\n",
       "    </tr>\n",
       "    <tr>\n",
       "      <th>1</th>\n",
       "      <td>35</td>\n",
       "      <td>20000</td>\n",
       "      <td>0</td>\n",
       "    </tr>\n",
       "    <tr>\n",
       "      <th>2</th>\n",
       "      <td>26</td>\n",
       "      <td>43000</td>\n",
       "      <td>0</td>\n",
       "    </tr>\n",
       "    <tr>\n",
       "      <th>3</th>\n",
       "      <td>27</td>\n",
       "      <td>57000</td>\n",
       "      <td>0</td>\n",
       "    </tr>\n",
       "    <tr>\n",
       "      <th>4</th>\n",
       "      <td>19</td>\n",
       "      <td>76000</td>\n",
       "      <td>0</td>\n",
       "    </tr>\n",
       "    <tr>\n",
       "      <th>...</th>\n",
       "      <td>...</td>\n",
       "      <td>...</td>\n",
       "      <td>...</td>\n",
       "    </tr>\n",
       "    <tr>\n",
       "      <th>395</th>\n",
       "      <td>46</td>\n",
       "      <td>41000</td>\n",
       "      <td>1</td>\n",
       "    </tr>\n",
       "    <tr>\n",
       "      <th>396</th>\n",
       "      <td>51</td>\n",
       "      <td>23000</td>\n",
       "      <td>1</td>\n",
       "    </tr>\n",
       "    <tr>\n",
       "      <th>397</th>\n",
       "      <td>50</td>\n",
       "      <td>20000</td>\n",
       "      <td>1</td>\n",
       "    </tr>\n",
       "    <tr>\n",
       "      <th>398</th>\n",
       "      <td>36</td>\n",
       "      <td>33000</td>\n",
       "      <td>0</td>\n",
       "    </tr>\n",
       "    <tr>\n",
       "      <th>399</th>\n",
       "      <td>49</td>\n",
       "      <td>36000</td>\n",
       "      <td>1</td>\n",
       "    </tr>\n",
       "  </tbody>\n",
       "</table>\n",
       "<p>400 rows × 3 columns</p>\n",
       "</div>"
      ],
      "text/plain": [
       "     Age  EstimatedSalary  Purchased\n",
       "0     19            19000          0\n",
       "1     35            20000          0\n",
       "2     26            43000          0\n",
       "3     27            57000          0\n",
       "4     19            76000          0\n",
       "..   ...              ...        ...\n",
       "395   46            41000          1\n",
       "396   51            23000          1\n",
       "397   50            20000          1\n",
       "398   36            33000          0\n",
       "399   49            36000          1\n",
       "\n",
       "[400 rows x 3 columns]"
      ]
     },
     "execution_count": 11,
     "metadata": {},
     "output_type": "execute_result"
    }
   ],
   "source": [
    "dataset"
   ]
  },
  {
   "cell_type": "code",
   "execution_count": 12,
   "metadata": {},
   "outputs": [],
   "source": [
    "x=dataset.iloc[:,:-1]\n",
    "y=dataset.iloc[:,-1]"
   ]
  },
  {
   "cell_type": "markdown",
   "metadata": {
    "colab_type": "text",
    "id": "YvxIPVyMhmKp",
    "slideshow": {
     "slide_type": "slide"
    }
   },
   "source": [
    "## Splitting the dataset into the Training set and Test set"
   ]
  },
  {
   "cell_type": "code",
   "execution_count": 13,
   "metadata": {},
   "outputs": [
    {
     "data": {
      "text/html": [
       "<div>\n",
       "<style scoped>\n",
       "    .dataframe tbody tr th:only-of-type {\n",
       "        vertical-align: middle;\n",
       "    }\n",
       "\n",
       "    .dataframe tbody tr th {\n",
       "        vertical-align: top;\n",
       "    }\n",
       "\n",
       "    .dataframe thead th {\n",
       "        text-align: right;\n",
       "    }\n",
       "</style>\n",
       "<table border=\"1\" class=\"dataframe\">\n",
       "  <thead>\n",
       "    <tr style=\"text-align: right;\">\n",
       "      <th></th>\n",
       "      <th>Age</th>\n",
       "      <th>EstimatedSalary</th>\n",
       "    </tr>\n",
       "  </thead>\n",
       "  <tbody>\n",
       "    <tr>\n",
       "      <th>253</th>\n",
       "      <td>37</td>\n",
       "      <td>146000</td>\n",
       "    </tr>\n",
       "    <tr>\n",
       "      <th>58</th>\n",
       "      <td>22</td>\n",
       "      <td>18000</td>\n",
       "    </tr>\n",
       "    <tr>\n",
       "      <th>378</th>\n",
       "      <td>41</td>\n",
       "      <td>87000</td>\n",
       "    </tr>\n",
       "    <tr>\n",
       "      <th>56</th>\n",
       "      <td>23</td>\n",
       "      <td>48000</td>\n",
       "    </tr>\n",
       "    <tr>\n",
       "      <th>143</th>\n",
       "      <td>30</td>\n",
       "      <td>89000</td>\n",
       "    </tr>\n",
       "  </tbody>\n",
       "</table>\n",
       "</div>"
      ],
      "text/plain": [
       "     Age  EstimatedSalary\n",
       "253   37           146000\n",
       "58    22            18000\n",
       "378   41            87000\n",
       "56    23            48000\n",
       "143   30            89000"
      ]
     },
     "execution_count": 13,
     "metadata": {},
     "output_type": "execute_result"
    }
   ],
   "source": [
    "from sklearn.model_selection import train_test_split\n",
    "x_train,x_test,y_train,y_test=train_test_split(x,y,test_size=0.25)\n",
    "x_train.head()"
   ]
  },
  {
   "cell_type": "markdown",
   "metadata": {
    "colab_type": "text",
    "id": "kW3c7UYih0hT",
    "slideshow": {
     "slide_type": "slide"
    }
   },
   "source": [
    "## Feature Scaling"
   ]
  },
  {
   "cell_type": "code",
   "execution_count": 15,
   "metadata": {},
   "outputs": [
    {
     "data": {
      "text/plain": [
       "array([[-0.0467767 ,  2.26737932],\n",
       "       [-1.46904122, -1.54384265],\n",
       "       [ 0.33249384,  0.51064419],\n",
       "       [-1.37422359, -0.6505875 ],\n",
       "       [-0.71050014,  0.57019454],\n",
       "       [ 1.09103492,  0.54041937],\n",
       "       [-0.71050014, -0.62081233],\n",
       "       [-1.08977068, -0.53148681],\n",
       "       [ 0.2376762 ,  0.24266765],\n",
       "       [-0.99495305, -1.15676542],\n",
       "       [-1.75349413,  0.45109385],\n",
       "       [ 0.99621728,  0.59996971],\n",
       "       [ 1.37548782,  0.59996971],\n",
       "       [-0.23641197, -0.76968819],\n",
       "       [ 0.33249384,  0.03424145],\n",
       "       [ 1.65994073,  1.64210072],\n",
       "       [ 0.14285857,  1.91007726],\n",
       "       [ 1.849576  , -1.30564128],\n",
       "       [ 0.42731147,  0.59996971],\n",
       "       [ 0.2376762 ,  1.10614763],\n",
       "       [-1.46904122, -0.4421613 ],\n",
       "       [-0.61568251, -1.63316816],\n",
       "       [-1.27940595, -1.2758661 ],\n",
       "       [ 0.2376762 , -0.38261096],\n",
       "       [-0.0467767 , -0.50171164],\n",
       "       [-1.18458832, -1.42474196],\n",
       "       [-1.65867649,  0.48086902],\n",
       "       [-0.80531778,  0.15334213],\n",
       "       [ 1.09103492,  0.57019454],\n",
       "       [-1.18458832, -1.09721507],\n",
       "       [ 0.33249384, -0.32306061],\n",
       "       [-1.65867649,  0.36176834],\n",
       "       [ 1.94439363, -0.68036267],\n",
       "       [-0.80531778, -0.79946336],\n",
       "       [ 0.14285857,  0.15334213],\n",
       "       [ 1.56512309,  1.1359228 ],\n",
       "       [-0.23641197, -0.50171164],\n",
       "       [ 0.42731147,  0.30221799],\n",
       "       [-1.75349413, -1.51406748],\n",
       "       [ 1.47030546,  0.06401662],\n",
       "       [-0.0467767 ,  2.20782898],\n",
       "       [-1.27940595,  0.57019454],\n",
       "       [-0.52086487, -1.54384265],\n",
       "       [ 0.90139965, -0.79946336],\n",
       "       [ 0.90139965,  1.28479866],\n",
       "       [ 2.1340289 ,  1.1359228 ],\n",
       "       [-1.75349413, -1.45451713],\n",
       "       [ 1.56512309,  0.00446628],\n",
       "       [-0.42604724, -0.56126199],\n",
       "       [ 0.04804094,  1.25502348],\n",
       "       [-1.08977068, -1.60339299],\n",
       "       [-0.23641197,  0.80839591],\n",
       "       [ 1.94439363,  0.9274966 ],\n",
       "       [ 0.52212911,  1.7612014 ],\n",
       "       [-1.18458832,  0.51064419],\n",
       "       [-0.23641197,  0.54041937],\n",
       "       [ 0.14285857, -0.32306061],\n",
       "       [-0.0467767 , -0.53148681],\n",
       "       [-0.14159433,  1.43367451],\n",
       "       [ 0.2376762 ,  0.06401662],\n",
       "       [ 1.09103492,  0.12356696],\n",
       "       [ 0.14285857, -0.82923853],\n",
       "       [-0.90013541, -1.12699025],\n",
       "       [ 0.80658201,  0.12356696],\n",
       "       [ 0.14285857,  0.77862074],\n",
       "       [-0.42604724, -0.8590137 ],\n",
       "       [ 0.33249384, -0.20395993],\n",
       "       [ 0.52212911,  1.88030209],\n",
       "       [-0.99495305,  0.77862074],\n",
       "       [ 0.80658201, -1.42474196],\n",
       "       [-1.08977068, -1.57361782],\n",
       "       [ 1.47030546, -1.0674399 ],\n",
       "       [-0.23641197, -0.29328544],\n",
       "       [-0.90013541,  0.42131868],\n",
       "       [-0.61568251, -1.54384265],\n",
       "       [-0.14159433, -0.29328544],\n",
       "       [ 0.42731147, -0.17418475],\n",
       "       [ 1.65994073, -0.91856404],\n",
       "       [-1.27940595, -0.35283578],\n",
       "       [-0.23641197, -1.48429231],\n",
       "       [-1.08977068, -1.12699025],\n",
       "       [-0.61568251,  1.43367451],\n",
       "       [ 0.04804094,  0.03424145],\n",
       "       [-1.75349413, -1.33541645],\n",
       "       [ 0.99621728,  2.02917795],\n",
       "       [ 0.33249384, -0.53148681],\n",
       "       [-0.61568251, -0.35283578],\n",
       "       [-1.37422359, -0.11463441],\n",
       "       [ 0.42731147,  1.1359228 ],\n",
       "       [ 1.37548782, -0.94833922],\n",
       "       [ 0.33249384, -0.53148681],\n",
       "       [ 1.09103492, -1.00788956],\n",
       "       [-0.80531778, -0.26351027],\n",
       "       [-0.23641197, -0.35283578],\n",
       "       [ 0.80658201,  0.27244282],\n",
       "       [-0.23641197,  0.06401662],\n",
       "       [-0.0467767 ,  0.24266765],\n",
       "       [-1.65867649,  0.36176834],\n",
       "       [ 0.90139965, -0.62081233],\n",
       "       [-1.18458832,  0.59996971],\n",
       "       [ 0.80658201, -0.32306061],\n",
       "       [ 0.14285857, -0.82923853],\n",
       "       [-0.0467767 , -0.2337351 ],\n",
       "       [-1.27940595, -1.12699025],\n",
       "       [ 0.71176438, -1.30564128],\n",
       "       [ 0.61694674, -0.91856404],\n",
       "       [-0.3312296 , -1.33541645],\n",
       "       [ 0.80658201, -0.8590137 ],\n",
       "       [-0.14159433, -0.59103716],\n",
       "       [-1.56385886,  0.54041937],\n",
       "       [ 1.18585255,  0.54041937],\n",
       "       [-1.46904122, -1.2758661 ],\n",
       "       [ 0.99621728,  1.82075175],\n",
       "       [-0.99495305,  0.42131868],\n",
       "       [ 1.18585255, -0.76968819],\n",
       "       [-0.14159433,  2.20782898],\n",
       "       [ 2.03921127,  1.79097657],\n",
       "       [ 1.28067019,  1.91007726],\n",
       "       [-0.0467767 ,  0.15334213],\n",
       "       [ 0.80658201,  1.40389934],\n",
       "       [-0.90013541,  0.51064419],\n",
       "       [ 0.33249384,  0.27244282],\n",
       "       [ 0.14285857,  0.03424145],\n",
       "       [-1.84831176, -0.76968819],\n",
       "       [-0.23641197, -1.39496679],\n",
       "       [-1.46904122, -0.20395993],\n",
       "       [-0.23641197,  0.21289248],\n",
       "       [-1.56385886,  0.06401662],\n",
       "       [-0.71050014,  1.37412417],\n",
       "       [-0.52086487,  2.38648001],\n",
       "       [-0.80531778,  0.39154351],\n",
       "       [-1.27940595, -0.4421613 ],\n",
       "       [-0.23641197, -0.59103716],\n",
       "       [ 0.04804094, -0.4421613 ],\n",
       "       [-0.23641197,  0.06401662],\n",
       "       [ 1.37548782,  2.02917795],\n",
       "       [ 0.42731147, -0.47193647],\n",
       "       [ 0.04804094,  0.30221799],\n",
       "       [-0.99495305,  0.54041937],\n",
       "       [ 1.28067019, -1.39496679],\n",
       "       [ 0.42731147,  1.01682211],\n",
       "       [ 0.42731147, -0.14440958],\n",
       "       [ 0.04804094, -0.32306061],\n",
       "       [-0.23641197, -0.91856404],\n",
       "       [ 0.14285857,  1.91007726],\n",
       "       [ 1.75475836, -0.29328544],\n",
       "       [-0.23641197, -1.42474196],\n",
       "       [-0.0467767 ,  0.06401662],\n",
       "       [-0.90013541,  0.45109385],\n",
       "       [-1.65867649,  0.12356696],\n",
       "       [-1.65867649, -1.00788956],\n",
       "       [ 0.99621728,  0.77862074],\n",
       "       [-0.23641197, -0.26351027],\n",
       "       [ 0.2376762 ,  0.15334213],\n",
       "       [-1.46904122,  0.33199316],\n",
       "       [-0.52086487,  0.48086902],\n",
       "       [-0.90013541,  1.58255037],\n",
       "       [ 1.18585255, -1.00788956],\n",
       "       [ 1.75475836,  1.01682211],\n",
       "       [-0.3312296 , -0.79946336],\n",
       "       [ 0.2376762 , -0.26351027],\n",
       "       [ 0.33249384,  0.06401662],\n",
       "       [ 0.33249384, -0.73991302],\n",
       "       [-0.80531778,  0.30221799],\n",
       "       [-0.23641197, -0.68036267],\n",
       "       [ 0.99621728,  0.12356696],\n",
       "       [ 1.09103492, -1.24609093],\n",
       "       [-0.23641197, -0.32306061],\n",
       "       [-1.56385886, -1.60339299],\n",
       "       [-1.18458832,  0.27244282],\n",
       "       [-1.27940595, -0.4421613 ],\n",
       "       [-0.23641197, -0.94833922],\n",
       "       [ 0.14285857,  0.21289248],\n",
       "       [-1.37422359, -1.48429231],\n",
       "       [ 0.42731147, -0.50171164],\n",
       "       [-0.71050014, -1.57361782],\n",
       "       [ 2.1340289 ,  0.95727177],\n",
       "       [-1.08977068, -1.63316816],\n",
       "       [-1.75349413, -1.30564128],\n",
       "       [ 0.99621728, -1.21631576],\n",
       "       [-0.23641197,  0.03424145],\n",
       "       [ 0.33249384,  0.06401662],\n",
       "       [-0.52086487,  0.89772142],\n",
       "       [ 2.03921127,  0.39154351],\n",
       "       [ 2.03921127,  0.18311731],\n",
       "       [-0.52086487,  1.40389934],\n",
       "       [ 1.09103492,  2.11850346],\n",
       "       [-0.3312296 , -0.79946336],\n",
       "       [-0.23641197, -0.59103716],\n",
       "       [-0.42604724, -1.15676542],\n",
       "       [-0.52086487,  1.40389934],\n",
       "       [-0.61568251,  0.18311731],\n",
       "       [-0.71050014,  0.51064419],\n",
       "       [-0.90013541, -0.32306061],\n",
       "       [ 2.1340289 , -0.82923853],\n",
       "       [-0.61568251, -0.05508407],\n",
       "       [ 0.04804094,  1.28479866],\n",
       "       [ 0.99621728, -0.8590137 ],\n",
       "       [ 1.849576  ,  1.5527752 ],\n",
       "       [-1.08977068,  0.42131868],\n",
       "       [ 0.33249384,  0.06401662],\n",
       "       [-0.80531778,  0.39154351],\n",
       "       [-0.0467767 , -1.09721507],\n",
       "       [-0.23641197, -0.14440958],\n",
       "       [-0.14159433, -0.53148681],\n",
       "       [-0.99495305, -0.35283578],\n",
       "       [ 0.90139965, -1.0674399 ],\n",
       "       [ 0.71176438, -0.73991302],\n",
       "       [ 0.42731147,  0.27244282],\n",
       "       [-0.23641197, -0.4421613 ],\n",
       "       [-1.84831176,  0.36176834],\n",
       "       [ 0.61694674,  2.05895312],\n",
       "       [ 0.14285857,  0.27244282],\n",
       "       [ 0.04804094, -0.56126199],\n",
       "       [-1.08977068, -1.18654059],\n",
       "       [-0.14159433,  1.67187589],\n",
       "       [ 0.99621728, -1.09721507],\n",
       "       [-1.75349413,  0.00446628],\n",
       "       [ 2.03921127, -1.21631576],\n",
       "       [-0.23641197,  0.09379179],\n",
       "       [ 0.2376762 , -0.32306061],\n",
       "       [ 0.04804094, -0.59103716],\n",
       "       [-1.18458832,  0.30221799],\n",
       "       [-0.23641197,  1.1359228 ],\n",
       "       [ 0.42731147,  2.35670483],\n",
       "       [ 2.03921127,  0.54041937],\n",
       "       [-0.52086487, -1.54384265],\n",
       "       [ 0.99621728,  1.91007726],\n",
       "       [ 0.80658201,  0.54041937],\n",
       "       [-0.99495305, -0.38261096],\n",
       "       [-0.14159433,  1.64210072],\n",
       "       [-0.71050014,  1.10614763],\n",
       "       [ 0.04804094, -0.26351027],\n",
       "       [ 2.1340289 , -0.71013784],\n",
       "       [-0.23641197, -1.2758661 ],\n",
       "       [ 1.37548782, -1.45451713],\n",
       "       [-0.99495305, -0.35283578],\n",
       "       [-1.56385886, -0.05508407],\n",
       "       [-0.23641197,  0.27244282],\n",
       "       [-0.0467767 , -0.4421613 ],\n",
       "       [-0.0467767 ,  0.27244282],\n",
       "       [ 0.71176438, -1.42474196],\n",
       "       [-1.27940595,  0.42131868],\n",
       "       [ 0.99621728, -1.03766473],\n",
       "       [ 0.42731147, -0.14440958],\n",
       "       [-1.27940595, -1.51406748],\n",
       "       [-0.14159433, -0.20395993],\n",
       "       [ 1.65994073,  1.79097657],\n",
       "       [-0.42604724, -1.24609093],\n",
       "       [-0.0467767 ,  0.30221799],\n",
       "       [-0.14159433,  0.15334213],\n",
       "       [-0.52086487,  1.93985243],\n",
       "       [ 1.75475836,  1.88030209],\n",
       "       [ 1.47030546,  0.36176834],\n",
       "       [-0.42604724, -0.0253089 ],\n",
       "       [-0.80531778,  2.32692966],\n",
       "       [ 1.47030546,  1.01682211],\n",
       "       [ 0.52212911,  1.25502348],\n",
       "       [-0.0467767 ,  0.12356696],\n",
       "       [-1.08977068,  0.06401662],\n",
       "       [ 0.14285857, -0.26351027],\n",
       "       [ 0.04804094,  0.03424145],\n",
       "       [-0.14159433, -0.47193647],\n",
       "       [ 0.33249384, -1.18654059],\n",
       "       [ 0.80658201,  0.77862074],\n",
       "       [ 1.47030546,  2.1780538 ],\n",
       "       [ 1.94439363, -1.39496679],\n",
       "       [-0.71050014, -1.63316816],\n",
       "       [ 0.90139965,  1.10614763],\n",
       "       [ 1.94439363,  0.74884557],\n",
       "       [ 0.99621728, -1.18654059],\n",
       "       [-0.42604724, -0.29328544],\n",
       "       [-1.08977068,  0.33199316],\n",
       "       [-0.42604724,  1.28479866],\n",
       "       [-0.90013541, -0.4421613 ],\n",
       "       [-0.0467767 ,  1.99940278],\n",
       "       [ 0.04804094, -0.26351027],\n",
       "       [ 1.94439363, -0.94833922],\n",
       "       [ 0.33249384, -0.56126199],\n",
       "       [ 2.1340289 , -0.82923853],\n",
       "       [ 1.09103492, -0.91856404],\n",
       "       [-1.08977068,  0.30221799],\n",
       "       [-0.71050014,  0.27244282],\n",
       "       [-1.65867649, -0.62081233],\n",
       "       [ 0.33249384,  0.30221799],\n",
       "       [ 0.90139965, -0.56126199],\n",
       "       [-1.08977068,  1.43367451],\n",
       "       [ 0.80658201, -1.12699025],\n",
       "       [ 0.71176438,  1.82075175],\n",
       "       [-1.27940595, -1.39496679],\n",
       "       [-0.23641197,  0.62974488],\n",
       "       [-0.90013541, -0.32306061],\n",
       "       [-1.84831176,  0.48086902],\n",
       "       [ 0.14285857,  1.5527752 ],\n",
       "       [-0.0467767 ,  0.21289248],\n",
       "       [ 1.849576  , -0.29328544],\n",
       "       [ 0.2376762 ,  0.03424145],\n",
       "       [ 0.90139965, -1.18654059],\n",
       "       [ 1.37548782,  2.38648001],\n",
       "       [-0.99495305, -0.47193647]])"
      ]
     },
     "execution_count": 15,
     "metadata": {},
     "output_type": "execute_result"
    }
   ],
   "source": [
    "from sklearn.preprocessing import StandardScaler\n",
    "scaler=StandardScaler()\n",
    "x_train=scaler.fit_transform(x_train)\n",
    "x_test=scaler.transform(x_test)\n",
    "x_train"
   ]
  },
  {
   "cell_type": "markdown",
   "metadata": {
    "colab_type": "text",
    "id": "bb6jCOCQiAmP",
    "slideshow": {
     "slide_type": "slide"
    }
   },
   "source": [
    "## Training the Logistic Regression model on the Training set"
   ]
  },
  {
   "cell_type": "code",
   "execution_count": 16,
   "metadata": {},
   "outputs": [
    {
     "data": {
      "text/plain": [
       "LogisticRegression()"
      ]
     },
     "execution_count": 16,
     "metadata": {},
     "output_type": "execute_result"
    }
   ],
   "source": [
    "from sklearn.linear_model import LogisticRegression\n",
    "LRclassifier=LogisticRegression()\n",
    "\n",
    "LRclassifier.fit(x_train,y_train)"
   ]
  },
  {
   "cell_type": "markdown",
   "metadata": {
    "colab_type": "text",
    "id": "yyxW5b395mR2",
    "slideshow": {
     "slide_type": "slide"
    }
   },
   "source": [
    "## Predicting a new result"
   ]
  },
  {
   "cell_type": "code",
   "execution_count": 24,
   "metadata": {},
   "outputs": [
    {
     "name": "stdout",
     "output_type": "stream",
     "text": [
      "[0]\n"
     ]
    }
   ],
   "source": [
    "print(LRclassifier.predict(scaler.transform([[0,0]])))"
   ]
  },
  {
   "cell_type": "markdown",
   "metadata": {
    "colab_type": "text",
    "id": "vKYVQH-l5NpE",
    "slideshow": {
     "slide_type": "slide"
    }
   },
   "source": [
    "## Predicting the Test set results"
   ]
  },
  {
   "cell_type": "code",
   "execution_count": 25,
   "metadata": {},
   "outputs": [
    {
     "data": {
      "text/plain": [
       "array([1, 0, 1, 1, 1, 0, 1, 0, 0, 1, 0, 1, 0, 0, 0, 0, 0, 0, 0, 0, 1, 1,\n",
       "       0, 0, 0, 0, 0, 0, 0, 0, 1, 0, 0, 0, 0, 0, 0, 1, 0, 0, 0, 1, 0, 0,\n",
       "       1, 0, 0, 0, 0, 0, 0, 0, 0, 0, 0, 0, 0, 1, 1, 1, 0, 1, 0, 0, 0, 0,\n",
       "       1, 0, 1, 0, 0, 0, 0, 1, 0, 0, 0, 0, 1, 0, 1, 0, 0, 0, 0, 0, 0, 0,\n",
       "       1, 0, 0, 1, 0, 1, 0, 0, 1, 0, 1, 0], dtype=int64)"
      ]
     },
     "execution_count": 25,
     "metadata": {},
     "output_type": "execute_result"
    }
   ],
   "source": [
    "y_pred=LRclassifier.predict(x_test)\n",
    "y_pred"
   ]
  },
  {
   "cell_type": "code",
   "execution_count": 26,
   "metadata": {},
   "outputs": [
    {
     "data": {
      "text/plain": [
       "207    0\n",
       "354    1\n",
       "369    1\n",
       "336    1\n",
       "273    1\n",
       "      ..\n",
       "10     0\n",
       "298    0\n",
       "111    0\n",
       "371    1\n",
       "93     0\n",
       "Name: Purchased, Length: 100, dtype: int64"
      ]
     },
     "execution_count": 26,
     "metadata": {},
     "output_type": "execute_result"
    }
   ],
   "source": [
    "y_test"
   ]
  },
  {
   "cell_type": "markdown",
   "metadata": {
    "colab_type": "text",
    "id": "h4Hwj34ziWQW",
    "slideshow": {
     "slide_type": "slide"
    }
   },
   "source": [
    "## Making the Confusion Matrix"
   ]
  },
  {
   "cell_type": "code",
   "execution_count": 27,
   "metadata": {},
   "outputs": [
    {
     "data": {
      "text/plain": [
       "array([[55,  9],\n",
       "       [18, 18]], dtype=int64)"
      ]
     },
     "execution_count": 27,
     "metadata": {},
     "output_type": "execute_result"
    }
   ],
   "source": [
    "from sklearn.metrics import confusion_matrix, accuracy_score\n",
    "confusion_matrix(y_test,y_pred)"
   ]
  },
  {
   "cell_type": "code",
   "execution_count": 28,
   "metadata": {},
   "outputs": [
    {
     "data": {
      "text/plain": [
       "0.73"
      ]
     },
     "execution_count": 28,
     "metadata": {},
     "output_type": "execute_result"
    }
   ],
   "source": [
    "accuracy_score(y_test,y_pred)"
   ]
  },
  {
   "cell_type": "code",
   "execution_count": null,
   "metadata": {},
   "outputs": [],
   "source": []
  },
  {
   "cell_type": "code",
   "execution_count": null,
   "metadata": {},
   "outputs": [],
   "source": []
  }
 ],
 "metadata": {
  "celltoolbar": "Slideshow",
  "colab": {
   "authorship_tag": "ABX9TyOsvB/iqEjYj3VN6C/JbvkE",
   "collapsed_sections": [],
   "machine_shape": "hm",
   "name": "logistic_regression.ipynb",
   "provenance": [],
   "toc_visible": true
  },
  "kernelspec": {
   "display_name": "Python 3",
   "language": "python",
   "name": "python3"
  },
  "language_info": {
   "codemirror_mode": {
    "name": "ipython",
    "version": 3
   },
   "file_extension": ".py",
   "mimetype": "text/x-python",
   "name": "python",
   "nbconvert_exporter": "python",
   "pygments_lexer": "ipython3",
   "version": "3.9.5"
  },
  "latex_envs": {
   "LaTeX_envs_menu_present": true,
   "autoclose": false,
   "autocomplete": true,
   "bibliofile": "biblio.bib",
   "cite_by": "apalike",
   "current_citInitial": 1,
   "eqLabelWithNumbers": true,
   "eqNumInitial": 1,
   "hotkeys": {
    "equation": "Ctrl-E",
    "itemize": "Ctrl-I"
   },
   "labels_anchors": false,
   "latex_user_defs": false,
   "report_style_numbering": false,
   "user_envs_cfg": false
  },
  "toc": {
   "base_numbering": 1,
   "nav_menu": {},
   "number_sections": true,
   "sideBar": true,
   "skip_h1_title": false,
   "title_cell": "Table of Contents",
   "title_sidebar": "Contents",
   "toc_cell": false,
   "toc_position": {},
   "toc_section_display": true,
   "toc_window_display": false
  }
 },
 "nbformat": 4,
 "nbformat_minor": 1
}
