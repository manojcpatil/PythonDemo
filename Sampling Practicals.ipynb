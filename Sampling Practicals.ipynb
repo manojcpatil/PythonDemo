{
 "cells": [
  {
   "cell_type": "code",
   "execution_count": 14,
   "id": "afdd5d73",
   "metadata": {},
   "outputs": [
    {
     "name": "stdout",
     "output_type": "stream",
     "text": [
      "Collecting scipy\n",
      "  Using cached scipy-1.10.1-cp311-cp311-win_amd64.whl (42.2 MB)\n",
      "Requirement already satisfied: numpy<1.27.0,>=1.19.5 in c:\\python311\\lib\\site-packages (from scipy) (1.24.2)\n",
      "Installing collected packages: scipy\n",
      "Successfully installed scipy-1.10.1\n"
     ]
    },
    {
     "name": "stderr",
     "output_type": "stream",
     "text": [
      "\n",
      "[notice] A new release of pip available: 22.3.1 -> 23.0.1\n",
      "[notice] To update, run: python.exe -m pip install --upgrade pip\n"
     ]
    }
   ],
   "source": [
    "!pip install scipy"
   ]
  },
  {
   "cell_type": "code",
   "execution_count": 17,
   "id": "cd5c2524",
   "metadata": {},
   "outputs": [],
   "source": [
    "import numpy as np\n",
    "import pandas as pd\n",
    "from scipy.stats import norm"
   ]
  },
  {
   "cell_type": "markdown",
   "id": "f39048e5",
   "metadata": {},
   "source": [
    "# Estimation of population parameters in SRS."
   ]
  },
  {
   "cell_type": "code",
   "execution_count": 36,
   "id": "745ac22d",
   "metadata": {},
   "outputs": [
    {
     "name": "stdout",
     "output_type": "stream",
     "text": [
      "Estimate of ‘Average area/village under paddy’: 136.75\n",
      "Estimate of ‘Variance of average area/village under paddy’: 1171.4824507389162\n",
      "Estimate of ‘Confidence intrval of average area/village under paddy’: (69.6665,203.8335)\n"
     ]
    }
   ],
   "source": [
    "y=np.array([98, 19, 47, 137, 155, 270, 64, 69, 127, 292, 79, 81, 144, 104, 240, 273, 141, 56, 117, 201, 130, 58, 102,170, 261, 158, 29, 102, 210, 189, 116, 46, 187, 101, 194, 93, 161, 222, 41, 127, 179, 223, 33, 114, 76, 96,78, 88, 137, 114, 56, 108, 179, 318, 58, 58, 76, 272])\n",
    "N=len(y)\n",
    "n=8\n",
    "alpha=0.05\n",
    "X=np.random.choice(y,n,replace=False)\n",
    "Xbar=np.mean(X)\n",
    "S2=np.var(X,ddof=1)\n",
    "VarXbar_wor=(N-n)/(N*n)*S2\n",
    "SE=np.sqrt(VarXbar_wor)\n",
    "z_=norm.ppf(1-alpha/2)\n",
    "Lower=round(Xbar-z_*SE,4)\n",
    "Upper=round(Xbar+z_*SE,4)\n",
    "\n",
    "print(f'Estimate of ‘Average area/village under paddy’: {Xbar}')\n",
    "print(f'Estimate of ‘Variance of average area/village under paddy’: {VarXbar_wor}')\n",
    "print(f'Estimate of ‘Confidence intrval of average area/village under paddy’: ({Lower},{Upper})')"
   ]
  },
  {
   "cell_type": "code",
   "execution_count": null,
   "id": "bce0cdb7",
   "metadata": {},
   "outputs": [],
   "source": []
  },
  {
   "cell_type": "code",
   "execution_count": 41,
   "id": "ba2611cb",
   "metadata": {},
   "outputs": [
    {
     "data": {
      "text/plain": [
       "92"
      ]
     },
     "execution_count": 41,
     "metadata": {},
     "output_type": "execute_result"
    }
   ],
   "source": [
    "N=2000\n",
    "eps=20\n",
    "alpha=0.05\n",
    "sy=np.sqrt(10000)\n",
    "z_=norm.ppf(1-alpha/2)\n",
    "n=(z_*sy/eps)**2/(1+1/N*(z_*sy/eps)**2)\n",
    "round(n)"
   ]
  },
  {
   "cell_type": "code",
   "execution_count": 37,
   "id": "0711c6ed",
   "metadata": {},
   "outputs": [
    {
     "data": {
      "text/plain": [
       "1.959963984540054"
      ]
     },
     "execution_count": 37,
     "metadata": {},
     "output_type": "execute_result"
    }
   ],
   "source": [
    "norm.ppf(1-alpha/2)"
   ]
  },
  {
   "cell_type": "code",
   "execution_count": 42,
   "id": "d34f6804",
   "metadata": {},
   "outputs": [
    {
     "data": {
      "text/plain": [
       "2.3"
      ]
     },
     "execution_count": 42,
     "metadata": {},
     "output_type": "execute_result"
    }
   ],
   "source": [
    "abs(-2.3)"
   ]
  },
  {
   "cell_type": "code",
   "execution_count": 65,
   "id": "8fd2ae63",
   "metadata": {},
   "outputs": [],
   "source": [
    "N=np.array([50,30,100,70])\n",
    "n=np.array([5,3,12,5])\n",
    "cN=np.cumsum(N)\n",
    "S_=np.random.choice(range(0+1,cN[0]+1),n[0])\n",
    "for i in range(1,4):\n",
    "    temp=np.random.choice(range(cN[i-1]+1,cN[i]+1),n[i])\n",
    "    S_=np.append(S_,temp)"
   ]
  },
  {
   "cell_type": "code",
   "execution_count": 66,
   "id": "08d4a77c",
   "metadata": {},
   "outputs": [
    {
     "data": {
      "text/plain": [
       "array([ 34,   2,  48,  12,   3,  80,  64,  77, 167, 150,  96, 172,  94,\n",
       "       155, 107, 110, 124, 144,  87, 104, 210, 194, 188, 233, 211])"
      ]
     },
     "execution_count": 66,
     "metadata": {},
     "output_type": "execute_result"
    }
   ],
   "source": [
    "S_"
   ]
  },
  {
   "cell_type": "code",
   "execution_count": 56,
   "id": "d9b00685",
   "metadata": {},
   "outputs": [
    {
     "data": {
      "text/plain": [
       "array([68, 69, 52])"
      ]
     },
     "execution_count": 56,
     "metadata": {},
     "output_type": "execute_result"
    }
   ],
   "source": []
  },
  {
   "cell_type": "code",
   "execution_count": null,
   "id": "7544ecfb",
   "metadata": {},
   "outputs": [],
   "source": [
    "np.random.choice(range(cN[1]+1,cN[2]+1),n[2])\n",
    "np.random.choice(range(cN[2]+1,cN[3]+1),n[3])"
   ]
  },
  {
   "cell_type": "code",
   "execution_count": 78,
   "id": "d31bbbb9",
   "metadata": {},
   "outputs": [],
   "source": [
    "s1=np.array([5, 4, 1, 2, 4, 3, 7, 5, 0, 3])\n",
    "s2=np.array([11, 9, 13, 9, 4, 5, 5, 14, 8, 9, 11, 7, 10, 14, 7])\n",
    "s3=np.array([22, 16, 18, 18, 23, 20, 20, 19, 20, 16, 21, 20, 26, 20, 26, 18, 21, 17, 22, 21])\n",
    "nh=np.array([10,15,20])\n",
    "Nh=np.array([1000,1500,2500])\n",
    "n=sum(nh)\n",
    "N=sum(Nh)\n",
    "Wh=Nh/N\n",
    "ybarh=np.array([np.mean(s1),np.mean(s2),np.mean(s3)])\n",
    "ybar_st=Wh @ ybarh\n",
    "ybar_st\n",
    "sh2=np.array([np.var(s1,ddof=1),np.var(s2,ddof=1),np.var(s3,ddof=1)])\n",
    "se=np.sqrt(sum((1/nh-1/Nh)*Wh**2*sh2))"
   ]
  },
  {
   "cell_type": "code",
   "execution_count": null,
   "id": "6eb0dbbd",
   "metadata": {},
   "outputs": [],
   "source": []
  },
  {
   "cell_type": "code",
   "execution_count": null,
   "id": "3ca7301e",
   "metadata": {},
   "outputs": [],
   "source": []
  }
 ],
 "metadata": {
  "kernelspec": {
   "display_name": "Python 3 (ipykernel)",
   "language": "python",
   "name": "python3"
  },
  "language_info": {
   "codemirror_mode": {
    "name": "ipython",
    "version": 3
   },
   "file_extension": ".py",
   "mimetype": "text/x-python",
   "name": "python",
   "nbconvert_exporter": "python",
   "pygments_lexer": "ipython3",
   "version": "3.11.2"
  }
 },
 "nbformat": 4,
 "nbformat_minor": 5
}
