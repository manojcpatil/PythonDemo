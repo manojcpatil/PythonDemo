{
 "cells": [
  {
   "cell_type": "code",
   "execution_count": 2,
   "id": "902b3c9d",
   "metadata": {},
   "outputs": [],
   "source": [
    "from numpy.random import *\n",
    "import numpy as np\n",
    "import pandas as pd"
   ]
  },
  {
   "cell_type": "markdown",
   "id": "2db95c7e",
   "metadata": {},
   "source": [
    "# Simple Random Data"
   ]
  },
  {
   "cell_type": "code",
   "execution_count": 2,
   "id": "bce0e694",
   "metadata": {},
   "outputs": [
    {
     "data": {
      "text/plain": [
       "array([[[0.02510909, 0.48101059, 0.10750332],\n",
       "        [0.86676976, 0.80495861, 0.597273  ]],\n",
       "\n",
       "       [[0.29020038, 0.36041248, 0.74568917],\n",
       "        [0.78721214, 0.94331787, 0.77499242]],\n",
       "\n",
       "       [[0.26605084, 0.66905241, 0.40053208],\n",
       "        [0.35041696, 0.31963098, 0.91669431]],\n",
       "\n",
       "       [[0.27052608, 0.89709842, 0.89281605],\n",
       "        [0.96505852, 0.93075872, 0.09470873]],\n",
       "\n",
       "       [[0.95392595, 0.19535605, 0.37309172],\n",
       "        [0.93748415, 0.03150014, 0.6636523 ]]])"
      ]
     },
     "execution_count": 2,
     "metadata": {},
     "output_type": "execute_result"
    }
   ],
   "source": [
    "#Random values in a given shape.\n",
    "\n",
    "#rand(d0, d1, …, dn)\n",
    "rand(5,2,3)"
   ]
  },
  {
   "cell_type": "code",
   "execution_count": 3,
   "id": "3e1cfae3",
   "metadata": {},
   "outputs": [
    {
     "data": {
      "text/plain": [
       "array([-0.16625218, -0.13806189, -0.79517965, -1.09684435, -0.19193925])"
      ]
     },
     "execution_count": 3,
     "metadata": {},
     "output_type": "execute_result"
    }
   ],
   "source": [
    "#Return a sample (or samples) from the “Standard Normal” distribution.\n",
    "\n",
    "#randn(d0, d1, …, dn)\n",
    "randn(5)"
   ]
  },
  {
   "cell_type": "code",
   "execution_count": 4,
   "id": "238bc337",
   "metadata": {},
   "outputs": [
    {
     "data": {
      "text/plain": [
       "array([9, 9, 9, 9, 8, 6, 8, 6, 8, 8])"
      ]
     },
     "execution_count": 4,
     "metadata": {},
     "output_type": "execute_result"
    }
   ],
   "source": [
    "#Return random integers from low (inclusive) to high (exclusive).\n",
    "\n",
    "#randint(low[, high, size, dtype])\n",
    "randint(5,10,10)"
   ]
  },
  {
   "cell_type": "code",
   "execution_count": 5,
   "id": "b46b48db",
   "metadata": {},
   "outputs": [
    {
     "data": {
      "text/plain": [
       "array([8.68856195e-01, 2.89619833e-01, 5.56701917e-01, 9.95233863e-01,\n",
       "       9.63072938e-04])"
      ]
     },
     "execution_count": 5,
     "metadata": {},
     "output_type": "execute_result"
    }
   ],
   "source": [
    "#Return random floats in the half-open interval [0.0, 1.0).\n",
    "\n",
    "random_sample(5)"
   ]
  },
  {
   "cell_type": "code",
   "execution_count": 6,
   "id": "7da5b2e5",
   "metadata": {},
   "outputs": [],
   "source": [
    "#Return random floats in the half-open interval [0.0, 1.0).\n",
    "\n",
    "#random([size])"
   ]
  },
  {
   "cell_type": "code",
   "execution_count": 7,
   "id": "75848dc9",
   "metadata": {},
   "outputs": [],
   "source": [
    "#Return random floats in the half-open interval [0.0, 1.0).\n",
    "\n",
    "#ranf([size])"
   ]
  },
  {
   "cell_type": "code",
   "execution_count": 8,
   "id": "162a9572",
   "metadata": {},
   "outputs": [],
   "source": [
    "#Return random floats in the half-open interval [0.0, 1.0).\n",
    "\n",
    "#sample([size])"
   ]
  },
  {
   "cell_type": "code",
   "execution_count": 9,
   "id": "95fed24a",
   "metadata": {},
   "outputs": [
    {
     "name": "stdout",
     "output_type": "stream",
     "text": [
      "a: [0, 1, 2, 3, 4]\n"
     ]
    },
    {
     "data": {
      "text/plain": [
       "[4, 0, 3, 1, 2]"
      ]
     },
     "execution_count": 9,
     "metadata": {},
     "output_type": "execute_result"
    }
   ],
   "source": [
    "#Generates a random sample from a given 1-D array\n",
    "\n",
    "#choice(a[, size, replace, p])\n",
    "\n",
    "a=list(range(5))\n",
    "print(\"a:\",a)\n",
    "list(choice(a,5,0))"
   ]
  },
  {
   "cell_type": "markdown",
   "id": "3b05ff28",
   "metadata": {},
   "source": [
    "# Permutations"
   ]
  },
  {
   "cell_type": "code",
   "execution_count": 10,
   "id": "3f423ad1",
   "metadata": {},
   "outputs": [
    {
     "name": "stdout",
     "output_type": "stream",
     "text": [
      "x: [1 2 3 4 5 6 7 8 9]\n",
      "After Shuffling x: [6 9 5 7 8 1 3 2 4]\n"
     ]
    }
   ],
   "source": [
    "#Modify a sequence in-place by shuffling its contents.\n",
    "x=np.arange(1,10)\n",
    "#shuffle(x)\n",
    "\n",
    "\n",
    "print(\"x:\",x)\n",
    "shuffle(x)\n",
    "print(\"After Shuffling x:\",x)"
   ]
  },
  {
   "cell_type": "code",
   "execution_count": 11,
   "id": "08c3cfce",
   "metadata": {},
   "outputs": [
    {
     "data": {
      "text/plain": [
       "array([0, 1, 2, 3, 4])"
      ]
     },
     "execution_count": 11,
     "metadata": {},
     "output_type": "execute_result"
    }
   ],
   "source": [
    "#Randomly permute a sequence, or return a permuted range.\n",
    "\n",
    "#permutation(x)\n",
    "x=np.arange(5)\n",
    "permutation(x)\n",
    "x"
   ]
  },
  {
   "cell_type": "markdown",
   "id": "5eb208ed",
   "metadata": {},
   "source": [
    "# Distributions"
   ]
  },
  {
   "cell_type": "code",
   "execution_count": 12,
   "id": "58118c39",
   "metadata": {},
   "outputs": [
    {
     "data": {
      "text/plain": [
       "array([0.02130118, 0.16048318, 0.24091809])"
      ]
     },
     "execution_count": 12,
     "metadata": {},
     "output_type": "execute_result"
    }
   ],
   "source": [
    "#Draw samples from a Beta distribution.\n",
    "\n",
    "#beta(a, b[, size])\n",
    "beta(1,10,3)"
   ]
  },
  {
   "cell_type": "code",
   "execution_count": 13,
   "id": "57404434",
   "metadata": {},
   "outputs": [
    {
     "data": {
      "text/plain": [
       "6.45"
      ]
     },
     "execution_count": 13,
     "metadata": {},
     "output_type": "execute_result"
    }
   ],
   "source": [
    "#Draw samples from a binomial distribution.\n",
    "\n",
    "#binomial(n, p[, size])\n",
    "np.mean(binomial(10,0.6,40))"
   ]
  },
  {
   "cell_type": "code",
   "execution_count": 14,
   "id": "473ef80e",
   "metadata": {},
   "outputs": [
    {
     "data": {
      "text/plain": [
       "array([0.38211706, 1.46609414, 2.28332675, 1.52272503, 3.61303628,\n",
       "       3.53217815, 3.11585751, 0.68520334, 1.43670167, 1.81882934])"
      ]
     },
     "execution_count": 14,
     "metadata": {},
     "output_type": "execute_result"
    }
   ],
   "source": [
    "#Draw samples from a chi-square distribution.\n",
    "\n",
    "#chisquare(df[, size])\n",
    "chisquare(2,10)"
   ]
  },
  {
   "cell_type": "code",
   "execution_count": 15,
   "id": "d8323cb4",
   "metadata": {},
   "outputs": [],
   "source": [
    "#Draw samples from an exponential distribution.\n",
    "\n",
    "#exponential([scale, size])"
   ]
  },
  {
   "cell_type": "code",
   "execution_count": 16,
   "id": "43ae36f8",
   "metadata": {},
   "outputs": [],
   "source": [
    "#Draw samples from an F distribution.\n",
    "\n",
    "#f(dfnum, dfden[, size])"
   ]
  },
  {
   "cell_type": "code",
   "execution_count": 17,
   "id": "4f40256e",
   "metadata": {},
   "outputs": [],
   "source": [
    "#Draw samples from a Gamma distribution.\n",
    "\n",
    "#gamma(shape[, scale, size])"
   ]
  },
  {
   "cell_type": "code",
   "execution_count": 18,
   "id": "6bb0a334",
   "metadata": {},
   "outputs": [],
   "source": [
    "#Draw samples from the geometric distribution.\n",
    "\n",
    "#geometric(p[, size])"
   ]
  },
  {
   "cell_type": "code",
   "execution_count": 19,
   "id": "aeaa507f",
   "metadata": {},
   "outputs": [],
   "source": [
    "#Draw samples from a Gumbel distribution.\n",
    "\n",
    "#gumbel([loc, scale, size])"
   ]
  },
  {
   "cell_type": "code",
   "execution_count": 20,
   "id": "19d40029",
   "metadata": {},
   "outputs": [],
   "source": [
    "#Draw samples from a Hypergeometric distribution.\n",
    "\n",
    "#hypergeometric(ngood, nbad, nsample[, size])"
   ]
  },
  {
   "cell_type": "code",
   "execution_count": 21,
   "id": "29a6e0fd",
   "metadata": {},
   "outputs": [],
   "source": [
    "#Draw samples from the Laplace or double exponential distribution with specified location (or mean) and scale (decay).\n",
    "\n",
    "#laplace([loc, scale, size])"
   ]
  },
  {
   "cell_type": "code",
   "execution_count": 22,
   "id": "a939e95b",
   "metadata": {},
   "outputs": [],
   "source": [
    "#Draw samples from a logistic distribution.\n",
    "\n",
    "#logistic([loc, scale, size])"
   ]
  },
  {
   "cell_type": "code",
   "execution_count": 23,
   "id": "2e27ab08",
   "metadata": {},
   "outputs": [],
   "source": [
    "#Draw samples from a log-normal distribution.\n",
    "\n",
    "#lognormal([mean, sigma, size])"
   ]
  },
  {
   "cell_type": "code",
   "execution_count": 24,
   "id": "5a8bc5a5",
   "metadata": {},
   "outputs": [],
   "source": [
    "#Draw samples from a multinomial distribution.\n",
    "\n",
    "#multinomial(n, pvals[, size])"
   ]
  },
  {
   "cell_type": "code",
   "execution_count": 25,
   "id": "342c04fd",
   "metadata": {},
   "outputs": [],
   "source": [
    "#Draw random samples from a multivariate normal distribution.\n",
    "\n",
    "#multivariate_normal(mean, cov[, size, …)"
   ]
  },
  {
   "cell_type": "code",
   "execution_count": 26,
   "id": "b410b2a1",
   "metadata": {},
   "outputs": [],
   "source": [
    "#Draw samples from a negative binomial distribution.\n",
    "\n",
    "#negative_binomial(n, p[, size])"
   ]
  },
  {
   "cell_type": "code",
   "execution_count": 27,
   "id": "27ae7231",
   "metadata": {},
   "outputs": [],
   "source": [
    "#Draw samples from a noncentral chi-square distribution.\n",
    "\n",
    "#noncentral_chisquare(df, nonc[, size])"
   ]
  },
  {
   "cell_type": "code",
   "execution_count": 28,
   "id": "a6392850",
   "metadata": {},
   "outputs": [],
   "source": [
    "#Draw samples from the noncentral F distribution.\n",
    "\n",
    "#noncentral_f(dfnum, dfden, nonc[, size])"
   ]
  },
  {
   "cell_type": "code",
   "execution_count": 29,
   "id": "6e5a298d",
   "metadata": {},
   "outputs": [
    {
     "data": {
      "text/plain": [
       "15.893193874768492"
      ]
     },
     "execution_count": 29,
     "metadata": {},
     "output_type": "execute_result"
    }
   ],
   "source": [
    "#Draw random samples from a normal (Gaussian) distribution.\n",
    "\n",
    "#normal([loc, scale, size])\n",
    "np.var(normal(10,4,1000))"
   ]
  },
  {
   "cell_type": "code",
   "execution_count": 30,
   "id": "dc3a475e",
   "metadata": {},
   "outputs": [],
   "source": [
    "#Draw samples from a Pareto II or Lomax distribution with specified shape.\n",
    "\n",
    "#pareto(a[, size])"
   ]
  },
  {
   "cell_type": "code",
   "execution_count": 31,
   "id": "41457305",
   "metadata": {},
   "outputs": [],
   "source": [
    "#Draw samples from a Poisson distribution.\n",
    "\n",
    "#poisson([lam, size])"
   ]
  },
  {
   "cell_type": "code",
   "execution_count": 32,
   "id": "11ecc598",
   "metadata": {},
   "outputs": [],
   "source": [
    "#Draw samples from a standard Cauchy distribution with mode = 0.\n",
    "\n",
    "#standard_cauchy([size])"
   ]
  },
  {
   "cell_type": "code",
   "execution_count": 33,
   "id": "fa19d664",
   "metadata": {},
   "outputs": [],
   "source": [
    "#Draw samples from the standard exponential distribution.\n",
    "\n",
    "#standard_exponential([size])"
   ]
  },
  {
   "cell_type": "code",
   "execution_count": 34,
   "id": "1d4174cf",
   "metadata": {},
   "outputs": [],
   "source": [
    "#Draw samples from a standard Gamma distribution.\n",
    "\n",
    "#standard_gamma(shape[, size])"
   ]
  },
  {
   "cell_type": "code",
   "execution_count": 35,
   "id": "b5ae33dd",
   "metadata": {},
   "outputs": [
    {
     "name": "stdout",
     "output_type": "stream",
     "text": [
      "[ 0.15718669  2.24169162 -0.6674858  -0.93820881 -1.10876899]\n",
      "[-1.03995595  0.14953992 -0.12624207 -1.10037975  0.68264334]\n"
     ]
    }
   ],
   "source": [
    "#Draw samples from a standard Normal distribution (mean=0, stdev=1).\n",
    "\n",
    "#standard_normal([size])\n",
    "print(standard_normal(5))\n",
    "print(randn(5))"
   ]
  },
  {
   "cell_type": "code",
   "execution_count": 36,
   "id": "d971cfa4",
   "metadata": {},
   "outputs": [],
   "source": [
    "#Draw samples from a standard Student’s t distribution with df degrees of freedom.\n",
    "\n",
    "#standard_t(df[, size])"
   ]
  },
  {
   "cell_type": "code",
   "execution_count": 37,
   "id": "ecaa1859",
   "metadata": {},
   "outputs": [],
   "source": [
    "#Draw samples from the triangular distribution over the interval [left, right].\n",
    "\n",
    "#triangular(left, mode, right[, size])"
   ]
  },
  {
   "cell_type": "code",
   "execution_count": 4,
   "id": "5e748708",
   "metadata": {},
   "outputs": [
    {
     "data": {
      "text/html": [
       "<div>\n",
       "<style scoped>\n",
       "    .dataframe tbody tr th:only-of-type {\n",
       "        vertical-align: middle;\n",
       "    }\n",
       "\n",
       "    .dataframe tbody tr th {\n",
       "        vertical-align: top;\n",
       "    }\n",
       "\n",
       "    .dataframe thead th {\n",
       "        text-align: right;\n",
       "    }\n",
       "</style>\n",
       "<table border=\"1\" class=\"dataframe\">\n",
       "  <thead>\n",
       "    <tr style=\"text-align: right;\">\n",
       "      <th></th>\n",
       "      <th>Size</th>\n",
       "      <th>T1_Average</th>\n",
       "      <th>T1_MSError</th>\n",
       "      <th>T2_Average</th>\n",
       "      <th>T2_MSError</th>\n",
       "    </tr>\n",
       "  </thead>\n",
       "  <tbody>\n",
       "    <tr>\n",
       "      <th>0</th>\n",
       "      <td>5</td>\n",
       "      <td>4.196691</td>\n",
       "      <td>1.108845</td>\n",
       "      <td>5.059186</td>\n",
       "      <td>1.577976</td>\n",
       "    </tr>\n",
       "    <tr>\n",
       "      <th>1</th>\n",
       "      <td>10</td>\n",
       "      <td>4.511735</td>\n",
       "      <td>0.429658</td>\n",
       "      <td>4.949825</td>\n",
       "      <td>0.853529</td>\n",
       "    </tr>\n",
       "    <tr>\n",
       "      <th>2</th>\n",
       "      <td>25</td>\n",
       "      <td>4.799121</td>\n",
       "      <td>0.077997</td>\n",
       "      <td>5.010803</td>\n",
       "      <td>0.337470</td>\n",
       "    </tr>\n",
       "    <tr>\n",
       "      <th>3</th>\n",
       "      <td>50</td>\n",
       "      <td>4.896989</td>\n",
       "      <td>0.021582</td>\n",
       "      <td>4.992070</td>\n",
       "      <td>0.166715</td>\n",
       "    </tr>\n",
       "    <tr>\n",
       "      <th>4</th>\n",
       "      <td>100</td>\n",
       "      <td>4.950049</td>\n",
       "      <td>0.005127</td>\n",
       "      <td>5.006138</td>\n",
       "      <td>0.082298</td>\n",
       "    </tr>\n",
       "    <tr>\n",
       "      <th>5</th>\n",
       "      <td>200</td>\n",
       "      <td>4.974579</td>\n",
       "      <td>0.001274</td>\n",
       "      <td>4.995067</td>\n",
       "      <td>0.043004</td>\n",
       "    </tr>\n",
       "  </tbody>\n",
       "</table>\n",
       "</div>"
      ],
      "text/plain": [
       "   Size  T1_Average  T1_MSError  T2_Average  T2_MSError\n",
       "0     5    4.196691    1.108845    5.059186    1.577976\n",
       "1    10    4.511735    0.429658    4.949825    0.853529\n",
       "2    25    4.799121    0.077997    5.010803    0.337470\n",
       "3    50    4.896989    0.021582    4.992070    0.166715\n",
       "4   100    4.950049    0.005127    5.006138    0.082298\n",
       "5   200    4.974579    0.001274    4.995067    0.043004"
      ]
     },
     "execution_count": 4,
     "metadata": {},
     "output_type": "execute_result"
    }
   ],
   "source": [
    "#Draw samples from a uniform distribution.\n",
    "sizes=[5,10,25,50,100,200]\n",
    "#uniform([low, high, size])\n",
    "i=0\n",
    "T1_avg,T1_mse,T2_avg,T2_mse=[0]*len(sizes),[0]*len(sizes),[0]*len(sizes),[0]*len(sizes)\n",
    "\n",
    "for j in sizes:\n",
    "    s=uniform(0,5,[1000,j])\n",
    "    s1=pd.DataFrame(s,index=np.arange(1000)+1,columns=np.arange(j)+1)\n",
    "    s1\n",
    "    T1_avg[i]=np.mean(s1.apply(np.max,axis=1))\n",
    "    T1_mse[i]=np.mean((s1.apply(np.max,axis=1)-5)**2)\n",
    "    T2_avg[i]=np.mean(2*s1.apply(np.mean,axis=1))\n",
    "    T2_mse[i]=np.mean((2*s1.apply(np.mean,axis=1)-5)**2)\n",
    "    i=i+1\n",
    "    \n",
    "pd.DataFrame({\"Size\": sizes,\n",
    "              \"T1_Average\": T1_avg,\n",
    "              \"T1_MSError\": T1_mse,\n",
    "              \"T2_Average\": T2_avg,\n",
    "              \"T2_MSError\": T2_mse\n",
    "    \n",
    "})    "
   ]
  },
  {
   "cell_type": "code",
   "execution_count": 39,
   "id": "3d47864c",
   "metadata": {},
   "outputs": [
    {
     "data": {
      "text/plain": [
       "0.001117346730686179"
      ]
     },
     "execution_count": 39,
     "metadata": {},
     "output_type": "execute_result"
    }
   ],
   "source": [
    "np.mean((s1.apply(np.max,axis=1)-5)**2)"
   ]
  },
  {
   "cell_type": "code",
   "execution_count": 40,
   "id": "d8a96e6c",
   "metadata": {},
   "outputs": [
    {
     "data": {
      "text/plain": [
       "0.001117346730686179"
      ]
     },
     "execution_count": 40,
     "metadata": {},
     "output_type": "execute_result"
    }
   ],
   "source": [
    "np.mean((s1.apply(np.max,axis=1)-5)**2)"
   ]
  },
  {
   "cell_type": "code",
   "execution_count": 41,
   "id": "6fb44f8b",
   "metadata": {},
   "outputs": [],
   "source": [
    "#Draw samples from a Weibull distribution.\n",
    "\n",
    "#weibull(a[, size])"
   ]
  },
  {
   "cell_type": "code",
   "execution_count": null,
   "id": "970b8c26",
   "metadata": {},
   "outputs": [],
   "source": []
  },
  {
   "cell_type": "code",
   "execution_count": 42,
   "id": "cfaf413b",
   "metadata": {},
   "outputs": [
    {
     "name": "stdout",
     "output_type": "stream",
     "text": [
      "------------------------------------------------\n",
      "Uniform:\n",
      "0.5\n",
      "1.5 0.8660254037844386 0.75\n",
      "0.5\n",
      "[0.93246135 0.20826438]\n",
      "[0.0015286  0.61745565 0.63117304 1.11012664 0.73062123]\n",
      "1.0\n"
     ]
    }
   ],
   "source": [
    "from scipy import stats\n",
    "\n",
    "print(\"------------------------------------------------\")\n",
    "print(\"Uniform:\")\n",
    "print(stats.uniform.cdf(0.5, 0, 1))\n",
    "print(stats.uniform.mean(0, 3), stats.uniform.std(0, 3), stats.uniform.var(0, 3))\n",
    "print(stats.uniform.ppf(0.5, 0, 1))\n",
    "print(stats.uniform.rvs(size=2))\n",
    "print(stats.uniform.rvs(0,2,size=5))\n",
    "print(stats.uniform.pdf(0.3))"
   ]
  },
  {
   "cell_type": "code",
   "execution_count": 3,
   "id": "2db4cca6",
   "metadata": {},
   "outputs": [
    {
     "name": "stdout",
     "output_type": "stream",
     "text": [
      "------------------------------------------------\n",
      "Normal Distribution\n",
      "F(1)=0.159\n",
      "Mean=0.000,SD=1.000,Var=1.000\n",
      "F(0.685)=0.65\n",
      "[ 1.74460389 -1.08102187]\n",
      "[11.03986958  8.8910174 ]\n"
     ]
    },
    {
     "data": {
      "image/png": "[encoded data removed]",
      "text/plain": [
       "<Figure size 432x288 with 1 Axes>"
      ]
     },
     "metadata": {
      "needs_background": "light"
     },
     "output_type": "display_data"
    }
   ],
   "source": [
    "from scipy.stats import norm\n",
    "import matplotlib.pyplot as plt\n",
    "import numpy as np\n",
    "\n",
    "print(\"------------------------------------------------\")\n",
    "print(\"Normal Distribution\")\n",
    "print(\"F(1)=%1.3f\"%norm.cdf(0, 1, 1))\n",
    "print(\"Mean=%1.3f,SD=%1.3f,Var=%1.3f\"%(norm.mean(), norm.std(), norm.var()))\n",
    "print(\"F(%1.3f)=0.65\"% norm.ppf(0.65, 0.3, 1))\n",
    "print(norm.rvs(size=2))\n",
    "print(norm.rvs(10, 2, size=2))\n",
    "\n",
    "x=np.sort(norm.rvs(size=1000))\n",
    "#plt.hist(x,bins=[-3,-2,-1,0,1,2,3])\n",
    "plt.plot(x,norm.pdf(x),'r')\n",
    "plt.plot(x,norm.pdf(x,0.2,1.1),'g')\n",
    "\n",
    "plt.show()"
   ]
  },
  {
   "cell_type": "code",
   "execution_count": 44,
   "id": "69430b7a",
   "metadata": {},
   "outputs": [
    {
     "name": "stdout",
     "output_type": "stream",
     "text": [
      "------------------------------------------------\n",
      "Exponential:\n",
      "F(1)=0.632\n",
      "Mean=1.000,SD=1.000,Var=1.000\n",
      "F(1.693)=0.5\n",
      "[0.91515326 0.02120555]\n",
      "[2.70139381 3.59713509 2.28331239 2.53135106 2.15806125 2.50483509]\n"
     ]
    }
   ],
   "source": [
    "from scipy.stats import expon\n",
    "\n",
    "print(\"------------------------------------------------\")\n",
    "print('Exponential:')\n",
    "print(\"F(1)=%1.3f\"%expon.cdf(1))\n",
    "print(\"Mean=%1.3f,SD=%1.3f,Var=%1.3f\"%(expon.mean(), expon.std(), expon.var()))\n",
    "print(\"F(%1.3f)=0.5\"% expon.ppf(0.5, 1))\n",
    "print(expon.rvs(size=2))\n",
    "print(expon.rvs(2,size=6))"
   ]
  }
 ],
 "metadata": {
  "kernelspec": {
   "display_name": "Python 3",
   "language": "python",
   "name": "python3"
  },
  "language_info": {
   "codemirror_mode": {
    "name": "ipython",
    "version": 3
   },
   "file_extension": ".py",
   "mimetype": "text/x-python",
   "name": "python",
   "nbconvert_exporter": "python",
   "pygments_lexer": "ipython3",
   "version": "3.9.5"
  },
  "latex_envs": {
   "LaTeX_envs_menu_present": true,
   "autoclose": false,
   "autocomplete": true,
   "bibliofile": "biblio.bib",
   "cite_by": "apalike",
   "current_citInitial": 1,
   "eqLabelWithNumbers": true,
   "eqNumInitial": 1,
   "hotkeys": {
    "equation": "Ctrl-E",
    "itemize": "Ctrl-I"
   },
   "labels_anchors": false,
   "latex_user_defs": false,
   "report_style_numbering": false,
   "user_envs_cfg": false
  }
 },
 "nbformat": 4,
 "nbformat_minor": 5
}
