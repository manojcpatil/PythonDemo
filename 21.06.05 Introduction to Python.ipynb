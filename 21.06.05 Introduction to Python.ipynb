{
 "cells": [
  {
   "cell_type": "code",
   "execution_count": 1,
   "id": "efebbdb1",
   "metadata": {
    "slideshow": {
     "slide_type": "slide"
    }
   },
   "outputs": [
    {
     "name": "stdout",
     "output_type": "stream",
     "text": [
      "Hello, World\n",
      "Hello, World Manoj\n"
     ]
    }
   ],
   "source": [
    "print(\"Hello, World\")\n",
    "print('Hello, World',\"Manoj\")"
   ]
  },
  {
   "cell_type": "code",
   "execution_count": 2,
   "id": "7d9bf3c0",
   "metadata": {},
   "outputs": [],
   "source": [
    "# print \"fg\" # Missing parentheses"
   ]
  },
  {
   "cell_type": "code",
   "execution_count": 3,
   "id": "51651753",
   "metadata": {},
   "outputs": [
    {
     "name": "stdout",
     "output_type": "stream",
     "text": [
      "Fail to reject Ho with p-value as 0.08\n",
      "End\n",
      "End Outside\n"
     ]
    }
   ],
   "source": [
    "pval=0.08\n",
    "if pval<=0.05:\n",
    "    print(\"Reject Ho with p-value as\", pval)\n",
    "    print(\"Hello\")\n",
    "else:\n",
    "    print(\"Fail to reject Ho with p-value as\", pval)\n",
    "    print(\"End\")\n",
    "print(\"End Outside\")"
   ]
  },
  {
   "cell_type": "markdown",
   "id": "267cd82f",
   "metadata": {
    "slideshow": {
     "slide_type": "slide"
    }
   },
   "source": [
    "## Reserved Keywords\n",
    "\n",
    "and, if, else, def, break, not, continue, for, goto, import, while, elif, return, print, from, class, with etc"
   ]
  },
  {
   "cell_type": "markdown",
   "id": "f7b1e066",
   "metadata": {
    "slideshow": {
     "slide_type": "slide"
    }
   },
   "source": [
    "## Comment"
   ]
  },
  {
   "cell_type": "code",
   "execution_count": 4,
   "id": "c5260526",
   "metadata": {},
   "outputs": [
    {
     "data": {
      "text/plain": [
       "2"
      ]
     },
     "execution_count": 4,
     "metadata": {},
     "output_type": "execute_result"
    }
   ],
   "source": [
    "# First Comment\n",
    "x=2   # sample\n",
    "x\n",
    "# Multiple line comment \"\"\"not working\"\"\" "
   ]
  },
  {
   "cell_type": "code",
   "execution_count": 5,
   "id": "eaf271f0",
   "metadata": {},
   "outputs": [],
   "source": [
    "# Nonopndvanspo\n",
    "# dnvsd"
   ]
  },
  {
   "cell_type": "markdown",
   "id": "09c507c8",
   "metadata": {
    "slideshow": {
     "slide_type": "slide"
    }
   },
   "source": [
    "# Assigning values to Variables"
   ]
  },
  {
   "cell_type": "code",
   "execution_count": 6,
   "id": "33d29b97",
   "metadata": {},
   "outputs": [
    {
     "name": "stdout",
     "output_type": "stream",
     "text": [
      "2 3\n"
     ]
    }
   ],
   "source": [
    "a=2\n",
    "b=3\n",
    "print(a,b)"
   ]
  },
  {
   "cell_type": "code",
   "execution_count": 7,
   "id": "5a6b632e",
   "metadata": {},
   "outputs": [
    {
     "name": "stdout",
     "output_type": "stream",
     "text": [
      "3 4\n"
     ]
    }
   ],
   "source": [
    "x,y=3,4\n",
    "print(x,y)"
   ]
  },
  {
   "cell_type": "code",
   "execution_count": 8,
   "id": "22d56acf",
   "metadata": {},
   "outputs": [
    {
     "name": "stdout",
     "output_type": "stream",
     "text": [
      "1\n",
      "1\n",
      "2\n",
      "3\n"
     ]
    }
   ],
   "source": [
    "x=y=1\n",
    "print(x)\n",
    "print(y)\n",
    "y=2\n",
    "print(y)\n",
    "print(x+y)"
   ]
  },
  {
   "cell_type": "code",
   "execution_count": 9,
   "id": "ef8aa890",
   "metadata": {},
   "outputs": [
    {
     "data": {
      "text/plain": [
       "'Some String'"
      ]
     },
     "execution_count": 9,
     "metadata": {},
     "output_type": "execute_result"
    }
   ],
   "source": [
    "x='Some String'\n",
    "x"
   ]
  },
  {
   "cell_type": "code",
   "execution_count": 10,
   "id": "dc57ebe5",
   "metadata": {},
   "outputs": [
    {
     "data": {
      "text/plain": [
       "'Some StringAnother String'"
      ]
     },
     "execution_count": 10,
     "metadata": {},
     "output_type": "execute_result"
    }
   ],
   "source": [
    "y=\"Another String\"\n",
    "x+y"
   ]
  },
  {
   "cell_type": "code",
   "execution_count": 11,
   "id": "3896dc87",
   "metadata": {},
   "outputs": [
    {
     "data": {
      "text/plain": [
       "(5.4, 3, 'Manoj')"
      ]
     },
     "execution_count": 11,
     "metadata": {},
     "output_type": "execute_result"
    }
   ],
   "source": [
    "x,y,z=\"Manoj\", 3, 5.4\n",
    "z,y,x"
   ]
  },
  {
   "cell_type": "markdown",
   "id": "48e0beeb",
   "metadata": {
    "slideshow": {
     "slide_type": "slide"
    }
   },
   "source": [
    "\n",
    "# Standard Datatypes\n",
    "\n",
    "1. Number\n",
    "2. String\n",
    "3. List\n",
    "4. Tuples\n",
    "5. Dictionary"
   ]
  },
  {
   "cell_type": "code",
   "execution_count": 12,
   "id": "28133072",
   "metadata": {
    "slideshow": {
     "slide_type": "slide"
    }
   },
   "outputs": [
    {
     "data": {
      "text/plain": [
       "(1, -2, 0)"
      ]
     },
     "execution_count": 12,
     "metadata": {},
     "output_type": "execute_result"
    }
   ],
   "source": [
    "int_1,int_2,int_3=1, -2, 0\n",
    "int_1,int_2,int_3"
   ]
  },
  {
   "cell_type": "code",
   "execution_count": 13,
   "id": "b0d8481a",
   "metadata": {},
   "outputs": [
    {
     "data": {
      "text/plain": [
       "3.1454373367"
      ]
     },
     "execution_count": 13,
     "metadata": {},
     "output_type": "execute_result"
    }
   ],
   "source": [
    "float_1=3.1454373367\n",
    "float_1"
   ]
  },
  {
   "cell_type": "code",
   "execution_count": 14,
   "id": "ed797cb7",
   "metadata": {
    "slideshow": {
     "slide_type": "-"
    }
   },
   "outputs": [
    {
     "data": {
      "text/plain": [
       "3.14544"
      ]
     },
     "execution_count": 14,
     "metadata": {},
     "output_type": "execute_result"
    }
   ],
   "source": [
    "round(float_1,5)"
   ]
  },
  {
   "cell_type": "code",
   "execution_count": 15,
   "id": "cfcee818",
   "metadata": {},
   "outputs": [
    {
     "data": {
      "text/plain": [
       "124325849879460000005165156616543"
      ]
     },
     "execution_count": 15,
     "metadata": {},
     "output_type": "execute_result"
    }
   ],
   "source": [
    "Long_1=124325849879460000005165156616543   # Long Number ????\n",
    "Long_1"
   ]
  },
  {
   "cell_type": "code",
   "execution_count": 16,
   "id": "0c02639d",
   "metadata": {},
   "outputs": [
    {
     "data": {
      "text/plain": [
       "(2+4.34j)"
      ]
     },
     "execution_count": 16,
     "metadata": {},
     "output_type": "execute_result"
    }
   ],
   "source": [
    "complex_1,complex_2=3.14j, 2+1.2j\n",
    "complex_2+complex_1"
   ]
  },
  {
   "cell_type": "markdown",
   "id": "ce589b7d",
   "metadata": {
    "slideshow": {
     "slide_type": "slide"
    }
   },
   "source": [
    "## String"
   ]
  },
  {
   "cell_type": "code",
   "execution_count": 17,
   "id": "49959f07",
   "metadata": {},
   "outputs": [
    {
     "data": {
      "text/plain": [
       "'abcdefghij'"
      ]
     },
     "execution_count": 17,
     "metadata": {},
     "output_type": "execute_result"
    }
   ],
   "source": [
    "str=\"abcdefghij\"\n",
    "str"
   ]
  },
  {
   "cell_type": "code",
   "execution_count": 18,
   "id": "8b4bc7d9",
   "metadata": {},
   "outputs": [
    {
     "name": "stdout",
     "output_type": "stream",
     "text": [
      "abcdefghij\n",
      "a\n",
      "abc\n",
      "bcd\n",
      "h\n"
     ]
    }
   ],
   "source": [
    "### indexing and Slicing\n",
    "print(str)       # 0123456789\n",
    "print(str[0])    # 0\n",
    "print(str[0:3])  # 012\n",
    "print(str[1:4])  # 123\n",
    "print(str[-3])   # 7"
   ]
  },
  {
   "cell_type": "code",
   "execution_count": 19,
   "id": "f078200c",
   "metadata": {},
   "outputs": [
    {
     "data": {
      "text/plain": [
       "'Hello Hello Hello '"
      ]
     },
     "execution_count": 19,
     "metadata": {},
     "output_type": "execute_result"
    }
   ],
   "source": [
    "str=\"Hello \"\n",
    "str+str+str"
   ]
  },
  {
   "cell_type": "code",
   "execution_count": 20,
   "id": "8e54b64f",
   "metadata": {},
   "outputs": [
    {
     "name": "stdout",
     "output_type": "stream",
     "text": [
      "The t-statistics value is 0.45601, so the pvalue is 0.002\n"
     ]
    }
   ],
   "source": [
    "tstat=0.456005498\n",
    "pval=0.002\n",
    "print(\"The t-statistics value is %.5f, so the pvalue is %.3f\"%(tstat,pval))"
   ]
  },
  {
   "cell_type": "markdown",
   "id": "047a0c80",
   "metadata": {
    "slideshow": {
     "slide_type": "slide"
    }
   },
   "source": [
    "## Lists"
   ]
  },
  {
   "cell_type": "code",
   "execution_count": 21,
   "id": "3ef187a3",
   "metadata": {},
   "outputs": [
    {
     "data": {
      "text/plain": [
       "['Manoj', 816, 2009, 'Asst Prof', [2, 3, 4]]"
      ]
     },
     "execution_count": 21,
     "metadata": {},
     "output_type": "execute_result"
    }
   ],
   "source": [
    "list=[\"Manoj\",816,2009,\"Asst Prof\",[2,3,4]]\n",
    "list"
   ]
  },
  {
   "cell_type": "code",
   "execution_count": 22,
   "id": "eb0e4bc0",
   "metadata": {},
   "outputs": [
    {
     "data": {
      "text/plain": [
       "2"
      ]
     },
     "execution_count": 22,
     "metadata": {},
     "output_type": "execute_result"
    }
   ],
   "source": [
    "list2=[list, 23.6]\n",
    "len(list2)"
   ]
  },
  {
   "cell_type": "code",
   "execution_count": 58,
   "id": "d53ffc2e",
   "metadata": {},
   "outputs": [
    {
     "data": {
      "text/plain": [
       "[1, 2, 3, 4, 5, 6]"
      ]
     },
     "execution_count": 58,
     "metadata": {},
     "output_type": "execute_result"
    }
   ],
   "source": [
    "list1, list2 =[1,2,3], [4,5,6]\n",
    "list1+list2"
   ]
  },
  {
   "cell_type": "code",
   "execution_count": 59,
   "id": "ca12944e",
   "metadata": {},
   "outputs": [
    {
     "data": {
      "text/plain": [
       "15"
      ]
     },
     "execution_count": 59,
     "metadata": {},
     "output_type": "execute_result"
    }
   ],
   "source": [
    "len(list*3)"
   ]
  },
  {
   "cell_type": "markdown",
   "id": "0c99ca20",
   "metadata": {
    "slideshow": {
     "slide_type": "slide"
    }
   },
   "source": [
    "## Oprations on List"
   ]
  },
  {
   "cell_type": "code",
   "execution_count": 62,
   "id": "8c728d2c",
   "metadata": {
    "slideshow": {
     "slide_type": "-"
    }
   },
   "outputs": [
    {
     "name": "stdout",
     "output_type": "stream",
     "text": [
      "6\n",
      "2\n",
      "[2, 4, 5, 6, 2, 3, 5]\n",
      "11\n",
      "[3, 4, 5, 6, 2, 3, 5, 5, 8, 9, 0]\n"
     ]
    }
   ],
   "source": [
    "List1=[2,4,5,6,2,3]\n",
    "print(max(List1))\n",
    "print(min(List1))\n",
    "List1.append(5)\n",
    "print(List1)\n",
    "List1.extend([5,8,9,0])\n",
    "print(len(List1))\n",
    "List1[0]=3 # Modification\n",
    "print(List1)"
   ]
  },
  {
   "cell_type": "code",
   "execution_count": 76,
   "id": "5039010d",
   "metadata": {},
   "outputs": [
    {
     "data": {
      "text/plain": [
       "['C', 'h', 'e', 't', 'a', 'n']"
      ]
     },
     "execution_count": 76,
     "metadata": {},
     "output_type": "execute_result"
    }
   ],
   "source": [
    "tre='Chetan'\n",
    "trelist=[]\n",
    "for i in tre:\n",
    "    trelist.append(i)\n",
    "trelist"
   ]
  },
  {
   "cell_type": "markdown",
   "id": "27ef488a",
   "metadata": {
    "slideshow": {
     "slide_type": "slide"
    }
   },
   "source": [
    "## Tuples"
   ]
  },
  {
   "cell_type": "code",
   "execution_count": 82,
   "id": "cc226524",
   "metadata": {},
   "outputs": [
    {
     "data": {
      "text/plain": [
       "('Manoj', 23, 1.2, 'Patil')"
      ]
     },
     "execution_count": 82,
     "metadata": {},
     "output_type": "execute_result"
    }
   ],
   "source": [
    "tuple1=('Manoj',23,1.2,'Patil')\n",
    "tuple1"
   ]
  },
  {
   "cell_type": "code",
   "execution_count": 106,
   "id": "9e8862e7",
   "metadata": {},
   "outputs": [
    {
     "data": {
      "text/plain": [
       "5"
      ]
     },
     "execution_count": 106,
     "metadata": {},
     "output_type": "execute_result"
    }
   ],
   "source": [
    "# tuple1[1]=35  #'tuple' object does not support item assignment\n",
    "List=['Manoj',23,1.2,'Patil']\n",
    "tuple2=(4,5,5,5,5,5)\n",
    "tuple3=tuple1+tuple2\n",
    "tuple3[-4:]\n",
    "tuple3.count(5)"
   ]
  },
  {
   "cell_type": "code",
   "execution_count": 111,
   "id": "c52d0360",
   "metadata": {
    "slideshow": {
     "slide_type": "subslide"
    }
   },
   "outputs": [
    {
     "name": "stdout",
     "output_type": "stream",
     "text": [
      "Max : 98\n",
      "Min : 1\n",
      "Sum : 238\n",
      "1 5\n",
      "2 3\n",
      "3 3\n",
      "4 3\n",
      "5 2\n",
      "98 2\n"
     ]
    }
   ],
   "source": [
    "tuple4=(1,1,1,1,1,2,2,2,3,3,3,4,5,4,5,4,98,98)\n",
    "print('Max :',max(tuple4))\n",
    "print('Min :',min(tuple4))\n",
    "print('Sum :',sum(tuple4))\n",
    "#print('Mean:',mean(tuple4))\n",
    "for item in set(tuple4):\n",
    "    print(item,tuple4.count(item))"
   ]
  },
  {
   "cell_type": "markdown",
   "id": "ac6c4ec7",
   "metadata": {
    "slideshow": {
     "slide_type": "slide"
    }
   },
   "source": [
    "## Dictionary"
   ]
  },
  {
   "cell_type": "code",
   "execution_count": 128,
   "id": "a4c815d4",
   "metadata": {},
   "outputs": [
    {
     "data": {
      "text/plain": [
       "{'Name': ['Manoj', 'Chetan'],\n",
       " 'Age': [35, 22],\n",
       " 'Edu': ['Stats', 'Actuarial'],\n",
       " 'Address': ['Jalgaon', 'Dhule']}"
      ]
     },
     "execution_count": 128,
     "metadata": {},
     "output_type": "execute_result"
    }
   ],
   "source": [
    "dict1={'Name':[\"Manoj\",\"Chetan\"],\n",
    "       'Age':[35, 22],\n",
    "       \"Edu\":[\"Stats\",\"Actuarial\"]}\n",
    "dict2={'Address':['Jalgaon','Dhule']}\n",
    "dict1.update(dict2)\n",
    "dict1"
   ]
  },
  {
   "cell_type": "code",
   "execution_count": 114,
   "id": "d50c2fb8",
   "metadata": {},
   "outputs": [
    {
     "name": "stdout",
     "output_type": "stream",
     "text": [
      "Key : Name value : ['Manoj', 'Chetan']\n",
      "Key : Age value : [35, 22]\n",
      "Key : Edu value : ['Stats', 'Actuarial']\n"
     ]
    }
   ],
   "source": [
    "for key, value in dict1.items():\n",
    "    print(\"Key :\",key,\"value :\",value)"
   ]
  },
  {
   "cell_type": "code",
   "execution_count": null,
   "id": "54cc717b",
   "metadata": {},
   "outputs": [],
   "source": []
  },
  {
   "cell_type": "code",
   "execution_count": 122,
   "id": "32140643",
   "metadata": {},
   "outputs": [
    {
     "data": {
      "text/plain": [
       "['Stats', 'Actuarial']"
      ]
     },
     "execution_count": 122,
     "metadata": {},
     "output_type": "execute_result"
    }
   ],
   "source": [
    "dict1.get('Edu')"
   ]
  },
  {
   "cell_type": "code",
   "execution_count": 129,
   "id": "ed615d78",
   "metadata": {
    "slideshow": {
     "slide_type": "slide"
    }
   },
   "outputs": [
    {
     "data": {
      "text/plain": [
       "['Manoj', 35, 'stat']"
      ]
     },
     "execution_count": 129,
     "metadata": {},
     "output_type": "execute_result"
    }
   ],
   "source": [
    "list1=[\"Manoj\",35,'stat']\n",
    "list1"
   ]
  },
  {
   "cell_type": "code",
   "execution_count": null,
   "id": "a2144dfe",
   "metadata": {},
   "outputs": [],
   "source": []
  },
  {
   "cell_type": "code",
   "execution_count": 130,
   "id": "07cd091d",
   "metadata": {},
   "outputs": [
    {
     "data": {
      "text/plain": [
       "[3, 1, 2, 2, 4, 2, 3]"
      ]
     },
     "execution_count": 130,
     "metadata": {},
     "output_type": "execute_result"
    }
   ],
   "source": [
    "list2=[3,1,2]\n",
    "list2+=[2,4,2,3]\n",
    "list2"
   ]
  },
  {
   "cell_type": "code",
   "execution_count": 131,
   "id": "0aece4e5",
   "metadata": {},
   "outputs": [],
   "source": [
    "set1=set(list2)"
   ]
  },
  {
   "cell_type": "code",
   "execution_count": 132,
   "id": "fe56c2fa",
   "metadata": {},
   "outputs": [
    {
     "data": {
      "text/plain": [
       "{1, 2, 3, 4}"
      ]
     },
     "execution_count": 132,
     "metadata": {},
     "output_type": "execute_result"
    }
   ],
   "source": [
    "set1"
   ]
  },
  {
   "cell_type": "code",
   "execution_count": 134,
   "id": "610ad317",
   "metadata": {},
   "outputs": [],
   "source": [
    "#set1[1] # 'set' object is not subscriptable"
   ]
  },
  {
   "cell_type": "markdown",
   "id": "b1f344e3",
   "metadata": {
    "slideshow": {
     "slide_type": "slide"
    }
   },
   "source": [
    "# Operators\n",
    "\n",
    "* Arithmatic     +, - , *, /, %, //, **\n",
    "\n",
    "* Comparison      < > == !=, <=, >=\n",
    "\n",
    "* Assignment     =, -=, +=, *=, /=, //=, %=, **=\n",
    "\n",
    "* Logical         and   &&, or |, not  !\n",
    "\n",
    "* Boolean          &, |, ^, ~"
   ]
  },
  {
   "cell_type": "code",
   "execution_count": 144,
   "id": "7ed70683",
   "metadata": {
    "slideshow": {
     "slide_type": "slide"
    }
   },
   "outputs": [],
   "source": [
    "x,y=2,3"
   ]
  },
  {
   "cell_type": "code",
   "execution_count": 136,
   "id": "b0342211",
   "metadata": {},
   "outputs": [
    {
     "data": {
      "text/plain": [
       "8"
      ]
     },
     "execution_count": 136,
     "metadata": {},
     "output_type": "execute_result"
    }
   ],
   "source": [
    "x**y"
   ]
  },
  {
   "cell_type": "code",
   "execution_count": 137,
   "id": "5b95e7a3",
   "metadata": {},
   "outputs": [
    {
     "data": {
      "text/plain": [
       "False"
      ]
     },
     "execution_count": 137,
     "metadata": {},
     "output_type": "execute_result"
    }
   ],
   "source": [
    "x==y"
   ]
  },
  {
   "cell_type": "code",
   "execution_count": 138,
   "id": "5081a7af",
   "metadata": {},
   "outputs": [
    {
     "data": {
      "text/plain": [
       "True"
      ]
     },
     "execution_count": 138,
     "metadata": {},
     "output_type": "execute_result"
    }
   ],
   "source": [
    "x!=y"
   ]
  },
  {
   "cell_type": "code",
   "execution_count": 140,
   "id": "88396b4a",
   "metadata": {},
   "outputs": [],
   "source": [
    "#x<>y"
   ]
  },
  {
   "cell_type": "code",
   "execution_count": 141,
   "id": "45483b8e",
   "metadata": {
    "slideshow": {
     "slide_type": "subslide"
    }
   },
   "outputs": [
    {
     "data": {
      "text/plain": [
       "1.5"
      ]
     },
     "execution_count": 141,
     "metadata": {},
     "output_type": "execute_result"
    }
   ],
   "source": [
    "y/x"
   ]
  },
  {
   "cell_type": "code",
   "execution_count": 45,
   "id": "fdd3d288",
   "metadata": {},
   "outputs": [
    {
     "data": {
      "text/plain": [
       "1"
      ]
     },
     "execution_count": 45,
     "metadata": {},
     "output_type": "execute_result"
    }
   ],
   "source": [
    "y//x  # integer division"
   ]
  },
  {
   "cell_type": "code",
   "execution_count": 143,
   "id": "e47564b6",
   "metadata": {},
   "outputs": [
    {
     "data": {
      "text/plain": [
       "0"
      ]
     },
     "execution_count": 143,
     "metadata": {},
     "output_type": "execute_result"
    }
   ],
   "source": [
    "y%x   # reminder"
   ]
  },
  {
   "cell_type": "code",
   "execution_count": 146,
   "id": "fd2c0ef7",
   "metadata": {},
   "outputs": [],
   "source": [
    "y+=x   # y = y+x"
   ]
  },
  {
   "cell_type": "code",
   "execution_count": 147,
   "id": "769eea8b",
   "metadata": {},
   "outputs": [
    {
     "data": {
      "text/plain": [
       "7"
      ]
     },
     "execution_count": 147,
     "metadata": {},
     "output_type": "execute_result"
    }
   ],
   "source": [
    "y"
   ]
  },
  {
   "cell_type": "markdown",
   "id": "5a4b08df",
   "metadata": {
    "slideshow": {
     "slide_type": "slide"
    }
   },
   "source": [
    "# Some Functions"
   ]
  },
  {
   "cell_type": "code",
   "execution_count": 148,
   "id": "6a9e065b",
   "metadata": {},
   "outputs": [
    {
     "data": {
      "text/plain": [
       "34.563529645"
      ]
     },
     "execution_count": 148,
     "metadata": {},
     "output_type": "execute_result"
    }
   ],
   "source": [
    "x=-34.563529645\n",
    "abs(x)"
   ]
  },
  {
   "cell_type": "code",
   "execution_count": 50,
   "id": "5e07ab5d",
   "metadata": {},
   "outputs": [
    {
     "data": {
      "text/plain": [
       "6.0"
      ]
     },
     "execution_count": 50,
     "metadata": {},
     "output_type": "execute_result"
    }
   ],
   "source": [
    "import numpy \n",
    "y=5.6\n",
    "numpy.ceil(y)"
   ]
  },
  {
   "cell_type": "code",
   "execution_count": 51,
   "id": "8a5d3735",
   "metadata": {},
   "outputs": [
    {
     "data": {
      "text/plain": [
       "49.0"
      ]
     },
     "execution_count": 51,
     "metadata": {},
     "output_type": "execute_result"
    }
   ],
   "source": [
    "import numpy as np\n",
    "x=48.6\n",
    "np.ceil(x)"
   ]
  },
  {
   "cell_type": "code",
   "execution_count": 52,
   "id": "93993f30",
   "metadata": {},
   "outputs": [
    {
     "data": {
      "text/plain": [
       "20.085536923187668"
      ]
     },
     "execution_count": 52,
     "metadata": {},
     "output_type": "execute_result"
    }
   ],
   "source": [
    "np.exp(3)"
   ]
  },
  {
   "cell_type": "code",
   "execution_count": 53,
   "id": "ecf8f712",
   "metadata": {
    "slideshow": {
     "slide_type": "subslide"
    }
   },
   "outputs": [],
   "source": [
    "#from numpy import *\n",
    "from numpy import exp"
   ]
  },
  {
   "cell_type": "code",
   "execution_count": 54,
   "id": "14fdf382",
   "metadata": {},
   "outputs": [
    {
     "data": {
      "text/plain": [
       "20.085536923187668"
      ]
     },
     "execution_count": 54,
     "metadata": {},
     "output_type": "execute_result"
    }
   ],
   "source": [
    "exp(3)"
   ]
  },
  {
   "cell_type": "code",
   "execution_count": 55,
   "id": "b824a153",
   "metadata": {},
   "outputs": [
    {
     "data": {
      "text/plain": [
       "35.0"
      ]
     },
     "execution_count": 55,
     "metadata": {},
     "output_type": "execute_result"
    }
   ],
   "source": [
    "np.ceil(34.5)"
   ]
  },
  {
   "cell_type": "code",
   "execution_count": null,
   "id": "b9291198",
   "metadata": {
    "slideshow": {
     "slide_type": "slide"
    }
   },
   "outputs": [],
   "source": []
  },
  {
   "cell_type": "code",
   "execution_count": null,
   "id": "63f0f3d6",
   "metadata": {},
   "outputs": [],
   "source": []
  },
  {
   "cell_type": "code",
   "execution_count": null,
   "id": "d726cf59",
   "metadata": {},
   "outputs": [],
   "source": []
  },
  {
   "cell_type": "code",
   "execution_count": null,
   "id": "5f551a89",
   "metadata": {},
   "outputs": [],
   "source": []
  }
 ],
 "metadata": {
  "celltoolbar": "Slideshow",
  "kernelspec": {
   "display_name": "Python 3",
   "language": "python",
   "name": "python3"
  },
  "language_info": {
   "codemirror_mode": {
    "name": "ipython",
    "version": 3
   },
   "file_extension": ".py",
   "mimetype": "text/x-python",
   "name": "python",
   "nbconvert_exporter": "python",
   "pygments_lexer": "ipython3",
   "version": "3.9.5"
  },
  "latex_envs": {
   "LaTeX_envs_menu_present": true,
   "autoclose": false,
   "autocomplete": true,
   "bibliofile": "biblio.bib",
   "cite_by": "apalike",
   "current_citInitial": 1,
   "eqLabelWithNumbers": true,
   "eqNumInitial": 1,
   "hotkeys": {
    "equation": "Ctrl-E",
    "itemize": "Ctrl-I"
   },
   "labels_anchors": false,
   "latex_user_defs": false,
   "report_style_numbering": false,
   "user_envs_cfg": false
  }
 },
 "nbformat": 4,
 "nbformat_minor": 5
}
