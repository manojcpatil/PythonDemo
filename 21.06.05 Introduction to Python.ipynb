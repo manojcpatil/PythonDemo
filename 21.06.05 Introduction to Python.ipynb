{
 "cells": [
  {
   "cell_type": "code",
   "execution_count": null,
   "id": "efebbdb1",
   "metadata": {},
   "outputs": [],
   "source": [
    "print(\"Hello, World\")\n",
    "print('Hello, World',\"Manoj\")"
   ]
  },
  {
   "cell_type": "code",
   "execution_count": null,
   "id": "7d9bf3c0",
   "metadata": {},
   "outputs": [],
   "source": [
    "print \"fg\" # Missing parentheses"
   ]
  },
  {
   "cell_type": "code",
   "execution_count": null,
   "id": "51651753",
   "metadata": {},
   "outputs": [],
   "source": [
    "pval=0.03\n",
    "if pval<=0.05:\n",
    "    print(\"Reject Ho with p-value as\", pval)\n",
    "else:\n",
    "    print(\"Fail to reject Ho with p-value as\", pval)"
   ]
  },
  {
   "cell_type": "markdown",
   "id": "267cd82f",
   "metadata": {},
   "source": [
    "## Reserved Keywords\n",
    "\n",
    "and, if, else, def, break, not, continue, for, goto, import, while, elif, return, print, from, class, with etc"
   ]
  },
  {
   "cell_type": "markdown",
   "id": "f7b1e066",
   "metadata": {},
   "source": [
    "## Comment"
   ]
  },
  {
   "cell_type": "code",
   "execution_count": null,
   "id": "c5260526",
   "metadata": {},
   "outputs": [],
   "source": [
    "# First Comment\n",
    "x=2   # sample\n",
    "x\n",
    "\n",
    "# Multiple line comment \"\"\"not working\"\"\" "
   ]
  },
  {
   "cell_type": "code",
   "execution_count": null,
   "id": "eaf271f0",
   "metadata": {},
   "outputs": [],
   "source": [
    "'''d'''\n",
    "# ```d```"
   ]
  },
  {
   "cell_type": "markdown",
   "id": "09c507c8",
   "metadata": {},
   "source": [
    "# Assigning values to Variables"
   ]
  },
  {
   "cell_type": "code",
   "execution_count": null,
   "id": "33d29b97",
   "metadata": {},
   "outputs": [],
   "source": [
    "a=2\n",
    "b=3\n",
    "a, b"
   ]
  },
  {
   "cell_type": "code",
   "execution_count": null,
   "id": "5a6b632e",
   "metadata": {},
   "outputs": [],
   "source": [
    "x,y=3,4\n",
    "x"
   ]
  },
  {
   "cell_type": "code",
   "execution_count": null,
   "id": "22d56acf",
   "metadata": {},
   "outputs": [],
   "source": [
    "x=y=1\n",
    "x"
   ]
  },
  {
   "cell_type": "code",
   "execution_count": null,
   "id": "ef8aa890",
   "metadata": {},
   "outputs": [],
   "source": [
    "x=\"Some String\"\n",
    "x"
   ]
  },
  {
   "cell_type": "code",
   "execution_count": null,
   "id": "dc57ebe5",
   "metadata": {},
   "outputs": [],
   "source": [
    "y=\"Another String\"\n",
    "x+y"
   ]
  },
  {
   "cell_type": "code",
   "execution_count": null,
   "id": "3896dc87",
   "metadata": {},
   "outputs": [],
   "source": [
    "x,y,z=\"Manoj\", 3, 5.4\n",
    "z,y,x"
   ]
  },
  {
   "cell_type": "markdown",
   "id": "48e0beeb",
   "metadata": {},
   "source": [
    "\n",
    "# Standard Datatypes\n",
    "\n",
    "1. Number\n",
    "2. String\n",
    "3. List\n",
    "4. Tuples\n",
    "5. Dictionary"
   ]
  },
  {
   "cell_type": "code",
   "execution_count": null,
   "id": "28133072",
   "metadata": {},
   "outputs": [],
   "source": [
    "int_1,int_2,int_3=1, -2, 0\n",
    "int_1,int_2,int_3"
   ]
  },
  {
   "cell_type": "code",
   "execution_count": null,
   "id": "b0d8481a",
   "metadata": {},
   "outputs": [],
   "source": [
    "float_1=3.1454373367\n",
    "float_1"
   ]
  },
  {
   "cell_type": "code",
   "execution_count": null,
   "id": "ed797cb7",
   "metadata": {},
   "outputs": [],
   "source": [
    "round(float_1,5)"
   ]
  },
  {
   "cell_type": "code",
   "execution_count": null,
   "id": "cfcee818",
   "metadata": {},
   "outputs": [],
   "source": [
    "Long_1=1243243L   # Long Number ????\n",
    "Long_1"
   ]
  },
  {
   "cell_type": "code",
   "execution_count": null,
   "id": "0c02639d",
   "metadata": {},
   "outputs": [],
   "source": [
    "complex_1,complex_2=3.14j, 2+1.2j\n",
    "complex_1*complex_2"
   ]
  },
  {
   "cell_type": "markdown",
   "id": "ce589b7d",
   "metadata": {},
   "source": [
    "## String"
   ]
  },
  {
   "cell_type": "code",
   "execution_count": null,
   "id": "49959f07",
   "metadata": {},
   "outputs": [],
   "source": [
    "str=\"0123456789\"\n",
    "str"
   ]
  },
  {
   "cell_type": "code",
   "execution_count": null,
   "id": "8b4bc7d9",
   "metadata": {},
   "outputs": [],
   "source": [
    "### indexing and Slicing\n",
    "print(str)\n",
    "print(str[0])\n",
    "print(str[0:3])\n",
    "print(str[5:])\n",
    "print(str[-4])"
   ]
  },
  {
   "cell_type": "code",
   "execution_count": null,
   "id": "f078200c",
   "metadata": {},
   "outputs": [],
   "source": [
    "str=\"Hello \"\n",
    "str*2"
   ]
  },
  {
   "cell_type": "code",
   "execution_count": null,
   "id": "8e54b64f",
   "metadata": {},
   "outputs": [],
   "source": [
    "str+\"ghjj\""
   ]
  },
  {
   "cell_type": "markdown",
   "id": "047a0c80",
   "metadata": {},
   "source": [
    "## Lists"
   ]
  },
  {
   "cell_type": "code",
   "execution_count": null,
   "id": "3ef187a3",
   "metadata": {},
   "outputs": [],
   "source": [
    "list=[\"Manoj\",816,2009,\"Asst Prof\"]\n",
    "list"
   ]
  },
  {
   "cell_type": "code",
   "execution_count": null,
   "id": "eb0e4bc0",
   "metadata": {},
   "outputs": [],
   "source": [
    "list2=[list, 23.6]\n",
    "list2"
   ]
  },
  {
   "cell_type": "code",
   "execution_count": null,
   "id": "d53ffc2e",
   "metadata": {},
   "outputs": [],
   "source": [
    "list[-2]"
   ]
  },
  {
   "cell_type": "code",
   "execution_count": null,
   "id": "ca12944e",
   "metadata": {},
   "outputs": [],
   "source": [
    "list*3"
   ]
  },
  {
   "cell_type": "code",
   "execution_count": null,
   "id": "8c728d2c",
   "metadata": {},
   "outputs": [],
   "source": [
    "list+list"
   ]
  },
  {
   "cell_type": "code",
   "execution_count": null,
   "id": "5039010d",
   "metadata": {},
   "outputs": [],
   "source": [
    "list\n",
    "list[0]=\"Rajaa\"\n",
    "list"
   ]
  },
  {
   "cell_type": "markdown",
   "id": "27ef488a",
   "metadata": {},
   "source": [
    "## Tuples"
   ]
  },
  {
   "cell_type": "code",
   "execution_count": null,
   "id": "cc226524",
   "metadata": {},
   "outputs": [],
   "source": [
    "tuple1=('Manoj',23,1.2)\n",
    "tuple1"
   ]
  },
  {
   "cell_type": "code",
   "execution_count": null,
   "id": "9e8862e7",
   "metadata": {},
   "outputs": [],
   "source": [
    "tuple1[1]=32"
   ]
  },
  {
   "cell_type": "code",
   "execution_count": null,
   "id": "c52d0360",
   "metadata": {},
   "outputs": [],
   "source": [
    "tuple1*2"
   ]
  },
  {
   "cell_type": "markdown",
   "id": "ac6c4ec7",
   "metadata": {},
   "source": [
    "## Dictionary"
   ]
  },
  {
   "cell_type": "code",
   "execution_count": null,
   "id": "a4c815d4",
   "metadata": {},
   "outputs": [],
   "source": [
    "dict1={'name':\"Manoj\",'Age':35,\"Edu\":\"Stats\"}\n",
    "dict1"
   ]
  },
  {
   "cell_type": "code",
   "execution_count": null,
   "id": "d50c2fb8",
   "metadata": {},
   "outputs": [],
   "source": [
    "dict1['name']"
   ]
  },
  {
   "cell_type": "code",
   "execution_count": null,
   "id": "54cc717b",
   "metadata": {},
   "outputs": [],
   "source": [
    "dict1[1]"
   ]
  },
  {
   "cell_type": "code",
   "execution_count": null,
   "id": "32140643",
   "metadata": {},
   "outputs": [],
   "source": [
    "dict['Edu']"
   ]
  },
  {
   "cell_type": "code",
   "execution_count": null,
   "id": "ed615d78",
   "metadata": {},
   "outputs": [],
   "source": [
    "list1=[\"Manoj\",35,'stat']\n",
    "list1"
   ]
  },
  {
   "cell_type": "code",
   "execution_count": null,
   "id": "a2144dfe",
   "metadata": {},
   "outputs": [],
   "source": []
  },
  {
   "cell_type": "code",
   "execution_count": null,
   "id": "07cd091d",
   "metadata": {},
   "outputs": [],
   "source": [
    "list2=[3,1,2]\n",
    "list2+=[2,4,2,3]\n",
    "list2"
   ]
  },
  {
   "cell_type": "code",
   "execution_count": null,
   "id": "0aece4e5",
   "metadata": {},
   "outputs": [],
   "source": [
    "set1=set(list2)"
   ]
  },
  {
   "cell_type": "code",
   "execution_count": null,
   "id": "fe56c2fa",
   "metadata": {},
   "outputs": [],
   "source": [
    "set1"
   ]
  },
  {
   "cell_type": "code",
   "execution_count": null,
   "id": "610ad317",
   "metadata": {},
   "outputs": [],
   "source": [
    "set1[1]"
   ]
  },
  {
   "cell_type": "markdown",
   "id": "b1f344e3",
   "metadata": {},
   "source": [
    "# Operators\n",
    "\n",
    "## Arithmatic\n",
    "+\n",
    "-\n",
    "*\n",
    "/\n",
    "%\n",
    "//\n",
    "**\n",
    "\n",
    "## Comparison \n",
    "<\n",
    ">\n",
    "==\n",
    "!=\n",
    "<=\n",
    ">=\n",
    "\n",
    "## Assignment\n",
    "=\n",
    "-=\n",
    "+=\n",
    "*=\n",
    "/=\n",
    "//=\n",
    "%=\n",
    "**=\n",
    "\n",
    "## Logical\n",
    "and   &&\n",
    "or    |\n",
    "not   !\n",
    "\n",
    "## Boolean \n",
    "& \n",
    "|\n",
    "^\n",
    "~\n"
   ]
  },
  {
   "cell_type": "code",
   "execution_count": null,
   "id": "7ed70683",
   "metadata": {},
   "outputs": [],
   "source": [
    "x,y=2,3"
   ]
  },
  {
   "cell_type": "code",
   "execution_count": null,
   "id": "b0342211",
   "metadata": {},
   "outputs": [],
   "source": [
    "x**y"
   ]
  },
  {
   "cell_type": "code",
   "execution_count": null,
   "id": "5b95e7a3",
   "metadata": {},
   "outputs": [],
   "source": [
    "x==y"
   ]
  },
  {
   "cell_type": "code",
   "execution_count": null,
   "id": "5081a7af",
   "metadata": {},
   "outputs": [],
   "source": [
    "x!=y"
   ]
  },
  {
   "cell_type": "code",
   "execution_count": null,
   "id": "88396b4a",
   "metadata": {},
   "outputs": [],
   "source": [
    "x<>y"
   ]
  },
  {
   "cell_type": "code",
   "execution_count": null,
   "id": "45483b8e",
   "metadata": {},
   "outputs": [],
   "source": [
    "y/x"
   ]
  },
  {
   "cell_type": "code",
   "execution_count": null,
   "id": "fdd3d288",
   "metadata": {},
   "outputs": [],
   "source": [
    "y//x"
   ]
  },
  {
   "cell_type": "code",
   "execution_count": null,
   "id": "e47564b6",
   "metadata": {},
   "outputs": [],
   "source": [
    "y%x"
   ]
  },
  {
   "cell_type": "code",
   "execution_count": null,
   "id": "fd2c0ef7",
   "metadata": {},
   "outputs": [],
   "source": [
    "y+=x"
   ]
  },
  {
   "cell_type": "code",
   "execution_count": null,
   "id": "769eea8b",
   "metadata": {},
   "outputs": [],
   "source": [
    "y"
   ]
  },
  {
   "cell_type": "markdown",
   "id": "5a4b08df",
   "metadata": {},
   "source": [
    "# Some Functions"
   ]
  },
  {
   "cell_type": "code",
   "execution_count": null,
   "id": "6a9e065b",
   "metadata": {},
   "outputs": [],
   "source": [
    "x=-34.563529645\n",
    "abs(x)"
   ]
  },
  {
   "cell_type": "code",
   "execution_count": null,
   "id": "5e07ab5d",
   "metadata": {},
   "outputs": [],
   "source": [
    "import numpy \n",
    "y=5.6\n",
    "numpy.ceil(y)"
   ]
  },
  {
   "cell_type": "code",
   "execution_count": 5,
   "id": "8a5d3735",
   "metadata": {},
   "outputs": [
    {
     "data": {
      "text/plain": [
       "49.0"
      ]
     },
     "execution_count": 5,
     "metadata": {},
     "output_type": "execute_result"
    }
   ],
   "source": [
    "import numpy as np\n",
    "x=48.6\n",
    "np.ceil(x)"
   ]
  },
  {
   "cell_type": "code",
   "execution_count": null,
   "id": "93993f30",
   "metadata": {},
   "outputs": [],
   "source": [
    "np.exp(3)"
   ]
  },
  {
   "cell_type": "code",
   "execution_count": 1,
   "id": "ecf8f712",
   "metadata": {},
   "outputs": [],
   "source": [
    "#from numpy import *\n",
    "from numpy import exp"
   ]
  },
  {
   "cell_type": "code",
   "execution_count": 2,
   "id": "14fdf382",
   "metadata": {},
   "outputs": [
    {
     "data": {
      "text/plain": [
       "20.085536923187668"
      ]
     },
     "execution_count": 2,
     "metadata": {},
     "output_type": "execute_result"
    }
   ],
   "source": [
    "exp(3)"
   ]
  },
  {
   "cell_type": "code",
   "execution_count": 6,
   "id": "b824a153",
   "metadata": {},
   "outputs": [
    {
     "data": {
      "text/plain": [
       "35.0"
      ]
     },
     "execution_count": 6,
     "metadata": {},
     "output_type": "execute_result"
    }
   ],
   "source": [
    "np.ceil(34.5)"
   ]
  },
  {
   "cell_type": "code",
   "execution_count": null,
   "id": "b9291198",
   "metadata": {},
   "outputs": [],
   "source": []
  },
  {
   "cell_type": "code",
   "execution_count": null,
   "id": "63f0f3d6",
   "metadata": {},
   "outputs": [],
   "source": []
  },
  {
   "cell_type": "code",
   "execution_count": null,
   "id": "d726cf59",
   "metadata": {},
   "outputs": [],
   "source": []
  },
  {
   "cell_type": "code",
   "execution_count": null,
   "id": "5f551a89",
   "metadata": {},
   "outputs": [],
   "source": []
  }
 ],
 "metadata": {
  "kernelspec": {
   "display_name": "Python 3",
   "language": "python",
   "name": "python3"
  },
  "language_info": {
   "codemirror_mode": {
    "name": "ipython",
    "version": 3
   },
   "file_extension": ".py",
   "mimetype": "text/x-python",
   "name": "python",
   "nbconvert_exporter": "python",
   "pygments_lexer": "ipython3",
   "version": "3.9.5"
  }
 },
 "nbformat": 4,
 "nbformat_minor": 5
}
