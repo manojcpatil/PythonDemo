{
 "cells": [
  {
   "cell_type": "markdown",
   "metadata": {
    "_cell_guid": "87e52c4c-e922-4b62-9741-0f996237ca79",
    "_uuid": "eed7bd508fc3ec093c02b89ae7d80d03af1b2798"
   },
   "source": [
    "# Description of iris data\n",
    "The Iris dataset was used in R.A. Fisher's classic 1936 paper, The Use of Multiple Measurements in Taxonomic Problems, and can also be found on the UCI Machine Learning Repository.\n",
    "\n",
    "It includes three iris species with <b>50 samples</b> each as well as some properties about each flower. One flower species is linearly separable from the other two, but the other two are not linearly separable from each other.\n",
    "\n",
    "The columns in this dataset are:\n",
    "-  Id\n",
    "- SepalLengthCm\n",
    "- SepalWidthCm\n",
    "- PetalLengthCm\n",
    "- PetalWidthCm\n",
    "- Species\n",
    "Sepal Width vs. Sepal Length\n",
    "\n",
    "\n",
    "\n",
    "-  Ref1: https://www.kaggle.com/uciml/iris\n",
    "- Ref2: http://archive.ics.uci.edu/ml/index.php\n",
    "- Ref3: http://scikit-learn.org/stable/auto_examples/linear_model/plot_iris_logistic.html"
   ]
  },
  {
   "cell_type": "code",
   "execution_count": null,
   "metadata": {
    "_cell_guid": "c18c49d6-283f-44e7-b982-4413825281df",
    "_uuid": "8d89e22ec7cb6f3f15412b9be3eded1adbd31d11",
    "collapsed": true
   },
   "outputs": [],
   "source": [
    "import pandas as pd\n",
    "import matplotlib.pyplot as plt\n",
    "\n",
    "# Load Dataset\n",
    "data = pd.read_csv('../input/Iris.csv')\n",
    "\n",
    "# First and last five observations or row"
   ]
  },
  {
   "cell_type": "code",
   "execution_count": null,
   "metadata": {
    "_cell_guid": "7ec7d5ac-8e66-4e11-9421-a93df2c1a101",
    "_uuid": "77ef62dc6bf1fd3c0cde1c285fd456b022a47148"
   },
   "outputs": [],
   "source": [
    "data.head(5)"
   ]
  },
  {
   "cell_type": "code",
   "execution_count": null,
   "metadata": {
    "_cell_guid": "cdb84443-12ed-44b8-91d4-1036c30e31cd",
    "_uuid": "462ca49e908f1ad303b8f00f57a9501c270f3b83"
   },
   "outputs": [],
   "source": [
    "data.tail(5)"
   ]
  },
  {
   "cell_type": "markdown",
   "metadata": {
    "_cell_guid": "e2816d97-d653-4b18-9a26-332d73f32ae0",
    "_uuid": "b702b27f0b5de964ceaeac539b58d2d8ed592334"
   },
   "source": [
    "### Classes in Species"
   ]
  },
  {
   "cell_type": "code",
   "execution_count": null,
   "metadata": {
    "_cell_guid": "8d0a9490-990c-4e26-a1e5-b7c43e6d15c5",
    "_uuid": "b499e35c6d518f06d4076103ddd97cb8ac609f92"
   },
   "outputs": [],
   "source": [
    "# Our target is 'species' So need to check how many of them\n",
    "print(\"Species\")\n",
    "print(data['Species'].unique())"
   ]
  },
  {
   "cell_type": "markdown",
   "metadata": {
    "_cell_guid": "402471aa-2bae-4896-85e8-1392ecd9301c",
    "_uuid": "a420de24027c6b5f698d33938ef9ecf2b63fbfc2"
   },
   "source": [
    "### Description "
   ]
  },
  {
   "cell_type": "code",
   "execution_count": null,
   "metadata": {
    "_cell_guid": "8ccacbdf-aec5-4433-8c2b-2de7376ebb49",
    "_uuid": "49bc9ce683fa360d75a3d524dcfb83f89b5a1ec4"
   },
   "outputs": [],
   "source": [
    "data.describe()"
   ]
  },
  {
   "cell_type": "markdown",
   "metadata": {
    "_cell_guid": "effc388a-b06c-412a-8446-d4686ebb5611",
    "_uuid": "e224a536f4878b985c0d7f88080c445f5223b71a"
   },
   "source": [
    "### Data Classes from original dataset"
   ]
  },
  {
   "cell_type": "code",
   "execution_count": null,
   "metadata": {
    "_cell_guid": "8653a983-bab8-4054-b139-aa54316d11fa",
    "_uuid": "1b72a8aabe13255ee48874fa87a893208f02adb1"
   },
   "outputs": [],
   "source": [
    "import seaborn as sns\n",
    "sns.FacetGrid(data, hue=\"Species\", size=6) \\\n",
    "   .map(plt.scatter, \"SepalLengthCm\", \"SepalWidthCm\") \\\n",
    "   .add_legend()\n",
    "\n",
    "plt.show()"
   ]
  },
  {
   "cell_type": "markdown",
   "metadata": {
    "_cell_guid": "2f19e589-74db-4142-8621-949ff5cedbde",
    "_uuid": "043341e508e29b1bf80b68db80db7777165a446b"
   },
   "source": [
    "### Preprocessing Steps: Separating Independent Features and Dependant Feature(Response)"
   ]
  },
  {
   "cell_type": "code",
   "execution_count": null,
   "metadata": {
    "_cell_guid": "2ccbf7c0-5ae7-4fe2-bf58-6eb9ace728ca",
    "_uuid": "c21e686e98e246570274133d2c906f45948a95c6"
   },
   "outputs": [],
   "source": [
    "# Preprocessing\n",
    "# Let Separate Features and Target for machine Learning\n",
    "# Step1 \n",
    "\n",
    "\n",
    "features = list(data.columns[1:5])            # SepalLengthCm\tSepalWidthCm\tPetalLengthCm\tPetalWidthCm\t\n",
    "target = data.columns[5]                      # Species\n",
    "\n",
    "print('Features:',features)\n",
    "print('Target:',target)\n",
    "\n",
    "# store feature matrix in \"X\"\n",
    "X = data.iloc[:,1:5]                          # slicing: all rows and 1 to 4 cols\n",
    "\n",
    "# store response vector in \"y\"\n",
    "y = data.iloc[:,5]                            # slicing: all rows and 5th col\n",
    "\n",
    "\n",
    "print(y.shape)\n",
    "print(X.shape)"
   ]
  },
  {
   "cell_type": "markdown",
   "metadata": {
    "_cell_guid": "8ab9b8e0-208b-44ad-ad6a-1b0e5be644f6",
    "_uuid": "4e1935bc1c68cba68e79d1c59db5e82b50481ac7"
   },
   "source": [
    "### Converting Response Variable 'Species' to numbers to train model and add column"
   ]
  },
  {
   "cell_type": "code",
   "execution_count": null,
   "metadata": {
    "_cell_guid": "dd306c42-ad09-47ad-8c58-f7222f4b8522",
    "_uuid": "d2c331b12648d9860bb2743ea6b0f757ff3925d4"
   },
   "outputs": [],
   "source": [
    "# Read more: http://scikit-learn.org/stable/modules/generated/sklearn.preprocessing.LabelEncoder.html\n",
    "\n",
    "from sklearn import preprocessing\n",
    "le = preprocessing.LabelEncoder()\n",
    "le.fit(y)\n",
    "y=le.transform(y)\n",
    "\n",
    "# new col\n",
    "data['EncodedSpecies'] = y\n",
    "\n",
    "print('Classes:',le.classes_)\n",
    "print('Response variable after encoding:',y)\n",
    "data.tail(10)"
   ]
  },
  {
   "cell_type": "markdown",
   "metadata": {
    "_cell_guid": "ec5e72c6-34b8-43d7-be6f-c1a3b0a45956",
    "_uuid": "9f26883366534c55602d8112506ae85c691a1cba"
   },
   "source": [
    "### Classification Models\n",
    "\n",
    "### 1: K-nearest neighbors (KNN) classification\n",
    "- Pick a value for K.\n",
    "- Search for the K observations in the training data that are \"nearest\" to the measurements of the unknown iris.\n",
    "- Use the most popular response value from the K nearest neighbors as the predicted response value for the unknown iris."
   ]
  },
  {
   "cell_type": "markdown",
   "metadata": {
    "_cell_guid": "cd64ac48-0db3-4535-a95b-decd556c99ae",
    "_uuid": "8ef9569a0141e17b7a3d8f5df843dab7652b6b96"
   },
   "source": [
    "### KNN Model"
   ]
  },
  {
   "cell_type": "code",
   "execution_count": null,
   "metadata": {
    "_cell_guid": "b93d9b2b-7593-470b-a091-8212a5ef1f52",
    "_uuid": "b74c7c3da310452067935c6160a60da535287ec3"
   },
   "outputs": [],
   "source": [
    "#Step2: Model\n",
    "\n",
    "from sklearn.neighbors import KNeighborsClassifier\n",
    "knn = KNeighborsClassifier(n_neighbors=1)\n",
    "knn.fit(X, y)\n"
   ]
  },
  {
   "cell_type": "markdown",
   "metadata": {
    "_cell_guid": "dbf098e7-0358-4f0a-881c-e6b3424b6ebe",
    "_uuid": "49b82f5b117b000b62670d0c72010744d8738810"
   },
   "source": [
    "### Prediction for some feature values: 3, 5, 4, 2 "
   ]
  },
  {
   "cell_type": "code",
   "execution_count": null,
   "metadata": {
    "_cell_guid": "11967422-c7ff-4746-8fc7-eb94499de13e",
    "_uuid": "ceb3d056f6f68f1db705e8c84f2f7fa6601db231"
   },
   "outputs": [],
   "source": [
    "#Step3: Prediction for new observation\n",
    "value = knn.predict([[3, 5, 4, 2]])\n",
    "print('prediction value:',value)\n",
    "\n",
    "print('Predicted Class' , data.loc[data['EncodedSpecies'] == 2, 'Species'].values[0])\n",
    "#data.loc[data['EncodedSpecies'] == 2, 'Species'].values[0]"
   ]
  },
  {
   "cell_type": "code",
   "execution_count": null,
   "metadata": {
    "_cell_guid": "269dd5c5-c47b-42b8-84c9-dcdb5e5cbe8e",
    "_uuid": "901146f3113a866edfa2a319389837e789256f08"
   },
   "outputs": [],
   "source": [
    "# more predictions for other rows\n",
    "\n",
    "X_new = [[3, 5, 4, 2], [5, 4, 3, 2]]                        # Consider them as two new rows of input features in X\n",
    "knn.predict(X_new)"
   ]
  },
  {
   "cell_type": "markdown",
   "metadata": {
    "_cell_guid": "4c78cf10-8c3a-46af-a84f-05fa80e083c3",
    "_uuid": "2aa0697da11880b41c838d0a8491279ee6769fbb"
   },
   "source": [
    "### KNN for K=5"
   ]
  },
  {
   "cell_type": "code",
   "execution_count": null,
   "metadata": {
    "_cell_guid": "3ad8e1b3-67cc-4f4d-b169-e918a0cfa435",
    "_uuid": "1bcb91849247fc39f12e3e3207352c1a8ade16d7"
   },
   "outputs": [],
   "source": [
    "# Different value of K \n",
    "# instantiate the model (using the value K=5)\n",
    "\n",
    "knn = KNeighborsClassifier(n_neighbors=5)\n",
    "\n",
    "# fit the model with data\n",
    "knn.fit(X, y)\n",
    "\n",
    "# predict the response for new observations\n",
    "print(knn.predict(X_new))\n",
    "\n",
    "kypred = knn.predict(X)"
   ]
  },
  {
   "cell_type": "markdown",
   "metadata": {
    "_cell_guid": "7b7a4819-78e4-4a3f-a2e7-3bbc87d153bb",
    "_uuid": "aa06f39f34a1c23fb2495f871cd1146db4f650f8"
   },
   "source": [
    "### How to check the best value for K?"
   ]
  },
  {
   "cell_type": "code",
   "execution_count": null,
   "metadata": {
    "_cell_guid": "9fb3aa28-2266-4ed9-9398-acf9e46951c5",
    "_uuid": "b803c0248410dbaee3164a8e4771d8e5c1a36185"
   },
   "outputs": [],
   "source": [
    "# For an optimal value of K for KNN\n",
    "\n",
    "from sklearn import metrics\n",
    "v=[]\n",
    "\n",
    "\n",
    "\n",
    "\n",
    "k_range = list(range(1, 50))\n",
    "for i in k_range:\n",
    "    knn = KNeighborsClassifier(n_neighbors=i)\n",
    "    # fit the model with data\n",
    "    knn.fit(X, y)\n",
    "    k_pred = knn.predict(X)\n",
    "    v.append( metrics.accuracy_score(y, k_pred))\n",
    "\n",
    "\n",
    "import matplotlib.pyplot as plt\n",
    "plt.plot(k_range,v,c='Orange',)\n",
    "plt.show()\n"
   ]
  },
  {
   "cell_type": "markdown",
   "metadata": {
    "_cell_guid": "bb0039e3-bc78-4cbd-94af-4eb99d68a77b",
    "_uuid": "1bbc2cdfe1479fc073a7f23fb0a436f1f3809571"
   },
   "source": [
    "# Logistic Regression"
   ]
  },
  {
   "cell_type": "code",
   "execution_count": null,
   "metadata": {
    "_cell_guid": "f9c4a6f1-211d-4e79-8489-742e04289324",
    "_uuid": "1e0080f3aac47146cd465384f7a4982dbfd797de"
   },
   "outputs": [],
   "source": [
    "# import the class\n",
    "from sklearn.linear_model import LogisticRegression\n",
    "\n",
    "# instantiate the model (using the default parameters)\n",
    "logreg = LogisticRegression()\n",
    "\n",
    "# fit the model with data\n",
    "logreg.fit(X, y)\n",
    "\n",
    "# predict the response values for the observations in column: [3, 5, 4, 2]\n",
    "logreg.predict([[3, 5, 4, 2]]) # Col vector # See previous result\n",
    "\n",
    "\n",
    "y_pred = logreg.predict(X)\n",
    "\n",
    "print(y_pred)"
   ]
  },
  {
   "cell_type": "markdown",
   "metadata": {
    "_cell_guid": "32faaff3-6a96-44ec-bd02-ab2c2aecbf81",
    "_uuid": "b0a65325088e3f47e9648af1586c794b049217a5"
   },
   "source": [
    "# Classification accuracy #1:"
   ]
  },
  {
   "cell_type": "code",
   "execution_count": null,
   "metadata": {
    "_cell_guid": "9580f152-1072-4223-8db6-d2dee808ea15",
    "_uuid": "20b3c6193f3b614a16c9528050da2e35ba02798b"
   },
   "outputs": [],
   "source": [
    "# 1 KNN ACCURACY\n",
    "\n",
    "# compute classification accuracy for the KNN model\n",
    "from sklearn import metrics\n",
    "print(metrics.accuracy_score(y, kypred))"
   ]
  },
  {
   "cell_type": "code",
   "execution_count": null,
   "metadata": {
    "_cell_guid": "0e6bc626-3407-48f0-b030-43460bcaacd6",
    "_uuid": "5d762c6f9eeae81faf70d2e68bb704d2ba318f21"
   },
   "outputs": [],
   "source": [
    "# 2 \n",
    "# compute classification accuracy for the logistic regression model\n",
    "from sklearn import metrics\n",
    "print(metrics.accuracy_score(y, y_pred))"
   ]
  },
  {
   "cell_type": "markdown",
   "metadata": {
    "_cell_guid": "8e3a048e-d401-46eb-b6ce-9746431f26be",
    "_uuid": "d87ff2292022801de9c2809f7a33d4f98e98765e"
   },
   "source": [
    "# Evaluation procedure #2: Train/test split"
   ]
  },
  {
   "cell_type": "code",
   "execution_count": null,
   "metadata": {
    "_cell_guid": "098728ab-2fc1-42fa-baee-afb4fca1432c",
    "_uuid": "2919c3736ea110c81b4b8c7c03f93305fd00f912",
    "collapsed": true
   },
   "outputs": [],
   "source": [
    "# STEP 1: split X and y into training and testing sets\n",
    "from sklearn.model_selection import train_test_split\n",
    "X_train, X_test, y_train, y_test = train_test_split(X, y, test_size=0.4, random_state=4)\n"
   ]
  },
  {
   "cell_type": "code",
   "execution_count": null,
   "metadata": {
    "_cell_guid": "5a25a03f-d544-4e11-9c3d-ee5f685d431f",
    "_uuid": "fdc67f204b49a37fdacf1a303082276aabde8639"
   },
   "outputs": [],
   "source": [
    "print(X_train.shape)\n",
    "print(y_train.shape)"
   ]
  },
  {
   "cell_type": "markdown",
   "metadata": {
    "_cell_guid": "57f8a4be-c8c8-4331-925f-aaf5e88df0de",
    "_uuid": "3a2fa2f052d8bcd083e3edb423a79b44bd7840c8"
   },
   "source": [
    "# Logistic Regression Model with Train Test split"
   ]
  },
  {
   "cell_type": "code",
   "execution_count": null,
   "metadata": {
    "_cell_guid": "fbae0314-65d7-405e-8067-30d13d5605fd",
    "_uuid": "5e9a203493b562703c61d5dbb513bac97ce0eb37"
   },
   "outputs": [],
   "source": [
    "logres = LogisticRegression()\n",
    "logres.fit(X_train,y_train) # train data\n",
    "\n",
    "\n",
    "# predict from test\n",
    "log_pred = logres.predict(X_test)\n",
    "\n",
    "# check accuracy\n",
    "import sklearn.metrics as mt\n",
    "mt.accuracy_score(log_pred,y_test)"
   ]
  },
  {
   "cell_type": "markdown",
   "metadata": {
    "_cell_guid": "a1f98bfb-8535-49b4-8319-3a5f42a671fd",
    "_uuid": "aafd298a9b6bcde6048b0eece67834e4b670eae8"
   },
   "source": [
    "# KNN with Train Test"
   ]
  },
  {
   "cell_type": "code",
   "execution_count": null,
   "metadata": {
    "_cell_guid": "60ce6105-99bf-4252-8d38-2d1e5d99d5cb",
    "_uuid": "6e6c00ff0e1cde41571a049ea700b6a5c9227b1e"
   },
   "outputs": [],
   "source": [
    "\n",
    "from sklearn import metrics\n",
    "v=[]\n",
    "\n",
    "\n",
    "k_range = list(range(1, 50))\n",
    "for i in k_range:\n",
    "    knn = KNeighborsClassifier(n_neighbors=i)\n",
    "    # fit the model with data\n",
    "    knn.fit(X_train, y_train)\n",
    "    k_pred = knn.predict(X_test)\n",
    "    v.append( metrics.accuracy_score(y_test, k_pred))\n",
    "\n",
    "\n",
    "\n",
    "import matplotlib.pyplot as plt\n",
    "plt.plot(k_range,v)\n",
    "\n",
    "plt.show()\n"
   ]
  },
  {
   "cell_type": "code",
   "execution_count": null,
   "metadata": {
    "_cell_guid": "df5e1b19-57ee-4eea-b552-aee36000d67b",
    "_uuid": "52f666a130a27d3b23dd977ac3e075b550b4aafd"
   },
   "outputs": [],
   "source": [
    "print('from above the best value is near:',10)"
   ]
  },
  {
   "cell_type": "code",
   "execution_count": null,
   "metadata": {
    "_cell_guid": "b4361126-db7c-4bb1-9300-6f86f53bd0e7",
    "_uuid": "ff0178319a2b59eb6dab807102c76ec9daae96a3"
   },
   "outputs": [],
   "source": [
    "knn = KNeighborsClassifier(n_neighbors=12)\n",
    "# fit the model with data\n",
    "knn.fit(X_train, y_train)\n",
    "k_pred = knn.predict(X_test)\n",
    "\n",
    "metrics.accuracy_score(y_test, k_pred)"
   ]
  },
  {
   "cell_type": "markdown",
   "metadata": {
    "_cell_guid": "ee949fa7-2aff-4e10-9ce9-8ddd350806f6",
    "_uuid": "5f3177952f0ee5e7e68e6da2113784ebed6bfe67",
    "collapsed": true
   },
   "source": [
    "# TO BE CONTINUED"
   ]
  },
  {
   "cell_type": "code",
   "execution_count": null,
   "metadata": {
    "_cell_guid": "fbcb522b-dc0c-4491-87e5-c529bab8d7aa",
    "_uuid": "bfa75f72cdc7045ac6f792516d76e4012976a680",
    "collapsed": true
   },
   "outputs": [],
   "source": []
  }
 ],
 "metadata": {
  "kernelspec": {
   "display_name": "Python 3",
   "language": "python",
   "name": "python3"
  },
  "language_info": {
   "codemirror_mode": {
    "name": "ipython",
    "version": 3
   },
   "file_extension": ".py",
   "mimetype": "text/x-python",
   "name": "python",
   "nbconvert_exporter": "python",
   "pygments_lexer": "ipython3",
   "version": "3.9.5"
  },
  "latex_envs": {
   "LaTeX_envs_menu_present": true,
   "autoclose": false,
   "autocomplete": true,
   "bibliofile": "biblio.bib",
   "cite_by": "apalike",
   "current_citInitial": 1,
   "eqLabelWithNumbers": true,
   "eqNumInitial": 1,
   "hotkeys": {
    "equation": "Ctrl-E",
    "itemize": "Ctrl-I"
   },
   "labels_anchors": false,
   "latex_user_defs": false,
   "report_style_numbering": false,
   "user_envs_cfg": false
  }
 },
 "nbformat": 4,
 "nbformat_minor": 1
}
