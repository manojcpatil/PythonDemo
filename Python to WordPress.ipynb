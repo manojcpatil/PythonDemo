{
 "cells": [
  {
   "cell_type": "code",
   "execution_count": 21,
   "id": "aec2fc41",
   "metadata": {
    "scrolled": true
   },
   "outputs": [],
   "source": [
    "import nbformat\n",
    "from nbconvert.exporters import MarkdownExporter\n",
    "import requests\n",
    "from wordpress_xmlrpc import Client, WordPressPost\n",
    "from wordpress_xmlrpc.methods.posts import NewPost\n",
    "\n",
    "# Set up WordPress credentials\n",
    "wp_url = 'https://rpythondatascience.wordpress.com/xmlrpc.php'\n",
    "wp_username = 'manojcpatil24'\n",
    "wp_password = 'Ayaan@0312'\n",
    "\n",
    "# Set up notebook file path and output file path\n",
    "notebook_file = 'PyNotebooks/01 IntroPython.ipynb'\n",
    "markdown_file = 'PyMarkdown/01 IntroPython.md'\n",
    "\n",
    "# Convert notebook to Markdown\n",
    "with open(notebook_file) as f:\n",
    "    nb = nbformat.read(f, as_version=4)\n",
    "exporter = MarkdownExporter()\n",
    "(body, resources) = exporter.from_notebook_node(nb)\n",
    "with open(markdown_file, 'w') as f:\n",
    "    f.write(body)\n",
    "\n",
    "# Import Markdown content to WordPress\n",
    "client = Client(wp_url, wp_username, wp_password)\n",
    "post = WordPressPost()\n",
    "post.title = '01 Introduction to Python'\n",
    "with open(markdown_file) as f:\n",
    "    post.content = f.read()\n",
    "post.post_status = 'publish'\n",
    "post.id = client.call(NewPost(post))\n"
   ]
  },
  {
   "cell_type": "code",
   "execution_count": 15,
   "id": "d3939323",
   "metadata": {
    "scrolled": true
   },
   "outputs": [
    {
     "name": "stdout",
     "output_type": "stream",
     "text": [
      "Post published with ID: 9\n"
     ]
    }
   ],
   "source": [
    "from wordpress_xmlrpc import Client, WordPressPost\n",
    "from wordpress_xmlrpc.methods.posts import NewPost\n",
    "import markdown2\n",
    "\n",
    "# Set up a WordPress client object\n",
    "client = Client('https://rpythondatascience.wordpress.com/xmlrpc.php', 'manojcpatil24', 'Ayaan@0312')\n",
    "\n",
    "# Open the markdown file and convert it to HTML\n",
    "with open('01 IntroPython.md', 'r') as f:\n",
    "    markdown_text = f.read()\n",
    "html_content =  markdown2.markdown(markdown_text, extras=[\"code-friendly\"]) #markdown.markdown(markdown_text)\n",
    "\n",
    "# Convert UnicodeWithAttrs objects to strings\n",
    "html_content = str(html_content)\n",
    "\n",
    "# Create a new WordPress post object and set the title and content\n",
    "post = WordPressPost()\n",
    "post.title = 'Your post title'\n",
    "post.content = html_content\n",
    "\n",
    "# Publish the post to WordPress\n",
    "post_id = client.call(NewPost(post))\n",
    "print('Post published with ID:', post_id)\n"
   ]
  },
  {
   "cell_type": "code",
   "execution_count": 13,
   "id": "23cd7091",
   "metadata": {},
   "outputs": [
    {
     "name": "stdout",
     "output_type": "stream",
     "text": [
      "Collecting markdown2\n",
      "  Downloading markdown2-2.4.8-py2.py3-none-any.whl (38 kB)\n",
      "Installing collected packages: markdown2\n",
      "Successfully installed markdown2-2.4.8\n"
     ]
    }
   ],
   "source": [
    "!pip install markdown2"
   ]
  }
 ],
 "metadata": {
  "kernelspec": {
   "display_name": "Python 3",
   "language": "python",
   "name": "python3"
  },
  "language_info": {
   "codemirror_mode": {
    "name": "ipython",
    "version": 3
   },
   "file_extension": ".py",
   "mimetype": "text/x-python",
   "name": "python",
   "nbconvert_exporter": "python",
   "pygments_lexer": "ipython3",
   "version": "3.9.5"
  },
  "latex_envs": {
   "LaTeX_envs_menu_present": true,
   "autoclose": false,
   "autocomplete": true,
   "bibliofile": "biblio.bib",
   "cite_by": "apalike",
   "current_citInitial": 1,
   "eqLabelWithNumbers": true,
   "eqNumInitial": 1,
   "hotkeys": {
    "equation": "Ctrl-E",
    "itemize": "Ctrl-I"
   },
   "labels_anchors": false,
   "latex_user_defs": false,
   "report_style_numbering": false,
   "user_envs_cfg": false
  }
 },
 "nbformat": 4,
 "nbformat_minor": 5
}
