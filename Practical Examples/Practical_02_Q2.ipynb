{
 "cells": [
  {
   "cell_type": "markdown",
   "id": "da31f381",
   "metadata": {},
   "source": [
    "\n",
    "\n",
    "#### b. Reverse List In-Place\n"
   ]
  },
  {
   "cell_type": "code",
   "execution_count": null,
   "id": "ee86cade",
   "metadata": {},
   "outputs": [],
   "source": [
    "\n",
    "def reverse_list_in_place(input_list):\n",
    "    input_list.reverse()\n",
    "\n",
    "# Example usage:\n",
    "original_list = [1, 2, 3, 4, 5]\n",
    "reverse_list_in_place(original_list)\n",
    "print(original_list)\n"
   ]
  }
 ],
 "metadata": {},
 "nbformat": 4,
 "nbformat_minor": 5
}
