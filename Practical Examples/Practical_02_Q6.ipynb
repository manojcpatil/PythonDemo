{
 "cells": [
  {
   "cell_type": "markdown",
   "id": "dcf47271",
   "metadata": {},
   "source": [
    "\n",
    "#### b. Check if Key Exists in Dictionary\n"
   ]
  },
  {
   "cell_type": "code",
   "execution_count": null,
   "id": "71366c81",
   "metadata": {},
   "outputs": [],
   "source": [
    "\n",
    "def check_key_existence(input_dict, key):\n",
    "    if key in input_dict:\n",
    "        print(f\"'{key}' exists in the dictionary.\")\n",
    "    else:\n",
    "        print(f\"'{key}' does not exist in the dictionary.\")\n",
    "\n",
    "# Example usage:\n",
    "employee_dict = {'Alice': 25, 'Bob': 30, 'Charlie': 40}\n",
    "check_key_existence(employee_dict, 'Bob')\n"
   ]
  }
 ],
 "metadata": {},
 "nbformat": 4,
 "nbformat_minor": 5
}
