{
 "cells": [
  {
   "cell_type": "markdown",
   "id": "99dd0cb8",
   "metadata": {},
   "source": [
    "\n",
    "\n",
    "#### b. Attempt to Modify Tuple Element (Handling Error)\n"
   ]
  },
  {
   "cell_type": "code",
   "execution_count": null,
   "id": "8df92d77",
   "metadata": {},
   "outputs": [],
   "source": [
    "\n",
    "def try_modify_tuple_element(input_tuple, index, new_value):\n",
    "    try:\n",
    "        # Tuples are immutable, so modification is not possible\n",
    "        modified_tuple = input_tuple[:index] + (new_value,) + input_tuple[index + 1:]\n",
    "        print(\"Modification successful:\", modified_tuple)\n",
    "    except TypeError:\n",
    "        print(\"Error: Tuples are immutable and cannot be modified.\")\n",
    "\n",
    "# Example usage:\n",
    "my_tuple = (10, 20, 30, 40, 50)\n",
    "try_modify_tuple_element(my_tuple, 2, 35)\n"
   ]
  }
 ],
 "metadata": {},
 "nbformat": 4,
 "nbformat_minor": 5
}
