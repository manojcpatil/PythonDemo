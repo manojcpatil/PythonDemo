{
 "cells": [
  {
   "cell_type": "markdown",
   "id": "7ac6684d",
   "metadata": {},
   "source": [
    "\n",
    "\n",
    "#### b. Remove Duplicates from List and Convert to Set\n"
   ]
  },
  {
   "cell_type": "code",
   "execution_count": null,
   "id": "d092a65d",
   "metadata": {},
   "outputs": [],
   "source": [
    "\n",
    "def remove_duplicates_and_convert_to_set(input_list):\n",
    "    unique_set = set(input_list)\n",
    "    return unique_set\n",
    "\n",
    "# Example usage:\n",
    "original_list = [1, 2, 2, 3, 4, 4, 5]\n",
    "unique_set = remove_duplicates_and_convert_to_set(original_list)\n",
    "print(unique_set)\n"
   ]
  }
 ],
 "metadata": {},
 "nbformat": 4,
 "nbformat_minor": 5
}
