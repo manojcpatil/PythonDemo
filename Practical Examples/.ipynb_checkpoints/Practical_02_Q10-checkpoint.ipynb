{
 "cells": [
  {
   "cell_type": "markdown",
   "id": "6bb7add7",
   "metadata": {},
   "source": [
    "\n",
    "\n",
    "### 6. Type Casting\n",
    "\n",
    "#### a. Convert String Number to Integer and Square\n"
   ]
  },
  {
   "cell_type": "code",
   "execution_count": null,
   "id": "03eea0c6",
   "metadata": {},
   "outputs": [],
   "source": [
    "\n",
    "def square_integer_from_string(input_string):\n",
    "    try:\n",
    "        number = int(input_string)\n",
    "        squared_result = number ** 2\n",
    "        print(f\"The squared value of {number} is: {squared_result}\")\n",
    "    except ValueError:\n",
    "        print(\"Error: Input is not a valid integer.\")\n",
    "\n",
    "# Example usage:\n",
    "user_input = input(\"Enter a number as a string: \")\n",
    "square_integer_from_string(user_input)\n"
   ]
  }
 ],
 "metadata": {},
 "nbformat": 4,
 "nbformat_minor": 5
}
