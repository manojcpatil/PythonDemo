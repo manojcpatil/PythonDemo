{
 "cells": [
  {
   "cell_type": "markdown",
   "id": "57c2a4b8",
   "metadata": {},
   "source": [
    "# Matrix Operations in Python\n",
    "\n",
    "## 1. Transpose Function:\n",
    "\n",
    "- Implement a Python function that takes a matrix as input and returns its transpose.\n",
    "- Test the function with different matrices."
   ]
  },
  {
   "cell_type": "code",
   "execution_count": 8,
   "id": "3115431c-9981-4c0d-ac96-62532f3354ac",
   "metadata": {},
   "outputs": [
    {
     "name": "stdout",
     "output_type": "stream",
     "text": [
      "Collecting scipy\n",
      "  Obtaining dependency information for scipy from https://files.pythonhosted.org/packages/f3/31/91a2a3c5eb85d2bfa86d7c98f2df5d77dcdefb3d80ca9f9037ad04393acf/scipy-1.12.0-cp312-cp312-win_amd64.whl.metadata\n",
      "  Downloading scipy-1.12.0-cp312-cp312-win_amd64.whl.metadata (60 kB)\n",
      "     ---------------------------------------- 0.0/60.4 kB ? eta -:--:--\n",
      "     ------ --------------------------------- 10.2/60.4 kB ? eta -:--:--\n",
      "     ------------ ------------------------- 20.5/60.4 kB 165.2 kB/s eta 0:00:01\n",
      "     ------------------- ------------------ 30.7/60.4 kB 220.2 kB/s eta 0:00:01\n",
      "     -------------------------------- ----- 51.2/60.4 kB 292.6 kB/s eta 0:00:01\n",
      "     -------------------------------- ----- 51.2/60.4 kB 292.6 kB/s eta 0:00:01\n",
      "     -------------------------------- ----- 51.2/60.4 kB 292.6 kB/s eta 0:00:01\n",
      "     -------------------------------------- 60.4/60.4 kB 169.0 kB/s eta 0:00:00\n",
      "Requirement already satisfied: numpy<1.29.0,>=1.22.4 in e:\\python312\\lib\\site-packages (from scipy) (1.26.2)\n",
      "Downloading scipy-1.12.0-cp312-cp312-win_amd64.whl (45.8 MB)\n",
      "   ---------------------------------------- 0.0/45.8 MB ? eta -:--:--\n",
      "   ---------------------------------------- 0.1/45.8 MB 1.7 MB/s eta 0:00:28\n",
      "   ---------------------------------------- 0.1/45.8 MB 762.6 kB/s eta 0:01:00\n",
      "   ---------------------------------------- 0.2/45.8 MB 1.6 MB/s eta 0:00:30\n",
      "   ---------------------------------------- 0.3/45.8 MB 1.6 MB/s eta 0:00:29\n",
      "   ---------------------------------------- 0.4/45.8 MB 1.6 MB/s eta 0:00:29\n",
      "   ---------------------------------------- 0.5/45.8 MB 1.8 MB/s eta 0:00:25\n",
      "    --------------------------------------- 0.6/45.8 MB 1.9 MB/s eta 0:00:24\n",
      "    --------------------------------------- 0.8/45.8 MB 2.1 MB/s eta 0:00:22\n",
      "    --------------------------------------- 0.9/45.8 MB 2.1 MB/s eta 0:00:22\n",
      "    --------------------------------------- 1.1/45.8 MB 2.2 MB/s eta 0:00:20\n",
      "   - -------------------------------------- 1.2/45.8 MB 2.3 MB/s eta 0:00:20\n",
      "   - -------------------------------------- 1.3/45.8 MB 2.3 MB/s eta 0:00:20\n",
      "   - -------------------------------------- 1.5/45.8 MB 2.4 MB/s eta 0:00:19\n",
      "   - -------------------------------------- 1.6/45.8 MB 2.5 MB/s eta 0:00:18\n",
      "   - -------------------------------------- 1.8/45.8 MB 2.6 MB/s eta 0:00:18\n",
      "   - -------------------------------------- 2.0/45.8 MB 2.6 MB/s eta 0:00:17\n",
      "   - -------------------------------------- 2.1/45.8 MB 2.7 MB/s eta 0:00:17\n",
      "   -- ------------------------------------- 2.3/45.8 MB 2.8 MB/s eta 0:00:16\n",
      "   -- ------------------------------------- 2.5/45.8 MB 2.8 MB/s eta 0:00:16\n",
      "   -- ------------------------------------- 2.7/45.8 MB 2.9 MB/s eta 0:00:16\n",
      "   -- ------------------------------------- 2.9/45.8 MB 2.9 MB/s eta 0:00:15\n",
      "   -- ------------------------------------- 3.1/45.8 MB 3.0 MB/s eta 0:00:15\n",
      "   -- ------------------------------------- 3.3/45.8 MB 3.1 MB/s eta 0:00:14\n",
      "   --- ------------------------------------ 3.5/45.8 MB 3.1 MB/s eta 0:00:14\n",
      "   --- ------------------------------------ 3.7/45.8 MB 3.2 MB/s eta 0:00:14\n",
      "   --- ------------------------------------ 4.0/45.8 MB 3.3 MB/s eta 0:00:13\n",
      "   --- ------------------------------------ 4.2/45.8 MB 3.3 MB/s eta 0:00:13\n",
      "   --- ------------------------------------ 4.4/45.8 MB 3.4 MB/s eta 0:00:13\n",
      "   ---- ----------------------------------- 4.7/45.8 MB 3.4 MB/s eta 0:00:13\n",
      "   ---- ----------------------------------- 4.9/45.8 MB 3.5 MB/s eta 0:00:12\n",
      "   ---- ----------------------------------- 5.1/45.8 MB 3.5 MB/s eta 0:00:12\n",
      "   ---- ----------------------------------- 5.4/45.8 MB 3.6 MB/s eta 0:00:12\n",
      "   ---- ----------------------------------- 5.7/45.8 MB 3.7 MB/s eta 0:00:11\n",
      "   ----- ---------------------------------- 6.1/45.8 MB 3.8 MB/s eta 0:00:11\n",
      "   ----- ---------------------------------- 6.4/45.8 MB 3.9 MB/s eta 0:00:11\n",
      "   ----- ---------------------------------- 6.7/45.8 MB 4.0 MB/s eta 0:00:10\n",
      "   ------ --------------------------------- 6.9/45.8 MB 3.9 MB/s eta 0:00:10\n",
      "   ------ --------------------------------- 7.2/45.8 MB 4.0 MB/s eta 0:00:10\n",
      "   ------ --------------------------------- 7.5/45.8 MB 4.1 MB/s eta 0:00:10\n",
      "   ------ --------------------------------- 7.8/45.8 MB 4.1 MB/s eta 0:00:10\n",
      "   ------ --------------------------------- 7.9/45.8 MB 4.1 MB/s eta 0:00:10\n",
      "   ------- -------------------------------- 8.3/45.8 MB 4.2 MB/s eta 0:00:09\n",
      "   ------- -------------------------------- 8.6/45.8 MB 4.2 MB/s eta 0:00:09\n",
      "   ------- -------------------------------- 8.9/45.8 MB 4.3 MB/s eta 0:00:09\n",
      "   -------- ------------------------------- 9.3/45.8 MB 4.4 MB/s eta 0:00:09\n",
      "   -------- ------------------------------- 9.6/45.8 MB 4.4 MB/s eta 0:00:09\n",
      "   -------- ------------------------------- 10.0/45.8 MB 4.5 MB/s eta 0:00:08\n",
      "   --------- ------------------------------ 10.3/45.8 MB 4.7 MB/s eta 0:00:08\n",
      "   --------- ------------------------------ 10.7/45.8 MB 5.0 MB/s eta 0:00:08\n",
      "   --------- ------------------------------ 11.0/45.8 MB 5.2 MB/s eta 0:00:07\n",
      "   --------- ------------------------------ 11.4/45.8 MB 5.4 MB/s eta 0:00:07\n",
      "   ---------- ----------------------------- 11.8/45.8 MB 5.5 MB/s eta 0:00:07\n",
      "   ---------- ----------------------------- 12.2/45.8 MB 5.8 MB/s eta 0:00:06\n",
      "   ----------- ---------------------------- 12.6/45.8 MB 6.1 MB/s eta 0:00:06\n",
      "   ----------- ---------------------------- 13.1/45.8 MB 6.4 MB/s eta 0:00:06\n",
      "   ----------- ---------------------------- 13.6/45.8 MB 6.5 MB/s eta 0:00:05\n",
      "   ------------ --------------------------- 14.0/45.8 MB 6.8 MB/s eta 0:00:05\n",
      "   ------------ --------------------------- 14.5/45.8 MB 7.0 MB/s eta 0:00:05\n",
      "   ------------- -------------------------- 14.9/45.8 MB 7.2 MB/s eta 0:00:05\n",
      "   ------------- -------------------------- 15.4/45.8 MB 7.4 MB/s eta 0:00:05\n",
      "   ------------- -------------------------- 15.8/45.8 MB 7.5 MB/s eta 0:00:04\n",
      "   -------------- ------------------------- 16.3/45.8 MB 7.7 MB/s eta 0:00:04\n",
      "   -------------- ------------------------- 16.9/45.8 MB 7.9 MB/s eta 0:00:04\n",
      "   --------------- ------------------------ 17.5/45.8 MB 8.4 MB/s eta 0:00:04\n",
      "   --------------- ------------------------ 18.0/45.8 MB 8.7 MB/s eta 0:00:04\n",
      "   ---------------- ----------------------- 18.6/45.8 MB 9.0 MB/s eta 0:00:04\n",
      "   ---------------- ----------------------- 19.1/45.8 MB 9.4 MB/s eta 0:00:03\n",
      "   ----------------- ---------------------- 19.6/45.8 MB 9.6 MB/s eta 0:00:03\n",
      "   ----------------- ---------------------- 20.2/45.8 MB 9.6 MB/s eta 0:00:03\n",
      "   ----------------- ---------------------- 20.5/45.8 MB 9.9 MB/s eta 0:00:03\n",
      "   ----------------- ---------------------- 20.5/45.8 MB 9.9 MB/s eta 0:00:03\n",
      "   ------------------ --------------------- 21.4/45.8 MB 10.1 MB/s eta 0:00:03\n",
      "   ------------------- -------------------- 22.4/45.8 MB 10.7 MB/s eta 0:00:03\n",
      "   ------------------- -------------------- 22.9/45.8 MB 10.7 MB/s eta 0:00:03\n",
      "   -------------------- ------------------- 23.4/45.8 MB 10.9 MB/s eta 0:00:03\n",
      "   -------------------- ------------------- 24.0/45.8 MB 10.9 MB/s eta 0:00:02\n",
      "   --------------------- ------------------ 24.5/45.8 MB 11.1 MB/s eta 0:00:02\n",
      "   --------------------- ------------------ 24.9/45.8 MB 11.1 MB/s eta 0:00:02\n",
      "   ---------------------- ----------------- 25.5/45.8 MB 11.1 MB/s eta 0:00:02\n",
      "   ---------------------- ----------------- 26.0/45.8 MB 11.1 MB/s eta 0:00:02\n",
      "   ----------------------- ---------------- 26.5/45.8 MB 11.1 MB/s eta 0:00:02\n",
      "   ----------------------- ---------------- 27.1/45.8 MB 11.3 MB/s eta 0:00:02\n",
      "   ------------------------ --------------- 27.7/45.8 MB 11.3 MB/s eta 0:00:02\n",
      "   ------------------------ --------------- 28.2/45.8 MB 11.1 MB/s eta 0:00:02\n",
      "   ------------------------- -------------- 28.7/45.8 MB 11.1 MB/s eta 0:00:02\n",
      "   ------------------------- -------------- 29.2/45.8 MB 11.3 MB/s eta 0:00:02\n",
      "   -------------------------- ------------- 29.8/45.8 MB 11.1 MB/s eta 0:00:02\n",
      "   -------------------------- ------------- 30.4/45.8 MB 11.1 MB/s eta 0:00:02\n",
      "   -------------------------- ------------- 30.9/45.8 MB 12.4 MB/s eta 0:00:02\n",
      "   --------------------------- ------------ 31.4/45.8 MB 11.7 MB/s eta 0:00:02\n",
      "   --------------------------- ------------ 31.4/45.8 MB 11.7 MB/s eta 0:00:02\n",
      "   ---------------------------- ----------- 32.4/45.8 MB 11.1 MB/s eta 0:00:02\n",
      "   ---------------------------- ----------- 32.9/45.8 MB 10.9 MB/s eta 0:00:02\n",
      "   ----------------------------- ---------- 33.4/45.8 MB 10.9 MB/s eta 0:00:02\n",
      "   ----------------------------- ---------- 33.8/45.8 MB 10.7 MB/s eta 0:00:02\n",
      "   ----------------------------- ---------- 34.1/45.8 MB 10.6 MB/s eta 0:00:02\n",
      "   ------------------------------ --------- 34.6/45.8 MB 10.6 MB/s eta 0:00:02\n",
      "   ------------------------------ --------- 35.0/45.8 MB 10.6 MB/s eta 0:00:02\n",
      "   ------------------------------- -------- 35.5/45.8 MB 10.4 MB/s eta 0:00:01\n",
      "   ------------------------------- -------- 36.0/45.8 MB 10.2 MB/s eta 0:00:01\n",
      "   ------------------------------- -------- 36.5/45.8 MB 10.6 MB/s eta 0:00:01\n",
      "   -------------------------------- ------- 37.0/45.8 MB 10.4 MB/s eta 0:00:01\n",
      "   -------------------------------- ------- 37.4/45.8 MB 10.2 MB/s eta 0:00:01\n",
      "   -------------------------------- ------- 37.8/45.8 MB 10.1 MB/s eta 0:00:01\n",
      "   --------------------------------- ------ 38.2/45.8 MB 9.9 MB/s eta 0:00:01\n",
      "   --------------------------------- ------ 38.6/45.8 MB 9.8 MB/s eta 0:00:01\n",
      "   --------------------------------- ------ 38.9/45.8 MB 9.6 MB/s eta 0:00:01\n",
      "   ---------------------------------- ----- 39.3/45.8 MB 9.6 MB/s eta 0:00:01\n",
      "   ---------------------------------- ----- 39.6/45.8 MB 9.4 MB/s eta 0:00:01\n",
      "   ---------------------------------- ----- 39.8/45.8 MB 9.1 MB/s eta 0:00:01\n",
      "   ---------------------------------- ----- 39.8/45.8 MB 9.1 MB/s eta 0:00:01\n",
      "   ---------------------------------- ----- 39.8/45.8 MB 9.1 MB/s eta 0:00:01\n",
      "   ----------------------------------- ---- 40.9/45.8 MB 8.7 MB/s eta 0:00:01\n",
      "   ------------------------------------ --- 41.2/45.8 MB 8.7 MB/s eta 0:00:01\n",
      "   ------------------------------------ --- 41.6/45.8 MB 8.6 MB/s eta 0:00:01\n",
      "   ------------------------------------ --- 41.9/45.8 MB 8.8 MB/s eta 0:00:01\n",
      "   ------------------------------------ --- 42.3/45.8 MB 8.4 MB/s eta 0:00:01\n",
      "   ------------------------------------- -- 42.6/45.8 MB 8.2 MB/s eta 0:00:01\n",
      "   ------------------------------------- -- 43.0/45.8 MB 8.1 MB/s eta 0:00:01\n",
      "   ------------------------------------- -- 43.3/45.8 MB 8.0 MB/s eta 0:00:01\n",
      "   -------------------------------------- - 43.8/45.8 MB 8.0 MB/s eta 0:00:01\n",
      "   -------------------------------------- - 44.1/45.8 MB 8.0 MB/s eta 0:00:01\n",
      "   -------------------------------------- - 44.5/45.8 MB 8.0 MB/s eta 0:00:01\n",
      "   ---------------------------------------  44.8/45.8 MB 7.9 MB/s eta 0:00:01\n",
      "   ---------------------------------------  45.3/45.8 MB 8.0 MB/s eta 0:00:01\n",
      "   ---------------------------------------  45.7/45.8 MB 7.9 MB/s eta 0:00:01\n",
      "   ---------------------------------------  45.8/45.8 MB 7.9 MB/s eta 0:00:01\n",
      "   ---------------------------------------  45.8/45.8 MB 7.9 MB/s eta 0:00:01\n",
      "   ---------------------------------------  45.8/45.8 MB 7.9 MB/s eta 0:00:01\n",
      "   ---------------------------------------  45.8/45.8 MB 7.9 MB/s eta 0:00:01\n",
      "   ---------------------------------------  45.8/45.8 MB 7.9 MB/s eta 0:00:01\n",
      "   ---------------------------------------  45.8/45.8 MB 7.9 MB/s eta 0:00:01\n",
      "   ---------------------------------------  45.8/45.8 MB 7.9 MB/s eta 0:00:01\n",
      "   ---------------------------------------  45.8/45.8 MB 7.9 MB/s eta 0:00:01\n",
      "   ---------------------------------------  45.8/45.8 MB 7.9 MB/s eta 0:00:01\n",
      "   ---------------------------------------  45.8/45.8 MB 7.9 MB/s eta 0:00:01\n",
      "   ---------------------------------------  45.8/45.8 MB 7.9 MB/s eta 0:00:01\n",
      "   ---------------------------------------- 45.8/45.8 MB 5.5 MB/s eta 0:00:00\n",
      "Installing collected packages: scipy\n",
      "Successfully installed scipy-1.12.0\n"
     ]
    },
    {
     "name": "stderr",
     "output_type": "stream",
     "text": [
      "\n",
      "[notice] A new release of pip is available: 23.2.1 -> 24.0\n",
      "[notice] To update, run: python.exe -m pip install --upgrade pip\n"
     ]
    }
   ],
   "source": [
    "!pip install scipy"
   ]
  },
  {
   "cell_type": "code",
   "execution_count": 1,
   "id": "8591ec90",
   "metadata": {},
   "outputs": [
    {
     "name": "stdout",
     "output_type": "stream",
     "text": [
      "Original Matrix:\n",
      "[1, 2, 3]\n",
      "[4, 5, 6]\n",
      "[7, 8, 9]\n",
      "Transposed Matrix:\n",
      "[1, 4, 7]\n",
      "[2, 5, 8]\n",
      "[3, 6, 9]\n"
     ]
    }
   ],
   "source": [
    "\n",
    "def transpose_matrix(matrix):\n",
    "    return [[matrix[j][i] for j in range(len(matrix))] for i in range(len(matrix[0]))]\n",
    "\n",
    "# Example usage:\n",
    "matrix = [\n",
    "    [1, 2, 3],\n",
    "    [4, 5, 6],\n",
    "    [7, 8, 9]\n",
    "]\n",
    "transposed_matrix = transpose_matrix(matrix)\n",
    "print(\"Original Matrix:\")\n",
    "for row in matrix:\n",
    "    print(row)\n",
    "print(\"Transposed Matrix:\")\n",
    "for row in transposed_matrix:\n",
    "    print(row)\n"
   ]
  },
  {
   "cell_type": "markdown",
   "id": "a76b2eab",
   "metadata": {},
   "source": [
    "## 2. Matrix Determinant Calculator:\n",
    "\n",
    "- Write a Python program that calculates the determinant of a 2x2 or 3x3 matrix.\n",
    "- Implement a function to handle matrix input and display the determinant.\n",
    "\n"
   ]
  },
  {
   "cell_type": "code",
   "execution_count": 2,
   "id": "08b5b1be",
   "metadata": {},
   "outputs": [
    {
     "name": "stdout",
     "output_type": "stream",
     "text": [
      "Determinant of 2x2 matrix: 10\n",
      "Determinant of 3x3 matrix: 0\n"
     ]
    }
   ],
   "source": [
    "\n",
    "def calculate_2x2_determinant(matrix):\n",
    "    return matrix[0][0] * matrix[1][1] - matrix[0][1] * matrix[1][0]\n",
    "\n",
    "def calculate_3x3_determinant(matrix):\n",
    "    return (\n",
    "        matrix[0][0] * (matrix[1][1] * matrix[2][2] - matrix[1][2] * matrix[2][1]) -\n",
    "        matrix[0][1] * (matrix[1][0] * matrix[2][2] - matrix[1][2] * matrix[2][0]) +\n",
    "        matrix[0][2] * (matrix[1][0] * matrix[2][1] - matrix[1][1] * matrix[2][0])\n",
    "    )\n",
    "\n",
    "# Example usage:\n",
    "matrix_2x2 = [\n",
    "    [4, 7],\n",
    "    [2, 6]\n",
    "]\n",
    "matrix_3x3 = [\n",
    "    [1, 2, 3],\n",
    "    [4, 5, 6],\n",
    "    [7, 8, 9]\n",
    "]\n",
    "determinant_2x2 = calculate_2x2_determinant(matrix_2x2)\n",
    "determinant_3x3 = calculate_3x3_determinant(matrix_3x3)\n",
    "print(f\"Determinant of 2x2 matrix: {determinant_2x2}\")\n",
    "print(f\"Determinant of 3x3 matrix: {determinant_3x3}\")\n"
   ]
  },
  {
   "cell_type": "markdown",
   "id": "5c7738cb",
   "metadata": {},
   "source": [
    "## 3. Matrix Inversion:\n",
    "\n",
    "- Create a Python program that finds the inverse of a 2x2 matrix.\n",
    "- Implement a function that takes a matrix as input and returns its inverse.\n",
    "\n"
   ]
  },
  {
   "cell_type": "code",
   "execution_count": 4,
   "id": "26ecf6a7",
   "metadata": {},
   "outputs": [
    {
     "name": "stdout",
     "output_type": "stream",
     "text": [
      "Original Matrix:\n",
      "[4, 7]\n",
      "[2, 6]\n",
      "Inverse Matrix:\n",
      "[0.6, -0.7]\n",
      "[-0.2, 0.4]\n"
     ]
    }
   ],
   "source": [
    "\n",
    "def calculate_2x2_inverse(matrix):\n",
    "    det = calculate_2x2_determinant(matrix)\n",
    "    if det == 0:\n",
    "        return None  # Matrix is singular, no inverse exists\n",
    "    else:\n",
    "        return [[matrix[1][1] / det, -matrix[0][1] / det], [-matrix[1][0] / det, matrix[0][0] / det]]\n",
    "\n",
    "# Example usage:\n",
    "matrix_2x2 = [\n",
    "    [4, 7],\n",
    "    [2, 6]\n",
    "]\n",
    "inverse_2x2 = calculate_2x2_inverse(matrix_2x2)\n",
    "print(\"Original Matrix:\")\n",
    "for row in matrix_2x2:\n",
    "    print(row)\n",
    "print(\"Inverse Matrix:\")\n",
    "if inverse_2x2:\n",
    "    for row in inverse_2x2:\n",
    "        print(row)\n",
    "else:\n",
    "    print(\"The matrix is singular, no inverse exists.\")\n"
   ]
  },
  {
   "cell_type": "markdown",
   "id": "3f265fd4",
   "metadata": {},
   "source": [
    "## 4. Matrix Trace Calculator:\n",
    "\n",
    "- Develop a Python program that calculates the trace of a square matrix.\n",
    "- The trace of a matrix is the sum of its diagonal elements."
   ]
  },
  {
   "cell_type": "code",
   "execution_count": 6,
   "id": "e37d5bce",
   "metadata": {},
   "outputs": [
    {
     "name": "stdout",
     "output_type": "stream",
     "text": [
      "Matrix:\n",
      "[1, 2, 3]\n",
      "[4, 5, 6]\n",
      "[7, 8, 9]\n",
      "Matrix Trace: 15\n"
     ]
    }
   ],
   "source": [
    "\n",
    "def calculate_matrix_trace(matrix):\n",
    "    if len(matrix) != len(matrix[0]):\n",
    "        return None  # Not a square matrix, trace is undefined\n",
    "    else:\n",
    "        return sum(matrix[i][i] for i in range(len(matrix)))\n",
    "\n",
    "# Example usage:\n",
    "matrix_square = [\n",
    "    [1, 2, 3],\n",
    "    [4, 5, 6],\n",
    "    [7, 8, 9]\n",
    "]\n",
    "trace_result = calculate_matrix_trace(matrix_square)\n",
    "print(\"Matrix:\")\n",
    "for row in matrix_square:\n",
    "    print(row)\n",
    "print(f\"Matrix Trace: {trace_result}\")\n"
   ]
  },
  {
   "cell_type": "markdown",
   "id": "85873fd9",
   "metadata": {},
   "source": [
    "## 5. Sparse Matrix Representation:\n",
    "\n",
    "- Implement a Python program to represent a sparse matrix.\n",
    "- Perform addition or multiplication operations on sparse matrices."
   ]
  },
  {
   "cell_type": "code",
   "execution_count": 9,
   "id": "dfa8288e",
   "metadata": {},
   "outputs": [
    {
     "name": "stdout",
     "output_type": "stream",
     "text": [
      "Addition Result:\n",
      "[[1 4 0]\n",
      " [0 5 2]\n",
      " [3 0 6]]\n",
      "Multiplication Result:\n",
      "[[ 0  4  0]\n",
      " [ 0  0 12]\n",
      " [ 0 12  0]]\n"
     ]
    }
   ],
   "source": [
    "\n",
    "from scipy.sparse import csr_matrix\n",
    "import numpy as np\n",
    "\n",
    "def perform_sparse_matrix_operations():\n",
    "    matrix_a = np.array([[1, 0, 0], [0, 0, 2], [3, 0, 0]])\n",
    "    matrix_b = np.array([[0, 4, 0], [0, 5, 0], [0, 0, 6]])\n",
    "\n",
    "    sparse_matrix_a = csr_matrix(matrix_a)\n",
    "    sparse_matrix_b = csr_matrix(matrix_b)\n",
    "\n",
    "    # Addition\n",
    "    addition_result = sparse_matrix_a + sparse_matrix_b\n",
    "    print(\"Addition Result:\")\n",
    "    print(addition_result.todense())\n",
    "\n",
    "    # Multiplication\n",
    "    multiplication_result = sparse_matrix_a.dot(sparse_matrix_b)\n",
    "    print(\"Multiplication Result:\")\n",
    "    print(multiplication_result.todense())\n",
    "\n",
    "# Example usage:\n",
    "perform_sparse_matrix_operations()\n"
   ]
  },
  {
   "cell_type": "markdown",
   "id": "bd9f7155",
   "metadata": {},
   "source": [
    "## 6. Eigenvalue and Eigenvector Solver:\n",
    "\n",
    "- Write a Python program that finds the eigenvalues and eigenvectors of a square matrix.\n",
    "- Implement functions to calculate eigenvalues and eigenvectors."
   ]
  },
  {
   "cell_type": "code",
   "execution_count": 10,
   "id": "93d25b48",
   "metadata": {},
   "outputs": [
    {
     "name": "stdout",
     "output_type": "stream",
     "text": [
      "Matrix:\n",
      "[[1 2]\n",
      " [2 4]]\n",
      "Eigenvalues:\n",
      "[0. 5.]\n",
      "Eigenvectors:\n",
      "[[-0.89442719 -0.4472136 ]\n",
      " [ 0.4472136  -0.89442719]]\n"
     ]
    }
   ],
   "source": [
    "import numpy as np\n",
    "\n",
    "def calculate_eigenvalues_and_eigenvectors(matrix):\n",
    "    eigenvalues, eigenvectors = np.linalg.eig(matrix)\n",
    "    return eigenvalues, eigenvectors\n",
    "\n",
    "# Example usage:\n",
    "matrix_square = np.array([[1, 2], [2, 4]])\n",
    "eigenvalues, eigenvectors = calculate_eigenvalues_and_eigenvectors(matrix_square)\n",
    "print(\"Matrix:\")\n",
    "print(matrix_square)\n",
    "print(\"Eigenvalues:\")\n",
    "print(eigenvalues)\n",
    "print(\"Eigenvectors:\")\n",
    "print(eigenvectors)"
   ]
  },
  {
   "cell_type": "markdown",
   "id": "4420748a",
   "metadata": {},
   "source": [
    "## 7. Matrix Rotation:\n",
    "\n",
    "- Create a Python program that rotates a given matrix 90 degrees clockwise.\n",
    "- Allow the user to input the matrix dimensions and elements."
   ]
  },
  {
   "cell_type": "code",
   "execution_count": 12,
   "id": "ebb50214",
   "metadata": {},
   "outputs": [
    {
     "name": "stdin",
     "output_type": "stream",
     "text": [
      "Enter the number of rows:  3\n",
      "Enter the number of columns:  4\n",
      "Enter element at position (1, 1):  1\n",
      "Enter element at position (1, 2):  2\n",
      "Enter element at position (1, 3):  3\n",
      "Enter element at position (1, 4):  4\n",
      "Enter element at position (2, 1):  5\n",
      "Enter element at position (2, 2):  6\n",
      "Enter element at position (2, 3):  7\n",
      "Enter element at position (2, 4):  8\n",
      "Enter element at position (3, 1):  9\n",
      "Enter element at position (3, 2):  10\n",
      "Enter element at position (3, 3):  11\n",
      "Enter element at position (3, 4):  12\n"
     ]
    },
    {
     "name": "stdout",
     "output_type": "stream",
     "text": [
      "Original Matrix:\n",
      "[1, 2, 3, 4]\n",
      "[5, 6, 7, 8]\n",
      "[9, 10, 11, 12]\n",
      "Rotated Matrix (90 degrees clockwise):\n",
      "[4, 8, 12]\n",
      "[3, 7, 11]\n",
      "[2, 6, 10]\n",
      "[1, 5, 9]\n"
     ]
    }
   ],
   "source": [
    "\n",
    "def rotate_matrix_clockwise(matrix):\n",
    "    return [[matrix[j][i] for j in range(len(matrix))] for i in range(len(matrix[0])-1, -1, -1)]\n",
    "\n",
    "# Example usage:\n",
    "user_rows = int(input(\"Enter the number of rows: \"))\n",
    "user_cols = int(input(\"Enter the number of columns: \"))\n",
    "\n",
    "user_matrix = []\n",
    "for i in range(user_rows):\n",
    "    row = [int(input(f\"Enter element at position ({i+1}, {j+1}): \")) for j in range(user_cols)]\n",
    "    user_matrix.append(row)\n",
    "\n",
    "rotated_matrix = rotate_matrix_clockwise(user_matrix)\n",
    "print(\"Original Matrix:\")\n",
    "for row in user_matrix:\n",
    "    print(row)\n",
    "print(\"Rotated Matrix (90 degrees clockwise):\")\n",
    "for row in rotated_matrix:\n",
    "    print(row)"
   ]
  },
  {
   "cell_type": "markdown",
   "id": "2714be3a",
   "metadata": {},
   "source": [
    "\n",
    "## 8. Matrix Rank Calculator:\n",
    "\n",
    "- Write a Python program that calculates the rank of a matrix.\n",
    "- Implement a function to determine the rank of a given matrix."
   ]
  },
  {
   "cell_type": "code",
   "execution_count": 14,
   "id": "7647cf57",
   "metadata": {},
   "outputs": [
    {
     "name": "stdout",
     "output_type": "stream",
     "text": [
      "Matrix:\n",
      "[[1 2 3]\n",
      " [4 5 6]\n",
      " [7 8 9]]\n",
      "Matrix Rank: 2\n"
     ]
    }
   ],
   "source": [
    "\n",
    "import numpy as np\n",
    "\n",
    "def calculate_matrix_rank(matrix):\n",
    "    return np.linalg.matrix_rank(matrix)\n",
    "\n",
    "# Example usage:\n",
    "matrix_rank_example = np.array([[1, 2, 3], [4, 5, 6], [7, 8, 9]])\n",
    "rank_result = calculate_matrix_rank(matrix_rank_example)\n",
    "print(\"Matrix:\")\n",
    "print(matrix_rank_example)\n",
    "print(f\"Matrix Rank: {rank_result}\")\n"
   ]
  },
  {
   "cell_type": "code",
   "execution_count": null,
   "id": "1ec44f80-fa98-47a4-8fb9-1ba2fa296df7",
   "metadata": {},
   "outputs": [],
   "source": []
  }
 ],
 "metadata": {
  "kernelspec": {
   "display_name": "Python 3 (ipykernel)",
   "language": "python",
   "name": "python3"
  },
  "language_info": {
   "codemirror_mode": {
    "name": "ipython",
    "version": 3
   },
   "file_extension": ".py",
   "mimetype": "text/x-python",
   "name": "python",
   "nbconvert_exporter": "python",
   "pygments_lexer": "ipython3",
   "version": "3.12.1"
  }
 },
 "nbformat": 4,
 "nbformat_minor": 5
}
