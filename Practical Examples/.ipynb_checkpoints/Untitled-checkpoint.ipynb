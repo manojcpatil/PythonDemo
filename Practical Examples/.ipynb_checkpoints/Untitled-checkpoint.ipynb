{
 "cells": [
  {
   "cell_type": "markdown",
   "id": "fc797596-6cf6-4b76-87fa-10a81f3ad50c",
   "metadata": {},
   "source": [
    "### Geometric Objects in Python\n",
    "\n",
    "#### Points and Vectors"
   ]
  },
  {
   "cell_type": "code",
   "execution_count": 21,
   "id": "bc5fcee3-0fac-48a9-b819-0f629499701c",
   "metadata": {},
   "outputs": [
    {
     "name": "stdout",
     "output_type": "stream",
     "text": [
      "<__main__.Vector object at 0x000001F273742D80>\n"
     ]
    }
   ],
   "source": [
    "# Python program for Points and Vectors\n",
    "class Point:\n",
    "    def __init__(self, x, y):\n",
    "        self.x = x\n",
    "        self.y = y\n",
    "\n",
    "class Vector:\n",
    "    def __init__(self, start, end):\n",
    "        self.start = start\n",
    "        self.end = end\n",
    "\n",
    "# Example usage\n",
    "point_a = Point(1, 2)\n",
    "point_b = Point(3, 4)\n",
    "vector_ab = Vector(point_a, point_b)\n",
    "print(vector_ab)"
   ]
  },
  {
   "cell_type": "markdown",
   "id": "6115f759-5304-4da9-8207-2766cd8a771b",
   "metadata": {},
   "source": [
    "#### Lines and Segments"
   ]
  },
  {
   "cell_type": "code",
   "execution_count": 3,
   "id": "fc6b29bd-59ea-4b1d-b1f8-9491b15441ee",
   "metadata": {},
   "outputs": [],
   "source": [
    "# Python program for Lines and Segments\n",
    "class Line:\n",
    "    def __init__(self, slope, intercept):\n",
    "        self.slope = slope\n",
    "        self.intercept = intercept\n",
    "\n",
    "class Segment:\n",
    "    def __init__(self, start, end):\n",
    "        self.start = start\n",
    "        self.end = end\n",
    "\n",
    "# Example usage\n",
    "line_ab = Line(slope=2, intercept=1)\n",
    "segment_cd = Segment(Point(1, 2), Point(3, 4))"
   ]
  },
  {
   "cell_type": "markdown",
   "id": "b8dfeed2-c025-4b65-ae8d-923123007b18",
   "metadata": {},
   "source": [
    "#### Polygons"
   ]
  },
  {
   "cell_type": "code",
   "execution_count": 4,
   "id": "62c3c98a-fd1d-4574-a5c6-fb650bff9676",
   "metadata": {},
   "outputs": [],
   "source": [
    "# Python program for Polygons\n",
    "class Polygon:\n",
    "    def __init__(self, vertices):\n",
    "        self.vertices = vertices\n",
    "\n",
    "    def compute_area(self):\n",
    "        # Compute polygon area using a suitable algorithm\n",
    "        pass\n",
    "\n",
    "# Example usage\n",
    "polygon = Polygon([Point(0, 0), Point(0, 3), Point(4, 3), Point(4, 0)])\n",
    "area = polygon.compute_area()"
   ]
  },
  {
   "cell_type": "markdown",
   "id": "448e323c-eae8-4ae2-a769-6b5a1aee6ddf",
   "metadata": {},
   "source": [
    "#### Circles and Ellipses"
   ]
  },
  {
   "cell_type": "code",
   "execution_count": 5,
   "id": "c7ba928d-f02c-46c8-8f8c-c5f99d1895eb",
   "metadata": {},
   "outputs": [],
   "source": [
    "# Python program for Circles and Ellipses\n",
    "class Circle:\n",
    "    def __init__(self, center, radius):\n",
    "        self.center = center\n",
    "        self.radius = radius\n",
    "\n",
    "class Ellipse:\n",
    "    def __init__(self, center, major_axis, minor_axis):\n",
    "        self.center = center\n",
    "        self.major_axis = major_axis\n",
    "        self.minor_axis = minor_axis\n",
    "\n",
    "# Example usage\n",
    "circle = Circle(Point(1, 1), 2)\n",
    "ellipse = Ellipse(Point(2, 2), 3, 1)"
   ]
  },
  {
   "cell_type": "markdown",
   "id": "c21bdad2-3d07-4ab0-bdc6-a19b89eda8d0",
   "metadata": {},
   "source": [
    "### Computational Geometry Algorithms\n",
    "\n",
    "#### Convex Hull (Graham's Scan)"
   ]
  },
  {
   "cell_type": "code",
   "execution_count": 6,
   "id": "a4a5aa19-c752-4e2b-8f45-28fb70357916",
   "metadata": {},
   "outputs": [],
   "source": [
    "# Python program for Convex Hull (Graham's Scan)\n",
    "def graham_scan(points):\n",
    "    # Implement Graham's Scan algorithm\n",
    "    pass\n",
    "\n",
    "# Example usage\n",
    "points_set = [Point(0, 0), Point(1, 2), Point(3, 4), Point(5, 1)]\n",
    "convex_hull = graham_scan(points_set)"
   ]
  },
  {
   "cell_type": "code",
   "execution_count": 22,
   "id": "475d5276-9820-4d47-82cb-6c4b9235cec7",
   "metadata": {},
   "outputs": [
    {
     "ename": "NameError",
     "evalue": "name 'atan2' is not defined",
     "output_type": "error",
     "traceback": [
      "\u001b[1;31m---------------------------------------------------------------------------\u001b[0m",
      "\u001b[1;31mNameError\u001b[0m                                 Traceback (most recent call last)",
      "Cell \u001b[1;32mIn[22], line 39\u001b[0m\n\u001b[0;32m     37\u001b[0m \u001b[38;5;66;03m# Example usage\u001b[39;00m\n\u001b[0;32m     38\u001b[0m points_set \u001b[38;5;241m=\u001b[39m [Point(\u001b[38;5;241m0\u001b[39m, \u001b[38;5;241m0\u001b[39m), Point(\u001b[38;5;241m1\u001b[39m, \u001b[38;5;241m2\u001b[39m), Point(\u001b[38;5;241m3\u001b[39m, \u001b[38;5;241m4\u001b[39m), Point(\u001b[38;5;241m5\u001b[39m, \u001b[38;5;241m1\u001b[39m)]\n\u001b[1;32m---> 39\u001b[0m convex_hull \u001b[38;5;241m=\u001b[39m \u001b[43mgraham_scan\u001b[49m\u001b[43m(\u001b[49m\u001b[43mpoints_set\u001b[49m\u001b[43m)\u001b[49m\n\u001b[0;32m     41\u001b[0m \u001b[38;5;66;03m# Print the convex hull points\u001b[39;00m\n\u001b[0;32m     42\u001b[0m \u001b[38;5;28mprint\u001b[39m(\u001b[38;5;124m\"\u001b[39m\u001b[38;5;124mConvex Hull Points:\u001b[39m\u001b[38;5;124m\"\u001b[39m)\n",
      "Cell \u001b[1;32mIn[22], line 22\u001b[0m, in \u001b[0;36mgraham_scan\u001b[1;34m(points)\u001b[0m\n\u001b[0;32m     20\u001b[0m \u001b[38;5;66;03m# Sort points based on polar angle with the anchor point\u001b[39;00m\n\u001b[0;32m     21\u001b[0m anchor \u001b[38;5;241m=\u001b[39m \u001b[38;5;28mmin\u001b[39m(points, key\u001b[38;5;241m=\u001b[39m\u001b[38;5;28;01mlambda\u001b[39;00m p: (p\u001b[38;5;241m.\u001b[39my, p\u001b[38;5;241m.\u001b[39mx))\n\u001b[1;32m---> 22\u001b[0m sorted_points \u001b[38;5;241m=\u001b[39m \u001b[38;5;28;43msorted\u001b[39;49m\u001b[43m(\u001b[49m\u001b[43mpoints\u001b[49m\u001b[43m,\u001b[49m\u001b[43m \u001b[49m\u001b[43mkey\u001b[49m\u001b[38;5;241;43m=\u001b[39;49m\u001b[38;5;28;43;01mlambda\u001b[39;49;00m\u001b[43m \u001b[49m\u001b[43mp\u001b[49m\u001b[43m:\u001b[49m\u001b[43m \u001b[49m\u001b[43m(\u001b[49m\u001b[43matan2\u001b[49m\u001b[43m(\u001b[49m\u001b[43mp\u001b[49m\u001b[38;5;241;43m.\u001b[39;49m\u001b[43my\u001b[49m\u001b[43m \u001b[49m\u001b[38;5;241;43m-\u001b[39;49m\u001b[43m \u001b[49m\u001b[43manchor\u001b[49m\u001b[38;5;241;43m.\u001b[39;49m\u001b[43my\u001b[49m\u001b[43m,\u001b[49m\u001b[43m \u001b[49m\u001b[43mp\u001b[49m\u001b[38;5;241;43m.\u001b[39;49m\u001b[43mx\u001b[49m\u001b[43m \u001b[49m\u001b[38;5;241;43m-\u001b[39;49m\u001b[43m \u001b[49m\u001b[43manchor\u001b[49m\u001b[38;5;241;43m.\u001b[39;49m\u001b[43mx\u001b[49m\u001b[43m)\u001b[49m\u001b[43m,\u001b[49m\u001b[43m \u001b[49m\u001b[43mp\u001b[49m\u001b[43m)\u001b[49m\u001b[43m)\u001b[49m\n\u001b[0;32m     24\u001b[0m \u001b[38;5;66;03m# Initialize the stack for the convex hull\u001b[39;00m\n\u001b[0;32m     25\u001b[0m stack \u001b[38;5;241m=\u001b[39m []\n",
      "Cell \u001b[1;32mIn[22], line 22\u001b[0m, in \u001b[0;36mgraham_scan.<locals>.<lambda>\u001b[1;34m(p)\u001b[0m\n\u001b[0;32m     20\u001b[0m \u001b[38;5;66;03m# Sort points based on polar angle with the anchor point\u001b[39;00m\n\u001b[0;32m     21\u001b[0m anchor \u001b[38;5;241m=\u001b[39m \u001b[38;5;28mmin\u001b[39m(points, key\u001b[38;5;241m=\u001b[39m\u001b[38;5;28;01mlambda\u001b[39;00m p: (p\u001b[38;5;241m.\u001b[39my, p\u001b[38;5;241m.\u001b[39mx))\n\u001b[1;32m---> 22\u001b[0m sorted_points \u001b[38;5;241m=\u001b[39m \u001b[38;5;28msorted\u001b[39m(points, key\u001b[38;5;241m=\u001b[39m\u001b[38;5;28;01mlambda\u001b[39;00m p: (\u001b[43matan2\u001b[49m(p\u001b[38;5;241m.\u001b[39my \u001b[38;5;241m-\u001b[39m anchor\u001b[38;5;241m.\u001b[39my, p\u001b[38;5;241m.\u001b[39mx \u001b[38;5;241m-\u001b[39m anchor\u001b[38;5;241m.\u001b[39mx), p))\n\u001b[0;32m     24\u001b[0m \u001b[38;5;66;03m# Initialize the stack for the convex hull\u001b[39;00m\n\u001b[0;32m     25\u001b[0m stack \u001b[38;5;241m=\u001b[39m []\n",
      "\u001b[1;31mNameError\u001b[0m: name 'atan2' is not defined"
     ]
    }
   ],
   "source": [
    "# Python program for Convex Hull (Graham's Scan)\n",
    "\n",
    "class Point:\n",
    "    def __init__(self, x, y):\n",
    "        self.x = x\n",
    "        self.y = y\n",
    "\n",
    "def graham_scan(points):\n",
    "    # Function to determine the orientation of three points (p, q, r)\n",
    "    def orientation(p, q, r):\n",
    "        val = (q.y - p.y) * (r.x - q.x) - (q.x - p.x) * (r.y - q.y)\n",
    "        if val == 0:\n",
    "            return 0  # Collinear points\n",
    "        return 1 if val > 0 else 2  # Clockwise or counterclockwise\n",
    "\n",
    "    # Function to find the next-to-top point in the stack\n",
    "    def next_to_top(stack):\n",
    "        return stack[-2] if len(stack) > 1 else None\n",
    "\n",
    "    # Sort points based on polar angle with the anchor point\n",
    "    anchor = min(points, key=lambda p: (p.y, p.x))\n",
    "    sorted_points = sorted(points, key=lambda p: (atan2(p.y - anchor.y, p.x - anchor.x), p))\n",
    "\n",
    "    # Initialize the stack for the convex hull\n",
    "    stack = []\n",
    "    stack.append(sorted_points[0])\n",
    "    stack.append(sorted_points[1])\n",
    "\n",
    "    # Iterate over the sorted points\n",
    "    for i in range(2, len(sorted_points)):\n",
    "        while len(stack) > 1 and orientation(next_to_top(stack), stack[-1], sorted_points[i]) != 2:\n",
    "            stack.pop()\n",
    "        stack.append(sorted_points[i])\n",
    "\n",
    "    return stack\n",
    "\n",
    "# Example usage\n",
    "points_set = [Point(0, 0), Point(1, 2), Point(3, 4), Point(5, 1)]\n",
    "convex_hull = graham_scan(points_set)\n",
    "\n",
    "# Print the convex hull points\n",
    "print(\"Convex Hull Points:\")\n",
    "for point in convex_hull:\n",
    "    print(f\"({point.x}, {point.y})\")\n"
   ]
  },
  {
   "cell_type": "markdown",
   "id": "e0e9528d-1182-4f76-8966-68258f5b8560",
   "metadata": {},
   "source": [
    "#### Point Location (Ray Casting)"
   ]
  },
  {
   "cell_type": "code",
   "execution_count": 7,
   "id": "c57c3a8b-65b4-4724-ad3e-3f935b6d28fb",
   "metadata": {},
   "outputs": [],
   "source": [
    "# Python program for Point Location (Ray Casting)\n",
    "def point_in_polygon(point, polygon):\n",
    "    # Implement point-in-polygon test using ray casting\n",
    "    pass\n",
    "\n",
    "# Example usage\n",
    "test_point = Point(2, 3)\n",
    "result = point_in_polygon(test_point, polygon)"
   ]
  },
  {
   "cell_type": "markdown",
   "id": "d364f364-0b89-4f04-a128-151de1b47db7",
   "metadata": {},
   "source": [
    "#### Voronoi Diagrams"
   ]
  },
  {
   "cell_type": "code",
   "execution_count": 8,
   "id": "c9cab1fb-2ae3-4b3b-90fa-a00a35d1e0d4",
   "metadata": {},
   "outputs": [
    {
     "data": {
      "image/png": "[encoded data removed]",
      "text/plain": [
       "<Figure size 640x480 with 1 Axes>"
      ]
     },
     "metadata": {},
     "output_type": "display_data"
    }
   ],
   "source": [
    "# Python program for Voronoi Diagrams\n",
    "from scipy.spatial import Voronoi, voronoi_plot_2d\n",
    "import matplotlib.pyplot as plt\n",
    "\n",
    "# Generate random points\n",
    "points = [(1, 2), (3, 4), (5, 1), (2, 5)]\n",
    "vor = Voronoi(points)\n",
    "\n",
    "# Plot the Voronoi diagram\n",
    "voronoi_plot_2d(vor)\n",
    "plt.show()"
   ]
  },
  {
   "cell_type": "markdown",
   "id": "4f831d8b-9a82-4cd0-afa3-8ee389d4b269",
   "metadata": {},
   "source": [
    "#### Delaunay Triangulation"
   ]
  },
  {
   "cell_type": "code",
   "execution_count": 9,
   "id": "dc037d62-2e11-4d14-a2bf-7e42812f0c12",
   "metadata": {},
   "outputs": [
    {
     "data": {
      "image/png": "[encoded data removed]",
      "text/plain": [
       "<Figure size 640x480 with 1 Axes>"
      ]
     },
     "metadata": {},
     "output_type": "display_data"
    }
   ],
   "source": [
    "# Python program for Delaunay Triangulation\n",
    "from scipy.spatial import Delaunay\n",
    "import matplotlib.pyplot as plt\n",
    "\n",
    "# Generate random points\n",
    "points = [(1, 2), (3, 4), (5, 1), (2, 5)]\n",
    "triangulation = Delaunay(points)\n",
    "\n",
    "# Plot the Delaunay triangulation\n",
    "plt.triplot([p[0] for p in points], [p[1] for p in points], triangulation.simplices)\n",
    "plt.plot([p[0] for p in points], [p[1] for p in points], 'o')\n",
    "plt.show()"
   ]
  },
  {
   "cell_type": "markdown",
   "id": "86734f6b-cc27-4bcc-b31d-3b69f40268d9",
   "metadata": {},
   "source": [
    "### Geospatial Applications\n",
    "\n",
    "#### Shapely for Geometric Operations"
   ]
  },
  {
   "cell_type": "code",
   "execution_count": 12,
   "id": "1cdfff68-97d1-468d-a554-869bfd036c39",
   "metadata": {},
   "outputs": [],
   "source": [
    "#!pip install shapely\n",
    "# Python program for Shapely Geometric Operations\n",
    "from shapely.geometry import Point, Polygon\n",
    "\n",
    "# Create Shapely Point and Polygon\n",
    "point = Point(2, 3)\n",
    "polygon = Polygon([(0, 0), (0, 3), (3, 3), (3, 0)])\n",
    "\n",
    "# Perform geometric operations\n",
    "intersection = point.intersection(polygon)\n",
    "union = point.union(polygon)\n",
    "buffered_polygon = polygon.buffer(0.5)"
   ]
  },
  {
   "cell_type": "markdown",
   "id": "7738bdd5-44b2-471c-a38c-73b9a8536ee7",
   "metadata": {},
   "source": [
    "#### Folium for Interactive Maps"
   ]
  },
  {
   "cell_type": "code",
   "execution_count": 19,
   "id": "14e5d237-ccda-42cb-b40c-10e392f2906b",
   "metadata": {},
   "outputs": [
    {
     "name": "stdout",
     "output_type": "stream",
     "text": [
      "Requirement already satisfied: folium in e:\\python312\\lib\\site-packages (0.15.1)\n",
      "Requirement already satisfied: branca>=0.6.0 in e:\\python312\\lib\\site-packages (from folium) (0.7.1)\n",
      "Requirement already satisfied: jinja2>=2.9 in e:\\python312\\lib\\site-packages (from folium) (3.1.2)\n",
      "Requirement already satisfied: numpy in e:\\python312\\lib\\site-packages (from folium) (1.26.2)\n",
      "Requirement already satisfied: requests in e:\\python312\\lib\\site-packages (from folium) (2.31.0)\n",
      "Requirement already satisfied: xyzservices in e:\\python312\\lib\\site-packages (from folium) (2023.10.1)\n",
      "Requirement already satisfied: MarkupSafe>=2.0 in e:\\python312\\lib\\site-packages (from jinja2>=2.9->folium) (2.1.3)\n",
      "Requirement already satisfied: charset-normalizer<4,>=2 in e:\\python312\\lib\\site-packages (from requests->folium) (3.3.2)\n",
      "Requirement already satisfied: idna<4,>=2.5 in e:\\python312\\lib\\site-packages (from requests->folium) (3.6)\n",
      "Requirement already satisfied: urllib3<3,>=1.21.1 in e:\\python312\\lib\\site-packages (from requests->folium) (2.1.0)\n",
      "Requirement already satisfied: certifi>=2017.4.17 in e:\\python312\\lib\\site-packages (from requests->folium) (2023.11.17)\n"
     ]
    },
    {
     "name": "stderr",
     "output_type": "stream",
     "text": [
      "\n",
      "[notice] A new release of pip is available: 23.2.1 -> 24.0\n",
      "[notice] To update, run: python.exe -m pip install --upgrade pip\n"
     ]
    }
   ],
   "source": [
    "!pip install folium\n",
    "# Python program for Folium Interactive Maps\n",
    "import folium\n",
    "\n",
    "# Create a Folium map centered at a specific location\n",
    "mymap = folium.Map(location=[37.7749, -122.4194], zoom_start=12)\n",
    "\n",
    "# Add a marker for a specific point\n",
    "folium.Marker(location=[37.7749, -122.4194], popup='San Francisco').add_to(mymap)\n",
    "\n",
    "# Save the map to an HTML file\n",
    "mymap.save('interactive_map.html')"
   ]
  },
  {
   "cell_type": "markdown",
   "id": "1d7ed7f3-3599-4b22-8ab6-89c5ca6487fa",
   "metadata": {},
   "source": [
    "These Python programs are designed to demonstrate the concepts covered in each section of your lab material. Adjust them based on the level of detail and specific content you want to emphasize in your computational geometry course."
   ]
  },
  {
   "cell_type": "code",
   "execution_count": 18,
   "id": "fb755a70-2c5a-4485-97ab-27d0e9b88f4f",
   "metadata": {},
   "outputs": [
    {
     "name": "stdout",
     "output_type": "stream",
     "text": [
      "Requirement already satisfied: pip in e:\\python312\\lib\\site-packages (23.2.1)\n",
      "Collecting pip\n",
      "  Obtaining dependency information for pip from https://files.pythonhosted.org/packages/8a/6a/19e9fe04fca059ccf770861c7d5721ab4c2aebc539889e97c7977528a53b/pip-24.0-py3-none-any.whl.metadata\n",
      "  Downloading pip-24.0-py3-none-any.whl.metadata (3.6 kB)\n",
      "Downloading pip-24.0-py3-none-any.whl (2.1 MB)\n",
      "   ---------------------------------------- 0.0/2.1 MB ? eta -:--:--\n",
      "   ---------------------------------------- 0.0/2.1 MB ? eta -:--:--\n",
      "    --------------------------------------- 0.0/2.1 MB 435.7 kB/s eta 0:00:05\n",
      "   - -------------------------------------- 0.1/2.1 MB 544.7 kB/s eta 0:00:04\n",
      "   - -------------------------------------- 0.1/2.1 MB 585.1 kB/s eta 0:00:04\n",
      "   -- ------------------------------------- 0.1/2.1 MB 654.9 kB/s eta 0:00:04\n",
      "   --- ------------------------------------ 0.2/2.1 MB 655.4 kB/s eta 0:00:03\n",
      "   --- ------------------------------------ 0.2/2.1 MB 692.4 kB/s eta 0:00:03\n",
      "   ---- ----------------------------------- 0.2/2.1 MB 689.2 kB/s eta 0:00:03\n",
      "   ---- ----------------------------------- 0.3/2.1 MB 684.6 kB/s eta 0:00:03\n",
      "   ----- ---------------------------------- 0.3/2.1 MB 655.2 kB/s eta 0:00:03\n",
      "   ------ --------------------------------- 0.3/2.1 MB 698.7 kB/s eta 0:00:03\n",
      "   ------ --------------------------------- 0.4/2.1 MB 695.9 kB/s eta 0:00:03\n",
      "   ------- -------------------------------- 0.4/2.1 MB 728.8 kB/s eta 0:00:03\n",
      "   -------- ------------------------------- 0.5/2.1 MB 756.6 kB/s eta 0:00:03\n",
      "   --------- ------------------------------ 0.5/2.1 MB 749.3 kB/s eta 0:00:03\n",
      "   ---------- ----------------------------- 0.6/2.1 MB 772.0 kB/s eta 0:00:03\n",
      "   ----------- ---------------------------- 0.6/2.1 MB 791.9 kB/s eta 0:00:02\n",
      "   ------------ --------------------------- 0.6/2.1 MB 796.6 kB/s eta 0:00:02\n",
      "   ------------- -------------------------- 0.7/2.1 MB 800.8 kB/s eta 0:00:02\n",
      "   ------------- -------------------------- 0.7/2.1 MB 805.4 kB/s eta 0:00:02\n",
      "   -------------- ------------------------- 0.8/2.1 MB 808.7 kB/s eta 0:00:02\n",
      "   --------------- ------------------------ 0.8/2.1 MB 811.7 kB/s eta 0:00:02\n",
      "   ---------------- ----------------------- 0.8/2.1 MB 827.3 kB/s eta 0:00:02\n",
      "   ---------------- ----------------------- 0.9/2.1 MB 811.8 kB/s eta 0:00:02\n",
      "   ---------------- ----------------------- 0.9/2.1 MB 811.8 kB/s eta 0:00:02\n",
      "   ----------------- ---------------------- 0.9/2.1 MB 768.9 kB/s eta 0:00:02\n",
      "   ----------------- ---------------------- 0.9/2.1 MB 768.9 kB/s eta 0:00:02\n",
      "   ------------------ --------------------- 1.0/2.1 MB 786.4 kB/s eta 0:00:02\n",
      "   ------------------- -------------------- 1.0/2.1 MB 772.7 kB/s eta 0:00:02\n",
      "   ------------------- -------------------- 1.1/2.1 MB 768.6 kB/s eta 0:00:02\n",
      "   -------------------- ------------------- 1.1/2.1 MB 766.2 kB/s eta 0:00:02\n",
      "   -------------------- ------------------- 1.1/2.1 MB 762.5 kB/s eta 0:00:02\n",
      "   --------------------- ------------------ 1.1/2.1 MB 750.9 kB/s eta 0:00:02\n",
      "   --------------------- ------------------ 1.2/2.1 MB 749.1 kB/s eta 0:00:02\n",
      "   --------------------- ------------------ 1.2/2.1 MB 749.1 kB/s eta 0:00:02\n",
      "   --------------------- ------------------ 1.2/2.1 MB 749.1 kB/s eta 0:00:02\n",
      "   ------------------------ --------------- 1.3/2.1 MB 746.6 kB/s eta 0:00:02\n",
      "   ------------------------ --------------- 1.3/2.1 MB 744.1 kB/s eta 0:00:02\n",
      "   ------------------------- -------------- 1.3/2.1 MB 754.2 kB/s eta 0:00:02\n",
      "   -------------------------- ------------- 1.4/2.1 MB 750.6 kB/s eta 0:00:01\n",
      "   -------------------------- ------------- 1.4/2.1 MB 749.1 kB/s eta 0:00:01\n",
      "   --------------------------- ------------ 1.5/2.1 MB 751.2 kB/s eta 0:00:01\n",
      "   ---------------------------- ----------- 1.5/2.1 MB 755.0 kB/s eta 0:00:01\n",
      "   ---------------------------- ----------- 1.5/2.1 MB 752.6 kB/s eta 0:00:01\n",
      "   ----------------------------- ---------- 1.5/2.1 MB 750.4 kB/s eta 0:00:01\n",
      "   ------------------------------ --------- 1.6/2.1 MB 753.1 kB/s eta 0:00:01\n",
      "   ------------------------------ --------- 1.6/2.1 MB 751.3 kB/s eta 0:00:01\n",
      "   ------------------------------- -------- 1.7/2.1 MB 748.4 kB/s eta 0:00:01\n",
      "   -------------------------------- ------- 1.7/2.1 MB 756.3 kB/s eta 0:00:01\n",
      "   -------------------------------- ------- 1.7/2.1 MB 753.4 kB/s eta 0:00:01\n",
      "   --------------------------------- ------ 1.8/2.1 MB 756.6 kB/s eta 0:00:01\n",
      "   ---------------------------------- ----- 1.8/2.1 MB 754.5 kB/s eta 0:00:01\n",
      "   ---------------------------------- ----- 1.8/2.1 MB 752.6 kB/s eta 0:00:01\n",
      "   ----------------------------------- ---- 1.9/2.1 MB 754.8 kB/s eta 0:00:01\n",
      "   ------------------------------------ --- 1.9/2.1 MB 753.2 kB/s eta 0:00:01\n",
      "   ------------------------------------ --- 1.9/2.1 MB 755.8 kB/s eta 0:00:01\n",
      "   ------------------------------------- -- 2.0/2.1 MB 754.7 kB/s eta 0:00:01\n",
      "   ------------------------------------- -- 2.0/2.1 MB 740.8 kB/s eta 0:00:01\n",
      "   ------------------------------------- -- 2.0/2.1 MB 740.8 kB/s eta 0:00:01\n",
      "   ------------------------------------- -- 2.0/2.1 MB 740.8 kB/s eta 0:00:01\n",
      "   ------------------------------------- -- 2.0/2.1 MB 740.8 kB/s eta 0:00:01\n",
      "   ------------------------------------- -- 2.0/2.1 MB 740.8 kB/s eta 0:00:01\n",
      "   -------------------------------------- - 2.0/2.1 MB 705.1 kB/s eta 0:00:01\n",
      "   ---------------------------------------  2.1/2.1 MB 718.8 kB/s eta 0:00:01\n",
      "   ---------------------------------------  2.1/2.1 MB 707.0 kB/s eta 0:00:01\n",
      "   ---------------------------------------  2.1/2.1 MB 707.0 kB/s eta 0:00:01\n",
      "   ---------------------------------------- 2.1/2.1 MB 689.2 kB/s eta 0:00:00\n"
     ]
    },
    {
     "name": "stderr",
     "output_type": "stream",
     "text": [
      "ERROR: To modify pip, please run the following command:\n",
      "E:\\Python312\\python.exe -m pip install --upgrade pip\n",
      "\n",
      "[notice] A new release of pip is available: 23.2.1 -> 24.0\n",
      "[notice] To update, run: python.exe -m pip install --upgrade pip\n"
     ]
    }
   ],
   "source": [
    "#!pip install --upgrade pip"
   ]
  },
  {
   "cell_type": "code",
   "execution_count": null,
   "id": "a412f4d0-124a-4c75-9260-6111367b3f41",
   "metadata": {},
   "outputs": [],
   "source": []
  },
  {
   "cell_type": "code",
   "execution_count": null,
   "id": "fd9c9680-46d2-4c7e-8e02-be6e509a5180",
   "metadata": {},
   "outputs": [],
   "source": []
  },
  {
   "cell_type": "code",
   "execution_count": null,
   "id": "3e285df0-8107-479e-9fb1-357f44f47a43",
   "metadata": {},
   "outputs": [],
   "source": []
  },
  {
   "cell_type": "code",
   "execution_count": null,
   "id": "71109ad2-ce83-48da-b45f-65b7362134c9",
   "metadata": {},
   "outputs": [],
   "source": []
  },
  {
   "cell_type": "code",
   "execution_count": null,
   "id": "adabef16-a4e8-49e2-8756-f31cbe2ac775",
   "metadata": {},
   "outputs": [],
   "source": []
  },
  {
   "cell_type": "code",
   "execution_count": null,
   "id": "5930c928-0102-42a8-8498-ef03e9f5d5f7",
   "metadata": {},
   "outputs": [],
   "source": []
  },
  {
   "cell_type": "code",
   "execution_count": null,
   "id": "b1b44c90-6bf5-4dd2-b457-a37bb619772b",
   "metadata": {},
   "outputs": [],
   "source": []
  },
  {
   "cell_type": "code",
   "execution_count": null,
   "id": "6465944b-6e33-4650-b87e-8310538c1ed6",
   "metadata": {},
   "outputs": [],
   "source": []
  },
  {
   "cell_type": "code",
   "execution_count": null,
   "id": "0f6b0555-9b74-40c3-8fdb-5c8ba3d69fcf",
   "metadata": {},
   "outputs": [],
   "source": []
  },
  {
   "cell_type": "code",
   "execution_count": null,
   "id": "6d173e65-bf53-4d96-8718-aee7741b312f",
   "metadata": {},
   "outputs": [],
   "source": []
  },
  {
   "cell_type": "code",
   "execution_count": null,
   "id": "526e0231-433e-4ebb-8177-75fc29c63082",
   "metadata": {},
   "outputs": [],
   "source": []
  },
  {
   "cell_type": "code",
   "execution_count": null,
   "id": "cb5320e3-e8eb-4a6b-8820-644fa4aa60e9",
   "metadata": {},
   "outputs": [],
   "source": []
  },
  {
   "cell_type": "code",
   "execution_count": null,
   "id": "d04e55b1-130a-476d-8584-5d2fb7b5e15e",
   "metadata": {},
   "outputs": [],
   "source": []
  },
  {
   "cell_type": "code",
   "execution_count": null,
   "id": "e3091761-a5d3-42ae-8bd9-7cae0c7439f3",
   "metadata": {},
   "outputs": [],
   "source": []
  },
  {
   "cell_type": "code",
   "execution_count": null,
   "id": "1863e0a1-f05a-4326-b4ef-93056a4896a8",
   "metadata": {},
   "outputs": [],
   "source": []
  },
  {
   "cell_type": "code",
   "execution_count": null,
   "id": "9035f1cf-c67d-4886-855d-150e3d244341",
   "metadata": {},
   "outputs": [],
   "source": []
  },
  {
   "cell_type": "code",
   "execution_count": null,
   "id": "e64898c5-8abf-41d1-94e0-f617f3560e90",
   "metadata": {},
   "outputs": [],
   "source": []
  },
  {
   "cell_type": "code",
   "execution_count": null,
   "id": "953f773e-a545-466b-b1b1-20d66941fb3b",
   "metadata": {},
   "outputs": [],
   "source": []
  },
  {
   "cell_type": "code",
   "execution_count": null,
   "id": "02635685-8f5f-42fd-ae82-c3e4ab916536",
   "metadata": {},
   "outputs": [],
   "source": []
  },
  {
   "cell_type": "code",
   "execution_count": null,
   "id": "f327164d-0402-4720-b3f4-b1a89477ce89",
   "metadata": {},
   "outputs": [],
   "source": []
  }
 ],
 "metadata": {
  "kernelspec": {
   "display_name": "Python 3 (ipykernel)",
   "language": "python",
   "name": "python3"
  },
  "language_info": {
   "codemirror_mode": {
    "name": "ipython",
    "version": 3
   },
   "file_extension": ".py",
   "mimetype": "text/x-python",
   "name": "python",
   "nbconvert_exporter": "python",
   "pygments_lexer": "ipython3",
   "version": "3.12.1"
  }
 },
 "nbformat": 4,
 "nbformat_minor": 5
}
