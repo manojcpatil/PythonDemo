{
 "cells": [
  {
   "cell_type": "markdown",
   "id": "6d58ea5d",
   "metadata": {},
   "source": [
    "\n",
    "\n",
    "#### b. Sum Numbers as Strings and Return Integer\n"
   ]
  },
  {
   "cell_type": "code",
   "execution_count": null,
   "id": "1fbcab40",
   "metadata": {},
   "outputs": [],
   "source": [
    "\n",
    "import numpy as np\n",
    "\n",
    "def compute_eigen(matrix):\n",
    "    eigenvalues, eigenvectors = np.linalg.eig(matrix)\n",
    "    return eigenvalues, eigenvectors\n",
    "\n"
   ]
  },
  {
   "cell_type": "markdown",
   "id": "ec997b11",
   "metadata": {},
   "source": [
    "\n",
    "\n",
    "#### b. Sum Numbers as Strings and Return Integer\n"
   ]
  },
  {
   "cell_type": "code",
   "execution_count": null,
   "id": "bfa87f5d",
   "metadata": {},
   "outputs": [],
   "source": [
    "\n",
    "def classify_matrix(matrix):\n",
    "    eigenvalues = np.linalg.eigvals(matrix)\n",
    "    if all(eig > 0 for eig in eigenvalues):\n",
    "        return \"Positive Definite\"\n",
    "    elif all(eig >= 0 for eig in eigenvalues):\n",
    "        return \"Positive Semi-definite\"\n",
    "    elif all(eig < 0 for eig in eigenvalues):\n",
    "        return \"Negative Definite\"\n",
    "    elif all(eig <= 0 for eig in eigenvalues):\n",
    "        return \"Negative Semi-definite\"\n",
    "    else:\n",
    "        return \"Indefinite\"\n"
   ]
  },
  {
   "cell_type": "markdown",
   "id": "4925f524",
   "metadata": {},
   "source": [
    "\n",
    "\n",
    "#### b. Sum Numbers as Strings and Return Integer\n"
   ]
  },
  {
   "cell_type": "code",
   "execution_count": null,
   "id": "27790f55",
   "metadata": {},
   "outputs": [],
   "source": [
    "\n",
    "def cholesky_decomposition(matrix):\n",
    "    if np.all(np.linalg.eigvals(matrix) > 0):\n",
    "        lower_triangular = np.linalg.cholesky(matrix)\n",
    "        return lower_triangular\n",
    "    else:\n",
    "        raise ValueError(\"Matrix is not positive definite.\")\n"
   ]
  },
  {
   "cell_type": "markdown",
   "id": "c36404dc",
   "metadata": {},
   "source": [
    "\n",
    "\n",
    "#### b. Sum Numbers as Strings and Return Integer\n"
   ]
  },
  {
   "cell_type": "code",
   "execution_count": null,
   "id": "dfa146e5",
   "metadata": {},
   "outputs": [],
   "source": [
    "\n",
    "def power_iteration(matrix, max_iterations=1000, tolerance=1e-8):\n",
    "    n = matrix.shape[0]\n",
    "    x = np.ones(n) / np.sqrt(n)  # Initial guess for eigenvector\n",
    "\n",
    "    for _ in range(max_iterations):\n",
    "        x_new = np.dot(matrix, x)\n",
    "        x_new /= np.linalg.norm(x_new)\n",
    "\n",
    "        if np.linalg.norm(x_new - x) < tolerance:\n",
    "            eigenvalue = np.dot(x_new, np.dot(matrix, x_new))\n",
    "            return eigenvalue, x_new\n",
    "\n",
    "        x = x_new\n",
    "\n",
    "    raise ValueError(\"Power Iteration did not converge within the specified number of iterations.\")\n",
    "\n"
   ]
  },
  {
   "cell_type": "markdown",
   "id": "345069dd",
   "metadata": {},
   "source": [
    "\n",
    "\n",
    "#### b. Sum Numbers as Strings and Return Integer\n"
   ]
  },
  {
   "cell_type": "code",
   "execution_count": null,
   "id": "15f1d70e",
   "metadata": {},
   "outputs": [],
   "source": [
    "\n",
    "def iterative_eigensolver(matrix, num_eigenvalues, max_iterations=1000, tolerance=1e-8):\n",
    "    n = matrix.shape[0]\n",
    "    eigenvalues = []\n",
    "    eigenvectors = []\n",
    "\n",
    "    for _ in range(num_eigenvalues):\n",
    "        matrix_copy = matrix.copy()\n",
    "\n",
    "        for _ in range(max_iterations):\n",
    "            q, r = np.linalg.qr(matrix_copy)\n",
    "            matrix_copy = np.dot(r, q)\n",
    "\n",
    "        eigenvalue = matrix_copy[-1, -1]\n",
    "        eigenvector = q[:, -1]\n",
    "\n",
    "        eigenvalues.append(eigenvalue)\n",
    "        eigenvectors.append(eigenvector)\n",
    "\n",
    "        matrix_copy = matrix_copy[:-1, :-1]\n",
    "\n",
    "    return eigenvalues, eigenvectors\n"
   ]
  },
  {
   "cell_type": "code",
   "execution_count": 3,
   "id": "d500f038-4e0c-4c92-9784-9ee9fb8f5e3f",
   "metadata": {},
   "outputs": [
    {
     "name": "stdout",
     "output_type": "stream",
     "text": [
      "Combined notebook saved as 'Practical_06.ipynb'.\n"
     ]
    }
   ],
   "source": [
    "import os\n",
    "import nbformat\n",
    "\n",
    "def combine_notebooks(combined_file_name='Practical_07.ipynb'):\n",
    "    # Get a list of all .ipynb files in the current working directory\n",
    "    notebook_files = [file for file in os.listdir() if file.endswith('.ipynb')]\n",
    "\n",
    "    # Create a new combined notebook\n",
    "    combined_notebook = nbformat.v4.new_notebook()\n",
    "\n",
    "    # Iterate through each notebook file and append its content to the combined notebook\n",
    "    for notebook_file in notebook_files:\n",
    "        try:\n",
    "            # Read the content of the current notebook\n",
    "            with open(notebook_file, 'r', encoding='utf-8') as current_notebook_file:\n",
    "                current_notebook_content = nbformat.read(current_notebook_file, as_version=4)\n",
    "\n",
    "            # Append each cell from the current notebook to the combined notebook\n",
    "            for cell in current_notebook_content.cells:\n",
    "                combined_notebook.cells.append(cell)\n",
    "\n",
    "        except Exception as e:\n",
    "            print(f\"Error reading notebook '{notebook_file}': {e}\")\n",
    "\n",
    "    # Save the combined notebook\n",
    "    with open(combined_file_name, 'w', encoding='utf-8') as combined_notebook_file:\n",
    "        nbformat.write(combined_notebook, combined_notebook_file)\n",
    "\n",
    "    print(f\"Combined notebook saved as '{combined_file_name}'.\")\n",
    "\n",
    "# Example usage:\n",
    "combine_notebooks()\n"
   ]
  },
  {
   "cell_type": "code",
   "execution_count": null,
   "id": "1ec44f80-fa98-47a4-8fb9-1ba2fa296df7",
   "metadata": {},
   "outputs": [],
   "source": []
  }
 ],
 "metadata": {},
 "nbformat": 4,
 "nbformat_minor": 5
}
