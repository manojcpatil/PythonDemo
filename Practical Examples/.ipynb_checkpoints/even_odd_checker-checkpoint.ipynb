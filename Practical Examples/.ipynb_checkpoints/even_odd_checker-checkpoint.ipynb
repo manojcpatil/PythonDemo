{
 "cells": [
  {
   "cell_type": "code",
   "execution_count": null,
   "id": "da4e710e",
   "metadata": {},
   "outputs": [],
   "source": [
    "\n",
    "# Python Program for Even or Odd Checker\n",
    "user_number = int(input(\"Enter an integer: \"))\n",
    "\n",
    "if user_number % 2 == 0:\n",
    "    print(f\"{user_number} is an even number.\")\n",
    "else:\n",
    "    print(f\"{user_number} is an odd number.\")\n"
   ]
  }
 ],
 "metadata": {},
 "nbformat": 4,
 "nbformat_minor": 5
}
