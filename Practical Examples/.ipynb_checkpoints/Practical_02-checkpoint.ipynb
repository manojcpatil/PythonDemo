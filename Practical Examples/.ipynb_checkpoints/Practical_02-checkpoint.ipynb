{
 "cells": [
  {
   "cell_type": "markdown",
   "id": "b5950f6e",
   "metadata": {},
   "source": [
    "\n",
    "### 1. List Manipulation\n",
    "\n",
    "#### a. Even Numbers in a List\n"
   ]
  },
  {
   "cell_type": "code",
   "execution_count": null,
   "id": "f63d1b5d",
   "metadata": {},
   "outputs": [],
   "source": [
    "\n",
    "def filter_even_numbers(input_list):\n",
    "    return [num for num in input_list if num % 2 == 0]\n",
    "\n",
    "# Example usage:\n",
    "numbers_list = [1, 2, 3, 4, 5, 6, 7, 8, 9]\n",
    "even_numbers = filter_even_numbers(numbers_list)\n",
    "print(even_numbers)\n"
   ]
  }
 ],
 "metadata": {},
 "nbformat": 4,
 "nbformat_minor": 5
}
