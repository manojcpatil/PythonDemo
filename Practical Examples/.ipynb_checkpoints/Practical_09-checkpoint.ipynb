{
 "cells": [
  {
   "cell_type": "markdown",
   "id": "62688f0b-5ed8-4a28-bd68-9697d3341032",
   "metadata": {},
   "source": [
    "#### 1.Consider the quadratic equation: $f(x)=3x^2−12x+12$\n",
    " \n",
    " (a) Find the numerical roots of the equation using NumPy’s np.roots function.\n",
    " \n",
    " (b) Determine if the equation has real roots, complex roots, or repeated roots based on the dis\n",
    "criminant.\n",
    "\n",
    " (c) Find the symbolic roots of the equation using SymPy’s sp.solve function.\n",
    " \n",
    " (d) Verify the numerical roots by substituting each root back into the original equation and\n",
    " checking if the result is close to zero"
   ]
  },
  {
   "cell_type": "code",
   "execution_count": 19,
   "id": "3c4ed8fe-0e35-49de-a00b-c8a79369a61b",
   "metadata": {},
   "outputs": [
    {
     "name": "stdout",
     "output_type": "stream",
     "text": [
      "Numerical Roots: [2. 2.]\n",
      "Root Type: Repeated roots\n",
      "Symbolic Roots: [2]\n",
      "Verification Result: True\n"
     ]
    }
   ],
   "source": [
    "import numpy as np\n",
    "import sympy as sp\n",
    "import scipy as sc\n",
    "# Given quadratic equation\n",
    "x = sp.symbols('x')\n",
    "quadratic_eq = 3*x**2 - 12*x + 12\n",
    "\n",
    "# Numerical roots using NumPy\n",
    "numerical_roots = np.roots([3, -12, 12])\n",
    "\n",
    "# Discriminant to determine real, complex, or repeated roots\n",
    "discriminant = sp.discriminant(quadratic_eq, x).evalf()\n",
    "if discriminant > 0:\n",
    "    root_type = \"Real roots\"\n",
    "elif discriminant == 0:\n",
    "    root_type = \"Repeated roots\"\n",
    "else:\n",
    "    root_type = \"Complex roots\"\n",
    "\n",
    "# Symbolic roots using SymPy\n",
    "symbolic_roots = sp.solve(quadratic_eq, x)\n",
    "\n",
    "# Verification\n",
    "verification_result = all(quadratic_eq.subs(x, root).evalf() == 0 for root in numerical_roots)\n",
    "\n",
    "print(\"Numerical Roots:\", numerical_roots)\n",
    "print(\"Root Type:\", root_type)\n",
    "print(\"Symbolic Roots:\", symbolic_roots)\n",
    "print(\"Verification Result:\", verification_result)"
   ]
  },
  {
   "cell_type": "markdown",
   "id": "3d409a8c-96d7-47db-973b-7a52b338b1cb",
   "metadata": {},
   "source": [
    "#### 2.Given the trigonometric equation:  $g(x)=cos(x)−sin(x)$\n",
    "\n",
    " (a) Find the numerical roots of the equation using NumPy’s np.roots function.\n",
    " \n",
    " (b) Determine the periodicity or symmetry properties of the trigonometric equation.\n",
    " \n",
    " (c) Find the symbolic roots of the equation using SymPy’s sp.solve function.\n",
    " \n",
    " (d) Verify the numerical roots by substituting each root back into the original equation and checking if the result is close to zero."
   ]
  },
  {
   "cell_type": "code",
   "execution_count": 3,
   "id": "6c5c7529-8392-4edc-a04c-2c2a328784f2",
   "metadata": {},
   "outputs": [
    {
     "name": "stdout",
     "output_type": "stream",
     "text": [
      "Numerical Roots: [1.]\n",
      "Periodicity/Symmetry: Periodic with a period of 2*pi\n",
      "Symbolic Roots: [pi/4]\n",
      "Verification Result: False\n"
     ]
    }
   ],
   "source": [
    "# Given trigonometric equation\n",
    "trig_eq = sp.cos(x) - sp.sin(x)\n",
    "\n",
    "# Numerical roots using NumPy\n",
    "numerical_roots_trig = np.roots([1, -1])\n",
    "\n",
    "# Periodicity or symmetry properties\n",
    "periodicity_symmetry = \"Periodic with a period of 2*pi\"\n",
    "\n",
    "# Symbolic roots using SymPy\n",
    "symbolic_roots_trig = sp.solve(trig_eq, x)\n",
    "\n",
    "# Verification\n",
    "verification_result_trig = all(trig_eq.subs(x, root).evalf() == 0 for root in numerical_roots_trig)\n",
    "\n",
    "print(\"Numerical Roots:\", numerical_roots_trig)\n",
    "print(\"Periodicity/Symmetry:\", periodicity_symmetry)\n",
    "print(\"Symbolic Roots:\", symbolic_roots_trig)\n",
    "print(\"Verification Result:\", verification_result_trig)"
   ]
  },
  {
   "cell_type": "markdown",
   "id": "25b06c81-b1f8-459d-bc12-79949a0f4421",
   "metadata": {},
   "source": [
    "#### 3.Consider the cubic equation:    $h(x)=x^3−6x^2+11x−6$\n",
    "\n",
    " (a) Find the numerical roots of the equation using NumPy’s np.roots function.\n",
    " \n",
    " (b) Determine the multiplicity of each root.\n",
    " \n",
    " (c) Find the symbolic roots of the equation using SymPy’s sp.solve function.\n",
    " \n",
    " (d) Verify the numerical roots by substituting each root back into the original equation and\n",
    " checking if the result is close to zero"
   ]
  },
  {
   "cell_type": "code",
   "execution_count": 4,
   "id": "c3fbb178-6567-4608-bbac-673d4a1230f8",
   "metadata": {},
   "outputs": [
    {
     "name": "stdout",
     "output_type": "stream",
     "text": [
      "Numerical Roots: [3. 2. 1.]\n",
      "Multiplicity: [1, 1, 1]\n",
      "Symbolic Roots: [1, 2, 3]\n",
      "Verification Result: False\n"
     ]
    }
   ],
   "source": [
    "# Given cubic equation\n",
    "cubic_eq = x**3 - 6*x**2 + 11*x - 6\n",
    "\n",
    "# Numerical roots using NumPy\n",
    "numerical_roots_cubic = np.roots([1, -6, 11, -6])\n",
    "\n",
    "# Multiplicity of roots\n",
    "multiplicity = [numerical_roots_cubic.tolist().count(root) for root in numerical_roots_cubic]\n",
    "\n",
    "# Symbolic roots using SymPy\n",
    "symbolic_roots_cubic = sp.solve(cubic_eq, x)\n",
    "\n",
    "# Verification\n",
    "verification_result_cubic = all(cubic_eq.subs(x, root).evalf() == 0 for root in numerical_roots_cubic)\n",
    "\n",
    "print(\"Numerical Roots:\", numerical_roots_cubic)\n",
    "print(\"Multiplicity:\", multiplicity)\n",
    "print(\"Symbolic Roots:\", symbolic_roots_cubic)\n",
    "print(\"Verification Result:\", verification_result_cubic)"
   ]
  },
  {
   "cell_type": "markdown",
   "id": "587c1af7-8235-4d74-9cfc-834d0487623d",
   "metadata": {},
   "source": [
    "#### 4. Given the equation: $k(x)=e^{2x} −3e^x +2$\n",
    " (a) Find the numerical roots of the equation using NumPy’s np.roots function.\n",
    " \n",
    " (b) Determine the behavior of the function for large positive and negative values of x.\n",
    " \n",
    " (c) Find the symbolic roots of the equation using SymPy’s sp.solve function.\n",
    " \n",
    " (d) Verify the numerical roots by substituting each root back into the original equation and\n",
    " checking if the result is close to zero"
   ]
  },
  {
   "cell_type": "code",
   "execution_count": 5,
   "id": "b092c12a-a5c1-4a06-81d2-ca861daae824",
   "metadata": {},
   "outputs": [
    {
     "name": "stdout",
     "output_type": "stream",
     "text": [
      "Numerical Roots: [2. 1.]\n",
      "Behavior for Large x: As x approaches positive infinity, k(x) approaches infinity.\n",
      "As x approaches negative infinity, k(x) approaches -infinity.\n",
      "Symbolic Roots: [0, log(2)]\n",
      "Verification Result: False\n"
     ]
    }
   ],
   "source": [
    "# Given exponential equation\n",
    "exp_eq = sp.exp(2*x) - 3*sp.exp(x) + 2\n",
    "\n",
    "# Numerical roots using NumPy\n",
    "numerical_roots_exp = np.roots([1, -3, 2])\n",
    "\n",
    "# Behavior for large positive and negative values of x\n",
    "behavior_large_x = \"As x approaches positive infinity, k(x) approaches infinity.\\nAs x approaches negative infinity, k(x) approaches -infinity.\"\n",
    "\n",
    "# Symbolic roots using SymPy\n",
    "symbolic_roots_exp = sp.solve(exp_eq, x)\n",
    "\n",
    "# Verification\n",
    "verification_result_exp = all(exp_eq.subs(x, root).evalf() == 0 for root in numerical_roots_exp)\n",
    "\n",
    "print(\"Numerical Roots:\", numerical_roots_exp)\n",
    "print(\"Behavior for Large x:\", behavior_large_x)\n",
    "print(\"Symbolic Roots:\", symbolic_roots_exp)\n",
    "print(\"Verification Result:\", verification_result_exp)"
   ]
  },
  {
   "cell_type": "markdown",
   "id": "0809005a-fe5c-44a4-9a31-0a7e9134357c",
   "metadata": {},
   "source": [
    "####  5. Consider the following system of nonlinear equations:\n",
    "  $2x^2+y =4$\n",
    "  \n",
    " $x+y^2=3$\n",
    " \n",
    " (a) FormulatethesystemasavectorizedfunctionandfindthenumericalsolutionusingNumPy.\n",
    " \n",
    " (b) Determine if the system has a uniquesolution.\n",
    " \n",
    " (c) Find the symbolic solution using SymPy.\n",
    " \n",
    " (d) Verify the numerical solution by substituting it back into the original system of equations."
   ]
  },
  {
   "cell_type": "code",
   "execution_count": 10,
   "id": "5dc07286-1228-4673-9f7a-91f67f046a83",
   "metadata": {},
   "outputs": [
    {
     "ename": "AttributeError",
     "evalue": "'function' object has no attribute 'free_symbols'",
     "output_type": "error",
     "traceback": [
      "\u001b[1;31m---------------------------------------------------------------------------\u001b[0m",
      "\u001b[1;31mAttributeError\u001b[0m                            Traceback (most recent call last)",
      "Cell \u001b[1;32mIn[10], line 9\u001b[0m\n\u001b[0;32m      6\u001b[0m     \u001b[38;5;28;01mreturn\u001b[39;00m [eq1, eq2]\n\u001b[0;32m      8\u001b[0m \u001b[38;5;66;03m# Numerical solution using NumPy\u001b[39;00m\n\u001b[1;32m----> 9\u001b[0m numerical_solution_nonlinear \u001b[38;5;241m=\u001b[39m \u001b[43msp\u001b[49m\u001b[38;5;241;43m.\u001b[39;49m\u001b[43mnsolve\u001b[49m\u001b[43m(\u001b[49m\u001b[43mnonlinear_system\u001b[49m\u001b[43m,\u001b[49m\u001b[43m \u001b[49m\u001b[43m[\u001b[49m\u001b[38;5;241;43m1\u001b[39;49m\u001b[43m,\u001b[49m\u001b[43m \u001b[49m\u001b[38;5;241;43m1\u001b[39;49m\u001b[43m]\u001b[49m\u001b[43m)\u001b[49m\n\u001b[0;32m     11\u001b[0m \u001b[38;5;66;03m# Unique solution determination\u001b[39;00m\n\u001b[0;32m     12\u001b[0m unique_solution \u001b[38;5;241m=\u001b[39m \u001b[38;5;28;01mTrue\u001b[39;00m  \u001b[38;5;66;03m# Assuming a unique solution for this example\u001b[39;00m\n",
      "File \u001b[1;32mC:\\python123\\Lib\\site-packages\\sympy\\utilities\\decorator.py:87\u001b[0m, in \u001b[0;36mconserve_mpmath_dps.<locals>.func_wrapper\u001b[1;34m(*args, **kwargs)\u001b[0m\n\u001b[0;32m     85\u001b[0m dps \u001b[38;5;241m=\u001b[39m mpmath\u001b[38;5;241m.\u001b[39mmp\u001b[38;5;241m.\u001b[39mdps\n\u001b[0;32m     86\u001b[0m \u001b[38;5;28;01mtry\u001b[39;00m:\n\u001b[1;32m---> 87\u001b[0m     \u001b[38;5;28;01mreturn\u001b[39;00m \u001b[43mfunc\u001b[49m\u001b[43m(\u001b[49m\u001b[38;5;241;43m*\u001b[39;49m\u001b[43margs\u001b[49m\u001b[43m,\u001b[49m\u001b[43m \u001b[49m\u001b[38;5;241;43m*\u001b[39;49m\u001b[38;5;241;43m*\u001b[39;49m\u001b[43mkwargs\u001b[49m\u001b[43m)\u001b[49m\n\u001b[0;32m     88\u001b[0m \u001b[38;5;28;01mfinally\u001b[39;00m:\n\u001b[0;32m     89\u001b[0m     mpmath\u001b[38;5;241m.\u001b[39mmp\u001b[38;5;241m.\u001b[39mdps \u001b[38;5;241m=\u001b[39m dps\n",
      "File \u001b[1;32mC:\\python123\\Lib\\site-packages\\sympy\\solvers\\solvers.py:3031\u001b[0m, in \u001b[0;36mnsolve\u001b[1;34m(dict, *args, **kwargs)\u001b[0m\n\u001b[0;32m   3029\u001b[0m \u001b[38;5;28;01mif\u001b[39;00m \u001b[38;5;28misinstance\u001b[39m(f, Eq):\n\u001b[0;32m   3030\u001b[0m     f \u001b[38;5;241m=\u001b[39m f\u001b[38;5;241m.\u001b[39mlhs \u001b[38;5;241m-\u001b[39m f\u001b[38;5;241m.\u001b[39mrhs\n\u001b[1;32m-> 3031\u001b[0m syms \u001b[38;5;241m=\u001b[39m \u001b[43mf\u001b[49m\u001b[38;5;241;43m.\u001b[39;49m\u001b[43mfree_symbols\u001b[49m\n\u001b[0;32m   3032\u001b[0m \u001b[38;5;28;01mif\u001b[39;00m fargs \u001b[38;5;129;01mis\u001b[39;00m \u001b[38;5;28;01mNone\u001b[39;00m:\n\u001b[0;32m   3033\u001b[0m     fargs \u001b[38;5;241m=\u001b[39m syms\u001b[38;5;241m.\u001b[39mcopy()\u001b[38;5;241m.\u001b[39mpop()\n",
      "\u001b[1;31mAttributeError\u001b[0m: 'function' object has no attribute 'free_symbols'"
     ]
    }
   ],
   "source": [
    "# Given system of nonlinear equations\n",
    "def nonlinear_system(vars):\n",
    "    x, y = vars\n",
    "    eq1 = 2*x**2 + y - 4\n",
    "    eq2 = x + y**2 - 3\n",
    "    return [eq1, eq2]\n",
    "\n",
    "# Numerical solution using NumPy\n",
    "numerical_solution_nonlinear = sp.nsolve(nonlinear_system, [1, 1])\n",
    "\n",
    "# Unique solution determination\n",
    "unique_solution = True  # Assuming a unique solution for this example\n",
    "\n",
    "# Symbolic solution using SymPy\n",
    "symbolic_solution_nonlinear = sp.solve([eq1, eq2], [x, y])\n",
    "\n",
    "# Verification\n",
    "verification_result_nonlinear = all(eq.subs({x: numerical_solution_nonlinear[0], y: numerical_solution_nonlinear[1]}).evalf() == 0 for eq in [eq1, eq2])\n",
    "\n",
    "print(\"Numerical Solution:\", numerical_solution_nonlinear)\n",
    "print(\"Unique Solution:\", unique_solution)\n",
    "print(\"Symbolic Solution:\", symbolic_solution_nonlinear)\n",
    "print(\"Verification Result:\", verification_result_nonlinear)"
   ]
  },
  {
   "cell_type": "code",
   "execution_count": 7,
   "id": "87d05ea2-eb4b-4751-898c-ac618cc8a994",
   "metadata": {},
   "outputs": [
    {
     "name": "stdout",
     "output_type": "stream",
     "text": [
      "Numerical Solution: Matrix([[1.14878320872190], [1.36059427871725]])\n",
      "Unique Solution: True\n",
      "Symbolic Solution: [(-1, 2), (3 - (-2/3 + (-1/2 - sqrt(3)*I/2)*(85/108 + 5*sqrt(39)*I/36)**(1/3) + 10/(9*(-1/2 - sqrt(3)*I/2)*(85/108 + 5*sqrt(39)*I/36)**(1/3)))**2, -2/3 + (-1/2 - sqrt(3)*I/2)*(85/108 + 5*sqrt(39)*I/36)**(1/3) + 10/(9*(-1/2 - sqrt(3)*I/2)*(85/108 + 5*sqrt(39)*I/36)**(1/3))), (3 - (-2/3 + 10/(9*(-1/2 + sqrt(3)*I/2)*(85/108 + 5*sqrt(39)*I/36)**(1/3)) + (-1/2 + sqrt(3)*I/2)*(85/108 + 5*sqrt(39)*I/36)**(1/3))**2, -2/3 + 10/(9*(-1/2 + sqrt(3)*I/2)*(85/108 + 5*sqrt(39)*I/36)**(1/3)) + (-1/2 + sqrt(3)*I/2)*(85/108 + 5*sqrt(39)*I/36)**(1/3)), (3 - (-2/3 + 10/(9*(85/108 + 5*sqrt(39)*I/36)**(1/3)) + (85/108 + 5*sqrt(39)*I/36)**(1/3))**2, -2/3 + 10/(9*(85/108 + 5*sqrt(39)*I/36)**(1/3)) + (85/108 + 5*sqrt(39)*I/36)**(1/3))]\n",
      "Verification Result: False\n"
     ]
    }
   ],
   "source": [
    "import sympy as sp\n",
    "\n",
    "# Define symbols\n",
    "x, y = sp.symbols('x y')\n",
    "\n",
    "# Given system of nonlinear equations\n",
    "eq1 = 2*x**2 + y - 4\n",
    "eq2 = x + y**2 - 3\n",
    "\n",
    "# Numerical solution using SymPy nsolve\n",
    "numerical_solution_nonlinear = sp.nsolve((eq1, eq2), (x, y), (1, 1))\n",
    "\n",
    "# Unique solution determination (manually setting to True for this example)\n",
    "unique_solution = True\n",
    "\n",
    "# Symbolic solution using SymPy\n",
    "symbolic_solution_nonlinear = sp.solve([eq1, eq2], (x, y))\n",
    "\n",
    "# Verification\n",
    "verification_result_nonlinear = all(\n",
    "    sp.Eq(eq.subs({x: numerical_solution_nonlinear[0], y: numerical_solution_nonlinear[1]}).evalf(), 0)\n",
    "    for eq in [eq1, eq2]\n",
    ")\n",
    "\n",
    "print(\"Numerical Solution:\", numerical_solution_nonlinear)\n",
    "print(\"Unique Solution:\", unique_solution)\n",
    "print(\"Symbolic Solution:\", symbolic_solution_nonlinear)\n",
    "print(\"Verification Result:\", verification_result_nonlinear)\n"
   ]
  },
  {
   "cell_type": "markdown",
   "id": "24dc76b9-242a-4a56-a90a-2daab2a90495",
   "metadata": {},
   "source": [
    "####  6. Giventhepolynomial equation:  $p(x)=5x^4−6x^3−4x^2+2x−3$\n",
    " (a) Find the numerical roots of the equation using NumPy’s np.roots function.\n",
    " \n",
    " (b) Identify any complex roots and express them in the form a+bi.\n",
    " \n",
    " (c) Find the symbolic roots of the equation using SymPy’s sp.solve function.\n",
    " \n",
    " (d) Verify the numerical roots by substituting each root back into the original equation and\n",
    " checking if the result is close to zero."
   ]
  },
  {
   "cell_type": "code",
   "execution_count": 11,
   "id": "d722f793-5122-413a-ad3f-8f92f6cd9707",
   "metadata": {},
   "outputs": [
    {
     "name": "stdout",
     "output_type": "stream",
     "text": [
      "Numerical Roots: [ 1.66587579+0.j         -0.91866847+0.j          0.22639634+0.58378271j\n",
      "  0.22639634-0.58378271j]\n",
      "Complex Roots: ['0.22639633746694438 + 0.5837827088137445i', '0.22639633746694438 + -0.5837827088137445i']\n",
      "Symbolic Roots: [-sqrt(-64/(225*(-907/6750 + sqrt(105969)/2250)**(1/3)) + 2*(-907/6750 + sqrt(105969)/2250)**(1/3) + 67/75)/2 + 3/10 - sqrt(-74/(125*sqrt(-64/(225*(-907/6750 + sqrt(105969)/2250)**(1/3)) + 2*(-907/6750 + sqrt(105969)/2250)**(1/3) + 67/75)) - 2*(-907/6750 + sqrt(105969)/2250)**(1/3) + 64/(225*(-907/6750 + sqrt(105969)/2250)**(1/3)) + 134/75)/2, -sqrt(-64/(225*(-907/6750 + sqrt(105969)/2250)**(1/3)) + 2*(-907/6750 + sqrt(105969)/2250)**(1/3) + 67/75)/2 + 3/10 + sqrt(-74/(125*sqrt(-64/(225*(-907/6750 + sqrt(105969)/2250)**(1/3)) + 2*(-907/6750 + sqrt(105969)/2250)**(1/3) + 67/75)) - 2*(-907/6750 + sqrt(105969)/2250)**(1/3) + 64/(225*(-907/6750 + sqrt(105969)/2250)**(1/3)) + 134/75)/2, sqrt(-64/(225*(-907/6750 + sqrt(105969)/2250)**(1/3)) + 2*(-907/6750 + sqrt(105969)/2250)**(1/3) + 67/75)/2 + 3/10 + sqrt(-2*(-907/6750 + sqrt(105969)/2250)**(1/3) + 64/(225*(-907/6750 + sqrt(105969)/2250)**(1/3)) + 134/75 + 74/(125*sqrt(-64/(225*(-907/6750 + sqrt(105969)/2250)**(1/3)) + 2*(-907/6750 + sqrt(105969)/2250)**(1/3) + 67/75)))/2, -sqrt(-2*(-907/6750 + sqrt(105969)/2250)**(1/3) + 64/(225*(-907/6750 + sqrt(105969)/2250)**(1/3)) + 134/75 + 74/(125*sqrt(-64/(225*(-907/6750 + sqrt(105969)/2250)**(1/3)) + 2*(-907/6750 + sqrt(105969)/2250)**(1/3) + 67/75)))/2 + sqrt(-64/(225*(-907/6750 + sqrt(105969)/2250)**(1/3)) + 2*(-907/6750 + sqrt(105969)/2250)**(1/3) + 67/75)/2 + 3/10]\n",
      "Verification Result: False\n"
     ]
    }
   ],
   "source": [
    "# Given polynomial equation\n",
    "poly_eq = 5*x**4 - 6*x**3 - 4*x**2 + 2*x - 3\n",
    "\n",
    "# Numerical roots using NumPy\n",
    "numerical_roots_poly = np.roots([5, -6, -4, 2, -3])\n",
    "\n",
    "# Complex roots in a+bi form\n",
    "complex_roots_poly = [f\"{root.real} + {root.imag}i\" for root in numerical_roots_poly if np.iscomplex(root)]\n",
    "\n",
    "# Symbolic roots using SymPy\n",
    "symbolic_roots_poly = sp.solve(poly_eq, x)\n",
    "\n",
    "# Verification\n",
    "verification_result_poly = all(poly_eq.subs(x, root).evalf() == 0 for root in numerical_roots_poly)\n",
    "\n",
    "print(\"Numerical Roots:\", numerical_roots_poly)\n",
    "print(\"Complex Roots:\", complex_roots_poly)\n",
    "print(\"Symbolic Roots:\", symbolic_roots_poly)\n",
    "print(\"Verification Result:\", verification_result_poly)"
   ]
  },
  {
   "cell_type": "markdown",
   "id": "584b332a-faf4-49b9-b805-a2c7495d5f27",
   "metadata": {},
   "source": [
    "####  7. Consider the trigonometric equation:  $q(x)=sin(2x)+cos(x)$\n",
    "\n",
    " (a) Find the numerical roots of the equation using NumPy’s np.roots function.\n",
    " \n",
    " (b) Determine the periodicity or symmetry properties of the trigonometric equation.\n",
    " \n",
    " (c) Find the symbolic roots of the equation using SymPy’s sp.solve function.\n",
    "\n",
    "  (d) Verify the numerical roots by substituting each root back into the original equation and\n",
    " checking if the result is close to zero."
   ]
  },
  {
   "cell_type": "code",
   "execution_count": 12,
   "id": "fcfa07bf-0512-41b8-943b-ac257f7cad0b",
   "metadata": {},
   "outputs": [
    {
     "name": "stdout",
     "output_type": "stream",
     "text": [
      "Numerical Roots: [1. 0.]\n",
      "Periodicity/Symmetry: Periodic with a period of pi\n",
      "Symbolic Roots: [-5*pi/6, -pi/2, -pi/6, pi/2]\n",
      "Verification Result: False\n"
     ]
    }
   ],
   "source": [
    "# Given trigonometric equation\n",
    "trig_eq2 = sp.sin(2*x) + sp.cos(x)\n",
    "\n",
    "# Numerical roots using NumPy\n",
    "numerical_roots_trig2 = np.roots([-1, 1, 0])\n",
    "\n",
    "# Periodicity or symmetry properties\n",
    "periodicity_symmetry_trig2 = \"Periodic with a period of pi\"\n",
    "\n",
    "# Symbolic roots using SymPy\n",
    "symbolic_roots_trig2 = sp.solve(trig_eq2, x)\n",
    "\n",
    "# Verification\n",
    "verification_result_trig2 = all(trig_eq2.subs(x, root).evalf() == 0 for root in numerical_roots_trig2)\n",
    "\n",
    "print(\"Numerical Roots:\", numerical_roots_trig2)\n",
    "print(\"Periodicity/Symmetry:\", periodicity_symmetry_trig2)\n",
    "print(\"Symbolic Roots:\", symbolic_roots_trig2)\n",
    "print(\"Verification Result:\", verification_result_trig2)"
   ]
  },
  {
   "cell_type": "markdown",
   "id": "accdd91a-3f49-4ad5-949e-04f624678a2b",
   "metadata": {},
   "source": [
    "####  8. Giventheequation:  $r(x) = x−log(x)$\n",
    " \n",
    " (a) Find the numerical roots of the equation using NumPy’s np.roots function.\n",
    " \n",
    " (b) Determine the domainofthefunction.\n",
    " \n",
    " (c) Find the symbolic roots of the equation using SymPy’s sp.solve function.\n",
    " \n",
    " (d) Verify the numerical roots by substituting each root back into the original equation and checking if the result is close to zero"
   ]
  },
  {
   "cell_type": "code",
   "execution_count": 13,
   "id": "83e19c08-d5a0-4062-870f-330ba184ef2e",
   "metadata": {},
   "outputs": [
    {
     "name": "stdout",
     "output_type": "stream",
     "text": [
      "Numerical Roots: [ 1. -1.]\n",
      "Domain of the Function: x > 0\n",
      "Symbolic Roots: [exp(-2*LambertW(-1/2))]\n",
      "Verification Result: False\n"
     ]
    }
   ],
   "source": [
    "# Given equation with square root and logarithm\n",
    "sqrt_log_eq = sp.sqrt(x) - sp.log(x)\n",
    "\n",
    "# Numerical roots using NumPy\n",
    "numerical_roots_sqrt_log = np.roots([-1, 0, 1])\n",
    "\n",
    "# Domain of the function\n",
    "domain_sqrt_log = \"x > 0\"  # Assuming the square root and logarithm are defined for positive x\n",
    "\n",
    "# Symbolic roots using SymPy\n",
    "symbolic_roots_sqrt_log = sp.solve(sqrt_log_eq, x)\n",
    "\n",
    "# Verification\n",
    "verification_result_sqrt_log = all(sqrt_log_eq.subs(x, root).evalf() == 0 for root in numerical_roots_sqrt_log)\n",
    "\n",
    "print(\"Numerical Roots:\", numerical_roots_sqrt_log)\n",
    "print(\"Domain of the Function:\", domain_sqrt_log)\n",
    "print(\"Symbolic Roots:\", symbolic_roots_sqrt_log)\n",
    "print(\"Verification Result:\", verification_result_sqrt_log)"
   ]
  },
  {
   "cell_type": "markdown",
   "id": "efbbc287-0455-443a-b040-162a2df9d9c4",
   "metadata": {},
   "source": [
    "#### 9. Consider the system of equations:\n",
    " $3x−y =5$\n",
    " \n",
    " $x^2+y^2=10$\n",
    " \n",
    " (a) FormulatethesystemasavectorizedfunctionandfindthenumericalsolutionusingNumPy.\n",
    " \n",
    " (b) Determine if the system has a uniquesolution.\n",
    " \n",
    " (c) Find the symbolic solution using SymPy.\n",
    " \n",
    " (d) Verify the numerical solution by substituting it back into the original system of equations"
   ]
  },
  {
   "cell_type": "code",
   "execution_count": 18,
   "id": "fea19e98-e675-491d-b6cc-f755e68494b9",
   "metadata": {},
   "outputs": [
    {
     "name": "stdout",
     "output_type": "stream",
     "text": [
      "Numerical Solution: [2.3660254  2.09807621]\n",
      "Unique Solution: True\n",
      "Symbolic Solution: [(-1, 2), (3 - (-2/3 + (-1/2 - sqrt(3)*I/2)*(85/108 + 5*sqrt(39)*I/36)**(1/3) + 10/(9*(-1/2 - sqrt(3)*I/2)*(85/108 + 5*sqrt(39)*I/36)**(1/3)))**2, -2/3 + (-1/2 - sqrt(3)*I/2)*(85/108 + 5*sqrt(39)*I/36)**(1/3) + 10/(9*(-1/2 - sqrt(3)*I/2)*(85/108 + 5*sqrt(39)*I/36)**(1/3))), (3 - (-2/3 + 10/(9*(-1/2 + sqrt(3)*I/2)*(85/108 + 5*sqrt(39)*I/36)**(1/3)) + (-1/2 + sqrt(3)*I/2)*(85/108 + 5*sqrt(39)*I/36)**(1/3))**2, -2/3 + 10/(9*(-1/2 + sqrt(3)*I/2)*(85/108 + 5*sqrt(39)*I/36)**(1/3)) + (-1/2 + sqrt(3)*I/2)*(85/108 + 5*sqrt(39)*I/36)**(1/3)), (3 - (-2/3 + 10/(9*(85/108 + 5*sqrt(39)*I/36)**(1/3)) + (85/108 + 5*sqrt(39)*I/36)**(1/3))**2, -2/3 + 10/(9*(85/108 + 5*sqrt(39)*I/36)**(1/3)) + (85/108 + 5*sqrt(39)*I/36)**(1/3))]\n",
      "Verification Result: False\n"
     ]
    }
   ],
   "source": [
    "from scipy.optimize import fsolve\n",
    "# Given system of equations\n",
    "def system_equations(vars):\n",
    "    x, y = vars\n",
    "    eq1 = 3*x - y - 5\n",
    "    eq2 = x**2 + y**2 - 10\n",
    "    return [eq1, eq2]\n",
    "\n",
    "# Numerical solution using NumPy\n",
    "numerical_solution_system = fsolve(system_equations, [1, 1])\n",
    "\n",
    "# Unique solution determination\n",
    "unique_solution_system = True  # Assuming a unique solution for this example\n",
    "\n",
    "# Symbolic solution using SymPy\n",
    "symbolic_solution_system = sp.solve([eq1, eq2], [x, y])\n",
    "\n",
    "# Verification\n",
    "verification_result_system = all(eq.subs({x: numerical_solution_system[0], y: numerical_solution_system[1]}).evalf() == 0 for eq in [eq1, eq2])\n",
    "\n",
    "print(\"Numerical Solution:\", numerical_solution_system)\n",
    "print(\"Unique Solution:\", unique_solution_system)\n",
    "print(\"Symbolic Solution:\", symbolic_solution_system)\n",
    "print(\"Verification Result:\", verification_result_system)"
   ]
  },
  {
   "cell_type": "markdown",
   "id": "d3fe241f-e0e8-47d3-9339-81037b797ae0",
   "metadata": {},
   "source": [
    "####   10. Given the equation:      $s(x) =tan(x)−2x$\n",
    " \n",
    " (a) Find the numerical roots of the equation using NumPy’s np.roots function.\n",
    " \n",
    " (b) Determine the periodicity or symmetry properties of the trigonometric equation.\n",
    " \n",
    " (c) Find the symbolic roots of the equation using SymPy’s sp.solve function.\n",
    " \n",
    " (d) Verify the numerical roots by substituting each root back into the original equation and\n",
    " checking if the result is close to zero."
   ]
  },
  {
   "cell_type": "code",
   "execution_count": 21,
   "id": "6d978733-7f86-403e-9265-026b563d40f9",
   "metadata": {},
   "outputs": [
    {
     "ename": "TypeError",
     "evalue": "cannot create mpf from x",
     "output_type": "error",
     "traceback": [
      "\u001b[1;31m---------------------------------------------------------------------------\u001b[0m",
      "\u001b[1;31mTypeError\u001b[0m                                 Traceback (most recent call last)",
      "Cell \u001b[1;32mIn[21], line 11\u001b[0m\n\u001b[0;32m      8\u001b[0m periodicity_symmetry_trig3 \u001b[38;5;241m=\u001b[39m \u001b[38;5;124m\"\u001b[39m\u001b[38;5;124mPeriodic with a period of pi\u001b[39m\u001b[38;5;124m\"\u001b[39m\n\u001b[0;32m     10\u001b[0m \u001b[38;5;66;03m# Symbolic roots using SymPy\u001b[39;00m\n\u001b[1;32m---> 11\u001b[0m symbolic_roots_trig3 \u001b[38;5;241m=\u001b[39m \u001b[43msp\u001b[49m\u001b[38;5;241;43m.\u001b[39;49m\u001b[43mnsolve\u001b[49m\u001b[43m(\u001b[49m\u001b[43mtrig_eq3\u001b[49m\u001b[43m,\u001b[49m\u001b[43m \u001b[49m\u001b[43mx\u001b[49m\u001b[43m)\u001b[49m\n\u001b[0;32m     13\u001b[0m \u001b[38;5;66;03m# Verification\u001b[39;00m\n\u001b[0;32m     14\u001b[0m verification_result_trig3 \u001b[38;5;241m=\u001b[39m \u001b[38;5;28mall\u001b[39m(trig_eq3\u001b[38;5;241m.\u001b[39msubs(x, root)\u001b[38;5;241m.\u001b[39mevalf() \u001b[38;5;241m==\u001b[39m \u001b[38;5;241m0\u001b[39m \u001b[38;5;28;01mfor\u001b[39;00m root \u001b[38;5;129;01min\u001b[39;00m numerical_roots_trig3)\n",
      "File \u001b[1;32mC:\\python123\\Lib\\site-packages\\sympy\\utilities\\decorator.py:87\u001b[0m, in \u001b[0;36mconserve_mpmath_dps.<locals>.func_wrapper\u001b[1;34m(*args, **kwargs)\u001b[0m\n\u001b[0;32m     85\u001b[0m dps \u001b[38;5;241m=\u001b[39m mpmath\u001b[38;5;241m.\u001b[39mmp\u001b[38;5;241m.\u001b[39mdps\n\u001b[0;32m     86\u001b[0m \u001b[38;5;28;01mtry\u001b[39;00m:\n\u001b[1;32m---> 87\u001b[0m     \u001b[38;5;28;01mreturn\u001b[39;00m \u001b[43mfunc\u001b[49m\u001b[43m(\u001b[49m\u001b[38;5;241;43m*\u001b[39;49m\u001b[43margs\u001b[49m\u001b[43m,\u001b[49m\u001b[43m \u001b[49m\u001b[38;5;241;43m*\u001b[39;49m\u001b[38;5;241;43m*\u001b[39;49m\u001b[43mkwargs\u001b[49m\u001b[43m)\u001b[49m\n\u001b[0;32m     88\u001b[0m \u001b[38;5;28;01mfinally\u001b[39;00m:\n\u001b[0;32m     89\u001b[0m     mpmath\u001b[38;5;241m.\u001b[39mmp\u001b[38;5;241m.\u001b[39mdps \u001b[38;5;241m=\u001b[39m dps\n",
      "File \u001b[1;32mC:\\python123\\Lib\\site-packages\\sympy\\solvers\\solvers.py:3044\u001b[0m, in \u001b[0;36mnsolve\u001b[1;34m(dict, *args, **kwargs)\u001b[0m\n\u001b[0;32m   3038\u001b[0m \u001b[38;5;66;03m# the function is much better behaved if there is no denominator\u001b[39;00m\n\u001b[0;32m   3039\u001b[0m \u001b[38;5;66;03m# but sending the numerator is left to the user since sometimes\u001b[39;00m\n\u001b[0;32m   3040\u001b[0m \u001b[38;5;66;03m# the function is better behaved when the denominator is present\u001b[39;00m\n\u001b[0;32m   3041\u001b[0m \u001b[38;5;66;03m# e.g., issue 11768\u001b[39;00m\n\u001b[0;32m   3043\u001b[0m f \u001b[38;5;241m=\u001b[39m lambdify(fargs, f, modules)\n\u001b[1;32m-> 3044\u001b[0m x \u001b[38;5;241m=\u001b[39m sympify(\u001b[43mfindroot\u001b[49m\u001b[43m(\u001b[49m\u001b[43mf\u001b[49m\u001b[43m,\u001b[49m\u001b[43m \u001b[49m\u001b[43mx0\u001b[49m\u001b[43m,\u001b[49m\u001b[43m \u001b[49m\u001b[38;5;241;43m*\u001b[39;49m\u001b[38;5;241;43m*\u001b[39;49m\u001b[43mkwargs\u001b[49m\u001b[43m)\u001b[49m)\n\u001b[0;32m   3045\u001b[0m \u001b[38;5;28;01mif\u001b[39;00m as_dict:\n\u001b[0;32m   3046\u001b[0m     \u001b[38;5;28;01mreturn\u001b[39;00m [{fargs: x}]\n",
      "File \u001b[1;32mC:\\python123\\Lib\\site-packages\\mpmath\\calculus\\optimization.py:920\u001b[0m, in \u001b[0;36mfindroot\u001b[1;34m(ctx, f, x0, solver, tol, verbose, verify, **kwargs)\u001b[0m\n\u001b[0;32m    918\u001b[0m     x0 \u001b[38;5;241m=\u001b[39m [ctx\u001b[38;5;241m.\u001b[39mconvert(x) \u001b[38;5;28;01mfor\u001b[39;00m x \u001b[38;5;129;01min\u001b[39;00m x0]\n\u001b[0;32m    919\u001b[0m \u001b[38;5;28;01melse\u001b[39;00m:\n\u001b[1;32m--> 920\u001b[0m     x0 \u001b[38;5;241m=\u001b[39m [\u001b[43mctx\u001b[49m\u001b[38;5;241;43m.\u001b[39;49m\u001b[43mconvert\u001b[49m\u001b[43m(\u001b[49m\u001b[43mx0\u001b[49m\u001b[43m)\u001b[49m]\n\u001b[0;32m    922\u001b[0m \u001b[38;5;28;01mif\u001b[39;00m \u001b[38;5;28misinstance\u001b[39m(solver, \u001b[38;5;28mstr\u001b[39m):\n\u001b[0;32m    923\u001b[0m     \u001b[38;5;28;01mtry\u001b[39;00m:\n",
      "File \u001b[1;32mC:\\python123\\Lib\\site-packages\\mpmath\\ctx_mp_python.py:671\u001b[0m, in \u001b[0;36mPythonMPContext.convert\u001b[1;34m(ctx, x, strings)\u001b[0m\n\u001b[0;32m    669\u001b[0m     \u001b[38;5;28;01mtry\u001b[39;00m: \u001b[38;5;28;01mreturn\u001b[39;00m ctx\u001b[38;5;241m.\u001b[39mmake_mpf(from_Decimal(x, prec, rounding))\n\u001b[0;32m    670\u001b[0m     \u001b[38;5;28;01mexcept\u001b[39;00m: \u001b[38;5;28;01mpass\u001b[39;00m\n\u001b[1;32m--> 671\u001b[0m \u001b[38;5;28;01mreturn\u001b[39;00m \u001b[43mctx\u001b[49m\u001b[38;5;241;43m.\u001b[39;49m\u001b[43m_convert_fallback\u001b[49m\u001b[43m(\u001b[49m\u001b[43mx\u001b[49m\u001b[43m,\u001b[49m\u001b[43m \u001b[49m\u001b[43mstrings\u001b[49m\u001b[43m)\u001b[49m\n",
      "File \u001b[1;32mC:\\python123\\Lib\\site-packages\\mpmath\\ctx_mp.py:634\u001b[0m, in \u001b[0;36mMPContext._convert_fallback\u001b[1;34m(ctx, x, strings)\u001b[0m\n\u001b[0;32m    632\u001b[0m     \u001b[38;5;28;01melse\u001b[39;00m:\n\u001b[0;32m    633\u001b[0m         \u001b[38;5;28;01mraise\u001b[39;00m \u001b[38;5;167;01mValueError\u001b[39;00m(\u001b[38;5;124m\"\u001b[39m\u001b[38;5;124mcan only create mpf from zero-width interval\u001b[39m\u001b[38;5;124m\"\u001b[39m)\n\u001b[1;32m--> 634\u001b[0m \u001b[38;5;28;01mraise\u001b[39;00m \u001b[38;5;167;01mTypeError\u001b[39;00m(\u001b[38;5;124m\"\u001b[39m\u001b[38;5;124mcannot create mpf from \u001b[39m\u001b[38;5;124m\"\u001b[39m \u001b[38;5;241m+\u001b[39m \u001b[38;5;28mrepr\u001b[39m(x))\n",
      "\u001b[1;31mTypeError\u001b[0m: cannot create mpf from x"
     ]
    }
   ],
   "source": [
    "# Given trigonometric equation\n",
    "trig_eq3 = sp.tan(x) - 2*x\n",
    "\n",
    "# Numerical roots using NumPy\n",
    "numerical_roots_trig3 = np.roots([-2, 0, 1])\n",
    "\n",
    "# Periodicity or symmetry properties\n",
    "periodicity_symmetry_trig3 = \"Periodic with a period of pi\"\n",
    "\n",
    "# Symbolic roots using SymPy\n",
    "symbolic_roots_trig3 = sp.solve(trig_eq3, x)\n",
    "\n",
    "# Verification\n",
    "verification_result_trig3 = all(trig_eq3.subs(x, root).evalf() == 0 for root in numerical_roots_trig3)\n",
    "\n",
    "print(\"Numerical Roots:\", numerical_roots_trig3)\n",
    "print(\"Periodicity/Symmetry:\", periodicity_symmetry_trig3)\n",
    "print(\"Symbolic Roots:\", symbolic_roots_trig3)\n",
    "print(\"Verification Result:\", verification_result_trig3)"
   ]
  },
  {
   "cell_type": "code",
   "execution_count": 22,
   "id": "cfaf7f5e-4892-48e2-9da8-128f74d23756",
   "metadata": {},
   "outputs": [
    {
     "name": "stdout",
     "output_type": "stream",
     "text": [
      "Numerical Root (example near 0): 0\n",
      "Periodicity/Symmetry: Periodic with a period of pi\n",
      "Verification Result: True\n"
     ]
    }
   ],
   "source": [
    "import numpy as np\n",
    "import sympy as sp\n",
    "\n",
    "# Define the symbol\n",
    "x = sp.symbols('x')\n",
    "\n",
    "# Given trigonometric equation\n",
    "trig_eq3 = sp.tan(x) - 2*x\n",
    "\n",
    "# Numerical roots using SymPy's nsolve (example with initial guess)\n",
    "# This equation may have multiple roots; you need to specify ranges or multiple guesses if needed\n",
    "numerical_root_trig3 = sp.nsolve(trig_eq3, x, 0.1)  # Initial guess near zero\n",
    "\n",
    "# Periodicity or symmetry properties\n",
    "periodicity_symmetry_trig3 = \"Periodic with a period of pi\"  # Specific to tan(x)\n",
    "\n",
    "# Symbolic roots using SymPy (Note: will not generally find closed-form solutions)\n",
    "# symbolic_roots_trig3 = sp.solve(trig_eq3, x)  # Not used because tan(x) - 2x = 0 is not easily solvable symbolically\n",
    "\n",
    "# Verification of numerical root\n",
    "verification_result_trig3 = trig_eq3.subs(x, numerical_root_trig3).evalf() == 0\n",
    "\n",
    "print(\"Numerical Root (example near 0):\", numerical_root_trig3)\n",
    "print(\"Periodicity/Symmetry:\", periodicity_symmetry_trig3)\n",
    "print(\"Verification Result:\", verification_result_trig3)\n"
   ]
  },
  {
   "cell_type": "code",
   "execution_count": null,
   "id": "82a52135-74c1-4367-8211-654b37261996",
   "metadata": {},
   "outputs": [],
   "source": []
  }
 ],
 "metadata": {
  "kernelspec": {
   "display_name": "Python 3 (ipykernel)",
   "language": "python",
   "name": "python3"
  },
  "language_info": {
   "codemirror_mode": {
    "name": "ipython",
    "version": 3
   },
   "file_extension": ".py",
   "mimetype": "text/x-python",
   "name": "python",
   "nbconvert_exporter": "python",
   "pygments_lexer": "ipython3",
   "version": "3.12.1"
  }
 },
 "nbformat": 4,
 "nbformat_minor": 5
}
