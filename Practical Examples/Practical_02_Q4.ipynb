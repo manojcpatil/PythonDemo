{
 "cells": [
  {
   "cell_type": "markdown",
   "id": "83ef90fa",
   "metadata": {},
   "source": [
    "\n",
    "\n",
    "#### b. Find Index in Tuple\n"
   ]
  },
  {
   "cell_type": "code",
   "execution_count": null,
   "id": "0cd7a11e",
   "metadata": {},
   "outputs": [],
   "source": [
    "\n",
    "def find_element_index(input_tuple, element):\n",
    "    try:\n",
    "        index = input_tuple.index(element)\n",
    "        print(f\"The index of '{element}' is: {index}\")\n",
    "    except ValueError:\n",
    "        print(f\"'{element}' not found in the tuple.\")\n",
    "\n",
    "# Example usage:\n",
    "my_tuple = (10, 20, 30, 40, 50)\n",
    "find_element_index(my_tuple, 30)\n"
   ]
  }
 ],
 "metadata": {},
 "nbformat": 4,
 "nbformat_minor": 5
}
