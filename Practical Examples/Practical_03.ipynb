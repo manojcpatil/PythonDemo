{
 "cells": [
  {
   "cell_type": "markdown",
   "id": "f56ffa68",
   "metadata": {},
   "source": [
    "\n",
    "\n",
    "#### b. Sum Numbers as Strings and Return Integer\n"
   ]
  },
  {
   "cell_type": "code",
   "execution_count": null,
   "id": "2aa4039d",
   "metadata": {},
   "outputs": [],
   "source": [
    "\n",
    "def is_leap_year(year):\n",
    "    if (year % 4 == 0 and year % 100 != 0) or (year % 400 == 0):\n",
    "        return True\n",
    "    else:\n",
    "        return False\n",
    "\n",
    "# Example usage:\n",
    "user_year = int(input(\"Enter a year: \"))\n",
    "if is_leap_year(user_year):\n",
    "    print(f\"{user_year} is a leap year.\")\n",
    "else:\n",
    "    print(f\"{user_year} is not a leap year.\")\n"
   ]
  },
  {
   "cell_type": "markdown",
   "id": "6a6b1693",
   "metadata": {},
   "source": [
    "\n",
    "\n",
    "#### b. Sum Numbers as Strings and Return Integer\n"
   ]
  },
  {
   "cell_type": "code",
   "execution_count": null,
   "id": "4137851c",
   "metadata": {},
   "outputs": [],
   "source": [
    "\n",
    "def time_converter(seconds):\n",
    "    hours, remainder = divmod(seconds, 3600)\n",
    "    minutes, seconds = divmod(remainder, 60)\n",
    "\n",
    "    print(f\"{seconds} seconds is equal to {hours} hours, {minutes} minutes, and {seconds} seconds.\")\n",
    "\n",
    "# Example usage:\n",
    "user_seconds = int(input(\"Enter the total seconds: \"))\n",
    "time_converter(user_seconds)\n"
   ]
  },
  {
   "cell_type": "markdown",
   "id": "68608f1d",
   "metadata": {},
   "source": [
    "\n",
    "\n",
    "#### b. Sum Numbers as Strings and Return Integer\n"
   ]
  },
  {
   "cell_type": "code",
   "execution_count": null,
   "id": "c5b6e060",
   "metadata": {},
   "outputs": [],
   "source": [
    "\n",
    "def temperature_converter():\n",
    "    celsius = float(input(\"Enter temperature in Celsius: \"))\n",
    "    fahrenheit = (celsius * 9/5) + 32\n",
    "\n",
    "    print(f\"{celsius} Celsius is equal to {fahrenheit:.2f} Fahrenheit.\")\n",
    "    \n",
    "    if fahrenheit >= 80:\n",
    "        print(\"It's hot!\")\n",
    "    elif 60 <= fahrenheit < 80:\n",
    "        print(\"It's moderate.\")\n",
    "    else:\n",
    "        print(\"It's cold.\")\n",
    "\n",
    "# Example usage:\n",
    "temperature_converter()\n"
   ]
  },
  {
   "cell_type": "markdown",
   "id": "19c38b4c",
   "metadata": {},
   "source": [
    "\n",
    "\n",
    "#### b. Sum Numbers as Strings and Return Integer\n"
   ]
  },
  {
   "cell_type": "code",
   "execution_count": null,
   "id": "6d540a06",
   "metadata": {},
   "outputs": [],
   "source": [
    "\n",
    "def classify_number(num):\n",
    "    if num > 0:\n",
    "        print(\"Positive number.\")\n",
    "    elif num < 0:\n",
    "        print(\"Negative number.\")\n",
    "    else:\n",
    "        print(\"Zero.\")\n",
    "\n",
    "    if num % 2 == 0:\n",
    "        print(\"Even number.\")\n",
    "    else:\n",
    "        print(\"Odd number.\")\n",
    "\n",
    "# Example usage:\n",
    "user_number = int(input(\"Enter an integer: \"))\n",
    "classify_number(user_number)\n"
   ]
  },
  {
   "cell_type": "markdown",
   "id": "819b9858",
   "metadata": {},
   "source": [
    "\n",
    "\n",
    "#### b. Sum Numbers as Strings and Return Integer\n"
   ]
  },
  {
   "cell_type": "code",
   "execution_count": null,
   "id": "f62d4244",
   "metadata": {},
   "outputs": [],
   "source": [
    "\n",
    "def check_vowel_or_consonant(char):\n",
    "    vowels = \"AEIOUaeiou\"\n",
    "    if char.isalpha() and char in vowels:\n",
    "        print(f\"{char} is a vowel.\")\n",
    "    elif char.isalpha():\n",
    "        print(f\"{char} is a consonant.\")\n",
    "    else:\n",
    "        print(\"Invalid input. Please enter a single character.\")\n",
    "\n",
    "# Example usage:\n",
    "user_char = input(\"Enter a single character: \")\n",
    "check_vowel_or_consonant(user_char)\n"
   ]
  },
  {
   "cell_type": "markdown",
   "id": "ee167dfa",
   "metadata": {},
   "source": [
    "\n",
    "\n",
    "#### b. Sum Numbers as Strings and Return Integer\n"
   ]
  },
  {
   "cell_type": "code",
   "execution_count": null,
   "id": "48d86ae4",
   "metadata": {},
   "outputs": [],
   "source": [
    "\n",
    "def simple_calculator():\n",
    "    num1 = float(input(\"Enter the first number: \"))\n",
    "    operator = input(\"Enter an operator (+, -, *, /): \")\n",
    "    num2 = float(input(\"Enter the second number: \"))\n",
    "\n",
    "    try:\n",
    "        if operator == '+':\n",
    "            result = num1 + num2\n",
    "        elif operator == '-':\n",
    "            result = num1 - num2\n",
    "        elif operator == '*':\n",
    "            result = num1 * num2\n",
    "        elif operator == '/':\n",
    "            result = num1 / num2\n",
    "        else:\n",
    "            raise ValueError(\"Invalid operator.\")\n",
    "        \n",
    "        print(f\"Result: {result}\")\n",
    "\n",
    "    except ZeroDivisionError:\n",
    "        print(\"Error: Division by zero.\")\n",
    "\n",
    "# Example usage:\n",
    "simple_calculator()\n"
   ]
  },
  {
   "cell_type": "markdown",
   "id": "5c0b268e",
   "metadata": {},
   "source": [
    "\n",
    "\n",
    "#### b. Sum Numbers as Strings and Return Integer\n"
   ]
  },
  {
   "cell_type": "code",
   "execution_count": null,
   "id": "64dda361",
   "metadata": {},
   "outputs": [],
   "source": [
    "\n",
    "def discount_calculator():\n",
    "    original_price = float(input(\"Enter the original price: \"))\n",
    "    discount_percentage = float(input(\"Enter the discount percentage: \"))\n",
    "\n",
    "    discounted_price = original_price * (1 - discount_percentage/100)\n",
    "    print(f\"The discounted price is: {discounted_price:.2f}\")\n",
    "\n",
    "# Example usage:\n",
    "discount_calculator()\n"
   ]
  },
  {
   "cell_type": "markdown",
   "id": "c4571145",
   "metadata": {},
   "source": [
    "\n",
    "\n",
    "#### b. Sum Numbers as Strings and Return Integer\n"
   ]
  },
  {
   "cell_type": "code",
   "execution_count": null,
   "id": "e31d1279",
   "metadata": {},
   "outputs": [],
   "source": [
    "\n",
    "import random\n",
    "\n",
    "def number_guessing_game():\n",
    "    target_number = random.randint(1, 100)\n",
    "    guess = None\n",
    "    attempts = 0\n",
    "    \n",
    "    while guess != target_number:\n",
    "        guess = int(input(\"Guess the number (between 1 and 100): \"))\n",
    "        attempts += 1\n",
    "        \n",
    "        if guess < target_number:\n",
    "            print(\"Too low! Try again.\")\n",
    "        elif guess > target_number:\n",
    "            print(\"Too high! Try again.\")\n",
    "    \n",
    "    print(f\"Congratulations! You guessed the number {target_number} in {attempts} attempts.\")\n",
    "\n",
    "# Example usage:\n",
    "number_guessing_game()\n"
   ]
  },
  {
   "cell_type": "markdown",
   "id": "357b5640",
   "metadata": {},
   "source": [
    "\n",
    "\n",
    "#### b. Sum Numbers as Strings and Return Integer\n"
   ]
  },
  {
   "cell_type": "code",
   "execution_count": null,
   "id": "c7c19068",
   "metadata": {},
   "outputs": [],
   "source": [
    "\n",
    "def classify_triangle(a, b, c):\n",
    "    if a + b > c and a + c > b and b + c > a:\n",
    "        if a == b == c:\n",
    "            print(\"Equilateral triangle.\")\n",
    "        elif a == b or b == c or a == c:\n",
    "            print(\"Isosceles triangle.\")\n",
    "        else:\n",
    "            print(\"Scalene triangle.\")\n",
    "    else:\n",
    "        print(\"Invalid input. The sides cannot form a valid triangle.\")\n",
    "\n",
    "# Example usage:\n",
    "side_a = float(input(\"Enter the length of side a: \"))\n",
    "side_b = float(input(\"Enter the length of side b: \"))\n",
    "side_c = float(input(\"Enter the length of side c: \"))\n",
    "classify_triangle(side_a, side_b, side_c)\n"
   ]
  },
  {
   "cell_type": "markdown",
   "id": "559300b5",
   "metadata": {},
   "source": [
    "\n",
    "\n",
    "#### b. Sum Numbers as Strings and Return Integer\n"
   ]
  },
  {
   "cell_type": "code",
   "execution_count": null,
   "id": "37f0206b",
   "metadata": {},
   "outputs": [],
   "source": [
    "\n",
    "def bmi_calculator(weight, height):\n",
    "    bmi = weight / (height ** 2)\n",
    "\n",
    "    if bmi < 18.5:\n",
    "        print(\"Underweight.\")\n",
    "    elif 18.5 <= bmi < 24.9:\n",
    "        print(\"Normal weight.\")\n",
    "    elif 25 <= bmi < 29.9:\n",
    "        print(\"Overweight.\")\n",
    "    else:\n",
    "        print(\"Obese.\")\n",
    "\n",
    "# Example usage:\n",
    "user_weight = float(input(\"Enter weight in kilograms: \"))\n",
    "user_height = float(input(\"Enter height in meters: \"))\n",
    "bmi_calculator(user_weight, user_height)\n"
   ]
  }
 ],
 "metadata": {},
 "nbformat": 4,
 "nbformat_minor": 5
}
