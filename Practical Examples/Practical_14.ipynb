{
 "cells": [
  {
   "cell_type": "markdown",
   "id": "c7a389d6-b510-42e0-9b65-56ca63789438",
   "metadata": {},
   "source": [
    "#### 1. Accessing Dictionary Values: Create a dictionary representing a product with attributes like name,price, and quantity. Allow the user to input the product name and display its details.\n",
    "\n"
   ]
  },
  {
   "cell_type": "code",
   "execution_count": 1,
   "id": "0d7f7dab-52b9-459d-ad92-22ce2464b86b",
   "metadata": {},
   "outputs": [
    {
     "name": "stdin",
     "output_type": "stream",
     "text": [
      "Enter the product name:  Laptop\n"
     ]
    },
    {
     "name": "stdout",
     "output_type": "stream",
     "text": [
      "Product not found.\n"
     ]
    }
   ],
   "source": [
    "# Create a product dictionary\n",
    "product = {\n",
    "    \"name\": \"Laptop\",\n",
    "    \"price\": 1000,\n",
    "    \"quantity\": 5\n",
    "}\n",
    "\n",
    "# Get user input for product name\n",
    "product_name = input(\"Enter the product name: \")\n",
    "\n",
    "# Display product details\n",
    "if product_name in product:\n",
    "    print(f\"Name: {product_name}\")\n",
    "    print(f\"Price: {product[product_name]}\")\n",
    "    print(f\"Quantity: {product['quantity']}\")\n",
    "else:\n",
    "    print(\"Product not found.\")"
   ]
  },
  {
   "cell_type": "markdown",
   "id": "3550b04d-dc3b-46d6-abdc-7df14cd3593b",
   "metadata": {},
   "source": [
    "#### 2. Sorting byKeys: Given a dictionary with random key-value pairs, write a function to sort the dictionary based on keys and print the sorted result."
   ]
  },
  {
   "cell_type": "code",
   "execution_count": 2,
   "id": "b185fdf7-af32-467c-a62e-547666f2aa90",
   "metadata": {},
   "outputs": [
    {
     "name": "stdout",
     "output_type": "stream",
     "text": [
      "{'a': 1, 'b': 2, 'c': 3}\n"
     ]
    }
   ],
   "source": [
    "# Function to sort dictionary by keys\n",
    "def sort_dict_by_keys(dictionary):\n",
    "    sorted_dict = dict(sorted(dictionary.items()))\n",
    "    print(sorted_dict)\n",
    "\n",
    "# Example usage\n",
    "random_dict = {'b': 2, 'a': 1, 'c': 3}\n",
    "sort_dict_by_keys(random_dict)"
   ]
  },
  {
   "cell_type": "markdown",
   "id": "8ed9d272-679a-4a61-8b80-9ec425d8928a",
   "metadata": {},
   "source": [
    "#### 3. Sorting by Values: Write a Python program to sort a dictionary based on values in descending order.Display the sorted dictionary."
   ]
  },
  {
   "cell_type": "code",
   "execution_count": 3,
   "id": "3c1110dd-8cc3-446c-9ad6-7588569f4666",
   "metadata": {},
   "outputs": [
    {
     "name": "stdout",
     "output_type": "stream",
     "text": [
      "{'c': 3, 'b': 2, 'a': 1}\n"
     ]
    }
   ],
   "source": [
    "# Function to sort dictionary by values in descending order\n",
    "def sort_dict_by_values(dictionary):\n",
    "    sorted_dict = dict(sorted(dictionary.items(), key=lambda item: item[1], reverse=True))\n",
    "    print(sorted_dict)\n",
    "\n",
    "# Example usage\n",
    "random_dict = {'b': 2, 'a': 1, 'c': 3}\n",
    "sort_dict_by_values(random_dict)"
   ]
  },
  {
   "cell_type": "markdown",
   "id": "82ff0700-6e8b-45e4-98ca-a9da5f01f636",
   "metadata": {},
   "source": [
    "#### 4. Minimum and Maximum Keys: Create a dictionary with keys as years (e.g., 2020, 2021, 2022) and values as some data. Find and display the minimum and maximum years."
   ]
  },
  {
   "cell_type": "code",
   "execution_count": 4,
   "id": "2c52d97c-4d09-43dc-ad1d-09cd85c2906f",
   "metadata": {},
   "outputs": [
    {
     "name": "stdout",
     "output_type": "stream",
     "text": [
      "Minimum Year: 2020\n",
      "Maximum Year: 2022\n"
     ]
    }
   ],
   "source": [
    "# Find minimum and maximum years\n",
    "years_data = {\n",
    "    2020: \"Data1\",\n",
    "    2021: \"Data2\",\n",
    "    2022: \"Data3\"\n",
    "}\n",
    "min_year = min(years_data.keys())\n",
    "max_year = max(years_data.keys())\n",
    "print(\"Minimum Year:\", min_year)\n",
    "print(\"Maximum Year:\", max_year)"
   ]
  },
  {
   "cell_type": "markdown",
   "id": "78cce96b-f669-4145-bd8e-57d25a08a94d",
   "metadata": {},
   "source": [
    "#### 5. Minimum and Maximum Values: Develop a program that defines a dictionary representing temperatures in Celsius for different days. Find and print the day with the minimum and maximum temperature."
   ]
  },
  {
   "cell_type": "code",
   "execution_count": 5,
   "id": "23d1bd94-a98e-401c-a949-78a30f84567f",
   "metadata": {},
   "outputs": [
    {
     "name": "stdout",
     "output_type": "stream",
     "text": [
      "Day with Minimum Temperature: Wednesday\n",
      "Day with Maximum Temperature: Tuesday\n"
     ]
    }
   ],
   "source": [
    "# Find day with minimum and maximum temperature\n",
    "temperatures = {\n",
    "    \"Monday\": 25,\n",
    "    \"Tuesday\": 28,\n",
    "    \"Wednesday\": 22\n",
    "}\n",
    "min_temp_day = min(temperatures, key=temperatures.get)\n",
    "max_temp_day = max(temperatures, key=temperatures.get)\n",
    "print(\"Day with Minimum Temperature:\", min_temp_day)\n",
    "print(\"Day with Maximum Temperature:\", max_temp_day)"
   ]
  },
  {
   "cell_type": "markdown",
   "id": "77975216-50fb-46b9-a9cb-68691c64aae4",
   "metadata": {},
   "source": [
    "#### 6. Nested Dictionaries: Extend the student dictionary example to include nested dictionaries for each student, representing their courses and corresponding grades."
   ]
  },
  {
   "cell_type": "code",
   "execution_count": 6,
   "id": "67ee2a84-6d98-4f8c-b8b1-7fed0cfc307f",
   "metadata": {},
   "outputs": [
    {
     "name": "stdout",
     "output_type": "stream",
     "text": [
      "Alice's Math Grade: 90\n"
     ]
    }
   ],
   "source": [
    "# Nested dictionary representing students and their courses\n",
    "students = {\n",
    "    \"Alice\": {\n",
    "        \"Math\": 90,\n",
    "        \"Science\": 85\n",
    "    },\n",
    "    \"Bob\": {\n",
    "        \"Math\": 88,\n",
    "        \"Science\": 92\n",
    "    }\n",
    "}\n",
    "\n",
    "# Accessing Alice's Math grade\n",
    "alice_math_grade = students[\"Alice\"][\"Math\"]\n",
    "print(\"Alice's Math Grade:\", alice_math_grade)"
   ]
  },
  {
   "cell_type": "markdown",
   "id": "65be76cc-009f-4a37-b2b8-8c2d887e1c16",
   "metadata": {},
   "source": [
    "#### 7. Filtering Dictionary: Given a dictionary of product prices,write a function to filter out products with prices below a certain threshold. Display the filtered dictionary."
   ]
  },
  {
   "cell_type": "code",
   "execution_count": 7,
   "id": "5118ae9a-bdd4-4f89-a0c4-1c38e884e807",
   "metadata": {},
   "outputs": [
    {
     "name": "stdout",
     "output_type": "stream",
     "text": [
      "{'Laptop': 1000, 'Phone': 800}\n"
     ]
    }
   ],
   "source": [
    "# Function to filter dictionary by price threshold\n",
    "def filter_products_by_price(products, threshold):\n",
    "    filtered_products = {k: v for k, v in products.items() if v >= threshold}\n",
    "    print(filtered_products)\n",
    "\n",
    "# Example usage\n",
    "product_prices = {\"Laptop\": 1000, \"Phone\": 800, \"Tablet\": 500}\n",
    "filter_products_by_price(product_prices, 600)"
   ]
  },
  {
   "cell_type": "markdown",
   "id": "f99ed0a4-849b-497a-9a68-1b2c180aa719",
   "metadata": {},
   "source": [
    "#### 8. Updating Dictionary: Implement a program where the user can update the details of a student in the dictionary (e.g., change the grade or age)."
   ]
  },
  {
   "cell_type": "code",
   "execution_count": 8,
   "id": "18dbcb26-9251-4b22-ac74-e1c0586b81ab",
   "metadata": {},
   "outputs": [
    {
     "name": "stdout",
     "output_type": "stream",
     "text": [
      "Updated student details: {'grade': 'B', 'age': 21}\n"
     ]
    }
   ],
   "source": [
    "# Function to update student details\n",
    "def update_student_details(student_dict, student_name, **kwargs):\n",
    "    if student_name in student_dict:\n",
    "        student_dict[student_name].update(kwargs)\n",
    "        print(\"Updated student details:\", student_dict[student_name])\n",
    "    else:\n",
    "        print(\"Student not found.\")\n",
    "\n",
    "# Example usage\n",
    "students = {\"Alice\": {\"grade\": \"A\", \"age\": 20}, \"Bob\": {\"grade\": \"B\", \"age\": 21}}\n",
    "update_student_details(students, \"Alice\", grade=\"B\", age=21)"
   ]
  },
  {
   "cell_type": "markdown",
   "id": "2bcb249d-2c39-499b-bd43-fb497b99a4b6",
   "metadata": {},
   "source": [
    "#### 9. Dictionary Operations: Write a Python program that performs various operations on dictionaries,such as merging two dictionaries, removing a key-value pair, and clearing the entire dictionary."
   ]
  },
  {
   "cell_type": "code",
   "execution_count": 9,
   "id": "ebe698b4-e718-4e61-99d6-529262bafb4c",
   "metadata": {},
   "outputs": [
    {
     "name": "stdout",
     "output_type": "stream",
     "text": [
      "Merged Dictionary: {'a': 1, 'b': 2, 'c': 3, 'd': 4}\n",
      "Dictionary after removing 'b': {'a': 1}\n",
      "Dictionary 2 after clearing: {}\n"
     ]
    }
   ],
   "source": [
    "# Function to perform dictionary operations\n",
    "def perform_dictionary_operations(dict1, dict2):\n",
    "    # Merge two dictionaries\n",
    "    merged_dict = {**dict1, **dict2}\n",
    "    print(\"Merged Dictionary:\", merged_dict)\n",
    "\n",
    "    # Remove a key-value pair\n",
    "    dict1.pop('b', None)\n",
    "    print(\"Dictionary after removing 'b':\", dict1)\n",
    "\n",
    "    # Clear the entire dictionary\n",
    "    dict2.clear()\n",
    "    print(\"Dictionary 2 after clearing:\", dict2)\n",
    "\n",
    "# Example usage\n",
    "dict1 = {'a': 1, 'b': 2}\n",
    "dict2 = {'c': 3, 'd': 4}\n",
    "perform_dictionary_operations(dict1, dict2)"
   ]
  }
 ],
 "metadata": {
  "kernelspec": {
   "display_name": "Python 3 (ipykernel)",
   "language": "python",
   "name": "python3"
  },
  "language_info": {
   "codemirror_mode": {
    "name": "ipython",
    "version": 3
   },
   "file_extension": ".py",
   "mimetype": "text/x-python",
   "name": "python",
   "nbconvert_exporter": "python",
   "pygments_lexer": "ipython3",
   "version": "3.12.1"
  }
 },
 "nbformat": 4,
 "nbformat_minor": 5
}
