{
 "cells": [
  {
   "cell_type": "markdown",
   "id": "87f763f4",
   "metadata": {},
   "source": [
    "\n",
    "\n",
    "#### b. Sum Numbers as Strings and Return Integer\n"
   ]
  },
  {
   "cell_type": "code",
   "execution_count": null,
   "id": "8b781ac1",
   "metadata": {},
   "outputs": [],
   "source": [
    "\n",
    "def sum_numbers_as_strings(input_list):\n",
    "    try:\n",
    "        sum_result = sum(map(int, input_list))\n",
    "        return sum_result\n",
    "    except ValueError:\n",
    "        print(\"Error: One or more elements in the list is not a valid integer.\")\n",
    "\n",
    "# Example usage:\n",
    "numbers_as_strings = ['10', '20', '30', '40']\n",
    "result = sum_numbers_as_strings(numbers_as_strings)\n",
    "print(f\"The sum of the numbers is: {result}\")\n"
   ]
  }
 ],
 "metadata": {},
 "nbformat": 4,
 "nbformat_minor": 5
}
{
 "cells": [
  {
   "cell_type": "markdown",
   "id": "fb7d683c",
   "metadata": {},
   "source": [
    "\n",
    "### 1. List Manipulation\n",
    "\n",
    "#### a. Even Numbers in a List\n"
   ]
  },
  {
   "cell_type": "code",
   "execution_count": null,
   "id": "993c91d2",
   "metadata": {},
   "outputs": [],
   "source": [
    "\n",
    "def filter_even_numbers(input_list):\n",
    "    return [num for num in input_list if num % 2 == 0]\n",
    "\n",
    "# Example usage:\n",
    "numbers_list = [1, 2, 3, 4, 5, 6, 7, 8, 9]\n",
    "even_numbers = filter_even_numbers(numbers_list)\n",
    "print(even_numbers)\n"
   ]
  }
 ],
 "metadata": {},
 "nbformat": 4,
 "nbformat_minor": 5
}
{
 "cells": [
  {
   "cell_type": "markdown",
   "id": "0c66c17a",
   "metadata": {},
   "source": [
    "\n",
    "\n",
    "#### b. Reverse List In-Place\n"
   ]
  },
  {
   "cell_type": "code",
   "execution_count": null,
   "id": "831d4d1b",
   "metadata": {},
   "outputs": [],
   "source": [
    "\n",
    "def reverse_list_in_place(input_list):\n",
    "    input_list.reverse()\n",
    "\n",
    "# Example usage:\n",
    "original_list = [1, 2, 3, 4, 5]\n",
    "reverse_list_in_place(original_list)\n",
    "print(original_list)\n"
   ]
  }
 ],
 "metadata": {},
 "nbformat": 4,
 "nbformat_minor": 5
}
{
 "cells": [
  {
   "cell_type": "markdown",
   "id": "78383484",
   "metadata": {},
   "source": [
    "\n",
    "\n",
    "### 2. Tuple Operations\n",
    "\n",
    "#### a. Sort Tuple Alphabetically\n"
   ]
  },
  {
   "cell_type": "code",
   "execution_count": null,
   "id": "a2118a6f",
   "metadata": {},
   "outputs": [],
   "source": [
    "\n",
    "def sort_tuple_alphabetically(input_tuple):\n",
    "    sorted_tuple = tuple(sorted(input_tuple))\n",
    "    print(sorted_tuple)\n",
    "\n",
    "# Example usage:\n",
    "string_tuple = ('banana', 'apple', 'orange', 'grape')\n",
    "sort_tuple_alphabetically(string_tuple)\n"
   ]
  }
 ],
 "metadata": {},
 "nbformat": 4,
 "nbformat_minor": 5
}
{
 "cells": [
  {
   "cell_type": "markdown",
   "id": "04011ee1",
   "metadata": {},
   "source": [
    "\n",
    "\n",
    "#### b. Find Index in Tuple\n"
   ]
  },
  {
   "cell_type": "code",
   "execution_count": null,
   "id": "0e6c4374",
   "metadata": {},
   "outputs": [],
   "source": [
    "\n",
    "def find_element_index(input_tuple, element):\n",
    "    try:\n",
    "        index = input_tuple.index(element)\n",
    "        print(f\"The index of '{element}' is: {index}\")\n",
    "    except ValueError:\n",
    "        print(f\"'{element}' not found in the tuple.\")\n",
    "\n",
    "# Example usage:\n",
    "my_tuple = (10, 20, 30, 40, 50)\n",
    "find_element_index(my_tuple, 30)\n"
   ]
  }
 ],
 "metadata": {},
 "nbformat": 4,
 "nbformat_minor": 5
}
{
 "cells": [
  {
   "cell_type": "markdown",
   "id": "f5d98298",
   "metadata": {},
   "source": [
    "\n",
    "\n",
    "### 3. Dictionary Operations\n",
    "\n",
    "#### a. Merge Dictionaries with Age Combination\n"
   ]
  },
  {
   "cell_type": "code",
   "execution_count": null,
   "id": "b540551e",
   "metadata": {},
   "outputs": [],
   "source": [
    "\n",
    "def merge_dictionaries(dict1, dict2):\n",
    "    result_dict = dict1.copy()\n",
    "    \n",
    "    for key, value in dict2.items():\n",
    "        if key in result_dict:\n",
    "            result_dict[key] += value\n",
    "        else:\n",
    "            result_dict[key] = value\n",
    "            \n",
    "    return result_dict\n",
    "\n",
    "# Example usage:\n",
    "dict1 = {'Alice': 25, 'Bob': 30}\n",
    "dict2 = {'Bob': 35, 'Charlie': 40}\n",
    "merged_dict = merge_dictionaries(dict1, dict2)\n",
    "print(merged_dict)\n"
   ]
  }
 ],
 "metadata": {},
 "nbformat": 4,
 "nbformat_minor": 5
}
{
 "cells": [
  {
   "cell_type": "markdown",
   "id": "e34bb7dc",
   "metadata": {},
   "source": [
    "\n",
    "#### b. Check if Key Exists in Dictionary\n"
   ]
  },
  {
   "cell_type": "code",
   "execution_count": null,
   "id": "8fc46586",
   "metadata": {},
   "outputs": [],
   "source": [
    "\n",
    "def check_key_existence(input_dict, key):\n",
    "    if key in input_dict:\n",
    "        print(f\"'{key}' exists in the dictionary.\")\n",
    "    else:\n",
    "        print(f\"'{key}' does not exist in the dictionary.\")\n",
    "\n",
    "# Example usage:\n",
    "employee_dict = {'Alice': 25, 'Bob': 30, 'Charlie': 40}\n",
    "check_key_existence(employee_dict, 'Bob')\n"
   ]
  }
 ],
 "metadata": {},
 "nbformat": 4,
 "nbformat_minor": 5
}
{
 "cells": [
  {
   "cell_type": "markdown",
   "id": "c6aa97c8",
   "metadata": {},
   "source": [
    "\n",
    "\n",
    "### 4. Set Operations\n",
    "\n",
    "#### a. Common Elements in Sets\n"
   ]
  },
  {
   "cell_type": "code",
   "execution_count": null,
   "id": "52288b0e",
   "metadata": {},
   "outputs": [],
   "source": [
    "\n",
    "def find_common_elements(set1, set2):\n",
    "    return set1.intersection(set2)\n",
    "\n",
    "# Example usage:\n",
    "set_a = {1, 2, 3, 4, 5}\n",
    "set_b = {4, 5, 6, 7, 8}\n",
    "common_elements = find_common_elements(set_a, set_b)\n",
    "print(common_elements)\n"
   ]
  }
 ],
 "metadata": {},
 "nbformat": 4,
 "nbformat_minor": 5
}
{
 "cells": [
  {
   "cell_type": "markdown",
   "id": "2fa76186",
   "metadata": {},
   "source": [
    "\n",
    "\n",
    "#### b. Remove Duplicates from List and Convert to Set\n"
   ]
  },
  {
   "cell_type": "code",
   "execution_count": null,
   "id": "00843998",
   "metadata": {},
   "outputs": [],
   "source": [
    "\n",
    "def remove_duplicates_and_convert_to_set(input_list):\n",
    "    unique_set = set(input_list)\n",
    "    return unique_set\n",
    "\n",
    "# Example usage:\n",
    "original_list = [1, 2, 2, 3, 4, 4, 5]\n",
    "unique_set = remove_duplicates_and_convert_to_set(original_list)\n",
    "print(unique_set)\n"
   ]
  }
 ],
 "metadata": {},
 "nbformat": 4,
 "nbformat_minor": 5
}
{
 "cells": [
  {
   "cell_type": "markdown",
   "id": "f36292d4",
   "metadata": {},
   "source": [
    "\n",
    "\n",
    "### 5. Mutability and Immutability\n",
    "\n",
    "#### a. Modify List by Squaring Elements\n"
   ]
  },
  {
   "cell_type": "code",
   "execution_count": null,
   "id": "535d0848",
   "metadata": {},
   "outputs": [],
   "source": [
    "\n",
    "def square_list_elements(input_list):\n",
    "    for i in range(len(input_list)):\n",
    "        input_list[i] **= 2\n",
    "\n",
    "# Example usage:\n",
    "numbers_list = [1, 2, 3, 4, 5]\n",
    "square_list_elements(numbers_list)\n",
    "print(numbers_list)\n"
   ]
  }
 ],
 "metadata": {},
 "nbformat": 4,
 "nbformat_minor": 5
}
{
 "cells": [
  {
   "cell_type": "markdown",
   "id": "b7dce473",
   "metadata": {},
   "source": [
    "\n",
    "\n",
    "#### b. Attempt to Modify Tuple Element (Handling Error)\n"
   ]
  },
  {
   "cell_type": "code",
   "execution_count": null,
   "id": "ec68f3a0",
   "metadata": {},
   "outputs": [],
   "source": [
    "\n",
    "def try_modify_tuple_element(input_tuple, index, new_value):\n",
    "    try:\n",
    "        # Tuples are immutable, so modification is not possible\n",
    "        modified_tuple = input_tuple[:index] + (new_value,) + input_tuple[index + 1:]\n",
    "        print(\"Modification successful:\", modified_tuple)\n",
    "    except TypeError:\n",
    "        print(\"Error: Tuples are immutable and cannot be modified.\")\n",
    "\n",
    "# Example usage:\n",
    "my_tuple = (10, 20, 30, 40, 50)\n",
    "try_modify_tuple_element(my_tuple, 2, 35)\n"
   ]
  }
 ],
 "metadata": {},
 "nbformat": 4,
 "nbformat_minor": 5
}
{
 "cells": [
  {
   "cell_type": "markdown",
   "id": "0fb38e2f",
   "metadata": {},
   "source": [
    "\n",
    "\n",
    "### 6. Type Casting\n",
    "\n",
    "#### a. Convert String Number to Integer and Square\n"
   ]
  },
  {
   "cell_type": "code",
   "execution_count": null,
   "id": "ef22e071",
   "metadata": {},
   "outputs": [],
   "source": [
    "\n",
    "def square_integer_from_string(input_string):\n",
    "    try:\n",
    "        number = int(input_string)\n",
    "        squared_result = number ** 2\n",
    "        print(f\"The squared value of {number} is: {squared_result}\")\n",
    "    except ValueError:\n",
    "        print(\"Error: Input is not a valid integer.\")\n",
    "\n",
    "# Example usage:\n",
    "user_input = input(\"Enter a number as a string: \")\n",
    "square_integer_from_string(user_input)\n"
   ]
  }
 ],
 "metadata": {},
 "nbformat": 4,
 "nbformat_minor": 5
}
{
 "cells": [
  {
   "cell_type": "markdown",
   "id": "68080aec",
   "metadata": {},
   "source": [
    "\n",
    "\n",
    "#### b. Sum Numbers as Strings and Return Integer\n"
   ]
  },
  {
   "cell_type": "code",
   "execution_count": null,
   "id": "86e229b4",
   "metadata": {},
   "outputs": [],
   "source": [
    "\n",
    "def sum_numbers_as_strings(input_list):\n",
    "    try:\n",
    "        sum_result = sum(map(int, input_list))\n",
    "        return sum_result\n",
    "    except ValueError:\n",
    "        print(\"Error: One or more elements in the list is not a valid integer.\")\n",
    "\n",
    "# Example usage:\n",
    "numbers_as_strings = ['10', '20', '30', '40']\n",
    "result = sum_numbers_as_strings(numbers_as_strings)\n",
    "print(f\"The sum of the numbers is: {result}\")\n"
   ]
  }
 ],
 "metadata": {},
 "nbformat": 4,
 "nbformat_minor": 5
}
