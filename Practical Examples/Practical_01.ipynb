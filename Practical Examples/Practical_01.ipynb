{
 "cells": [
  {
   "cell_type": "markdown",
   "id": "88b0df87-bc75-4f41-b888-129f69454dba",
   "metadata": {},
   "source": [
    "# Introduction to Python, Python Data Types-I\n",
    "\n",
    "## 1. Temperature Conversion\n",
    "\n",
    "Write a Python program that takes user input for a temperature in Celsius and converts it to Fahrenheit. Display the result with an appropriate message."
   ]
  },
  {
   "cell_type": "code",
   "execution_count": 1,
   "id": "eaded2e9-b2f2-413f-a1ce-563aecdc1b44",
   "metadata": {},
   "outputs": [
    {
     "name": "stdin",
     "output_type": "stream",
     "text": [
      "Enter temperature in Celsius:  32\n"
     ]
    },
    {
     "name": "stdout",
     "output_type": "stream",
     "text": [
      "32.0 Celsius is equal to 89.6 Fahrenheit.\n"
     ]
    }
   ],
   "source": [
    "# Python Program for Temperature Conversion\n",
    "celsius_temperature = float(input(\"Enter temperature in Celsius: \"))\n",
    "fahrenheit_temperature = (celsius_temperature * 9/5) + 32\n",
    "print(f\"{celsius_temperature} Celsius is equal to {fahrenheit_temperature} Fahrenheit.\")"
   ]
  },
  {
   "cell_type": "markdown",
   "id": "002be894-9bd7-46b9-8b94-764dddd47b98",
   "metadata": {},
   "source": [
    "## 2. Character Counter\n",
    "\n",
    "Develop a Python script that takes a user input string and counts the number of occurrences of each character in the string. Display the results in a readable format.\n",
    "\n"
   ]
  },
  {
   "cell_type": "code",
   "execution_count": 2,
   "id": "694ea440-1acc-4f15-a57c-e08bee433bf8",
   "metadata": {},
   "outputs": [
    {
     "name": "stdin",
     "output_type": "stream",
     "text": [
      "Enter a string:  occureences\n"
     ]
    },
    {
     "name": "stdout",
     "output_type": "stream",
     "text": [
      "Character Counts:\n",
      "o: 1\n",
      "c: 3\n",
      "u: 1\n",
      "r: 1\n",
      "e: 3\n",
      "n: 1\n",
      "s: 1\n"
     ]
    }
   ],
   "source": [
    "# Python Program for Character Counter\n",
    "user_string = input(\"Enter a string: \")\n",
    "character_count = {}\n",
    "\n",
    "for char in user_string:\n",
    "    if char in character_count:\n",
    "        character_count[char] += 1\n",
    "    else:\n",
    "        character_count[char] = 1\n",
    "\n",
    "print(\"Character Counts:\")\n",
    "for char, count in character_count.items():\n",
    "    print(f\"{char}: {count}\")"
   ]
  },
  {
   "cell_type": "markdown",
   "id": "31b7d20b-5e12-4fd3-91d3-7799771330de",
   "metadata": {},
   "source": [
    "## 3. Even or Odd Checker\n",
    "\n",
    "Create a Python program that prompts the user to enter an integer and checks if it's an even or odd number. Display a message indicating whether the number is even or odd.\n"
   ]
  },
  {
   "cell_type": "code",
   "execution_count": 3,
   "id": "db3e0d5f-13a5-49b7-a98d-a9e40b6fe35c",
   "metadata": {},
   "outputs": [
    {
     "name": "stdin",
     "output_type": "stream",
     "text": [
      "Enter an integer:  59\n"
     ]
    },
    {
     "name": "stdout",
     "output_type": "stream",
     "text": [
      "59 is an odd number.\n"
     ]
    }
   ],
   "source": [
    "# Python Program for Even or Odd Checker\n",
    "user_number = int(input(\"Enter an integer: \"))\n",
    "\n",
    "if user_number % 2 == 0:\n",
    "    print(f\"{user_number} is an even number.\")\n",
    "else:\n",
    "    print(f\"{user_number} is an odd number.\")"
   ]
  },
  {
   "cell_type": "markdown",
   "id": "a1c2aac6-1759-4c0f-8cba-d82b0dd4fbbc",
   "metadata": {},
   "source": [
    "## 4. Quadratic Equation Solver\n",
    "\n",
    "Write a Python script that solves a quadratic equation of the form \\(ax^2 + bx + c = 0\\) given user input for coefficients \\(a\\), \\(b\\), and \\(c\\). Display the solutions with appropriate messages.\n"
   ]
  },
  {
   "cell_type": "code",
   "execution_count": 4,
   "id": "16e6ce07-d479-4e33-af21-da57dfcb0966",
   "metadata": {},
   "outputs": [
    {
     "name": "stdin",
     "output_type": "stream",
     "text": [
      "Enter coefficient a:  4\n",
      "Enter coefficient b:  6\n",
      "Enter coefficient c:  2\n"
     ]
    },
    {
     "name": "stdout",
     "output_type": "stream",
     "text": [
      "Solutions: (-0.5+0j) and (-1+0j)\n"
     ]
    }
   ],
   "source": [
    "# Python Program for Quadratic Equation Solver\n",
    "import cmath\n",
    "\n",
    "a = float(input(\"Enter coefficient a: \"))\n",
    "b = float(input(\"Enter coefficient b: \"))\n",
    "c = float(input(\"Enter coefficient c: \"))\n",
    "\n",
    "# Calculate the discriminant\n",
    "discriminant = cmath.sqrt(b**2 - 4*a*c)\n",
    "\n",
    "# Solve the quadratic equation\n",
    "solution1 = (-b + discriminant) / (2*a)\n",
    "solution2 = (-b - discriminant) / (2*a)\n",
    "\n",
    "print(f\"Solutions: {solution1} and {solution2}\")"
   ]
  },
  {
   "cell_type": "markdown",
   "id": "060cb5b8-c09f-4af5-bb20-94d0fe06b6bb",
   "metadata": {},
   "source": [
    "## 5. Factorial Calculator\n",
    "\n",
    "Develop a Python program that calculates the factorial of a given non-negative integer entered by the user. Display the result with a suitable message.\n"
   ]
  },
  {
   "cell_type": "code",
   "execution_count": 5,
   "id": "bdd93972-fa82-402b-a1af-f00803a6f9fc",
   "metadata": {},
   "outputs": [
    {
     "name": "stdin",
     "output_type": "stream",
     "text": [
      "Enter a non-negative integer:  5\n"
     ]
    },
    {
     "name": "stdout",
     "output_type": "stream",
     "text": [
      "The factorial of 5 is 120.\n"
     ]
    }
   ],
   "source": [
    "# Python Program for Factorial Calculator\n",
    "def factorial(n):\n",
    "    if n == 0:\n",
    "        return 1\n",
    "    else:\n",
    "        return n * factorial(n-1)\n",
    "\n",
    "user_integer = int(input(\"Enter a non-negative integer: \"))\n",
    "result = factorial(user_integer)\n",
    "print(f\"The factorial of {user_integer} is {result}.\")"
   ]
  },
  {
   "cell_type": "markdown",
   "id": "924728c8-52ee-40bc-8af4-d7591c783754",
   "metadata": {},
   "source": [
    "## 6. Guess the Number Game\n",
    "\n",
    "Create a simple number-guessing game in Python. Generate a random number between 1 and 100, and allow the user to guess the number. Provide hints (higher or lower) until the correct number is guessed.\n"
   ]
  },
  {
   "cell_type": "code",
   "execution_count": 6,
   "id": "93794760-4f3a-4a68-8e68-f7e3b9e7d380",
   "metadata": {},
   "outputs": [
    {
     "name": "stdin",
     "output_type": "stream",
     "text": [
      "Guess the number (between 1 and 100):  50\n"
     ]
    },
    {
     "name": "stdout",
     "output_type": "stream",
     "text": [
      "Try again. The number is higher.\n"
     ]
    },
    {
     "name": "stdin",
     "output_type": "stream",
     "text": [
      "Guess the number (between 1 and 100):  60\n"
     ]
    },
    {
     "name": "stdout",
     "output_type": "stream",
     "text": [
      "Try again. The number is higher.\n"
     ]
    },
    {
     "name": "stdin",
     "output_type": "stream",
     "text": [
      "Guess the number (between 1 and 100):  70\n"
     ]
    },
    {
     "name": "stdout",
     "output_type": "stream",
     "text": [
      "Try again. The number is higher.\n"
     ]
    },
    {
     "name": "stdin",
     "output_type": "stream",
     "text": [
      "Guess the number (between 1 and 100):  90\n"
     ]
    },
    {
     "name": "stdout",
     "output_type": "stream",
     "text": [
      "Try again. The number is higher.\n"
     ]
    },
    {
     "name": "stdin",
     "output_type": "stream",
     "text": [
      "Guess the number (between 1 and 100):  95\n"
     ]
    },
    {
     "name": "stdout",
     "output_type": "stream",
     "text": [
      "Try again. The number is higher.\n"
     ]
    },
    {
     "name": "stdin",
     "output_type": "stream",
     "text": [
      "Guess the number (between 1 and 100):  96\n"
     ]
    },
    {
     "name": "stdout",
     "output_type": "stream",
     "text": [
      "Try again. The number is higher.\n"
     ]
    },
    {
     "name": "stdin",
     "output_type": "stream",
     "text": [
      "Guess the number (between 1 and 100):  97\n"
     ]
    },
    {
     "name": "stdout",
     "output_type": "stream",
     "text": [
      "Try again. The number is higher.\n"
     ]
    },
    {
     "name": "stdin",
     "output_type": "stream",
     "text": [
      "Guess the number (between 1 and 100):  98\n"
     ]
    },
    {
     "name": "stdout",
     "output_type": "stream",
     "text": [
      "Congratulations! You guessed the correct number.\n"
     ]
    }
   ],
   "source": [
    "# Python Program for Guess the Number Game\n",
    "import random\n",
    "\n",
    "target_number = random.randint(1, 100)\n",
    "\n",
    "while True:\n",
    "    user_guess = int(input(\"Guess the number (between 1 and 100): \"))\n",
    "\n",
    "    if user_guess == target_number:\n",
    "        print(\"Congratulations! You guessed the correct number.\")\n",
    "        break\n",
    "    elif user_guess < target_number:\n",
    "        print(\"Try again. The number is higher.\")\n",
    "    else:\n",
    "        print(\"Try again. The number is lower.\")"
   ]
  },
  {
   "cell_type": "markdown",
   "id": "d221b177-b8a0-428e-89f0-e6b188c605bf",
   "metadata": {},
   "source": [
    "## 7. List Operations\n",
    "\n",
    "Implement a Python program that performs the following operations on a list of numbers entered by the user:\n",
    "\n",
    "- Calculate the sum of the numbers.\n",
    "- Find the maximum and minimum values.\n",
    "- Sort the list in ascending order."
   ]
  },
  {
   "cell_type": "code",
   "execution_count": 7,
   "id": "6dc97fc1-3205-4669-912d-e61e54e1206a",
   "metadata": {},
   "outputs": [
    {
     "name": "stdin",
     "output_type": "stream",
     "text": [
      "Enter a list of numbers separated by spaces:  56 23 45 95\n"
     ]
    },
    {
     "name": "stdout",
     "output_type": "stream",
     "text": [
      "Sum of the numbers: 219.0\n",
      "Maximum value: 95.0\n",
      "Minimum value: 23.0\n",
      "Sorted list: [23.0, 45.0, 56.0, 95.0]\n"
     ]
    }
   ],
   "source": [
    "# Python Program for List Operations\n",
    "user_numbers = [float(x) for x in input(\"Enter a list of numbers separated by spaces: \").split()]\n",
    "\n",
    "# Calculate sum\n",
    "list_sum = sum(user_numbers)\n",
    "print(f\"Sum of the numbers: {list_sum}\")\n",
    "\n",
    "# Find maximum and minimum values\n",
    "max_value = max(user_numbers)\n",
    "min_value = min(user_numbers)\n",
    "print(f\"Maximum value: {max_value}\")\n",
    "print(f\"Minimum value: {min_value}\")\n",
    "\n",
    "# Sort the list\n",
    "sorted_list = sorted(user_numbers)\n",
    "print(f\"Sorted list: {sorted_list}\")"
   ]
  },
  {
   "cell_type": "markdown",
   "id": "7840cb16-9c49-494e-a271-2179ffc1c229",
   "metadata": {},
   "source": [
    "## 8. Currency Converter\n",
    "\n",
    "Write a Python program that converts an amount in one currency to another. Allow the user to input the amount, original currency, and target currency. Display the converted amount.\n"
   ]
  },
  {
   "cell_type": "code",
   "execution_count": 8,
   "id": "c1433561-8903-4e1f-800d-d0f542c32095",
   "metadata": {},
   "outputs": [
    {
     "name": "stdin",
     "output_type": "stream",
     "text": [
      "Enter the amount:  5000\n",
      "Enter the original currency (e.g., USD):  USD\n",
      "Enter the target currency (e.g., EUR):  EUR\n"
     ]
    },
    {
     "name": "stdout",
     "output_type": "stream",
     "text": [
      "5000.0 USD is equal to 4237.29 EUR.\n"
     ]
    }
   ],
   "source": [
    "# Python Program for Currency Converter\n",
    "exchange_rates = {\n",
    "    'USD': 1.18,  # Example exchange rate for USD to EUR\n",
    "    'EUR': 1.0    # Example exchange rate for EUR to USD\n",
    "}\n",
    "\n",
    "amount = float(input(\"Enter the amount: \"))\n",
    "original_currency = input(\"Enter the original currency (e.g., USD): \").upper()\n",
    "target_currency = input(\"Enter the target currency (e.g., EUR): \").upper()\n",
    "\n",
    "converted_amount = amount * exchange_rates[target_currency] / exchange_rates[original_currency]\n",
    "print(f\"{amount} {original_currency} is equal to {converted_amount:.2f} {target_currency}.\")"
   ]
  }
 ],
 "metadata": {
  "kernelspec": {
   "display_name": "Python 3 (ipykernel)",
   "language": "python",
   "name": "python3"
  },
  "language_info": {
   "codemirror_mode": {
    "name": "ipython",
    "version": 3
   },
   "file_extension": ".py",
   "mimetype": "text/x-python",
   "name": "python",
   "nbconvert_exporter": "python",
   "pygments_lexer": "ipython3",
   "version": "3.12.1"
  }
 },
 "nbformat": 4,
 "nbformat_minor": 5
}
