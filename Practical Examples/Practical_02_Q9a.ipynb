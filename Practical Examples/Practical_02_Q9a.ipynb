{
 "cells": [
  {
   "cell_type": "markdown",
   "id": "702dfa2a",
   "metadata": {},
   "source": [
    "\n",
    "\n",
    "### 5. Mutability and Immutability\n",
    "\n",
    "#### a. Modify List by Squaring Elements\n"
   ]
  },
  {
   "cell_type": "code",
   "execution_count": null,
   "id": "8e70772b",
   "metadata": {},
   "outputs": [],
   "source": [
    "\n",
    "def square_list_elements(input_list):\n",
    "    for i in range(len(input_list)):\n",
    "        input_list[i] **= 2\n",
    "\n",
    "# Example usage:\n",
    "numbers_list = [1, 2, 3, 4, 5]\n",
    "square_list_elements(numbers_list)\n",
    "print(numbers_list)\n"
   ]
  }
 ],
 "metadata": {},
 "nbformat": 4,
 "nbformat_minor": 5
}
