{
 "cells": [
  {
   "cell_type": "markdown",
   "id": "74e78030",
   "metadata": {},
   "source": [
    "\n",
    "\n",
    "#### b. Sum Numbers as Strings and Return Integer\n"
   ]
  },
  {
   "cell_type": "code",
   "execution_count": null,
   "id": "3bcd8de5",
   "metadata": {},
   "outputs": [],
   "source": [
    "\n",
    "def sum_numbers_as_strings(input_list):\n",
    "    try:\n",
    "        sum_result = sum(map(int, input_list))\n",
    "        return sum_result\n",
    "    except ValueError:\n",
    "        print(\"Error: One or more elements in the list is not a valid integer.\")\n",
    "\n",
    "# Example usage:\n",
    "numbers_as_strings = ['10', '20', '30', '40']\n",
    "result = sum_numbers_as_strings(numbers_as_strings)\n",
    "print(f\"The sum of the numbers is: {result}\")\n"
   ]
  }
 ],
 "metadata": {},
 "nbformat": 4,
 "nbformat_minor": 5
}
