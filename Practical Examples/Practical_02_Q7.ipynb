{
 "cells": [
  {
   "cell_type": "markdown",
   "id": "418ae83f",
   "metadata": {},
   "source": [
    "\n",
    "\n",
    "### 4. Set Operations\n",
    "\n",
    "#### a. Common Elements in Sets\n"
   ]
  },
  {
   "cell_type": "code",
   "execution_count": null,
   "id": "a100a863",
   "metadata": {},
   "outputs": [],
   "source": [
    "\n",
    "def find_common_elements(set1, set2):\n",
    "    return set1.intersection(set2)\n",
    "\n",
    "# Example usage:\n",
    "set_a = {1, 2, 3, 4, 5}\n",
    "set_b = {4, 5, 6, 7, 8}\n",
    "common_elements = find_common_elements(set_a, set_b)\n",
    "print(common_elements)\n"
   ]
  }
 ],
 "metadata": {},
 "nbformat": 4,
 "nbformat_minor": 5
}
