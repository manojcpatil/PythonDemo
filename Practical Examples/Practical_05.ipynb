{
 "cells": [
  {
   "cell_type": "markdown",
   "id": "57c2a4b8",
   "metadata": {},
   "source": [
    "\n",
    "\n",
    "#### b. Sum Numbers as Strings and Return Integer\n"
   ]
  },
  {
   "cell_type": "code",
   "execution_count": null,
   "id": "8591ec90",
   "metadata": {},
   "outputs": [],
   "source": [
    "\n",
    "def transpose_matrix(matrix):\n",
    "    return [[matrix[j][i] for j in range(len(matrix))] for i in range(len(matrix[0]))]\n",
    "\n",
    "# Example usage:\n",
    "matrix = [\n",
    "    [1, 2, 3],\n",
    "    [4, 5, 6],\n",
    "    [7, 8, 9]\n",
    "]\n",
    "transposed_matrix = transpose_matrix(matrix)\n",
    "print(\"Original Matrix:\")\n",
    "for row in matrix:\n",
    "    print(row)\n",
    "print(\"\n",
    "Transposed Matrix:\")\n",
    "for row in transposed_matrix:\n",
    "    print(row)\n"
   ]
  },
  {
   "cell_type": "markdown",
   "id": "a76b2eab",
   "metadata": {},
   "source": [
    "\n",
    "\n",
    "#### b. Sum Numbers as Strings and Return Integer\n"
   ]
  },
  {
   "cell_type": "code",
   "execution_count": null,
   "id": "08b5b1be",
   "metadata": {},
   "outputs": [],
   "source": [
    "\n",
    "def calculate_2x2_determinant(matrix):\n",
    "    return matrix[0][0] * matrix[1][1] - matrix[0][1] * matrix[1][0]\n",
    "\n",
    "def calculate_3x3_determinant(matrix):\n",
    "    return (\n",
    "        matrix[0][0] * (matrix[1][1] * matrix[2][2] - matrix[1][2] * matrix[2][1]) -\n",
    "        matrix[0][1] * (matrix[1][0] * matrix[2][2] - matrix[1][2] * matrix[2][0]) +\n",
    "        matrix[0][2] * (matrix[1][0] * matrix[2][1] - matrix[1][1] * matrix[2][0])\n",
    "    )\n",
    "\n",
    "# Example usage:\n",
    "matrix_2x2 = [\n",
    "    [4, 7],\n",
    "    [2, 6]\n",
    "]\n",
    "matrix_3x3 = [\n",
    "    [1, 2, 3],\n",
    "    [4, 5, 6],\n",
    "    [7, 8, 9]\n",
    "]\n",
    "determinant_2x2 = calculate_2x2_determinant(matrix_2x2)\n",
    "determinant_3x3 = calculate_3x3_determinant(matrix_3x3)\n",
    "print(f\"Determinant of 2x2 matrix: {determinant_2x2}\")\n",
    "print(f\"Determinant of 3x3 matrix: {determinant_3x3}\")\n"
   ]
  },
  {
   "cell_type": "markdown",
   "id": "5c7738cb",
   "metadata": {},
   "source": [
    "\n",
    "\n",
    "#### b. Sum Numbers as Strings and Return Integer\n"
   ]
  },
  {
   "cell_type": "code",
   "execution_count": null,
   "id": "26ecf6a7",
   "metadata": {},
   "outputs": [],
   "source": [
    "\n",
    "def calculate_2x2_inverse(matrix):\n",
    "    det = calculate_2x2_determinant(matrix)\n",
    "    if det == 0:\n",
    "        return None  # Matrix is singular, no inverse exists\n",
    "    else:\n",
    "        return [[matrix[1][1] / det, -matrix[0][1] / det], [-matrix[1][0] / det, matrix[0][0] / det]]\n",
    "\n",
    "# Example usage:\n",
    "matrix_2x2 = [\n",
    "    [4, 7],\n",
    "    [2, 6]\n",
    "]\n",
    "inverse_2x2 = calculate_2x2_inverse(matrix_2x2)\n",
    "print(\"Original Matrix:\")\n",
    "for row in matrix_2x2:\n",
    "    print(row)\n",
    "print(\"\n",
    "Inverse Matrix:\")\n",
    "if inverse_2x2:\n",
    "    for row in inverse_2x2:\n",
    "        print(row)\n",
    "else:\n",
    "    print(\"The matrix is singular, no inverse exists.\")\n"
   ]
  },
  {
   "cell_type": "markdown",
   "id": "3f265fd4",
   "metadata": {},
   "source": [
    "\n",
    "\n",
    "#### b. Sum Numbers as Strings and Return Integer\n"
   ]
  },
  {
   "cell_type": "code",
   "execution_count": null,
   "id": "e37d5bce",
   "metadata": {},
   "outputs": [],
   "source": [
    "\n",
    "def calculate_matrix_trace(matrix):\n",
    "    if len(matrix) != len(matrix[0]):\n",
    "        return None  # Not a square matrix, trace is undefined\n",
    "    else:\n",
    "        return sum(matrix[i][i] for i in range(len(matrix)))\n",
    "\n",
    "# Example usage:\n",
    "matrix_square = [\n",
    "    [1, 2, 3],\n",
    "    [4, 5, 6],\n",
    "    [7, 8, 9]\n",
    "]\n",
    "trace_result = calculate_matrix_trace(matrix_square)\n",
    "print(\"Matrix:\")\n",
    "for row in matrix_square:\n",
    "    print(row)\n",
    "print(f\"\n",
    "Matrix Trace: {trace_result}\")\n"
   ]
  },
  {
   "cell_type": "markdown",
   "id": "85873fd9",
   "metadata": {},
   "source": [
    "\n",
    "\n",
    "#### b. Sum Numbers as Strings and Return Integer\n"
   ]
  },
  {
   "cell_type": "code",
   "execution_count": null,
   "id": "dfa8288e",
   "metadata": {},
   "outputs": [],
   "source": [
    "\n",
    "from scipy.sparse import csr_matrix\n",
    "import numpy as np\n",
    "\n",
    "def perform_sparse_matrix_operations():\n",
    "    matrix_a = np.array([[1, 0, 0], [0, 0, 2], [3, 0, 0]])\n",
    "    matrix_b = np.array([[0, 4, 0], [0, 5, 0], [0, 0, 6]])\n",
    "\n",
    "    sparse_matrix_a = csr_matrix(matrix_a)\n",
    "    sparse_matrix_b = csr_matrix(matrix_b)\n",
    "\n",
    "    # Addition\n",
    "    addition_result = sparse_matrix_a + sparse_matrix_b\n",
    "    print(\"Addition Result:\")\n",
    "    print(addition_result.todense())\n",
    "\n",
    "    # Multiplication\n",
    "    multiplication_result = sparse_matrix_a.dot(sparse_matrix_b)\n",
    "    print(\"\n",
    "Multiplication Result:\")\n",
    "    print(multiplication_result.todense())\n",
    "\n",
    "# Example usage:\n",
    "perform_sparse_matrix_operations()\n"
   ]
  },
  {
   "cell_type": "markdown",
   "id": "bd9f7155",
   "metadata": {},
   "source": [
    "\n",
    "\n",
    "#### b. Sum Numbers as Strings and Return Integer\n"
   ]
  },
  {
   "cell_type": "code",
   "execution_count": null,
   "id": "93d25b48",
   "metadata": {},
   "outputs": [],
   "source": [
    "\n",
    "import numpy as np\n",
    "\n",
    "def calculate_eigenvalues_and_eigenvectors(matrix):\n",
    "    eigenvalues, eigenvectors = np.linalg.eig(matrix)\n",
    "    return eigenvalues, eigenvectors\n",
    "\n",
    "# Example usage:\n",
    "matrix_square = np.array([[1, 2], [2, 4]])\n",
    "eigenvalues, eigenvectors = calculate_eigenvalues_and_eigenvectors(matrix_square)\n",
    "print(\"Matrix:\")\n",
    "print(matrix_square)\n",
    "print(\"\n",
    "Eigenvalues:\")\n",
    "print(eigenvalues)\n",
    "print(\"\n",
    "Eigenvectors:\")\n",
    "print(eigenvectors)\n"
   ]
  },
  {
   "cell_type": "markdown",
   "id": "4420748a",
   "metadata": {},
   "source": [
    "\n",
    "\n",
    "#### b. Sum Numbers as Strings and Return Integer\n"
   ]
  },
  {
   "cell_type": "code",
   "execution_count": null,
   "id": "ebb50214",
   "metadata": {},
   "outputs": [],
   "source": [
    "\n",
    "def rotate_matrix_clockwise(matrix):\n",
    "    return [[matrix[j][i] for j in range(len(matrix))] for i in range(len(matrix[0])-1, -1, -1)]\n",
    "\n",
    "# Example usage:\n",
    "user_rows = int(input(\"Enter the number of rows: \"))\n",
    "user_cols = int(input(\"Enter the number of columns: \"))\n",
    "\n",
    "user_matrix = []\n",
    "for i in range(user_rows):\n",
    "    row = [int(input(f\"Enter element at position ({i+1}, {j+1}): \")) for j in range(user_cols)]\n",
    "    user_matrix.append(row)\n",
    "\n",
    "rotated_matrix = rotate_matrix_clockwise(user_matrix)\n",
    "print(\"\n",
    "Original Matrix:\")\n",
    "for row in user_matrix:\n",
    "    print(row)\n",
    "print(\"\n",
    "Rotated Matrix (90 degrees clockwise):\")\n",
    "for row in rotated_matrix:\n",
    "    print(row)\n"
   ]
  },
  {
   "cell_type": "markdown",
   "id": "2714be3a",
   "metadata": {},
   "source": [
    "\n",
    "\n",
    "#### b. Sum Numbers as Strings and Return Integer\n"
   ]
  },
  {
   "cell_type": "code",
   "execution_count": null,
   "id": "7647cf57",
   "metadata": {},
   "outputs": [],
   "source": [
    "\n",
    "import numpy as np\n",
    "\n",
    "def calculate_matrix_rank(matrix):\n",
    "    return np.linalg.matrix_rank(matrix)\n",
    "\n",
    "# Example usage:\n",
    "matrix_rank_example = np.array([[1, 2, 3], [4, 5, 6], [7, 8, 9]])\n",
    "rank_result = calculate_matrix_rank(matrix_rank_example)\n",
    "print(\"Matrix:\")\n",
    "print(matrix_rank_example)\n",
    "print(f\"\n",
    "Matrix Rank: {rank_result}\")\n"
   ]
  },
  {
   "cell_type": "code",
   "execution_count": 1,
   "id": "d500f038-4e0c-4c92-9784-9ee9fb8f5e3f",
   "metadata": {},
   "outputs": [
    {
     "name": "stdout",
     "output_type": "stream",
     "text": [
      "Combined notebook saved as 'Practical04.ipynb'.\n"
     ]
    }
   ],
   "source": [
    "import os\n",
    "import nbformat\n",
    "\n",
    "def combine_notebooks(combined_file_name='Practical04.ipynb'):\n",
    "    # Get a list of all .ipynb files in the current working directory\n",
    "    notebook_files = [file for file in os.listdir() if file.endswith('.ipynb')]\n",
    "\n",
    "    # Create a new combined notebook\n",
    "    combined_notebook = nbformat.v4.new_notebook()\n",
    "\n",
    "    # Iterate through each notebook file and append its content to the combined notebook\n",
    "    for notebook_file in notebook_files:\n",
    "        try:\n",
    "            # Read the content of the current notebook\n",
    "            with open(notebook_file, 'r', encoding='utf-8') as current_notebook_file:\n",
    "                current_notebook_content = nbformat.read(current_notebook_file, as_version=4)\n",
    "\n",
    "            # Append each cell from the current notebook to the combined notebook\n",
    "            for cell in current_notebook_content.cells:\n",
    "                combined_notebook.cells.append(cell)\n",
    "\n",
    "        except Exception as e:\n",
    "            print(f\"Error reading notebook '{notebook_file}': {e}\")\n",
    "\n",
    "    # Save the combined notebook\n",
    "    with open(combined_file_name, 'w', encoding='utf-8') as combined_notebook_file:\n",
    "        nbformat.write(combined_notebook, combined_notebook_file)\n",
    "\n",
    "    print(f\"Combined notebook saved as '{combined_file_name}'.\")\n",
    "\n",
    "# Example usage:\n",
    "combine_notebooks()\n"
   ]
  },
  {
   "cell_type": "code",
   "execution_count": null,
   "id": "1ec44f80-fa98-47a4-8fb9-1ba2fa296df7",
   "metadata": {},
   "outputs": [],
   "source": []
  }
 ],
 "metadata": {},
 "nbformat": 4,
 "nbformat_minor": 5
}
