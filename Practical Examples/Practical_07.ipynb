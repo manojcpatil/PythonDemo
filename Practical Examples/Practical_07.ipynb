{
 "cells": [
  {
   "cell_type": "markdown",
   "id": "3d6e90c2",
   "metadata": {},
   "source": [
    "\n",
    "\n",
    "#### b. Sum Numbers as Strings and Return Integer\n"
   ]
  },
  {
   "cell_type": "code",
   "execution_count": null,
   "id": "b4fc6c13",
   "metadata": {},
   "outputs": [],
   "source": [
    "\n",
    "import numpy as np\n",
    "\n",
    "def calculate_matrix_determinant(matrix):\n",
    "    return np.linalg.det(matrix)\n",
    "\n",
    "# Example usage:\n",
    "matrix_3x3 = np.array([[1, 2, 3], [4, 5, 6], [7, 8, 9]])\n",
    "determinant_3x3 = calculate_matrix_determinant(matrix_3x3)\n",
    "print(f\"Determinant of the 3x3 matrix: {determinant_3x3}\")\n"
   ]
  },
  {
   "cell_type": "markdown",
   "id": "2d214699",
   "metadata": {},
   "source": [
    "\n",
    "\n",
    "#### b. Sum Numbers as Strings and Return Integer\n"
   ]
  },
  {
   "cell_type": "code",
   "execution_count": null,
   "id": "034cf4b7",
   "metadata": {},
   "outputs": [],
   "source": [
    "\n",
    "import numpy as np\n",
    "\n",
    "def interactive_linear_system_solver():\n",
    "    n = int(input(\"Enter the number of variables: \"))\n",
    "    coeff_matrix = np.zeros((n, n))\n",
    "    constants_vector = np.zeros(n)\n",
    "\n",
    "    print(\"Enter the coefficient matrix:\")\n",
    "    for i in range(n):\n",
    "        coeff_matrix[i] = list(map(float, input().split()))\n",
    "\n",
    "    print(\"Enter the constants vector:\")\n",
    "    constants_vector = list(map(float, input().split()))\n",
    "\n",
    "    try:\n",
    "        solution = np.linalg.solve(coeff_matrix, constants_vector)\n",
    "        print(f\"Solution to the linear system: {solution}\")\n",
    "    except np.linalg.L\n",
    "\n",
    "inAlgError:\n",
    "        print(\"Error: The system may not have a unique solution.\")\n",
    "\n",
    "# Example usage:\n",
    "interactive_linear_system_solver()\n"
   ]
  },
  {
   "cell_type": "markdown",
   "id": "773d5845",
   "metadata": {},
   "source": [
    "\n",
    "\n",
    "#### b. Sum Numbers as Strings and Return Integer\n"
   ]
  },
  {
   "cell_type": "code",
   "execution_count": null,
   "id": "6f216b2c",
   "metadata": {},
   "outputs": [],
   "source": [
    "\n",
    "import numpy as np\n",
    "\n",
    "def has_unique_solution(coeff_matrix):\n",
    "    return np.linalg.matrix_rank(coeff_matrix) == np.linalg.matrix_rank(np.hstack((coeff_matrix, np.zeros((coeff_matrix.shape[0], 1)))))\n",
    "\n",
    "# Example usage:\n",
    "sample_matrix = np.array([[2, 3], [4, 6]])\n",
    "classification_result = has_unique_solution(sample_matrix)\n",
    "print(f\"The system has a unique solution: {classification_result}\")\n"
   ]
  },
  {
   "cell_type": "markdown",
   "id": "604a8a22",
   "metadata": {},
   "source": [
    "\n",
    "\n",
    "#### b. Sum Numbers as Strings and Return Integer\n"
   ]
  },
  {
   "cell_type": "code",
   "execution_count": null,
   "id": "93f931bf",
   "metadata": {},
   "outputs": [],
   "source": [
    "\n",
    "import numpy as np\n",
    "\n",
    "def solve_linear_system(coeff_matrix, constants_vector):\n",
    "    return np.linalg.solve(coeff_matrix, constants_vector)\n",
    "\n",
    "# Example usage:\n",
    "coeff_matrix = np.array([[2, 3], [4, 5]])\n",
    "constants_vector = np.array([7, 10])\n",
    "solution = solve_linear_system(coeff_matrix, constants_vector)\n",
    "print(f\"Solution to the linear system: {solution}\")\n"
   ]
  },
  {
   "cell_type": "markdown",
   "id": "a28fa8ac",
   "metadata": {},
   "source": [
    "\n",
    "\n",
    "#### b. Sum Numbers as Strings and Return Integer\n"
   ]
  },
  {
   "cell_type": "code",
   "execution_count": null,
   "id": "adee0c64",
   "metadata": {},
   "outputs": [],
   "source": [
    "\n",
    "import sympy as sp\n",
    "\n",
    "def solve_symbolic_system():\n",
    "    x, y = sp.symbols('x y')\n",
    "    eq1 = sp.Eq(2*x + 3*y, 7)\n",
    "    eq2 = sp.Eq(4*x + 5*y, 10)\n",
    "    solution = sp.solve((eq1, eq2), (x, y))\n",
    "    print(f\"Symbolic solution to the system: {solution}\")\n",
    "\n",
    "# Example usage:\n",
    "solve_symbolic_system()\n"
   ]
  },
  {
   "cell_type": "markdown",
   "id": "3722013d",
   "metadata": {},
   "source": [
    "\n",
    "\n",
    "#### b. Sum Numbers as Strings and Return Integer\n"
   ]
  },
  {
   "cell_type": "code",
   "execution_count": null,
   "id": "1f68b171",
   "metadata": {},
   "outputs": [],
   "source": [
    "\n",
    "import numpy as np\n",
    "\n",
    "def has_multiple_solutions(coeff_matrix):\n",
    "    return np.linalg.matrix_rank(coeff_matrix) < coeff_matrix.shape[1]\n",
    "\n",
    "# Example usage:\n",
    "sample_matrix_multiple_solutions = np.array([[2, 3, 4], [4, 6, 8]])\n",
    "multiple_solutions_result = has_multiple_solutions(sample_matrix_multiple_solutions)\n",
    "print(f\"The system has multiple solutions: {multiple_solutions_result}\")\n"
   ]
  },
  {
   "cell_type": "markdown",
   "id": "d71df7ec",
   "metadata": {},
   "source": [
    "\n",
    "\n",
    "#### b. Sum Numbers as Strings and Return Integer\n"
   ]
  },
  {
   "cell_type": "code",
   "execution_count": null,
   "id": "9177462e",
   "metadata": {},
   "outputs": [],
   "source": [
    "\n",
    "import numpy as np\n",
    "\n",
    "def solve_linear_system_with_error_handling(coeff_matrix, constants_vector):\n",
    "    try:\n",
    "        solution = np.linalg.solve(coeff_matrix, constants_vector)\n",
    "        return solution\n",
    "    except np.linalg.LinAlgError:\n",
    "        print(\"Error: The system may not have a unique solution.\")\n",
    "\n",
    "# Example usage:\n",
    "coeff_matrix_error_handling = np.array([[2, 3], [4, 6]])\n",
    "constants_vector_error_handling = np.array([7, 10])\n",
    "solution_error_handling = solve_linear_system_with_error_handling(coeff_matrix_error_handling, constants_vector_error_handling)\n",
    "if solution_error_handling is not None:\n",
    "    print(f\"Solution to the linear system: {solution_error_handling}\")\n"
   ]
  },
  {
   "cell_type": "markdown",
   "id": "dd53fa47",
   "metadata": {},
   "source": [
    "\n",
    "\n",
    "#### b. Sum Numbers as Strings and Return Integer\n"
   ]
  },
  {
   "cell_type": "code",
   "execution_count": null,
   "id": "16f63ab4",
   "metadata": {},
   "outputs": [],
   "source": [
    "\n",
    "import numpy as np\n",
    "\n",
    "def real_world_linear_system_solver():\n",
    "    # Imagine a scenario where you have prices and quantities of two products\n",
    "    # and you want to find the total revenue for each day.\n",
    "    prices_quantities_matrix = np.array([[10, 5], [8, 6], [12, 3]])  # Each row: [price_product1, quantity_product2]\n",
    "    total_revenue = np.dot(prices_quantities_matrix[:, 0], prices_quantities_matrix[:, 1])\n",
    "    print(f\"Total revenue for each day: {total_revenue}\")\n",
    "\n",
    "# Example usage:\n",
    "real_world_linear_system_solver()\n"
   ]
  },
  {
   "cell_type": "markdown",
   "id": "9e1ecb3a",
   "metadata": {},
   "source": [
    "\n",
    "\n",
    "#### b. Sum Numbers as Strings and Return Integer\n"
   ]
  },
  {
   "cell_type": "code",
   "execution_count": null,
   "id": "9c7b3772",
   "metadata": {},
   "outputs": [],
   "source": [
    "\n",
    "import numpy as np\n",
    "import sympy as sp\n",
    "\n",
    "def compare_solution_methods():\n",
    "    # Using NumPy\n",
    "    coeff_matrix_numpy = np.array([[2, 3], [4, 5]])\n",
    "    constants_vector_numpy = np.array([7, 10])\n",
    "    solution_numpy = np.linalg.solve(coeff_matrix_numpy, constants_vector_numpy)\n",
    "\n",
    "    # Using SymPy\n",
    "    x, y = sp.symbols('x y')\n",
    "    eq1 = sp.Eq(2*x + 3*y, 7)\n",
    "    eq2 = sp.Eq(4*x + 5*y, 10)\n",
    "    solution_sympy = sp.solve((eq1, eq2), (x, y))\n",
    "\n",
    "    print(f\"NumPy solution: {solution_numpy}\")\n",
    "    print(f\"SymPy solution: {solution_sympy}\")\n",
    "\n",
    "# Example usage:\n",
    "compare_solution_methods()\n"
   ]
  },
  {
   "cell_type": "markdown",
   "id": "b1024141",
   "metadata": {},
   "source": [
    "\n",
    "\n",
    "#### b. Sum Numbers as Strings and Return Integer\n"
   ]
  },
  {
   "cell_type": "code",
   "execution_count": null,
   "id": "4f9c4be0",
   "metadata": {},
   "outputs": [],
   "source": [
    "\n",
    "import numpy as np\n",
    "\n",
    "def solve_extended_system():\n",
    "    # Assume a 4x4 system\n",
    "    coeff_matrix_extended = np.array([[2, 3, 1, 5], [4, 5, 3, 2], [1, 2, 1, 4], [3, 4, 2, 1]])\n",
    "    constants_vector_extended = np.array([10, 12, 8, 7])\n",
    "    solution_extended = np.linalg.solve(coeff_matrix_extended, constants_vector_extended)\n",
    "    print(f\"Solution to the extended system: {solution_extended}\")\n",
    "\n",
    "# Example usage:\n",
    "solve_extended_system()\n"
   ]
  },
  {
   "cell_type": "code",
   "execution_count": 3,
   "id": "d500f038-4e0c-4c92-9784-9ee9fb8f5e3f",
   "metadata": {},
   "outputs": [
    {
     "name": "stdout",
     "output_type": "stream",
     "text": [
      "Combined notebook saved as 'Practical_06.ipynb'.\n"
     ]
    }
   ],
   "source": [
    "import os\n",
    "import nbformat\n",
    "\n",
    "def combine_notebooks(combined_file_name='Practical_07.ipynb'):\n",
    "    # Get a list of all .ipynb files in the current working directory\n",
    "    notebook_files = [file for file in os.listdir() if file.endswith('.ipynb')]\n",
    "\n",
    "    # Create a new combined notebook\n",
    "    combined_notebook = nbformat.v4.new_notebook()\n",
    "\n",
    "    # Iterate through each notebook file and append its content to the combined notebook\n",
    "    for notebook_file in notebook_files:\n",
    "        try:\n",
    "            # Read the content of the current notebook\n",
    "            with open(notebook_file, 'r', encoding='utf-8') as current_notebook_file:\n",
    "                current_notebook_content = nbformat.read(current_notebook_file, as_version=4)\n",
    "\n",
    "            # Append each cell from the current notebook to the combined notebook\n",
    "            for cell in current_notebook_content.cells:\n",
    "                combined_notebook.cells.append(cell)\n",
    "\n",
    "        except Exception as e:\n",
    "            print(f\"Error reading notebook '{notebook_file}': {e}\")\n",
    "\n",
    "    # Save the combined notebook\n",
    "    with open(combined_file_name, 'w', encoding='utf-8') as combined_notebook_file:\n",
    "        nbformat.write(combined_notebook, combined_notebook_file)\n",
    "\n",
    "    print(f\"Combined notebook saved as '{combined_file_name}'.\")\n",
    "\n",
    "# Example usage:\n",
    "combine_notebooks()\n"
   ]
  },
  {
   "cell_type": "code",
   "execution_count": null,
   "id": "1ec44f80-fa98-47a4-8fb9-1ba2fa296df7",
   "metadata": {},
   "outputs": [],
   "source": []
  }
 ],
 "metadata": {},
 "nbformat": 4,
 "nbformat_minor": 5
}
