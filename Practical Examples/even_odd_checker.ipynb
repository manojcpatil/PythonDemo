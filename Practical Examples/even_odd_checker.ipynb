{
 "cells": [
  {
   "cell_type": "markdown",
   "id": "59e2f380",
   "metadata": {},
   "source": [
    "\n",
    "## 3. Even or Odd Checker\n",
    "\n",
    "Create a Python program that prompts the user to enter an integer and checks if it's an even or odd number. Display a message indicating whether the number is even or odd.\n"
   ]
  },
  {
   "cell_type": "code",
   "execution_count": null,
   "id": "7fe6df31",
   "metadata": {},
   "outputs": [],
   "source": [
    "\n",
    "# Python Program for Even or Odd Checker\n",
    "user_number = int(input(\"Enter an integer: \"))\n",
    "\n",
    "if user_number % 2 == 0:\n",
    "    print(f\"{user_number} is an even number.\")\n",
    "else:\n",
    "    print(f\"{user_number} is an odd number.\")\n"
   ]
  }
 ],
 "metadata": {
  "kernelspec": {
   "display_name": "Python 3 (ipykernel)",
   "language": "python",
   "name": "python3"
  },
  "language_info": {
   "codemirror_mode": {
    "name": "ipython",
    "version": 3
   },
   "file_extension": ".py",
   "mimetype": "text/x-python",
   "name": "python",
   "nbconvert_exporter": "python",
   "pygments_lexer": "ipython3",
   "version": "3.12.1"
  }
 },
 "nbformat": 4,
 "nbformat_minor": 5
}
