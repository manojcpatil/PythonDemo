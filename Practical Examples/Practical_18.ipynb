{
 "cells": [
  {
   "cell_type": "markdown",
   "id": "e2e5a758-b2b2-4ae7-86ce-fcf45baba833",
   "metadata": {},
   "source": [
    "Write a Python function to calculate the mean and standard deviation of a numerical column in a\n",
    "Pandas DataFrame."
   ]
  },
  {
   "cell_type": "code",
   "execution_count": 14,
   "id": "5f850547-a0e7-4ea0-b03c-a2f004e1b2d1",
   "metadata": {},
   "outputs": [
    {
     "data": {
      "text/plain": [
       "(22.0, 0.816496580927726)"
      ]
     },
     "execution_count": 14,
     "metadata": {},
     "output_type": "execute_result"
    }
   ],
   "source": [
    "import pandas as pd\n",
    "import numpy as np\n",
    "data={'name':['Harshal','Ishwar','Gayatri','Harshada'],'Age':[22,23,21,22]}\n",
    "df=pd.DataFrame(data)\n",
    "def calculate_mean_std(df, column_name):\n",
    "\n",
    "  mean = df[column_name].mean()\n",
    "  std_dev = df[column_name].std()\n",
    "\n",
    "  return mean, std_dev\n",
    "\n",
    "calculate_mean_std(df,'Age')\n"
   ]
  },
  {
   "cell_type": "markdown",
   "id": "21bba728-77b4-49e5-980c-981d90c8c099",
   "metadata": {},
   "source": [
    "Develop a program to read a CSV file containing sales data into a Pandas DataFrame and calculate the total sales amount for each product"
   ]
  },
  {
   "cell_type": "code",
   "execution_count": null,
   "id": "5a7648aa-ecaf-40a1-979d-7eb44444887e",
   "metadata": {},
   "outputs": [],
   "source": []
  },
  {
   "cell_type": "markdown",
   "id": "585d8d3f-e2e3-4e03-92bf-a0d7c2e95556",
   "metadata": {},
   "source": [
    "Create a Pandas DataFrame with columns ’Height’ and ’Weight’. Write a function to calculate the BMI (Body Mass Index) for each individual."
   ]
  },
  {
   "cell_type": "code",
   "execution_count": 22,
   "id": "674d6621-c5ff-4342-9c1e-9a0132155cfb",
   "metadata": {},
   "outputs": [
    {
     "name": "stdout",
     "output_type": "stream",
     "text": [
      "          Name  Height  Weight\n",
      "0       Jayesh     165      60\n",
      "1       Rajesh     170      75\n",
      "2       Mukesh     169      68\n",
      "3     Prajakta     142      43\n",
      "4  Manikarnika     160      55\n",
      "5       Anjali     155      50\n",
      "          Name  Height  Weight  height_m        BMI\n",
      "0       Jayesh     165      60      1.65  22.038567\n",
      "1       Rajesh     170      75      1.70  25.951557\n",
      "2       Mukesh     169      68      1.69  23.808690\n",
      "3     Prajakta     142      43      1.42  21.325134\n",
      "4  Manikarnika     160      55      1.60  21.484375\n",
      "5       Anjali     155      50      1.55  20.811655\n"
     ]
    }
   ],
   "source": [
    "data1={'Name':['Jayesh','Rajesh','Mukesh','Prajakta','Manikarnika','Anjali'],\n",
    "       'Height':[165,170,169,142,160,155],\n",
    "       'Weight':[60,75,68,43,55,50]}\n",
    "\n",
    "df1=pd.DataFrame(data1)\n",
    "print(df1)\n",
    "\n",
    "def BMI_calculator(dataframe, height, weight):\n",
    "   \n",
    "    dataframe['height_m'] = dataframe[height] / 100\n",
    "    dataframe['BMI'] = dataframe[weight] / (dataframe['height_m'] ** 2)\n",
    "\n",
    "    return dataframe\n",
    "\n",
    "result = BMI_calculator(df1, 'Height', 'Weight')\n",
    "print(result)"
   ]
  },
  {
   "cell_type": "code",
   "execution_count": 20,
   "id": "f8e78de9-b301-4d80-8c68-becaea603fe8",
   "metadata": {},
   "outputs": [
    {
     "name": "stdout",
     "output_type": "stream",
     "text": [
      "          Name  Height  Weight\n",
      "0       Jayesh     165      60\n",
      "1       Rajesh     170      75\n",
      "2       Mukesh     169      68\n",
      "3     Prajakta     162      43\n",
      "4  Manikarnika     160      55\n",
      "5       Anjali     155      50\n",
      "          Name  Height  Weight  height_m        BMI\n",
      "0       Jayesh     165      60      1.65  22.038567\n",
      "1       Rajesh     170      75      1.70  25.951557\n",
      "2       Mukesh     169      68      1.69  23.808690\n",
      "3     Prajakta     162      43      1.62  16.384697\n",
      "4  Manikarnika     160      55      1.60  21.484375\n",
      "5       Anjali     155      50      1.55  20.811655\n"
     ]
    }
   ],
   "source": []
  },
  {
   "cell_type": "code",
   "execution_count": null,
   "id": "6ef287d4-33d0-43e6-8f29-1cc0df21c06d",
   "metadata": {},
   "outputs": [],
   "source": []
  },
  {
   "cell_type": "code",
   "execution_count": null,
   "id": "832c49d7-5632-4585-bcaf-25afb39048b3",
   "metadata": {},
   "outputs": [],
   "source": []
  },
  {
   "cell_type": "code",
   "execution_count": null,
   "id": "e15354e5-00e1-4bc4-9154-836b4fc96faa",
   "metadata": {},
   "outputs": [],
   "source": []
  },
  {
   "cell_type": "code",
   "execution_count": null,
   "id": "0320d95a-f002-4878-8379-96ba03852ad6",
   "metadata": {},
   "outputs": [],
   "source": []
  },
  {
   "cell_type": "code",
   "execution_count": null,
   "id": "7d6824ac-390c-4ad0-a9a2-c6e0622a37c7",
   "metadata": {},
   "outputs": [],
   "source": []
  }
 ],
 "metadata": {
  "kernelspec": {
   "display_name": "Python 3 (ipykernel)",
   "language": "python",
   "name": "python3"
  },
  "language_info": {
   "codemirror_mode": {
    "name": "ipython",
    "version": 3
   },
   "file_extension": ".py",
   "mimetype": "text/x-python",
   "name": "python",
   "nbconvert_exporter": "python",
   "pygments_lexer": "ipython3",
   "version": "3.12.1"
  }
 },
 "nbformat": 4,
 "nbformat_minor": 5
}
