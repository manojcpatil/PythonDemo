{
 "cells": [
  {
   "cell_type": "markdown",
   "id": "5354328d",
   "metadata": {},
   "source": [
    "\n",
    "\n",
    "#### b. Sum Numbers as Strings and Return Integer\n"
   ]
  },
  {
   "cell_type": "code",
   "execution_count": null,
   "id": "ac230727",
   "metadata": {},
   "outputs": [],
   "source": [
    "\n",
    "def calculate_factorial(n):\n",
    "    result = 1\n",
    "    for i in range(1, n + 1):\n",
    "        result *= i\n",
    "    return result\n",
    "\n",
    "# Example usage:\n",
    "user_number = int(input(\"Enter a positive integer: \"))\n",
    "factorial_result = calculate_factorial(user_number)\n",
    "print(f\"The factorial of {user_number} is: {factorial_result}\")\n"
   ]
  },
  {
   "cell_type": "markdown",
   "id": "133ca614",
   "metadata": {},
   "source": [
    "\n",
    "\n",
    "#### b. Sum Numbers as Strings and Return Integer\n"
   ]
  },
  {
   "cell_type": "code",
   "execution_count": null,
   "id": "8a67da4b",
   "metadata": {},
   "outputs": [],
   "source": [
    "\n",
    "def is_palindrome(input_str):\n",
    "    cleaned_str = ''.join(char.lower() for char in input_str if char.isalnum())\n",
    "    return cleaned_str == cleaned_str[::-1]\n",
    "\n",
    "# Example usage:\n",
    "user_input = input(\"Enter a string: \")\n",
    "if is_palindrome(user_input):\n",
    "    print(f\"{user_input} is a palindrome.\")\n",
    "else:\n",
    "    print(f\"{user_input} is not a palindrome.\")\n"
   ]
  },
  {
   "cell_type": "markdown",
   "id": "01b529e5",
   "metadata": {},
   "source": [
    "\n",
    "\n",
    "#### b. Sum Numbers as Strings and Return Integer\n"
   ]
  },
  {
   "cell_type": "code",
   "execution_count": null,
   "id": "412b22e0",
   "metadata": {},
   "outputs": [],
   "source": [
    "\n",
    "def generate_multiplication_table(n):\n",
    "    for i in range(1, 11):\n",
    "        print(f\"{n} x {i} = {n*i}\")\n",
    "\n",
    "# Example usage:\n",
    "user_number = int(input(\"Enter an integer: \"))\n",
    "generate_multiplication_table(user_number)\n"
   ]
  },
  {
   "cell_type": "markdown",
   "id": "208dac3f",
   "metadata": {},
   "source": [
    "\n",
    "\n",
    "#### b. Sum Numbers as Strings and Return Integer\n"
   ]
  },
  {
   "cell_type": "code",
   "execution_count": null,
   "id": "1fbb5091",
   "metadata": {},
   "outputs": [],
   "source": [
    "\n",
    "def generate_fibonacci_sequence(limit):\n",
    "    fib_sequence = [0, 1]\n",
    "    while fib_sequence[-1] + fib_sequence[-2] <= limit:\n",
    "        fib_sequence.append(fib_sequence[-1] + fib_sequence[-2])\n",
    "    print(\"Fibonacci Sequence:\", fib_sequence)\n",
    "\n",
    "# Example usage:\n",
    "user_limit = int(input(\"Enter a limit for the Fibonacci sequence: \"))\n",
    "generate_fibonacci_sequence(user_limit)\n"
   ]
  },
  {
   "cell_type": "markdown",
   "id": "ebc21f33",
   "metadata": {},
   "source": [
    "\n",
    "\n",
    "#### b. Sum Numbers as Strings and Return Integer\n"
   ]
  },
  {
   "cell_type": "code",
   "execution_count": null,
   "id": "5259b7bb",
   "metadata": {},
   "outputs": [],
   "source": [
    "\n",
    "def is_prime(number):\n",
    "    if number < 2:\n",
    "        return False\n",
    "    for i in range(2, int(number**0.5) + 1):\n",
    "        if number % i == 0:\n",
    "            return False\n",
    "    return True\n",
    "\n",
    "# Example usage:\n",
    "user_number = int(input(\"Enter a number: \"))\n",
    "if is_prime(user_number):\n",
    "    print(f\"{user_number} is a prime number.\")\n",
    "else:\n",
    "    print(f\"{user_number} is not a prime number.\")\n"
   ]
  },
  {
   "cell_type": "markdown",
   "id": "a5777728",
   "metadata": {},
   "source": [
    "\n",
    "\n",
    "#### b. Sum Numbers as Strings and Return Integer\n"
   ]
  },
  {
   "cell_type": "code",
   "execution_count": null,
   "id": "8e849256",
   "metadata": {},
   "outputs": [],
   "source": [
    "\n",
    "def print_pyramid(height):\n",
    "    for i in range(1, height + 1):\n",
    "        spaces = ' ' * (height - i)\n",
    "        stars = '*' * (2*i - 1)\n",
    "        print(spaces + stars)\n",
    "\n",
    "# Example usage:\n",
    "user_height = int(input(\"Enter the height of the pyramid: \"))\n",
    "print_pyramid(user_height)\n"
   ]
  },
  {
   "cell_type": "markdown",
   "id": "07358b44",
   "metadata": {},
   "source": [
    "\n",
    "\n",
    "#### b. Sum Numbers as Strings and Return Integer\n"
   ]
  },
  {
   "cell_type": "code",
   "execution_count": null,
   "id": "ffb48d59",
   "metadata": {},
   "outputs": [],
   "source": [
    "\n",
    "import random\n",
    "\n",
    "def play_rps_game():\n",
    "    choices = ['rock', 'paper', 'scissors']\n",
    "    \n",
    "    while True:\n",
    "        user_choice = input(\"Enter your choice (rock, paper, scissors) or 'exit' to end: \").lower()\n",
    "        \n",
    "        if user_choice == 'exit':\n",
    "            break\n",
    "\n",
    "        if user_choice in choices:\n",
    "            computer_choice = random.choice(choices)\n",
    "            print(f\"Computer chose {computer_choice}\")\n",
    "\n",
    "            if user_choice == computer_choice:\n",
    "                print(\"It's a tie!\")\n",
    "            elif (user_choice == 'rock' and computer_choice == 'scissors') or                  (user_choice == 'paper' and computer_choice == 'rock') or                  (user_choice == 'scissors' and computer_choice == 'paper'):\n",
    "                print(\"You win!\")\n",
    "            else:\n",
    "                print(\"Computer wins!\")\n",
    "        else:\n",
    "            print(\"Invalid choice. Please enter rock, paper, or scissors.\")\n",
    "\n",
    "# Example usage:\n",
    "play_rps_game()\n"
   ]
  },
  {
   "cell_type": "markdown",
   "id": "53417aaa",
   "metadata": {},
   "source": [
    "\n",
    "\n",
    "#### b. Sum Numbers as Strings and Return Integer\n"
   ]
  },
  {
   "cell_type": "code",
   "execution_count": null,
   "id": "ff48ceaa",
   "metadata": {},
   "outputs": [],
   "source": [
    "\n",
    "def calculate_power(base, exponent):\n",
    "    result = 1\n",
    "    for _ in range(exponent):\n",
    "        result *= base\n",
    "    return result\n",
    "\n",
    "# Example usage:\n",
    "user_base = float(input(\"Enter the base: \"))\n",
    "user_exponent = int(input(\"Enter the exponent: \"))\n",
    "power_result = calculate_power(user_base, user_exponent)\n",
    "print(f\"{user_base} raised to the power {user_exponent} is: {power_result}\")\n"
   ]
  }
 ],
 "metadata": {},
 "nbformat": 4,
 "nbformat_minor": 5
}
