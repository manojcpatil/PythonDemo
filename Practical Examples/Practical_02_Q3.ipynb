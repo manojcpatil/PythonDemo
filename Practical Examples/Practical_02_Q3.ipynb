{
 "cells": [
  {
   "cell_type": "markdown",
   "id": "381f3636",
   "metadata": {},
   "source": [
    "\n",
    "\n",
    "### 2. Tuple Operations\n",
    "\n",
    "#### a. Sort Tuple Alphabetically\n"
   ]
  },
  {
   "cell_type": "code",
   "execution_count": null,
   "id": "cdfc7a68",
   "metadata": {},
   "outputs": [],
   "source": [
    "\n",
    "def sort_tuple_alphabetically(input_tuple):\n",
    "    sorted_tuple = tuple(sorted(input_tuple))\n",
    "    print(sorted_tuple)\n",
    "\n",
    "# Example usage:\n",
    "string_tuple = ('banana', 'apple', 'orange', 'grape')\n",
    "sort_tuple_alphabetically(string_tuple)\n"
   ]
  }
 ],
 "metadata": {},
 "nbformat": 4,
 "nbformat_minor": 5
}
