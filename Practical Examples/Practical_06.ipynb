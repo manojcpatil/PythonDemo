{
 "cells": [
  {
   "cell_type": "markdown",
   "id": "ca491393",
   "metadata": {},
   "source": [
    "\n",
    "\n",
    "#### b. Sum Numbers as Strings and Return Integer\n"
   ]
  },
  {
   "cell_type": "code",
   "execution_count": null,
   "id": "28ba4aaa",
   "metadata": {},
   "outputs": [],
   "source": [
    "\n",
    "import numpy as np\n",
    "\n",
    "# Example usage:\n",
    "matrix_2x2 = np.array([[4, 7], [2, 6]])\n",
    "determinant_2x2 = np.linalg.det(matrix_2x2)\n",
    "print(f\"Determinant of 2x2 matrix: {determinant_2x2}\")\n"
   ]
  },
  {
   "cell_type": "markdown",
   "id": "e7f8f66f",
   "metadata": {},
   "source": [
    "\n",
    "\n",
    "#### b. Sum Numbers as Strings and Return Integer\n"
   ]
  },
  {
   "cell_type": "code",
   "execution_count": null,
   "id": "8d264ce0",
   "metadata": {},
   "outputs": [],
   "source": [
    "\n",
    "import numpy as np\n",
    "\n",
    "def calculate_3x3_determinant(matrix):\n",
    "    return np.linalg.det(matrix)\n",
    "\n",
    "# Example usage:\n",
    "matrix_3x3 = np.array([[1, 2, 3], [4, 5, 6], [7, 8, 9]])\n",
    "determinant_3x3 = calculate_3x3_determinant(matrix_3x3)\n",
    "print(f\"Determinant of 3x3 matrix: {determinant_3x3}\")\n"
   ]
  },
  {
   "cell_type": "markdown",
   "id": "fa3a8b53",
   "metadata": {},
   "source": [
    "\n",
    "\n",
    "#### b. Sum Numbers as Strings and Return Integer\n"
   ]
  },
  {
   "cell_type": "code",
   "execution_count": null,
   "id": "273f818a",
   "metadata": {},
   "outputs": [],
   "source": [
    "\n",
    "import numpy as np\n",
    "\n",
    "def is_matrix_invertible(matrix):\n",
    "    determinant = np.linalg.det(matrix)\n",
    "    return not np.isclose(determinant, 0)\n",
    "\n",
    "# Example usage:\n",
    "matrix_square = np.array([[2, 1], [4, 3]])\n",
    "invertible_check = is_matrix_invertible(matrix_square)\n",
    "print(f\"The matrix is invertible: {invertible_check}\")\n"
   ]
  },
  {
   "cell_type": "markdown",
   "id": "01b679a1",
   "metadata": {},
   "source": [
    "\n",
    "\n",
    "#### b. Sum Numbers as Strings and Return Integer\n"
   ]
  },
  {
   "cell_type": "code",
   "execution_count": null,
   "id": "ccf70124",
   "metadata": {},
   "outputs": [],
   "source": [
    "\n",
    "import numpy as np\n",
    "\n",
    "def calculate_matrix_inverse(matrix):\n",
    "    try:\n",
    "        inverse_matrix = np.linalg.inv(matrix)\n",
    "        return inverse_matrix\n",
    "    except np.linalg.LinAlgError:\n",
    "        print(\"Matrix is not invertible.\")\n",
    "\n",
    "# Example usage:\n",
    "matrix_invertible = np.array([[2, 1], [4, 3]])\n",
    "inverse_result = calculate_matrix_inverse(matrix_invertible)\n",
    "if inverse_result is not None:\n",
    "    print(\"Original Matrix:\")\n",
    "    print(matrix_invertible)\n",
    "    print(\"\n",
    "Inverse Matrix:\")\n",
    "    print(inverse_result)\n"
   ]
  },
  {
   "cell_type": "markdown",
   "id": "f42abef0",
   "metadata": {},
   "source": [
    "\n",
    "\n",
    "#### b. Sum Numbers as Strings and Return Integer\n"
   ]
  },
  {
   "cell_type": "code",
   "execution_count": null,
   "id": "7ea45d76",
   "metadata": {},
   "outputs": [],
   "source": [
    "\n",
    "import numpy as np\n",
    "\n",
    "def solve_linear_equations_2x2(coeff_matrix, constants_vector):\n",
    "    determinant = np.linalg.det(coeff_matrix)\n",
    "    if not np.isclose(determinant, 0):\n",
    "        solution_vector = np.linalg.solve(coeff_matrix, constants_vector)\n",
    "        return solution_vector\n",
    "    else:\n",
    "        print(\"The system may not have a unique solution.\")\n",
    "\n",
    "# Example usage:\n",
    "coeff_matrix_2x2 = np.array([[2, -1], [1, 3]])\n",
    "constants_vector_2x2 = np.array([1, 7])\n",
    "solution_2x2 = solve_linear_equations_2x2(coeff_matrix_2x2, constants_vector_2x2)\n",
    "print(f\"Solution to the 2x2 system: {solution_2x2}\")\n"
   ]
  },
  {
   "cell_type": "markdown",
   "id": "4dfff8f0",
   "metadata": {},
   "source": [
    "\n",
    "\n",
    "#### b. Sum Numbers as Strings and Return Integer\n"
   ]
  },
  {
   "cell_type": "code",
   "execution_count": null,
   "id": "881710b8",
   "metadata": {},
   "outputs": [],
   "source": [
    "\n",
    "import numpy as np\n",
    "\n",
    "def solve_linear_equations_3x3(coeff_matrix, constants_vector):\n",
    "    determinant = np.linalg.det(coeff_matrix)\n",
    "    if not np.isclose(determinant, 0):\n",
    "        solution_vector = np.linalg.solve(coeff_matrix, constants_vector)\n",
    "        return solution_vector\n",
    "    else:\n",
    "        print(\"The system may not have a unique solution.\")\n",
    "\n",
    "# Example usage:\n",
    "coeff_matrix_3x3 = np.array([[1, 2, 3], [4, 5, 6], [7, 8, 9]])\n",
    "constants_vector_3x3 = np.array([10, 11, 12])\n",
    "solution_3x3 = solve_linear_equations_3x3(coeff_matrix_3x3, constants_vector_3x3)\n",
    "print(f\"Solution to the 3x3 system: {solution_3x3}\")\n"
   ]
  },
  {
   "cell_type": "markdown",
   "id": "e99c071e",
   "metadata": {},
   "source": [
    "\n",
    "\n",
    "#### b. Sum Numbers as Strings and Return Integer\n"
   ]
  },
  {
   "cell_type": "code",
   "execution_count": null,
   "id": "7c175171",
   "metadata": {},
   "outputs": [],
   "source": [
    "\n",
    "import numpy as np\n",
    "\n",
    "def geometry_transformation(matrix):\n",
    "    determinant = np.linalg.det(matrix)\n",
    "    if np.isclose(determinant, 1):\n",
    "        print(\"The transformation is a rotation.\")\n",
    "    elif np.isclose(determinant, -1):\n",
    "        print(\"The transformation is a reflection.\")\n",
    "    else:\n",
    "        print(\"The transformation is a combination of scaling and/or shearing.\")\n",
    "\n",
    "# Example usage:\n",
    "transformation_matrix = np.array([[0, -1], [1, 0]])\n",
    "geometry_transformation(transformation_matrix)\n"
   ]
  },
  {
   "cell_type": "markdown",
   "id": "8f0ee0b2",
   "metadata": {},
   "source": [
    "\n",
    "\n",
    "#### b. Sum Numbers as Strings and Return Integer\n"
   ]
  },
  {
   "cell_type": "code",
   "execution_count": null,
   "id": "f9417c6b",
   "metadata": {},
   "outputs": [],
   "source": [
    "\n",
    "import numpy as np\n",
    "\n",
    "def calculate_4x4_determinant(matrix):\n",
    "    determinant = 0\n",
    "    for i in range(4):\n",
    "        determinant += (-1) ** i * matrix[0][i] * np.linalg.det(np.delete(np.delete(matrix, 0, axis=0), i, axis=1))\n",
    "    return determinant\n",
    "\n",
    "# Example usage:\n",
    "matrix_4x4 = np.array([[1, 2, 3, 4], [5, 6, 7, 8], [9, 10, 11, 12], [13, 14, 15, 16]])\n",
    "determinant_4x4 = calculate_4x4_determinant(matrix_4x4)\n",
    "print(f\"Determinant of 4x4 matrix using Laplace Expansion: {determinant_4x4}\")\n"
   ]
  },
  {
   "cell_type": "markdown",
   "id": "dc94ab5d",
   "metadata": {},
   "source": [
    "\n",
    "\n",
    "#### b. Sum Numbers as Strings and Return Integer\n"
   ]
  },
  {
   "cell_type": "code",
   "execution_count": null,
   "id": "2e12245e",
   "metadata": {},
   "outputs": [],
   "source": [
    "\n",
    "import numpy as np\n",
    "\n",
    "def solve_random_matrix_system():\n",
    "    random_matrix = np.random.randint(1, 10, size=(3, 3))\n",
    "    constants_vector = np.random.randint(1, 10, size=3)\n",
    "    \n",
    "    print(\"Random Matrix:\")\n",
    "    print(random_matrix)\n",
    "    print(\"\n",
    "Constants Vector:\")\n",
    "    print(constants_vector)\n",
    "    \n",
    "    solution = np.linalg.solve(random_matrix, constants_vector)\n",
    "    print(\"\n",
    "Solution to the system:\")\n",
    "    print(solution)\n",
    "\n",
    "# Example usage:\n",
    "solve_random_matrix_system()\n"
   ]
  },
  {
   "cell_type": "code",
   "execution_count": 2,
   "id": "d500f038-4e0c-4c92-9784-9ee9fb8f5e3f",
   "metadata": {},
   "outputs": [
    {
     "name": "stdout",
     "output_type": "stream",
     "text": [
      "Combined notebook saved as 'Practical05.ipynb'.\n"
     ]
    }
   ],
   "source": [
    "import os\n",
    "import nbformat\n",
    "\n",
    "def combine_notebooks(combined_file_name='Practical05.ipynb'):\n",
    "    # Get a list of all .ipynb files in the current working directory\n",
    "    notebook_files = [file for file in os.listdir() if file.endswith('.ipynb')]\n",
    "\n",
    "    # Create a new combined notebook\n",
    "    combined_notebook = nbformat.v4.new_notebook()\n",
    "\n",
    "    # Iterate through each notebook file and append its content to the combined notebook\n",
    "    for notebook_file in notebook_files:\n",
    "        try:\n",
    "            # Read the content of the current notebook\n",
    "            with open(notebook_file, 'r', encoding='utf-8') as current_notebook_file:\n",
    "                current_notebook_content = nbformat.read(current_notebook_file, as_version=4)\n",
    "\n",
    "            # Append each cell from the current notebook to the combined notebook\n",
    "            for cell in current_notebook_content.cells:\n",
    "                combined_notebook.cells.append(cell)\n",
    "\n",
    "        except Exception as e:\n",
    "            print(f\"Error reading notebook '{notebook_file}': {e}\")\n",
    "\n",
    "    # Save the combined notebook\n",
    "    with open(combined_file_name, 'w', encoding='utf-8') as combined_notebook_file:\n",
    "        nbformat.write(combined_notebook, combined_notebook_file)\n",
    "\n",
    "    print(f\"Combined notebook saved as '{combined_file_name}'.\")\n",
    "\n",
    "# Example usage:\n",
    "combine_notebooks()\n"
   ]
  },
  {
   "cell_type": "code",
   "execution_count": null,
   "id": "1ec44f80-fa98-47a4-8fb9-1ba2fa296df7",
   "metadata": {},
   "outputs": [],
   "source": []
  }
 ],
 "metadata": {},
 "nbformat": 4,
 "nbformat_minor": 5
}
