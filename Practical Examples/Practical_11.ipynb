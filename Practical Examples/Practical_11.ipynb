{
 "cells": [
  {
   "cell_type": "markdown",
   "id": "eab31b48-3e75-42eb-88dc-d88f5e907865",
   "metadata": {},
   "source": [
    "#### 1. SquaresList: Create a list of the squares of numbers from 1 to 10 using a list comprehension.\n"
   ]
  },
  {
   "cell_type": "code",
   "execution_count": 1,
   "id": "741388ab-7cf9-4c65-97d8-6be94d3fb0f6",
   "metadata": {},
   "outputs": [
    {
     "name": "stdout",
     "output_type": "stream",
     "text": [
      "[1, 4, 9, 16, 25, 36, 49, 64, 81, 100]\n"
     ]
    }
   ],
   "source": [
    "squares_list = [x**2 for x in range(1, 11)]\n",
    "print(squares_list)"
   ]
  },
  {
   "cell_type": "markdown",
   "id": "29af6047-ebe4-47d8-ba4f-859d79a468c6",
   "metadata": {},
   "source": [
    "#### 2. Filter EvenNumbers: Generate a list of even numbers from 1to20usingalist comprehension.\n",
    " \n"
   ]
  },
  {
   "cell_type": "code",
   "execution_count": 2,
   "id": "f2e739d7-4ada-40c6-91a0-0bc3ea8bbfe3",
   "metadata": {},
   "outputs": [
    {
     "name": "stdout",
     "output_type": "stream",
     "text": [
      "[2, 4, 6, 8, 10, 12, 14, 16, 18, 20]\n"
     ]
    }
   ],
   "source": [
    "even_numbers = [x for x in range(1, 21) if x % 2 == 0]\n",
    "print(even_numbers)"
   ]
  },
  {
   "cell_type": "markdown",
   "id": "ef378e9a-5adb-4a77-b193-13ba0707b87c",
   "metadata": {},
   "source": [
    "#### 3. NestedListComprehension: Createa2Dmatrix(listoflists) withelementsastuples (x, y) for all x and y from 1 to 3 using nested list comprehensions."
   ]
  },
  {
   "cell_type": "code",
   "execution_count": 3,
   "id": "84297884-633c-42ab-8791-b84ab9c32ea2",
   "metadata": {},
   "outputs": [
    {
     "name": "stdout",
     "output_type": "stream",
     "text": [
      "[(1, 1), (1, 2), (1, 3), (2, 1), (2, 2), (2, 3), (3, 1), (3, 2), (3, 3)]\n"
     ]
    }
   ],
   "source": [
    "matrix = [(x, y) for x in range(1, 4) for y in range(1, 4)]\n",
    "print(matrix)"
   ]
  },
  {
   "cell_type": "markdown",
   "id": "039bc272-f1bb-48e8-90ad-84423f71d314",
   "metadata": {},
   "source": [
    "#### 4. Conditional List Comprehension: Generate a list of cubes of numbers from 1 to 10 but only include cubes that are divisible by 4"
   ]
  },
  {
   "cell_type": "code",
   "execution_count": 4,
   "id": "a9ea5569-0083-40ac-923a-fb1654e5ff9e",
   "metadata": {},
   "outputs": [
    {
     "name": "stdout",
     "output_type": "stream",
     "text": [
      "[8, 64, 216, 512, 1000]\n"
     ]
    }
   ],
   "source": [
    "cubes_divisible_by_4 = [x**3 for x in range(1, 11) if x**3 % 4 == 0]\n",
    "print(cubes_divisible_by_4)"
   ]
  },
  {
   "cell_type": "markdown",
   "id": "7f988231-66f8-4052-b96e-147b252cb870",
   "metadata": {},
   "source": [
    "#### 5. String Transformation: Given a list of strings, create a new list containing the lengths of strings that have morethanthree characters.\n",
    " \n",
    "\n",
    "\n",
    " \n",
    " "
   ]
  },
  {
   "cell_type": "code",
   "execution_count": 5,
   "id": "2ad740d4-6136-4da7-ab25-aa1fbe56605a",
   "metadata": {},
   "outputs": [
    {
     "name": "stdout",
     "output_type": "stream",
     "text": [
      "[5, 6, 4, 4, 6]\n"
     ]
    }
   ],
   "source": [
    "strings = [\"apple\", \"banana\", \"kiwi\", \"pear\", \"orange\"]\n",
    "lengths_greater_than_3 = [len(s) for s in strings if len(s) > 3]\n",
    "print(lengths_greater_than_3)"
   ]
  },
  {
   "cell_type": "markdown",
   "id": "5e06c3bb-f01c-4683-bbed-83047b303e35",
   "metadata": {},
   "source": [
    "#### 6. List Transformation: Given a list of integers, create a new list with each element doubled using a list comprehension."
   ]
  },
  {
   "cell_type": "code",
   "execution_count": 6,
   "id": "a231a9a3-cb45-4d63-af9f-d6a46215996f",
   "metadata": {},
   "outputs": [
    {
     "name": "stdout",
     "output_type": "stream",
     "text": [
      "[4, 10, 16, 20, 30]\n"
     ]
    }
   ],
   "source": [
    "original_list = [2, 5, 8, 10, 15]\n",
    "doubled_list = [2 * x for x in original_list]\n",
    "print(doubled_list)"
   ]
  },
  {
   "cell_type": "markdown",
   "id": "4a246ad9-3fa5-4d95-9796-ca5eec5f3b83",
   "metadata": {},
   "source": [
    "#### 7. List of Tuples: Create a list of tuples where each tuple consists of an integer and its square, for integers from 1 to 5."
   ]
  },
  {
   "cell_type": "code",
   "execution_count": 7,
   "id": "9f8e16b8-dd31-4225-bcd3-0563f6b108b0",
   "metadata": {},
   "outputs": [
    {
     "name": "stdout",
     "output_type": "stream",
     "text": [
      "[(1, 1), (2, 4), (3, 9), (4, 16), (5, 25)]\n"
     ]
    }
   ],
   "source": [
    "tuples_list = [(x, x**2) for x in range(1, 6)]\n",
    "print(tuples_list)"
   ]
  },
  {
   "cell_type": "markdown",
   "id": "9660b92a-f360-4573-b322-2443745f5140",
   "metadata": {},
   "source": [
    "#### 8. PrimeNumbers: Generatealist ofprimenumbersbetween1and50usingalistcomprehension."
   ]
  },
  {
   "cell_type": "code",
   "execution_count": 8,
   "id": "12308a6c-8442-4a75-bba6-bb34fbeb8935",
   "metadata": {},
   "outputs": [
    {
     "name": "stdout",
     "output_type": "stream",
     "text": [
      "[2, 3, 5, 7, 11, 13, 17, 19, 23, 29, 31, 37, 41, 43, 47]\n"
     ]
    }
   ],
   "source": [
    "def is_prime(num):\n",
    "    if num < 2:\n",
    "        return False\n",
    "    for i in range(2, int(num**0.5) + 1):\n",
    "        if num % i == 0:\n",
    "            return False\n",
    "    return True\n",
    "\n",
    "prime_numbers = [x for x in range(1, 51) if is_prime(x)]\n",
    "print(prime_numbers)"
   ]
  },
  {
   "cell_type": "markdown",
   "id": "b722b48e-fa5d-4ce4-9565-4aebc96af535",
   "metadata": {},
   "source": [
    "#### 9. CharacterFrequencies: Givenastring, create a dictionary containing the frequency of each character using a list comprehension."
   ]
  },
  {
   "cell_type": "code",
   "execution_count": 9,
   "id": "38775c10-d7ff-4c70-b84e-fd39162e49c3",
   "metadata": {},
   "outputs": [
    {
     "name": "stdout",
     "output_type": "stream",
     "text": [
      "{'r': 1, 'h': 1, 'o': 2, 'l': 3, 'w': 1, 'e': 1, 'd': 1, ' ': 1}\n"
     ]
    }
   ],
   "source": [
    "input_string = \"hello world\"\n",
    "char_freq_dict = {char: input_string.count(char) for char in set(input_string)}\n",
    "print(char_freq_dict)"
   ]
  },
  {
   "cell_type": "markdown",
   "id": "7609a8c5-845d-42c3-90a6-39f16d6b90fe",
   "metadata": {},
   "source": [
    "#### 10. Matrix Transposition: Given a 2D matrix represented as a list of lists, transpose the matrix using a list comprehension"
   ]
  },
  {
   "cell_type": "code",
   "execution_count": 10,
   "id": "bbff0f83-eed9-4d79-b1c0-74ea84821201",
   "metadata": {},
   "outputs": [
    {
     "name": "stdout",
     "output_type": "stream",
     "text": [
      "[[1, 4, 7], [2, 5, 8], [3, 6, 9]]\n"
     ]
    }
   ],
   "source": [
    "matrix = [\n",
    "    [1, 2, 3],\n",
    "    [4, 5, 6],\n",
    "    [7, 8, 9]\n",
    "]\n",
    "\n",
    "transposed_matrix = [[row[i] for row in matrix] for i in range(len(matrix[0]))]\n",
    "print(transposed_matrix)"
   ]
  }
 ],
 "metadata": {
  "kernelspec": {
   "display_name": "Python 3 (ipykernel)",
   "language": "python",
   "name": "python3"
  },
  "language_info": {
   "codemirror_mode": {
    "name": "ipython",
    "version": 3
   },
   "file_extension": ".py",
   "mimetype": "text/x-python",
   "name": "python",
   "nbconvert_exporter": "python",
   "pygments_lexer": "ipython3",
   "version": "3.12.1"
  }
 },
 "nbformat": 4,
 "nbformat_minor": 5
}
