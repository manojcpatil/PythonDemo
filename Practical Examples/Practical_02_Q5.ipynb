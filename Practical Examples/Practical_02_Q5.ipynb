{
 "cells": [
  {
   "cell_type": "markdown",
   "id": "72f1193b",
   "metadata": {},
   "source": [
    "\n",
    "\n",
    "### 3. Dictionary Operations\n",
    "\n",
    "#### a. Merge Dictionaries with Age Combination\n"
   ]
  },
  {
   "cell_type": "code",
   "execution_count": null,
   "id": "7b11ecce",
   "metadata": {},
   "outputs": [],
   "source": [
    "\n",
    "def merge_dictionaries(dict1, dict2):\n",
    "    result_dict = dict1.copy()\n",
    "    \n",
    "    for key, value in dict2.items():\n",
    "        if key in result_dict:\n",
    "            result_dict[key] += value\n",
    "        else:\n",
    "            result_dict[key] = value\n",
    "            \n",
    "    return result_dict\n",
    "\n",
    "# Example usage:\n",
    "dict1 = {'Alice': 25, 'Bob': 30}\n",
    "dict2 = {'Bob': 35, 'Charlie': 40}\n",
    "merged_dict = merge_dictionaries(dict1, dict2)\n",
    "print(merged_dict)\n"
   ]
  }
 ],
 "metadata": {},
 "nbformat": 4,
 "nbformat_minor": 5
}
