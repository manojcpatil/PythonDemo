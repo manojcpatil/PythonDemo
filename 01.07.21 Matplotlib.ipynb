{
 "cells": [
  {
   "cell_type": "markdown",
   "id": "871b0520",
   "metadata": {},
   "source": [
    "# Simple Plot"
   ]
  },
  {
   "cell_type": "code",
   "execution_count": null,
   "id": "0bde0cca",
   "metadata": {},
   "outputs": [],
   "source": [
    "import matplotlib.pyplot as plt # pyplot Module from MATPLOTLIB package\n",
    "import numpy as np\n",
    "%matplotlib inline"
   ]
  },
  {
   "cell_type": "code",
   "execution_count": null,
   "id": "14b0e07d",
   "metadata": {},
   "outputs": [],
   "source": [
    "x = np.arange(0, np.pi*2, 0.05)\n",
    "y = np.sin(x)"
   ]
  },
  {
   "cell_type": "code",
   "execution_count": null,
   "id": "4034f72b",
   "metadata": {},
   "outputs": [],
   "source": [
    "plt.plot(x,y)"
   ]
  },
  {
   "cell_type": "code",
   "execution_count": null,
   "id": "f3e3c2ac",
   "metadata": {},
   "outputs": [],
   "source": [
    "# You can set the plot title, and labels for x and y axes.\n",
    "plt.xlabel(\"angle\")\n",
    "plt.ylabel(\"sine\")\n",
    "plt.title('sine wave')\n",
    "plt.plot(x,y)"
   ]
  },
  {
   "cell_type": "code",
   "execution_count": null,
   "id": "09859f89",
   "metadata": {},
   "outputs": [],
   "source": [
    "# To begin with, we create a figure instance which provides an empty canvas.\n",
    "fig = plt.figure()\n"
   ]
  },
  {
   "cell_type": "code",
   "execution_count": null,
   "id": "75e4a2c1",
   "metadata": {},
   "outputs": [],
   "source": [
    "#Now add axes to figure. The add_axes() method requires a list object of 4 elements corresponding to left, bottom, width and height of the figure. Each number must be between 0 and 1 −\n",
    "ax=fig.add_axes([0,0,1,1])"
   ]
  },
  {
   "cell_type": "code",
   "execution_count": null,
   "id": "cd3a5234",
   "metadata": {},
   "outputs": [],
   "source": [
    "# Set labels for x and y axis as well as title −\n",
    "ax.set_title(\"sine wave\")\n",
    "ax.set_xlabel('angle')\n",
    "ax.set_ylabel('sine')"
   ]
  },
  {
   "cell_type": "code",
   "execution_count": null,
   "id": "0701cde9",
   "metadata": {},
   "outputs": [],
   "source": [
    "from matplotlib import pyplot as plt\n",
    "import numpy as np\n",
    "import math\n",
    "x = np.arange(0, math.pi*2, 0.05)\n",
    "y = np.sin(x)\n",
    "fig = plt.figure()\n",
    "ax = fig.add_axes([0,0,1,1])\n",
    "ax.plot(x,y)\n",
    "ax.set_title(\"sine wave\")\n",
    "ax.set_xlabel('angle')\n",
    "ax.set_ylabel('sine')\n",
    "plt.show()"
   ]
  },
  {
   "cell_type": "markdown",
   "id": "fa98cf0e",
   "metadata": {},
   "source": [
    "## Color codes\n",
    "\n",
    "‘b’\tBlue <br>\n",
    "‘g’\tGreen  <br>\n",
    "‘r’\tRed <br>\n",
    "‘b’\tBlue <br>\n",
    "‘c’\tCyan <br>\n",
    "‘m’\tMagenta <br>\n",
    "‘y’\tYellow <br>\n",
    "‘k’\tBlack <br>\n",
    "‘b’\tBlue <br>\n",
    "‘w’\tWhite <br>\n"
   ]
  },
  {
   "cell_type": "markdown",
   "id": "b2529c79",
   "metadata": {},
   "source": [
    "## Marker codes\n",
    "\n",
    "‘.’\tPoint marker <br>\n",
    "‘o’\tCircle marker <br>\n",
    "‘x’\tX marker <br>\n",
    "‘D’\tDiamond marker <br>\n",
    "‘H’\tHexagon marker <br>\n",
    "‘s’\tSquare marker <br>\n",
    "‘+’\tPlus marker <br>"
   ]
  },
  {
   "cell_type": "markdown",
   "id": "c73fc4c1",
   "metadata": {},
   "source": [
    "## Line styles\n",
    "\n",
    "‘-‘\tSolid line <br>\n",
    "‘—‘\tDashed line <br>\n",
    "‘-.’Dash-dot line <br>\n",
    "‘:’\tDotted line <br>\n",
    "‘H’\tHexagon marker <br>"
   ]
  },
  {
   "cell_type": "code",
   "execution_count": null,
   "id": "d2995fa0",
   "metadata": {},
   "outputs": [],
   "source": [
    "import matplotlib.pyplot as plt\n",
    "y = [1, 4, 9, 16, 25,36,49, 64]\n",
    "x1 = [1, 16, 30, 42,55, 68, 77,88]\n",
    "x2 = [1,6,12,18,28, 40, 52, 65]\n",
    "fig = plt.figure()\n",
    "ax = fig.add_axes([0,0,1,1])\n",
    "l1 = ax.plot(x1,y,'ys-') # solid line with yellow colour and square marker\n",
    "l2 = ax.plot(x2,y,'go--') # dash line with green colour and circle marker\n",
    "ax.legend(labels = ('tv', 'Smartphone'), loc = 'lower right') # legend placed at lower right\n",
    "ax.set_title(\"Advertisement effect on sales\")\n",
    "ax.set_xlabel('medium')\n",
    "ax.set_ylabel('sales')\n",
    "plt.show()"
   ]
  },
  {
   "cell_type": "code",
   "execution_count": null,
   "id": "d2078a52",
   "metadata": {},
   "outputs": [],
   "source": [
    "import matplotlib.pyplot as plt\n",
    "import numpy as np\n",
    "import math\n",
    "x = np.arange(0, math.pi*2, 0.05)\n",
    "fig=plt.figure()\n",
    "axes1 = fig.add_axes([0.1, 0.1, 0.8, 0.8]) # main axes\n",
    "axes2 = fig.add_axes([0.55, 0.55, 0.3, 0.3]) # inset axes\n",
    "y = np.sin(x)\n",
    "axes1.plot(x, y, 'b')\n",
    "axes2.plot(x,np.cos(x),'r')\n",
    "axes1.set_title('sine')\n",
    "axes2.set_title(\"cosine\")\n",
    "plt.show()"
   ]
  },
  {
   "cell_type": "markdown",
   "id": "af868c50",
   "metadata": {},
   "source": [
    "## Subplots"
   ]
  },
  {
   "cell_type": "code",
   "execution_count": null,
   "id": "cdfb36e3",
   "metadata": {},
   "outputs": [],
   "source": [
    "import matplotlib.pyplot as plt\n",
    "fig,a =  plt.subplots(2,2)\n",
    "import numpy as np\n",
    "x = np.arange(1,5)\n",
    "a[0][0].plot(x,x*x)\n",
    "a[0][0].set_title('square')\n",
    "a[0][1].plot(x,np.sqrt(x))\n",
    "a[0][1].set_title('square root')\n",
    "a[1][0].plot(x,np.exp(x))\n",
    "a[1][0].set_title('exp')\n",
    "a[1][1].plot(x,np.log10(x))\n",
    "a[1][1].set_title('log')\n",
    "plt.show()"
   ]
  },
  {
   "cell_type": "code",
   "execution_count": null,
   "id": "054f3a07",
   "metadata": {},
   "outputs": [],
   "source": []
  },
  {
   "cell_type": "code",
   "execution_count": null,
   "id": "963679c5",
   "metadata": {},
   "outputs": [],
   "source": [
    "a1 = plt.subplot2grid((3,3),(0,0),colspan = 2)\n",
    "a2 = plt.subplot2grid((3,3),(0,2), rowspan = 3)\n",
    "a3 = plt.subplot2grid((3,3),(1,0),rowspan = 2, colspan = 2)\n",
    "import numpy as np\n",
    "x = np.arange(1,10)\n",
    "a2.plot(x, x*x)\n",
    "a2.set_title('square')\n",
    "a1.plot(x, np.exp(x))\n",
    "a1.set_title('exp')\n",
    "a3.plot(x, np.log(x))\n",
    "a3.set_title('log')\n",
    "plt.tight_layout()\n",
    "plt.show()"
   ]
  },
  {
   "cell_type": "markdown",
   "id": "2b8f03dd",
   "metadata": {},
   "source": [
    "## Bar Plot"
   ]
  },
  {
   "cell_type": "code",
   "execution_count": null,
   "id": "dd51bd4f",
   "metadata": {},
   "outputs": [],
   "source": [
    "fig = plt.figure()\n",
    "ax = fig.add_axes([0,0,1,1])\n",
    "langs = ['C', 'C++', 'Java', 'Python', 'PHP']\n",
    "students = [23,17,35,29,12]\n",
    "ax.bar(langs,students)\n",
    "plt.show()"
   ]
  },
  {
   "cell_type": "code",
   "execution_count": null,
   "id": "5e51a24f",
   "metadata": {},
   "outputs": [],
   "source": [
    "data = [[30, 25, 50, 20],\n",
    "[40, 23, 51, 17],\n",
    "[35, 22, 45, 19]]\n",
    "X = np.arange(4)\n",
    "fig = plt.figure()\n",
    "ax = fig.add_axes([0,0,1,1])\n",
    "ax.bar(X + 0.00, data[0], color = 'b', width = 0.25)\n",
    "ax.bar(X + 0.25, data[1], color = 'g', width = 0.25)\n",
    "ax.bar(X + 0.50, data[2], color = 'r', width = 0.25)"
   ]
  },
  {
   "cell_type": "code",
   "execution_count": null,
   "id": "edb7288b",
   "metadata": {},
   "outputs": [],
   "source": [
    "N = 5\n",
    "menMeans = (20, 35, 30, 35, 27)\n",
    "womenMeans = (25, 32, 34, 20, 25)\n",
    "ind = np.arange(N) # the x locations for the groups\n",
    "width = 0.35\n",
    "fig = plt.figure()\n",
    "ax = fig.add_axes([0,0,1,1])\n",
    "ax.bar(ind, menMeans, width, color='r')\n",
    "ax.bar(ind, womenMeans, width,bottom=menMeans, color='b')\n",
    "ax.set_ylabel('Scores')\n",
    "ax.set_title('Scores by group and gender')\n",
    "ax.legend(labels=['Men', 'Women'])\n",
    "plt.show()"
   ]
  },
  {
   "cell_type": "code",
   "execution_count": null,
   "id": "4079576d",
   "metadata": {},
   "outputs": [],
   "source": [
    "## Histogram"
   ]
  },
  {
   "cell_type": "code",
   "execution_count": null,
   "id": "a625bfd4",
   "metadata": {},
   "outputs": [],
   "source": [
    "fig,ax = plt.subplots(1,1)\n",
    "a = np.array([22,87,5,43,56,73,55,54,11,20,51,5,79,31,27])\n",
    "ax.hist(a, bins = [0,25,50,75,100])\n",
    "ax.set_title(\"histogram of result\")\n",
    "ax.set_xticks([0,25,50,75,100])\n",
    "ax.set_xlabel('marks')\n",
    "ax.set_ylabel('no. of students')\n",
    "plt.show()"
   ]
  },
  {
   "cell_type": "markdown",
   "id": "9bdd1d6b",
   "metadata": {},
   "source": [
    "## Pie Chart"
   ]
  },
  {
   "cell_type": "code",
   "execution_count": null,
   "id": "a5374d29",
   "metadata": {},
   "outputs": [],
   "source": [
    "fig = plt.figure()\n",
    "ax = fig.add_axes([0,0,1,1])\n",
    "ax.axis('equal')\n",
    "langs = ['C', 'C++', 'Java', 'Python', 'PHP']\n",
    "students = [23,17,35,29,12]\n",
    "ax.pie(students, labels = langs,autopct='%1.2f%%')\n",
    "plt.show()"
   ]
  },
  {
   "cell_type": "markdown",
   "id": "8de74e6b",
   "metadata": {},
   "source": [
    "## Scatter Plot"
   ]
  },
  {
   "cell_type": "code",
   "execution_count": null,
   "id": "e52269d4",
   "metadata": {},
   "outputs": [],
   "source": [
    "girls_grades = [89, 90, 70, 89, 100, 80, 90, 100, 80, 34]\n",
    "boys_grades = [30, 29, 49, 48, 100, 48, 38, 45, 20, 30]\n",
    "grades_range = [10, 20, 30, 40, 50, 60, 70, 80, 90, 100]\n",
    "fig=plt.figure()\n",
    "ax=fig.add_axes([0,0,1,1])\n",
    "ax.scatter(grades_range, girls_grades, color='r')\n",
    "ax.scatter(grades_range, boys_grades, color='b')\n",
    "ax.set_xlabel('Grades Range')\n",
    "ax.set_ylabel('Grades Scored')\n",
    "ax.set_title('scatter plot')\n",
    "plt.show()"
   ]
  },
  {
   "cell_type": "markdown",
   "id": "b37996c2",
   "metadata": {},
   "source": [
    "## Box Plot"
   ]
  },
  {
   "cell_type": "code",
   "execution_count": null,
   "id": "e32de7a6",
   "metadata": {},
   "outputs": [],
   "source": [
    "np.random.seed(10)\n",
    "a1 = np.random.normal(100, 10, 200)\n",
    "a2 = np.random.normal(80, 30, 200)\n",
    "a3 = np.random.normal(90, 20, 200)\n",
    "a4 = np.random.normal(70, 25, 200)\n",
    "\n",
    "fig = plt.figure()\n",
    "# Create an axes instance\n",
    "ax = fig.add_axes([0,0,1,1])\n",
    "# Create the boxplot\n",
    "bp = ax.boxplot([a1,a2,a3,a4])\n",
    "plt.show()"
   ]
  }
 ],
 "metadata": {
  "kernelspec": {
   "display_name": "Python 3",
   "language": "python",
   "name": "python3"
  },
  "language_info": {
   "codemirror_mode": {
    "name": "ipython",
    "version": 3
   },
   "file_extension": ".py",
   "mimetype": "text/x-python",
   "name": "python",
   "nbconvert_exporter": "python",
   "pygments_lexer": "ipython3",
   "version": "3.9.5"
  }
 },
 "nbformat": 4,
 "nbformat_minor": 5
}
