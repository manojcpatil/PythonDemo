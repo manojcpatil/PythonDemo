{
 "cells": [
  {
   "cell_type": "markdown",
   "id": "67b8262c",
   "metadata": {},
   "source": [
    "# Python as Calculator"
   ]
  },
  {
   "cell_type": "markdown",
   "id": "5f2071aa",
   "metadata": {},
   "source": [
    "Some Python code that demonstrates how Python can be used as a calculator:"
   ]
  },
  {
   "cell_type": "code",
   "execution_count": null,
   "id": "410b6baf",
   "metadata": {},
   "outputs": [],
   "source": [
    "# Basic arithmetic operations\n",
    "print(2 + 3)  # addition\n",
    "print(2 - 3)  # subtraction\n",
    "print(2 * 3)  # multiplication\n",
    "print(2 / 3)  # division\n",
    "print(2 ** 3) # exponentiation\n",
    "print(2 % 3)  # modulus (remainder)"
   ]
  },
  {
   "cell_type": "code",
   "execution_count": null,
   "id": "d33f438c",
   "metadata": {},
   "outputs": [],
   "source": [
    "# Using parentheses for order of operations\n",
    "print((2 + 3) * 4)  # should output 20"
   ]
  },
  {
   "cell_type": "code",
   "execution_count": null,
   "id": "71286d6c",
   "metadata": {},
   "outputs": [],
   "source": [
    "# Assigning values to variables and using them in calculations\n",
    "x = 5\n",
    "y = 3\n",
    "print(x + y)  # should output 8\n",
    "print(x - y)  # should output 2\n",
    "print(x * y)  # should output 15\n",
    "print(x / y)  # should output 1.6666666666666667"
   ]
  },
  {
   "cell_type": "markdown",
   "id": "1f3a05ac",
   "metadata": {},
   "source": [
    "# Literals"
   ]
  },
  {
   "cell_type": "markdown",
   "id": "bb9b1e75",
   "metadata": {},
   "source": [
    "In Python, a literal is a notation that represents a fixed value in your code. Literals can be of several types, including:\n",
    "\n",
    "- Numeric literals: These include integers, floating-point numbers, and complex numbers. Numeric literals can be written in several formats, such as decimal, hexadecimal, or scientific notation.\n",
    "\n",
    "- String literals: These represent sequences of characters enclosed in quotes, either single quotes ('...') or double quotes (\"...\"). Triple quotes (\"\"\"...\"\"\") can be used for multi-line strings.\n",
    "\n",
    "- Boolean literals: These are the two constant values True and False, which represent logical true and false values, respectively.\n",
    "\n",
    "- None literal: This is a special value that represents the absence of a value. It is represented by the keyword None.\n",
    "\n",
    "Here are some examples of literals in Python:"
   ]
  },
  {
   "cell_type": "code",
   "execution_count": 1,
   "id": "4ec96d06",
   "metadata": {},
   "outputs": [],
   "source": [
    "# Numeric literals\n",
    "x = 42\n",
    "y = 3.14159\n",
    "z = 1 + 2j\n",
    "\n",
    "# String literals\n",
    "s1 = 'hello'\n",
    "s2 = \"world\"\n",
    "s3 = \"\"\"This is a multi-line\n",
    "string\"\"\"\n",
    "\n",
    "# Boolean literals\n",
    "b1 = True\n",
    "b2 = False\n",
    "\n",
    "# None literal\n",
    "n = None"
   ]
  },
  {
   "cell_type": "markdown",
   "id": "30561366",
   "metadata": {},
   "source": [
    "Literals are used throughout Python code to represent fixed values that are used in computations, comparisons, and other operations. It's important to use the correct type of literal for the task at hand, and to be aware of any implicit conversions that may occur when working with different types of literals together."
   ]
  },
  {
   "cell_type": "code",
   "execution_count": null,
   "id": "e5e34cca",
   "metadata": {},
   "outputs": [],
   "source": [
    "# Identifiers"
   ]
  },
  {
   "cell_type": "markdown",
   "id": "563715d9",
   "metadata": {},
   "source": [
    "In Python, an identifier is a name used to identify a variable, function, class, module, or other object in your code. Identifiers must follow certain rules and conventions to be valid.\n",
    "\n",
    "Here are the rules for valid Python identifiers:\n",
    "\n",
    "The first character must be a letter or underscore (_).\n",
    "\n",
    "The remaining characters can be letters, digits, or underscores.\n",
    "\n",
    "Identifiers are case-sensitive, meaning that \"spam\" and \"Spam\" are considered different identifiers.\n",
    "\n",
    "Reserved words (keywords) cannot be used as identifiers.\n",
    "\n",
    "Here are some examples of valid and invalid identifiers:"
   ]
  },
  {
   "cell_type": "code",
   "execution_count": 3,
   "id": "f7d7e0e5",
   "metadata": {},
   "outputs": [],
   "source": [
    "# Valid identifiers\n",
    "spam = 42\n",
    "_eggs = \"ham\"\n",
    "__foo__ = 3.14\n",
    "\n",
    "# Invalid identifiers\n",
    "#4spam = \"oops\"\n",
    "#eggs$ = \"oops again\"\n",
    "#class = \"nope\"\n"
   ]
  },
  {
   "cell_type": "markdown",
   "id": "234b1255",
   "metadata": {},
   "source": [
    "Note that reserved words like \"class\" and \"if\" cannot be used as identifiers.\n",
    "\n",
    "Here's an example of how identifiers are used in Python code:"
   ]
  },
  {
   "cell_type": "code",
   "execution_count": 4,
   "id": "ad48eb4c",
   "metadata": {},
   "outputs": [
    {
     "name": "stdout",
     "output_type": "stream",
     "text": [
      "12\n"
     ]
    }
   ],
   "source": [
    "# Define a function that takes two arguments and returns their sum\n",
    "def add_numbers(a, b):\n",
    "    result = a + b\n",
    "    return result\n",
    "\n",
    "# Call the function with some arguments\n",
    "x = 5\n",
    "y = 7\n",
    "z = add_numbers(x, y)\n",
    "print(z)  # Output: 12\n"
   ]
  },
  {
   "cell_type": "markdown",
   "id": "50a4b0f7",
   "metadata": {},
   "source": [
    "In this example, \"add_numbers\" is an identifier for the function, \"a\" and \"b\" are identifiers for the function's arguments, and \"result\" is an identifier for a local variable within the function. The variables \"x\", \"y\", and \"z\" are also identifiers used in the main program outside of the function."
   ]
  },
  {
   "cell_type": "markdown",
   "id": "d685f830",
   "metadata": {},
   "source": [
    "# Keywords"
   ]
  },
  {
   "cell_type": "markdown",
   "id": "53b8f635",
   "metadata": {},
   "source": [
    "In Python, keywords are reserved words that have a special meaning and cannot be used as identifiers (variable names, function names, etc.) in your code. Here is a list of Python keywords:"
   ]
  },
  {
   "cell_type": "markdown",
   "id": "2a8c328d",
   "metadata": {},
   "source": [
    "and\n",
    "as\n",
    "assert\n",
    "break\n",
    "class\n",
    "continue\n",
    "def\n",
    "del\n",
    "elif\n",
    "else\n",
    "except\n",
    "False\n",
    "finally\n",
    "for\n",
    "from\n",
    "global\n",
    "if\n",
    "import\n",
    "in\n",
    "is\n",
    "lambda\n",
    "None\n",
    "nonlocal\n",
    "not\n",
    "or\n",
    "pass\n",
    "raise\n",
    "return\n",
    "True\n",
    "try\n",
    "while\n",
    "with\n",
    "yield\n"
   ]
  },
  {
   "cell_type": "markdown",
   "id": "1a43e318",
   "metadata": {},
   "source": [
    "Here are some examples of how keywords are used in Python code:"
   ]
  },
  {
   "cell_type": "code",
   "execution_count": null,
   "id": "7e35fe28",
   "metadata": {},
   "outputs": [],
   "source": [
    "# Defining a function\n",
    "def my_function(a, b):\n",
    "    return a + b\n",
    "\n",
    "# Using a conditional statement\n",
    "if x > 0 and y < 0:\n",
    "    print(\"x is positive and y is negative\")\n",
    "\n",
    "# Using a loop\n",
    "for i in range(10):\n",
    "    print(i)\n",
    "\n",
    "# Using the \"in\" keyword to check if an element is in a list\n",
    "my_list = [1, 2, 3, 4, 5]\n",
    "if 3 in my_list:\n",
    "    print(\"3 is in the list\")\n",
    "\n",
    "# Using the \"try\" and \"except\" keywords to handle exceptions\n",
    "try:\n",
    "    result = 1 / 0\n",
    "except ZeroDivisionError:\n",
    "    print(\"Cannot divide by zero\")\n"
   ]
  },
  {
   "cell_type": "markdown",
   "id": "6601be9e",
   "metadata": {},
   "source": [
    "In these examples, keywords such as \"def\", \"if\", \"for\", \"in\", and \"try\" are used to define functions, perform conditional statements, iterate over data structures, check for membership in a list, and handle exceptions. It's important to avoid using keywords as identifiers in your code to avoid syntax errors."
   ]
  },
  {
   "cell_type": "markdown",
   "id": "e6065ff4",
   "metadata": {},
   "source": [
    "### Difference between keywords and identifiers"
   ]
  },
  {
   "cell_type": "markdown",
   "id": "f24b30e3",
   "metadata": {},
   "source": [
    "In Python, keywords and identifiers are two distinct concepts. Here's a brief overview of the differences between them:\n",
    "\n",
    "1. Keywords:\n",
    "- Keywords are reserved words in Python that have a predefined meaning and cannot be used as identifiers (variable names, function names, etc.).\n",
    "- Examples of keywords in Python include if, else, while, for, def, class, import, try, except, finally, and, or, not, True, False, None, etc.\n",
    "- Keywords are used to define the syntax and structure of Python programs and cannot be redefined or modified.\n",
    "\n",
    "2. Identifiers:\n",
    "- Identifiers are user-defined names given to variables, functions, classes, modules, etc. in Python.\n",
    "- Identifiers can consist of a combination of letters (uppercase and lowercase), digits, and underscore (_) character, but cannot start with a digit.\n",
    "- Examples of valid identifiers in Python include my_variable, my_function, MyClass, my_module, etc.\n",
    "- Identifiers are used to refer to specific objects or entities within a Python program and can be redefined or modified.\n",
    "\n",
    "In summary, while both keywords and identifiers are used to define Python programs, keywords are reserved words that have a predefined meaning and cannot be used as identifiers, while identifiers are user-defined names given to variables, functions, classes, modules, etc. in Python."
   ]
  },
  {
   "cell_type": "markdown",
   "id": "3cd25de7",
   "metadata": {},
   "source": [
    "# Operators"
   ]
  },
  {
   "cell_type": "markdown",
   "id": "f6f8aad2",
   "metadata": {},
   "source": [
    "Here are some examples of how to use different types of operators in Python:\n",
    "\n",
    "Arithmetic operators:"
   ]
  },
  {
   "cell_type": "code",
   "execution_count": null,
   "id": "aec51a02",
   "metadata": {},
   "outputs": [],
   "source": [
    "a = 10\n",
    "b = 3\n",
    "\n",
    "# Addition operator\n",
    "c = a + b\n",
    "print(c)  # Output: 13\n",
    "\n",
    "# Subtraction operator\n",
    "c = a - b\n",
    "print(c)  # Output: 7\n",
    "\n",
    "# Multiplication operator\n",
    "c = a * b\n",
    "print(c)  # Output: 30\n",
    "\n",
    "# Division operator\n",
    "c = a / b\n",
    "print(c)  # Output: 3.3333333333333335\n",
    "\n",
    "# Modulus operator (returns the remainder of division)\n",
    "c = a % b\n",
    "print(c)  # Output: 1\n",
    "\n",
    "# Exponentiation operator\n",
    "c = a ** b\n",
    "print(c)  # Output: 1000\n"
   ]
  },
  {
   "cell_type": "markdown",
   "id": "ce7447f5",
   "metadata": {},
   "source": [
    "2. Relational operators:"
   ]
  },
  {
   "cell_type": "code",
   "execution_count": 6,
   "id": "1a0a60ee",
   "metadata": {},
   "outputs": [
    {
     "name": "stdout",
     "output_type": "stream",
     "text": [
      "False\n",
      "True\n",
      "False\n",
      "True\n",
      "False\n",
      "True\n"
     ]
    }
   ],
   "source": [
    "a = 10\n",
    "b = 3\n",
    "\n",
    "# Less than operator\n",
    "c = a < b\n",
    "print(c)  # Output: False\n",
    "\n",
    "# Greater than operator\n",
    "c = a > b\n",
    "print(c)  # Output: True\n",
    "\n",
    "# Less than or equal to operator\n",
    "c = a <= b\n",
    "print(c)  # Output: False\n",
    "\n",
    "# Greater than or equal to operator\n",
    "c = a >= b\n",
    "print(c)  # Output: True\n",
    "\n",
    "# Equality operator\n",
    "c = a == b\n",
    "print(c)  # Output: False\n",
    "\n",
    "# Inequality operator\n",
    "c = a != b\n",
    "print(c)  # Output: True"
   ]
  },
  {
   "cell_type": "markdown",
   "id": "ceffb1ac",
   "metadata": {},
   "source": [
    "3. Logical or Boolean operators:"
   ]
  },
  {
   "cell_type": "code",
   "execution_count": 7,
   "id": "c56946ad",
   "metadata": {},
   "outputs": [
    {
     "name": "stdout",
     "output_type": "stream",
     "text": [
      "False\n",
      "True\n",
      "False\n"
     ]
    }
   ],
   "source": [
    "a = True\n",
    "b = False\n",
    "\n",
    "# Logical AND operator\n",
    "c = a and b\n",
    "print(c)  # Output: False\n",
    "\n",
    "# Logical OR operator\n",
    "c = a or b\n",
    "print(c)  # Output: True\n",
    "\n",
    "# Logical NOT operator\n",
    "c = not a\n",
    "print(c)  # Output: False\n"
   ]
  },
  {
   "cell_type": "markdown",
   "id": "d5ce5b8d",
   "metadata": {},
   "source": [
    "4. Assignment operators:"
   ]
  },
  {
   "cell_type": "code",
   "execution_count": null,
   "id": "f25178c5",
   "metadata": {},
   "outputs": [],
   "source": [
    "a = 10\n",
    "\n",
    "# Simple assignment\n",
    "b = a\n",
    "print(b)  # Output: 10\n",
    "\n",
    "# Compound assignment (addition)\n",
    "a += 5\n",
    "print(a)  # Output: 15\n",
    "\n",
    "# Compound assignment (multiplication)\n",
    "a *= 2\n",
    "print(a)  # Output: 30\n"
   ]
  },
  {
   "cell_type": "markdown",
   "id": "46037216",
   "metadata": {},
   "source": [
    "5. Ternary operator"
   ]
  },
  {
   "cell_type": "code",
   "execution_count": null,
   "id": "5489b853",
   "metadata": {},
   "outputs": [],
   "source": [
    "a = 10\n",
    "b = 3\n",
    "\n",
    "# Ternary operator (if-else statement in one line)\n",
    "c = a if a > b else b\n",
    "print(c)  # Output: 10\n"
   ]
  },
  {
   "cell_type": "markdown",
   "id": "eaa18d82",
   "metadata": {},
   "source": [
    "6. Bitwise operators:"
   ]
  },
  {
   "cell_type": "code",
   "execution_count": 8,
   "id": "ee54774c",
   "metadata": {},
   "outputs": [
    {
     "name": "stdout",
     "output_type": "stream",
     "text": [
      "0\n",
      "15\n",
      "15\n",
      "-11\n",
      "20\n",
      "5\n"
     ]
    }
   ],
   "source": [
    "a = 0b1010\n",
    "b = 0b0101\n",
    "\n",
    "# Bitwise AND operator\n",
    "c = a & b\n",
    "print(c)  # Output: 0b0000 (0 in decimal)\n",
    "\n",
    "# Bitwise OR operator\n",
    "c = a | b\n",
    "print(c)  # Output: 0b1111 (15 in decimal)\n",
    "\n",
    "# Bitwise XOR operator\n",
    "c = a ^ b\n",
    "print(c)  # Output: 0b1111 (15 in decimal)\n",
    "\n",
    "# Bitwise NOT operator\n",
    "c = ~a\n",
    "print(c)  # Output: -11 (in two's complement)\n",
    "\n",
    "# Bitwise left shift operator\n",
    "c = a << 1\n",
    "print(c)  # Output: 0b10100 (20 in decimal)\n",
    "\n",
    "# Bitwise right shift operator\n",
    "c = a >> 1\n",
    "print(c)  # Output: 0b0101 (5 in decimal)"
   ]
  },
  {
   "cell_type": "markdown",
   "id": "dd004dcd",
   "metadata": {},
   "source": [
    "7. Increment or Decrement operators:"
   ]
  },
  {
   "cell_type": "code",
   "execution_count": 9,
   "id": "c4624c7c",
   "metadata": {},
   "outputs": [
    {
     "name": "stdout",
     "output_type": "stream",
     "text": [
      "11\n"
     ]
    }
   ],
   "source": [
    "a = 10\n",
    "\n",
    "# Increment operator (add 1)\n",
    "a += 1\n",
    "print(a) \n"
   ]
  },
  {
   "cell_type": "markdown",
   "id": "01cec018",
   "metadata": {},
   "source": [
    "### Assignments\n",
    "\n",
    "1. Arithmetic operators:\n",
    "- Write a Python program to calculate the area of a rectangle using the multiplication operator.\n",
    "- Write a Python program to convert temperature from Fahrenheit to Celsius using the subtraction and division operators.\n",
    "2. Relational operators:\n",
    "- Write a Python progr- am to check if a given number is even or odd using the modulus operator.\n",
    "- Write a Python program to check if a given year is a leap year using the equality and logical operators.\n",
    "3. Logical or Boolean - operators:\n",
    "- Write a Python progr- am to check if a given number is between 1 and 10 using the logical AND operator.\n",
    "- Write a Python program to check if a given character is a vowel or a consonant using the logical OR operator.\n",
    "4. Assignment operator- s:\n",
    "- Write a Python progr- am to calculate the factorial of a given number using the compound assignment operator.\n",
    "- Write a Python program to find the sum of first n natural numbers using the simple assignment operator.\n",
    "5. Ternary operato- r:\n",
    "- Write a Python p- rogram to find the maximum of two given numbers using the ternary operator.\n",
    "- Write a Python program to find the sign of a given number using the ternary operator.\n",
    "6. Bitwise operato- rs:\n",
    "- Write a Python p- rogram to check if a given number is a power of 2 using the bitwise AND operator.\n",
    "- Write a Python program to set the nth bit of a given number using the bitwise OR operator.\n",
    "7. Increment or Decrement operators:\n",
    "- Write a Python program to print the first 10 natural numbers using the increment operator.\n",
    "- Write a Python program to print the first 10 even numbers using the increment operator."
   ]
  }
 ],
 "metadata": {
  "kernelspec": {
   "display_name": "Python 3",
   "language": "python",
   "name": "python3"
  },
  "language_info": {
   "codemirror_mode": {
    "name": "ipython",
    "version": 3
   },
   "file_extension": ".py",
   "mimetype": "text/x-python",
   "name": "python",
   "nbconvert_exporter": "python",
   "pygments_lexer": "ipython3",
   "version": "3.9.5"
  },
  "latex_envs": {
   "LaTeX_envs_menu_present": true,
   "autoclose": false,
   "autocomplete": true,
   "bibliofile": "biblio.bib",
   "cite_by": "apalike",
   "current_citInitial": 1,
   "eqLabelWithNumbers": true,
   "eqNumInitial": 1,
   "hotkeys": {
    "equation": "Ctrl-E",
    "itemize": "Ctrl-I"
   },
   "labels_anchors": false,
   "latex_user_defs": false,
   "report_style_numbering": false,
   "user_envs_cfg": false
  }
 },
 "nbformat": 4,
 "nbformat_minor": 5
}
