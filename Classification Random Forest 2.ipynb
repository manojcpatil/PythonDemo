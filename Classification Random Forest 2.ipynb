{
 "cells": [
  {
   "cell_type": "code",
   "execution_count": 1,
   "metadata": {
    "_cell_guid": "79c7e3d0-c299-4dcb-8224-4455121ee9b0",
    "_uuid": "d629ff2d2480ee46fbb7e2d37f6b5fab8052498a",
    "execution": {
     "iopub.execute_input": "2020-08-30T22:11:49.836789Z",
     "iopub.status.busy": "2020-08-30T22:11:49.836055Z",
     "iopub.status.idle": "2020-08-30T22:11:49.839311Z",
     "shell.execute_reply": "2020-08-30T22:11:49.838663Z"
    },
    "papermill": {
     "duration": 0.018714,
     "end_time": "2020-08-30T22:11:49.839434",
     "exception": false,
     "start_time": "2020-08-30T22:11:49.820720",
     "status": "completed"
    },
    "tags": []
   },
   "outputs": [],
   "source": [
    "# Importing the libraries\n",
    "import numpy as np\n",
    "import matplotlib.pyplot as plt\n",
    "import pandas as pd\n",
    "#%matplotlib inline"
   ]
  },
  {
   "cell_type": "markdown",
   "metadata": {
    "papermill": {
     "duration": 0.005618,
     "end_time": "2020-08-30T22:11:49.851240",
     "exception": false,
     "start_time": "2020-08-30T22:11:49.845622",
     "status": "completed"
    },
    "tags": []
   },
   "source": [
    "# Importing the dataset"
   ]
  },
  {
   "cell_type": "code",
   "execution_count": 4,
   "metadata": {
    "execution": {
     "iopub.execute_input": "2020-08-30T22:11:49.884136Z",
     "iopub.status.busy": "2020-08-30T22:11:49.883388Z",
     "iopub.status.idle": "2020-08-30T22:11:49.901649Z",
     "shell.execute_reply": "2020-08-30T22:11:49.900988Z"
    },
    "papermill": {
     "duration": 0.044617,
     "end_time": "2020-08-30T22:11:49.901774",
     "exception": false,
     "start_time": "2020-08-30T22:11:49.857157",
     "status": "completed"
    },
    "tags": []
   },
   "outputs": [],
   "source": [
    "github_add='https://raw.githubusercontent.com/manojcpatil/PythonDemo/master/'\n",
    "dataset = pd.read_csv(github_add+'Data/Social_Network_Ads.csv')\n",
    "X = dataset.iloc[:, [2, 3]].values\n",
    "y = dataset.iloc[:, 4].values"
   ]
  },
  {
   "cell_type": "code",
   "execution_count": 5,
   "metadata": {},
   "outputs": [
    {
     "data": {
      "text/html": [
       "<div>\n",
       "<style scoped>\n",
       "    .dataframe tbody tr th:only-of-type {\n",
       "        vertical-align: middle;\n",
       "    }\n",
       "\n",
       "    .dataframe tbody tr th {\n",
       "        vertical-align: top;\n",
       "    }\n",
       "\n",
       "    .dataframe thead th {\n",
       "        text-align: right;\n",
       "    }\n",
       "</style>\n",
       "<table border=\"1\" class=\"dataframe\">\n",
       "  <thead>\n",
       "    <tr style=\"text-align: right;\">\n",
       "      <th></th>\n",
       "      <th>User ID</th>\n",
       "      <th>Gender</th>\n",
       "      <th>Age</th>\n",
       "      <th>EstimatedSalary</th>\n",
       "      <th>Purchased</th>\n",
       "    </tr>\n",
       "  </thead>\n",
       "  <tbody>\n",
       "    <tr>\n",
       "      <th>0</th>\n",
       "      <td>15624510</td>\n",
       "      <td>Male</td>\n",
       "      <td>19</td>\n",
       "      <td>19000</td>\n",
       "      <td>0</td>\n",
       "    </tr>\n",
       "    <tr>\n",
       "      <th>1</th>\n",
       "      <td>15810944</td>\n",
       "      <td>Male</td>\n",
       "      <td>35</td>\n",
       "      <td>20000</td>\n",
       "      <td>0</td>\n",
       "    </tr>\n",
       "    <tr>\n",
       "      <th>2</th>\n",
       "      <td>15668575</td>\n",
       "      <td>Female</td>\n",
       "      <td>26</td>\n",
       "      <td>43000</td>\n",
       "      <td>0</td>\n",
       "    </tr>\n",
       "    <tr>\n",
       "      <th>3</th>\n",
       "      <td>15603246</td>\n",
       "      <td>Female</td>\n",
       "      <td>27</td>\n",
       "      <td>57000</td>\n",
       "      <td>0</td>\n",
       "    </tr>\n",
       "    <tr>\n",
       "      <th>4</th>\n",
       "      <td>15804002</td>\n",
       "      <td>Male</td>\n",
       "      <td>19</td>\n",
       "      <td>76000</td>\n",
       "      <td>0</td>\n",
       "    </tr>\n",
       "    <tr>\n",
       "      <th>...</th>\n",
       "      <td>...</td>\n",
       "      <td>...</td>\n",
       "      <td>...</td>\n",
       "      <td>...</td>\n",
       "      <td>...</td>\n",
       "    </tr>\n",
       "    <tr>\n",
       "      <th>395</th>\n",
       "      <td>15691863</td>\n",
       "      <td>Female</td>\n",
       "      <td>46</td>\n",
       "      <td>41000</td>\n",
       "      <td>1</td>\n",
       "    </tr>\n",
       "    <tr>\n",
       "      <th>396</th>\n",
       "      <td>15706071</td>\n",
       "      <td>Male</td>\n",
       "      <td>51</td>\n",
       "      <td>23000</td>\n",
       "      <td>1</td>\n",
       "    </tr>\n",
       "    <tr>\n",
       "      <th>397</th>\n",
       "      <td>15654296</td>\n",
       "      <td>Female</td>\n",
       "      <td>50</td>\n",
       "      <td>20000</td>\n",
       "      <td>1</td>\n",
       "    </tr>\n",
       "    <tr>\n",
       "      <th>398</th>\n",
       "      <td>15755018</td>\n",
       "      <td>Male</td>\n",
       "      <td>36</td>\n",
       "      <td>33000</td>\n",
       "      <td>0</td>\n",
       "    </tr>\n",
       "    <tr>\n",
       "      <th>399</th>\n",
       "      <td>15594041</td>\n",
       "      <td>Female</td>\n",
       "      <td>49</td>\n",
       "      <td>36000</td>\n",
       "      <td>1</td>\n",
       "    </tr>\n",
       "  </tbody>\n",
       "</table>\n",
       "<p>400 rows × 5 columns</p>\n",
       "</div>"
      ],
      "text/plain": [
       "      User ID  Gender  Age  EstimatedSalary  Purchased\n",
       "0    15624510    Male   19            19000          0\n",
       "1    15810944    Male   35            20000          0\n",
       "2    15668575  Female   26            43000          0\n",
       "3    15603246  Female   27            57000          0\n",
       "4    15804002    Male   19            76000          0\n",
       "..        ...     ...  ...              ...        ...\n",
       "395  15691863  Female   46            41000          1\n",
       "396  15706071    Male   51            23000          1\n",
       "397  15654296  Female   50            20000          1\n",
       "398  15755018    Male   36            33000          0\n",
       "399  15594041  Female   49            36000          1\n",
       "\n",
       "[400 rows x 5 columns]"
      ]
     },
     "execution_count": 5,
     "metadata": {},
     "output_type": "execute_result"
    }
   ],
   "source": [
    "dataset"
   ]
  },
  {
   "cell_type": "markdown",
   "metadata": {
    "papermill": {
     "duration": 0.005483,
     "end_time": "2020-08-30T22:11:49.913234",
     "exception": false,
     "start_time": "2020-08-30T22:11:49.907751",
     "status": "completed"
    },
    "tags": []
   },
   "source": [
    "# Splitting the dataset into the Training set and Test set"
   ]
  },
  {
   "cell_type": "code",
   "execution_count": 6,
   "metadata": {
    "execution": {
     "iopub.execute_input": "2020-08-30T22:11:49.932059Z",
     "iopub.status.busy": "2020-08-30T22:11:49.931298Z",
     "iopub.status.idle": "2020-08-30T22:11:50.910920Z",
     "shell.execute_reply": "2020-08-30T22:11:50.910264Z"
    },
    "papermill": {
     "duration": 0.99058,
     "end_time": "2020-08-30T22:11:50.911066",
     "exception": false,
     "start_time": "2020-08-30T22:11:49.920486",
     "status": "completed"
    },
    "tags": []
   },
   "outputs": [],
   "source": [
    "from sklearn.model_selection import train_test_split\n",
    "X_train, X_test, y_train, y_test = train_test_split(X, y, test_size = 0.25, random_state = 0)"
   ]
  },
  {
   "cell_type": "markdown",
   "metadata": {
    "papermill": {
     "duration": 0.005704,
     "end_time": "2020-08-30T22:11:50.922873",
     "exception": false,
     "start_time": "2020-08-30T22:11:50.917169",
     "status": "completed"
    },
    "tags": []
   },
   "source": [
    "# Feature Scaling"
   ]
  },
  {
   "cell_type": "code",
   "execution_count": 7,
   "metadata": {
    "execution": {
     "iopub.execute_input": "2020-08-30T22:11:50.941362Z",
     "iopub.status.busy": "2020-08-30T22:11:50.940053Z",
     "iopub.status.idle": "2020-08-30T22:11:50.944411Z",
     "shell.execute_reply": "2020-08-30T22:11:50.943830Z"
    },
    "papermill": {
     "duration": 0.015846,
     "end_time": "2020-08-30T22:11:50.944566",
     "exception": false,
     "start_time": "2020-08-30T22:11:50.928720",
     "status": "completed"
    },
    "tags": []
   },
   "outputs": [],
   "source": [
    "from sklearn.preprocessing import StandardScaler\n",
    "sc = StandardScaler()\n",
    "X_train = sc.fit_transform(X_train)\n",
    "X_test = sc.transform(X_test)"
   ]
  },
  {
   "cell_type": "markdown",
   "metadata": {
    "papermill": {
     "duration": 0.005531,
     "end_time": "2020-08-30T22:11:50.955952",
     "exception": false,
     "start_time": "2020-08-30T22:11:50.950421",
     "status": "completed"
    },
    "tags": []
   },
   "source": [
    "# Fitting Random Forest Classification to the Training set"
   ]
  },
  {
   "cell_type": "code",
   "execution_count": 8,
   "metadata": {
    "execution": {
     "iopub.execute_input": "2020-08-30T22:11:50.973410Z",
     "iopub.status.busy": "2020-08-30T22:11:50.972649Z",
     "iopub.status.idle": "2020-08-30T22:11:51.199552Z",
     "shell.execute_reply": "2020-08-30T22:11:51.198826Z"
    },
    "papermill": {
     "duration": 0.237888,
     "end_time": "2020-08-30T22:11:51.199672",
     "exception": false,
     "start_time": "2020-08-30T22:11:50.961784",
     "status": "completed"
    },
    "tags": []
   },
   "outputs": [
    {
     "name": "stderr",
     "output_type": "stream",
     "text": [
      "d:\\python\\lib\\site-packages\\sklearn\\ensemble\\_forest.py:541: UserWarning: Some inputs do not have OOB scores. This probably means too few trees were used to compute any reliable oob estimates.\n",
      "  warn(\"Some inputs do not have OOB scores. \"\n",
      "d:\\python\\lib\\site-packages\\sklearn\\ensemble\\_forest.py:545: RuntimeWarning: invalid value encountered in true_divide\n",
      "  decision = (predictions[k] /\n"
     ]
    }
   ],
   "source": [
    "from sklearn.ensemble import RandomForestClassifier\n",
    "classifier = RandomForestClassifier(n_estimators = 10, criterion = 'entropy', \n",
    "                                    random_state = 0,oob_score=True)\n",
    "classifier.fit(X_train, y_train)\n",
    "# Predicting the Test set results\n",
    "y_pred = classifier.predict(X_test)"
   ]
  },
  {
   "cell_type": "markdown",
   "metadata": {
    "papermill": {
     "duration": 0.005738,
     "end_time": "2020-08-30T22:11:51.211594",
     "exception": false,
     "start_time": "2020-08-30T22:11:51.205856",
     "status": "completed"
    },
    "tags": []
   },
   "source": [
    "# Making the Confusion Matrix"
   ]
  },
  {
   "cell_type": "code",
   "execution_count": 9,
   "metadata": {
    "execution": {
     "iopub.execute_input": "2020-08-30T22:11:51.242101Z",
     "iopub.status.busy": "2020-08-30T22:11:51.241341Z",
     "iopub.status.idle": "2020-08-30T22:11:51.760335Z",
     "shell.execute_reply": "2020-08-30T22:11:51.759596Z"
    },
    "papermill": {
     "duration": 0.54279,
     "end_time": "2020-08-30T22:11:51.760455",
     "exception": false,
     "start_time": "2020-08-30T22:11:51.217665",
     "status": "completed"
    },
    "tags": []
   },
   "outputs": [
    {
     "data": {
      "text/plain": [
       "array([[63,  5],\n",
       "       [ 4, 28]], dtype=int64)"
      ]
     },
     "metadata": {},
     "output_type": "display_data"
    },
    {
     "data": {
      "text/plain": [
       "0.91"
      ]
     },
     "execution_count": 9,
     "metadata": {},
     "output_type": "execute_result"
    }
   ],
   "source": [
    "from sklearn.metrics import confusion_matrix, accuracy_score\n",
    "cm = confusion_matrix(y_test, y_pred)\n",
    "display(cm)\n",
    "accuracy_score(y_test, y_pred)"
   ]
  },
  {
   "cell_type": "code",
   "execution_count": 10,
   "metadata": {},
   "outputs": [],
   "source": [
    "# Visualising the Training set results\n",
    "from matplotlib.colors import ListedColormap\n",
    "X_set, y_set = X_train, y_train"
   ]
  },
  {
   "cell_type": "code",
   "execution_count": 11,
   "metadata": {},
   "outputs": [],
   "source": [
    "X1, X2 = np.meshgrid(np.arange(start = X_set[:, 0].min() - 1, \n",
    "                               stop = X_set[:, 0].max() + 1, \n",
    "                               step =0.01), \n",
    "                     np.arange(start = X_set[:, 1].min() - 1, \n",
    "                               stop = X_set[:, 1].max() + 1, \n",
    "                               step = 0.01))"
   ]
  },
  {
   "cell_type": "code",
   "execution_count": 12,
   "metadata": {},
   "outputs": [
    {
     "name": "stderr",
     "output_type": "stream",
     "text": [
      "*c* argument looks like a single numeric RGB or RGBA sequence, which should be avoided as value-mapping will have precedence in case its length matches with *x* & *y*.  Please use the *color* keyword-argument or provide a 2D array with a single row if you intend to specify the same RGB or RGBA value for all points.\n",
      "*c* argument looks like a single numeric RGB or RGBA sequence, which should be avoided as value-mapping will have precedence in case its length matches with *x* & *y*.  Please use the *color* keyword-argument or provide a 2D array with a single row if you intend to specify the same RGB or RGBA value for all points.\n"
     ]
    },
    {
     "data": {
      "image/png": "[encoded data removed]",
      "text/plain": [
       "<Figure size 432x288 with 1 Axes>"
      ]
     },
     "metadata": {
      "needs_background": "light"
     },
     "output_type": "display_data"
    }
   ],
   "source": [
    "plt.contourf(X1, X2, classifier.predict(np.array([X1.ravel(), X2.ravel()]).T).reshape(X1.shape),alpha = 0.75, cmap = ListedColormap(('red', 'green')))\n",
    "plt.xlim(X1.min(), X1.max())\n",
    "plt.ylim(X2.min(), X2.max())\n",
    "for i, j in enumerate(np.unique(y_set)):\n",
    "    plt.scatter(X_set[y_set == j, 0], X_set[y_set == j, 1],\n",
    "    c = ListedColormap(('red', 'green'))(i), label = j)\n",
    "plt.title('Random Forest Classification (Training set)')\n",
    "plt.xlabel('Age')\n",
    "plt.ylabel('Estimated Salary')\n",
    "plt.legend()\n",
    "plt.show()"
   ]
  },
  {
   "cell_type": "markdown",
   "metadata": {
    "papermill": {
     "duration": 0.006243,
     "end_time": "2020-08-30T22:11:51.774360",
     "exception": false,
     "start_time": "2020-08-30T22:11:51.768117",
     "status": "completed"
    },
    "tags": []
   },
   "source": [
    "# Visualising the Test set results"
   ]
  },
  {
   "cell_type": "code",
   "execution_count": 13,
   "metadata": {
    "execution": {
     "iopub.execute_input": "2020-08-30T22:11:51.804315Z",
     "iopub.status.busy": "2020-08-30T22:11:51.802761Z",
     "iopub.status.idle": "2020-08-30T22:11:52.229258Z",
     "shell.execute_reply": "2020-08-30T22:11:52.228654Z"
    },
    "papermill": {
     "duration": 0.448257,
     "end_time": "2020-08-30T22:11:52.229383",
     "exception": false,
     "start_time": "2020-08-30T22:11:51.781126",
     "status": "completed"
    },
    "tags": []
   },
   "outputs": [
    {
     "name": "stderr",
     "output_type": "stream",
     "text": [
      "*c* argument looks like a single numeric RGB or RGBA sequence, which should be avoided as value-mapping will have precedence in case its length matches with *x* & *y*.  Please use the *color* keyword-argument or provide a 2D array with a single row if you intend to specify the same RGB or RGBA value for all points.\n",
      "*c* argument looks like a single numeric RGB or RGBA sequence, which should be avoided as value-mapping will have precedence in case its length matches with *x* & *y*.  Please use the *color* keyword-argument or provide a 2D array with a single row if you intend to specify the same RGB or RGBA value for all points.\n"
     ]
    },
    {
     "data": {
      "image/png": "[encoded data removed]",
      "text/plain": [
       "<Figure size 432x288 with 1 Axes>"
      ]
     },
     "metadata": {
      "needs_background": "light"
     },
     "output_type": "display_data"
    }
   ],
   "source": [
    "from matplotlib.colors import ListedColormap\n",
    "X_set, y_set = X_test, y_test\n",
    "X1, X2 = np.meshgrid(np.arange(start = X_set[:, 0].min() - 1, stop = X_set[:, 0].max() + 1, step =\n",
    "0.01),\n",
    "np.arange(start = X_set[:, 1].min() - 1, stop = X_set[:, 1].max() + 1, step = 0.01))\n",
    "plt.contourf(X1, X2, classifier.predict(np.array([X1.ravel(), X2.ravel()]).T).reshape(X1.shape),\n",
    "alpha = 0.75, cmap = ListedColormap(('red', 'green')))\n",
    "plt.xlim(X1.min(), X1.max())\n",
    "plt.ylim(X2.min(), X2.max())\n",
    "for i, j in enumerate(np.unique(y_set)):\n",
    "    plt.scatter(X_set[y_set == j, 0], X_set[y_set == j, 1],\n",
    "    c = ListedColormap(('red', 'green'))(i), label = j)\n",
    "plt.title('Random Forest Classification (Test set)')\n",
    "plt.xlabel('Age')\n",
    "plt.ylabel('Estimated Salary')\n",
    "plt.legend()\n",
    "plt.show()"
   ]
  },
  {
   "cell_type": "code",
   "execution_count": 14,
   "metadata": {
    "papermill": {
     "duration": 0.006502,
     "end_time": "2020-08-30T22:11:52.242653",
     "exception": false,
     "start_time": "2020-08-30T22:11:52.236151",
     "status": "completed"
    },
    "tags": []
   },
   "outputs": [],
   "source": [
    "from sklearn import tree"
   ]
  },
  {
   "cell_type": "code",
   "execution_count": 20,
   "metadata": {},
   "outputs": [
    {
     "data": {
      "text/plain": [
       "'digraph Tree {\\nnode [shape=box, style=\"filled\", color=\"black\"] ;\\n0 [label=\"Age <= 0.631\\\\nentropy = 0.965\\\\nsamples = 187\\\\nvalue = [183, 117]\", fillcolor=\"#f6d2b8\"] ;\\n1 [label=\"Estimated Salary <= 0.49\\\\nentropy = 0.678\\\\nsamples = 134\\\\nvalue = [174, 38]\", fillcolor=\"#eb9d64\"] ;\\n0 -> 1 [labeldistance=2.5, labelangle=45, headlabel=\"True\"] ;\\n2 [label=\"Age <= -0.161\\\\nentropy = 0.169\\\\nsamples = 104\\\\nvalue = [156, 4]\", fillcolor=\"#e6843e\"] ;\\n1 -> 2 ;\\n3 [label=\"entropy = 0.0\\\\nsamples = 71\\\\nvalue = [108, 0]\", fillcolor=\"#e58139\"] ;\\n2 -> 3 ;\\n4 [label=\"Estimated Salary <= -0.06\\\\nentropy = 0.391\\\\nsamples = 33\\\\nvalue = [48, 4]\", fillcolor=\"#e78c49\"] ;\\n2 -> 4 ;\\n5 [label=\"entropy = 0.0\\\\nsamples = 17\\\\nvalue = [28, 0]\", fillcolor=\"#e58139\"] ;\\n4 -> 5 ;\\n6 [label=\"Age <= 0.334\\\\nentropy = 0.65\\\\nsamples = 16\\\\nvalue = [20, 4]\", fillcolor=\"#ea9a61\"] ;\\n4 -> 6 ;\\n7 [label=\"Estimated Salary <= 0.027\\\\nentropy = 0.454\\\\nsamples = 14\\\\nvalue = [19, 2]\", fillcolor=\"#e88e4e\"] ;\\n6 -> 7 ;\\n8 [label=\"entropy = 0.0\\\\nsamples = 1\\\\nvalue = [0, 1]\", fillcolor=\"#399de5\"] ;\\n7 -> 8 ;\\n9 [label=\"Estimated Salary <= 0.143\\\\nentropy = 0.286\\\\nsamples = 13\\\\nvalue = [19, 1]\", fillcolor=\"#e68843\"] ;\\n7 -> 9 ;\\n10 [label=\"entropy = 0.0\\\\nsamples = 10\\\\nvalue = [16, 0]\", fillcolor=\"#e58139\"] ;\\n9 -> 10 ;\\n11 [label=\"Estimated Salary <= 0.23\\\\nentropy = 0.811\\\\nsamples = 3\\\\nvalue = [3, 1]\", fillcolor=\"#eeab7b\"] ;\\n9 -> 11 ;\\n12 [label=\"entropy = 0.0\\\\nsamples = 1\\\\nvalue = [0, 1]\", fillcolor=\"#399de5\"] ;\\n11 -> 12 ;\\n13 [label=\"entropy = 0.0\\\\nsamples = 2\\\\nvalue = [3, 0]\", fillcolor=\"#e58139\"] ;\\n11 -> 13 ;\\n14 [label=\"Estimated Salary <= 0.128\\\\nentropy = 0.918\\\\nsamples = 2\\\\nvalue = [1, 2]\", fillcolor=\"#9ccef2\"] ;\\n6 -> 14 ;\\n15 [label=\"entropy = 0.0\\\\nsamples = 1\\\\nvalue = [0, 2]\", fillcolor=\"#399de5\"] ;\\n14 -> 15 ;\\n16 [label=\"entropy = 0.0\\\\nsamples = 1\\\\nvalue = [1, 0]\", fillcolor=\"#e58139\"] ;\\n14 -> 16 ;\\n17 [label=\"Age <= 0.037\\\\nentropy = 0.931\\\\nsamples = 30\\\\nvalue = [18, 34]\", fillcolor=\"#a2d1f3\"] ;\\n1 -> 17 ;\\n18 [label=\"Age <= -0.706\\\\nentropy = 0.999\\\\nsamples = 21\\\\nvalue = [18, 17]\", fillcolor=\"#fef8f4\"] ;\\n17 -> 18 ;\\n19 [label=\"Estimated Salary <= 1.65\\\\nentropy = 0.503\\\\nsamples = 6\\\\nvalue = [8, 1]\", fillcolor=\"#e89152\"] ;\\n18 -> 19 ;\\n20 [label=\"entropy = 0.0\\\\nsamples = 5\\\\nvalue = [8, 0]\", fillcolor=\"#e58139\"] ;\\n19 -> 20 ;\\n21 [label=\"entropy = 0.0\\\\nsamples = 1\\\\nvalue = [0, 1]\", fillcolor=\"#399de5\"] ;\\n19 -> 21 ;\\n22 [label=\"Age <= -0.557\\\\nentropy = 0.961\\\\nsamples = 15\\\\nvalue = [10, 16]\", fillcolor=\"#b5daf5\"] ;\\n18 -> 22 ;\\n23 [label=\"entropy = 0.0\\\\nsamples = 4\\\\nvalue = [0, 7]\", fillcolor=\"#399de5\"] ;\\n22 -> 23 ;\\n24 [label=\"Estimated Salary <= 1.331\\\\nentropy = 0.998\\\\nsamples = 11\\\\nvalue = [10, 9]\", fillcolor=\"#fcf2eb\"] ;\\n22 -> 24 ;\\n25 [label=\"Age <= -0.458\\\\nentropy = 0.863\\\\nsamples = 7\\\\nvalue = [10, 4]\", fillcolor=\"#efb388\"] ;\\n24 -> 25 ;\\n26 [label=\"entropy = 0.0\\\\nsamples = 1\\\\nvalue = [2, 0]\", fillcolor=\"#e58139\"] ;\\n25 -> 26 ;\\n27 [label=\"Estimated Salary <= 0.954\\\\nentropy = 0.918\\\\nsamples = 6\\\\nvalue = [8, 4]\", fillcolor=\"#f2c09c\"] ;\\n25 -> 27 ;\\n28 [label=\"Estimated Salary <= 0.606\\\\nentropy = 0.971\\\\nsamples = 3\\\\nvalue = [2, 3]\", fillcolor=\"#bddef6\"] ;\\n27 -> 28 ;\\n29 [label=\"entropy = 0.0\\\\nsamples = 1\\\\nvalue = [2, 0]\", fillcolor=\"#e58139\"] ;\\n28 -> 29 ;\\n30 [label=\"entropy = 0.0\\\\nsamples = 2\\\\nvalue = [0, 3]\", fillcolor=\"#399de5\"] ;\\n28 -> 30 ;\\n31 [label=\"Estimated Salary <= 1.172\\\\nentropy = 0.592\\\\nsamples = 3\\\\nvalue = [6, 1]\", fillcolor=\"#e9965a\"] ;\\n27 -> 31 ;\\n32 [label=\"entropy = 0.0\\\\nsamples = 1\\\\nvalue = [4, 0]\", fillcolor=\"#e58139\"] ;\\n31 -> 32 ;\\n33 [label=\"Age <= -0.211\\\\nentropy = 0.918\\\\nsamples = 2\\\\nvalue = [2, 1]\", fillcolor=\"#f2c09c\"] ;\\n31 -> 33 ;\\n34 [label=\"entropy = 0.0\\\\nsamples = 1\\\\nvalue = [0, 1]\", fillcolor=\"#399de5\"] ;\\n33 -> 34 ;\\n35 [label=\"entropy = 0.0\\\\nsamples = 1\\\\nvalue = [2, 0]\", fillcolor=\"#e58139\"] ;\\n33 -> 35 ;\\n36 [label=\"entropy = 0.0\\\\nsamples = 4\\\\nvalue = [0, 5]\", fillcolor=\"#399de5\"] ;\\n24 -> 36 ;\\n37 [label=\"entropy = 0.0\\\\nsamples = 9\\\\nvalue = [0, 17]\", fillcolor=\"#399de5\"] ;\\n17 -> 37 ;\\n38 [label=\"Estimated Salary <= -0.814\\\\nentropy = 0.476\\\\nsamples = 53\\\\nvalue = [9, 79]\", fillcolor=\"#50a8e8\"] ;\\n0 -> 38 [labeldistance=2.5, labelangle=-45, headlabel=\"False\"] ;\\n39 [label=\"entropy = 0.0\\\\nsamples = 21\\\\nvalue = [0, 32]\", fillcolor=\"#399de5\"] ;\\n38 -> 39 ;\\n40 [label=\"Age <= 2.018\\\\nentropy = 0.636\\\\nsamples = 32\\\\nvalue = [9, 47]\", fillcolor=\"#5fb0ea\"] ;\\n38 -> 40 ;\\n41 [label=\"Age <= 1.423\\\\nentropy = 0.529\\\\nsamples = 29\\\\nvalue = [6, 44]\", fillcolor=\"#54aae9\"] ;\\n40 -> 41 ;\\n42 [label=\"Age <= 1.225\\\\nentropy = 0.764\\\\nsamples = 16\\\\nvalue = [6, 21]\", fillcolor=\"#72b9ec\"] ;\\n41 -> 42 ;\\n43 [label=\"Estimated Salary <= 0.403\\\\nentropy = 0.559\\\\nsamples = 13\\\\nvalue = [3, 20]\", fillcolor=\"#57ace9\"] ;\\n42 -> 43 ;\\n44 [label=\"Estimated Salary <= -0.234\\\\nentropy = 0.954\\\\nsamples = 5\\\\nvalue = [3, 5]\", fillcolor=\"#b0d8f5\"] ;\\n43 -> 44 ;\\n45 [label=\"entropy = 0.0\\\\nsamples = 2\\\\nvalue = [0, 4]\", fillcolor=\"#399de5\"] ;\\n44 -> 45 ;\\n46 [label=\"Age <= 0.879\\\\nentropy = 0.811\\\\nsamples = 3\\\\nvalue = [3, 1]\", fillcolor=\"#eeab7b\"] ;\\n44 -> 46 ;\\n47 [label=\"entropy = 0.0\\\\nsamples = 2\\\\nvalue = [3, 0]\", fillcolor=\"#e58139\"] ;\\n46 -> 47 ;\\n48 [label=\"entropy = 0.0\\\\nsamples = 1\\\\nvalue = [0, 1]\", fillcolor=\"#399de5\"] ;\\n46 -> 48 ;\\n49 [label=\"entropy = 0.0\\\\nsamples = 8\\\\nvalue = [0, 15]\", fillcolor=\"#399de5\"] ;\\n43 -> 49 ;\\n50 [label=\"Age <= 1.324\\\\nentropy = 0.811\\\\nsamples = 3\\\\nvalue = [3, 1]\", fillcolor=\"#eeab7b\"] ;\\n42 -> 50 ;\\n51 [label=\"entropy = 0.0\\\\nsamples = 1\\\\nvalue = [1, 0]\", fillcolor=\"#e58139\"] ;\\n50 -> 51 ;\\n52 [label=\"Estimated Salary <= 1.636\\\\nentropy = 0.918\\\\nsamples = 2\\\\nvalue = [2, 1]\", fillcolor=\"#f2c09c\"] ;\\n50 -> 52 ;\\n53 [label=\"entropy = 0.0\\\\nsamples = 1\\\\nvalue = [2, 0]\", fillcolor=\"#e58139\"] ;\\n52 -> 53 ;\\n54 [label=\"entropy = 0.0\\\\nsamples = 1\\\\nvalue = [0, 1]\", fillcolor=\"#399de5\"] ;\\n52 -> 54 ;\\n55 [label=\"entropy = 0.0\\\\nsamples = 13\\\\nvalue = [0, 23]\", fillcolor=\"#399de5\"] ;\\n41 -> 55 ;\\n56 [label=\"Age <= 2.117\\\\nentropy = 1.0\\\\nsamples = 3\\\\nvalue = [3, 3]\", fillcolor=\"#ffffff\"] ;\\n40 -> 56 ;\\n57 [label=\"Estimated Salary <= 0.664\\\\nentropy = 0.971\\\\nsamples = 2\\\\nvalue = [3, 2]\", fillcolor=\"#f6d5bd\"] ;\\n56 -> 57 ;\\n58 [label=\"entropy = 0.0\\\\nsamples = 1\\\\nvalue = [3, 0]\", fillcolor=\"#e58139\"] ;\\n57 -> 58 ;\\n59 [label=\"entropy = 0.0\\\\nsamples = 1\\\\nvalue = [0, 2]\", fillcolor=\"#399de5\"] ;\\n57 -> 59 ;\\n60 [label=\"entropy = 0.0\\\\nsamples = 1\\\\nvalue = [0, 1]\", fillcolor=\"#399de5\"] ;\\n56 -> 60 ;\\n}'"
      ]
     },
     "execution_count": 20,
     "metadata": {},
     "output_type": "execute_result"
    },
    {
     "data": {
      "text/plain": [
       "<Figure size 1800x1440 with 0 Axes>"
      ]
     },
     "metadata": {},
     "output_type": "display_data"
    }
   ],
   "source": [
    "fig=plt.figure(figsize=(25,20))\n",
    "tree.export_graphviz(classifier[0],feature_names=['Age','Estimated Salary'],filled=True)"
   ]
  },
  {
   "cell_type": "code",
   "execution_count": 17,
   "metadata": {},
   "outputs": [
    {
     "name": "stderr",
     "output_type": "stream",
     "text": [
      "<ipython-input-17-6ebedab27258>:1: UserWarning: Matplotlib is currently using module://ipykernel.pylab.backend_inline, which is a non-GUI backend, so cannot show the figure.\n",
      "  fig.show()\n"
     ]
    }
   ],
   "source": [
    "fig.show()"
   ]
  },
  {
   "cell_type": "code",
   "execution_count": 18,
   "metadata": {},
   "outputs": [
    {
     "name": "stdout",
     "output_type": "stream",
     "text": [
      "Collecting pyqt5\n"
     ]
    },
    {
     "name": "stderr",
     "output_type": "stream",
     "text": [
      "WARNING: Ignoring invalid distribution -ip (d:\\python\\lib\\site-packages)\n",
      "WARNING: Ignoring invalid distribution - (d:\\python\\lib\\site-packages)\n",
      "WARNING: Ignoring invalid distribution -ip (d:\\python\\lib\\site-packages)\n",
      "WARNING: Ignoring invalid distribution - (d:\\python\\lib\\site-packages)\n",
      "WARNING: Ignoring invalid distribution -ip (d:\\python\\lib\\site-packages)\n",
      "WARNING: Ignoring invalid distribution - (d:\\python\\lib\\site-packages)\n",
      "WARNING: Ignoring invalid distribution -ip (d:\\python\\lib\\site-packages)\n",
      "WARNING: Ignoring invalid distribution - (d:\\python\\lib\\site-packages)\n",
      "WARNING: Ignoring invalid distribution -ip (d:\\python\\lib\\site-packages)\n",
      "WARNING: Ignoring invalid distribution - (d:\\python\\lib\\site-packages)\n",
      "WARNING: Ignoring invalid distribution -ip (d:\\python\\lib\\site-packages)\n",
      "WARNING: Ignoring invalid distribution - (d:\\python\\lib\\site-packages)\n",
      "WARNING: Ignoring invalid distribution -ip (d:\\python\\lib\\site-packages)\n",
      "WARNING: Ignoring invalid distribution - (d:\\python\\lib\\site-packages)\n",
      "WARNING: Ignoring invalid distribution -ip (d:\\python\\lib\\site-packages)\n",
      "WARNING: Ignoring invalid distribution - (d:\\python\\lib\\site-packages)\n"
     ]
    },
    {
     "name": "stdout",
     "output_type": "stream",
     "text": [
      "  Downloading PyQt5-5.15.6-cp36-abi3-win_amd64.whl (6.7 MB)\n",
      "     ---------------------------------------- 6.7/6.7 MB 737.2 kB/s eta 0:00:00\n",
      "Collecting PyQt5-sip<13,>=12.8\n",
      "  Downloading PyQt5_sip-12.10.1-cp39-cp39-win_amd64.whl (77 kB)\n",
      "     -------------------------------------- 77.8/77.8 KB 619.4 kB/s eta 0:00:00\n",
      "Collecting PyQt5-Qt5>=5.15.2\n",
      "  Downloading PyQt5_Qt5-5.15.2-py3-none-win_amd64.whl (50.1 MB)\n",
      "     ---------------------------------------- 50.1/50.1 MB 1.4 MB/s eta 0:00:00\n",
      "Installing collected packages: PyQt5-Qt5, PyQt5-sip, pyqt5\n",
      "Successfully installed PyQt5-Qt5-5.15.2 PyQt5-sip-12.10.1 pyqt5-5.15.6\n"
     ]
    }
   ],
   "source": [
    "!pip install pyqt5"
   ]
  },
  {
   "cell_type": "code",
   "execution_count": null,
   "metadata": {},
   "outputs": [],
   "source": []
  }
 ],
 "metadata": {
  "kernelspec": {
   "display_name": "Python 3",
   "language": "python",
   "name": "python3"
  },
  "language_info": {
   "codemirror_mode": {
    "name": "ipython",
    "version": 3
   },
   "file_extension": ".py",
   "mimetype": "text/x-python",
   "name": "python",
   "nbconvert_exporter": "python",
   "pygments_lexer": "ipython3",
   "version": "3.9.5"
  },
  "latex_envs": {
   "LaTeX_envs_menu_present": true,
   "autoclose": false,
   "autocomplete": true,
   "bibliofile": "biblio.bib",
   "cite_by": "apalike",
   "current_citInitial": 1,
   "eqLabelWithNumbers": true,
   "eqNumInitial": 1,
   "hotkeys": {
    "equation": "Ctrl-E",
    "itemize": "Ctrl-I"
   },
   "labels_anchors": false,
   "latex_user_defs": false,
   "report_style_numbering": false,
   "user_envs_cfg": false
  },
  "papermill": {
   "duration": 7.047603,
   "end_time": "2020-08-30T22:11:52.357456",
   "environment_variables": {},
   "exception": null,
   "input_path": "__notebook__.ipynb",
   "output_path": "__notebook__.ipynb",
   "parameters": {},
   "start_time": "2020-08-30T22:11:45.309853",
   "version": "2.1.0"
  }
 },
 "nbformat": 4,
 "nbformat_minor": 4
}
